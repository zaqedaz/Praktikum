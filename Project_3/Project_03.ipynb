{
 "cells": [
  {
   "cell_type": "markdown",
   "metadata": {},
   "source": [
    "# Исследование объявлений о продаже квартир\n",
    "\n",
    "В вашем распоряжении данные сервиса Яндекс.Недвижимость — архив объявлений о продаже квартир в Санкт-Петербурге и соседних населённых пунктов за несколько лет. Нужно научиться определять рыночную стоимость объектов недвижимости. Ваша задача — установить параметры. Это позволит построить автоматизированную систему: она отследит аномалии и мошенническую деятельность. \n",
    "\n",
    "По каждой квартире на продажу доступны два вида данных. Первые вписаны пользователем, вторые — получены автоматически на основе картографических данных. Например, расстояние до центра, аэропорта, ближайшего парка и водоёма. "
   ]
  },
  {
   "cell_type": "markdown",
   "metadata": {},
   "source": [
    "### Откройте файл с данными и изучите общую информацию. "
   ]
  },
  {
   "cell_type": "code",
   "execution_count": 1,
   "metadata": {},
   "outputs": [
    {
     "name": "stdout",
     "output_type": "stream",
     "text": [
      "<class 'pandas.core.frame.DataFrame'>\n",
      "RangeIndex: 23699 entries, 0 to 23698\n",
      "Data columns (total 22 columns):\n",
      " #   Column                Non-Null Count  Dtype  \n",
      "---  ------                --------------  -----  \n",
      " 0   total_images          23699 non-null  int64  \n",
      " 1   last_price            23699 non-null  float64\n",
      " 2   total_area            23699 non-null  float64\n",
      " 3   first_day_exposition  23699 non-null  object \n",
      " 4   rooms                 23699 non-null  int64  \n",
      " 5   ceiling_height        14504 non-null  float64\n",
      " 6   floors_total          23613 non-null  float64\n",
      " 7   living_area           21796 non-null  float64\n",
      " 8   floor                 23699 non-null  int64  \n",
      " 9   is_apartment          2775 non-null   object \n",
      " 10  studio                23699 non-null  bool   \n",
      " 11  open_plan             23699 non-null  bool   \n",
      " 12  kitchen_area          21421 non-null  float64\n",
      " 13  balcony               12180 non-null  float64\n",
      " 14  locality_name         23650 non-null  object \n",
      " 15  airports_nearest      18157 non-null  float64\n",
      " 16  cityCenters_nearest   18180 non-null  float64\n",
      " 17  parks_around3000      18181 non-null  float64\n",
      " 18  parks_nearest         8079 non-null   float64\n",
      " 19  ponds_around3000      18181 non-null  float64\n",
      " 20  ponds_nearest         9110 non-null   float64\n",
      " 21  days_exposition       20518 non-null  float64\n",
      "dtypes: bool(2), float64(14), int64(3), object(3)\n",
      "memory usage: 3.7+ MB\n"
     ]
    },
    {
     "data": {
      "text/html": [
       "<div>\n",
       "<style scoped>\n",
       "    .dataframe tbody tr th:only-of-type {\n",
       "        vertical-align: middle;\n",
       "    }\n",
       "\n",
       "    .dataframe tbody tr th {\n",
       "        vertical-align: top;\n",
       "    }\n",
       "\n",
       "    .dataframe thead th {\n",
       "        text-align: right;\n",
       "    }\n",
       "</style>\n",
       "<table border=\"1\" class=\"dataframe\">\n",
       "  <thead>\n",
       "    <tr style=\"text-align: right;\">\n",
       "      <th></th>\n",
       "      <th>total_images</th>\n",
       "      <th>last_price</th>\n",
       "      <th>total_area</th>\n",
       "      <th>first_day_exposition</th>\n",
       "      <th>rooms</th>\n",
       "      <th>ceiling_height</th>\n",
       "      <th>floors_total</th>\n",
       "      <th>living_area</th>\n",
       "      <th>floor</th>\n",
       "      <th>is_apartment</th>\n",
       "      <th>...</th>\n",
       "      <th>kitchen_area</th>\n",
       "      <th>balcony</th>\n",
       "      <th>locality_name</th>\n",
       "      <th>airports_nearest</th>\n",
       "      <th>cityCenters_nearest</th>\n",
       "      <th>parks_around3000</th>\n",
       "      <th>parks_nearest</th>\n",
       "      <th>ponds_around3000</th>\n",
       "      <th>ponds_nearest</th>\n",
       "      <th>days_exposition</th>\n",
       "    </tr>\n",
       "  </thead>\n",
       "  <tbody>\n",
       "    <tr>\n",
       "      <th>0</th>\n",
       "      <td>20</td>\n",
       "      <td>13000000.0</td>\n",
       "      <td>108.0</td>\n",
       "      <td>2019-03-07T00:00:00</td>\n",
       "      <td>3</td>\n",
       "      <td>2.70</td>\n",
       "      <td>16.0</td>\n",
       "      <td>51.0</td>\n",
       "      <td>8</td>\n",
       "      <td>NaN</td>\n",
       "      <td>...</td>\n",
       "      <td>25.0</td>\n",
       "      <td>NaN</td>\n",
       "      <td>Санкт-Петербург</td>\n",
       "      <td>18863.0</td>\n",
       "      <td>16028.0</td>\n",
       "      <td>1.0</td>\n",
       "      <td>482.0</td>\n",
       "      <td>2.0</td>\n",
       "      <td>755.0</td>\n",
       "      <td>NaN</td>\n",
       "    </tr>\n",
       "    <tr>\n",
       "      <th>1</th>\n",
       "      <td>7</td>\n",
       "      <td>3350000.0</td>\n",
       "      <td>40.4</td>\n",
       "      <td>2018-12-04T00:00:00</td>\n",
       "      <td>1</td>\n",
       "      <td>NaN</td>\n",
       "      <td>11.0</td>\n",
       "      <td>18.6</td>\n",
       "      <td>1</td>\n",
       "      <td>NaN</td>\n",
       "      <td>...</td>\n",
       "      <td>11.0</td>\n",
       "      <td>2.0</td>\n",
       "      <td>посёлок Шушары</td>\n",
       "      <td>12817.0</td>\n",
       "      <td>18603.0</td>\n",
       "      <td>0.0</td>\n",
       "      <td>NaN</td>\n",
       "      <td>0.0</td>\n",
       "      <td>NaN</td>\n",
       "      <td>81.0</td>\n",
       "    </tr>\n",
       "    <tr>\n",
       "      <th>2</th>\n",
       "      <td>10</td>\n",
       "      <td>5196000.0</td>\n",
       "      <td>56.0</td>\n",
       "      <td>2015-08-20T00:00:00</td>\n",
       "      <td>2</td>\n",
       "      <td>NaN</td>\n",
       "      <td>5.0</td>\n",
       "      <td>34.3</td>\n",
       "      <td>4</td>\n",
       "      <td>NaN</td>\n",
       "      <td>...</td>\n",
       "      <td>8.3</td>\n",
       "      <td>0.0</td>\n",
       "      <td>Санкт-Петербург</td>\n",
       "      <td>21741.0</td>\n",
       "      <td>13933.0</td>\n",
       "      <td>1.0</td>\n",
       "      <td>90.0</td>\n",
       "      <td>2.0</td>\n",
       "      <td>574.0</td>\n",
       "      <td>558.0</td>\n",
       "    </tr>\n",
       "    <tr>\n",
       "      <th>3</th>\n",
       "      <td>0</td>\n",
       "      <td>64900000.0</td>\n",
       "      <td>159.0</td>\n",
       "      <td>2015-07-24T00:00:00</td>\n",
       "      <td>3</td>\n",
       "      <td>NaN</td>\n",
       "      <td>14.0</td>\n",
       "      <td>NaN</td>\n",
       "      <td>9</td>\n",
       "      <td>NaN</td>\n",
       "      <td>...</td>\n",
       "      <td>NaN</td>\n",
       "      <td>0.0</td>\n",
       "      <td>Санкт-Петербург</td>\n",
       "      <td>28098.0</td>\n",
       "      <td>6800.0</td>\n",
       "      <td>2.0</td>\n",
       "      <td>84.0</td>\n",
       "      <td>3.0</td>\n",
       "      <td>234.0</td>\n",
       "      <td>424.0</td>\n",
       "    </tr>\n",
       "    <tr>\n",
       "      <th>4</th>\n",
       "      <td>2</td>\n",
       "      <td>10000000.0</td>\n",
       "      <td>100.0</td>\n",
       "      <td>2018-06-19T00:00:00</td>\n",
       "      <td>2</td>\n",
       "      <td>3.03</td>\n",
       "      <td>14.0</td>\n",
       "      <td>32.0</td>\n",
       "      <td>13</td>\n",
       "      <td>NaN</td>\n",
       "      <td>...</td>\n",
       "      <td>41.0</td>\n",
       "      <td>NaN</td>\n",
       "      <td>Санкт-Петербург</td>\n",
       "      <td>31856.0</td>\n",
       "      <td>8098.0</td>\n",
       "      <td>2.0</td>\n",
       "      <td>112.0</td>\n",
       "      <td>1.0</td>\n",
       "      <td>48.0</td>\n",
       "      <td>121.0</td>\n",
       "    </tr>\n",
       "  </tbody>\n",
       "</table>\n",
       "<p>5 rows × 22 columns</p>\n",
       "</div>"
      ],
      "text/plain": [
       "   total_images  last_price  total_area first_day_exposition  rooms  \\\n",
       "0            20  13000000.0       108.0  2019-03-07T00:00:00      3   \n",
       "1             7   3350000.0        40.4  2018-12-04T00:00:00      1   \n",
       "2            10   5196000.0        56.0  2015-08-20T00:00:00      2   \n",
       "3             0  64900000.0       159.0  2015-07-24T00:00:00      3   \n",
       "4             2  10000000.0       100.0  2018-06-19T00:00:00      2   \n",
       "\n",
       "   ceiling_height  floors_total  living_area  floor is_apartment  ...  \\\n",
       "0            2.70          16.0         51.0      8          NaN  ...   \n",
       "1             NaN          11.0         18.6      1          NaN  ...   \n",
       "2             NaN           5.0         34.3      4          NaN  ...   \n",
       "3             NaN          14.0          NaN      9          NaN  ...   \n",
       "4            3.03          14.0         32.0     13          NaN  ...   \n",
       "\n",
       "   kitchen_area  balcony    locality_name  airports_nearest  \\\n",
       "0          25.0      NaN  Санкт-Петербург           18863.0   \n",
       "1          11.0      2.0   посёлок Шушары           12817.0   \n",
       "2           8.3      0.0  Санкт-Петербург           21741.0   \n",
       "3           NaN      0.0  Санкт-Петербург           28098.0   \n",
       "4          41.0      NaN  Санкт-Петербург           31856.0   \n",
       "\n",
       "  cityCenters_nearest  parks_around3000  parks_nearest  ponds_around3000  \\\n",
       "0             16028.0               1.0          482.0               2.0   \n",
       "1             18603.0               0.0            NaN               0.0   \n",
       "2             13933.0               1.0           90.0               2.0   \n",
       "3              6800.0               2.0           84.0               3.0   \n",
       "4              8098.0               2.0          112.0               1.0   \n",
       "\n",
       "   ponds_nearest  days_exposition  \n",
       "0          755.0              NaN  \n",
       "1            NaN             81.0  \n",
       "2          574.0            558.0  \n",
       "3          234.0            424.0  \n",
       "4           48.0            121.0  \n",
       "\n",
       "[5 rows x 22 columns]"
      ]
     },
     "execution_count": 1,
     "metadata": {},
     "output_type": "execute_result"
    }
   ],
   "source": [
    "import pandas as pd\n",
    "data = pd.read_csv('datasets/real_estate_data.csv',sep = '\\t')\n",
    "data.info()\n",
    "data.head()"
   ]
  },
  {
   "cell_type": "code",
   "execution_count": 2,
   "metadata": {},
   "outputs": [
    {
     "data": {
      "text/plain": [
       "array([[<AxesSubplot:title={'center':'total_images'}>,\n",
       "        <AxesSubplot:title={'center':'last_price'}>,\n",
       "        <AxesSubplot:title={'center':'total_area'}>,\n",
       "        <AxesSubplot:title={'center':'rooms'}>],\n",
       "       [<AxesSubplot:title={'center':'ceiling_height'}>,\n",
       "        <AxesSubplot:title={'center':'floors_total'}>,\n",
       "        <AxesSubplot:title={'center':'living_area'}>,\n",
       "        <AxesSubplot:title={'center':'floor'}>],\n",
       "       [<AxesSubplot:title={'center':'kitchen_area'}>,\n",
       "        <AxesSubplot:title={'center':'balcony'}>,\n",
       "        <AxesSubplot:title={'center':'airports_nearest'}>,\n",
       "        <AxesSubplot:title={'center':'cityCenters_nearest'}>],\n",
       "       [<AxesSubplot:title={'center':'parks_around3000'}>,\n",
       "        <AxesSubplot:title={'center':'parks_nearest'}>,\n",
       "        <AxesSubplot:title={'center':'ponds_around3000'}>,\n",
       "        <AxesSubplot:title={'center':'ponds_nearest'}>],\n",
       "       [<AxesSubplot:title={'center':'days_exposition'}>, <AxesSubplot:>,\n",
       "        <AxesSubplot:>, <AxesSubplot:>]], dtype=object)"
      ]
     },
     "execution_count": 2,
     "metadata": {},
     "output_type": "execute_result"
    },
    {
     "data": {
      "image/png": "[encoded data removed]",
      "text/plain": [
       "<Figure size 1080x1440 with 20 Axes>"
      ]
     },
     "metadata": {
      "needs_background": "light"
     },
     "output_type": "display_data"
    }
   ],
   "source": [
    "data.hist(figsize=(15, 20)) #общая гистограмма"
   ]
  },
  {
   "cell_type": "markdown",
   "metadata": {},
   "source": [
    "Выявленные аномалии:\n",
    "\n",
    "1. Пропуски в столбце ceiling_height \n",
    "2. Пропуски в столбце floors_total\n",
    "3. Пропуски в столбце living_area\n",
    "4. Огромное количество пропусков в столбце is_apartment.\n",
    "5. Пропуски в столбце balcony. Возможная потеря данных или неуказание количество балконов в виду их отсутсвия.\n",
    "6. Значения NaN в столце parks_around3000 и ponds_around3000. Возможная потеря данных или неуказание количество парков или прудов в виду их отсутсвия.\n",
    "7. Пропуски в locality_name, cityCenters_nearest. days_exposition, ceiling_height, floors_total. Возможные потери данных. \n",
    "8. Количество пропусков в parks_around3000 и ponds_around3000 совпадает. При публикации объявления продавцы не указали эти данные\n",
    "9. Пропуски в столбцах parks_nearest и ponds_nearest. Ориентируемся на количество пустых и 0 значений в столбце parks_around3000 и ponds_around3000 соответсвенно, так как "
   ]
  },
  {
   "cell_type": "markdown",
   "metadata": {},
   "source": [
    "### Предобработка данных"
   ]
  },
  {
   "cell_type": "markdown",
   "metadata": {},
   "source": [
    "Выявляем столбцы:\n",
    "- возможно восстановить пропуски\n",
    "- невозможно восстановить пропуски\n",
    "- не влияющие на исследование\n",
    "\n",
    "**Восстановить**\n",
    "\n",
    "- floors_total\n",
    "- living_area\n",
    "- kitchen_area\n",
    "\n",
    "\n",
    "**Не восстановить**\n",
    "\n",
    "- ceiling_height\n",
    "- locality_name\n",
    "- days_exposition - показывает сколько дней было размещено объявление (от публикации до снятия),соответственно, если укзаан NaN, значит объявление еще не снято\n",
    "\n",
    "**Не влияют**\n",
    "- is_apartment \n",
    "- balcony\n",
    "- parks_nearest \n",
    "- ponds_nearest\n",
    "- parks_around3000\n",
    "- ponds_around3000 \n",
    "- airports_nearest"
   ]
  },
  {
   "cell_type": "markdown",
   "metadata": {},
   "source": [
    "**Восстановление floors_total**\n",
    "\n",
    "Смотрим где указали этаж квартиры, но не указана этажность дома и считаем количество таких строк"
   ]
  },
  {
   "cell_type": "code",
   "execution_count": 3,
   "metadata": {},
   "outputs": [
    {
     "data": {
      "text/plain": [
       "86"
      ]
     },
     "metadata": {},
     "output_type": "display_data"
    },
    {
     "data": {
      "text/plain": [
       "86"
      ]
     },
     "metadata": {},
     "output_type": "display_data"
    }
   ],
   "source": [
    "display(data[data['floors_total'].isna()]['floor'].value_counts().sum())\n",
    "display(data['floors_total'].isna().sum())"
   ]
  },
  {
   "cell_type": "markdown",
   "metadata": {},
   "source": [
    "Количество этих строк совпадает с количеством пропусков в floors_total, соответственно, можно предположить, что продавец указывал последний этаж\n",
    "\n",
    "Можно заполнить пропуски floors_total значениями floor"
   ]
  },
  {
   "cell_type": "code",
   "execution_count": 4,
   "metadata": {},
   "outputs": [],
   "source": [
    "data['floors_total'] = data['floors_total'].fillna(0)\n",
    "\n",
    "def fill_floors_total(row):\n",
    "    if row[6] == 0:\n",
    "        row[6] = row[8]\n",
    "    return row\n",
    "\n",
    "data = data.apply(fill_floors_total, axis=1)"
   ]
  },
  {
   "cell_type": "markdown",
   "metadata": {},
   "source": [
    "**Восстановление living_area**\n",
    "\n",
    "Пропуски можно заполнить используя среднее соотношение жилой площади к общей\n"
   ]
  },
  {
   "cell_type": "code",
   "execution_count": 5,
   "metadata": {},
   "outputs": [],
   "source": [
    "living_area_ratio_mean = (data['living_area'] / data['total_area']).mean()\n",
    "data['living_area'] = data['living_area'].fillna(0)\n",
    "\n",
    "def living_area(row):\n",
    "    if row[7] == 0:\n",
    "        row[7] = float(format(row[2] * living_area_ratio_mean, '.2f'))\n",
    "    return row\n",
    "\n",
    "data = data.apply(living_area, axis=1)"
   ]
  },
  {
   "cell_type": "markdown",
   "metadata": {},
   "source": [
    "Посмотрим на \"странные\" значения"
   ]
  },
  {
   "cell_type": "code",
   "execution_count": 6,
   "metadata": {},
   "outputs": [
    {
     "data": {
      "text/plain": [
       "count    23699.000000\n",
       "mean        34.562483\n",
       "std         22.326966\n",
       "min          2.000000\n",
       "25%         19.000000\n",
       "50%         30.000000\n",
       "75%         42.100000\n",
       "max        409.700000\n",
       "Name: living_area, dtype: float64"
      ]
     },
     "metadata": {},
     "output_type": "display_data"
    }
   ],
   "source": [
    "display(data['living_area'].describe())"
   ]
  },
  {
   "cell_type": "markdown",
   "metadata": {},
   "source": [
    "Минимальная жилая площадь 2 кв.м. (похоже кто-то продает гроб). Учетная норма в Санкт-Петербурге 9 м2 общей площади жилого помещения для проживающих в отдельных квартирах и жилых домах. Представим себе квартиру в 9 кв.м.: наверняка это студия без балкона и нормальной входной зоны. Даже в такой квартире жилая плозадь не может быть 2 кв.м.\n",
    "\n",
    "Думаю разумно исключить из датафрейма квартиры с жилой площадью менее 6 кв.м."
   ]
  },
  {
   "cell_type": "code",
   "execution_count": 7,
   "metadata": {},
   "outputs": [
    {
     "data": {
      "text/plain": [
       "6"
      ]
     },
     "metadata": {},
     "output_type": "display_data"
    }
   ],
   "source": [
    "display(len(data[data['living_area'] < 6]))"
   ]
  },
  {
   "cell_type": "markdown",
   "metadata": {},
   "source": [
    "Всего 6 квартир, нам будет их не хватать"
   ]
  },
  {
   "cell_type": "code",
   "execution_count": 8,
   "metadata": {},
   "outputs": [],
   "source": [
    "bad_living_area = data[data['living_area'] < 6]\n",
    "bad_living_area_index = bad_living_area.index\n",
    "data.drop(bad_living_area_index, inplace=True)"
   ]
  },
  {
   "cell_type": "markdown",
   "metadata": {},
   "source": [
    "**Восстановление kitchen_area**\n",
    "\n",
    "Пропуски можно заполнить используя среднее соотношение площади кухни к общей"
   ]
  },
  {
   "cell_type": "code",
   "execution_count": 9,
   "metadata": {},
   "outputs": [],
   "source": [
    "kitchen_area_ratio_mean = (data['kitchen_area'] / data['total_area']).mean()\n",
    "data['kitchen_area'] = data['kitchen_area'].fillna(0)\n",
    "\n",
    "def kitchen_area(row):\n",
    "    if row[12] == 0:\n",
    "        row[12] = float(format(row[2] * living_area_ratio_mean, '.2f'))\n",
    "    return row\n",
    "\n",
    "data = data.apply(kitchen_area, axis=1)"
   ]
  },
  {
   "cell_type": "markdown",
   "metadata": {},
   "source": [
    "**Прочее**"
   ]
  },
  {
   "cell_type": "code",
   "execution_count": 10,
   "metadata": {},
   "outputs": [],
   "source": [
    "# перевод столбца'first_day_exposition' в формат даты\n",
    "data['first_day_exposition'] = pd.to_datetime(data['first_day_exposition'], format = '%Y-%m-%d')\n",
    "# столбец 'is_apartment' переводим в формат bool и заполняем пропуски на False\n",
    "data['is_apartment'] = data['is_apartment'].astype('bool')\n",
    "data['is_apartment'] = data['is_apartment'].fillna(False)"
   ]
  },
  {
   "cell_type": "markdown",
   "metadata": {},
   "source": [
    "Приводим столбец 'days_exposition' к int и заполняем пропуски\n",
    "\n",
    "'days_exposition' показывает сколько дней было размещено объявление (от публикации до снятия),соответственно, если укзаан NaN, значит объявление еще не снято. \n",
    "\n",
    "Заполнение нулями позволит провести анализ этого столбца отсеяв нулевые значения и нам не придётся удалять все строки с пропусками по этому столбцу, что повлияло бы на все данные в целом"
   ]
  },
  {
   "cell_type": "code",
   "execution_count": 11,
   "metadata": {},
   "outputs": [],
   "source": [
    "data['days_exposition'] = data['days_exposition'].fillna(0).astype('int')"
   ]
  },
  {
   "cell_type": "code",
   "execution_count": 12,
   "metadata": {},
   "outputs": [],
   "source": [
    "data['last_price'].describe()\n",
    "# максимальное значение в 763 миллиона не удивляет, достаточно загуглить самые дорогие квартиры в Питере\n",
    "# а вот минимальное в 12190 уже смущает\n",
    "# даже если предположить что по ошибке указали цену за квадратный метр то это всё равно мало\n",
    "# посмотрим еще нереально дешевые объекты, за порог возьмем 500 тысяч\n",
    "len(data[data['last_price'] < 500000])\n",
    "# 14 квартир, будет не жалко от них избавиться\n",
    "bad_last_price = data[data['last_price'] < 500000]\n",
    "bad_last_price_index = bad_last_price.index\n",
    "data.drop(bad_last_price_index, inplace=True)"
   ]
  },
  {
   "cell_type": "code",
   "execution_count": 13,
   "metadata": {},
   "outputs": [],
   "source": [
    "# смотрим уникальные значения ceiling_height\n",
    "data['ceiling_height'].unique()\n",
    "# в столбце 'ceiling_height' присутствуют нереальные значения (высота в 1 метр или 100 метров) \n",
    "# гуглим нормальную высоту потолков, она варьируется от 2.5 до 3 метров\n",
    "# но это касается обычных квартир\n",
    "# не берутся в расчет элитные типы жилья вроде пентхаусов, где высота потолков может достигать 10.3 метров\n",
    "# ссылка на пентхаус :D https://elitnoe.ru/articles/991-top-5-elitnyh-kvartir-s-vysotoy-potolkov-ot-5-do-10-metrov\n",
    "# и старенькие частные дома и дачи, где высота может быть и 2 метра\n",
    "# будем убирать из таблицы все значения не подходящие под здравый смысл, меньше 2 и больше 10.3\n",
    "bad_ceiling_height1 = data[data['ceiling_height'] > 10.3]\n",
    "bad_ceiling_height2 = data[data['ceiling_height'] < 2]\n",
    "# смотрим сколько таких значений\n",
    "len(bad_ceiling_height1),len(bad_ceiling_height2)\n",
    "# и убираем их из таблицы\n",
    "bad_ceiling_height_index1 = bad_ceiling_height1.index\n",
    "bad_ceiling_height_index2 = bad_ceiling_height2.index\n",
    "data.drop(bad_ceiling_height_index1, inplace=True)\n",
    "data.drop(bad_ceiling_height_index2, inplace=True)\n",
    "# теперь пропуски можно заполнить медианой\n",
    "ceiling_height_median = data['ceiling_height'].median()\n",
    "data['ceiling_height'] = data['ceiling_height'].fillna(ceiling_height_median)"
   ]
  },
  {
   "cell_type": "code",
   "execution_count": 14,
   "metadata": {},
   "outputs": [],
   "source": [
    "# столбец balcony нам не пригодится в исследовании\n",
    "data['balcony'] = data['balcony'].fillna(0).astype('int')\n",
    "# заполняем пропуски в 'locality_name'\n",
    "data['locality_name'] = data['locality_name'].fillna('unknown')\n",
    "# заменяем нулевое кол-во комнат\n",
    "data['rooms'] = data['rooms'].replace(0,1)"
   ]
  },
  {
   "cell_type": "code",
   "execution_count": 15,
   "metadata": {},
   "outputs": [
    {
     "data": {
      "text/plain": [
       "array([ 2.7 ,  2.65,  3.03,  2.5 ,  2.67,  2.56,  3.05,  2.75,  2.6 ,\n",
       "        2.9 ,  2.8 ,  2.55,  3.  ,  3.2 ,  2.61,  3.25,  3.45,  2.77,\n",
       "        2.85,  2.64,  2.57,  4.15,  3.5 ,  3.3 ,  2.71,  4.  ,  2.47,\n",
       "        2.73,  2.84,  3.1 ,  2.34,  3.4 ,  3.06,  2.72,  2.54,  2.51,\n",
       "        2.78,  2.76,  2.58,  3.7 ,  2.52,  5.2 ,  2.87,  2.66,  2.59,\n",
       "        2.  ,  2.45,  3.6 ,  2.92,  3.11,  3.13,  3.8 ,  3.15,  3.55,\n",
       "        3.16,  3.62,  3.12,  2.53,  2.74,  2.96,  2.46,  5.3 ,  5.  ,\n",
       "        2.79,  2.95,  4.06,  2.94,  3.82,  3.54,  3.53,  2.83,  4.7 ,\n",
       "        2.4 ,  3.38,  3.01,  5.6 ,  3.65,  3.9 ,  3.18,  3.35,  2.3 ,\n",
       "        3.57,  2.48,  2.62,  2.82,  3.98,  2.63,  3.83,  3.52,  3.95,\n",
       "        3.75,  2.88,  3.67,  3.87,  3.66,  3.85,  3.86,  4.19,  3.24,\n",
       "        4.8 ,  4.5 ,  4.2 ,  3.36,  3.08,  3.68,  3.07,  3.37,  3.09,\n",
       "        8.  ,  3.26,  3.34,  2.81,  3.44,  2.97,  3.14,  4.37,  2.68,\n",
       "        3.22,  3.27,  4.1 ,  2.93,  3.46,  3.47,  3.33,  3.63,  3.32,\n",
       "        8.3 ,  2.98,  2.86,  3.17,  4.4 ,  3.28,  3.04,  4.45,  5.5 ,\n",
       "        3.84,  3.23,  3.02,  3.21,  3.43,  3.78,  4.3 ,  3.39,  2.69,\n",
       "        3.31,  4.65,  3.56,  2.2 ,  3.51,  3.93,  3.42,  2.99,  3.49,\n",
       "        4.14,  2.91,  3.88,  4.25,  3.29,  2.25,  3.76,  3.69,  6.  ,\n",
       "        2.89,  3.58,  5.8 ,  2.49,  4.9 ,  3.48, 10.3 ,  3.59])"
      ]
     },
     "execution_count": 15,
     "metadata": {},
     "output_type": "execute_result"
    }
   ],
   "source": [
    "data['ceiling_height'].unique()"
   ]
  },
  {
   "cell_type": "markdown",
   "metadata": {},
   "source": [
    "**Вывод:**\n",
    "Определены пропущенные значения,заполнены пропущенные значения там, где это возможно, так же изменены типы данных.\n"
   ]
  },
  {
   "cell_type": "markdown",
   "metadata": {},
   "source": [
    "### Посчитайте и добавьте в таблицу новые столбцы"
   ]
  },
  {
   "cell_type": "code",
   "execution_count": 16,
   "metadata": {},
   "outputs": [
    {
     "data": {
      "text/html": [
       "<div>\n",
       "<style scoped>\n",
       "    .dataframe tbody tr th:only-of-type {\n",
       "        vertical-align: middle;\n",
       "    }\n",
       "\n",
       "    .dataframe tbody tr th {\n",
       "        vertical-align: top;\n",
       "    }\n",
       "\n",
       "    .dataframe thead th {\n",
       "        text-align: right;\n",
       "    }\n",
       "</style>\n",
       "<table border=\"1\" class=\"dataframe\">\n",
       "  <thead>\n",
       "    <tr style=\"text-align: right;\">\n",
       "      <th></th>\n",
       "      <th>total_images</th>\n",
       "      <th>last_price</th>\n",
       "      <th>total_area</th>\n",
       "      <th>first_day_exposition</th>\n",
       "      <th>rooms</th>\n",
       "      <th>ceiling_height</th>\n",
       "      <th>floors_total</th>\n",
       "      <th>living_area</th>\n",
       "      <th>floor</th>\n",
       "      <th>is_apartment</th>\n",
       "      <th>...</th>\n",
       "      <th>parks_nearest</th>\n",
       "      <th>ponds_around3000</th>\n",
       "      <th>ponds_nearest</th>\n",
       "      <th>days_exposition</th>\n",
       "      <th>square_meter_price</th>\n",
       "      <th>exposition_weekday</th>\n",
       "      <th>exposition_month</th>\n",
       "      <th>exposition_year</th>\n",
       "      <th>floor_type</th>\n",
       "      <th>km_to_centre</th>\n",
       "    </tr>\n",
       "  </thead>\n",
       "  <tbody>\n",
       "    <tr>\n",
       "      <th>0</th>\n",
       "      <td>20</td>\n",
       "      <td>13000000.0</td>\n",
       "      <td>108.0</td>\n",
       "      <td>2019-03-07</td>\n",
       "      <td>3</td>\n",
       "      <td>2.70</td>\n",
       "      <td>16.0</td>\n",
       "      <td>51.0</td>\n",
       "      <td>8</td>\n",
       "      <td>True</td>\n",
       "      <td>...</td>\n",
       "      <td>482.0</td>\n",
       "      <td>2.0</td>\n",
       "      <td>755.0</td>\n",
       "      <td>0</td>\n",
       "      <td>120370.370370</td>\n",
       "      <td>3</td>\n",
       "      <td>3</td>\n",
       "      <td>2019</td>\n",
       "      <td>другой</td>\n",
       "      <td>16.028</td>\n",
       "    </tr>\n",
       "    <tr>\n",
       "      <th>1</th>\n",
       "      <td>7</td>\n",
       "      <td>3350000.0</td>\n",
       "      <td>40.4</td>\n",
       "      <td>2018-12-04</td>\n",
       "      <td>1</td>\n",
       "      <td>2.65</td>\n",
       "      <td>11.0</td>\n",
       "      <td>18.6</td>\n",
       "      <td>1</td>\n",
       "      <td>True</td>\n",
       "      <td>...</td>\n",
       "      <td>NaN</td>\n",
       "      <td>0.0</td>\n",
       "      <td>NaN</td>\n",
       "      <td>81</td>\n",
       "      <td>82920.792079</td>\n",
       "      <td>1</td>\n",
       "      <td>12</td>\n",
       "      <td>2018</td>\n",
       "      <td>первый</td>\n",
       "      <td>18.603</td>\n",
       "    </tr>\n",
       "    <tr>\n",
       "      <th>2</th>\n",
       "      <td>10</td>\n",
       "      <td>5196000.0</td>\n",
       "      <td>56.0</td>\n",
       "      <td>2015-08-20</td>\n",
       "      <td>2</td>\n",
       "      <td>2.65</td>\n",
       "      <td>5.0</td>\n",
       "      <td>34.3</td>\n",
       "      <td>4</td>\n",
       "      <td>True</td>\n",
       "      <td>...</td>\n",
       "      <td>90.0</td>\n",
       "      <td>2.0</td>\n",
       "      <td>574.0</td>\n",
       "      <td>558</td>\n",
       "      <td>92785.714286</td>\n",
       "      <td>3</td>\n",
       "      <td>8</td>\n",
       "      <td>2015</td>\n",
       "      <td>другой</td>\n",
       "      <td>13.933</td>\n",
       "    </tr>\n",
       "    <tr>\n",
       "      <th>3</th>\n",
       "      <td>0</td>\n",
       "      <td>64900000.0</td>\n",
       "      <td>159.0</td>\n",
       "      <td>2015-07-24</td>\n",
       "      <td>3</td>\n",
       "      <td>2.65</td>\n",
       "      <td>14.0</td>\n",
       "      <td>89.8</td>\n",
       "      <td>9</td>\n",
       "      <td>True</td>\n",
       "      <td>...</td>\n",
       "      <td>84.0</td>\n",
       "      <td>3.0</td>\n",
       "      <td>234.0</td>\n",
       "      <td>424</td>\n",
       "      <td>408176.100629</td>\n",
       "      <td>4</td>\n",
       "      <td>7</td>\n",
       "      <td>2015</td>\n",
       "      <td>другой</td>\n",
       "      <td>6.800</td>\n",
       "    </tr>\n",
       "    <tr>\n",
       "      <th>4</th>\n",
       "      <td>2</td>\n",
       "      <td>10000000.0</td>\n",
       "      <td>100.0</td>\n",
       "      <td>2018-06-19</td>\n",
       "      <td>2</td>\n",
       "      <td>3.03</td>\n",
       "      <td>14.0</td>\n",
       "      <td>32.0</td>\n",
       "      <td>13</td>\n",
       "      <td>True</td>\n",
       "      <td>...</td>\n",
       "      <td>112.0</td>\n",
       "      <td>1.0</td>\n",
       "      <td>48.0</td>\n",
       "      <td>121</td>\n",
       "      <td>100000.000000</td>\n",
       "      <td>1</td>\n",
       "      <td>6</td>\n",
       "      <td>2018</td>\n",
       "      <td>другой</td>\n",
       "      <td>8.098</td>\n",
       "    </tr>\n",
       "  </tbody>\n",
       "</table>\n",
       "<p>5 rows × 28 columns</p>\n",
       "</div>"
      ],
      "text/plain": [
       "   total_images  last_price  total_area first_day_exposition  rooms  \\\n",
       "0            20  13000000.0       108.0           2019-03-07      3   \n",
       "1             7   3350000.0        40.4           2018-12-04      1   \n",
       "2            10   5196000.0        56.0           2015-08-20      2   \n",
       "3             0  64900000.0       159.0           2015-07-24      3   \n",
       "4             2  10000000.0       100.0           2018-06-19      2   \n",
       "\n",
       "   ceiling_height  floors_total  living_area  floor  is_apartment  ...  \\\n",
       "0            2.70          16.0         51.0      8          True  ...   \n",
       "1            2.65          11.0         18.6      1          True  ...   \n",
       "2            2.65           5.0         34.3      4          True  ...   \n",
       "3            2.65          14.0         89.8      9          True  ...   \n",
       "4            3.03          14.0         32.0     13          True  ...   \n",
       "\n",
       "   parks_nearest  ponds_around3000  ponds_nearest  days_exposition  \\\n",
       "0          482.0               2.0          755.0                0   \n",
       "1            NaN               0.0            NaN               81   \n",
       "2           90.0               2.0          574.0              558   \n",
       "3           84.0               3.0          234.0              424   \n",
       "4          112.0               1.0           48.0              121   \n",
       "\n",
       "  square_meter_price  exposition_weekday  exposition_month  exposition_year  \\\n",
       "0      120370.370370                   3                 3             2019   \n",
       "1       82920.792079                   1                12             2018   \n",
       "2       92785.714286                   3                 8             2015   \n",
       "3      408176.100629                   4                 7             2015   \n",
       "4      100000.000000                   1                 6             2018   \n",
       "\n",
       "   floor_type  km_to_centre  \n",
       "0      другой        16.028  \n",
       "1      первый        18.603  \n",
       "2      другой        13.933  \n",
       "3      другой         6.800  \n",
       "4      другой         8.098  \n",
       "\n",
       "[5 rows x 28 columns]"
      ]
     },
     "execution_count": 16,
     "metadata": {},
     "output_type": "execute_result"
    }
   ],
   "source": [
    "# добавляем в таблицу столбец с ценой за квадратный метр\n",
    "data['square_meter_price'] = data['last_price'] / data['total_area']\n",
    "# добавляем в таблицу столбец дня публикации\n",
    "data['exposition_weekday'] = data['first_day_exposition'].dt.weekday\n",
    "# месяца\n",
    "data['exposition_month'] = data['first_day_exposition'].dt.month\n",
    "# и года\n",
    "data['exposition_year'] = data['first_day_exposition'].dt.year\n",
    "# добавляем столбец с типом этажа при помощи функции\n",
    "def floor_type(row):\n",
    "    floors_total = row['floors_total']\n",
    "    floor = row['floor']\n",
    "    if floor == 1:\n",
    "        return 'первый'\n",
    "    elif floor == floors_total:\n",
    "        return 'последний'\n",
    "    elif 1 < floor < floors_total:\n",
    "        return 'другой'\n",
    "data['floor_type'] = data.apply(floor_type, axis = 1)\n",
    "# и столбец с расстоянием до центра города в км\n",
    "data['km_to_centre'] = data['cityCenters_nearest'] / 1000\n",
    "# посмотрим что получилось\n",
    "data.head(5)"
   ]
  },
  {
   "cell_type": "markdown",
   "metadata": {},
   "source": [
    "### Проведите исследовательский анализ данных"
   ]
  },
  {
   "cell_type": "markdown",
   "metadata": {},
   "source": [
    "#### Изучим параметры объектов"
   ]
  },
  {
   "cell_type": "markdown",
   "metadata": {},
   "source": [
    "##### Общая площадь"
   ]
  },
  {
   "cell_type": "code",
   "execution_count": 17,
   "metadata": {},
   "outputs": [
    {
     "data": {
      "text/plain": [
       "count    23652.000000\n",
       "mean        60.367287\n",
       "std         35.671616\n",
       "min         12.000000\n",
       "25%         40.000000\n",
       "50%         52.000000\n",
       "75%         69.925000\n",
       "max        900.000000\n",
       "Name: total_area, dtype: float64"
      ]
     },
     "execution_count": 17,
     "metadata": {},
     "output_type": "execute_result"
    },
    {
     "data": {
      "image/png": "[encoded data removed]",
      "text/plain": [
       "<Figure size 720x360 with 1 Axes>"
      ]
     },
     "metadata": {
      "needs_background": "light"
     },
     "output_type": "display_data"
    }
   ],
   "source": [
    "data.plot(y = 'total_area', kind = 'hist', bins = 100, grid=True, figsize = (10,5), range = (0,200))\n",
    "data['total_area'].describe()"
   ]
  },
  {
   "cell_type": "markdown",
   "metadata": {},
   "source": [
    "##### Жилая площадь"
   ]
  },
  {
   "cell_type": "code",
   "execution_count": 18,
   "metadata": {},
   "outputs": [
    {
     "data": {
      "text/plain": [
       "count    23652.000000\n",
       "mean        34.579472\n",
       "std         22.336870\n",
       "min          6.000000\n",
       "25%         19.000000\n",
       "50%         30.000000\n",
       "75%         42.100000\n",
       "max        409.700000\n",
       "Name: living_area, dtype: float64"
      ]
     },
     "execution_count": 18,
     "metadata": {},
     "output_type": "execute_result"
    },
    {
     "data": {
      "image/png": "[encoded data removed]",
      "text/plain": [
       "<Figure size 720x360 with 1 Axes>"
      ]
     },
     "metadata": {
      "needs_background": "light"
     },
     "output_type": "display_data"
    }
   ],
   "source": [
    "data.plot(y = 'living_area', kind = 'hist', bins = 100, grid=True, figsize = (10,5), range = (0,100))\n",
    "data['living_area'].describe()"
   ]
  },
  {
   "cell_type": "markdown",
   "metadata": {},
   "source": [
    "##### Площадь кухни"
   ]
  },
  {
   "cell_type": "code",
   "execution_count": 19,
   "metadata": {},
   "outputs": [
    {
     "data": {
      "text/plain": [
       "count    23652.000000\n",
       "mean        12.624594\n",
       "std         11.069573\n",
       "min          1.300000\n",
       "25%          7.340000\n",
       "50%         10.000000\n",
       "75%         13.400000\n",
       "max        282.380000\n",
       "Name: kitchen_area, dtype: float64"
      ]
     },
     "execution_count": 19,
     "metadata": {},
     "output_type": "execute_result"
    },
    {
     "data": {
      "image/png": "[encoded data removed]",
      "text/plain": [
       "<Figure size 720x360 with 1 Axes>"
      ]
     },
     "metadata": {
      "needs_background": "light"
     },
     "output_type": "display_data"
    }
   ],
   "source": [
    "data.plot(y = 'kitchen_area', kind = 'hist', bins = 100, grid=True, figsize = (10,5), range = (0,150))\n",
    "data['kitchen_area'].describe()"
   ]
  },
  {
   "cell_type": "markdown",
   "metadata": {},
   "source": [
    "##### Цена объекта"
   ]
  },
  {
   "cell_type": "code",
   "execution_count": 20,
   "metadata": {},
   "outputs": [
    {
     "data": {
      "text/plain": [
       "count    23652.000000\n",
       "mean         6.545157\n",
       "std         10.889527\n",
       "min          0.500000\n",
       "25%          3.420000\n",
       "50%          4.650000\n",
       "75%          6.800000\n",
       "max        763.000000\n",
       "Name: last_price, dtype: float64"
      ]
     },
     "execution_count": 20,
     "metadata": {},
     "output_type": "execute_result"
    },
    {
     "data": {
      "image/png": "[encoded data removed]",
      "text/plain": [
       "<Figure size 720x360 with 1 Axes>"
      ]
     },
     "metadata": {
      "needs_background": "light"
     },
     "output_type": "display_data"
    }
   ],
   "source": [
    "data['last_price'] = data['last_price']/1000000\n",
    "data.plot(y = 'last_price', kind = 'hist', bins = 100, grid=True, range = (0,15), figsize = (10,5))\n",
    "data['last_price'].describe()"
   ]
  },
  {
   "cell_type": "markdown",
   "metadata": {},
   "source": [
    "##### Количество комнат"
   ]
  },
  {
   "cell_type": "code",
   "execution_count": 21,
   "metadata": {},
   "outputs": [
    {
     "data": {
      "text/plain": [
       "count    23652.000000\n",
       "mean         2.079528\n",
       "std          1.066584\n",
       "min          1.000000\n",
       "25%          1.000000\n",
       "50%          2.000000\n",
       "75%          3.000000\n",
       "max         19.000000\n",
       "Name: rooms, dtype: float64"
      ]
     },
     "execution_count": 21,
     "metadata": {},
     "output_type": "execute_result"
    },
    {
     "data": {
      "image/png": "[encoded data removed]",
      "text/plain": [
       "<Figure size 720x360 with 1 Axes>"
      ]
     },
     "metadata": {
      "needs_background": "light"
     },
     "output_type": "display_data"
    }
   ],
   "source": [
    "data.plot(y = 'rooms', kind = 'hist', bins = 30, grid=True, figsize = (10,5), range=(0,10))\n",
    "data['rooms'].describe()"
   ]
  },
  {
   "cell_type": "markdown",
   "metadata": {},
   "source": [
    "##### Высота потолков"
   ]
  },
  {
   "cell_type": "code",
   "execution_count": 22,
   "metadata": {},
   "outputs": [
    {
     "data": {
      "text/plain": [
       "count    23652.000000\n",
       "mean         2.698208\n",
       "std          0.237178\n",
       "min          2.000000\n",
       "25%          2.600000\n",
       "50%          2.650000\n",
       "75%          2.700000\n",
       "max         10.300000\n",
       "Name: ceiling_height, dtype: float64"
      ]
     },
     "execution_count": 22,
     "metadata": {},
     "output_type": "execute_result"
    },
    {
     "data": {
      "image/png": "[encoded data removed]",
      "text/plain": [
       "<Figure size 720x360 with 1 Axes>"
      ]
     },
     "metadata": {
      "needs_background": "light"
     },
     "output_type": "display_data"
    }
   ],
   "source": [
    "data.plot(y = 'ceiling_height', kind = 'hist', bins = 30, range = (2,5), grid=True, figsize = (10,5))\n",
    "data['ceiling_height'].describe()"
   ]
  },
  {
   "cell_type": "markdown",
   "metadata": {},
   "source": [
    "##### Этаж"
   ]
  },
  {
   "cell_type": "code",
   "execution_count": 23,
   "metadata": {},
   "outputs": [
    {
     "data": {
      "text/plain": [
       "count    23652.000000\n",
       "mean         5.893159\n",
       "std          4.883052\n",
       "min          1.000000\n",
       "25%          2.000000\n",
       "50%          4.000000\n",
       "75%          8.000000\n",
       "max         33.000000\n",
       "Name: floor, dtype: float64"
      ]
     },
     "execution_count": 23,
     "metadata": {},
     "output_type": "execute_result"
    },
    {
     "data": {
      "image/png": "[encoded data removed]",
      "text/plain": [
       "<Figure size 720x360 with 1 Axes>"
      ]
     },
     "metadata": {
      "needs_background": "light"
     },
     "output_type": "display_data"
    }
   ],
   "source": [
    "data.plot(y = 'floor', kind = 'hist', bins = 30, range = (0,40), grid=True, figsize = (10,5))\n",
    "data['floor'].describe()"
   ]
  },
  {
   "cell_type": "markdown",
   "metadata": {},
   "source": [
    "##### Тип этажа"
   ]
  },
  {
   "cell_type": "code",
   "execution_count": 24,
   "metadata": {},
   "outputs": [
    {
     "data": {
      "text/plain": [
       "count      23652\n",
       "unique         3\n",
       "top       другой\n",
       "freq       17335\n",
       "Name: floor_type, dtype: object"
      ]
     },
     "execution_count": 24,
     "metadata": {},
     "output_type": "execute_result"
    },
    {
     "data": {
      "image/png": "[encoded data removed]",
      "text/plain": [
       "<Figure size 432x288 with 1 Axes>"
      ]
     },
     "metadata": {
      "needs_background": "light"
     },
     "output_type": "display_data"
    }
   ],
   "source": [
    "data['floor_type'].hist(bins=5)\n",
    "data['floor_type'].describe()"
   ]
  },
  {
   "cell_type": "markdown",
   "metadata": {},
   "source": [
    "##### Общее количество этажей в доме"
   ]
  },
  {
   "cell_type": "code",
   "execution_count": 25,
   "metadata": {},
   "outputs": [
    {
     "data": {
      "text/plain": [
       "count    23652.000000\n",
       "mean        10.674277\n",
       "std          6.590092\n",
       "min          1.000000\n",
       "25%          5.000000\n",
       "50%          9.000000\n",
       "75%         16.000000\n",
       "max         60.000000\n",
       "Name: floors_total, dtype: float64"
      ]
     },
     "execution_count": 25,
     "metadata": {},
     "output_type": "execute_result"
    },
    {
     "data": {
      "image/png": "[encoded data removed]",
      "text/plain": [
       "<Figure size 720x360 with 1 Axes>"
      ]
     },
     "metadata": {
      "needs_background": "light"
     },
     "output_type": "display_data"
    }
   ],
   "source": [
    "data.plot(y = 'floors_total', kind = 'hist', bins = 30, range = (0,40), grid=True, figsize = (10,5))\n",
    "data['floors_total'].describe()"
   ]
  },
  {
   "cell_type": "markdown",
   "metadata": {},
   "source": [
    "##### Расстояние до центра города в метрах"
   ]
  },
  {
   "cell_type": "code",
   "execution_count": 26,
   "metadata": {},
   "outputs": [
    {
     "data": {
      "text/plain": [
       "count    18157.000000\n",
       "mean     14192.777606\n",
       "std       8607.590828\n",
       "min        181.000000\n",
       "25%       9238.000000\n",
       "50%      13101.000000\n",
       "75%      16293.000000\n",
       "max      65968.000000\n",
       "Name: cityCenters_nearest, dtype: float64"
      ]
     },
     "execution_count": 26,
     "metadata": {},
     "output_type": "execute_result"
    },
    {
     "data": {
      "image/png": "[encoded data removed]",
      "text/plain": [
       "<Figure size 720x360 with 1 Axes>"
      ]
     },
     "metadata": {
      "needs_background": "light"
     },
     "output_type": "display_data"
    }
   ],
   "source": [
    "data.plot(y = 'cityCenters_nearest', kind = 'hist', bins = 30, range = (0,40000), grid=True, figsize = (10,5))\n",
    "data['cityCenters_nearest'].describe()"
   ]
  },
  {
   "cell_type": "markdown",
   "metadata": {},
   "source": [
    "##### Расстояние до ближайшего аэропорта"
   ]
  },
  {
   "cell_type": "code",
   "execution_count": 27,
   "metadata": {},
   "outputs": [
    {
     "data": {
      "text/plain": [
       "count    18134.000000\n",
       "mean     28795.065788\n",
       "std      12631.114779\n",
       "min          0.000000\n",
       "25%      18582.000000\n",
       "50%      26726.000000\n",
       "75%      37282.250000\n",
       "max      84869.000000\n",
       "Name: airports_nearest, dtype: float64"
      ]
     },
     "execution_count": 27,
     "metadata": {},
     "output_type": "execute_result"
    },
    {
     "data": {
      "image/png": "[encoded data removed]",
      "text/plain": [
       "<Figure size 720x360 with 1 Axes>"
      ]
     },
     "metadata": {
      "needs_background": "light"
     },
     "output_type": "display_data"
    }
   ],
   "source": [
    "data.plot(y = 'airports_nearest', kind = 'hist', bins = 30, range = (0,60000), grid=True, figsize = (10,5))\n",
    "data['airports_nearest'].describe()"
   ]
  },
  {
   "cell_type": "markdown",
   "metadata": {},
   "source": [
    "##### Расстояние до ближайшего парка"
   ]
  },
  {
   "cell_type": "code",
   "execution_count": 28,
   "metadata": {},
   "outputs": [
    {
     "data": {
      "text/plain": [
       "count    8067.000000\n",
       "mean      490.709805\n",
       "std       342.452714\n",
       "min         1.000000\n",
       "25%       288.000000\n",
       "50%       455.000000\n",
       "75%       612.000000\n",
       "max      3190.000000\n",
       "Name: parks_nearest, dtype: float64"
      ]
     },
     "execution_count": 28,
     "metadata": {},
     "output_type": "execute_result"
    },
    {
     "data": {
      "image/png": "[encoded data removed]",
      "text/plain": [
       "<Figure size 720x360 with 1 Axes>"
      ]
     },
     "metadata": {
      "needs_background": "light"
     },
     "output_type": "display_data"
    }
   ],
   "source": [
    "data.plot(y = 'parks_nearest', kind = 'hist', bins = 30, range = (0,2000), grid=True, figsize = (10,5))\n",
    "data['parks_nearest'].describe()"
   ]
  },
  {
   "cell_type": "markdown",
   "metadata": {},
   "source": [
    "##### День публикации объявления"
   ]
  },
  {
   "cell_type": "code",
   "execution_count": 29,
   "metadata": {},
   "outputs": [
    {
     "data": {
      "text/plain": [
       "count    23652.000000\n",
       "mean         2.569888\n",
       "std          1.788810\n",
       "min          0.000000\n",
       "25%          1.000000\n",
       "50%          3.000000\n",
       "75%          4.000000\n",
       "max          6.000000\n",
       "Name: exposition_weekday, dtype: float64"
      ]
     },
     "execution_count": 29,
     "metadata": {},
     "output_type": "execute_result"
    },
    {
     "data": {
      "image/png": "[encoded data removed]",
      "text/plain": [
       "<Figure size 720x360 with 1 Axes>"
      ]
     },
     "metadata": {
      "needs_background": "light"
     },
     "output_type": "display_data"
    }
   ],
   "source": [
    "data.plot(y = 'exposition_weekday', kind = 'hist', bins = 30, range = (0,6), grid=True, figsize = (10,5))\n",
    "data['exposition_weekday'].describe()"
   ]
  },
  {
   "cell_type": "markdown",
   "metadata": {},
   "source": [
    "##### Месяц публикации объявления"
   ]
  },
  {
   "cell_type": "code",
   "execution_count": 30,
   "metadata": {},
   "outputs": [
    {
     "data": {
      "text/plain": [
       "count    23652.000000\n",
       "mean         6.401319\n",
       "std          3.491557\n",
       "min          1.000000\n",
       "25%          3.000000\n",
       "50%          6.000000\n",
       "75%         10.000000\n",
       "max         12.000000\n",
       "Name: exposition_month, dtype: float64"
      ]
     },
     "execution_count": 30,
     "metadata": {},
     "output_type": "execute_result"
    },
    {
     "data": {
      "image/png": "[encoded data removed]",
      "text/plain": [
       "<Figure size 720x360 with 1 Axes>"
      ]
     },
     "metadata": {
      "needs_background": "light"
     },
     "output_type": "display_data"
    }
   ],
   "source": [
    "data.plot(y = 'exposition_month', kind = 'hist', bins = 30, range = (0,12), grid=True, figsize = (10,5))\n",
    "data['exposition_month'].describe()"
   ]
  },
  {
   "cell_type": "markdown",
   "metadata": {},
   "source": [
    "**Вывод:**\n",
    "\n",
    "Больше всего на рынке представлены квартиры с площадью от 40 до 70 кв.м.. средняя жилая площадь 30 кв.м., средня площадь кухни 10 кв.м.\n",
    "\n",
    "Больше всего на рынке однокомнатных и двухкомнатных квартир\n",
    "\n",
    "Наибольшее число квартир продаются по цене в диапозоне от 2.5 до 5 миллионов\n",
    "\n",
    "Средняя высота потолков 2.6 м\n",
    "\n",
    "Наибольшее кол-во квартир расположены на 5 этаже\n",
    "\n",
    "Большинство квартир продаются в пятиэтажных домах\n",
    "\n",
    "Чаще квартиры расположены в 10-15 км от центра города и в среднем в 28 км от аэропорта\n",
    "\n",
    "У большинства квартир на расстоянии в 500 метров есть парк\n",
    "\n",
    "Чаще всего объявления публикуются в рабочие дни недели\n",
    "\n",
    "Весной наблюдяется высокая активность публикаций, которая спадает к началу лета. И начиная с осени активность снова растёт\n"
   ]
  },
  {
   "cell_type": "markdown",
   "metadata": {},
   "source": [
    "#### Изучим как быстро продавались квартиры"
   ]
  },
  {
   "cell_type": "code",
   "execution_count": 31,
   "metadata": {},
   "outputs": [
    {
     "data": {
      "text/plain": [
       "count    20478.000000\n",
       "mean       180.973191\n",
       "std        219.827147\n",
       "min          1.000000\n",
       "25%         45.000000\n",
       "50%         95.000000\n",
       "75%        232.000000\n",
       "max       1580.000000\n",
       "Name: days_exposition, dtype: float64"
      ]
     },
     "execution_count": 31,
     "metadata": {},
     "output_type": "execute_result"
    },
    {
     "data": {
      "image/png": "[encoded data removed]",
      "text/plain": [
       "<Figure size 432x288 with 1 Axes>"
      ]
     },
     "metadata": {
      "needs_background": "light"
     },
     "output_type": "display_data"
    }
   ],
   "source": [
    "# Построим гистограмму\n",
    "data.plot(y = 'days_exposition', kind = 'hist', bins = 100, grid = True, range = (1,300))\n",
    "# узнаем среднее и медиану\n",
    "data[data['days_exposition']!=0]['days_exposition'].describe()\n",
    "# на гистограмме увидели выбросы, методом value_counts() вычислим их\n",
    "# data[data['days_exposition']!=0]['days_exposition'].value_counts()"
   ]
  },
  {
   "cell_type": "markdown",
   "metadata": {},
   "source": [
    "На гистограмме наблюдается распределение Пуассона. \n",
    "\n",
    "Среднее значение - 180 дней.\n",
    "\n",
    "Медиана - 95 дней.\n",
    "\n",
    "Обнаружены аномалии - 45, 60, 7, 30, 90 считаются как самые популярные дни снятия объявления.\n",
    "\n",
    "Скорее всего аномалии связаны с правилами сервиса (после определенного кол-ва дней объявление снимается), однако это \n",
    "не может давать гарантии того, что в эти дни недвижимость не была продана.\n",
    "\n",
    "Для точного анализа от аномалий лучше избавиться"
   ]
  },
  {
   "cell_type": "code",
   "execution_count": 32,
   "metadata": {},
   "outputs": [
    {
     "data": {
      "text/plain": [
       "count    18418.000000\n",
       "mean       195.894940\n",
       "std        226.862439\n",
       "min          1.000000\n",
       "25%         44.000000\n",
       "50%        114.000000\n",
       "75%        259.000000\n",
       "max       1580.000000\n",
       "Name: days_exposition, dtype: float64"
      ]
     },
     "execution_count": 32,
     "metadata": {},
     "output_type": "execute_result"
    },
    {
     "data": {
      "image/png": "[encoded data removed]",
      "text/plain": [
       "<Figure size 432x288 with 1 Axes>"
      ]
     },
     "metadata": {
      "needs_background": "light"
     },
     "output_type": "display_data"
    }
   ],
   "source": [
    "# убираем аномальные значения и смотрим на гистограмму с описанием\n",
    "good_data = data.query('days_exposition != 45 and days_exposition != 30 and days_exposition != 60 and days_exposition != 90 and days_exposition != 7 and days_exposition != 0')\n",
    "good_data.plot(y = 'days_exposition', kind = 'hist', bins = 100, grid = True, range = (1,500))\n",
    "good_data['days_exposition'].describe()"
   ]
  },
  {
   "cell_type": "markdown",
   "metadata": {},
   "source": [
    "Без аномалий среднее и медаинное значения поменялись (195 и 114 соответственно)\n",
    "\n",
    "Чтобы ответить на вопрос какие продажи можно считать быстрыми, а какие необычно долгими нам понадобится ящик с усами"
   ]
  },
  {
   "cell_type": "code",
   "execution_count": 33,
   "metadata": {},
   "outputs": [
    {
     "data": {
      "text/plain": [
       "(1.0, 700.0)"
      ]
     },
     "execution_count": 33,
     "metadata": {},
     "output_type": "execute_result"
    },
    {
     "data": {
      "image/png": "[encoded data removed]",
      "text/plain": [
       "<Figure size 432x288 with 1 Axes>"
      ]
     },
     "metadata": {
      "needs_background": "light"
     },
     "output_type": "display_data"
    }
   ],
   "source": [
    "import matplotlib.pyplot as plt\n",
    "plt.boxplot(good_data['days_exposition'])\n",
    "plt.ylim(1,700)"
   ]
  },
  {
   "cell_type": "markdown",
   "metadata": {},
   "source": [
    "По диаграмме раазмаха видно, что нормальные значения у нас расположены от 1 до 600, соответственно все значения за чертой в 600 дней можно считать необычайно долгой продажей\n",
    "\n",
    "Быстрые продажи можно считать по значению первого квартиля, то есть 44 дня. Все продажи до 44 дней можно считать быстрыми"
   ]
  },
  {
   "cell_type": "markdown",
   "metadata": {},
   "source": [
    "#### Изучим какие факторы больше всего влияют на общую (полную) стоимость объекта"
   ]
  },
  {
   "cell_type": "markdown",
   "metadata": {},
   "source": [
    "##### Общая площадь"
   ]
  },
  {
   "cell_type": "code",
   "execution_count": 34,
   "metadata": {},
   "outputs": [
    {
     "data": {
      "text/plain": [
       "0.6537480551077661"
      ]
     },
     "execution_count": 34,
     "metadata": {},
     "output_type": "execute_result"
    },
    {
     "data": {
      "image/png": "[encoded data removed]",
      "text/plain": [
       "<Figure size 432x288 with 1 Axes>"
      ]
     },
     "metadata": {
      "needs_background": "light"
     },
     "output_type": "display_data"
    }
   ],
   "source": [
    "# создаем сводную таблицу\n",
    "pt_total_area = data.pivot_table(index = 'total_area', values = 'last_price', aggfunc = ['mean', 'count', 'median'])\n",
    "pt_total_area.columns = ['mean', 'count', 'median']\n",
    "pt_total_area.plot(y = 'median', style = 'o')\n",
    "pt_total_area.sort_values('median', ascending = False)\n",
    "# методом .corr() узнаем корреляцию\n",
    "data['total_area'].corr(data['last_price'])"
   ]
  },
  {
   "cell_type": "markdown",
   "metadata": {},
   "source": [
    "Коэффициент корреляции Пирсона равен 0.653, что свидетельствует о зависимости цены недвижимости от её площади, хоть и не очень большой. Коэффициент положительный, соответственно при росте площади растёт и цена"
   ]
  },
  {
   "cell_type": "markdown",
   "metadata": {},
   "source": [
    "##### Жилая площадь"
   ]
  },
  {
   "cell_type": "code",
   "execution_count": 35,
   "metadata": {},
   "outputs": [
    {
     "data": {
      "text/plain": [
       "0.5864969737326072"
      ]
     },
     "execution_count": 35,
     "metadata": {},
     "output_type": "execute_result"
    },
    {
     "data": {
      "image/png": "[encoded data removed]",
      "text/plain": [
       "<Figure size 432x288 with 1 Axes>"
      ]
     },
     "metadata": {
      "needs_background": "light"
     },
     "output_type": "display_data"
    }
   ],
   "source": [
    "pt_living_area = data.pivot_table(index = 'living_area', values = 'last_price', aggfunc = ['mean', 'count', 'median'])\n",
    "pt_living_area.columns = ['mean', 'count', 'median']\n",
    "pt_living_area.plot(y = 'median', style = 'o')\n",
    "pt_living_area.sort_values('median', ascending = False)\n",
    "data['living_area'].corr(data['last_price'])"
   ]
  },
  {
   "cell_type": "markdown",
   "metadata": {},
   "source": [
    "Коэффициент корреляции Пирсона равен 0.585, зависимость несколько меньше, чем от общей площади, однако тоже присутствует"
   ]
  },
  {
   "cell_type": "markdown",
   "metadata": {},
   "source": [
    "##### Площадь кухни"
   ]
  },
  {
   "cell_type": "code",
   "execution_count": 36,
   "metadata": {},
   "outputs": [
    {
     "data": {
      "text/plain": [
       "0.4066873461091155"
      ]
     },
     "execution_count": 36,
     "metadata": {},
     "output_type": "execute_result"
    },
    {
     "data": {
      "image/png": "[encoded data removed]",
      "text/plain": [
       "<Figure size 432x288 with 1 Axes>"
      ]
     },
     "metadata": {
      "needs_background": "light"
     },
     "output_type": "display_data"
    }
   ],
   "source": [
    "pt_kitchen_area = data.pivot_table(index = 'kitchen_area', values = 'last_price', aggfunc = ['mean', 'count', 'median'])\n",
    "pt_kitchen_area.columns = ['mean', 'count', 'median']\n",
    "pt_kitchen_area.plot(y = 'median', style = 'o')\n",
    "pt_kitchen_area.sort_values('median', ascending = False)\n",
    "data['kitchen_area'].corr(data['last_price'])"
   ]
  },
  {
   "cell_type": "markdown",
   "metadata": {},
   "source": [
    "Коэффициент корреляции Пирсона равен 0.406, зависимость от площади кухни уже ощутимо меньше, чем от общей площади"
   ]
  },
  {
   "cell_type": "markdown",
   "metadata": {},
   "source": [
    "##### Количество комнат"
   ]
  },
  {
   "cell_type": "code",
   "execution_count": 37,
   "metadata": {},
   "outputs": [
    {
     "data": {
      "text/plain": [
       "0.36528338118825004"
      ]
     },
     "execution_count": 37,
     "metadata": {},
     "output_type": "execute_result"
    },
    {
     "data": {
      "image/png": "[encoded data removed]",
      "text/plain": [
       "<Figure size 432x288 with 1 Axes>"
      ]
     },
     "metadata": {
      "needs_background": "light"
     },
     "output_type": "display_data"
    }
   ],
   "source": [
    "pt_rooms = data.pivot_table(index = 'rooms', values = 'last_price', aggfunc = ['mean', 'count', 'median'])\n",
    "pt_rooms.columns = ['mean', 'count', 'median']\n",
    "pt_rooms.query('count > 50').plot(y = 'median',style = 'o-')\n",
    "pt_rooms.query('count > 50').sort_values('median', ascending = False)\n",
    "data['rooms'].corr(data['last_price'])"
   ]
  },
  {
   "cell_type": "markdown",
   "metadata": {},
   "source": [
    "С увеличением количества комнат, растёт медианная стоимость квартиры"
   ]
  },
  {
   "cell_type": "markdown",
   "metadata": {},
   "source": [
    "##### Этажи"
   ]
  },
  {
   "cell_type": "code",
   "execution_count": 38,
   "metadata": {},
   "outputs": [
    {
     "data": {
      "text/html": [
       "<div>\n",
       "<style scoped>\n",
       "    .dataframe tbody tr th:only-of-type {\n",
       "        vertical-align: middle;\n",
       "    }\n",
       "\n",
       "    .dataframe tbody tr th {\n",
       "        vertical-align: top;\n",
       "    }\n",
       "\n",
       "    .dataframe thead th {\n",
       "        text-align: right;\n",
       "    }\n",
       "</style>\n",
       "<table border=\"1\" class=\"dataframe\">\n",
       "  <thead>\n",
       "    <tr style=\"text-align: right;\">\n",
       "      <th></th>\n",
       "      <th>mean</th>\n",
       "      <th>count</th>\n",
       "      <th>median</th>\n",
       "    </tr>\n",
       "    <tr>\n",
       "      <th>floor_type</th>\n",
       "      <th></th>\n",
       "      <th></th>\n",
       "      <th></th>\n",
       "    </tr>\n",
       "  </thead>\n",
       "  <tbody>\n",
       "    <tr>\n",
       "      <th>другой</th>\n",
       "      <td>6.678372</td>\n",
       "      <td>17335</td>\n",
       "      <td>4.85</td>\n",
       "    </tr>\n",
       "    <tr>\n",
       "      <th>первый</th>\n",
       "      <td>4.812061</td>\n",
       "      <td>2909</td>\n",
       "      <td>3.90</td>\n",
       "    </tr>\n",
       "    <tr>\n",
       "      <th>последний</th>\n",
       "      <td>7.346883</td>\n",
       "      <td>3408</td>\n",
       "      <td>4.35</td>\n",
       "    </tr>\n",
       "  </tbody>\n",
       "</table>\n",
       "</div>"
      ],
      "text/plain": [
       "                mean  count  median\n",
       "floor_type                         \n",
       "другой      6.678372  17335    4.85\n",
       "первый      4.812061   2909    3.90\n",
       "последний   7.346883   3408    4.35"
      ]
     },
     "execution_count": 38,
     "metadata": {},
     "output_type": "execute_result"
    },
    {
     "data": {
      "image/png": "[encoded data removed]",
      "text/plain": [
       "<Figure size 432x288 with 1 Axes>"
      ]
     },
     "metadata": {
      "needs_background": "light"
     },
     "output_type": "display_data"
    }
   ],
   "source": [
    "pt_floor_type = data.pivot_table(index = 'floor_type', values = 'last_price', aggfunc = ['mean', 'count', 'median'])\n",
    "pt_floor_type.columns = ['mean', 'count', 'median']\n",
    "pt_floor_type.plot(y = 'median')\n",
    "pt_floor_type"
   ]
  },
  {
   "cell_type": "markdown",
   "metadata": {},
   "source": [
    "Квартиры на первом и последнем этажах как правило дешевле, чем квартиры на других этажах"
   ]
  },
  {
   "cell_type": "markdown",
   "metadata": {},
   "source": [
    "##### Дата размещения"
   ]
  },
  {
   "cell_type": "markdown",
   "metadata": {},
   "source": [
    "###### День недели"
   ]
  },
  {
   "cell_type": "code",
   "execution_count": 39,
   "metadata": {},
   "outputs": [
    {
     "data": {
      "text/html": [
       "<div>\n",
       "<style scoped>\n",
       "    .dataframe tbody tr th:only-of-type {\n",
       "        vertical-align: middle;\n",
       "    }\n",
       "\n",
       "    .dataframe tbody tr th {\n",
       "        vertical-align: top;\n",
       "    }\n",
       "\n",
       "    .dataframe thead th {\n",
       "        text-align: right;\n",
       "    }\n",
       "</style>\n",
       "<table border=\"1\" class=\"dataframe\">\n",
       "  <thead>\n",
       "    <tr style=\"text-align: right;\">\n",
       "      <th></th>\n",
       "      <th>mean</th>\n",
       "      <th>count</th>\n",
       "      <th>median</th>\n",
       "    </tr>\n",
       "    <tr>\n",
       "      <th>exposition_weekday</th>\n",
       "      <th></th>\n",
       "      <th></th>\n",
       "      <th></th>\n",
       "    </tr>\n",
       "  </thead>\n",
       "  <tbody>\n",
       "    <tr>\n",
       "      <th>1</th>\n",
       "      <td>6.384931</td>\n",
       "      <td>4173</td>\n",
       "      <td>4.73</td>\n",
       "    </tr>\n",
       "    <tr>\n",
       "      <th>2</th>\n",
       "      <td>6.631655</td>\n",
       "      <td>3966</td>\n",
       "      <td>4.70</td>\n",
       "    </tr>\n",
       "    <tr>\n",
       "      <th>0</th>\n",
       "      <td>6.523703</td>\n",
       "      <td>3602</td>\n",
       "      <td>4.65</td>\n",
       "    </tr>\n",
       "    <tr>\n",
       "      <th>3</th>\n",
       "      <td>6.713632</td>\n",
       "      <td>4289</td>\n",
       "      <td>4.65</td>\n",
       "    </tr>\n",
       "    <tr>\n",
       "      <th>4</th>\n",
       "      <td>6.376302</td>\n",
       "      <td>3993</td>\n",
       "      <td>4.59</td>\n",
       "    </tr>\n",
       "    <tr>\n",
       "      <th>5</th>\n",
       "      <td>6.979025</td>\n",
       "      <td>1935</td>\n",
       "      <td>4.56</td>\n",
       "    </tr>\n",
       "    <tr>\n",
       "      <th>6</th>\n",
       "      <td>6.258825</td>\n",
       "      <td>1694</td>\n",
       "      <td>4.55</td>\n",
       "    </tr>\n",
       "  </tbody>\n",
       "</table>\n",
       "</div>"
      ],
      "text/plain": [
       "                        mean  count  median\n",
       "exposition_weekday                         \n",
       "1                   6.384931   4173    4.73\n",
       "2                   6.631655   3966    4.70\n",
       "0                   6.523703   3602    4.65\n",
       "3                   6.713632   4289    4.65\n",
       "4                   6.376302   3993    4.59\n",
       "5                   6.979025   1935    4.56\n",
       "6                   6.258825   1694    4.55"
      ]
     },
     "execution_count": 39,
     "metadata": {},
     "output_type": "execute_result"
    },
    {
     "data": {
      "image/png": "[encoded data removed]",
      "text/plain": [
       "<Figure size 432x288 with 1 Axes>"
      ]
     },
     "metadata": {
      "needs_background": "light"
     },
     "output_type": "display_data"
    }
   ],
   "source": [
    "pt_exposition_weekday = data.pivot_table(index = 'exposition_weekday', values = 'last_price', aggfunc = ['mean', 'count', 'median'])\n",
    "pt_exposition_weekday.columns = ['mean', 'count', 'median']\n",
    "pt_exposition_weekday.plot(y = 'median')\n",
    "pt_exposition_weekday.sort_values('median', ascending = False)"
   ]
  },
  {
   "cell_type": "markdown",
   "metadata": {},
   "source": [
    "Чем ближе к выходным, тем ниже стоимость. С чем это связано, непонятно =\\\n",
    "\n",
    "Возможно, у людей на выходных поднимается настроение и они ставят цены ниже"
   ]
  },
  {
   "cell_type": "markdown",
   "metadata": {},
   "source": [
    "###### Месяц"
   ]
  },
  {
   "cell_type": "code",
   "execution_count": 40,
   "metadata": {},
   "outputs": [
    {
     "data": {
      "text/html": [
       "<div>\n",
       "<style scoped>\n",
       "    .dataframe tbody tr th:only-of-type {\n",
       "        vertical-align: middle;\n",
       "    }\n",
       "\n",
       "    .dataframe tbody tr th {\n",
       "        vertical-align: top;\n",
       "    }\n",
       "\n",
       "    .dataframe thead th {\n",
       "        text-align: right;\n",
       "    }\n",
       "</style>\n",
       "<table border=\"1\" class=\"dataframe\">\n",
       "  <thead>\n",
       "    <tr style=\"text-align: right;\">\n",
       "      <th></th>\n",
       "      <th>mean</th>\n",
       "      <th>count</th>\n",
       "      <th>median</th>\n",
       "    </tr>\n",
       "    <tr>\n",
       "      <th>exposition_month</th>\n",
       "      <th></th>\n",
       "      <th></th>\n",
       "      <th></th>\n",
       "    </tr>\n",
       "  </thead>\n",
       "  <tbody>\n",
       "    <tr>\n",
       "      <th>4</th>\n",
       "      <td>6.739253</td>\n",
       "      <td>2376</td>\n",
       "      <td>4.8000</td>\n",
       "    </tr>\n",
       "    <tr>\n",
       "      <th>9</th>\n",
       "      <td>6.827402</td>\n",
       "      <td>1980</td>\n",
       "      <td>4.7000</td>\n",
       "    </tr>\n",
       "    <tr>\n",
       "      <th>11</th>\n",
       "      <td>6.438160</td>\n",
       "      <td>2369</td>\n",
       "      <td>4.7000</td>\n",
       "    </tr>\n",
       "    <tr>\n",
       "      <th>12</th>\n",
       "      <td>7.020855</td>\n",
       "      <td>1638</td>\n",
       "      <td>4.7000</td>\n",
       "    </tr>\n",
       "    <tr>\n",
       "      <th>3</th>\n",
       "      <td>6.367487</td>\n",
       "      <td>2581</td>\n",
       "      <td>4.6850</td>\n",
       "    </tr>\n",
       "    <tr>\n",
       "      <th>2</th>\n",
       "      <td>6.477993</td>\n",
       "      <td>2631</td>\n",
       "      <td>4.6500</td>\n",
       "    </tr>\n",
       "    <tr>\n",
       "      <th>7</th>\n",
       "      <td>6.661397</td>\n",
       "      <td>1687</td>\n",
       "      <td>4.6500</td>\n",
       "    </tr>\n",
       "    <tr>\n",
       "      <th>1</th>\n",
       "      <td>6.674275</td>\n",
       "      <td>1497</td>\n",
       "      <td>4.6000</td>\n",
       "    </tr>\n",
       "    <tr>\n",
       "      <th>8</th>\n",
       "      <td>6.359642</td>\n",
       "      <td>1740</td>\n",
       "      <td>4.5950</td>\n",
       "    </tr>\n",
       "    <tr>\n",
       "      <th>10</th>\n",
       "      <td>6.240162</td>\n",
       "      <td>2122</td>\n",
       "      <td>4.5725</td>\n",
       "    </tr>\n",
       "    <tr>\n",
       "      <th>5</th>\n",
       "      <td>6.606026</td>\n",
       "      <td>1272</td>\n",
       "      <td>4.5150</td>\n",
       "    </tr>\n",
       "    <tr>\n",
       "      <th>6</th>\n",
       "      <td>6.313612</td>\n",
       "      <td>1759</td>\n",
       "      <td>4.4000</td>\n",
       "    </tr>\n",
       "  </tbody>\n",
       "</table>\n",
       "</div>"
      ],
      "text/plain": [
       "                      mean  count  median\n",
       "exposition_month                         \n",
       "4                 6.739253   2376  4.8000\n",
       "9                 6.827402   1980  4.7000\n",
       "11                6.438160   2369  4.7000\n",
       "12                7.020855   1638  4.7000\n",
       "3                 6.367487   2581  4.6850\n",
       "2                 6.477993   2631  4.6500\n",
       "7                 6.661397   1687  4.6500\n",
       "1                 6.674275   1497  4.6000\n",
       "8                 6.359642   1740  4.5950\n",
       "10                6.240162   2122  4.5725\n",
       "5                 6.606026   1272  4.5150\n",
       "6                 6.313612   1759  4.4000"
      ]
     },
     "execution_count": 40,
     "metadata": {},
     "output_type": "execute_result"
    },
    {
     "data": {
      "image/png": "[encoded data removed]",
      "text/plain": [
       "<Figure size 432x288 with 1 Axes>"
      ]
     },
     "metadata": {
      "needs_background": "light"
     },
     "output_type": "display_data"
    }
   ],
   "source": [
    "pt_exposition_month = data.pivot_table(index = 'exposition_month', values = 'last_price', aggfunc = ['mean', 'count', 'median'])\n",
    "pt_exposition_month.columns = ['mean', 'count', 'median']\n",
    "pt_exposition_month.plot(y = 'median')\n",
    "pt_exposition_month.sort_values('median', ascending = False)"
   ]
  },
  {
   "cell_type": "markdown",
   "metadata": {},
   "source": [
    "В отличии от зависимости от дней недели, зависимость по месяцам уже даёт общее представление о сезонности на арынке недвижимости\n",
    "\n",
    "Начиная с пика цен в апреле, к началу лета цены летят вниз. Так же по таблице видно что и предложения летом не очень много. Скорее всего это связано с отпусками, отдыхом и так далее"
   ]
  },
  {
   "cell_type": "markdown",
   "metadata": {},
   "source": [
    "###### Год"
   ]
  },
  {
   "cell_type": "code",
   "execution_count": 41,
   "metadata": {},
   "outputs": [
    {
     "data": {
      "text/html": [
       "<div>\n",
       "<style scoped>\n",
       "    .dataframe tbody tr th:only-of-type {\n",
       "        vertical-align: middle;\n",
       "    }\n",
       "\n",
       "    .dataframe tbody tr th {\n",
       "        vertical-align: top;\n",
       "    }\n",
       "\n",
       "    .dataframe thead th {\n",
       "        text-align: right;\n",
       "    }\n",
       "</style>\n",
       "<table border=\"1\" class=\"dataframe\">\n",
       "  <thead>\n",
       "    <tr style=\"text-align: right;\">\n",
       "      <th></th>\n",
       "      <th>mean</th>\n",
       "      <th>count</th>\n",
       "      <th>median</th>\n",
       "    </tr>\n",
       "    <tr>\n",
       "      <th>exposition_year</th>\n",
       "      <th></th>\n",
       "      <th></th>\n",
       "      <th></th>\n",
       "    </tr>\n",
       "  </thead>\n",
       "  <tbody>\n",
       "    <tr>\n",
       "      <th>2014</th>\n",
       "      <td>12.087136</td>\n",
       "      <td>137</td>\n",
       "      <td>7.70</td>\n",
       "    </tr>\n",
       "    <tr>\n",
       "      <th>2015</th>\n",
       "      <td>8.531164</td>\n",
       "      <td>1189</td>\n",
       "      <td>5.35</td>\n",
       "    </tr>\n",
       "    <tr>\n",
       "      <th>2019</th>\n",
       "      <td>6.793297</td>\n",
       "      <td>2868</td>\n",
       "      <td>5.05</td>\n",
       "    </tr>\n",
       "    <tr>\n",
       "      <th>2018</th>\n",
       "      <td>5.957182</td>\n",
       "      <td>8499</td>\n",
       "      <td>4.56</td>\n",
       "    </tr>\n",
       "    <tr>\n",
       "      <th>2016</th>\n",
       "      <td>6.830190</td>\n",
       "      <td>2782</td>\n",
       "      <td>4.55</td>\n",
       "    </tr>\n",
       "    <tr>\n",
       "      <th>2017</th>\n",
       "      <td>6.590644</td>\n",
       "      <td>8177</td>\n",
       "      <td>4.50</td>\n",
       "    </tr>\n",
       "  </tbody>\n",
       "</table>\n",
       "</div>"
      ],
      "text/plain": [
       "                      mean  count  median\n",
       "exposition_year                          \n",
       "2014             12.087136    137    7.70\n",
       "2015              8.531164   1189    5.35\n",
       "2019              6.793297   2868    5.05\n",
       "2018              5.957182   8499    4.56\n",
       "2016              6.830190   2782    4.55\n",
       "2017              6.590644   8177    4.50"
      ]
     },
     "execution_count": 41,
     "metadata": {},
     "output_type": "execute_result"
    },
    {
     "data": {
      "image/png": "[encoded data removed]",
      "text/plain": [
       "<Figure size 432x288 with 1 Axes>"
      ]
     },
     "metadata": {
      "needs_background": "light"
     },
     "output_type": "display_data"
    }
   ],
   "source": [
    "pt_exposition_year = data.pivot_table(index = 'exposition_year', values = 'last_price', aggfunc = ['mean', 'count', 'median'])\n",
    "pt_exposition_year.columns = ['mean', 'count', 'median']\n",
    "pt_exposition_year.plot(y = 'median')\n",
    "pt_exposition_year.sort_values('median', ascending = False)"
   ]
  },
  {
   "cell_type": "markdown",
   "metadata": {},
   "source": [
    "Начиная с 2014 года шло снижение цен на недвижимость\n",
    "\n",
    "С 2018 года цены пошли вверх"
   ]
  },
  {
   "cell_type": "markdown",
   "metadata": {},
   "source": [
    "#### Средняя цена одного квадратного метра в 10 населённых пунктах с наибольшим числом объявлений"
   ]
  },
  {
   "cell_type": "code",
   "execution_count": 42,
   "metadata": {},
   "outputs": [
    {
     "data": {
      "text/html": [
       "<div>\n",
       "<style scoped>\n",
       "    .dataframe tbody tr th:only-of-type {\n",
       "        vertical-align: middle;\n",
       "    }\n",
       "\n",
       "    .dataframe tbody tr th {\n",
       "        vertical-align: top;\n",
       "    }\n",
       "\n",
       "    .dataframe thead th {\n",
       "        text-align: right;\n",
       "    }\n",
       "</style>\n",
       "<table border=\"1\" class=\"dataframe\">\n",
       "  <thead>\n",
       "    <tr style=\"text-align: right;\">\n",
       "      <th></th>\n",
       "      <th>count</th>\n",
       "      <th>mean</th>\n",
       "    </tr>\n",
       "    <tr>\n",
       "      <th>locality_name</th>\n",
       "      <th></th>\n",
       "      <th></th>\n",
       "    </tr>\n",
       "  </thead>\n",
       "  <tbody>\n",
       "    <tr>\n",
       "      <th>Санкт-Петербург</th>\n",
       "      <td>15699</td>\n",
       "      <td>114815.936013</td>\n",
       "    </tr>\n",
       "    <tr>\n",
       "      <th>посёлок Мурино</th>\n",
       "      <td>519</td>\n",
       "      <td>85695.223835</td>\n",
       "    </tr>\n",
       "    <tr>\n",
       "      <th>посёлок Шушары</th>\n",
       "      <td>440</td>\n",
       "      <td>78677.364217</td>\n",
       "    </tr>\n",
       "    <tr>\n",
       "      <th>Всеволожск</th>\n",
       "      <td>398</td>\n",
       "      <td>68654.473986</td>\n",
       "    </tr>\n",
       "    <tr>\n",
       "      <th>Пушкин</th>\n",
       "      <td>369</td>\n",
       "      <td>103125.819291</td>\n",
       "    </tr>\n",
       "    <tr>\n",
       "      <th>Колпино</th>\n",
       "      <td>338</td>\n",
       "      <td>75424.579098</td>\n",
       "    </tr>\n",
       "    <tr>\n",
       "      <th>посёлок Парголово</th>\n",
       "      <td>327</td>\n",
       "      <td>90175.913458</td>\n",
       "    </tr>\n",
       "    <tr>\n",
       "      <th>Гатчина</th>\n",
       "      <td>306</td>\n",
       "      <td>68757.678644</td>\n",
       "    </tr>\n",
       "    <tr>\n",
       "      <th>деревня Кудрово</th>\n",
       "      <td>299</td>\n",
       "      <td>92473.547576</td>\n",
       "    </tr>\n",
       "    <tr>\n",
       "      <th>Выборг</th>\n",
       "      <td>237</td>\n",
       "      <td>58141.909153</td>\n",
       "    </tr>\n",
       "  </tbody>\n",
       "</table>\n",
       "</div>"
      ],
      "text/plain": [
       "                   count           mean\n",
       "locality_name                          \n",
       "Санкт-Петербург    15699  114815.936013\n",
       "посёлок Мурино       519   85695.223835\n",
       "посёлок Шушары       440   78677.364217\n",
       "Всеволожск           398   68654.473986\n",
       "Пушкин               369  103125.819291\n",
       "Колпино              338   75424.579098\n",
       "посёлок Парголово    327   90175.913458\n",
       "Гатчина              306   68757.678644\n",
       "деревня Кудрово      299   92473.547576\n",
       "Выборг               237   58141.909153"
      ]
     },
     "metadata": {},
     "output_type": "display_data"
    },
    {
     "data": {
      "text/html": [
       "<div>\n",
       "<style scoped>\n",
       "    .dataframe tbody tr th:only-of-type {\n",
       "        vertical-align: middle;\n",
       "    }\n",
       "\n",
       "    .dataframe tbody tr th {\n",
       "        vertical-align: top;\n",
       "    }\n",
       "\n",
       "    .dataframe thead th {\n",
       "        text-align: right;\n",
       "    }\n",
       "</style>\n",
       "<table border=\"1\" class=\"dataframe\">\n",
       "  <thead>\n",
       "    <tr style=\"text-align: right;\">\n",
       "      <th></th>\n",
       "      <th>count</th>\n",
       "      <th>mean</th>\n",
       "    </tr>\n",
       "    <tr>\n",
       "      <th>locality_name</th>\n",
       "      <th></th>\n",
       "      <th></th>\n",
       "    </tr>\n",
       "  </thead>\n",
       "  <tbody>\n",
       "    <tr>\n",
       "      <th>Санкт-Петербург</th>\n",
       "      <td>15699</td>\n",
       "      <td>114815.936013</td>\n",
       "    </tr>\n",
       "  </tbody>\n",
       "</table>\n",
       "</div>"
      ],
      "text/plain": [
       "                 count           mean\n",
       "locality_name                        \n",
       "Санкт-Петербург  15699  114815.936013"
      ]
     },
     "metadata": {},
     "output_type": "display_data"
    },
    {
     "data": {
      "text/html": [
       "<div>\n",
       "<style scoped>\n",
       "    .dataframe tbody tr th:only-of-type {\n",
       "        vertical-align: middle;\n",
       "    }\n",
       "\n",
       "    .dataframe tbody tr th {\n",
       "        vertical-align: top;\n",
       "    }\n",
       "\n",
       "    .dataframe thead th {\n",
       "        text-align: right;\n",
       "    }\n",
       "</style>\n",
       "<table border=\"1\" class=\"dataframe\">\n",
       "  <thead>\n",
       "    <tr style=\"text-align: right;\">\n",
       "      <th></th>\n",
       "      <th>count</th>\n",
       "      <th>mean</th>\n",
       "    </tr>\n",
       "    <tr>\n",
       "      <th>locality_name</th>\n",
       "      <th></th>\n",
       "      <th></th>\n",
       "    </tr>\n",
       "  </thead>\n",
       "  <tbody>\n",
       "    <tr>\n",
       "      <th>Выборг</th>\n",
       "      <td>237</td>\n",
       "      <td>58141.909153</td>\n",
       "    </tr>\n",
       "  </tbody>\n",
       "</table>\n",
       "</div>"
      ],
      "text/plain": [
       "               count          mean\n",
       "locality_name                     \n",
       "Выборг           237  58141.909153"
      ]
     },
     "metadata": {},
     "output_type": "display_data"
    }
   ],
   "source": [
    "pt_local = data.pivot_table(index = 'locality_name', values = 'square_meter_price', aggfunc=['count', 'mean'])\n",
    "pt_local.columns = ['count', 'mean']\n",
    "pt_local = pt_local.sort_values('count', ascending = False).head(10)\n",
    "display(pt_local)\n",
    "#самая высокая стоимость\n",
    "display(pt_local[pt_local['mean']==pt_local['mean'].max()])\n",
    "#самая низкая стоимость\n",
    "display(pt_local[pt_local['mean']==pt_local['mean'].min()])"
   ]
  },
  {
   "cell_type": "markdown",
   "metadata": {},
   "source": [
    "Самая высокая стоимость в Санкт-Петербурге\n",
    "\n",
    "Самая низкая в Выборге"
   ]
  },
  {
   "cell_type": "markdown",
   "metadata": {},
   "source": [
    "#### Средняя цена каждого километра в Санкт-Петербурге"
   ]
  },
  {
   "cell_type": "code",
   "execution_count": 43,
   "metadata": {},
   "outputs": [
    {
     "data": {
      "text/html": [
       "<div>\n",
       "<style scoped>\n",
       "    .dataframe tbody tr th:only-of-type {\n",
       "        vertical-align: middle;\n",
       "    }\n",
       "\n",
       "    .dataframe tbody tr th {\n",
       "        vertical-align: top;\n",
       "    }\n",
       "\n",
       "    .dataframe thead th {\n",
       "        text-align: right;\n",
       "    }\n",
       "</style>\n",
       "<table border=\"1\" class=\"dataframe\">\n",
       "  <thead>\n",
       "    <tr style=\"text-align: right;\">\n",
       "      <th></th>\n",
       "      <th>square_meter_price</th>\n",
       "    </tr>\n",
       "    <tr>\n",
       "      <th>km_to_centre</th>\n",
       "      <th></th>\n",
       "    </tr>\n",
       "  </thead>\n",
       "  <tbody>\n",
       "    <tr>\n",
       "      <th>0</th>\n",
       "      <td>187324.130319</td>\n",
       "    </tr>\n",
       "    <tr>\n",
       "      <th>1</th>\n",
       "      <td>166603.755531</td>\n",
       "    </tr>\n",
       "    <tr>\n",
       "      <th>2</th>\n",
       "      <td>146662.860056</td>\n",
       "    </tr>\n",
       "    <tr>\n",
       "      <th>3</th>\n",
       "      <td>129364.513748</td>\n",
       "    </tr>\n",
       "    <tr>\n",
       "      <th>4</th>\n",
       "      <td>137475.497055</td>\n",
       "    </tr>\n",
       "    <tr>\n",
       "      <th>5</th>\n",
       "      <td>146561.817513</td>\n",
       "    </tr>\n",
       "    <tr>\n",
       "      <th>6</th>\n",
       "      <td>152342.205905</td>\n",
       "    </tr>\n",
       "    <tr>\n",
       "      <th>7</th>\n",
       "      <td>141399.731456</td>\n",
       "    </tr>\n",
       "    <tr>\n",
       "      <th>8</th>\n",
       "      <td>119904.146290</td>\n",
       "    </tr>\n",
       "    <tr>\n",
       "      <th>9</th>\n",
       "      <td>110162.617415</td>\n",
       "    </tr>\n",
       "    <tr>\n",
       "      <th>10</th>\n",
       "      <td>111667.238100</td>\n",
       "    </tr>\n",
       "    <tr>\n",
       "      <th>11</th>\n",
       "      <td>106800.194100</td>\n",
       "    </tr>\n",
       "    <tr>\n",
       "      <th>12</th>\n",
       "      <td>108301.799045</td>\n",
       "    </tr>\n",
       "    <tr>\n",
       "      <th>13</th>\n",
       "      <td>107231.783433</td>\n",
       "    </tr>\n",
       "    <tr>\n",
       "      <th>14</th>\n",
       "      <td>104983.766987</td>\n",
       "    </tr>\n",
       "    <tr>\n",
       "      <th>15</th>\n",
       "      <td>101928.340531</td>\n",
       "    </tr>\n",
       "    <tr>\n",
       "      <th>16</th>\n",
       "      <td>100085.601721</td>\n",
       "    </tr>\n",
       "    <tr>\n",
       "      <th>17</th>\n",
       "      <td>94095.872357</td>\n",
       "    </tr>\n",
       "    <tr>\n",
       "      <th>18</th>\n",
       "      <td>94831.953162</td>\n",
       "    </tr>\n",
       "    <tr>\n",
       "      <th>19</th>\n",
       "      <td>95434.377295</td>\n",
       "    </tr>\n",
       "    <tr>\n",
       "      <th>20</th>\n",
       "      <td>107164.670097</td>\n",
       "    </tr>\n",
       "    <tr>\n",
       "      <th>21</th>\n",
       "      <td>91492.688149</td>\n",
       "    </tr>\n",
       "    <tr>\n",
       "      <th>22</th>\n",
       "      <td>88714.696974</td>\n",
       "    </tr>\n",
       "    <tr>\n",
       "      <th>23</th>\n",
       "      <td>92720.641577</td>\n",
       "    </tr>\n",
       "    <tr>\n",
       "      <th>24</th>\n",
       "      <td>82440.343912</td>\n",
       "    </tr>\n",
       "    <tr>\n",
       "      <th>25</th>\n",
       "      <td>91136.018511</td>\n",
       "    </tr>\n",
       "    <tr>\n",
       "      <th>26</th>\n",
       "      <td>75171.911041</td>\n",
       "    </tr>\n",
       "    <tr>\n",
       "      <th>27</th>\n",
       "      <td>132115.709459</td>\n",
       "    </tr>\n",
       "    <tr>\n",
       "      <th>28</th>\n",
       "      <td>81840.638722</td>\n",
       "    </tr>\n",
       "    <tr>\n",
       "      <th>29</th>\n",
       "      <td>62482.404228</td>\n",
       "    </tr>\n",
       "  </tbody>\n",
       "</table>\n",
       "</div>"
      ],
      "text/plain": [
       "              square_meter_price\n",
       "km_to_centre                    \n",
       "0                  187324.130319\n",
       "1                  166603.755531\n",
       "2                  146662.860056\n",
       "3                  129364.513748\n",
       "4                  137475.497055\n",
       "5                  146561.817513\n",
       "6                  152342.205905\n",
       "7                  141399.731456\n",
       "8                  119904.146290\n",
       "9                  110162.617415\n",
       "10                 111667.238100\n",
       "11                 106800.194100\n",
       "12                 108301.799045\n",
       "13                 107231.783433\n",
       "14                 104983.766987\n",
       "15                 101928.340531\n",
       "16                 100085.601721\n",
       "17                  94095.872357\n",
       "18                  94831.953162\n",
       "19                  95434.377295\n",
       "20                 107164.670097\n",
       "21                  91492.688149\n",
       "22                  88714.696974\n",
       "23                  92720.641577\n",
       "24                  82440.343912\n",
       "25                  91136.018511\n",
       "26                  75171.911041\n",
       "27                 132115.709459\n",
       "28                  81840.638722\n",
       "29                  62482.404228"
      ]
     },
     "execution_count": 43,
     "metadata": {},
     "output_type": "execute_result"
    }
   ],
   "source": [
    "data['km_to_centre'] = data['km_to_centre'].fillna(-1)\n",
    "data['km_to_centre'] = data['km_to_centre'].astype('int')\n",
    "pt_km = data.query('locality_name == \"Санкт-Петербург\" and km_to_centre !=-1').pivot_table(index = 'km_to_centre', values = 'square_meter_price', aggfunc = 'mean')\n",
    "pt_km"
   ]
  },
  {
   "cell_type": "markdown",
   "metadata": {},
   "source": [
    "В таблице отражены средние цены за квадратный метр в зависимости от расстояния до центра города\n",
    "\n",
    "По данным видно, что чем дальше квартира от центра, тем дешевле квадратный метр"
   ]
  },
  {
   "cell_type": "markdown",
   "metadata": {},
   "source": [
    "### Общий вывод"
   ]
  },
  {
   "cell_type": "markdown",
   "metadata": {},
   "source": [
    "Полученные данные были обработаны и изучены: определены пропущенные значения,заполнены пропущенные значения там, где это возможно, так же изменены типы данных.\n",
    "\n",
    "В таблицу были добавлены столбцы: цена одного квадратного метра; день, месяц и год публикации объявления; тип этажа квартиры и расстояние до центра города в километрах.\n",
    "\n",
    "Были изучены и описаны параметры из которых стало известно что:\n",
    "Больше всего на рынке представлены квартиры с площадью от 40 до 70 кв.м.. средняя жилая площадь 30 кв.м., средня площадь кухни 10 кв.м..\n",
    "Больше всего на рынке однокомнатных и двухкомнатных квартир.\n",
    "Наибольшее число квартир продаются по цене в диапозоне от 2.5 до 5 миллионов.\n",
    "Средняя высота потолков 2.7 м.\n",
    "Наибольшее кол-во квартир расположены на 5 этаже.\n",
    "Большинство квартир продаются в пятиэтажных домах.\n",
    "Чаще квартиры расположены в 10-15 км от центра города и в среднем в 28 км от аэропорта.\n",
    "У большинства квартир на расстоянии в 500 метров есть парк.\n",
    "Чаще всего объявления публикуются в рабочие дни недели.\n",
    "Весной наблюдяется высокая активность публикаций, которая спадает к началу лета. И начиная с осени активность снова растёт.\n",
    "\n",
    "По данным таблицы изучили как быстро продаются квартиры\n",
    "При помощи диаграммы раазмаха узнали, что нормальные значения расположились от 1 до 600 дней, а значит все значения за чертой в 600 дней можно считать необычайно долгой продажей. Быстрые продажи можно считать по значению первого квартиля, то есть 44 дня. Все продажи до 44 дней можно считать быстрыми\n",
    "\n",
    "Мы узнали какие факторы сильнее всего влияют на стоимость квартиры. Исходя из данных увидели наибольшую зависимость цены от общей площади квартиры. Так же увидели, что квартиры на крайних этажах как правило дешевле. На цену так же влияет и сезон продажи - в начале и конце года цены выше, нежели летом\n",
    "\n",
    "Мы узнали, что минимальная средняя цена одного квадратного метра среди 10 населённых пунктах с наибольшим числом объявлений в Выборге, а максимальная в Санкт-Петербурге\n",
    "\n",
    "По данным таблицы вычислили, среднюю цену каждого километра и выяснили, что чем дальше квартира от центра, тем дешевле квадратный метр\n",
    "\n",
    "\n"
   ]
  }
 ],
 "metadata": {
  "ExecuteTimeLog": [
   {
    "duration": 471,
    "start_time": "2022-07-13T11:03:29.950Z"
   },
   {
    "duration": 356,
    "start_time": "2022-07-13T11:03:35.690Z"
   },
   {
    "duration": 134,
    "start_time": "2022-07-13T11:04:03.979Z"
   },
   {
    "duration": 534,
    "start_time": "2022-07-13T11:04:35.350Z"
   },
   {
    "duration": 103,
    "start_time": "2022-07-13T11:05:23.985Z"
   },
   {
    "duration": 113,
    "start_time": "2022-07-13T11:05:52.392Z"
   },
   {
    "duration": 2599,
    "start_time": "2022-07-13T11:17:13.363Z"
   },
   {
    "duration": 101,
    "start_time": "2022-07-13T11:17:49.914Z"
   },
   {
    "duration": 160,
    "start_time": "2022-07-13T11:17:55.394Z"
   },
   {
    "duration": 102,
    "start_time": "2022-07-13T11:18:00.278Z"
   },
   {
    "duration": 82,
    "start_time": "2022-07-13T11:18:07.300Z"
   },
   {
    "duration": 86,
    "start_time": "2022-07-13T11:18:10.211Z"
   },
   {
    "duration": 2566,
    "start_time": "2022-07-13T11:18:18.762Z"
   },
   {
    "duration": 2562,
    "start_time": "2022-07-13T11:18:26.378Z"
   },
   {
    "duration": 52,
    "start_time": "2022-07-14T09:08:38.975Z"
   },
   {
    "duration": 748,
    "start_time": "2022-07-14T09:08:44.854Z"
   },
   {
    "duration": 2359,
    "start_time": "2022-07-14T09:08:48.057Z"
   },
   {
    "duration": 9,
    "start_time": "2022-07-14T09:08:53.718Z"
   },
   {
    "duration": 13,
    "start_time": "2022-07-14T09:11:08.617Z"
   },
   {
    "duration": 110,
    "start_time": "2022-07-14T09:15:10.163Z"
   },
   {
    "duration": 46,
    "start_time": "2022-07-14T09:15:21.915Z"
   },
   {
    "duration": 23,
    "start_time": "2022-07-14T09:15:24.988Z"
   },
   {
    "duration": 15,
    "start_time": "2022-07-14T09:15:44.916Z"
   },
   {
    "duration": 24,
    "start_time": "2022-07-14T09:22:10.627Z"
   },
   {
    "duration": 101,
    "start_time": "2022-07-14T09:22:27.491Z"
   },
   {
    "duration": 18,
    "start_time": "2022-07-14T09:22:52.845Z"
   },
   {
    "duration": 16,
    "start_time": "2022-07-14T09:23:07.749Z"
   },
   {
    "duration": 56,
    "start_time": "2022-07-14T09:25:17.772Z"
   },
   {
    "duration": 27,
    "start_time": "2022-07-14T11:45:55.798Z"
   },
   {
    "duration": 48,
    "start_time": "2022-07-14T11:46:33.494Z"
   },
   {
    "duration": 287,
    "start_time": "2022-07-14T11:49:21.389Z"
   },
   {
    "duration": 4,
    "start_time": "2022-07-14T11:52:39.921Z"
   },
   {
    "duration": 434,
    "start_time": "2022-07-14T12:00:04.637Z"
   },
   {
    "duration": 374,
    "start_time": "2022-07-14T12:00:13.542Z"
   },
   {
    "duration": 343,
    "start_time": "2022-07-14T12:00:42.571Z"
   },
   {
    "duration": 776,
    "start_time": "2022-07-15T05:33:56.021Z"
   },
   {
    "duration": 2453,
    "start_time": "2022-07-15T05:33:56.799Z"
   },
   {
    "duration": 242,
    "start_time": "2022-07-15T05:33:59.255Z"
   },
   {
    "duration": 331,
    "start_time": "2022-07-15T05:33:59.499Z"
   },
   {
    "duration": 563,
    "start_time": "2022-07-15T05:39:43.765Z"
   },
   {
    "duration": 383,
    "start_time": "2022-07-15T05:39:48.300Z"
   },
   {
    "duration": 506,
    "start_time": "2022-07-15T05:40:55.964Z"
   },
   {
    "duration": 445,
    "start_time": "2022-07-15T05:42:21.404Z"
   },
   {
    "duration": 574,
    "start_time": "2022-07-15T05:42:31.681Z"
   },
   {
    "duration": 451,
    "start_time": "2022-07-15T05:43:45.655Z"
   },
   {
    "duration": 219,
    "start_time": "2022-07-15T05:47:09.477Z"
   },
   {
    "duration": 23,
    "start_time": "2022-07-15T05:49:12.183Z"
   },
   {
    "duration": 19,
    "start_time": "2022-07-15T05:51:46.432Z"
   },
   {
    "duration": 26,
    "start_time": "2022-07-15T05:52:11.033Z"
   },
   {
    "duration": 144,
    "start_time": "2022-07-15T05:52:31.193Z"
   },
   {
    "duration": 24,
    "start_time": "2022-07-15T05:52:39.547Z"
   },
   {
    "duration": 20,
    "start_time": "2022-07-15T05:52:44.432Z"
   },
   {
    "duration": 29,
    "start_time": "2022-07-15T05:53:00.595Z"
   },
   {
    "duration": 47,
    "start_time": "2022-07-15T05:54:03.330Z"
   },
   {
    "duration": 29,
    "start_time": "2022-07-15T05:54:50.037Z"
   },
   {
    "duration": 41,
    "start_time": "2022-07-15T05:55:23.989Z"
   },
   {
    "duration": 37,
    "start_time": "2022-07-15T05:56:00.208Z"
   },
   {
    "duration": 34,
    "start_time": "2022-07-15T05:56:11.234Z"
   },
   {
    "duration": 116,
    "start_time": "2022-07-15T05:56:32.789Z"
   },
   {
    "duration": 53,
    "start_time": "2022-07-15T05:56:48.906Z"
   },
   {
    "duration": 37,
    "start_time": "2022-07-15T06:05:54.033Z"
   },
   {
    "duration": 32,
    "start_time": "2022-07-15T06:06:07.537Z"
   },
   {
    "duration": 75,
    "start_time": "2022-07-15T06:07:43.855Z"
   },
   {
    "duration": 31,
    "start_time": "2022-07-15T06:09:39.404Z"
   },
   {
    "duration": 29,
    "start_time": "2022-07-15T06:11:55.698Z"
   },
   {
    "duration": 34,
    "start_time": "2022-07-15T06:12:00.629Z"
   },
   {
    "duration": 29,
    "start_time": "2022-07-15T06:12:22.537Z"
   },
   {
    "duration": 21,
    "start_time": "2022-07-15T06:12:27.469Z"
   },
   {
    "duration": 129,
    "start_time": "2022-07-15T06:12:48.069Z"
   },
   {
    "duration": 25,
    "start_time": "2022-07-15T06:12:55.072Z"
   },
   {
    "duration": 42,
    "start_time": "2022-07-15T06:13:02.951Z"
   },
   {
    "duration": 51,
    "start_time": "2022-07-15T06:13:22.132Z"
   },
   {
    "duration": 316,
    "start_time": "2022-07-15T06:19:18.085Z"
   },
   {
    "duration": 320,
    "start_time": "2022-07-15T06:22:44.033Z"
   },
   {
    "duration": 389,
    "start_time": "2022-07-15T06:22:55.071Z"
   },
   {
    "duration": 410,
    "start_time": "2022-07-15T06:23:25.261Z"
   },
   {
    "duration": 341,
    "start_time": "2022-07-15T06:23:35.463Z"
   },
   {
    "duration": 72,
    "start_time": "2022-07-15T06:27:04.654Z"
   },
   {
    "duration": 296,
    "start_time": "2022-07-15T06:28:22.843Z"
   },
   {
    "duration": 298,
    "start_time": "2022-07-15T06:28:33.204Z"
   },
   {
    "duration": 351,
    "start_time": "2022-07-15T06:28:40.402Z"
   },
   {
    "duration": 456,
    "start_time": "2022-07-15T06:30:54.582Z"
   },
   {
    "duration": 301,
    "start_time": "2022-07-15T06:30:59.033Z"
   },
   {
    "duration": 351,
    "start_time": "2022-07-15T06:32:11.523Z"
   },
   {
    "duration": 335,
    "start_time": "2022-07-15T06:32:24.062Z"
   },
   {
    "duration": 364,
    "start_time": "2022-07-15T06:32:50.303Z"
   },
   {
    "duration": 340,
    "start_time": "2022-07-15T06:33:55.827Z"
   },
   {
    "duration": 320,
    "start_time": "2022-07-15T06:34:06.002Z"
   },
   {
    "duration": 307,
    "start_time": "2022-07-15T06:34:11.764Z"
   },
   {
    "duration": 317,
    "start_time": "2022-07-15T06:34:19.743Z"
   },
   {
    "duration": 390,
    "start_time": "2022-07-15T06:37:18.205Z"
   },
   {
    "duration": 312,
    "start_time": "2022-07-15T06:37:40.038Z"
   },
   {
    "duration": 109,
    "start_time": "2022-07-15T07:00:53.628Z"
   },
   {
    "duration": 2209,
    "start_time": "2022-07-15T07:00:53.741Z"
   },
   {
    "duration": 21,
    "start_time": "2022-07-15T07:00:55.952Z"
   },
   {
    "duration": 377,
    "start_time": "2022-07-15T07:00:55.975Z"
   },
   {
    "duration": 349,
    "start_time": "2022-07-15T07:00:56.355Z"
   },
   {
    "duration": 350,
    "start_time": "2022-07-15T07:00:56.706Z"
   },
   {
    "duration": 379,
    "start_time": "2022-07-15T07:04:20.425Z"
   },
   {
    "duration": 310,
    "start_time": "2022-07-15T07:05:46.536Z"
   },
   {
    "duration": 330,
    "start_time": "2022-07-15T07:05:56.767Z"
   },
   {
    "duration": 317,
    "start_time": "2022-07-15T07:07:56.059Z"
   },
   {
    "duration": 182,
    "start_time": "2022-07-15T07:09:14.140Z"
   },
   {
    "duration": 214,
    "start_time": "2022-07-15T07:09:19.134Z"
   },
   {
    "duration": 8,
    "start_time": "2022-07-15T07:09:42.244Z"
   },
   {
    "duration": 56,
    "start_time": "2022-07-15T07:09:47.704Z"
   },
   {
    "duration": 230,
    "start_time": "2022-07-15T07:09:54.061Z"
   },
   {
    "duration": 320,
    "start_time": "2022-07-15T07:10:22.024Z"
   },
   {
    "duration": 231,
    "start_time": "2022-07-15T07:10:27.193Z"
   },
   {
    "duration": 205,
    "start_time": "2022-07-15T07:11:49.488Z"
   },
   {
    "duration": 191,
    "start_time": "2022-07-15T07:11:55.468Z"
   },
   {
    "duration": 220,
    "start_time": "2022-07-15T07:12:01.062Z"
   },
   {
    "duration": 4,
    "start_time": "2022-07-15T07:14:19.275Z"
   },
   {
    "duration": 17,
    "start_time": "2022-07-15T07:14:37.125Z"
   },
   {
    "duration": 577,
    "start_time": "2022-07-15T07:15:18.762Z"
   },
   {
    "duration": 323,
    "start_time": "2022-07-15T07:21:37.567Z"
   },
   {
    "duration": 335,
    "start_time": "2022-07-15T07:22:29.307Z"
   },
   {
    "duration": 326,
    "start_time": "2022-07-15T07:22:53.773Z"
   },
   {
    "duration": 385,
    "start_time": "2022-07-15T07:23:02.073Z"
   },
   {
    "duration": 246,
    "start_time": "2022-07-15T07:30:39.253Z"
   },
   {
    "duration": 244,
    "start_time": "2022-07-15T07:30:55.261Z"
   },
   {
    "duration": 457,
    "start_time": "2022-07-15T07:31:02.512Z"
   },
   {
    "duration": 323,
    "start_time": "2022-07-15T07:31:33.572Z"
   },
   {
    "duration": 314,
    "start_time": "2022-07-15T07:35:28.651Z"
   },
   {
    "duration": 316,
    "start_time": "2022-07-15T07:35:35.108Z"
   },
   {
    "duration": 324,
    "start_time": "2022-07-15T07:38:08.265Z"
   },
   {
    "duration": 473,
    "start_time": "2022-07-15T07:38:30.228Z"
   },
   {
    "duration": 326,
    "start_time": "2022-07-15T07:42:31.924Z"
   },
   {
    "duration": 17,
    "start_time": "2022-07-15T07:43:58.077Z"
   },
   {
    "duration": 365,
    "start_time": "2022-07-15T07:44:46.807Z"
   },
   {
    "duration": 341,
    "start_time": "2022-07-15T07:45:57.056Z"
   },
   {
    "duration": 354,
    "start_time": "2022-07-15T07:46:20.768Z"
   },
   {
    "duration": 333,
    "start_time": "2022-07-15T07:46:24.446Z"
   },
   {
    "duration": 517,
    "start_time": "2022-07-15T07:46:51.035Z"
   },
   {
    "duration": 8,
    "start_time": "2022-07-15T07:52:54.661Z"
   },
   {
    "duration": 91,
    "start_time": "2022-07-15T07:53:09.531Z"
   },
   {
    "duration": 123,
    "start_time": "2022-07-15T07:53:18.331Z"
   },
   {
    "duration": 103,
    "start_time": "2022-07-15T07:54:07.050Z"
   },
   {
    "duration": 161,
    "start_time": "2022-07-15T08:04:19.963Z"
   },
   {
    "duration": 171,
    "start_time": "2022-07-15T08:04:32.203Z"
   },
   {
    "duration": 152,
    "start_time": "2022-07-15T08:05:25.149Z"
   },
   {
    "duration": 33,
    "start_time": "2022-07-15T08:05:29.791Z"
   },
   {
    "duration": 150,
    "start_time": "2022-07-15T08:05:36.825Z"
   },
   {
    "duration": 143,
    "start_time": "2022-07-15T08:05:49.821Z"
   },
   {
    "duration": 166,
    "start_time": "2022-07-15T08:06:20.896Z"
   },
   {
    "duration": 5,
    "start_time": "2022-07-15T08:06:45.147Z"
   },
   {
    "duration": 173,
    "start_time": "2022-07-15T08:06:48.057Z"
   },
   {
    "duration": 166,
    "start_time": "2022-07-15T08:07:37.805Z"
   },
   {
    "duration": 176,
    "start_time": "2022-07-15T08:08:24.999Z"
   },
   {
    "duration": 190,
    "start_time": "2022-07-15T08:11:34.759Z"
   },
   {
    "duration": 1487,
    "start_time": "2022-07-15T08:12:03.098Z"
   },
   {
    "duration": 235,
    "start_time": "2022-07-15T08:12:41.557Z"
   },
   {
    "duration": 184,
    "start_time": "2022-07-15T08:12:47.174Z"
   },
   {
    "duration": 148,
    "start_time": "2022-07-15T08:17:07.839Z"
   },
   {
    "duration": 3,
    "start_time": "2022-07-15T08:20:57.558Z"
   },
   {
    "duration": 161,
    "start_time": "2022-07-15T08:22:46.777Z"
   },
   {
    "duration": 179,
    "start_time": "2022-07-15T08:22:55.078Z"
   },
   {
    "duration": 51,
    "start_time": "2022-07-15T08:23:16.851Z"
   },
   {
    "duration": 3,
    "start_time": "2022-07-15T08:24:55.849Z"
   },
   {
    "duration": 149,
    "start_time": "2022-07-15T08:25:31.823Z"
   },
   {
    "duration": 166,
    "start_time": "2022-07-15T08:27:14.967Z"
   },
   {
    "duration": 161,
    "start_time": "2022-07-15T08:28:08.558Z"
   },
   {
    "duration": 172,
    "start_time": "2022-07-15T08:28:13.046Z"
   },
   {
    "duration": 173,
    "start_time": "2022-07-15T08:28:33.280Z"
   },
   {
    "duration": 323,
    "start_time": "2022-07-15T08:29:15.577Z"
   },
   {
    "duration": 57,
    "start_time": "2022-07-15T08:29:48.834Z"
   },
   {
    "duration": 29,
    "start_time": "2022-07-15T08:31:35.905Z"
   },
   {
    "duration": 25,
    "start_time": "2022-07-15T08:31:46.107Z"
   },
   {
    "duration": 147,
    "start_time": "2022-07-15T08:32:34.312Z"
   },
   {
    "duration": 178,
    "start_time": "2022-07-15T08:35:46.562Z"
   },
   {
    "duration": 166,
    "start_time": "2022-07-15T08:35:54.430Z"
   },
   {
    "duration": 169,
    "start_time": "2022-07-15T08:36:53.020Z"
   },
   {
    "duration": 317,
    "start_time": "2022-07-15T08:37:28.215Z"
   },
   {
    "duration": 168,
    "start_time": "2022-07-15T08:37:55.141Z"
   },
   {
    "duration": 13,
    "start_time": "2022-07-15T08:49:57.899Z"
   },
   {
    "duration": 28,
    "start_time": "2022-07-15T08:50:32.329Z"
   },
   {
    "duration": 23,
    "start_time": "2022-07-15T08:50:37.815Z"
   },
   {
    "duration": 29,
    "start_time": "2022-07-15T08:50:54.113Z"
   },
   {
    "duration": 44,
    "start_time": "2022-07-15T08:51:06.014Z"
   },
   {
    "duration": 3,
    "start_time": "2022-07-15T09:01:19.277Z"
   },
   {
    "duration": 3,
    "start_time": "2022-07-15T09:04:47.176Z"
   },
   {
    "duration": 645,
    "start_time": "2022-07-15T09:04:59.487Z"
   },
   {
    "duration": 3,
    "start_time": "2022-07-15T09:05:39.892Z"
   },
   {
    "duration": 307,
    "start_time": "2022-07-15T09:05:56.739Z"
   },
   {
    "duration": 329,
    "start_time": "2022-07-15T09:06:14.334Z"
   },
   {
    "duration": 163,
    "start_time": "2022-07-15T09:08:05.978Z"
   },
   {
    "duration": 167,
    "start_time": "2022-07-15T09:08:58.951Z"
   },
   {
    "duration": 3,
    "start_time": "2022-07-15T09:09:14.297Z"
   },
   {
    "duration": 164,
    "start_time": "2022-07-15T09:09:24.661Z"
   },
   {
    "duration": 3,
    "start_time": "2022-07-15T09:11:17.260Z"
   },
   {
    "duration": 640,
    "start_time": "2022-07-15T09:15:10.445Z"
   },
   {
    "duration": 224,
    "start_time": "2022-07-15T09:15:35.748Z"
   },
   {
    "duration": 469,
    "start_time": "2022-07-15T09:15:54.383Z"
   },
   {
    "duration": 210,
    "start_time": "2022-07-15T09:16:56.771Z"
   },
   {
    "duration": 255,
    "start_time": "2022-07-15T09:17:35.980Z"
   },
   {
    "duration": 201,
    "start_time": "2022-07-15T09:17:45.155Z"
   },
   {
    "duration": 220,
    "start_time": "2022-07-15T09:17:49.042Z"
   },
   {
    "duration": 201,
    "start_time": "2022-07-15T09:17:56.285Z"
   },
   {
    "duration": 229,
    "start_time": "2022-07-15T09:18:09.469Z"
   },
   {
    "duration": 254,
    "start_time": "2022-07-15T09:19:22.401Z"
   },
   {
    "duration": 400,
    "start_time": "2022-07-15T09:19:29.383Z"
   },
   {
    "duration": 274,
    "start_time": "2022-07-15T09:20:16.019Z"
   },
   {
    "duration": 209,
    "start_time": "2022-07-15T09:20:23.322Z"
   },
   {
    "duration": 230,
    "start_time": "2022-07-15T09:21:22.708Z"
   },
   {
    "duration": 191,
    "start_time": "2022-07-15T09:21:29.838Z"
   },
   {
    "duration": 197,
    "start_time": "2022-07-15T09:22:19.600Z"
   },
   {
    "duration": 202,
    "start_time": "2022-07-15T09:22:24.564Z"
   },
   {
    "duration": 5,
    "start_time": "2022-07-15T09:25:42.479Z"
   },
   {
    "duration": 4,
    "start_time": "2022-07-15T09:27:17.080Z"
   },
   {
    "duration": 6,
    "start_time": "2022-07-15T09:27:44.895Z"
   },
   {
    "duration": 4,
    "start_time": "2022-07-15T09:27:51.226Z"
   },
   {
    "duration": 176,
    "start_time": "2022-07-15T09:29:59.249Z"
   },
   {
    "duration": 189,
    "start_time": "2022-07-15T09:30:11.106Z"
   },
   {
    "duration": 174,
    "start_time": "2022-07-15T09:30:23.350Z"
   },
   {
    "duration": 1015,
    "start_time": "2022-07-15T09:31:38.145Z"
   },
   {
    "duration": 33,
    "start_time": "2022-07-15T09:32:14.592Z"
   },
   {
    "duration": 828,
    "start_time": "2022-07-15T09:32:28.149Z"
   },
   {
    "duration": 20,
    "start_time": "2022-07-15T09:33:24.365Z"
   },
   {
    "duration": 21,
    "start_time": "2022-07-15T09:33:32.322Z"
   },
   {
    "duration": 29,
    "start_time": "2022-07-15T09:34:11.765Z"
   },
   {
    "duration": 352,
    "start_time": "2022-07-15T09:43:31.225Z"
   },
   {
    "duration": 53,
    "start_time": "2022-07-15T09:43:38.190Z"
   },
   {
    "duration": 373,
    "start_time": "2022-07-15T09:43:48.182Z"
   },
   {
    "duration": 296,
    "start_time": "2022-07-15T09:44:43.789Z"
   },
   {
    "duration": 552,
    "start_time": "2022-07-15T09:44:46.817Z"
   },
   {
    "duration": 309,
    "start_time": "2022-07-15T09:44:49.938Z"
   },
   {
    "duration": 321,
    "start_time": "2022-07-15T09:44:52.941Z"
   },
   {
    "duration": 331,
    "start_time": "2022-07-15T09:44:56.529Z"
   },
   {
    "duration": 334,
    "start_time": "2022-07-15T09:44:59.796Z"
   },
   {
    "duration": 311,
    "start_time": "2022-07-15T09:45:03.768Z"
   },
   {
    "duration": 532,
    "start_time": "2022-07-15T09:45:06.747Z"
   },
   {
    "duration": 320,
    "start_time": "2022-07-15T09:45:16.460Z"
   },
   {
    "duration": 321,
    "start_time": "2022-07-15T09:45:20.843Z"
   },
   {
    "duration": 297,
    "start_time": "2022-07-15T09:45:24.291Z"
   },
   {
    "duration": 339,
    "start_time": "2022-07-15T09:45:43.865Z"
   },
   {
    "duration": 490,
    "start_time": "2022-07-15T09:46:08.645Z"
   },
   {
    "duration": 314,
    "start_time": "2022-07-15T09:46:33.555Z"
   },
   {
    "duration": 325,
    "start_time": "2022-07-15T09:46:37.332Z"
   },
   {
    "duration": 328,
    "start_time": "2022-07-15T09:46:40.758Z"
   },
   {
    "duration": 337,
    "start_time": "2022-07-15T09:46:44.287Z"
   },
   {
    "duration": 334,
    "start_time": "2022-07-15T09:46:50.793Z"
   },
   {
    "duration": 468,
    "start_time": "2022-07-15T09:46:54.266Z"
   },
   {
    "duration": 313,
    "start_time": "2022-07-15T09:47:03.031Z"
   },
   {
    "duration": 299,
    "start_time": "2022-07-15T09:47:05.740Z"
   },
   {
    "duration": 313,
    "start_time": "2022-07-15T09:47:12.721Z"
   },
   {
    "duration": 304,
    "start_time": "2022-07-15T09:47:15.747Z"
   },
   {
    "duration": 435,
    "start_time": "2022-07-15T09:47:19.419Z"
   },
   {
    "duration": 310,
    "start_time": "2022-07-15T09:47:27.721Z"
   },
   {
    "duration": 293,
    "start_time": "2022-07-15T09:47:37.662Z"
   },
   {
    "duration": 370,
    "start_time": "2022-07-15T09:47:41.535Z"
   },
   {
    "duration": 301,
    "start_time": "2022-07-15T09:47:44.350Z"
   },
   {
    "duration": 332,
    "start_time": "2022-07-15T09:47:50.721Z"
   },
   {
    "duration": 477,
    "start_time": "2022-07-15T09:47:56.178Z"
   },
   {
    "duration": 330,
    "start_time": "2022-07-15T09:48:00.302Z"
   },
   {
    "duration": 316,
    "start_time": "2022-07-15T09:48:21.087Z"
   },
   {
    "duration": 305,
    "start_time": "2022-07-15T09:48:28.255Z"
   },
   {
    "duration": 286,
    "start_time": "2022-07-15T09:48:33.170Z"
   },
   {
    "duration": 447,
    "start_time": "2022-07-15T09:48:50.415Z"
   },
   {
    "duration": 305,
    "start_time": "2022-07-15T09:49:28.444Z"
   },
   {
    "duration": 314,
    "start_time": "2022-07-15T09:49:36.823Z"
   },
   {
    "duration": 288,
    "start_time": "2022-07-15T09:49:43.020Z"
   },
   {
    "duration": 291,
    "start_time": "2022-07-15T09:49:54.747Z"
   },
   {
    "duration": 439,
    "start_time": "2022-07-15T09:50:03.376Z"
   },
   {
    "duration": 300,
    "start_time": "2022-07-15T09:50:11.822Z"
   },
   {
    "duration": 307,
    "start_time": "2022-07-15T09:50:18.360Z"
   },
   {
    "duration": 309,
    "start_time": "2022-07-15T09:50:20.836Z"
   },
   {
    "duration": 291,
    "start_time": "2022-07-15T09:50:22.492Z"
   },
   {
    "duration": 353,
    "start_time": "2022-07-15T09:50:31.294Z"
   },
   {
    "duration": 472,
    "start_time": "2022-07-15T09:50:45.146Z"
   },
   {
    "duration": 288,
    "start_time": "2022-07-15T09:50:53.639Z"
   },
   {
    "duration": 301,
    "start_time": "2022-07-15T09:50:57.945Z"
   },
   {
    "duration": 296,
    "start_time": "2022-07-15T09:51:01.779Z"
   },
   {
    "duration": 289,
    "start_time": "2022-07-15T09:51:06.770Z"
   },
   {
    "duration": 460,
    "start_time": "2022-07-15T09:51:10.823Z"
   },
   {
    "duration": 308,
    "start_time": "2022-07-15T09:51:21.801Z"
   },
   {
    "duration": 279,
    "start_time": "2022-07-15T09:51:30.201Z"
   },
   {
    "duration": 306,
    "start_time": "2022-07-15T09:53:03.271Z"
   },
   {
    "duration": 294,
    "start_time": "2022-07-15T09:53:09.782Z"
   },
   {
    "duration": 302,
    "start_time": "2022-07-15T09:53:14.353Z"
   },
   {
    "duration": 417,
    "start_time": "2022-07-15T09:53:17.419Z"
   },
   {
    "duration": 274,
    "start_time": "2022-07-15T09:53:29.043Z"
   },
   {
    "duration": 278,
    "start_time": "2022-07-15T09:53:34.063Z"
   },
   {
    "duration": 302,
    "start_time": "2022-07-15T09:53:39.908Z"
   },
   {
    "duration": 284,
    "start_time": "2022-07-15T09:53:53.157Z"
   },
   {
    "duration": 425,
    "start_time": "2022-07-15T09:53:58.139Z"
   },
   {
    "duration": 99,
    "start_time": "2022-07-15T09:54:13.927Z"
   },
   {
    "duration": 20,
    "start_time": "2022-07-15T09:54:42.735Z"
   },
   {
    "duration": 101,
    "start_time": "2022-07-15T09:54:52.290Z"
   },
   {
    "duration": 33,
    "start_time": "2022-07-15T09:56:28.342Z"
   },
   {
    "duration": 25,
    "start_time": "2022-07-15T09:57:42.232Z"
   },
   {
    "duration": 22,
    "start_time": "2022-07-15T09:58:01.917Z"
   },
   {
    "duration": 20,
    "start_time": "2022-07-15T09:58:20.610Z"
   },
   {
    "duration": 459,
    "start_time": "2022-07-15T10:02:48.598Z"
   },
   {
    "duration": 527,
    "start_time": "2022-07-15T10:03:05.321Z"
   },
   {
    "duration": 431,
    "start_time": "2022-07-15T10:03:22.162Z"
   },
   {
    "duration": 584,
    "start_time": "2022-07-15T10:03:34.699Z"
   },
   {
    "duration": 620,
    "start_time": "2022-07-15T10:04:01.265Z"
   },
   {
    "duration": 563,
    "start_time": "2022-07-15T10:04:13.024Z"
   },
   {
    "duration": 30,
    "start_time": "2022-07-15T10:05:09.003Z"
   },
   {
    "duration": 107,
    "start_time": "2022-07-15T10:05:35.138Z"
   },
   {
    "duration": 128,
    "start_time": "2022-07-15T10:05:38.648Z"
   },
   {
    "duration": 2073,
    "start_time": "2022-07-15T10:05:38.779Z"
   },
   {
    "duration": 21,
    "start_time": "2022-07-15T10:05:40.854Z"
   },
   {
    "duration": 553,
    "start_time": "2022-07-15T10:05:40.877Z"
   },
   {
    "duration": 417,
    "start_time": "2022-07-15T10:05:41.431Z"
   },
   {
    "duration": 382,
    "start_time": "2022-07-15T10:05:41.849Z"
   },
   {
    "duration": 312,
    "start_time": "2022-07-15T10:05:42.232Z"
   },
   {
    "duration": 327,
    "start_time": "2022-07-15T10:05:42.546Z"
   },
   {
    "duration": 223,
    "start_time": "2022-07-15T10:05:42.875Z"
   },
   {
    "duration": 236,
    "start_time": "2022-07-15T10:05:43.101Z"
   },
   {
    "duration": 386,
    "start_time": "2022-07-15T10:05:43.339Z"
   },
   {
    "duration": 448,
    "start_time": "2022-07-15T10:05:43.727Z"
   },
   {
    "duration": 0,
    "start_time": "2022-07-15T10:05:44.177Z"
   },
   {
    "duration": 0,
    "start_time": "2022-07-15T10:05:44.178Z"
   },
   {
    "duration": 0,
    "start_time": "2022-07-15T10:05:44.179Z"
   },
   {
    "duration": 0,
    "start_time": "2022-07-15T10:05:44.180Z"
   },
   {
    "duration": 0,
    "start_time": "2022-07-15T10:05:44.182Z"
   },
   {
    "duration": 0,
    "start_time": "2022-07-15T10:05:44.183Z"
   },
   {
    "duration": 0,
    "start_time": "2022-07-15T10:05:44.184Z"
   },
   {
    "duration": 0,
    "start_time": "2022-07-15T10:05:44.185Z"
   },
   {
    "duration": 0,
    "start_time": "2022-07-15T10:05:44.186Z"
   },
   {
    "duration": 0,
    "start_time": "2022-07-15T10:05:44.188Z"
   },
   {
    "duration": 0,
    "start_time": "2022-07-15T10:05:44.209Z"
   },
   {
    "duration": 0,
    "start_time": "2022-07-15T10:05:44.210Z"
   },
   {
    "duration": 0,
    "start_time": "2022-07-15T10:05:44.211Z"
   },
   {
    "duration": 0,
    "start_time": "2022-07-15T10:05:44.211Z"
   },
   {
    "duration": 0,
    "start_time": "2022-07-15T10:05:44.212Z"
   },
   {
    "duration": 0,
    "start_time": "2022-07-15T10:05:44.215Z"
   },
   {
    "duration": 0,
    "start_time": "2022-07-15T10:05:44.215Z"
   },
   {
    "duration": 0,
    "start_time": "2022-07-15T10:05:44.216Z"
   },
   {
    "duration": 0,
    "start_time": "2022-07-15T10:05:44.217Z"
   },
   {
    "duration": 2851,
    "start_time": "2022-07-15T10:05:59.797Z"
   },
   {
    "duration": 2734,
    "start_time": "2022-07-15T10:06:06.495Z"
   },
   {
    "duration": 22,
    "start_time": "2022-07-15T10:06:34.014Z"
   },
   {
    "duration": 25,
    "start_time": "2022-07-15T10:06:56.505Z"
   },
   {
    "duration": 34,
    "start_time": "2022-07-15T10:09:48.906Z"
   },
   {
    "duration": 24,
    "start_time": "2022-07-15T10:12:06.626Z"
   },
   {
    "duration": 37,
    "start_time": "2022-07-15T10:12:24.107Z"
   },
   {
    "duration": 37,
    "start_time": "2022-07-15T10:12:41.037Z"
   },
   {
    "duration": 31,
    "start_time": "2022-07-15T10:15:06.693Z"
   },
   {
    "duration": 555,
    "start_time": "2022-07-15T10:15:09.810Z"
   },
   {
    "duration": 397,
    "start_time": "2022-07-15T10:15:31.806Z"
   },
   {
    "duration": 336,
    "start_time": "2022-07-15T10:16:02.168Z"
   },
   {
    "duration": 316,
    "start_time": "2022-07-15T10:16:22.174Z"
   },
   {
    "duration": 342,
    "start_time": "2022-07-15T10:18:21.890Z"
   },
   {
    "duration": 355,
    "start_time": "2022-07-15T10:18:59.477Z"
   },
   {
    "duration": 326,
    "start_time": "2022-07-15T10:19:02.752Z"
   },
   {
    "duration": 378,
    "start_time": "2022-07-15T10:19:06.656Z"
   },
   {
    "duration": 369,
    "start_time": "2022-07-15T10:19:11.268Z"
   },
   {
    "duration": 594,
    "start_time": "2022-07-15T10:19:15.658Z"
   },
   {
    "duration": 339,
    "start_time": "2022-07-15T10:19:20.349Z"
   },
   {
    "duration": 332,
    "start_time": "2022-07-15T10:19:26.707Z"
   },
   {
    "duration": 308,
    "start_time": "2022-07-15T10:19:29.636Z"
   },
   {
    "duration": 316,
    "start_time": "2022-07-15T10:19:41.752Z"
   },
   {
    "duration": 315,
    "start_time": "2022-07-15T10:19:53.344Z"
   },
   {
    "duration": 334,
    "start_time": "2022-07-15T10:19:58.174Z"
   },
   {
    "duration": 376,
    "start_time": "2022-07-15T10:20:00.485Z"
   },
   {
    "duration": 205,
    "start_time": "2022-07-15T10:21:13.151Z"
   },
   {
    "duration": 211,
    "start_time": "2022-07-15T10:21:17.575Z"
   },
   {
    "duration": 194,
    "start_time": "2022-07-15T10:21:20.563Z"
   },
   {
    "duration": 474,
    "start_time": "2022-07-15T10:21:23.202Z"
   },
   {
    "duration": 206,
    "start_time": "2022-07-15T10:21:25.976Z"
   },
   {
    "duration": 193,
    "start_time": "2022-07-15T10:21:28.577Z"
   },
   {
    "duration": 26,
    "start_time": "2022-07-15T10:23:09.155Z"
   },
   {
    "duration": 27,
    "start_time": "2022-07-15T10:23:20.650Z"
   },
   {
    "duration": 28,
    "start_time": "2022-07-15T10:23:22.953Z"
   },
   {
    "duration": 27,
    "start_time": "2022-07-15T10:23:24.754Z"
   },
   {
    "duration": 25,
    "start_time": "2022-07-15T10:24:14.309Z"
   },
   {
    "duration": 30,
    "start_time": "2022-07-15T10:26:08.600Z"
   },
   {
    "duration": 42,
    "start_time": "2022-07-15T10:26:59.521Z"
   },
   {
    "duration": 1931,
    "start_time": "2022-07-15T10:29:04.585Z"
   },
   {
    "duration": 952,
    "start_time": "2022-07-15T10:29:10.506Z"
   },
   {
    "duration": 1906,
    "start_time": "2022-07-15T10:29:15.995Z"
   },
   {
    "duration": 22,
    "start_time": "2022-07-15T10:29:56.138Z"
   },
   {
    "duration": 9,
    "start_time": "2022-07-15T10:30:20.635Z"
   },
   {
    "duration": 9,
    "start_time": "2022-07-15T10:30:22.679Z"
   },
   {
    "duration": 8,
    "start_time": "2022-07-15T10:30:34.431Z"
   },
   {
    "duration": 12,
    "start_time": "2022-07-15T10:31:09.585Z"
   },
   {
    "duration": 12,
    "start_time": "2022-07-15T10:31:31.774Z"
   },
   {
    "duration": 125,
    "start_time": "2022-07-15T10:33:25.448Z"
   },
   {
    "duration": 50,
    "start_time": "2022-07-15T10:33:49.148Z"
   },
   {
    "duration": 57,
    "start_time": "2022-07-15T10:33:55.781Z"
   },
   {
    "duration": 126,
    "start_time": "2022-07-15T10:34:02.372Z"
   },
   {
    "duration": 132,
    "start_time": "2022-07-15T10:34:09.802Z"
   },
   {
    "duration": 241,
    "start_time": "2022-07-15T10:34:19.988Z"
   },
   {
    "duration": 119,
    "start_time": "2022-07-15T10:34:25.571Z"
   },
   {
    "duration": 2,
    "start_time": "2022-07-15T10:40:35.751Z"
   },
   {
    "duration": 27,
    "start_time": "2022-07-15T10:43:34.949Z"
   },
   {
    "duration": 568,
    "start_time": "2022-07-15T10:48:02.884Z"
   },
   {
    "duration": 101,
    "start_time": "2022-07-15T11:03:02.989Z"
   },
   {
    "duration": 1872,
    "start_time": "2022-07-15T11:03:03.092Z"
   },
   {
    "duration": 23,
    "start_time": "2022-07-15T11:03:04.966Z"
   },
   {
    "duration": 334,
    "start_time": "2022-07-15T11:03:04.991Z"
   },
   {
    "duration": 321,
    "start_time": "2022-07-15T11:03:05.328Z"
   },
   {
    "duration": 310,
    "start_time": "2022-07-15T11:03:05.651Z"
   },
   {
    "duration": 574,
    "start_time": "2022-07-15T11:03:05.963Z"
   },
   {
    "duration": 323,
    "start_time": "2022-07-15T11:03:06.538Z"
   },
   {
    "duration": 206,
    "start_time": "2022-07-15T11:03:06.863Z"
   },
   {
    "duration": 233,
    "start_time": "2022-07-15T11:03:07.070Z"
   },
   {
    "duration": 218,
    "start_time": "2022-07-15T11:03:07.304Z"
   },
   {
    "duration": 131,
    "start_time": "2022-07-15T11:03:07.524Z"
   },
   {
    "duration": 214,
    "start_time": "2022-07-15T11:03:07.656Z"
   },
   {
    "duration": 232,
    "start_time": "2022-07-15T11:03:07.872Z"
   },
   {
    "duration": 223,
    "start_time": "2022-07-15T11:03:08.109Z"
   },
   {
    "duration": 208,
    "start_time": "2022-07-15T11:03:08.335Z"
   },
   {
    "duration": 201,
    "start_time": "2022-07-15T11:03:08.545Z"
   },
   {
    "duration": 221,
    "start_time": "2022-07-15T11:03:08.749Z"
   },
   {
    "duration": 305,
    "start_time": "2022-07-15T11:03:08.972Z"
   },
   {
    "duration": 301,
    "start_time": "2022-07-15T11:03:09.278Z"
   },
   {
    "duration": 104,
    "start_time": "2022-07-15T11:03:09.581Z"
   },
   {
    "duration": 149,
    "start_time": "2022-07-15T11:03:09.687Z"
   },
   {
    "duration": 188,
    "start_time": "2022-07-15T11:03:09.837Z"
   },
   {
    "duration": 438,
    "start_time": "2022-07-15T11:03:10.027Z"
   },
   {
    "duration": 188,
    "start_time": "2022-07-15T11:03:10.467Z"
   },
   {
    "duration": 168,
    "start_time": "2022-07-15T11:03:10.658Z"
   },
   {
    "duration": 188,
    "start_time": "2022-07-15T11:03:10.829Z"
   },
   {
    "duration": 177,
    "start_time": "2022-07-15T11:03:11.024Z"
   },
   {
    "duration": 164,
    "start_time": "2022-07-15T11:03:11.209Z"
   },
   {
    "duration": 53,
    "start_time": "2022-07-15T11:03:11.375Z"
   },
   {
    "duration": 32,
    "start_time": "2022-07-15T11:03:11.430Z"
   },
   {
    "duration": 728,
    "start_time": "2022-07-16T07:34:38.102Z"
   },
   {
    "duration": 2328,
    "start_time": "2022-07-16T07:34:38.832Z"
   },
   {
    "duration": 23,
    "start_time": "2022-07-16T07:34:41.162Z"
   },
   {
    "duration": 304,
    "start_time": "2022-07-16T07:34:41.186Z"
   },
   {
    "duration": 316,
    "start_time": "2022-07-16T07:34:41.492Z"
   },
   {
    "duration": 372,
    "start_time": "2022-07-16T07:34:41.810Z"
   },
   {
    "duration": 308,
    "start_time": "2022-07-16T07:34:42.183Z"
   },
   {
    "duration": 300,
    "start_time": "2022-07-16T07:34:42.493Z"
   },
   {
    "duration": 207,
    "start_time": "2022-07-16T07:34:42.795Z"
   },
   {
    "duration": 218,
    "start_time": "2022-07-16T07:34:43.004Z"
   },
   {
    "duration": 205,
    "start_time": "2022-07-16T07:34:43.224Z"
   },
   {
    "duration": 122,
    "start_time": "2022-07-16T07:34:43.431Z"
   },
   {
    "duration": 222,
    "start_time": "2022-07-16T07:34:43.555Z"
   },
   {
    "duration": 363,
    "start_time": "2022-07-16T07:34:43.779Z"
   },
   {
    "duration": 227,
    "start_time": "2022-07-16T07:34:44.144Z"
   },
   {
    "duration": 214,
    "start_time": "2022-07-16T07:34:44.373Z"
   },
   {
    "duration": 203,
    "start_time": "2022-07-16T07:34:44.588Z"
   },
   {
    "duration": 228,
    "start_time": "2022-07-16T07:34:44.793Z"
   },
   {
    "duration": 365,
    "start_time": "2022-07-16T07:34:45.023Z"
   },
   {
    "duration": 334,
    "start_time": "2022-07-16T07:34:45.390Z"
   },
   {
    "duration": 100,
    "start_time": "2022-07-16T07:34:45.725Z"
   },
   {
    "duration": 163,
    "start_time": "2022-07-16T07:34:45.826Z"
   },
   {
    "duration": 246,
    "start_time": "2022-07-16T07:34:45.991Z"
   },
   {
    "duration": 144,
    "start_time": "2022-07-16T07:34:46.239Z"
   },
   {
    "duration": 160,
    "start_time": "2022-07-16T07:34:46.385Z"
   },
   {
    "duration": 154,
    "start_time": "2022-07-16T07:34:46.548Z"
   },
   {
    "duration": 183,
    "start_time": "2022-07-16T07:34:46.704Z"
   },
   {
    "duration": 166,
    "start_time": "2022-07-16T07:34:46.888Z"
   },
   {
    "duration": 170,
    "start_time": "2022-07-16T07:34:47.056Z"
   },
   {
    "duration": 29,
    "start_time": "2022-07-16T07:34:47.227Z"
   },
   {
    "duration": 21,
    "start_time": "2022-07-16T07:34:47.258Z"
   },
   {
    "duration": 341,
    "start_time": "2022-07-16T07:35:02.101Z"
   },
   {
    "duration": 302,
    "start_time": "2022-07-16T07:35:11.304Z"
   },
   {
    "duration": 382,
    "start_time": "2022-07-16T07:35:23.290Z"
   },
   {
    "duration": 328,
    "start_time": "2022-07-16T07:35:31.271Z"
   },
   {
    "duration": 287,
    "start_time": "2022-07-16T07:35:42.285Z"
   },
   {
    "duration": 292,
    "start_time": "2022-07-16T07:35:47.319Z"
   },
   {
    "duration": 277,
    "start_time": "2022-07-16T07:35:49.870Z"
   },
   {
    "duration": 451,
    "start_time": "2022-07-16T07:35:55.061Z"
   },
   {
    "duration": 270,
    "start_time": "2022-07-16T07:35:58.072Z"
   },
   {
    "duration": 319,
    "start_time": "2022-07-16T07:36:00.220Z"
   },
   {
    "duration": 98,
    "start_time": "2022-07-16T07:36:07.420Z"
   },
   {
    "duration": 1951,
    "start_time": "2022-07-16T07:36:07.521Z"
   },
   {
    "duration": 30,
    "start_time": "2022-07-16T07:36:09.474Z"
   },
   {
    "duration": 297,
    "start_time": "2022-07-16T07:36:09.506Z"
   },
   {
    "duration": 342,
    "start_time": "2022-07-16T07:36:09.805Z"
   },
   {
    "duration": 302,
    "start_time": "2022-07-16T07:36:10.149Z"
   },
   {
    "duration": 393,
    "start_time": "2022-07-16T07:36:10.453Z"
   },
   {
    "duration": 288,
    "start_time": "2022-07-16T07:36:10.848Z"
   },
   {
    "duration": 198,
    "start_time": "2022-07-16T07:36:11.138Z"
   },
   {
    "duration": 203,
    "start_time": "2022-07-16T07:36:11.338Z"
   },
   {
    "duration": 191,
    "start_time": "2022-07-16T07:36:11.542Z"
   },
   {
    "duration": 126,
    "start_time": "2022-07-16T07:36:11.735Z"
   },
   {
    "duration": 211,
    "start_time": "2022-07-16T07:36:11.862Z"
   },
   {
    "duration": 215,
    "start_time": "2022-07-16T07:36:12.074Z"
   },
   {
    "duration": 196,
    "start_time": "2022-07-16T07:36:12.291Z"
   },
   {
    "duration": 198,
    "start_time": "2022-07-16T07:36:12.488Z"
   },
   {
    "duration": 290,
    "start_time": "2022-07-16T07:36:12.688Z"
   },
   {
    "duration": 182,
    "start_time": "2022-07-16T07:36:12.979Z"
   },
   {
    "duration": 280,
    "start_time": "2022-07-16T07:36:13.163Z"
   },
   {
    "duration": 286,
    "start_time": "2022-07-16T07:36:13.445Z"
   },
   {
    "duration": 99,
    "start_time": "2022-07-16T07:36:13.732Z"
   },
   {
    "duration": 164,
    "start_time": "2022-07-16T07:36:13.832Z"
   },
   {
    "duration": 175,
    "start_time": "2022-07-16T07:36:13.998Z"
   },
   {
    "duration": 147,
    "start_time": "2022-07-16T07:36:14.175Z"
   },
   {
    "duration": 181,
    "start_time": "2022-07-16T07:36:14.324Z"
   },
   {
    "duration": 152,
    "start_time": "2022-07-16T07:36:14.506Z"
   },
   {
    "duration": 178,
    "start_time": "2022-07-16T07:36:14.660Z"
   },
   {
    "duration": 322,
    "start_time": "2022-07-16T07:36:14.841Z"
   },
   {
    "duration": 200,
    "start_time": "2022-07-16T07:36:15.166Z"
   },
   {
    "duration": 56,
    "start_time": "2022-07-16T07:36:15.368Z"
   },
   {
    "duration": 28,
    "start_time": "2022-07-16T07:36:15.425Z"
   },
   {
    "duration": 291,
    "start_time": "2022-07-16T07:36:20.526Z"
   },
   {
    "duration": 307,
    "start_time": "2022-07-16T07:36:23.861Z"
   },
   {
    "duration": 292,
    "start_time": "2022-07-16T07:36:26.805Z"
   },
   {
    "duration": 96,
    "start_time": "2022-07-16T07:36:33.024Z"
   },
   {
    "duration": 1891,
    "start_time": "2022-07-16T07:36:33.122Z"
   },
   {
    "duration": 22,
    "start_time": "2022-07-16T07:36:35.015Z"
   },
   {
    "duration": 362,
    "start_time": "2022-07-16T07:36:35.039Z"
   },
   {
    "duration": 312,
    "start_time": "2022-07-16T07:36:35.403Z"
   },
   {
    "duration": 385,
    "start_time": "2022-07-16T07:36:35.717Z"
   },
   {
    "duration": 283,
    "start_time": "2022-07-16T07:36:36.104Z"
   },
   {
    "duration": 292,
    "start_time": "2022-07-16T07:36:36.389Z"
   },
   {
    "duration": 213,
    "start_time": "2022-07-16T07:36:36.683Z"
   },
   {
    "duration": 205,
    "start_time": "2022-07-16T07:36:36.898Z"
   },
   {
    "duration": 204,
    "start_time": "2022-07-16T07:36:37.104Z"
   },
   {
    "duration": 135,
    "start_time": "2022-07-16T07:36:37.310Z"
   },
   {
    "duration": 224,
    "start_time": "2022-07-16T07:36:37.447Z"
   },
   {
    "duration": 217,
    "start_time": "2022-07-16T07:36:37.673Z"
   },
   {
    "duration": 201,
    "start_time": "2022-07-16T07:36:37.891Z"
   },
   {
    "duration": 330,
    "start_time": "2022-07-16T07:36:38.094Z"
   },
   {
    "duration": 190,
    "start_time": "2022-07-16T07:36:38.426Z"
   },
   {
    "duration": 201,
    "start_time": "2022-07-16T07:36:38.618Z"
   },
   {
    "duration": 305,
    "start_time": "2022-07-16T07:36:38.820Z"
   },
   {
    "duration": 286,
    "start_time": "2022-07-16T07:36:39.127Z"
   },
   {
    "duration": 104,
    "start_time": "2022-07-16T07:36:39.415Z"
   },
   {
    "duration": 139,
    "start_time": "2022-07-16T07:36:39.521Z"
   },
   {
    "duration": 165,
    "start_time": "2022-07-16T07:36:39.662Z"
   },
   {
    "duration": 143,
    "start_time": "2022-07-16T07:36:39.829Z"
   },
   {
    "duration": 151,
    "start_time": "2022-07-16T07:36:39.974Z"
   },
   {
    "duration": 145,
    "start_time": "2022-07-16T07:36:40.127Z"
   },
   {
    "duration": 165,
    "start_time": "2022-07-16T07:36:40.274Z"
   },
   {
    "duration": 162,
    "start_time": "2022-07-16T07:36:40.442Z"
   },
   {
    "duration": 157,
    "start_time": "2022-07-16T07:36:40.605Z"
   },
   {
    "duration": 39,
    "start_time": "2022-07-16T07:36:40.763Z"
   },
   {
    "duration": 22,
    "start_time": "2022-07-16T07:36:40.803Z"
   },
   {
    "duration": 461,
    "start_time": "2022-07-16T07:36:44.766Z"
   },
   {
    "duration": 95,
    "start_time": "2022-07-16T07:36:50.367Z"
   },
   {
    "duration": 1890,
    "start_time": "2022-07-16T07:36:50.464Z"
   },
   {
    "duration": 20,
    "start_time": "2022-07-16T07:36:52.356Z"
   },
   {
    "duration": 429,
    "start_time": "2022-07-16T07:36:52.377Z"
   },
   {
    "duration": 305,
    "start_time": "2022-07-16T07:36:52.808Z"
   },
   {
    "duration": 293,
    "start_time": "2022-07-16T07:36:53.114Z"
   },
   {
    "duration": 285,
    "start_time": "2022-07-16T07:36:53.409Z"
   },
   {
    "duration": 331,
    "start_time": "2022-07-16T07:36:53.696Z"
   },
   {
    "duration": 204,
    "start_time": "2022-07-16T07:36:54.029Z"
   },
   {
    "duration": 195,
    "start_time": "2022-07-16T07:36:54.235Z"
   },
   {
    "duration": 194,
    "start_time": "2022-07-16T07:36:54.431Z"
   },
   {
    "duration": 124,
    "start_time": "2022-07-16T07:36:54.627Z"
   },
   {
    "duration": 206,
    "start_time": "2022-07-16T07:36:54.752Z"
   },
   {
    "duration": 234,
    "start_time": "2022-07-16T07:36:54.961Z"
   },
   {
    "duration": 407,
    "start_time": "2022-07-16T07:36:55.197Z"
   },
   {
    "duration": 189,
    "start_time": "2022-07-16T07:36:55.606Z"
   },
   {
    "duration": 180,
    "start_time": "2022-07-16T07:36:55.797Z"
   },
   {
    "duration": 184,
    "start_time": "2022-07-16T07:36:55.978Z"
   },
   {
    "duration": 278,
    "start_time": "2022-07-16T07:36:56.163Z"
   },
   {
    "duration": 276,
    "start_time": "2022-07-16T07:36:56.443Z"
   },
   {
    "duration": 94,
    "start_time": "2022-07-16T07:36:56.721Z"
   },
   {
    "duration": 149,
    "start_time": "2022-07-16T07:36:56.817Z"
   },
   {
    "duration": 158,
    "start_time": "2022-07-16T07:36:56.967Z"
   },
   {
    "duration": 141,
    "start_time": "2022-07-16T07:36:57.127Z"
   },
   {
    "duration": 151,
    "start_time": "2022-07-16T07:36:57.270Z"
   },
   {
    "duration": 160,
    "start_time": "2022-07-16T07:36:57.423Z"
   },
   {
    "duration": 169,
    "start_time": "2022-07-16T07:36:57.585Z"
   },
   {
    "duration": 172,
    "start_time": "2022-07-16T07:36:57.756Z"
   },
   {
    "duration": 150,
    "start_time": "2022-07-16T07:36:57.930Z"
   },
   {
    "duration": 42,
    "start_time": "2022-07-16T07:36:58.082Z"
   },
   {
    "duration": 21,
    "start_time": "2022-07-16T07:36:58.125Z"
   },
   {
    "duration": 108,
    "start_time": "2022-07-16T07:37:13.598Z"
   },
   {
    "duration": 2098,
    "start_time": "2022-07-16T07:37:13.708Z"
   },
   {
    "duration": 20,
    "start_time": "2022-07-16T07:37:15.808Z"
   },
   {
    "duration": 304,
    "start_time": "2022-07-16T07:37:15.830Z"
   },
   {
    "duration": 302,
    "start_time": "2022-07-16T07:37:16.137Z"
   },
   {
    "duration": 308,
    "start_time": "2022-07-16T07:37:16.441Z"
   },
   {
    "duration": 450,
    "start_time": "2022-07-16T07:37:16.751Z"
   },
   {
    "duration": 293,
    "start_time": "2022-07-16T07:37:17.202Z"
   },
   {
    "duration": 189,
    "start_time": "2022-07-16T07:37:17.500Z"
   },
   {
    "duration": 195,
    "start_time": "2022-07-16T07:37:17.691Z"
   },
   {
    "duration": 203,
    "start_time": "2022-07-16T07:37:17.888Z"
   },
   {
    "duration": 135,
    "start_time": "2022-07-16T07:37:18.093Z"
   },
   {
    "duration": 233,
    "start_time": "2022-07-16T07:37:18.230Z"
   },
   {
    "duration": 235,
    "start_time": "2022-07-16T07:37:18.466Z"
   },
   {
    "duration": 221,
    "start_time": "2022-07-16T07:37:18.702Z"
   },
   {
    "duration": 215,
    "start_time": "2022-07-16T07:37:18.925Z"
   },
   {
    "duration": 203,
    "start_time": "2022-07-16T07:37:19.141Z"
   },
   {
    "duration": 223,
    "start_time": "2022-07-16T07:37:19.346Z"
   },
   {
    "duration": 322,
    "start_time": "2022-07-16T07:37:19.571Z"
   },
   {
    "duration": 320,
    "start_time": "2022-07-16T07:37:19.900Z"
   },
   {
    "duration": 322,
    "start_time": "2022-07-16T07:37:20.222Z"
   },
   {
    "duration": 150,
    "start_time": "2022-07-16T07:37:20.545Z"
   },
   {
    "duration": 152,
    "start_time": "2022-07-16T07:37:20.700Z"
   },
   {
    "duration": 140,
    "start_time": "2022-07-16T07:37:20.853Z"
   },
   {
    "duration": 149,
    "start_time": "2022-07-16T07:37:21.000Z"
   },
   {
    "duration": 140,
    "start_time": "2022-07-16T07:37:21.151Z"
   },
   {
    "duration": 157,
    "start_time": "2022-07-16T07:37:21.300Z"
   },
   {
    "duration": 172,
    "start_time": "2022-07-16T07:37:21.459Z"
   },
   {
    "duration": 154,
    "start_time": "2022-07-16T07:37:21.632Z"
   },
   {
    "duration": 36,
    "start_time": "2022-07-16T07:37:21.787Z"
   },
   {
    "duration": 20,
    "start_time": "2022-07-16T07:37:21.825Z"
   },
   {
    "duration": 19,
    "start_time": "2022-07-16T07:42:57.692Z"
   },
   {
    "duration": 29,
    "start_time": "2022-07-16T07:45:12.842Z"
   },
   {
    "duration": 210,
    "start_time": "2022-07-16T08:12:06.745Z"
   },
   {
    "duration": 113,
    "start_time": "2022-07-16T08:12:12.934Z"
   },
   {
    "duration": 117,
    "start_time": "2022-07-16T08:12:21.772Z"
   },
   {
    "duration": 112,
    "start_time": "2022-07-16T08:12:34.751Z"
   },
   {
    "duration": 119,
    "start_time": "2022-07-16T08:27:48.053Z"
   },
   {
    "duration": 4,
    "start_time": "2022-07-16T08:56:46.668Z"
   },
   {
    "duration": 3,
    "start_time": "2022-07-16T09:27:59.883Z"
   },
   {
    "duration": 10,
    "start_time": "2022-07-16T09:28:03.330Z"
   },
   {
    "duration": 21,
    "start_time": "2022-07-16T09:33:06.596Z"
   },
   {
    "duration": 6,
    "start_time": "2022-07-16T09:33:39.790Z"
   },
   {
    "duration": 7,
    "start_time": "2022-07-16T09:41:38.633Z"
   },
   {
    "duration": 6,
    "start_time": "2022-07-16T09:41:44.072Z"
   },
   {
    "duration": 10,
    "start_time": "2022-07-16T09:41:52.048Z"
   },
   {
    "duration": 8,
    "start_time": "2022-07-16T09:41:54.680Z"
   },
   {
    "duration": 7,
    "start_time": "2022-07-16T09:42:04.823Z"
   },
   {
    "duration": 911,
    "start_time": "2022-07-16T09:43:42.035Z"
   },
   {
    "duration": 6,
    "start_time": "2022-07-16T09:43:56.328Z"
   },
   {
    "duration": 7,
    "start_time": "2022-07-16T09:44:01.928Z"
   },
   {
    "duration": 1316,
    "start_time": "2022-07-16T09:48:33.981Z"
   },
   {
    "duration": 1253,
    "start_time": "2022-07-16T09:48:46.756Z"
   },
   {
    "duration": 1278,
    "start_time": "2022-07-16T09:48:52.766Z"
   },
   {
    "duration": 1313,
    "start_time": "2022-07-16T09:49:16.370Z"
   },
   {
    "duration": 3,
    "start_time": "2022-07-16T09:51:11.200Z"
   },
   {
    "duration": 7,
    "start_time": "2022-07-16T09:53:52.202Z"
   },
   {
    "duration": 3,
    "start_time": "2022-07-16T09:54:04.830Z"
   },
   {
    "duration": 1314,
    "start_time": "2022-07-16T09:55:37.671Z"
   },
   {
    "duration": 94,
    "start_time": "2022-07-16T09:57:11.365Z"
   },
   {
    "duration": 1945,
    "start_time": "2022-07-16T09:57:11.461Z"
   },
   {
    "duration": 6,
    "start_time": "2022-07-16T09:57:13.408Z"
   },
   {
    "duration": 1360,
    "start_time": "2022-07-16T09:57:13.415Z"
   },
   {
    "duration": 1214,
    "start_time": "2022-07-16T09:57:14.778Z"
   },
   {
    "duration": 10,
    "start_time": "2022-07-16T09:57:15.993Z"
   },
   {
    "duration": 17,
    "start_time": "2022-07-16T09:57:16.004Z"
   },
   {
    "duration": 21,
    "start_time": "2022-07-16T09:57:16.022Z"
   },
   {
    "duration": 276,
    "start_time": "2022-07-16T09:57:16.045Z"
   },
   {
    "duration": 297,
    "start_time": "2022-07-16T09:57:16.323Z"
   },
   {
    "duration": 298,
    "start_time": "2022-07-16T09:57:16.623Z"
   },
   {
    "duration": 284,
    "start_time": "2022-07-16T09:57:16.922Z"
   },
   {
    "duration": 502,
    "start_time": "2022-07-16T09:57:17.208Z"
   },
   {
    "duration": 188,
    "start_time": "2022-07-16T09:57:17.712Z"
   },
   {
    "duration": 204,
    "start_time": "2022-07-16T09:57:17.902Z"
   },
   {
    "duration": 202,
    "start_time": "2022-07-16T09:57:18.108Z"
   },
   {
    "duration": 126,
    "start_time": "2022-07-16T09:57:18.312Z"
   },
   {
    "duration": 216,
    "start_time": "2022-07-16T09:57:18.440Z"
   },
   {
    "duration": 224,
    "start_time": "2022-07-16T09:57:18.658Z"
   },
   {
    "duration": 206,
    "start_time": "2022-07-16T09:57:18.884Z"
   },
   {
    "duration": 210,
    "start_time": "2022-07-16T09:57:19.091Z"
   },
   {
    "duration": 204,
    "start_time": "2022-07-16T09:57:19.302Z"
   },
   {
    "duration": 207,
    "start_time": "2022-07-16T09:57:19.507Z"
   },
   {
    "duration": 299,
    "start_time": "2022-07-16T09:57:19.716Z"
   },
   {
    "duration": 296,
    "start_time": "2022-07-16T09:57:20.017Z"
   },
   {
    "duration": 101,
    "start_time": "2022-07-16T09:57:20.315Z"
   },
   {
    "duration": 144,
    "start_time": "2022-07-16T09:57:20.418Z"
   },
   {
    "duration": 163,
    "start_time": "2022-07-16T09:57:20.564Z"
   },
   {
    "duration": 148,
    "start_time": "2022-07-16T09:57:20.730Z"
   },
   {
    "duration": 153,
    "start_time": "2022-07-16T09:57:20.879Z"
   },
   {
    "duration": 144,
    "start_time": "2022-07-16T09:57:21.034Z"
   },
   {
    "duration": 161,
    "start_time": "2022-07-16T09:57:21.179Z"
   },
   {
    "duration": 172,
    "start_time": "2022-07-16T09:57:21.342Z"
   },
   {
    "duration": 156,
    "start_time": "2022-07-16T09:57:21.516Z"
   },
   {
    "duration": 40,
    "start_time": "2022-07-16T09:57:21.674Z"
   },
   {
    "duration": 20,
    "start_time": "2022-07-16T09:57:21.716Z"
   },
   {
    "duration": 1774,
    "start_time": "2022-07-16T10:00:42.584Z"
   },
   {
    "duration": 48,
    "start_time": "2022-07-16T10:01:16.968Z"
   },
   {
    "duration": 1284,
    "start_time": "2022-07-16T10:03:39.647Z"
   },
   {
    "duration": 18,
    "start_time": "2022-07-16T10:05:25.168Z"
   },
   {
    "duration": 95,
    "start_time": "2022-07-16T10:05:46.535Z"
   },
   {
    "duration": 1935,
    "start_time": "2022-07-16T10:05:46.632Z"
   },
   {
    "duration": 8,
    "start_time": "2022-07-16T10:05:48.569Z"
   },
   {
    "duration": 1391,
    "start_time": "2022-07-16T10:05:48.579Z"
   },
   {
    "duration": 1272,
    "start_time": "2022-07-16T10:05:49.971Z"
   },
   {
    "duration": 1410,
    "start_time": "2022-07-16T10:05:51.244Z"
   },
   {
    "duration": 9,
    "start_time": "2022-07-16T10:05:52.656Z"
   },
   {
    "duration": 7,
    "start_time": "2022-07-16T10:05:52.666Z"
   },
   {
    "duration": 13,
    "start_time": "2022-07-16T10:05:52.674Z"
   },
   {
    "duration": 310,
    "start_time": "2022-07-16T10:05:52.689Z"
   },
   {
    "duration": 310,
    "start_time": "2022-07-16T10:05:53.001Z"
   },
   {
    "duration": 317,
    "start_time": "2022-07-16T10:05:53.313Z"
   },
   {
    "duration": 305,
    "start_time": "2022-07-16T10:05:53.632Z"
   },
   {
    "duration": 319,
    "start_time": "2022-07-16T10:05:53.938Z"
   },
   {
    "duration": 201,
    "start_time": "2022-07-16T10:05:54.259Z"
   },
   {
    "duration": 208,
    "start_time": "2022-07-16T10:05:54.462Z"
   },
   {
    "duration": 203,
    "start_time": "2022-07-16T10:05:54.673Z"
   },
   {
    "duration": 127,
    "start_time": "2022-07-16T10:05:54.878Z"
   },
   {
    "duration": 228,
    "start_time": "2022-07-16T10:05:55.007Z"
   },
   {
    "duration": 265,
    "start_time": "2022-07-16T10:05:55.238Z"
   },
   {
    "duration": 202,
    "start_time": "2022-07-16T10:05:55.505Z"
   },
   {
    "duration": 187,
    "start_time": "2022-07-16T10:05:55.708Z"
   },
   {
    "duration": 185,
    "start_time": "2022-07-16T10:05:55.897Z"
   },
   {
    "duration": 189,
    "start_time": "2022-07-16T10:05:56.084Z"
   },
   {
    "duration": 288,
    "start_time": "2022-07-16T10:05:56.275Z"
   },
   {
    "duration": 538,
    "start_time": "2022-07-16T10:05:56.565Z"
   },
   {
    "duration": 96,
    "start_time": "2022-07-16T10:05:57.105Z"
   },
   {
    "duration": 139,
    "start_time": "2022-07-16T10:05:57.204Z"
   },
   {
    "duration": 169,
    "start_time": "2022-07-16T10:05:57.344Z"
   },
   {
    "duration": 145,
    "start_time": "2022-07-16T10:05:57.515Z"
   },
   {
    "duration": 150,
    "start_time": "2022-07-16T10:05:57.662Z"
   },
   {
    "duration": 149,
    "start_time": "2022-07-16T10:05:57.813Z"
   },
   {
    "duration": 161,
    "start_time": "2022-07-16T10:05:57.964Z"
   },
   {
    "duration": 163,
    "start_time": "2022-07-16T10:05:58.127Z"
   },
   {
    "duration": 165,
    "start_time": "2022-07-16T10:05:58.301Z"
   },
   {
    "duration": 35,
    "start_time": "2022-07-16T10:05:58.468Z"
   },
   {
    "duration": 22,
    "start_time": "2022-07-16T10:05:58.505Z"
   },
   {
    "duration": 13,
    "start_time": "2022-07-16T10:11:59.419Z"
   },
   {
    "duration": 12,
    "start_time": "2022-07-16T10:13:01.318Z"
   },
   {
    "duration": 10,
    "start_time": "2022-07-16T10:13:21.359Z"
   },
   {
    "duration": 188,
    "start_time": "2022-07-16T10:13:36.366Z"
   },
   {
    "duration": 272,
    "start_time": "2022-07-16T10:17:11.633Z"
   },
   {
    "duration": 284,
    "start_time": "2022-07-16T10:17:20.766Z"
   },
   {
    "duration": 82,
    "start_time": "2022-07-16T11:04:59.985Z"
   },
   {
    "duration": 59,
    "start_time": "2022-07-16T11:17:00.667Z"
   },
   {
    "duration": 49,
    "start_time": "2022-07-16T11:17:03.426Z"
   },
   {
    "duration": 187,
    "start_time": "2022-07-16T11:17:07.770Z"
   },
   {
    "duration": 190,
    "start_time": "2022-07-16T11:18:10.269Z"
   },
   {
    "duration": 195,
    "start_time": "2022-07-16T11:18:18.675Z"
   },
   {
    "duration": 183,
    "start_time": "2022-07-16T11:18:33.493Z"
   },
   {
    "duration": 190,
    "start_time": "2022-07-16T11:18:38.712Z"
   },
   {
    "duration": 243,
    "start_time": "2022-07-16T11:18:45.161Z"
   },
   {
    "duration": 192,
    "start_time": "2022-07-16T11:19:00.761Z"
   },
   {
    "duration": 208,
    "start_time": "2022-07-16T11:20:02.478Z"
   },
   {
    "duration": 48,
    "start_time": "2022-07-18T10:37:19.373Z"
   },
   {
    "duration": 589,
    "start_time": "2022-07-18T10:37:22.696Z"
   },
   {
    "duration": 2439,
    "start_time": "2022-07-18T10:37:23.287Z"
   },
   {
    "duration": 9,
    "start_time": "2022-07-18T10:37:25.728Z"
   },
   {
    "duration": 1265,
    "start_time": "2022-07-18T10:37:25.740Z"
   },
   {
    "duration": 1382,
    "start_time": "2022-07-18T10:37:27.007Z"
   },
   {
    "duration": 1311,
    "start_time": "2022-07-18T10:37:28.391Z"
   },
   {
    "duration": 10,
    "start_time": "2022-07-18T10:37:29.704Z"
   },
   {
    "duration": 8,
    "start_time": "2022-07-18T10:37:29.716Z"
   },
   {
    "duration": 14,
    "start_time": "2022-07-18T10:37:29.726Z"
   },
   {
    "duration": 7,
    "start_time": "2022-07-18T10:37:29.743Z"
   },
   {
    "duration": 56,
    "start_time": "2022-07-18T10:37:29.751Z"
   },
   {
    "duration": 0,
    "start_time": "2022-07-18T10:37:29.809Z"
   },
   {
    "duration": 0,
    "start_time": "2022-07-18T10:37:29.810Z"
   },
   {
    "duration": 0,
    "start_time": "2022-07-18T10:37:29.811Z"
   },
   {
    "duration": 0,
    "start_time": "2022-07-18T10:37:29.813Z"
   },
   {
    "duration": 0,
    "start_time": "2022-07-18T10:37:29.814Z"
   },
   {
    "duration": 0,
    "start_time": "2022-07-18T10:37:29.816Z"
   },
   {
    "duration": 0,
    "start_time": "2022-07-18T10:37:29.817Z"
   },
   {
    "duration": 0,
    "start_time": "2022-07-18T10:37:29.818Z"
   },
   {
    "duration": 0,
    "start_time": "2022-07-18T10:37:29.820Z"
   },
   {
    "duration": 0,
    "start_time": "2022-07-18T10:37:29.821Z"
   },
   {
    "duration": 0,
    "start_time": "2022-07-18T10:37:29.822Z"
   },
   {
    "duration": 0,
    "start_time": "2022-07-18T10:37:29.823Z"
   },
   {
    "duration": 0,
    "start_time": "2022-07-18T10:37:29.824Z"
   },
   {
    "duration": 0,
    "start_time": "2022-07-18T10:37:29.826Z"
   },
   {
    "duration": 0,
    "start_time": "2022-07-18T10:37:29.827Z"
   },
   {
    "duration": 0,
    "start_time": "2022-07-18T10:37:29.828Z"
   },
   {
    "duration": 0,
    "start_time": "2022-07-18T10:37:29.829Z"
   },
   {
    "duration": 0,
    "start_time": "2022-07-18T10:37:29.830Z"
   },
   {
    "duration": 0,
    "start_time": "2022-07-18T10:37:29.831Z"
   },
   {
    "duration": 1,
    "start_time": "2022-07-18T10:37:29.832Z"
   },
   {
    "duration": 0,
    "start_time": "2022-07-18T10:37:29.834Z"
   },
   {
    "duration": 0,
    "start_time": "2022-07-18T10:37:29.835Z"
   },
   {
    "duration": 0,
    "start_time": "2022-07-18T10:37:29.836Z"
   },
   {
    "duration": 0,
    "start_time": "2022-07-18T10:37:29.837Z"
   },
   {
    "duration": 0,
    "start_time": "2022-07-18T10:37:29.838Z"
   },
   {
    "duration": 0,
    "start_time": "2022-07-18T10:37:29.839Z"
   },
   {
    "duration": 0,
    "start_time": "2022-07-18T10:37:29.841Z"
   },
   {
    "duration": 0,
    "start_time": "2022-07-18T10:37:29.842Z"
   },
   {
    "duration": 6,
    "start_time": "2022-07-18T10:37:48.312Z"
   },
   {
    "duration": 11,
    "start_time": "2022-07-18T10:50:37.311Z"
   },
   {
    "duration": 6,
    "start_time": "2022-07-18T10:51:17.734Z"
   },
   {
    "duration": 8,
    "start_time": "2022-07-18T10:51:23.236Z"
   },
   {
    "duration": 8,
    "start_time": "2022-07-18T10:56:39.898Z"
   },
   {
    "duration": 8,
    "start_time": "2022-07-18T10:56:46.609Z"
   },
   {
    "duration": 8,
    "start_time": "2022-07-18T10:58:39.885Z"
   },
   {
    "duration": 12,
    "start_time": "2022-07-18T10:59:44.473Z"
   },
   {
    "duration": 336,
    "start_time": "2022-07-18T10:59:59.474Z"
   },
   {
    "duration": 8,
    "start_time": "2022-07-18T11:02:55.587Z"
   },
   {
    "duration": 7,
    "start_time": "2022-07-18T11:03:41.873Z"
   },
   {
    "duration": 11,
    "start_time": "2022-07-18T11:04:03.899Z"
   },
   {
    "duration": 74,
    "start_time": "2022-07-18T11:04:14.325Z"
   },
   {
    "duration": 8,
    "start_time": "2022-07-18T11:04:27.547Z"
   },
   {
    "duration": 19,
    "start_time": "2022-07-18T11:06:23.451Z"
   },
   {
    "duration": 14,
    "start_time": "2022-07-18T11:06:31.495Z"
   },
   {
    "duration": 18,
    "start_time": "2022-07-18T11:07:01.116Z"
   },
   {
    "duration": 108,
    "start_time": "2022-07-18T11:07:24.356Z"
   },
   {
    "duration": 2034,
    "start_time": "2022-07-18T11:07:24.466Z"
   },
   {
    "duration": 10,
    "start_time": "2022-07-18T11:07:26.502Z"
   },
   {
    "duration": 1380,
    "start_time": "2022-07-18T11:07:26.514Z"
   },
   {
    "duration": 1281,
    "start_time": "2022-07-18T11:07:27.895Z"
   },
   {
    "duration": 1484,
    "start_time": "2022-07-18T11:07:29.178Z"
   },
   {
    "duration": 11,
    "start_time": "2022-07-18T11:07:30.664Z"
   },
   {
    "duration": 18,
    "start_time": "2022-07-18T11:07:30.677Z"
   },
   {
    "duration": 25,
    "start_time": "2022-07-18T11:07:30.697Z"
   },
   {
    "duration": 13,
    "start_time": "2022-07-18T11:07:30.726Z"
   },
   {
    "duration": 21,
    "start_time": "2022-07-18T11:07:30.742Z"
   },
   {
    "duration": 0,
    "start_time": "2022-07-18T11:07:30.765Z"
   },
   {
    "duration": 0,
    "start_time": "2022-07-18T11:07:30.766Z"
   },
   {
    "duration": 0,
    "start_time": "2022-07-18T11:07:30.768Z"
   },
   {
    "duration": 0,
    "start_time": "2022-07-18T11:07:30.769Z"
   },
   {
    "duration": 0,
    "start_time": "2022-07-18T11:07:30.770Z"
   },
   {
    "duration": 0,
    "start_time": "2022-07-18T11:07:30.771Z"
   },
   {
    "duration": 0,
    "start_time": "2022-07-18T11:07:30.772Z"
   },
   {
    "duration": 0,
    "start_time": "2022-07-18T11:07:30.773Z"
   },
   {
    "duration": 0,
    "start_time": "2022-07-18T11:07:30.774Z"
   },
   {
    "duration": 0,
    "start_time": "2022-07-18T11:07:30.775Z"
   },
   {
    "duration": 0,
    "start_time": "2022-07-18T11:07:30.776Z"
   },
   {
    "duration": 0,
    "start_time": "2022-07-18T11:07:30.777Z"
   },
   {
    "duration": 0,
    "start_time": "2022-07-18T11:07:30.798Z"
   },
   {
    "duration": 0,
    "start_time": "2022-07-18T11:07:30.799Z"
   },
   {
    "duration": 1,
    "start_time": "2022-07-18T11:07:30.800Z"
   },
   {
    "duration": 0,
    "start_time": "2022-07-18T11:07:30.801Z"
   },
   {
    "duration": 0,
    "start_time": "2022-07-18T11:07:30.803Z"
   },
   {
    "duration": 0,
    "start_time": "2022-07-18T11:07:30.804Z"
   },
   {
    "duration": 0,
    "start_time": "2022-07-18T11:07:30.805Z"
   },
   {
    "duration": 0,
    "start_time": "2022-07-18T11:07:30.806Z"
   },
   {
    "duration": 0,
    "start_time": "2022-07-18T11:07:30.807Z"
   },
   {
    "duration": 0,
    "start_time": "2022-07-18T11:07:30.807Z"
   },
   {
    "duration": 0,
    "start_time": "2022-07-18T11:07:30.808Z"
   },
   {
    "duration": 0,
    "start_time": "2022-07-18T11:07:30.809Z"
   },
   {
    "duration": 0,
    "start_time": "2022-07-18T11:07:30.810Z"
   },
   {
    "duration": 0,
    "start_time": "2022-07-18T11:07:30.811Z"
   },
   {
    "duration": 0,
    "start_time": "2022-07-18T11:07:30.812Z"
   },
   {
    "duration": 0,
    "start_time": "2022-07-18T11:07:30.813Z"
   },
   {
    "duration": 17,
    "start_time": "2022-07-18T11:07:50.955Z"
   },
   {
    "duration": 16,
    "start_time": "2022-07-18T11:08:16.280Z"
   },
   {
    "duration": 18,
    "start_time": "2022-07-18T11:08:18.328Z"
   },
   {
    "duration": 18,
    "start_time": "2022-07-18T11:08:26.021Z"
   },
   {
    "duration": 129,
    "start_time": "2022-07-18T11:08:41.880Z"
   },
   {
    "duration": 18,
    "start_time": "2022-07-18T11:08:47.753Z"
   },
   {
    "duration": 20,
    "start_time": "2022-07-18T11:08:57.702Z"
   },
   {
    "duration": 22,
    "start_time": "2022-07-18T11:09:03.144Z"
   },
   {
    "duration": 20,
    "start_time": "2022-07-18T11:09:21.286Z"
   },
   {
    "duration": 107,
    "start_time": "2022-07-18T11:09:27.404Z"
   },
   {
    "duration": 1889,
    "start_time": "2022-07-18T11:09:27.513Z"
   },
   {
    "duration": 8,
    "start_time": "2022-07-18T11:09:29.403Z"
   },
   {
    "duration": 1389,
    "start_time": "2022-07-18T11:09:29.413Z"
   },
   {
    "duration": 1330,
    "start_time": "2022-07-18T11:09:30.805Z"
   },
   {
    "duration": 1463,
    "start_time": "2022-07-18T11:09:32.137Z"
   },
   {
    "duration": 11,
    "start_time": "2022-07-18T11:09:33.602Z"
   },
   {
    "duration": 5,
    "start_time": "2022-07-18T11:09:33.615Z"
   },
   {
    "duration": 29,
    "start_time": "2022-07-18T11:09:33.622Z"
   },
   {
    "duration": 6,
    "start_time": "2022-07-18T11:09:33.653Z"
   },
   {
    "duration": 12,
    "start_time": "2022-07-18T11:09:33.660Z"
   },
   {
    "duration": 0,
    "start_time": "2022-07-18T11:09:33.698Z"
   },
   {
    "duration": 0,
    "start_time": "2022-07-18T11:09:33.700Z"
   },
   {
    "duration": 0,
    "start_time": "2022-07-18T11:09:33.701Z"
   },
   {
    "duration": 0,
    "start_time": "2022-07-18T11:09:33.702Z"
   },
   {
    "duration": 0,
    "start_time": "2022-07-18T11:09:33.703Z"
   },
   {
    "duration": 0,
    "start_time": "2022-07-18T11:09:33.704Z"
   },
   {
    "duration": 0,
    "start_time": "2022-07-18T11:09:33.705Z"
   },
   {
    "duration": 0,
    "start_time": "2022-07-18T11:09:33.706Z"
   },
   {
    "duration": 0,
    "start_time": "2022-07-18T11:09:33.707Z"
   },
   {
    "duration": 0,
    "start_time": "2022-07-18T11:09:33.708Z"
   },
   {
    "duration": 0,
    "start_time": "2022-07-18T11:09:33.708Z"
   },
   {
    "duration": 0,
    "start_time": "2022-07-18T11:09:33.710Z"
   },
   {
    "duration": 0,
    "start_time": "2022-07-18T11:09:33.710Z"
   },
   {
    "duration": 0,
    "start_time": "2022-07-18T11:09:33.711Z"
   },
   {
    "duration": 0,
    "start_time": "2022-07-18T11:09:33.712Z"
   },
   {
    "duration": 0,
    "start_time": "2022-07-18T11:09:33.713Z"
   },
   {
    "duration": 0,
    "start_time": "2022-07-18T11:09:33.714Z"
   },
   {
    "duration": 0,
    "start_time": "2022-07-18T11:09:33.715Z"
   },
   {
    "duration": 0,
    "start_time": "2022-07-18T11:09:33.716Z"
   },
   {
    "duration": 0,
    "start_time": "2022-07-18T11:09:33.717Z"
   },
   {
    "duration": 0,
    "start_time": "2022-07-18T11:09:33.718Z"
   },
   {
    "duration": 0,
    "start_time": "2022-07-18T11:09:33.719Z"
   },
   {
    "duration": 0,
    "start_time": "2022-07-18T11:09:33.720Z"
   },
   {
    "duration": 0,
    "start_time": "2022-07-18T11:09:33.721Z"
   },
   {
    "duration": 0,
    "start_time": "2022-07-18T11:09:33.722Z"
   },
   {
    "duration": 0,
    "start_time": "2022-07-18T11:09:33.723Z"
   },
   {
    "duration": 0,
    "start_time": "2022-07-18T11:09:33.724Z"
   },
   {
    "duration": 0,
    "start_time": "2022-07-18T11:09:33.725Z"
   },
   {
    "duration": 110,
    "start_time": "2022-07-18T11:11:15.289Z"
   },
   {
    "duration": 1894,
    "start_time": "2022-07-18T11:11:15.401Z"
   },
   {
    "duration": 9,
    "start_time": "2022-07-18T11:11:17.298Z"
   },
   {
    "duration": 1487,
    "start_time": "2022-07-18T11:11:17.309Z"
   },
   {
    "duration": 1426,
    "start_time": "2022-07-18T11:11:18.798Z"
   },
   {
    "duration": 1397,
    "start_time": "2022-07-18T11:11:20.226Z"
   },
   {
    "duration": 10,
    "start_time": "2022-07-18T11:11:21.625Z"
   },
   {
    "duration": 8,
    "start_time": "2022-07-18T11:11:21.637Z"
   },
   {
    "duration": 28,
    "start_time": "2022-07-18T11:11:21.646Z"
   },
   {
    "duration": 23,
    "start_time": "2022-07-18T11:11:21.677Z"
   },
   {
    "duration": 8,
    "start_time": "2022-07-18T11:11:21.702Z"
   },
   {
    "duration": 1,
    "start_time": "2022-07-18T11:11:21.711Z"
   },
   {
    "duration": 0,
    "start_time": "2022-07-18T11:11:21.713Z"
   },
   {
    "duration": 0,
    "start_time": "2022-07-18T11:11:21.714Z"
   },
   {
    "duration": 0,
    "start_time": "2022-07-18T11:11:21.715Z"
   },
   {
    "duration": 0,
    "start_time": "2022-07-18T11:11:21.717Z"
   },
   {
    "duration": 0,
    "start_time": "2022-07-18T11:11:21.718Z"
   },
   {
    "duration": 0,
    "start_time": "2022-07-18T11:11:21.719Z"
   },
   {
    "duration": 0,
    "start_time": "2022-07-18T11:11:21.720Z"
   },
   {
    "duration": 0,
    "start_time": "2022-07-18T11:11:21.721Z"
   },
   {
    "duration": 0,
    "start_time": "2022-07-18T11:11:21.723Z"
   },
   {
    "duration": 0,
    "start_time": "2022-07-18T11:11:21.724Z"
   },
   {
    "duration": 0,
    "start_time": "2022-07-18T11:11:21.725Z"
   },
   {
    "duration": 0,
    "start_time": "2022-07-18T11:11:21.726Z"
   },
   {
    "duration": 0,
    "start_time": "2022-07-18T11:11:21.727Z"
   },
   {
    "duration": 0,
    "start_time": "2022-07-18T11:11:21.728Z"
   },
   {
    "duration": 0,
    "start_time": "2022-07-18T11:11:21.729Z"
   },
   {
    "duration": 0,
    "start_time": "2022-07-18T11:11:21.731Z"
   },
   {
    "duration": 0,
    "start_time": "2022-07-18T11:11:21.732Z"
   },
   {
    "duration": 0,
    "start_time": "2022-07-18T11:11:21.733Z"
   },
   {
    "duration": 0,
    "start_time": "2022-07-18T11:11:21.734Z"
   },
   {
    "duration": 0,
    "start_time": "2022-07-18T11:11:21.735Z"
   },
   {
    "duration": 0,
    "start_time": "2022-07-18T11:11:21.736Z"
   },
   {
    "duration": 0,
    "start_time": "2022-07-18T11:11:21.737Z"
   },
   {
    "duration": 0,
    "start_time": "2022-07-18T11:11:21.738Z"
   },
   {
    "duration": 0,
    "start_time": "2022-07-18T11:11:21.739Z"
   },
   {
    "duration": 0,
    "start_time": "2022-07-18T11:11:21.739Z"
   },
   {
    "duration": 0,
    "start_time": "2022-07-18T11:11:21.798Z"
   },
   {
    "duration": 0,
    "start_time": "2022-07-18T11:11:21.799Z"
   },
   {
    "duration": 21,
    "start_time": "2022-07-18T11:12:02.692Z"
   },
   {
    "duration": 23,
    "start_time": "2022-07-18T11:12:26.174Z"
   },
   {
    "duration": 27,
    "start_time": "2022-07-18T11:13:02.600Z"
   },
   {
    "duration": 27,
    "start_time": "2022-07-18T11:13:10.285Z"
   },
   {
    "duration": 104,
    "start_time": "2022-07-18T11:13:47.737Z"
   },
   {
    "duration": 1894,
    "start_time": "2022-07-18T11:13:47.843Z"
   },
   {
    "duration": 8,
    "start_time": "2022-07-18T11:13:49.739Z"
   },
   {
    "duration": 1363,
    "start_time": "2022-07-18T11:13:49.749Z"
   },
   {
    "duration": 1422,
    "start_time": "2022-07-18T11:13:51.114Z"
   },
   {
    "duration": 1474,
    "start_time": "2022-07-18T11:13:52.538Z"
   },
   {
    "duration": 13,
    "start_time": "2022-07-18T11:13:54.014Z"
   },
   {
    "duration": 17,
    "start_time": "2022-07-18T11:13:54.029Z"
   },
   {
    "duration": 26,
    "start_time": "2022-07-18T11:13:54.048Z"
   },
   {
    "duration": 24,
    "start_time": "2022-07-18T11:13:54.076Z"
   },
   {
    "duration": 10,
    "start_time": "2022-07-18T11:13:54.102Z"
   },
   {
    "duration": 0,
    "start_time": "2022-07-18T11:13:54.114Z"
   },
   {
    "duration": 0,
    "start_time": "2022-07-18T11:13:54.116Z"
   },
   {
    "duration": 0,
    "start_time": "2022-07-18T11:13:54.116Z"
   },
   {
    "duration": 0,
    "start_time": "2022-07-18T11:13:54.118Z"
   },
   {
    "duration": 0,
    "start_time": "2022-07-18T11:13:54.119Z"
   },
   {
    "duration": 0,
    "start_time": "2022-07-18T11:13:54.120Z"
   },
   {
    "duration": 0,
    "start_time": "2022-07-18T11:13:54.121Z"
   },
   {
    "duration": 0,
    "start_time": "2022-07-18T11:13:54.122Z"
   },
   {
    "duration": 0,
    "start_time": "2022-07-18T11:13:54.123Z"
   },
   {
    "duration": 0,
    "start_time": "2022-07-18T11:13:54.124Z"
   },
   {
    "duration": 0,
    "start_time": "2022-07-18T11:13:54.125Z"
   },
   {
    "duration": 0,
    "start_time": "2022-07-18T11:13:54.126Z"
   },
   {
    "duration": 0,
    "start_time": "2022-07-18T11:13:54.127Z"
   },
   {
    "duration": 0,
    "start_time": "2022-07-18T11:13:54.128Z"
   },
   {
    "duration": 0,
    "start_time": "2022-07-18T11:13:54.129Z"
   },
   {
    "duration": 0,
    "start_time": "2022-07-18T11:13:54.130Z"
   },
   {
    "duration": 0,
    "start_time": "2022-07-18T11:13:54.131Z"
   },
   {
    "duration": 0,
    "start_time": "2022-07-18T11:13:54.132Z"
   },
   {
    "duration": 0,
    "start_time": "2022-07-18T11:13:54.133Z"
   },
   {
    "duration": 0,
    "start_time": "2022-07-18T11:13:54.134Z"
   },
   {
    "duration": 0,
    "start_time": "2022-07-18T11:13:54.135Z"
   },
   {
    "duration": 0,
    "start_time": "2022-07-18T11:13:54.136Z"
   },
   {
    "duration": 0,
    "start_time": "2022-07-18T11:13:54.137Z"
   },
   {
    "duration": 0,
    "start_time": "2022-07-18T11:13:54.138Z"
   },
   {
    "duration": 0,
    "start_time": "2022-07-18T11:13:54.138Z"
   },
   {
    "duration": 0,
    "start_time": "2022-07-18T11:13:54.139Z"
   },
   {
    "duration": 0,
    "start_time": "2022-07-18T11:13:54.140Z"
   },
   {
    "duration": 1,
    "start_time": "2022-07-18T11:13:54.140Z"
   },
   {
    "duration": 102,
    "start_time": "2022-07-18T11:14:17.716Z"
   },
   {
    "duration": 2100,
    "start_time": "2022-07-18T11:14:17.820Z"
   },
   {
    "duration": 8,
    "start_time": "2022-07-18T11:14:19.922Z"
   },
   {
    "duration": 1401,
    "start_time": "2022-07-18T11:14:19.932Z"
   },
   {
    "duration": 1281,
    "start_time": "2022-07-18T11:14:21.335Z"
   },
   {
    "duration": 1520,
    "start_time": "2022-07-18T11:14:22.618Z"
   },
   {
    "duration": 10,
    "start_time": "2022-07-18T11:14:24.140Z"
   },
   {
    "duration": 9,
    "start_time": "2022-07-18T11:14:24.152Z"
   },
   {
    "duration": 35,
    "start_time": "2022-07-18T11:14:24.163Z"
   },
   {
    "duration": 6,
    "start_time": "2022-07-18T11:14:24.201Z"
   },
   {
    "duration": 8,
    "start_time": "2022-07-18T11:14:24.208Z"
   },
   {
    "duration": 0,
    "start_time": "2022-07-18T11:14:24.218Z"
   },
   {
    "duration": 0,
    "start_time": "2022-07-18T11:14:24.220Z"
   },
   {
    "duration": 0,
    "start_time": "2022-07-18T11:14:24.221Z"
   },
   {
    "duration": 0,
    "start_time": "2022-07-18T11:14:24.223Z"
   },
   {
    "duration": 0,
    "start_time": "2022-07-18T11:14:24.224Z"
   },
   {
    "duration": 0,
    "start_time": "2022-07-18T11:14:24.224Z"
   },
   {
    "duration": 0,
    "start_time": "2022-07-18T11:14:24.225Z"
   },
   {
    "duration": 0,
    "start_time": "2022-07-18T11:14:24.226Z"
   },
   {
    "duration": 0,
    "start_time": "2022-07-18T11:14:24.228Z"
   },
   {
    "duration": 0,
    "start_time": "2022-07-18T11:14:24.229Z"
   },
   {
    "duration": 0,
    "start_time": "2022-07-18T11:14:24.230Z"
   },
   {
    "duration": 0,
    "start_time": "2022-07-18T11:14:24.231Z"
   },
   {
    "duration": 0,
    "start_time": "2022-07-18T11:14:24.233Z"
   },
   {
    "duration": 0,
    "start_time": "2022-07-18T11:14:24.234Z"
   },
   {
    "duration": 0,
    "start_time": "2022-07-18T11:14:24.235Z"
   },
   {
    "duration": 0,
    "start_time": "2022-07-18T11:14:24.236Z"
   },
   {
    "duration": 0,
    "start_time": "2022-07-18T11:14:24.237Z"
   },
   {
    "duration": 0,
    "start_time": "2022-07-18T11:14:24.239Z"
   },
   {
    "duration": 0,
    "start_time": "2022-07-18T11:14:24.239Z"
   },
   {
    "duration": 0,
    "start_time": "2022-07-18T11:14:24.241Z"
   },
   {
    "duration": 0,
    "start_time": "2022-07-18T11:14:24.242Z"
   },
   {
    "duration": 0,
    "start_time": "2022-07-18T11:14:24.243Z"
   },
   {
    "duration": 0,
    "start_time": "2022-07-18T11:14:24.298Z"
   },
   {
    "duration": 0,
    "start_time": "2022-07-18T11:14:24.299Z"
   },
   {
    "duration": 0,
    "start_time": "2022-07-18T11:14:24.300Z"
   },
   {
    "duration": 0,
    "start_time": "2022-07-18T11:14:24.301Z"
   },
   {
    "duration": 0,
    "start_time": "2022-07-18T11:14:24.302Z"
   },
   {
    "duration": 0,
    "start_time": "2022-07-18T11:14:24.303Z"
   },
   {
    "duration": 300,
    "start_time": "2022-07-18T11:14:26.774Z"
   },
   {
    "duration": 283,
    "start_time": "2022-07-18T11:14:34.234Z"
   },
   {
    "duration": 103,
    "start_time": "2022-07-18T11:14:37.102Z"
   },
   {
    "duration": 143,
    "start_time": "2022-07-18T11:14:42.950Z"
   },
   {
    "duration": 22,
    "start_time": "2022-07-18T11:15:21.417Z"
   },
   {
    "duration": 20,
    "start_time": "2022-07-18T11:15:27.870Z"
   },
   {
    "duration": 22,
    "start_time": "2022-07-18T11:15:39.280Z"
   },
   {
    "duration": 21,
    "start_time": "2022-07-18T11:16:01.380Z"
   },
   {
    "duration": 20,
    "start_time": "2022-07-18T11:16:07.305Z"
   },
   {
    "duration": 318,
    "start_time": "2022-07-18T11:16:23.030Z"
   },
   {
    "duration": 313,
    "start_time": "2022-07-18T11:16:35.564Z"
   },
   {
    "duration": 297,
    "start_time": "2022-07-18T11:16:41.803Z"
   },
   {
    "duration": 523,
    "start_time": "2022-07-18T11:16:47.448Z"
   },
   {
    "duration": 20,
    "start_time": "2022-07-18T11:17:37.667Z"
   },
   {
    "duration": 102,
    "start_time": "2022-07-18T11:17:50.100Z"
   },
   {
    "duration": 1857,
    "start_time": "2022-07-18T11:17:50.204Z"
   },
   {
    "duration": 8,
    "start_time": "2022-07-18T11:17:52.063Z"
   },
   {
    "duration": 1433,
    "start_time": "2022-07-18T11:17:52.074Z"
   },
   {
    "duration": 1512,
    "start_time": "2022-07-18T11:17:53.510Z"
   },
   {
    "duration": 1311,
    "start_time": "2022-07-18T11:17:55.024Z"
   },
   {
    "duration": 10,
    "start_time": "2022-07-18T11:17:56.337Z"
   },
   {
    "duration": 9,
    "start_time": "2022-07-18T11:17:56.349Z"
   },
   {
    "duration": 42,
    "start_time": "2022-07-18T11:17:56.359Z"
   },
   {
    "duration": 6,
    "start_time": "2022-07-18T11:17:56.403Z"
   },
   {
    "duration": 10,
    "start_time": "2022-07-18T11:17:56.410Z"
   },
   {
    "duration": 0,
    "start_time": "2022-07-18T11:17:56.422Z"
   },
   {
    "duration": 0,
    "start_time": "2022-07-18T11:17:56.423Z"
   },
   {
    "duration": 0,
    "start_time": "2022-07-18T11:17:56.424Z"
   },
   {
    "duration": 0,
    "start_time": "2022-07-18T11:17:56.426Z"
   },
   {
    "duration": 0,
    "start_time": "2022-07-18T11:17:56.427Z"
   },
   {
    "duration": 0,
    "start_time": "2022-07-18T11:17:56.428Z"
   },
   {
    "duration": 0,
    "start_time": "2022-07-18T11:17:56.429Z"
   },
   {
    "duration": 0,
    "start_time": "2022-07-18T11:17:56.430Z"
   },
   {
    "duration": 0,
    "start_time": "2022-07-18T11:17:56.431Z"
   },
   {
    "duration": 0,
    "start_time": "2022-07-18T11:17:56.432Z"
   },
   {
    "duration": 0,
    "start_time": "2022-07-18T11:17:56.433Z"
   },
   {
    "duration": 0,
    "start_time": "2022-07-18T11:17:56.434Z"
   },
   {
    "duration": 0,
    "start_time": "2022-07-18T11:17:56.435Z"
   },
   {
    "duration": 0,
    "start_time": "2022-07-18T11:17:56.436Z"
   },
   {
    "duration": 0,
    "start_time": "2022-07-18T11:17:56.437Z"
   },
   {
    "duration": 0,
    "start_time": "2022-07-18T11:17:56.439Z"
   },
   {
    "duration": 0,
    "start_time": "2022-07-18T11:17:56.439Z"
   },
   {
    "duration": 0,
    "start_time": "2022-07-18T11:17:56.441Z"
   },
   {
    "duration": 0,
    "start_time": "2022-07-18T11:17:56.441Z"
   },
   {
    "duration": 0,
    "start_time": "2022-07-18T11:17:56.442Z"
   },
   {
    "duration": 0,
    "start_time": "2022-07-18T11:17:56.444Z"
   },
   {
    "duration": 0,
    "start_time": "2022-07-18T11:17:56.444Z"
   },
   {
    "duration": 0,
    "start_time": "2022-07-18T11:17:56.445Z"
   },
   {
    "duration": 0,
    "start_time": "2022-07-18T11:17:56.447Z"
   },
   {
    "duration": 0,
    "start_time": "2022-07-18T11:17:56.498Z"
   },
   {
    "duration": 0,
    "start_time": "2022-07-18T11:17:56.499Z"
   },
   {
    "duration": 0,
    "start_time": "2022-07-18T11:17:56.501Z"
   },
   {
    "duration": 0,
    "start_time": "2022-07-18T11:17:56.502Z"
   },
   {
    "duration": 328,
    "start_time": "2022-07-18T11:18:14.427Z"
   },
   {
    "duration": 21,
    "start_time": "2022-07-18T11:18:46.189Z"
   },
   {
    "duration": 24,
    "start_time": "2022-07-18T11:18:53.474Z"
   },
   {
    "duration": 24,
    "start_time": "2022-07-18T11:20:33.984Z"
   },
   {
    "duration": 23,
    "start_time": "2022-07-18T11:20:41.515Z"
   },
   {
    "duration": 21,
    "start_time": "2022-07-18T11:20:50.468Z"
   },
   {
    "duration": 13,
    "start_time": "2022-07-18T11:21:00.330Z"
   },
   {
    "duration": 86,
    "start_time": "2022-07-18T11:21:09.837Z"
   },
   {
    "duration": 33,
    "start_time": "2022-07-18T11:21:12.765Z"
   },
   {
    "duration": 21,
    "start_time": "2022-07-18T11:22:32.027Z"
   },
   {
    "duration": 20,
    "start_time": "2022-07-18T11:22:35.641Z"
   },
   {
    "duration": 30,
    "start_time": "2022-07-18T11:22:47.174Z"
   },
   {
    "duration": 297,
    "start_time": "2022-07-18T11:22:53.074Z"
   },
   {
    "duration": 102,
    "start_time": "2022-07-18T11:22:59.099Z"
   },
   {
    "duration": 2187,
    "start_time": "2022-07-18T11:22:59.203Z"
   },
   {
    "duration": 12,
    "start_time": "2022-07-18T11:23:01.393Z"
   },
   {
    "duration": 1307,
    "start_time": "2022-07-18T11:23:01.408Z"
   },
   {
    "duration": 1509,
    "start_time": "2022-07-18T11:23:02.717Z"
   },
   {
    "duration": 1303,
    "start_time": "2022-07-18T11:23:04.228Z"
   },
   {
    "duration": 11,
    "start_time": "2022-07-18T11:23:05.533Z"
   },
   {
    "duration": 3,
    "start_time": "2022-07-18T11:23:05.546Z"
   },
   {
    "duration": 67,
    "start_time": "2022-07-18T11:23:05.551Z"
   },
   {
    "duration": 7,
    "start_time": "2022-07-18T11:23:05.620Z"
   },
   {
    "duration": 15,
    "start_time": "2022-07-18T11:23:05.628Z"
   },
   {
    "duration": 0,
    "start_time": "2022-07-18T11:23:05.645Z"
   },
   {
    "duration": 0,
    "start_time": "2022-07-18T11:23:05.647Z"
   },
   {
    "duration": 0,
    "start_time": "2022-07-18T11:23:05.648Z"
   },
   {
    "duration": 0,
    "start_time": "2022-07-18T11:23:05.650Z"
   },
   {
    "duration": 0,
    "start_time": "2022-07-18T11:23:05.651Z"
   },
   {
    "duration": 0,
    "start_time": "2022-07-18T11:23:05.653Z"
   },
   {
    "duration": 0,
    "start_time": "2022-07-18T11:23:05.654Z"
   },
   {
    "duration": 0,
    "start_time": "2022-07-18T11:23:05.656Z"
   },
   {
    "duration": 0,
    "start_time": "2022-07-18T11:23:05.658Z"
   },
   {
    "duration": 0,
    "start_time": "2022-07-18T11:23:05.660Z"
   },
   {
    "duration": 0,
    "start_time": "2022-07-18T11:23:05.699Z"
   },
   {
    "duration": 0,
    "start_time": "2022-07-18T11:23:05.700Z"
   },
   {
    "duration": 0,
    "start_time": "2022-07-18T11:23:05.702Z"
   },
   {
    "duration": 0,
    "start_time": "2022-07-18T11:23:05.702Z"
   },
   {
    "duration": 0,
    "start_time": "2022-07-18T11:23:05.704Z"
   },
   {
    "duration": 0,
    "start_time": "2022-07-18T11:23:05.705Z"
   },
   {
    "duration": 0,
    "start_time": "2022-07-18T11:23:05.706Z"
   },
   {
    "duration": 0,
    "start_time": "2022-07-18T11:23:05.708Z"
   },
   {
    "duration": 0,
    "start_time": "2022-07-18T11:23:05.709Z"
   },
   {
    "duration": 0,
    "start_time": "2022-07-18T11:23:05.710Z"
   },
   {
    "duration": 0,
    "start_time": "2022-07-18T11:23:05.711Z"
   },
   {
    "duration": 0,
    "start_time": "2022-07-18T11:23:05.712Z"
   },
   {
    "duration": 0,
    "start_time": "2022-07-18T11:23:05.713Z"
   },
   {
    "duration": 0,
    "start_time": "2022-07-18T11:23:05.714Z"
   },
   {
    "duration": 0,
    "start_time": "2022-07-18T11:23:05.715Z"
   },
   {
    "duration": 0,
    "start_time": "2022-07-18T11:23:05.716Z"
   },
   {
    "duration": 0,
    "start_time": "2022-07-18T11:23:05.717Z"
   },
   {
    "duration": 0,
    "start_time": "2022-07-18T11:23:05.718Z"
   },
   {
    "duration": 322,
    "start_time": "2022-07-18T11:23:51.101Z"
   },
   {
    "duration": 33,
    "start_time": "2022-07-18T11:24:17.281Z"
   },
   {
    "duration": 313,
    "start_time": "2022-07-18T11:24:21.928Z"
   },
   {
    "duration": 578,
    "start_time": "2022-07-18T11:24:27.815Z"
   },
   {
    "duration": 323,
    "start_time": "2022-07-18T11:24:31.539Z"
   },
   {
    "duration": 299,
    "start_time": "2022-07-18T11:24:38.477Z"
   },
   {
    "duration": 298,
    "start_time": "2022-07-18T11:24:41.341Z"
   },
   {
    "duration": 4,
    "start_time": "2022-07-18T11:24:44.428Z"
   },
   {
    "duration": 318,
    "start_time": "2022-07-18T11:24:47.289Z"
   },
   {
    "duration": 316,
    "start_time": "2022-07-18T11:24:50.782Z"
   },
   {
    "duration": 318,
    "start_time": "2022-07-18T11:24:53.148Z"
   },
   {
    "duration": 35,
    "start_time": "2022-07-18T11:26:22.841Z"
   },
   {
    "duration": 327,
    "start_time": "2022-07-18T11:26:27.444Z"
   },
   {
    "duration": 466,
    "start_time": "2022-07-18T11:26:39.102Z"
   },
   {
    "duration": 326,
    "start_time": "2022-07-18T11:26:43.790Z"
   },
   {
    "duration": 37,
    "start_time": "2022-07-18T11:28:01.485Z"
   },
   {
    "duration": 627,
    "start_time": "2022-07-18T11:28:37.924Z"
   },
   {
    "duration": 309,
    "start_time": "2022-07-18T11:28:42.844Z"
   },
   {
    "duration": 358,
    "start_time": "2022-07-18T11:28:47.971Z"
   },
   {
    "duration": 316,
    "start_time": "2022-07-18T11:28:51.117Z"
   },
   {
    "duration": 102,
    "start_time": "2022-07-18T11:29:16.996Z"
   },
   {
    "duration": 1880,
    "start_time": "2022-07-18T11:29:17.100Z"
   },
   {
    "duration": 18,
    "start_time": "2022-07-18T11:29:18.982Z"
   },
   {
    "duration": 1599,
    "start_time": "2022-07-18T11:29:19.003Z"
   },
   {
    "duration": 1331,
    "start_time": "2022-07-18T11:29:20.605Z"
   },
   {
    "duration": 1705,
    "start_time": "2022-07-18T11:29:21.939Z"
   },
   {
    "duration": 12,
    "start_time": "2022-07-18T11:29:23.647Z"
   },
   {
    "duration": 6,
    "start_time": "2022-07-18T11:29:23.661Z"
   },
   {
    "duration": 60,
    "start_time": "2022-07-18T11:29:23.669Z"
   },
   {
    "duration": 6,
    "start_time": "2022-07-18T11:29:23.733Z"
   },
   {
    "duration": 13,
    "start_time": "2022-07-18T11:29:23.740Z"
   },
   {
    "duration": 0,
    "start_time": "2022-07-18T11:29:23.756Z"
   },
   {
    "duration": 0,
    "start_time": "2022-07-18T11:29:23.757Z"
   },
   {
    "duration": 0,
    "start_time": "2022-07-18T11:29:23.758Z"
   },
   {
    "duration": 0,
    "start_time": "2022-07-18T11:29:23.759Z"
   },
   {
    "duration": 0,
    "start_time": "2022-07-18T11:29:23.760Z"
   },
   {
    "duration": 0,
    "start_time": "2022-07-18T11:29:23.761Z"
   },
   {
    "duration": 0,
    "start_time": "2022-07-18T11:29:23.762Z"
   },
   {
    "duration": 0,
    "start_time": "2022-07-18T11:29:23.763Z"
   },
   {
    "duration": 1,
    "start_time": "2022-07-18T11:29:23.797Z"
   },
   {
    "duration": 0,
    "start_time": "2022-07-18T11:29:23.799Z"
   },
   {
    "duration": 0,
    "start_time": "2022-07-18T11:29:23.800Z"
   },
   {
    "duration": 0,
    "start_time": "2022-07-18T11:29:23.801Z"
   },
   {
    "duration": 0,
    "start_time": "2022-07-18T11:29:23.802Z"
   },
   {
    "duration": 0,
    "start_time": "2022-07-18T11:29:23.803Z"
   },
   {
    "duration": 0,
    "start_time": "2022-07-18T11:29:23.804Z"
   },
   {
    "duration": 0,
    "start_time": "2022-07-18T11:29:23.805Z"
   },
   {
    "duration": 0,
    "start_time": "2022-07-18T11:29:23.806Z"
   },
   {
    "duration": 0,
    "start_time": "2022-07-18T11:29:23.808Z"
   },
   {
    "duration": 0,
    "start_time": "2022-07-18T11:29:23.809Z"
   },
   {
    "duration": 0,
    "start_time": "2022-07-18T11:29:23.810Z"
   },
   {
    "duration": 0,
    "start_time": "2022-07-18T11:29:23.811Z"
   },
   {
    "duration": 0,
    "start_time": "2022-07-18T11:29:23.812Z"
   },
   {
    "duration": 0,
    "start_time": "2022-07-18T11:29:23.814Z"
   },
   {
    "duration": 0,
    "start_time": "2022-07-18T11:29:23.815Z"
   },
   {
    "duration": 0,
    "start_time": "2022-07-18T11:29:23.817Z"
   },
   {
    "duration": 0,
    "start_time": "2022-07-18T11:29:23.818Z"
   },
   {
    "duration": 0,
    "start_time": "2022-07-18T11:29:23.819Z"
   },
   {
    "duration": 0,
    "start_time": "2022-07-18T11:29:23.820Z"
   },
   {
    "duration": 31,
    "start_time": "2022-07-18T11:38:40.620Z"
   },
   {
    "duration": 70,
    "start_time": "2022-07-18T11:39:31.145Z"
   },
   {
    "duration": 58,
    "start_time": "2022-07-18T11:39:38.777Z"
   },
   {
    "duration": 55,
    "start_time": "2022-07-18T11:39:45.970Z"
   },
   {
    "duration": 339,
    "start_time": "2022-07-18T11:41:01.884Z"
   },
   {
    "duration": 30,
    "start_time": "2022-07-18T11:45:08.705Z"
   },
   {
    "duration": 353,
    "start_time": "2022-07-18T11:46:53.473Z"
   },
   {
    "duration": 106,
    "start_time": "2022-07-18T11:47:01.653Z"
   },
   {
    "duration": 2004,
    "start_time": "2022-07-18T11:47:01.761Z"
   },
   {
    "duration": 9,
    "start_time": "2022-07-18T11:47:03.767Z"
   },
   {
    "duration": 1376,
    "start_time": "2022-07-18T11:47:03.778Z"
   },
   {
    "duration": 1708,
    "start_time": "2022-07-18T11:47:05.158Z"
   },
   {
    "duration": 1581,
    "start_time": "2022-07-18T11:47:06.869Z"
   },
   {
    "duration": 11,
    "start_time": "2022-07-18T11:47:08.453Z"
   },
   {
    "duration": 6,
    "start_time": "2022-07-18T11:47:08.466Z"
   },
   {
    "duration": 33,
    "start_time": "2022-07-18T11:47:08.497Z"
   },
   {
    "duration": 8,
    "start_time": "2022-07-18T11:47:08.533Z"
   },
   {
    "duration": 57,
    "start_time": "2022-07-18T11:47:08.543Z"
   },
   {
    "duration": 0,
    "start_time": "2022-07-18T11:47:08.603Z"
   },
   {
    "duration": 0,
    "start_time": "2022-07-18T11:47:08.605Z"
   },
   {
    "duration": 0,
    "start_time": "2022-07-18T11:47:08.607Z"
   },
   {
    "duration": 0,
    "start_time": "2022-07-18T11:47:08.609Z"
   },
   {
    "duration": 0,
    "start_time": "2022-07-18T11:47:08.611Z"
   },
   {
    "duration": 0,
    "start_time": "2022-07-18T11:47:08.613Z"
   },
   {
    "duration": 0,
    "start_time": "2022-07-18T11:47:08.614Z"
   },
   {
    "duration": 0,
    "start_time": "2022-07-18T11:47:08.616Z"
   },
   {
    "duration": 0,
    "start_time": "2022-07-18T11:47:08.618Z"
   },
   {
    "duration": 0,
    "start_time": "2022-07-18T11:47:08.619Z"
   },
   {
    "duration": 0,
    "start_time": "2022-07-18T11:47:08.621Z"
   },
   {
    "duration": 0,
    "start_time": "2022-07-18T11:47:08.622Z"
   },
   {
    "duration": 0,
    "start_time": "2022-07-18T11:47:08.624Z"
   },
   {
    "duration": 0,
    "start_time": "2022-07-18T11:47:08.625Z"
   },
   {
    "duration": 0,
    "start_time": "2022-07-18T11:47:08.627Z"
   },
   {
    "duration": 0,
    "start_time": "2022-07-18T11:47:08.628Z"
   },
   {
    "duration": 0,
    "start_time": "2022-07-18T11:47:08.630Z"
   },
   {
    "duration": 0,
    "start_time": "2022-07-18T11:47:08.632Z"
   },
   {
    "duration": 0,
    "start_time": "2022-07-18T11:47:08.633Z"
   },
   {
    "duration": 0,
    "start_time": "2022-07-18T11:47:08.635Z"
   },
   {
    "duration": 0,
    "start_time": "2022-07-18T11:47:08.636Z"
   },
   {
    "duration": 0,
    "start_time": "2022-07-18T11:47:08.637Z"
   },
   {
    "duration": 0,
    "start_time": "2022-07-18T11:47:08.639Z"
   },
   {
    "duration": 0,
    "start_time": "2022-07-18T11:47:08.699Z"
   },
   {
    "duration": 0,
    "start_time": "2022-07-18T11:47:08.700Z"
   },
   {
    "duration": 0,
    "start_time": "2022-07-18T11:47:08.702Z"
   },
   {
    "duration": 0,
    "start_time": "2022-07-18T11:47:08.703Z"
   },
   {
    "duration": 0,
    "start_time": "2022-07-18T11:47:08.705Z"
   },
   {
    "duration": 124,
    "start_time": "2022-07-18T11:47:41.097Z"
   },
   {
    "duration": 28,
    "start_time": "2022-07-18T11:48:19.866Z"
   },
   {
    "duration": 26,
    "start_time": "2022-07-18T11:48:36.450Z"
   },
   {
    "duration": 137,
    "start_time": "2022-07-18T11:48:47.278Z"
   },
   {
    "duration": 1990,
    "start_time": "2022-07-18T11:48:47.417Z"
   },
   {
    "duration": 8,
    "start_time": "2022-07-18T11:48:49.409Z"
   },
   {
    "duration": 1377,
    "start_time": "2022-07-18T11:48:49.419Z"
   },
   {
    "duration": 1382,
    "start_time": "2022-07-18T11:48:50.798Z"
   },
   {
    "duration": 1709,
    "start_time": "2022-07-18T11:48:52.182Z"
   },
   {
    "duration": 12,
    "start_time": "2022-07-18T11:48:53.893Z"
   },
   {
    "duration": 6,
    "start_time": "2022-07-18T11:48:53.907Z"
   },
   {
    "duration": 34,
    "start_time": "2022-07-18T11:48:53.915Z"
   },
   {
    "duration": 6,
    "start_time": "2022-07-18T11:48:53.951Z"
   },
   {
    "duration": 10,
    "start_time": "2022-07-18T11:48:53.958Z"
   },
   {
    "duration": 0,
    "start_time": "2022-07-18T11:48:53.971Z"
   },
   {
    "duration": 0,
    "start_time": "2022-07-18T11:48:53.973Z"
   },
   {
    "duration": 0,
    "start_time": "2022-07-18T11:48:53.998Z"
   },
   {
    "duration": 0,
    "start_time": "2022-07-18T11:48:53.999Z"
   },
   {
    "duration": 0,
    "start_time": "2022-07-18T11:48:54.000Z"
   },
   {
    "duration": 0,
    "start_time": "2022-07-18T11:48:54.002Z"
   },
   {
    "duration": 0,
    "start_time": "2022-07-18T11:48:54.003Z"
   },
   {
    "duration": 0,
    "start_time": "2022-07-18T11:48:54.004Z"
   },
   {
    "duration": 0,
    "start_time": "2022-07-18T11:48:54.006Z"
   },
   {
    "duration": 0,
    "start_time": "2022-07-18T11:48:54.007Z"
   },
   {
    "duration": 0,
    "start_time": "2022-07-18T11:48:54.009Z"
   },
   {
    "duration": 0,
    "start_time": "2022-07-18T11:48:54.010Z"
   },
   {
    "duration": 0,
    "start_time": "2022-07-18T11:48:54.012Z"
   },
   {
    "duration": 0,
    "start_time": "2022-07-18T11:48:54.013Z"
   },
   {
    "duration": 0,
    "start_time": "2022-07-18T11:48:54.015Z"
   },
   {
    "duration": 0,
    "start_time": "2022-07-18T11:48:54.016Z"
   },
   {
    "duration": 0,
    "start_time": "2022-07-18T11:48:54.017Z"
   },
   {
    "duration": 0,
    "start_time": "2022-07-18T11:48:54.018Z"
   },
   {
    "duration": 1,
    "start_time": "2022-07-18T11:48:54.019Z"
   },
   {
    "duration": 0,
    "start_time": "2022-07-18T11:48:54.021Z"
   },
   {
    "duration": 0,
    "start_time": "2022-07-18T11:48:54.022Z"
   },
   {
    "duration": 0,
    "start_time": "2022-07-18T11:48:54.024Z"
   },
   {
    "duration": 0,
    "start_time": "2022-07-18T11:48:54.025Z"
   },
   {
    "duration": 0,
    "start_time": "2022-07-18T11:48:54.027Z"
   },
   {
    "duration": 0,
    "start_time": "2022-07-18T11:48:54.028Z"
   },
   {
    "duration": 0,
    "start_time": "2022-07-18T11:48:54.029Z"
   },
   {
    "duration": 0,
    "start_time": "2022-07-18T11:48:54.030Z"
   },
   {
    "duration": 0,
    "start_time": "2022-07-18T11:48:54.031Z"
   },
   {
    "duration": 26,
    "start_time": "2022-07-18T11:49:09.007Z"
   },
   {
    "duration": 31,
    "start_time": "2022-07-18T11:49:19.072Z"
   },
   {
    "duration": 330,
    "start_time": "2022-07-18T11:51:44.973Z"
   },
   {
    "duration": 324,
    "start_time": "2022-07-18T11:51:48.695Z"
   },
   {
    "duration": 306,
    "start_time": "2022-07-18T11:51:51.413Z"
   },
   {
    "duration": 315,
    "start_time": "2022-07-18T11:51:54.949Z"
   },
   {
    "duration": 326,
    "start_time": "2022-07-18T11:52:01.001Z"
   },
   {
    "duration": 25,
    "start_time": "2022-07-18T11:54:52.558Z"
   },
   {
    "duration": 36,
    "start_time": "2022-07-18T11:58:30.209Z"
   },
   {
    "duration": 159,
    "start_time": "2022-07-18T11:58:47.290Z"
   },
   {
    "duration": 2255,
    "start_time": "2022-07-18T11:58:47.451Z"
   },
   {
    "duration": 14,
    "start_time": "2022-07-18T11:58:49.709Z"
   },
   {
    "duration": 1930,
    "start_time": "2022-07-18T11:58:49.725Z"
   },
   {
    "duration": 1506,
    "start_time": "2022-07-18T11:58:51.658Z"
   },
   {
    "duration": 1496,
    "start_time": "2022-07-18T11:58:53.167Z"
   },
   {
    "duration": 10,
    "start_time": "2022-07-18T11:58:54.666Z"
   },
   {
    "duration": 8,
    "start_time": "2022-07-18T11:58:54.677Z"
   },
   {
    "duration": 45,
    "start_time": "2022-07-18T11:58:54.687Z"
   },
   {
    "duration": 6,
    "start_time": "2022-07-18T11:58:54.734Z"
   },
   {
    "duration": 10,
    "start_time": "2022-07-18T11:58:54.741Z"
   },
   {
    "duration": 0,
    "start_time": "2022-07-18T11:58:54.753Z"
   },
   {
    "duration": 0,
    "start_time": "2022-07-18T11:58:54.754Z"
   },
   {
    "duration": 0,
    "start_time": "2022-07-18T11:58:54.755Z"
   },
   {
    "duration": 0,
    "start_time": "2022-07-18T11:58:54.756Z"
   },
   {
    "duration": 0,
    "start_time": "2022-07-18T11:58:54.757Z"
   },
   {
    "duration": 0,
    "start_time": "2022-07-18T11:58:54.758Z"
   },
   {
    "duration": 0,
    "start_time": "2022-07-18T11:58:54.798Z"
   },
   {
    "duration": 0,
    "start_time": "2022-07-18T11:58:54.799Z"
   },
   {
    "duration": 0,
    "start_time": "2022-07-18T11:58:54.801Z"
   },
   {
    "duration": 0,
    "start_time": "2022-07-18T11:58:54.802Z"
   },
   {
    "duration": 0,
    "start_time": "2022-07-18T11:58:54.803Z"
   },
   {
    "duration": 0,
    "start_time": "2022-07-18T11:58:54.804Z"
   },
   {
    "duration": 0,
    "start_time": "2022-07-18T11:58:54.805Z"
   },
   {
    "duration": 0,
    "start_time": "2022-07-18T11:58:54.807Z"
   },
   {
    "duration": 0,
    "start_time": "2022-07-18T11:58:54.807Z"
   },
   {
    "duration": 0,
    "start_time": "2022-07-18T11:58:54.810Z"
   },
   {
    "duration": 0,
    "start_time": "2022-07-18T11:58:54.811Z"
   },
   {
    "duration": 0,
    "start_time": "2022-07-18T11:58:54.812Z"
   },
   {
    "duration": 0,
    "start_time": "2022-07-18T11:58:54.813Z"
   },
   {
    "duration": 0,
    "start_time": "2022-07-18T11:58:54.814Z"
   },
   {
    "duration": 0,
    "start_time": "2022-07-18T11:58:54.815Z"
   },
   {
    "duration": 0,
    "start_time": "2022-07-18T11:58:54.816Z"
   },
   {
    "duration": 0,
    "start_time": "2022-07-18T11:58:54.818Z"
   },
   {
    "duration": 0,
    "start_time": "2022-07-18T11:58:54.819Z"
   },
   {
    "duration": 0,
    "start_time": "2022-07-18T11:58:54.820Z"
   },
   {
    "duration": 0,
    "start_time": "2022-07-18T11:58:54.821Z"
   },
   {
    "duration": 0,
    "start_time": "2022-07-18T11:58:54.822Z"
   },
   {
    "duration": 0,
    "start_time": "2022-07-18T11:58:54.824Z"
   },
   {
    "duration": 20,
    "start_time": "2022-07-18T11:59:52.098Z"
   },
   {
    "duration": 21,
    "start_time": "2022-07-18T12:02:13.122Z"
   },
   {
    "duration": 17,
    "start_time": "2022-07-18T12:02:32.121Z"
   },
   {
    "duration": 378,
    "start_time": "2022-07-18T12:02:42.307Z"
   },
   {
    "duration": 392,
    "start_time": "2022-07-18T12:03:02.068Z"
   },
   {
    "duration": 328,
    "start_time": "2022-07-18T12:03:06.886Z"
   },
   {
    "duration": 20,
    "start_time": "2022-07-18T12:03:57.941Z"
   },
   {
    "duration": 14,
    "start_time": "2022-07-18T12:04:12.936Z"
   },
   {
    "duration": 10,
    "start_time": "2022-07-18T12:04:50.491Z"
   },
   {
    "duration": 10,
    "start_time": "2022-07-18T12:16:23.667Z"
   },
   {
    "duration": 13,
    "start_time": "2022-07-18T12:16:30.208Z"
   },
   {
    "duration": 10,
    "start_time": "2022-07-18T12:16:33.234Z"
   },
   {
    "duration": 10,
    "start_time": "2022-07-18T12:16:39.861Z"
   },
   {
    "duration": 13,
    "start_time": "2022-07-18T12:18:51.547Z"
   },
   {
    "duration": 370,
    "start_time": "2022-07-18T12:19:04.373Z"
   },
   {
    "duration": 226,
    "start_time": "2022-07-18T12:19:13.248Z"
   },
   {
    "duration": 212,
    "start_time": "2022-07-18T12:19:15.409Z"
   },
   {
    "duration": 240,
    "start_time": "2022-07-18T12:19:17.803Z"
   },
   {
    "duration": 1559,
    "start_time": "2022-07-18T12:19:21.985Z"
   },
   {
    "duration": 140,
    "start_time": "2022-07-18T12:19:35.407Z"
   },
   {
    "duration": 2354,
    "start_time": "2022-07-18T12:19:35.549Z"
   },
   {
    "duration": 15,
    "start_time": "2022-07-18T12:19:37.906Z"
   },
   {
    "duration": 1647,
    "start_time": "2022-07-18T12:19:37.925Z"
   },
   {
    "duration": 1595,
    "start_time": "2022-07-18T12:19:39.575Z"
   },
   {
    "duration": 18,
    "start_time": "2022-07-18T12:19:41.173Z"
   },
   {
    "duration": 1992,
    "start_time": "2022-07-18T12:19:41.193Z"
   },
   {
    "duration": 16,
    "start_time": "2022-07-18T12:19:43.187Z"
   },
   {
    "duration": 13,
    "start_time": "2022-07-18T12:19:43.207Z"
   },
   {
    "duration": 18,
    "start_time": "2022-07-18T12:19:43.225Z"
   },
   {
    "duration": 13,
    "start_time": "2022-07-18T12:19:43.245Z"
   },
   {
    "duration": 42,
    "start_time": "2022-07-18T12:19:43.260Z"
   },
   {
    "duration": 8,
    "start_time": "2022-07-18T12:19:43.306Z"
   },
   {
    "duration": 12,
    "start_time": "2022-07-18T12:19:43.316Z"
   },
   {
    "duration": 0,
    "start_time": "2022-07-18T12:19:43.330Z"
   },
   {
    "duration": 0,
    "start_time": "2022-07-18T12:19:43.331Z"
   },
   {
    "duration": 0,
    "start_time": "2022-07-18T12:19:43.332Z"
   },
   {
    "duration": 0,
    "start_time": "2022-07-18T12:19:43.333Z"
   },
   {
    "duration": 0,
    "start_time": "2022-07-18T12:19:43.334Z"
   },
   {
    "duration": 0,
    "start_time": "2022-07-18T12:19:43.335Z"
   },
   {
    "duration": 0,
    "start_time": "2022-07-18T12:19:43.336Z"
   },
   {
    "duration": 0,
    "start_time": "2022-07-18T12:19:43.337Z"
   },
   {
    "duration": 0,
    "start_time": "2022-07-18T12:19:43.338Z"
   },
   {
    "duration": 0,
    "start_time": "2022-07-18T12:19:43.339Z"
   },
   {
    "duration": 0,
    "start_time": "2022-07-18T12:19:43.340Z"
   },
   {
    "duration": 0,
    "start_time": "2022-07-18T12:19:43.341Z"
   },
   {
    "duration": 0,
    "start_time": "2022-07-18T12:19:43.342Z"
   },
   {
    "duration": 0,
    "start_time": "2022-07-18T12:19:43.343Z"
   },
   {
    "duration": 0,
    "start_time": "2022-07-18T12:19:43.344Z"
   },
   {
    "duration": 0,
    "start_time": "2022-07-18T12:19:43.345Z"
   },
   {
    "duration": 0,
    "start_time": "2022-07-18T12:19:43.346Z"
   },
   {
    "duration": 0,
    "start_time": "2022-07-18T12:19:43.347Z"
   },
   {
    "duration": 0,
    "start_time": "2022-07-18T12:19:43.349Z"
   },
   {
    "duration": 0,
    "start_time": "2022-07-18T12:19:43.350Z"
   },
   {
    "duration": 0,
    "start_time": "2022-07-18T12:19:43.351Z"
   },
   {
    "duration": 0,
    "start_time": "2022-07-18T12:19:43.352Z"
   },
   {
    "duration": 0,
    "start_time": "2022-07-18T12:19:43.353Z"
   },
   {
    "duration": 0,
    "start_time": "2022-07-18T12:19:43.353Z"
   },
   {
    "duration": 0,
    "start_time": "2022-07-18T12:19:43.398Z"
   },
   {
    "duration": 0,
    "start_time": "2022-07-18T12:19:43.400Z"
   },
   {
    "duration": 0,
    "start_time": "2022-07-18T12:19:43.401Z"
   },
   {
    "duration": 0,
    "start_time": "2022-07-18T12:19:43.402Z"
   },
   {
    "duration": 406,
    "start_time": "2022-07-18T12:20:21.725Z"
   },
   {
    "duration": 329,
    "start_time": "2022-07-18T12:20:25.997Z"
   },
   {
    "duration": 343,
    "start_time": "2022-07-18T12:20:28.811Z"
   },
   {
    "duration": 329,
    "start_time": "2022-07-18T12:20:31.012Z"
   },
   {
    "duration": 200,
    "start_time": "2022-07-18T12:20:43.194Z"
   },
   {
    "duration": 213,
    "start_time": "2022-07-18T12:20:45.141Z"
   },
   {
    "duration": 211,
    "start_time": "2022-07-18T12:20:47.197Z"
   },
   {
    "duration": 1735,
    "start_time": "2022-07-18T12:20:50.060Z"
   },
   {
    "duration": 364,
    "start_time": "2022-07-18T12:21:09.558Z"
   },
   {
    "duration": 232,
    "start_time": "2022-07-18T12:21:16.759Z"
   },
   {
    "duration": 200,
    "start_time": "2022-07-18T12:21:19.432Z"
   },
   {
    "duration": 207,
    "start_time": "2022-07-18T12:21:21.711Z"
   },
   {
    "duration": 126,
    "start_time": "2022-07-18T12:21:23.675Z"
   },
   {
    "duration": 214,
    "start_time": "2022-07-18T12:21:25.524Z"
   },
   {
    "duration": 221,
    "start_time": "2022-07-18T12:21:27.438Z"
   },
   {
    "duration": 199,
    "start_time": "2022-07-18T12:21:29.315Z"
   },
   {
    "duration": 222,
    "start_time": "2022-07-18T12:21:31.231Z"
   },
   {
    "duration": 189,
    "start_time": "2022-07-18T12:21:33.021Z"
   },
   {
    "duration": 193,
    "start_time": "2022-07-18T12:21:35.264Z"
   },
   {
    "duration": 355,
    "start_time": "2022-07-18T12:21:43.449Z"
   },
   {
    "duration": 376,
    "start_time": "2022-07-18T12:21:46.659Z"
   },
   {
    "duration": 93,
    "start_time": "2022-07-18T12:21:48.981Z"
   },
   {
    "duration": 147,
    "start_time": "2022-07-18T12:21:54.374Z"
   },
   {
    "duration": 804,
    "start_time": "2022-07-19T09:54:09.952Z"
   },
   {
    "duration": 2358,
    "start_time": "2022-07-19T09:54:10.758Z"
   },
   {
    "duration": 8,
    "start_time": "2022-07-19T09:54:13.118Z"
   },
   {
    "duration": 1320,
    "start_time": "2022-07-19T09:54:13.128Z"
   },
   {
    "duration": 1404,
    "start_time": "2022-07-19T09:54:14.450Z"
   },
   {
    "duration": 26,
    "start_time": "2022-07-19T09:54:15.856Z"
   },
   {
    "duration": 1363,
    "start_time": "2022-07-19T09:54:15.884Z"
   },
   {
    "duration": 20,
    "start_time": "2022-07-19T09:54:17.249Z"
   },
   {
    "duration": 9,
    "start_time": "2022-07-19T09:54:17.270Z"
   },
   {
    "duration": 21,
    "start_time": "2022-07-19T09:54:17.281Z"
   },
   {
    "duration": 15,
    "start_time": "2022-07-19T09:54:17.303Z"
   },
   {
    "duration": 11,
    "start_time": "2022-07-19T09:54:17.319Z"
   },
   {
    "duration": 7,
    "start_time": "2022-07-19T09:54:17.333Z"
   },
   {
    "duration": 253,
    "start_time": "2022-07-19T09:54:17.365Z"
   },
   {
    "duration": 318,
    "start_time": "2022-07-19T09:54:17.620Z"
   },
   {
    "duration": 372,
    "start_time": "2022-07-19T09:54:17.940Z"
   },
   {
    "duration": 391,
    "start_time": "2022-07-19T09:54:18.315Z"
   },
   {
    "duration": 312,
    "start_time": "2022-07-19T09:54:18.707Z"
   },
   {
    "duration": 423,
    "start_time": "2022-07-19T09:54:19.021Z"
   },
   {
    "duration": 231,
    "start_time": "2022-07-19T09:54:19.446Z"
   },
   {
    "duration": 219,
    "start_time": "2022-07-19T09:54:19.679Z"
   },
   {
    "duration": 208,
    "start_time": "2022-07-19T09:54:19.900Z"
   },
   {
    "duration": 129,
    "start_time": "2022-07-19T09:54:20.109Z"
   },
   {
    "duration": 236,
    "start_time": "2022-07-19T09:54:20.240Z"
   },
   {
    "duration": 250,
    "start_time": "2022-07-19T09:54:20.478Z"
   },
   {
    "duration": 204,
    "start_time": "2022-07-19T09:54:20.730Z"
   },
   {
    "duration": 202,
    "start_time": "2022-07-19T09:54:20.936Z"
   },
   {
    "duration": 190,
    "start_time": "2022-07-19T09:54:21.139Z"
   },
   {
    "duration": 213,
    "start_time": "2022-07-19T09:54:21.330Z"
   },
   {
    "duration": 411,
    "start_time": "2022-07-19T09:54:21.545Z"
   },
   {
    "duration": 330,
    "start_time": "2022-07-19T09:54:21.964Z"
   },
   {
    "duration": 103,
    "start_time": "2022-07-19T09:54:22.296Z"
   },
   {
    "duration": 168,
    "start_time": "2022-07-19T09:54:22.401Z"
   },
   {
    "duration": 227,
    "start_time": "2022-07-19T09:54:22.571Z"
   },
   {
    "duration": 209,
    "start_time": "2022-07-19T09:54:22.800Z"
   },
   {
    "duration": 166,
    "start_time": "2022-07-19T09:54:23.011Z"
   },
   {
    "duration": 153,
    "start_time": "2022-07-19T09:54:23.179Z"
   },
   {
    "duration": 176,
    "start_time": "2022-07-19T09:54:23.334Z"
   },
   {
    "duration": 293,
    "start_time": "2022-07-19T09:54:23.511Z"
   },
   {
    "duration": 171,
    "start_time": "2022-07-19T09:54:23.806Z"
   },
   {
    "duration": 32,
    "start_time": "2022-07-19T09:54:23.980Z"
   },
   {
    "duration": 22,
    "start_time": "2022-07-19T09:54:24.014Z"
   },
   {
    "duration": 1414,
    "start_time": "2022-07-19T09:54:56.249Z"
   },
   {
    "duration": 1475,
    "start_time": "2022-07-19T09:55:40.965Z"
   },
   {
    "duration": 1441,
    "start_time": "2022-07-19T09:55:49.039Z"
   },
   {
    "duration": 92,
    "start_time": "2022-07-19T09:57:09.940Z"
   }
  ],
  "kernelspec": {
   "display_name": "Python 3 (ipykernel)",
   "language": "python",
   "name": "python3"
  },
  "language_info": {
   "codemirror_mode": {
    "name": "ipython",
    "version": 3
   },
   "file_extension": ".py",
   "mimetype": "text/x-python",
   "name": "python",
   "nbconvert_exporter": "python",
   "pygments_lexer": "ipython3",
   "version": "3.9.12"
  },
  "toc": {
   "base_numbering": 1,
   "nav_menu": {
    "height": "394.983px",
    "width": "325.764px"
   },
   "number_sections": true,
   "sideBar": true,
   "skip_h1_title": true,
   "title_cell": "Table of Contents",
   "title_sidebar": "Contents",
   "toc_cell": false,
   "toc_position": {},
   "toc_section_display": true,
   "toc_window_display": false
  }
 },
 "nbformat": 4,
 "nbformat_minor": 2
}
