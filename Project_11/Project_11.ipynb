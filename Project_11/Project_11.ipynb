{
 "cells": [
  {
   "cell_type": "markdown",
   "metadata": {},
   "source": [
    "# Определение стоимости автомобилей"
   ]
  },
  {
   "cell_type": "markdown",
   "metadata": {},
   "source": [
    "Сервис по продаже автомобилей с пробегом «Не бит, не крашен» разрабатывает приложение для привлечения новых клиентов. В нём можно быстро узнать рыночную стоимость своего автомобиля. В вашем распоряжении исторические данные: технические характеристики, комплектации и цены автомобилей. Вам нужно построить модель для определения стоимости. \n",
    "\n",
    "Заказчику важны:\n",
    "\n",
    "- качество предсказания;\n",
    "- скорость предсказания;\n",
    "- время обучения."
   ]
  },
  {
   "cell_type": "markdown",
   "metadata": {},
   "source": [
    "## Подготовка данных"
   ]
  },
  {
   "cell_type": "markdown",
   "metadata": {},
   "source": [
    "Импорт нужных библиотек"
   ]
  },
  {
   "cell_type": "code",
   "execution_count": 1,
   "metadata": {},
   "outputs": [],
   "source": [
    "import pandas as pd\n",
    "import numpy as np\n",
    "import matplotlib.pyplot as plt\n",
    "import lightgbm as lgb\n",
    "\n",
    "from sklearn.model_selection import train_test_split\n",
    "from sklearn.model_selection import cross_val_score\n",
    "from sklearn.model_selection import GridSearchCV\n",
    "from sklearn.metrics import mean_squared_error\n",
    "from sklearn.ensemble import RandomForestRegressor\n",
    "from sklearn.linear_model import LinearRegression\n",
    "from sklearn.preprocessing import OrdinalEncoder\n",
    "from lightgbm import LGBMRegressor\n",
    "\n",
    "import warnings\n",
    "warnings.filterwarnings('ignore')"
   ]
  },
  {
   "cell_type": "code",
   "execution_count": 2,
   "metadata": {},
   "outputs": [],
   "source": [
    "RANDOM_STATE = 12345"
   ]
  },
  {
   "cell_type": "markdown",
   "metadata": {},
   "source": [
    "Загрузим и изучим данные"
   ]
  },
  {
   "cell_type": "code",
   "execution_count": 3,
   "metadata": {},
   "outputs": [],
   "source": [
    "data = pd.read_csv('/datasets/autos.csv')"
   ]
  },
  {
   "cell_type": "code",
   "execution_count": 4,
   "metadata": {},
   "outputs": [
    {
     "name": "stdout",
     "output_type": "stream",
     "text": [
      "<class 'pandas.core.frame.DataFrame'>\n",
      "RangeIndex: 354369 entries, 0 to 354368\n",
      "Data columns (total 16 columns):\n",
      " #   Column             Non-Null Count   Dtype \n",
      "---  ------             --------------   ----- \n",
      " 0   DateCrawled        354369 non-null  object\n",
      " 1   Price              354369 non-null  int64 \n",
      " 2   VehicleType        316879 non-null  object\n",
      " 3   RegistrationYear   354369 non-null  int64 \n",
      " 4   Gearbox            334536 non-null  object\n",
      " 5   Power              354369 non-null  int64 \n",
      " 6   Model              334664 non-null  object\n",
      " 7   Kilometer          354369 non-null  int64 \n",
      " 8   RegistrationMonth  354369 non-null  int64 \n",
      " 9   FuelType           321474 non-null  object\n",
      " 10  Brand              354369 non-null  object\n",
      " 11  NotRepaired        283215 non-null  object\n",
      " 12  DateCreated        354369 non-null  object\n",
      " 13  NumberOfPictures   354369 non-null  int64 \n",
      " 14  PostalCode         354369 non-null  int64 \n",
      " 15  LastSeen           354369 non-null  object\n",
      "dtypes: int64(7), object(9)\n",
      "memory usage: 43.3+ MB\n"
     ]
    }
   ],
   "source": [
    "data.info()"
   ]
  },
  {
   "cell_type": "code",
   "execution_count": 5,
   "metadata": {
    "scrolled": true
   },
   "outputs": [
    {
     "data": {
      "text/html": [
       "<div>\n",
       "<style scoped>\n",
       "    .dataframe tbody tr th:only-of-type {\n",
       "        vertical-align: middle;\n",
       "    }\n",
       "\n",
       "    .dataframe tbody tr th {\n",
       "        vertical-align: top;\n",
       "    }\n",
       "\n",
       "    .dataframe thead th {\n",
       "        text-align: right;\n",
       "    }\n",
       "</style>\n",
       "<table border=\"1\" class=\"dataframe\">\n",
       "  <thead>\n",
       "    <tr style=\"text-align: right;\">\n",
       "      <th></th>\n",
       "      <th>DateCrawled</th>\n",
       "      <th>Price</th>\n",
       "      <th>VehicleType</th>\n",
       "      <th>RegistrationYear</th>\n",
       "      <th>Gearbox</th>\n",
       "      <th>Power</th>\n",
       "      <th>Model</th>\n",
       "      <th>Kilometer</th>\n",
       "      <th>RegistrationMonth</th>\n",
       "      <th>FuelType</th>\n",
       "      <th>Brand</th>\n",
       "      <th>NotRepaired</th>\n",
       "      <th>DateCreated</th>\n",
       "      <th>NumberOfPictures</th>\n",
       "      <th>PostalCode</th>\n",
       "      <th>LastSeen</th>\n",
       "    </tr>\n",
       "  </thead>\n",
       "  <tbody>\n",
       "    <tr>\n",
       "      <th>0</th>\n",
       "      <td>2016-03-24 11:52:17</td>\n",
       "      <td>480</td>\n",
       "      <td>NaN</td>\n",
       "      <td>1993</td>\n",
       "      <td>manual</td>\n",
       "      <td>0</td>\n",
       "      <td>golf</td>\n",
       "      <td>150000</td>\n",
       "      <td>0</td>\n",
       "      <td>petrol</td>\n",
       "      <td>volkswagen</td>\n",
       "      <td>NaN</td>\n",
       "      <td>2016-03-24 00:00:00</td>\n",
       "      <td>0</td>\n",
       "      <td>70435</td>\n",
       "      <td>2016-04-07 03:16:57</td>\n",
       "    </tr>\n",
       "    <tr>\n",
       "      <th>1</th>\n",
       "      <td>2016-03-24 10:58:45</td>\n",
       "      <td>18300</td>\n",
       "      <td>coupe</td>\n",
       "      <td>2011</td>\n",
       "      <td>manual</td>\n",
       "      <td>190</td>\n",
       "      <td>NaN</td>\n",
       "      <td>125000</td>\n",
       "      <td>5</td>\n",
       "      <td>gasoline</td>\n",
       "      <td>audi</td>\n",
       "      <td>yes</td>\n",
       "      <td>2016-03-24 00:00:00</td>\n",
       "      <td>0</td>\n",
       "      <td>66954</td>\n",
       "      <td>2016-04-07 01:46:50</td>\n",
       "    </tr>\n",
       "    <tr>\n",
       "      <th>2</th>\n",
       "      <td>2016-03-14 12:52:21</td>\n",
       "      <td>9800</td>\n",
       "      <td>suv</td>\n",
       "      <td>2004</td>\n",
       "      <td>auto</td>\n",
       "      <td>163</td>\n",
       "      <td>grand</td>\n",
       "      <td>125000</td>\n",
       "      <td>8</td>\n",
       "      <td>gasoline</td>\n",
       "      <td>jeep</td>\n",
       "      <td>NaN</td>\n",
       "      <td>2016-03-14 00:00:00</td>\n",
       "      <td>0</td>\n",
       "      <td>90480</td>\n",
       "      <td>2016-04-05 12:47:46</td>\n",
       "    </tr>\n",
       "    <tr>\n",
       "      <th>3</th>\n",
       "      <td>2016-03-17 16:54:04</td>\n",
       "      <td>1500</td>\n",
       "      <td>small</td>\n",
       "      <td>2001</td>\n",
       "      <td>manual</td>\n",
       "      <td>75</td>\n",
       "      <td>golf</td>\n",
       "      <td>150000</td>\n",
       "      <td>6</td>\n",
       "      <td>petrol</td>\n",
       "      <td>volkswagen</td>\n",
       "      <td>no</td>\n",
       "      <td>2016-03-17 00:00:00</td>\n",
       "      <td>0</td>\n",
       "      <td>91074</td>\n",
       "      <td>2016-03-17 17:40:17</td>\n",
       "    </tr>\n",
       "    <tr>\n",
       "      <th>4</th>\n",
       "      <td>2016-03-31 17:25:20</td>\n",
       "      <td>3600</td>\n",
       "      <td>small</td>\n",
       "      <td>2008</td>\n",
       "      <td>manual</td>\n",
       "      <td>69</td>\n",
       "      <td>fabia</td>\n",
       "      <td>90000</td>\n",
       "      <td>7</td>\n",
       "      <td>gasoline</td>\n",
       "      <td>skoda</td>\n",
       "      <td>no</td>\n",
       "      <td>2016-03-31 00:00:00</td>\n",
       "      <td>0</td>\n",
       "      <td>60437</td>\n",
       "      <td>2016-04-06 10:17:21</td>\n",
       "    </tr>\n",
       "  </tbody>\n",
       "</table>\n",
       "</div>"
      ],
      "text/plain": [
       "           DateCrawled  Price VehicleType  RegistrationYear Gearbox  Power  \\\n",
       "0  2016-03-24 11:52:17    480         NaN              1993  manual      0   \n",
       "1  2016-03-24 10:58:45  18300       coupe              2011  manual    190   \n",
       "2  2016-03-14 12:52:21   9800         suv              2004    auto    163   \n",
       "3  2016-03-17 16:54:04   1500       small              2001  manual     75   \n",
       "4  2016-03-31 17:25:20   3600       small              2008  manual     69   \n",
       "\n",
       "   Model  Kilometer  RegistrationMonth  FuelType       Brand NotRepaired  \\\n",
       "0   golf     150000                  0    petrol  volkswagen         NaN   \n",
       "1    NaN     125000                  5  gasoline        audi         yes   \n",
       "2  grand     125000                  8  gasoline        jeep         NaN   \n",
       "3   golf     150000                  6    petrol  volkswagen          no   \n",
       "4  fabia      90000                  7  gasoline       skoda          no   \n",
       "\n",
       "           DateCreated  NumberOfPictures  PostalCode             LastSeen  \n",
       "0  2016-03-24 00:00:00                 0       70435  2016-04-07 03:16:57  \n",
       "1  2016-03-24 00:00:00                 0       66954  2016-04-07 01:46:50  \n",
       "2  2016-03-14 00:00:00                 0       90480  2016-04-05 12:47:46  \n",
       "3  2016-03-17 00:00:00                 0       91074  2016-03-17 17:40:17  \n",
       "4  2016-03-31 00:00:00                 0       60437  2016-04-06 10:17:21  "
      ]
     },
     "execution_count": 5,
     "metadata": {},
     "output_type": "execute_result"
    }
   ],
   "source": [
    "data.head()"
   ]
  },
  {
   "cell_type": "markdown",
   "metadata": {},
   "source": [
    "Выделим информативные для модели признаки:\n",
    "- VehicleType\n",
    "- RegistrationYear\n",
    "- Gearbox\n",
    "- Power\n",
    "- Model\n",
    "- Kilometer\n",
    "- FuelType\n",
    "- Brand\n",
    "- NotRepaired\n",
    "\n",
    "Целевой признак:\n",
    "- Price\n",
    "\n",
    "Остальные столбцы можно удалить из датасета, так как они не информативны:\n",
    "- дата скачивания анкеты из базы\n",
    "- дата создания анкеты\n",
    "- количество фотогорафий\n",
    "- почтовый индекс\n",
    "- дата последней активности пользователя\n",
    "\n",
    "Ничего из этого не влияет на стоимость автомобиля"
   ]
  },
  {
   "cell_type": "code",
   "execution_count": 6,
   "metadata": {},
   "outputs": [],
   "source": [
    "data = data.drop(['DateCrawled', 'RegistrationMonth','DateCreated','NumberOfPictures','PostalCode', 'LastSeen'], axis =1)"
   ]
  },
  {
   "cell_type": "code",
   "execution_count": 7,
   "metadata": {},
   "outputs": [
    {
     "data": {
      "text/html": [
       "<div>\n",
       "<style scoped>\n",
       "    .dataframe tbody tr th:only-of-type {\n",
       "        vertical-align: middle;\n",
       "    }\n",
       "\n",
       "    .dataframe tbody tr th {\n",
       "        vertical-align: top;\n",
       "    }\n",
       "\n",
       "    .dataframe thead th {\n",
       "        text-align: right;\n",
       "    }\n",
       "</style>\n",
       "<table border=\"1\" class=\"dataframe\">\n",
       "  <thead>\n",
       "    <tr style=\"text-align: right;\">\n",
       "      <th></th>\n",
       "      <th>Price</th>\n",
       "      <th>VehicleType</th>\n",
       "      <th>RegistrationYear</th>\n",
       "      <th>Gearbox</th>\n",
       "      <th>Power</th>\n",
       "      <th>Model</th>\n",
       "      <th>Kilometer</th>\n",
       "      <th>FuelType</th>\n",
       "      <th>Brand</th>\n",
       "      <th>NotRepaired</th>\n",
       "    </tr>\n",
       "  </thead>\n",
       "  <tbody>\n",
       "    <tr>\n",
       "      <th>0</th>\n",
       "      <td>480</td>\n",
       "      <td>NaN</td>\n",
       "      <td>1993</td>\n",
       "      <td>manual</td>\n",
       "      <td>0</td>\n",
       "      <td>golf</td>\n",
       "      <td>150000</td>\n",
       "      <td>petrol</td>\n",
       "      <td>volkswagen</td>\n",
       "      <td>NaN</td>\n",
       "    </tr>\n",
       "    <tr>\n",
       "      <th>1</th>\n",
       "      <td>18300</td>\n",
       "      <td>coupe</td>\n",
       "      <td>2011</td>\n",
       "      <td>manual</td>\n",
       "      <td>190</td>\n",
       "      <td>NaN</td>\n",
       "      <td>125000</td>\n",
       "      <td>gasoline</td>\n",
       "      <td>audi</td>\n",
       "      <td>yes</td>\n",
       "    </tr>\n",
       "    <tr>\n",
       "      <th>2</th>\n",
       "      <td>9800</td>\n",
       "      <td>suv</td>\n",
       "      <td>2004</td>\n",
       "      <td>auto</td>\n",
       "      <td>163</td>\n",
       "      <td>grand</td>\n",
       "      <td>125000</td>\n",
       "      <td>gasoline</td>\n",
       "      <td>jeep</td>\n",
       "      <td>NaN</td>\n",
       "    </tr>\n",
       "    <tr>\n",
       "      <th>3</th>\n",
       "      <td>1500</td>\n",
       "      <td>small</td>\n",
       "      <td>2001</td>\n",
       "      <td>manual</td>\n",
       "      <td>75</td>\n",
       "      <td>golf</td>\n",
       "      <td>150000</td>\n",
       "      <td>petrol</td>\n",
       "      <td>volkswagen</td>\n",
       "      <td>no</td>\n",
       "    </tr>\n",
       "    <tr>\n",
       "      <th>4</th>\n",
       "      <td>3600</td>\n",
       "      <td>small</td>\n",
       "      <td>2008</td>\n",
       "      <td>manual</td>\n",
       "      <td>69</td>\n",
       "      <td>fabia</td>\n",
       "      <td>90000</td>\n",
       "      <td>gasoline</td>\n",
       "      <td>skoda</td>\n",
       "      <td>no</td>\n",
       "    </tr>\n",
       "  </tbody>\n",
       "</table>\n",
       "</div>"
      ],
      "text/plain": [
       "   Price VehicleType  RegistrationYear Gearbox  Power  Model  Kilometer  \\\n",
       "0    480         NaN              1993  manual      0   golf     150000   \n",
       "1  18300       coupe              2011  manual    190    NaN     125000   \n",
       "2   9800         suv              2004    auto    163  grand     125000   \n",
       "3   1500       small              2001  manual     75   golf     150000   \n",
       "4   3600       small              2008  manual     69  fabia      90000   \n",
       "\n",
       "   FuelType       Brand NotRepaired  \n",
       "0    petrol  volkswagen         NaN  \n",
       "1  gasoline        audi         yes  \n",
       "2  gasoline        jeep         NaN  \n",
       "3    petrol  volkswagen          no  \n",
       "4  gasoline       skoda          no  "
      ]
     },
     "execution_count": 7,
     "metadata": {},
     "output_type": "execute_result"
    }
   ],
   "source": [
    "data.head()"
   ]
  },
  {
   "cell_type": "markdown",
   "metadata": {},
   "source": [
    "Удалим явные дубликаты"
   ]
  },
  {
   "cell_type": "code",
   "execution_count": 8,
   "metadata": {
    "scrolled": true
   },
   "outputs": [
    {
     "data": {
      "text/plain": [
       "45040"
      ]
     },
     "metadata": {},
     "output_type": "display_data"
    }
   ],
   "source": [
    "display(data.duplicated().sum())\n",
    "data = data.drop_duplicates()"
   ]
  },
  {
   "cell_type": "markdown",
   "metadata": {},
   "source": [
    "Проверим пропуски"
   ]
  },
  {
   "cell_type": "code",
   "execution_count": 9,
   "metadata": {},
   "outputs": [
    {
     "data": {
      "text/plain": [
       "Price                   0\n",
       "VehicleType         34559\n",
       "RegistrationYear        0\n",
       "Gearbox             17207\n",
       "Power                   0\n",
       "Model               18361\n",
       "Kilometer               0\n",
       "FuelType            30764\n",
       "Brand                   0\n",
       "NotRepaired         64558\n",
       "dtype: int64"
      ]
     },
     "execution_count": 9,
     "metadata": {},
     "output_type": "execute_result"
    }
   ],
   "source": [
    "data.isna().sum()"
   ]
  },
  {
   "cell_type": "markdown",
   "metadata": {},
   "source": [
    "В столбцах VehicleType, Gearbox, Model, FuelType, NotRepaired присутствуют пропуски. Нужно их обработать.\n",
    "\n",
    "Пропуски в VehicleType, Gearbox и FuelType можно заполнить наиболее частыми значениями при помощи .mode()"
   ]
  },
  {
   "cell_type": "code",
   "execution_count": 10,
   "metadata": {},
   "outputs": [],
   "source": [
    "data['VehicleType'] = data['VehicleType'].fillna(data['VehicleType'].mode().values[0])\n",
    "data['Gearbox'] = data['Gearbox'].fillna(data['Gearbox'].mode().values[0])\n",
    "data['FuelType'] = data['FuelType'].fillna(data['FuelType'].mode().values[0])"
   ]
  },
  {
   "cell_type": "markdown",
   "metadata": {},
   "source": [
    "Пропуски в Model и NotRepaired заменим на 'unknown'"
   ]
  },
  {
   "cell_type": "code",
   "execution_count": 11,
   "metadata": {},
   "outputs": [],
   "source": [
    "data['Model'] = data['Model'].fillna('unknown')\n",
    "data['NotRepaired'] = data['NotRepaired'].fillna('unknown')"
   ]
  },
  {
   "cell_type": "code",
   "execution_count": 12,
   "metadata": {},
   "outputs": [
    {
     "data": {
      "text/plain": [
       "Price               0\n",
       "VehicleType         0\n",
       "RegistrationYear    0\n",
       "Gearbox             0\n",
       "Power               0\n",
       "Model               0\n",
       "Kilometer           0\n",
       "FuelType            0\n",
       "Brand               0\n",
       "NotRepaired         0\n",
       "dtype: int64"
      ]
     },
     "execution_count": 12,
     "metadata": {},
     "output_type": "execute_result"
    }
   ],
   "source": [
    "data.isna().sum()"
   ]
  },
  {
   "cell_type": "markdown",
   "metadata": {},
   "source": [
    "Проверка значений"
   ]
  },
  {
   "cell_type": "code",
   "execution_count": 13,
   "metadata": {},
   "outputs": [
    {
     "data": {
      "text/html": [
       "<div>\n",
       "<style scoped>\n",
       "    .dataframe tbody tr th:only-of-type {\n",
       "        vertical-align: middle;\n",
       "    }\n",
       "\n",
       "    .dataframe tbody tr th {\n",
       "        vertical-align: top;\n",
       "    }\n",
       "\n",
       "    .dataframe thead th {\n",
       "        text-align: right;\n",
       "    }\n",
       "</style>\n",
       "<table border=\"1\" class=\"dataframe\">\n",
       "  <thead>\n",
       "    <tr style=\"text-align: right;\">\n",
       "      <th></th>\n",
       "      <th>Price</th>\n",
       "      <th>RegistrationYear</th>\n",
       "      <th>Power</th>\n",
       "      <th>Kilometer</th>\n",
       "    </tr>\n",
       "  </thead>\n",
       "  <tbody>\n",
       "    <tr>\n",
       "      <th>count</th>\n",
       "      <td>309329.000000</td>\n",
       "      <td>309329.000000</td>\n",
       "      <td>309329.000000</td>\n",
       "      <td>309329.000000</td>\n",
       "    </tr>\n",
       "    <tr>\n",
       "      <th>mean</th>\n",
       "      <td>4486.937196</td>\n",
       "      <td>2004.360105</td>\n",
       "      <td>110.976908</td>\n",
       "      <td>127217.735809</td>\n",
       "    </tr>\n",
       "    <tr>\n",
       "      <th>std</th>\n",
       "      <td>4564.852796</td>\n",
       "      <td>92.541399</td>\n",
       "      <td>200.969473</td>\n",
       "      <td>38532.941010</td>\n",
       "    </tr>\n",
       "    <tr>\n",
       "      <th>min</th>\n",
       "      <td>0.000000</td>\n",
       "      <td>1000.000000</td>\n",
       "      <td>0.000000</td>\n",
       "      <td>5000.000000</td>\n",
       "    </tr>\n",
       "    <tr>\n",
       "      <th>25%</th>\n",
       "      <td>1100.000000</td>\n",
       "      <td>1999.000000</td>\n",
       "      <td>69.000000</td>\n",
       "      <td>125000.000000</td>\n",
       "    </tr>\n",
       "    <tr>\n",
       "      <th>50%</th>\n",
       "      <td>2800.000000</td>\n",
       "      <td>2003.000000</td>\n",
       "      <td>105.000000</td>\n",
       "      <td>150000.000000</td>\n",
       "    </tr>\n",
       "    <tr>\n",
       "      <th>75%</th>\n",
       "      <td>6500.000000</td>\n",
       "      <td>2008.000000</td>\n",
       "      <td>143.000000</td>\n",
       "      <td>150000.000000</td>\n",
       "    </tr>\n",
       "    <tr>\n",
       "      <th>max</th>\n",
       "      <td>20000.000000</td>\n",
       "      <td>9999.000000</td>\n",
       "      <td>20000.000000</td>\n",
       "      <td>150000.000000</td>\n",
       "    </tr>\n",
       "  </tbody>\n",
       "</table>\n",
       "</div>"
      ],
      "text/plain": [
       "               Price  RegistrationYear          Power      Kilometer\n",
       "count  309329.000000     309329.000000  309329.000000  309329.000000\n",
       "mean     4486.937196       2004.360105     110.976908  127217.735809\n",
       "std      4564.852796         92.541399     200.969473   38532.941010\n",
       "min         0.000000       1000.000000       0.000000    5000.000000\n",
       "25%      1100.000000       1999.000000      69.000000  125000.000000\n",
       "50%      2800.000000       2003.000000     105.000000  150000.000000\n",
       "75%      6500.000000       2008.000000     143.000000  150000.000000\n",
       "max     20000.000000       9999.000000   20000.000000  150000.000000"
      ]
     },
     "execution_count": 13,
     "metadata": {},
     "output_type": "execute_result"
    }
   ],
   "source": [
    "data.describe()"
   ]
  },
  {
   "cell_type": "code",
   "execution_count": 14,
   "metadata": {},
   "outputs": [],
   "source": [
    "def show(data):\n",
    "    for column in data.columns:\n",
    "        print('Значения столбца', column)\n",
    "        print()\n",
    "        print(data[column].value_counts(sort = True))\n",
    "        print()"
   ]
  },
  {
   "cell_type": "code",
   "execution_count": 15,
   "metadata": {},
   "outputs": [
    {
     "name": "stdout",
     "output_type": "stream",
     "text": [
      "Значения столбца Price\n",
      "\n",
      "0        8904\n",
      "500      4650\n",
      "1500     4533\n",
      "1000     3875\n",
      "1200     3799\n",
      "         ... \n",
      "1654        1\n",
      "5748        1\n",
      "7285        1\n",
      "11379       1\n",
      "8188        1\n",
      "Name: Price, Length: 3731, dtype: int64\n",
      "\n",
      "Значения столбца VehicleType\n",
      "\n",
      "sedan          112765\n",
      "small           67548\n",
      "wagon           56367\n",
      "bus             25830\n",
      "convertible     18195\n",
      "coupe           14690\n",
      "suv             10776\n",
      "other            3158\n",
      "Name: VehicleType, dtype: int64\n",
      "\n",
      "Значения столбца RegistrationYear\n",
      "\n",
      "2000    20840\n",
      "2005    19350\n",
      "1999    18876\n",
      "2001    17234\n",
      "2006    17201\n",
      "        ...  \n",
      "4100        1\n",
      "1200        1\n",
      "5300        1\n",
      "8888        1\n",
      "2290        1\n",
      "Name: RegistrationYear, Length: 151, dtype: int64\n",
      "\n",
      "Значения столбца Gearbox\n",
      "\n",
      "manual    249981\n",
      "auto       59348\n",
      "Name: Gearbox, dtype: int64\n",
      "\n",
      "Значения столбца Power\n",
      "\n",
      "0       35978\n",
      "75      19530\n",
      "60      12880\n",
      "150     12650\n",
      "90      11320\n",
      "        ...  \n",
      "525         1\n",
      "6018        1\n",
      "1920        1\n",
      "640         1\n",
      "902         1\n",
      "Name: Power, Length: 712, dtype: int64\n",
      "\n",
      "Значения столбца Model\n",
      "\n",
      "golf                  23639\n",
      "other                 22934\n",
      "unknown               18361\n",
      "3er                   16700\n",
      "polo                  10494\n",
      "                      ...  \n",
      "kalina                    7\n",
      "serie_3                   4\n",
      "rangerover                4\n",
      "serie_1                   2\n",
      "range_rover_evoque        1\n",
      "Name: Model, Length: 251, dtype: int64\n",
      "\n",
      "Значения столбца Kilometer\n",
      "\n",
      "150000    203663\n",
      "125000     32914\n",
      "100000     13539\n",
      "90000      10511\n",
      "80000       9160\n",
      "70000       7946\n",
      "60000       6682\n",
      "5000        5897\n",
      "50000       5700\n",
      "40000       4451\n",
      "30000       4026\n",
      "20000       3690\n",
      "10000       1150\n",
      "Name: Kilometer, dtype: int64\n",
      "\n",
      "Значения столбца FuelType\n",
      "\n",
      "petrol      218612\n",
      "gasoline     84794\n",
      "lpg           4888\n",
      "cng            524\n",
      "hybrid         222\n",
      "other          200\n",
      "electric        89\n",
      "Name: FuelType, dtype: int64\n",
      "\n",
      "Значения столбца Brand\n",
      "\n",
      "volkswagen        63907\n",
      "opel              33957\n",
      "bmw               31716\n",
      "mercedes_benz     28696\n",
      "audi              25470\n",
      "ford              22400\n",
      "renault           15798\n",
      "peugeot            9808\n",
      "fiat               8675\n",
      "seat               6188\n",
      "mazda              5113\n",
      "skoda              4967\n",
      "smart              4823\n",
      "citroen            4798\n",
      "nissan             4489\n",
      "toyota             4248\n",
      "hyundai            3295\n",
      "sonstige_autos     2931\n",
      "volvo              2907\n",
      "mini               2866\n",
      "mitsubishi         2812\n",
      "honda              2637\n",
      "kia                2247\n",
      "suzuki             2158\n",
      "alfa_romeo         2142\n",
      "chevrolet          1648\n",
      "chrysler           1352\n",
      "dacia               830\n",
      "daihatsu            752\n",
      "subaru              726\n",
      "porsche             699\n",
      "jeep                639\n",
      "trabant             555\n",
      "daewoo              508\n",
      "land_rover          507\n",
      "saab                484\n",
      "jaguar              479\n",
      "rover               449\n",
      "lancia              443\n",
      "lada                210\n",
      "Name: Brand, dtype: int64\n",
      "\n",
      "Значения столбца NotRepaired\n",
      "\n",
      "no         211328\n",
      "unknown     64558\n",
      "yes         33443\n",
      "Name: NotRepaired, dtype: int64\n",
      "\n"
     ]
    }
   ],
   "source": [
    "show(data)"
   ]
  },
  {
   "cell_type": "markdown",
   "metadata": {},
   "source": [
    "1. Price - нулевые значения\n",
    "2. RegistrationYear - неадекватные значения\n",
    "3. Power - неадекватные значения"
   ]
  },
  {
   "cell_type": "markdown",
   "metadata": {},
   "source": [
    "Изучим гистограмму по столбцу Price, чтоб визуально оценить значения"
   ]
  },
  {
   "cell_type": "code",
   "execution_count": 16,
   "metadata": {},
   "outputs": [
    {
     "data": {
      "text/plain": [
       "<AxesSubplot:>"
      ]
     },
     "execution_count": 16,
     "metadata": {},
     "output_type": "execute_result"
    },
    {
     "data": {
      "image/png": "[encoded data removed]",
      "text/plain": [
       "<Figure size 1008x720 with 1 Axes>"
      ]
     },
     "metadata": {
      "needs_background": "light"
     },
     "output_type": "display_data"
    }
   ],
   "source": [
    "data['Price'].hist(bins=100, figsize=(14,10))"
   ]
  },
  {
   "cell_type": "markdown",
   "metadata": {},
   "source": [
    "Судя по гистограамме в столбце присуствует много нулевых и околонулевых значений, так же присутствуют выбросы после 10000.\n",
    "\n",
    "Нужно обработать столбец, чтоб убрать вредные данные. Автомобиль может стоит 20000 евро, но близких к нулю цен на рынке нет.\n",
    "\n",
    "Можно убрать все данные до 5% квантиля, таким образом избавившись от очень маленьких значений"
   ]
  },
  {
   "cell_type": "code",
   "execution_count": 17,
   "metadata": {},
   "outputs": [
    {
     "data": {
      "text/plain": [
       "0.05    200.0\n",
       "Name: Price, dtype: float64"
      ]
     },
     "metadata": {},
     "output_type": "display_data"
    }
   ],
   "source": [
    "display(data['Price'].quantile([.05]))"
   ]
  },
  {
   "cell_type": "markdown",
   "metadata": {},
   "source": [
    "200 вполне нормальная цена за старый и битый автомобиль LADA"
   ]
  },
  {
   "cell_type": "code",
   "execution_count": 18,
   "metadata": {},
   "outputs": [],
   "source": [
    "data = data.query('Price >= 200')"
   ]
  },
  {
   "cell_type": "markdown",
   "metadata": {},
   "source": [
    "В столбце RegistrationYear есть нереальные для года регистрации авто значения, такие как 1200 или 8888.\n",
    "\n",
    "Исправить это можно обратившьись к окружающему миру. Сейчас 2022 год, серийный выпуск автомобилей начал зарождаться с начала 20 века.\n",
    "\n",
    "Соответственно все данные не входящие в отрезок с 1900 по 2022 нужно убрать"
   ]
  },
  {
   "cell_type": "code",
   "execution_count": 19,
   "metadata": {},
   "outputs": [],
   "source": [
    "data = data.query('1900 <= RegistrationYear <= 2022')"
   ]
  },
  {
   "cell_type": "code",
   "execution_count": 20,
   "metadata": {},
   "outputs": [
    {
     "data": {
      "text/plain": [
       "count    294103.000000\n",
       "mean       2003.327045\n",
       "std           7.476435\n",
       "min        1910.000000\n",
       "25%        1999.000000\n",
       "50%        2003.000000\n",
       "75%        2008.000000\n",
       "max        2019.000000\n",
       "Name: RegistrationYear, dtype: float64"
      ]
     },
     "execution_count": 20,
     "metadata": {},
     "output_type": "execute_result"
    }
   ],
   "source": [
    "data['RegistrationYear'].describe()"
   ]
  },
  {
   "cell_type": "markdown",
   "metadata": {},
   "source": [
    "Теперь изучим столбец Power\n",
    "\n",
    "Построим гистограмму, сразу уберём значения свыше 1200 л.с."
   ]
  },
  {
   "cell_type": "code",
   "execution_count": 21,
   "metadata": {},
   "outputs": [
    {
     "data": {
      "text/plain": [
       "<AxesSubplot:>"
      ]
     },
     "execution_count": 21,
     "metadata": {},
     "output_type": "execute_result"
    },
    {
     "data": {
      "image/png": "[encoded data removed]",
      "text/plain": [
       "<Figure size 1008x720 with 1 Axes>"
      ]
     },
     "metadata": {
      "needs_background": "light"
     },
     "output_type": "display_data"
    }
   ],
   "source": [
    "data = data.query('Power <= 1200')\n",
    "data['Power'].hist(bins=100, figsize=(14,10))"
   ]
  },
  {
   "cell_type": "markdown",
   "metadata": {},
   "source": [
    "Много нулевых и немного околонулевых значений\n",
    "\n",
    "Можно убрать значения меньше 10 л.с.(маленькие электрокары могут быть такой мощности)"
   ]
  },
  {
   "cell_type": "code",
   "execution_count": 22,
   "metadata": {},
   "outputs": [],
   "source": [
    "data = data.query('Power >= 10')"
   ]
  },
  {
   "cell_type": "markdown",
   "metadata": {},
   "source": [
    "Посмотрим на корреляцию признаков"
   ]
  },
  {
   "cell_type": "code",
   "execution_count": 23,
   "metadata": {},
   "outputs": [
    {
     "data": {
      "text/html": [
       "<div>\n",
       "<style scoped>\n",
       "    .dataframe tbody tr th:only-of-type {\n",
       "        vertical-align: middle;\n",
       "    }\n",
       "\n",
       "    .dataframe tbody tr th {\n",
       "        vertical-align: top;\n",
       "    }\n",
       "\n",
       "    .dataframe thead th {\n",
       "        text-align: right;\n",
       "    }\n",
       "</style>\n",
       "<table border=\"1\" class=\"dataframe\">\n",
       "  <thead>\n",
       "    <tr style=\"text-align: right;\">\n",
       "      <th></th>\n",
       "      <th>Price</th>\n",
       "      <th>RegistrationYear</th>\n",
       "      <th>Power</th>\n",
       "      <th>Kilometer</th>\n",
       "    </tr>\n",
       "  </thead>\n",
       "  <tbody>\n",
       "    <tr>\n",
       "      <th>Price</th>\n",
       "      <td>1.000000</td>\n",
       "      <td>0.402263</td>\n",
       "      <td>0.470558</td>\n",
       "      <td>-0.379256</td>\n",
       "    </tr>\n",
       "    <tr>\n",
       "      <th>RegistrationYear</th>\n",
       "      <td>0.402263</td>\n",
       "      <td>1.000000</td>\n",
       "      <td>0.083662</td>\n",
       "      <td>-0.239033</td>\n",
       "    </tr>\n",
       "    <tr>\n",
       "      <th>Power</th>\n",
       "      <td>0.470558</td>\n",
       "      <td>0.083662</td>\n",
       "      <td>1.000000</td>\n",
       "      <td>0.117719</td>\n",
       "    </tr>\n",
       "    <tr>\n",
       "      <th>Kilometer</th>\n",
       "      <td>-0.379256</td>\n",
       "      <td>-0.239033</td>\n",
       "      <td>0.117719</td>\n",
       "      <td>1.000000</td>\n",
       "    </tr>\n",
       "  </tbody>\n",
       "</table>\n",
       "</div>"
      ],
      "text/plain": [
       "                     Price  RegistrationYear     Power  Kilometer\n",
       "Price             1.000000          0.402263  0.470558  -0.379256\n",
       "RegistrationYear  0.402263          1.000000  0.083662  -0.239033\n",
       "Power             0.470558          0.083662  1.000000   0.117719\n",
       "Kilometer        -0.379256         -0.239033  0.117719   1.000000"
      ]
     },
     "execution_count": 23,
     "metadata": {},
     "output_type": "execute_result"
    }
   ],
   "source": [
    "data.corr()"
   ]
  },
  {
   "cell_type": "markdown",
   "metadata": {},
   "source": [
    "Всё в порядке. Сильне всех коррелирует с целевым признаком признак Power"
   ]
  },
  {
   "cell_type": "markdown",
   "metadata": {},
   "source": [
    "### Вывод\n",
    "\n",
    "- Загружены и изучены данные\n",
    "- Из данных удалены ненужные для модели признаки\n",
    "- Обработаны пропуски\n",
    "- Удалены выбросы и нулевые значения\n",
    "- Изучена корреляция\n",
    "\n",
    "**Данные готовы**"
   ]
  },
  {
   "cell_type": "markdown",
   "metadata": {},
   "source": [
    "## Обучение моделей"
   ]
  },
  {
   "cell_type": "markdown",
   "metadata": {},
   "source": [
    "**Будем обучать следующие модели:**\n",
    "\n",
    "**1. Линейная регрессия**\n",
    "\n",
    "**2. Случайный лес**\n",
    "\n",
    "**3. LightGBM**"
   ]
  },
  {
   "cell_type": "markdown",
   "metadata": {},
   "source": [
    "### Кодировка и выборки"
   ]
  },
  {
   "cell_type": "code",
   "execution_count": 24,
   "metadata": {},
   "outputs": [],
   "source": [
    "data = data.astype({'VehicleType':'category',\n",
    "                                  'Gearbox':'category',\n",
    "                                  'Model':'category',\n",
    "                                  'FuelType':'category',\n",
    "                                  'Brand':'category',\n",
    "                                  'NotRepaired':'category'})\n",
    "features = data.drop('Price', axis=1)\n",
    "target = data['Price']\n",
    "\n",
    "ohe_features = pd.get_dummies(features, drop_first=True)\n",
    "\n",
    "encoder = OrdinalEncoder()\n",
    "cat_columns = ['VehicleType','Gearbox','Model','FuelType','Brand','NotRepaired']\n",
    "cat_features = features[cat_columns]\n",
    "cat_features = pd.DataFrame(encoder.fit_transform(cat_features),\n",
    "                                columns=cat_features.columns, \n",
    "                                index=cat_features.index)\n",
    "oe_features = features.copy()\n",
    "for column in cat_columns:\n",
    "    oe_features[column] = cat_features[column]\n",
    "\n",
    "features_train, features_test, target_train, target_test = train_test_split(\n",
    "    features, target, test_size=0.25, random_state=RANDOM_STATE)\n",
    "\n",
    "ohe_features_train = ohe_features.loc[features_train.index, :]\n",
    "ohe_features_test = ohe_features.loc[features_test.index, :]\n",
    "oe_features_train = oe_features.loc[features_train.index, :]\n",
    "oe_features_test = oe_features.loc[features_test.index, :]"
   ]
  },
  {
   "cell_type": "markdown",
   "metadata": {},
   "source": [
    "### Линейная регрессия"
   ]
  },
  {
   "cell_type": "code",
   "execution_count": 25,
   "metadata": {},
   "outputs": [
    {
     "name": "stdout",
     "output_type": "stream",
     "text": [
      "LinearRegression RMSE = 2753.4161043180497\n",
      "CPU times: user 45.4 s, sys: 21.2 s, total: 1min 6s\n",
      "Wall time: 1min 6s\n"
     ]
    }
   ],
   "source": [
    "%%time\n",
    "lr_model = LinearRegression(n_jobs=-1)\n",
    "lr_rmse = (cross_val_score(lr_model, ohe_features_train, target_train, \n",
    "                           scoring='neg_mean_squared_error').mean() * -1) ** 0.5\n",
    "print('LinearRegression RMSE =', lr_rmse)"
   ]
  },
  {
   "cell_type": "markdown",
   "metadata": {},
   "source": [
    "### Случайный лес"
   ]
  },
  {
   "cell_type": "code",
   "execution_count": 26,
   "metadata": {},
   "outputs": [
    {
     "name": "stdout",
     "output_type": "stream",
     "text": [
      "RandomForestRegressorRMSE = 1712.9209878939523\n",
      "CPU times: user 3min 10s, sys: 3.85 s, total: 3min 14s\n",
      "Wall time: 3min 15s\n"
     ]
    }
   ],
   "source": [
    "%%time\n",
    "rf_model = RandomForestRegressor(criterion = \"mse\", random_state=RANDOM_STATE, n_estimators = 100)\n",
    "rf_rmse = (cross_val_score(rf_model, oe_features_train, target_train, \n",
    "                           scoring='neg_mean_squared_error').mean() * -1) ** 0.5\n",
    "print('RandomForestRegressorRMSE =', rf_rmse)"
   ]
  },
  {
   "cell_type": "markdown",
   "metadata": {},
   "source": [
    "### LightGBM"
   ]
  },
  {
   "cell_type": "code",
   "execution_count": 27,
   "metadata": {},
   "outputs": [
    {
     "name": "stdout",
     "output_type": "stream",
     "text": [
      "{'learning_rate': 0.3, 'max_depth': 15, 'num_leaves': 100, 'random_state': 12345}\n"
     ]
    }
   ],
   "source": [
    "lgbm_model = LGBMRegressor() \n",
    "parameters = [{'num_leaves':[31, 50, 100], \n",
    "                'learning_rate':[0.1, 0.3, 0.5],\n",
    "                'max_depth':[5,10,15],\n",
    "                'random_state':[RANDOM_STATE]}]\n",
    "grid = GridSearchCV(lgbm_model, parameters, scoring='neg_mean_squared_error')\n",
    "grid.fit(oe_features_train, target_train)\n",
    "print(grid.best_params_)"
   ]
  },
  {
   "cell_type": "code",
   "execution_count": 28,
   "metadata": {},
   "outputs": [
    {
     "name": "stdout",
     "output_type": "stream",
     "text": [
      "LinearRegression RMSE = 1641.2437174863392\n"
     ]
    }
   ],
   "source": [
    "lgbm_model = LGBMRegressor(max_depth = 15, num_leaves = 100, learning_rate=0.3, random_state=RANDOM_STATE)\n",
    "lgbm_rmse = (cross_val_score(lgbm_model, oe_features_train, target_train, \n",
    "                           scoring='neg_mean_squared_error').mean() * -1) ** 0.5\n",
    "print('LinearRegression RMSE =', lgbm_rmse)"
   ]
  },
  {
   "cell_type": "markdown",
   "metadata": {},
   "source": [
    "## Анализ моделей"
   ]
  },
  {
   "cell_type": "markdown",
   "metadata": {},
   "source": [
    "Перед началом работы были определены китерии, которые важны заказчику:\n",
    "- качество предсказания\n",
    "- время обучения модели\n",
    "- время предсказания модели\n",
    "\n",
    "**Разберем каждый критерий по отдельности**"
   ]
  },
  {
   "cell_type": "markdown",
   "metadata": {},
   "source": [
    "### Качество предсказания"
   ]
  },
  {
   "cell_type": "markdown",
   "metadata": {},
   "source": [
    "RMSE у каждой модели:\n",
    "- Линейная регрессия - 2753.416\n",
    "- Случайный лес - 1712.920\n",
    "- LightGBM - 1641.243\n",
    "\n",
    "Значение метрики RMSE должно быть меньше 2500, соответственно линейная регрессия нам уже не подходит"
   ]
  },
  {
   "cell_type": "markdown",
   "metadata": {},
   "source": [
    "### Время обучения модели"
   ]
  },
  {
   "cell_type": "code",
   "execution_count": 29,
   "metadata": {},
   "outputs": [
    {
     "name": "stdout",
     "output_type": "stream",
     "text": [
      "CPU times: user 46.1 s, sys: 795 ms, total: 46.9 s\n",
      "Wall time: 47 s\n"
     ]
    },
    {
     "data": {
      "text/plain": [
       "RandomForestRegressor(random_state=12345)"
      ]
     },
     "execution_count": 29,
     "metadata": {},
     "output_type": "execute_result"
    }
   ],
   "source": [
    "%%time\n",
    "rf_model.fit(oe_features_train, target_train)"
   ]
  },
  {
   "cell_type": "code",
   "execution_count": 30,
   "metadata": {},
   "outputs": [
    {
     "name": "stdout",
     "output_type": "stream",
     "text": [
      "CPU times: user 14.2 s, sys: 93.6 ms, total: 14.3 s\n",
      "Wall time: 14.6 s\n"
     ]
    },
    {
     "data": {
      "text/plain": [
       "LGBMRegressor(learning_rate=0.3, max_depth=15, num_leaves=100,\n",
       "              random_state=12345)"
      ]
     },
     "execution_count": 30,
     "metadata": {},
     "output_type": "execute_result"
    }
   ],
   "source": [
    "%%time\n",
    "lgbm_model.fit(oe_features_train, target_train)"
   ]
  },
  {
   "cell_type": "markdown",
   "metadata": {},
   "source": [
    "Время обучения:\n",
    "- Случайный лес - 47 секунд\n",
    "- LightGBM - 14.6 секунд\n",
    "\n",
    "Модель LightGBM обучается гораздо быстрее"
   ]
  },
  {
   "cell_type": "markdown",
   "metadata": {},
   "source": [
    "### Время предсказания модели"
   ]
  },
  {
   "cell_type": "code",
   "execution_count": 31,
   "metadata": {},
   "outputs": [
    {
     "name": "stdout",
     "output_type": "stream",
     "text": [
      "CPU times: user 2.89 s, sys: 12.1 ms, total: 2.9 s\n",
      "Wall time: 2.97 s\n"
     ]
    },
    {
     "data": {
      "text/plain": [
       "array([  921.73277259,  1162.89833333,  3143.53213734, ...,\n",
       "       13681.17083333,  9934.08333333, 11031.05316667])"
      ]
     },
     "execution_count": 31,
     "metadata": {},
     "output_type": "execute_result"
    }
   ],
   "source": [
    "%%time\n",
    "rf_model.predict(oe_features_test)"
   ]
  },
  {
   "cell_type": "code",
   "execution_count": 32,
   "metadata": {},
   "outputs": [
    {
     "name": "stdout",
     "output_type": "stream",
     "text": [
      "CPU times: user 518 ms, sys: 0 ns, total: 518 ms\n",
      "Wall time: 512 ms\n"
     ]
    },
    {
     "data": {
      "text/plain": [
       "array([  891.15621185,  1445.24114567,  3230.80198942, ...,\n",
       "       13755.34407857, 10284.2986796 , 12601.90523835])"
      ]
     },
     "execution_count": 32,
     "metadata": {},
     "output_type": "execute_result"
    }
   ],
   "source": [
    "%%time\n",
    "lgbm_model.predict(oe_features_test)"
   ]
  },
  {
   "cell_type": "markdown",
   "metadata": {},
   "source": [
    "Время предсказания:\n",
    "- Случайный лес - 2.97 секунд\n",
    "- LightGBM - 0.512 секунд\n",
    "\n",
    "Модель LightGBM быстрее обучается, быстрее предсказывает и по RMSE выглядит лучше"
   ]
  },
  {
   "cell_type": "markdown",
   "metadata": {},
   "source": [
    "## Вывод"
   ]
  },
  {
   "cell_type": "markdown",
   "metadata": {},
   "source": [
    "В ходе работы было выполнено:\n",
    "\n",
    "- Загружены данные и проведена предобработка\n",
    "- Обучены модели\n",
    "- Выбрана лучшая модель в соответствии с критериями заказчика. Этой моделью стала LightGBM"
   ]
  }
 ],
 "metadata": {
  "ExecuteTimeLog": [
   {
    "duration": 2215,
    "start_time": "2022-09-20T11:40:35.575Z"
   },
   {
    "duration": 3,
    "start_time": "2022-09-20T11:40:59.244Z"
   },
   {
    "duration": 3379,
    "start_time": "2022-09-20T11:41:25.260Z"
   },
   {
    "duration": 123,
    "start_time": "2022-09-20T11:41:33.569Z"
   },
   {
    "duration": 23,
    "start_time": "2022-09-20T12:18:26.809Z"
   },
   {
    "duration": 116,
    "start_time": "2022-09-20T12:18:53.005Z"
   },
   {
    "duration": 101,
    "start_time": "2022-09-20T12:19:00.577Z"
   },
   {
    "duration": 157,
    "start_time": "2022-09-20T12:33:04.882Z"
   },
   {
    "duration": 149,
    "start_time": "2022-09-20T12:36:24.200Z"
   },
   {
    "duration": 12,
    "start_time": "2022-09-20T12:36:32.606Z"
   },
   {
    "duration": 24,
    "start_time": "2022-09-20T12:36:39.635Z"
   },
   {
    "duration": 11,
    "start_time": "2022-09-20T12:36:48.110Z"
   },
   {
    "duration": 67,
    "start_time": "2022-09-20T12:37:01.635Z"
   },
   {
    "duration": 176,
    "start_time": "2022-09-20T12:42:23.958Z"
   },
   {
    "duration": 1517,
    "start_time": "2022-09-20T12:43:33.782Z"
   },
   {
    "duration": 3,
    "start_time": "2022-09-20T12:43:35.301Z"
   },
   {
    "duration": 768,
    "start_time": "2022-09-20T12:43:35.306Z"
   },
   {
    "duration": 116,
    "start_time": "2022-09-20T12:43:36.076Z"
   },
   {
    "duration": 15,
    "start_time": "2022-09-20T12:43:36.196Z"
   },
   {
    "duration": 24,
    "start_time": "2022-09-20T12:43:36.213Z"
   },
   {
    "duration": 15,
    "start_time": "2022-09-20T12:43:36.238Z"
   },
   {
    "duration": 209,
    "start_time": "2022-09-20T12:43:36.255Z"
   },
   {
    "duration": 83,
    "start_time": "2022-09-20T12:43:36.466Z"
   },
   {
    "duration": 186,
    "start_time": "2022-09-20T12:43:41.442Z"
   },
   {
    "duration": 174,
    "start_time": "2022-09-20T12:43:53.248Z"
   },
   {
    "duration": 177,
    "start_time": "2022-09-20T12:44:02.319Z"
   },
   {
    "duration": 459,
    "start_time": "2022-09-20T12:46:36.196Z"
   },
   {
    "duration": 61,
    "start_time": "2022-09-20T12:46:37.947Z"
   },
   {
    "duration": 191,
    "start_time": "2022-09-20T12:47:19.721Z"
   },
   {
    "duration": 61,
    "start_time": "2022-09-20T12:47:20.390Z"
   },
   {
    "duration": 21,
    "start_time": "2022-09-20T12:53:40.630Z"
   },
   {
    "duration": 59,
    "start_time": "2022-09-20T12:53:55.912Z"
   },
   {
    "duration": 20,
    "start_time": "2022-09-20T12:54:06.328Z"
   },
   {
    "duration": 14,
    "start_time": "2022-09-20T12:54:07.643Z"
   },
   {
    "duration": 1717,
    "start_time": "2022-09-20T12:54:16.311Z"
   },
   {
    "duration": 0,
    "start_time": "2022-09-20T12:54:18.030Z"
   },
   {
    "duration": 1563,
    "start_time": "2022-09-20T12:54:23.238Z"
   },
   {
    "duration": 3,
    "start_time": "2022-09-20T12:54:24.803Z"
   },
   {
    "duration": 834,
    "start_time": "2022-09-20T12:54:24.808Z"
   },
   {
    "duration": 120,
    "start_time": "2022-09-20T12:54:25.644Z"
   },
   {
    "duration": 30,
    "start_time": "2022-09-20T12:54:25.766Z"
   },
   {
    "duration": 23,
    "start_time": "2022-09-20T12:54:25.798Z"
   },
   {
    "duration": 16,
    "start_time": "2022-09-20T12:54:25.823Z"
   },
   {
    "duration": 209,
    "start_time": "2022-09-20T12:54:25.841Z"
   },
   {
    "duration": 68,
    "start_time": "2022-09-20T12:54:26.052Z"
   },
   {
    "duration": 22,
    "start_time": "2022-09-20T12:54:26.122Z"
   },
   {
    "duration": 95,
    "start_time": "2022-09-20T12:54:26.145Z"
   },
   {
    "duration": 4523,
    "start_time": "2022-09-20T13:24:49.849Z"
   },
   {
    "duration": 1601,
    "start_time": "2022-09-20T13:25:19.980Z"
   },
   {
    "duration": 3,
    "start_time": "2022-09-20T13:25:21.583Z"
   },
   {
    "duration": 949,
    "start_time": "2022-09-20T13:25:21.594Z"
   },
   {
    "duration": 168,
    "start_time": "2022-09-20T13:25:22.545Z"
   },
   {
    "duration": 21,
    "start_time": "2022-09-20T13:25:22.716Z"
   },
   {
    "duration": 24,
    "start_time": "2022-09-20T13:25:22.739Z"
   },
   {
    "duration": 38,
    "start_time": "2022-09-20T13:25:22.765Z"
   },
   {
    "duration": 115,
    "start_time": "2022-09-20T13:25:22.806Z"
   },
   {
    "duration": 4909,
    "start_time": "2022-09-20T13:25:22.923Z"
   },
   {
    "duration": 0,
    "start_time": "2022-09-20T13:25:27.834Z"
   },
   {
    "duration": 0,
    "start_time": "2022-09-20T13:25:27.835Z"
   },
   {
    "duration": 34,
    "start_time": "2022-09-20T13:28:02.753Z"
   },
   {
    "duration": 22,
    "start_time": "2022-09-20T13:28:04.705Z"
   },
   {
    "duration": 83,
    "start_time": "2022-09-20T13:28:05.218Z"
   },
   {
    "duration": 1610,
    "start_time": "2022-09-20T13:58:58.002Z"
   },
   {
    "duration": 5,
    "start_time": "2022-09-20T13:58:59.619Z"
   },
   {
    "duration": 884,
    "start_time": "2022-09-20T13:58:59.627Z"
   },
   {
    "duration": 127,
    "start_time": "2022-09-20T13:59:00.514Z"
   },
   {
    "duration": 18,
    "start_time": "2022-09-20T13:59:00.643Z"
   },
   {
    "duration": 40,
    "start_time": "2022-09-20T13:59:00.663Z"
   },
   {
    "duration": 28,
    "start_time": "2022-09-20T13:59:00.705Z"
   },
   {
    "duration": 78,
    "start_time": "2022-09-20T13:59:00.735Z"
   },
   {
    "duration": 83,
    "start_time": "2022-09-20T13:59:00.820Z"
   },
   {
    "duration": 168,
    "start_time": "2022-09-20T13:59:24.717Z"
   },
   {
    "duration": 5018,
    "start_time": "2022-09-20T13:59:26.852Z"
   },
   {
    "duration": 113,
    "start_time": "2022-09-20T13:59:34.619Z"
   },
   {
    "duration": 118,
    "start_time": "2022-09-20T14:06:42.496Z"
   },
   {
    "duration": 88,
    "start_time": "2022-09-20T14:06:49.662Z"
   },
   {
    "duration": 74,
    "start_time": "2022-09-20T14:06:56.299Z"
   },
   {
    "duration": 61,
    "start_time": "2022-09-20T14:07:15.418Z"
   },
   {
    "duration": 22,
    "start_time": "2022-09-20T14:11:47.070Z"
   },
   {
    "duration": 26,
    "start_time": "2022-09-20T14:11:56.131Z"
   },
   {
    "duration": 30,
    "start_time": "2022-09-20T14:12:28.579Z"
   },
   {
    "duration": 5,
    "start_time": "2022-09-20T14:13:39.468Z"
   },
   {
    "duration": 5,
    "start_time": "2022-09-20T14:13:46.877Z"
   },
   {
    "duration": 31,
    "start_time": "2022-09-20T14:15:14.526Z"
   },
   {
    "duration": 23,
    "start_time": "2022-09-20T14:15:41.110Z"
   },
   {
    "duration": 25,
    "start_time": "2022-09-20T14:16:04.589Z"
   },
   {
    "duration": 23,
    "start_time": "2022-09-20T14:16:05.053Z"
   },
   {
    "duration": 33,
    "start_time": "2022-09-20T14:23:47.190Z"
   },
   {
    "duration": 1415,
    "start_time": "2022-09-20T14:23:53.561Z"
   },
   {
    "duration": 3,
    "start_time": "2022-09-20T14:23:54.977Z"
   },
   {
    "duration": 777,
    "start_time": "2022-09-20T14:23:54.981Z"
   },
   {
    "duration": 114,
    "start_time": "2022-09-20T14:23:55.760Z"
   },
   {
    "duration": 23,
    "start_time": "2022-09-20T14:23:55.876Z"
   },
   {
    "duration": 24,
    "start_time": "2022-09-20T14:23:55.901Z"
   },
   {
    "duration": 18,
    "start_time": "2022-09-20T14:23:55.926Z"
   },
   {
    "duration": 80,
    "start_time": "2022-09-20T14:23:55.946Z"
   },
   {
    "duration": 33,
    "start_time": "2022-09-20T14:23:56.027Z"
   },
   {
    "duration": 82,
    "start_time": "2022-09-20T14:23:56.062Z"
   },
   {
    "duration": 29,
    "start_time": "2022-09-20T14:29:37.188Z"
   },
   {
    "duration": 51,
    "start_time": "2022-09-20T14:30:08.081Z"
   },
   {
    "duration": 1564,
    "start_time": "2022-09-20T14:30:19.482Z"
   },
   {
    "duration": 3,
    "start_time": "2022-09-20T14:30:21.048Z"
   },
   {
    "duration": 847,
    "start_time": "2022-09-20T14:30:21.052Z"
   },
   {
    "duration": 126,
    "start_time": "2022-09-20T14:30:21.900Z"
   },
   {
    "duration": 18,
    "start_time": "2022-09-20T14:30:22.029Z"
   },
   {
    "duration": 46,
    "start_time": "2022-09-20T14:30:22.049Z"
   },
   {
    "duration": 19,
    "start_time": "2022-09-20T14:30:22.097Z"
   },
   {
    "duration": 82,
    "start_time": "2022-09-20T14:30:22.118Z"
   },
   {
    "duration": 117,
    "start_time": "2022-09-20T14:30:22.202Z"
   },
   {
    "duration": 46,
    "start_time": "2022-09-20T14:30:22.321Z"
   },
   {
    "duration": 78,
    "start_time": "2022-09-20T14:30:22.369Z"
   },
   {
    "duration": 134,
    "start_time": "2022-09-20T14:30:39.844Z"
   },
   {
    "duration": 12,
    "start_time": "2022-09-20T14:30:44.938Z"
   },
   {
    "duration": 178,
    "start_time": "2022-09-20T14:30:48.301Z"
   },
   {
    "duration": 1593,
    "start_time": "2022-09-20T14:31:05.943Z"
   },
   {
    "duration": 4,
    "start_time": "2022-09-20T14:31:07.539Z"
   },
   {
    "duration": 871,
    "start_time": "2022-09-20T14:31:07.545Z"
   },
   {
    "duration": 110,
    "start_time": "2022-09-20T14:31:08.418Z"
   },
   {
    "duration": 21,
    "start_time": "2022-09-20T14:31:08.532Z"
   },
   {
    "duration": 47,
    "start_time": "2022-09-20T14:31:08.556Z"
   },
   {
    "duration": 22,
    "start_time": "2022-09-20T14:31:08.606Z"
   },
   {
    "duration": 229,
    "start_time": "2022-09-20T14:31:08.631Z"
   },
   {
    "duration": 81,
    "start_time": "2022-09-20T14:31:08.862Z"
   },
   {
    "duration": 129,
    "start_time": "2022-09-20T14:31:08.945Z"
   },
   {
    "duration": 45,
    "start_time": "2022-09-20T14:31:09.076Z"
   },
   {
    "duration": 75,
    "start_time": "2022-09-20T14:31:09.123Z"
   },
   {
    "duration": 203,
    "start_time": "2022-09-20T14:31:09.200Z"
   },
   {
    "duration": 386,
    "start_time": "2022-09-20T14:31:44.609Z"
   },
   {
    "duration": 1641,
    "start_time": "2022-09-20T14:31:50.358Z"
   },
   {
    "duration": 3,
    "start_time": "2022-09-20T14:31:52.001Z"
   },
   {
    "duration": 905,
    "start_time": "2022-09-20T14:31:52.005Z"
   },
   {
    "duration": 152,
    "start_time": "2022-09-20T14:31:52.913Z"
   },
   {
    "duration": 42,
    "start_time": "2022-09-20T14:31:53.068Z"
   },
   {
    "duration": 22,
    "start_time": "2022-09-20T14:31:53.112Z"
   },
   {
    "duration": 18,
    "start_time": "2022-09-20T14:31:53.136Z"
   },
   {
    "duration": 445,
    "start_time": "2022-09-20T14:31:53.157Z"
   },
   {
    "duration": 102,
    "start_time": "2022-09-20T14:31:53.604Z"
   },
   {
    "duration": 100,
    "start_time": "2022-09-20T14:31:53.708Z"
   },
   {
    "duration": 33,
    "start_time": "2022-09-20T14:31:53.810Z"
   },
   {
    "duration": 75,
    "start_time": "2022-09-20T14:31:53.845Z"
   },
   {
    "duration": 160,
    "start_time": "2022-09-20T14:31:53.923Z"
   },
   {
    "duration": 152,
    "start_time": "2022-09-20T14:32:29.938Z"
   },
   {
    "duration": 323,
    "start_time": "2022-09-20T14:32:35.876Z"
   },
   {
    "duration": 42,
    "start_time": "2022-09-20T14:32:46.084Z"
   },
   {
    "duration": 67,
    "start_time": "2022-09-20T14:35:09.992Z"
   },
   {
    "duration": 61,
    "start_time": "2022-09-20T14:35:45.081Z"
   },
   {
    "duration": 11,
    "start_time": "2022-09-20T14:35:54.010Z"
   },
   {
    "duration": 54,
    "start_time": "2022-09-20T14:36:21.746Z"
   },
   {
    "duration": 3,
    "start_time": "2022-09-20T14:38:13.164Z"
   },
   {
    "duration": 115,
    "start_time": "2022-09-20T14:38:23.408Z"
   },
   {
    "duration": 3,
    "start_time": "2022-09-20T14:38:29.869Z"
   },
   {
    "duration": 104,
    "start_time": "2022-09-20T14:38:30.306Z"
   },
   {
    "duration": 14,
    "start_time": "2022-09-20T14:41:50.335Z"
   },
   {
    "duration": 12,
    "start_time": "2022-09-20T14:41:54.680Z"
   },
   {
    "duration": 11,
    "start_time": "2022-09-20T14:41:59.408Z"
   },
   {
    "duration": 8,
    "start_time": "2022-09-20T14:42:34.590Z"
   },
   {
    "duration": 8,
    "start_time": "2022-09-20T14:42:47.302Z"
   },
   {
    "duration": 11,
    "start_time": "2022-09-20T14:42:52.712Z"
   },
   {
    "duration": 3,
    "start_time": "2022-09-20T14:43:26.263Z"
   },
   {
    "duration": 162,
    "start_time": "2022-09-20T14:43:27.629Z"
   },
   {
    "duration": 3,
    "start_time": "2022-09-20T14:43:43.244Z"
   },
   {
    "duration": 151,
    "start_time": "2022-09-20T14:43:44.665Z"
   },
   {
    "duration": 3,
    "start_time": "2022-09-20T14:43:50.740Z"
   },
   {
    "duration": 163,
    "start_time": "2022-09-20T14:43:52.567Z"
   },
   {
    "duration": 3,
    "start_time": "2022-09-20T14:44:37.792Z"
   },
   {
    "duration": 152,
    "start_time": "2022-09-20T14:44:38.113Z"
   },
   {
    "duration": 342,
    "start_time": "2022-09-20T14:49:49.258Z"
   },
   {
    "duration": 411,
    "start_time": "2022-09-20T14:50:32.840Z"
   },
   {
    "duration": 336,
    "start_time": "2022-09-20T14:50:46.896Z"
   },
   {
    "duration": 341,
    "start_time": "2022-09-20T14:50:58.524Z"
   },
   {
    "duration": 75,
    "start_time": "2022-09-20T14:52:04.231Z"
   },
   {
    "duration": 349,
    "start_time": "2022-09-20T14:52:11.342Z"
   },
   {
    "duration": 8,
    "start_time": "2022-09-20T15:31:29.392Z"
   },
   {
    "duration": 9,
    "start_time": "2022-09-20T15:31:52.090Z"
   },
   {
    "duration": 33,
    "start_time": "2022-09-20T15:34:06.855Z"
   },
   {
    "duration": 93,
    "start_time": "2022-09-20T15:34:14.428Z"
   },
   {
    "duration": 302,
    "start_time": "2022-09-20T15:35:27.512Z"
   },
   {
    "duration": 39,
    "start_time": "2022-09-20T15:44:38.901Z"
   },
   {
    "duration": 39,
    "start_time": "2022-09-20T15:44:47.085Z"
   },
   {
    "duration": 21,
    "start_time": "2022-09-20T15:45:01.482Z"
   },
   {
    "duration": 41,
    "start_time": "2022-09-20T15:46:33.325Z"
   },
   {
    "duration": 24,
    "start_time": "2022-09-20T15:46:38.267Z"
   },
   {
    "duration": 11,
    "start_time": "2022-09-20T15:46:43.213Z"
   },
   {
    "duration": 40,
    "start_time": "2022-09-20T15:46:49.492Z"
   },
   {
    "duration": 33,
    "start_time": "2022-09-20T15:46:57.416Z"
   },
   {
    "duration": 320,
    "start_time": "2022-09-20T15:50:32.218Z"
   },
   {
    "duration": 362,
    "start_time": "2022-09-20T15:50:41.214Z"
   },
   {
    "duration": 275,
    "start_time": "2022-09-20T15:50:47.154Z"
   },
   {
    "duration": 840,
    "start_time": "2022-09-20T15:50:51.979Z"
   },
   {
    "duration": 1553,
    "start_time": "2022-09-20T15:50:58.085Z"
   },
   {
    "duration": 1584,
    "start_time": "2022-09-20T15:51:07.581Z"
   },
   {
    "duration": 483,
    "start_time": "2022-09-20T15:51:26.882Z"
   },
   {
    "duration": 17,
    "start_time": "2022-09-20T15:53:50.434Z"
   },
   {
    "duration": 12,
    "start_time": "2022-09-20T15:55:28.553Z"
   },
   {
    "duration": 1256,
    "start_time": "2022-09-20T15:55:46.119Z"
   },
   {
    "duration": 346,
    "start_time": "2022-09-20T15:56:17.277Z"
   },
   {
    "duration": 22,
    "start_time": "2022-09-20T16:00:30.723Z"
   },
   {
    "duration": 22,
    "start_time": "2022-09-20T16:01:04.215Z"
   },
   {
    "duration": 64,
    "start_time": "2022-09-20T16:01:11.792Z"
   },
   {
    "duration": 26,
    "start_time": "2022-09-20T16:03:25.095Z"
   },
   {
    "duration": 91,
    "start_time": "2022-09-20T16:26:56.509Z"
   },
   {
    "duration": 71,
    "start_time": "2022-09-20T16:31:58.145Z"
   },
   {
    "duration": 110,
    "start_time": "2022-09-20T16:37:39.381Z"
   },
   {
    "duration": 23,
    "start_time": "2022-09-20T16:37:46.989Z"
   },
   {
    "duration": 62,
    "start_time": "2022-09-20T16:37:52.320Z"
   },
   {
    "duration": 1590,
    "start_time": "2022-09-20T16:38:09.561Z"
   },
   {
    "duration": 3,
    "start_time": "2022-09-20T16:38:11.153Z"
   },
   {
    "duration": 918,
    "start_time": "2022-09-20T16:38:11.158Z"
   },
   {
    "duration": 122,
    "start_time": "2022-09-20T16:38:12.078Z"
   },
   {
    "duration": 17,
    "start_time": "2022-09-20T16:38:12.202Z"
   },
   {
    "duration": 23,
    "start_time": "2022-09-20T16:38:12.221Z"
   },
   {
    "duration": 15,
    "start_time": "2022-09-20T16:38:12.246Z"
   },
   {
    "duration": 107,
    "start_time": "2022-09-20T16:38:12.264Z"
   },
   {
    "duration": 122,
    "start_time": "2022-09-20T16:38:12.373Z"
   },
   {
    "duration": 44,
    "start_time": "2022-09-20T16:38:12.497Z"
   },
   {
    "duration": 83,
    "start_time": "2022-09-20T16:38:12.543Z"
   },
   {
    "duration": 88,
    "start_time": "2022-09-20T16:38:12.628Z"
   },
   {
    "duration": 4,
    "start_time": "2022-09-20T16:38:12.718Z"
   },
   {
    "duration": 270,
    "start_time": "2022-09-20T16:38:12.725Z"
   },
   {
    "duration": 353,
    "start_time": "2022-09-20T16:38:12.997Z"
   },
   {
    "duration": 13,
    "start_time": "2022-09-20T16:38:13.353Z"
   },
   {
    "duration": 63,
    "start_time": "2022-09-20T16:38:13.368Z"
   },
   {
    "duration": 50,
    "start_time": "2022-09-20T16:38:13.434Z"
   },
   {
    "duration": 20,
    "start_time": "2022-09-20T16:38:13.486Z"
   },
   {
    "duration": 431,
    "start_time": "2022-09-20T16:38:13.508Z"
   },
   {
    "duration": 31,
    "start_time": "2022-09-20T16:38:13.941Z"
   },
   {
    "duration": 59,
    "start_time": "2022-09-20T16:38:13.974Z"
   },
   {
    "duration": 73,
    "start_time": "2022-09-20T16:38:14.035Z"
   },
   {
    "duration": 91,
    "start_time": "2022-09-20T16:38:14.110Z"
   },
   {
    "duration": 205,
    "start_time": "2022-09-20T16:38:14.203Z"
   },
   {
    "duration": 47,
    "start_time": "2022-09-21T08:56:29.580Z"
   },
   {
    "duration": 1600,
    "start_time": "2022-09-21T08:56:37.753Z"
   },
   {
    "duration": 3,
    "start_time": "2022-09-21T08:56:39.354Z"
   },
   {
    "duration": 1312,
    "start_time": "2022-09-21T08:56:42.630Z"
   },
   {
    "duration": 2,
    "start_time": "2022-09-21T08:56:43.944Z"
   },
   {
    "duration": 1035,
    "start_time": "2022-09-21T08:56:43.948Z"
   },
   {
    "duration": 111,
    "start_time": "2022-09-21T08:56:44.984Z"
   },
   {
    "duration": 16,
    "start_time": "2022-09-21T08:56:45.097Z"
   },
   {
    "duration": 20,
    "start_time": "2022-09-21T08:56:45.115Z"
   },
   {
    "duration": 20,
    "start_time": "2022-09-21T08:56:45.137Z"
   },
   {
    "duration": 107,
    "start_time": "2022-09-21T08:56:45.159Z"
   },
   {
    "duration": 110,
    "start_time": "2022-09-21T08:56:45.268Z"
   },
   {
    "duration": 34,
    "start_time": "2022-09-21T08:56:45.380Z"
   },
   {
    "duration": 77,
    "start_time": "2022-09-21T08:56:45.415Z"
   },
   {
    "duration": 54,
    "start_time": "2022-09-21T08:56:45.493Z"
   },
   {
    "duration": 3,
    "start_time": "2022-09-21T08:56:45.549Z"
   },
   {
    "duration": 188,
    "start_time": "2022-09-21T08:56:45.554Z"
   },
   {
    "duration": 338,
    "start_time": "2022-09-21T08:56:45.744Z"
   },
   {
    "duration": 11,
    "start_time": "2022-09-21T08:56:46.083Z"
   },
   {
    "duration": 31,
    "start_time": "2022-09-21T08:56:46.096Z"
   },
   {
    "duration": 55,
    "start_time": "2022-09-21T08:56:46.128Z"
   },
   {
    "duration": 17,
    "start_time": "2022-09-21T08:56:46.185Z"
   },
   {
    "duration": 385,
    "start_time": "2022-09-21T08:56:46.203Z"
   },
   {
    "duration": 29,
    "start_time": "2022-09-21T08:56:46.590Z"
   },
   {
    "duration": 27,
    "start_time": "2022-09-21T08:56:46.621Z"
   },
   {
    "duration": 78,
    "start_time": "2022-09-21T08:56:46.649Z"
   },
   {
    "duration": 1075,
    "start_time": "2022-09-21T08:56:46.728Z"
   },
   {
    "duration": 0,
    "start_time": "2022-09-21T08:56:47.805Z"
   },
   {
    "duration": 1352,
    "start_time": "2022-09-21T08:57:10.278Z"
   },
   {
    "duration": 10,
    "start_time": "2022-09-21T08:57:11.988Z"
   },
   {
    "duration": 10,
    "start_time": "2022-09-21T09:18:58.043Z"
   },
   {
    "duration": 4,
    "start_time": "2022-09-21T09:20:44.240Z"
   },
   {
    "duration": 3,
    "start_time": "2022-09-21T09:20:53.767Z"
   },
   {
    "duration": 10,
    "start_time": "2022-09-21T09:22:10.943Z"
   },
   {
    "duration": 1013,
    "start_time": "2022-09-21T09:22:29.566Z"
   },
   {
    "duration": 65,
    "start_time": "2022-09-21T09:22:32.570Z"
   },
   {
    "duration": 104,
    "start_time": "2022-09-21T09:25:22.067Z"
   },
   {
    "duration": 855,
    "start_time": "2022-09-21T09:25:22.951Z"
   },
   {
    "duration": 54,
    "start_time": "2022-09-21T09:25:26.662Z"
   },
   {
    "duration": 999,
    "start_time": "2022-09-21T09:27:48.541Z"
   },
   {
    "duration": 61,
    "start_time": "2022-09-21T09:27:51.627Z"
   },
   {
    "duration": 1034,
    "start_time": "2022-09-21T09:48:06.217Z"
   },
   {
    "duration": 99290,
    "start_time": "2022-09-21T09:48:12.891Z"
   },
   {
    "duration": 103798,
    "start_time": "2022-09-21T09:57:09.284Z"
   },
   {
    "duration": 21,
    "start_time": "2022-09-21T10:04:59.097Z"
   },
   {
    "duration": 11,
    "start_time": "2022-09-21T10:05:54.310Z"
   },
   {
    "duration": 10,
    "start_time": "2022-09-21T10:06:01.541Z"
   },
   {
    "duration": 48,
    "start_time": "2022-09-21T10:06:04.156Z"
   },
   {
    "duration": 47,
    "start_time": "2022-09-21T10:06:08.185Z"
   },
   {
    "duration": 49,
    "start_time": "2022-09-21T10:06:37.907Z"
   },
   {
    "duration": 92,
    "start_time": "2022-09-21T10:06:54.254Z"
   },
   {
    "duration": 1314,
    "start_time": "2022-09-21T10:29:48.300Z"
   },
   {
    "duration": 3,
    "start_time": "2022-09-21T10:29:49.616Z"
   },
   {
    "duration": 767,
    "start_time": "2022-09-21T10:29:49.620Z"
   },
   {
    "duration": 105,
    "start_time": "2022-09-21T10:29:50.389Z"
   },
   {
    "duration": 15,
    "start_time": "2022-09-21T10:29:50.496Z"
   },
   {
    "duration": 22,
    "start_time": "2022-09-21T10:29:50.513Z"
   },
   {
    "duration": 24,
    "start_time": "2022-09-21T10:29:50.536Z"
   },
   {
    "duration": 366,
    "start_time": "2022-09-21T10:29:50.576Z"
   },
   {
    "duration": 60,
    "start_time": "2022-09-21T10:29:50.944Z"
   },
   {
    "duration": 82,
    "start_time": "2022-09-21T10:29:51.007Z"
   },
   {
    "duration": 27,
    "start_time": "2022-09-21T10:29:51.091Z"
   },
   {
    "duration": 64,
    "start_time": "2022-09-21T10:29:51.120Z"
   },
   {
    "duration": 50,
    "start_time": "2022-09-21T10:29:51.186Z"
   },
   {
    "duration": 3,
    "start_time": "2022-09-21T10:29:51.237Z"
   },
   {
    "duration": 167,
    "start_time": "2022-09-21T10:29:51.242Z"
   },
   {
    "duration": 306,
    "start_time": "2022-09-21T10:29:51.410Z"
   },
   {
    "duration": 8,
    "start_time": "2022-09-21T10:29:51.718Z"
   },
   {
    "duration": 31,
    "start_time": "2022-09-21T10:29:51.728Z"
   },
   {
    "duration": 44,
    "start_time": "2022-09-21T10:29:51.760Z"
   },
   {
    "duration": 15,
    "start_time": "2022-09-21T10:29:51.806Z"
   },
   {
    "duration": 327,
    "start_time": "2022-09-21T10:29:51.822Z"
   },
   {
    "duration": 30,
    "start_time": "2022-09-21T10:29:52.150Z"
   },
   {
    "duration": 27,
    "start_time": "2022-09-21T10:29:52.182Z"
   },
   {
    "duration": 53,
    "start_time": "2022-09-21T10:29:52.210Z"
   },
   {
    "duration": 0,
    "start_time": "2022-09-21T10:29:52.265Z"
   },
   {
    "duration": 0,
    "start_time": "2022-09-21T10:29:52.266Z"
   },
   {
    "duration": 0,
    "start_time": "2022-09-21T10:29:52.267Z"
   },
   {
    "duration": 1450,
    "start_time": "2022-09-21T10:33:31.761Z"
   },
   {
    "duration": 3,
    "start_time": "2022-09-21T10:33:33.213Z"
   },
   {
    "duration": 835,
    "start_time": "2022-09-21T10:33:33.218Z"
   },
   {
    "duration": 123,
    "start_time": "2022-09-21T10:33:34.055Z"
   },
   {
    "duration": 16,
    "start_time": "2022-09-21T10:33:34.180Z"
   },
   {
    "duration": 25,
    "start_time": "2022-09-21T10:33:34.198Z"
   },
   {
    "duration": 23,
    "start_time": "2022-09-21T10:33:34.225Z"
   },
   {
    "duration": 422,
    "start_time": "2022-09-21T10:33:34.249Z"
   },
   {
    "duration": 64,
    "start_time": "2022-09-21T10:33:34.673Z"
   },
   {
    "duration": 96,
    "start_time": "2022-09-21T10:33:34.739Z"
   },
   {
    "duration": 39,
    "start_time": "2022-09-21T10:33:34.837Z"
   },
   {
    "duration": 60,
    "start_time": "2022-09-21T10:33:34.878Z"
   },
   {
    "duration": 74,
    "start_time": "2022-09-21T10:33:34.940Z"
   },
   {
    "duration": 3,
    "start_time": "2022-09-21T10:33:35.016Z"
   },
   {
    "duration": 183,
    "start_time": "2022-09-21T10:33:35.021Z"
   },
   {
    "duration": 402,
    "start_time": "2022-09-21T10:33:35.206Z"
   },
   {
    "duration": 10,
    "start_time": "2022-09-21T10:33:35.610Z"
   },
   {
    "duration": 32,
    "start_time": "2022-09-21T10:33:35.621Z"
   },
   {
    "duration": 53,
    "start_time": "2022-09-21T10:33:35.654Z"
   },
   {
    "duration": 17,
    "start_time": "2022-09-21T10:33:35.709Z"
   },
   {
    "duration": 331,
    "start_time": "2022-09-21T10:33:35.728Z"
   },
   {
    "duration": 25,
    "start_time": "2022-09-21T10:33:36.061Z"
   },
   {
    "duration": 28,
    "start_time": "2022-09-21T10:33:36.088Z"
   },
   {
    "duration": 118,
    "start_time": "2022-09-21T10:33:36.118Z"
   },
   {
    "duration": 0,
    "start_time": "2022-09-21T10:33:36.238Z"
   },
   {
    "duration": 0,
    "start_time": "2022-09-21T10:33:36.239Z"
   },
   {
    "duration": 0,
    "start_time": "2022-09-21T10:33:36.240Z"
   },
   {
    "duration": 1672,
    "start_time": "2022-09-21T10:42:24.746Z"
   },
   {
    "duration": 2,
    "start_time": "2022-09-21T10:42:26.420Z"
   },
   {
    "duration": 828,
    "start_time": "2022-09-21T10:42:26.424Z"
   },
   {
    "duration": 112,
    "start_time": "2022-09-21T10:42:27.253Z"
   },
   {
    "duration": 21,
    "start_time": "2022-09-21T10:42:27.367Z"
   },
   {
    "duration": 25,
    "start_time": "2022-09-21T10:42:27.389Z"
   },
   {
    "duration": 13,
    "start_time": "2022-09-21T10:42:27.416Z"
   },
   {
    "duration": 406,
    "start_time": "2022-09-21T10:42:27.430Z"
   },
   {
    "duration": 58,
    "start_time": "2022-09-21T10:42:27.838Z"
   },
   {
    "duration": 90,
    "start_time": "2022-09-21T10:42:27.897Z"
   },
   {
    "duration": 28,
    "start_time": "2022-09-21T10:42:27.989Z"
   },
   {
    "duration": 64,
    "start_time": "2022-09-21T10:42:28.020Z"
   },
   {
    "duration": 54,
    "start_time": "2022-09-21T10:42:28.085Z"
   },
   {
    "duration": 3,
    "start_time": "2022-09-21T10:42:28.142Z"
   },
   {
    "duration": 181,
    "start_time": "2022-09-21T10:42:28.147Z"
   },
   {
    "duration": 309,
    "start_time": "2022-09-21T10:42:28.329Z"
   },
   {
    "duration": 9,
    "start_time": "2022-09-21T10:42:28.640Z"
   },
   {
    "duration": 48,
    "start_time": "2022-09-21T10:42:28.651Z"
   },
   {
    "duration": 31,
    "start_time": "2022-09-21T10:42:28.701Z"
   },
   {
    "duration": 16,
    "start_time": "2022-09-21T10:42:28.734Z"
   },
   {
    "duration": 311,
    "start_time": "2022-09-21T10:42:28.752Z"
   },
   {
    "duration": 27,
    "start_time": "2022-09-21T10:42:29.065Z"
   },
   {
    "duration": 26,
    "start_time": "2022-09-21T10:42:29.094Z"
   },
   {
    "duration": 139,
    "start_time": "2022-09-21T10:42:29.122Z"
   },
   {
    "duration": 0,
    "start_time": "2022-09-21T10:42:29.262Z"
   },
   {
    "duration": 0,
    "start_time": "2022-09-21T10:42:29.264Z"
   },
   {
    "duration": 0,
    "start_time": "2022-09-21T10:42:29.265Z"
   },
   {
    "duration": 1322,
    "start_time": "2022-09-21T10:52:06.850Z"
   },
   {
    "duration": 3,
    "start_time": "2022-09-21T10:52:08.174Z"
   },
   {
    "duration": 800,
    "start_time": "2022-09-21T10:52:08.179Z"
   },
   {
    "duration": 110,
    "start_time": "2022-09-21T10:52:08.980Z"
   },
   {
    "duration": 16,
    "start_time": "2022-09-21T10:52:09.091Z"
   },
   {
    "duration": 29,
    "start_time": "2022-09-21T10:52:09.108Z"
   },
   {
    "duration": 12,
    "start_time": "2022-09-21T10:52:09.139Z"
   },
   {
    "duration": 380,
    "start_time": "2022-09-21T10:52:09.152Z"
   },
   {
    "duration": 59,
    "start_time": "2022-09-21T10:52:09.533Z"
   },
   {
    "duration": 83,
    "start_time": "2022-09-21T10:52:09.594Z"
   },
   {
    "duration": 29,
    "start_time": "2022-09-21T10:52:09.679Z"
   },
   {
    "duration": 72,
    "start_time": "2022-09-21T10:52:09.709Z"
   },
   {
    "duration": 52,
    "start_time": "2022-09-21T10:52:09.782Z"
   },
   {
    "duration": 3,
    "start_time": "2022-09-21T10:52:09.835Z"
   },
   {
    "duration": 168,
    "start_time": "2022-09-21T10:52:09.839Z"
   },
   {
    "duration": 306,
    "start_time": "2022-09-21T10:52:10.008Z"
   },
   {
    "duration": 8,
    "start_time": "2022-09-21T10:52:10.316Z"
   },
   {
    "duration": 30,
    "start_time": "2022-09-21T10:52:10.325Z"
   },
   {
    "duration": 44,
    "start_time": "2022-09-21T10:52:10.356Z"
   },
   {
    "duration": 14,
    "start_time": "2022-09-21T10:52:10.402Z"
   },
   {
    "duration": 315,
    "start_time": "2022-09-21T10:52:10.418Z"
   },
   {
    "duration": 20,
    "start_time": "2022-09-21T10:52:10.735Z"
   },
   {
    "duration": 33,
    "start_time": "2022-09-21T10:52:10.757Z"
   },
   {
    "duration": 128,
    "start_time": "2022-09-21T10:52:10.792Z"
   },
   {
    "duration": 0,
    "start_time": "2022-09-21T10:52:10.922Z"
   },
   {
    "duration": 0,
    "start_time": "2022-09-21T10:52:10.924Z"
   },
   {
    "duration": 0,
    "start_time": "2022-09-21T10:52:10.925Z"
   },
   {
    "duration": 1359,
    "start_time": "2022-09-21T10:52:23.727Z"
   },
   {
    "duration": 3,
    "start_time": "2022-09-21T10:52:25.088Z"
   },
   {
    "duration": 846,
    "start_time": "2022-09-21T10:52:25.092Z"
   },
   {
    "duration": 120,
    "start_time": "2022-09-21T10:52:25.940Z"
   },
   {
    "duration": 16,
    "start_time": "2022-09-21T10:52:26.062Z"
   },
   {
    "duration": 21,
    "start_time": "2022-09-21T10:52:26.080Z"
   },
   {
    "duration": 15,
    "start_time": "2022-09-21T10:52:26.103Z"
   },
   {
    "duration": 490,
    "start_time": "2022-09-21T10:52:26.119Z"
   },
   {
    "duration": 69,
    "start_time": "2022-09-21T10:52:26.610Z"
   },
   {
    "duration": 79,
    "start_time": "2022-09-21T10:52:26.681Z"
   },
   {
    "duration": 39,
    "start_time": "2022-09-21T10:52:26.762Z"
   },
   {
    "duration": 75,
    "start_time": "2022-09-21T10:52:26.802Z"
   },
   {
    "duration": 57,
    "start_time": "2022-09-21T10:52:26.879Z"
   },
   {
    "duration": 3,
    "start_time": "2022-09-21T10:52:26.939Z"
   },
   {
    "duration": 200,
    "start_time": "2022-09-21T10:52:26.945Z"
   },
   {
    "duration": 318,
    "start_time": "2022-09-21T10:52:27.148Z"
   },
   {
    "duration": 13,
    "start_time": "2022-09-21T10:52:27.467Z"
   },
   {
    "duration": 43,
    "start_time": "2022-09-21T10:52:27.482Z"
   },
   {
    "duration": 32,
    "start_time": "2022-09-21T10:52:27.526Z"
   },
   {
    "duration": 20,
    "start_time": "2022-09-21T10:52:27.560Z"
   },
   {
    "duration": 305,
    "start_time": "2022-09-21T10:52:27.582Z"
   },
   {
    "duration": 21,
    "start_time": "2022-09-21T10:52:27.889Z"
   },
   {
    "duration": 27,
    "start_time": "2022-09-21T10:52:27.911Z"
   },
   {
    "duration": 915,
    "start_time": "2022-09-21T10:52:27.940Z"
   },
   {
    "duration": 71921,
    "start_time": "2022-09-21T10:52:28.857Z"
   },
   {
    "duration": 98,
    "start_time": "2022-09-21T10:53:40.780Z"
   },
   {
    "duration": 0,
    "start_time": "2022-09-21T10:53:40.880Z"
   },
   {
    "duration": 391288,
    "start_time": "2022-09-21T10:59:58.950Z"
   },
   {
    "duration": 149,
    "start_time": "2022-09-21T11:07:37.279Z"
   },
   {
    "duration": 4,
    "start_time": "2022-09-21T11:08:05.294Z"
   },
   {
    "duration": 79,
    "start_time": "2022-09-21T11:08:12.032Z"
   },
   {
    "duration": 820,
    "start_time": "2022-09-21T11:09:30.411Z"
   },
   {
    "duration": 45035,
    "start_time": "2022-09-21T11:09:33.581Z"
   },
   {
    "duration": 1337,
    "start_time": "2022-09-21T11:10:31.821Z"
   },
   {
    "duration": 3,
    "start_time": "2022-09-21T11:10:33.160Z"
   },
   {
    "duration": 821,
    "start_time": "2022-09-21T11:10:33.164Z"
   },
   {
    "duration": 124,
    "start_time": "2022-09-21T11:10:33.987Z"
   },
   {
    "duration": 17,
    "start_time": "2022-09-21T11:10:34.112Z"
   },
   {
    "duration": 25,
    "start_time": "2022-09-21T11:10:34.131Z"
   },
   {
    "duration": 35,
    "start_time": "2022-09-21T11:10:34.157Z"
   },
   {
    "duration": 406,
    "start_time": "2022-09-21T11:10:34.194Z"
   },
   {
    "duration": 64,
    "start_time": "2022-09-21T11:10:34.602Z"
   },
   {
    "duration": 81,
    "start_time": "2022-09-21T11:10:34.679Z"
   },
   {
    "duration": 40,
    "start_time": "2022-09-21T11:10:34.761Z"
   },
   {
    "duration": 58,
    "start_time": "2022-09-21T11:10:34.803Z"
   },
   {
    "duration": 56,
    "start_time": "2022-09-21T11:10:34.877Z"
   },
   {
    "duration": 3,
    "start_time": "2022-09-21T11:10:34.935Z"
   },
   {
    "duration": 173,
    "start_time": "2022-09-21T11:10:34.940Z"
   },
   {
    "duration": 408,
    "start_time": "2022-09-21T11:10:35.115Z"
   },
   {
    "duration": 10,
    "start_time": "2022-09-21T11:10:35.525Z"
   },
   {
    "duration": 52,
    "start_time": "2022-09-21T11:10:35.537Z"
   },
   {
    "duration": 35,
    "start_time": "2022-09-21T11:10:35.590Z"
   },
   {
    "duration": 21,
    "start_time": "2022-09-21T11:10:35.627Z"
   },
   {
    "duration": 346,
    "start_time": "2022-09-21T11:10:35.650Z"
   },
   {
    "duration": 21,
    "start_time": "2022-09-21T11:10:35.998Z"
   },
   {
    "duration": 25,
    "start_time": "2022-09-21T11:10:36.021Z"
   },
   {
    "duration": 945,
    "start_time": "2022-09-21T11:10:36.048Z"
   },
   {
    "duration": 66382,
    "start_time": "2022-09-21T11:10:36.996Z"
   },
   {
    "duration": 401768,
    "start_time": "2022-09-21T11:11:43.380Z"
   },
   {
    "duration": 130328,
    "start_time": "2022-09-21T11:18:25.150Z"
   },
   {
    "duration": 395390,
    "start_time": "2022-09-21T11:42:11.061Z"
   },
   {
    "duration": 191,
    "start_time": "2022-09-21T11:48:46.454Z"
   },
   {
    "duration": 1387,
    "start_time": "2022-09-21T11:52:08.893Z"
   },
   {
    "duration": 2,
    "start_time": "2022-09-21T11:52:10.282Z"
   },
   {
    "duration": 803,
    "start_time": "2022-09-21T11:52:10.285Z"
   },
   {
    "duration": 110,
    "start_time": "2022-09-21T11:52:11.089Z"
   },
   {
    "duration": 16,
    "start_time": "2022-09-21T11:52:11.202Z"
   },
   {
    "duration": 22,
    "start_time": "2022-09-21T11:52:11.220Z"
   },
   {
    "duration": 35,
    "start_time": "2022-09-21T11:52:11.244Z"
   },
   {
    "duration": 391,
    "start_time": "2022-09-21T11:52:11.281Z"
   },
   {
    "duration": 63,
    "start_time": "2022-09-21T11:52:11.674Z"
   },
   {
    "duration": 87,
    "start_time": "2022-09-21T11:52:11.739Z"
   },
   {
    "duration": 29,
    "start_time": "2022-09-21T11:52:11.828Z"
   },
   {
    "duration": 75,
    "start_time": "2022-09-21T11:52:11.859Z"
   },
   {
    "duration": 68,
    "start_time": "2022-09-21T11:52:11.936Z"
   },
   {
    "duration": 3,
    "start_time": "2022-09-21T11:52:12.007Z"
   },
   {
    "duration": 174,
    "start_time": "2022-09-21T11:52:12.011Z"
   },
   {
    "duration": 315,
    "start_time": "2022-09-21T11:52:12.187Z"
   },
   {
    "duration": 9,
    "start_time": "2022-09-21T11:52:12.504Z"
   },
   {
    "duration": 32,
    "start_time": "2022-09-21T11:52:12.514Z"
   },
   {
    "duration": 51,
    "start_time": "2022-09-21T11:52:12.548Z"
   },
   {
    "duration": 15,
    "start_time": "2022-09-21T11:52:12.601Z"
   },
   {
    "duration": 322,
    "start_time": "2022-09-21T11:52:12.618Z"
   },
   {
    "duration": 22,
    "start_time": "2022-09-21T11:52:12.942Z"
   },
   {
    "duration": 32,
    "start_time": "2022-09-21T11:52:12.966Z"
   },
   {
    "duration": 951,
    "start_time": "2022-09-21T11:52:13.000Z"
   },
   {
    "duration": 93327,
    "start_time": "2022-09-21T11:52:13.953Z"
   },
   {
    "duration": 390334,
    "start_time": "2022-09-21T11:53:47.282Z"
   },
   {
    "duration": 47479,
    "start_time": "2022-09-21T12:00:17.617Z"
   },
   {
    "duration": 3,
    "start_time": "2022-09-21T12:04:27.626Z"
   },
   {
    "duration": 8208,
    "start_time": "2022-09-21T12:04:36.071Z"
   },
   {
    "duration": 3516,
    "start_time": "2022-09-21T12:04:44.281Z"
   },
   {
    "duration": 3567,
    "start_time": "2022-09-21T12:08:52.565Z"
   },
   {
    "duration": 8046,
    "start_time": "2022-09-21T12:08:56.134Z"
   },
   {
    "duration": 54,
    "start_time": "2022-09-21T12:12:32.473Z"
   },
   {
    "duration": 138,
    "start_time": "2022-09-21T12:13:25.634Z"
   },
   {
    "duration": 1437,
    "start_time": "2022-09-21T12:16:06.400Z"
   },
   {
    "duration": 3,
    "start_time": "2022-09-21T12:16:07.839Z"
   },
   {
    "duration": 774,
    "start_time": "2022-09-21T12:16:07.843Z"
   },
   {
    "duration": 117,
    "start_time": "2022-09-21T12:16:08.619Z"
   },
   {
    "duration": 15,
    "start_time": "2022-09-21T12:16:08.739Z"
   },
   {
    "duration": 34,
    "start_time": "2022-09-21T12:16:08.755Z"
   },
   {
    "duration": 21,
    "start_time": "2022-09-21T12:16:08.791Z"
   },
   {
    "duration": 389,
    "start_time": "2022-09-21T12:16:08.814Z"
   },
   {
    "duration": 58,
    "start_time": "2022-09-21T12:16:09.204Z"
   },
   {
    "duration": 81,
    "start_time": "2022-09-21T12:16:09.263Z"
   },
   {
    "duration": 37,
    "start_time": "2022-09-21T12:16:09.346Z"
   },
   {
    "duration": 54,
    "start_time": "2022-09-21T12:16:09.385Z"
   },
   {
    "duration": 71,
    "start_time": "2022-09-21T12:16:09.440Z"
   },
   {
    "duration": 4,
    "start_time": "2022-09-21T12:16:09.514Z"
   },
   {
    "duration": 166,
    "start_time": "2022-09-21T12:16:09.520Z"
   },
   {
    "duration": 317,
    "start_time": "2022-09-21T12:16:09.688Z"
   },
   {
    "duration": 8,
    "start_time": "2022-09-21T12:16:10.006Z"
   },
   {
    "duration": 31,
    "start_time": "2022-09-21T12:16:10.016Z"
   },
   {
    "duration": 53,
    "start_time": "2022-09-21T12:16:10.048Z"
   },
   {
    "duration": 16,
    "start_time": "2022-09-21T12:16:10.102Z"
   },
   {
    "duration": 294,
    "start_time": "2022-09-21T12:16:10.120Z"
   },
   {
    "duration": 21,
    "start_time": "2022-09-21T12:16:10.415Z"
   },
   {
    "duration": 38,
    "start_time": "2022-09-21T12:16:10.438Z"
   },
   {
    "duration": 884,
    "start_time": "2022-09-21T12:16:10.478Z"
   },
   {
    "duration": 68720,
    "start_time": "2022-09-21T12:16:11.363Z"
   },
   {
    "duration": 398876,
    "start_time": "2022-09-21T12:17:20.085Z"
   },
   {
    "duration": 1805,
    "start_time": "2022-09-21T12:50:17.523Z"
   },
   {
    "duration": 3,
    "start_time": "2022-09-21T12:50:19.331Z"
   },
   {
    "duration": 1229,
    "start_time": "2022-09-21T12:50:19.335Z"
   },
   {
    "duration": 222,
    "start_time": "2022-09-21T12:50:20.567Z"
   },
   {
    "duration": 25,
    "start_time": "2022-09-21T12:50:20.794Z"
   },
   {
    "duration": 34,
    "start_time": "2022-09-21T12:50:20.821Z"
   },
   {
    "duration": 20,
    "start_time": "2022-09-21T12:50:20.878Z"
   },
   {
    "duration": 681,
    "start_time": "2022-09-21T12:50:20.900Z"
   },
   {
    "duration": 117,
    "start_time": "2022-09-21T12:50:21.583Z"
   },
   {
    "duration": 164,
    "start_time": "2022-09-21T12:50:21.702Z"
   },
   {
    "duration": 58,
    "start_time": "2022-09-21T12:50:21.869Z"
   },
   {
    "duration": 97,
    "start_time": "2022-09-21T12:50:21.930Z"
   },
   {
    "duration": 89,
    "start_time": "2022-09-21T12:50:22.029Z"
   },
   {
    "duration": 5,
    "start_time": "2022-09-21T12:50:22.121Z"
   },
   {
    "duration": 301,
    "start_time": "2022-09-21T12:50:22.127Z"
   },
   {
    "duration": 437,
    "start_time": "2022-09-21T12:50:22.430Z"
   },
   {
    "duration": 11,
    "start_time": "2022-09-21T12:50:22.869Z"
   },
   {
    "duration": 51,
    "start_time": "2022-09-21T12:50:22.882Z"
   },
   {
    "duration": 60,
    "start_time": "2022-09-21T12:50:22.935Z"
   },
   {
    "duration": 21,
    "start_time": "2022-09-21T12:50:22.998Z"
   },
   {
    "duration": 524,
    "start_time": "2022-09-21T12:50:23.022Z"
   },
   {
    "duration": 39,
    "start_time": "2022-09-21T12:50:23.548Z"
   },
   {
    "duration": 42,
    "start_time": "2022-09-21T12:50:23.589Z"
   },
   {
    "duration": 1247,
    "start_time": "2022-09-21T12:50:23.633Z"
   },
   {
    "duration": 137096,
    "start_time": "2022-09-21T12:50:24.883Z"
   },
   {
    "duration": 431121,
    "start_time": "2022-09-21T12:52:41.982Z"
   },
   {
    "duration": 1378,
    "start_time": "2022-09-21T13:09:40.472Z"
   },
   {
    "duration": 4,
    "start_time": "2022-09-21T13:09:41.852Z"
   },
   {
    "duration": 757,
    "start_time": "2022-09-21T13:09:42.990Z"
   },
   {
    "duration": 113,
    "start_time": "2022-09-21T13:09:44.208Z"
   },
   {
    "duration": 21,
    "start_time": "2022-09-21T13:09:45.254Z"
   },
   {
    "duration": 25,
    "start_time": "2022-09-21T13:09:47.274Z"
   },
   {
    "duration": 9,
    "start_time": "2022-09-21T13:09:48.049Z"
   },
   {
    "duration": 376,
    "start_time": "2022-09-21T13:09:49.508Z"
   },
   {
    "duration": 60,
    "start_time": "2022-09-21T13:09:53.751Z"
   },
   {
    "duration": 101,
    "start_time": "2022-09-21T13:09:55.324Z"
   },
   {
    "duration": 29,
    "start_time": "2022-09-21T13:09:56.512Z"
   },
   {
    "duration": 55,
    "start_time": "2022-09-21T13:09:57.391Z"
   },
   {
    "duration": 51,
    "start_time": "2022-09-21T13:09:59.774Z"
   },
   {
    "duration": 4,
    "start_time": "2022-09-21T13:10:00.979Z"
   },
   {
    "duration": 150,
    "start_time": "2022-09-21T13:10:02.207Z"
   },
   {
    "duration": 330,
    "start_time": "2022-09-21T13:10:04.274Z"
   },
   {
    "duration": 9,
    "start_time": "2022-09-21T13:10:06.627Z"
   },
   {
    "duration": 33,
    "start_time": "2022-09-21T13:10:07.915Z"
   },
   {
    "duration": 33,
    "start_time": "2022-09-21T13:10:08.925Z"
   },
   {
    "duration": 16,
    "start_time": "2022-09-21T13:10:09.784Z"
   },
   {
    "duration": 324,
    "start_time": "2022-09-21T13:10:11.319Z"
   },
   {
    "duration": 21,
    "start_time": "2022-09-21T13:10:13.472Z"
   },
   {
    "duration": 27,
    "start_time": "2022-09-21T13:10:14.628Z"
   },
   {
    "duration": 947,
    "start_time": "2022-09-21T13:10:19.181Z"
   },
   {
    "duration": 91092,
    "start_time": "2022-09-21T13:10:21.787Z"
   },
   {
    "duration": 409644,
    "start_time": "2022-09-21T13:11:52.881Z"
   },
   {
    "duration": 3460,
    "start_time": "2022-09-21T13:35:55.417Z"
   },
   {
    "duration": 8243,
    "start_time": "2022-09-21T13:35:58.879Z"
   },
   {
    "duration": 6695,
    "start_time": "2022-09-21T13:36:14.092Z"
   },
   {
    "duration": 1607,
    "start_time": "2022-09-21T20:41:49.872Z"
   },
   {
    "duration": 112,
    "start_time": "2022-09-21T20:48:11.376Z"
   },
   {
    "duration": 1515,
    "start_time": "2022-09-21T20:53:10.432Z"
   },
   {
    "duration": 3,
    "start_time": "2022-09-21T20:53:11.949Z"
   },
   {
    "duration": 1181,
    "start_time": "2022-09-21T20:53:11.953Z"
   },
   {
    "duration": 139,
    "start_time": "2022-09-21T20:53:13.148Z"
   },
   {
    "duration": 16,
    "start_time": "2022-09-21T20:53:13.290Z"
   },
   {
    "duration": 41,
    "start_time": "2022-09-21T20:53:13.307Z"
   },
   {
    "duration": 11,
    "start_time": "2022-09-21T20:53:13.350Z"
   },
   {
    "duration": 428,
    "start_time": "2022-09-21T20:53:13.362Z"
   },
   {
    "duration": 77,
    "start_time": "2022-09-21T20:53:13.792Z"
   },
   {
    "duration": 101,
    "start_time": "2022-09-21T20:53:13.870Z"
   },
   {
    "duration": 32,
    "start_time": "2022-09-21T20:53:13.973Z"
   },
   {
    "duration": 91,
    "start_time": "2022-09-21T20:53:14.007Z"
   },
   {
    "duration": 61,
    "start_time": "2022-09-21T20:53:14.100Z"
   },
   {
    "duration": 4,
    "start_time": "2022-09-21T20:53:14.164Z"
   },
   {
    "duration": 201,
    "start_time": "2022-09-21T20:53:14.169Z"
   },
   {
    "duration": 316,
    "start_time": "2022-09-21T20:53:14.372Z"
   },
   {
    "duration": 8,
    "start_time": "2022-09-21T20:53:14.689Z"
   },
   {
    "duration": 39,
    "start_time": "2022-09-21T20:53:14.698Z"
   },
   {
    "duration": 32,
    "start_time": "2022-09-21T20:53:14.739Z"
   },
   {
    "duration": 14,
    "start_time": "2022-09-21T20:53:14.773Z"
   },
   {
    "duration": 315,
    "start_time": "2022-09-21T20:53:14.788Z"
   },
   {
    "duration": 19,
    "start_time": "2022-09-21T20:53:15.105Z"
   },
   {
    "duration": 35,
    "start_time": "2022-09-21T20:53:15.125Z"
   },
   {
    "duration": 1357,
    "start_time": "2022-09-21T20:53:15.162Z"
   },
   {
    "duration": 127819,
    "start_time": "2022-09-21T20:53:16.522Z"
   },
   {
    "duration": 188650,
    "start_time": "2022-09-21T20:55:24.349Z"
   },
   {
    "duration": 21756,
    "start_time": "2022-09-21T20:58:33.001Z"
   },
   {
    "duration": 211,
    "start_time": "2022-09-21T20:58:54.759Z"
   },
   {
    "duration": 73,
    "start_time": "2022-09-21T20:58:54.972Z"
   },
   {
    "duration": 83,
    "start_time": "2022-09-21T21:02:08.230Z"
   },
   {
    "duration": 148,
    "start_time": "2022-09-21T21:02:37.665Z"
   },
   {
    "duration": 45227,
    "start_time": "2022-09-21T21:03:16.168Z"
   },
   {
    "duration": 47637,
    "start_time": "2022-09-21T21:04:01.397Z"
   },
   {
    "duration": 2517,
    "start_time": "2022-09-21T21:04:49.036Z"
   },
   {
    "duration": 506,
    "start_time": "2022-09-21T21:04:51.555Z"
   },
   {
    "duration": 1387,
    "start_time": "2022-09-21T21:08:12.594Z"
   },
   {
    "duration": 3,
    "start_time": "2022-09-21T21:08:13.982Z"
   },
   {
    "duration": 848,
    "start_time": "2022-09-21T21:08:13.986Z"
   },
   {
    "duration": 159,
    "start_time": "2022-09-21T21:08:14.838Z"
   },
   {
    "duration": 16,
    "start_time": "2022-09-21T21:08:14.998Z"
   },
   {
    "duration": 43,
    "start_time": "2022-09-21T21:08:15.016Z"
   },
   {
    "duration": 16,
    "start_time": "2022-09-21T21:08:15.061Z"
   },
   {
    "duration": 474,
    "start_time": "2022-09-21T21:08:15.078Z"
   },
   {
    "duration": 70,
    "start_time": "2022-09-21T21:08:15.554Z"
   },
   {
    "duration": 124,
    "start_time": "2022-09-21T21:08:15.635Z"
   },
   {
    "duration": 35,
    "start_time": "2022-09-21T21:08:15.761Z"
   },
   {
    "duration": 90,
    "start_time": "2022-09-21T21:08:15.798Z"
   },
   {
    "duration": 62,
    "start_time": "2022-09-21T21:08:15.889Z"
   },
   {
    "duration": 3,
    "start_time": "2022-09-21T21:08:15.954Z"
   },
   {
    "duration": 197,
    "start_time": "2022-09-21T21:08:15.959Z"
   },
   {
    "duration": 381,
    "start_time": "2022-09-21T21:08:16.158Z"
   },
   {
    "duration": 10,
    "start_time": "2022-09-21T21:08:16.545Z"
   },
   {
    "duration": 33,
    "start_time": "2022-09-21T21:08:16.556Z"
   },
   {
    "duration": 45,
    "start_time": "2022-09-21T21:08:16.591Z"
   },
   {
    "duration": 20,
    "start_time": "2022-09-21T21:08:16.638Z"
   },
   {
    "duration": 320,
    "start_time": "2022-09-21T21:08:16.659Z"
   },
   {
    "duration": 21,
    "start_time": "2022-09-21T21:08:16.981Z"
   },
   {
    "duration": 40,
    "start_time": "2022-09-21T21:08:17.003Z"
   },
   {
    "duration": 1363,
    "start_time": "2022-09-21T21:08:17.045Z"
   },
   {
    "duration": 1291,
    "start_time": "2022-09-21T21:09:26.969Z"
   },
   {
    "duration": 3,
    "start_time": "2022-09-21T21:09:28.263Z"
   },
   {
    "duration": 839,
    "start_time": "2022-09-21T21:09:28.267Z"
   },
   {
    "duration": 141,
    "start_time": "2022-09-21T21:09:29.108Z"
   },
   {
    "duration": 17,
    "start_time": "2022-09-21T21:09:29.251Z"
   },
   {
    "duration": 21,
    "start_time": "2022-09-21T21:09:29.270Z"
   },
   {
    "duration": 12,
    "start_time": "2022-09-21T21:09:29.292Z"
   },
   {
    "duration": 445,
    "start_time": "2022-09-21T21:09:29.306Z"
   },
   {
    "duration": 74,
    "start_time": "2022-09-21T21:09:29.753Z"
   },
   {
    "duration": 94,
    "start_time": "2022-09-21T21:09:29.828Z"
   },
   {
    "duration": 45,
    "start_time": "2022-09-21T21:09:29.924Z"
   },
   {
    "duration": 88,
    "start_time": "2022-09-21T21:09:29.971Z"
   },
   {
    "duration": 66,
    "start_time": "2022-09-21T21:09:30.061Z"
   },
   {
    "duration": 7,
    "start_time": "2022-09-21T21:09:30.137Z"
   },
   {
    "duration": 196,
    "start_time": "2022-09-21T21:09:30.156Z"
   },
   {
    "duration": 307,
    "start_time": "2022-09-21T21:09:30.353Z"
   },
   {
    "duration": 9,
    "start_time": "2022-09-21T21:09:30.662Z"
   },
   {
    "duration": 48,
    "start_time": "2022-09-21T21:09:30.672Z"
   },
   {
    "duration": 42,
    "start_time": "2022-09-21T21:09:30.721Z"
   },
   {
    "duration": 20,
    "start_time": "2022-09-21T21:09:30.765Z"
   },
   {
    "duration": 345,
    "start_time": "2022-09-21T21:09:30.788Z"
   },
   {
    "duration": 29,
    "start_time": "2022-09-21T21:09:31.135Z"
   },
   {
    "duration": 27,
    "start_time": "2022-09-21T21:09:31.165Z"
   },
   {
    "duration": 1382,
    "start_time": "2022-09-21T21:09:31.193Z"
   },
   {
    "duration": 138467,
    "start_time": "2022-09-21T21:09:32.577Z"
   },
   {
    "duration": 188098,
    "start_time": "2022-09-21T21:11:51.047Z"
   },
   {
    "duration": 186357,
    "start_time": "2022-09-21T21:14:59.147Z"
   },
   {
    "duration": 46742,
    "start_time": "2022-09-21T21:18:05.506Z"
   },
   {
    "duration": 48697,
    "start_time": "2022-09-21T21:18:52.249Z"
   },
   {
    "duration": 2617,
    "start_time": "2022-09-21T21:19:40.948Z"
   },
   {
    "duration": 490,
    "start_time": "2022-09-21T21:19:43.567Z"
   },
   {
    "duration": 59,
    "start_time": "2022-09-21T21:19:44.059Z"
   },
   {
    "duration": 35163,
    "start_time": "2022-09-21T21:19:44.182Z"
   },
   {
    "duration": 28577,
    "start_time": "2022-09-21T21:22:09.745Z"
   },
   {
    "duration": 17834,
    "start_time": "2022-09-21T21:23:11.721Z"
   },
   {
    "duration": 118869,
    "start_time": "2022-09-21T21:30:37.371Z"
   },
   {
    "duration": 183431,
    "start_time": "2022-09-21T21:32:36.242Z"
   },
   {
    "duration": 15607,
    "start_time": "2022-09-21T21:35:57.899Z"
   },
   {
    "duration": 15177,
    "start_time": "2022-09-21T21:36:40.788Z"
   },
   {
    "duration": 1320,
    "start_time": "2022-09-21T21:37:04.192Z"
   },
   {
    "duration": 2,
    "start_time": "2022-09-21T21:37:05.514Z"
   },
   {
    "duration": 873,
    "start_time": "2022-09-21T21:37:05.517Z"
   },
   {
    "duration": 161,
    "start_time": "2022-09-21T21:37:06.392Z"
   },
   {
    "duration": 15,
    "start_time": "2022-09-21T21:37:06.555Z"
   },
   {
    "duration": 29,
    "start_time": "2022-09-21T21:37:06.571Z"
   },
   {
    "duration": 16,
    "start_time": "2022-09-21T21:37:06.602Z"
   },
   {
    "duration": 452,
    "start_time": "2022-09-21T21:37:06.620Z"
   },
   {
    "duration": 87,
    "start_time": "2022-09-21T21:37:07.074Z"
   },
   {
    "duration": 105,
    "start_time": "2022-09-21T21:37:07.164Z"
   },
   {
    "duration": 30,
    "start_time": "2022-09-21T21:37:07.271Z"
   },
   {
    "duration": 83,
    "start_time": "2022-09-21T21:37:07.303Z"
   },
   {
    "duration": 63,
    "start_time": "2022-09-21T21:37:07.388Z"
   },
   {
    "duration": 3,
    "start_time": "2022-09-21T21:37:07.453Z"
   },
   {
    "duration": 203,
    "start_time": "2022-09-21T21:37:07.457Z"
   },
   {
    "duration": 313,
    "start_time": "2022-09-21T21:37:07.662Z"
   },
   {
    "duration": 7,
    "start_time": "2022-09-21T21:37:07.977Z"
   },
   {
    "duration": 34,
    "start_time": "2022-09-21T21:37:07.986Z"
   },
   {
    "duration": 33,
    "start_time": "2022-09-21T21:37:08.045Z"
   },
   {
    "duration": 14,
    "start_time": "2022-09-21T21:37:08.080Z"
   },
   {
    "duration": 306,
    "start_time": "2022-09-21T21:37:08.096Z"
   },
   {
    "duration": 20,
    "start_time": "2022-09-21T21:37:08.404Z"
   },
   {
    "duration": 29,
    "start_time": "2022-09-21T21:37:08.436Z"
   },
   {
    "duration": 1342,
    "start_time": "2022-09-21T21:37:08.467Z"
   },
   {
    "duration": 120827,
    "start_time": "2022-09-21T21:37:09.811Z"
   },
   {
    "duration": 183885,
    "start_time": "2022-09-21T21:39:10.641Z"
   },
   {
    "duration": 20822,
    "start_time": "2022-09-21T21:42:14.528Z"
   },
   {
    "duration": 45439,
    "start_time": "2022-09-21T21:42:35.353Z"
   },
   {
    "duration": 14751,
    "start_time": "2022-09-21T21:43:20.794Z"
   },
   {
    "duration": 2677,
    "start_time": "2022-09-21T21:43:35.547Z"
   },
   {
    "duration": 530,
    "start_time": "2022-09-21T21:43:38.226Z"
   },
   {
    "duration": 126,
    "start_time": "2022-09-22T10:21:06.273Z"
   },
   {
    "duration": 1680,
    "start_time": "2022-09-22T10:21:17.485Z"
   },
   {
    "duration": 2,
    "start_time": "2022-09-22T10:21:19.167Z"
   },
   {
    "duration": 3004,
    "start_time": "2022-09-22T10:21:19.171Z"
   },
   {
    "duration": 120,
    "start_time": "2022-09-22T10:21:22.177Z"
   },
   {
    "duration": 16,
    "start_time": "2022-09-22T10:21:22.299Z"
   },
   {
    "duration": 25,
    "start_time": "2022-09-22T10:21:22.317Z"
   },
   {
    "duration": 14,
    "start_time": "2022-09-22T10:21:22.810Z"
   },
   {
    "duration": 363,
    "start_time": "2022-09-22T10:21:24.205Z"
   },
   {
    "duration": 58,
    "start_time": "2022-09-22T10:21:25.689Z"
   },
   {
    "duration": 76,
    "start_time": "2022-09-22T10:21:27.016Z"
   },
   {
    "duration": 31,
    "start_time": "2022-09-22T10:21:28.849Z"
   },
   {
    "duration": 64,
    "start_time": "2022-09-22T10:21:29.747Z"
   },
   {
    "duration": 56,
    "start_time": "2022-09-22T10:21:31.267Z"
   },
   {
    "duration": 4,
    "start_time": "2022-09-22T10:21:32.369Z"
   },
   {
    "duration": 163,
    "start_time": "2022-09-22T10:21:33.135Z"
   },
   {
    "duration": 307,
    "start_time": "2022-09-22T10:21:39.128Z"
   },
   {
    "duration": 9,
    "start_time": "2022-09-22T10:21:40.536Z"
   },
   {
    "duration": 33,
    "start_time": "2022-09-22T10:21:41.343Z"
   },
   {
    "duration": 33,
    "start_time": "2022-09-22T10:21:42.519Z"
   },
   {
    "duration": 15,
    "start_time": "2022-09-22T10:21:43.163Z"
   },
   {
    "duration": 342,
    "start_time": "2022-09-22T10:21:44.594Z"
   },
   {
    "duration": 25,
    "start_time": "2022-09-22T10:21:46.513Z"
   },
   {
    "duration": 27,
    "start_time": "2022-09-22T10:21:48.104Z"
   },
   {
    "duration": 1360,
    "start_time": "2022-09-22T10:21:52.438Z"
   },
   {
    "duration": 14182,
    "start_time": "2022-09-22T10:21:58.230Z"
   },
   {
    "duration": 3,
    "start_time": "2022-09-22T10:37:25.048Z"
   },
   {
    "duration": 8181,
    "start_time": "2022-09-22T11:05:04.239Z"
   },
   {
    "duration": 12,
    "start_time": "2022-09-22T11:15:10.846Z"
   },
   {
    "duration": 14,
    "start_time": "2022-09-22T11:15:19.670Z"
   },
   {
    "duration": 150,
    "start_time": "2022-09-22T11:18:00.032Z"
   },
   {
    "duration": 219378,
    "start_time": "2022-09-22T11:19:20.865Z"
   },
   {
    "duration": 4,
    "start_time": "2022-09-22T11:26:00.606Z"
   },
   {
    "duration": 4,
    "start_time": "2022-09-22T11:26:18.072Z"
   },
   {
    "duration": 76,
    "start_time": "2022-09-22T11:30:00.023Z"
   },
   {
    "duration": 824951,
    "start_time": "2022-09-22T11:30:21.957Z"
   },
   {
    "duration": 1457,
    "start_time": "2022-09-22T11:46:40.110Z"
   },
   {
    "duration": 3,
    "start_time": "2022-09-22T11:46:41.569Z"
   },
   {
    "duration": 828,
    "start_time": "2022-09-22T11:46:41.573Z"
   },
   {
    "duration": 127,
    "start_time": "2022-09-22T11:46:42.403Z"
   },
   {
    "duration": 17,
    "start_time": "2022-09-22T11:46:42.532Z"
   },
   {
    "duration": 44,
    "start_time": "2022-09-22T11:46:42.551Z"
   },
   {
    "duration": 16,
    "start_time": "2022-09-22T11:46:42.597Z"
   },
   {
    "duration": 438,
    "start_time": "2022-09-22T11:46:42.615Z"
   },
   {
    "duration": 69,
    "start_time": "2022-09-22T11:46:43.055Z"
   },
   {
    "duration": 101,
    "start_time": "2022-09-22T11:46:43.126Z"
   },
   {
    "duration": 31,
    "start_time": "2022-09-22T11:46:43.229Z"
   },
   {
    "duration": 75,
    "start_time": "2022-09-22T11:46:43.262Z"
   },
   {
    "duration": 68,
    "start_time": "2022-09-22T11:46:43.338Z"
   },
   {
    "duration": 3,
    "start_time": "2022-09-22T11:46:43.409Z"
   },
   {
    "duration": 186,
    "start_time": "2022-09-22T11:46:43.413Z"
   },
   {
    "duration": 333,
    "start_time": "2022-09-22T11:46:43.601Z"
   },
   {
    "duration": 8,
    "start_time": "2022-09-22T11:46:43.936Z"
   },
   {
    "duration": 32,
    "start_time": "2022-09-22T11:46:43.946Z"
   },
   {
    "duration": 46,
    "start_time": "2022-09-22T11:46:43.979Z"
   },
   {
    "duration": 16,
    "start_time": "2022-09-22T11:46:44.027Z"
   },
   {
    "duration": 327,
    "start_time": "2022-09-22T11:46:44.045Z"
   },
   {
    "duration": 27,
    "start_time": "2022-09-22T11:46:44.373Z"
   },
   {
    "duration": 26,
    "start_time": "2022-09-22T11:46:44.402Z"
   },
   {
    "duration": 1267,
    "start_time": "2022-09-22T11:46:44.429Z"
   },
   {
    "duration": 50,
    "start_time": "2022-09-22T11:47:55.692Z"
   },
   {
    "duration": 4,
    "start_time": "2022-09-22T11:48:18.576Z"
   },
   {
    "duration": 3,
    "start_time": "2022-09-22T11:48:21.714Z"
   },
   {
    "duration": 802,
    "start_time": "2022-09-22T11:48:23.667Z"
   },
   {
    "duration": 125,
    "start_time": "2022-09-22T11:48:24.471Z"
   },
   {
    "duration": 17,
    "start_time": "2022-09-22T11:48:24.598Z"
   },
   {
    "duration": 22,
    "start_time": "2022-09-22T11:48:24.685Z"
   },
   {
    "duration": 11,
    "start_time": "2022-09-22T11:48:25.844Z"
   },
   {
    "duration": 412,
    "start_time": "2022-09-22T11:48:27.128Z"
   },
   {
    "duration": 61,
    "start_time": "2022-09-22T11:48:28.598Z"
   },
   {
    "duration": 80,
    "start_time": "2022-09-22T11:48:29.641Z"
   },
   {
    "duration": 32,
    "start_time": "2022-09-22T11:48:31.357Z"
   },
   {
    "duration": 65,
    "start_time": "2022-09-22T11:48:32.477Z"
   },
   {
    "duration": 59,
    "start_time": "2022-09-22T11:48:33.554Z"
   },
   {
    "duration": 3,
    "start_time": "2022-09-22T11:48:34.479Z"
   },
   {
    "duration": 165,
    "start_time": "2022-09-22T11:48:35.383Z"
   },
   {
    "duration": 321,
    "start_time": "2022-09-22T11:48:38.221Z"
   },
   {
    "duration": 9,
    "start_time": "2022-09-22T11:48:40.585Z"
   },
   {
    "duration": 38,
    "start_time": "2022-09-22T11:48:41.967Z"
   },
   {
    "duration": 30,
    "start_time": "2022-09-22T11:48:43.053Z"
   },
   {
    "duration": 16,
    "start_time": "2022-09-22T11:48:44.716Z"
   },
   {
    "duration": 304,
    "start_time": "2022-09-22T11:48:46.272Z"
   },
   {
    "duration": 24,
    "start_time": "2022-09-22T11:48:48.332Z"
   },
   {
    "duration": 25,
    "start_time": "2022-09-22T11:48:49.827Z"
   },
   {
    "duration": 1380,
    "start_time": "2022-09-22T11:48:56.034Z"
   },
   {
    "duration": 713504,
    "start_time": "2022-09-22T11:49:02.796Z"
   },
   {
    "duration": 155,
    "start_time": "2022-09-22T12:00:56.302Z"
   },
   {
    "duration": 34292,
    "start_time": "2022-09-22T12:03:57.115Z"
   },
   {
    "duration": 193,
    "start_time": "2022-09-22T12:05:55.994Z"
   },
   {
    "duration": 7403,
    "start_time": "2022-09-22T12:06:02.894Z"
   },
   {
    "duration": 1410,
    "start_time": "2022-09-22T12:06:47.453Z"
   },
   {
    "duration": 4,
    "start_time": "2022-09-22T12:06:48.865Z"
   },
   {
    "duration": 838,
    "start_time": "2022-09-22T12:06:48.871Z"
   },
   {
    "duration": 129,
    "start_time": "2022-09-22T12:06:49.711Z"
   },
   {
    "duration": 16,
    "start_time": "2022-09-22T12:06:49.843Z"
   },
   {
    "duration": 37,
    "start_time": "2022-09-22T12:06:49.861Z"
   },
   {
    "duration": 23,
    "start_time": "2022-09-22T12:06:49.900Z"
   },
   {
    "duration": 435,
    "start_time": "2022-09-22T12:06:49.925Z"
   },
   {
    "duration": 67,
    "start_time": "2022-09-22T12:06:50.361Z"
   },
   {
    "duration": 95,
    "start_time": "2022-09-22T12:06:50.430Z"
   },
   {
    "duration": 31,
    "start_time": "2022-09-22T12:06:50.526Z"
   },
   {
    "duration": 73,
    "start_time": "2022-09-22T12:06:50.559Z"
   },
   {
    "duration": 63,
    "start_time": "2022-09-22T12:06:50.634Z"
   },
   {
    "duration": 3,
    "start_time": "2022-09-22T12:06:50.700Z"
   },
   {
    "duration": 187,
    "start_time": "2022-09-22T12:06:50.704Z"
   },
   {
    "duration": 339,
    "start_time": "2022-09-22T12:06:50.894Z"
   },
   {
    "duration": 9,
    "start_time": "2022-09-22T12:06:51.235Z"
   },
   {
    "duration": 31,
    "start_time": "2022-09-22T12:06:51.245Z"
   },
   {
    "duration": 31,
    "start_time": "2022-09-22T12:06:51.295Z"
   },
   {
    "duration": 18,
    "start_time": "2022-09-22T12:06:51.328Z"
   },
   {
    "duration": 319,
    "start_time": "2022-09-22T12:06:51.347Z"
   },
   {
    "duration": 28,
    "start_time": "2022-09-22T12:06:51.667Z"
   },
   {
    "duration": 26,
    "start_time": "2022-09-22T12:06:51.697Z"
   },
   {
    "duration": 1365,
    "start_time": "2022-09-22T12:06:51.724Z"
   },
   {
    "duration": 66805,
    "start_time": "2022-09-22T12:06:53.090Z"
   },
   {
    "duration": 195067,
    "start_time": "2022-09-22T12:07:59.899Z"
   },
   {
    "duration": 726932,
    "start_time": "2022-09-22T12:11:14.967Z"
   },
   {
    "duration": 32708,
    "start_time": "2022-09-22T12:23:21.902Z"
   },
   {
    "duration": 46989,
    "start_time": "2022-09-22T12:23:54.612Z"
   },
   {
    "duration": 14603,
    "start_time": "2022-09-22T12:24:41.603Z"
   },
   {
    "duration": 2973,
    "start_time": "2022-09-22T12:24:56.207Z"
   },
   {
    "duration": 518,
    "start_time": "2022-09-22T12:24:59.182Z"
   }
  ],
  "kernelspec": {
   "display_name": "Python 3 (ipykernel)",
   "language": "python",
   "name": "python3"
  },
  "language_info": {
   "codemirror_mode": {
    "name": "ipython",
    "version": 3
   },
   "file_extension": ".py",
   "mimetype": "text/x-python",
   "name": "python",
   "nbconvert_exporter": "python",
   "pygments_lexer": "ipython3",
   "version": "3.9.12"
  },
  "toc": {
   "base_numbering": 1,
   "nav_menu": {},
   "number_sections": true,
   "sideBar": true,
   "skip_h1_title": true,
   "title_cell": "Table of Contents",
   "title_sidebar": "Contents",
   "toc_cell": false,
   "toc_position": {},
   "toc_section_display": true,
   "toc_window_display": false
  }
 },
 "nbformat": 4,
 "nbformat_minor": 2
}
