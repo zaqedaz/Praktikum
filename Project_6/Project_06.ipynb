{
 "cells": [
  {
   "cell_type": "markdown",
   "metadata": {},
   "source": [
    "# Рекомендация тарифов"
   ]
  },
  {
   "cell_type": "markdown",
   "metadata": {},
   "source": [
    "В вашем распоряжении данные о поведении клиентов, которые уже перешли на эти тарифы (из проекта курса «Статистический анализ данных»). Нужно построить модель для задачи классификации, которая выберет подходящий тариф. Предобработка данных не понадобится — вы её уже сделали.\n",
    "\n",
    "Постройте модель с максимально большим значением *accuracy*. Чтобы сдать проект успешно, нужно довести долю правильных ответов по крайней мере до 0.75. Проверьте *accuracy* на тестовой выборке самостоятельно."
   ]
  },
  {
   "cell_type": "markdown",
   "metadata": {},
   "source": [
    "## Откройте и изучите файл"
   ]
  },
  {
   "cell_type": "code",
   "execution_count": 1,
   "metadata": {},
   "outputs": [],
   "source": [
    "import pandas as pd\n",
    "from sklearn.model_selection import train_test_split\n",
    "from sklearn.tree import DecisionTreeClassifier \n",
    "from sklearn.metrics import accuracy_score\n",
    "from sklearn.ensemble import RandomForestClassifier\n",
    "from sklearn.linear_model import LogisticRegression"
   ]
  },
  {
   "cell_type": "code",
   "execution_count": 2,
   "metadata": {},
   "outputs": [],
   "source": [
    "RANDOM_STATE = 1337228"
   ]
  },
  {
   "cell_type": "code",
   "execution_count": 3,
   "metadata": {},
   "outputs": [
    {
     "name": "stdout",
     "output_type": "stream",
     "text": [
      "<class 'pandas.core.frame.DataFrame'>\n",
      "RangeIndex: 3214 entries, 0 to 3213\n",
      "Data columns (total 5 columns):\n",
      " #   Column    Non-Null Count  Dtype  \n",
      "---  ------    --------------  -----  \n",
      " 0   calls     3214 non-null   float64\n",
      " 1   minutes   3214 non-null   float64\n",
      " 2   messages  3214 non-null   float64\n",
      " 3   mb_used   3214 non-null   float64\n",
      " 4   is_ultra  3214 non-null   int64  \n",
      "dtypes: float64(4), int64(1)\n",
      "memory usage: 125.7 KB\n"
     ]
    },
    {
     "data": {
      "text/html": [
       "<div>\n",
       "<style scoped>\n",
       "    .dataframe tbody tr th:only-of-type {\n",
       "        vertical-align: middle;\n",
       "    }\n",
       "\n",
       "    .dataframe tbody tr th {\n",
       "        vertical-align: top;\n",
       "    }\n",
       "\n",
       "    .dataframe thead th {\n",
       "        text-align: right;\n",
       "    }\n",
       "</style>\n",
       "<table border=\"1\" class=\"dataframe\">\n",
       "  <thead>\n",
       "    <tr style=\"text-align: right;\">\n",
       "      <th></th>\n",
       "      <th>calls</th>\n",
       "      <th>minutes</th>\n",
       "      <th>messages</th>\n",
       "      <th>mb_used</th>\n",
       "      <th>is_ultra</th>\n",
       "    </tr>\n",
       "  </thead>\n",
       "  <tbody>\n",
       "    <tr>\n",
       "      <th>0</th>\n",
       "      <td>40.0</td>\n",
       "      <td>311.90</td>\n",
       "      <td>83.0</td>\n",
       "      <td>19915.42</td>\n",
       "      <td>0</td>\n",
       "    </tr>\n",
       "    <tr>\n",
       "      <th>1</th>\n",
       "      <td>85.0</td>\n",
       "      <td>516.75</td>\n",
       "      <td>56.0</td>\n",
       "      <td>22696.96</td>\n",
       "      <td>0</td>\n",
       "    </tr>\n",
       "    <tr>\n",
       "      <th>2</th>\n",
       "      <td>77.0</td>\n",
       "      <td>467.66</td>\n",
       "      <td>86.0</td>\n",
       "      <td>21060.45</td>\n",
       "      <td>0</td>\n",
       "    </tr>\n",
       "    <tr>\n",
       "      <th>3</th>\n",
       "      <td>106.0</td>\n",
       "      <td>745.53</td>\n",
       "      <td>81.0</td>\n",
       "      <td>8437.39</td>\n",
       "      <td>1</td>\n",
       "    </tr>\n",
       "    <tr>\n",
       "      <th>4</th>\n",
       "      <td>66.0</td>\n",
       "      <td>418.74</td>\n",
       "      <td>1.0</td>\n",
       "      <td>14502.75</td>\n",
       "      <td>0</td>\n",
       "    </tr>\n",
       "  </tbody>\n",
       "</table>\n",
       "</div>"
      ],
      "text/plain": [
       "   calls  minutes  messages   mb_used  is_ultra\n",
       "0   40.0   311.90      83.0  19915.42         0\n",
       "1   85.0   516.75      56.0  22696.96         0\n",
       "2   77.0   467.66      86.0  21060.45         0\n",
       "3  106.0   745.53      81.0   8437.39         1\n",
       "4   66.0   418.74       1.0  14502.75         0"
      ]
     },
     "execution_count": 3,
     "metadata": {},
     "output_type": "execute_result"
    }
   ],
   "source": [
    "data = pd.read_csv('datasets/users_behavior.csv')\n",
    "data.info()\n",
    "data.head()"
   ]
  },
  {
   "cell_type": "markdown",
   "metadata": {},
   "source": [
    "**Целевым признаком** в данной работе выступает столбец **'is_ultra'**, признак **категориальный**, соответственно, поставлена задача **классификации**."
   ]
  },
  {
   "cell_type": "markdown",
   "metadata": {},
   "source": [
    "## Разбейте данные на выборки"
   ]
  },
  {
   "cell_type": "code",
   "execution_count": 4,
   "metadata": {},
   "outputs": [],
   "source": [
    "#разбитие данных на выборки\n",
    "train_data, split_data = train_test_split(data, test_size=0.40, random_state=RANDOM_STATE)\n",
    "valid_data, test_data = train_test_split(split_data, test_size=0.50, random_state=RANDOM_STATE)\n",
    "#создание таблиц с признаками\n",
    "train_data_features = train_data.drop(['is_ultra'], axis=1)\n",
    "train_data_target = train_data['is_ultra']\n",
    "valid_data_features = valid_data.drop(['is_ultra'], axis=1)\n",
    "valid_data_target = valid_data['is_ultra']\n",
    "test_data_features = test_data.drop(['is_ultra'], axis=1)\n",
    "test_data_target = test_data['is_ultra']"
   ]
  },
  {
   "cell_type": "markdown",
   "metadata": {},
   "source": [
    "Так как у нас нет спрятанной тестовой выборки, данные разбивались по принципу 60/20/20:\n",
    "- 60, обучающая выборка (train_data)\n",
    "- 20, валидационная выборка (valid_data)\n",
    "- 20, тестовая выборка (test_data)"
   ]
  },
  {
   "cell_type": "markdown",
   "metadata": {},
   "source": [
    "## Исследуйте модели"
   ]
  },
  {
   "cell_type": "markdown",
   "metadata": {},
   "source": [
    "Исследованию подлежат три модели:\n",
    "1. Решающее дерево\n",
    "2. Случайный лес\n",
    "3. Логистическаая регрессия"
   ]
  },
  {
   "cell_type": "markdown",
   "metadata": {},
   "source": [
    "### Решающее дерево"
   ]
  },
  {
   "cell_type": "code",
   "execution_count": 5,
   "metadata": {},
   "outputs": [
    {
     "name": "stdout",
     "output_type": "stream",
     "text": [
      "Лучшая глубина дерева: 8\n",
      "Лучшая точность: 0.7978227060653188\n"
     ]
    }
   ],
   "source": [
    "best_depth = 0\n",
    "best_accuracy = 0\n",
    "\n",
    "for depth in range(1,50):\n",
    "    model = DecisionTreeClassifier(random_state=RANDOM_STATE, max_depth=depth)\n",
    "    model.fit(train_data_features, train_data_target)\n",
    "    valid_predictions = model.predict(valid_data_features)\n",
    "    accuracy = accuracy_score(valid_data_target, valid_predictions)\n",
    "    if accuracy > best_accuracy:\n",
    "        best_depth = depth\n",
    "        best_accuracy = accuracy\n",
    "\n",
    "print('Лучшая глубина дерева:', best_depth)\n",
    "print('Лучшая точность:', best_accuracy)"
   ]
  },
  {
   "cell_type": "markdown",
   "metadata": {},
   "source": [
    "Рассмотрим критерии Джини и энтропийный"
   ]
  },
  {
   "cell_type": "code",
   "execution_count": 6,
   "metadata": {},
   "outputs": [
    {
     "name": "stdout",
     "output_type": "stream",
     "text": [
      "Глубина дерева: 8\n",
      "Точность: 0.7978227060653188\n"
     ]
    }
   ],
   "source": [
    "best_tree_model = DecisionTreeClassifier(random_state=RANDOM_STATE, max_depth=8,criterion=\"gini\")\n",
    "best_tree_model.fit(train_data_features, train_data_target)\n",
    "valid_predictions = best_tree_model.predict(valid_data_features)\n",
    "accuracy = accuracy_score(valid_data_target, valid_predictions)\n",
    "print('Глубина дерева: 8')\n",
    "print('Точность:', accuracy)"
   ]
  },
  {
   "cell_type": "code",
   "execution_count": 7,
   "metadata": {},
   "outputs": [
    {
     "name": "stdout",
     "output_type": "stream",
     "text": [
      "Глубина дерева: 8\n",
      "Точность: 0.80248833592535\n"
     ]
    }
   ],
   "source": [
    "best_tree_model = DecisionTreeClassifier(random_state=RANDOM_STATE, max_depth=8,criterion=\"entropy\")\n",
    "best_tree_model.fit(train_data_features, train_data_target)\n",
    "valid_predictions = best_tree_model.predict(valid_data_features)\n",
    "accuracy = accuracy_score(valid_data_target, valid_predictions)\n",
    "print('Глубина дерева: 8')\n",
    "print('Точность:', accuracy)"
   ]
  },
  {
   "cell_type": "markdown",
   "metadata": {},
   "source": [
    "**Энтропийный критерий даёт большую точность**"
   ]
  },
  {
   "cell_type": "markdown",
   "metadata": {},
   "source": [
    "### Случайный лес"
   ]
  },
  {
   "cell_type": "code",
   "execution_count": 8,
   "metadata": {},
   "outputs": [
    {
     "name": "stdout",
     "output_type": "stream",
     "text": [
      "Лучшее количество деревьев 32\n",
      "Лучшая точность 0.80248833592535\n"
     ]
    }
   ],
   "source": [
    "best_est = 0\n",
    "best_accuracy = 0\n",
    "\n",
    "for est in range(1,50):\n",
    "    model = RandomForestClassifier(random_state=RANDOM_STATE, n_estimators=est)\n",
    "    model.fit(train_data_features, train_data_target)\n",
    "    valid_predictions = model.predict(valid_data_features)\n",
    "    accuracy = accuracy_score(valid_data_target, valid_predictions)\n",
    "    if accuracy > best_accuracy:\n",
    "        best_est = est\n",
    "        best_accuracy = accuracy\n",
    "\n",
    "print('Лучшее количество деревьев', best_est)\n",
    "print('Лучшая точность', best_accuracy)   "
   ]
  },
  {
   "cell_type": "code",
   "execution_count": 9,
   "metadata": {},
   "outputs": [
    {
     "name": "stdout",
     "output_type": "stream",
     "text": [
      "Количество деревьев: 32\n",
      "Точность: 0.80248833592535\n"
     ]
    }
   ],
   "source": [
    "best_forest_model = RandomForestClassifier(random_state=RANDOM_STATE, n_estimators=32, criterion=\"gini\")\n",
    "best_forest_model.fit(train_data_features, train_data_target)\n",
    "valid_predictions = best_forest_model.predict(valid_data_features)\n",
    "accuracy = accuracy_score(valid_data_target, valid_predictions)\n",
    "print('Количество деревьев: 32')\n",
    "print('Точность:', accuracy)   "
   ]
  },
  {
   "cell_type": "code",
   "execution_count": 10,
   "metadata": {},
   "outputs": [
    {
     "name": "stdout",
     "output_type": "stream",
     "text": [
      "Количество деревьев: 32\n",
      "Точность: 0.7962674961119751\n"
     ]
    }
   ],
   "source": [
    "best_forest_model = RandomForestClassifier(random_state=RANDOM_STATE, n_estimators=32, criterion=\"entropy\")\n",
    "best_forest_model.fit(train_data_features, train_data_target)\n",
    "valid_predictions = best_forest_model.predict(valid_data_features)\n",
    "accuracy = accuracy_score(valid_data_target, valid_predictions)\n",
    "print('Количество деревьев: 32')\n",
    "print('Точность:', accuracy)   "
   ]
  },
  {
   "cell_type": "markdown",
   "metadata": {},
   "source": [
    "**Критерий Джини даёт большую точность**"
   ]
  },
  {
   "cell_type": "markdown",
   "metadata": {},
   "source": [
    "### Логистическая регрессия"
   ]
  },
  {
   "cell_type": "code",
   "execution_count": 11,
   "metadata": {},
   "outputs": [
    {
     "name": "stderr",
     "output_type": "stream",
     "text": [
      "C:\\Users\\dange\\anaconda3\\lib\\site-packages\\sklearn\\linear_model\\_logistic.py:814: ConvergenceWarning: lbfgs failed to converge (status=1):\n",
      "STOP: TOTAL NO. of ITERATIONS REACHED LIMIT.\n",
      "\n",
      "Increase the number of iterations (max_iter) or scale the data as shown in:\n",
      "    https://scikit-learn.org/stable/modules/preprocessing.html\n",
      "Please also refer to the documentation for alternative solver options:\n",
      "    https://scikit-learn.org/stable/modules/linear_model.html#logistic-regression\n",
      "  n_iter_i = _check_optimize_result(\n",
      "C:\\Users\\dange\\anaconda3\\lib\\site-packages\\sklearn\\linear_model\\_logistic.py:814: ConvergenceWarning: lbfgs failed to converge (status=1):\n",
      "STOP: TOTAL NO. of ITERATIONS REACHED LIMIT.\n",
      "\n",
      "Increase the number of iterations (max_iter) or scale the data as shown in:\n",
      "    https://scikit-learn.org/stable/modules/preprocessing.html\n",
      "Please also refer to the documentation for alternative solver options:\n",
      "    https://scikit-learn.org/stable/modules/linear_model.html#logistic-regression\n",
      "  n_iter_i = _check_optimize_result(\n",
      "C:\\Users\\dange\\anaconda3\\lib\\site-packages\\sklearn\\linear_model\\_logistic.py:814: ConvergenceWarning: lbfgs failed to converge (status=1):\n",
      "STOP: TOTAL NO. of ITERATIONS REACHED LIMIT.\n",
      "\n",
      "Increase the number of iterations (max_iter) or scale the data as shown in:\n",
      "    https://scikit-learn.org/stable/modules/preprocessing.html\n",
      "Please also refer to the documentation for alternative solver options:\n",
      "    https://scikit-learn.org/stable/modules/linear_model.html#logistic-regression\n",
      "  n_iter_i = _check_optimize_result(\n",
      "C:\\Users\\dange\\anaconda3\\lib\\site-packages\\sklearn\\linear_model\\_logistic.py:814: ConvergenceWarning: lbfgs failed to converge (status=1):\n",
      "STOP: TOTAL NO. of ITERATIONS REACHED LIMIT.\n",
      "\n",
      "Increase the number of iterations (max_iter) or scale the data as shown in:\n",
      "    https://scikit-learn.org/stable/modules/preprocessing.html\n",
      "Please also refer to the documentation for alternative solver options:\n",
      "    https://scikit-learn.org/stable/modules/linear_model.html#logistic-regression\n",
      "  n_iter_i = _check_optimize_result(\n",
      "C:\\Users\\dange\\anaconda3\\lib\\site-packages\\sklearn\\linear_model\\_logistic.py:814: ConvergenceWarning: lbfgs failed to converge (status=1):\n",
      "STOP: TOTAL NO. of ITERATIONS REACHED LIMIT.\n",
      "\n",
      "Increase the number of iterations (max_iter) or scale the data as shown in:\n",
      "    https://scikit-learn.org/stable/modules/preprocessing.html\n",
      "Please also refer to the documentation for alternative solver options:\n",
      "    https://scikit-learn.org/stable/modules/linear_model.html#logistic-regression\n",
      "  n_iter_i = _check_optimize_result(\n",
      "C:\\Users\\dange\\anaconda3\\lib\\site-packages\\sklearn\\linear_model\\_logistic.py:814: ConvergenceWarning: lbfgs failed to converge (status=1):\n",
      "STOP: TOTAL NO. of ITERATIONS REACHED LIMIT.\n",
      "\n",
      "Increase the number of iterations (max_iter) or scale the data as shown in:\n",
      "    https://scikit-learn.org/stable/modules/preprocessing.html\n",
      "Please also refer to the documentation for alternative solver options:\n",
      "    https://scikit-learn.org/stable/modules/linear_model.html#logistic-regression\n",
      "  n_iter_i = _check_optimize_result(\n",
      "C:\\Users\\dange\\anaconda3\\lib\\site-packages\\sklearn\\linear_model\\_logistic.py:814: ConvergenceWarning: lbfgs failed to converge (status=1):\n",
      "STOP: TOTAL NO. of ITERATIONS REACHED LIMIT.\n",
      "\n",
      "Increase the number of iterations (max_iter) or scale the data as shown in:\n",
      "    https://scikit-learn.org/stable/modules/preprocessing.html\n",
      "Please also refer to the documentation for alternative solver options:\n",
      "    https://scikit-learn.org/stable/modules/linear_model.html#logistic-regression\n",
      "  n_iter_i = _check_optimize_result(\n",
      "C:\\Users\\dange\\anaconda3\\lib\\site-packages\\sklearn\\linear_model\\_logistic.py:814: ConvergenceWarning: lbfgs failed to converge (status=1):\n",
      "STOP: TOTAL NO. of ITERATIONS REACHED LIMIT.\n",
      "\n",
      "Increase the number of iterations (max_iter) or scale the data as shown in:\n",
      "    https://scikit-learn.org/stable/modules/preprocessing.html\n",
      "Please also refer to the documentation for alternative solver options:\n",
      "    https://scikit-learn.org/stable/modules/linear_model.html#logistic-regression\n",
      "  n_iter_i = _check_optimize_result(\n",
      "C:\\Users\\dange\\anaconda3\\lib\\site-packages\\sklearn\\linear_model\\_logistic.py:814: ConvergenceWarning: lbfgs failed to converge (status=1):\n",
      "STOP: TOTAL NO. of ITERATIONS REACHED LIMIT.\n",
      "\n",
      "Increase the number of iterations (max_iter) or scale the data as shown in:\n",
      "    https://scikit-learn.org/stable/modules/preprocessing.html\n",
      "Please also refer to the documentation for alternative solver options:\n",
      "    https://scikit-learn.org/stable/modules/linear_model.html#logistic-regression\n",
      "  n_iter_i = _check_optimize_result(\n",
      "C:\\Users\\dange\\anaconda3\\lib\\site-packages\\sklearn\\linear_model\\_logistic.py:814: ConvergenceWarning: lbfgs failed to converge (status=1):\n",
      "STOP: TOTAL NO. of ITERATIONS REACHED LIMIT.\n",
      "\n",
      "Increase the number of iterations (max_iter) or scale the data as shown in:\n",
      "    https://scikit-learn.org/stable/modules/preprocessing.html\n",
      "Please also refer to the documentation for alternative solver options:\n",
      "    https://scikit-learn.org/stable/modules/linear_model.html#logistic-regression\n",
      "  n_iter_i = _check_optimize_result(\n",
      "C:\\Users\\dange\\anaconda3\\lib\\site-packages\\sklearn\\linear_model\\_logistic.py:814: ConvergenceWarning: lbfgs failed to converge (status=1):\n",
      "STOP: TOTAL NO. of ITERATIONS REACHED LIMIT.\n",
      "\n",
      "Increase the number of iterations (max_iter) or scale the data as shown in:\n",
      "    https://scikit-learn.org/stable/modules/preprocessing.html\n",
      "Please also refer to the documentation for alternative solver options:\n",
      "    https://scikit-learn.org/stable/modules/linear_model.html#logistic-regression\n",
      "  n_iter_i = _check_optimize_result(\n",
      "C:\\Users\\dange\\anaconda3\\lib\\site-packages\\sklearn\\linear_model\\_logistic.py:814: ConvergenceWarning: lbfgs failed to converge (status=1):\n",
      "STOP: TOTAL NO. of ITERATIONS REACHED LIMIT.\n",
      "\n",
      "Increase the number of iterations (max_iter) or scale the data as shown in:\n",
      "    https://scikit-learn.org/stable/modules/preprocessing.html\n",
      "Please also refer to the documentation for alternative solver options:\n",
      "    https://scikit-learn.org/stable/modules/linear_model.html#logistic-regression\n",
      "  n_iter_i = _check_optimize_result(\n",
      "C:\\Users\\dange\\anaconda3\\lib\\site-packages\\sklearn\\linear_model\\_logistic.py:814: ConvergenceWarning: lbfgs failed to converge (status=1):\n",
      "STOP: TOTAL NO. of ITERATIONS REACHED LIMIT.\n",
      "\n",
      "Increase the number of iterations (max_iter) or scale the data as shown in:\n",
      "    https://scikit-learn.org/stable/modules/preprocessing.html\n",
      "Please also refer to the documentation for alternative solver options:\n",
      "    https://scikit-learn.org/stable/modules/linear_model.html#logistic-regression\n",
      "  n_iter_i = _check_optimize_result(\n",
      "C:\\Users\\dange\\anaconda3\\lib\\site-packages\\sklearn\\linear_model\\_logistic.py:814: ConvergenceWarning: lbfgs failed to converge (status=1):\n",
      "STOP: TOTAL NO. of ITERATIONS REACHED LIMIT.\n",
      "\n",
      "Increase the number of iterations (max_iter) or scale the data as shown in:\n",
      "    https://scikit-learn.org/stable/modules/preprocessing.html\n",
      "Please also refer to the documentation for alternative solver options:\n",
      "    https://scikit-learn.org/stable/modules/linear_model.html#logistic-regression\n",
      "  n_iter_i = _check_optimize_result(\n",
      "C:\\Users\\dange\\anaconda3\\lib\\site-packages\\sklearn\\linear_model\\_logistic.py:814: ConvergenceWarning: lbfgs failed to converge (status=1):\n",
      "STOP: TOTAL NO. of ITERATIONS REACHED LIMIT.\n",
      "\n",
      "Increase the number of iterations (max_iter) or scale the data as shown in:\n",
      "    https://scikit-learn.org/stable/modules/preprocessing.html\n",
      "Please also refer to the documentation for alternative solver options:\n",
      "    https://scikit-learn.org/stable/modules/linear_model.html#logistic-regression\n",
      "  n_iter_i = _check_optimize_result(\n",
      "C:\\Users\\dange\\anaconda3\\lib\\site-packages\\sklearn\\linear_model\\_logistic.py:814: ConvergenceWarning: lbfgs failed to converge (status=1):\n",
      "STOP: TOTAL NO. of ITERATIONS REACHED LIMIT.\n",
      "\n",
      "Increase the number of iterations (max_iter) or scale the data as shown in:\n",
      "    https://scikit-learn.org/stable/modules/preprocessing.html\n",
      "Please also refer to the documentation for alternative solver options:\n",
      "    https://scikit-learn.org/stable/modules/linear_model.html#logistic-regression\n",
      "  n_iter_i = _check_optimize_result(\n",
      "C:\\Users\\dange\\anaconda3\\lib\\site-packages\\sklearn\\linear_model\\_logistic.py:814: ConvergenceWarning: lbfgs failed to converge (status=1):\n",
      "STOP: TOTAL NO. of ITERATIONS REACHED LIMIT.\n",
      "\n",
      "Increase the number of iterations (max_iter) or scale the data as shown in:\n",
      "    https://scikit-learn.org/stable/modules/preprocessing.html\n",
      "Please also refer to the documentation for alternative solver options:\n",
      "    https://scikit-learn.org/stable/modules/linear_model.html#logistic-regression\n",
      "  n_iter_i = _check_optimize_result(\n",
      "C:\\Users\\dange\\anaconda3\\lib\\site-packages\\sklearn\\linear_model\\_logistic.py:814: ConvergenceWarning: lbfgs failed to converge (status=1):\n",
      "STOP: TOTAL NO. of ITERATIONS REACHED LIMIT.\n",
      "\n",
      "Increase the number of iterations (max_iter) or scale the data as shown in:\n",
      "    https://scikit-learn.org/stable/modules/preprocessing.html\n",
      "Please also refer to the documentation for alternative solver options:\n",
      "    https://scikit-learn.org/stable/modules/linear_model.html#logistic-regression\n",
      "  n_iter_i = _check_optimize_result(\n",
      "C:\\Users\\dange\\anaconda3\\lib\\site-packages\\sklearn\\linear_model\\_logistic.py:814: ConvergenceWarning: lbfgs failed to converge (status=1):\n",
      "STOP: TOTAL NO. of ITERATIONS REACHED LIMIT.\n",
      "\n",
      "Increase the number of iterations (max_iter) or scale the data as shown in:\n",
      "    https://scikit-learn.org/stable/modules/preprocessing.html\n",
      "Please also refer to the documentation for alternative solver options:\n",
      "    https://scikit-learn.org/stable/modules/linear_model.html#logistic-regression\n",
      "  n_iter_i = _check_optimize_result(\n",
      "C:\\Users\\dange\\anaconda3\\lib\\site-packages\\sklearn\\linear_model\\_logistic.py:814: ConvergenceWarning: lbfgs failed to converge (status=1):\n",
      "STOP: TOTAL NO. of ITERATIONS REACHED LIMIT.\n",
      "\n",
      "Increase the number of iterations (max_iter) or scale the data as shown in:\n",
      "    https://scikit-learn.org/stable/modules/preprocessing.html\n",
      "Please also refer to the documentation for alternative solver options:\n",
      "    https://scikit-learn.org/stable/modules/linear_model.html#logistic-regression\n",
      "  n_iter_i = _check_optimize_result(\n",
      "C:\\Users\\dange\\anaconda3\\lib\\site-packages\\sklearn\\linear_model\\_logistic.py:814: ConvergenceWarning: lbfgs failed to converge (status=1):\n",
      "STOP: TOTAL NO. of ITERATIONS REACHED LIMIT.\n",
      "\n",
      "Increase the number of iterations (max_iter) or scale the data as shown in:\n",
      "    https://scikit-learn.org/stable/modules/preprocessing.html\n",
      "Please also refer to the documentation for alternative solver options:\n",
      "    https://scikit-learn.org/stable/modules/linear_model.html#logistic-regression\n",
      "  n_iter_i = _check_optimize_result(\n",
      "C:\\Users\\dange\\anaconda3\\lib\\site-packages\\sklearn\\linear_model\\_logistic.py:814: ConvergenceWarning: lbfgs failed to converge (status=1):\n",
      "STOP: TOTAL NO. of ITERATIONS REACHED LIMIT.\n",
      "\n",
      "Increase the number of iterations (max_iter) or scale the data as shown in:\n",
      "    https://scikit-learn.org/stable/modules/preprocessing.html\n",
      "Please also refer to the documentation for alternative solver options:\n",
      "    https://scikit-learn.org/stable/modules/linear_model.html#logistic-regression\n",
      "  n_iter_i = _check_optimize_result(\n",
      "C:\\Users\\dange\\anaconda3\\lib\\site-packages\\sklearn\\linear_model\\_logistic.py:814: ConvergenceWarning: lbfgs failed to converge (status=1):\n",
      "STOP: TOTAL NO. of ITERATIONS REACHED LIMIT.\n",
      "\n",
      "Increase the number of iterations (max_iter) or scale the data as shown in:\n",
      "    https://scikit-learn.org/stable/modules/preprocessing.html\n",
      "Please also refer to the documentation for alternative solver options:\n",
      "    https://scikit-learn.org/stable/modules/linear_model.html#logistic-regression\n",
      "  n_iter_i = _check_optimize_result(\n",
      "C:\\Users\\dange\\anaconda3\\lib\\site-packages\\sklearn\\linear_model\\_logistic.py:814: ConvergenceWarning: lbfgs failed to converge (status=1):\n",
      "STOP: TOTAL NO. of ITERATIONS REACHED LIMIT.\n",
      "\n",
      "Increase the number of iterations (max_iter) or scale the data as shown in:\n",
      "    https://scikit-learn.org/stable/modules/preprocessing.html\n",
      "Please also refer to the documentation for alternative solver options:\n",
      "    https://scikit-learn.org/stable/modules/linear_model.html#logistic-regression\n",
      "  n_iter_i = _check_optimize_result(\n",
      "C:\\Users\\dange\\anaconda3\\lib\\site-packages\\sklearn\\linear_model\\_logistic.py:814: ConvergenceWarning: lbfgs failed to converge (status=1):\n",
      "STOP: TOTAL NO. of ITERATIONS REACHED LIMIT.\n",
      "\n",
      "Increase the number of iterations (max_iter) or scale the data as shown in:\n",
      "    https://scikit-learn.org/stable/modules/preprocessing.html\n",
      "Please also refer to the documentation for alternative solver options:\n",
      "    https://scikit-learn.org/stable/modules/linear_model.html#logistic-regression\n",
      "  n_iter_i = _check_optimize_result(\n",
      "C:\\Users\\dange\\anaconda3\\lib\\site-packages\\sklearn\\linear_model\\_logistic.py:814: ConvergenceWarning: lbfgs failed to converge (status=1):\n",
      "STOP: TOTAL NO. of ITERATIONS REACHED LIMIT.\n",
      "\n",
      "Increase the number of iterations (max_iter) or scale the data as shown in:\n",
      "    https://scikit-learn.org/stable/modules/preprocessing.html\n",
      "Please also refer to the documentation for alternative solver options:\n",
      "    https://scikit-learn.org/stable/modules/linear_model.html#logistic-regression\n",
      "  n_iter_i = _check_optimize_result(\n",
      "C:\\Users\\dange\\anaconda3\\lib\\site-packages\\sklearn\\linear_model\\_logistic.py:814: ConvergenceWarning: lbfgs failed to converge (status=1):\n",
      "STOP: TOTAL NO. of ITERATIONS REACHED LIMIT.\n",
      "\n",
      "Increase the number of iterations (max_iter) or scale the data as shown in:\n",
      "    https://scikit-learn.org/stable/modules/preprocessing.html\n",
      "Please also refer to the documentation for alternative solver options:\n",
      "    https://scikit-learn.org/stable/modules/linear_model.html#logistic-regression\n",
      "  n_iter_i = _check_optimize_result(\n",
      "C:\\Users\\dange\\anaconda3\\lib\\site-packages\\sklearn\\linear_model\\_logistic.py:814: ConvergenceWarning: lbfgs failed to converge (status=1):\n",
      "STOP: TOTAL NO. of ITERATIONS REACHED LIMIT.\n",
      "\n",
      "Increase the number of iterations (max_iter) or scale the data as shown in:\n",
      "    https://scikit-learn.org/stable/modules/preprocessing.html\n",
      "Please also refer to the documentation for alternative solver options:\n",
      "    https://scikit-learn.org/stable/modules/linear_model.html#logistic-regression\n",
      "  n_iter_i = _check_optimize_result(\n",
      "C:\\Users\\dange\\anaconda3\\lib\\site-packages\\sklearn\\linear_model\\_logistic.py:814: ConvergenceWarning: lbfgs failed to converge (status=1):\n",
      "STOP: TOTAL NO. of ITERATIONS REACHED LIMIT.\n",
      "\n",
      "Increase the number of iterations (max_iter) or scale the data as shown in:\n",
      "    https://scikit-learn.org/stable/modules/preprocessing.html\n",
      "Please also refer to the documentation for alternative solver options:\n",
      "    https://scikit-learn.org/stable/modules/linear_model.html#logistic-regression\n",
      "  n_iter_i = _check_optimize_result(\n"
     ]
    },
    {
     "name": "stderr",
     "output_type": "stream",
     "text": [
      "C:\\Users\\dange\\anaconda3\\lib\\site-packages\\sklearn\\linear_model\\_logistic.py:814: ConvergenceWarning: lbfgs failed to converge (status=1):\n",
      "STOP: TOTAL NO. of ITERATIONS REACHED LIMIT.\n",
      "\n",
      "Increase the number of iterations (max_iter) or scale the data as shown in:\n",
      "    https://scikit-learn.org/stable/modules/preprocessing.html\n",
      "Please also refer to the documentation for alternative solver options:\n",
      "    https://scikit-learn.org/stable/modules/linear_model.html#logistic-regression\n",
      "  n_iter_i = _check_optimize_result(\n",
      "C:\\Users\\dange\\anaconda3\\lib\\site-packages\\sklearn\\linear_model\\_logistic.py:814: ConvergenceWarning: lbfgs failed to converge (status=1):\n",
      "STOP: TOTAL NO. of ITERATIONS REACHED LIMIT.\n",
      "\n",
      "Increase the number of iterations (max_iter) or scale the data as shown in:\n",
      "    https://scikit-learn.org/stable/modules/preprocessing.html\n",
      "Please also refer to the documentation for alternative solver options:\n",
      "    https://scikit-learn.org/stable/modules/linear_model.html#logistic-regression\n",
      "  n_iter_i = _check_optimize_result(\n",
      "C:\\Users\\dange\\anaconda3\\lib\\site-packages\\sklearn\\linear_model\\_logistic.py:814: ConvergenceWarning: lbfgs failed to converge (status=1):\n",
      "STOP: TOTAL NO. of ITERATIONS REACHED LIMIT.\n",
      "\n",
      "Increase the number of iterations (max_iter) or scale the data as shown in:\n",
      "    https://scikit-learn.org/stable/modules/preprocessing.html\n",
      "Please also refer to the documentation for alternative solver options:\n",
      "    https://scikit-learn.org/stable/modules/linear_model.html#logistic-regression\n",
      "  n_iter_i = _check_optimize_result(\n",
      "C:\\Users\\dange\\anaconda3\\lib\\site-packages\\sklearn\\linear_model\\_logistic.py:814: ConvergenceWarning: lbfgs failed to converge (status=1):\n",
      "STOP: TOTAL NO. of ITERATIONS REACHED LIMIT.\n",
      "\n",
      "Increase the number of iterations (max_iter) or scale the data as shown in:\n",
      "    https://scikit-learn.org/stable/modules/preprocessing.html\n",
      "Please also refer to the documentation for alternative solver options:\n",
      "    https://scikit-learn.org/stable/modules/linear_model.html#logistic-regression\n",
      "  n_iter_i = _check_optimize_result(\n",
      "C:\\Users\\dange\\anaconda3\\lib\\site-packages\\sklearn\\linear_model\\_logistic.py:814: ConvergenceWarning: lbfgs failed to converge (status=1):\n",
      "STOP: TOTAL NO. of ITERATIONS REACHED LIMIT.\n",
      "\n",
      "Increase the number of iterations (max_iter) or scale the data as shown in:\n",
      "    https://scikit-learn.org/stable/modules/preprocessing.html\n",
      "Please also refer to the documentation for alternative solver options:\n",
      "    https://scikit-learn.org/stable/modules/linear_model.html#logistic-regression\n",
      "  n_iter_i = _check_optimize_result(\n",
      "C:\\Users\\dange\\anaconda3\\lib\\site-packages\\sklearn\\linear_model\\_logistic.py:814: ConvergenceWarning: lbfgs failed to converge (status=1):\n",
      "STOP: TOTAL NO. of ITERATIONS REACHED LIMIT.\n",
      "\n",
      "Increase the number of iterations (max_iter) or scale the data as shown in:\n",
      "    https://scikit-learn.org/stable/modules/preprocessing.html\n",
      "Please also refer to the documentation for alternative solver options:\n",
      "    https://scikit-learn.org/stable/modules/linear_model.html#logistic-regression\n",
      "  n_iter_i = _check_optimize_result(\n",
      "C:\\Users\\dange\\anaconda3\\lib\\site-packages\\sklearn\\linear_model\\_logistic.py:814: ConvergenceWarning: lbfgs failed to converge (status=1):\n",
      "STOP: TOTAL NO. of ITERATIONS REACHED LIMIT.\n",
      "\n",
      "Increase the number of iterations (max_iter) or scale the data as shown in:\n",
      "    https://scikit-learn.org/stable/modules/preprocessing.html\n",
      "Please also refer to the documentation for alternative solver options:\n",
      "    https://scikit-learn.org/stable/modules/linear_model.html#logistic-regression\n",
      "  n_iter_i = _check_optimize_result(\n",
      "C:\\Users\\dange\\anaconda3\\lib\\site-packages\\sklearn\\linear_model\\_logistic.py:814: ConvergenceWarning: lbfgs failed to converge (status=1):\n",
      "STOP: TOTAL NO. of ITERATIONS REACHED LIMIT.\n",
      "\n",
      "Increase the number of iterations (max_iter) or scale the data as shown in:\n",
      "    https://scikit-learn.org/stable/modules/preprocessing.html\n",
      "Please also refer to the documentation for alternative solver options:\n",
      "    https://scikit-learn.org/stable/modules/linear_model.html#logistic-regression\n",
      "  n_iter_i = _check_optimize_result(\n",
      "C:\\Users\\dange\\anaconda3\\lib\\site-packages\\sklearn\\linear_model\\_logistic.py:814: ConvergenceWarning: lbfgs failed to converge (status=1):\n",
      "STOP: TOTAL NO. of ITERATIONS REACHED LIMIT.\n",
      "\n",
      "Increase the number of iterations (max_iter) or scale the data as shown in:\n",
      "    https://scikit-learn.org/stable/modules/preprocessing.html\n",
      "Please also refer to the documentation for alternative solver options:\n",
      "    https://scikit-learn.org/stable/modules/linear_model.html#logistic-regression\n",
      "  n_iter_i = _check_optimize_result(\n",
      "C:\\Users\\dange\\anaconda3\\lib\\site-packages\\sklearn\\linear_model\\_logistic.py:814: ConvergenceWarning: lbfgs failed to converge (status=1):\n",
      "STOP: TOTAL NO. of ITERATIONS REACHED LIMIT.\n",
      "\n",
      "Increase the number of iterations (max_iter) or scale the data as shown in:\n",
      "    https://scikit-learn.org/stable/modules/preprocessing.html\n",
      "Please also refer to the documentation for alternative solver options:\n",
      "    https://scikit-learn.org/stable/modules/linear_model.html#logistic-regression\n",
      "  n_iter_i = _check_optimize_result(\n",
      "C:\\Users\\dange\\anaconda3\\lib\\site-packages\\sklearn\\linear_model\\_logistic.py:814: ConvergenceWarning: lbfgs failed to converge (status=1):\n",
      "STOP: TOTAL NO. of ITERATIONS REACHED LIMIT.\n",
      "\n",
      "Increase the number of iterations (max_iter) or scale the data as shown in:\n",
      "    https://scikit-learn.org/stable/modules/preprocessing.html\n",
      "Please also refer to the documentation for alternative solver options:\n",
      "    https://scikit-learn.org/stable/modules/linear_model.html#logistic-regression\n",
      "  n_iter_i = _check_optimize_result(\n",
      "C:\\Users\\dange\\anaconda3\\lib\\site-packages\\sklearn\\linear_model\\_logistic.py:814: ConvergenceWarning: lbfgs failed to converge (status=1):\n",
      "STOP: TOTAL NO. of ITERATIONS REACHED LIMIT.\n",
      "\n",
      "Increase the number of iterations (max_iter) or scale the data as shown in:\n",
      "    https://scikit-learn.org/stable/modules/preprocessing.html\n",
      "Please also refer to the documentation for alternative solver options:\n",
      "    https://scikit-learn.org/stable/modules/linear_model.html#logistic-regression\n",
      "  n_iter_i = _check_optimize_result(\n",
      "C:\\Users\\dange\\anaconda3\\lib\\site-packages\\sklearn\\linear_model\\_logistic.py:814: ConvergenceWarning: lbfgs failed to converge (status=1):\n",
      "STOP: TOTAL NO. of ITERATIONS REACHED LIMIT.\n",
      "\n",
      "Increase the number of iterations (max_iter) or scale the data as shown in:\n",
      "    https://scikit-learn.org/stable/modules/preprocessing.html\n",
      "Please also refer to the documentation for alternative solver options:\n",
      "    https://scikit-learn.org/stable/modules/linear_model.html#logistic-regression\n",
      "  n_iter_i = _check_optimize_result(\n",
      "C:\\Users\\dange\\anaconda3\\lib\\site-packages\\sklearn\\linear_model\\_logistic.py:814: ConvergenceWarning: lbfgs failed to converge (status=1):\n",
      "STOP: TOTAL NO. of ITERATIONS REACHED LIMIT.\n",
      "\n",
      "Increase the number of iterations (max_iter) or scale the data as shown in:\n",
      "    https://scikit-learn.org/stable/modules/preprocessing.html\n",
      "Please also refer to the documentation for alternative solver options:\n",
      "    https://scikit-learn.org/stable/modules/linear_model.html#logistic-regression\n",
      "  n_iter_i = _check_optimize_result(\n",
      "C:\\Users\\dange\\anaconda3\\lib\\site-packages\\sklearn\\linear_model\\_logistic.py:814: ConvergenceWarning: lbfgs failed to converge (status=1):\n",
      "STOP: TOTAL NO. of ITERATIONS REACHED LIMIT.\n",
      "\n",
      "Increase the number of iterations (max_iter) or scale the data as shown in:\n",
      "    https://scikit-learn.org/stable/modules/preprocessing.html\n",
      "Please also refer to the documentation for alternative solver options:\n",
      "    https://scikit-learn.org/stable/modules/linear_model.html#logistic-regression\n",
      "  n_iter_i = _check_optimize_result(\n",
      "C:\\Users\\dange\\anaconda3\\lib\\site-packages\\sklearn\\linear_model\\_logistic.py:814: ConvergenceWarning: lbfgs failed to converge (status=1):\n",
      "STOP: TOTAL NO. of ITERATIONS REACHED LIMIT.\n",
      "\n",
      "Increase the number of iterations (max_iter) or scale the data as shown in:\n",
      "    https://scikit-learn.org/stable/modules/preprocessing.html\n",
      "Please also refer to the documentation for alternative solver options:\n",
      "    https://scikit-learn.org/stable/modules/linear_model.html#logistic-regression\n",
      "  n_iter_i = _check_optimize_result(\n",
      "C:\\Users\\dange\\anaconda3\\lib\\site-packages\\sklearn\\linear_model\\_logistic.py:814: ConvergenceWarning: lbfgs failed to converge (status=1):\n",
      "STOP: TOTAL NO. of ITERATIONS REACHED LIMIT.\n",
      "\n",
      "Increase the number of iterations (max_iter) or scale the data as shown in:\n",
      "    https://scikit-learn.org/stable/modules/preprocessing.html\n",
      "Please also refer to the documentation for alternative solver options:\n",
      "    https://scikit-learn.org/stable/modules/linear_model.html#logistic-regression\n",
      "  n_iter_i = _check_optimize_result(\n"
     ]
    },
    {
     "name": "stdout",
     "output_type": "stream",
     "text": [
      "Лучшое количество итерраций 42\n",
      "Лучшая точность 0.7060653188180405\n"
     ]
    },
    {
     "name": "stderr",
     "output_type": "stream",
     "text": [
      "C:\\Users\\dange\\anaconda3\\lib\\site-packages\\sklearn\\linear_model\\_logistic.py:814: ConvergenceWarning: lbfgs failed to converge (status=1):\n",
      "STOP: TOTAL NO. of ITERATIONS REACHED LIMIT.\n",
      "\n",
      "Increase the number of iterations (max_iter) or scale the data as shown in:\n",
      "    https://scikit-learn.org/stable/modules/preprocessing.html\n",
      "Please also refer to the documentation for alternative solver options:\n",
      "    https://scikit-learn.org/stable/modules/linear_model.html#logistic-regression\n",
      "  n_iter_i = _check_optimize_result(\n",
      "C:\\Users\\dange\\anaconda3\\lib\\site-packages\\sklearn\\linear_model\\_logistic.py:814: ConvergenceWarning: lbfgs failed to converge (status=1):\n",
      "STOP: TOTAL NO. of ITERATIONS REACHED LIMIT.\n",
      "\n",
      "Increase the number of iterations (max_iter) or scale the data as shown in:\n",
      "    https://scikit-learn.org/stable/modules/preprocessing.html\n",
      "Please also refer to the documentation for alternative solver options:\n",
      "    https://scikit-learn.org/stable/modules/linear_model.html#logistic-regression\n",
      "  n_iter_i = _check_optimize_result(\n",
      "C:\\Users\\dange\\anaconda3\\lib\\site-packages\\sklearn\\linear_model\\_logistic.py:814: ConvergenceWarning: lbfgs failed to converge (status=1):\n",
      "STOP: TOTAL NO. of ITERATIONS REACHED LIMIT.\n",
      "\n",
      "Increase the number of iterations (max_iter) or scale the data as shown in:\n",
      "    https://scikit-learn.org/stable/modules/preprocessing.html\n",
      "Please also refer to the documentation for alternative solver options:\n",
      "    https://scikit-learn.org/stable/modules/linear_model.html#logistic-regression\n",
      "  n_iter_i = _check_optimize_result(\n"
     ]
    }
   ],
   "source": [
    "best_max_iter = 0\n",
    "best_accuracy = 0\n",
    "\n",
    "for max_iter in range(1,50):\n",
    "    model = LogisticRegression(random_state=RANDOM_STATE, max_iter=max_iter)\n",
    "    model.fit(train_data_features, train_data_target)\n",
    "    valid_predictions = model.predict(valid_data_features)\n",
    "    accuracy = accuracy_score(valid_data_target, valid_predictions)\n",
    "    if accuracy > best_accuracy:\n",
    "        best_max_iter = max_iter\n",
    "        best_accuracy = accuracy\n",
    "\n",
    "print('Лучшое количество итерраций', best_max_iter)\n",
    "print('Лучшая точность', best_accuracy)"
   ]
  },
  {
   "cell_type": "code",
   "execution_count": 12,
   "metadata": {},
   "outputs": [
    {
     "name": "stdout",
     "output_type": "stream",
     "text": [
      "Количество итерраций: 42\n",
      "Точность 0.7060653188180405\n"
     ]
    },
    {
     "name": "stderr",
     "output_type": "stream",
     "text": [
      "C:\\Users\\dange\\anaconda3\\lib\\site-packages\\sklearn\\linear_model\\_logistic.py:814: ConvergenceWarning: lbfgs failed to converge (status=1):\n",
      "STOP: TOTAL NO. of ITERATIONS REACHED LIMIT.\n",
      "\n",
      "Increase the number of iterations (max_iter) or scale the data as shown in:\n",
      "    https://scikit-learn.org/stable/modules/preprocessing.html\n",
      "Please also refer to the documentation for alternative solver options:\n",
      "    https://scikit-learn.org/stable/modules/linear_model.html#logistic-regression\n",
      "  n_iter_i = _check_optimize_result(\n"
     ]
    }
   ],
   "source": [
    "best_lr_model = LogisticRegression(random_state=RANDOM_STATE, max_iter = 42)\n",
    "best_lr_model.fit(train_data_features, train_data_target)\n",
    "valid_predictions = best_lr_model.predict(valid_data_features)\n",
    "accuracy = accuracy_score(valid_data_target, valid_predictions)\n",
    "print('Количество итерраций: 42')\n",
    "print('Точность',accuracy)"
   ]
  },
  {
   "cell_type": "markdown",
   "metadata": {},
   "source": [
    "### Вывод"
   ]
  },
  {
   "cell_type": "markdown",
   "metadata": {},
   "source": [
    "Модели решающего дерева и случайного леса показали одинаковую точность, в то время как модель логичстической регрессии показала худшую точность из всех вариантов моделей с разными гиперпараметрами. Теперь посмотрим как модели поведут себя на тестовой выборке"
   ]
  },
  {
   "cell_type": "markdown",
   "metadata": {},
   "source": [
    "## Проверьте модель на тестовой выборке"
   ]
  },
  {
   "cell_type": "code",
   "execution_count": 13,
   "metadata": {},
   "outputs": [
    {
     "name": "stdout",
     "output_type": "stream",
     "text": [
      "Точность модели решающего дерева 0.7620528771384136\n",
      "Точность модели случайного леса 0.7682737169517885\n",
      "Точность модели логистической регресиии 0.6951788491446346\n"
     ]
    }
   ],
   "source": [
    "test_predictions = best_tree_model.predict(test_data_features)\n",
    "accuracy = accuracy_score(test_data_target, test_predictions)\n",
    "print('Точность модели решающего дерева',accuracy)\n",
    "\n",
    "test_predictions = best_forest_model.predict(test_data_features)\n",
    "accuracy = accuracy_score(test_data_target, test_predictions)\n",
    "print('Точность модели случайного леса',accuracy)\n",
    "\n",
    "test_predictions = best_lr_model.predict(test_data_features)\n",
    "accuracy = accuracy_score(test_data_target, test_predictions)\n",
    "print('Точность модели логистической регресиии',accuracy)"
   ]
  },
  {
   "cell_type": "markdown",
   "metadata": {},
   "source": [
    "На тестовой выборке лучше остальных показала себя модель случайного леса со значением точности в 0.768.\n",
    "\n",
    "**Исходя из результатов исследования, лучшей моделью с наивысшим значением точности является модель случайного леса с количеством деревьев в 32 и критерием Джини**"
   ]
  },
  {
   "cell_type": "markdown",
   "metadata": {},
   "source": [
    "## (бонус) Проверьте модели на адекватность"
   ]
  },
  {
   "cell_type": "markdown",
   "metadata": {},
   "source": [
    "Адекватность модели оценивается по нескольким параметрам. Для модели классификации это accuracy, precision и recall. Качество модели лучше всего отражают precision и recall и эти метрики складываются в F-мерe как единую оценку модели."
   ]
  },
  {
   "cell_type": "code",
   "execution_count": 14,
   "metadata": {},
   "outputs": [],
   "source": [
    "from sklearn.metrics import accuracy_score\n",
    "from sklearn.metrics import precision_score\n",
    "from sklearn.metrics import recall_score\n",
    "from sklearn.metrics import f1_score"
   ]
  },
  {
   "cell_type": "code",
   "execution_count": 15,
   "metadata": {},
   "outputs": [
    {
     "name": "stdout",
     "output_type": "stream",
     "text": [
      "Accuracy = 0.7682737169517885 Precision = 0.6818181818181818 Recall = 0.5121951219512195 f1 = 0.584958217270195\n"
     ]
    }
   ],
   "source": [
    "test_predictions = best_forest_model.predict(test_data_features)\n",
    "accuracy = accuracy_score(test_data_target, test_predictions)\n",
    "precision = precision_score(test_data_target, test_predictions)\n",
    "recall = recall_score(test_data_target, test_predictions)\n",
    "f1 = f1_score(test_data_target, test_predictions)\n",
    "\n",
    "print('Accuracy =', accuracy, 'Precision =', precision, 'Recall =', recall, 'f1 =', f1)"
   ]
  },
  {
   "cell_type": "markdown",
   "metadata": {},
   "source": [
    "Модель среднего качества"
   ]
  }
 ],
 "metadata": {
  "ExecuteTimeLog": [
   {
    "duration": 446,
    "start_time": "2022-08-09T07:41:06.218Z"
   },
   {
    "duration": 41,
    "start_time": "2022-08-09T07:50:36.387Z"
   },
   {
    "duration": 56,
    "start_time": "2022-08-09T15:37:23.588Z"
   },
   {
    "duration": 701,
    "start_time": "2022-08-09T15:37:29.237Z"
   },
   {
    "duration": 6,
    "start_time": "2022-08-09T15:37:32.270Z"
   },
   {
    "duration": 38,
    "start_time": "2022-08-09T15:47:47.086Z"
   },
   {
    "duration": 12,
    "start_time": "2022-08-09T15:48:15.289Z"
   },
   {
    "duration": 7,
    "start_time": "2022-08-09T15:48:18.830Z"
   },
   {
    "duration": 79,
    "start_time": "2022-08-09T15:52:15.014Z"
   },
   {
    "duration": 8,
    "start_time": "2022-08-09T15:52:24.829Z"
   },
   {
    "duration": 40,
    "start_time": "2022-08-09T16:26:14.260Z"
   },
   {
    "duration": 146,
    "start_time": "2022-08-09T16:26:19.124Z"
   },
   {
    "duration": 165,
    "start_time": "2022-08-09T16:26:30.680Z"
   },
   {
    "duration": 137,
    "start_time": "2022-08-09T16:26:47.881Z"
   },
   {
    "duration": 149,
    "start_time": "2022-08-09T16:27:18.888Z"
   },
   {
    "duration": 198,
    "start_time": "2022-08-09T16:27:22.655Z"
   },
   {
    "duration": 1783,
    "start_time": "2022-08-09T16:27:31.613Z"
   },
   {
    "duration": 147,
    "start_time": "2022-08-09T16:27:38.296Z"
   },
   {
    "duration": 157,
    "start_time": "2022-08-09T16:38:07.432Z"
   },
   {
    "duration": 12,
    "start_time": "2022-08-09T16:40:27.417Z"
   },
   {
    "duration": 13,
    "start_time": "2022-08-09T16:41:09.717Z"
   },
   {
    "duration": 149,
    "start_time": "2022-08-09T16:41:18.989Z"
   },
   {
    "duration": 14,
    "start_time": "2022-08-09T16:41:49.249Z"
   },
   {
    "duration": 22,
    "start_time": "2022-08-09T16:42:22.616Z"
   },
   {
    "duration": 13,
    "start_time": "2022-08-09T16:42:27.162Z"
   },
   {
    "duration": 21,
    "start_time": "2022-08-09T16:42:29.383Z"
   },
   {
    "duration": 12,
    "start_time": "2022-08-09T16:43:05.017Z"
   },
   {
    "duration": 13,
    "start_time": "2022-08-09T16:43:14.824Z"
   },
   {
    "duration": 15,
    "start_time": "2022-08-09T16:43:17.131Z"
   },
   {
    "duration": 12,
    "start_time": "2022-08-09T16:43:19.371Z"
   },
   {
    "duration": 13,
    "start_time": "2022-08-09T16:43:21.472Z"
   },
   {
    "duration": 13,
    "start_time": "2022-08-09T16:43:24.106Z"
   },
   {
    "duration": 14,
    "start_time": "2022-08-09T16:43:25.589Z"
   },
   {
    "duration": 14,
    "start_time": "2022-08-09T16:43:30.652Z"
   },
   {
    "duration": 18,
    "start_time": "2022-08-09T16:43:33.569Z"
   },
   {
    "duration": 13,
    "start_time": "2022-08-09T16:44:58.687Z"
   },
   {
    "duration": 15,
    "start_time": "2022-08-09T16:45:00.544Z"
   },
   {
    "duration": 12,
    "start_time": "2022-08-09T16:46:23.071Z"
   },
   {
    "duration": 15,
    "start_time": "2022-08-09T16:46:24.799Z"
   },
   {
    "duration": 17,
    "start_time": "2022-08-09T16:46:26.122Z"
   },
   {
    "duration": 13,
    "start_time": "2022-08-09T16:46:27.433Z"
   },
   {
    "duration": 12,
    "start_time": "2022-08-09T16:46:41.887Z"
   },
   {
    "duration": 13,
    "start_time": "2022-08-09T16:46:43.817Z"
   },
   {
    "duration": 11,
    "start_time": "2022-08-09T16:47:30.520Z"
   },
   {
    "duration": 13,
    "start_time": "2022-08-09T16:47:32.130Z"
   },
   {
    "duration": 12,
    "start_time": "2022-08-09T16:47:32.896Z"
   },
   {
    "duration": 11,
    "start_time": "2022-08-09T16:47:33.650Z"
   },
   {
    "duration": 13,
    "start_time": "2022-08-09T16:47:34.425Z"
   },
   {
    "duration": 12,
    "start_time": "2022-08-09T16:47:35.191Z"
   },
   {
    "duration": 14,
    "start_time": "2022-08-09T16:47:36.399Z"
   },
   {
    "duration": 13,
    "start_time": "2022-08-09T16:47:37.556Z"
   },
   {
    "duration": 14,
    "start_time": "2022-08-09T16:47:38.225Z"
   },
   {
    "duration": 18,
    "start_time": "2022-08-09T16:47:38.926Z"
   },
   {
    "duration": 13,
    "start_time": "2022-08-09T16:47:39.601Z"
   },
   {
    "duration": 15,
    "start_time": "2022-08-09T16:47:40.323Z"
   },
   {
    "duration": 12,
    "start_time": "2022-08-09T16:51:52.121Z"
   },
   {
    "duration": 14,
    "start_time": "2022-08-09T16:51:55.218Z"
   },
   {
    "duration": 12,
    "start_time": "2022-08-09T16:51:56.717Z"
   },
   {
    "duration": 15,
    "start_time": "2022-08-09T16:55:56.683Z"
   },
   {
    "duration": 725,
    "start_time": "2022-08-09T16:56:39.330Z"
   },
   {
    "duration": 771,
    "start_time": "2022-08-09T16:57:16.542Z"
   },
   {
    "duration": 3081,
    "start_time": "2022-08-09T16:57:29.729Z"
   },
   {
    "duration": 17290,
    "start_time": "2022-08-09T16:57:57.758Z"
   },
   {
    "duration": 4331,
    "start_time": "2022-08-09T16:58:21.871Z"
   },
   {
    "duration": 476,
    "start_time": "2022-08-09T16:58:30.715Z"
   },
   {
    "duration": 13,
    "start_time": "2022-08-09T17:00:09.868Z"
   },
   {
    "duration": 129,
    "start_time": "2022-08-09T17:02:29.381Z"
   },
   {
    "duration": 136,
    "start_time": "2022-08-09T17:02:57.241Z"
   },
   {
    "duration": 124,
    "start_time": "2022-08-09T17:03:08.405Z"
   },
   {
    "duration": 151,
    "start_time": "2022-08-09T17:03:48.979Z"
   },
   {
    "duration": 155,
    "start_time": "2022-08-09T17:03:52.121Z"
   },
   {
    "duration": 158,
    "start_time": "2022-08-09T17:04:01.597Z"
   },
   {
    "duration": 142,
    "start_time": "2022-08-09T17:04:04.603Z"
   },
   {
    "duration": 118,
    "start_time": "2022-08-09T17:04:08.875Z"
   },
   {
    "duration": 119,
    "start_time": "2022-08-09T17:04:10.735Z"
   },
   {
    "duration": 14,
    "start_time": "2022-08-09T17:04:29.220Z"
   },
   {
    "duration": 13,
    "start_time": "2022-08-09T17:04:43.225Z"
   },
   {
    "duration": 15,
    "start_time": "2022-08-09T17:04:44.889Z"
   },
   {
    "duration": 12,
    "start_time": "2022-08-09T17:04:53.755Z"
   },
   {
    "duration": 17,
    "start_time": "2022-08-09T17:04:55.347Z"
   },
   {
    "duration": 14,
    "start_time": "2022-08-09T17:05:07.113Z"
   },
   {
    "duration": 137,
    "start_time": "2022-08-09T17:05:29.764Z"
   },
   {
    "duration": 158,
    "start_time": "2022-08-09T17:05:31.634Z"
   },
   {
    "duration": 118,
    "start_time": "2022-08-09T17:05:36.694Z"
   },
   {
    "duration": 151,
    "start_time": "2022-08-09T17:05:37.867Z"
   },
   {
    "duration": 11,
    "start_time": "2022-08-09T17:05:40.787Z"
   },
   {
    "duration": 12,
    "start_time": "2022-08-09T17:05:42.684Z"
   },
   {
    "duration": 14,
    "start_time": "2022-08-09T17:05:48.923Z"
   },
   {
    "duration": 13,
    "start_time": "2022-08-09T17:05:51.640Z"
   },
   {
    "duration": 13,
    "start_time": "2022-08-09T17:05:53.194Z"
   },
   {
    "duration": 172,
    "start_time": "2022-08-09T17:08:56.412Z"
   },
   {
    "duration": 126,
    "start_time": "2022-08-09T17:08:59.837Z"
   },
   {
    "duration": 15,
    "start_time": "2022-08-09T17:09:08.640Z"
   },
   {
    "duration": 13,
    "start_time": "2022-08-09T17:09:12.512Z"
   },
   {
    "duration": 39,
    "start_time": "2022-08-09T17:09:23.671Z"
   },
   {
    "duration": 8,
    "start_time": "2022-08-09T17:09:23.712Z"
   },
   {
    "duration": 431,
    "start_time": "2022-08-09T17:09:23.722Z"
   },
   {
    "duration": 13,
    "start_time": "2022-08-09T17:09:24.155Z"
   },
   {
    "duration": 13,
    "start_time": "2022-08-09T17:09:24.169Z"
   },
   {
    "duration": 4391,
    "start_time": "2022-08-09T17:09:24.184Z"
   },
   {
    "duration": 120,
    "start_time": "2022-08-09T17:09:28.577Z"
   },
   {
    "duration": 149,
    "start_time": "2022-08-09T17:09:28.699Z"
   },
   {
    "duration": 2,
    "start_time": "2022-08-09T17:10:37.153Z"
   },
   {
    "duration": 605,
    "start_time": "2022-08-09T17:13:49.039Z"
   },
   {
    "duration": 642,
    "start_time": "2022-08-09T17:15:00.639Z"
   },
   {
    "duration": 313,
    "start_time": "2022-08-09T17:15:10.181Z"
   },
   {
    "duration": 3451,
    "start_time": "2022-08-09T17:17:32.646Z"
   },
   {
    "duration": 601,
    "start_time": "2022-08-09T17:18:01.266Z"
   },
   {
    "duration": 40,
    "start_time": "2022-08-09T17:18:14.445Z"
   },
   {
    "duration": 9,
    "start_time": "2022-08-09T17:18:14.488Z"
   },
   {
    "duration": 415,
    "start_time": "2022-08-09T17:18:14.499Z"
   },
   {
    "duration": 12,
    "start_time": "2022-08-09T17:18:14.916Z"
   },
   {
    "duration": 14,
    "start_time": "2022-08-09T17:18:14.930Z"
   },
   {
    "duration": 4657,
    "start_time": "2022-08-09T17:18:14.946Z"
   },
   {
    "duration": 129,
    "start_time": "2022-08-09T17:18:19.606Z"
   },
   {
    "duration": 157,
    "start_time": "2022-08-09T17:18:19.736Z"
   },
   {
    "duration": 644,
    "start_time": "2022-08-09T17:18:19.894Z"
   },
   {
    "duration": 39,
    "start_time": "2022-08-09T17:19:21.666Z"
   },
   {
    "duration": 543,
    "start_time": "2022-08-09T17:19:27.341Z"
   },
   {
    "duration": 38,
    "start_time": "2022-08-09T17:19:46.548Z"
   },
   {
    "duration": 554,
    "start_time": "2022-08-09T17:19:50.880Z"
   },
   {
    "duration": 536,
    "start_time": "2022-08-09T17:19:53.055Z"
   },
   {
    "duration": 40,
    "start_time": "2022-08-09T17:19:56.602Z"
   },
   {
    "duration": 574,
    "start_time": "2022-08-09T17:20:00.057Z"
   },
   {
    "duration": 20,
    "start_time": "2022-08-09T17:29:49.091Z"
   },
   {
    "duration": 22,
    "start_time": "2022-08-09T17:31:20.207Z"
   },
   {
    "duration": 10,
    "start_time": "2022-08-09T17:31:28.996Z"
   },
   {
    "duration": 8,
    "start_time": "2022-08-09T17:31:49.221Z"
   },
   {
    "duration": 18,
    "start_time": "2022-08-09T17:31:53.918Z"
   },
   {
    "duration": 17,
    "start_time": "2022-08-09T17:32:35.128Z"
   },
   {
    "duration": 44,
    "start_time": "2022-08-09T18:05:06.149Z"
   },
   {
    "duration": 38,
    "start_time": "2022-08-09T18:05:08.872Z"
   },
   {
    "duration": 9,
    "start_time": "2022-08-09T18:05:08.912Z"
   },
   {
    "duration": 414,
    "start_time": "2022-08-09T18:05:08.923Z"
   },
   {
    "duration": 11,
    "start_time": "2022-08-09T18:05:09.339Z"
   },
   {
    "duration": 12,
    "start_time": "2022-08-09T18:05:09.352Z"
   },
   {
    "duration": 4307,
    "start_time": "2022-08-09T18:05:09.365Z"
   },
   {
    "duration": 119,
    "start_time": "2022-08-09T18:05:13.673Z"
   },
   {
    "duration": 136,
    "start_time": "2022-08-09T18:05:13.794Z"
   },
   {
    "duration": 563,
    "start_time": "2022-08-09T18:05:13.932Z"
   },
   {
    "duration": 25,
    "start_time": "2022-08-09T18:05:14.496Z"
   },
   {
    "duration": 17,
    "start_time": "2022-08-09T18:05:14.523Z"
   },
   {
    "duration": 69,
    "start_time": "2022-08-10T12:08:30.646Z"
   },
   {
    "duration": 166,
    "start_time": "2022-08-10T13:36:44.935Z"
   }
  ],
  "kernelspec": {
   "display_name": "Python 3 (ipykernel)",
   "language": "python",
   "name": "python3"
  },
  "language_info": {
   "codemirror_mode": {
    "name": "ipython",
    "version": 3
   },
   "file_extension": ".py",
   "mimetype": "text/x-python",
   "name": "python",
   "nbconvert_exporter": "python",
   "pygments_lexer": "ipython3",
   "version": "3.9.12"
  },
  "toc": {
   "base_numbering": 1,
   "nav_menu": {},
   "number_sections": true,
   "sideBar": true,
   "skip_h1_title": true,
   "title_cell": "Table of Contents",
   "title_sidebar": "Contents",
   "toc_cell": false,
   "toc_position": {},
   "toc_section_display": true,
   "toc_window_display": false
  }
 },
 "nbformat": 4,
 "nbformat_minor": 2
}
