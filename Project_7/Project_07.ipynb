{
 "cells": [
  {
   "cell_type": "markdown",
   "metadata": {},
   "source": [
    "# Отток клиентов"
   ]
  },
  {
   "cell_type": "markdown",
   "metadata": {},
   "source": [
    "Из «Бета-Банка» стали уходить клиенты. Каждый месяц. Немного, но заметно. Банковские маркетологи посчитали: сохранять текущих клиентов дешевле, чем привлекать новых.\n",
    "\n",
    "Нужно спрогнозировать, уйдёт клиент из банка в ближайшее время или нет. Вам предоставлены исторические данные о поведении клиентов и расторжении договоров с банком. \n",
    "\n",
    "Постройте модель с предельно большим значением *F1*-меры. Чтобы сдать проект успешно, нужно довести метрику до 0.59. Проверьте *F1*-меру на тестовой выборке самостоятельно.\n",
    "\n",
    "Дополнительно измеряйте *AUC-ROC*, сравнивайте её значение с *F1*-мерой.\n",
    "\n",
    "Источник данных: [https://www.kaggle.com/barelydedicated/bank-customer-churn-modeling](https://www.kaggle.com/barelydedicated/bank-customer-churn-modeling)"
   ]
  },
  {
   "cell_type": "markdown",
   "metadata": {},
   "source": [
    "## Подготовка данных"
   ]
  },
  {
   "cell_type": "code",
   "execution_count": 1,
   "metadata": {},
   "outputs": [],
   "source": [
    "import matplotlib.pyplot as plt\n",
    "import numpy as np\n",
    "import pandas as pd\n",
    "from sklearn.model_selection import train_test_split\n",
    "from sklearn.linear_model import LogisticRegression\n",
    "from sklearn.tree import DecisionTreeClassifier\n",
    "from sklearn.ensemble import RandomForestClassifier\n",
    "from sklearn.metrics import f1_score, precision_score, recall_score, accuracy_score, roc_auc_score, roc_curve\n",
    "from sklearn.utils import shuffle\n",
    "import warnings\n",
    "warnings.filterwarnings('ignore')"
   ]
  },
  {
   "cell_type": "code",
   "execution_count": 2,
   "metadata": {},
   "outputs": [
    {
     "name": "stdout",
     "output_type": "stream",
     "text": [
      "<class 'pandas.core.frame.DataFrame'>\n",
      "RangeIndex: 10000 entries, 0 to 9999\n",
      "Data columns (total 14 columns):\n",
      " #   Column           Non-Null Count  Dtype  \n",
      "---  ------           --------------  -----  \n",
      " 0   RowNumber        10000 non-null  int64  \n",
      " 1   CustomerId       10000 non-null  int64  \n",
      " 2   Surname          10000 non-null  object \n",
      " 3   CreditScore      10000 non-null  int64  \n",
      " 4   Geography        10000 non-null  object \n",
      " 5   Gender           10000 non-null  object \n",
      " 6   Age              10000 non-null  int64  \n",
      " 7   Tenure           9091 non-null   float64\n",
      " 8   Balance          10000 non-null  float64\n",
      " 9   NumOfProducts    10000 non-null  int64  \n",
      " 10  HasCrCard        10000 non-null  int64  \n",
      " 11  IsActiveMember   10000 non-null  int64  \n",
      " 12  EstimatedSalary  10000 non-null  float64\n",
      " 13  Exited           10000 non-null  int64  \n",
      "dtypes: float64(3), int64(8), object(3)\n",
      "memory usage: 1.1+ MB\n"
     ]
    }
   ],
   "source": [
    "data = pd.read_csv('datasets/Churn.csv')\n",
    "data.info()"
   ]
  },
  {
   "cell_type": "code",
   "execution_count": 3,
   "metadata": {},
   "outputs": [
    {
     "data": {
      "text/plain": [
       "0"
      ]
     },
     "execution_count": 3,
     "metadata": {},
     "output_type": "execute_result"
    }
   ],
   "source": [
    "data['Tenure'] = data['Tenure'].fillna(0)\n",
    "data = data.drop(['RowNumber','CustomerId','Surname'], axis=1)\n",
    "data.duplicated().sum()"
   ]
  },
  {
   "cell_type": "code",
   "execution_count": 4,
   "metadata": {},
   "outputs": [
    {
     "name": "stdout",
     "output_type": "stream",
     "text": [
      "<class 'pandas.core.frame.DataFrame'>\n",
      "RangeIndex: 10000 entries, 0 to 9999\n",
      "Data columns (total 12 columns):\n",
      " #   Column             Non-Null Count  Dtype  \n",
      "---  ------             --------------  -----  \n",
      " 0   CreditScore        10000 non-null  int64  \n",
      " 1   Age                10000 non-null  int64  \n",
      " 2   Tenure             10000 non-null  float64\n",
      " 3   Balance            10000 non-null  float64\n",
      " 4   NumOfProducts      10000 non-null  int64  \n",
      " 5   HasCrCard          10000 non-null  int64  \n",
      " 6   IsActiveMember     10000 non-null  int64  \n",
      " 7   EstimatedSalary    10000 non-null  float64\n",
      " 8   Exited             10000 non-null  int64  \n",
      " 9   Geography_Germany  10000 non-null  uint8  \n",
      " 10  Geography_Spain    10000 non-null  uint8  \n",
      " 11  Gender_Male        10000 non-null  uint8  \n",
      "dtypes: float64(3), int64(6), uint8(3)\n",
      "memory usage: 732.5 KB\n"
     ]
    }
   ],
   "source": [
    "data = pd.get_dummies(data, drop_first=True)\n",
    "data.info()"
   ]
  },
  {
   "cell_type": "markdown",
   "metadata": {},
   "source": [
    "**Вывод**\n",
    "\n",
    "Ознакомились с данными, убрали нулевые значения и ненужные столбцы, защитились от дамми-ловушек. Дубликатов не обнаружили"
   ]
  },
  {
   "cell_type": "markdown",
   "metadata": {},
   "source": [
    "## Исследование задачи"
   ]
  },
  {
   "cell_type": "markdown",
   "metadata": {},
   "source": [
    "Разбиваем данные на 60/20/20"
   ]
  },
  {
   "cell_type": "code",
   "execution_count": 5,
   "metadata": {},
   "outputs": [],
   "source": [
    "target = data['Exited']\n",
    "features = data.drop('Exited', axis=1)\n",
    "\n",
    "features_train, features_valid, target_train, target_valid = train_test_split(features, target, test_size=0.4, random_state=1337228)\n",
    "features_valid, features_test, target_valid, target_test = train_test_split(features_valid, target_valid, test_size=0.5, random_state=1337228)"
   ]
  },
  {
   "cell_type": "markdown",
   "metadata": {},
   "source": [
    "Посмотрим дисбаланс"
   ]
  },
  {
   "cell_type": "code",
   "execution_count": 6,
   "metadata": {},
   "outputs": [
    {
     "data": {
      "text/plain": [
       "0    7963\n",
       "1    2037\n",
       "Name: Exited, dtype: int64"
      ]
     },
     "execution_count": 6,
     "metadata": {},
     "output_type": "execute_result"
    }
   ],
   "source": [
    "target.value_counts()"
   ]
  },
  {
   "cell_type": "markdown",
   "metadata": {},
   "source": [
    "А он у нас 1 к 4"
   ]
  },
  {
   "cell_type": "markdown",
   "metadata": {},
   "source": [
    "### Модели"
   ]
  },
  {
   "cell_type": "markdown",
   "metadata": {},
   "source": [
    "#### Решающее дерево"
   ]
  },
  {
   "cell_type": "code",
   "execution_count": 7,
   "metadata": {},
   "outputs": [
    {
     "name": "stdout",
     "output_type": "stream",
     "text": [
      "Лучшее значение F1 0.5773809523809524 на глубине 7\n"
     ]
    }
   ],
   "source": [
    "best_depth = 0\n",
    "best_f1 = 0\n",
    "for depth in range(2, 20):\n",
    "    model = DecisionTreeClassifier(random_state=1337228, max_depth=depth)\n",
    "    model.fit(features_train, target_train)\n",
    "    predicted_valid = model.predict(features_valid)\n",
    "    f1 = f1_score(target_valid, predicted_valid)\n",
    "    if f1 > best_f1:\n",
    "        best_depth = depth\n",
    "        best_f1 = f1\n",
    "print('Лучшее значение F1', best_f1,'на глубине', best_depth)"
   ]
  },
  {
   "cell_type": "markdown",
   "metadata": {},
   "source": [
    "#### Случайный лес"
   ]
  },
  {
   "cell_type": "code",
   "execution_count": 8,
   "metadata": {},
   "outputs": [
    {
     "name": "stdout",
     "output_type": "stream",
     "text": [
      "Лучшее значение F1 0.5803432137285491 при количестве деревьев 49\n"
     ]
    }
   ],
   "source": [
    "best_est = 0\n",
    "best_f1 = 0\n",
    "for estimator in range(30, 60, 1):\n",
    "    model =  RandomForestClassifier(random_state=1337228, n_estimators=estimator)\n",
    "    model.fit(features_train, target_train)\n",
    "    predicted_valid = model.predict(features_valid)\n",
    "    f1 = f1_score(target_valid, predicted_valid)\n",
    "    if f1 > best_f1:\n",
    "        best_est = estimator\n",
    "        best_f1 = f1\n",
    "print('Лучшее значение F1', best_f1,'при количестве деревьев', best_est)"
   ]
  },
  {
   "cell_type": "markdown",
   "metadata": {},
   "source": [
    "#### Логистическая регрессия"
   ]
  },
  {
   "cell_type": "code",
   "execution_count": 9,
   "metadata": {},
   "outputs": [
    {
     "name": "stdout",
     "output_type": "stream",
     "text": [
      "Лучшее значение F1 0.1475409836065574 при количестве итераций 44\n"
     ]
    }
   ],
   "source": [
    "best_max_iter = 0\n",
    "best_f1 = 0\n",
    "\n",
    "for max_iter in range(1,100):\n",
    "    model = LogisticRegression(random_state=1337228, max_iter=max_iter)\n",
    "    model.fit(features_train, target_train)\n",
    "    predicted_valid = model.predict(features_valid)\n",
    "    f1 = f1_score(target_valid, predicted_valid)\n",
    "    if f1 > best_f1:\n",
    "        best_max_iter = max_iter\n",
    "        best_f1 = f1\n",
    "print('Лучшее значение F1', best_f1,'при количестве итераций', best_max_iter)"
   ]
  },
  {
   "cell_type": "markdown",
   "metadata": {},
   "source": [
    "### Accuracy, precision, recall, f1"
   ]
  },
  {
   "cell_type": "code",
   "execution_count": 10,
   "metadata": {},
   "outputs": [
    {
     "name": "stdout",
     "output_type": "stream",
     "text": [
      "Решающее дерево\n",
      "Accuracy 0.858\n",
      "Precision 0.7028985507246377\n",
      "Recall 0.4898989898989899\n",
      "F1 0.5773809523809524\n",
      "\n",
      "Случайный лес\n",
      "Accuracy 0.8655\n",
      "Precision 0.7591836734693878\n",
      "Recall 0.4696969696969697\n",
      "F1 0.5803432137285491\n",
      "\n",
      "Логистическая регрессия\n",
      "Accuracy 0.7945\n",
      "Precision 0.39436619718309857\n",
      "Recall 0.0707070707070707\n",
      "F1 0.11991434689507494\n",
      "\n"
     ]
    }
   ],
   "source": [
    "model = DecisionTreeClassifier(random_state=1337228, max_depth=7)\n",
    "model.fit(features_train, target_train)\n",
    "predicted_valid = model.predict(features_valid)\n",
    "print('Решающее дерево')\n",
    "print('Accuracy', accuracy_score(target_valid, predicted_valid))\n",
    "print('Precision', precision_score(target_valid, predicted_valid))\n",
    "print('Recall', recall_score(target_valid, predicted_valid))\n",
    "print('F1', f1_score(target_valid, predicted_valid))\n",
    "print()\n",
    "\n",
    "model = RandomForestClassifier(random_state=1337228, n_estimators=49)\n",
    "model.fit(features_train, target_train)\n",
    "predicted_valid = model.predict(features_valid)\n",
    "print('Случайный лес')\n",
    "print('Accuracy', accuracy_score(target_valid, predicted_valid))\n",
    "print('Precision', precision_score(target_valid, predicted_valid))\n",
    "print('Recall', recall_score(target_valid, predicted_valid))\n",
    "print('F1', f1_score(target_valid, predicted_valid))\n",
    "print()\n",
    "\n",
    "model = LogisticRegression(random_state=1337228, max_iter=44, solver='liblinear')\n",
    "model.fit(features_train, target_train)\n",
    "predicted_valid = model.predict(features_valid)\n",
    "print('Логистическая регрессия')\n",
    "print('Accuracy', accuracy_score(target_valid, predicted_valid))\n",
    "print('Precision', precision_score(target_valid, predicted_valid))\n",
    "print('Recall', recall_score(target_valid, predicted_valid))\n",
    "print('F1', f1_score(target_valid, predicted_valid))\n",
    "print()"
   ]
  },
  {
   "cell_type": "markdown",
   "metadata": {},
   "source": [
    "### ROC-кривая и AUC-ROC"
   ]
  },
  {
   "cell_type": "code",
   "execution_count": 11,
   "metadata": {},
   "outputs": [
    {
     "name": "stdout",
     "output_type": "stream",
     "text": [
      "AUC-ROC DecisionTreeClassifier 0.8270973450212852\n",
      "AUC-ROC RandomForestClassifier 0.8446583981964282\n",
      "AUC-ROC LogisticRegression 0.6571953953500088\n"
     ]
    },
    {
     "data": {
      "image/png": "[encoded data removed]",
      "text/plain": [
       "<Figure size 1008x720 with 1 Axes>"
      ]
     },
     "metadata": {
      "needs_background": "light"
     },
     "output_type": "display_data"
    }
   ],
   "source": [
    "plt.figure(figsize=[14,10])\n",
    "\n",
    "plt.plot([0, 1], [0, 1], linestyle='--', label='RandomModel')\n",
    "\n",
    "model = DecisionTreeClassifier(random_state=1337228, max_depth=7)\n",
    "model.fit(features_train, target_train)\n",
    "probabilities_valid = model.predict_proba(features_valid)\n",
    "probabilities_one_valid = probabilities_valid[:, 1]\n",
    "fpr, tpr, thresholds = roc_curve(target_valid, probabilities_one_valid)\n",
    "auc_roc = roc_auc_score(target_valid, probabilities_one_valid)\n",
    "print('AUC-ROC DecisionTreeClassifier',auc_roc)\n",
    "plt.plot(fpr, tpr, label='DecisionTreeClassifier')\n",
    "\n",
    "model = RandomForestClassifier(random_state=1337228, n_estimators=49)\n",
    "model.fit(features_train, target_train)\n",
    "probabilities_valid = model.predict_proba(features_valid)\n",
    "probabilities_one_valid = probabilities_valid[:, 1]\n",
    "fpr, tpr, thresholds = roc_curve(target_valid, probabilities_one_valid)\n",
    "auc_roc = roc_auc_score(target_valid, probabilities_one_valid)\n",
    "print('AUC-ROC RandomForestClassifier',auc_roc)\n",
    "plt.plot(fpr, tpr, label='RandomForestClassifier')\n",
    "\n",
    "model = LogisticRegression(random_state=1337228, max_iter=44, solver='liblinear')\n",
    "model.fit(features_train, target_train)\n",
    "probabilities_valid = model.predict_proba(features_valid)\n",
    "probabilities_one_valid = probabilities_valid[:, 1]\n",
    "fpr, tpr, thresholds = roc_curve(target_valid, probabilities_one_valid)\n",
    "auc_roc = roc_auc_score(target_valid, probabilities_one_valid)\n",
    "print('AUC-ROC LogisticRegression',auc_roc)\n",
    "plt.plot(fpr, tpr, label='LogisticRegression')\n",
    "\n",
    "plt.xlim([0,1])\n",
    "plt.ylim([0,1])\n",
    "\n",
    "plt.xlabel(\"False Positive Rate\")\n",
    "plt.ylabel(\"True Positive Rate\")\n",
    "\n",
    "plt.legend(loc='lower right', fontsize='x-large')\n",
    "\n",
    "plt.title(\"ROC-кривая\")\n",
    "plt.show()"
   ]
  },
  {
   "cell_type": "markdown",
   "metadata": {},
   "source": [
    "**Вывод:**\n",
    "\n",
    "По полученным результатам можно заметить, что метрика F1 и AUC-ROC лучшая на случаном лесе."
   ]
  },
  {
   "cell_type": "markdown",
   "metadata": {},
   "source": [
    "## Борьба с дисбалансом"
   ]
  },
  {
   "cell_type": "markdown",
   "metadata": {},
   "source": [
    "### Взвешивание классов"
   ]
  },
  {
   "cell_type": "code",
   "execution_count": 12,
   "metadata": {},
   "outputs": [
    {
     "name": "stdout",
     "output_type": "stream",
     "text": [
      "Решающее дерево\n",
      "Accuracy 0.7785\n",
      "Precision 0.46102819237147596\n",
      "Recall 0.702020202020202\n",
      "F1 0.5565565565565566\n",
      "\n",
      "Случайный лес\n",
      "Accuracy 0.864\n",
      "Precision 0.7605042016806722\n",
      "Recall 0.45707070707070707\n",
      "F1 0.5709779179810724\n",
      "\n",
      "Логистическая регрессия\n",
      "Accuracy 0.677\n",
      "Precision 0.33509234828496043\n",
      "Recall 0.6414141414141414\n",
      "F1 0.440207972270364\n",
      "\n"
     ]
    }
   ],
   "source": [
    "model = DecisionTreeClassifier(random_state=1337228, max_depth=7, class_weight='balanced')\n",
    "model.fit(features_train, target_train)\n",
    "predicted_valid = model.predict(features_valid)\n",
    "print('Решающее дерево')\n",
    "print('Accuracy', accuracy_score(target_valid, predicted_valid))\n",
    "print('Precision', precision_score(target_valid, predicted_valid))\n",
    "print('Recall', recall_score(target_valid, predicted_valid))\n",
    "print('F1', f1_score(target_valid, predicted_valid))\n",
    "print()\n",
    "\n",
    "model = RandomForestClassifier(random_state=1337228, n_estimators=49, class_weight='balanced')\n",
    "model.fit(features_train, target_train)\n",
    "predicted_valid = model.predict(features_valid)\n",
    "print('Случайный лес')\n",
    "print('Accuracy', accuracy_score(target_valid, predicted_valid))\n",
    "print('Precision', precision_score(target_valid, predicted_valid))\n",
    "print('Recall', recall_score(target_valid, predicted_valid))\n",
    "print('F1', f1_score(target_valid, predicted_valid))\n",
    "print()\n",
    "\n",
    "model = LogisticRegression(random_state=1337228, max_iter=44, solver='liblinear', class_weight='balanced')\n",
    "model.fit(features_train, target_train)\n",
    "predicted_valid = model.predict(features_valid)\n",
    "print('Логистическая регрессия')\n",
    "print('Accuracy', accuracy_score(target_valid, predicted_valid))\n",
    "print('Precision', precision_score(target_valid, predicted_valid))\n",
    "print('Recall', recall_score(target_valid, predicted_valid))\n",
    "print('F1', f1_score(target_valid, predicted_valid))\n",
    "print()"
   ]
  },
  {
   "cell_type": "markdown",
   "metadata": {},
   "source": [
    "### Увеличение выборки"
   ]
  },
  {
   "cell_type": "code",
   "execution_count": 13,
   "metadata": {},
   "outputs": [],
   "source": [
    "def upsample(features, target, repeat):\n",
    "    features_zeros = features[target == 0]\n",
    "    features_ones = features[target == 1]\n",
    "    target_zeros = target[target == 0]\n",
    "    target_ones = target[target == 1]\n",
    "\n",
    "    features_upsampled = pd.concat([features_zeros] + [features_ones] * repeat)\n",
    "    target_upsampled = pd.concat([target_zeros] + [target_ones] * repeat)\n",
    "    \n",
    "    features_upsampled, target_upsampled = shuffle(features_upsampled, target_upsampled, random_state=12345)\n",
    "    \n",
    "    return features_upsampled, target_upsampled\n",
    "\n",
    "features_upsampled, target_upsampled = upsample(features_train, target_train, 4)"
   ]
  },
  {
   "cell_type": "code",
   "execution_count": 14,
   "metadata": {},
   "outputs": [
    {
     "name": "stdout",
     "output_type": "stream",
     "text": [
      "Решающее дерево\n",
      "Accuracy 0.778\n",
      "Precision 0.4601328903654485\n",
      "Recall 0.6994949494949495\n",
      "F1 0.5551102204408818\n",
      "\n",
      "Случайный лес\n",
      "Accuracy 0.855\n",
      "Precision 0.653179190751445\n",
      "Recall 0.5707070707070707\n",
      "F1 0.6091644204851752\n",
      "\n",
      "Логистическая регрессия\n",
      "Accuracy 0.6485\n",
      "Precision 0.31303288672350793\n",
      "Recall 0.648989898989899\n",
      "F1 0.42235004108463436\n",
      "\n"
     ]
    }
   ],
   "source": [
    "model = DecisionTreeClassifier(random_state=1337228, max_depth=7)\n",
    "model.fit(features_upsampled, target_upsampled)\n",
    "predicted_valid = model.predict(features_valid)\n",
    "print('Решающее дерево')\n",
    "print('Accuracy', accuracy_score(target_valid, predicted_valid))\n",
    "print('Precision', precision_score(target_valid, predicted_valid))\n",
    "print('Recall', recall_score(target_valid, predicted_valid))\n",
    "print('F1', f1_score(target_valid, predicted_valid))\n",
    "print()\n",
    "\n",
    "model = RandomForestClassifier(random_state=1337228, n_estimators=49)\n",
    "model.fit(features_upsampled, target_upsampled)\n",
    "predicted_valid = model.predict(features_valid)\n",
    "print('Случайный лес')\n",
    "print('Accuracy', accuracy_score(target_valid, predicted_valid))\n",
    "print('Precision', precision_score(target_valid, predicted_valid))\n",
    "print('Recall', recall_score(target_valid, predicted_valid))\n",
    "print('F1', f1_score(target_valid, predicted_valid))\n",
    "print()\n",
    "\n",
    "model = LogisticRegression(random_state=1337228, max_iter=44, solver='liblinear')\n",
    "model.fit(features_upsampled, target_upsampled)\n",
    "predicted_valid = model.predict(features_valid)\n",
    "print('Логистическая регрессия')\n",
    "print('Accuracy', accuracy_score(target_valid, predicted_valid))\n",
    "print('Precision', precision_score(target_valid, predicted_valid))\n",
    "print('Recall', recall_score(target_valid, predicted_valid))\n",
    "print('F1', f1_score(target_valid, predicted_valid))\n",
    "print()"
   ]
  },
  {
   "cell_type": "markdown",
   "metadata": {},
   "source": [
    "### Уменьшение выборки"
   ]
  },
  {
   "cell_type": "code",
   "execution_count": 15,
   "metadata": {},
   "outputs": [],
   "source": [
    "def downsample(features, target, fraction):\n",
    "    features_zeros = features[target == 0]\n",
    "    features_ones = features[target == 1]\n",
    "    target_zeros = target[target == 0]\n",
    "    target_ones = target[target == 1]\n",
    "\n",
    "    features_downsampled = pd.concat([features_zeros.sample(frac=fraction, random_state=1337228)] + [features_ones])\n",
    "    target_downsampled = pd.concat([target_zeros.sample(frac=fraction, random_state=1337228)] + [target_ones])\n",
    "    \n",
    "    features_downsampled, target_downsampled = shuffle(features_downsampled, target_downsampled, random_state=1337228)\n",
    "    \n",
    "    return features_downsampled, target_downsampled\n",
    "\n",
    "features_downsampled, target_downsampled = downsample(features_train, target_train, 0.25)"
   ]
  },
  {
   "cell_type": "code",
   "execution_count": 16,
   "metadata": {},
   "outputs": [
    {
     "name": "stdout",
     "output_type": "stream",
     "text": [
      "Решающее дерево\n",
      "Accuracy 0.7445\n",
      "Precision 0.4155653450807636\n",
      "Recall 0.7146464646464646\n",
      "F1 0.5255338904363974\n",
      "\n",
      "Случайный лес\n",
      "Accuracy 0.7705\n",
      "Precision 0.4510108864696734\n",
      "Recall 0.7323232323232324\n",
      "F1 0.5582290664100096\n",
      "\n",
      "Логистическая регрессия\n",
      "Accuracy 0.65\n",
      "Precision 0.3141809290953545\n",
      "Recall 0.648989898989899\n",
      "F1 0.4233937397034596\n",
      "\n"
     ]
    }
   ],
   "source": [
    "model = DecisionTreeClassifier(random_state=1337228, max_depth=7)\n",
    "model.fit(features_downsampled, target_downsampled)\n",
    "predicted_valid = model.predict(features_valid)\n",
    "print('Решающее дерево')\n",
    "print('Accuracy', accuracy_score(target_valid, predicted_valid))\n",
    "print('Precision', precision_score(target_valid, predicted_valid))\n",
    "print('Recall', recall_score(target_valid, predicted_valid))\n",
    "print('F1', f1_score(target_valid, predicted_valid))\n",
    "print()\n",
    "\n",
    "model = RandomForestClassifier(random_state=1337228, n_estimators=49)\n",
    "model.fit(features_downsampled, target_downsampled)\n",
    "predicted_valid = model.predict(features_valid)\n",
    "print('Случайный лес')\n",
    "print('Accuracy', accuracy_score(target_valid, predicted_valid))\n",
    "print('Precision', precision_score(target_valid, predicted_valid))\n",
    "print('Recall', recall_score(target_valid, predicted_valid))\n",
    "print('F1', f1_score(target_valid, predicted_valid))\n",
    "print()\n",
    "\n",
    "model = LogisticRegression(random_state=1337228,max_iter=44, solver='liblinear')\n",
    "model.fit(features_downsampled, target_downsampled)\n",
    "predicted_valid = model.predict(features_valid)\n",
    "print('Логистическая регрессия')\n",
    "print('Accuracy', accuracy_score(target_valid, predicted_valid))\n",
    "print('Precision', precision_score(target_valid, predicted_valid))\n",
    "print('Recall', recall_score(target_valid, predicted_valid))\n",
    "print('F1', f1_score(target_valid, predicted_valid))\n",
    "print()"
   ]
  },
  {
   "cell_type": "markdown",
   "metadata": {},
   "source": [
    "Лучшей моделью по значению F-меры стал случайный лес с увеличением выборки. Выведем ROC-кривую и AUC-ROC "
   ]
  },
  {
   "cell_type": "code",
   "execution_count": 17,
   "metadata": {},
   "outputs": [
    {
     "name": "stdout",
     "output_type": "stream",
     "text": [
      "AUC-ROC DecisionTreeClassifier 0.8105076639210056\n",
      "AUC-ROC RandomForestClassifier 0.8447087772991763\n",
      "AUC-ROC LogisticRegression 0.6939264842943147\n"
     ]
    },
    {
     "data": {
      "image/png": "[encoded data removed]",
      "text/plain": [
       "<Figure size 1008x720 with 1 Axes>"
      ]
     },
     "metadata": {
      "needs_background": "light"
     },
     "output_type": "display_data"
    }
   ],
   "source": [
    "plt.figure(figsize=[14,10])\n",
    "\n",
    "plt.plot([0, 1], [0, 1], linestyle='--', label='RandomModel')\n",
    "\n",
    "\n",
    "model = DecisionTreeClassifier(random_state=1337228, max_depth=7)\n",
    "model.fit(features_upsampled, target_upsampled)\n",
    "probabilities_valid = model.predict_proba(features_valid)\n",
    "probabilities_one_valid = probabilities_valid[:, 1]\n",
    "fpr, tpr, thresholds = roc_curve(target_valid, probabilities_one_valid)\n",
    "auc_roc = roc_auc_score(target_valid, probabilities_one_valid)\n",
    "print('AUC-ROC DecisionTreeClassifier',auc_roc)\n",
    "plt.plot(fpr, tpr, label='DecisionTreeClassifier')\n",
    "\n",
    "model = RandomForestClassifier(random_state=1337228, n_estimators=49)\n",
    "model.fit(features_upsampled, target_upsampled)\n",
    "probabilities_valid = model.predict_proba(features_valid)\n",
    "probabilities_one_valid = probabilities_valid[:, 1]\n",
    "fpr, tpr, thresholds = roc_curve(target_valid, probabilities_one_valid)\n",
    "auc_roc = roc_auc_score(target_valid, probabilities_one_valid)\n",
    "print('AUC-ROC RandomForestClassifier',auc_roc)\n",
    "plt.plot(fpr, tpr, label='RandomForestClassifier')\n",
    "\n",
    "model = LogisticRegression(random_state=1337228, max_iter = 44, solver='liblinear')\n",
    "model.fit(features_upsampled, target_upsampled)\n",
    "probabilities_valid = model.predict_proba(features_valid)\n",
    "probabilities_one_valid = probabilities_valid[:, 1]\n",
    "fpr, tpr, thresholds = roc_curve(target_valid, probabilities_one_valid)\n",
    "auc_roc = roc_auc_score(target_valid, probabilities_one_valid)\n",
    "print('AUC-ROC LogisticRegression',auc_roc)\n",
    "plt.plot(fpr, tpr, label='LogisticRegression')\n",
    "\n",
    "plt.xlim([0,1])\n",
    "plt.ylim([0,1])\n",
    "\n",
    "plt.xlabel(\"False Positive Rate\")\n",
    "plt.ylabel(\"True Positive Rate\")\n",
    "\n",
    "plt.legend(loc='lower right', fontsize='x-large')\n",
    "\n",
    "plt.title(\"ROC-кривая\")\n",
    "plt.show()"
   ]
  },
  {
   "cell_type": "markdown",
   "metadata": {},
   "source": [
    "## Тестирование модели"
   ]
  },
  {
   "cell_type": "markdown",
   "metadata": {},
   "source": [
    "На тестовой выборке применим модель случайного леса с увеличением выборке и поэкспериментируем с гиперпараметрами для увеличения F-меры"
   ]
  },
  {
   "cell_type": "markdown",
   "metadata": {},
   "source": [
    "Сначала попробуем увеличить диапозон поиска лучшего значения n_estimators, а после изучим энтропийный и джини критерии"
   ]
  },
  {
   "cell_type": "code",
   "execution_count": 18,
   "metadata": {},
   "outputs": [
    {
     "name": "stdout",
     "output_type": "stream",
     "text": [
      "Лучшее значение F1 0.6117969821673525 при количестве деревьев 150\n"
     ]
    }
   ],
   "source": [
    "best_est = 0\n",
    "best_f1 = 0\n",
    "for estimator in range(10, 400, 10):\n",
    "    model =  RandomForestClassifier(random_state=1337228, n_estimators=estimator)\n",
    "    model.fit(features_upsampled, target_upsampled)\n",
    "    predicted_valid = model.predict(features_valid)\n",
    "    f1 = f1_score(target_valid, predicted_valid)\n",
    "    if f1 > best_f1:\n",
    "        best_est = estimator\n",
    "        best_f1 = f1\n",
    "print('Лучшее значение F1', best_f1,'при количестве деревьев', best_est)"
   ]
  },
  {
   "cell_type": "code",
   "execution_count": 19,
   "metadata": {},
   "outputs": [
    {
     "name": "stdout",
     "output_type": "stream",
     "text": [
      "Количество деревьев: 150\n",
      "F1 0.6117969821673525\n"
     ]
    }
   ],
   "source": [
    "model =  RandomForestClassifier(random_state=1337228, n_estimators=150,criterion='gini')\n",
    "model.fit(features_upsampled, target_upsampled)\n",
    "predicted_valid = model.predict(features_valid)\n",
    "f1 = f1_score(target_valid, predicted_valid)\n",
    "print('Количество деревьев: 150')\n",
    "print('F1', f1)   "
   ]
  },
  {
   "cell_type": "code",
   "execution_count": 20,
   "metadata": {},
   "outputs": [
    {
     "name": "stdout",
     "output_type": "stream",
     "text": [
      "Количество деревьев: 150\n",
      "F1 0.5956284153005464\n"
     ]
    }
   ],
   "source": [
    "model =  RandomForestClassifier(random_state=1337228, n_estimators=150,criterion='entropy')\n",
    "model.fit(features_upsampled, target_upsampled)\n",
    "predicted_valid = model.predict(features_valid)\n",
    "f1 = f1_score(target_valid, predicted_valid)\n",
    "print('Количество деревьев: 150')\n",
    "print('F1', f1)   "
   ]
  },
  {
   "cell_type": "markdown",
   "metadata": {},
   "source": [
    "Критерий gini дает лучшее значение F1, которое превышает 0.59, что и нужно для решения задачи. Однако на тестовой выборке значение может уменшиться. Рассмотрим еще гиперпараметры min_samples_split и min_samples_leaf"
   ]
  },
  {
   "cell_type": "code",
   "execution_count": 21,
   "metadata": {},
   "outputs": [
    {
     "name": "stdout",
     "output_type": "stream",
     "text": [
      "Samples_split 2 F1 0.6117969821673525\n",
      "Samples_split 3 F1 0.5800273597811217\n",
      "Samples_split 4 F1 0.5932885906040268\n",
      "Samples_split 5 F1 0.5820105820105821\n",
      "Samples_split 6 F1 0.5928853754940713\n",
      "Samples_split 7 F1 0.5883870967741937\n",
      "Samples_split 8 F1 0.5889884763124199\n",
      "Samples_split 9 F1 0.5861182519280206\n"
     ]
    }
   ],
   "source": [
    "for samples_split in range(2, 10):\n",
    "    model =  RandomForestClassifier(random_state=1337228, n_estimators=150, \n",
    "                                    min_samples_split=samples_split,criterion='gini')\n",
    "    model.fit(features_upsampled, target_upsampled)\n",
    "    predicted_valid = model.predict(features_valid)\n",
    "    print('Samples_split', samples_split,'F1', f1_score(target_valid, predicted_valid))"
   ]
  },
  {
   "cell_type": "code",
   "execution_count": 22,
   "metadata": {},
   "outputs": [
    {
     "name": "stdout",
     "output_type": "stream",
     "text": [
      "Samples_leaf 2 F1 0.5905006418485237\n",
      "Samples_leaf 3 F1 0.6002460024600246\n",
      "Samples_leaf 4 F1 0.6030989272943981\n",
      "Samples_leaf 5 F1 0.5976470588235293\n",
      "Samples_leaf 6 F1 0.6045977011494252\n",
      "Samples_leaf 7 F1 0.593010146561443\n",
      "Samples_leaf 8 F1 0.6015712682379349\n",
      "Samples_leaf 9 F1 0.6049107142857143\n"
     ]
    }
   ],
   "source": [
    "for samples_leaf in range(2, 10):\n",
    "    model =  RandomForestClassifier(random_state=1337228, n_estimators=150, min_samples_split=2,\n",
    "                                   min_samples_leaf = samples_leaf,criterion='gini')\n",
    "    model.fit(features_upsampled, target_upsampled)\n",
    "    predicted_valid = model.predict(features_valid)\n",
    "    print('Samples_leaf', samples_leaf,'F1', f1_score(target_valid, predicted_valid))"
   ]
  },
  {
   "cell_type": "markdown",
   "metadata": {},
   "source": [
    "Теперь, когда получена лучшая модель, можно применить её к тестовой выборке\n",
    "- с дисбалансом\n",
    "- с взвешенными классами\n",
    "- с увелечением выборки\n",
    "- с уменьшением выборки"
   ]
  },
  {
   "cell_type": "code",
   "execution_count": 23,
   "metadata": {},
   "outputs": [
    {
     "name": "stdout",
     "output_type": "stream",
     "text": [
      "Случайный лес - дисбаланс классов\n",
      "Accuracy 0.862\n",
      "Precision 0.8232558139534883\n",
      "Recall 0.42650602409638555\n",
      "F1 0.5619047619047619\n",
      "\n",
      "Случайный лес - взвешенные классы\n",
      "Accuracy 0.862\n",
      "Precision 0.8232558139534883\n",
      "Recall 0.42650602409638555\n",
      "F1 0.5619047619047619\n",
      "\n",
      "Случайный лес - увеличеие выборки\n",
      "Accuracy 0.821\n",
      "Precision 0.5564356435643565\n",
      "Recall 0.6771084337349398\n",
      "F1 0.6108695652173913\n",
      "\n",
      "Случайный лес - уменьшение выборки\n",
      "Accuracy 0.7795\n",
      "Precision 0.4796875\n",
      "Recall 0.7397590361445783\n",
      "F1 0.5819905213270142\n",
      "\n"
     ]
    }
   ],
   "source": [
    "model = RandomForestClassifier(random_state=1337228, n_estimators=150, min_samples_split=2,\n",
    "                                   min_samples_leaf = 9,criterion='gini')\n",
    "model.fit(features_train, target_train)\n",
    "predicted_test = model.predict(features_test)\n",
    "print('Случайный лес - дисбаланс классов')\n",
    "print('Accuracy', accuracy_score(target_test, predicted_test))\n",
    "print('Precision', precision_score(target_test, predicted_test))\n",
    "print('Recall', recall_score(target_test, predicted_test))\n",
    "print('F1', f1_score(target_test, predicted_test))\n",
    "print()\n",
    "\n",
    "model = RandomForestClassifier(random_state=1337228, n_estimators=150, min_samples_split=2,\n",
    "                                   min_samples_leaf = 9,criterion='gini')\n",
    "model.fit(features_train, target_train)\n",
    "predicted_test = model.predict(features_test)\n",
    "print('Случайный лес - взвешенные классы')\n",
    "print('Accuracy', accuracy_score(target_test, predicted_test))\n",
    "print('Precision', precision_score(target_test, predicted_test))\n",
    "print('Recall', recall_score(target_test, predicted_test))\n",
    "print('F1', f1_score(target_test, predicted_test))\n",
    "print()\n",
    "\n",
    "model = RandomForestClassifier(random_state=1337228, n_estimators=150, min_samples_split=2,\n",
    "                                   min_samples_leaf = 9,criterion='gini')\n",
    "model.fit(features_upsampled, target_upsampled)\n",
    "predicted_test = model.predict(features_test)\n",
    "print('Случайный лес - увеличеие выборки')\n",
    "print('Accuracy', accuracy_score(target_test, predicted_test))\n",
    "print('Precision', precision_score(target_test, predicted_test))\n",
    "print('Recall', recall_score(target_test, predicted_test))\n",
    "print('F1', f1_score(target_test, predicted_test))\n",
    "print()\n",
    "\n",
    "model = RandomForestClassifier(random_state=1337228, n_estimators=150, min_samples_split=2,\n",
    "                                   min_samples_leaf = 9,criterion='gini')\n",
    "model.fit(features_downsampled, target_downsampled)\n",
    "predicted_test = model.predict(features_test)\n",
    "print('Случайный лес - уменьшение выборки')\n",
    "print('Accuracy', accuracy_score(target_test, predicted_test))\n",
    "print('Precision', precision_score(target_test, predicted_test))\n",
    "print('Recall', recall_score(target_test, predicted_test))\n",
    "print('F1', f1_score(target_test, predicted_test))\n",
    "print()"
   ]
  },
  {
   "cell_type": "code",
   "execution_count": 24,
   "metadata": {},
   "outputs": [
    {
     "name": "stdout",
     "output_type": "stream",
     "text": [
      "AUC-ROC RandomForestClassifier - disbalanced 0.8527292767283645\n",
      "AUC-ROC RandomForestClassifier - balanced by class weight 0.8527292767283645\n",
      "AUC-ROC RandomForestClassifier - balanced by reduce 0 class 0.8471939492987723\n",
      "AUC-ROC RandomForestClassifier - balanced by grow 1 class 0.8540549580023564\n"
     ]
    },
    {
     "data": {
      "image/png": "[encoded data removed]",
      "text/plain": [
       "<Figure size 1008x720 with 1 Axes>"
      ]
     },
     "metadata": {
      "needs_background": "light"
     },
     "output_type": "display_data"
    }
   ],
   "source": [
    "plt.figure(figsize=[14,10])\n",
    "\n",
    "plt.plot([0, 1], [0, 1], linestyle='--', label='RandomModel')\n",
    "\n",
    "\n",
    "model = RandomForestClassifier(random_state=1337228, n_estimators=150, min_samples_split=2,\n",
    "                                   min_samples_leaf = 9,criterion='gini')\n",
    "model.fit(features_train, target_train)\n",
    "predicted_test = model.predict(features_test)\n",
    "probabilities_test = model.predict_proba(features_test)\n",
    "probabilities_one_test = probabilities_test[:, 1]\n",
    "fpr, tpr, thresholds = roc_curve(target_test, probabilities_one_test)\n",
    "auc_roc = roc_auc_score(target_test, probabilities_one_test)\n",
    "print('AUC-ROC RandomForestClassifier - disbalanced',auc_roc)\n",
    "plt.plot(fpr, tpr, label='RandomForestClassifier - disbalanced')\n",
    "\n",
    "model = RandomForestClassifier(random_state=1337228, n_estimators=150, min_samples_split=2,\n",
    "                                   min_samples_leaf = 9,criterion='gini')\n",
    "model.fit(features_train, target_train)\n",
    "predicted_test = model.predict(features_test)\n",
    "probabilities_test = model.predict_proba(features_test)\n",
    "probabilities_one_test = probabilities_test[:, 1]\n",
    "fpr, tpr, thresholds = roc_curve(target_test, probabilities_one_test)\n",
    "auc_roc = roc_auc_score(target_test, probabilities_one_test)\n",
    "print('AUC-ROC RandomForestClassifier - balanced by class weight',auc_roc)\n",
    "plt.plot(fpr, tpr, label='RandomForestClassifier - balanced by class weight')\n",
    "\n",
    "model = RandomForestClassifier(random_state=1337228, n_estimators=150, min_samples_split=2,\n",
    "                                   min_samples_leaf = 9,criterion='gini')\n",
    "model.fit(features_downsampled, target_downsampled)\n",
    "predicted_test = model.predict(features_test)\n",
    "probabilities_test = model.predict_proba(features_test)\n",
    "probabilities_one_test = probabilities_test[:, 1]\n",
    "fpr, tpr, thresholds = roc_curve(target_test, probabilities_one_test)\n",
    "auc_roc = roc_auc_score(target_test, probabilities_one_test)\n",
    "print('AUC-ROC RandomForestClassifier - balanced by reduce 0 class',auc_roc)\n",
    "plt.plot(fpr, tpr, label='RandomForestClassifier - balanced by reduce 0 class')\n",
    "\n",
    "model = RandomForestClassifier(random_state=1337228, n_estimators=150, min_samples_split=2,\n",
    "                                   min_samples_leaf = 9,criterion='gini')\n",
    "model.fit(features_upsampled, target_upsampled)\n",
    "predicted_test = model.predict(features_test)\n",
    "probabilities_test = model.predict_proba(features_test)\n",
    "probabilities_one_test = probabilities_test[:, 1]\n",
    "fpr, tpr, thresholds = roc_curve(target_test, probabilities_one_test)\n",
    "auc_roc = roc_auc_score(target_test, probabilities_one_test)\n",
    "print('AUC-ROC RandomForestClassifier - balanced by grow 1 class',auc_roc)\n",
    "plt.plot(fpr, tpr, label='RandomForestClassifier - balanced')\n",
    "\n",
    "plt.xlim([0,1])\n",
    "plt.ylim([0,1])\n",
    "\n",
    "plt.xlabel(\"False Positive Rate\")\n",
    "plt.ylabel(\"True Positive Rate\")\n",
    "\n",
    "plt.legend(loc='lower right', fontsize='x-large')\n",
    "\n",
    "plt.title(\"ROC-кривая\")\n",
    "plt.show()"
   ]
  },
  {
   "cell_type": "markdown",
   "metadata": {},
   "source": [
    "**Всего одна модель превысила заданную в условии F1-меру и это модель случайного леса с увеличеием выборки**"
   ]
  }
 ],
 "metadata": {
  "ExecuteTimeLog": [
   {
    "duration": 1479,
    "start_time": "2022-08-19T13:18:03.756Z"
   },
   {
    "duration": 3,
    "start_time": "2022-08-19T13:18:39.309Z"
   },
   {
    "duration": 12,
    "start_time": "2022-08-19T13:20:09.417Z"
   },
   {
    "duration": 17,
    "start_time": "2022-08-19T13:20:41.202Z"
   },
   {
    "duration": 112,
    "start_time": "2022-08-19T13:23:37.747Z"
   },
   {
    "duration": 46,
    "start_time": "2022-08-19T13:24:31.728Z"
   },
   {
    "duration": 10,
    "start_time": "2022-08-19T13:24:35.234Z"
   },
   {
    "duration": 16,
    "start_time": "2022-08-19T13:24:36.164Z"
   },
   {
    "duration": 8,
    "start_time": "2022-08-19T13:25:20.251Z"
   },
   {
    "duration": 28,
    "start_time": "2022-08-19T13:30:00.815Z"
   },
   {
    "duration": 29,
    "start_time": "2022-08-19T13:30:31.959Z"
   },
   {
    "duration": 33,
    "start_time": "2022-08-19T13:31:03.895Z"
   },
   {
    "duration": 18,
    "start_time": "2022-08-19T13:31:34.237Z"
   },
   {
    "duration": 18,
    "start_time": "2022-08-19T13:32:34.009Z"
   },
   {
    "duration": 19,
    "start_time": "2022-08-19T13:32:48.720Z"
   },
   {
    "duration": 8,
    "start_time": "2022-08-19T13:33:02.879Z"
   },
   {
    "duration": 26,
    "start_time": "2022-08-19T13:33:04.222Z"
   },
   {
    "duration": 19,
    "start_time": "2022-08-19T13:33:13.407Z"
   },
   {
    "duration": 17,
    "start_time": "2022-08-19T13:33:19.375Z"
   },
   {
    "duration": 19,
    "start_time": "2022-08-19T13:36:43.413Z"
   },
   {
    "duration": 16,
    "start_time": "2022-08-19T13:37:19.036Z"
   },
   {
    "duration": 15,
    "start_time": "2022-08-19T13:37:26.902Z"
   },
   {
    "duration": 16,
    "start_time": "2022-08-19T13:37:53.145Z"
   },
   {
    "duration": 17,
    "start_time": "2022-08-19T13:38:06.606Z"
   },
   {
    "duration": 18,
    "start_time": "2022-08-19T13:38:16.416Z"
   },
   {
    "duration": 45,
    "start_time": "2022-08-19T13:38:48.278Z"
   },
   {
    "duration": 11,
    "start_time": "2022-08-19T13:38:49.313Z"
   },
   {
    "duration": 22,
    "start_time": "2022-08-19T13:38:51.159Z"
   },
   {
    "duration": 8,
    "start_time": "2022-08-19T13:38:54.314Z"
   },
   {
    "duration": 781,
    "start_time": "2022-08-19T13:38:56.438Z"
   },
   {
    "duration": 200,
    "start_time": "2022-08-19T13:41:23.372Z"
   },
   {
    "duration": 743,
    "start_time": "2022-08-19T13:42:05.606Z"
   },
   {
    "duration": 57,
    "start_time": "2022-08-19T17:20:01.166Z"
   },
   {
    "duration": 1497,
    "start_time": "2022-08-19T17:20:08.272Z"
   },
   {
    "duration": 12,
    "start_time": "2022-08-19T17:20:09.772Z"
   },
   {
    "duration": 17,
    "start_time": "2022-08-19T17:20:09.786Z"
   },
   {
    "duration": 10,
    "start_time": "2022-08-19T17:20:09.805Z"
   },
   {
    "duration": 449,
    "start_time": "2022-08-19T17:20:09.817Z"
   },
   {
    "duration": 11959,
    "start_time": "2022-08-19T17:20:10.268Z"
   },
   {
    "duration": 0,
    "start_time": "2022-08-19T17:22:25.871Z"
   },
   {
    "duration": 30194,
    "start_time": "2022-08-19T17:23:42.143Z"
   },
   {
    "duration": 9470,
    "start_time": "2022-08-19T17:24:51.191Z"
   },
   {
    "duration": 9,
    "start_time": "2022-08-19T17:33:11.537Z"
   },
   {
    "duration": 0,
    "start_time": "2022-08-19T17:33:11.665Z"
   },
   {
    "duration": 0,
    "start_time": "2022-08-19T17:33:11.667Z"
   },
   {
    "duration": 0,
    "start_time": "2022-08-19T17:33:11.672Z"
   },
   {
    "duration": 0,
    "start_time": "2022-08-19T17:33:11.674Z"
   },
   {
    "duration": 0,
    "start_time": "2022-08-19T17:33:11.677Z"
   },
   {
    "duration": 19,
    "start_time": "2022-08-19T17:33:26.053Z"
   },
   {
    "duration": 9,
    "start_time": "2022-08-19T17:33:37.735Z"
   },
   {
    "duration": 18,
    "start_time": "2022-08-19T17:33:38.924Z"
   },
   {
    "duration": 46,
    "start_time": "2022-08-19T17:33:41.231Z"
   },
   {
    "duration": 10,
    "start_time": "2022-08-19T17:33:42.771Z"
   },
   {
    "duration": 18,
    "start_time": "2022-08-19T17:33:43.592Z"
   },
   {
    "duration": 8,
    "start_time": "2022-08-19T17:33:45.435Z"
   },
   {
    "duration": 426,
    "start_time": "2022-08-19T17:33:48.443Z"
   },
   {
    "duration": 9170,
    "start_time": "2022-08-19T17:33:58.955Z"
   },
   {
    "duration": 48,
    "start_time": "2022-08-19T17:34:44.973Z"
   },
   {
    "duration": 48105,
    "start_time": "2022-08-19T17:34:49.594Z"
   },
   {
    "duration": 565,
    "start_time": "2022-08-19T17:42:34.149Z"
   },
   {
    "duration": 832,
    "start_time": "2022-08-19T17:44:37.830Z"
   },
   {
    "duration": 6,
    "start_time": "2022-08-19T17:47:32.133Z"
   },
   {
    "duration": 518,
    "start_time": "2022-08-19T17:51:17.902Z"
   },
   {
    "duration": 17,
    "start_time": "2022-08-19T18:03:50.496Z"
   },
   {
    "duration": 15,
    "start_time": "2022-08-19T18:03:54.049Z"
   },
   {
    "duration": 11,
    "start_time": "2022-08-19T18:03:58.974Z"
   },
   {
    "duration": 12,
    "start_time": "2022-08-19T18:04:03.235Z"
   },
   {
    "duration": 625,
    "start_time": "2022-08-19T18:09:57.191Z"
   },
   {
    "duration": 10,
    "start_time": "2022-08-19T18:11:49.761Z"
   },
   {
    "duration": 634,
    "start_time": "2022-08-19T18:11:51.866Z"
   },
   {
    "duration": 13,
    "start_time": "2022-08-19T18:13:41.408Z"
   },
   {
    "duration": 303,
    "start_time": "2022-08-19T18:14:35.608Z"
   },
   {
    "duration": 249,
    "start_time": "2022-08-19T18:16:49.874Z"
   },
   {
    "duration": 554,
    "start_time": "2022-08-19T18:16:52.959Z"
   },
   {
    "duration": 507,
    "start_time": "2022-08-19T18:16:55.293Z"
   },
   {
    "duration": 468,
    "start_time": "2022-08-19T18:16:59.431Z"
   },
   {
    "duration": 943,
    "start_time": "2022-08-19T18:22:29.046Z"
   },
   {
    "duration": 874,
    "start_time": "2022-08-19T18:22:37.786Z"
   },
   {
    "duration": 961,
    "start_time": "2022-08-19T18:22:47.911Z"
   },
   {
    "duration": 772,
    "start_time": "2022-08-19T18:22:59.097Z"
   },
   {
    "duration": 1686,
    "start_time": "2022-08-20T16:53:29.200Z"
   },
   {
    "duration": 13,
    "start_time": "2022-08-20T16:53:30.899Z"
   },
   {
    "duration": 43,
    "start_time": "2022-08-20T16:53:30.913Z"
   },
   {
    "duration": 26,
    "start_time": "2022-08-20T16:53:30.958Z"
   },
   {
    "duration": 13,
    "start_time": "2022-08-20T16:53:30.995Z"
   },
   {
    "duration": 415,
    "start_time": "2022-08-20T16:53:31.010Z"
   },
   {
    "duration": 8837,
    "start_time": "2022-08-20T16:53:31.427Z"
   },
   {
    "duration": 0,
    "start_time": "2022-08-20T16:56:19.130Z"
   },
   {
    "duration": 0,
    "start_time": "2022-08-20T16:56:19.131Z"
   },
   {
    "duration": 0,
    "start_time": "2022-08-20T16:56:19.133Z"
   },
   {
    "duration": 48,
    "start_time": "2022-08-20T16:58:21.013Z"
   },
   {
    "duration": 12,
    "start_time": "2022-08-20T16:58:25.454Z"
   },
   {
    "duration": 26,
    "start_time": "2022-08-20T16:58:26.204Z"
   },
   {
    "duration": 11,
    "start_time": "2022-08-20T16:58:40.303Z"
   },
   {
    "duration": 7,
    "start_time": "2022-08-20T16:58:42.650Z"
   },
   {
    "duration": 434,
    "start_time": "2022-08-20T16:58:44.181Z"
   },
   {
    "duration": 9253,
    "start_time": "2022-08-20T16:58:45.921Z"
   },
   {
    "duration": 96489,
    "start_time": "2022-08-20T17:00:26.109Z"
   },
   {
    "duration": 508,
    "start_time": "2022-08-20T17:02:02.686Z"
   },
   {
    "duration": 864,
    "start_time": "2022-08-20T17:02:03.195Z"
   },
   {
    "duration": 452,
    "start_time": "2022-08-20T17:02:04.060Z"
   },
   {
    "duration": 12,
    "start_time": "2022-08-20T17:29:27.569Z"
   },
   {
    "duration": 615,
    "start_time": "2022-08-20T17:29:28.712Z"
   },
   {
    "duration": 11,
    "start_time": "2022-08-20T17:29:31.319Z"
   },
   {
    "duration": 346,
    "start_time": "2022-08-20T17:29:31.742Z"
   },
   {
    "duration": 944,
    "start_time": "2022-08-20T17:29:34.037Z"
   },
   {
    "duration": 74075,
    "start_time": "2022-08-20T17:29:38.174Z"
   },
   {
    "duration": 1264,
    "start_time": "2022-08-20T18:13:48.172Z"
   },
   {
    "duration": 1504,
    "start_time": "2022-08-20T18:14:14.827Z"
   },
   {
    "duration": 70519,
    "start_time": "2022-08-20T18:14:50.122Z"
   },
   {
    "duration": 1468,
    "start_time": "2022-08-20T18:16:00.643Z"
   },
   {
    "duration": 1530,
    "start_time": "2022-08-20T18:16:27.470Z"
   },
   {
    "duration": 1354,
    "start_time": "2022-08-20T18:17:09.549Z"
   },
   {
    "duration": 1389,
    "start_time": "2022-08-20T18:17:23.800Z"
   },
   {
    "duration": 1551,
    "start_time": "2022-08-20T18:17:50.917Z"
   },
   {
    "duration": 45,
    "start_time": "2022-08-20T18:20:05.676Z"
   },
   {
    "duration": 3654,
    "start_time": "2022-08-20T18:25:45.979Z"
   },
   {
    "duration": 3557,
    "start_time": "2022-08-20T18:27:56.592Z"
   },
   {
    "duration": 40991,
    "start_time": "2022-08-20T18:31:33.251Z"
   },
   {
    "duration": 62,
    "start_time": "2022-08-20T18:32:46.176Z"
   },
   {
    "duration": 59,
    "start_time": "2022-08-20T18:33:05.628Z"
   },
   {
    "duration": 65,
    "start_time": "2022-08-20T18:33:30.752Z"
   },
   {
    "duration": 62,
    "start_time": "2022-08-20T18:33:35.926Z"
   },
   {
    "duration": 30149,
    "start_time": "2022-08-20T18:34:26.566Z"
   },
   {
    "duration": 11565,
    "start_time": "2022-08-20T18:35:21.384Z"
   },
   {
    "duration": 11437,
    "start_time": "2022-08-20T18:35:51.219Z"
   },
   {
    "duration": 62,
    "start_time": "2022-08-20T18:36:19.554Z"
   },
   {
    "duration": 56,
    "start_time": "2022-08-20T18:36:22.580Z"
   },
   {
    "duration": 10276,
    "start_time": "2022-08-20T18:36:41.312Z"
   },
   {
    "duration": 10313,
    "start_time": "2022-08-20T18:37:18.474Z"
   },
   {
    "duration": 9528,
    "start_time": "2022-08-20T18:37:57.191Z"
   },
   {
    "duration": 3295,
    "start_time": "2022-08-20T18:39:23.706Z"
   },
   {
    "duration": 3540,
    "start_time": "2022-08-20T18:40:20.912Z"
   },
   {
    "duration": 3631,
    "start_time": "2022-08-20T18:40:41.673Z"
   },
   {
    "duration": 9,
    "start_time": "2022-08-20T18:53:02.235Z"
   },
   {
    "duration": 2255,
    "start_time": "2022-08-20T20:41:20.188Z"
   },
   {
    "duration": 15,
    "start_time": "2022-08-20T20:41:22.485Z"
   },
   {
    "duration": 20,
    "start_time": "2022-08-20T20:41:22.501Z"
   },
   {
    "duration": 67,
    "start_time": "2022-08-20T20:41:22.522Z"
   },
   {
    "duration": 5,
    "start_time": "2022-08-20T20:41:22.591Z"
   },
   {
    "duration": 803,
    "start_time": "2022-08-20T20:41:22.597Z"
   },
   {
    "duration": 17885,
    "start_time": "2022-08-20T20:41:23.401Z"
   },
   {
    "duration": 39798,
    "start_time": "2022-08-20T20:41:41.288Z"
   },
   {
    "duration": 994,
    "start_time": "2022-08-20T20:42:21.091Z"
   },
   {
    "duration": 1498,
    "start_time": "2022-08-20T20:42:22.087Z"
   },
   {
    "duration": 902,
    "start_time": "2022-08-20T20:42:23.587Z"
   },
   {
    "duration": 105,
    "start_time": "2022-08-20T20:42:24.492Z"
   },
   {
    "duration": 1187,
    "start_time": "2022-08-20T20:42:24.599Z"
   },
   {
    "duration": 102,
    "start_time": "2022-08-20T20:42:25.789Z"
   },
   {
    "duration": 499,
    "start_time": "2022-08-20T20:42:25.893Z"
   },
   {
    "duration": 1604,
    "start_time": "2022-08-20T20:42:26.484Z"
   },
   {
    "duration": 80051,
    "start_time": "2022-08-20T20:42:28.090Z"
   },
   {
    "duration": 1310,
    "start_time": "2022-08-20T20:43:48.144Z"
   },
   {
    "duration": 1506,
    "start_time": "2022-08-20T20:43:49.455Z"
   },
   {
    "duration": 10128,
    "start_time": "2022-08-20T20:43:50.962Z"
   },
   {
    "duration": 9806,
    "start_time": "2022-08-20T20:44:01.092Z"
   },
   {
    "duration": 3180,
    "start_time": "2022-08-20T20:44:10.899Z"
   },
   {
    "duration": 3576,
    "start_time": "2022-08-20T20:44:14.081Z"
   },
   {
    "duration": 4,
    "start_time": "2022-08-20T21:13:12.173Z"
   },
   {
    "duration": 2872,
    "start_time": "2022-08-20T21:14:18.479Z"
   },
   {
    "duration": 1839,
    "start_time": "2022-08-20T21:14:37.961Z"
   },
   {
    "duration": 1813,
    "start_time": "2022-08-20T21:14:55.738Z"
   },
   {
    "duration": 5,
    "start_time": "2022-08-20T21:15:44.004Z"
   }
  ],
  "kernelspec": {
   "display_name": "Python 3 (ipykernel)",
   "language": "python",
   "name": "python3"
  },
  "language_info": {
   "codemirror_mode": {
    "name": "ipython",
    "version": 3
   },
   "file_extension": ".py",
   "mimetype": "text/x-python",
   "name": "python",
   "nbconvert_exporter": "python",
   "pygments_lexer": "ipython3",
   "version": "3.9.12"
  },
  "toc": {
   "base_numbering": 1,
   "nav_menu": {
    "height": "316px",
    "width": "337px"
   },
   "number_sections": true,
   "sideBar": true,
   "skip_h1_title": true,
   "title_cell": "Содержание",
   "title_sidebar": "Contents",
   "toc_cell": true,
   "toc_position": {},
   "toc_section_display": true,
   "toc_window_display": true
  }
 },
 "nbformat": 4,
 "nbformat_minor": 2
}
