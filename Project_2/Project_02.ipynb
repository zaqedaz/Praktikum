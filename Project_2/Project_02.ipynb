{
 "cells": [
  {
   "cell_type": "markdown",
   "id": "c81daeeb",
   "metadata": {
    "deletable": false,
    "id": "c81daeeb"
   },
   "source": [
    "# Исследование надежности заемщиков\n"
   ]
  },
  {
   "cell_type": "markdown",
   "id": "744d7639",
   "metadata": {
    "deletable": false,
    "id": "744d7639"
   },
   "source": [
    "## Откройте таблицу и изучите общую информацию о данных"
   ]
  },
  {
   "cell_type": "markdown",
   "id": "e7a14c31",
   "metadata": {
    "deletable": false,
    "id": "e7a14c31"
   },
   "source": [
    "**Задание 1. Импортируйте библиотеку pandas. Считайте данные из csv-файла в датафрейм и сохраните в переменную `data`. Путь к файлу:**\n",
    "\n",
    "`/datasets/data.csv`"
   ]
  },
  {
   "cell_type": "code",
   "execution_count": 1,
   "id": "7bcf75c9",
   "metadata": {
    "deletable": false,
    "id": "7bcf75c9"
   },
   "outputs": [],
   "source": [
    "import pandas as pd\n",
    "data = pd.read_csv('datasets/data.csv')"
   ]
  },
  {
   "cell_type": "markdown",
   "id": "b8038fe3",
   "metadata": {
    "deletable": false,
    "id": "b8038fe3"
   },
   "source": [
    "**Задание 2. Выведите первые 20 строчек датафрейма `data` на экран.**"
   ]
  },
  {
   "cell_type": "code",
   "execution_count": 30,
   "id": "2a7cab99",
   "metadata": {
    "deletable": false,
    "id": "2a7cab99",
    "outputId": "1a8f3ef2-d323-4ec2-ddf7-89670b5944c4"
   },
   "outputs": [
    {
     "data": {
      "text/html": [
       "<div>\n",
       "<style scoped>\n",
       "    .dataframe tbody tr th:only-of-type {\n",
       "        vertical-align: middle;\n",
       "    }\n",
       "\n",
       "    .dataframe tbody tr th {\n",
       "        vertical-align: top;\n",
       "    }\n",
       "\n",
       "    .dataframe thead th {\n",
       "        text-align: right;\n",
       "    }\n",
       "</style>\n",
       "<table border=\"1\" class=\"dataframe\">\n",
       "  <thead>\n",
       "    <tr style=\"text-align: right;\">\n",
       "      <th></th>\n",
       "      <th>children</th>\n",
       "      <th>days_employed</th>\n",
       "      <th>dob_years</th>\n",
       "      <th>education</th>\n",
       "      <th>education_id</th>\n",
       "      <th>family_status</th>\n",
       "      <th>family_status_id</th>\n",
       "      <th>gender</th>\n",
       "      <th>income_type</th>\n",
       "      <th>debt</th>\n",
       "      <th>total_income</th>\n",
       "      <th>purpose</th>\n",
       "      <th>total_income_category</th>\n",
       "      <th>purpose_category</th>\n",
       "    </tr>\n",
       "  </thead>\n",
       "  <tbody>\n",
       "    <tr>\n",
       "      <th>0</th>\n",
       "      <td>1</td>\n",
       "      <td>8437.673028</td>\n",
       "      <td>42</td>\n",
       "      <td>высшее</td>\n",
       "      <td>0</td>\n",
       "      <td>женат / замужем</td>\n",
       "      <td>0</td>\n",
       "      <td>F</td>\n",
       "      <td>сотрудник</td>\n",
       "      <td>0</td>\n",
       "      <td>253875</td>\n",
       "      <td>покупка жилья</td>\n",
       "      <td>B</td>\n",
       "      <td>операции с недвижимостью</td>\n",
       "    </tr>\n",
       "    <tr>\n",
       "      <th>1</th>\n",
       "      <td>1</td>\n",
       "      <td>4024.803754</td>\n",
       "      <td>36</td>\n",
       "      <td>среднее</td>\n",
       "      <td>1</td>\n",
       "      <td>женат / замужем</td>\n",
       "      <td>0</td>\n",
       "      <td>F</td>\n",
       "      <td>сотрудник</td>\n",
       "      <td>0</td>\n",
       "      <td>112080</td>\n",
       "      <td>приобретение автомобиля</td>\n",
       "      <td>C</td>\n",
       "      <td>операции с автомобилем</td>\n",
       "    </tr>\n",
       "    <tr>\n",
       "      <th>2</th>\n",
       "      <td>0</td>\n",
       "      <td>5623.422610</td>\n",
       "      <td>33</td>\n",
       "      <td>среднее</td>\n",
       "      <td>1</td>\n",
       "      <td>женат / замужем</td>\n",
       "      <td>0</td>\n",
       "      <td>M</td>\n",
       "      <td>сотрудник</td>\n",
       "      <td>0</td>\n",
       "      <td>145885</td>\n",
       "      <td>покупка жилья</td>\n",
       "      <td>C</td>\n",
       "      <td>операции с недвижимостью</td>\n",
       "    </tr>\n",
       "    <tr>\n",
       "      <th>3</th>\n",
       "      <td>3</td>\n",
       "      <td>4124.747207</td>\n",
       "      <td>32</td>\n",
       "      <td>среднее</td>\n",
       "      <td>1</td>\n",
       "      <td>женат / замужем</td>\n",
       "      <td>0</td>\n",
       "      <td>M</td>\n",
       "      <td>сотрудник</td>\n",
       "      <td>0</td>\n",
       "      <td>267628</td>\n",
       "      <td>дополнительное образование</td>\n",
       "      <td>B</td>\n",
       "      <td>получение образования</td>\n",
       "    </tr>\n",
       "    <tr>\n",
       "      <th>4</th>\n",
       "      <td>0</td>\n",
       "      <td>340266.072047</td>\n",
       "      <td>53</td>\n",
       "      <td>среднее</td>\n",
       "      <td>1</td>\n",
       "      <td>гражданский брак</td>\n",
       "      <td>1</td>\n",
       "      <td>F</td>\n",
       "      <td>пенсионер</td>\n",
       "      <td>0</td>\n",
       "      <td>158616</td>\n",
       "      <td>сыграть свадьбу</td>\n",
       "      <td>C</td>\n",
       "      <td>проведение свадьбы</td>\n",
       "    </tr>\n",
       "    <tr>\n",
       "      <th>5</th>\n",
       "      <td>0</td>\n",
       "      <td>926.185831</td>\n",
       "      <td>27</td>\n",
       "      <td>высшее</td>\n",
       "      <td>0</td>\n",
       "      <td>гражданский брак</td>\n",
       "      <td>1</td>\n",
       "      <td>M</td>\n",
       "      <td>компаньон</td>\n",
       "      <td>0</td>\n",
       "      <td>255763</td>\n",
       "      <td>покупка жилья</td>\n",
       "      <td>B</td>\n",
       "      <td>операции с недвижимостью</td>\n",
       "    </tr>\n",
       "    <tr>\n",
       "      <th>6</th>\n",
       "      <td>0</td>\n",
       "      <td>2879.202052</td>\n",
       "      <td>43</td>\n",
       "      <td>высшее</td>\n",
       "      <td>0</td>\n",
       "      <td>женат / замужем</td>\n",
       "      <td>0</td>\n",
       "      <td>F</td>\n",
       "      <td>компаньон</td>\n",
       "      <td>0</td>\n",
       "      <td>240525</td>\n",
       "      <td>операции с жильем</td>\n",
       "      <td>B</td>\n",
       "      <td>операции с недвижимостью</td>\n",
       "    </tr>\n",
       "    <tr>\n",
       "      <th>7</th>\n",
       "      <td>0</td>\n",
       "      <td>152.779569</td>\n",
       "      <td>50</td>\n",
       "      <td>среднее</td>\n",
       "      <td>1</td>\n",
       "      <td>женат / замужем</td>\n",
       "      <td>0</td>\n",
       "      <td>M</td>\n",
       "      <td>сотрудник</td>\n",
       "      <td>0</td>\n",
       "      <td>135823</td>\n",
       "      <td>образование</td>\n",
       "      <td>C</td>\n",
       "      <td>получение образования</td>\n",
       "    </tr>\n",
       "    <tr>\n",
       "      <th>8</th>\n",
       "      <td>2</td>\n",
       "      <td>6929.865299</td>\n",
       "      <td>35</td>\n",
       "      <td>высшее</td>\n",
       "      <td>0</td>\n",
       "      <td>гражданский брак</td>\n",
       "      <td>1</td>\n",
       "      <td>F</td>\n",
       "      <td>сотрудник</td>\n",
       "      <td>0</td>\n",
       "      <td>95856</td>\n",
       "      <td>на проведение свадьбы</td>\n",
       "      <td>C</td>\n",
       "      <td>проведение свадьбы</td>\n",
       "    </tr>\n",
       "    <tr>\n",
       "      <th>9</th>\n",
       "      <td>0</td>\n",
       "      <td>2188.756445</td>\n",
       "      <td>41</td>\n",
       "      <td>среднее</td>\n",
       "      <td>1</td>\n",
       "      <td>женат / замужем</td>\n",
       "      <td>0</td>\n",
       "      <td>M</td>\n",
       "      <td>сотрудник</td>\n",
       "      <td>0</td>\n",
       "      <td>144425</td>\n",
       "      <td>покупка жилья для семьи</td>\n",
       "      <td>C</td>\n",
       "      <td>операции с недвижимостью</td>\n",
       "    </tr>\n",
       "    <tr>\n",
       "      <th>10</th>\n",
       "      <td>2</td>\n",
       "      <td>4171.483647</td>\n",
       "      <td>36</td>\n",
       "      <td>высшее</td>\n",
       "      <td>0</td>\n",
       "      <td>женат / замужем</td>\n",
       "      <td>0</td>\n",
       "      <td>M</td>\n",
       "      <td>компаньон</td>\n",
       "      <td>0</td>\n",
       "      <td>113943</td>\n",
       "      <td>покупка недвижимости</td>\n",
       "      <td>C</td>\n",
       "      <td>операции с недвижимостью</td>\n",
       "    </tr>\n",
       "    <tr>\n",
       "      <th>11</th>\n",
       "      <td>0</td>\n",
       "      <td>792.701887</td>\n",
       "      <td>40</td>\n",
       "      <td>среднее</td>\n",
       "      <td>1</td>\n",
       "      <td>женат / замужем</td>\n",
       "      <td>0</td>\n",
       "      <td>F</td>\n",
       "      <td>сотрудник</td>\n",
       "      <td>0</td>\n",
       "      <td>77069</td>\n",
       "      <td>покупка коммерческой недвижимости</td>\n",
       "      <td>C</td>\n",
       "      <td>операции с недвижимостью</td>\n",
       "    </tr>\n",
       "    <tr>\n",
       "      <th>12</th>\n",
       "      <td>0</td>\n",
       "      <td>365286.622650</td>\n",
       "      <td>65</td>\n",
       "      <td>среднее</td>\n",
       "      <td>1</td>\n",
       "      <td>гражданский брак</td>\n",
       "      <td>1</td>\n",
       "      <td>M</td>\n",
       "      <td>пенсионер</td>\n",
       "      <td>0</td>\n",
       "      <td>118514</td>\n",
       "      <td>сыграть свадьбу</td>\n",
       "      <td>C</td>\n",
       "      <td>проведение свадьбы</td>\n",
       "    </tr>\n",
       "    <tr>\n",
       "      <th>13</th>\n",
       "      <td>0</td>\n",
       "      <td>1846.641941</td>\n",
       "      <td>54</td>\n",
       "      <td>неоконченное высшее</td>\n",
       "      <td>2</td>\n",
       "      <td>женат / замужем</td>\n",
       "      <td>0</td>\n",
       "      <td>F</td>\n",
       "      <td>сотрудник</td>\n",
       "      <td>0</td>\n",
       "      <td>130458</td>\n",
       "      <td>приобретение автомобиля</td>\n",
       "      <td>C</td>\n",
       "      <td>операции с автомобилем</td>\n",
       "    </tr>\n",
       "    <tr>\n",
       "      <th>14</th>\n",
       "      <td>0</td>\n",
       "      <td>1844.956182</td>\n",
       "      <td>56</td>\n",
       "      <td>высшее</td>\n",
       "      <td>0</td>\n",
       "      <td>гражданский брак</td>\n",
       "      <td>1</td>\n",
       "      <td>F</td>\n",
       "      <td>компаньон</td>\n",
       "      <td>1</td>\n",
       "      <td>165127</td>\n",
       "      <td>покупка жилой недвижимости</td>\n",
       "      <td>C</td>\n",
       "      <td>операции с недвижимостью</td>\n",
       "    </tr>\n",
       "    <tr>\n",
       "      <th>15</th>\n",
       "      <td>1</td>\n",
       "      <td>972.364419</td>\n",
       "      <td>26</td>\n",
       "      <td>среднее</td>\n",
       "      <td>1</td>\n",
       "      <td>женат / замужем</td>\n",
       "      <td>0</td>\n",
       "      <td>F</td>\n",
       "      <td>сотрудник</td>\n",
       "      <td>0</td>\n",
       "      <td>116820</td>\n",
       "      <td>строительство собственной недвижимости</td>\n",
       "      <td>C</td>\n",
       "      <td>операции с недвижимостью</td>\n",
       "    </tr>\n",
       "    <tr>\n",
       "      <th>16</th>\n",
       "      <td>0</td>\n",
       "      <td>1719.934226</td>\n",
       "      <td>35</td>\n",
       "      <td>среднее</td>\n",
       "      <td>1</td>\n",
       "      <td>женат / замужем</td>\n",
       "      <td>0</td>\n",
       "      <td>F</td>\n",
       "      <td>сотрудник</td>\n",
       "      <td>0</td>\n",
       "      <td>289202</td>\n",
       "      <td>недвижимость</td>\n",
       "      <td>B</td>\n",
       "      <td>операции с недвижимостью</td>\n",
       "    </tr>\n",
       "    <tr>\n",
       "      <th>17</th>\n",
       "      <td>0</td>\n",
       "      <td>2369.999720</td>\n",
       "      <td>33</td>\n",
       "      <td>высшее</td>\n",
       "      <td>0</td>\n",
       "      <td>гражданский брак</td>\n",
       "      <td>1</td>\n",
       "      <td>M</td>\n",
       "      <td>сотрудник</td>\n",
       "      <td>0</td>\n",
       "      <td>90410</td>\n",
       "      <td>строительство недвижимости</td>\n",
       "      <td>C</td>\n",
       "      <td>операции с недвижимостью</td>\n",
       "    </tr>\n",
       "    <tr>\n",
       "      <th>18</th>\n",
       "      <td>0</td>\n",
       "      <td>400281.136913</td>\n",
       "      <td>53</td>\n",
       "      <td>среднее</td>\n",
       "      <td>1</td>\n",
       "      <td>вдовец / вдова</td>\n",
       "      <td>2</td>\n",
       "      <td>F</td>\n",
       "      <td>пенсионер</td>\n",
       "      <td>0</td>\n",
       "      <td>56823</td>\n",
       "      <td>на покупку подержанного автомобиля</td>\n",
       "      <td>C</td>\n",
       "      <td>операции с автомобилем</td>\n",
       "    </tr>\n",
       "    <tr>\n",
       "      <th>19</th>\n",
       "      <td>0</td>\n",
       "      <td>10038.818549</td>\n",
       "      <td>48</td>\n",
       "      <td>среднее</td>\n",
       "      <td>1</td>\n",
       "      <td>в разводе</td>\n",
       "      <td>3</td>\n",
       "      <td>F</td>\n",
       "      <td>сотрудник</td>\n",
       "      <td>0</td>\n",
       "      <td>242831</td>\n",
       "      <td>на покупку своего автомобиля</td>\n",
       "      <td>B</td>\n",
       "      <td>операции с автомобилем</td>\n",
       "    </tr>\n",
       "  </tbody>\n",
       "</table>\n",
       "</div>"
      ],
      "text/plain": [
       "    children  days_employed  dob_years            education  education_id  \\\n",
       "0          1    8437.673028         42               высшее             0   \n",
       "1          1    4024.803754         36              среднее             1   \n",
       "2          0    5623.422610         33              среднее             1   \n",
       "3          3    4124.747207         32              среднее             1   \n",
       "4          0  340266.072047         53              среднее             1   \n",
       "5          0     926.185831         27               высшее             0   \n",
       "6          0    2879.202052         43               высшее             0   \n",
       "7          0     152.779569         50              среднее             1   \n",
       "8          2    6929.865299         35               высшее             0   \n",
       "9          0    2188.756445         41              среднее             1   \n",
       "10         2    4171.483647         36               высшее             0   \n",
       "11         0     792.701887         40              среднее             1   \n",
       "12         0  365286.622650         65              среднее             1   \n",
       "13         0    1846.641941         54  неоконченное высшее             2   \n",
       "14         0    1844.956182         56               высшее             0   \n",
       "15         1     972.364419         26              среднее             1   \n",
       "16         0    1719.934226         35              среднее             1   \n",
       "17         0    2369.999720         33               высшее             0   \n",
       "18         0  400281.136913         53              среднее             1   \n",
       "19         0   10038.818549         48              среднее             1   \n",
       "\n",
       "       family_status  family_status_id gender income_type  debt  total_income  \\\n",
       "0    женат / замужем                 0      F   сотрудник     0        253875   \n",
       "1    женат / замужем                 0      F   сотрудник     0        112080   \n",
       "2    женат / замужем                 0      M   сотрудник     0        145885   \n",
       "3    женат / замужем                 0      M   сотрудник     0        267628   \n",
       "4   гражданский брак                 1      F   пенсионер     0        158616   \n",
       "5   гражданский брак                 1      M   компаньон     0        255763   \n",
       "6    женат / замужем                 0      F   компаньон     0        240525   \n",
       "7    женат / замужем                 0      M   сотрудник     0        135823   \n",
       "8   гражданский брак                 1      F   сотрудник     0         95856   \n",
       "9    женат / замужем                 0      M   сотрудник     0        144425   \n",
       "10   женат / замужем                 0      M   компаньон     0        113943   \n",
       "11   женат / замужем                 0      F   сотрудник     0         77069   \n",
       "12  гражданский брак                 1      M   пенсионер     0        118514   \n",
       "13   женат / замужем                 0      F   сотрудник     0        130458   \n",
       "14  гражданский брак                 1      F   компаньон     1        165127   \n",
       "15   женат / замужем                 0      F   сотрудник     0        116820   \n",
       "16   женат / замужем                 0      F   сотрудник     0        289202   \n",
       "17  гражданский брак                 1      M   сотрудник     0         90410   \n",
       "18    вдовец / вдова                 2      F   пенсионер     0         56823   \n",
       "19         в разводе                 3      F   сотрудник     0        242831   \n",
       "\n",
       "                                   purpose total_income_category  \\\n",
       "0                            покупка жилья                     B   \n",
       "1                  приобретение автомобиля                     C   \n",
       "2                            покупка жилья                     C   \n",
       "3               дополнительное образование                     B   \n",
       "4                          сыграть свадьбу                     C   \n",
       "5                            покупка жилья                     B   \n",
       "6                        операции с жильем                     B   \n",
       "7                              образование                     C   \n",
       "8                    на проведение свадьбы                     C   \n",
       "9                  покупка жилья для семьи                     C   \n",
       "10                    покупка недвижимости                     C   \n",
       "11       покупка коммерческой недвижимости                     C   \n",
       "12                         сыграть свадьбу                     C   \n",
       "13                 приобретение автомобиля                     C   \n",
       "14              покупка жилой недвижимости                     C   \n",
       "15  строительство собственной недвижимости                     C   \n",
       "16                            недвижимость                     B   \n",
       "17              строительство недвижимости                     C   \n",
       "18      на покупку подержанного автомобиля                     C   \n",
       "19            на покупку своего автомобиля                     B   \n",
       "\n",
       "            purpose_category  \n",
       "0   операции с недвижимостью  \n",
       "1     операции с автомобилем  \n",
       "2   операции с недвижимостью  \n",
       "3      получение образования  \n",
       "4         проведение свадьбы  \n",
       "5   операции с недвижимостью  \n",
       "6   операции с недвижимостью  \n",
       "7      получение образования  \n",
       "8         проведение свадьбы  \n",
       "9   операции с недвижимостью  \n",
       "10  операции с недвижимостью  \n",
       "11  операции с недвижимостью  \n",
       "12        проведение свадьбы  \n",
       "13    операции с автомобилем  \n",
       "14  операции с недвижимостью  \n",
       "15  операции с недвижимостью  \n",
       "16  операции с недвижимостью  \n",
       "17  операции с недвижимостью  \n",
       "18    операции с автомобилем  \n",
       "19    операции с автомобилем  "
      ]
     },
     "execution_count": 30,
     "metadata": {},
     "output_type": "execute_result"
    }
   ],
   "source": [
    "data.head(20)"
   ]
  },
  {
   "cell_type": "markdown",
   "id": "1c12e233",
   "metadata": {
    "deletable": false,
    "id": "1c12e233"
   },
   "source": [
    "**Задание 3. Выведите основную информацию о датафрейме с помощью метода `info()`.**"
   ]
  },
  {
   "cell_type": "code",
   "execution_count": 31,
   "id": "2b757bca",
   "metadata": {
    "deletable": false,
    "id": "2b757bca",
    "outputId": "15376089-8dad-46c9-b520-c05248d43158"
   },
   "outputs": [
    {
     "name": "stdout",
     "output_type": "stream",
     "text": [
      "<class 'pandas.core.frame.DataFrame'>\n",
      "Int64Index: 21348 entries, 0 to 21524\n",
      "Data columns (total 14 columns):\n",
      " #   Column                 Non-Null Count  Dtype  \n",
      "---  ------                 --------------  -----  \n",
      " 0   children               21348 non-null  int64  \n",
      " 1   days_employed          21348 non-null  float64\n",
      " 2   dob_years              21348 non-null  int64  \n",
      " 3   education              21348 non-null  object \n",
      " 4   education_id           21348 non-null  int64  \n",
      " 5   family_status          21348 non-null  object \n",
      " 6   family_status_id       21348 non-null  int64  \n",
      " 7   gender                 21348 non-null  object \n",
      " 8   income_type            21348 non-null  object \n",
      " 9   debt                   21348 non-null  int64  \n",
      " 10  total_income           21348 non-null  int32  \n",
      " 11  purpose                21348 non-null  object \n",
      " 12  total_income_category  21348 non-null  object \n",
      " 13  purpose_category       21348 non-null  object \n",
      "dtypes: float64(1), int32(1), int64(5), object(7)\n",
      "memory usage: 2.4+ MB\n"
     ]
    }
   ],
   "source": [
    "data.info()"
   ]
  },
  {
   "cell_type": "markdown",
   "id": "333ec665",
   "metadata": {
    "deletable": false,
    "id": "333ec665"
   },
   "source": [
    "## Предобработка данных"
   ]
  },
  {
   "cell_type": "markdown",
   "id": "02d92d53",
   "metadata": {
    "deletable": false,
    "id": "02d92d53"
   },
   "source": [
    "### Удаление пропусков"
   ]
  },
  {
   "cell_type": "markdown",
   "id": "cd84967c",
   "metadata": {
    "deletable": false,
    "id": "cd84967c"
   },
   "source": [
    "**Задание 4. Выведите количество пропущенных значений для каждого столбца. Используйте комбинацию двух методов.**"
   ]
  },
  {
   "cell_type": "code",
   "execution_count": 4,
   "id": "7f9b2309",
   "metadata": {
    "deletable": false,
    "id": "7f9b2309",
    "outputId": "81f4d817-781c-465c-ed15-91ce4446810d"
   },
   "outputs": [
    {
     "data": {
      "text/plain": [
       "children               0\n",
       "days_employed       2174\n",
       "dob_years              0\n",
       "education              0\n",
       "education_id           0\n",
       "family_status          0\n",
       "family_status_id       0\n",
       "gender                 0\n",
       "income_type            0\n",
       "debt                   0\n",
       "total_income        2174\n",
       "purpose                0\n",
       "dtype: int64"
      ]
     },
     "execution_count": 4,
     "metadata": {},
     "output_type": "execute_result"
    }
   ],
   "source": [
    "data.isna().sum()"
   ]
  },
  {
   "cell_type": "markdown",
   "id": "db86e27b",
   "metadata": {
    "deletable": false,
    "id": "db86e27b"
   },
   "source": [
    "**Задание 5. В двух столбцах есть пропущенные значения. Один из них — `days_employed`. Пропуски в этом столбце вы обработаете на следующем этапе. Другой столбец с пропущенными значениями — `total_income` — хранит данные о доходах. На сумму дохода сильнее всего влияет тип занятости, поэтому заполнить пропуски в этом столбце нужно медианным значением по каждому типу из столбца `income_type`. Например, у человека с типом занятости `сотрудник` пропуск в столбце `total_income` должен быть заполнен медианным доходом среди всех записей с тем же типом.**"
   ]
  },
  {
   "cell_type": "code",
   "execution_count": 5,
   "id": "42006a93",
   "metadata": {
    "deletable": false,
    "id": "42006a93"
   },
   "outputs": [],
   "source": [
    "for t in data['income_type'].unique():\n",
    "    data.loc[(data['income_type'] == t) & (data['total_income'].isna()), 'total_income'] = \\\n",
    "    data.loc[(data['income_type'] == t), 'total_income'].median()"
   ]
  },
  {
   "cell_type": "markdown",
   "id": "c6db2628",
   "metadata": {},
   "source": [
    "или\n",
    "\n",
    "group = data.groupby(['income_type'])\n",
    "data['total_income'] = grp.total_income.apply(lambda x: x.fillna(x.median()))\n"
   ]
  },
  {
   "cell_type": "markdown",
   "id": "89da5ece",
   "metadata": {
    "deletable": false,
    "id": "89da5ece"
   },
   "source": [
    "### Обработка аномальных значений"
   ]
  },
  {
   "cell_type": "markdown",
   "id": "57964554",
   "metadata": {
    "deletable": false,
    "id": "57964554"
   },
   "source": [
    "**Задание 6. В данных могут встречаться артефакты (аномалии) — значения, которые не отражают действительность и появились по какой-то ошибке. таким артефактом будет отрицательное количество дней трудового стажа в столбце `days_employed`. Для реальных данных это нормально. Обработайте значения в этом столбце: замените все отрицательные значения положительными с помощью метода `abs()`.**"
   ]
  },
  {
   "cell_type": "code",
   "execution_count": 6,
   "id": "f6f055bf",
   "metadata": {
    "deletable": false,
    "id": "f6f055bf"
   },
   "outputs": [],
   "source": [
    "data['days_employed'] = data['days_employed'].abs()"
   ]
  },
  {
   "cell_type": "markdown",
   "id": "6107dd2f",
   "metadata": {
    "deletable": false,
    "id": "6107dd2f"
   },
   "source": [
    "**Задание 7. Для каждого типа занятости выведите медианное значение трудового стажа `days_employed` в днях.**"
   ]
  },
  {
   "cell_type": "code",
   "execution_count": 7,
   "id": "85a5faf6",
   "metadata": {
    "deletable": false,
    "id": "85a5faf6",
    "outputId": "801ef80e-522b-4668-f34e-565af7432bcf"
   },
   "outputs": [
    {
     "data": {
      "text/plain": [
       "income_type\n",
       "безработный        366413.652744\n",
       "в декрете            3296.759962\n",
       "госслужащий          2689.368353\n",
       "компаньон            1547.382223\n",
       "пенсионер          365213.306266\n",
       "предприниматель       520.848083\n",
       "сотрудник            1574.202821\n",
       "студент               578.751554\n",
       "Name: days_employed, dtype: float64"
      ]
     },
     "execution_count": 7,
     "metadata": {},
     "output_type": "execute_result"
    }
   ],
   "source": [
    "data.groupby('income_type')['days_employed'].agg('median')"
   ]
  },
  {
   "cell_type": "markdown",
   "id": "38d1a030",
   "metadata": {
    "deletable": false,
    "id": "38d1a030"
   },
   "source": [
    "У двух типов (безработные и пенсионеры) получатся аномально большие значения. Исправить такие значения сложно, поэтому оставьте их как есть. Тем более этот столбец не понадобится вам для исследования."
   ]
  },
  {
   "cell_type": "markdown",
   "id": "d8a9f147",
   "metadata": {
    "deletable": false,
    "id": "d8a9f147"
   },
   "source": [
    "**Задание 8. Выведите перечень уникальных значений столбца `children`.**"
   ]
  },
  {
   "cell_type": "code",
   "execution_count": 8,
   "id": "ef5056eb",
   "metadata": {
    "deletable": false,
    "id": "ef5056eb",
    "outputId": "6975b15c-7f95-4697-d16d-a0c79b657b03"
   },
   "outputs": [
    {
     "data": {
      "text/plain": [
       "array([ 1,  0,  3,  2, -1,  4, 20,  5], dtype=int64)"
      ]
     },
     "execution_count": 8,
     "metadata": {},
     "output_type": "execute_result"
    }
   ],
   "source": [
    "data['children'].unique()"
   ]
  },
  {
   "cell_type": "markdown",
   "id": "40b9ebf2",
   "metadata": {
    "deletable": false,
    "id": "40b9ebf2"
   },
   "source": [
    "**Задание 9. В столбце `children` есть два аномальных значения. Удалите строки, в которых встречаются такие аномальные значения из датафрейма `data`.**"
   ]
  },
  {
   "cell_type": "code",
   "execution_count": 9,
   "id": "3ff9801d",
   "metadata": {
    "deletable": false,
    "id": "3ff9801d"
   },
   "outputs": [],
   "source": [
    "data = data[(data['children'] != -1) & (data['children'] != 20)]"
   ]
  },
  {
   "cell_type": "markdown",
   "id": "bbc4d0ce",
   "metadata": {
    "deletable": false,
    "id": "bbc4d0ce"
   },
   "source": [
    "**Задание 10. Ещё раз выведите перечень уникальных значений столбца `children`, чтобы убедиться, что артефакты удалены.**"
   ]
  },
  {
   "cell_type": "code",
   "execution_count": 10,
   "id": "ad4fa8b7",
   "metadata": {
    "deletable": false,
    "id": "ad4fa8b7",
    "outputId": "b2097101-d49d-44d9-901b-32a65c9463d1"
   },
   "outputs": [
    {
     "data": {
      "text/plain": [
       "array([1, 0, 3, 2, 4, 5], dtype=int64)"
      ]
     },
     "execution_count": 10,
     "metadata": {},
     "output_type": "execute_result"
    }
   ],
   "source": [
    "data['children'].unique()"
   ]
  },
  {
   "cell_type": "markdown",
   "id": "75440b63",
   "metadata": {
    "deletable": false,
    "id": "75440b63"
   },
   "source": [
    "### Удаление пропусков (продолжение)"
   ]
  },
  {
   "cell_type": "markdown",
   "id": "f4ea573f",
   "metadata": {
    "deletable": false,
    "id": "f4ea573f"
   },
   "source": [
    "**Задание 11. Заполните пропуски в столбце `days_employed` медианными значениями по каждого типа занятости `income_type`.**"
   ]
  },
  {
   "cell_type": "code",
   "execution_count": 11,
   "id": "af6b1a7e",
   "metadata": {
    "deletable": false,
    "id": "af6b1a7e"
   },
   "outputs": [],
   "source": [
    "for t in data['income_type'].unique():\n",
    "    data.loc[(data['income_type'] == t) & (data['days_employed'].isna()), 'days_employed'] = \\\n",
    "    data.loc[(data['income_type'] == t), 'days_employed'].median()"
   ]
  },
  {
   "cell_type": "markdown",
   "id": "2753f40d",
   "metadata": {
    "deletable": false,
    "id": "2753f40d"
   },
   "source": [
    "**Задание 12. Убедитесь, что все пропуски заполнены. Проверьте себя и ещё раз выведите количество пропущенных значений для каждого столбца с помощью двух методов.**"
   ]
  },
  {
   "cell_type": "code",
   "execution_count": 12,
   "id": "55f78bc2",
   "metadata": {
    "deletable": false,
    "id": "55f78bc2",
    "outputId": "8da1e4e1-358e-4e87-98c9-f261bce0a7b2"
   },
   "outputs": [
    {
     "data": {
      "text/plain": [
       "children            0\n",
       "days_employed       0\n",
       "dob_years           0\n",
       "education           0\n",
       "education_id        0\n",
       "family_status       0\n",
       "family_status_id    0\n",
       "gender              0\n",
       "income_type         0\n",
       "debt                0\n",
       "total_income        0\n",
       "purpose             0\n",
       "dtype: int64"
      ]
     },
     "execution_count": 12,
     "metadata": {},
     "output_type": "execute_result"
    }
   ],
   "source": [
    "data.isna().sum()"
   ]
  },
  {
   "cell_type": "markdown",
   "id": "ddc81e43",
   "metadata": {
    "deletable": false,
    "id": "ddc81e43"
   },
   "source": [
    "### Изменение типов данных"
   ]
  },
  {
   "cell_type": "markdown",
   "id": "42d19d24",
   "metadata": {
    "deletable": false,
    "id": "42d19d24"
   },
   "source": [
    "**Задание 13. Замените вещественный тип данных в столбце `total_income` на целочисленный с помощью метода `astype()`.**"
   ]
  },
  {
   "cell_type": "code",
   "execution_count": 13,
   "id": "920b65ad",
   "metadata": {
    "deletable": false,
    "id": "920b65ad"
   },
   "outputs": [],
   "source": [
    "data['total_income'] = data['total_income'].astype(int)"
   ]
  },
  {
   "cell_type": "markdown",
   "id": "80c420ba",
   "metadata": {
    "deletable": false,
    "id": "80c420ba"
   },
   "source": [
    "### Обработка дубликатов"
   ]
  },
  {
   "cell_type": "markdown",
   "id": "dc587695",
   "metadata": {
    "deletable": false,
    "id": "dc587695"
   },
   "source": [
    "**Задание 14. Выведите на экран количество строк-дубликатов в данных. Если такие строки присутствуют, удалите их.**"
   ]
  },
  {
   "cell_type": "code",
   "execution_count": 14,
   "id": "3ee445e4",
   "metadata": {
    "deletable": false,
    "id": "3ee445e4",
    "outputId": "9684deba-1934-42d1-99e1-cda61740f822"
   },
   "outputs": [
    {
     "data": {
      "text/plain": [
       "54"
      ]
     },
     "execution_count": 14,
     "metadata": {},
     "output_type": "execute_result"
    }
   ],
   "source": [
    "data.duplicated().sum()"
   ]
  },
  {
   "cell_type": "code",
   "execution_count": 15,
   "id": "8575fe05",
   "metadata": {
    "deletable": false,
    "id": "8575fe05"
   },
   "outputs": [],
   "source": [
    "data = data.drop_duplicates()"
   ]
  },
  {
   "cell_type": "markdown",
   "id": "9771a76c",
   "metadata": {
    "deletable": false,
    "id": "9771a76c"
   },
   "source": [
    "**Задание 15. Обработайте неявные дубликаты в столбце `education`. В этом столбце есть одни и те же значения, но записанные по-разному: с использованием заглавных и строчных букв. Приведите их к нижнему регистру. Проверьте остальные столбцы.**"
   ]
  },
  {
   "cell_type": "code",
   "execution_count": 16,
   "id": "a9f8e2bf",
   "metadata": {
    "deletable": false,
    "id": "a9f8e2bf"
   },
   "outputs": [],
   "source": [
    "data['education'] = data['education'].str.lower()"
   ]
  },
  {
   "cell_type": "markdown",
   "id": "9904cf55",
   "metadata": {
    "deletable": false,
    "id": "9904cf55"
   },
   "source": [
    "### Категоризация данных"
   ]
  },
  {
   "cell_type": "markdown",
   "id": "72fcc8a2",
   "metadata": {
    "deletable": false,
    "id": "72fcc8a2"
   },
   "source": [
    "**Задание 16. На основании диапазонов, указанных ниже, создайте в датафрейме `data` столбец `total_income_category` с категориями:**\n",
    "\n",
    "- 0–30000 — `'E'`;\n",
    "- 30001–50000 — `'D'`;\n",
    "- 50001–200000 — `'C'`;\n",
    "- 200001–1000000 — `'B'`;\n",
    "- 1000001 и выше — `'A'`.\n",
    "\n",
    "\n",
    "**Например, кредитополучателю с доходом 25000 нужно назначить категорию `'E'`, а клиенту, получающему 235000, — `'B'`. Используйте собственную функцию с именем `categorize_income()` и метод `apply()`.**"
   ]
  },
  {
   "cell_type": "code",
   "execution_count": 17,
   "id": "e1771346",
   "metadata": {
    "deletable": false,
    "id": "e1771346"
   },
   "outputs": [],
   "source": [
    "def categorize_income(income):\n",
    "    try:\n",
    "        if 0 <= income <= 30000:\n",
    "            return 'E'\n",
    "        elif 30001 <= income <= 50000:\n",
    "            return 'D'\n",
    "        elif 50001 <= income <= 200000:\n",
    "            return 'C'\n",
    "        elif 200001 <= income <= 1000000:\n",
    "            return 'B'\n",
    "        elif income >= 1000001:\n",
    "            return 'A'\n",
    "    except:\n",
    "        pass"
   ]
  },
  {
   "cell_type": "code",
   "execution_count": 18,
   "id": "d5f3586d",
   "metadata": {
    "deletable": false,
    "id": "d5f3586d"
   },
   "outputs": [],
   "source": [
    "data['total_income_category'] = data['total_income'].apply(categorize_income)"
   ]
  },
  {
   "cell_type": "markdown",
   "id": "dde49b5c",
   "metadata": {
    "deletable": false,
    "id": "dde49b5c"
   },
   "source": [
    "**Задание 17. Выведите на экран перечень уникальных целей взятия кредита из столбца `purpose`.**"
   ]
  },
  {
   "cell_type": "code",
   "execution_count": 19,
   "id": "f67ce9b3",
   "metadata": {
    "deletable": false,
    "id": "f67ce9b3",
    "outputId": "673c12d9-7d7e-4ae0-9812-c622c89dd244"
   },
   "outputs": [
    {
     "data": {
      "text/plain": [
       "array(['покупка жилья', 'приобретение автомобиля',\n",
       "       'дополнительное образование', 'сыграть свадьбу',\n",
       "       'операции с жильем', 'образование', 'на проведение свадьбы',\n",
       "       'покупка жилья для семьи', 'покупка недвижимости',\n",
       "       'покупка коммерческой недвижимости', 'покупка жилой недвижимости',\n",
       "       'строительство собственной недвижимости', 'недвижимость',\n",
       "       'строительство недвижимости', 'на покупку подержанного автомобиля',\n",
       "       'на покупку своего автомобиля',\n",
       "       'операции с коммерческой недвижимостью',\n",
       "       'строительство жилой недвижимости', 'жилье',\n",
       "       'операции со своей недвижимостью', 'автомобили',\n",
       "       'заняться образованием', 'сделка с подержанным автомобилем',\n",
       "       'получение образования', 'автомобиль', 'свадьба',\n",
       "       'получение дополнительного образования', 'покупка своего жилья',\n",
       "       'операции с недвижимостью', 'получение высшего образования',\n",
       "       'свой автомобиль', 'сделка с автомобилем',\n",
       "       'профильное образование', 'высшее образование',\n",
       "       'покупка жилья для сдачи', 'на покупку автомобиля', 'ремонт жилью',\n",
       "       'заняться высшим образованием'], dtype=object)"
      ]
     },
     "execution_count": 19,
     "metadata": {},
     "output_type": "execute_result"
    }
   ],
   "source": [
    "data['purpose'].unique()"
   ]
  },
  {
   "cell_type": "markdown",
   "id": "85d0aef0",
   "metadata": {
    "deletable": false,
    "id": "85d0aef0"
   },
   "source": [
    "**Задание 18. Создайте функцию, которая на основании данных из столбца `purpose` сформирует новый столбец `purpose_category`, в который войдут следующие категории:**\n",
    "\n",
    "- `'операции с автомобилем'`,\n",
    "- `'операции с недвижимостью'`,\n",
    "- `'проведение свадьбы'`,\n",
    "- `'получение образования'`.\n",
    "\n",
    "**Например, если в столбце `purpose` находится подстрока `'на покупку автомобиля'`, то в столбце `purpose_category` должна появиться строка `'операции с автомобилем'`.**\n",
    "\n",
    "**Используйте собственную функцию с именем `categorize_purpose()` и метод `apply()`. Изучите данные в столбце `purpose` и определите, какие подстроки помогут вам правильно определить категорию.**"
   ]
  },
  {
   "cell_type": "code",
   "execution_count": 20,
   "id": "e149fab4",
   "metadata": {
    "deletable": false,
    "id": "e149fab4"
   },
   "outputs": [],
   "source": [
    "def categorize_purpose(row):\n",
    "    try:\n",
    "        if 'автом' in row:\n",
    "            return 'операции с автомобилем'\n",
    "        elif 'жил' in row or 'недвиж' in row:\n",
    "            return 'операции с недвижимостью'\n",
    "        elif 'свад' in row:\n",
    "            return 'проведение свадьбы'\n",
    "        elif 'образов' in row:\n",
    "            return 'получение образования'\n",
    "    except:\n",
    "        return 'нет категории'"
   ]
  },
  {
   "cell_type": "code",
   "execution_count": 21,
   "id": "bf36e69b",
   "metadata": {
    "deletable": false,
    "id": "bf36e69b"
   },
   "outputs": [],
   "source": [
    "data['purpose_category'] = data['purpose'].apply(categorize_purpose)"
   ]
  },
  {
   "cell_type": "markdown",
   "id": "09b242bf",
   "metadata": {
    "deletable": false,
    "editable": false,
    "id": "09b242bf"
   },
   "source": [
    "## Исследуйте данные и ответьте на вопросы"
   ]
  },
  {
   "cell_type": "markdown",
   "id": "c5d66278",
   "metadata": {
    "deletable": false,
    "editable": false,
    "id": "c5d66278"
   },
   "source": [
    "**Задание 19. Есть ли зависимость между количеством детей и возвратом кредита в срок?**"
   ]
  },
  {
   "cell_type": "markdown",
   "id": "ea03faf4",
   "metadata": {},
   "source": [
    "Для начала узнаем количество заемщиков по количеству детей"
   ]
  },
  {
   "cell_type": "code",
   "execution_count": 22,
   "id": "ef662854",
   "metadata": {},
   "outputs": [
    {
     "data": {
      "text/plain": [
       "children\n",
       "0    14107\n",
       "1     4809\n",
       "2     2052\n",
       "3      330\n",
       "4       41\n",
       "5        9\n",
       "Name: debt, dtype: int64"
      ]
     },
     "execution_count": 22,
     "metadata": {},
     "output_type": "execute_result"
    }
   ],
   "source": [
    "child_count = data.groupby('children')['debt'].count()\n",
    "child_count"
   ]
  },
  {
   "cell_type": "markdown",
   "id": "d5b0e285",
   "metadata": {},
   "source": [
    "Теперь количество должников в зависимости от количества детей"
   ]
  },
  {
   "cell_type": "code",
   "execution_count": 23,
   "id": "2cacfc4a",
   "metadata": {
    "id": "2cacfc4a"
   },
   "outputs": [
    {
     "data": {
      "text/plain": [
       "children\n",
       "0    1063\n",
       "1     444\n",
       "2     194\n",
       "3      27\n",
       "4       4\n",
       "5       0\n",
       "Name: debt, dtype: int64"
      ]
     },
     "execution_count": 23,
     "metadata": {},
     "output_type": "execute_result"
    }
   ],
   "source": [
    "child_sum = data.groupby('children')['debt'].sum()\n",
    "child_sum# Ваш код будет здесь. Вы можете создавать новые ячейки."
   ]
  },
  {
   "cell_type": "markdown",
   "id": "323ca27f",
   "metadata": {},
   "source": [
    "Объеденим данные выборок в общую таблицу и добавим столбец, в котором будет указано отношение кол-ва должников к кол-ву заемщиков"
   ]
  },
  {
   "cell_type": "code",
   "execution_count": 24,
   "id": "b049f149",
   "metadata": {},
   "outputs": [
    {
     "data": {
      "text/html": [
       "<div>\n",
       "<style scoped>\n",
       "    .dataframe tbody tr th:only-of-type {\n",
       "        vertical-align: middle;\n",
       "    }\n",
       "\n",
       "    .dataframe tbody tr th {\n",
       "        vertical-align: top;\n",
       "    }\n",
       "\n",
       "    .dataframe thead th {\n",
       "        text-align: right;\n",
       "    }\n",
       "</style>\n",
       "<table border=\"1\" class=\"dataframe\">\n",
       "  <thead>\n",
       "    <tr style=\"text-align: right;\">\n",
       "      <th></th>\n",
       "      <th>Заемщики</th>\n",
       "      <th>Должники</th>\n",
       "      <th>Доля должников</th>\n",
       "    </tr>\n",
       "    <tr>\n",
       "      <th>children</th>\n",
       "      <th></th>\n",
       "      <th></th>\n",
       "      <th></th>\n",
       "    </tr>\n",
       "  </thead>\n",
       "  <tbody>\n",
       "    <tr>\n",
       "      <th>4</th>\n",
       "      <td>41</td>\n",
       "      <td>4</td>\n",
       "      <td>0.097561</td>\n",
       "    </tr>\n",
       "    <tr>\n",
       "      <th>2</th>\n",
       "      <td>2052</td>\n",
       "      <td>194</td>\n",
       "      <td>0.094542</td>\n",
       "    </tr>\n",
       "    <tr>\n",
       "      <th>1</th>\n",
       "      <td>4809</td>\n",
       "      <td>444</td>\n",
       "      <td>0.092327</td>\n",
       "    </tr>\n",
       "    <tr>\n",
       "      <th>3</th>\n",
       "      <td>330</td>\n",
       "      <td>27</td>\n",
       "      <td>0.081818</td>\n",
       "    </tr>\n",
       "    <tr>\n",
       "      <th>0</th>\n",
       "      <td>14107</td>\n",
       "      <td>1063</td>\n",
       "      <td>0.075353</td>\n",
       "    </tr>\n",
       "    <tr>\n",
       "      <th>5</th>\n",
       "      <td>9</td>\n",
       "      <td>0</td>\n",
       "      <td>0.000000</td>\n",
       "    </tr>\n",
       "  </tbody>\n",
       "</table>\n",
       "</div>"
      ],
      "text/plain": [
       "          Заемщики  Должники  Доля должников\n",
       "children                                    \n",
       "4               41         4        0.097561\n",
       "2             2052       194        0.094542\n",
       "1             4809       444        0.092327\n",
       "3              330        27        0.081818\n",
       "0            14107      1063        0.075353\n",
       "5                9         0        0.000000"
      ]
     },
     "execution_count": 24,
     "metadata": {},
     "output_type": "execute_result"
    }
   ],
   "source": [
    "debt_child = pd.DataFrame()\n",
    "debt_child['Заемщики'] = child_count\n",
    "debt_child['Должники'] = child_sum\n",
    "debt_child['Доля должников'] = child_sum / child_count \n",
    "debt_child.sort_values('Доля должников', ascending = False)"
   ]
  },
  {
   "cell_type": "markdown",
   "id": "3a6b99ec",
   "metadata": {
    "deletable": false,
    "id": "3a6b99ec"
   },
   "source": [
    "**Вывод:** \n",
    "с увелечением количества детей растёт и доля должников, однако заемщики с тремя детьми чаще платят в срок, чем заемщики с двумя и одним ребенком. Так же количество самих заемщиков сильно уменьшается с увелечением количества детей (всего 50 заемщиков у которых более 3 детей) Возможно, нужна выборка по большему числу заемщиков с детьми, чтоб дать более точную оценку, а пока можно сделать вывод, что бездетные заемщики реже допускают просрочки по кредитам"
   ]
  },
  {
   "cell_type": "code",
   "execution_count": 32,
   "id": "625135e1",
   "metadata": {},
   "outputs": [
    {
     "data": {
      "text/html": [
       "<style type=\"text/css\">\n",
       "</style>\n",
       "<table id=\"T_e833d\">\n",
       "  <thead>\n",
       "    <tr>\n",
       "      <th class=\"blank level0\" >&nbsp;</th>\n",
       "      <th id=\"T_e833d_level0_col0\" class=\"col_heading level0 col0\" >число_клиентов</th>\n",
       "      <th id=\"T_e833d_level0_col1\" class=\"col_heading level0 col1\" >число_должников</th>\n",
       "      <th id=\"T_e833d_level0_col2\" class=\"col_heading level0 col2\" >доля_должников</th>\n",
       "    </tr>\n",
       "    <tr>\n",
       "      <th class=\"index_name level0\" >children</th>\n",
       "      <th class=\"blank col0\" >&nbsp;</th>\n",
       "      <th class=\"blank col1\" >&nbsp;</th>\n",
       "      <th class=\"blank col2\" >&nbsp;</th>\n",
       "    </tr>\n",
       "  </thead>\n",
       "  <tbody>\n",
       "    <tr>\n",
       "      <th id=\"T_e833d_level0_row0\" class=\"row_heading level0 row0\" >0</th>\n",
       "      <td id=\"T_e833d_row0_col0\" class=\"data row0 col0\" >14107</td>\n",
       "      <td id=\"T_e833d_row0_col1\" class=\"data row0 col1\" >1063</td>\n",
       "      <td id=\"T_e833d_row0_col2\" class=\"data row0 col2\" >7.54%</td>\n",
       "    </tr>\n",
       "    <tr>\n",
       "      <th id=\"T_e833d_level0_row1\" class=\"row_heading level0 row1\" >1</th>\n",
       "      <td id=\"T_e833d_row1_col0\" class=\"data row1 col0\" >4809</td>\n",
       "      <td id=\"T_e833d_row1_col1\" class=\"data row1 col1\" >444</td>\n",
       "      <td id=\"T_e833d_row1_col2\" class=\"data row1 col2\" >9.23%</td>\n",
       "    </tr>\n",
       "    <tr>\n",
       "      <th id=\"T_e833d_level0_row2\" class=\"row_heading level0 row2\" >2</th>\n",
       "      <td id=\"T_e833d_row2_col0\" class=\"data row2 col0\" >2052</td>\n",
       "      <td id=\"T_e833d_row2_col1\" class=\"data row2 col1\" >194</td>\n",
       "      <td id=\"T_e833d_row2_col2\" class=\"data row2 col2\" >9.45%</td>\n",
       "    </tr>\n",
       "    <tr>\n",
       "      <th id=\"T_e833d_level0_row3\" class=\"row_heading level0 row3\" >3</th>\n",
       "      <td id=\"T_e833d_row3_col0\" class=\"data row3 col0\" >330</td>\n",
       "      <td id=\"T_e833d_row3_col1\" class=\"data row3 col1\" >27</td>\n",
       "      <td id=\"T_e833d_row3_col2\" class=\"data row3 col2\" >8.18%</td>\n",
       "    </tr>\n",
       "    <tr>\n",
       "      <th id=\"T_e833d_level0_row4\" class=\"row_heading level0 row4\" >4</th>\n",
       "      <td id=\"T_e833d_row4_col0\" class=\"data row4 col0\" >41</td>\n",
       "      <td id=\"T_e833d_row4_col1\" class=\"data row4 col1\" >4</td>\n",
       "      <td id=\"T_e833d_row4_col2\" class=\"data row4 col2\" >9.76%</td>\n",
       "    </tr>\n",
       "    <tr>\n",
       "      <th id=\"T_e833d_level0_row5\" class=\"row_heading level0 row5\" >5</th>\n",
       "      <td id=\"T_e833d_row5_col0\" class=\"data row5 col0\" >9</td>\n",
       "      <td id=\"T_e833d_row5_col1\" class=\"data row5 col1\" >0</td>\n",
       "      <td id=\"T_e833d_row5_col2\" class=\"data row5 col2\" >0.00%</td>\n",
       "    </tr>\n",
       "  </tbody>\n",
       "</table>\n"
      ],
      "text/plain": [
       "<pandas.io.formats.style.Styler at 0x1ee7cb03790>"
      ]
     },
     "execution_count": 32,
     "metadata": {},
     "output_type": "execute_result"
    }
   ],
   "source": [
    "# или так\n",
    "\n",
    "data.groupby('children').agg(число_клиентов=('debt','count'),\n",
    "                             число_должников=('debt','sum'),\n",
    "                             доля_должников=('debt','mean')\n",
    "                             ) \\\n",
    "                        .style.format({'доля_должников' : '{:.2%}'})"
   ]
  },
  {
   "cell_type": "markdown",
   "id": "97be82ca",
   "metadata": {
    "deletable": false,
    "editable": false,
    "id": "97be82ca"
   },
   "source": [
    "**Задание 20. Есть ли зависимость между семейным положением и возвратом кредита в срок?**"
   ]
  },
  {
   "cell_type": "code",
   "execution_count": 26,
   "id": "dc3f7ee8",
   "metadata": {
    "id": "dc3f7ee8"
   },
   "outputs": [
    {
     "data": {
      "text/html": [
       "<div>\n",
       "<style scoped>\n",
       "    .dataframe tbody tr th:only-of-type {\n",
       "        vertical-align: middle;\n",
       "    }\n",
       "\n",
       "    .dataframe tbody tr th {\n",
       "        vertical-align: top;\n",
       "    }\n",
       "\n",
       "    .dataframe thead th {\n",
       "        text-align: right;\n",
       "    }\n",
       "</style>\n",
       "<table border=\"1\" class=\"dataframe\">\n",
       "  <thead>\n",
       "    <tr style=\"text-align: right;\">\n",
       "      <th></th>\n",
       "      <th>Заемщики</th>\n",
       "      <th>Должники</th>\n",
       "      <th>Доля должников</th>\n",
       "    </tr>\n",
       "    <tr>\n",
       "      <th>family_status</th>\n",
       "      <th></th>\n",
       "      <th></th>\n",
       "      <th></th>\n",
       "    </tr>\n",
       "  </thead>\n",
       "  <tbody>\n",
       "    <tr>\n",
       "      <th>Не женат / не замужем</th>\n",
       "      <td>2796</td>\n",
       "      <td>273</td>\n",
       "      <td>0.097639</td>\n",
       "    </tr>\n",
       "    <tr>\n",
       "      <th>гражданский брак</th>\n",
       "      <td>4146</td>\n",
       "      <td>385</td>\n",
       "      <td>0.092861</td>\n",
       "    </tr>\n",
       "    <tr>\n",
       "      <th>женат / замужем</th>\n",
       "      <td>12266</td>\n",
       "      <td>927</td>\n",
       "      <td>0.075575</td>\n",
       "    </tr>\n",
       "    <tr>\n",
       "      <th>в разводе</th>\n",
       "      <td>1189</td>\n",
       "      <td>84</td>\n",
       "      <td>0.070648</td>\n",
       "    </tr>\n",
       "    <tr>\n",
       "      <th>вдовец / вдова</th>\n",
       "      <td>951</td>\n",
       "      <td>63</td>\n",
       "      <td>0.066246</td>\n",
       "    </tr>\n",
       "  </tbody>\n",
       "</table>\n",
       "</div>"
      ],
      "text/plain": [
       "                       Заемщики  Должники  Доля должников\n",
       "family_status                                            \n",
       "Не женат / не замужем      2796       273        0.097639\n",
       "гражданский брак           4146       385        0.092861\n",
       "женат / замужем           12266       927        0.075575\n",
       "в разводе                  1189        84        0.070648\n",
       "вдовец / вдова              951        63        0.066246"
      ]
     },
     "execution_count": 26,
     "metadata": {},
     "output_type": "execute_result"
    }
   ],
   "source": [
    "fam_stat_sum = data.groupby('family_status')['debt'].sum()\n",
    "fam_stat_count =  data.groupby('family_status')['debt'].count()\n",
    "debt_fam = pd.DataFrame()\n",
    "debt_fam['Заемщики'] = fam_stat_count\n",
    "debt_fam['Должники'] = fam_stat_sum\n",
    "debt_fam['Доля должников'] = fam_stat_sum / fam_stat_count\n",
    "debt_fam.sort_values('Доля должников', ascending = False)"
   ]
  },
  {
   "cell_type": "markdown",
   "id": "1cef7837",
   "metadata": {
    "deletable": false,
    "id": "1cef7837"
   },
   "source": [
    "**Вывод:** заемщики, не состоявшие в браке, имеют большую долю просроченных платежей по кредитам, чем остальные заемщики. Заемщики, которые находятся в разводе или овдовели реже остальных допускают просрочек по кредитаам"
   ]
  },
  {
   "cell_type": "markdown",
   "id": "1e8b2fca",
   "metadata": {
    "deletable": false,
    "editable": false,
    "id": "1e8b2fca"
   },
   "source": [
    "**Задание 21. Есть ли зависимость между уровнем дохода и возвратом кредита в срок?**"
   ]
  },
  {
   "cell_type": "code",
   "execution_count": 27,
   "id": "cd7e3720",
   "metadata": {
    "id": "cd7e3720"
   },
   "outputs": [
    {
     "data": {
      "text/html": [
       "<div>\n",
       "<style scoped>\n",
       "    .dataframe tbody tr th:only-of-type {\n",
       "        vertical-align: middle;\n",
       "    }\n",
       "\n",
       "    .dataframe tbody tr th {\n",
       "        vertical-align: top;\n",
       "    }\n",
       "\n",
       "    .dataframe thead th {\n",
       "        text-align: right;\n",
       "    }\n",
       "</style>\n",
       "<table border=\"1\" class=\"dataframe\">\n",
       "  <thead>\n",
       "    <tr style=\"text-align: right;\">\n",
       "      <th></th>\n",
       "      <th>Заемщики</th>\n",
       "      <th>Должники</th>\n",
       "      <th>Доля должников</th>\n",
       "    </tr>\n",
       "    <tr>\n",
       "      <th>total_income_category</th>\n",
       "      <th></th>\n",
       "      <th></th>\n",
       "      <th></th>\n",
       "    </tr>\n",
       "  </thead>\n",
       "  <tbody>\n",
       "    <tr>\n",
       "      <th>E</th>\n",
       "      <td>22</td>\n",
       "      <td>2</td>\n",
       "      <td>0.090909</td>\n",
       "    </tr>\n",
       "    <tr>\n",
       "      <th>C</th>\n",
       "      <td>15938</td>\n",
       "      <td>1353</td>\n",
       "      <td>0.084891</td>\n",
       "    </tr>\n",
       "    <tr>\n",
       "      <th>A</th>\n",
       "      <td>25</td>\n",
       "      <td>2</td>\n",
       "      <td>0.080000</td>\n",
       "    </tr>\n",
       "    <tr>\n",
       "      <th>B</th>\n",
       "      <td>5014</td>\n",
       "      <td>354</td>\n",
       "      <td>0.070602</td>\n",
       "    </tr>\n",
       "    <tr>\n",
       "      <th>D</th>\n",
       "      <td>349</td>\n",
       "      <td>21</td>\n",
       "      <td>0.060172</td>\n",
       "    </tr>\n",
       "  </tbody>\n",
       "</table>\n",
       "</div>"
      ],
      "text/plain": [
       "                       Заемщики  Должники  Доля должников\n",
       "total_income_category                                    \n",
       "E                            22         2        0.090909\n",
       "C                         15938      1353        0.084891\n",
       "A                            25         2        0.080000\n",
       "B                          5014       354        0.070602\n",
       "D                           349        21        0.060172"
      ]
     },
     "execution_count": 27,
     "metadata": {},
     "output_type": "execute_result"
    }
   ],
   "source": [
    "income_cat_count = data.groupby('total_income_category')['debt'].count()\n",
    "income_cat_sum = data.groupby('total_income_category')['debt'].sum()\n",
    "debt_inc = pd.DataFrame()\n",
    "debt_inc['Заемщики'] = income_cat_count\n",
    "debt_inc['Должники'] = income_cat_sum\n",
    "debt_inc['Доля должников'] = income_cat_sum / income_cat_count\n",
    "debt_inc.sort_values('Доля должников', ascending = False)"
   ]
  },
  {
   "cell_type": "markdown",
   "id": "e8593def",
   "metadata": {
    "deletable": false,
    "id": "e8593def"
   },
   "source": [
    "**Вывод:** большая доля должников относится к категории \"Е\" (доход до 30 т.р.), однако в целом заемщиков в этой категории немного. А вот категория \"С\" (доход 50-200 т.р.) уже интереснее: заемщиков в этой категории больше всего, как и должников. Доля должников в категориях \"B\" и \"D\" меньше чем в остальных"
   ]
  },
  {
   "cell_type": "markdown",
   "id": "99ecbd1f",
   "metadata": {
    "deletable": false,
    "editable": false,
    "id": "99ecbd1f"
   },
   "source": [
    "**Задание 22. Как разные цели кредита влияют на его возврат в срок?**"
   ]
  },
  {
   "cell_type": "code",
   "execution_count": 28,
   "id": "2b687290",
   "metadata": {
    "id": "2b687290"
   },
   "outputs": [
    {
     "data": {
      "text/html": [
       "<div>\n",
       "<style scoped>\n",
       "    .dataframe tbody tr th:only-of-type {\n",
       "        vertical-align: middle;\n",
       "    }\n",
       "\n",
       "    .dataframe tbody tr th {\n",
       "        vertical-align: top;\n",
       "    }\n",
       "\n",
       "    .dataframe thead th {\n",
       "        text-align: right;\n",
       "    }\n",
       "</style>\n",
       "<table border=\"1\" class=\"dataframe\">\n",
       "  <thead>\n",
       "    <tr style=\"text-align: right;\">\n",
       "      <th></th>\n",
       "      <th>Заемщики</th>\n",
       "      <th>Должники</th>\n",
       "      <th>Доля должников</th>\n",
       "    </tr>\n",
       "    <tr>\n",
       "      <th>purpose_category</th>\n",
       "      <th></th>\n",
       "      <th></th>\n",
       "      <th></th>\n",
       "    </tr>\n",
       "  </thead>\n",
       "  <tbody>\n",
       "    <tr>\n",
       "      <th>операции с автомобилем</th>\n",
       "      <td>4281</td>\n",
       "      <td>400</td>\n",
       "      <td>0.093436</td>\n",
       "    </tr>\n",
       "    <tr>\n",
       "      <th>получение образования</th>\n",
       "      <td>3989</td>\n",
       "      <td>369</td>\n",
       "      <td>0.092504</td>\n",
       "    </tr>\n",
       "    <tr>\n",
       "      <th>проведение свадьбы</th>\n",
       "      <td>2324</td>\n",
       "      <td>183</td>\n",
       "      <td>0.078744</td>\n",
       "    </tr>\n",
       "    <tr>\n",
       "      <th>операции с недвижимостью</th>\n",
       "      <td>10754</td>\n",
       "      <td>780</td>\n",
       "      <td>0.072531</td>\n",
       "    </tr>\n",
       "  </tbody>\n",
       "</table>\n",
       "</div>"
      ],
      "text/plain": [
       "                          Заемщики  Должники  Доля должников\n",
       "purpose_category                                            \n",
       "операции с автомобилем        4281       400        0.093436\n",
       "получение образования         3989       369        0.092504\n",
       "проведение свадьбы            2324       183        0.078744\n",
       "операции с недвижимостью     10754       780        0.072531"
      ]
     },
     "execution_count": 28,
     "metadata": {},
     "output_type": "execute_result"
    }
   ],
   "source": [
    "purp_count = data.groupby('purpose_category')['debt'].count()\n",
    "purp_sum = data.groupby('purpose_category')['debt'].sum()\n",
    "debt_purp = pd.DataFrame()\n",
    "debt_purp['Заемщики'] = purp_count\n",
    "debt_purp['Должники'] = purp_sum\n",
    "debt_purp['Доля должников'] = purp_sum / purp_count\n",
    "debt_purp.sort_values('Доля должников', ascending = False)"
   ]
  },
  {
   "cell_type": "markdown",
   "id": "b4bb2ce6",
   "metadata": {
    "deletable": false,
    "id": "b4bb2ce6"
   },
   "source": [
    "**Вывод:** больше просрочек по кредитам на автомобили или образование, в то время как в кредитах по недвижимости реже встречаются просрочки. Так же кредиты на проведение свадьбы реже встречаются с просрочками"
   ]
  },
  {
   "cell_type": "markdown",
   "id": "09c3ac4c",
   "metadata": {
    "deletable": false,
    "editable": false,
    "id": "09c3ac4c"
   },
   "source": [
    "**Задание 23. Приведите возможные причины появления пропусков в исходных данных.**"
   ]
  },
  {
   "cell_type": "markdown",
   "id": "9da2ceda",
   "metadata": {
    "deletable": false,
    "id": "9da2ceda"
   },
   "source": [
    "*Ответ:* В данном случае, пропуски могут быть связаны с человеческим фактором. Количество пропусков в столбцах со стажем и доходам совпадает, соответственно можно сделать вывод, что не были указаны данные о месте работы, что в  свою очередь привело к отстутсвие данных о доходах"
   ]
  },
  {
   "cell_type": "markdown",
   "id": "7b0487d6",
   "metadata": {
    "deletable": false,
    "editable": false,
    "id": "7b0487d6"
   },
   "source": [
    "**Задание 24. Объясните, почему заполнить пропуски медианным значением — лучшее решение для количественных переменных.**"
   ]
  },
  {
   "cell_type": "markdown",
   "id": "7ecf2b8e",
   "metadata": {
    "deletable": false,
    "id": "7ecf2b8e"
   },
   "source": [
    "*Ответ:* Так как могут присутствовать переменные, сильно выделяющиеся среди большинства, что не дает возможности заполнить пропуски средними значениями. В нашем случае заполненялись медианами столбцы 'total_income' и 'days_employed'. Столбец 'total_income' заполнялся медианным значением так как есть большой разброс в данных, а 'days_employed' из-за присутствующих аномалий в данных (пенсионеры и безработные работали по тысяче лет)"
   ]
  },
  {
   "cell_type": "markdown",
   "id": "6db5255a",
   "metadata": {
    "deletable": false,
    "editable": false,
    "id": "6db5255a"
   },
   "source": [
    "## Общий вывод."
   ]
  },
  {
   "cell_type": "markdown",
   "id": "bad65432",
   "metadata": {
    "id": "bad65432"
   },
   "source": [
    "Семейный статус влияет на вероятность платежей по кредиту в срок - люди, состоявшие в браке чаще плятят в срок чем те, кто в браке не был, причем разведенные и овдовевшие платят в срок чаще, чем люди в браке. Чем больше детей, тем чаще платят не в срок, бездетные реже допускают просрочек по оплате.\n",
    "\n",
    "Бездетные заемщики реже платят не в срок, чем заемщики с детьми. Так же чем больше детей у заемщиков, тем чаще не платят в срок. Семейный статус так же влияет на просрочки по платежам. Заемщики, состоящие в браке чаще платят в срок чем те, кто в браке не состоит, а разведенные и овдовевшие реже допускают просрочек, чем люди в браке. Больше просрочек по кредитам на автомобили или образование, в то время как в кредитах на недвижимось и свадьбу просрочки встречаются реже. Заемщики с доходами от 50000 до 200000 чаще допускают просрочки по кредитам, но и в целом заемщиков в этой категории больше. Меньшая доля просрочек в категориях \"В\" (200000-1000000) и \"D\" (30000-50000). Наивысшая доля должников в категории заемщиков с доходами до 30000, но и заемщиков в данной категории мало"
   ]
  }
 ],
 "metadata": {
  "ExecuteTimeLog": [
   {
    "duration": 51,
    "start_time": "2022-07-08T06:04:05.716Z"
   },
   {
    "duration": 567,
    "start_time": "2022-07-08T06:04:13.061Z"
   },
   {
    "duration": 24,
    "start_time": "2022-07-08T06:04:13.630Z"
   },
   {
    "duration": 17,
    "start_time": "2022-07-08T06:04:13.656Z"
   },
   {
    "duration": 10,
    "start_time": "2022-07-08T06:04:13.675Z"
   },
   {
    "duration": 56,
    "start_time": "2022-07-08T06:04:13.687Z"
   },
   {
    "duration": 3,
    "start_time": "2022-07-08T06:04:13.745Z"
   },
   {
    "duration": 13,
    "start_time": "2022-07-08T06:04:13.750Z"
   },
   {
    "duration": 5,
    "start_time": "2022-07-08T06:04:13.765Z"
   },
   {
    "duration": 13,
    "start_time": "2022-07-08T06:04:13.771Z"
   },
   {
    "duration": 5,
    "start_time": "2022-07-08T06:04:13.786Z"
   },
   {
    "duration": 61,
    "start_time": "2022-07-08T06:04:13.792Z"
   },
   {
    "duration": 11,
    "start_time": "2022-07-08T06:04:13.854Z"
   },
   {
    "duration": 31,
    "start_time": "2022-07-08T06:04:13.867Z"
   },
   {
    "duration": 28,
    "start_time": "2022-07-08T06:04:13.899Z"
   },
   {
    "duration": 18,
    "start_time": "2022-07-08T06:04:13.928Z"
   },
   {
    "duration": 12,
    "start_time": "2022-07-08T06:04:13.947Z"
   },
   {
    "duration": 8,
    "start_time": "2022-07-08T06:04:13.960Z"
   },
   {
    "duration": 18,
    "start_time": "2022-07-08T06:04:13.970Z"
   },
   {
    "duration": 13,
    "start_time": "2022-07-08T06:04:13.989Z"
   },
   {
    "duration": 18,
    "start_time": "2022-07-08T06:04:14.004Z"
   },
   {
    "duration": 20,
    "start_time": "2022-07-08T06:04:14.024Z"
   },
   {
    "duration": 22,
    "start_time": "2022-07-08T06:04:14.046Z"
   },
   {
    "duration": 6,
    "start_time": "2022-07-08T06:04:14.069Z"
   },
   {
    "duration": 7,
    "start_time": "2022-07-08T06:04:14.076Z"
   },
   {
    "duration": 10,
    "start_time": "2022-07-08T06:04:14.085Z"
   },
   {
    "duration": 14,
    "start_time": "2022-07-08T06:04:19.349Z"
   },
   {
    "duration": 6,
    "start_time": "2022-07-08T06:17:01.021Z"
   },
   {
    "duration": 5,
    "start_time": "2022-07-08T06:17:14.961Z"
   },
   {
    "duration": 8,
    "start_time": "2022-07-08T06:21:06.445Z"
   },
   {
    "duration": 9,
    "start_time": "2022-07-08T06:23:05.450Z"
   },
   {
    "duration": 9,
    "start_time": "2022-07-08T06:24:14.545Z"
   },
   {
    "duration": 10,
    "start_time": "2022-07-08T06:24:20.921Z"
   },
   {
    "duration": 6,
    "start_time": "2022-07-08T06:25:44.103Z"
   },
   {
    "duration": 8,
    "start_time": "2022-07-08T06:25:50.253Z"
   },
   {
    "duration": 8,
    "start_time": "2022-07-08T06:43:14.508Z"
   },
   {
    "duration": 7,
    "start_time": "2022-07-08T06:43:23.401Z"
   },
   {
    "duration": 6,
    "start_time": "2022-07-08T06:43:44.506Z"
   },
   {
    "duration": 6,
    "start_time": "2022-07-08T06:43:53.735Z"
   },
   {
    "duration": 9,
    "start_time": "2022-07-08T09:03:54.915Z"
   },
   {
    "duration": 6,
    "start_time": "2022-07-08T09:08:14.351Z"
   },
   {
    "duration": 6,
    "start_time": "2022-07-08T09:09:23.598Z"
   },
   {
    "duration": 4,
    "start_time": "2022-07-08T09:09:29.683Z"
   },
   {
    "duration": 72,
    "start_time": "2022-07-08T09:09:41.496Z"
   },
   {
    "duration": 16,
    "start_time": "2022-07-08T09:09:41.570Z"
   },
   {
    "duration": 20,
    "start_time": "2022-07-08T09:09:41.587Z"
   },
   {
    "duration": 17,
    "start_time": "2022-07-08T09:09:41.609Z"
   },
   {
    "duration": 52,
    "start_time": "2022-07-08T09:09:41.628Z"
   },
   {
    "duration": 3,
    "start_time": "2022-07-08T09:09:41.682Z"
   },
   {
    "duration": 13,
    "start_time": "2022-07-08T09:09:41.687Z"
   },
   {
    "duration": 10,
    "start_time": "2022-07-08T09:09:41.701Z"
   },
   {
    "duration": 21,
    "start_time": "2022-07-08T09:09:41.712Z"
   },
   {
    "duration": 22,
    "start_time": "2022-07-08T09:09:41.737Z"
   },
   {
    "duration": 46,
    "start_time": "2022-07-08T09:09:41.760Z"
   },
   {
    "duration": 10,
    "start_time": "2022-07-08T09:09:41.808Z"
   },
   {
    "duration": 16,
    "start_time": "2022-07-08T09:09:41.819Z"
   },
   {
    "duration": 32,
    "start_time": "2022-07-08T09:09:41.836Z"
   },
   {
    "duration": 17,
    "start_time": "2022-07-08T09:09:41.870Z"
   },
   {
    "duration": 16,
    "start_time": "2022-07-08T09:09:41.888Z"
   },
   {
    "duration": 10,
    "start_time": "2022-07-08T09:09:41.905Z"
   },
   {
    "duration": 37,
    "start_time": "2022-07-08T09:09:41.917Z"
   },
   {
    "duration": 24,
    "start_time": "2022-07-08T09:09:41.956Z"
   },
   {
    "duration": 19,
    "start_time": "2022-07-08T09:09:41.981Z"
   },
   {
    "duration": 20,
    "start_time": "2022-07-08T09:09:42.002Z"
   },
   {
    "duration": 11,
    "start_time": "2022-07-08T09:09:42.023Z"
   },
   {
    "duration": 31,
    "start_time": "2022-07-08T09:09:42.035Z"
   },
   {
    "duration": 21,
    "start_time": "2022-07-08T09:09:42.069Z"
   },
   {
    "duration": 23,
    "start_time": "2022-07-08T09:09:42.091Z"
   },
   {
    "duration": 23,
    "start_time": "2022-07-08T09:09:42.116Z"
   },
   {
    "duration": 4,
    "start_time": "2022-07-08T09:09:56.340Z"
   },
   {
    "duration": 10,
    "start_time": "2022-07-08T09:11:13.117Z"
   },
   {
    "duration": 5,
    "start_time": "2022-07-08T09:12:25.180Z"
   },
   {
    "duration": 5,
    "start_time": "2022-07-08T09:12:30.881Z"
   },
   {
    "duration": 28,
    "start_time": "2022-07-08T09:12:37.471Z"
   },
   {
    "duration": 4,
    "start_time": "2022-07-08T09:12:56.985Z"
   },
   {
    "duration": 5,
    "start_time": "2022-07-08T09:13:34.206Z"
   },
   {
    "duration": 6,
    "start_time": "2022-07-08T09:13:46.248Z"
   },
   {
    "duration": 6,
    "start_time": "2022-07-08T09:13:52.432Z"
   },
   {
    "duration": 5,
    "start_time": "2022-07-08T09:13:57.273Z"
   },
   {
    "duration": 5,
    "start_time": "2022-07-08T09:14:59.721Z"
   },
   {
    "duration": 9,
    "start_time": "2022-07-08T09:15:03.990Z"
   },
   {
    "duration": 63,
    "start_time": "2022-07-08T09:15:28.065Z"
   },
   {
    "duration": 19,
    "start_time": "2022-07-08T09:15:28.131Z"
   },
   {
    "duration": 19,
    "start_time": "2022-07-08T09:15:28.152Z"
   },
   {
    "duration": 11,
    "start_time": "2022-07-08T09:15:28.173Z"
   },
   {
    "duration": 64,
    "start_time": "2022-07-08T09:15:28.186Z"
   },
   {
    "duration": 4,
    "start_time": "2022-07-08T09:15:28.251Z"
   },
   {
    "duration": 15,
    "start_time": "2022-07-08T09:15:28.257Z"
   },
   {
    "duration": 5,
    "start_time": "2022-07-08T09:15:28.273Z"
   },
   {
    "duration": 8,
    "start_time": "2022-07-08T09:15:28.280Z"
   },
   {
    "duration": 7,
    "start_time": "2022-07-08T09:15:28.290Z"
   },
   {
    "duration": 66,
    "start_time": "2022-07-08T09:15:28.298Z"
   },
   {
    "duration": 10,
    "start_time": "2022-07-08T09:15:28.365Z"
   },
   {
    "duration": 7,
    "start_time": "2022-07-08T09:15:28.377Z"
   },
   {
    "duration": 24,
    "start_time": "2022-07-08T09:15:28.386Z"
   },
   {
    "duration": 29,
    "start_time": "2022-07-08T09:15:28.423Z"
   },
   {
    "duration": 20,
    "start_time": "2022-07-08T09:15:28.454Z"
   },
   {
    "duration": 7,
    "start_time": "2022-07-08T09:15:28.476Z"
   },
   {
    "duration": 17,
    "start_time": "2022-07-08T09:15:28.485Z"
   },
   {
    "duration": 23,
    "start_time": "2022-07-08T09:15:28.504Z"
   },
   {
    "duration": 5,
    "start_time": "2022-07-08T09:15:28.530Z"
   },
   {
    "duration": 20,
    "start_time": "2022-07-08T09:15:28.537Z"
   },
   {
    "duration": 18,
    "start_time": "2022-07-08T09:15:28.558Z"
   },
   {
    "duration": 6,
    "start_time": "2022-07-08T09:15:28.578Z"
   },
   {
    "duration": 9,
    "start_time": "2022-07-08T09:15:28.586Z"
   },
   {
    "duration": 30,
    "start_time": "2022-07-08T09:15:28.598Z"
   },
   {
    "duration": 41,
    "start_time": "2022-07-08T09:15:28.631Z"
   },
   {
    "duration": 15,
    "start_time": "2022-07-08T09:15:42.521Z"
   },
   {
    "duration": 10,
    "start_time": "2022-07-08T09:16:06.561Z"
   },
   {
    "duration": 9,
    "start_time": "2022-07-08T09:16:20.036Z"
   },
   {
    "duration": 5,
    "start_time": "2022-07-08T10:13:13.109Z"
   },
   {
    "duration": 4,
    "start_time": "2022-07-08T10:13:18.526Z"
   },
   {
    "duration": 7,
    "start_time": "2022-07-08T10:13:25.069Z"
   },
   {
    "duration": 4,
    "start_time": "2022-07-08T10:13:42.829Z"
   },
   {
    "duration": 13,
    "start_time": "2022-07-08T10:13:47.917Z"
   },
   {
    "duration": 4,
    "start_time": "2022-07-08T10:14:05.102Z"
   },
   {
    "duration": 9,
    "start_time": "2022-07-08T10:14:07.340Z"
   },
   {
    "duration": 10,
    "start_time": "2022-07-08T10:14:16.919Z"
   },
   {
    "duration": 11,
    "start_time": "2022-07-08T10:14:19.041Z"
   },
   {
    "duration": 12,
    "start_time": "2022-07-08T10:14:23.036Z"
   },
   {
    "duration": 13,
    "start_time": "2022-07-08T10:14:29.965Z"
   },
   {
    "duration": 31,
    "start_time": "2022-07-08T10:14:42.062Z"
   },
   {
    "duration": 31,
    "start_time": "2022-07-08T10:15:13.301Z"
   },
   {
    "duration": 34,
    "start_time": "2022-07-08T10:15:22.274Z"
   },
   {
    "duration": 22,
    "start_time": "2022-07-08T10:15:49.733Z"
   },
   {
    "duration": 34,
    "start_time": "2022-07-08T10:15:57.423Z"
   },
   {
    "duration": 28,
    "start_time": "2022-07-08T10:16:04.552Z"
   },
   {
    "duration": 23,
    "start_time": "2022-07-08T10:16:13.353Z"
   },
   {
    "duration": 9,
    "start_time": "2022-07-08T10:16:29.960Z"
   },
   {
    "duration": 24,
    "start_time": "2022-07-08T10:16:38.797Z"
   },
   {
    "duration": 9,
    "start_time": "2022-07-08T10:16:52.364Z"
   },
   {
    "duration": 9,
    "start_time": "2022-07-08T10:17:13.895Z"
   },
   {
    "duration": 24,
    "start_time": "2022-07-08T10:17:47.216Z"
   },
   {
    "duration": 19,
    "start_time": "2022-07-08T10:18:01.383Z"
   },
   {
    "duration": 12,
    "start_time": "2022-07-08T10:18:05.840Z"
   },
   {
    "duration": 8,
    "start_time": "2022-07-08T10:18:10.769Z"
   },
   {
    "duration": 8,
    "start_time": "2022-07-08T10:18:23.984Z"
   },
   {
    "duration": 9,
    "start_time": "2022-07-08T10:18:37.645Z"
   },
   {
    "duration": 25,
    "start_time": "2022-07-08T10:21:58.419Z"
   },
   {
    "duration": 7,
    "start_time": "2022-07-08T10:22:11.464Z"
   },
   {
    "duration": 8,
    "start_time": "2022-07-08T10:22:20.689Z"
   },
   {
    "duration": 7,
    "start_time": "2022-07-08T10:22:28.767Z"
   },
   {
    "duration": 9,
    "start_time": "2022-07-08T10:22:54.887Z"
   },
   {
    "duration": 7,
    "start_time": "2022-07-08T10:22:58.013Z"
   },
   {
    "duration": 9,
    "start_time": "2022-07-08T10:23:03.807Z"
   },
   {
    "duration": 8,
    "start_time": "2022-07-08T10:26:04.818Z"
   },
   {
    "duration": 10,
    "start_time": "2022-07-08T10:26:12.037Z"
   },
   {
    "duration": 7,
    "start_time": "2022-07-08T10:29:24.189Z"
   },
   {
    "duration": 8,
    "start_time": "2022-07-08T10:29:30.241Z"
   },
   {
    "duration": 9,
    "start_time": "2022-07-08T10:30:14.612Z"
   },
   {
    "duration": 9,
    "start_time": "2022-07-08T10:30:24.481Z"
   },
   {
    "duration": 32,
    "start_time": "2022-07-08T10:31:57.918Z"
   },
   {
    "duration": 28,
    "start_time": "2022-07-08T10:32:16.625Z"
   },
   {
    "duration": 12,
    "start_time": "2022-07-08T10:32:27.861Z"
   },
   {
    "duration": 21,
    "start_time": "2022-07-08T10:32:38.741Z"
   },
   {
    "duration": 13,
    "start_time": "2022-07-08T10:32:43.650Z"
   },
   {
    "duration": 65,
    "start_time": "2022-07-08T10:33:01.697Z"
   },
   {
    "duration": 687,
    "start_time": "2022-07-08T10:33:13.617Z"
   },
   {
    "duration": 19,
    "start_time": "2022-07-08T10:33:23.735Z"
   },
   {
    "duration": 7,
    "start_time": "2022-07-08T10:34:21.112Z"
   },
   {
    "duration": 9,
    "start_time": "2022-07-08T10:35:18.756Z"
   },
   {
    "duration": 25,
    "start_time": "2022-07-08T10:35:27.822Z"
   },
   {
    "duration": 35,
    "start_time": "2022-07-08T10:35:44.421Z"
   },
   {
    "duration": 21,
    "start_time": "2022-07-08T10:36:13.294Z"
   },
   {
    "duration": 20,
    "start_time": "2022-07-08T10:36:41.537Z"
   },
   {
    "duration": 27,
    "start_time": "2022-07-08T10:37:09.629Z"
   },
   {
    "duration": 8,
    "start_time": "2022-07-08T11:02:38.278Z"
   },
   {
    "duration": 6,
    "start_time": "2022-07-08T11:02:42.702Z"
   },
   {
    "duration": 6,
    "start_time": "2022-07-08T14:52:02.878Z"
   },
   {
    "duration": 9,
    "start_time": "2022-07-08T14:52:40.076Z"
   },
   {
    "duration": 6,
    "start_time": "2022-07-08T14:55:53.936Z"
   },
   {
    "duration": 64,
    "start_time": "2022-07-08T15:01:00.246Z"
   },
   {
    "duration": 8,
    "start_time": "2022-07-08T15:03:11.345Z"
   },
   {
    "duration": 6,
    "start_time": "2022-07-08T15:03:26.147Z"
   },
   {
    "duration": 8,
    "start_time": "2022-07-08T15:03:43.077Z"
   },
   {
    "duration": 12,
    "start_time": "2022-07-08T15:06:35.674Z"
   },
   {
    "duration": 8,
    "start_time": "2022-07-08T15:16:58.886Z"
   },
   {
    "duration": 8,
    "start_time": "2022-07-08T15:17:40.918Z"
   },
   {
    "duration": 18,
    "start_time": "2022-07-08T15:18:56.963Z"
   },
   {
    "duration": 17,
    "start_time": "2022-07-08T15:19:12.992Z"
   },
   {
    "duration": 13,
    "start_time": "2022-07-08T15:25:44.153Z"
   },
   {
    "duration": 13,
    "start_time": "2022-07-08T15:26:36.804Z"
   },
   {
    "duration": 15,
    "start_time": "2022-07-08T15:26:39.533Z"
   },
   {
    "duration": 18,
    "start_time": "2022-07-08T15:27:09.933Z"
   },
   {
    "duration": 20,
    "start_time": "2022-07-08T15:27:34.790Z"
   },
   {
    "duration": 26,
    "start_time": "2022-07-08T15:37:59.733Z"
   },
   {
    "duration": 22,
    "start_time": "2022-07-08T15:52:59.629Z"
   },
   {
    "duration": 96,
    "start_time": "2022-07-08T21:05:23.412Z"
   },
   {
    "duration": 450,
    "start_time": "2022-07-08T21:05:26.251Z"
   },
   {
    "duration": 26,
    "start_time": "2022-07-08T21:05:26.703Z"
   },
   {
    "duration": 31,
    "start_time": "2022-07-08T21:05:26.730Z"
   },
   {
    "duration": 10,
    "start_time": "2022-07-08T21:05:26.763Z"
   },
   {
    "duration": 46,
    "start_time": "2022-07-08T21:05:26.775Z"
   },
   {
    "duration": 4,
    "start_time": "2022-07-08T21:05:26.823Z"
   },
   {
    "duration": 13,
    "start_time": "2022-07-08T21:05:26.828Z"
   },
   {
    "duration": 5,
    "start_time": "2022-07-08T21:05:26.842Z"
   },
   {
    "duration": 9,
    "start_time": "2022-07-08T21:05:26.849Z"
   },
   {
    "duration": 5,
    "start_time": "2022-07-08T21:05:26.861Z"
   },
   {
    "duration": 58,
    "start_time": "2022-07-08T21:05:26.867Z"
   },
   {
    "duration": 8,
    "start_time": "2022-07-08T21:05:26.927Z"
   },
   {
    "duration": 15,
    "start_time": "2022-07-08T21:05:26.937Z"
   },
   {
    "duration": 21,
    "start_time": "2022-07-08T21:05:26.953Z"
   },
   {
    "duration": 29,
    "start_time": "2022-07-08T21:05:26.976Z"
   },
   {
    "duration": 11,
    "start_time": "2022-07-08T21:05:27.007Z"
   },
   {
    "duration": 18,
    "start_time": "2022-07-08T21:05:27.019Z"
   },
   {
    "duration": 30,
    "start_time": "2022-07-08T21:05:27.038Z"
   },
   {
    "duration": 14,
    "start_time": "2022-07-08T21:05:27.069Z"
   },
   {
    "duration": 25,
    "start_time": "2022-07-08T21:05:27.084Z"
   },
   {
    "duration": 36,
    "start_time": "2022-07-08T21:05:27.110Z"
   },
   {
    "duration": 18,
    "start_time": "2022-07-08T21:05:27.148Z"
   },
   {
    "duration": 30,
    "start_time": "2022-07-08T21:05:27.168Z"
   },
   {
    "duration": 31,
    "start_time": "2022-07-08T21:05:27.199Z"
   },
   {
    "duration": 77,
    "start_time": "2022-07-08T21:05:27.231Z"
   },
   {
    "duration": 0,
    "start_time": "2022-07-08T21:05:27.310Z"
   },
   {
    "duration": 0,
    "start_time": "2022-07-08T21:05:27.311Z"
   },
   {
    "duration": 0,
    "start_time": "2022-07-08T21:05:27.313Z"
   },
   {
    "duration": 337,
    "start_time": "2022-07-08T21:05:36.102Z"
   },
   {
    "duration": 17,
    "start_time": "2022-07-08T21:05:39.587Z"
   },
   {
    "duration": 17,
    "start_time": "2022-07-08T21:05:39.606Z"
   },
   {
    "duration": 16,
    "start_time": "2022-07-08T21:05:39.625Z"
   },
   {
    "duration": 16,
    "start_time": "2022-07-08T21:05:39.643Z"
   },
   {
    "duration": 73,
    "start_time": "2022-07-08T21:07:39.383Z"
   },
   {
    "duration": 100,
    "start_time": "2022-07-08T21:08:49.911Z"
   },
   {
    "duration": 60,
    "start_time": "2022-07-09T06:50:31.719Z"
   },
   {
    "duration": 1075,
    "start_time": "2022-09-14T17:55:10.073Z"
   }
  ],
  "celltoolbar": "Edit Metadata",
  "colab": {
   "name": "dpp_template_part2.ipynb",
   "provenance": []
  },
  "kernelspec": {
   "display_name": "Python 3 (ipykernel)",
   "language": "python",
   "name": "python3"
  },
  "language_info": {
   "codemirror_mode": {
    "name": "ipython",
    "version": 3
   },
   "file_extension": ".py",
   "mimetype": "text/x-python",
   "name": "python",
   "nbconvert_exporter": "python",
   "pygments_lexer": "ipython3",
   "version": "3.9.12"
  },
  "toc": {
   "base_numbering": 1,
   "nav_menu": {},
   "number_sections": true,
   "sideBar": true,
   "skip_h1_title": true,
   "title_cell": "Table of Contents",
   "title_sidebar": "Contents",
   "toc_cell": false,
   "toc_position": {},
   "toc_section_display": true,
   "toc_window_display": false
  }
 },
 "nbformat": 4,
 "nbformat_minor": 5
}
