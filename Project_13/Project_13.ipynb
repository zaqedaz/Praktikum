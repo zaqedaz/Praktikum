{
 "cells": [
  {
   "cell_type": "markdown",
   "metadata": {},
   "source": [
    "# Проект для «Викишоп»"
   ]
  },
  {
   "cell_type": "markdown",
   "metadata": {},
   "source": [
    "Интернет-магазин «Викишоп» запускает новый сервис. Теперь пользователи могут редактировать и дополнять описания товаров, как в вики-сообществах. То есть клиенты предлагают свои правки и комментируют изменения других. Магазину нужен инструмент, который будет искать токсичные комментарии и отправлять их на модерацию. \n",
    "\n",
    "Обучите модель классифицировать комментарии на позитивные и негативные. В вашем распоряжении набор данных с разметкой о токсичности правок.\n",
    "\n",
    "Постройте модель со значением метрики качества *F1* не меньше 0.75. \n",
    "\n",
    "**Инструкция по выполнению проекта**\n",
    "\n",
    "1. Загрузите и подготовьте данные.\n",
    "2. Обучите разные модели. \n",
    "3. Сделайте выводы.\n",
    "\n",
    "Для выполнения проекта применять *BERT* необязательно, но вы можете попробовать.\n",
    "\n",
    "**Описание данных**\n",
    "\n",
    "Данные находятся в файле `toxic_comments.csv`. Столбец *text* в нём содержит текст комментария, а *toxic* — целевой признак."
   ]
  },
  {
   "cell_type": "markdown",
   "metadata": {},
   "source": [
    "## Подготовка"
   ]
  },
  {
   "cell_type": "code",
   "execution_count": 1,
   "metadata": {},
   "outputs": [],
   "source": [
    "import pandas as pd\n",
    "import numpy as np\n",
    "import re\n",
    "import nltk\n",
    "\n",
    "from pymystem3 import Mystem\n",
    "from nltk.stem import WordNetLemmatizer\n",
    "from nltk.corpus import stopwords as nltk_stopwords\n",
    "\n",
    "from sklearn.feature_extraction.text import TfidfVectorizer\n",
    "from sklearn.model_selection import train_test_split, cross_val_score, GridSearchCV\n",
    "from sklearn.linear_model import LogisticRegression\n",
    "from sklearn.tree import DecisionTreeClassifier\n",
    "from sklearn.ensemble import RandomForestClassifier\n",
    "from sklearn.metrics import f1_score\n",
    "\n",
    "import warnings\n",
    "warnings.filterwarnings('ignore')"
   ]
  },
  {
   "cell_type": "code",
   "execution_count": 2,
   "metadata": {},
   "outputs": [],
   "source": [
    "RANDOM_STATE = 12345"
   ]
  },
  {
   "cell_type": "code",
   "execution_count": 3,
   "metadata": {},
   "outputs": [
    {
     "name": "stdout",
     "output_type": "stream",
     "text": [
      "<class 'pandas.core.frame.DataFrame'>\n",
      "RangeIndex: 159292 entries, 0 to 159291\n",
      "Data columns (total 3 columns):\n",
      " #   Column      Non-Null Count   Dtype \n",
      "---  ------      --------------   ----- \n",
      " 0   Unnamed: 0  159292 non-null  int64 \n",
      " 1   text        159292 non-null  object\n",
      " 2   toxic       159292 non-null  int64 \n",
      "dtypes: int64(2), object(1)\n",
      "memory usage: 3.6+ MB\n"
     ]
    }
   ],
   "source": [
    "data = pd.read_csv('/datasets/toxic_comments.csv')\n",
    "data.info()"
   ]
  },
  {
   "cell_type": "code",
   "execution_count": 4,
   "metadata": {},
   "outputs": [
    {
     "data": {
      "text/html": [
       "<div>\n",
       "<style scoped>\n",
       "    .dataframe tbody tr th:only-of-type {\n",
       "        vertical-align: middle;\n",
       "    }\n",
       "\n",
       "    .dataframe tbody tr th {\n",
       "        vertical-align: top;\n",
       "    }\n",
       "\n",
       "    .dataframe thead th {\n",
       "        text-align: right;\n",
       "    }\n",
       "</style>\n",
       "<table border=\"1\" class=\"dataframe\">\n",
       "  <thead>\n",
       "    <tr style=\"text-align: right;\">\n",
       "      <th></th>\n",
       "      <th>Unnamed: 0</th>\n",
       "      <th>text</th>\n",
       "      <th>toxic</th>\n",
       "    </tr>\n",
       "  </thead>\n",
       "  <tbody>\n",
       "    <tr>\n",
       "      <th>0</th>\n",
       "      <td>0</td>\n",
       "      <td>Explanation\\nWhy the edits made under my usern...</td>\n",
       "      <td>0</td>\n",
       "    </tr>\n",
       "    <tr>\n",
       "      <th>1</th>\n",
       "      <td>1</td>\n",
       "      <td>D'aww! He matches this background colour I'm s...</td>\n",
       "      <td>0</td>\n",
       "    </tr>\n",
       "    <tr>\n",
       "      <th>2</th>\n",
       "      <td>2</td>\n",
       "      <td>Hey man, I'm really not trying to edit war. It...</td>\n",
       "      <td>0</td>\n",
       "    </tr>\n",
       "    <tr>\n",
       "      <th>3</th>\n",
       "      <td>3</td>\n",
       "      <td>\"\\nMore\\nI can't make any real suggestions on ...</td>\n",
       "      <td>0</td>\n",
       "    </tr>\n",
       "    <tr>\n",
       "      <th>4</th>\n",
       "      <td>4</td>\n",
       "      <td>You, sir, are my hero. Any chance you remember...</td>\n",
       "      <td>0</td>\n",
       "    </tr>\n",
       "  </tbody>\n",
       "</table>\n",
       "</div>"
      ],
      "text/plain": [
       "   Unnamed: 0                                               text  toxic\n",
       "0           0  Explanation\\nWhy the edits made under my usern...      0\n",
       "1           1  D'aww! He matches this background colour I'm s...      0\n",
       "2           2  Hey man, I'm really not trying to edit war. It...      0\n",
       "3           3  \"\\nMore\\nI can't make any real suggestions on ...      0\n",
       "4           4  You, sir, are my hero. Any chance you remember...      0"
      ]
     },
     "execution_count": 4,
     "metadata": {},
     "output_type": "execute_result"
    }
   ],
   "source": [
    "data.head()"
   ]
  },
  {
   "cell_type": "markdown",
   "metadata": {},
   "source": [
    "Лемматизация текста"
   ]
  },
  {
   "cell_type": "code",
   "execution_count": 5,
   "metadata": {},
   "outputs": [],
   "source": [
    "corpus = data['text'].values.astype('U')\n",
    "\n",
    "wnl = WordNetLemmatizer()\n",
    "\n",
    "def clear_text(text):\n",
    "    pattern = re.sub(r'[^a-zA-Z]', ' ', text)\n",
    "    clear = pattern.split()\n",
    "    lemm = []\n",
    "    for i in range(len(clear)):\n",
    "        lemm.append(wnl.lemmatize(clear[i]))\n",
    "    return \" \".join(lemm)\n",
    "\n",
    "for i in range(len(corpus)):\n",
    "    corpus[i] = clear_text(corpus[i])\n",
    "    \n",
    "data_corpus = pd.DataFrame(corpus)\n",
    "data['lemm_text'] = data_corpus[0]"
   ]
  },
  {
   "cell_type": "code",
   "execution_count": 6,
   "metadata": {},
   "outputs": [
    {
     "data": {
      "text/html": [
       "<div>\n",
       "<style scoped>\n",
       "    .dataframe tbody tr th:only-of-type {\n",
       "        vertical-align: middle;\n",
       "    }\n",
       "\n",
       "    .dataframe tbody tr th {\n",
       "        vertical-align: top;\n",
       "    }\n",
       "\n",
       "    .dataframe thead th {\n",
       "        text-align: right;\n",
       "    }\n",
       "</style>\n",
       "<table border=\"1\" class=\"dataframe\">\n",
       "  <thead>\n",
       "    <tr style=\"text-align: right;\">\n",
       "      <th></th>\n",
       "      <th>Unnamed: 0</th>\n",
       "      <th>text</th>\n",
       "      <th>toxic</th>\n",
       "      <th>lemm_text</th>\n",
       "    </tr>\n",
       "  </thead>\n",
       "  <tbody>\n",
       "    <tr>\n",
       "      <th>0</th>\n",
       "      <td>0</td>\n",
       "      <td>Explanation\\nWhy the edits made under my usern...</td>\n",
       "      <td>0</td>\n",
       "      <td>Explanation Why the edits made under my userna...</td>\n",
       "    </tr>\n",
       "    <tr>\n",
       "      <th>1</th>\n",
       "      <td>1</td>\n",
       "      <td>D'aww! He matches this background colour I'm s...</td>\n",
       "      <td>0</td>\n",
       "      <td>D aww He match this background colour I m seem...</td>\n",
       "    </tr>\n",
       "    <tr>\n",
       "      <th>2</th>\n",
       "      <td>2</td>\n",
       "      <td>Hey man, I'm really not trying to edit war. It...</td>\n",
       "      <td>0</td>\n",
       "      <td>Hey man I m really not trying to edit war It s...</td>\n",
       "    </tr>\n",
       "    <tr>\n",
       "      <th>3</th>\n",
       "      <td>3</td>\n",
       "      <td>\"\\nMore\\nI can't make any real suggestions on ...</td>\n",
       "      <td>0</td>\n",
       "      <td>More I can t make any real suggestion on impro...</td>\n",
       "    </tr>\n",
       "    <tr>\n",
       "      <th>4</th>\n",
       "      <td>4</td>\n",
       "      <td>You, sir, are my hero. Any chance you remember...</td>\n",
       "      <td>0</td>\n",
       "      <td>You sir are my hero Any chance you remember wh...</td>\n",
       "    </tr>\n",
       "  </tbody>\n",
       "</table>\n",
       "</div>"
      ],
      "text/plain": [
       "   Unnamed: 0                                               text  toxic  \\\n",
       "0           0  Explanation\\nWhy the edits made under my usern...      0   \n",
       "1           1  D'aww! He matches this background colour I'm s...      0   \n",
       "2           2  Hey man, I'm really not trying to edit war. It...      0   \n",
       "3           3  \"\\nMore\\nI can't make any real suggestions on ...      0   \n",
       "4           4  You, sir, are my hero. Any chance you remember...      0   \n",
       "\n",
       "                                           lemm_text  \n",
       "0  Explanation Why the edits made under my userna...  \n",
       "1  D aww He match this background colour I m seem...  \n",
       "2  Hey man I m really not trying to edit war It s...  \n",
       "3  More I can t make any real suggestion on impro...  \n",
       "4  You sir are my hero Any chance you remember wh...  "
      ]
     },
     "execution_count": 6,
     "metadata": {},
     "output_type": "execute_result"
    }
   ],
   "source": [
    "data.head()"
   ]
  },
  {
   "cell_type": "code",
   "execution_count": 7,
   "metadata": {},
   "outputs": [
    {
     "name": "stdout",
     "output_type": "stream",
     "text": [
      "0    143106\n",
      "1     16186\n",
      "Name: toxic, dtype: int64\n"
     ]
    },
    {
     "data": {
      "text/plain": [
       "8.841344371679229"
      ]
     },
     "execution_count": 7,
     "metadata": {},
     "output_type": "execute_result"
    }
   ],
   "source": [
    "print(data['toxic'].value_counts())\n",
    "balance = data['toxic'].value_counts()[0] / data['toxic'].value_counts()[1]\n",
    "balance"
   ]
  },
  {
   "cell_type": "markdown",
   "metadata": {},
   "source": [
    "Дисбаланс классов 1 к 9"
   ]
  },
  {
   "cell_type": "markdown",
   "metadata": {},
   "source": [
    "## Обучение"
   ]
  },
  {
   "cell_type": "markdown",
   "metadata": {},
   "source": [
    "Создание признаков"
   ]
  },
  {
   "cell_type": "code",
   "execution_count": 8,
   "metadata": {},
   "outputs": [],
   "source": [
    "features = data['lemm_text']\n",
    "target = data['toxic']\n",
    "\n",
    "features_train, features_test, target_train, target_test = train_test_split(\n",
    "    features, target, test_size=0.25, random_state=RANDOM_STATE, stratify = target)"
   ]
  },
  {
   "cell_type": "markdown",
   "metadata": {},
   "source": [
    "Определение стоп-слов и TFIDF-векторизация текста"
   ]
  },
  {
   "cell_type": "code",
   "execution_count": 9,
   "metadata": {},
   "outputs": [
    {
     "name": "stderr",
     "output_type": "stream",
     "text": [
      "[nltk_data] Downloading package stopwords to /home/jovyan/nltk_data...\n",
      "[nltk_data]   Package stopwords is already up-to-date!\n"
     ]
    }
   ],
   "source": [
    "nltk.download('stopwords')\n",
    "stopwords = set(nltk_stopwords.words('english'))\n",
    "\n",
    "count_tf_idf = TfidfVectorizer(stop_words=stopwords)"
   ]
  },
  {
   "cell_type": "code",
   "execution_count": 10,
   "metadata": {},
   "outputs": [],
   "source": [
    "count_tf_idf = TfidfVectorizer(stop_words=stopwords) \n",
    "features_train = count_tf_idf.fit_transform(features_train)\n",
    "features_test = count_tf_idf.transform(features_test)"
   ]
  },
  {
   "cell_type": "markdown",
   "metadata": {},
   "source": [
    "### Логистическаая регрессия"
   ]
  },
  {
   "cell_type": "code",
   "execution_count": 11,
   "metadata": {},
   "outputs": [
    {
     "name": "stdout",
     "output_type": "stream",
     "text": [
      "Fitting 3 folds for each of 9 candidates, totalling 27 fits\n",
      "{'C': 10, 'class_weight': 'balanced', 'random_state': 12345, 'solver': 'lbfgs'}\n"
     ]
    }
   ],
   "source": [
    "lr_model = LogisticRegression()\n",
    "lr_parameters = [{'solver':['newton-cg', 'lbfgs', 'liblinear'],\n",
    "                'C':[0.1, 1, 10],\n",
    "                'class_weight':['balanced'],\n",
    "                'random_state':[RANDOM_STATE]}]\n",
    "lr_grid = GridSearchCV(lr_model, lr_parameters, cv = 3, verbose=True,n_jobs=-1, \n",
    "                    scoring='f1')\n",
    "lr_grid.fit(features_train, target_train)\n",
    "print(lr_grid.best_params_)"
   ]
  },
  {
   "cell_type": "code",
   "execution_count": 12,
   "metadata": {},
   "outputs": [
    {
     "name": "stdout",
     "output_type": "stream",
     "text": [
      "LogisticRegression f1 = 0.7601667703984704\n",
      "CPU times: user 40.5 s, sys: 1min 10s, total: 1min 51s\n",
      "Wall time: 1min 51s\n"
     ]
    }
   ],
   "source": [
    "lr_model = LogisticRegression(fit_intercept=True, C = 10, class_weight = 'balanced', random_state = RANDOM_STATE, solver = 'newton-cg')\n",
    "lr_model.fit(features_train, target_train)\n",
    "lr_f1 = (cross_val_score(lr_model, features_train, target_train, cv = 3,\n",
    "                           scoring='f1').mean())\n",
    "print('LogisticRegression f1 =', lr_f1)"
   ]
  },
  {
   "cell_type": "markdown",
   "metadata": {},
   "source": [
    "### Дерево решений"
   ]
  },
  {
   "cell_type": "code",
   "execution_count": 13,
   "metadata": {},
   "outputs": [
    {
     "name": "stdout",
     "output_type": "stream",
     "text": [
      "Fitting 3 folds for each of 27 candidates, totalling 81 fits\n",
      "{'class_weight': 'balanced', 'max_depth': 15, 'min_samples_leaf': 10, 'min_samples_split': 30, 'random_state': 12345}\n"
     ]
    }
   ],
   "source": [
    "dtr_model = DecisionTreeClassifier()\n",
    "dtr_parameters = [{'max_depth':[5, 10, 15], \n",
    "                'min_samples_split':[10, 20, 30],\n",
    "                'min_samples_leaf':[10, 30, 50],\n",
    "                'class_weight':['balanced'],\n",
    "                'random_state':[RANDOM_STATE]}]\n",
    "dtr_grid = GridSearchCV(dtr_model, dtr_parameters, cv = 3, verbose=True,n_jobs=-1, \n",
    "                    scoring='f1')\n",
    "dtr_grid.fit(features_train, target_train)\n",
    "print(dtr_grid.best_params_)"
   ]
  },
  {
   "cell_type": "code",
   "execution_count": 14,
   "metadata": {},
   "outputs": [
    {
     "name": "stdout",
     "output_type": "stream",
     "text": [
      "DecisionTreeRegressor f1 = 0.5755437313347758\n"
     ]
    }
   ],
   "source": [
    "dtr_model = DecisionTreeClassifier(max_depth = 15, min_samples_leaf = 10, min_samples_split = 30, \n",
    "                                   class_weight = 'balanced', random_state = RANDOM_STATE)\n",
    "dtr_model.fit(features_train, target_train)\n",
    "dtr_f1 = (cross_val_score(dtr_model, features_train, target_train, cv = 3,\n",
    "                           scoring='f1').mean())\n",
    "print('DecisionTreeRegressor f1 =', dtr_f1)"
   ]
  },
  {
   "cell_type": "markdown",
   "metadata": {},
   "source": [
    "### Случайный лес"
   ]
  },
  {
   "cell_type": "code",
   "execution_count": 15,
   "metadata": {},
   "outputs": [
    {
     "name": "stdout",
     "output_type": "stream",
     "text": [
      "Fitting 3 folds for each of 9 candidates, totalling 27 fits\n",
      "{'class_weight': 'balanced', 'max_depth': 15, 'n_estimators': 200, 'random_state': 12345}\n"
     ]
    }
   ],
   "source": [
    "rfr_model = RandomForestClassifier() \n",
    "rfr_parameters = [{'n_estimators':[100, 150, 200], \n",
    "                'max_depth':[5,10,15],\n",
    "                'class_weight':['balanced'],\n",
    "                'random_state':[RANDOM_STATE]}]\n",
    "rfr_grid = GridSearchCV(rfr_model, rfr_parameters, cv = 3, verbose=True,n_jobs=-1, \n",
    "                    scoring='f1')\n",
    "rfr_grid.fit(features_train, target_train)\n",
    "print(rfr_grid.best_params_)"
   ]
  },
  {
   "cell_type": "code",
   "execution_count": 16,
   "metadata": {},
   "outputs": [
    {
     "name": "stdout",
     "output_type": "stream",
     "text": [
      "RandomForestRegressor f1 = 0.3784147164097349\n"
     ]
    }
   ],
   "source": [
    "rfr_model = RandomForestClassifier(n_estimators = 200, max_depth = 15, \n",
    "                                   class_weight = 'balanced', random_state = RANDOM_STATE)\n",
    "rfr_model.fit(features_train, target_train)\n",
    "rfr_f1 = (cross_val_score(rfr_model, features_train, target_train, cv = 3,\n",
    "                           scoring='f1').mean())\n",
    "print('RandomForestRegressor f1 =', rfr_f1)"
   ]
  },
  {
   "cell_type": "markdown",
   "metadata": {},
   "source": [
    "### Тестирование"
   ]
  },
  {
   "cell_type": "code",
   "execution_count": 17,
   "metadata": {},
   "outputs": [
    {
     "name": "stdout",
     "output_type": "stream",
     "text": [
      "f1: 0.7601246105919003\n"
     ]
    }
   ],
   "source": [
    "lr_predictions_test = lr_model.predict(features_test)\n",
    "print('f1:', f1_score(target_test, lr_predictions_test))"
   ]
  },
  {
   "cell_type": "code",
   "execution_count": 18,
   "metadata": {},
   "outputs": [
    {
     "name": "stdout",
     "output_type": "stream",
     "text": [
      "f1: 0.5630630630630631\n"
     ]
    }
   ],
   "source": [
    "dtr_predictions_test = dtr_model.predict(features_test)\n",
    "print('f1:',f1_score(target_test, dtr_predictions_test))"
   ]
  },
  {
   "cell_type": "code",
   "execution_count": 19,
   "metadata": {},
   "outputs": [
    {
     "name": "stdout",
     "output_type": "stream",
     "text": [
      "f1: 0.39369364260193956\n"
     ]
    }
   ],
   "source": [
    "rfr_predictions_test = rfr_model.predict(features_test)\n",
    "print('f1:',f1_score(target_test, rfr_predictions_test))"
   ]
  },
  {
   "cell_type": "markdown",
   "metadata": {},
   "source": [
    "## Выводы"
   ]
  },
  {
   "cell_type": "markdown",
   "metadata": {},
   "source": [
    "Интернет-магазину «Викишоп» нужен инструмент, который будет искать токсичные комментарии и отправлять их на модерацию.\n",
    "\n",
    "Для этого нужно обучить модель, которая будет классифицировать комментарии на позитивные и негативные. \n",
    "\n",
    "В распоряжение предоставлен набор данных с разметкой о токсичности комментариев.\n",
    "\n",
    "Модель должна обладать значением метрики качества F1 не меньше 0.75.\n",
    "\n",
    "В ходе работы было выполнено:\n",
    " - Загружены и изучены данные. Они содержат в себе комментарии пользователей к товарам, доступным для приобретения в интернет-магазине «Викишоп».\n",
    " - Над текстами комментариев была проведена лемматизация\n",
    " - Данные были разделены на обучающую и тестовые выборки\n",
    " - Обучено три модели: Логистическая регрессия, дерево решений и случайный лес\n",
    " - Модели протестированы на тестовой выборке\n",
    "\n",
    "Для каждой модели проводился подбор гиперпараметров, с целью повышения метрики качества.\n",
    "\n",
    "По результатам этого подбора, обучения и тестирования моделей, наилучший результат показала логистическаая регрессия. Так же это единственная модель, которая удовлетворяет условию о значении метрики качества f1. При этом данная модель работает гораздо быстрее, чем другие.\n",
    "\n",
    "В связи с вышеизложенным, логистическая регрессия является лучшим решением для поставленной задачи."
   ]
  }
 ],
 "metadata": {
  "ExecuteTimeLog": [
   {
    "duration": 2008,
    "start_time": "2022-10-11T18:06:40.442Z"
   },
   {
    "duration": 4,
    "start_time": "2022-10-11T18:06:42.452Z"
   },
   {
    "duration": 2300,
    "start_time": "2022-10-11T18:06:54.882Z"
   },
   {
    "duration": 12,
    "start_time": "2022-10-11T18:07:10.065Z"
   },
   {
    "duration": 131,
    "start_time": "2022-10-11T18:10:55.139Z"
   },
   {
    "duration": 105859,
    "start_time": "2022-10-11T18:11:20.781Z"
   },
   {
    "duration": 1398,
    "start_time": "2022-10-11T18:13:24.192Z"
   },
   {
    "duration": 1626,
    "start_time": "2022-10-11T18:13:37.290Z"
   },
   {
    "duration": 2,
    "start_time": "2022-10-11T18:13:38.918Z"
   },
   {
    "duration": 861,
    "start_time": "2022-10-11T18:13:38.922Z"
   },
   {
    "duration": 10,
    "start_time": "2022-10-11T18:13:39.785Z"
   },
   {
    "duration": 103399,
    "start_time": "2022-10-11T18:13:39.797Z"
   },
   {
    "duration": 76,
    "start_time": "2022-10-11T18:19:55.190Z"
   },
   {
    "duration": 210,
    "start_time": "2022-10-11T18:20:47.664Z"
   },
   {
    "duration": 788,
    "start_time": "2022-10-11T18:21:26.282Z"
   },
   {
    "duration": 1580,
    "start_time": "2022-10-11T19:52:49.079Z"
   },
   {
    "duration": 3,
    "start_time": "2022-10-11T19:52:50.663Z"
   },
   {
    "duration": 850,
    "start_time": "2022-10-11T19:52:50.667Z"
   },
   {
    "duration": 13,
    "start_time": "2022-10-11T19:52:51.519Z"
   },
   {
    "duration": 94921,
    "start_time": "2022-10-11T19:52:51.535Z"
   },
   {
    "duration": 8,
    "start_time": "2022-10-11T19:54:26.458Z"
   },
   {
    "duration": 69,
    "start_time": "2022-10-11T19:54:26.467Z"
   },
   {
    "duration": 159,
    "start_time": "2022-10-11T19:54:26.537Z"
   },
   {
    "duration": 6855,
    "start_time": "2022-10-11T19:54:26.697Z"
   },
   {
    "duration": 123,
    "start_time": "2022-10-11T20:05:36.944Z"
   },
   {
    "duration": 15,
    "start_time": "2022-10-11T20:07:23.444Z"
   },
   {
    "duration": 633800,
    "start_time": "2022-10-11T20:07:40.040Z"
   },
   {
    "duration": 1484,
    "start_time": "2022-10-11T20:35:17.508Z"
   },
   {
    "duration": 3,
    "start_time": "2022-10-11T20:35:18.994Z"
   },
   {
    "duration": 872,
    "start_time": "2022-10-11T20:35:18.999Z"
   },
   {
    "duration": 11,
    "start_time": "2022-10-11T20:35:19.873Z"
   },
   {
    "duration": 100596,
    "start_time": "2022-10-11T20:35:19.886Z"
   },
   {
    "duration": 8,
    "start_time": "2022-10-11T20:37:00.485Z"
   },
   {
    "duration": 97,
    "start_time": "2022-10-11T20:37:00.494Z"
   },
   {
    "duration": 242,
    "start_time": "2022-10-11T20:37:00.593Z"
   },
   {
    "duration": 7029,
    "start_time": "2022-10-11T20:37:00.838Z"
   },
   {
    "duration": 617156,
    "start_time": "2022-10-11T20:37:07.869Z"
   },
   {
    "duration": 143,
    "start_time": "2022-10-11T20:47:25.027Z"
   },
   {
    "duration": 0,
    "start_time": "2022-10-11T20:47:25.172Z"
   },
   {
    "duration": 4,
    "start_time": "2022-10-11T20:50:47.216Z"
   },
   {
    "duration": 30,
    "start_time": "2022-10-11T20:50:53.938Z"
   },
   {
    "duration": 612538,
    "start_time": "2022-10-11T20:51:24.472Z"
   },
   {
    "duration": 0,
    "start_time": "2022-10-11T21:01:37.012Z"
   },
   {
    "duration": 1629,
    "start_time": "2022-10-11T21:05:44.086Z"
   },
   {
    "duration": 3,
    "start_time": "2022-10-11T21:05:45.717Z"
   },
   {
    "duration": 985,
    "start_time": "2022-10-11T21:05:45.721Z"
   },
   {
    "duration": 10,
    "start_time": "2022-10-11T21:05:46.708Z"
   },
   {
    "duration": 102091,
    "start_time": "2022-10-11T21:05:46.720Z"
   },
   {
    "duration": 8,
    "start_time": "2022-10-11T21:07:28.813Z"
   },
   {
    "duration": 142,
    "start_time": "2022-10-11T21:07:28.823Z"
   },
   {
    "duration": 0,
    "start_time": "2022-10-11T21:07:28.967Z"
   },
   {
    "duration": 0,
    "start_time": "2022-10-11T21:07:28.968Z"
   },
   {
    "duration": 0,
    "start_time": "2022-10-11T21:07:28.969Z"
   },
   {
    "duration": 0,
    "start_time": "2022-10-11T21:07:28.971Z"
   },
   {
    "duration": 0,
    "start_time": "2022-10-11T21:07:28.972Z"
   },
   {
    "duration": 0,
    "start_time": "2022-10-11T21:07:28.973Z"
   },
   {
    "duration": 0,
    "start_time": "2022-10-11T21:07:28.974Z"
   },
   {
    "duration": 0,
    "start_time": "2022-10-11T21:07:28.975Z"
   },
   {
    "duration": 1689,
    "start_time": "2022-10-11T21:12:11.840Z"
   },
   {
    "duration": 3,
    "start_time": "2022-10-11T21:12:13.531Z"
   },
   {
    "duration": 957,
    "start_time": "2022-10-11T21:12:13.535Z"
   },
   {
    "duration": 10,
    "start_time": "2022-10-11T21:12:14.494Z"
   },
   {
    "duration": 105172,
    "start_time": "2022-10-11T21:12:14.506Z"
   },
   {
    "duration": 9,
    "start_time": "2022-10-11T21:13:59.680Z"
   },
   {
    "duration": 26,
    "start_time": "2022-10-11T21:13:59.691Z"
   },
   {
    "duration": 82,
    "start_time": "2022-10-11T21:13:59.719Z"
   },
   {
    "duration": 151,
    "start_time": "2022-10-11T21:13:59.803Z"
   },
   {
    "duration": 7319,
    "start_time": "2022-10-11T21:13:59.957Z"
   },
   {
    "duration": 620872,
    "start_time": "2022-10-11T21:14:07.278Z"
   },
   {
    "duration": 165,
    "start_time": "2022-10-11T21:24:28.155Z"
   },
   {
    "duration": 0,
    "start_time": "2022-10-11T21:24:28.322Z"
   },
   {
    "duration": 0,
    "start_time": "2022-10-11T21:24:28.324Z"
   },
   {
    "duration": 14,
    "start_time": "2022-10-11T21:29:20.871Z"
   },
   {
    "duration": 14,
    "start_time": "2022-10-11T21:29:42.945Z"
   },
   {
    "duration": 24201,
    "start_time": "2022-10-11T21:33:29.224Z"
   },
   {
    "duration": 81919,
    "start_time": "2022-10-11T21:34:09.203Z"
   },
   {
    "duration": 19,
    "start_time": "2022-10-11T21:39:44.047Z"
   },
   {
    "duration": 103,
    "start_time": "2022-10-11T21:40:12.797Z"
   },
   {
    "duration": 56,
    "start_time": "2022-10-11T21:40:18.725Z"
   },
   {
    "duration": 119833,
    "start_time": "2022-10-11T21:40:23.072Z"
   },
   {
    "duration": 21,
    "start_time": "2022-10-11T21:44:28.991Z"
   },
   {
    "duration": 587458,
    "start_time": "2022-10-11T21:44:38.141Z"
   },
   {
    "duration": 2188,
    "start_time": "2022-10-11T22:06:02.873Z"
   },
   {
    "duration": 20549,
    "start_time": "2022-10-11T22:06:12.326Z"
   },
   {
    "duration": 20491,
    "start_time": "2022-10-11T22:07:15.783Z"
   },
   {
    "duration": 37,
    "start_time": "2022-10-11T22:07:46.825Z"
   },
   {
    "duration": 21048,
    "start_time": "2022-10-11T22:12:05.617Z"
   },
   {
    "duration": 23,
    "start_time": "2022-10-11T22:12:39.560Z"
   },
   {
    "duration": 7,
    "start_time": "2022-10-11T22:16:30.165Z"
   },
   {
    "duration": 1475,
    "start_time": "2022-10-11T22:16:35.711Z"
   },
   {
    "duration": 3,
    "start_time": "2022-10-11T22:16:37.188Z"
   },
   {
    "duration": 925,
    "start_time": "2022-10-11T22:16:37.602Z"
   },
   {
    "duration": 12,
    "start_time": "2022-10-11T22:16:39.306Z"
   },
   {
    "duration": 92017,
    "start_time": "2022-10-11T22:16:40.542Z"
   },
   {
    "duration": 8,
    "start_time": "2022-10-11T22:18:12.562Z"
   },
   {
    "duration": 17,
    "start_time": "2022-10-11T22:18:12.571Z"
   },
   {
    "duration": 86,
    "start_time": "2022-10-11T22:18:12.589Z"
   },
   {
    "duration": 187,
    "start_time": "2022-10-11T22:18:12.677Z"
   },
   {
    "duration": 6966,
    "start_time": "2022-10-11T22:18:12.865Z"
   },
   {
    "duration": 978558,
    "start_time": "2022-10-11T22:18:19.833Z"
   },
   {
    "duration": 1272,
    "start_time": "2022-10-11T22:35:18.289Z"
   },
   {
    "duration": 3,
    "start_time": "2022-10-11T22:35:19.563Z"
   },
   {
    "duration": 870,
    "start_time": "2022-10-11T22:35:19.567Z"
   },
   {
    "duration": 19,
    "start_time": "2022-10-11T22:35:20.439Z"
   },
   {
    "duration": 89238,
    "start_time": "2022-10-11T22:35:20.460Z"
   },
   {
    "duration": 7,
    "start_time": "2022-10-11T22:36:49.700Z"
   },
   {
    "duration": 15,
    "start_time": "2022-10-11T22:36:49.709Z"
   },
   {
    "duration": 87,
    "start_time": "2022-10-11T22:36:49.726Z"
   },
   {
    "duration": 186,
    "start_time": "2022-10-11T22:36:49.815Z"
   },
   {
    "duration": 6662,
    "start_time": "2022-10-11T22:36:50.002Z"
   },
   {
    "duration": 199552,
    "start_time": "2022-10-11T22:36:56.666Z"
   },
   {
    "duration": 638138,
    "start_time": "2022-10-11T22:40:16.221Z"
   },
   {
    "duration": 119,
    "start_time": "2022-10-11T22:50:54.361Z"
   },
   {
    "duration": 1349,
    "start_time": "2022-10-11T22:59:20.663Z"
   },
   {
    "duration": 2,
    "start_time": "2022-10-11T22:59:22.015Z"
   },
   {
    "duration": 895,
    "start_time": "2022-10-11T22:59:22.019Z"
   },
   {
    "duration": 14,
    "start_time": "2022-10-11T22:59:22.916Z"
   },
   {
    "duration": 88866,
    "start_time": "2022-10-11T22:59:22.932Z"
   },
   {
    "duration": 8,
    "start_time": "2022-10-11T23:00:51.800Z"
   },
   {
    "duration": 15,
    "start_time": "2022-10-11T23:00:51.809Z"
   },
   {
    "duration": 82,
    "start_time": "2022-10-11T23:00:51.825Z"
   },
   {
    "duration": 119,
    "start_time": "2022-10-11T23:00:51.909Z"
   },
   {
    "duration": 6780,
    "start_time": "2022-10-11T23:00:52.029Z"
   },
   {
    "duration": 593612,
    "start_time": "2022-10-11T23:00:58.811Z"
   },
   {
    "duration": 119178,
    "start_time": "2022-10-11T23:10:52.424Z"
   },
   {
    "duration": 629955,
    "start_time": "2022-10-11T23:12:51.604Z"
   },
   {
    "duration": 38322,
    "start_time": "2022-10-11T23:23:21.561Z"
   },
   {
    "duration": 547969,
    "start_time": "2022-10-11T23:23:59.885Z"
   },
   {
    "duration": 20,
    "start_time": "2022-10-11T23:33:07.855Z"
   },
   {
    "duration": 32,
    "start_time": "2022-10-11T23:33:07.876Z"
   },
   {
    "duration": 11448,
    "start_time": "2022-10-11T23:49:04.348Z"
   },
   {
    "duration": 130316,
    "start_time": "2022-10-11T23:49:23.321Z"
   },
   {
    "duration": 1178,
    "start_time": "2022-10-11T23:51:33.639Z"
   },
   {
    "duration": 1514,
    "start_time": "2022-10-12T19:52:50.827Z"
   },
   {
    "duration": 3,
    "start_time": "2022-10-12T19:52:52.342Z"
   },
   {
    "duration": 2438,
    "start_time": "2022-10-12T19:52:52.347Z"
   },
   {
    "duration": 13,
    "start_time": "2022-10-12T19:52:54.786Z"
   },
   {
    "duration": 1826,
    "start_time": "2022-10-12T19:52:54.800Z"
   },
   {
    "duration": 0,
    "start_time": "2022-10-12T19:52:56.628Z"
   },
   {
    "duration": 0,
    "start_time": "2022-10-12T19:52:56.629Z"
   },
   {
    "duration": 0,
    "start_time": "2022-10-12T19:52:56.630Z"
   },
   {
    "duration": 0,
    "start_time": "2022-10-12T19:52:56.631Z"
   },
   {
    "duration": 0,
    "start_time": "2022-10-12T19:52:56.632Z"
   },
   {
    "duration": 0,
    "start_time": "2022-10-12T19:52:56.632Z"
   },
   {
    "duration": 0,
    "start_time": "2022-10-12T19:52:56.634Z"
   },
   {
    "duration": 0,
    "start_time": "2022-10-12T19:52:56.634Z"
   },
   {
    "duration": 0,
    "start_time": "2022-10-12T19:52:56.635Z"
   },
   {
    "duration": 0,
    "start_time": "2022-10-12T19:52:56.636Z"
   },
   {
    "duration": 0,
    "start_time": "2022-10-12T19:52:56.638Z"
   },
   {
    "duration": 0,
    "start_time": "2022-10-12T19:52:56.639Z"
   },
   {
    "duration": 0,
    "start_time": "2022-10-12T19:52:56.640Z"
   },
   {
    "duration": 0,
    "start_time": "2022-10-12T19:52:56.641Z"
   },
   {
    "duration": 1236,
    "start_time": "2022-10-12T19:56:03.959Z"
   },
   {
    "duration": 4,
    "start_time": "2022-10-12T19:56:05.197Z"
   },
   {
    "duration": 765,
    "start_time": "2022-10-12T19:56:05.202Z"
   },
   {
    "duration": 13,
    "start_time": "2022-10-12T19:56:05.969Z"
   },
   {
    "duration": 36777,
    "start_time": "2022-10-12T19:56:05.983Z"
   },
   {
    "duration": 0,
    "start_time": "2022-10-12T19:56:42.762Z"
   },
   {
    "duration": 0,
    "start_time": "2022-10-12T19:56:42.763Z"
   },
   {
    "duration": 0,
    "start_time": "2022-10-12T19:56:42.764Z"
   },
   {
    "duration": 0,
    "start_time": "2022-10-12T19:56:42.766Z"
   },
   {
    "duration": 0,
    "start_time": "2022-10-12T19:56:42.767Z"
   },
   {
    "duration": 0,
    "start_time": "2022-10-12T19:56:42.768Z"
   },
   {
    "duration": 0,
    "start_time": "2022-10-12T19:56:42.769Z"
   },
   {
    "duration": 0,
    "start_time": "2022-10-12T19:56:42.770Z"
   },
   {
    "duration": 0,
    "start_time": "2022-10-12T19:56:42.771Z"
   },
   {
    "duration": 0,
    "start_time": "2022-10-12T19:56:42.772Z"
   },
   {
    "duration": 0,
    "start_time": "2022-10-12T19:56:42.773Z"
   },
   {
    "duration": 0,
    "start_time": "2022-10-12T19:56:42.800Z"
   },
   {
    "duration": 0,
    "start_time": "2022-10-12T19:56:42.801Z"
   },
   {
    "duration": 0,
    "start_time": "2022-10-12T19:56:42.802Z"
   },
   {
    "duration": 1282,
    "start_time": "2022-10-12T19:56:59.672Z"
   },
   {
    "duration": 3,
    "start_time": "2022-10-12T19:57:00.956Z"
   },
   {
    "duration": 822,
    "start_time": "2022-10-12T19:57:00.961Z"
   },
   {
    "duration": 18,
    "start_time": "2022-10-12T19:57:01.784Z"
   },
   {
    "duration": 36394,
    "start_time": "2022-10-12T19:57:01.803Z"
   },
   {
    "duration": 7,
    "start_time": "2022-10-12T19:57:38.198Z"
   },
   {
    "duration": 19,
    "start_time": "2022-10-12T19:57:38.206Z"
   },
   {
    "duration": 54,
    "start_time": "2022-10-12T19:57:38.226Z"
   },
   {
    "duration": 206,
    "start_time": "2022-10-12T19:57:38.282Z"
   },
   {
    "duration": 6062,
    "start_time": "2022-10-12T19:57:38.490Z"
   },
   {
    "duration": 540850,
    "start_time": "2022-10-12T19:57:44.554Z"
   },
   {
    "duration": 111649,
    "start_time": "2022-10-12T20:06:45.405Z"
   },
   {
    "duration": 588166,
    "start_time": "2022-10-12T20:08:37.055Z"
   },
   {
    "duration": 35902,
    "start_time": "2022-10-12T20:18:25.223Z"
   },
   {
    "duration": 512027,
    "start_time": "2022-10-12T20:19:01.127Z"
   },
   {
    "duration": 122190,
    "start_time": "2022-10-12T20:27:33.155Z"
   },
   {
    "duration": 17,
    "start_time": "2022-10-12T20:29:35.348Z"
   },
   {
    "duration": 43,
    "start_time": "2022-10-12T20:29:35.366Z"
   },
   {
    "duration": 1087,
    "start_time": "2022-10-12T20:29:35.410Z"
   },
   {
    "duration": 49,
    "start_time": "2022-10-12T20:29:36.500Z"
   }
  ],
  "kernelspec": {
   "display_name": "Python 3 (ipykernel)",
   "language": "python",
   "name": "python3"
  },
  "language_info": {
   "codemirror_mode": {
    "name": "ipython",
    "version": 3
   },
   "file_extension": ".py",
   "mimetype": "text/x-python",
   "name": "python",
   "nbconvert_exporter": "python",
   "pygments_lexer": "ipython3",
   "version": "3.9.12"
  },
  "toc": {
   "base_numbering": 1,
   "nav_menu": {},
   "number_sections": true,
   "sideBar": true,
   "skip_h1_title": true,
   "title_cell": "Содержание",
   "title_sidebar": "Contents",
   "toc_cell": true,
   "toc_position": {
    "height": "calc(100% - 180px)",
    "left": "10px",
    "top": "150px",
    "width": "302.391px"
   },
   "toc_section_display": true,
   "toc_window_display": false
  }
 },
 "nbformat": 4,
 "nbformat_minor": 2
}
