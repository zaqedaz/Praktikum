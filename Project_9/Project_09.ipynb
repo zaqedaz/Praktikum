{
 "cells": [
  {
   "cell_type": "markdown",
   "metadata": {},
   "source": [
    "# Восстановление золота из руды"
   ]
  },
  {
   "cell_type": "markdown",
   "metadata": {},
   "source": [
    "Подготовьте прототип модели машинного обучения для «Цифры». Компания разрабатывает решения для эффективной работы промышленных предприятий.\n",
    "\n",
    "Модель должна предсказать коэффициент восстановления золота из золотосодержащей руды. Используйте данные с параметрами добычи и очистки. \n",
    "\n",
    "Модель поможет оптимизировать производство, чтобы не запускать предприятие с убыточными характеристиками.\n",
    "\n",
    "Вам нужно:\n",
    "\n",
    "1. Подготовить данные;\n",
    "2. Провести исследовательский анализ данных;\n",
    "3. Построить и обучить модель.\n",
    "\n",
    "Чтобы выполнить проект, обращайтесь к библиотекам *pandas*, *matplotlib* и *sklearn.* Вам поможет их документация."
   ]
  },
  {
   "cell_type": "markdown",
   "metadata": {},
   "source": [
    "## Подготовка данных"
   ]
  },
  {
   "cell_type": "markdown",
   "metadata": {},
   "source": [
    "### Открытие и изучение файлов"
   ]
  },
  {
   "cell_type": "code",
   "execution_count": 1,
   "metadata": {},
   "outputs": [],
   "source": [
    "import os\n",
    "import numpy as np\n",
    "import pandas as pd\n",
    "import seaborn as sns\n",
    "import matplotlib.pyplot as plt\n",
    "from sklearn.metrics import make_scorer, mean_absolute_error\n",
    "from sklearn.model_selection import train_test_split, cross_val_score\n",
    "from sklearn.linear_model import LinearRegression\n",
    "from sklearn.ensemble import RandomForestRegressor\n",
    "from sklearn.preprocessing import StandardScaler\n",
    "from collections import defaultdict\n",
    "from sklearn.tree import DecisionTreeRegressor\n",
    "from sklearn.dummy import DummyRegressor"
   ]
  },
  {
   "cell_type": "code",
   "execution_count": 2,
   "metadata": {},
   "outputs": [],
   "source": [
    "RANDOM_STATE = 12345"
   ]
  },
  {
   "cell_type": "code",
   "execution_count": 3,
   "metadata": {},
   "outputs": [
    {
     "name": "stdout",
     "output_type": "stream",
     "text": [
      "<class 'pandas.core.frame.DataFrame'>\n",
      "RangeIndex: 14149 entries, 0 to 14148\n",
      "Data columns (total 87 columns):\n",
      " #   Column                                              Non-Null Count  Dtype  \n",
      "---  ------                                              --------------  -----  \n",
      " 0   date                                                14149 non-null  object \n",
      " 1   final.output.concentrate_ag                         14148 non-null  float64\n",
      " 2   final.output.concentrate_pb                         14148 non-null  float64\n",
      " 3   final.output.concentrate_sol                        13938 non-null  float64\n",
      " 4   final.output.concentrate_au                         14149 non-null  float64\n",
      " 5   final.output.recovery                               14149 non-null  float64\n",
      " 6   final.output.tail_ag                                14149 non-null  float64\n",
      " 7   final.output.tail_pb                                14049 non-null  float64\n",
      " 8   final.output.tail_sol                               14144 non-null  float64\n",
      " 9   final.output.tail_au                                14149 non-null  float64\n",
      " 10  primary_cleaner.input.sulfate                       14129 non-null  float64\n",
      " 11  primary_cleaner.input.depressant                    14117 non-null  float64\n",
      " 12  primary_cleaner.input.feed_size                     14149 non-null  float64\n",
      " 13  primary_cleaner.input.xanthate                      14049 non-null  float64\n",
      " 14  primary_cleaner.output.concentrate_ag               14149 non-null  float64\n",
      " 15  primary_cleaner.output.concentrate_pb               14063 non-null  float64\n",
      " 16  primary_cleaner.output.concentrate_sol              13863 non-null  float64\n",
      " 17  primary_cleaner.output.concentrate_au               14149 non-null  float64\n",
      " 18  primary_cleaner.output.tail_ag                      14148 non-null  float64\n",
      " 19  primary_cleaner.output.tail_pb                      14134 non-null  float64\n",
      " 20  primary_cleaner.output.tail_sol                     14103 non-null  float64\n",
      " 21  primary_cleaner.output.tail_au                      14149 non-null  float64\n",
      " 22  primary_cleaner.state.floatbank8_a_air              14145 non-null  float64\n",
      " 23  primary_cleaner.state.floatbank8_a_level            14148 non-null  float64\n",
      " 24  primary_cleaner.state.floatbank8_b_air              14145 non-null  float64\n",
      " 25  primary_cleaner.state.floatbank8_b_level            14148 non-null  float64\n",
      " 26  primary_cleaner.state.floatbank8_c_air              14147 non-null  float64\n",
      " 27  primary_cleaner.state.floatbank8_c_level            14148 non-null  float64\n",
      " 28  primary_cleaner.state.floatbank8_d_air              14146 non-null  float64\n",
      " 29  primary_cleaner.state.floatbank8_d_level            14148 non-null  float64\n",
      " 30  rougher.calculation.sulfate_to_au_concentrate       14148 non-null  float64\n",
      " 31  rougher.calculation.floatbank10_sulfate_to_au_feed  14148 non-null  float64\n",
      " 32  rougher.calculation.floatbank11_sulfate_to_au_feed  14148 non-null  float64\n",
      " 33  rougher.calculation.au_pb_ratio                     14149 non-null  float64\n",
      " 34  rougher.input.feed_ag                               14149 non-null  float64\n",
      " 35  rougher.input.feed_pb                               14049 non-null  float64\n",
      " 36  rougher.input.feed_rate                             14141 non-null  float64\n",
      " 37  rougher.input.feed_size                             14005 non-null  float64\n",
      " 38  rougher.input.feed_sol                              14071 non-null  float64\n",
      " 39  rougher.input.feed_au                               14149 non-null  float64\n",
      " 40  rougher.input.floatbank10_sulfate                   14120 non-null  float64\n",
      " 41  rougher.input.floatbank10_xanthate                  14141 non-null  float64\n",
      " 42  rougher.input.floatbank11_sulfate                   14113 non-null  float64\n",
      " 43  rougher.input.floatbank11_xanthate                  13721 non-null  float64\n",
      " 44  rougher.output.concentrate_ag                       14149 non-null  float64\n",
      " 45  rougher.output.concentrate_pb                       14149 non-null  float64\n",
      " 46  rougher.output.concentrate_sol                      14127 non-null  float64\n",
      " 47  rougher.output.concentrate_au                       14149 non-null  float64\n",
      " 48  rougher.output.recovery                             14149 non-null  float64\n",
      " 49  rougher.output.tail_ag                              14148 non-null  float64\n",
      " 50  rougher.output.tail_pb                              14149 non-null  float64\n",
      " 51  rougher.output.tail_sol                             14149 non-null  float64\n",
      " 52  rougher.output.tail_au                              14149 non-null  float64\n",
      " 53  rougher.state.floatbank10_a_air                     14148 non-null  float64\n",
      " 54  rougher.state.floatbank10_a_level                   14148 non-null  float64\n",
      " 55  rougher.state.floatbank10_b_air                     14148 non-null  float64\n",
      " 56  rougher.state.floatbank10_b_level                   14148 non-null  float64\n",
      " 57  rougher.state.floatbank10_c_air                     14148 non-null  float64\n",
      " 58  rougher.state.floatbank10_c_level                   14148 non-null  float64\n",
      " 59  rougher.state.floatbank10_d_air                     14149 non-null  float64\n",
      " 60  rougher.state.floatbank10_d_level                   14149 non-null  float64\n",
      " 61  rougher.state.floatbank10_e_air                     13713 non-null  float64\n",
      " 62  rougher.state.floatbank10_e_level                   14149 non-null  float64\n",
      " 63  rougher.state.floatbank10_f_air                     14149 non-null  float64\n",
      " 64  rougher.state.floatbank10_f_level                   14149 non-null  float64\n",
      " 65  secondary_cleaner.output.tail_ag                    14147 non-null  float64\n",
      " 66  secondary_cleaner.output.tail_pb                    14139 non-null  float64\n",
      " 67  secondary_cleaner.output.tail_sol                   12544 non-null  float64\n",
      " 68  secondary_cleaner.output.tail_au                    14149 non-null  float64\n",
      " 69  secondary_cleaner.state.floatbank2_a_air            13932 non-null  float64\n",
      " 70  secondary_cleaner.state.floatbank2_a_level          14148 non-null  float64\n",
      " 71  secondary_cleaner.state.floatbank2_b_air            14128 non-null  float64\n",
      " 72  secondary_cleaner.state.floatbank2_b_level          14148 non-null  float64\n",
      " 73  secondary_cleaner.state.floatbank3_a_air            14145 non-null  float64\n",
      " 74  secondary_cleaner.state.floatbank3_a_level          14148 non-null  float64\n",
      " 75  secondary_cleaner.state.floatbank3_b_air            14148 non-null  float64\n",
      " 76  secondary_cleaner.state.floatbank3_b_level          14148 non-null  float64\n",
      " 77  secondary_cleaner.state.floatbank4_a_air            14143 non-null  float64\n",
      " 78  secondary_cleaner.state.floatbank4_a_level          14148 non-null  float64\n",
      " 79  secondary_cleaner.state.floatbank4_b_air            14148 non-null  float64\n",
      " 80  secondary_cleaner.state.floatbank4_b_level          14148 non-null  float64\n",
      " 81  secondary_cleaner.state.floatbank5_a_air            14148 non-null  float64\n",
      " 82  secondary_cleaner.state.floatbank5_a_level          14148 non-null  float64\n",
      " 83  secondary_cleaner.state.floatbank5_b_air            14148 non-null  float64\n",
      " 84  secondary_cleaner.state.floatbank5_b_level          14148 non-null  float64\n",
      " 85  secondary_cleaner.state.floatbank6_a_air            14147 non-null  float64\n",
      " 86  secondary_cleaner.state.floatbank6_a_level          14148 non-null  float64\n",
      "dtypes: float64(86), object(1)\n",
      "memory usage: 9.4+ MB\n"
     ]
    },
    {
     "data": {
      "text/plain": [
       "None"
      ]
     },
     "metadata": {},
     "output_type": "display_data"
    },
    {
     "data": {
      "text/plain": [
       "(14149, 87)"
      ]
     },
     "metadata": {},
     "output_type": "display_data"
    }
   ],
   "source": [
    "gold_recovery_train = pd.read_csv('datasets/gold_recovery_train_new.csv')\n",
    "display(gold_recovery_train.info())\n",
    "display(gold_recovery_train.shape)"
   ]
  },
  {
   "cell_type": "code",
   "execution_count": 4,
   "metadata": {},
   "outputs": [
    {
     "name": "stdout",
     "output_type": "stream",
     "text": [
      "<class 'pandas.core.frame.DataFrame'>\n",
      "RangeIndex: 5290 entries, 0 to 5289\n",
      "Data columns (total 53 columns):\n",
      " #   Column                                      Non-Null Count  Dtype  \n",
      "---  ------                                      --------------  -----  \n",
      " 0   date                                        5290 non-null   object \n",
      " 1   primary_cleaner.input.sulfate               5286 non-null   float64\n",
      " 2   primary_cleaner.input.depressant            5285 non-null   float64\n",
      " 3   primary_cleaner.input.feed_size             5290 non-null   float64\n",
      " 4   primary_cleaner.input.xanthate              5286 non-null   float64\n",
      " 5   primary_cleaner.state.floatbank8_a_air      5290 non-null   float64\n",
      " 6   primary_cleaner.state.floatbank8_a_level    5290 non-null   float64\n",
      " 7   primary_cleaner.state.floatbank8_b_air      5290 non-null   float64\n",
      " 8   primary_cleaner.state.floatbank8_b_level    5290 non-null   float64\n",
      " 9   primary_cleaner.state.floatbank8_c_air      5290 non-null   float64\n",
      " 10  primary_cleaner.state.floatbank8_c_level    5290 non-null   float64\n",
      " 11  primary_cleaner.state.floatbank8_d_air      5290 non-null   float64\n",
      " 12  primary_cleaner.state.floatbank8_d_level    5290 non-null   float64\n",
      " 13  rougher.input.feed_ag                       5290 non-null   float64\n",
      " 14  rougher.input.feed_pb                       5290 non-null   float64\n",
      " 15  rougher.input.feed_rate                     5287 non-null   float64\n",
      " 16  rougher.input.feed_size                     5289 non-null   float64\n",
      " 17  rougher.input.feed_sol                      5269 non-null   float64\n",
      " 18  rougher.input.feed_au                       5290 non-null   float64\n",
      " 19  rougher.input.floatbank10_sulfate           5285 non-null   float64\n",
      " 20  rougher.input.floatbank10_xanthate          5290 non-null   float64\n",
      " 21  rougher.input.floatbank11_sulfate           5282 non-null   float64\n",
      " 22  rougher.input.floatbank11_xanthate          5265 non-null   float64\n",
      " 23  rougher.state.floatbank10_a_air             5290 non-null   float64\n",
      " 24  rougher.state.floatbank10_a_level           5290 non-null   float64\n",
      " 25  rougher.state.floatbank10_b_air             5290 non-null   float64\n",
      " 26  rougher.state.floatbank10_b_level           5290 non-null   float64\n",
      " 27  rougher.state.floatbank10_c_air             5290 non-null   float64\n",
      " 28  rougher.state.floatbank10_c_level           5290 non-null   float64\n",
      " 29  rougher.state.floatbank10_d_air             5290 non-null   float64\n",
      " 30  rougher.state.floatbank10_d_level           5290 non-null   float64\n",
      " 31  rougher.state.floatbank10_e_air             5290 non-null   float64\n",
      " 32  rougher.state.floatbank10_e_level           5290 non-null   float64\n",
      " 33  rougher.state.floatbank10_f_air             5290 non-null   float64\n",
      " 34  rougher.state.floatbank10_f_level           5290 non-null   float64\n",
      " 35  secondary_cleaner.state.floatbank2_a_air    5287 non-null   float64\n",
      " 36  secondary_cleaner.state.floatbank2_a_level  5290 non-null   float64\n",
      " 37  secondary_cleaner.state.floatbank2_b_air    5288 non-null   float64\n",
      " 38  secondary_cleaner.state.floatbank2_b_level  5290 non-null   float64\n",
      " 39  secondary_cleaner.state.floatbank3_a_air    5281 non-null   float64\n",
      " 40  secondary_cleaner.state.floatbank3_a_level  5290 non-null   float64\n",
      " 41  secondary_cleaner.state.floatbank3_b_air    5290 non-null   float64\n",
      " 42  secondary_cleaner.state.floatbank3_b_level  5290 non-null   float64\n",
      " 43  secondary_cleaner.state.floatbank4_a_air    5290 non-null   float64\n",
      " 44  secondary_cleaner.state.floatbank4_a_level  5290 non-null   float64\n",
      " 45  secondary_cleaner.state.floatbank4_b_air    5290 non-null   float64\n",
      " 46  secondary_cleaner.state.floatbank4_b_level  5290 non-null   float64\n",
      " 47  secondary_cleaner.state.floatbank5_a_air    5290 non-null   float64\n",
      " 48  secondary_cleaner.state.floatbank5_a_level  5290 non-null   float64\n",
      " 49  secondary_cleaner.state.floatbank5_b_air    5290 non-null   float64\n",
      " 50  secondary_cleaner.state.floatbank5_b_level  5290 non-null   float64\n",
      " 51  secondary_cleaner.state.floatbank6_a_air    5290 non-null   float64\n",
      " 52  secondary_cleaner.state.floatbank6_a_level  5290 non-null   float64\n",
      "dtypes: float64(52), object(1)\n",
      "memory usage: 2.1+ MB\n"
     ]
    },
    {
     "data": {
      "text/plain": [
       "None"
      ]
     },
     "metadata": {},
     "output_type": "display_data"
    },
    {
     "data": {
      "text/plain": [
       "(5290, 53)"
      ]
     },
     "metadata": {},
     "output_type": "display_data"
    }
   ],
   "source": [
    "gold_recovery_test = pd.read_csv('datasets/gold_recovery_test_new.csv')\n",
    "display(gold_recovery_test.info())\n",
    "display(gold_recovery_test.shape)"
   ]
  },
  {
   "cell_type": "code",
   "execution_count": 5,
   "metadata": {
    "scrolled": true
   },
   "outputs": [
    {
     "name": "stdout",
     "output_type": "stream",
     "text": [
      "<class 'pandas.core.frame.DataFrame'>\n",
      "RangeIndex: 19439 entries, 0 to 19438\n",
      "Data columns (total 87 columns):\n",
      " #   Column                                              Non-Null Count  Dtype  \n",
      "---  ------                                              --------------  -----  \n",
      " 0   date                                                19439 non-null  object \n",
      " 1   final.output.concentrate_ag                         19438 non-null  float64\n",
      " 2   final.output.concentrate_pb                         19438 non-null  float64\n",
      " 3   final.output.concentrate_sol                        19228 non-null  float64\n",
      " 4   final.output.concentrate_au                         19439 non-null  float64\n",
      " 5   final.output.recovery                               19439 non-null  float64\n",
      " 6   final.output.tail_ag                                19438 non-null  float64\n",
      " 7   final.output.tail_pb                                19338 non-null  float64\n",
      " 8   final.output.tail_sol                               19433 non-null  float64\n",
      " 9   final.output.tail_au                                19439 non-null  float64\n",
      " 10  primary_cleaner.input.sulfate                       19415 non-null  float64\n",
      " 11  primary_cleaner.input.depressant                    19402 non-null  float64\n",
      " 12  primary_cleaner.input.feed_size                     19439 non-null  float64\n",
      " 13  primary_cleaner.input.xanthate                      19335 non-null  float64\n",
      " 14  primary_cleaner.output.concentrate_ag               19439 non-null  float64\n",
      " 15  primary_cleaner.output.concentrate_pb               19323 non-null  float64\n",
      " 16  primary_cleaner.output.concentrate_sol              19069 non-null  float64\n",
      " 17  primary_cleaner.output.concentrate_au               19439 non-null  float64\n",
      " 18  primary_cleaner.output.tail_ag                      19435 non-null  float64\n",
      " 19  primary_cleaner.output.tail_pb                      19418 non-null  float64\n",
      " 20  primary_cleaner.output.tail_sol                     19377 non-null  float64\n",
      " 21  primary_cleaner.output.tail_au                      19439 non-null  float64\n",
      " 22  primary_cleaner.state.floatbank8_a_air              19435 non-null  float64\n",
      " 23  primary_cleaner.state.floatbank8_a_level            19438 non-null  float64\n",
      " 24  primary_cleaner.state.floatbank8_b_air              19435 non-null  float64\n",
      " 25  primary_cleaner.state.floatbank8_b_level            19438 non-null  float64\n",
      " 26  primary_cleaner.state.floatbank8_c_air              19437 non-null  float64\n",
      " 27  primary_cleaner.state.floatbank8_c_level            19438 non-null  float64\n",
      " 28  primary_cleaner.state.floatbank8_d_air              19436 non-null  float64\n",
      " 29  primary_cleaner.state.floatbank8_d_level            19438 non-null  float64\n",
      " 30  rougher.calculation.sulfate_to_au_concentrate       19437 non-null  float64\n",
      " 31  rougher.calculation.floatbank10_sulfate_to_au_feed  19437 non-null  float64\n",
      " 32  rougher.calculation.floatbank11_sulfate_to_au_feed  19437 non-null  float64\n",
      " 33  rougher.calculation.au_pb_ratio                     19439 non-null  float64\n",
      " 34  rougher.input.feed_ag                               19439 non-null  float64\n",
      " 35  rougher.input.feed_pb                               19339 non-null  float64\n",
      " 36  rougher.input.feed_rate                             19428 non-null  float64\n",
      " 37  rougher.input.feed_size                             19294 non-null  float64\n",
      " 38  rougher.input.feed_sol                              19340 non-null  float64\n",
      " 39  rougher.input.feed_au                               19439 non-null  float64\n",
      " 40  rougher.input.floatbank10_sulfate                   19405 non-null  float64\n",
      " 41  rougher.input.floatbank10_xanthate                  19431 non-null  float64\n",
      " 42  rougher.input.floatbank11_sulfate                   19395 non-null  float64\n",
      " 43  rougher.input.floatbank11_xanthate                  18986 non-null  float64\n",
      " 44  rougher.output.concentrate_ag                       19439 non-null  float64\n",
      " 45  rougher.output.concentrate_pb                       19439 non-null  float64\n",
      " 46  rougher.output.concentrate_sol                      19416 non-null  float64\n",
      " 47  rougher.output.concentrate_au                       19439 non-null  float64\n",
      " 48  rougher.output.recovery                             19439 non-null  float64\n",
      " 49  rougher.output.tail_ag                              19438 non-null  float64\n",
      " 50  rougher.output.tail_pb                              19439 non-null  float64\n",
      " 51  rougher.output.tail_sol                             19439 non-null  float64\n",
      " 52  rougher.output.tail_au                              19439 non-null  float64\n",
      " 53  rougher.state.floatbank10_a_air                     19438 non-null  float64\n",
      " 54  rougher.state.floatbank10_a_level                   19438 non-null  float64\n",
      " 55  rougher.state.floatbank10_b_air                     19438 non-null  float64\n",
      " 56  rougher.state.floatbank10_b_level                   19438 non-null  float64\n",
      " 57  rougher.state.floatbank10_c_air                     19438 non-null  float64\n",
      " 58  rougher.state.floatbank10_c_level                   19438 non-null  float64\n",
      " 59  rougher.state.floatbank10_d_air                     19439 non-null  float64\n",
      " 60  rougher.state.floatbank10_d_level                   19439 non-null  float64\n",
      " 61  rougher.state.floatbank10_e_air                     19003 non-null  float64\n",
      " 62  rougher.state.floatbank10_e_level                   19439 non-null  float64\n",
      " 63  rougher.state.floatbank10_f_air                     19439 non-null  float64\n",
      " 64  rougher.state.floatbank10_f_level                   19439 non-null  float64\n",
      " 65  secondary_cleaner.output.tail_ag                    19437 non-null  float64\n",
      " 66  secondary_cleaner.output.tail_pb                    19427 non-null  float64\n",
      " 67  secondary_cleaner.output.tail_sol                   17691 non-null  float64\n",
      " 68  secondary_cleaner.output.tail_au                    19439 non-null  float64\n",
      " 69  secondary_cleaner.state.floatbank2_a_air            19219 non-null  float64\n",
      " 70  secondary_cleaner.state.floatbank2_a_level          19438 non-null  float64\n",
      " 71  secondary_cleaner.state.floatbank2_b_air            19416 non-null  float64\n",
      " 72  secondary_cleaner.state.floatbank2_b_level          19438 non-null  float64\n",
      " 73  secondary_cleaner.state.floatbank3_a_air            19426 non-null  float64\n",
      " 74  secondary_cleaner.state.floatbank3_a_level          19438 non-null  float64\n",
      " 75  secondary_cleaner.state.floatbank3_b_air            19438 non-null  float64\n",
      " 76  secondary_cleaner.state.floatbank3_b_level          19438 non-null  float64\n",
      " 77  secondary_cleaner.state.floatbank4_a_air            19433 non-null  float64\n",
      " 78  secondary_cleaner.state.floatbank4_a_level          19438 non-null  float64\n",
      " 79  secondary_cleaner.state.floatbank4_b_air            19438 non-null  float64\n",
      " 80  secondary_cleaner.state.floatbank4_b_level          19438 non-null  float64\n",
      " 81  secondary_cleaner.state.floatbank5_a_air            19438 non-null  float64\n",
      " 82  secondary_cleaner.state.floatbank5_a_level          19438 non-null  float64\n",
      " 83  secondary_cleaner.state.floatbank5_b_air            19438 non-null  float64\n",
      " 84  secondary_cleaner.state.floatbank5_b_level          19438 non-null  float64\n",
      " 85  secondary_cleaner.state.floatbank6_a_air            19437 non-null  float64\n",
      " 86  secondary_cleaner.state.floatbank6_a_level          19438 non-null  float64\n",
      "dtypes: float64(86), object(1)\n",
      "memory usage: 12.9+ MB\n"
     ]
    },
    {
     "data": {
      "text/plain": [
       "None"
      ]
     },
     "metadata": {},
     "output_type": "display_data"
    },
    {
     "data": {
      "text/plain": [
       "(19439, 87)"
      ]
     },
     "metadata": {},
     "output_type": "display_data"
    }
   ],
   "source": [
    "gold_recovery_full = pd.read_csv('datasets/gold_recovery_full_new.csv')\n",
    "display(gold_recovery_full.info())\n",
    "display(gold_recovery_full.shape)"
   ]
  },
  {
   "cell_type": "markdown",
   "metadata": {},
   "source": [
    "### Проверка рассчетов эффективности обогащения. Вычисление на обучающей выборке для признака rougher.output.recovery. Вычисление MAE между расчётами и значением признака."
   ]
  },
  {
   "cell_type": "code",
   "execution_count": 6,
   "metadata": {},
   "outputs": [
    {
     "name": "stdout",
     "output_type": "stream",
     "text": [
      "MAE = 1.0748911125799084e-14\n"
     ]
    }
   ],
   "source": [
    "C = gold_recovery_train['rougher.output.concentrate_au']\n",
    "F = gold_recovery_train['rougher.input.feed_au']\n",
    "T = gold_recovery_train['rougher.output.tail_au']\n",
    "output_recovery = gold_recovery_train['rougher.output.recovery']\n",
    "calculated_recovery = C * (F - T) / F/ (C - T) * 100\n",
    "print('MAE =', mean_absolute_error(output_recovery, calculated_recovery))"
   ]
  },
  {
   "cell_type": "markdown",
   "metadata": {},
   "source": [
    "**MAE очень мала, соответственно, recovery посчитан верно**"
   ]
  },
  {
   "cell_type": "markdown",
   "metadata": {},
   "source": [
    "### Анализ признаков, недоступных в тестовой выборке. "
   ]
  },
  {
   "cell_type": "code",
   "execution_count": 7,
   "metadata": {},
   "outputs": [
    {
     "data": {
      "text/plain": [
       "['final.output.concentrate_ag',\n",
       " 'final.output.concentrate_au',\n",
       " 'final.output.concentrate_pb',\n",
       " 'final.output.concentrate_sol',\n",
       " 'final.output.recovery',\n",
       " 'final.output.tail_ag',\n",
       " 'final.output.tail_au',\n",
       " 'final.output.tail_pb',\n",
       " 'final.output.tail_sol',\n",
       " 'primary_cleaner.output.concentrate_ag',\n",
       " 'primary_cleaner.output.concentrate_au',\n",
       " 'primary_cleaner.output.concentrate_pb',\n",
       " 'primary_cleaner.output.concentrate_sol',\n",
       " 'primary_cleaner.output.tail_ag',\n",
       " 'primary_cleaner.output.tail_au',\n",
       " 'primary_cleaner.output.tail_pb',\n",
       " 'primary_cleaner.output.tail_sol',\n",
       " 'rougher.calculation.au_pb_ratio',\n",
       " 'rougher.calculation.floatbank10_sulfate_to_au_feed',\n",
       " 'rougher.calculation.floatbank11_sulfate_to_au_feed',\n",
       " 'rougher.calculation.sulfate_to_au_concentrate',\n",
       " 'rougher.output.concentrate_ag',\n",
       " 'rougher.output.concentrate_au',\n",
       " 'rougher.output.concentrate_pb',\n",
       " 'rougher.output.concentrate_sol',\n",
       " 'rougher.output.recovery',\n",
       " 'rougher.output.tail_ag',\n",
       " 'rougher.output.tail_au',\n",
       " 'rougher.output.tail_pb',\n",
       " 'rougher.output.tail_sol',\n",
       " 'secondary_cleaner.output.tail_ag',\n",
       " 'secondary_cleaner.output.tail_au',\n",
       " 'secondary_cleaner.output.tail_pb',\n",
       " 'secondary_cleaner.output.tail_sol']"
      ]
     },
     "execution_count": 7,
     "metadata": {},
     "output_type": "execute_result"
    }
   ],
   "source": [
    "gold_recovery_test_columns = list(gold_recovery_train.columns.difference(gold_recovery_test.columns))\n",
    "gold_recovery_test_columns"
   ]
  },
  {
   "cell_type": "markdown",
   "metadata": {},
   "source": [
    "В тестовой выборке отсутствуют столбцы с признаками .output и .calculation.\n",
    "\n",
    "Это онлайн метрики. Они будут получены по результатам технологического процесса."
   ]
  },
  {
   "cell_type": "markdown",
   "metadata": {},
   "source": [
    "### Предобработка данных"
   ]
  },
  {
   "cell_type": "markdown",
   "metadata": {},
   "source": [
    "Посмотрим на количество пропусков в данных"
   ]
  },
  {
   "cell_type": "code",
   "execution_count": 8,
   "metadata": {},
   "outputs": [
    {
     "data": {
      "text/plain": [
       "date                                            0\n",
       "final.output.concentrate_ag                     1\n",
       "final.output.concentrate_pb                     1\n",
       "final.output.concentrate_sol                  211\n",
       "final.output.concentrate_au                     0\n",
       "                                             ... \n",
       "secondary_cleaner.state.floatbank5_a_level      1\n",
       "secondary_cleaner.state.floatbank5_b_air        1\n",
       "secondary_cleaner.state.floatbank5_b_level      1\n",
       "secondary_cleaner.state.floatbank6_a_air        2\n",
       "secondary_cleaner.state.floatbank6_a_level      1\n",
       "Length: 87, dtype: int64"
      ]
     },
     "execution_count": 8,
     "metadata": {},
     "output_type": "execute_result"
    }
   ],
   "source": [
    "gold_recovery_train.isna().sum()"
   ]
  },
  {
   "cell_type": "code",
   "execution_count": 9,
   "metadata": {},
   "outputs": [
    {
     "data": {
      "text/plain": [
       "date                                           0\n",
       "primary_cleaner.input.sulfate                  4\n",
       "primary_cleaner.input.depressant               5\n",
       "primary_cleaner.input.feed_size                0\n",
       "primary_cleaner.input.xanthate                 4\n",
       "primary_cleaner.state.floatbank8_a_air         0\n",
       "primary_cleaner.state.floatbank8_a_level       0\n",
       "primary_cleaner.state.floatbank8_b_air         0\n",
       "primary_cleaner.state.floatbank8_b_level       0\n",
       "primary_cleaner.state.floatbank8_c_air         0\n",
       "primary_cleaner.state.floatbank8_c_level       0\n",
       "primary_cleaner.state.floatbank8_d_air         0\n",
       "primary_cleaner.state.floatbank8_d_level       0\n",
       "rougher.input.feed_ag                          0\n",
       "rougher.input.feed_pb                          0\n",
       "rougher.input.feed_rate                        3\n",
       "rougher.input.feed_size                        1\n",
       "rougher.input.feed_sol                        21\n",
       "rougher.input.feed_au                          0\n",
       "rougher.input.floatbank10_sulfate              5\n",
       "rougher.input.floatbank10_xanthate             0\n",
       "rougher.input.floatbank11_sulfate              8\n",
       "rougher.input.floatbank11_xanthate            25\n",
       "rougher.state.floatbank10_a_air                0\n",
       "rougher.state.floatbank10_a_level              0\n",
       "rougher.state.floatbank10_b_air                0\n",
       "rougher.state.floatbank10_b_level              0\n",
       "rougher.state.floatbank10_c_air                0\n",
       "rougher.state.floatbank10_c_level              0\n",
       "rougher.state.floatbank10_d_air                0\n",
       "rougher.state.floatbank10_d_level              0\n",
       "rougher.state.floatbank10_e_air                0\n",
       "rougher.state.floatbank10_e_level              0\n",
       "rougher.state.floatbank10_f_air                0\n",
       "rougher.state.floatbank10_f_level              0\n",
       "secondary_cleaner.state.floatbank2_a_air       3\n",
       "secondary_cleaner.state.floatbank2_a_level     0\n",
       "secondary_cleaner.state.floatbank2_b_air       2\n",
       "secondary_cleaner.state.floatbank2_b_level     0\n",
       "secondary_cleaner.state.floatbank3_a_air       9\n",
       "secondary_cleaner.state.floatbank3_a_level     0\n",
       "secondary_cleaner.state.floatbank3_b_air       0\n",
       "secondary_cleaner.state.floatbank3_b_level     0\n",
       "secondary_cleaner.state.floatbank4_a_air       0\n",
       "secondary_cleaner.state.floatbank4_a_level     0\n",
       "secondary_cleaner.state.floatbank4_b_air       0\n",
       "secondary_cleaner.state.floatbank4_b_level     0\n",
       "secondary_cleaner.state.floatbank5_a_air       0\n",
       "secondary_cleaner.state.floatbank5_a_level     0\n",
       "secondary_cleaner.state.floatbank5_b_air       0\n",
       "secondary_cleaner.state.floatbank5_b_level     0\n",
       "secondary_cleaner.state.floatbank6_a_air       0\n",
       "secondary_cleaner.state.floatbank6_a_level     0\n",
       "dtype: int64"
      ]
     },
     "execution_count": 9,
     "metadata": {},
     "output_type": "execute_result"
    }
   ],
   "source": [
    "gold_recovery_test.isna().sum()"
   ]
  },
  {
   "cell_type": "code",
   "execution_count": 10,
   "metadata": {},
   "outputs": [
    {
     "data": {
      "text/plain": [
       "date                                            0\n",
       "final.output.concentrate_ag                     1\n",
       "final.output.concentrate_pb                     1\n",
       "final.output.concentrate_sol                  211\n",
       "final.output.concentrate_au                     0\n",
       "                                             ... \n",
       "secondary_cleaner.state.floatbank5_a_level      1\n",
       "secondary_cleaner.state.floatbank5_b_air        1\n",
       "secondary_cleaner.state.floatbank5_b_level      1\n",
       "secondary_cleaner.state.floatbank6_a_air        2\n",
       "secondary_cleaner.state.floatbank6_a_level      1\n",
       "Length: 87, dtype: int64"
      ]
     },
     "execution_count": 10,
     "metadata": {},
     "output_type": "execute_result"
    }
   ],
   "source": [
    "gold_recovery_full.isna().sum()"
   ]
  },
  {
   "cell_type": "markdown",
   "metadata": {},
   "source": [
    "Удаление пропусков"
   ]
  },
  {
   "cell_type": "code",
   "execution_count": 11,
   "metadata": {},
   "outputs": [],
   "source": [
    "gold_recovery_test = gold_recovery_test.dropna()\n",
    "gold_recovery_train = gold_recovery_train.dropna()\n",
    "gold_recovery_full = gold_recovery_full.dropna()"
   ]
  },
  {
   "cell_type": "markdown",
   "metadata": {},
   "source": [
    "Удалим околонулевые значения"
   ]
  },
  {
   "cell_type": "code",
   "execution_count": 12,
   "metadata": {},
   "outputs": [],
   "source": [
    "gold_recovery_train = gold_recovery_train.drop(gold_recovery_train[gold_recovery_train['final.output.concentrate_au'] < 1].index)\n",
    "gold_recovery_train = gold_recovery_train.drop(gold_recovery_train[gold_recovery_train['final.output.concentrate_ag'] < 1].index)\n",
    "gold_recovery_train = gold_recovery_train.drop(gold_recovery_train[gold_recovery_train['final.output.concentrate_pb'] < 1].index)\n",
    "gold_recovery_train = gold_recovery_train.drop(gold_recovery_train[gold_recovery_train['final.output.concentrate_sol'] < 1].index)\n",
    "gold_recovery_train = gold_recovery_train.drop(gold_recovery_train[gold_recovery_train['primary_cleaner.output.concentrate_au'] < 1].index)\n",
    "gold_recovery_train = gold_recovery_train.drop(gold_recovery_train[gold_recovery_train['primary_cleaner.output.concentrate_ag'] < 1].index)\n",
    "gold_recovery_train = gold_recovery_train.drop(gold_recovery_train[gold_recovery_train['primary_cleaner.output.concentrate_pb'] < 1].index)\n",
    "gold_recovery_train = gold_recovery_train.drop(gold_recovery_train[gold_recovery_train['primary_cleaner.output.concentrate_sol'] < 1].index)\n",
    "gold_recovery_train = gold_recovery_train.drop(gold_recovery_train[gold_recovery_train['rougher.output.concentrate_au'] < 1].index)\n",
    "gold_recovery_train = gold_recovery_train.drop(gold_recovery_train[gold_recovery_train['rougher.output.concentrate_ag'] < 1].index)\n",
    "gold_recovery_train = gold_recovery_train.drop(gold_recovery_train[gold_recovery_train['rougher.output.concentrate_pb'] < 1].index)\n",
    "gold_recovery_train = gold_recovery_train.drop(gold_recovery_train[gold_recovery_train['rougher.output.concentrate_sol'] < 1].index)"
   ]
  },
  {
   "cell_type": "markdown",
   "metadata": {},
   "source": [
    "### Вывод"
   ]
  },
  {
   "cell_type": "markdown",
   "metadata": {},
   "source": [
    "- Данные открыты и изучены\n",
    "- Проверен расчет MAE\n",
    "- Проверены признаки, недоступные в тестовой выборке\n",
    "- Удалены пропуски\n",
    "- Удалены нулевые значения"
   ]
  },
  {
   "cell_type": "markdown",
   "metadata": {},
   "source": [
    "## Анализ данных"
   ]
  },
  {
   "cell_type": "markdown",
   "metadata": {},
   "source": [
    "### Изменение концентрация металлов (Au, Ag, Pb) на различных этапах очистки."
   ]
  },
  {
   "cell_type": "markdown",
   "metadata": {},
   "source": [
    "#### Концентрация золота"
   ]
  },
  {
   "cell_type": "code",
   "execution_count": 13,
   "metadata": {},
   "outputs": [
    {
     "data": {
      "image/png": "[encoded data removed]",
      "text/plain": [
       "<Figure size 864x648 with 1 Axes>"
      ]
     },
     "metadata": {
      "needs_background": "light"
     },
     "output_type": "display_data"
    }
   ],
   "source": [
    "plt.figure(figsize=[12,9])\n",
    "\n",
    "plt.hist(gold_recovery_train['final.output.concentrate_au'], bins=100, label = 'final.output', alpha=.5)\n",
    "plt.hist(gold_recovery_train['primary_cleaner.output.concentrate_au'], bins=100, label = 'primary_cleaner.output', alpha=.5)\n",
    "plt.hist(gold_recovery_train['rougher.output.concentrate_au'], bins=100, label = 'rougher.output', alpha=.5)\n",
    "\n",
    "plt.xlim([0, 55])\n",
    "plt.ylim([0, 1000])\n",
    "\n",
    "plt.xlabel(\"Концентрация золота\")\n",
    "plt.ylabel(\"Количество результатов\")\n",
    "\n",
    "plt.legend(loc='upper left', fontsize='x-large')\n",
    "\n",
    "plt.title(\"Распределение концентрации золота на разных этапах\")\n",
    "plt.show()"
   ]
  },
  {
   "cell_type": "markdown",
   "metadata": {},
   "source": [
    "Концентрация золота с каждым этапом повышается, для этого и проводится флотация и очистка"
   ]
  },
  {
   "cell_type": "markdown",
   "metadata": {},
   "source": [
    "#### Концентрация серебра"
   ]
  },
  {
   "cell_type": "code",
   "execution_count": 14,
   "metadata": {},
   "outputs": [
    {
     "data": {
      "image/png": "[encoded data removed]",
      "text/plain": [
       "<Figure size 864x648 with 1 Axes>"
      ]
     },
     "metadata": {
      "needs_background": "light"
     },
     "output_type": "display_data"
    }
   ],
   "source": [
    "plt.figure(figsize=[12,9])\n",
    "\n",
    "plt.hist(gold_recovery_train['final.output.concentrate_ag'], bins=100, label = 'final.output', alpha=.5)\n",
    "plt.hist(gold_recovery_train['primary_cleaner.output.concentrate_ag'], bins=100, label = 'primary_cleaner.output', alpha=.5)\n",
    "plt.hist(gold_recovery_train['rougher.output.concentrate_ag'], bins=100, label = 'rougher.output', alpha=.5)\n",
    "\n",
    "plt.xlim([0, 25])\n",
    "plt.ylim([0, 600])\n",
    "\n",
    "plt.xlabel(\"Концентрация серебра\")\n",
    "plt.ylabel(\"Количество результатов\")\n",
    "\n",
    "plt.legend(loc='upper left', fontsize='x-large')\n",
    "\n",
    "plt.title(\"Распределение концентрации серебра на разных этапах\")\n",
    "plt.show()"
   ]
  },
  {
   "cell_type": "markdown",
   "metadata": {},
   "source": [
    "Концентрация серебра уменьшается с каждым этапом, ведь нужно получить золото"
   ]
  },
  {
   "cell_type": "markdown",
   "metadata": {},
   "source": [
    "#### Концентрация свинца"
   ]
  },
  {
   "cell_type": "code",
   "execution_count": 15,
   "metadata": {},
   "outputs": [
    {
     "data": {
      "image/png": "[encoded data removed]",
      "text/plain": [
       "<Figure size 864x648 with 1 Axes>"
      ]
     },
     "metadata": {
      "needs_background": "light"
     },
     "output_type": "display_data"
    }
   ],
   "source": [
    "plt.figure(figsize=[12,9])\n",
    "\n",
    "plt.hist(gold_recovery_train['final.output.concentrate_pb'], bins=100, label = 'final.output', alpha=.5)\n",
    "plt.hist(gold_recovery_train['primary_cleaner.output.concentrate_pb'], bins=100, label = 'primary_cleaner.output', alpha=.5)\n",
    "plt.hist(gold_recovery_train['rougher.output.concentrate_pb'], bins=100, label = 'rougher.output', alpha=.5)\n",
    "\n",
    "plt.xlim([0, 20])\n",
    "plt.ylim([0, 600])\n",
    "\n",
    "plt.xlabel(\"Концентрация свинца\")\n",
    "plt.ylabel(\"Количество результатов\")\n",
    "\n",
    "plt.legend(loc='upper left', fontsize='x-large')\n",
    "\n",
    "plt.title(\"Распределение концентрации свинца на разных этапах\")\n",
    "plt.show()"
   ]
  },
  {
   "cell_type": "markdown",
   "metadata": {},
   "source": [
    "Концентрация свинца повышается с флотации до первичной очистки, потом усредняется. Свинец является важной составляющей в очистке золота, для грамотного объяснения нужно изучить разные методы очистки, которые используют свинец (например купелирование)"
   ]
  },
  {
   "cell_type": "markdown",
   "metadata": {},
   "source": [
    "### Распределения размеров гранул сырья на обучающей и тестовой выборках. Если распределения сильно отличаются друг от друга, оценка модели будет неправильной."
   ]
  },
  {
   "cell_type": "code",
   "execution_count": 16,
   "metadata": {},
   "outputs": [
    {
     "data": {
      "image/png": "[encoded data removed]",
      "text/plain": [
       "<Figure size 864x648 with 1 Axes>"
      ]
     },
     "metadata": {
      "needs_background": "light"
     },
     "output_type": "display_data"
    }
   ],
   "source": [
    "plt.figure(figsize=[12,9])\n",
    "\n",
    "plt.hist(gold_recovery_train['rougher.input.feed_size'], bins=200, label = 'Train rougher.input.feed_size', alpha=.5)\n",
    "plt.hist(gold_recovery_test['rougher.input.feed_size'], bins=200, label = 'Test rougher.input.feed_size', alpha=.5)\n",
    "\n",
    "plt.xlim([0, 500])\n",
    "plt.ylim([0, 1300])\n",
    "\n",
    "plt.xlabel(\"Размер гранул сырья\")\n",
    "plt.ylabel(\"Количество результатов\")\n",
    "\n",
    "plt.legend(loc='upper left', fontsize='x-large')\n",
    "\n",
    "plt.title(\"Гистограмма распределения гранул сырья перед флотацией\")\n",
    "plt.show()"
   ]
  },
  {
   "cell_type": "markdown",
   "metadata": {},
   "source": [
    "Распределения не отличаются друг от друга"
   ]
  },
  {
   "cell_type": "markdown",
   "metadata": {},
   "source": [
    "### Суммарная концентрацию всех веществ на разных стадиях: в сырье, в черновом и финальном концентратах."
   ]
  },
  {
   "cell_type": "markdown",
   "metadata": {},
   "source": [
    "Подготовка столбцов"
   ]
  },
  {
   "cell_type": "code",
   "execution_count": 17,
   "metadata": {},
   "outputs": [],
   "source": [
    "final_output_concentrate = (gold_recovery_train['final.output.concentrate_au'] + \n",
    "                                      gold_recovery_train['final.output.concentrate_ag'] + \n",
    "                                      gold_recovery_train['final.output.concentrate_pb'] +\n",
    "                                      gold_recovery_train['final.output.concentrate_sol'])\n",
    "primary_cleaner_output = (gold_recovery_train['primary_cleaner.output.concentrate_au'] + \n",
    "                                                gold_recovery_train['primary_cleaner.output.concentrate_ag'] + \n",
    "                                                gold_recovery_train['primary_cleaner.output.concentrate_pb'] +\n",
    "                                                gold_recovery_train['primary_cleaner.output.concentrate_sol'])\n",
    "rougher_output_concentrate = (gold_recovery_train['rougher.output.concentrate_au'] + \n",
    "                                        gold_recovery_train['rougher.output.concentrate_ag'] + \n",
    "                                        gold_recovery_train['rougher.output.concentrate_pb'] +\n",
    "                                        gold_recovery_train['rougher.output.concentrate_sol'])"
   ]
  },
  {
   "cell_type": "code",
   "execution_count": 18,
   "metadata": {
    "scrolled": true
   },
   "outputs": [
    {
     "data": {
      "image/png": "[encoded data removed]",
      "text/plain": [
       "<Figure size 864x648 with 1 Axes>"
      ]
     },
     "metadata": {
      "needs_background": "light"
     },
     "output_type": "display_data"
    }
   ],
   "source": [
    "plt.figure(figsize=[12,9])\n",
    "\n",
    "plt.hist(final_output_concentrate, bins=100, label = 'final_output', alpha=.5)\n",
    "plt.hist(primary_cleaner_output, bins=100, label = 'primary_cleaner_output', alpha=.5)\n",
    "plt.hist(rougher_output_concentrate, bins=100, label = 'rougher_output', alpha=.5)\n",
    "\n",
    "plt.xlim([0, 100])\n",
    "plt.ylim([0, 1500])\n",
    "\n",
    "plt.xlabel(\"Суммарная концентраця\")\n",
    "plt.ylabel(\"Количество результатов\")\n",
    "\n",
    "plt.legend(loc='upper left', fontsize='x-large')\n",
    "\n",
    "plt.title(\"Гистограмма распределения концентраций на разных этапах очистки\")\n",
    "plt.show()"
   ]
  },
  {
   "cell_type": "markdown",
   "metadata": {},
   "source": [
    "### Вывод"
   ]
  },
  {
   "cell_type": "markdown",
   "metadata": {},
   "source": [
    "- Изучено изменение концентрации металлов на разных этапах\n",
    "- Изучено распределение размеров гранул сырья\n",
    "- Изучена суммарная концентрация всех веществ на разных этапах"
   ]
  },
  {
   "cell_type": "markdown",
   "metadata": {},
   "source": [
    "## Модель"
   ]
  },
  {
   "cell_type": "markdown",
   "metadata": {},
   "source": [
    "### Функция для вычисления итоговой sMAPE."
   ]
  },
  {
   "cell_type": "code",
   "execution_count": 19,
   "metadata": {},
   "outputs": [],
   "source": [
    "def smape(y, y_pred, **kwargs):\n",
    "    return (((abs(y - y_pred) * 2 * 100) /\n",
    "              (abs(y) + abs(y_pred))).sum()) / len(y)\n",
    "\n",
    "def end_smape(rougher_smape, final_smape):\n",
    "    return 0.25 * rougher_smape.item() + 0.75 * final_smape.item()"
   ]
  },
  {
   "cell_type": "markdown",
   "metadata": {},
   "source": [
    "### Обучение разных моделей. "
   ]
  },
  {
   "cell_type": "markdown",
   "metadata": {},
   "source": [
    "#### Подготовка данных"
   ]
  },
  {
   "cell_type": "code",
   "execution_count": 20,
   "metadata": {},
   "outputs": [],
   "source": [
    "cols_for_drop = ['final.output.concentrate_ag',\n",
    "                        'final.output.concentrate_au',\n",
    "                        'final.output.concentrate_pb',\n",
    "                        'final.output.concentrate_sol',\n",
    "                        'final.output.tail_ag',\n",
    "                        'final.output.tail_au',\n",
    "                        'final.output.tail_pb',\n",
    "                        'final.output.tail_sol',\n",
    "                        'primary_cleaner.output.concentrate_ag',\n",
    "                        'primary_cleaner.output.concentrate_au',\n",
    "                        'primary_cleaner.output.concentrate_pb',\n",
    "                        'primary_cleaner.output.concentrate_sol',\n",
    "                        'primary_cleaner.output.tail_ag',\n",
    "                        'primary_cleaner.output.tail_au',\n",
    "                        'primary_cleaner.output.tail_pb',\n",
    "                        'primary_cleaner.output.tail_sol',\n",
    "                        'rougher.calculation.au_pb_ratio',\n",
    "                        'rougher.calculation.floatbank10_sulfate_to_au_feed',\n",
    "                        'rougher.calculation.floatbank11_sulfate_to_au_feed',\n",
    "                        'rougher.calculation.sulfate_to_au_concentrate',\n",
    "                        'rougher.output.concentrate_ag',\n",
    "                        'rougher.output.concentrate_au',\n",
    "                        'rougher.output.concentrate_pb',\n",
    "                        'rougher.output.concentrate_sol',\n",
    "                        'rougher.output.tail_ag',\n",
    "                        'rougher.output.tail_au',\n",
    "                        'rougher.output.tail_pb',\n",
    "                        'rougher.output.tail_sol',\n",
    "                        'secondary_cleaner.output.tail_ag',\n",
    "                        'secondary_cleaner.output.tail_au',\n",
    "                        'secondary_cleaner.output.tail_pb',\n",
    "                        'secondary_cleaner.output.tail_sol']\n",
    "gold_recovery_test = gold_recovery_full[gold_recovery_full['date'].isin(gold_recovery_test['date'])]\n",
    "gold_recovery_test = gold_recovery_test.drop(columns=cols_for_drop)\n",
    "gold_recovery_train = gold_recovery_train.drop(columns=cols_for_drop)"
   ]
  },
  {
   "cell_type": "code",
   "execution_count": 21,
   "metadata": {},
   "outputs": [],
   "source": [
    "def feature_target_rougher(data):\n",
    "    data_cols = pd.Series(data.columns)\n",
    "    features_1_col = list(data_cols[data_cols.str.contains('rougher.input|rougher.state')])\n",
    "    features_1 = data[features_1_col]\n",
    "    \n",
    "    scaler_1 = StandardScaler()\n",
    "    features_1 = scaler_1.fit_transform(features_1)\n",
    "    target_1 = data['rougher.output.recovery']\n",
    "    \n",
    "    return features_1, target_1, scaler_1"
   ]
  },
  {
   "cell_type": "code",
   "execution_count": 22,
   "metadata": {},
   "outputs": [],
   "source": [
    "def feature_target_final(data):\n",
    "    features_2 = data.drop(['final.output.recovery', 'rougher.output.recovery', 'date'], axis=1)\n",
    "    \n",
    "    scaler_2 = StandardScaler()\n",
    "    features_2 = scaler_2.fit_transform(features_2)\n",
    "    target_2 = data['final.output.recovery']\n",
    "    \n",
    "    return features_2, target_2, scaler_2"
   ]
  },
  {
   "cell_type": "code",
   "execution_count": 23,
   "metadata": {},
   "outputs": [],
   "source": [
    "def get_cv_scores(model, target, features):\n",
    "    my_scorer = make_scorer(smape)\n",
    "    \n",
    "    scores = cross_val_score(model,\n",
    "                             features,\n",
    "                             target,\n",
    "                             cv=5,\n",
    "                             scoring=my_scorer)\n",
    "    \n",
    "    return scores.mean()"
   ]
  },
  {
   "cell_type": "code",
   "execution_count": 24,
   "metadata": {},
   "outputs": [],
   "source": [
    "features_1, target_1, scaler_1 = feature_target_rougher(gold_recovery_train)\n",
    "features_2, target_2, scaler_2 = feature_target_final(gold_recovery_train)"
   ]
  },
  {
   "cell_type": "markdown",
   "metadata": {},
   "source": [
    "#### Дерево решений"
   ]
  },
  {
   "cell_type": "code",
   "execution_count": 25,
   "metadata": {},
   "outputs": [
    {
     "data": {
      "text/html": [
       "<div>\n",
       "<style scoped>\n",
       "    .dataframe tbody tr th:only-of-type {\n",
       "        vertical-align: middle;\n",
       "    }\n",
       "\n",
       "    .dataframe tbody tr th {\n",
       "        vertical-align: top;\n",
       "    }\n",
       "\n",
       "    .dataframe thead th {\n",
       "        text-align: right;\n",
       "    }\n",
       "</style>\n",
       "<table border=\"1\" class=\"dataframe\">\n",
       "  <thead>\n",
       "    <tr style=\"text-align: right;\">\n",
       "      <th></th>\n",
       "      <th>rougher_smape</th>\n",
       "      <th>final_smape</th>\n",
       "      <th>end_smape</th>\n",
       "      <th>depth</th>\n",
       "    </tr>\n",
       "  </thead>\n",
       "  <tbody>\n",
       "    <tr>\n",
       "      <th>0</th>\n",
       "      <td>6.289882</td>\n",
       "      <td>9.440041</td>\n",
       "      <td>8.652501</td>\n",
       "      <td>2</td>\n",
       "    </tr>\n",
       "    <tr>\n",
       "      <th>3</th>\n",
       "      <td>6.790412</td>\n",
       "      <td>9.285611</td>\n",
       "      <td>8.661811</td>\n",
       "      <td>5</td>\n",
       "    </tr>\n",
       "    <tr>\n",
       "      <th>2</th>\n",
       "      <td>6.449737</td>\n",
       "      <td>9.615441</td>\n",
       "      <td>8.824015</td>\n",
       "      <td>4</td>\n",
       "    </tr>\n",
       "    <tr>\n",
       "      <th>4</th>\n",
       "      <td>6.907700</td>\n",
       "      <td>9.819036</td>\n",
       "      <td>9.091202</td>\n",
       "      <td>6</td>\n",
       "    </tr>\n",
       "    <tr>\n",
       "      <th>1</th>\n",
       "      <td>6.478885</td>\n",
       "      <td>10.008109</td>\n",
       "      <td>9.125803</td>\n",
       "      <td>3</td>\n",
       "    </tr>\n",
       "    <tr>\n",
       "      <th>5</th>\n",
       "      <td>7.285362</td>\n",
       "      <td>10.682454</td>\n",
       "      <td>9.833181</td>\n",
       "      <td>7</td>\n",
       "    </tr>\n",
       "    <tr>\n",
       "      <th>6</th>\n",
       "      <td>7.858785</td>\n",
       "      <td>10.582411</td>\n",
       "      <td>9.901505</td>\n",
       "      <td>8</td>\n",
       "    </tr>\n",
       "    <tr>\n",
       "      <th>7</th>\n",
       "      <td>7.687888</td>\n",
       "      <td>11.268760</td>\n",
       "      <td>10.373542</td>\n",
       "      <td>9</td>\n",
       "    </tr>\n",
       "    <tr>\n",
       "      <th>9</th>\n",
       "      <td>8.139597</td>\n",
       "      <td>11.607883</td>\n",
       "      <td>10.740812</td>\n",
       "      <td>11</td>\n",
       "    </tr>\n",
       "    <tr>\n",
       "      <th>8</th>\n",
       "      <td>7.840535</td>\n",
       "      <td>11.812888</td>\n",
       "      <td>10.819800</td>\n",
       "      <td>10</td>\n",
       "    </tr>\n",
       "    <tr>\n",
       "      <th>10</th>\n",
       "      <td>8.576182</td>\n",
       "      <td>12.653485</td>\n",
       "      <td>11.634159</td>\n",
       "      <td>12</td>\n",
       "    </tr>\n",
       "    <tr>\n",
       "      <th>11</th>\n",
       "      <td>8.240504</td>\n",
       "      <td>13.316870</td>\n",
       "      <td>12.047779</td>\n",
       "      <td>13</td>\n",
       "    </tr>\n",
       "  </tbody>\n",
       "</table>\n",
       "</div>"
      ],
      "text/plain": [
       "    rougher_smape  final_smape  end_smape  depth\n",
       "0        6.289882     9.440041   8.652501      2\n",
       "3        6.790412     9.285611   8.661811      5\n",
       "2        6.449737     9.615441   8.824015      4\n",
       "4        6.907700     9.819036   9.091202      6\n",
       "1        6.478885    10.008109   9.125803      3\n",
       "5        7.285362    10.682454   9.833181      7\n",
       "6        7.858785    10.582411   9.901505      8\n",
       "7        7.687888    11.268760  10.373542      9\n",
       "9        8.139597    11.607883  10.740812     11\n",
       "8        7.840535    11.812888  10.819800     10\n",
       "10       8.576182    12.653485  11.634159     12\n",
       "11       8.240504    13.316870  12.047779     13"
      ]
     },
     "execution_count": 25,
     "metadata": {},
     "output_type": "execute_result"
    }
   ],
   "source": [
    "d = defaultdict(list)\n",
    "\n",
    "for depth in range(2, 14):\n",
    "    \n",
    "    model_1 = DecisionTreeRegressor(max_depth=depth, random_state=RANDOM_STATE)\n",
    "    model_2 = DecisionTreeRegressor(max_depth=depth, random_state=RANDOM_STATE)\n",
    "\n",
    "\n",
    "    rougher_smape = get_cv_scores(model_1, target_1, features_1)\n",
    "    final_smape = get_cv_scores(model_2, target_2, features_2)\n",
    "    d['rougher_smape'].append(rougher_smape)\n",
    "    d['final_smape'].append(final_smape)\n",
    "    d['end_smape'].append(end_smape(rougher_smape, final_smape))\n",
    "    d['depth'].append(depth)\n",
    "\n",
    "pd.DataFrame(d).sort_values(by='end_smape')"
   ]
  },
  {
   "cell_type": "markdown",
   "metadata": {},
   "source": [
    "Лучший sMAPE получился при следующих параметрах модели:\n",
    "- depth = 2\n",
    "- end_smape = 8.652501\n",
    "- final_smape = 9.440041\n",
    "- rougher_smape\t= 6.289882"
   ]
  },
  {
   "cell_type": "markdown",
   "metadata": {},
   "source": [
    "#### Случайный лес"
   ]
  },
  {
   "cell_type": "code",
   "execution_count": 26,
   "metadata": {},
   "outputs": [
    {
     "data": {
      "text/html": [
       "<div>\n",
       "<style scoped>\n",
       "    .dataframe tbody tr th:only-of-type {\n",
       "        vertical-align: middle;\n",
       "    }\n",
       "\n",
       "    .dataframe tbody tr th {\n",
       "        vertical-align: top;\n",
       "    }\n",
       "\n",
       "    .dataframe thead th {\n",
       "        text-align: right;\n",
       "    }\n",
       "</style>\n",
       "<table border=\"1\" class=\"dataframe\">\n",
       "  <thead>\n",
       "    <tr style=\"text-align: right;\">\n",
       "      <th></th>\n",
       "      <th>rougher_smape</th>\n",
       "      <th>final_smape</th>\n",
       "      <th>end_smape</th>\n",
       "      <th>estim</th>\n",
       "    </tr>\n",
       "  </thead>\n",
       "  <tbody>\n",
       "    <tr>\n",
       "      <th>18</th>\n",
       "      <td>5.971861</td>\n",
       "      <td>8.979063</td>\n",
       "      <td>8.227262</td>\n",
       "      <td>19</td>\n",
       "    </tr>\n",
       "    <tr>\n",
       "      <th>17</th>\n",
       "      <td>5.973547</td>\n",
       "      <td>8.990209</td>\n",
       "      <td>8.236043</td>\n",
       "      <td>18</td>\n",
       "    </tr>\n",
       "    <tr>\n",
       "      <th>16</th>\n",
       "      <td>5.977632</td>\n",
       "      <td>9.024782</td>\n",
       "      <td>8.262995</td>\n",
       "      <td>17</td>\n",
       "    </tr>\n",
       "    <tr>\n",
       "      <th>15</th>\n",
       "      <td>5.986643</td>\n",
       "      <td>9.042535</td>\n",
       "      <td>8.278562</td>\n",
       "      <td>16</td>\n",
       "    </tr>\n",
       "    <tr>\n",
       "      <th>14</th>\n",
       "      <td>5.986624</td>\n",
       "      <td>9.069734</td>\n",
       "      <td>8.298957</td>\n",
       "      <td>15</td>\n",
       "    </tr>\n",
       "    <tr>\n",
       "      <th>12</th>\n",
       "      <td>5.992170</td>\n",
       "      <td>9.076181</td>\n",
       "      <td>8.305178</td>\n",
       "      <td>13</td>\n",
       "    </tr>\n",
       "    <tr>\n",
       "      <th>11</th>\n",
       "      <td>5.980098</td>\n",
       "      <td>9.086371</td>\n",
       "      <td>8.309803</td>\n",
       "      <td>12</td>\n",
       "    </tr>\n",
       "    <tr>\n",
       "      <th>13</th>\n",
       "      <td>5.990531</td>\n",
       "      <td>9.086074</td>\n",
       "      <td>8.312188</td>\n",
       "      <td>14</td>\n",
       "    </tr>\n",
       "    <tr>\n",
       "      <th>5</th>\n",
       "      <td>5.989890</td>\n",
       "      <td>9.097722</td>\n",
       "      <td>8.320764</td>\n",
       "      <td>6</td>\n",
       "    </tr>\n",
       "    <tr>\n",
       "      <th>10</th>\n",
       "      <td>5.960532</td>\n",
       "      <td>9.115595</td>\n",
       "      <td>8.326829</td>\n",
       "      <td>11</td>\n",
       "    </tr>\n",
       "    <tr>\n",
       "      <th>4</th>\n",
       "      <td>5.949971</td>\n",
       "      <td>9.126926</td>\n",
       "      <td>8.332687</td>\n",
       "      <td>5</td>\n",
       "    </tr>\n",
       "    <tr>\n",
       "      <th>0</th>\n",
       "      <td>5.977539</td>\n",
       "      <td>9.123114</td>\n",
       "      <td>8.336720</td>\n",
       "      <td>1</td>\n",
       "    </tr>\n",
       "    <tr>\n",
       "      <th>9</th>\n",
       "      <td>5.966056</td>\n",
       "      <td>9.142270</td>\n",
       "      <td>8.348216</td>\n",
       "      <td>10</td>\n",
       "    </tr>\n",
       "    <tr>\n",
       "      <th>6</th>\n",
       "      <td>5.982200</td>\n",
       "      <td>9.145331</td>\n",
       "      <td>8.354548</td>\n",
       "      <td>7</td>\n",
       "    </tr>\n",
       "    <tr>\n",
       "      <th>7</th>\n",
       "      <td>5.963298</td>\n",
       "      <td>9.193286</td>\n",
       "      <td>8.385789</td>\n",
       "      <td>8</td>\n",
       "    </tr>\n",
       "    <tr>\n",
       "      <th>8</th>\n",
       "      <td>5.958805</td>\n",
       "      <td>9.211287</td>\n",
       "      <td>8.398166</td>\n",
       "      <td>9</td>\n",
       "    </tr>\n",
       "    <tr>\n",
       "      <th>3</th>\n",
       "      <td>5.961004</td>\n",
       "      <td>9.213714</td>\n",
       "      <td>8.400537</td>\n",
       "      <td>4</td>\n",
       "    </tr>\n",
       "    <tr>\n",
       "      <th>1</th>\n",
       "      <td>5.898953</td>\n",
       "      <td>9.265455</td>\n",
       "      <td>8.423829</td>\n",
       "      <td>2</td>\n",
       "    </tr>\n",
       "    <tr>\n",
       "      <th>2</th>\n",
       "      <td>5.973213</td>\n",
       "      <td>9.340089</td>\n",
       "      <td>8.498370</td>\n",
       "      <td>3</td>\n",
       "    </tr>\n",
       "  </tbody>\n",
       "</table>\n",
       "</div>"
      ],
      "text/plain": [
       "    rougher_smape  final_smape  end_smape  estim\n",
       "18       5.971861     8.979063   8.227262     19\n",
       "17       5.973547     8.990209   8.236043     18\n",
       "16       5.977632     9.024782   8.262995     17\n",
       "15       5.986643     9.042535   8.278562     16\n",
       "14       5.986624     9.069734   8.298957     15\n",
       "12       5.992170     9.076181   8.305178     13\n",
       "11       5.980098     9.086371   8.309803     12\n",
       "13       5.990531     9.086074   8.312188     14\n",
       "5        5.989890     9.097722   8.320764      6\n",
       "10       5.960532     9.115595   8.326829     11\n",
       "4        5.949971     9.126926   8.332687      5\n",
       "0        5.977539     9.123114   8.336720      1\n",
       "9        5.966056     9.142270   8.348216     10\n",
       "6        5.982200     9.145331   8.354548      7\n",
       "7        5.963298     9.193286   8.385789      8\n",
       "8        5.958805     9.211287   8.398166      9\n",
       "3        5.961004     9.213714   8.400537      4\n",
       "1        5.898953     9.265455   8.423829      2\n",
       "2        5.973213     9.340089   8.498370      3"
      ]
     },
     "execution_count": 26,
     "metadata": {},
     "output_type": "execute_result"
    }
   ],
   "source": [
    "random_forest = defaultdict(list)\n",
    "\n",
    "for estim in range(1, 20):\n",
    "    \n",
    "    model_1 = RandomForestRegressor(max_depth=2, n_estimators=estim, random_state=RANDOM_STATE)\n",
    "    model_2 = RandomForestRegressor(max_depth=2, n_estimators=estim, random_state=RANDOM_STATE)\n",
    "    \n",
    "    rougher_smape = get_cv_scores(model_1, target_1, features_1)\n",
    "    final_smape = get_cv_scores(model_2, target_2, features_2)\n",
    "    \n",
    "    random_forest['rougher_smape'].append(rougher_smape)\n",
    "    random_forest['final_smape'].append(final_smape)\n",
    "    random_forest['end_smape'].append(end_smape(rougher_smape, final_smape))\n",
    "    random_forest['estim'].append(estim)\n",
    "\n",
    "pd.DataFrame(random_forest).sort_values(by='end_smape')"
   ]
  },
  {
   "cell_type": "markdown",
   "metadata": {},
   "source": [
    "Лучший sMAPE получился при следующих параметрах модели:\n",
    "- estimators = 19\n",
    "- end_smape = 8.227262\n",
    "- final_smape = 8.979063\n",
    "- rougher_smape = 5.971861"
   ]
  },
  {
   "cell_type": "markdown",
   "metadata": {},
   "source": [
    "#### Линейная регрессия"
   ]
  },
  {
   "cell_type": "code",
   "execution_count": 27,
   "metadata": {},
   "outputs": [
    {
     "data": {
      "text/plain": [
       "rougher_smape    6.275352\n",
       "final_smape      9.151713\n",
       "end_smape        8.432623\n",
       "dtype: float64"
      ]
     },
     "execution_count": 27,
     "metadata": {},
     "output_type": "execute_result"
    }
   ],
   "source": [
    "model_1 = LinearRegression()\n",
    "model_2 = LinearRegression()\n",
    "\n",
    "rougher_smape = get_cv_scores(model_1, target_1, features_1)\n",
    "final_smape = get_cv_scores(model_2, target_2, features_2)\n",
    "end_smape_ = end_smape(rougher_smape, final_smape)\n",
    "\n",
    "data_lr_temp = pd.Series({'rougher_smape': rougher_smape,\n",
    "                           'final_smape': final_smape,\n",
    "                           'end_smape': end_smape_}) \n",
    "data_lr_temp"
   ]
  },
  {
   "cell_type": "markdown",
   "metadata": {},
   "source": [
    "### Проверка лучшей модели на тестовой выборке"
   ]
  },
  {
   "cell_type": "code",
   "execution_count": 28,
   "metadata": {},
   "outputs": [],
   "source": [
    "def feature_target_rougher_test(data, scaler_1):\n",
    "    data_cols = pd.Series(data.columns)\n",
    "    features_1_col_test = list(data_cols[data_cols.str.contains('rougher.input|rougher.state')])\n",
    "    features_1_test = data[features_1_col_test]\n",
    "    features_1_test = scaler_1.transform(features_1_test)\n",
    "    target_1_test = data['rougher.output.recovery']\n",
    "    \n",
    "    return features_1_test, target_1_test, scaler_1"
   ]
  },
  {
   "cell_type": "code",
   "execution_count": 29,
   "metadata": {},
   "outputs": [],
   "source": [
    "def feature_target_final_test(data, scaler_2):\n",
    "    features_2_test = data.drop(['final.output.recovery', 'rougher.output.recovery', 'date'], axis=1)\n",
    "    features_2_test = scaler_2.transform(features_2_test)\n",
    "    target_2_test = data['final.output.recovery']\n",
    "    \n",
    "    return features_2_test, target_2_test, scaler_2"
   ]
  },
  {
   "cell_type": "code",
   "execution_count": 30,
   "metadata": {},
   "outputs": [],
   "source": [
    "features_1_test, target_1_test, scaler_1 = feature_target_rougher_test(gold_recovery_test, scaler_1)\n",
    "features_2_test, target_2_test, scaler_2 = feature_target_final_test(gold_recovery_test, scaler_2)"
   ]
  },
  {
   "cell_type": "code",
   "execution_count": 31,
   "metadata": {
    "scrolled": true
   },
   "outputs": [
    {
     "data": {
      "text/html": [
       "<div>\n",
       "<style scoped>\n",
       "    .dataframe tbody tr th:only-of-type {\n",
       "        vertical-align: middle;\n",
       "    }\n",
       "\n",
       "    .dataframe tbody tr th {\n",
       "        vertical-align: top;\n",
       "    }\n",
       "\n",
       "    .dataframe thead th {\n",
       "        text-align: right;\n",
       "    }\n",
       "</style>\n",
       "<table border=\"1\" class=\"dataframe\">\n",
       "  <thead>\n",
       "    <tr style=\"text-align: right;\">\n",
       "      <th></th>\n",
       "      <th>rougher_smape</th>\n",
       "      <th>final_smape</th>\n",
       "      <th>end_smape</th>\n",
       "    </tr>\n",
       "  </thead>\n",
       "  <tbody>\n",
       "    <tr>\n",
       "      <th>0</th>\n",
       "      <td>7.960058</td>\n",
       "      <td>8.53094</td>\n",
       "      <td>8.388219</td>\n",
       "    </tr>\n",
       "  </tbody>\n",
       "</table>\n",
       "</div>"
      ],
      "text/plain": [
       "   rougher_smape  final_smape  end_smape\n",
       "0       7.960058      8.53094   8.388219"
      ]
     },
     "execution_count": 31,
     "metadata": {},
     "output_type": "execute_result"
    }
   ],
   "source": [
    "from collections import defaultdict\n",
    "test_dict = defaultdict(list)\n",
    "\n",
    "model_1 = RandomForestRegressor(max_depth=2, n_estimators=19, random_state=RANDOM_STATE)\n",
    "model_2 =  RandomForestRegressor(max_depth=2, n_estimators=19, random_state=RANDOM_STATE)\n",
    "\n",
    "model_1.fit(features_1, target_1)\n",
    "model_2.fit(features_2, target_2)\n",
    "\n",
    "train_predictions_1 = model_1.predict(features_1_test)\n",
    "train_predictions_2 = model_2.predict(features_2_test)\n",
    "\n",
    " \n",
    "test_dict['rougher_smape'].append(smape(target_1_test, train_predictions_1))\n",
    "test_dict['final_smape'].append(smape(target_2_test, train_predictions_2))\n",
    "test_dict['end_smape'].append(end_smape(smape(target_1_test, train_predictions_1), smape(target_2_test, train_predictions_2)))\n",
    "\n",
    "pd.DataFrame(test_dict)"
   ]
  },
  {
   "cell_type": "markdown",
   "metadata": {},
   "source": [
    "### DummyRegressor"
   ]
  },
  {
   "cell_type": "code",
   "execution_count": 32,
   "metadata": {},
   "outputs": [
    {
     "data": {
      "text/plain": [
       "rougher_smape    7.536824\n",
       "final_smape      9.414763\n",
       "end_smape        8.945278\n",
       "dtype: float64"
      ]
     },
     "execution_count": 32,
     "metadata": {},
     "output_type": "execute_result"
    }
   ],
   "source": [
    "features_1, target_1, scaler_1 = feature_target_rougher(gold_recovery_train)\n",
    "features_2, target_2, scaler_2 = feature_target_final(gold_recovery_train)\n",
    "\n",
    "model_1 = DummyRegressor(strategy=\"mean\")\n",
    "model_2 = DummyRegressor(strategy=\"mean\")\n",
    "\n",
    "rougher_smape = get_cv_scores(model_1, target_1, features_1)\n",
    "final_smape = get_cv_scores(model_2, target_2, features_2)\n",
    "end_smape_ = end_smape(rougher_smape, final_smape)\n",
    "\n",
    "drm = pd.Series({'rougher_smape': rougher_smape,\n",
    "                           'final_smape': final_smape,\n",
    "                           'end_smape': end_smape_}) \n",
    "drm"
   ]
  },
  {
   "cell_type": "markdown",
   "metadata": {},
   "source": [
    "### Вывод"
   ]
  },
  {
   "cell_type": "markdown",
   "metadata": {},
   "source": [
    "Лучшей моделью является модель случайного леса с параметрами max_depth = 2, n_estimators=19. \n",
    "\n",
    "Показатель sMAPE на тестовой выборке равен 8.388219\n",
    "\n",
    "**На тестовой выборке модель показала себя лучше, чем на константной, что доказывает правильность выбора данной модели**"
   ]
  }
 ],
 "metadata": {
  "ExecuteTimeLog": [
   {
    "duration": 1506,
    "start_time": "2022-09-04T14:27:48.578Z"
   },
   {
    "duration": 2157,
    "start_time": "2022-09-04T14:28:02.616Z"
   },
   {
    "duration": 880,
    "start_time": "2022-09-04T14:30:22.864Z"
   },
   {
    "duration": 2627,
    "start_time": "2022-09-04T14:31:24.607Z"
   },
   {
    "duration": 3,
    "start_time": "2022-09-04T14:36:24.906Z"
   },
   {
    "duration": 903,
    "start_time": "2022-09-04T14:36:26.071Z"
   },
   {
    "duration": 1608,
    "start_time": "2022-09-05T11:47:38.458Z"
   },
   {
    "duration": 3,
    "start_time": "2022-09-05T11:47:40.068Z"
   },
   {
    "duration": 3236,
    "start_time": "2022-09-05T11:47:40.073Z"
   },
   {
    "duration": 99,
    "start_time": "2022-09-05T11:59:30.188Z"
   },
   {
    "duration": 4,
    "start_time": "2022-09-05T11:59:33.587Z"
   },
   {
    "duration": 3,
    "start_time": "2022-09-05T11:59:34.129Z"
   },
   {
    "duration": 281,
    "start_time": "2022-09-05T11:59:35.145Z"
   },
   {
    "duration": 107,
    "start_time": "2022-09-05T11:59:38.929Z"
   },
   {
    "duration": 354,
    "start_time": "2022-09-05T11:59:42.127Z"
   },
   {
    "duration": 387,
    "start_time": "2022-09-05T12:03:16.932Z"
   },
   {
    "duration": 518,
    "start_time": "2022-09-05T12:03:37.636Z"
   },
   {
    "duration": 279,
    "start_time": "2022-09-05T12:04:08.887Z"
   },
   {
    "duration": 100,
    "start_time": "2022-09-05T12:04:38.147Z"
   },
   {
    "duration": 103,
    "start_time": "2022-09-05T12:05:47.142Z"
   },
   {
    "duration": 400,
    "start_time": "2022-09-05T12:05:56.217Z"
   },
   {
    "duration": 288,
    "start_time": "2022-09-05T12:06:16.030Z"
   },
   {
    "duration": 7,
    "start_time": "2022-09-05T12:11:00.192Z"
   },
   {
    "duration": 7,
    "start_time": "2022-09-05T12:14:18.051Z"
   },
   {
    "duration": 7,
    "start_time": "2022-09-05T12:14:42.126Z"
   },
   {
    "duration": 5,
    "start_time": "2022-09-05T12:20:52.371Z"
   },
   {
    "duration": 4,
    "start_time": "2022-09-05T14:46:30.580Z"
   },
   {
    "duration": 8,
    "start_time": "2022-09-05T14:47:00.340Z"
   },
   {
    "duration": 10,
    "start_time": "2022-09-05T14:47:17.167Z"
   },
   {
    "duration": 8,
    "start_time": "2022-09-05T14:47:24.290Z"
   },
   {
    "duration": 22,
    "start_time": "2022-09-05T14:47:47.105Z"
   },
   {
    "duration": 6,
    "start_time": "2022-09-05T14:48:06.627Z"
   },
   {
    "duration": 10,
    "start_time": "2022-09-05T14:48:08.935Z"
   },
   {
    "duration": 10,
    "start_time": "2022-09-05T14:50:13.830Z"
   },
   {
    "duration": 11,
    "start_time": "2022-09-05T14:50:59.899Z"
   },
   {
    "duration": 7,
    "start_time": "2022-09-05T14:51:01.453Z"
   },
   {
    "duration": 11,
    "start_time": "2022-09-05T14:51:02.342Z"
   },
   {
    "duration": 13,
    "start_time": "2022-09-05T14:51:49.622Z"
   },
   {
    "duration": 24,
    "start_time": "2022-09-05T15:13:02.325Z"
   },
   {
    "duration": 16,
    "start_time": "2022-09-05T15:17:03.603Z"
   },
   {
    "duration": 18,
    "start_time": "2022-09-05T15:17:08.495Z"
   },
   {
    "duration": 8,
    "start_time": "2022-09-05T15:17:10.604Z"
   },
   {
    "duration": 12,
    "start_time": "2022-09-05T15:17:13.972Z"
   },
   {
    "duration": 639,
    "start_time": "2022-09-05T15:18:59.005Z"
   },
   {
    "duration": 581,
    "start_time": "2022-09-05T15:23:23.212Z"
   },
   {
    "duration": 21,
    "start_time": "2022-09-05T15:23:59.987Z"
   },
   {
    "duration": 608,
    "start_time": "2022-09-05T15:24:11.760Z"
   },
   {
    "duration": 785,
    "start_time": "2022-09-05T15:24:58.915Z"
   },
   {
    "duration": 698,
    "start_time": "2022-09-05T15:32:05.680Z"
   },
   {
    "duration": 19,
    "start_time": "2022-09-05T15:39:34.430Z"
   },
   {
    "duration": 790,
    "start_time": "2022-09-05T15:39:41.071Z"
   },
   {
    "duration": 429,
    "start_time": "2022-09-05T15:40:32.338Z"
   },
   {
    "duration": 789,
    "start_time": "2022-09-05T15:40:56.405Z"
   },
   {
    "duration": 862,
    "start_time": "2022-09-05T15:41:10.387Z"
   },
   {
    "duration": 737,
    "start_time": "2022-09-05T15:41:18.912Z"
   },
   {
    "duration": 852,
    "start_time": "2022-09-05T15:41:30.345Z"
   },
   {
    "duration": 727,
    "start_time": "2022-09-05T15:41:37.187Z"
   },
   {
    "duration": 8,
    "start_time": "2022-09-05T15:51:59.314Z"
   },
   {
    "duration": 783,
    "start_time": "2022-09-05T15:52:20.729Z"
   },
   {
    "duration": 10,
    "start_time": "2022-09-05T15:58:58.420Z"
   },
   {
    "duration": 8,
    "start_time": "2022-09-05T15:59:10.073Z"
   },
   {
    "duration": 15,
    "start_time": "2022-09-05T15:59:19.049Z"
   },
   {
    "duration": 510,
    "start_time": "2022-09-05T15:59:22.439Z"
   },
   {
    "duration": 492,
    "start_time": "2022-09-05T15:59:36.794Z"
   },
   {
    "duration": 671,
    "start_time": "2022-09-05T16:00:20.124Z"
   },
   {
    "duration": 10,
    "start_time": "2022-09-05T16:00:54.973Z"
   },
   {
    "duration": 21,
    "start_time": "2022-09-05T16:01:08.680Z"
   },
   {
    "duration": 502,
    "start_time": "2022-09-05T16:01:11.168Z"
   },
   {
    "duration": 6,
    "start_time": "2022-09-05T16:01:41.756Z"
   },
   {
    "duration": 492,
    "start_time": "2022-09-05T16:01:44.662Z"
   },
   {
    "duration": 624,
    "start_time": "2022-09-05T16:01:51.601Z"
   },
   {
    "duration": 10,
    "start_time": "2022-09-05T16:03:54.427Z"
   },
   {
    "duration": 642,
    "start_time": "2022-09-05T16:03:55.938Z"
   },
   {
    "duration": 552,
    "start_time": "2022-09-05T16:03:57.432Z"
   },
   {
    "duration": 12,
    "start_time": "2022-09-05T16:06:42.492Z"
   },
   {
    "duration": 681,
    "start_time": "2022-09-05T16:06:43.570Z"
   },
   {
    "duration": 628,
    "start_time": "2022-09-05T16:06:45.932Z"
   },
   {
    "duration": 4,
    "start_time": "2022-09-05T16:07:01.544Z"
   },
   {
    "duration": 7,
    "start_time": "2022-09-05T16:07:13.166Z"
   },
   {
    "duration": 704,
    "start_time": "2022-09-05T16:07:14.142Z"
   },
   {
    "duration": 588,
    "start_time": "2022-09-05T16:07:15.271Z"
   },
   {
    "duration": 1422,
    "start_time": "2022-09-05T16:07:26.843Z"
   },
   {
    "duration": 3,
    "start_time": "2022-09-05T16:07:28.266Z"
   },
   {
    "duration": 343,
    "start_time": "2022-09-05T16:07:28.270Z"
   },
   {
    "duration": 107,
    "start_time": "2022-09-05T16:07:28.615Z"
   },
   {
    "duration": 396,
    "start_time": "2022-09-05T16:07:28.724Z"
   },
   {
    "duration": 7,
    "start_time": "2022-09-05T16:07:29.121Z"
   },
   {
    "duration": 10,
    "start_time": "2022-09-05T16:07:29.130Z"
   },
   {
    "duration": 11,
    "start_time": "2022-09-05T16:07:29.142Z"
   },
   {
    "duration": 6,
    "start_time": "2022-09-05T16:07:29.155Z"
   },
   {
    "duration": 30,
    "start_time": "2022-09-05T16:07:29.163Z"
   },
   {
    "duration": 27,
    "start_time": "2022-09-05T16:07:29.198Z"
   },
   {
    "duration": 604,
    "start_time": "2022-09-05T16:07:29.227Z"
   },
   {
    "duration": 680,
    "start_time": "2022-09-05T16:07:29.832Z"
   },
   {
    "duration": 614,
    "start_time": "2022-09-05T16:07:30.515Z"
   },
   {
    "duration": 808,
    "start_time": "2022-09-05T16:07:31.131Z"
   },
   {
    "duration": 7,
    "start_time": "2022-09-05T16:07:31.941Z"
   },
   {
    "duration": 604,
    "start_time": "2022-09-05T16:07:31.949Z"
   },
   {
    "duration": 576,
    "start_time": "2022-09-05T16:07:32.555Z"
   },
   {
    "duration": 10,
    "start_time": "2022-09-05T16:07:42.804Z"
   },
   {
    "duration": 697,
    "start_time": "2022-09-05T16:07:47.856Z"
   },
   {
    "duration": 9,
    "start_time": "2022-09-05T16:07:55.274Z"
   },
   {
    "duration": 555,
    "start_time": "2022-09-05T16:08:00.468Z"
   },
   {
    "duration": 13,
    "start_time": "2022-09-05T16:08:24.603Z"
   },
   {
    "duration": 577,
    "start_time": "2022-09-05T16:08:25.574Z"
   },
   {
    "duration": 696,
    "start_time": "2022-09-05T16:08:27.272Z"
   },
   {
    "duration": 7,
    "start_time": "2022-09-05T16:08:30.243Z"
   },
   {
    "duration": 587,
    "start_time": "2022-09-05T16:08:30.635Z"
   },
   {
    "duration": 20,
    "start_time": "2022-09-05T16:09:17.850Z"
   },
   {
    "duration": 667,
    "start_time": "2022-09-05T16:09:18.861Z"
   },
   {
    "duration": 548,
    "start_time": "2022-09-05T16:09:20.683Z"
   },
   {
    "duration": 7,
    "start_time": "2022-09-05T16:09:21.933Z"
   },
   {
    "duration": 550,
    "start_time": "2022-09-05T16:09:23.252Z"
   },
   {
    "duration": 17,
    "start_time": "2022-09-05T16:10:27.727Z"
   },
   {
    "duration": 695,
    "start_time": "2022-09-05T16:10:28.910Z"
   },
   {
    "duration": 541,
    "start_time": "2022-09-05T16:10:30.536Z"
   },
   {
    "duration": 8,
    "start_time": "2022-09-05T16:10:31.469Z"
   },
   {
    "duration": 534,
    "start_time": "2022-09-05T16:10:32.047Z"
   },
   {
    "duration": 40,
    "start_time": "2022-09-05T16:12:11.786Z"
   },
   {
    "duration": 731,
    "start_time": "2022-09-05T16:12:12.268Z"
   },
   {
    "duration": 582,
    "start_time": "2022-09-05T16:12:14.028Z"
   },
   {
    "duration": 7,
    "start_time": "2022-09-05T16:12:16.171Z"
   },
   {
    "duration": 559,
    "start_time": "2022-09-05T16:12:18.282Z"
   },
   {
    "duration": 147,
    "start_time": "2022-09-05T16:12:32.118Z"
   },
   {
    "duration": 577,
    "start_time": "2022-09-05T16:12:32.729Z"
   },
   {
    "duration": 547,
    "start_time": "2022-09-05T16:12:35.129Z"
   },
   {
    "duration": 7,
    "start_time": "2022-09-05T16:12:38.310Z"
   },
   {
    "duration": 667,
    "start_time": "2022-09-05T16:12:38.660Z"
   },
   {
    "duration": 29,
    "start_time": "2022-09-05T16:13:06.758Z"
   },
   {
    "duration": 589,
    "start_time": "2022-09-05T16:13:07.999Z"
   },
   {
    "duration": 543,
    "start_time": "2022-09-05T16:13:10.803Z"
   },
   {
    "duration": 7,
    "start_time": "2022-09-05T16:13:11.348Z"
   },
   {
    "duration": 695,
    "start_time": "2022-09-05T16:13:11.715Z"
   },
   {
    "duration": 7,
    "start_time": "2022-09-05T16:14:20.278Z"
   },
   {
    "duration": 116,
    "start_time": "2022-09-05T16:14:41.599Z"
   },
   {
    "duration": 6,
    "start_time": "2022-09-05T16:14:48.103Z"
   },
   {
    "duration": 9,
    "start_time": "2022-09-05T16:14:56.441Z"
   },
   {
    "duration": 9,
    "start_time": "2022-09-05T17:29:09.960Z"
   },
   {
    "duration": 1458,
    "start_time": "2022-09-05T17:29:31.055Z"
   },
   {
    "duration": 3,
    "start_time": "2022-09-05T17:29:32.515Z"
   },
   {
    "duration": 343,
    "start_time": "2022-09-05T17:29:32.520Z"
   },
   {
    "duration": 96,
    "start_time": "2022-09-05T17:29:32.865Z"
   },
   {
    "duration": 372,
    "start_time": "2022-09-05T17:29:32.963Z"
   },
   {
    "duration": 9,
    "start_time": "2022-09-05T17:29:33.337Z"
   },
   {
    "duration": 6,
    "start_time": "2022-09-05T17:29:33.348Z"
   },
   {
    "duration": 13,
    "start_time": "2022-09-05T17:29:33.356Z"
   },
   {
    "duration": 33,
    "start_time": "2022-09-05T17:29:33.370Z"
   },
   {
    "duration": 13,
    "start_time": "2022-09-05T17:29:33.405Z"
   },
   {
    "duration": 20,
    "start_time": "2022-09-05T17:29:33.420Z"
   },
   {
    "duration": 572,
    "start_time": "2022-09-05T17:29:33.442Z"
   },
   {
    "duration": 640,
    "start_time": "2022-09-05T17:29:34.016Z"
   },
   {
    "duration": 568,
    "start_time": "2022-09-05T17:29:34.658Z"
   },
   {
    "duration": 778,
    "start_time": "2022-09-05T17:29:35.228Z"
   },
   {
    "duration": 23,
    "start_time": "2022-09-05T17:29:36.009Z"
   },
   {
    "duration": 722,
    "start_time": "2022-09-05T17:29:36.035Z"
   },
   {
    "duration": 540,
    "start_time": "2022-09-05T17:29:36.759Z"
   },
   {
    "duration": 4,
    "start_time": "2022-09-05T17:29:37.302Z"
   },
   {
    "duration": 17,
    "start_time": "2022-09-05T17:29:37.308Z"
   },
   {
    "duration": 12,
    "start_time": "2022-09-05T17:29:37.327Z"
   },
   {
    "duration": 4,
    "start_time": "2022-09-05T17:30:40.003Z"
   },
   {
    "duration": 129,
    "start_time": "2022-09-05T17:30:40.781Z"
   },
   {
    "duration": 1122,
    "start_time": "2022-09-05T17:30:59.068Z"
   },
   {
    "duration": 16,
    "start_time": "2022-09-05T17:32:50.703Z"
   },
   {
    "duration": 15,
    "start_time": "2022-09-05T17:32:58.140Z"
   },
   {
    "duration": 18,
    "start_time": "2022-09-05T17:33:10.904Z"
   },
   {
    "duration": 1417,
    "start_time": "2022-09-05T17:33:21.906Z"
   },
   {
    "duration": 3,
    "start_time": "2022-09-05T17:33:23.325Z"
   },
   {
    "duration": 336,
    "start_time": "2022-09-05T17:33:23.330Z"
   },
   {
    "duration": 94,
    "start_time": "2022-09-05T17:33:23.668Z"
   },
   {
    "duration": 388,
    "start_time": "2022-09-05T17:33:23.764Z"
   },
   {
    "duration": 8,
    "start_time": "2022-09-05T17:33:24.154Z"
   },
   {
    "duration": 40,
    "start_time": "2022-09-05T17:33:24.164Z"
   },
   {
    "duration": 10,
    "start_time": "2022-09-05T17:33:24.207Z"
   },
   {
    "duration": 9,
    "start_time": "2022-09-05T17:33:24.218Z"
   },
   {
    "duration": 26,
    "start_time": "2022-09-05T17:33:24.229Z"
   },
   {
    "duration": 23,
    "start_time": "2022-09-05T17:33:24.257Z"
   },
   {
    "duration": 573,
    "start_time": "2022-09-05T17:33:24.281Z"
   },
   {
    "duration": 666,
    "start_time": "2022-09-05T17:33:24.856Z"
   },
   {
    "duration": 627,
    "start_time": "2022-09-05T17:33:25.525Z"
   },
   {
    "duration": 1000,
    "start_time": "2022-09-05T17:33:26.154Z"
   },
   {
    "duration": 42,
    "start_time": "2022-09-05T17:33:27.156Z"
   },
   {
    "duration": 605,
    "start_time": "2022-09-05T17:33:27.199Z"
   },
   {
    "duration": 4,
    "start_time": "2022-09-05T17:33:27.807Z"
   },
   {
    "duration": 15,
    "start_time": "2022-09-05T17:33:27.813Z"
   },
   {
    "duration": 10,
    "start_time": "2022-09-05T17:33:27.830Z"
   },
   {
    "duration": 10,
    "start_time": "2022-09-05T17:33:27.842Z"
   },
   {
    "duration": 37,
    "start_time": "2022-09-05T17:33:27.853Z"
   },
   {
    "duration": 156,
    "start_time": "2022-09-05T17:34:51.561Z"
   },
   {
    "duration": 11,
    "start_time": "2022-09-05T17:35:14.135Z"
   },
   {
    "duration": 4,
    "start_time": "2022-09-05T17:35:38.803Z"
   },
   {
    "duration": 31,
    "start_time": "2022-09-05T17:35:39.225Z"
   },
   {
    "duration": 24819,
    "start_time": "2022-09-05T17:35:41.206Z"
   },
   {
    "duration": 111372,
    "start_time": "2022-09-05T17:39:07.142Z"
   },
   {
    "duration": 4338,
    "start_time": "2022-09-05T17:44:36.165Z"
   },
   {
    "duration": 1565,
    "start_time": "2022-09-05T17:51:12.378Z"
   },
   {
    "duration": 3,
    "start_time": "2022-09-05T17:51:13.945Z"
   },
   {
    "duration": 406,
    "start_time": "2022-09-05T17:51:13.949Z"
   },
   {
    "duration": 102,
    "start_time": "2022-09-05T17:51:14.357Z"
   },
   {
    "duration": 458,
    "start_time": "2022-09-05T17:51:14.461Z"
   },
   {
    "duration": 13,
    "start_time": "2022-09-05T17:51:14.929Z"
   },
   {
    "duration": 8,
    "start_time": "2022-09-05T17:51:14.945Z"
   },
   {
    "duration": 13,
    "start_time": "2022-09-05T17:51:14.955Z"
   },
   {
    "duration": 7,
    "start_time": "2022-09-05T17:51:14.971Z"
   },
   {
    "duration": 50,
    "start_time": "2022-09-05T17:51:14.980Z"
   },
   {
    "duration": 25,
    "start_time": "2022-09-05T17:51:15.032Z"
   },
   {
    "duration": 664,
    "start_time": "2022-09-05T17:51:15.059Z"
   },
   {
    "duration": 807,
    "start_time": "2022-09-05T17:51:15.729Z"
   },
   {
    "duration": 698,
    "start_time": "2022-09-05T17:51:16.538Z"
   },
   {
    "duration": 865,
    "start_time": "2022-09-05T17:51:17.238Z"
   },
   {
    "duration": 20,
    "start_time": "2022-09-05T17:51:18.108Z"
   },
   {
    "duration": 596,
    "start_time": "2022-09-05T17:51:18.129Z"
   },
   {
    "duration": 3,
    "start_time": "2022-09-05T17:51:18.726Z"
   },
   {
    "duration": 14,
    "start_time": "2022-09-05T17:51:18.731Z"
   },
   {
    "duration": 12,
    "start_time": "2022-09-05T17:51:18.747Z"
   },
   {
    "duration": 11,
    "start_time": "2022-09-05T17:51:18.760Z"
   },
   {
    "duration": 7,
    "start_time": "2022-09-05T17:51:18.772Z"
   },
   {
    "duration": 33,
    "start_time": "2022-09-05T17:51:18.788Z"
   },
   {
    "duration": 25926,
    "start_time": "2022-09-05T17:51:18.823Z"
   },
   {
    "duration": 188729,
    "start_time": "2022-09-05T17:51:44.750Z"
   },
   {
    "duration": 4959,
    "start_time": "2022-09-05T17:54:53.480Z"
   },
   {
    "duration": 1396,
    "start_time": "2022-09-05T18:42:33.152Z"
   },
   {
    "duration": 2,
    "start_time": "2022-09-05T18:42:34.550Z"
   },
   {
    "duration": 346,
    "start_time": "2022-09-05T18:42:34.554Z"
   },
   {
    "duration": 102,
    "start_time": "2022-09-05T18:42:34.902Z"
   },
   {
    "duration": 423,
    "start_time": "2022-09-05T18:42:35.007Z"
   },
   {
    "duration": 8,
    "start_time": "2022-09-05T18:42:35.431Z"
   },
   {
    "duration": 4,
    "start_time": "2022-09-05T18:42:35.440Z"
   },
   {
    "duration": 11,
    "start_time": "2022-09-05T18:42:35.446Z"
   },
   {
    "duration": 7,
    "start_time": "2022-09-05T18:42:35.459Z"
   },
   {
    "duration": 23,
    "start_time": "2022-09-05T18:42:35.487Z"
   },
   {
    "duration": 42,
    "start_time": "2022-09-05T18:42:35.512Z"
   },
   {
    "duration": 621,
    "start_time": "2022-09-05T18:42:35.555Z"
   },
   {
    "duration": 777,
    "start_time": "2022-09-05T18:42:36.177Z"
   },
   {
    "duration": 646,
    "start_time": "2022-09-05T18:42:36.957Z"
   },
   {
    "duration": 846,
    "start_time": "2022-09-05T18:42:37.611Z"
   },
   {
    "duration": 18,
    "start_time": "2022-09-05T18:42:38.458Z"
   },
   {
    "duration": 586,
    "start_time": "2022-09-05T18:42:38.478Z"
   },
   {
    "duration": 4,
    "start_time": "2022-09-05T18:42:39.065Z"
   },
   {
    "duration": 27,
    "start_time": "2022-09-05T18:42:39.071Z"
   },
   {
    "duration": 34,
    "start_time": "2022-09-05T18:42:39.100Z"
   },
   {
    "duration": 12,
    "start_time": "2022-09-05T18:42:39.135Z"
   },
   {
    "duration": 5,
    "start_time": "2022-09-05T18:42:39.148Z"
   },
   {
    "duration": 28,
    "start_time": "2022-09-05T18:42:39.155Z"
   },
   {
    "duration": 26039,
    "start_time": "2022-09-05T18:42:39.185Z"
   },
   {
    "duration": 4,
    "start_time": "2022-09-05T18:52:08.737Z"
   },
   {
    "duration": 7,
    "start_time": "2022-09-05T18:52:08.743Z"
   },
   {
    "duration": 326,
    "start_time": "2022-09-05T18:52:08.752Z"
   },
   {
    "duration": 131,
    "start_time": "2022-09-05T18:52:09.086Z"
   },
   {
    "duration": 412,
    "start_time": "2022-09-05T18:52:09.227Z"
   },
   {
    "duration": 7,
    "start_time": "2022-09-05T18:52:09.641Z"
   },
   {
    "duration": 10,
    "start_time": "2022-09-05T18:52:09.650Z"
   },
   {
    "duration": 13,
    "start_time": "2022-09-05T18:52:09.662Z"
   },
   {
    "duration": 22,
    "start_time": "2022-09-05T18:52:09.689Z"
   },
   {
    "duration": 30,
    "start_time": "2022-09-05T18:52:09.712Z"
   },
   {
    "duration": 23,
    "start_time": "2022-09-05T18:52:09.743Z"
   },
   {
    "duration": 769,
    "start_time": "2022-09-05T18:52:09.767Z"
   },
   {
    "duration": 611,
    "start_time": "2022-09-05T18:52:10.538Z"
   },
   {
    "duration": 628,
    "start_time": "2022-09-05T18:52:11.152Z"
   },
   {
    "duration": 864,
    "start_time": "2022-09-05T18:52:11.788Z"
   },
   {
    "duration": 18,
    "start_time": "2022-09-05T18:52:12.654Z"
   },
   {
    "duration": 648,
    "start_time": "2022-09-05T18:52:12.673Z"
   },
   {
    "duration": 6,
    "start_time": "2022-09-05T18:52:13.323Z"
   },
   {
    "duration": 18,
    "start_time": "2022-09-05T18:52:13.334Z"
   },
   {
    "duration": 11,
    "start_time": "2022-09-05T18:52:13.354Z"
   },
   {
    "duration": 34,
    "start_time": "2022-09-05T18:52:13.368Z"
   },
   {
    "duration": 26,
    "start_time": "2022-09-05T18:52:13.414Z"
   },
   {
    "duration": 34,
    "start_time": "2022-09-05T18:52:13.442Z"
   },
   {
    "duration": 26564,
    "start_time": "2022-09-05T18:52:13.477Z"
   },
   {
    "duration": 1490,
    "start_time": "2022-09-05T18:58:48.364Z"
   },
   {
    "duration": 2,
    "start_time": "2022-09-05T18:58:49.856Z"
   },
   {
    "duration": 388,
    "start_time": "2022-09-05T18:58:49.860Z"
   },
   {
    "duration": 104,
    "start_time": "2022-09-05T18:58:50.250Z"
   },
   {
    "duration": 409,
    "start_time": "2022-09-05T18:58:50.356Z"
   },
   {
    "duration": 7,
    "start_time": "2022-09-05T18:58:50.767Z"
   },
   {
    "duration": 51,
    "start_time": "2022-09-05T18:58:50.776Z"
   },
   {
    "duration": 20,
    "start_time": "2022-09-05T18:58:50.829Z"
   },
   {
    "duration": 5,
    "start_time": "2022-09-05T18:58:50.851Z"
   },
   {
    "duration": 9,
    "start_time": "2022-09-05T18:58:50.858Z"
   },
   {
    "duration": 25,
    "start_time": "2022-09-05T18:58:50.868Z"
   },
   {
    "duration": 569,
    "start_time": "2022-09-05T18:58:50.894Z"
   },
   {
    "duration": 666,
    "start_time": "2022-09-05T18:58:51.465Z"
   },
   {
    "duration": 616,
    "start_time": "2022-09-05T18:58:52.135Z"
   },
   {
    "duration": 794,
    "start_time": "2022-09-05T18:58:52.752Z"
   },
   {
    "duration": 18,
    "start_time": "2022-09-05T18:58:53.548Z"
   },
   {
    "duration": 591,
    "start_time": "2022-09-05T18:58:53.568Z"
   },
   {
    "duration": 3,
    "start_time": "2022-09-05T18:58:54.161Z"
   },
   {
    "duration": 30,
    "start_time": "2022-09-05T18:58:54.166Z"
   },
   {
    "duration": 42,
    "start_time": "2022-09-05T18:58:54.198Z"
   },
   {
    "duration": 10,
    "start_time": "2022-09-05T18:58:54.241Z"
   },
   {
    "duration": 7,
    "start_time": "2022-09-05T18:58:54.252Z"
   },
   {
    "duration": 37,
    "start_time": "2022-09-05T18:58:54.260Z"
   },
   {
    "duration": 26674,
    "start_time": "2022-09-05T18:58:54.303Z"
   },
   {
    "duration": 184719,
    "start_time": "2022-09-05T18:59:20.979Z"
   },
   {
    "duration": 2821,
    "start_time": "2022-09-05T19:02:25.703Z"
   },
   {
    "duration": 58,
    "start_time": "2022-09-05T19:02:28.537Z"
   },
   {
    "duration": 37,
    "start_time": "2022-09-05T19:02:28.600Z"
   },
   {
    "duration": 139,
    "start_time": "2022-09-05T19:02:28.639Z"
   },
   {
    "duration": 1503,
    "start_time": "2022-09-05T19:02:41.369Z"
   },
   {
    "duration": 3,
    "start_time": "2022-09-05T19:04:44.049Z"
   },
   {
    "duration": 9,
    "start_time": "2022-09-05T19:04:44.614Z"
   },
   {
    "duration": 13,
    "start_time": "2022-09-05T19:04:45.934Z"
   },
   {
    "duration": 13,
    "start_time": "2022-09-05T19:05:21.616Z"
   },
   {
    "duration": 4,
    "start_time": "2022-09-05T19:05:22.052Z"
   },
   {
    "duration": 15,
    "start_time": "2022-09-05T19:05:22.437Z"
   },
   {
    "duration": 1461,
    "start_time": "2022-09-05T19:05:53.690Z"
   },
   {
    "duration": 2,
    "start_time": "2022-09-05T19:05:55.153Z"
   },
   {
    "duration": 350,
    "start_time": "2022-09-05T19:05:55.156Z"
   },
   {
    "duration": 109,
    "start_time": "2022-09-05T19:05:55.517Z"
   },
   {
    "duration": 420,
    "start_time": "2022-09-05T19:05:55.628Z"
   },
   {
    "duration": 7,
    "start_time": "2022-09-05T19:05:56.049Z"
   },
   {
    "duration": 5,
    "start_time": "2022-09-05T19:05:56.058Z"
   },
   {
    "duration": 33,
    "start_time": "2022-09-05T19:05:56.064Z"
   },
   {
    "duration": 12,
    "start_time": "2022-09-05T19:05:56.098Z"
   },
   {
    "duration": 32,
    "start_time": "2022-09-05T19:05:56.112Z"
   },
   {
    "duration": 26,
    "start_time": "2022-09-05T19:05:56.146Z"
   },
   {
    "duration": 694,
    "start_time": "2022-09-05T19:05:56.174Z"
   },
   {
    "duration": 702,
    "start_time": "2022-09-05T19:05:56.870Z"
   },
   {
    "duration": 623,
    "start_time": "2022-09-05T19:05:57.575Z"
   },
   {
    "duration": 824,
    "start_time": "2022-09-05T19:05:58.199Z"
   },
   {
    "duration": 20,
    "start_time": "2022-09-05T19:05:59.030Z"
   },
   {
    "duration": 599,
    "start_time": "2022-09-05T19:05:59.051Z"
   },
   {
    "duration": 3,
    "start_time": "2022-09-05T19:05:59.652Z"
   },
   {
    "duration": 16,
    "start_time": "2022-09-05T19:05:59.657Z"
   },
   {
    "duration": 15,
    "start_time": "2022-09-05T19:05:59.674Z"
   },
   {
    "duration": 41,
    "start_time": "2022-09-05T19:05:59.690Z"
   },
   {
    "duration": 5,
    "start_time": "2022-09-05T19:05:59.732Z"
   },
   {
    "duration": 28,
    "start_time": "2022-09-05T19:05:59.738Z"
   },
   {
    "duration": 1424,
    "start_time": "2022-09-05T19:07:51.524Z"
   },
   {
    "duration": 3,
    "start_time": "2022-09-05T19:07:52.949Z"
   },
   {
    "duration": 354,
    "start_time": "2022-09-05T19:07:52.953Z"
   },
   {
    "duration": 92,
    "start_time": "2022-09-05T19:07:53.308Z"
   },
   {
    "duration": 418,
    "start_time": "2022-09-05T19:07:53.402Z"
   },
   {
    "duration": 8,
    "start_time": "2022-09-05T19:07:53.822Z"
   },
   {
    "duration": 37,
    "start_time": "2022-09-05T19:07:53.831Z"
   },
   {
    "duration": 30,
    "start_time": "2022-09-05T19:07:53.869Z"
   },
   {
    "duration": 42,
    "start_time": "2022-09-05T19:07:53.906Z"
   },
   {
    "duration": 17,
    "start_time": "2022-09-05T19:07:53.950Z"
   },
   {
    "duration": 72,
    "start_time": "2022-09-05T19:07:53.978Z"
   },
   {
    "duration": 598,
    "start_time": "2022-09-05T19:07:54.052Z"
   },
   {
    "duration": 677,
    "start_time": "2022-09-05T19:07:54.652Z"
   },
   {
    "duration": 601,
    "start_time": "2022-09-05T19:07:55.333Z"
   },
   {
    "duration": 1009,
    "start_time": "2022-09-05T19:07:55.936Z"
   },
   {
    "duration": 25,
    "start_time": "2022-09-05T19:07:56.946Z"
   },
   {
    "duration": 652,
    "start_time": "2022-09-05T19:07:56.973Z"
   },
   {
    "duration": 5,
    "start_time": "2022-09-05T19:07:57.630Z"
   },
   {
    "duration": 29,
    "start_time": "2022-09-05T19:07:57.636Z"
   },
   {
    "duration": 19,
    "start_time": "2022-09-05T19:07:57.666Z"
   },
   {
    "duration": 55,
    "start_time": "2022-09-05T19:07:57.686Z"
   },
   {
    "duration": 23,
    "start_time": "2022-09-05T19:07:57.743Z"
   },
   {
    "duration": 48,
    "start_time": "2022-09-05T19:07:57.768Z"
   },
   {
    "duration": 26619,
    "start_time": "2022-09-05T19:07:57.818Z"
   },
   {
    "duration": 4037,
    "start_time": "2022-09-05T19:17:23.759Z"
   },
   {
    "duration": 20,
    "start_time": "2022-09-05T19:17:27.805Z"
   },
   {
    "duration": 8,
    "start_time": "2022-09-05T19:17:27.891Z"
   },
   {
    "duration": 51,
    "start_time": "2022-09-05T19:17:27.902Z"
   },
   {
    "duration": 1579,
    "start_time": "2022-09-05T19:17:27.954Z"
   },
   {
    "duration": 0,
    "start_time": "2022-09-05T19:17:29.534Z"
   },
   {
    "duration": 1521,
    "start_time": "2022-09-05T19:17:43.920Z"
   },
   {
    "duration": 3,
    "start_time": "2022-09-05T19:17:45.443Z"
   },
   {
    "duration": 364,
    "start_time": "2022-09-05T19:17:45.447Z"
   },
   {
    "duration": 111,
    "start_time": "2022-09-05T19:17:45.814Z"
   },
   {
    "duration": 433,
    "start_time": "2022-09-05T19:17:45.927Z"
   },
   {
    "duration": 9,
    "start_time": "2022-09-05T19:17:46.362Z"
   },
   {
    "duration": 37,
    "start_time": "2022-09-05T19:17:46.373Z"
   },
   {
    "duration": 27,
    "start_time": "2022-09-05T19:17:46.417Z"
   },
   {
    "duration": 15,
    "start_time": "2022-09-05T19:17:46.445Z"
   },
   {
    "duration": 17,
    "start_time": "2022-09-05T19:17:46.463Z"
   },
   {
    "duration": 33,
    "start_time": "2022-09-05T19:17:46.482Z"
   },
   {
    "duration": 655,
    "start_time": "2022-09-05T19:17:46.516Z"
   },
   {
    "duration": 700,
    "start_time": "2022-09-05T19:17:47.173Z"
   },
   {
    "duration": 608,
    "start_time": "2022-09-05T19:17:47.875Z"
   },
   {
    "duration": 844,
    "start_time": "2022-09-05T19:17:48.485Z"
   },
   {
    "duration": 7,
    "start_time": "2022-09-05T19:17:49.333Z"
   },
   {
    "duration": 596,
    "start_time": "2022-09-05T19:17:49.341Z"
   },
   {
    "duration": 3,
    "start_time": "2022-09-05T19:17:49.939Z"
   },
   {
    "duration": 15,
    "start_time": "2022-09-05T19:17:49.943Z"
   },
   {
    "duration": 8,
    "start_time": "2022-09-05T19:17:49.960Z"
   },
   {
    "duration": 9,
    "start_time": "2022-09-05T19:17:49.970Z"
   },
   {
    "duration": 46,
    "start_time": "2022-09-05T19:17:49.980Z"
   },
   {
    "duration": 43,
    "start_time": "2022-09-05T19:17:50.028Z"
   },
   {
    "duration": 27726,
    "start_time": "2022-09-05T19:17:50.072Z"
   },
   {
    "duration": 5212,
    "start_time": "2022-09-05T19:18:17.800Z"
   },
   {
    "duration": 64,
    "start_time": "2022-09-05T19:18:23.026Z"
   },
   {
    "duration": 37,
    "start_time": "2022-09-05T19:18:23.094Z"
   },
   {
    "duration": 17,
    "start_time": "2022-09-05T19:18:23.133Z"
   },
   {
    "duration": 2863,
    "start_time": "2022-09-05T19:18:23.152Z"
   },
   {
    "duration": 190821,
    "start_time": "2022-09-05T19:21:41.204Z"
   },
   {
    "duration": 4,
    "start_time": "2022-09-05T19:26:17.416Z"
   },
   {
    "duration": 3,
    "start_time": "2022-09-05T19:26:17.704Z"
   },
   {
    "duration": 353,
    "start_time": "2022-09-05T19:26:17.948Z"
   },
   {
    "duration": 119,
    "start_time": "2022-09-05T19:26:18.304Z"
   },
   {
    "duration": 429,
    "start_time": "2022-09-05T19:26:18.444Z"
   },
   {
    "duration": 7,
    "start_time": "2022-09-05T19:26:19.027Z"
   },
   {
    "duration": 7,
    "start_time": "2022-09-05T19:26:20.051Z"
   },
   {
    "duration": 9,
    "start_time": "2022-09-05T19:26:21.345Z"
   },
   {
    "duration": 20,
    "start_time": "2022-09-05T19:26:21.681Z"
   },
   {
    "duration": 12,
    "start_time": "2022-09-05T19:26:22.020Z"
   },
   {
    "duration": 39,
    "start_time": "2022-09-05T19:26:22.684Z"
   },
   {
    "duration": 741,
    "start_time": "2022-09-05T19:26:26.637Z"
   },
   {
    "duration": 589,
    "start_time": "2022-09-05T19:26:28.019Z"
   },
   {
    "duration": 583,
    "start_time": "2022-09-05T19:26:30.370Z"
   },
   {
    "duration": 831,
    "start_time": "2022-09-05T19:26:33.226Z"
   },
   {
    "duration": 8,
    "start_time": "2022-09-05T19:26:36.284Z"
   },
   {
    "duration": 591,
    "start_time": "2022-09-05T19:26:37.114Z"
   },
   {
    "duration": 4,
    "start_time": "2022-09-05T19:26:40.831Z"
   },
   {
    "duration": 10,
    "start_time": "2022-09-05T19:26:43.050Z"
   },
   {
    "duration": 4,
    "start_time": "2022-09-05T19:26:44.955Z"
   },
   {
    "duration": 7,
    "start_time": "2022-09-05T19:26:45.415Z"
   },
   {
    "duration": 6,
    "start_time": "2022-09-05T19:26:46.213Z"
   },
   {
    "duration": 23,
    "start_time": "2022-09-05T19:26:46.924Z"
   },
   {
    "duration": 27645,
    "start_time": "2022-09-05T19:26:50.030Z"
   },
   {
    "duration": 85433,
    "start_time": "2022-09-05T19:27:50.272Z"
   },
   {
    "duration": 3724,
    "start_time": "2022-09-05T19:30:17.172Z"
   },
   {
    "duration": 3,
    "start_time": "2022-09-05T19:31:16.734Z"
   },
   {
    "duration": 4,
    "start_time": "2022-09-05T19:31:17.322Z"
   },
   {
    "duration": 13,
    "start_time": "2022-09-05T19:31:18.164Z"
   },
   {
    "duration": 1075,
    "start_time": "2022-09-05T19:31:18.907Z"
   },
   {
    "duration": 1417,
    "start_time": "2022-09-05T19:32:44.831Z"
   },
   {
    "duration": 2,
    "start_time": "2022-09-05T19:32:46.251Z"
   },
   {
    "duration": 444,
    "start_time": "2022-09-05T19:32:46.255Z"
   },
   {
    "duration": 110,
    "start_time": "2022-09-05T19:32:46.701Z"
   },
   {
    "duration": 403,
    "start_time": "2022-09-05T19:32:46.814Z"
   },
   {
    "duration": 7,
    "start_time": "2022-09-05T19:32:47.219Z"
   },
   {
    "duration": 4,
    "start_time": "2022-09-05T19:32:47.228Z"
   },
   {
    "duration": 11,
    "start_time": "2022-09-05T19:32:47.234Z"
   },
   {
    "duration": 5,
    "start_time": "2022-09-05T19:32:47.247Z"
   },
   {
    "duration": 12,
    "start_time": "2022-09-05T19:32:47.254Z"
   },
   {
    "duration": 45,
    "start_time": "2022-09-05T19:32:47.268Z"
   },
   {
    "duration": 619,
    "start_time": "2022-09-05T19:32:47.316Z"
   },
   {
    "duration": 676,
    "start_time": "2022-09-05T19:32:47.937Z"
   },
   {
    "duration": 613,
    "start_time": "2022-09-05T19:32:48.616Z"
   },
   {
    "duration": 812,
    "start_time": "2022-09-05T19:32:49.230Z"
   },
   {
    "duration": 10,
    "start_time": "2022-09-05T19:32:50.045Z"
   },
   {
    "duration": 577,
    "start_time": "2022-09-05T19:32:50.056Z"
   },
   {
    "duration": 4,
    "start_time": "2022-09-05T19:32:50.634Z"
   },
   {
    "duration": 17,
    "start_time": "2022-09-05T19:32:50.640Z"
   },
   {
    "duration": 12,
    "start_time": "2022-09-05T19:32:50.658Z"
   },
   {
    "duration": 9,
    "start_time": "2022-09-05T19:32:50.672Z"
   },
   {
    "duration": 9,
    "start_time": "2022-09-05T19:32:50.682Z"
   },
   {
    "duration": 41,
    "start_time": "2022-09-05T19:32:50.700Z"
   },
   {
    "duration": 26843,
    "start_time": "2022-09-05T19:32:50.742Z"
   },
   {
    "duration": 81554,
    "start_time": "2022-09-05T19:33:17.586Z"
   },
   {
    "duration": 2948,
    "start_time": "2022-09-05T19:34:39.141Z"
   },
   {
    "duration": 9,
    "start_time": "2022-09-05T19:34:42.091Z"
   },
   {
    "duration": 24,
    "start_time": "2022-09-05T19:34:42.102Z"
   },
   {
    "duration": 16,
    "start_time": "2022-09-05T19:34:42.128Z"
   },
   {
    "duration": 1071,
    "start_time": "2022-09-05T19:34:42.146Z"
   },
   {
    "duration": 43,
    "start_time": "2022-09-05T21:18:27.802Z"
   },
   {
    "duration": 6,
    "start_time": "2022-09-05T21:20:41.342Z"
   },
   {
    "duration": 1594,
    "start_time": "2022-09-05T21:20:56.987Z"
   },
   {
    "duration": 3,
    "start_time": "2022-09-05T21:20:58.582Z"
   },
   {
    "duration": 950,
    "start_time": "2022-09-05T21:20:58.588Z"
   },
   {
    "duration": 443,
    "start_time": "2022-09-05T21:20:59.539Z"
   },
   {
    "duration": 2244,
    "start_time": "2022-09-05T21:20:59.983Z"
   },
   {
    "duration": 7,
    "start_time": "2022-09-05T21:21:02.229Z"
   },
   {
    "duration": 6,
    "start_time": "2022-09-05T21:21:02.238Z"
   },
   {
    "duration": 14,
    "start_time": "2022-09-05T21:21:02.246Z"
   },
   {
    "duration": 12,
    "start_time": "2022-09-05T21:21:02.262Z"
   },
   {
    "duration": 26,
    "start_time": "2022-09-05T21:21:02.276Z"
   },
   {
    "duration": 22,
    "start_time": "2022-09-05T21:21:02.304Z"
   },
   {
    "duration": 571,
    "start_time": "2022-09-05T21:21:02.327Z"
   },
   {
    "duration": 640,
    "start_time": "2022-09-05T21:21:02.901Z"
   },
   {
    "duration": 617,
    "start_time": "2022-09-05T21:21:03.543Z"
   },
   {
    "duration": 792,
    "start_time": "2022-09-05T21:21:04.162Z"
   },
   {
    "duration": 8,
    "start_time": "2022-09-05T21:21:04.956Z"
   },
   {
    "duration": 582,
    "start_time": "2022-09-05T21:21:04.965Z"
   },
   {
    "duration": 4,
    "start_time": "2022-09-05T21:21:05.548Z"
   },
   {
    "duration": 142,
    "start_time": "2022-09-05T21:21:05.553Z"
   },
   {
    "duration": 0,
    "start_time": "2022-09-05T21:21:05.697Z"
   },
   {
    "duration": 0,
    "start_time": "2022-09-05T21:21:05.700Z"
   },
   {
    "duration": 0,
    "start_time": "2022-09-05T21:21:05.701Z"
   },
   {
    "duration": 0,
    "start_time": "2022-09-05T21:21:05.702Z"
   },
   {
    "duration": 0,
    "start_time": "2022-09-05T21:21:05.703Z"
   },
   {
    "duration": 0,
    "start_time": "2022-09-05T21:21:05.705Z"
   },
   {
    "duration": 0,
    "start_time": "2022-09-05T21:21:05.706Z"
   },
   {
    "duration": 1,
    "start_time": "2022-09-05T21:21:05.706Z"
   },
   {
    "duration": 0,
    "start_time": "2022-09-05T21:21:05.708Z"
   },
   {
    "duration": 0,
    "start_time": "2022-09-05T21:21:05.708Z"
   },
   {
    "duration": 0,
    "start_time": "2022-09-05T21:21:05.710Z"
   },
   {
    "duration": 9,
    "start_time": "2022-09-05T21:26:04.223Z"
   },
   {
    "duration": 539,
    "start_time": "2022-09-05T21:26:10.899Z"
   },
   {
    "duration": 1424,
    "start_time": "2022-09-05T21:26:53.675Z"
   },
   {
    "duration": 2,
    "start_time": "2022-09-05T21:26:55.101Z"
   },
   {
    "duration": 322,
    "start_time": "2022-09-05T21:26:55.104Z"
   },
   {
    "duration": 114,
    "start_time": "2022-09-05T21:26:55.427Z"
   },
   {
    "duration": 373,
    "start_time": "2022-09-05T21:26:55.542Z"
   },
   {
    "duration": 6,
    "start_time": "2022-09-05T21:26:55.917Z"
   },
   {
    "duration": 11,
    "start_time": "2022-09-05T21:26:55.925Z"
   },
   {
    "duration": 12,
    "start_time": "2022-09-05T21:26:55.937Z"
   },
   {
    "duration": 5,
    "start_time": "2022-09-05T21:26:55.951Z"
   },
   {
    "duration": 29,
    "start_time": "2022-09-05T21:26:55.959Z"
   },
   {
    "duration": 19,
    "start_time": "2022-09-05T21:26:55.989Z"
   },
   {
    "duration": 10,
    "start_time": "2022-09-05T21:26:56.010Z"
   },
   {
    "duration": 598,
    "start_time": "2022-09-05T21:26:56.022Z"
   },
   {
    "duration": 589,
    "start_time": "2022-09-05T21:26:56.622Z"
   },
   {
    "duration": 539,
    "start_time": "2022-09-05T21:26:57.213Z"
   },
   {
    "duration": 725,
    "start_time": "2022-09-05T21:26:57.754Z"
   },
   {
    "duration": 13,
    "start_time": "2022-09-05T21:26:58.480Z"
   },
   {
    "duration": 515,
    "start_time": "2022-09-05T21:26:58.494Z"
   },
   {
    "duration": 4,
    "start_time": "2022-09-05T21:26:59.010Z"
   },
   {
    "duration": 122,
    "start_time": "2022-09-05T21:26:59.015Z"
   },
   {
    "duration": 0,
    "start_time": "2022-09-05T21:26:59.138Z"
   },
   {
    "duration": 0,
    "start_time": "2022-09-05T21:26:59.139Z"
   },
   {
    "duration": 0,
    "start_time": "2022-09-05T21:26:59.140Z"
   },
   {
    "duration": 0,
    "start_time": "2022-09-05T21:26:59.141Z"
   },
   {
    "duration": 0,
    "start_time": "2022-09-05T21:26:59.142Z"
   },
   {
    "duration": 0,
    "start_time": "2022-09-05T21:26:59.143Z"
   },
   {
    "duration": 0,
    "start_time": "2022-09-05T21:26:59.144Z"
   },
   {
    "duration": 0,
    "start_time": "2022-09-05T21:26:59.145Z"
   },
   {
    "duration": 0,
    "start_time": "2022-09-05T21:26:59.146Z"
   },
   {
    "duration": 0,
    "start_time": "2022-09-05T21:26:59.147Z"
   },
   {
    "duration": 0,
    "start_time": "2022-09-05T21:26:59.148Z"
   },
   {
    "duration": 15,
    "start_time": "2022-09-05T21:27:15.411Z"
   },
   {
    "duration": 1366,
    "start_time": "2022-09-05T21:30:33.453Z"
   },
   {
    "duration": 3,
    "start_time": "2022-09-05T21:30:34.821Z"
   },
   {
    "duration": 306,
    "start_time": "2022-09-05T21:30:34.826Z"
   },
   {
    "duration": 90,
    "start_time": "2022-09-05T21:30:35.134Z"
   },
   {
    "duration": 369,
    "start_time": "2022-09-05T21:30:35.226Z"
   },
   {
    "duration": 8,
    "start_time": "2022-09-05T21:30:35.597Z"
   },
   {
    "duration": 15,
    "start_time": "2022-09-05T21:30:35.606Z"
   },
   {
    "duration": 12,
    "start_time": "2022-09-05T21:30:35.622Z"
   },
   {
    "duration": 6,
    "start_time": "2022-09-05T21:30:35.635Z"
   },
   {
    "duration": 16,
    "start_time": "2022-09-05T21:30:35.642Z"
   },
   {
    "duration": 33,
    "start_time": "2022-09-05T21:30:35.660Z"
   },
   {
    "duration": 545,
    "start_time": "2022-09-05T21:30:35.694Z"
   },
   {
    "duration": 659,
    "start_time": "2022-09-05T21:30:36.242Z"
   },
   {
    "duration": 519,
    "start_time": "2022-09-05T21:30:36.905Z"
   },
   {
    "duration": 728,
    "start_time": "2022-09-05T21:30:37.426Z"
   },
   {
    "duration": 8,
    "start_time": "2022-09-05T21:30:38.155Z"
   },
   {
    "duration": 503,
    "start_time": "2022-09-05T21:30:38.165Z"
   },
   {
    "duration": 4,
    "start_time": "2022-09-05T21:30:38.670Z"
   },
   {
    "duration": 125,
    "start_time": "2022-09-05T21:30:38.676Z"
   },
   {
    "duration": 0,
    "start_time": "2022-09-05T21:30:38.803Z"
   },
   {
    "duration": 0,
    "start_time": "2022-09-05T21:30:38.804Z"
   },
   {
    "duration": 0,
    "start_time": "2022-09-05T21:30:38.806Z"
   },
   {
    "duration": 0,
    "start_time": "2022-09-05T21:30:38.807Z"
   },
   {
    "duration": 0,
    "start_time": "2022-09-05T21:30:38.809Z"
   },
   {
    "duration": 0,
    "start_time": "2022-09-05T21:30:38.810Z"
   },
   {
    "duration": 0,
    "start_time": "2022-09-05T21:30:38.811Z"
   },
   {
    "duration": 0,
    "start_time": "2022-09-05T21:30:38.813Z"
   },
   {
    "duration": 0,
    "start_time": "2022-09-05T21:30:38.814Z"
   },
   {
    "duration": 0,
    "start_time": "2022-09-05T21:30:38.815Z"
   },
   {
    "duration": 0,
    "start_time": "2022-09-05T21:30:38.817Z"
   },
   {
    "duration": 1436,
    "start_time": "2022-09-05T21:32:25.595Z"
   },
   {
    "duration": 3,
    "start_time": "2022-09-05T21:32:27.033Z"
   },
   {
    "duration": 311,
    "start_time": "2022-09-05T21:32:27.037Z"
   },
   {
    "duration": 84,
    "start_time": "2022-09-05T21:32:27.350Z"
   },
   {
    "duration": 359,
    "start_time": "2022-09-05T21:32:27.436Z"
   },
   {
    "duration": 7,
    "start_time": "2022-09-05T21:32:27.796Z"
   },
   {
    "duration": 7,
    "start_time": "2022-09-05T21:32:27.805Z"
   },
   {
    "duration": 24,
    "start_time": "2022-09-05T21:32:27.813Z"
   },
   {
    "duration": 21,
    "start_time": "2022-09-05T21:32:27.838Z"
   },
   {
    "duration": 41,
    "start_time": "2022-09-05T21:32:27.861Z"
   },
   {
    "duration": 23,
    "start_time": "2022-09-05T21:32:27.904Z"
   },
   {
    "duration": 552,
    "start_time": "2022-09-05T21:32:27.929Z"
   },
   {
    "duration": 586,
    "start_time": "2022-09-05T21:32:28.483Z"
   },
   {
    "duration": 546,
    "start_time": "2022-09-05T21:32:29.071Z"
   },
   {
    "duration": 746,
    "start_time": "2022-09-05T21:32:29.619Z"
   },
   {
    "duration": 20,
    "start_time": "2022-09-05T21:32:30.367Z"
   },
   {
    "duration": 578,
    "start_time": "2022-09-05T21:32:30.388Z"
   },
   {
    "duration": 3,
    "start_time": "2022-09-05T21:32:30.968Z"
   },
   {
    "duration": 128,
    "start_time": "2022-09-05T21:32:30.973Z"
   },
   {
    "duration": 0,
    "start_time": "2022-09-05T21:32:31.103Z"
   },
   {
    "duration": 0,
    "start_time": "2022-09-05T21:32:31.104Z"
   },
   {
    "duration": 0,
    "start_time": "2022-09-05T21:32:31.106Z"
   },
   {
    "duration": 0,
    "start_time": "2022-09-05T21:32:31.107Z"
   },
   {
    "duration": 0,
    "start_time": "2022-09-05T21:32:31.108Z"
   },
   {
    "duration": 0,
    "start_time": "2022-09-05T21:32:31.109Z"
   },
   {
    "duration": 0,
    "start_time": "2022-09-05T21:32:31.110Z"
   },
   {
    "duration": 0,
    "start_time": "2022-09-05T21:32:31.111Z"
   },
   {
    "duration": 0,
    "start_time": "2022-09-05T21:32:31.112Z"
   },
   {
    "duration": 0,
    "start_time": "2022-09-05T21:32:31.113Z"
   },
   {
    "duration": 0,
    "start_time": "2022-09-05T21:32:31.115Z"
   },
   {
    "duration": 19,
    "start_time": "2022-09-05T21:35:24.299Z"
   },
   {
    "duration": 5,
    "start_time": "2022-09-05T21:35:28.025Z"
   },
   {
    "duration": 6,
    "start_time": "2022-09-05T21:35:28.032Z"
   },
   {
    "duration": 319,
    "start_time": "2022-09-05T21:35:28.040Z"
   },
   {
    "duration": 106,
    "start_time": "2022-09-05T21:35:28.361Z"
   },
   {
    "duration": 377,
    "start_time": "2022-09-05T21:35:28.468Z"
   },
   {
    "duration": 8,
    "start_time": "2022-09-05T21:35:28.847Z"
   },
   {
    "duration": 8,
    "start_time": "2022-09-05T21:35:28.857Z"
   },
   {
    "duration": 24,
    "start_time": "2022-09-05T21:35:28.867Z"
   },
   {
    "duration": 7,
    "start_time": "2022-09-05T21:35:28.893Z"
   },
   {
    "duration": 9,
    "start_time": "2022-09-05T21:35:28.903Z"
   },
   {
    "duration": 18,
    "start_time": "2022-09-05T21:35:28.914Z"
   },
   {
    "duration": 538,
    "start_time": "2022-09-05T21:35:28.934Z"
   },
   {
    "duration": 738,
    "start_time": "2022-09-05T21:35:29.474Z"
   },
   {
    "duration": 576,
    "start_time": "2022-09-05T21:35:30.214Z"
   },
   {
    "duration": 812,
    "start_time": "2022-09-05T21:35:30.792Z"
   },
   {
    "duration": 9,
    "start_time": "2022-09-05T21:35:31.607Z"
   },
   {
    "duration": 544,
    "start_time": "2022-09-05T21:35:31.619Z"
   },
   {
    "duration": 3,
    "start_time": "2022-09-05T21:35:32.164Z"
   },
   {
    "duration": 22,
    "start_time": "2022-09-05T21:35:32.169Z"
   },
   {
    "duration": 4,
    "start_time": "2022-09-05T21:35:32.192Z"
   },
   {
    "duration": 12,
    "start_time": "2022-09-05T21:35:32.197Z"
   },
   {
    "duration": 5,
    "start_time": "2022-09-05T21:35:32.211Z"
   },
   {
    "duration": 29,
    "start_time": "2022-09-05T21:35:32.218Z"
   },
   {
    "duration": 24776,
    "start_time": "2022-09-05T21:35:32.250Z"
   },
   {
    "duration": 1464,
    "start_time": "2022-09-05T21:36:25.271Z"
   },
   {
    "duration": 2,
    "start_time": "2022-09-05T21:36:26.737Z"
   },
   {
    "duration": 300,
    "start_time": "2022-09-05T21:36:26.741Z"
   },
   {
    "duration": 86,
    "start_time": "2022-09-05T21:36:27.043Z"
   },
   {
    "duration": 365,
    "start_time": "2022-09-05T21:36:27.130Z"
   },
   {
    "duration": 7,
    "start_time": "2022-09-05T21:36:27.497Z"
   },
   {
    "duration": 9,
    "start_time": "2022-09-05T21:36:27.505Z"
   },
   {
    "duration": 14,
    "start_time": "2022-09-05T21:36:27.515Z"
   },
   {
    "duration": 7,
    "start_time": "2022-09-05T21:36:27.531Z"
   },
   {
    "duration": 25,
    "start_time": "2022-09-05T21:36:27.542Z"
   },
   {
    "duration": 43,
    "start_time": "2022-09-05T21:36:27.569Z"
   },
   {
    "duration": 551,
    "start_time": "2022-09-05T21:36:27.614Z"
   },
   {
    "duration": 605,
    "start_time": "2022-09-05T21:36:28.166Z"
   },
   {
    "duration": 533,
    "start_time": "2022-09-05T21:36:28.773Z"
   },
   {
    "duration": 758,
    "start_time": "2022-09-05T21:36:29.309Z"
   },
   {
    "duration": 6,
    "start_time": "2022-09-05T21:36:30.069Z"
   },
   {
    "duration": 543,
    "start_time": "2022-09-05T21:36:30.076Z"
   },
   {
    "duration": 4,
    "start_time": "2022-09-05T21:36:30.621Z"
   },
   {
    "duration": 131,
    "start_time": "2022-09-05T21:36:30.626Z"
   },
   {
    "duration": 0,
    "start_time": "2022-09-05T21:36:30.758Z"
   },
   {
    "duration": 0,
    "start_time": "2022-09-05T21:36:30.760Z"
   },
   {
    "duration": 0,
    "start_time": "2022-09-05T21:36:30.761Z"
   },
   {
    "duration": 0,
    "start_time": "2022-09-05T21:36:30.762Z"
   },
   {
    "duration": 0,
    "start_time": "2022-09-05T21:36:30.764Z"
   },
   {
    "duration": 0,
    "start_time": "2022-09-05T21:36:30.766Z"
   },
   {
    "duration": 0,
    "start_time": "2022-09-05T21:36:30.767Z"
   },
   {
    "duration": 0,
    "start_time": "2022-09-05T21:36:30.769Z"
   },
   {
    "duration": 0,
    "start_time": "2022-09-05T21:36:30.787Z"
   },
   {
    "duration": 0,
    "start_time": "2022-09-05T21:36:30.789Z"
   },
   {
    "duration": 0,
    "start_time": "2022-09-05T21:36:30.790Z"
   },
   {
    "duration": 18,
    "start_time": "2022-09-05T21:39:16.454Z"
   },
   {
    "duration": 4,
    "start_time": "2022-09-05T21:39:21.892Z"
   },
   {
    "duration": 3,
    "start_time": "2022-09-05T21:39:22.847Z"
   },
   {
    "duration": 3,
    "start_time": "2022-09-05T21:39:23.580Z"
   },
   {
    "duration": 27,
    "start_time": "2022-09-05T21:39:24.910Z"
   },
   {
    "duration": 24114,
    "start_time": "2022-09-05T21:39:26.720Z"
   },
   {
    "duration": 3,
    "start_time": "2022-09-05T21:46:03.342Z"
   },
   {
    "duration": 714,
    "start_time": "2022-09-05T21:47:47.164Z"
   },
   {
    "duration": 9,
    "start_time": "2022-09-05T21:52:26.565Z"
   },
   {
    "duration": 770,
    "start_time": "2022-09-05T21:52:29.883Z"
   },
   {
    "duration": 754,
    "start_time": "2022-09-05T21:52:37.313Z"
   },
   {
    "duration": 1007,
    "start_time": "2022-09-05T21:53:08.439Z"
   },
   {
    "duration": 1372,
    "start_time": "2022-09-05T21:53:22.500Z"
   },
   {
    "duration": 4,
    "start_time": "2022-09-05T21:53:23.874Z"
   },
   {
    "duration": 308,
    "start_time": "2022-09-05T21:53:23.880Z"
   },
   {
    "duration": 88,
    "start_time": "2022-09-05T21:53:24.191Z"
   },
   {
    "duration": 364,
    "start_time": "2022-09-05T21:53:24.281Z"
   },
   {
    "duration": 8,
    "start_time": "2022-09-05T21:53:24.647Z"
   },
   {
    "duration": 6,
    "start_time": "2022-09-05T21:53:24.656Z"
   },
   {
    "duration": 27,
    "start_time": "2022-09-05T21:53:24.664Z"
   },
   {
    "duration": 7,
    "start_time": "2022-09-05T21:53:24.693Z"
   },
   {
    "duration": 10,
    "start_time": "2022-09-05T21:53:24.703Z"
   },
   {
    "duration": 16,
    "start_time": "2022-09-05T21:53:24.715Z"
   },
   {
    "duration": 529,
    "start_time": "2022-09-05T21:53:24.733Z"
   },
   {
    "duration": 584,
    "start_time": "2022-09-05T21:53:25.264Z"
   },
   {
    "duration": 604,
    "start_time": "2022-09-05T21:53:25.850Z"
   },
   {
    "duration": 730,
    "start_time": "2022-09-05T21:53:26.455Z"
   },
   {
    "duration": 6,
    "start_time": "2022-09-05T21:53:27.187Z"
   },
   {
    "duration": 520,
    "start_time": "2022-09-05T21:53:27.194Z"
   },
   {
    "duration": 3,
    "start_time": "2022-09-05T21:53:27.716Z"
   },
   {
    "duration": 18,
    "start_time": "2022-09-05T21:53:27.721Z"
   },
   {
    "duration": 8,
    "start_time": "2022-09-05T21:53:27.740Z"
   },
   {
    "duration": 6,
    "start_time": "2022-09-05T21:53:27.750Z"
   },
   {
    "duration": 6,
    "start_time": "2022-09-05T21:53:27.757Z"
   },
   {
    "duration": 38,
    "start_time": "2022-09-05T21:53:27.765Z"
   },
   {
    "duration": 24042,
    "start_time": "2022-09-05T21:53:27.805Z"
   },
   {
    "duration": 1372,
    "start_time": "2022-09-05T21:54:19.750Z"
   },
   {
    "duration": 3,
    "start_time": "2022-09-05T21:54:21.124Z"
   },
   {
    "duration": 304,
    "start_time": "2022-09-05T21:54:21.128Z"
   },
   {
    "duration": 87,
    "start_time": "2022-09-05T21:54:21.434Z"
   },
   {
    "duration": 355,
    "start_time": "2022-09-05T21:54:21.523Z"
   },
   {
    "duration": 11,
    "start_time": "2022-09-05T21:54:21.880Z"
   },
   {
    "duration": 5,
    "start_time": "2022-09-05T21:54:21.892Z"
   },
   {
    "duration": 14,
    "start_time": "2022-09-05T21:54:21.898Z"
   },
   {
    "duration": 6,
    "start_time": "2022-09-05T21:54:21.913Z"
   },
   {
    "duration": 15,
    "start_time": "2022-09-05T21:54:21.921Z"
   },
   {
    "duration": 15,
    "start_time": "2022-09-05T21:54:21.937Z"
   },
   {
    "duration": 39,
    "start_time": "2022-09-05T21:54:21.953Z"
   },
   {
    "duration": 528,
    "start_time": "2022-09-05T21:54:21.994Z"
   },
   {
    "duration": 589,
    "start_time": "2022-09-05T21:54:22.523Z"
   },
   {
    "duration": 537,
    "start_time": "2022-09-05T21:54:23.114Z"
   },
   {
    "duration": 734,
    "start_time": "2022-09-05T21:54:23.653Z"
   },
   {
    "duration": 7,
    "start_time": "2022-09-05T21:54:24.390Z"
   },
   {
    "duration": 543,
    "start_time": "2022-09-05T21:54:24.398Z"
   },
   {
    "duration": 3,
    "start_time": "2022-09-05T21:54:24.943Z"
   },
   {
    "duration": 19,
    "start_time": "2022-09-05T21:54:24.948Z"
   },
   {
    "duration": 9,
    "start_time": "2022-09-05T21:54:24.969Z"
   },
   {
    "duration": 11,
    "start_time": "2022-09-05T21:54:24.979Z"
   },
   {
    "duration": 8,
    "start_time": "2022-09-05T21:54:24.991Z"
   },
   {
    "duration": 41,
    "start_time": "2022-09-05T21:54:25.000Z"
   },
   {
    "duration": 457,
    "start_time": "2022-09-05T21:54:25.043Z"
   },
   {
    "duration": 625,
    "start_time": "2022-09-05T21:54:25.502Z"
   },
   {
    "duration": 32,
    "start_time": "2022-09-05T21:54:26.128Z"
   },
   {
    "duration": 5,
    "start_time": "2022-09-05T21:54:26.188Z"
   },
   {
    "duration": 11,
    "start_time": "2022-09-05T21:54:26.195Z"
   },
   {
    "duration": 16,
    "start_time": "2022-09-05T21:54:26.208Z"
   },
   {
    "duration": 155,
    "start_time": "2022-09-05T21:54:26.227Z"
   },
   {
    "duration": 1009,
    "start_time": "2022-09-05T21:58:40.793Z"
   },
   {
    "duration": 1361,
    "start_time": "2022-09-05T21:58:57.977Z"
   },
   {
    "duration": 2,
    "start_time": "2022-09-05T21:58:59.340Z"
   },
   {
    "duration": 291,
    "start_time": "2022-09-05T21:58:59.344Z"
   },
   {
    "duration": 86,
    "start_time": "2022-09-05T21:58:59.637Z"
   },
   {
    "duration": 355,
    "start_time": "2022-09-05T21:58:59.725Z"
   },
   {
    "duration": 10,
    "start_time": "2022-09-05T21:59:00.081Z"
   },
   {
    "duration": 10,
    "start_time": "2022-09-05T21:59:00.093Z"
   },
   {
    "duration": 14,
    "start_time": "2022-09-05T21:59:00.104Z"
   },
   {
    "duration": 7,
    "start_time": "2022-09-05T21:59:00.120Z"
   },
   {
    "duration": 14,
    "start_time": "2022-09-05T21:59:00.128Z"
   },
   {
    "duration": 16,
    "start_time": "2022-09-05T21:59:00.143Z"
   },
   {
    "duration": 40,
    "start_time": "2022-09-05T21:59:00.161Z"
   },
   {
    "duration": 6,
    "start_time": "2022-09-05T21:59:00.202Z"
   },
   {
    "duration": 526,
    "start_time": "2022-09-05T21:59:00.212Z"
   },
   {
    "duration": 597,
    "start_time": "2022-09-05T21:59:00.740Z"
   },
   {
    "duration": 556,
    "start_time": "2022-09-05T21:59:01.339Z"
   },
   {
    "duration": 720,
    "start_time": "2022-09-05T21:59:01.897Z"
   },
   {
    "duration": 7,
    "start_time": "2022-09-05T21:59:02.618Z"
   },
   {
    "duration": 549,
    "start_time": "2022-09-05T21:59:02.626Z"
   },
   {
    "duration": 4,
    "start_time": "2022-09-05T21:59:03.176Z"
   },
   {
    "duration": 19,
    "start_time": "2022-09-05T21:59:03.181Z"
   },
   {
    "duration": 11,
    "start_time": "2022-09-05T21:59:03.202Z"
   },
   {
    "duration": 5,
    "start_time": "2022-09-05T21:59:03.214Z"
   },
   {
    "duration": 6,
    "start_time": "2022-09-05T21:59:03.221Z"
   },
   {
    "duration": 33,
    "start_time": "2022-09-05T21:59:03.229Z"
   },
   {
    "duration": 457,
    "start_time": "2022-09-05T21:59:03.263Z"
   },
   {
    "duration": 671,
    "start_time": "2022-09-05T21:59:03.722Z"
   },
   {
    "duration": 36,
    "start_time": "2022-09-05T21:59:04.394Z"
   },
   {
    "duration": 4,
    "start_time": "2022-09-05T21:59:04.432Z"
   },
   {
    "duration": 7,
    "start_time": "2022-09-05T21:59:04.438Z"
   },
   {
    "duration": 13,
    "start_time": "2022-09-05T21:59:04.447Z"
   },
   {
    "duration": 116,
    "start_time": "2022-09-05T21:59:04.487Z"
   },
   {
    "duration": 792,
    "start_time": "2022-09-05T22:01:02.288Z"
   },
   {
    "duration": 1423,
    "start_time": "2022-09-05T22:01:12.197Z"
   },
   {
    "duration": 3,
    "start_time": "2022-09-05T22:01:13.622Z"
   },
   {
    "duration": 334,
    "start_time": "2022-09-05T22:01:13.627Z"
   },
   {
    "duration": 97,
    "start_time": "2022-09-05T22:01:13.963Z"
   },
   {
    "duration": 396,
    "start_time": "2022-09-05T22:01:14.062Z"
   },
   {
    "duration": 8,
    "start_time": "2022-09-05T22:01:14.460Z"
   },
   {
    "duration": 18,
    "start_time": "2022-09-05T22:01:14.469Z"
   },
   {
    "duration": 9,
    "start_time": "2022-09-05T22:01:14.489Z"
   },
   {
    "duration": 8,
    "start_time": "2022-09-05T22:01:14.500Z"
   },
   {
    "duration": 10,
    "start_time": "2022-09-05T22:01:14.509Z"
   },
   {
    "duration": 16,
    "start_time": "2022-09-05T22:01:14.521Z"
   },
   {
    "duration": 54,
    "start_time": "2022-09-05T22:01:14.539Z"
   },
   {
    "duration": 5,
    "start_time": "2022-09-05T22:01:14.595Z"
   },
   {
    "duration": 590,
    "start_time": "2022-09-05T22:01:14.604Z"
   },
   {
    "duration": 651,
    "start_time": "2022-09-05T22:01:15.196Z"
   },
   {
    "duration": 679,
    "start_time": "2022-09-05T22:01:15.849Z"
   },
   {
    "duration": 818,
    "start_time": "2022-09-05T22:01:16.530Z"
   },
   {
    "duration": 8,
    "start_time": "2022-09-05T22:01:17.350Z"
   },
   {
    "duration": 577,
    "start_time": "2022-09-05T22:01:17.359Z"
   },
   {
    "duration": 3,
    "start_time": "2022-09-05T22:01:17.938Z"
   },
   {
    "duration": 25,
    "start_time": "2022-09-05T22:01:17.942Z"
   },
   {
    "duration": 17,
    "start_time": "2022-09-05T22:01:17.969Z"
   },
   {
    "duration": 7,
    "start_time": "2022-09-05T22:01:17.987Z"
   },
   {
    "duration": 11,
    "start_time": "2022-09-05T22:01:17.996Z"
   },
   {
    "duration": 43,
    "start_time": "2022-09-05T22:01:18.008Z"
   },
   {
    "duration": 472,
    "start_time": "2022-09-05T22:01:18.054Z"
   },
   {
    "duration": 667,
    "start_time": "2022-09-05T22:01:18.527Z"
   },
   {
    "duration": 35,
    "start_time": "2022-09-05T22:01:19.196Z"
   },
   {
    "duration": 4,
    "start_time": "2022-09-05T22:01:19.232Z"
   },
   {
    "duration": 9,
    "start_time": "2022-09-05T22:01:19.237Z"
   },
   {
    "duration": 21,
    "start_time": "2022-09-05T22:01:19.247Z"
   },
   {
    "duration": 129,
    "start_time": "2022-09-05T22:01:19.270Z"
   },
   {
    "duration": 16,
    "start_time": "2022-09-05T22:12:03.044Z"
   },
   {
    "duration": 859,
    "start_time": "2022-09-05T22:12:03.455Z"
   },
   {
    "duration": 1376,
    "start_time": "2022-09-05T22:12:10.388Z"
   },
   {
    "duration": 3,
    "start_time": "2022-09-05T22:12:11.766Z"
   },
   {
    "duration": 316,
    "start_time": "2022-09-05T22:12:11.771Z"
   },
   {
    "duration": 89,
    "start_time": "2022-09-05T22:12:12.089Z"
   },
   {
    "duration": 358,
    "start_time": "2022-09-05T22:12:12.179Z"
   },
   {
    "duration": 7,
    "start_time": "2022-09-05T22:12:12.538Z"
   },
   {
    "duration": 9,
    "start_time": "2022-09-05T22:12:12.546Z"
   },
   {
    "duration": 15,
    "start_time": "2022-09-05T22:12:12.556Z"
   },
   {
    "duration": 18,
    "start_time": "2022-09-05T22:12:12.573Z"
   },
   {
    "duration": 9,
    "start_time": "2022-09-05T22:12:12.593Z"
   },
   {
    "duration": 17,
    "start_time": "2022-09-05T22:12:12.604Z"
   },
   {
    "duration": 19,
    "start_time": "2022-09-05T22:12:12.622Z"
   },
   {
    "duration": 73,
    "start_time": "2022-09-05T22:12:12.643Z"
   },
   {
    "duration": 533,
    "start_time": "2022-09-05T22:12:12.717Z"
   },
   {
    "duration": 612,
    "start_time": "2022-09-05T22:12:13.251Z"
   },
   {
    "duration": 577,
    "start_time": "2022-09-05T22:12:13.865Z"
   },
   {
    "duration": 753,
    "start_time": "2022-09-05T22:12:14.444Z"
   },
   {
    "duration": 8,
    "start_time": "2022-09-05T22:12:15.199Z"
   },
   {
    "duration": 544,
    "start_time": "2022-09-05T22:12:15.209Z"
   },
   {
    "duration": 3,
    "start_time": "2022-09-05T22:12:15.755Z"
   },
   {
    "duration": 16,
    "start_time": "2022-09-05T22:12:15.760Z"
   },
   {
    "duration": 9,
    "start_time": "2022-09-05T22:12:15.778Z"
   },
   {
    "duration": 6,
    "start_time": "2022-09-05T22:12:15.789Z"
   },
   {
    "duration": 6,
    "start_time": "2022-09-05T22:12:15.797Z"
   },
   {
    "duration": 31,
    "start_time": "2022-09-05T22:12:15.804Z"
   },
   {
    "duration": 458,
    "start_time": "2022-09-05T22:12:15.837Z"
   },
   {
    "duration": 627,
    "start_time": "2022-09-05T22:12:16.297Z"
   },
   {
    "duration": 32,
    "start_time": "2022-09-05T22:12:16.927Z"
   },
   {
    "duration": 4,
    "start_time": "2022-09-05T22:12:16.960Z"
   },
   {
    "duration": 2,
    "start_time": "2022-09-05T22:12:16.987Z"
   },
   {
    "duration": 13,
    "start_time": "2022-09-05T22:12:16.991Z"
   },
   {
    "duration": 128,
    "start_time": "2022-09-05T22:12:17.005Z"
   },
   {
    "duration": 356,
    "start_time": "2022-09-05T22:13:24.003Z"
   },
   {
    "duration": 1320,
    "start_time": "2022-09-05T22:17:54.131Z"
   },
   {
    "duration": 2,
    "start_time": "2022-09-05T22:17:55.453Z"
   },
   {
    "duration": 301,
    "start_time": "2022-09-05T22:17:55.457Z"
   },
   {
    "duration": 90,
    "start_time": "2022-09-05T22:17:55.760Z"
   },
   {
    "duration": 386,
    "start_time": "2022-09-05T22:17:55.852Z"
   },
   {
    "duration": 10,
    "start_time": "2022-09-05T22:17:56.240Z"
   },
   {
    "duration": 24,
    "start_time": "2022-09-05T22:17:56.252Z"
   },
   {
    "duration": 23,
    "start_time": "2022-09-05T22:17:56.278Z"
   },
   {
    "duration": 18,
    "start_time": "2022-09-05T22:17:56.303Z"
   },
   {
    "duration": 25,
    "start_time": "2022-09-05T22:17:56.323Z"
   },
   {
    "duration": 31,
    "start_time": "2022-09-05T22:17:56.350Z"
   },
   {
    "duration": 25,
    "start_time": "2022-09-05T22:17:56.384Z"
   },
   {
    "duration": 535,
    "start_time": "2022-09-05T22:17:56.410Z"
   },
   {
    "duration": 581,
    "start_time": "2022-09-05T22:17:56.946Z"
   },
   {
    "duration": 544,
    "start_time": "2022-09-05T22:17:57.528Z"
   },
   {
    "duration": 717,
    "start_time": "2022-09-05T22:17:58.074Z"
   },
   {
    "duration": 7,
    "start_time": "2022-09-05T22:17:58.793Z"
   },
   {
    "duration": 518,
    "start_time": "2022-09-05T22:17:58.801Z"
   },
   {
    "duration": 3,
    "start_time": "2022-09-05T22:17:59.321Z"
   },
   {
    "duration": 21,
    "start_time": "2022-09-05T22:17:59.325Z"
   },
   {
    "duration": 11,
    "start_time": "2022-09-05T22:17:59.348Z"
   },
   {
    "duration": 7,
    "start_time": "2022-09-05T22:17:59.360Z"
   },
   {
    "duration": 8,
    "start_time": "2022-09-05T22:17:59.369Z"
   },
   {
    "duration": 33,
    "start_time": "2022-09-05T22:17:59.378Z"
   },
   {
    "duration": 410,
    "start_time": "2022-09-05T22:17:59.412Z"
   },
   {
    "duration": 636,
    "start_time": "2022-09-05T22:17:59.824Z"
   },
   {
    "duration": 53,
    "start_time": "2022-09-05T22:18:00.462Z"
   },
   {
    "duration": 4,
    "start_time": "2022-09-05T22:18:00.519Z"
   },
   {
    "duration": 37,
    "start_time": "2022-09-05T22:18:00.524Z"
   },
   {
    "duration": 22,
    "start_time": "2022-09-05T22:18:00.562Z"
   },
   {
    "duration": 114,
    "start_time": "2022-09-05T22:18:00.585Z"
   },
   {
    "duration": 1340,
    "start_time": "2022-09-05T22:18:56.393Z"
   },
   {
    "duration": 3,
    "start_time": "2022-09-05T22:18:57.734Z"
   },
   {
    "duration": 326,
    "start_time": "2022-09-05T22:18:57.738Z"
   },
   {
    "duration": 86,
    "start_time": "2022-09-05T22:18:58.066Z"
   },
   {
    "duration": 356,
    "start_time": "2022-09-05T22:18:58.153Z"
   },
   {
    "duration": 7,
    "start_time": "2022-09-05T22:18:58.510Z"
   },
   {
    "duration": 26,
    "start_time": "2022-09-05T22:18:58.518Z"
   },
   {
    "duration": 15,
    "start_time": "2022-09-05T22:18:58.545Z"
   },
   {
    "duration": 28,
    "start_time": "2022-09-05T22:18:58.561Z"
   },
   {
    "duration": 17,
    "start_time": "2022-09-05T22:18:58.592Z"
   },
   {
    "duration": 29,
    "start_time": "2022-09-05T22:18:58.611Z"
   },
   {
    "duration": 512,
    "start_time": "2022-09-05T22:18:58.642Z"
   },
   {
    "duration": 577,
    "start_time": "2022-09-05T22:18:59.156Z"
   },
   {
    "duration": 527,
    "start_time": "2022-09-05T22:18:59.734Z"
   },
   {
    "duration": 719,
    "start_time": "2022-09-05T22:19:00.263Z"
   },
   {
    "duration": 6,
    "start_time": "2022-09-05T22:19:00.987Z"
   },
   {
    "duration": 566,
    "start_time": "2022-09-05T22:19:00.995Z"
   },
   {
    "duration": 4,
    "start_time": "2022-09-05T22:19:01.562Z"
   },
   {
    "duration": 46,
    "start_time": "2022-09-05T22:19:01.568Z"
   },
   {
    "duration": 47,
    "start_time": "2022-09-05T22:19:01.615Z"
   },
   {
    "duration": 22,
    "start_time": "2022-09-05T22:19:01.664Z"
   },
   {
    "duration": 33,
    "start_time": "2022-09-05T22:19:01.687Z"
   },
   {
    "duration": 63,
    "start_time": "2022-09-05T22:19:01.722Z"
   },
   {
    "duration": 24343,
    "start_time": "2022-09-05T22:19:01.786Z"
   },
   {
    "duration": 1327,
    "start_time": "2022-09-05T22:19:53.135Z"
   },
   {
    "duration": 3,
    "start_time": "2022-09-05T22:19:54.464Z"
   },
   {
    "duration": 302,
    "start_time": "2022-09-05T22:19:54.469Z"
   },
   {
    "duration": 88,
    "start_time": "2022-09-05T22:19:54.773Z"
   },
   {
    "duration": 354,
    "start_time": "2022-09-05T22:19:54.863Z"
   },
   {
    "duration": 6,
    "start_time": "2022-09-05T22:19:55.219Z"
   },
   {
    "duration": 16,
    "start_time": "2022-09-05T22:19:55.227Z"
   },
   {
    "duration": 24,
    "start_time": "2022-09-05T22:19:55.245Z"
   },
   {
    "duration": 10,
    "start_time": "2022-09-05T22:19:55.270Z"
   },
   {
    "duration": 19,
    "start_time": "2022-09-05T22:19:55.281Z"
   },
   {
    "duration": 17,
    "start_time": "2022-09-05T22:19:55.301Z"
   },
   {
    "duration": 43,
    "start_time": "2022-09-05T22:19:55.320Z"
   },
   {
    "duration": 519,
    "start_time": "2022-09-05T22:19:55.364Z"
   },
   {
    "duration": 679,
    "start_time": "2022-09-05T22:19:55.886Z"
   },
   {
    "duration": 543,
    "start_time": "2022-09-05T22:19:56.566Z"
   },
   {
    "duration": 778,
    "start_time": "2022-09-05T22:19:57.111Z"
   },
   {
    "duration": 6,
    "start_time": "2022-09-05T22:19:57.891Z"
   },
   {
    "duration": 517,
    "start_time": "2022-09-05T22:19:57.899Z"
   },
   {
    "duration": 4,
    "start_time": "2022-09-05T22:19:58.419Z"
   },
   {
    "duration": 17,
    "start_time": "2022-09-05T22:19:58.425Z"
   },
   {
    "duration": 8,
    "start_time": "2022-09-05T22:19:58.444Z"
   },
   {
    "duration": 9,
    "start_time": "2022-09-05T22:19:58.454Z"
   },
   {
    "duration": 6,
    "start_time": "2022-09-05T22:19:58.464Z"
   },
   {
    "duration": 39,
    "start_time": "2022-09-05T22:19:58.471Z"
   },
   {
    "duration": 23136,
    "start_time": "2022-09-05T22:19:58.511Z"
   },
   {
    "duration": 71905,
    "start_time": "2022-09-05T22:20:21.649Z"
   },
   {
    "duration": 1362,
    "start_time": "2022-09-05T22:21:36.704Z"
   },
   {
    "duration": 3,
    "start_time": "2022-09-05T22:21:38.068Z"
   },
   {
    "duration": 320,
    "start_time": "2022-09-05T22:21:38.072Z"
   },
   {
    "duration": 87,
    "start_time": "2022-09-05T22:21:38.394Z"
   },
   {
    "duration": 360,
    "start_time": "2022-09-05T22:21:38.483Z"
   },
   {
    "duration": 7,
    "start_time": "2022-09-05T22:21:38.845Z"
   },
   {
    "duration": 7,
    "start_time": "2022-09-05T22:21:38.853Z"
   },
   {
    "duration": 11,
    "start_time": "2022-09-05T22:21:38.862Z"
   },
   {
    "duration": 6,
    "start_time": "2022-09-05T22:21:38.887Z"
   },
   {
    "duration": 8,
    "start_time": "2022-09-05T22:21:38.896Z"
   },
   {
    "duration": 11,
    "start_time": "2022-09-05T22:21:38.906Z"
   },
   {
    "duration": 80,
    "start_time": "2022-09-05T22:21:38.918Z"
   },
   {
    "duration": 521,
    "start_time": "2022-09-05T22:21:38.999Z"
   },
   {
    "duration": 582,
    "start_time": "2022-09-05T22:21:39.522Z"
   },
   {
    "duration": 561,
    "start_time": "2022-09-05T22:21:40.106Z"
   },
   {
    "duration": 711,
    "start_time": "2022-09-05T22:21:40.669Z"
   },
   {
    "duration": 6,
    "start_time": "2022-09-05T22:21:41.386Z"
   },
   {
    "duration": 517,
    "start_time": "2022-09-05T22:21:41.394Z"
   },
   {
    "duration": 3,
    "start_time": "2022-09-05T22:21:41.912Z"
   },
   {
    "duration": 19,
    "start_time": "2022-09-05T22:21:41.917Z"
   },
   {
    "duration": 4,
    "start_time": "2022-09-05T22:21:41.938Z"
   },
   {
    "duration": 4,
    "start_time": "2022-09-05T22:21:41.944Z"
   },
   {
    "duration": 7,
    "start_time": "2022-09-05T22:21:41.950Z"
   },
   {
    "duration": 44,
    "start_time": "2022-09-05T22:21:41.959Z"
   },
   {
    "duration": 30950,
    "start_time": "2022-09-05T22:21:42.004Z"
   },
   {
    "duration": 1330,
    "start_time": "2022-09-05T22:23:48.743Z"
   },
   {
    "duration": 2,
    "start_time": "2022-09-05T22:23:50.075Z"
   },
   {
    "duration": 294,
    "start_time": "2022-09-05T22:23:50.081Z"
   },
   {
    "duration": 83,
    "start_time": "2022-09-05T22:23:50.377Z"
   },
   {
    "duration": 349,
    "start_time": "2022-09-05T22:23:50.462Z"
   },
   {
    "duration": 8,
    "start_time": "2022-09-05T22:23:50.813Z"
   },
   {
    "duration": 6,
    "start_time": "2022-09-05T22:23:50.823Z"
   },
   {
    "duration": 15,
    "start_time": "2022-09-05T22:23:50.831Z"
   },
   {
    "duration": 6,
    "start_time": "2022-09-05T22:23:50.847Z"
   },
   {
    "duration": 9,
    "start_time": "2022-09-05T22:23:50.855Z"
   },
   {
    "duration": 37,
    "start_time": "2022-09-05T22:23:50.865Z"
   },
   {
    "duration": 53,
    "start_time": "2022-09-05T22:23:50.904Z"
   },
   {
    "duration": 530,
    "start_time": "2022-09-05T22:23:50.959Z"
   },
   {
    "duration": 578,
    "start_time": "2022-09-05T22:23:51.491Z"
   },
   {
    "duration": 511,
    "start_time": "2022-09-05T22:23:52.071Z"
   },
   {
    "duration": 716,
    "start_time": "2022-09-05T22:23:52.584Z"
   },
   {
    "duration": 7,
    "start_time": "2022-09-05T22:23:53.302Z"
   },
   {
    "duration": 539,
    "start_time": "2022-09-05T22:23:53.311Z"
   },
   {
    "duration": 3,
    "start_time": "2022-09-05T22:23:53.852Z"
   },
   {
    "duration": 19,
    "start_time": "2022-09-05T22:23:53.857Z"
   },
   {
    "duration": 11,
    "start_time": "2022-09-05T22:23:53.878Z"
   },
   {
    "duration": 14,
    "start_time": "2022-09-05T22:23:53.890Z"
   },
   {
    "duration": 6,
    "start_time": "2022-09-05T22:23:53.905Z"
   },
   {
    "duration": 29,
    "start_time": "2022-09-05T22:23:53.912Z"
   },
   {
    "duration": 1406,
    "start_time": "2022-09-05T22:24:15.320Z"
   },
   {
    "duration": 3,
    "start_time": "2022-09-05T22:24:16.728Z"
   },
   {
    "duration": 339,
    "start_time": "2022-09-05T22:24:16.732Z"
   },
   {
    "duration": 87,
    "start_time": "2022-09-05T22:24:17.073Z"
   },
   {
    "duration": 371,
    "start_time": "2022-09-05T22:24:17.162Z"
   },
   {
    "duration": 8,
    "start_time": "2022-09-05T22:24:17.535Z"
   },
   {
    "duration": 10,
    "start_time": "2022-09-05T22:24:17.546Z"
   },
   {
    "duration": 16,
    "start_time": "2022-09-05T22:24:17.558Z"
   },
   {
    "duration": 7,
    "start_time": "2022-09-05T22:24:17.587Z"
   },
   {
    "duration": 21,
    "start_time": "2022-09-05T22:24:17.598Z"
   },
   {
    "duration": 19,
    "start_time": "2022-09-05T22:24:17.621Z"
   },
   {
    "duration": 77,
    "start_time": "2022-09-05T22:24:17.642Z"
   },
   {
    "duration": 547,
    "start_time": "2022-09-05T22:24:17.721Z"
   },
   {
    "duration": 827,
    "start_time": "2022-09-05T22:24:18.270Z"
   },
   {
    "duration": 1101,
    "start_time": "2022-09-05T22:24:19.099Z"
   },
   {
    "duration": 817,
    "start_time": "2022-09-05T22:24:20.202Z"
   },
   {
    "duration": 6,
    "start_time": "2022-09-05T22:24:21.021Z"
   },
   {
    "duration": 542,
    "start_time": "2022-09-05T22:24:21.028Z"
   },
   {
    "duration": 3,
    "start_time": "2022-09-05T22:24:21.572Z"
   },
   {
    "duration": 22,
    "start_time": "2022-09-05T22:24:21.577Z"
   },
   {
    "duration": 5,
    "start_time": "2022-09-05T22:24:21.600Z"
   },
   {
    "duration": 6,
    "start_time": "2022-09-05T22:24:21.606Z"
   },
   {
    "duration": 7,
    "start_time": "2022-09-05T22:24:21.613Z"
   },
   {
    "duration": 30,
    "start_time": "2022-09-05T22:24:21.621Z"
   },
   {
    "duration": 30772,
    "start_time": "2022-09-05T22:24:21.653Z"
   },
   {
    "duration": 1376,
    "start_time": "2022-09-05T22:25:19.075Z"
   },
   {
    "duration": 3,
    "start_time": "2022-09-05T22:25:20.453Z"
   },
   {
    "duration": 332,
    "start_time": "2022-09-05T22:25:20.457Z"
   },
   {
    "duration": 89,
    "start_time": "2022-09-05T22:25:20.791Z"
   },
   {
    "duration": 363,
    "start_time": "2022-09-05T22:25:20.886Z"
   },
   {
    "duration": 7,
    "start_time": "2022-09-05T22:25:21.251Z"
   },
   {
    "duration": 19,
    "start_time": "2022-09-05T22:25:21.259Z"
   },
   {
    "duration": 30,
    "start_time": "2022-09-05T22:25:21.280Z"
   },
   {
    "duration": 16,
    "start_time": "2022-09-05T22:25:21.311Z"
   },
   {
    "duration": 24,
    "start_time": "2022-09-05T22:25:21.329Z"
   },
   {
    "duration": 18,
    "start_time": "2022-09-05T22:25:21.354Z"
   },
   {
    "duration": 516,
    "start_time": "2022-09-05T22:25:21.373Z"
   },
   {
    "duration": 589,
    "start_time": "2022-09-05T22:25:21.891Z"
   },
   {
    "duration": 522,
    "start_time": "2022-09-05T22:25:22.482Z"
   },
   {
    "duration": 701,
    "start_time": "2022-09-05T22:25:23.006Z"
   },
   {
    "duration": 6,
    "start_time": "2022-09-05T22:25:23.709Z"
   },
   {
    "duration": 546,
    "start_time": "2022-09-05T22:25:23.716Z"
   },
   {
    "duration": 3,
    "start_time": "2022-09-05T22:25:24.264Z"
   },
   {
    "duration": 47,
    "start_time": "2022-09-05T22:25:24.269Z"
   },
   {
    "duration": 15,
    "start_time": "2022-09-05T22:25:24.318Z"
   },
   {
    "duration": 26,
    "start_time": "2022-09-05T22:25:24.335Z"
   },
   {
    "duration": 21,
    "start_time": "2022-09-05T22:25:24.362Z"
   },
   {
    "duration": 60,
    "start_time": "2022-09-05T22:25:24.384Z"
   },
   {
    "duration": 31989,
    "start_time": "2022-09-05T22:25:24.446Z"
   },
   {
    "duration": 1324,
    "start_time": "2022-09-05T22:26:20.727Z"
   },
   {
    "duration": 3,
    "start_time": "2022-09-05T22:26:22.053Z"
   },
   {
    "duration": 298,
    "start_time": "2022-09-05T22:26:22.058Z"
   },
   {
    "duration": 85,
    "start_time": "2022-09-05T22:26:22.358Z"
   },
   {
    "duration": 350,
    "start_time": "2022-09-05T22:26:22.445Z"
   },
   {
    "duration": 7,
    "start_time": "2022-09-05T22:26:22.798Z"
   },
   {
    "duration": 6,
    "start_time": "2022-09-05T22:26:22.807Z"
   },
   {
    "duration": 12,
    "start_time": "2022-09-05T22:26:22.815Z"
   },
   {
    "duration": 10,
    "start_time": "2022-09-05T22:26:22.829Z"
   },
   {
    "duration": 9,
    "start_time": "2022-09-05T22:26:22.841Z"
   },
   {
    "duration": 52,
    "start_time": "2022-09-05T22:26:22.852Z"
   },
   {
    "duration": 55,
    "start_time": "2022-09-05T22:26:22.906Z"
   },
   {
    "duration": 534,
    "start_time": "2022-09-05T22:26:22.963Z"
   },
   {
    "duration": 599,
    "start_time": "2022-09-05T22:26:23.500Z"
   },
   {
    "duration": 529,
    "start_time": "2022-09-05T22:26:24.101Z"
   },
   {
    "duration": 703,
    "start_time": "2022-09-05T22:26:24.632Z"
   },
   {
    "duration": 8,
    "start_time": "2022-09-05T22:26:25.337Z"
   },
   {
    "duration": 525,
    "start_time": "2022-09-05T22:26:25.346Z"
   },
   {
    "duration": 4,
    "start_time": "2022-09-05T22:26:25.873Z"
   },
   {
    "duration": 20,
    "start_time": "2022-09-05T22:26:25.879Z"
   },
   {
    "duration": 19,
    "start_time": "2022-09-05T22:26:25.900Z"
   },
   {
    "duration": 9,
    "start_time": "2022-09-05T22:26:25.920Z"
   },
   {
    "duration": 6,
    "start_time": "2022-09-05T22:26:25.930Z"
   },
   {
    "duration": 34,
    "start_time": "2022-09-05T22:26:25.937Z"
   },
   {
    "duration": 30676,
    "start_time": "2022-09-05T22:26:25.973Z"
   },
   {
    "duration": 95011,
    "start_time": "2022-09-05T22:26:56.651Z"
   },
   {
    "duration": 1730,
    "start_time": "2022-09-05T22:28:31.664Z"
   },
   {
    "duration": 4,
    "start_time": "2022-09-05T22:28:33.396Z"
   },
   {
    "duration": 86,
    "start_time": "2022-09-05T22:28:33.402Z"
   },
   {
    "duration": 17,
    "start_time": "2022-09-05T22:28:33.489Z"
   },
   {
    "duration": 1355,
    "start_time": "2022-09-05T22:28:33.508Z"
   },
   {
    "duration": 721,
    "start_time": "2022-09-05T22:28:53.755Z"
   },
   {
    "duration": 630,
    "start_time": "2022-09-05T22:29:07.973Z"
   },
   {
    "duration": 730,
    "start_time": "2022-09-05T22:29:19.340Z"
   },
   {
    "duration": 1403,
    "start_time": "2022-09-05T22:32:28.911Z"
   },
   {
    "duration": 3,
    "start_time": "2022-09-05T22:32:30.316Z"
   },
   {
    "duration": 320,
    "start_time": "2022-09-05T22:32:30.321Z"
   },
   {
    "duration": 90,
    "start_time": "2022-09-05T22:32:30.643Z"
   },
   {
    "duration": 387,
    "start_time": "2022-09-05T22:32:30.734Z"
   },
   {
    "duration": 8,
    "start_time": "2022-09-05T22:32:31.122Z"
   },
   {
    "duration": 12,
    "start_time": "2022-09-05T22:32:31.131Z"
   },
   {
    "duration": 24,
    "start_time": "2022-09-05T22:32:31.144Z"
   },
   {
    "duration": 14,
    "start_time": "2022-09-05T22:32:31.170Z"
   },
   {
    "duration": 15,
    "start_time": "2022-09-05T22:32:31.187Z"
   },
   {
    "duration": 32,
    "start_time": "2022-09-05T22:32:31.204Z"
   },
   {
    "duration": 63,
    "start_time": "2022-09-05T22:32:31.238Z"
   },
   {
    "duration": 564,
    "start_time": "2022-09-05T22:32:31.303Z"
   },
   {
    "duration": 643,
    "start_time": "2022-09-05T22:32:31.869Z"
   },
   {
    "duration": 530,
    "start_time": "2022-09-05T22:32:32.513Z"
   },
   {
    "duration": 828,
    "start_time": "2022-09-05T22:32:33.045Z"
   },
   {
    "duration": 14,
    "start_time": "2022-09-05T22:32:33.876Z"
   },
   {
    "duration": 557,
    "start_time": "2022-09-05T22:32:33.891Z"
   },
   {
    "duration": 4,
    "start_time": "2022-09-05T22:32:34.449Z"
   },
   {
    "duration": 15,
    "start_time": "2022-09-05T22:32:34.454Z"
   },
   {
    "duration": 18,
    "start_time": "2022-09-05T22:32:34.470Z"
   },
   {
    "duration": 6,
    "start_time": "2022-09-05T22:32:34.490Z"
   },
   {
    "duration": 8,
    "start_time": "2022-09-05T22:32:34.497Z"
   },
   {
    "duration": 31,
    "start_time": "2022-09-05T22:32:34.507Z"
   },
   {
    "duration": 31023,
    "start_time": "2022-09-05T22:32:34.541Z"
   },
   {
    "duration": 139046,
    "start_time": "2022-09-05T22:33:05.566Z"
   },
   {
    "duration": 2478,
    "start_time": "2022-09-05T22:35:24.613Z"
   },
   {
    "duration": 4,
    "start_time": "2022-09-05T22:35:27.095Z"
   },
   {
    "duration": 87,
    "start_time": "2022-09-05T22:35:27.101Z"
   },
   {
    "duration": 54,
    "start_time": "2022-09-05T22:35:27.190Z"
   },
   {
    "duration": 1391,
    "start_time": "2022-09-05T22:35:27.246Z"
   },
   {
    "duration": 914,
    "start_time": "2022-09-05T22:36:30.006Z"
   },
   {
    "duration": 71,
    "start_time": "2022-09-05T22:39:11.422Z"
   },
   {
    "duration": 8,
    "start_time": "2022-09-05T22:40:25.052Z"
   },
   {
    "duration": 10,
    "start_time": "2022-09-05T22:40:30.454Z"
   },
   {
    "duration": 6,
    "start_time": "2022-09-05T22:40:33.784Z"
   },
   {
    "duration": 10,
    "start_time": "2022-09-05T22:41:10.056Z"
   },
   {
    "duration": 9,
    "start_time": "2022-09-05T22:41:31.346Z"
   },
   {
    "duration": 1312,
    "start_time": "2022-09-05T22:41:42.220Z"
   },
   {
    "duration": 3,
    "start_time": "2022-09-05T22:41:43.534Z"
   },
   {
    "duration": 304,
    "start_time": "2022-09-05T22:41:43.538Z"
   },
   {
    "duration": 89,
    "start_time": "2022-09-05T22:41:43.843Z"
   },
   {
    "duration": 360,
    "start_time": "2022-09-05T22:41:43.935Z"
   },
   {
    "duration": 8,
    "start_time": "2022-09-05T22:41:44.297Z"
   },
   {
    "duration": 23,
    "start_time": "2022-09-05T22:41:44.307Z"
   },
   {
    "duration": 22,
    "start_time": "2022-09-05T22:41:44.332Z"
   },
   {
    "duration": 20,
    "start_time": "2022-09-05T22:41:44.355Z"
   },
   {
    "duration": 15,
    "start_time": "2022-09-05T22:41:44.377Z"
   },
   {
    "duration": 108,
    "start_time": "2022-09-05T22:41:44.393Z"
   },
   {
    "duration": 0,
    "start_time": "2022-09-05T22:41:44.503Z"
   },
   {
    "duration": 0,
    "start_time": "2022-09-05T22:41:44.503Z"
   },
   {
    "duration": 0,
    "start_time": "2022-09-05T22:41:44.505Z"
   },
   {
    "duration": 0,
    "start_time": "2022-09-05T22:41:44.505Z"
   },
   {
    "duration": 0,
    "start_time": "2022-09-05T22:41:44.506Z"
   },
   {
    "duration": 0,
    "start_time": "2022-09-05T22:41:44.507Z"
   },
   {
    "duration": 0,
    "start_time": "2022-09-05T22:41:44.508Z"
   },
   {
    "duration": 0,
    "start_time": "2022-09-05T22:41:44.509Z"
   },
   {
    "duration": 0,
    "start_time": "2022-09-05T22:41:44.510Z"
   },
   {
    "duration": 0,
    "start_time": "2022-09-05T22:41:44.511Z"
   },
   {
    "duration": 0,
    "start_time": "2022-09-05T22:41:44.512Z"
   },
   {
    "duration": 0,
    "start_time": "2022-09-05T22:41:44.513Z"
   },
   {
    "duration": 0,
    "start_time": "2022-09-05T22:41:44.514Z"
   },
   {
    "duration": 0,
    "start_time": "2022-09-05T22:41:44.515Z"
   },
   {
    "duration": 0,
    "start_time": "2022-09-05T22:41:44.515Z"
   },
   {
    "duration": 0,
    "start_time": "2022-09-05T22:41:44.516Z"
   },
   {
    "duration": 0,
    "start_time": "2022-09-05T22:41:44.517Z"
   },
   {
    "duration": 0,
    "start_time": "2022-09-05T22:41:44.518Z"
   },
   {
    "duration": 0,
    "start_time": "2022-09-05T22:41:44.519Z"
   },
   {
    "duration": 0,
    "start_time": "2022-09-05T22:41:44.520Z"
   },
   {
    "duration": 0,
    "start_time": "2022-09-05T22:41:44.521Z"
   },
   {
    "duration": 0,
    "start_time": "2022-09-05T22:41:44.522Z"
   },
   {
    "duration": 18,
    "start_time": "2022-09-05T22:42:42.232Z"
   },
   {
    "duration": 10,
    "start_time": "2022-09-05T22:42:49.652Z"
   },
   {
    "duration": 7,
    "start_time": "2022-09-05T22:42:58.638Z"
   },
   {
    "duration": 1393,
    "start_time": "2022-09-05T22:43:18.849Z"
   },
   {
    "duration": 3,
    "start_time": "2022-09-05T22:43:20.243Z"
   },
   {
    "duration": 304,
    "start_time": "2022-09-05T22:43:20.248Z"
   },
   {
    "duration": 88,
    "start_time": "2022-09-05T22:43:20.554Z"
   },
   {
    "duration": 368,
    "start_time": "2022-09-05T22:43:20.645Z"
   },
   {
    "duration": 7,
    "start_time": "2022-09-05T22:43:21.014Z"
   },
   {
    "duration": 4,
    "start_time": "2022-09-05T22:43:21.023Z"
   },
   {
    "duration": 11,
    "start_time": "2022-09-05T22:43:21.029Z"
   },
   {
    "duration": 6,
    "start_time": "2022-09-05T22:43:21.041Z"
   },
   {
    "duration": 13,
    "start_time": "2022-09-05T22:43:21.049Z"
   },
   {
    "duration": 34,
    "start_time": "2022-09-05T22:43:21.064Z"
   },
   {
    "duration": 55,
    "start_time": "2022-09-05T22:43:21.099Z"
   },
   {
    "duration": 510,
    "start_time": "2022-09-05T22:43:21.156Z"
   },
   {
    "duration": 599,
    "start_time": "2022-09-05T22:43:21.669Z"
   },
   {
    "duration": 507,
    "start_time": "2022-09-05T22:43:22.270Z"
   },
   {
    "duration": 710,
    "start_time": "2022-09-05T22:43:22.779Z"
   },
   {
    "duration": 6,
    "start_time": "2022-09-05T22:43:23.490Z"
   },
   {
    "duration": 533,
    "start_time": "2022-09-05T22:43:23.498Z"
   },
   {
    "duration": 3,
    "start_time": "2022-09-05T22:43:24.033Z"
   },
   {
    "duration": 15,
    "start_time": "2022-09-05T22:43:24.038Z"
   },
   {
    "duration": 7,
    "start_time": "2022-09-05T22:43:24.055Z"
   },
   {
    "duration": 7,
    "start_time": "2022-09-05T22:43:24.064Z"
   },
   {
    "duration": 11,
    "start_time": "2022-09-05T22:43:24.072Z"
   },
   {
    "duration": 27,
    "start_time": "2022-09-05T22:43:24.087Z"
   },
   {
    "duration": 30206,
    "start_time": "2022-09-05T22:43:24.116Z"
   },
   {
    "duration": 136720,
    "start_time": "2022-09-05T22:43:54.323Z"
   },
   {
    "duration": 2147,
    "start_time": "2022-09-05T22:46:11.045Z"
   },
   {
    "duration": 4,
    "start_time": "2022-09-05T22:46:13.194Z"
   },
   {
    "duration": 89,
    "start_time": "2022-09-05T22:46:13.200Z"
   },
   {
    "duration": 20,
    "start_time": "2022-09-05T22:46:13.291Z"
   },
   {
    "duration": 1091,
    "start_time": "2022-09-05T22:46:13.313Z"
   },
   {
    "duration": 0,
    "start_time": "2022-09-05T22:46:14.406Z"
   },
   {
    "duration": 7,
    "start_time": "2022-09-05T22:48:30.398Z"
   },
   {
    "duration": 12,
    "start_time": "2022-09-05T22:50:08.878Z"
   },
   {
    "duration": 930,
    "start_time": "2022-09-05T22:50:10.045Z"
   },
   {
    "duration": 16,
    "start_time": "2022-09-05T22:50:23.551Z"
   },
   {
    "duration": 728,
    "start_time": "2022-09-05T22:50:25.752Z"
   },
   {
    "duration": 1341,
    "start_time": "2022-09-05T22:50:32.898Z"
   },
   {
    "duration": 2,
    "start_time": "2022-09-05T22:50:34.241Z"
   },
   {
    "duration": 314,
    "start_time": "2022-09-05T22:50:34.245Z"
   },
   {
    "duration": 85,
    "start_time": "2022-09-05T22:50:34.561Z"
   },
   {
    "duration": 357,
    "start_time": "2022-09-05T22:50:34.648Z"
   },
   {
    "duration": 6,
    "start_time": "2022-09-05T22:50:35.007Z"
   },
   {
    "duration": 8,
    "start_time": "2022-09-05T22:50:35.014Z"
   },
   {
    "duration": 17,
    "start_time": "2022-09-05T22:50:35.024Z"
   },
   {
    "duration": 19,
    "start_time": "2022-09-05T22:50:35.042Z"
   },
   {
    "duration": 40,
    "start_time": "2022-09-05T22:50:35.063Z"
   },
   {
    "duration": 16,
    "start_time": "2022-09-05T22:50:35.105Z"
   },
   {
    "duration": 42,
    "start_time": "2022-09-05T22:50:35.123Z"
   },
   {
    "duration": 524,
    "start_time": "2022-09-05T22:50:35.166Z"
   },
   {
    "duration": 621,
    "start_time": "2022-09-05T22:50:35.692Z"
   },
   {
    "duration": 548,
    "start_time": "2022-09-05T22:50:36.315Z"
   },
   {
    "duration": 750,
    "start_time": "2022-09-05T22:50:36.864Z"
   },
   {
    "duration": 7,
    "start_time": "2022-09-05T22:50:37.616Z"
   },
   {
    "duration": 532,
    "start_time": "2022-09-05T22:50:37.624Z"
   },
   {
    "duration": 3,
    "start_time": "2022-09-05T22:50:38.159Z"
   },
   {
    "duration": 24,
    "start_time": "2022-09-05T22:50:38.164Z"
   },
   {
    "duration": 11,
    "start_time": "2022-09-05T22:50:38.190Z"
   },
   {
    "duration": 11,
    "start_time": "2022-09-05T22:50:38.203Z"
   },
   {
    "duration": 7,
    "start_time": "2022-09-05T22:50:38.216Z"
   },
   {
    "duration": 26,
    "start_time": "2022-09-05T22:50:38.225Z"
   },
   {
    "duration": 22715,
    "start_time": "2022-09-05T22:50:38.253Z"
   },
   {
    "duration": 2156,
    "start_time": "2022-09-05T22:52:44.139Z"
   },
   {
    "duration": 86,
    "start_time": "2022-09-05T22:52:46.301Z"
   },
   {
    "duration": 11,
    "start_time": "2022-09-05T22:52:46.390Z"
   },
   {
    "duration": 17,
    "start_time": "2022-09-05T22:52:46.404Z"
   },
   {
    "duration": 713,
    "start_time": "2022-09-05T22:52:46.422Z"
   },
   {
    "duration": 81,
    "start_time": "2022-09-05T22:52:47.137Z"
   },
   {
    "duration": 71572,
    "start_time": "2022-09-05T22:52:47.219Z"
   },
   {
    "duration": 1811,
    "start_time": "2022-09-05T22:55:00.920Z"
   },
   {
    "duration": 55,
    "start_time": "2022-09-05T22:55:13.323Z"
   },
   {
    "duration": 1734,
    "start_time": "2022-09-05T22:57:12.560Z"
   },
   {
    "duration": 3,
    "start_time": "2022-09-05T22:57:17.218Z"
   },
   {
    "duration": 3,
    "start_time": "2022-09-05T22:57:18.298Z"
   },
   {
    "duration": 12,
    "start_time": "2022-09-05T22:57:20.092Z"
   },
   {
    "duration": 1828,
    "start_time": "2022-09-05T22:57:22.870Z"
   },
   {
    "duration": 55,
    "start_time": "2022-09-05T22:57:35.802Z"
   },
   {
    "duration": 111,
    "start_time": "2022-09-05T22:58:58.929Z"
   },
   {
    "duration": 20,
    "start_time": "2022-09-05T22:59:04.944Z"
   },
   {
    "duration": 4,
    "start_time": "2022-09-05T22:59:05.860Z"
   },
   {
    "duration": 1303,
    "start_time": "2022-09-05T22:59:22.240Z"
   },
   {
    "duration": 3,
    "start_time": "2022-09-05T22:59:23.545Z"
   },
   {
    "duration": 307,
    "start_time": "2022-09-05T22:59:23.549Z"
   },
   {
    "duration": 88,
    "start_time": "2022-09-05T22:59:23.858Z"
   },
   {
    "duration": 367,
    "start_time": "2022-09-05T22:59:23.948Z"
   },
   {
    "duration": 7,
    "start_time": "2022-09-05T22:59:24.317Z"
   },
   {
    "duration": 5,
    "start_time": "2022-09-05T22:59:24.325Z"
   },
   {
    "duration": 12,
    "start_time": "2022-09-05T22:59:24.331Z"
   },
   {
    "duration": 10,
    "start_time": "2022-09-05T22:59:24.345Z"
   },
   {
    "duration": 35,
    "start_time": "2022-09-05T22:59:24.357Z"
   },
   {
    "duration": 16,
    "start_time": "2022-09-05T22:59:24.393Z"
   },
   {
    "duration": 40,
    "start_time": "2022-09-05T22:59:24.410Z"
   },
   {
    "duration": 524,
    "start_time": "2022-09-05T22:59:24.452Z"
   },
   {
    "duration": 589,
    "start_time": "2022-09-05T22:59:24.977Z"
   },
   {
    "duration": 550,
    "start_time": "2022-09-05T22:59:25.568Z"
   },
   {
    "duration": 772,
    "start_time": "2022-09-05T22:59:26.119Z"
   },
   {
    "duration": 7,
    "start_time": "2022-09-05T22:59:26.893Z"
   },
   {
    "duration": 501,
    "start_time": "2022-09-05T22:59:26.901Z"
   },
   {
    "duration": 4,
    "start_time": "2022-09-05T22:59:27.403Z"
   },
   {
    "duration": 118,
    "start_time": "2022-09-05T22:59:27.409Z"
   },
   {
    "duration": 1,
    "start_time": "2022-09-05T22:59:27.529Z"
   },
   {
    "duration": 0,
    "start_time": "2022-09-05T22:59:27.531Z"
   },
   {
    "duration": 0,
    "start_time": "2022-09-05T22:59:27.533Z"
   },
   {
    "duration": 0,
    "start_time": "2022-09-05T22:59:27.534Z"
   },
   {
    "duration": 0,
    "start_time": "2022-09-05T22:59:27.536Z"
   },
   {
    "duration": 0,
    "start_time": "2022-09-05T22:59:27.538Z"
   },
   {
    "duration": 0,
    "start_time": "2022-09-05T22:59:27.539Z"
   },
   {
    "duration": 0,
    "start_time": "2022-09-05T22:59:27.540Z"
   },
   {
    "duration": 0,
    "start_time": "2022-09-05T22:59:27.541Z"
   },
   {
    "duration": 0,
    "start_time": "2022-09-05T22:59:27.543Z"
   },
   {
    "duration": 0,
    "start_time": "2022-09-05T22:59:27.544Z"
   },
   {
    "duration": 0,
    "start_time": "2022-09-05T22:59:27.546Z"
   },
   {
    "duration": 12,
    "start_time": "2022-09-05T22:59:38.197Z"
   },
   {
    "duration": 3,
    "start_time": "2022-09-05T22:59:41.535Z"
   },
   {
    "duration": 4,
    "start_time": "2022-09-05T22:59:42.362Z"
   },
   {
    "duration": 3,
    "start_time": "2022-09-05T22:59:43.618Z"
   },
   {
    "duration": 25,
    "start_time": "2022-09-05T22:59:45.261Z"
   },
   {
    "duration": 22613,
    "start_time": "2022-09-05T22:59:46.977Z"
   },
   {
    "duration": 3,
    "start_time": "2022-09-05T23:01:20.553Z"
   },
   {
    "duration": 3,
    "start_time": "2022-09-05T23:01:22.039Z"
   },
   {
    "duration": 11,
    "start_time": "2022-09-05T23:01:23.366Z"
   },
   {
    "duration": 1774,
    "start_time": "2022-09-05T23:01:24.092Z"
   },
   {
    "duration": 58,
    "start_time": "2022-09-05T23:01:32.296Z"
   },
   {
    "duration": 26,
    "start_time": "2022-09-05T23:09:02.666Z"
   },
   {
    "duration": 1059,
    "start_time": "2022-09-05T23:09:04.887Z"
   },
   {
    "duration": 1291,
    "start_time": "2022-09-05T23:09:37.343Z"
   },
   {
    "duration": 2,
    "start_time": "2022-09-05T23:09:38.636Z"
   },
   {
    "duration": 307,
    "start_time": "2022-09-05T23:09:38.640Z"
   },
   {
    "duration": 89,
    "start_time": "2022-09-05T23:09:38.948Z"
   },
   {
    "duration": 372,
    "start_time": "2022-09-05T23:09:39.039Z"
   },
   {
    "duration": 6,
    "start_time": "2022-09-05T23:09:39.412Z"
   },
   {
    "duration": 8,
    "start_time": "2022-09-05T23:09:39.420Z"
   },
   {
    "duration": 10,
    "start_time": "2022-09-05T23:09:39.430Z"
   },
   {
    "duration": 6,
    "start_time": "2022-09-05T23:09:39.441Z"
   },
   {
    "duration": 9,
    "start_time": "2022-09-05T23:09:39.449Z"
   },
   {
    "duration": 29,
    "start_time": "2022-09-05T23:09:39.486Z"
   },
   {
    "duration": 42,
    "start_time": "2022-09-05T23:09:39.516Z"
   },
   {
    "duration": 523,
    "start_time": "2022-09-05T23:09:39.559Z"
   },
   {
    "duration": 587,
    "start_time": "2022-09-05T23:09:40.086Z"
   },
   {
    "duration": 514,
    "start_time": "2022-09-05T23:09:40.674Z"
   },
   {
    "duration": 719,
    "start_time": "2022-09-05T23:09:41.190Z"
   },
   {
    "duration": 6,
    "start_time": "2022-09-05T23:09:41.910Z"
   },
   {
    "duration": 518,
    "start_time": "2022-09-05T23:09:41.917Z"
   },
   {
    "duration": 3,
    "start_time": "2022-09-05T23:09:42.437Z"
   },
   {
    "duration": 16,
    "start_time": "2022-09-05T23:09:42.442Z"
   },
   {
    "duration": 9,
    "start_time": "2022-09-05T23:09:42.459Z"
   },
   {
    "duration": 7,
    "start_time": "2022-09-05T23:09:42.469Z"
   },
   {
    "duration": 10,
    "start_time": "2022-09-05T23:09:42.477Z"
   },
   {
    "duration": 34,
    "start_time": "2022-09-05T23:09:42.489Z"
   },
   {
    "duration": 1354,
    "start_time": "2022-09-05T23:10:35.988Z"
   },
   {
    "duration": 4,
    "start_time": "2022-09-05T23:10:37.556Z"
   },
   {
    "duration": 287,
    "start_time": "2022-09-05T23:10:38.135Z"
   },
   {
    "duration": 92,
    "start_time": "2022-09-05T23:10:38.479Z"
   },
   {
    "duration": 361,
    "start_time": "2022-09-05T23:10:38.804Z"
   },
   {
    "duration": 7,
    "start_time": "2022-09-05T23:10:40.106Z"
   },
   {
    "duration": 5,
    "start_time": "2022-09-05T23:10:41.287Z"
   },
   {
    "duration": 10,
    "start_time": "2022-09-05T23:10:42.368Z"
   },
   {
    "duration": 7,
    "start_time": "2022-09-05T23:10:42.616Z"
   },
   {
    "duration": 11,
    "start_time": "2022-09-05T23:10:42.869Z"
   },
   {
    "duration": 29,
    "start_time": "2022-09-05T23:10:43.405Z"
   },
   {
    "duration": 42,
    "start_time": "2022-09-05T23:10:43.920Z"
   },
   {
    "duration": 3,
    "start_time": "2022-09-05T23:11:00.558Z"
   },
   {
    "duration": 3,
    "start_time": "2022-09-05T23:11:01.105Z"
   },
   {
    "duration": 72,
    "start_time": "2022-09-05T23:11:02.336Z"
   },
   {
    "duration": 4,
    "start_time": "2022-09-05T23:11:10.127Z"
   },
   {
    "duration": 9,
    "start_time": "2022-09-05T23:11:10.897Z"
   },
   {
    "duration": 4,
    "start_time": "2022-09-05T23:11:18.683Z"
   },
   {
    "duration": 11,
    "start_time": "2022-09-05T23:11:21.032Z"
   },
   {
    "duration": 3,
    "start_time": "2022-09-05T23:11:21.629Z"
   },
   {
    "duration": 3,
    "start_time": "2022-09-05T23:11:21.908Z"
   },
   {
    "duration": 3,
    "start_time": "2022-09-05T23:11:22.325Z"
   },
   {
    "duration": 23,
    "start_time": "2022-09-05T23:11:23.364Z"
   },
   {
    "duration": 22381,
    "start_time": "2022-09-05T23:11:25.441Z"
   },
   {
    "duration": 4,
    "start_time": "2022-09-05T23:11:59.096Z"
   },
   {
    "duration": 3,
    "start_time": "2022-09-05T23:11:59.847Z"
   },
   {
    "duration": 11,
    "start_time": "2022-09-05T23:12:00.989Z"
   },
   {
    "duration": 1842,
    "start_time": "2022-09-05T23:12:02.038Z"
   },
   {
    "duration": 1401,
    "start_time": "2022-09-05T23:12:15.329Z"
   },
   {
    "duration": 3,
    "start_time": "2022-09-05T23:12:16.732Z"
   },
   {
    "duration": 320,
    "start_time": "2022-09-05T23:12:16.738Z"
   },
   {
    "duration": 89,
    "start_time": "2022-09-05T23:12:17.060Z"
   },
   {
    "duration": 356,
    "start_time": "2022-09-05T23:12:17.150Z"
   },
   {
    "duration": 7,
    "start_time": "2022-09-05T23:12:17.508Z"
   },
   {
    "duration": 11,
    "start_time": "2022-09-05T23:12:17.516Z"
   },
   {
    "duration": 14,
    "start_time": "2022-09-05T23:12:17.529Z"
   },
   {
    "duration": 11,
    "start_time": "2022-09-05T23:12:17.545Z"
   },
   {
    "duration": 10,
    "start_time": "2022-09-05T23:12:17.558Z"
   },
   {
    "duration": 47,
    "start_time": "2022-09-05T23:12:17.569Z"
   },
   {
    "duration": 43,
    "start_time": "2022-09-05T23:12:17.618Z"
   },
   {
    "duration": 556,
    "start_time": "2022-09-05T23:12:17.664Z"
   },
   {
    "duration": 603,
    "start_time": "2022-09-05T23:12:18.221Z"
   },
   {
    "duration": 541,
    "start_time": "2022-09-05T23:12:18.826Z"
   },
   {
    "duration": 736,
    "start_time": "2022-09-05T23:12:19.369Z"
   },
   {
    "duration": 6,
    "start_time": "2022-09-05T23:12:20.106Z"
   },
   {
    "duration": 525,
    "start_time": "2022-09-05T23:12:20.114Z"
   },
   {
    "duration": 3,
    "start_time": "2022-09-05T23:12:20.641Z"
   },
   {
    "duration": 19,
    "start_time": "2022-09-05T23:12:20.645Z"
   },
   {
    "duration": 12,
    "start_time": "2022-09-05T23:12:20.665Z"
   },
   {
    "duration": 9,
    "start_time": "2022-09-05T23:12:20.679Z"
   },
   {
    "duration": 9,
    "start_time": "2022-09-05T23:12:20.690Z"
   },
   {
    "duration": 33,
    "start_time": "2022-09-05T23:12:20.700Z"
   },
   {
    "duration": 22502,
    "start_time": "2022-09-05T23:12:20.735Z"
   },
   {
    "duration": 71060,
    "start_time": "2022-09-05T23:12:43.238Z"
   },
   {
    "duration": 2289,
    "start_time": "2022-09-05T23:13:54.299Z"
   },
   {
    "duration": 3,
    "start_time": "2022-09-05T23:13:56.589Z"
   },
   {
    "duration": 9,
    "start_time": "2022-09-05T23:13:56.594Z"
   },
   {
    "duration": 15,
    "start_time": "2022-09-05T23:13:56.605Z"
   },
   {
    "duration": 1760,
    "start_time": "2022-09-05T23:13:56.622Z"
   },
   {
    "duration": 55,
    "start_time": "2022-09-05T23:13:58.383Z"
   },
   {
    "duration": 94,
    "start_time": "2022-09-05T23:19:40.060Z"
   }
  ],
  "kernelspec": {
   "display_name": "Python 3 (ipykernel)",
   "language": "python",
   "name": "python3"
  },
  "language_info": {
   "codemirror_mode": {
    "name": "ipython",
    "version": 3
   },
   "file_extension": ".py",
   "mimetype": "text/x-python",
   "name": "python",
   "nbconvert_exporter": "python",
   "pygments_lexer": "ipython3",
   "version": "3.9.12"
  },
  "toc": {
   "base_numbering": 1,
   "nav_menu": {},
   "number_sections": true,
   "sideBar": true,
   "skip_h1_title": true,
   "title_cell": "Содержание",
   "title_sidebar": "Contents",
   "toc_cell": true,
   "toc_position": {},
   "toc_section_display": true,
   "toc_window_display": true
  }
 },
 "nbformat": 4,
 "nbformat_minor": 2
}
