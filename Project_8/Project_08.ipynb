{
 "cells": [
  {
   "cell_type": "markdown",
   "metadata": {},
   "source": [
    "# Выбор локации для скважины"
   ]
  },
  {
   "cell_type": "markdown",
   "metadata": {},
   "source": [
    "Допустим, вы работаете в добывающей компании «ГлавРосГосНефть». Нужно решить, где бурить новую скважину.\n",
    "\n",
    "Вам предоставлены пробы нефти в трёх регионах: в каждом 10 000 месторождений, где измерили качество нефти и объём её запасов. Постройте модель машинного обучения, которая поможет определить регион, где добыча принесёт наибольшую прибыль. Проанализируйте возможную прибыль и риски техникой *Bootstrap.*\n",
    "\n",
    "Шаги для выбора локации:\n",
    "\n",
    "- В избранном регионе ищут месторождения, для каждого определяют значения признаков;\n",
    "- Строят модель и оценивают объём запасов;\n",
    "- Выбирают месторождения с самым высокими оценками значений. Количество месторождений зависит от бюджета компании и стоимости разработки одной скважины;\n",
    "- Прибыль равна суммарной прибыли отобранных месторождений."
   ]
  },
  {
   "cell_type": "markdown",
   "metadata": {},
   "source": [
    "## Загрузка и подготовка данных"
   ]
  },
  {
   "cell_type": "code",
   "execution_count": 1,
   "metadata": {},
   "outputs": [],
   "source": [
    "import matplotlib.pyplot as plt\n",
    "import numpy as np\n",
    "import pandas as pd\n",
    "from sklearn.model_selection import train_test_split\n",
    "from sklearn.linear_model import LinearRegression\n",
    "from sklearn.metrics import mean_squared_error\n",
    "from sklearn.preprocessing import StandardScaler\n",
    "from sklearn.utils import shuffle\n",
    "import warnings\n",
    "warnings.filterwarnings('ignore')"
   ]
  },
  {
   "cell_type": "code",
   "execution_count": 2,
   "metadata": {},
   "outputs": [],
   "source": [
    "BUDGET = 1e+07\n",
    "POINTS = 500\n",
    "BEST_POINTS = 200\n",
    "PRICE_PER_BARREL = 450\n",
    "RANDOM_STATE = 12345"
   ]
  },
  {
   "cell_type": "markdown",
   "metadata": {},
   "source": [
    "Для каждого региона создаём отдельный датафрейм"
   ]
  },
  {
   "cell_type": "code",
   "execution_count": 3,
   "metadata": {},
   "outputs": [
    {
     "name": "stdout",
     "output_type": "stream",
     "text": [
      "<class 'pandas.core.frame.DataFrame'>\n",
      "RangeIndex: 100000 entries, 0 to 99999\n",
      "Data columns (total 5 columns):\n",
      " #   Column   Non-Null Count   Dtype  \n",
      "---  ------   --------------   -----  \n",
      " 0   id       100000 non-null  object \n",
      " 1   f0       100000 non-null  float64\n",
      " 2   f1       100000 non-null  float64\n",
      " 3   f2       100000 non-null  float64\n",
      " 4   product  100000 non-null  float64\n",
      "dtypes: float64(4), object(1)\n",
      "memory usage: 3.8+ MB\n"
     ]
    },
    {
     "data": {
      "text/plain": [
       "0"
      ]
     },
     "execution_count": 3,
     "metadata": {},
     "output_type": "execute_result"
    }
   ],
   "source": [
    "geo_data_0 = pd.read_csv('datasets/geo_data_0.csv')\n",
    "geo_data_0.info()\n",
    "geo_data_0.duplicated().sum()"
   ]
  },
  {
   "cell_type": "code",
   "execution_count": 5,
   "metadata": {},
   "outputs": [
    {
     "name": "stdout",
     "output_type": "stream",
     "text": [
      "<class 'pandas.core.frame.DataFrame'>\n",
      "RangeIndex: 100000 entries, 0 to 99999\n",
      "Data columns (total 5 columns):\n",
      " #   Column   Non-Null Count   Dtype  \n",
      "---  ------   --------------   -----  \n",
      " 0   id       100000 non-null  object \n",
      " 1   f0       100000 non-null  float64\n",
      " 2   f1       100000 non-null  float64\n",
      " 3   f2       100000 non-null  float64\n",
      " 4   product  100000 non-null  float64\n",
      "dtypes: float64(4), object(1)\n",
      "memory usage: 3.8+ MB\n"
     ]
    },
    {
     "data": {
      "text/plain": [
       "0"
      ]
     },
     "execution_count": 5,
     "metadata": {},
     "output_type": "execute_result"
    }
   ],
   "source": [
    "geo_data_1 = pd.read_csv('datasets/geo_data_1.csv')\n",
    "geo_data_1.info()\n",
    "geo_data_1.duplicated().sum()"
   ]
  },
  {
   "cell_type": "code",
   "execution_count": 6,
   "metadata": {},
   "outputs": [
    {
     "name": "stdout",
     "output_type": "stream",
     "text": [
      "<class 'pandas.core.frame.DataFrame'>\n",
      "RangeIndex: 100000 entries, 0 to 99999\n",
      "Data columns (total 5 columns):\n",
      " #   Column   Non-Null Count   Dtype  \n",
      "---  ------   --------------   -----  \n",
      " 0   id       100000 non-null  object \n",
      " 1   f0       100000 non-null  float64\n",
      " 2   f1       100000 non-null  float64\n",
      " 3   f2       100000 non-null  float64\n",
      " 4   product  100000 non-null  float64\n",
      "dtypes: float64(4), object(1)\n",
      "memory usage: 3.8+ MB\n"
     ]
    },
    {
     "data": {
      "text/plain": [
       "0"
      ]
     },
     "execution_count": 6,
     "metadata": {},
     "output_type": "execute_result"
    }
   ],
   "source": [
    "geo_data_2 = pd.read_csv('datasets/geo_data_2.csv')\n",
    "geo_data_2.info()\n",
    "geo_data_2.duplicated().sum()"
   ]
  },
  {
   "cell_type": "markdown",
   "metadata": {},
   "source": [
    "Пропуски и явные дубликаты в датафреймах отсутствуют"
   ]
  },
  {
   "cell_type": "code",
   "execution_count": 7,
   "metadata": {},
   "outputs": [
    {
     "data": {
      "text/plain": [
       "fiKDv    2\n",
       "QcMuo    2\n",
       "AGS9W    2\n",
       "Tdehs    2\n",
       "74z30    2\n",
       "A5aEY    2\n",
       "bsk9y    2\n",
       "TtcGQ    2\n",
       "HZww2    2\n",
       "bxg6G    2\n",
       "Name: id, dtype: int64"
      ]
     },
     "execution_count": 7,
     "metadata": {},
     "output_type": "execute_result"
    }
   ],
   "source": [
    "geo_data_0['id'].value_counts().loc[lambda x : x > 1]"
   ]
  },
  {
   "cell_type": "code",
   "execution_count": 8,
   "metadata": {},
   "outputs": [
    {
     "data": {
      "text/plain": [
       "wt4Uk    2\n",
       "LHZR0    2\n",
       "5ltQ6    2\n",
       "bfPNe    2\n",
       "Name: id, dtype: int64"
      ]
     },
     "execution_count": 8,
     "metadata": {},
     "output_type": "execute_result"
    }
   ],
   "source": [
    "geo_data_1['id'].value_counts().loc[lambda x : x > 1]"
   ]
  },
  {
   "cell_type": "code",
   "execution_count": 9,
   "metadata": {},
   "outputs": [
    {
     "data": {
      "text/plain": [
       "VF7Jo    2\n",
       "KUPhW    2\n",
       "xCHr8    2\n",
       "Vcm5J    2\n",
       "Name: id, dtype: int64"
      ]
     },
     "execution_count": 9,
     "metadata": {},
     "output_type": "execute_result"
    }
   ],
   "source": [
    "geo_data_2['id'].value_counts().loc[lambda x : x > 1]"
   ]
  },
  {
   "cell_type": "markdown",
   "metadata": {},
   "source": [
    "Столбец id не нужен для исследования, его можно убрать из всех датафреймов"
   ]
  },
  {
   "cell_type": "code",
   "execution_count": 10,
   "metadata": {},
   "outputs": [],
   "source": [
    "geo_data_0 = geo_data_0.drop(['id'], axis=1)\n",
    "geo_data_1 = geo_data_1.drop(['id'], axis=1)\n",
    "geo_data_2 = geo_data_2.drop(['id'], axis=1)"
   ]
  },
  {
   "cell_type": "markdown",
   "metadata": {},
   "source": [
    "Проверим наличие нулевых значений в целевом признаке"
   ]
  },
  {
   "cell_type": "code",
   "execution_count": 11,
   "metadata": {},
   "outputs": [],
   "source": [
    "def check_zeros(df, target):\n",
    "    zeros = df[df[target] == 0][target].count()\n",
    "    percent = zeros / df.shape[0]\n",
    "    print('Количество нулевых значений -', zeros)\n",
    "    print('Доля нулевых значений -', percent)"
   ]
  },
  {
   "cell_type": "code",
   "execution_count": 12,
   "metadata": {},
   "outputs": [
    {
     "name": "stdout",
     "output_type": "stream",
     "text": [
      "Количество нулевых значений - 1\n",
      "Доля нулевых значений - 1e-05\n"
     ]
    }
   ],
   "source": [
    "check_zeros(geo_data_0, 'product')"
   ]
  },
  {
   "cell_type": "code",
   "execution_count": 13,
   "metadata": {},
   "outputs": [
    {
     "name": "stdout",
     "output_type": "stream",
     "text": [
      "Количество нулевых значений - 8235\n",
      "Доля нулевых значений - 0.08235\n"
     ]
    }
   ],
   "source": [
    "check_zeros(geo_data_1, 'product')"
   ]
  },
  {
   "cell_type": "code",
   "execution_count": 14,
   "metadata": {},
   "outputs": [
    {
     "name": "stdout",
     "output_type": "stream",
     "text": [
      "Количество нулевых значений - 1\n",
      "Доля нулевых значений - 1e-05\n"
     ]
    }
   ],
   "source": [
    "check_zeros(geo_data_2, 'product')"
   ]
  },
  {
   "cell_type": "markdown",
   "metadata": {},
   "source": [
    "По региону 1 8.235% значений в целевом признаке имеют нулевое значение. В сравнении с другими регионами, можно предположить, что данные были утеряны или вовсе не исследованы"
   ]
  },
  {
   "cell_type": "markdown",
   "metadata": {},
   "source": [
    "Изучим гистограммы по целевому признаку"
   ]
  },
  {
   "cell_type": "code",
   "execution_count": 15,
   "metadata": {},
   "outputs": [],
   "source": [
    "def product_hist(product, bins, xlim_max, ylim_max):\n",
    "    plt.figure(figsize=[10,7])\n",
    "\n",
    "    plt.hist(product, bins=bins)\n",
    "\n",
    "    plt.xlim([0,xlim_max])\n",
    "    plt.ylim([0,ylim_max])\n",
    "\n",
    "    plt.xlabel(\"Объем нефти на скважину, тыс. барелей\")\n",
    "    plt.ylabel(\"Количество скважин\")\n",
    "\n",
    "    plt.title(\"Гистограмма распределения по объему скважин\")\n",
    "    plt.show()"
   ]
  },
  {
   "cell_type": "code",
   "execution_count": 16,
   "metadata": {},
   "outputs": [
    {
     "data": {
      "image/png": "[encoded data removed]",
      "text/plain": [
       "<Figure size 720x504 with 1 Axes>"
      ]
     },
     "metadata": {
      "needs_background": "light"
     },
     "output_type": "display_data"
    }
   ],
   "source": [
    "product_hist(geo_data_0['product'], 200, 200, 1000)"
   ]
  },
  {
   "cell_type": "code",
   "execution_count": 17,
   "metadata": {},
   "outputs": [
    {
     "data": {
      "image/png": "[encoded data removed]",
      "text/plain": [
       "<Figure size 720x504 with 1 Axes>"
      ]
     },
     "metadata": {
      "needs_background": "light"
     },
     "output_type": "display_data"
    }
   ],
   "source": [
    "product_hist(geo_data_1['product'], 50, 150, 10000)"
   ]
  },
  {
   "cell_type": "code",
   "execution_count": 18,
   "metadata": {},
   "outputs": [
    {
     "data": {
      "image/png": "[encoded data removed]",
      "text/plain": [
       "<Figure size 720x504 with 1 Axes>"
      ]
     },
     "metadata": {
      "needs_background": "light"
     },
     "output_type": "display_data"
    }
   ],
   "source": [
    "product_hist(geo_data_2['product'], 200, 200, 1000)"
   ]
  },
  {
   "cell_type": "markdown",
   "metadata": {},
   "source": [
    "В регионах 0 и 2 наблюдается нормальное распределение, в то время как в регионе 1 оно выглядит странно. 10000 значение распределениы равномерно, скорее всего данные искуственные"
   ]
  },
  {
   "cell_type": "markdown",
   "metadata": {},
   "source": [
    "Корреляция признаков"
   ]
  },
  {
   "cell_type": "code",
   "execution_count": 19,
   "metadata": {},
   "outputs": [
    {
     "data": {
      "text/html": [
       "<div>\n",
       "<style scoped>\n",
       "    .dataframe tbody tr th:only-of-type {\n",
       "        vertical-align: middle;\n",
       "    }\n",
       "\n",
       "    .dataframe tbody tr th {\n",
       "        vertical-align: top;\n",
       "    }\n",
       "\n",
       "    .dataframe thead th {\n",
       "        text-align: right;\n",
       "    }\n",
       "</style>\n",
       "<table border=\"1\" class=\"dataframe\">\n",
       "  <thead>\n",
       "    <tr style=\"text-align: right;\">\n",
       "      <th></th>\n",
       "      <th>f0</th>\n",
       "      <th>f1</th>\n",
       "      <th>f2</th>\n",
       "      <th>product</th>\n",
       "    </tr>\n",
       "  </thead>\n",
       "  <tbody>\n",
       "    <tr>\n",
       "      <th>f0</th>\n",
       "      <td>1.000000</td>\n",
       "      <td>-0.440723</td>\n",
       "      <td>-0.003153</td>\n",
       "      <td>0.143536</td>\n",
       "    </tr>\n",
       "    <tr>\n",
       "      <th>f1</th>\n",
       "      <td>-0.440723</td>\n",
       "      <td>1.000000</td>\n",
       "      <td>0.001724</td>\n",
       "      <td>-0.192356</td>\n",
       "    </tr>\n",
       "    <tr>\n",
       "      <th>f2</th>\n",
       "      <td>-0.003153</td>\n",
       "      <td>0.001724</td>\n",
       "      <td>1.000000</td>\n",
       "      <td>0.483663</td>\n",
       "    </tr>\n",
       "    <tr>\n",
       "      <th>product</th>\n",
       "      <td>0.143536</td>\n",
       "      <td>-0.192356</td>\n",
       "      <td>0.483663</td>\n",
       "      <td>1.000000</td>\n",
       "    </tr>\n",
       "  </tbody>\n",
       "</table>\n",
       "</div>"
      ],
      "text/plain": [
       "               f0        f1        f2   product\n",
       "f0       1.000000 -0.440723 -0.003153  0.143536\n",
       "f1      -0.440723  1.000000  0.001724 -0.192356\n",
       "f2      -0.003153  0.001724  1.000000  0.483663\n",
       "product  0.143536 -0.192356  0.483663  1.000000"
      ]
     },
     "execution_count": 19,
     "metadata": {},
     "output_type": "execute_result"
    }
   ],
   "source": [
    "geo_data_0.corr()"
   ]
  },
  {
   "cell_type": "code",
   "execution_count": 20,
   "metadata": {},
   "outputs": [
    {
     "data": {
      "text/html": [
       "<div>\n",
       "<style scoped>\n",
       "    .dataframe tbody tr th:only-of-type {\n",
       "        vertical-align: middle;\n",
       "    }\n",
       "\n",
       "    .dataframe tbody tr th {\n",
       "        vertical-align: top;\n",
       "    }\n",
       "\n",
       "    .dataframe thead th {\n",
       "        text-align: right;\n",
       "    }\n",
       "</style>\n",
       "<table border=\"1\" class=\"dataframe\">\n",
       "  <thead>\n",
       "    <tr style=\"text-align: right;\">\n",
       "      <th></th>\n",
       "      <th>f0</th>\n",
       "      <th>f1</th>\n",
       "      <th>f2</th>\n",
       "      <th>product</th>\n",
       "    </tr>\n",
       "  </thead>\n",
       "  <tbody>\n",
       "    <tr>\n",
       "      <th>f0</th>\n",
       "      <td>1.000000</td>\n",
       "      <td>0.182287</td>\n",
       "      <td>-0.001777</td>\n",
       "      <td>-0.030491</td>\n",
       "    </tr>\n",
       "    <tr>\n",
       "      <th>f1</th>\n",
       "      <td>0.182287</td>\n",
       "      <td>1.000000</td>\n",
       "      <td>-0.002595</td>\n",
       "      <td>-0.010155</td>\n",
       "    </tr>\n",
       "    <tr>\n",
       "      <th>f2</th>\n",
       "      <td>-0.001777</td>\n",
       "      <td>-0.002595</td>\n",
       "      <td>1.000000</td>\n",
       "      <td>0.999397</td>\n",
       "    </tr>\n",
       "    <tr>\n",
       "      <th>product</th>\n",
       "      <td>-0.030491</td>\n",
       "      <td>-0.010155</td>\n",
       "      <td>0.999397</td>\n",
       "      <td>1.000000</td>\n",
       "    </tr>\n",
       "  </tbody>\n",
       "</table>\n",
       "</div>"
      ],
      "text/plain": [
       "               f0        f1        f2   product\n",
       "f0       1.000000  0.182287 -0.001777 -0.030491\n",
       "f1       0.182287  1.000000 -0.002595 -0.010155\n",
       "f2      -0.001777 -0.002595  1.000000  0.999397\n",
       "product -0.030491 -0.010155  0.999397  1.000000"
      ]
     },
     "execution_count": 20,
     "metadata": {},
     "output_type": "execute_result"
    }
   ],
   "source": [
    "geo_data_1.corr()"
   ]
  },
  {
   "cell_type": "code",
   "execution_count": 21,
   "metadata": {},
   "outputs": [
    {
     "data": {
      "text/html": [
       "<div>\n",
       "<style scoped>\n",
       "    .dataframe tbody tr th:only-of-type {\n",
       "        vertical-align: middle;\n",
       "    }\n",
       "\n",
       "    .dataframe tbody tr th {\n",
       "        vertical-align: top;\n",
       "    }\n",
       "\n",
       "    .dataframe thead th {\n",
       "        text-align: right;\n",
       "    }\n",
       "</style>\n",
       "<table border=\"1\" class=\"dataframe\">\n",
       "  <thead>\n",
       "    <tr style=\"text-align: right;\">\n",
       "      <th></th>\n",
       "      <th>f0</th>\n",
       "      <th>f1</th>\n",
       "      <th>f2</th>\n",
       "      <th>product</th>\n",
       "    </tr>\n",
       "  </thead>\n",
       "  <tbody>\n",
       "    <tr>\n",
       "      <th>f0</th>\n",
       "      <td>1.000000</td>\n",
       "      <td>0.000528</td>\n",
       "      <td>-0.000448</td>\n",
       "      <td>-0.001987</td>\n",
       "    </tr>\n",
       "    <tr>\n",
       "      <th>f1</th>\n",
       "      <td>0.000528</td>\n",
       "      <td>1.000000</td>\n",
       "      <td>0.000779</td>\n",
       "      <td>-0.001012</td>\n",
       "    </tr>\n",
       "    <tr>\n",
       "      <th>f2</th>\n",
       "      <td>-0.000448</td>\n",
       "      <td>0.000779</td>\n",
       "      <td>1.000000</td>\n",
       "      <td>0.445871</td>\n",
       "    </tr>\n",
       "    <tr>\n",
       "      <th>product</th>\n",
       "      <td>-0.001987</td>\n",
       "      <td>-0.001012</td>\n",
       "      <td>0.445871</td>\n",
       "      <td>1.000000</td>\n",
       "    </tr>\n",
       "  </tbody>\n",
       "</table>\n",
       "</div>"
      ],
      "text/plain": [
       "               f0        f1        f2   product\n",
       "f0       1.000000  0.000528 -0.000448 -0.001987\n",
       "f1       0.000528  1.000000  0.000779 -0.001012\n",
       "f2      -0.000448  0.000779  1.000000  0.445871\n",
       "product -0.001987 -0.001012  0.445871  1.000000"
      ]
     },
     "execution_count": 21,
     "metadata": {},
     "output_type": "execute_result"
    }
   ],
   "source": [
    "geo_data_2.corr()"
   ]
  },
  {
   "cell_type": "markdown",
   "metadata": {},
   "source": [
    "С корреляцией всё в порядке"
   ]
  },
  {
   "cell_type": "markdown",
   "metadata": {},
   "source": [
    "### Вывод"
   ]
  },
  {
   "cell_type": "markdown",
   "metadata": {},
   "source": [
    "- Пропуски отсутствуют\n",
    "- Дубликаты отсутствуют\n",
    "- Нулевые значения выявлены\n",
    "- Целевой признак выявлен\n",
    "- Распределение изучено\n",
    "- Корреляция изучена\n",
    "\n",
    "**Данные подготовлены**"
   ]
  },
  {
   "cell_type": "markdown",
   "metadata": {},
   "source": [
    "## Обучение и проверка модели"
   ]
  },
  {
   "cell_type": "markdown",
   "metadata": {},
   "source": [
    "Вывод предсказанного моделью запаса нефти и RMSE"
   ]
  },
  {
   "cell_type": "code",
   "execution_count": 21,
   "metadata": {},
   "outputs": [],
   "source": [
    "model = LinearRegression()\n",
    "\n",
    "def oil_predict(df, target_name):\n",
    "    features = df.drop([target_name] , axis=1)\n",
    "    target = df[target_name]\n",
    "    \n",
    "    features_train, features_valid, target_train, target_valid = train_test_split(\n",
    "    features, target, test_size=0.25, random_state=RANDOM_STATE)\n",
    "    \n",
    "    model.fit(features_train, target_train)\n",
    "    predicted_target = model.predict(features_valid)\n",
    "    data = {'real_product' : target_valid,'predicted_product' : predicted_target}\n",
    "    data_frame = pd.DataFrame(data, columns = ['real_product', 'predicted_product'])\n",
    "    rmse = mean_squared_error(target_valid, predicted_target)**0.5\n",
    "    mean = data_frame['predicted_product'].mean()\n",
    "    oil_sum = data_frame['predicted_product'].sum()\n",
    "    return data_frame, rmse, mean, oil_sum"
   ]
  },
  {
   "cell_type": "code",
   "execution_count": 22,
   "metadata": {},
   "outputs": [
    {
     "name": "stdout",
     "output_type": "stream",
     "text": [
      "       real_product  predicted_product\n",
      "71751     10.038645          95.894952\n",
      "80493    114.551489          77.572583\n",
      "2655     132.603635          77.892640\n",
      "53233    169.072125          90.175134\n",
      "91141    122.325180          70.510088\n",
      "RMSE: 37.5794217150813\n",
      "Средний запас нефти: 92.59256778438035\n"
     ]
    }
   ],
   "source": [
    "geo_data_0_predicted, geo_data_0_rmse, geo_data_0_predicted_mean, geo_data_0_predicted_sum = oil_predict(geo_data_0, 'product')\n",
    "print(geo_data_0_predicted.head())\n",
    "print('RMSE:', geo_data_0_rmse)\n",
    "print('Средний запас нефти:', geo_data_0_predicted_mean)"
   ]
  },
  {
   "cell_type": "code",
   "execution_count": 23,
   "metadata": {},
   "outputs": [
    {
     "name": "stdout",
     "output_type": "stream",
     "text": [
      "       real_product  predicted_product\n",
      "71751     80.859783          82.663314\n",
      "80493     53.906522          54.431786\n",
      "2655      30.132364          29.748760\n",
      "53233     53.906522          53.552133\n",
      "91141      0.000000           1.243856\n",
      "RMSE: 0.893099286775617\n",
      "Средний запас нефти: 68.728546895446\n"
     ]
    }
   ],
   "source": [
    "geo_data_1_predicted, geo_data_1_rmse, geo_data_1_predicted_mean, geo_data_1_predicted_sum = oil_predict(geo_data_1, 'product')\n",
    "print(geo_data_1_predicted.head())\n",
    "print('RMSE:', geo_data_1_rmse)\n",
    "print('Средний запас нефти:', geo_data_1_predicted_mean)"
   ]
  },
  {
   "cell_type": "code",
   "execution_count": 24,
   "metadata": {},
   "outputs": [
    {
     "name": "stdout",
     "output_type": "stream",
     "text": [
      "       real_product  predicted_product\n",
      "71751     61.212375          93.599633\n",
      "80493     41.850118          75.105159\n",
      "2655      57.776581          90.066809\n",
      "53233    100.053761         105.162375\n",
      "91141    109.897122         115.303310\n",
      "RMSE: 40.02970873393434\n",
      "Средний запас нефти: 94.96504596800489\n"
     ]
    }
   ],
   "source": [
    "geo_data_2_predicted, geo_data_2_rmse, geo_data_2_predicted_mean, geo_data_2_predicted_sum = oil_predict(geo_data_2, 'product')\n",
    "print(geo_data_2_predicted.head())\n",
    "print('RMSE:', geo_data_2_rmse)\n",
    "print('Средний запас нефти:', geo_data_2_predicted_mean)"
   ]
  },
  {
   "cell_type": "markdown",
   "metadata": {},
   "source": [
    "### Вывод"
   ]
  },
  {
   "cell_type": "markdown",
   "metadata": {},
   "source": [
    "**Лучше всего модель предсказала в регионе 0, далее регион 2. Хуже всего себя показал регион 1, как по показателю RMSE так и по среднему запасу нефти**"
   ]
  },
  {
   "cell_type": "markdown",
   "metadata": {},
   "source": [
    "## Подготовка к расчёту прибыли"
   ]
  },
  {
   "cell_type": "markdown",
   "metadata": {},
   "source": [
    "Безубыточная разработка сырья"
   ]
  },
  {
   "cell_type": "code",
   "execution_count": 25,
   "metadata": {},
   "outputs": [
    {
     "name": "stdout",
     "output_type": "stream",
     "text": [
      "Объём безубыточной разработки - 111.11111111111111 тыс. барелей\n"
     ]
    }
   ],
   "source": [
    "no_damage_point = (BUDGET / BEST_POINTS)  / PRICE_PER_BARREL\n",
    "print('Объём безубыточной разработки -',no_damage_point, 'тыс. барелей')"
   ]
  },
  {
   "cell_type": "code",
   "execution_count": 26,
   "metadata": {},
   "outputs": [
    {
     "data": {
      "image/png": "[encoded data removed]",
      "text/plain": [
       "<Figure size 720x504 with 1 Axes>"
      ]
     },
     "metadata": {
      "needs_background": "light"
     },
     "output_type": "display_data"
    },
    {
     "data": {
      "text/html": [
       "<div>\n",
       "<style scoped>\n",
       "    .dataframe tbody tr th:only-of-type {\n",
       "        vertical-align: middle;\n",
       "    }\n",
       "\n",
       "    .dataframe tbody tr th {\n",
       "        vertical-align: top;\n",
       "    }\n",
       "\n",
       "    .dataframe thead th {\n",
       "        text-align: right;\n",
       "    }\n",
       "</style>\n",
       "<table border=\"1\" class=\"dataframe\">\n",
       "  <thead>\n",
       "    <tr style=\"text-align: right;\">\n",
       "      <th></th>\n",
       "      <th>real_product</th>\n",
       "      <th>predicted_product</th>\n",
       "    </tr>\n",
       "  </thead>\n",
       "  <tbody>\n",
       "    <tr>\n",
       "      <th>count</th>\n",
       "      <td>25000.000000</td>\n",
       "      <td>25000.000000</td>\n",
       "    </tr>\n",
       "    <tr>\n",
       "      <th>mean</th>\n",
       "      <td>92.078597</td>\n",
       "      <td>92.592568</td>\n",
       "    </tr>\n",
       "    <tr>\n",
       "      <th>std</th>\n",
       "      <td>44.286913</td>\n",
       "      <td>23.176994</td>\n",
       "    </tr>\n",
       "    <tr>\n",
       "      <th>min</th>\n",
       "      <td>0.004022</td>\n",
       "      <td>-9.367846</td>\n",
       "    </tr>\n",
       "    <tr>\n",
       "      <th>25%</th>\n",
       "      <td>56.059494</td>\n",
       "      <td>76.652232</td>\n",
       "    </tr>\n",
       "    <tr>\n",
       "      <th>50%</th>\n",
       "      <td>90.897664</td>\n",
       "      <td>92.661884</td>\n",
       "    </tr>\n",
       "    <tr>\n",
       "      <th>75%</th>\n",
       "      <td>128.160698</td>\n",
       "      <td>108.437632</td>\n",
       "    </tr>\n",
       "    <tr>\n",
       "      <th>max</th>\n",
       "      <td>185.315412</td>\n",
       "      <td>180.180713</td>\n",
       "    </tr>\n",
       "  </tbody>\n",
       "</table>\n",
       "</div>"
      ],
      "text/plain": [
       "       real_product  predicted_product\n",
       "count  25000.000000       25000.000000\n",
       "mean      92.078597          92.592568\n",
       "std       44.286913          23.176994\n",
       "min        0.004022          -9.367846\n",
       "25%       56.059494          76.652232\n",
       "50%       90.897664          92.661884\n",
       "75%      128.160698         108.437632\n",
       "max      185.315412         180.180713"
      ]
     },
     "execution_count": 26,
     "metadata": {},
     "output_type": "execute_result"
    }
   ],
   "source": [
    "product_hist(geo_data_0_predicted['predicted_product'], 200, 200, 500)\n",
    "geo_data_0_predicted.describe()"
   ]
  },
  {
   "cell_type": "code",
   "execution_count": 27,
   "metadata": {},
   "outputs": [
    {
     "data": {
      "image/png": "[encoded data removed]",
      "text/plain": [
       "<Figure size 720x504 with 1 Axes>"
      ]
     },
     "metadata": {
      "needs_background": "light"
     },
     "output_type": "display_data"
    },
    {
     "data": {
      "text/html": [
       "<div>\n",
       "<style scoped>\n",
       "    .dataframe tbody tr th:only-of-type {\n",
       "        vertical-align: middle;\n",
       "    }\n",
       "\n",
       "    .dataframe tbody tr th {\n",
       "        vertical-align: top;\n",
       "    }\n",
       "\n",
       "    .dataframe thead th {\n",
       "        text-align: right;\n",
       "    }\n",
       "</style>\n",
       "<table border=\"1\" class=\"dataframe\">\n",
       "  <thead>\n",
       "    <tr style=\"text-align: right;\">\n",
       "      <th></th>\n",
       "      <th>real_product</th>\n",
       "      <th>predicted_product</th>\n",
       "    </tr>\n",
       "  </thead>\n",
       "  <tbody>\n",
       "    <tr>\n",
       "      <th>count</th>\n",
       "      <td>25000.000000</td>\n",
       "      <td>25000.000000</td>\n",
       "    </tr>\n",
       "    <tr>\n",
       "      <th>mean</th>\n",
       "      <td>68.723136</td>\n",
       "      <td>68.728547</td>\n",
       "    </tr>\n",
       "    <tr>\n",
       "      <th>std</th>\n",
       "      <td>46.022165</td>\n",
       "      <td>46.010225</td>\n",
       "    </tr>\n",
       "    <tr>\n",
       "      <th>min</th>\n",
       "      <td>0.000000</td>\n",
       "      <td>-1.893774</td>\n",
       "    </tr>\n",
       "    <tr>\n",
       "      <th>25%</th>\n",
       "      <td>26.953261</td>\n",
       "      <td>28.536661</td>\n",
       "    </tr>\n",
       "    <tr>\n",
       "      <th>50%</th>\n",
       "      <td>57.085625</td>\n",
       "      <td>57.851586</td>\n",
       "    </tr>\n",
       "    <tr>\n",
       "      <th>75%</th>\n",
       "      <td>107.813044</td>\n",
       "      <td>109.346485</td>\n",
       "    </tr>\n",
       "    <tr>\n",
       "      <th>max</th>\n",
       "      <td>137.945408</td>\n",
       "      <td>139.818970</td>\n",
       "    </tr>\n",
       "  </tbody>\n",
       "</table>\n",
       "</div>"
      ],
      "text/plain": [
       "       real_product  predicted_product\n",
       "count  25000.000000       25000.000000\n",
       "mean      68.723136          68.728547\n",
       "std       46.022165          46.010225\n",
       "min        0.000000          -1.893774\n",
       "25%       26.953261          28.536661\n",
       "50%       57.085625          57.851586\n",
       "75%      107.813044         109.346485\n",
       "max      137.945408         139.818970"
      ]
     },
     "execution_count": 27,
     "metadata": {},
     "output_type": "execute_result"
    }
   ],
   "source": [
    "product_hist(geo_data_1_predicted['predicted_product'], 200, 200, 500)\n",
    "geo_data_1_predicted.describe()"
   ]
  },
  {
   "cell_type": "code",
   "execution_count": 28,
   "metadata": {},
   "outputs": [
    {
     "data": {
      "image/png": "[encoded data removed]",
      "text/plain": [
       "<Figure size 720x504 with 1 Axes>"
      ]
     },
     "metadata": {
      "needs_background": "light"
     },
     "output_type": "display_data"
    },
    {
     "data": {
      "text/html": [
       "<div>\n",
       "<style scoped>\n",
       "    .dataframe tbody tr th:only-of-type {\n",
       "        vertical-align: middle;\n",
       "    }\n",
       "\n",
       "    .dataframe tbody tr th {\n",
       "        vertical-align: top;\n",
       "    }\n",
       "\n",
       "    .dataframe thead th {\n",
       "        text-align: right;\n",
       "    }\n",
       "</style>\n",
       "<table border=\"1\" class=\"dataframe\">\n",
       "  <thead>\n",
       "    <tr style=\"text-align: right;\">\n",
       "      <th></th>\n",
       "      <th>real_product</th>\n",
       "      <th>predicted_product</th>\n",
       "    </tr>\n",
       "  </thead>\n",
       "  <tbody>\n",
       "    <tr>\n",
       "      <th>count</th>\n",
       "      <td>25000.000000</td>\n",
       "      <td>25000.000000</td>\n",
       "    </tr>\n",
       "    <tr>\n",
       "      <th>mean</th>\n",
       "      <td>94.884233</td>\n",
       "      <td>94.965046</td>\n",
       "    </tr>\n",
       "    <tr>\n",
       "      <th>std</th>\n",
       "      <td>44.902982</td>\n",
       "      <td>19.853733</td>\n",
       "    </tr>\n",
       "    <tr>\n",
       "      <th>min</th>\n",
       "      <td>0.000000</td>\n",
       "      <td>17.131597</td>\n",
       "    </tr>\n",
       "    <tr>\n",
       "      <th>25%</th>\n",
       "      <td>59.217876</td>\n",
       "      <td>81.388500</td>\n",
       "    </tr>\n",
       "    <tr>\n",
       "      <th>50%</th>\n",
       "      <td>94.979468</td>\n",
       "      <td>95.031204</td>\n",
       "    </tr>\n",
       "    <tr>\n",
       "      <th>75%</th>\n",
       "      <td>130.568416</td>\n",
       "      <td>108.492663</td>\n",
       "    </tr>\n",
       "    <tr>\n",
       "      <th>max</th>\n",
       "      <td>190.010982</td>\n",
       "      <td>165.856833</td>\n",
       "    </tr>\n",
       "  </tbody>\n",
       "</table>\n",
       "</div>"
      ],
      "text/plain": [
       "       real_product  predicted_product\n",
       "count  25000.000000       25000.000000\n",
       "mean      94.884233          94.965046\n",
       "std       44.902982          19.853733\n",
       "min        0.000000          17.131597\n",
       "25%       59.217876          81.388500\n",
       "50%       94.979468          95.031204\n",
       "75%      130.568416         108.492663\n",
       "max      190.010982         165.856833"
      ]
     },
     "execution_count": 28,
     "metadata": {},
     "output_type": "execute_result"
    }
   ],
   "source": [
    "product_hist(geo_data_2_predicted['predicted_product'], 200, 200, 500)\n",
    "geo_data_2_predicted.describe()"
   ]
  },
  {
   "cell_type": "markdown",
   "metadata": {},
   "source": [
    "Объем для безубыточной работы региона составляет 111.11 тыс. баррелей. Ни один из регионов не подходит по ожидаемому среднему запасу, однако в каждом регионе есть определенная доля точек, в которых значение выше 111.11. То есть можно попасть как в хорошую точку, так и плохую.\n",
    "\n",
    "**Для того, чтоб выявить риски работы в регионе и оценить потенциальную прибыль, мы применяем технику бутстрапирования**"
   ]
  },
  {
   "cell_type": "markdown",
   "metadata": {},
   "source": [
    "**Функция для расчета прибыли**"
   ]
  },
  {
   "cell_type": "code",
   "execution_count": 29,
   "metadata": {},
   "outputs": [],
   "source": [
    "def oil_profit_calculation(target, probabilities, count):\n",
    "    probabilities_sorted = probabilities.sort_values(ascending=False)\n",
    "    selected = target[probabilities_sorted.index][:count]\n",
    "    return PRICE_PER_BARREL * selected.sum() - BUDGET"
   ]
  },
  {
   "cell_type": "markdown",
   "metadata": {},
   "source": [
    "### Вывод"
   ]
  },
  {
   "cell_type": "markdown",
   "metadata": {},
   "source": [
    "**Выявлен объем безубыточной обработки сырья который равен 111.11 тыс. баррелей**\n",
    "\n",
    "**Составлена функция для расчета прибыли**\n",
    "\n",
    "**Далее применим технику бутстрапа для оценки рисков и прибыли**"
   ]
  },
  {
   "cell_type": "markdown",
   "metadata": {},
   "source": [
    "## Расчёт прибыли и рисков "
   ]
  },
  {
   "cell_type": "code",
   "execution_count": 30,
   "metadata": {},
   "outputs": [],
   "source": [
    "state = np.random.RandomState(RANDOM_STATE)\n",
    "def bootstrap_1000(target, probabilities):\n",
    "    values=[]\n",
    "    lost = 0\n",
    "    for i in range(1000):\n",
    "        target_sample = target.sample(replace=True, random_state=state, n=POINTS)\n",
    "        probabilities_sample = probabilities[target_sample.index]\n",
    "        profit = oil_profit_calculation(target, probabilities_sample, BEST_POINTS)\n",
    "        if profit < 0:\n",
    "            lost +=1\n",
    "        values.append(profit)\n",
    "    \n",
    "    values = pd.Series(values)\n",
    "    lower = values.quantile(0.025)\n",
    "    upper = values.quantile(0.975)\n",
    "    average = values.mean()\n",
    "    risk = lost / 1000\n",
    "    return average, lower, upper, risk"
   ]
  },
  {
   "cell_type": "code",
   "execution_count": 31,
   "metadata": {},
   "outputs": [
    {
     "name": "stdout",
     "output_type": "stream",
     "text": [
      "Данные по региону 0.\n",
      "Средняя прибыль по региону = 396164.98 тыс.руб.\n",
      "95% доверительный интервал от -111215.55 до 909766.94 тыс.руб.\n",
      "Процент риска 6.90%\n"
     ]
    }
   ],
   "source": [
    "average_0, lower_0, upper_0, risk_0 = bootstrap_1000(geo_data_0_predicted['real_product'], \n",
    "                                                     geo_data_0_predicted['predicted_product'])\n",
    "print('Данные по региону 0.')\n",
    "print('Средняя прибыль по региону = {:.2f} тыс.руб.'.format(average_0))\n",
    "print('95% доверительный интервал от {:.2f} до {:.2f} тыс.руб.'.format(lower_0, upper_0))\n",
    "print('Процент риска {:.2%}'.format(risk_0))"
   ]
  },
  {
   "cell_type": "code",
   "execution_count": 32,
   "metadata": {},
   "outputs": [
    {
     "name": "stdout",
     "output_type": "stream",
     "text": [
      "Данные по региону 1.\n",
      "Средняя прибыль по региону = 461155.82 тыс.руб.\n",
      "95% доверительный интервал от 78050.81 до 862952.06 тыс.руб.\n",
      "Процент риска 0.70%\n"
     ]
    }
   ],
   "source": [
    "average_1, lower_1, upper_1, risk_1 = bootstrap_1000(geo_data_1_predicted['real_product'], \n",
    "                                                     geo_data_1_predicted['predicted_product'])\n",
    "print('Данные по региону 1.')\n",
    "print('Средняя прибыль по региону = {:.2f} тыс.руб.'.format(average_1))\n",
    "print('95% доверительный интервал от {:.2f} до {:.2f} тыс.руб.'.format(lower_1, upper_1))\n",
    "print('Процент риска {:.2%}'.format(risk_1))"
   ]
  },
  {
   "cell_type": "code",
   "execution_count": 33,
   "metadata": {},
   "outputs": [
    {
     "name": "stdout",
     "output_type": "stream",
     "text": [
      "Данные по региону 2.\n",
      "Средняя прибыль по региону = 392950.48 тыс.руб.\n",
      "95% доверительный интервал от -112227.63 до 934562.91 тыс.руб.\n",
      "Процент риска 6.50%\n"
     ]
    }
   ],
   "source": [
    "average_2, lower_2, upper_2, risk_2 = bootstrap_1000(geo_data_2_predicted['real_product'], \n",
    "                                                     geo_data_2_predicted['predicted_product'])\n",
    "print('Данные по региону 2.')\n",
    "print('Средняя прибыль по региону = {:.2f} тыс.руб.'.format(average_2))\n",
    "print('95% доверительный интервал от {:.2f} до {:.2f} тыс.руб.'.format(lower_2, upper_2))\n",
    "print('Процент риска {:.2%}'.format(risk_2))"
   ]
  },
  {
   "cell_type": "markdown",
   "metadata": {},
   "source": [
    "### Вывод"
   ]
  },
  {
   "cell_type": "markdown",
   "metadata": {},
   "source": [
    "В соответствии с проведенным исследованием по заданному условием уровню риска для разработки подходит регион 1.\n",
    "\n",
    "У данного региона самый низкий риск в 0.7% и самая высокая средняя прибыль 461155.82 тыс.руб.\n",
    "\n",
    "Ниже приведены данные для сравнения регионов\n",
    "\n",
    "Данные по региону 0.\n",
    "Средняя прибыль по региону = 396164.98 тыс.руб.\n",
    "95% доверительный интервал от -111215.55 до 909766.94 тыс.руб.\n",
    "Процент риска 6.90%\n",
    "\n",
    "**Данные по региону 1.\n",
    "Средняя прибыль по региону = 461155.82 тыс.руб.\n",
    "95% доверительный интервал от 78050.81 до 862952.06 тыс.руб.\n",
    "Процент риска 0.70%**\n",
    "\n",
    "Данные по региону 2.\n",
    "Средняя прибыль по региону = 392950.48 тыс.руб.\n",
    "95% доверительный интервал от -112227.63 до 934562.91 тыс.руб.\n",
    "Процент риска 6.50%"
   ]
  }
 ],
 "metadata": {
  "ExecuteTimeLog": [
   {
    "duration": 1604,
    "start_time": "2022-09-01T07:25:54.804Z"
   },
   {
    "duration": 541,
    "start_time": "2022-09-01T07:26:23.944Z"
   },
   {
    "duration": 605,
    "start_time": "2022-09-01T07:26:27.283Z"
   },
   {
    "duration": 631,
    "start_time": "2022-09-01T07:26:30.158Z"
   },
   {
    "duration": 266,
    "start_time": "2022-09-01T07:28:46.520Z"
   },
   {
    "duration": 198,
    "start_time": "2022-09-01T07:28:52.163Z"
   },
   {
    "duration": 16,
    "start_time": "2022-09-01T07:30:04.275Z"
   },
   {
    "duration": 207,
    "start_time": "2022-09-01T08:22:57.130Z"
   },
   {
    "duration": 200,
    "start_time": "2022-09-01T08:22:58.707Z"
   },
   {
    "duration": 4,
    "start_time": "2022-09-01T08:36:06.214Z"
   },
   {
    "duration": 12,
    "start_time": "2022-09-01T08:37:11.555Z"
   },
   {
    "duration": 27,
    "start_time": "2022-09-01T08:37:11.983Z"
   },
   {
    "duration": 21,
    "start_time": "2022-09-01T08:37:12.397Z"
   },
   {
    "duration": 47,
    "start_time": "2022-09-01T08:38:20.712Z"
   },
   {
    "duration": 3,
    "start_time": "2022-09-01T08:38:27.766Z"
   },
   {
    "duration": 17,
    "start_time": "2022-09-01T08:38:42.761Z"
   },
   {
    "duration": 36,
    "start_time": "2022-09-01T08:39:47.072Z"
   },
   {
    "duration": 30,
    "start_time": "2022-09-01T08:40:15.543Z"
   },
   {
    "duration": 15,
    "start_time": "2022-09-01T08:40:19.360Z"
   },
   {
    "duration": 16,
    "start_time": "2022-09-01T08:40:22.293Z"
   },
   {
    "duration": 33,
    "start_time": "2022-09-01T08:40:24.326Z"
   },
   {
    "duration": 20,
    "start_time": "2022-09-01T08:40:31.820Z"
   },
   {
    "duration": 36,
    "start_time": "2022-09-01T08:41:04.702Z"
   },
   {
    "duration": 59,
    "start_time": "2022-09-01T08:41:19.955Z"
   },
   {
    "duration": 3,
    "start_time": "2022-09-01T08:41:38.853Z"
   },
   {
    "duration": 202,
    "start_time": "2022-09-01T08:41:40.071Z"
   },
   {
    "duration": 183,
    "start_time": "2022-09-01T08:41:41.334Z"
   },
   {
    "duration": 199,
    "start_time": "2022-09-01T08:41:42.550Z"
   },
   {
    "duration": 12,
    "start_time": "2022-09-01T08:41:44.708Z"
   },
   {
    "duration": 3,
    "start_time": "2022-09-01T08:41:46.539Z"
   },
   {
    "duration": 13,
    "start_time": "2022-09-01T08:41:47.357Z"
   },
   {
    "duration": 3,
    "start_time": "2022-09-01T08:41:48.004Z"
   },
   {
    "duration": 20,
    "start_time": "2022-09-01T08:41:48.533Z"
   },
   {
    "duration": 28,
    "start_time": "2022-09-01T08:41:50.399Z"
   },
   {
    "duration": 24,
    "start_time": "2022-09-01T08:41:57.177Z"
   },
   {
    "duration": 2,
    "start_time": "2022-09-01T08:42:39.927Z"
   },
   {
    "duration": 26,
    "start_time": "2022-09-01T08:42:40.291Z"
   },
   {
    "duration": 25,
    "start_time": "2022-09-01T08:42:41.162Z"
   },
   {
    "duration": 33,
    "start_time": "2022-09-01T08:42:41.894Z"
   },
   {
    "duration": 37,
    "start_time": "2022-09-01T08:43:10.964Z"
   },
   {
    "duration": 71,
    "start_time": "2022-09-01T08:56:12.022Z"
   },
   {
    "duration": 25,
    "start_time": "2022-09-01T08:57:25.032Z"
   },
   {
    "duration": 29,
    "start_time": "2022-09-01T08:57:32.804Z"
   },
   {
    "duration": 4,
    "start_time": "2022-09-01T09:07:38.771Z"
   },
   {
    "duration": 6,
    "start_time": "2022-09-01T09:08:44.784Z"
   },
   {
    "duration": 7,
    "start_time": "2022-09-01T09:08:55.674Z"
   },
   {
    "duration": 7,
    "start_time": "2022-09-01T09:09:11.526Z"
   },
   {
    "duration": 7,
    "start_time": "2022-09-01T09:10:21.351Z"
   },
   {
    "duration": 7,
    "start_time": "2022-09-01T09:10:37.706Z"
   },
   {
    "duration": 3,
    "start_time": "2022-09-01T11:40:00.030Z"
   },
   {
    "duration": 9,
    "start_time": "2022-09-01T11:40:34.618Z"
   },
   {
    "duration": 11,
    "start_time": "2022-09-01T11:40:50.043Z"
   },
   {
    "duration": 3,
    "start_time": "2022-09-01T11:41:01.419Z"
   },
   {
    "duration": 14,
    "start_time": "2022-09-01T11:41:02.041Z"
   },
   {
    "duration": 6,
    "start_time": "2022-09-01T11:41:11.387Z"
   },
   {
    "duration": 6,
    "start_time": "2022-09-01T11:41:33.390Z"
   },
   {
    "duration": 3,
    "start_time": "2022-09-01T11:42:52.627Z"
   },
   {
    "duration": 5,
    "start_time": "2022-09-01T11:44:36.092Z"
   },
   {
    "duration": 11,
    "start_time": "2022-09-01T11:45:47.188Z"
   },
   {
    "duration": 11,
    "start_time": "2022-09-01T11:46:59.205Z"
   },
   {
    "duration": 5,
    "start_time": "2022-09-01T11:53:04.075Z"
   },
   {
    "duration": 106,
    "start_time": "2022-09-01T11:53:25.086Z"
   },
   {
    "duration": 30,
    "start_time": "2022-09-01T11:53:38.974Z"
   },
   {
    "duration": 38,
    "start_time": "2022-09-01T11:53:48.764Z"
   },
   {
    "duration": 987,
    "start_time": "2022-09-01T11:54:28.962Z"
   },
   {
    "duration": 950,
    "start_time": "2022-09-01T11:54:45.295Z"
   },
   {
    "duration": 941,
    "start_time": "2022-09-01T11:55:04.517Z"
   },
   {
    "duration": 206,
    "start_time": "2022-09-01T11:59:56.188Z"
   },
   {
    "duration": 71,
    "start_time": "2022-09-01T11:59:57.420Z"
   },
   {
    "duration": 29,
    "start_time": "2022-09-01T11:59:58.373Z"
   },
   {
    "duration": 8,
    "start_time": "2022-09-01T12:00:28.885Z"
   },
   {
    "duration": 7,
    "start_time": "2022-09-01T12:02:44.968Z"
   },
   {
    "duration": 89,
    "start_time": "2022-09-01T12:07:56.081Z"
   },
   {
    "duration": 60,
    "start_time": "2022-09-01T14:49:36.689Z"
   },
   {
    "duration": 3,
    "start_time": "2022-09-01T15:00:46.492Z"
   },
   {
    "duration": 8,
    "start_time": "2022-09-01T15:00:50.850Z"
   },
   {
    "duration": 1642,
    "start_time": "2022-09-01T15:12:49.257Z"
   },
   {
    "duration": 409,
    "start_time": "2022-09-01T15:12:50.901Z"
   },
   {
    "duration": 254,
    "start_time": "2022-09-01T15:12:51.312Z"
   },
   {
    "duration": 235,
    "start_time": "2022-09-01T15:12:51.569Z"
   },
   {
    "duration": 14,
    "start_time": "2022-09-01T15:12:51.806Z"
   },
   {
    "duration": 12,
    "start_time": "2022-09-01T15:12:51.823Z"
   },
   {
    "duration": 9,
    "start_time": "2022-09-01T15:12:51.837Z"
   },
   {
    "duration": 109,
    "start_time": "2022-09-01T15:12:51.847Z"
   },
   {
    "duration": 116,
    "start_time": "2022-09-01T15:12:51.959Z"
   },
   {
    "duration": 185,
    "start_time": "2022-09-01T15:12:52.078Z"
   },
   {
    "duration": 195,
    "start_time": "2022-09-01T15:12:52.265Z"
   },
   {
    "duration": 200,
    "start_time": "2022-09-01T15:12:52.462Z"
   },
   {
    "duration": 38,
    "start_time": "2022-09-01T15:12:52.664Z"
   },
   {
    "duration": 118,
    "start_time": "2022-09-01T15:12:52.758Z"
   },
   {
    "duration": 194,
    "start_time": "2022-09-01T15:12:52.878Z"
   },
   {
    "duration": 90,
    "start_time": "2022-09-01T15:12:53.074Z"
   },
   {
    "duration": 8,
    "start_time": "2022-09-01T15:12:53.258Z"
   },
   {
    "duration": 8,
    "start_time": "2022-09-01T15:12:53.267Z"
   },
   {
    "duration": 3,
    "start_time": "2022-09-01T15:12:53.276Z"
   },
   {
    "duration": 5,
    "start_time": "2022-09-01T15:12:53.281Z"
   },
   {
    "duration": 881,
    "start_time": "2022-09-01T15:12:53.287Z"
   },
   {
    "duration": 843,
    "start_time": "2022-09-01T15:12:54.170Z"
   },
   {
    "duration": 1000,
    "start_time": "2022-09-01T15:12:55.014Z"
   },
   {
    "duration": 1688,
    "start_time": "2022-09-02T08:20:17.562Z"
   },
   {
    "duration": 564,
    "start_time": "2022-09-02T08:20:19.920Z"
   },
   {
    "duration": 645,
    "start_time": "2022-09-02T08:20:21.910Z"
   },
   {
    "duration": 102,
    "start_time": "2022-09-02T08:20:25.178Z"
   },
   {
    "duration": 643,
    "start_time": "2022-09-02T08:20:29.156Z"
   },
   {
    "duration": 18,
    "start_time": "2022-09-02T08:20:32.412Z"
   },
   {
    "duration": 180,
    "start_time": "2022-09-02T08:20:35.251Z"
   },
   {
    "duration": 12,
    "start_time": "2022-09-02T08:20:37.111Z"
   },
   {
    "duration": 1385,
    "start_time": "2022-09-02T08:21:06.370Z"
   },
   {
    "duration": 181,
    "start_time": "2022-09-02T08:21:07.757Z"
   },
   {
    "duration": 161,
    "start_time": "2022-09-02T08:21:07.940Z"
   },
   {
    "duration": 166,
    "start_time": "2022-09-02T08:21:08.103Z"
   },
   {
    "duration": 15,
    "start_time": "2022-09-02T08:21:08.270Z"
   },
   {
    "duration": 5,
    "start_time": "2022-09-02T08:21:08.287Z"
   },
   {
    "duration": 8,
    "start_time": "2022-09-02T08:21:08.293Z"
   },
   {
    "duration": 71,
    "start_time": "2022-09-02T08:21:08.303Z"
   },
   {
    "duration": 191,
    "start_time": "2022-09-02T08:21:08.377Z"
   },
   {
    "duration": 112,
    "start_time": "2022-09-02T08:21:08.572Z"
   },
   {
    "duration": 182,
    "start_time": "2022-09-02T08:21:08.686Z"
   },
   {
    "duration": 96,
    "start_time": "2022-09-02T08:21:08.873Z"
   },
   {
    "duration": 96,
    "start_time": "2022-09-02T08:21:08.971Z"
   },
   {
    "duration": 117,
    "start_time": "2022-09-02T08:21:09.070Z"
   },
   {
    "duration": 196,
    "start_time": "2022-09-02T08:21:09.272Z"
   },
   {
    "duration": 98,
    "start_time": "2022-09-02T08:21:09.475Z"
   },
   {
    "duration": 31,
    "start_time": "2022-09-02T08:21:09.576Z"
   },
   {
    "duration": 48,
    "start_time": "2022-09-02T08:21:09.609Z"
   },
   {
    "duration": 31,
    "start_time": "2022-09-02T08:21:09.659Z"
   },
   {
    "duration": 29,
    "start_time": "2022-09-02T08:21:09.693Z"
   },
   {
    "duration": 1118,
    "start_time": "2022-09-02T08:21:09.724Z"
   },
   {
    "duration": 1022,
    "start_time": "2022-09-02T08:21:10.844Z"
   },
   {
    "duration": 929,
    "start_time": "2022-09-02T08:21:11.868Z"
   },
   {
    "duration": 161,
    "start_time": "2022-09-02T08:21:28.648Z"
   },
   {
    "duration": 13,
    "start_time": "2022-09-02T08:22:20.603Z"
   },
   {
    "duration": 1337,
    "start_time": "2022-09-02T08:22:41.848Z"
   },
   {
    "duration": 1355,
    "start_time": "2022-09-02T08:22:55.309Z"
   },
   {
    "duration": 222,
    "start_time": "2022-09-02T08:22:56.667Z"
   },
   {
    "duration": 177,
    "start_time": "2022-09-02T08:22:56.891Z"
   },
   {
    "duration": 173,
    "start_time": "2022-09-02T08:22:57.070Z"
   },
   {
    "duration": 72,
    "start_time": "2022-09-02T08:22:57.245Z"
   },
   {
    "duration": 15,
    "start_time": "2022-09-02T08:22:57.319Z"
   },
   {
    "duration": 6,
    "start_time": "2022-09-02T08:22:57.336Z"
   },
   {
    "duration": 5,
    "start_time": "2022-09-02T08:22:57.343Z"
   },
   {
    "duration": 101,
    "start_time": "2022-09-02T08:22:57.367Z"
   },
   {
    "duration": 117,
    "start_time": "2022-09-02T08:22:57.471Z"
   },
   {
    "duration": 185,
    "start_time": "2022-09-02T08:22:57.590Z"
   },
   {
    "duration": 196,
    "start_time": "2022-09-02T08:22:57.777Z"
   },
   {
    "duration": 6,
    "start_time": "2022-09-02T08:22:57.975Z"
   },
   {
    "duration": 299,
    "start_time": "2022-09-02T08:22:58.069Z"
   },
   {
    "duration": 112,
    "start_time": "2022-09-02T08:22:58.369Z"
   },
   {
    "duration": 114,
    "start_time": "2022-09-02T08:22:58.568Z"
   },
   {
    "duration": 9,
    "start_time": "2022-09-02T08:22:58.769Z"
   },
   {
    "duration": 7,
    "start_time": "2022-09-02T08:22:58.780Z"
   },
   {
    "duration": 8,
    "start_time": "2022-09-02T08:22:58.789Z"
   },
   {
    "duration": 4,
    "start_time": "2022-09-02T08:22:58.798Z"
   },
   {
    "duration": 6,
    "start_time": "2022-09-02T08:22:58.804Z"
   },
   {
    "duration": 975,
    "start_time": "2022-09-02T08:22:58.812Z"
   },
   {
    "duration": 905,
    "start_time": "2022-09-02T08:22:59.788Z"
   },
   {
    "duration": 946,
    "start_time": "2022-09-02T08:23:00.695Z"
   },
   {
    "duration": 1619,
    "start_time": "2022-09-02T08:23:32.671Z"
   },
   {
    "duration": 1238,
    "start_time": "2022-09-02T08:23:47.808Z"
   },
   {
    "duration": 191,
    "start_time": "2022-09-02T08:23:49.048Z"
   },
   {
    "duration": 166,
    "start_time": "2022-09-02T08:23:49.240Z"
   },
   {
    "duration": 167,
    "start_time": "2022-09-02T08:23:49.408Z"
   },
   {
    "duration": 173,
    "start_time": "2022-09-02T08:23:49.576Z"
   },
   {
    "duration": 20,
    "start_time": "2022-09-02T08:23:49.751Z"
   },
   {
    "duration": 5,
    "start_time": "2022-09-02T08:23:49.773Z"
   },
   {
    "duration": 7,
    "start_time": "2022-09-02T08:23:49.779Z"
   },
   {
    "duration": 85,
    "start_time": "2022-09-02T08:23:49.788Z"
   },
   {
    "duration": 116,
    "start_time": "2022-09-02T08:23:49.875Z"
   },
   {
    "duration": 275,
    "start_time": "2022-09-02T08:23:49.993Z"
   },
   {
    "duration": 115,
    "start_time": "2022-09-02T08:23:50.270Z"
   },
   {
    "duration": 5,
    "start_time": "2022-09-02T08:23:50.387Z"
   },
   {
    "duration": 199,
    "start_time": "2022-09-02T08:23:50.468Z"
   },
   {
    "duration": 113,
    "start_time": "2022-09-02T08:23:50.670Z"
   },
   {
    "duration": 191,
    "start_time": "2022-09-02T08:23:50.785Z"
   },
   {
    "duration": 191,
    "start_time": "2022-09-02T08:23:50.978Z"
   },
   {
    "duration": 8,
    "start_time": "2022-09-02T08:23:51.170Z"
   },
   {
    "duration": 11,
    "start_time": "2022-09-02T08:23:51.180Z"
   },
   {
    "duration": 5,
    "start_time": "2022-09-02T08:23:51.193Z"
   },
   {
    "duration": 9,
    "start_time": "2022-09-02T08:23:51.200Z"
   },
   {
    "duration": 981,
    "start_time": "2022-09-02T08:23:51.210Z"
   },
   {
    "duration": 930,
    "start_time": "2022-09-02T08:23:52.192Z"
   },
   {
    "duration": 911,
    "start_time": "2022-09-02T08:23:53.124Z"
   },
   {
    "duration": 1310,
    "start_time": "2022-09-02T08:24:27.345Z"
   },
   {
    "duration": 177,
    "start_time": "2022-09-02T08:24:28.656Z"
   },
   {
    "duration": 163,
    "start_time": "2022-09-02T08:24:28.835Z"
   },
   {
    "duration": 203,
    "start_time": "2022-09-02T08:24:29.001Z"
   },
   {
    "duration": 209,
    "start_time": "2022-09-02T08:24:29.206Z"
   },
   {
    "duration": 16,
    "start_time": "2022-09-02T08:24:29.417Z"
   },
   {
    "duration": 6,
    "start_time": "2022-09-02T08:24:29.434Z"
   },
   {
    "duration": 4,
    "start_time": "2022-09-02T08:24:29.442Z"
   },
   {
    "duration": 55,
    "start_time": "2022-09-02T08:24:29.447Z"
   },
   {
    "duration": 113,
    "start_time": "2022-09-02T08:24:29.570Z"
   },
   {
    "duration": 194,
    "start_time": "2022-09-02T08:24:29.685Z"
   },
   {
    "duration": 288,
    "start_time": "2022-09-02T08:24:29.881Z"
   },
   {
    "duration": 99,
    "start_time": "2022-09-02T08:24:30.171Z"
   },
   {
    "duration": 106,
    "start_time": "2022-09-02T08:24:30.272Z"
   },
   {
    "duration": 108,
    "start_time": "2022-09-02T08:24:30.380Z"
   },
   {
    "duration": 186,
    "start_time": "2022-09-02T08:24:30.490Z"
   },
   {
    "duration": 92,
    "start_time": "2022-09-02T08:24:30.677Z"
   },
   {
    "duration": 9,
    "start_time": "2022-09-02T08:24:30.771Z"
   },
   {
    "duration": 90,
    "start_time": "2022-09-02T08:24:30.783Z"
   },
   {
    "duration": 10,
    "start_time": "2022-09-02T08:24:30.874Z"
   },
   {
    "duration": 34,
    "start_time": "2022-09-02T08:24:30.886Z"
   },
   {
    "duration": 968,
    "start_time": "2022-09-02T08:24:30.922Z"
   },
   {
    "duration": 899,
    "start_time": "2022-09-02T08:24:31.891Z"
   },
   {
    "duration": 875,
    "start_time": "2022-09-02T08:24:32.793Z"
   },
   {
    "duration": 98,
    "start_time": "2022-09-02T08:39:20.283Z"
   },
   {
    "duration": 7,
    "start_time": "2022-09-02T08:39:29.162Z"
   },
   {
    "duration": 82,
    "start_time": "2022-09-02T08:39:56.355Z"
   },
   {
    "duration": 134,
    "start_time": "2022-09-02T08:40:03.573Z"
   },
   {
    "duration": 4,
    "start_time": "2022-09-02T08:40:09.941Z"
   },
   {
    "duration": 97,
    "start_time": "2022-09-02T08:40:17.007Z"
   },
   {
    "duration": 119,
    "start_time": "2022-09-02T08:40:24.679Z"
   },
   {
    "duration": 3,
    "start_time": "2022-09-02T08:40:41.349Z"
   },
   {
    "duration": 106,
    "start_time": "2022-09-02T08:40:42.178Z"
   },
   {
    "duration": 8,
    "start_time": "2022-09-02T08:40:49.972Z"
   },
   {
    "duration": 7,
    "start_time": "2022-09-02T08:41:01.229Z"
   },
   {
    "duration": 5,
    "start_time": "2022-09-02T08:41:11.746Z"
   },
   {
    "duration": 9,
    "start_time": "2022-09-02T08:41:23.230Z"
   },
   {
    "duration": 5,
    "start_time": "2022-09-02T08:41:44.336Z"
   },
   {
    "duration": 5,
    "start_time": "2022-09-02T08:41:45.065Z"
   },
   {
    "duration": 6,
    "start_time": "2022-09-02T08:41:45.664Z"
   },
   {
    "duration": 4,
    "start_time": "2022-09-02T08:42:08.017Z"
   },
   {
    "duration": 5,
    "start_time": "2022-09-02T08:42:08.481Z"
   },
   {
    "duration": 5,
    "start_time": "2022-09-02T08:42:09.013Z"
   },
   {
    "duration": 5,
    "start_time": "2022-09-02T08:42:09.542Z"
   },
   {
    "duration": 5,
    "start_time": "2022-09-02T08:45:27.016Z"
   },
   {
    "duration": 404,
    "start_time": "2022-09-02T08:45:47.831Z"
   },
   {
    "duration": 417,
    "start_time": "2022-09-02T08:46:00.421Z"
   },
   {
    "duration": 523,
    "start_time": "2022-09-02T08:46:07.808Z"
   },
   {
    "duration": 422,
    "start_time": "2022-09-02T08:47:00.792Z"
   },
   {
    "duration": 198,
    "start_time": "2022-09-02T08:47:08.429Z"
   },
   {
    "duration": 193,
    "start_time": "2022-09-02T08:47:13.176Z"
   },
   {
    "duration": 250,
    "start_time": "2022-09-02T08:47:23.396Z"
   },
   {
    "duration": 215,
    "start_time": "2022-09-02T08:47:39.794Z"
   },
   {
    "duration": 208,
    "start_time": "2022-09-02T08:47:44.558Z"
   },
   {
    "duration": 370,
    "start_time": "2022-09-02T08:47:48.729Z"
   },
   {
    "duration": 235,
    "start_time": "2022-09-02T08:47:53.139Z"
   },
   {
    "duration": 214,
    "start_time": "2022-09-02T08:47:57.027Z"
   },
   {
    "duration": 214,
    "start_time": "2022-09-02T08:48:04.011Z"
   },
   {
    "duration": 388,
    "start_time": "2022-09-02T08:48:21.512Z"
   },
   {
    "duration": 4,
    "start_time": "2022-09-02T08:48:32.946Z"
   },
   {
    "duration": 371,
    "start_time": "2022-09-02T08:48:33.957Z"
   },
   {
    "duration": 335,
    "start_time": "2022-09-02T08:48:36.215Z"
   },
   {
    "duration": 365,
    "start_time": "2022-09-02T08:48:38.249Z"
   },
   {
    "duration": 3,
    "start_time": "2022-09-02T08:48:51.665Z"
   },
   {
    "duration": 383,
    "start_time": "2022-09-02T08:48:52.202Z"
   },
   {
    "duration": 4,
    "start_time": "2022-09-02T08:48:59.849Z"
   },
   {
    "duration": 381,
    "start_time": "2022-09-02T08:49:00.500Z"
   },
   {
    "duration": 246,
    "start_time": "2022-09-02T08:49:01.411Z"
   },
   {
    "duration": 491,
    "start_time": "2022-09-02T08:49:02.405Z"
   },
   {
    "duration": 17,
    "start_time": "2022-09-02T08:54:25.056Z"
   },
   {
    "duration": 14,
    "start_time": "2022-09-02T08:54:35.572Z"
   },
   {
    "duration": 15,
    "start_time": "2022-09-02T08:54:36.411Z"
   },
   {
    "duration": 4,
    "start_time": "2022-09-02T09:05:18.947Z"
   },
   {
    "duration": 4,
    "start_time": "2022-09-02T09:25:40.062Z"
   },
   {
    "duration": 1376,
    "start_time": "2022-09-02T09:25:49.125Z"
   },
   {
    "duration": 181,
    "start_time": "2022-09-02T09:25:50.503Z"
   },
   {
    "duration": 157,
    "start_time": "2022-09-02T09:25:50.686Z"
   },
   {
    "duration": 166,
    "start_time": "2022-09-02T09:25:50.845Z"
   },
   {
    "duration": 221,
    "start_time": "2022-09-02T09:25:51.012Z"
   },
   {
    "duration": 18,
    "start_time": "2022-09-02T09:25:51.236Z"
   },
   {
    "duration": 3,
    "start_time": "2022-09-02T09:25:51.268Z"
   },
   {
    "duration": 12,
    "start_time": "2022-09-02T09:25:51.272Z"
   },
   {
    "duration": 9,
    "start_time": "2022-09-02T09:25:51.286Z"
   },
   {
    "duration": 10,
    "start_time": "2022-09-02T09:25:51.297Z"
   },
   {
    "duration": 3,
    "start_time": "2022-09-02T09:25:51.309Z"
   },
   {
    "duration": 441,
    "start_time": "2022-09-02T09:25:51.314Z"
   },
   {
    "duration": 210,
    "start_time": "2022-09-02T09:25:51.757Z"
   },
   {
    "duration": 457,
    "start_time": "2022-09-02T09:25:51.970Z"
   },
   {
    "duration": 17,
    "start_time": "2022-09-02T09:25:52.430Z"
   },
   {
    "duration": 27,
    "start_time": "2022-09-02T09:25:52.448Z"
   },
   {
    "duration": 15,
    "start_time": "2022-09-02T09:25:52.477Z"
   },
   {
    "duration": 6,
    "start_time": "2022-09-02T09:25:52.494Z"
   },
   {
    "duration": 8,
    "start_time": "2022-09-02T09:25:52.501Z"
   },
   {
    "duration": 7,
    "start_time": "2022-09-02T09:25:52.511Z"
   },
   {
    "duration": 54,
    "start_time": "2022-09-02T09:25:52.520Z"
   },
   {
    "duration": 114,
    "start_time": "2022-09-02T09:25:52.575Z"
   },
   {
    "duration": 110,
    "start_time": "2022-09-02T09:25:52.768Z"
   },
   {
    "duration": 190,
    "start_time": "2022-09-02T09:25:52.880Z"
   },
   {
    "duration": 96,
    "start_time": "2022-09-02T09:25:53.072Z"
   },
   {
    "duration": 196,
    "start_time": "2022-09-02T09:25:53.174Z"
   },
   {
    "duration": 117,
    "start_time": "2022-09-02T09:25:53.374Z"
   },
   {
    "duration": 118,
    "start_time": "2022-09-02T09:25:53.570Z"
   },
   {
    "duration": 82,
    "start_time": "2022-09-02T09:25:53.690Z"
   },
   {
    "duration": 100,
    "start_time": "2022-09-02T09:25:53.774Z"
   },
   {
    "duration": 6,
    "start_time": "2022-09-02T09:25:53.876Z"
   },
   {
    "duration": 6,
    "start_time": "2022-09-02T09:25:53.883Z"
   },
   {
    "duration": 928,
    "start_time": "2022-09-02T09:25:53.890Z"
   },
   {
    "duration": 877,
    "start_time": "2022-09-02T09:25:54.819Z"
   },
   {
    "duration": 888,
    "start_time": "2022-09-02T09:25:55.698Z"
   },
   {
    "duration": 103,
    "start_time": "2022-09-02T09:42:07.159Z"
   },
   {
    "duration": 75,
    "start_time": "2022-09-02T09:47:17.397Z"
   },
   {
    "duration": 204,
    "start_time": "2022-09-02T09:48:05.185Z"
   },
   {
    "duration": 5,
    "start_time": "2022-09-02T10:10:55.210Z"
   },
   {
    "duration": 15,
    "start_time": "2022-09-02T10:10:57.869Z"
   },
   {
    "duration": 14,
    "start_time": "2022-09-02T10:12:16.954Z"
   },
   {
    "duration": 1276,
    "start_time": "2022-09-02T10:12:33.268Z"
   },
   {
    "duration": 182,
    "start_time": "2022-09-02T10:12:34.546Z"
   },
   {
    "duration": 161,
    "start_time": "2022-09-02T10:12:34.730Z"
   },
   {
    "duration": 177,
    "start_time": "2022-09-02T10:12:34.894Z"
   },
   {
    "duration": 16,
    "start_time": "2022-09-02T10:12:35.073Z"
   },
   {
    "duration": 11,
    "start_time": "2022-09-02T10:12:35.091Z"
   },
   {
    "duration": 9,
    "start_time": "2022-09-02T10:12:35.104Z"
   },
   {
    "duration": 6,
    "start_time": "2022-09-02T10:12:35.115Z"
   },
   {
    "duration": 7,
    "start_time": "2022-09-02T10:12:35.122Z"
   },
   {
    "duration": 3,
    "start_time": "2022-09-02T10:12:35.132Z"
   },
   {
    "duration": 407,
    "start_time": "2022-09-02T10:12:35.137Z"
   },
   {
    "duration": 210,
    "start_time": "2022-09-02T10:12:35.546Z"
   },
   {
    "duration": 454,
    "start_time": "2022-09-02T10:12:35.758Z"
   },
   {
    "duration": 17,
    "start_time": "2022-09-02T10:12:36.213Z"
   },
   {
    "duration": 14,
    "start_time": "2022-09-02T10:12:36.232Z"
   },
   {
    "duration": 34,
    "start_time": "2022-09-02T10:12:36.247Z"
   },
   {
    "duration": 6,
    "start_time": "2022-09-02T10:12:36.282Z"
   },
   {
    "duration": 7,
    "start_time": "2022-09-02T10:12:36.289Z"
   },
   {
    "duration": 4,
    "start_time": "2022-09-02T10:12:36.298Z"
   },
   {
    "duration": 67,
    "start_time": "2022-09-02T10:12:36.303Z"
   },
   {
    "duration": 120,
    "start_time": "2022-09-02T10:12:36.371Z"
   },
   {
    "duration": 186,
    "start_time": "2022-09-02T10:12:36.492Z"
   },
   {
    "duration": 199,
    "start_time": "2022-09-02T10:12:36.680Z"
   },
   {
    "duration": 85,
    "start_time": "2022-09-02T10:12:36.884Z"
   },
   {
    "duration": 129,
    "start_time": "2022-09-02T10:12:36.971Z"
   },
   {
    "duration": 109,
    "start_time": "2022-09-02T10:12:37.168Z"
   },
   {
    "duration": 292,
    "start_time": "2022-09-02T10:12:37.279Z"
   },
   {
    "duration": 2,
    "start_time": "2022-09-02T10:12:37.667Z"
   },
   {
    "duration": 8,
    "start_time": "2022-09-02T10:12:37.671Z"
   },
   {
    "duration": 5,
    "start_time": "2022-09-02T10:12:37.681Z"
   },
   {
    "duration": 7,
    "start_time": "2022-09-02T10:12:37.688Z"
   },
   {
    "duration": 903,
    "start_time": "2022-09-02T10:12:37.696Z"
   },
   {
    "duration": 870,
    "start_time": "2022-09-02T10:12:38.601Z"
   },
   {
    "duration": 900,
    "start_time": "2022-09-02T10:12:39.473Z"
   },
   {
    "duration": 4,
    "start_time": "2022-09-02T10:14:21.411Z"
   },
   {
    "duration": 109,
    "start_time": "2022-09-02T10:14:24.073Z"
   },
   {
    "duration": 4,
    "start_time": "2022-09-02T10:14:35.403Z"
   },
   {
    "duration": 53,
    "start_time": "2022-09-02T10:14:36.617Z"
   },
   {
    "duration": 4,
    "start_time": "2022-09-02T10:15:37.458Z"
   },
   {
    "duration": 28,
    "start_time": "2022-09-02T10:15:38.590Z"
   },
   {
    "duration": 4,
    "start_time": "2022-09-02T10:19:01.057Z"
   },
   {
    "duration": 4,
    "start_time": "2022-09-02T10:20:40.437Z"
   },
   {
    "duration": 4,
    "start_time": "2022-09-02T10:20:48.041Z"
   },
   {
    "duration": 4,
    "start_time": "2022-09-02T10:21:47.541Z"
   },
   {
    "duration": 3,
    "start_time": "2022-09-02T10:22:06.382Z"
   },
   {
    "duration": 4,
    "start_time": "2022-09-02T10:22:16.034Z"
   },
   {
    "duration": 1436,
    "start_time": "2022-09-02T10:22:22.478Z"
   },
   {
    "duration": 202,
    "start_time": "2022-09-02T10:22:23.916Z"
   },
   {
    "duration": 176,
    "start_time": "2022-09-02T10:22:24.120Z"
   },
   {
    "duration": 188,
    "start_time": "2022-09-02T10:22:24.298Z"
   },
   {
    "duration": 18,
    "start_time": "2022-09-02T10:22:24.487Z"
   },
   {
    "duration": 14,
    "start_time": "2022-09-02T10:22:24.507Z"
   },
   {
    "duration": 10,
    "start_time": "2022-09-02T10:22:24.523Z"
   },
   {
    "duration": 6,
    "start_time": "2022-09-02T10:22:24.535Z"
   },
   {
    "duration": 5,
    "start_time": "2022-09-02T10:22:24.542Z"
   },
   {
    "duration": 4,
    "start_time": "2022-09-02T10:22:24.569Z"
   },
   {
    "duration": 447,
    "start_time": "2022-09-02T10:22:24.575Z"
   },
   {
    "duration": 229,
    "start_time": "2022-09-02T10:22:25.025Z"
   },
   {
    "duration": 504,
    "start_time": "2022-09-02T10:22:25.256Z"
   },
   {
    "duration": 21,
    "start_time": "2022-09-02T10:22:25.763Z"
   },
   {
    "duration": 16,
    "start_time": "2022-09-02T10:22:25.786Z"
   },
   {
    "duration": 14,
    "start_time": "2022-09-02T10:22:25.804Z"
   },
   {
    "duration": 3,
    "start_time": "2022-09-02T10:22:25.820Z"
   },
   {
    "duration": 7,
    "start_time": "2022-09-02T10:22:25.825Z"
   },
   {
    "duration": 103,
    "start_time": "2022-09-02T10:22:25.867Z"
   },
   {
    "duration": 196,
    "start_time": "2022-09-02T10:22:25.972Z"
   },
   {
    "duration": 119,
    "start_time": "2022-09-02T10:22:26.170Z"
   },
   {
    "duration": 3,
    "start_time": "2022-09-02T10:22:26.368Z"
   },
   {
    "duration": 101,
    "start_time": "2022-09-02T10:22:26.376Z"
   },
   {
    "duration": 12,
    "start_time": "2022-09-02T10:22:26.479Z"
   },
   {
    "duration": 16,
    "start_time": "2022-09-02T10:22:26.493Z"
   },
   {
    "duration": 1041,
    "start_time": "2022-09-02T10:22:26.511Z"
   },
   {
    "duration": 928,
    "start_time": "2022-09-02T10:22:27.554Z"
   },
   {
    "duration": 952,
    "start_time": "2022-09-02T10:22:28.485Z"
   },
   {
    "duration": 37,
    "start_time": "2022-09-02T10:42:17.783Z"
   },
   {
    "duration": 36,
    "start_time": "2022-09-02T10:42:30.475Z"
   },
   {
    "duration": 30,
    "start_time": "2022-09-02T10:42:32.470Z"
   },
   {
    "duration": 20,
    "start_time": "2022-09-02T10:45:24.246Z"
   },
   {
    "duration": 18,
    "start_time": "2022-09-02T10:45:43.707Z"
   },
   {
    "duration": 18,
    "start_time": "2022-09-02T10:45:44.276Z"
   },
   {
    "duration": 390,
    "start_time": "2022-09-02T10:48:08.018Z"
   },
   {
    "duration": 379,
    "start_time": "2022-09-02T10:48:23.613Z"
   },
   {
    "duration": 463,
    "start_time": "2022-09-02T10:48:28.851Z"
   },
   {
    "duration": 467,
    "start_time": "2022-09-02T10:48:32.127Z"
   },
   {
    "duration": 390,
    "start_time": "2022-09-02T10:48:34.391Z"
   },
   {
    "duration": 400,
    "start_time": "2022-09-02T10:49:07.686Z"
   },
   {
    "duration": 392,
    "start_time": "2022-09-02T10:49:11.788Z"
   },
   {
    "duration": 518,
    "start_time": "2022-09-02T10:49:18.164Z"
   },
   {
    "duration": 274,
    "start_time": "2022-09-02T10:49:23.795Z"
   },
   {
    "duration": 382,
    "start_time": "2022-09-02T10:49:26.808Z"
   },
   {
    "duration": 368,
    "start_time": "2022-09-02T10:49:29.595Z"
   },
   {
    "duration": 491,
    "start_time": "2022-09-02T10:49:34.305Z"
   },
   {
    "duration": 513,
    "start_time": "2022-09-02T10:49:46.226Z"
   },
   {
    "duration": 389,
    "start_time": "2022-09-02T10:49:53.282Z"
   },
   {
    "duration": 498,
    "start_time": "2022-09-02T10:49:59.148Z"
   },
   {
    "duration": 1506,
    "start_time": "2022-09-02T11:12:35.730Z"
   },
   {
    "duration": 391,
    "start_time": "2022-09-02T11:12:43.103Z"
   },
   {
    "duration": 394,
    "start_time": "2022-09-02T11:12:47.782Z"
   },
   {
    "duration": 369,
    "start_time": "2022-09-02T11:12:53.739Z"
   },
   {
    "duration": 526,
    "start_time": "2022-09-02T11:12:58.281Z"
   },
   {
    "duration": 379,
    "start_time": "2022-09-02T11:13:02.918Z"
   },
   {
    "duration": 375,
    "start_time": "2022-09-02T11:13:10.445Z"
   },
   {
    "duration": 473,
    "start_time": "2022-09-02T11:13:21.762Z"
   },
   {
    "duration": 951,
    "start_time": "2022-09-02T11:24:52.627Z"
   },
   {
    "duration": 887,
    "start_time": "2022-09-02T11:24:58.304Z"
   },
   {
    "duration": 894,
    "start_time": "2022-09-02T11:25:04.782Z"
   },
   {
    "duration": 1669,
    "start_time": "2022-09-02T11:27:31.685Z"
   },
   {
    "duration": 186,
    "start_time": "2022-09-02T11:27:33.357Z"
   },
   {
    "duration": 170,
    "start_time": "2022-09-02T11:27:33.546Z"
   },
   {
    "duration": 162,
    "start_time": "2022-09-02T11:27:33.718Z"
   },
   {
    "duration": 16,
    "start_time": "2022-09-02T11:27:33.882Z"
   },
   {
    "duration": 12,
    "start_time": "2022-09-02T11:27:33.900Z"
   },
   {
    "duration": 38,
    "start_time": "2022-09-02T11:27:33.914Z"
   },
   {
    "duration": 26,
    "start_time": "2022-09-02T11:27:33.953Z"
   },
   {
    "duration": 10,
    "start_time": "2022-09-02T11:27:33.980Z"
   },
   {
    "duration": 8,
    "start_time": "2022-09-02T11:27:33.992Z"
   },
   {
    "duration": 378,
    "start_time": "2022-09-02T11:27:34.002Z"
   },
   {
    "duration": 197,
    "start_time": "2022-09-02T11:27:34.382Z"
   },
   {
    "duration": 445,
    "start_time": "2022-09-02T11:27:34.581Z"
   },
   {
    "duration": 17,
    "start_time": "2022-09-02T11:27:35.028Z"
   },
   {
    "duration": 30,
    "start_time": "2022-09-02T11:27:35.046Z"
   },
   {
    "duration": 14,
    "start_time": "2022-09-02T11:27:35.077Z"
   },
   {
    "duration": 4,
    "start_time": "2022-09-02T11:27:35.092Z"
   },
   {
    "duration": 5,
    "start_time": "2022-09-02T11:27:35.098Z"
   },
   {
    "duration": 66,
    "start_time": "2022-09-02T11:27:35.104Z"
   },
   {
    "duration": 198,
    "start_time": "2022-09-02T11:27:35.171Z"
   },
   {
    "duration": 117,
    "start_time": "2022-09-02T11:27:35.373Z"
   },
   {
    "duration": 78,
    "start_time": "2022-09-02T11:27:35.492Z"
   },
   {
    "duration": 102,
    "start_time": "2022-09-02T11:27:35.572Z"
   },
   {
    "duration": 366,
    "start_time": "2022-09-02T11:27:35.677Z"
   },
   {
    "duration": 364,
    "start_time": "2022-09-02T11:27:36.045Z"
   },
   {
    "duration": 466,
    "start_time": "2022-09-02T11:27:36.411Z"
   },
   {
    "duration": 3,
    "start_time": "2022-09-02T11:27:36.879Z"
   },
   {
    "duration": 5,
    "start_time": "2022-09-02T11:27:36.886Z"
   },
   {
    "duration": 947,
    "start_time": "2022-09-02T11:27:36.892Z"
   },
   {
    "duration": 860,
    "start_time": "2022-09-02T11:27:37.841Z"
   },
   {
    "duration": 866,
    "start_time": "2022-09-02T11:27:38.703Z"
   },
   {
    "duration": 4,
    "start_time": "2022-09-02T12:56:19.798Z"
   },
   {
    "duration": 80,
    "start_time": "2022-09-02T12:57:33.913Z"
   },
   {
    "duration": 1336,
    "start_time": "2022-09-02T13:01:47.816Z"
   },
   {
    "duration": 200,
    "start_time": "2022-09-02T13:01:49.154Z"
   },
   {
    "duration": 180,
    "start_time": "2022-09-02T13:01:49.355Z"
   },
   {
    "duration": 179,
    "start_time": "2022-09-02T13:01:49.539Z"
   },
   {
    "duration": 19,
    "start_time": "2022-09-02T13:01:49.720Z"
   },
   {
    "duration": 6,
    "start_time": "2022-09-02T13:01:49.740Z"
   },
   {
    "duration": 25,
    "start_time": "2022-09-02T13:01:49.748Z"
   },
   {
    "duration": 8,
    "start_time": "2022-09-02T13:01:49.775Z"
   },
   {
    "duration": 14,
    "start_time": "2022-09-02T13:01:49.785Z"
   },
   {
    "duration": 6,
    "start_time": "2022-09-02T13:01:49.802Z"
   },
   {
    "duration": 421,
    "start_time": "2022-09-02T13:01:49.810Z"
   },
   {
    "duration": 213,
    "start_time": "2022-09-02T13:01:50.233Z"
   },
   {
    "duration": 485,
    "start_time": "2022-09-02T13:01:50.448Z"
   },
   {
    "duration": 17,
    "start_time": "2022-09-02T13:01:50.935Z"
   },
   {
    "duration": 27,
    "start_time": "2022-09-02T13:01:50.954Z"
   },
   {
    "duration": 16,
    "start_time": "2022-09-02T13:01:50.983Z"
   },
   {
    "duration": 4,
    "start_time": "2022-09-02T13:01:51.001Z"
   },
   {
    "duration": 7,
    "start_time": "2022-09-02T13:01:51.008Z"
   },
   {
    "duration": 76,
    "start_time": "2022-09-02T13:01:51.017Z"
   },
   {
    "duration": 201,
    "start_time": "2022-09-02T13:01:51.171Z"
   },
   {
    "duration": 195,
    "start_time": "2022-09-02T13:01:51.374Z"
   },
   {
    "duration": 5,
    "start_time": "2022-09-02T13:01:51.570Z"
   },
   {
    "duration": 472,
    "start_time": "2022-09-02T13:01:51.576Z"
   },
   {
    "duration": 422,
    "start_time": "2022-09-02T13:01:52.050Z"
   },
   {
    "duration": 387,
    "start_time": "2022-09-02T13:01:52.474Z"
   },
   {
    "duration": 4,
    "start_time": "2022-09-02T13:01:52.864Z"
   },
   {
    "duration": 7,
    "start_time": "2022-09-02T13:01:52.871Z"
   },
   {
    "duration": 969,
    "start_time": "2022-09-02T13:01:52.883Z"
   },
   {
    "duration": 887,
    "start_time": "2022-09-02T13:01:53.853Z"
   },
   {
    "duration": 946,
    "start_time": "2022-09-02T13:01:54.741Z"
   },
   {
    "duration": 982,
    "start_time": "2022-09-02T13:02:01.174Z"
   },
   {
    "duration": 939,
    "start_time": "2022-09-02T13:02:08.613Z"
   },
   {
    "duration": 933,
    "start_time": "2022-09-02T13:02:10.342Z"
   },
   {
    "duration": 1430,
    "start_time": "2022-09-02T13:02:23.173Z"
   },
   {
    "duration": 195,
    "start_time": "2022-09-02T13:02:24.605Z"
   },
   {
    "duration": 174,
    "start_time": "2022-09-02T13:02:24.802Z"
   },
   {
    "duration": 177,
    "start_time": "2022-09-02T13:02:24.979Z"
   },
   {
    "duration": 24,
    "start_time": "2022-09-02T13:02:25.158Z"
   },
   {
    "duration": 5,
    "start_time": "2022-09-02T13:02:25.184Z"
   },
   {
    "duration": 11,
    "start_time": "2022-09-02T13:02:25.191Z"
   },
   {
    "duration": 8,
    "start_time": "2022-09-02T13:02:25.203Z"
   },
   {
    "duration": 15,
    "start_time": "2022-09-02T13:02:25.213Z"
   },
   {
    "duration": 6,
    "start_time": "2022-09-02T13:02:25.230Z"
   },
   {
    "duration": 419,
    "start_time": "2022-09-02T13:02:25.238Z"
   },
   {
    "duration": 220,
    "start_time": "2022-09-02T13:02:25.658Z"
   },
   {
    "duration": 483,
    "start_time": "2022-09-02T13:02:25.880Z"
   },
   {
    "duration": 19,
    "start_time": "2022-09-02T13:02:26.364Z"
   },
   {
    "duration": 15,
    "start_time": "2022-09-02T13:02:26.384Z"
   },
   {
    "duration": 16,
    "start_time": "2022-09-02T13:02:26.400Z"
   },
   {
    "duration": 4,
    "start_time": "2022-09-02T13:02:26.418Z"
   },
   {
    "duration": 6,
    "start_time": "2022-09-02T13:02:26.424Z"
   },
   {
    "duration": 148,
    "start_time": "2022-09-02T13:02:26.431Z"
   },
   {
    "duration": 117,
    "start_time": "2022-09-02T13:02:26.581Z"
   },
   {
    "duration": 140,
    "start_time": "2022-09-02T13:02:26.768Z"
   },
   {
    "duration": 163,
    "start_time": "2022-09-02T13:02:26.910Z"
   },
   {
    "duration": 392,
    "start_time": "2022-09-02T13:02:27.075Z"
   },
   {
    "duration": 398,
    "start_time": "2022-09-02T13:02:27.469Z"
   },
   {
    "duration": 394,
    "start_time": "2022-09-02T13:02:27.869Z"
   },
   {
    "duration": 3,
    "start_time": "2022-09-02T13:02:28.267Z"
   },
   {
    "duration": 9,
    "start_time": "2022-09-02T13:02:28.272Z"
   },
   {
    "duration": 960,
    "start_time": "2022-09-02T13:02:28.285Z"
   },
   {
    "duration": 932,
    "start_time": "2022-09-02T13:02:29.247Z"
   },
   {
    "duration": 932,
    "start_time": "2022-09-02T13:02:30.180Z"
   },
   {
    "duration": 959,
    "start_time": "2022-09-02T13:02:34.961Z"
   },
   {
    "duration": 976,
    "start_time": "2022-09-02T13:02:37.195Z"
   },
   {
    "duration": 960,
    "start_time": "2022-09-02T13:02:40.091Z"
   },
   {
    "duration": 1402,
    "start_time": "2022-09-02T13:02:50.994Z"
   },
   {
    "duration": 203,
    "start_time": "2022-09-02T13:02:52.399Z"
   },
   {
    "duration": 179,
    "start_time": "2022-09-02T13:02:52.604Z"
   },
   {
    "duration": 191,
    "start_time": "2022-09-02T13:02:52.786Z"
   },
   {
    "duration": 17,
    "start_time": "2022-09-02T13:02:52.980Z"
   },
   {
    "duration": 14,
    "start_time": "2022-09-02T13:02:52.999Z"
   },
   {
    "duration": 12,
    "start_time": "2022-09-02T13:02:53.015Z"
   },
   {
    "duration": 7,
    "start_time": "2022-09-02T13:02:53.029Z"
   },
   {
    "duration": 6,
    "start_time": "2022-09-02T13:02:53.038Z"
   },
   {
    "duration": 5,
    "start_time": "2022-09-02T13:02:53.070Z"
   },
   {
    "duration": 425,
    "start_time": "2022-09-02T13:02:53.077Z"
   },
   {
    "duration": 228,
    "start_time": "2022-09-02T13:02:53.504Z"
   },
   {
    "duration": 501,
    "start_time": "2022-09-02T13:02:53.734Z"
   },
   {
    "duration": 18,
    "start_time": "2022-09-02T13:02:54.237Z"
   },
   {
    "duration": 17,
    "start_time": "2022-09-02T13:02:54.268Z"
   },
   {
    "duration": 16,
    "start_time": "2022-09-02T13:02:54.286Z"
   },
   {
    "duration": 4,
    "start_time": "2022-09-02T13:02:54.303Z"
   },
   {
    "duration": 8,
    "start_time": "2022-09-02T13:02:54.309Z"
   },
   {
    "duration": 65,
    "start_time": "2022-09-02T13:02:54.319Z"
   },
   {
    "duration": 115,
    "start_time": "2022-09-02T13:02:54.469Z"
   },
   {
    "duration": 190,
    "start_time": "2022-09-02T13:02:54.586Z"
   },
   {
    "duration": 90,
    "start_time": "2022-09-02T13:02:54.778Z"
   },
   {
    "duration": 489,
    "start_time": "2022-09-02T13:02:54.870Z"
   },
   {
    "duration": 406,
    "start_time": "2022-09-02T13:02:55.360Z"
   },
   {
    "duration": 426,
    "start_time": "2022-09-02T13:02:55.768Z"
   },
   {
    "duration": 4,
    "start_time": "2022-09-02T13:02:56.196Z"
   },
   {
    "duration": 17,
    "start_time": "2022-09-02T13:02:56.201Z"
   },
   {
    "duration": 1165,
    "start_time": "2022-09-02T13:02:56.221Z"
   },
   {
    "duration": 1001,
    "start_time": "2022-09-02T13:02:57.388Z"
   },
   {
    "duration": 959,
    "start_time": "2022-09-02T13:02:58.391Z"
   },
   {
    "duration": 1402,
    "start_time": "2022-09-02T13:04:27.686Z"
   },
   {
    "duration": 238,
    "start_time": "2022-09-02T13:04:29.090Z"
   },
   {
    "duration": 181,
    "start_time": "2022-09-02T13:04:29.330Z"
   },
   {
    "duration": 201,
    "start_time": "2022-09-02T13:04:29.514Z"
   },
   {
    "duration": 17,
    "start_time": "2022-09-02T13:04:29.717Z"
   },
   {
    "duration": 5,
    "start_time": "2022-09-02T13:04:29.736Z"
   },
   {
    "duration": 25,
    "start_time": "2022-09-02T13:04:29.743Z"
   },
   {
    "duration": 7,
    "start_time": "2022-09-02T13:04:29.770Z"
   },
   {
    "duration": 6,
    "start_time": "2022-09-02T13:04:29.780Z"
   },
   {
    "duration": 6,
    "start_time": "2022-09-02T13:04:29.790Z"
   },
   {
    "duration": 449,
    "start_time": "2022-09-02T13:04:29.799Z"
   },
   {
    "duration": 231,
    "start_time": "2022-09-02T13:04:30.250Z"
   },
   {
    "duration": 522,
    "start_time": "2022-09-02T13:04:30.483Z"
   },
   {
    "duration": 20,
    "start_time": "2022-09-02T13:04:31.006Z"
   },
   {
    "duration": 16,
    "start_time": "2022-09-02T13:04:31.028Z"
   },
   {
    "duration": 36,
    "start_time": "2022-09-02T13:04:31.046Z"
   },
   {
    "duration": 17,
    "start_time": "2022-09-02T13:04:31.085Z"
   },
   {
    "duration": 16,
    "start_time": "2022-09-02T13:04:31.104Z"
   },
   {
    "duration": 49,
    "start_time": "2022-09-02T13:04:31.122Z"
   },
   {
    "duration": 198,
    "start_time": "2022-09-02T13:04:31.172Z"
   },
   {
    "duration": 207,
    "start_time": "2022-09-02T13:04:31.371Z"
   },
   {
    "duration": 89,
    "start_time": "2022-09-02T13:04:31.580Z"
   },
   {
    "duration": 392,
    "start_time": "2022-09-02T13:04:31.671Z"
   },
   {
    "duration": 389,
    "start_time": "2022-09-02T13:04:32.065Z"
   },
   {
    "duration": 415,
    "start_time": "2022-09-02T13:04:32.455Z"
   },
   {
    "duration": 4,
    "start_time": "2022-09-02T13:04:32.871Z"
   },
   {
    "duration": 11,
    "start_time": "2022-09-02T13:04:32.876Z"
   },
   {
    "duration": 965,
    "start_time": "2022-09-02T13:04:32.890Z"
   },
   {
    "duration": 943,
    "start_time": "2022-09-02T13:04:33.857Z"
   },
   {
    "duration": 974,
    "start_time": "2022-09-02T13:04:34.802Z"
   },
   {
    "duration": 7,
    "start_time": "2022-09-03T07:56:54.496Z"
   },
   {
    "duration": 1382,
    "start_time": "2022-09-03T07:56:59.302Z"
   },
   {
    "duration": 1290,
    "start_time": "2022-09-03T07:59:44.162Z"
   },
   {
    "duration": 3,
    "start_time": "2022-09-03T07:59:45.454Z"
   },
   {
    "duration": 420,
    "start_time": "2022-09-03T07:59:45.458Z"
   },
   {
    "duration": 244,
    "start_time": "2022-09-03T07:59:45.880Z"
   },
   {
    "duration": 305,
    "start_time": "2022-09-03T07:59:46.125Z"
   },
   {
    "duration": 18,
    "start_time": "2022-09-03T07:59:46.432Z"
   },
   {
    "duration": 11,
    "start_time": "2022-09-03T07:59:46.452Z"
   },
   {
    "duration": 12,
    "start_time": "2022-09-03T07:59:46.465Z"
   },
   {
    "duration": 6,
    "start_time": "2022-09-03T07:59:46.487Z"
   },
   {
    "duration": 8,
    "start_time": "2022-09-03T07:59:46.497Z"
   },
   {
    "duration": 7,
    "start_time": "2022-09-03T07:59:46.507Z"
   },
   {
    "duration": 407,
    "start_time": "2022-09-03T07:59:46.516Z"
   },
   {
    "duration": 204,
    "start_time": "2022-09-03T07:59:46.924Z"
   },
   {
    "duration": 437,
    "start_time": "2022-09-03T07:59:47.129Z"
   },
   {
    "duration": 22,
    "start_time": "2022-09-03T07:59:47.568Z"
   },
   {
    "duration": 14,
    "start_time": "2022-09-03T07:59:47.591Z"
   },
   {
    "duration": 14,
    "start_time": "2022-09-03T07:59:47.606Z"
   },
   {
    "duration": 4,
    "start_time": "2022-09-03T07:59:47.622Z"
   },
   {
    "duration": 67,
    "start_time": "2022-09-03T07:59:47.628Z"
   },
   {
    "duration": 195,
    "start_time": "2022-09-03T07:59:47.696Z"
   },
   {
    "duration": 195,
    "start_time": "2022-09-03T07:59:47.893Z"
   },
   {
    "duration": 187,
    "start_time": "2022-09-03T07:59:48.090Z"
   },
   {
    "duration": 0,
    "start_time": "2022-09-03T07:59:48.278Z"
   },
   {
    "duration": 0,
    "start_time": "2022-09-03T07:59:48.279Z"
   },
   {
    "duration": 0,
    "start_time": "2022-09-03T07:59:48.279Z"
   },
   {
    "duration": 0,
    "start_time": "2022-09-03T07:59:48.280Z"
   },
   {
    "duration": 0,
    "start_time": "2022-09-03T07:59:48.280Z"
   },
   {
    "duration": 0,
    "start_time": "2022-09-03T07:59:48.286Z"
   },
   {
    "duration": 0,
    "start_time": "2022-09-03T07:59:48.287Z"
   },
   {
    "duration": 0,
    "start_time": "2022-09-03T07:59:48.288Z"
   },
   {
    "duration": 4,
    "start_time": "2022-09-03T08:00:49.397Z"
   },
   {
    "duration": 1243,
    "start_time": "2022-09-03T08:00:56.636Z"
   },
   {
    "duration": 3,
    "start_time": "2022-09-03T08:00:57.881Z"
   },
   {
    "duration": 197,
    "start_time": "2022-09-03T08:00:57.886Z"
   },
   {
    "duration": 156,
    "start_time": "2022-09-03T08:00:58.086Z"
   },
   {
    "duration": 160,
    "start_time": "2022-09-03T08:00:58.244Z"
   },
   {
    "duration": 14,
    "start_time": "2022-09-03T08:00:58.406Z"
   },
   {
    "duration": 12,
    "start_time": "2022-09-03T08:00:58.422Z"
   },
   {
    "duration": 9,
    "start_time": "2022-09-03T08:00:58.435Z"
   },
   {
    "duration": 4,
    "start_time": "2022-09-03T08:00:58.447Z"
   },
   {
    "duration": 16,
    "start_time": "2022-09-03T08:00:58.453Z"
   },
   {
    "duration": 4,
    "start_time": "2022-09-03T08:00:58.470Z"
   },
   {
    "duration": 387,
    "start_time": "2022-09-03T08:00:58.475Z"
   },
   {
    "duration": 194,
    "start_time": "2022-09-03T08:00:58.864Z"
   },
   {
    "duration": 434,
    "start_time": "2022-09-03T08:00:59.060Z"
   },
   {
    "duration": 17,
    "start_time": "2022-09-03T08:00:59.495Z"
   },
   {
    "duration": 13,
    "start_time": "2022-09-03T08:00:59.513Z"
   },
   {
    "duration": 13,
    "start_time": "2022-09-03T08:00:59.527Z"
   },
   {
    "duration": 4,
    "start_time": "2022-09-03T08:00:59.542Z"
   },
   {
    "duration": 144,
    "start_time": "2022-09-03T08:00:59.548Z"
   },
   {
    "duration": 194,
    "start_time": "2022-09-03T08:00:59.695Z"
   },
   {
    "duration": 110,
    "start_time": "2022-09-03T08:00:59.891Z"
   },
   {
    "duration": 97,
    "start_time": "2022-09-03T08:01:00.091Z"
   },
   {
    "duration": 358,
    "start_time": "2022-09-03T08:01:00.190Z"
   },
   {
    "duration": 372,
    "start_time": "2022-09-03T08:01:00.551Z"
   },
   {
    "duration": 379,
    "start_time": "2022-09-03T08:01:00.925Z"
   },
   {
    "duration": 3,
    "start_time": "2022-09-03T08:01:01.306Z"
   },
   {
    "duration": 26,
    "start_time": "2022-09-03T08:01:01.310Z"
   },
   {
    "duration": 115,
    "start_time": "2022-09-03T08:01:01.338Z"
   },
   {
    "duration": 0,
    "start_time": "2022-09-03T08:01:01.454Z"
   },
   {
    "duration": 1,
    "start_time": "2022-09-03T08:01:01.455Z"
   },
   {
    "duration": 5,
    "start_time": "2022-09-03T08:02:53.961Z"
   },
   {
    "duration": 14,
    "start_time": "2022-09-03T08:02:57.949Z"
   },
   {
    "duration": 5,
    "start_time": "2022-09-03T08:03:13.472Z"
   },
   {
    "duration": 17,
    "start_time": "2022-09-03T08:03:15.981Z"
   },
   {
    "duration": 3,
    "start_time": "2022-09-03T08:04:34.606Z"
   },
   {
    "duration": 1349,
    "start_time": "2022-09-03T08:04:39.379Z"
   },
   {
    "duration": 3,
    "start_time": "2022-09-03T08:04:40.730Z"
   },
   {
    "duration": 188,
    "start_time": "2022-09-03T08:04:40.734Z"
   },
   {
    "duration": 160,
    "start_time": "2022-09-03T08:04:40.924Z"
   },
   {
    "duration": 163,
    "start_time": "2022-09-03T08:04:41.087Z"
   },
   {
    "duration": 14,
    "start_time": "2022-09-03T08:04:41.252Z"
   },
   {
    "duration": 7,
    "start_time": "2022-09-03T08:04:41.268Z"
   },
   {
    "duration": 6,
    "start_time": "2022-09-03T08:04:41.287Z"
   },
   {
    "duration": 7,
    "start_time": "2022-09-03T08:04:41.295Z"
   },
   {
    "duration": 6,
    "start_time": "2022-09-03T08:04:41.304Z"
   },
   {
    "duration": 3,
    "start_time": "2022-09-03T08:04:41.312Z"
   },
   {
    "duration": 386,
    "start_time": "2022-09-03T08:04:41.317Z"
   },
   {
    "duration": 197,
    "start_time": "2022-09-03T08:04:41.704Z"
   },
   {
    "duration": 430,
    "start_time": "2022-09-03T08:04:41.903Z"
   },
   {
    "duration": 16,
    "start_time": "2022-09-03T08:04:42.335Z"
   },
   {
    "duration": 13,
    "start_time": "2022-09-03T08:04:42.352Z"
   },
   {
    "duration": 30,
    "start_time": "2022-09-03T08:04:42.367Z"
   },
   {
    "duration": 4,
    "start_time": "2022-09-03T08:04:42.399Z"
   },
   {
    "duration": 86,
    "start_time": "2022-09-03T08:04:42.404Z"
   },
   {
    "duration": 197,
    "start_time": "2022-09-03T08:04:42.492Z"
   },
   {
    "duration": 196,
    "start_time": "2022-09-03T08:04:42.691Z"
   },
   {
    "duration": 5,
    "start_time": "2022-09-03T08:04:42.890Z"
   },
   {
    "duration": 453,
    "start_time": "2022-09-03T08:04:42.897Z"
   },
   {
    "duration": 350,
    "start_time": "2022-09-03T08:04:43.351Z"
   },
   {
    "duration": 367,
    "start_time": "2022-09-03T08:04:43.703Z"
   },
   {
    "duration": 3,
    "start_time": "2022-09-03T08:04:44.072Z"
   },
   {
    "duration": 12,
    "start_time": "2022-09-03T08:04:44.076Z"
   },
   {
    "duration": 884,
    "start_time": "2022-09-03T08:04:44.091Z"
   },
   {
    "duration": 852,
    "start_time": "2022-09-03T08:04:44.977Z"
   },
   {
    "duration": 999,
    "start_time": "2022-09-03T08:04:45.831Z"
   },
   {
    "duration": 1213,
    "start_time": "2022-09-03T08:06:52.439Z"
   },
   {
    "duration": 3,
    "start_time": "2022-09-03T08:06:53.654Z"
   },
   {
    "duration": 191,
    "start_time": "2022-09-03T08:06:53.658Z"
   },
   {
    "duration": 174,
    "start_time": "2022-09-03T08:06:53.851Z"
   },
   {
    "duration": 171,
    "start_time": "2022-09-03T08:06:54.027Z"
   },
   {
    "duration": 15,
    "start_time": "2022-09-03T08:06:54.200Z"
   },
   {
    "duration": 14,
    "start_time": "2022-09-03T08:06:54.216Z"
   },
   {
    "duration": 9,
    "start_time": "2022-09-03T08:06:54.232Z"
   },
   {
    "duration": 6,
    "start_time": "2022-09-03T08:06:54.243Z"
   },
   {
    "duration": 8,
    "start_time": "2022-09-03T08:06:54.251Z"
   },
   {
    "duration": 7,
    "start_time": "2022-09-03T08:06:54.261Z"
   },
   {
    "duration": 402,
    "start_time": "2022-09-03T08:06:54.269Z"
   },
   {
    "duration": 199,
    "start_time": "2022-09-03T08:06:54.673Z"
   },
   {
    "duration": 437,
    "start_time": "2022-09-03T08:06:54.874Z"
   },
   {
    "duration": 19,
    "start_time": "2022-09-03T08:06:55.313Z"
   },
   {
    "duration": 15,
    "start_time": "2022-09-03T08:06:55.333Z"
   },
   {
    "duration": 40,
    "start_time": "2022-09-03T08:06:55.350Z"
   },
   {
    "duration": 4,
    "start_time": "2022-09-03T08:06:55.392Z"
   },
   {
    "duration": 90,
    "start_time": "2022-09-03T08:06:55.398Z"
   },
   {
    "duration": 120,
    "start_time": "2022-09-03T08:06:55.490Z"
   },
   {
    "duration": 118,
    "start_time": "2022-09-03T08:06:55.689Z"
   },
   {
    "duration": 5,
    "start_time": "2022-09-03T08:06:55.889Z"
   },
   {
    "duration": 518,
    "start_time": "2022-09-03T08:06:55.896Z"
   },
   {
    "duration": 385,
    "start_time": "2022-09-03T08:06:56.416Z"
   },
   {
    "duration": 358,
    "start_time": "2022-09-03T08:06:56.802Z"
   },
   {
    "duration": 3,
    "start_time": "2022-09-03T08:06:57.161Z"
   },
   {
    "duration": 8,
    "start_time": "2022-09-03T08:06:57.166Z"
   },
   {
    "duration": 872,
    "start_time": "2022-09-03T08:06:57.176Z"
   },
   {
    "duration": 828,
    "start_time": "2022-09-03T08:06:58.049Z"
   },
   {
    "duration": 818,
    "start_time": "2022-09-03T08:06:58.879Z"
   },
   {
    "duration": 860,
    "start_time": "2022-09-03T08:15:34.649Z"
   },
   {
    "duration": 1297,
    "start_time": "2022-09-03T08:15:59.807Z"
   },
   {
    "duration": 3,
    "start_time": "2022-09-03T08:16:01.106Z"
   },
   {
    "duration": 223,
    "start_time": "2022-09-03T08:16:01.111Z"
   },
   {
    "duration": 178,
    "start_time": "2022-09-03T08:16:01.337Z"
   },
   {
    "duration": 190,
    "start_time": "2022-09-03T08:16:01.516Z"
   },
   {
    "duration": 82,
    "start_time": "2022-09-03T08:16:01.708Z"
   },
   {
    "duration": 74,
    "start_time": "2022-09-03T08:16:01.792Z"
   },
   {
    "duration": 94,
    "start_time": "2022-09-03T08:16:01.867Z"
   },
   {
    "duration": 25,
    "start_time": "2022-09-03T08:16:01.963Z"
   },
   {
    "duration": 15,
    "start_time": "2022-09-03T08:16:01.991Z"
   },
   {
    "duration": 23,
    "start_time": "2022-09-03T08:16:02.008Z"
   },
   {
    "duration": 19,
    "start_time": "2022-09-03T08:16:02.033Z"
   },
   {
    "duration": 56,
    "start_time": "2022-09-03T08:16:02.054Z"
   },
   {
    "duration": 32,
    "start_time": "2022-09-03T08:16:02.111Z"
   },
   {
    "duration": 395,
    "start_time": "2022-09-03T08:16:02.146Z"
   },
   {
    "duration": 196,
    "start_time": "2022-09-03T08:16:02.543Z"
   },
   {
    "duration": 472,
    "start_time": "2022-09-03T08:16:02.741Z"
   },
   {
    "duration": 19,
    "start_time": "2022-09-03T08:16:03.215Z"
   },
   {
    "duration": 14,
    "start_time": "2022-09-03T08:16:03.235Z"
   },
   {
    "duration": 37,
    "start_time": "2022-09-03T08:16:03.251Z"
   },
   {
    "duration": 5,
    "start_time": "2022-09-03T08:16:03.289Z"
   },
   {
    "duration": 96,
    "start_time": "2022-09-03T08:16:03.295Z"
   },
   {
    "duration": 195,
    "start_time": "2022-09-03T08:16:03.392Z"
   },
   {
    "duration": 198,
    "start_time": "2022-09-03T08:16:03.590Z"
   },
   {
    "duration": 6,
    "start_time": "2022-09-03T08:16:03.791Z"
   },
   {
    "duration": 453,
    "start_time": "2022-09-03T08:16:03.887Z"
   },
   {
    "duration": 392,
    "start_time": "2022-09-03T08:16:04.343Z"
   },
   {
    "duration": 371,
    "start_time": "2022-09-03T08:16:04.739Z"
   },
   {
    "duration": 4,
    "start_time": "2022-09-03T08:16:05.111Z"
   },
   {
    "duration": 8,
    "start_time": "2022-09-03T08:16:05.117Z"
   },
   {
    "duration": 886,
    "start_time": "2022-09-03T08:16:05.127Z"
   },
   {
    "duration": 1013,
    "start_time": "2022-09-03T08:16:06.018Z"
   },
   {
    "duration": 913,
    "start_time": "2022-09-03T08:16:07.032Z"
   },
   {
    "duration": 83,
    "start_time": "2022-09-03T08:24:12.911Z"
   },
   {
    "duration": 102,
    "start_time": "2022-09-03T08:24:37.342Z"
   },
   {
    "duration": 772,
    "start_time": "2022-09-03T08:24:45.041Z"
   },
   {
    "duration": 1269,
    "start_time": "2022-09-03T08:24:55.442Z"
   },
   {
    "duration": 3,
    "start_time": "2022-09-03T08:24:56.713Z"
   },
   {
    "duration": 195,
    "start_time": "2022-09-03T08:24:56.718Z"
   },
   {
    "duration": 164,
    "start_time": "2022-09-03T08:24:56.916Z"
   },
   {
    "duration": 164,
    "start_time": "2022-09-03T08:24:57.081Z"
   },
   {
    "duration": 16,
    "start_time": "2022-09-03T08:24:57.247Z"
   },
   {
    "duration": 62,
    "start_time": "2022-09-03T08:24:57.264Z"
   },
   {
    "duration": 74,
    "start_time": "2022-09-03T08:24:57.328Z"
   },
   {
    "duration": 16,
    "start_time": "2022-09-03T08:24:57.403Z"
   },
   {
    "duration": 6,
    "start_time": "2022-09-03T08:24:57.421Z"
   },
   {
    "duration": 9,
    "start_time": "2022-09-03T08:24:57.428Z"
   },
   {
    "duration": 12,
    "start_time": "2022-09-03T08:24:57.438Z"
   },
   {
    "duration": 19,
    "start_time": "2022-09-03T08:24:57.451Z"
   },
   {
    "duration": 7,
    "start_time": "2022-09-03T08:24:57.472Z"
   },
   {
    "duration": 384,
    "start_time": "2022-09-03T08:24:57.480Z"
   },
   {
    "duration": 202,
    "start_time": "2022-09-03T08:24:57.865Z"
   },
   {
    "duration": 431,
    "start_time": "2022-09-03T08:24:58.069Z"
   },
   {
    "duration": 15,
    "start_time": "2022-09-03T08:24:58.502Z"
   },
   {
    "duration": 13,
    "start_time": "2022-09-03T08:24:58.518Z"
   },
   {
    "duration": 14,
    "start_time": "2022-09-03T08:24:58.532Z"
   },
   {
    "duration": 4,
    "start_time": "2022-09-03T08:24:58.548Z"
   },
   {
    "duration": 134,
    "start_time": "2022-09-03T08:24:58.553Z"
   },
   {
    "duration": 196,
    "start_time": "2022-09-03T08:24:58.692Z"
   },
   {
    "duration": 196,
    "start_time": "2022-09-03T08:24:58.891Z"
   },
   {
    "duration": 5,
    "start_time": "2022-09-03T08:24:59.090Z"
   },
   {
    "duration": 447,
    "start_time": "2022-09-03T08:24:59.096Z"
   },
   {
    "duration": 378,
    "start_time": "2022-09-03T08:24:59.545Z"
   },
   {
    "duration": 400,
    "start_time": "2022-09-03T08:24:59.926Z"
   },
   {
    "duration": 3,
    "start_time": "2022-09-03T08:25:00.328Z"
   },
   {
    "duration": 12,
    "start_time": "2022-09-03T08:25:00.332Z"
   },
   {
    "duration": 872,
    "start_time": "2022-09-03T08:25:00.345Z"
   },
   {
    "duration": 868,
    "start_time": "2022-09-03T08:25:01.219Z"
   },
   {
    "duration": 887,
    "start_time": "2022-09-03T08:25:02.089Z"
   },
   {
    "duration": 1266,
    "start_time": "2022-09-03T08:29:14.429Z"
   },
   {
    "duration": 3,
    "start_time": "2022-09-03T08:29:15.697Z"
   },
   {
    "duration": 217,
    "start_time": "2022-09-03T08:29:15.703Z"
   },
   {
    "duration": 192,
    "start_time": "2022-09-03T08:29:15.923Z"
   },
   {
    "duration": 208,
    "start_time": "2022-09-03T08:29:16.117Z"
   },
   {
    "duration": 113,
    "start_time": "2022-09-03T08:29:16.327Z"
   },
   {
    "duration": 23,
    "start_time": "2022-09-03T08:29:16.442Z"
   },
   {
    "duration": 127,
    "start_time": "2022-09-03T08:29:16.467Z"
   },
   {
    "duration": 54,
    "start_time": "2022-09-03T08:29:16.596Z"
   },
   {
    "duration": 98,
    "start_time": "2022-09-03T08:29:16.652Z"
   },
   {
    "duration": 49,
    "start_time": "2022-09-03T08:29:16.752Z"
   },
   {
    "duration": 16,
    "start_time": "2022-09-03T08:29:16.802Z"
   },
   {
    "duration": 11,
    "start_time": "2022-09-03T08:29:16.821Z"
   },
   {
    "duration": 12,
    "start_time": "2022-09-03T08:29:16.833Z"
   },
   {
    "duration": 5,
    "start_time": "2022-09-03T08:29:16.847Z"
   },
   {
    "duration": 6,
    "start_time": "2022-09-03T08:29:16.854Z"
   },
   {
    "duration": 4,
    "start_time": "2022-09-03T08:29:16.886Z"
   },
   {
    "duration": 406,
    "start_time": "2022-09-03T08:29:16.891Z"
   },
   {
    "duration": 212,
    "start_time": "2022-09-03T08:29:17.299Z"
   },
   {
    "duration": 532,
    "start_time": "2022-09-03T08:29:17.513Z"
   },
   {
    "duration": 18,
    "start_time": "2022-09-03T08:29:18.048Z"
   },
   {
    "duration": 25,
    "start_time": "2022-09-03T08:29:18.069Z"
   },
   {
    "duration": 16,
    "start_time": "2022-09-03T08:29:18.096Z"
   },
   {
    "duration": 5,
    "start_time": "2022-09-03T08:29:18.114Z"
   },
   {
    "duration": 166,
    "start_time": "2022-09-03T08:29:18.121Z"
   },
   {
    "duration": 197,
    "start_time": "2022-09-03T08:29:18.290Z"
   },
   {
    "duration": 101,
    "start_time": "2022-09-03T08:29:18.489Z"
   },
   {
    "duration": 95,
    "start_time": "2022-09-03T08:29:18.595Z"
   },
   {
    "duration": 381,
    "start_time": "2022-09-03T08:29:18.692Z"
   },
   {
    "duration": 384,
    "start_time": "2022-09-03T08:29:19.074Z"
   },
   {
    "duration": 384,
    "start_time": "2022-09-03T08:29:19.460Z"
   },
   {
    "duration": 3,
    "start_time": "2022-09-03T08:29:19.846Z"
   },
   {
    "duration": 5,
    "start_time": "2022-09-03T08:29:19.852Z"
   },
   {
    "duration": 906,
    "start_time": "2022-09-03T08:29:19.859Z"
   },
   {
    "duration": 857,
    "start_time": "2022-09-03T08:29:20.766Z"
   },
   {
    "duration": 841,
    "start_time": "2022-09-03T08:29:21.624Z"
   },
   {
    "duration": 1231,
    "start_time": "2022-09-03T08:31:21.316Z"
   },
   {
    "duration": 3,
    "start_time": "2022-09-03T08:31:22.549Z"
   },
   {
    "duration": 195,
    "start_time": "2022-09-03T08:31:22.553Z"
   },
   {
    "duration": 165,
    "start_time": "2022-09-03T08:31:22.750Z"
   },
   {
    "duration": 177,
    "start_time": "2022-09-03T08:31:22.917Z"
   },
   {
    "duration": 66,
    "start_time": "2022-09-03T08:31:23.096Z"
   },
   {
    "duration": 52,
    "start_time": "2022-09-03T08:31:23.164Z"
   },
   {
    "duration": 74,
    "start_time": "2022-09-03T08:31:23.217Z"
   },
   {
    "duration": 38,
    "start_time": "2022-09-03T08:31:23.293Z"
   },
   {
    "duration": 88,
    "start_time": "2022-09-03T08:31:23.333Z"
   },
   {
    "duration": 38,
    "start_time": "2022-09-03T08:31:23.422Z"
   },
   {
    "duration": 32,
    "start_time": "2022-09-03T08:31:23.462Z"
   },
   {
    "duration": 5,
    "start_time": "2022-09-03T08:31:23.496Z"
   },
   {
    "duration": 6,
    "start_time": "2022-09-03T08:31:23.504Z"
   },
   {
    "duration": 8,
    "start_time": "2022-09-03T08:31:23.512Z"
   },
   {
    "duration": 9,
    "start_time": "2022-09-03T08:31:23.521Z"
   },
   {
    "duration": 3,
    "start_time": "2022-09-03T08:31:23.532Z"
   },
   {
    "duration": 393,
    "start_time": "2022-09-03T08:31:23.537Z"
   },
   {
    "duration": 218,
    "start_time": "2022-09-03T08:31:23.931Z"
   },
   {
    "duration": 460,
    "start_time": "2022-09-03T08:31:24.151Z"
   },
   {
    "duration": 14,
    "start_time": "2022-09-03T08:31:24.612Z"
   },
   {
    "duration": 13,
    "start_time": "2022-09-03T08:31:24.628Z"
   },
   {
    "duration": 13,
    "start_time": "2022-09-03T08:31:24.643Z"
   },
   {
    "duration": 30,
    "start_time": "2022-09-03T08:31:24.658Z"
   },
   {
    "duration": 101,
    "start_time": "2022-09-03T08:31:24.690Z"
   },
   {
    "duration": 195,
    "start_time": "2022-09-03T08:31:24.793Z"
   },
   {
    "duration": 120,
    "start_time": "2022-09-03T08:31:24.991Z"
   },
   {
    "duration": 76,
    "start_time": "2022-09-03T08:31:25.113Z"
   },
   {
    "duration": 440,
    "start_time": "2022-09-03T08:31:25.192Z"
   },
   {
    "duration": 359,
    "start_time": "2022-09-03T08:31:25.633Z"
   },
   {
    "duration": 451,
    "start_time": "2022-09-03T08:31:25.994Z"
   },
   {
    "duration": 4,
    "start_time": "2022-09-03T08:31:26.446Z"
   },
   {
    "duration": 11,
    "start_time": "2022-09-03T08:31:26.451Z"
   },
   {
    "duration": 884,
    "start_time": "2022-09-03T08:31:26.464Z"
   },
   {
    "duration": 853,
    "start_time": "2022-09-03T08:31:27.350Z"
   },
   {
    "duration": 833,
    "start_time": "2022-09-03T08:31:28.205Z"
   },
   {
    "duration": 1262,
    "start_time": "2022-09-03T08:33:55.010Z"
   },
   {
    "duration": 3,
    "start_time": "2022-09-03T08:33:56.275Z"
   },
   {
    "duration": 232,
    "start_time": "2022-09-03T08:33:56.280Z"
   },
   {
    "duration": 177,
    "start_time": "2022-09-03T08:33:56.514Z"
   },
   {
    "duration": 167,
    "start_time": "2022-09-03T08:33:56.693Z"
   },
   {
    "duration": 56,
    "start_time": "2022-09-03T08:33:56.862Z"
   },
   {
    "duration": 38,
    "start_time": "2022-09-03T08:33:56.920Z"
   },
   {
    "duration": 69,
    "start_time": "2022-09-03T08:33:56.960Z"
   },
   {
    "duration": 30,
    "start_time": "2022-09-03T08:33:57.031Z"
   },
   {
    "duration": 128,
    "start_time": "2022-09-03T08:33:57.064Z"
   },
   {
    "duration": 0,
    "start_time": "2022-09-03T08:33:57.195Z"
   },
   {
    "duration": 0,
    "start_time": "2022-09-03T08:33:57.196Z"
   },
   {
    "duration": 0,
    "start_time": "2022-09-03T08:33:57.197Z"
   },
   {
    "duration": 0,
    "start_time": "2022-09-03T08:33:57.199Z"
   },
   {
    "duration": 0,
    "start_time": "2022-09-03T08:33:57.200Z"
   },
   {
    "duration": 0,
    "start_time": "2022-09-03T08:33:57.201Z"
   },
   {
    "duration": 0,
    "start_time": "2022-09-03T08:33:57.203Z"
   },
   {
    "duration": 0,
    "start_time": "2022-09-03T08:33:57.204Z"
   },
   {
    "duration": 0,
    "start_time": "2022-09-03T08:33:57.205Z"
   },
   {
    "duration": 1,
    "start_time": "2022-09-03T08:33:57.206Z"
   },
   {
    "duration": 0,
    "start_time": "2022-09-03T08:33:57.208Z"
   },
   {
    "duration": 0,
    "start_time": "2022-09-03T08:33:57.209Z"
   },
   {
    "duration": 0,
    "start_time": "2022-09-03T08:33:57.210Z"
   },
   {
    "duration": 0,
    "start_time": "2022-09-03T08:33:57.211Z"
   },
   {
    "duration": 0,
    "start_time": "2022-09-03T08:33:57.212Z"
   },
   {
    "duration": 0,
    "start_time": "2022-09-03T08:33:57.213Z"
   },
   {
    "duration": 0,
    "start_time": "2022-09-03T08:33:57.215Z"
   },
   {
    "duration": 0,
    "start_time": "2022-09-03T08:33:57.216Z"
   },
   {
    "duration": 0,
    "start_time": "2022-09-03T08:33:57.217Z"
   },
   {
    "duration": 0,
    "start_time": "2022-09-03T08:33:57.219Z"
   },
   {
    "duration": 0,
    "start_time": "2022-09-03T08:33:57.220Z"
   },
   {
    "duration": 0,
    "start_time": "2022-09-03T08:33:57.221Z"
   },
   {
    "duration": 0,
    "start_time": "2022-09-03T08:33:57.222Z"
   },
   {
    "duration": 0,
    "start_time": "2022-09-03T08:33:57.223Z"
   },
   {
    "duration": 0,
    "start_time": "2022-09-03T08:33:57.224Z"
   },
   {
    "duration": 0,
    "start_time": "2022-09-03T08:33:57.225Z"
   },
   {
    "duration": 51,
    "start_time": "2022-09-03T08:35:17.127Z"
   },
   {
    "duration": 84,
    "start_time": "2022-09-03T08:35:26.180Z"
   },
   {
    "duration": 57,
    "start_time": "2022-09-03T08:35:28.293Z"
   },
   {
    "duration": 51,
    "start_time": "2022-09-03T08:35:35.545Z"
   },
   {
    "duration": 54,
    "start_time": "2022-09-03T08:35:36.927Z"
   },
   {
    "duration": 48,
    "start_time": "2022-09-03T08:35:38.071Z"
   },
   {
    "duration": 1316,
    "start_time": "2022-09-03T08:59:42.489Z"
   },
   {
    "duration": 0,
    "start_time": "2022-09-03T08:59:43.809Z"
   },
   {
    "duration": 0,
    "start_time": "2022-09-03T08:59:43.810Z"
   },
   {
    "duration": 0,
    "start_time": "2022-09-03T08:59:43.811Z"
   },
   {
    "duration": 0,
    "start_time": "2022-09-03T08:59:43.812Z"
   },
   {
    "duration": 0,
    "start_time": "2022-09-03T08:59:43.814Z"
   },
   {
    "duration": 0,
    "start_time": "2022-09-03T08:59:43.815Z"
   },
   {
    "duration": 0,
    "start_time": "2022-09-03T08:59:43.816Z"
   },
   {
    "duration": 0,
    "start_time": "2022-09-03T08:59:43.817Z"
   },
   {
    "duration": 0,
    "start_time": "2022-09-03T08:59:43.818Z"
   },
   {
    "duration": 0,
    "start_time": "2022-09-03T08:59:43.818Z"
   },
   {
    "duration": 0,
    "start_time": "2022-09-03T08:59:43.820Z"
   },
   {
    "duration": 0,
    "start_time": "2022-09-03T08:59:43.821Z"
   },
   {
    "duration": 0,
    "start_time": "2022-09-03T08:59:43.822Z"
   },
   {
    "duration": 0,
    "start_time": "2022-09-03T08:59:43.823Z"
   },
   {
    "duration": 0,
    "start_time": "2022-09-03T08:59:43.824Z"
   },
   {
    "duration": 0,
    "start_time": "2022-09-03T08:59:43.826Z"
   },
   {
    "duration": 0,
    "start_time": "2022-09-03T08:59:43.826Z"
   },
   {
    "duration": 0,
    "start_time": "2022-09-03T08:59:43.827Z"
   },
   {
    "duration": 0,
    "start_time": "2022-09-03T08:59:43.828Z"
   },
   {
    "duration": 0,
    "start_time": "2022-09-03T08:59:43.829Z"
   },
   {
    "duration": 0,
    "start_time": "2022-09-03T08:59:43.830Z"
   },
   {
    "duration": 0,
    "start_time": "2022-09-03T08:59:43.831Z"
   },
   {
    "duration": 0,
    "start_time": "2022-09-03T08:59:43.832Z"
   },
   {
    "duration": 0,
    "start_time": "2022-09-03T08:59:43.834Z"
   },
   {
    "duration": 0,
    "start_time": "2022-09-03T08:59:43.834Z"
   },
   {
    "duration": 0,
    "start_time": "2022-09-03T08:59:43.835Z"
   },
   {
    "duration": 0,
    "start_time": "2022-09-03T08:59:43.836Z"
   },
   {
    "duration": 0,
    "start_time": "2022-09-03T08:59:43.837Z"
   },
   {
    "duration": 0,
    "start_time": "2022-09-03T08:59:43.838Z"
   },
   {
    "duration": 0,
    "start_time": "2022-09-03T08:59:43.839Z"
   },
   {
    "duration": 0,
    "start_time": "2022-09-03T08:59:43.888Z"
   },
   {
    "duration": 0,
    "start_time": "2022-09-03T08:59:43.889Z"
   },
   {
    "duration": 200,
    "start_time": "2022-09-03T09:00:38.452Z"
   },
   {
    "duration": 3,
    "start_time": "2022-09-03T09:00:41.434Z"
   },
   {
    "duration": 1246,
    "start_time": "2022-09-03T09:00:49.917Z"
   },
   {
    "duration": 3,
    "start_time": "2022-09-03T09:00:51.165Z"
   },
   {
    "duration": 200,
    "start_time": "2022-09-03T09:00:51.169Z"
   },
   {
    "duration": 158,
    "start_time": "2022-09-03T09:00:51.371Z"
   },
   {
    "duration": 164,
    "start_time": "2022-09-03T09:00:51.531Z"
   },
   {
    "duration": 52,
    "start_time": "2022-09-03T09:00:51.697Z"
   },
   {
    "duration": 64,
    "start_time": "2022-09-03T09:00:51.751Z"
   },
   {
    "duration": 46,
    "start_time": "2022-09-03T09:00:51.817Z"
   },
   {
    "duration": 31,
    "start_time": "2022-09-03T09:00:51.864Z"
   },
   {
    "duration": 3,
    "start_time": "2022-09-03T09:00:51.897Z"
   },
   {
    "duration": 8,
    "start_time": "2022-09-03T09:00:51.902Z"
   },
   {
    "duration": 20,
    "start_time": "2022-09-03T09:00:51.911Z"
   },
   {
    "duration": 4,
    "start_time": "2022-09-03T09:00:51.933Z"
   },
   {
    "duration": 4,
    "start_time": "2022-09-03T09:00:51.939Z"
   },
   {
    "duration": 375,
    "start_time": "2022-09-03T09:00:51.945Z"
   },
   {
    "duration": 200,
    "start_time": "2022-09-03T09:00:52.322Z"
   },
   {
    "duration": 454,
    "start_time": "2022-09-03T09:00:52.524Z"
   },
   {
    "duration": 17,
    "start_time": "2022-09-03T09:00:52.980Z"
   },
   {
    "duration": 12,
    "start_time": "2022-09-03T09:00:52.999Z"
   },
   {
    "duration": 13,
    "start_time": "2022-09-03T09:00:53.013Z"
   },
   {
    "duration": 6,
    "start_time": "2022-09-03T09:00:53.028Z"
   },
   {
    "duration": 56,
    "start_time": "2022-09-03T09:00:53.035Z"
   },
   {
    "duration": 293,
    "start_time": "2022-09-03T09:00:53.093Z"
   },
   {
    "duration": 199,
    "start_time": "2022-09-03T09:00:53.390Z"
   },
   {
    "duration": 4,
    "start_time": "2022-09-03T09:00:53.592Z"
   },
   {
    "duration": 380,
    "start_time": "2022-09-03T09:00:53.687Z"
   },
   {
    "duration": 359,
    "start_time": "2022-09-03T09:00:54.069Z"
   },
   {
    "duration": 362,
    "start_time": "2022-09-03T09:00:54.431Z"
   },
   {
    "duration": 2,
    "start_time": "2022-09-03T09:00:54.795Z"
   },
   {
    "duration": 7,
    "start_time": "2022-09-03T09:00:54.799Z"
   },
   {
    "duration": 857,
    "start_time": "2022-09-03T09:00:54.808Z"
   },
   {
    "duration": 939,
    "start_time": "2022-09-03T09:00:55.666Z"
   },
   {
    "duration": 846,
    "start_time": "2022-09-03T09:00:56.607Z"
   },
   {
    "duration": 524,
    "start_time": "2022-09-03T09:05:36.292Z"
   },
   {
    "duration": 389,
    "start_time": "2022-09-03T09:05:56.427Z"
   },
   {
    "duration": 403,
    "start_time": "2022-09-03T09:05:59.812Z"
   },
   {
    "duration": 392,
    "start_time": "2022-09-03T09:06:03.629Z"
   },
   {
    "duration": 1254,
    "start_time": "2022-09-03T09:21:12.727Z"
   },
   {
    "duration": 3,
    "start_time": "2022-09-03T09:21:13.983Z"
   },
   {
    "duration": 206,
    "start_time": "2022-09-03T09:21:13.988Z"
   },
   {
    "duration": 172,
    "start_time": "2022-09-03T09:21:14.196Z"
   },
   {
    "duration": 181,
    "start_time": "2022-09-03T09:21:14.369Z"
   },
   {
    "duration": 66,
    "start_time": "2022-09-03T09:21:14.551Z"
   },
   {
    "duration": 68,
    "start_time": "2022-09-03T09:21:14.619Z"
   },
   {
    "duration": 51,
    "start_time": "2022-09-03T09:21:14.689Z"
   },
   {
    "duration": 17,
    "start_time": "2022-09-03T09:21:14.741Z"
   },
   {
    "duration": 7,
    "start_time": "2022-09-03T09:21:14.762Z"
   },
   {
    "duration": 12,
    "start_time": "2022-09-03T09:21:14.787Z"
   },
   {
    "duration": 6,
    "start_time": "2022-09-03T09:21:14.801Z"
   },
   {
    "duration": 4,
    "start_time": "2022-09-03T09:21:14.810Z"
   },
   {
    "duration": 6,
    "start_time": "2022-09-03T09:21:14.815Z"
   },
   {
    "duration": 430,
    "start_time": "2022-09-03T09:21:14.822Z"
   },
   {
    "duration": 214,
    "start_time": "2022-09-03T09:21:15.254Z"
   },
   {
    "duration": 485,
    "start_time": "2022-09-03T09:21:15.470Z"
   },
   {
    "duration": 18,
    "start_time": "2022-09-03T09:21:15.956Z"
   },
   {
    "duration": 25,
    "start_time": "2022-09-03T09:21:15.975Z"
   },
   {
    "duration": 27,
    "start_time": "2022-09-03T09:21:16.002Z"
   },
   {
    "duration": 5,
    "start_time": "2022-09-03T09:21:16.031Z"
   },
   {
    "duration": 148,
    "start_time": "2022-09-03T09:21:16.040Z"
   },
   {
    "duration": 190,
    "start_time": "2022-09-03T09:21:16.196Z"
   },
   {
    "duration": 113,
    "start_time": "2022-09-03T09:21:16.394Z"
   },
   {
    "duration": 80,
    "start_time": "2022-09-03T09:21:16.509Z"
   },
   {
    "duration": 499,
    "start_time": "2022-09-03T09:21:16.591Z"
   },
   {
    "duration": 404,
    "start_time": "2022-09-03T09:21:17.092Z"
   },
   {
    "duration": 421,
    "start_time": "2022-09-03T09:21:17.499Z"
   },
   {
    "duration": 3,
    "start_time": "2022-09-03T09:21:17.922Z"
   },
   {
    "duration": 6,
    "start_time": "2022-09-03T09:21:17.927Z"
   },
   {
    "duration": 927,
    "start_time": "2022-09-03T09:21:17.934Z"
   },
   {
    "duration": 891,
    "start_time": "2022-09-03T09:21:18.863Z"
   },
   {
    "duration": 847,
    "start_time": "2022-09-03T09:21:19.756Z"
   }
  ],
  "kernelspec": {
   "display_name": "Python 3 (ipykernel)",
   "language": "python",
   "name": "python3"
  },
  "language_info": {
   "codemirror_mode": {
    "name": "ipython",
    "version": 3
   },
   "file_extension": ".py",
   "mimetype": "text/x-python",
   "name": "python",
   "nbconvert_exporter": "python",
   "pygments_lexer": "ipython3",
   "version": "3.9.12"
  },
  "toc": {
   "base_numbering": 1,
   "nav_menu": {
    "height": "197px",
    "width": "297px"
   },
   "number_sections": true,
   "sideBar": true,
   "skip_h1_title": true,
   "title_cell": "Table of Contents",
   "title_sidebar": "Contents",
   "toc_cell": false,
   "toc_position": {},
   "toc_section_display": true,
   "toc_window_display": false
  }
 },
 "nbformat": 4,
 "nbformat_minor": 2
}
