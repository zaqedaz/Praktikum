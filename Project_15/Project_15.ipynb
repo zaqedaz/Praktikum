{
 "cells": [
  {
   "cell_type": "markdown",
   "metadata": {},
   "source": [
    "# Прогноз температуры плавления стали\n",
    "\n",
    "Металлургический комбинат ООО «Так закаляем сталь» с целью оптимизации производственных расходы, решил уменьшить потребление электроэнергии на этапе обработки стали. Необходимо построить модель, которая предскажет температуру стали."
   ]
  },
  {
   "cell_type": "markdown",
   "metadata": {},
   "source": [
    "**Описание этапа обработки**\n",
    "\n",
    "Сталь обрабатывают в металлическом ковше вместимостью около 100 тонн. Чтобы ковш выдерживал высокие температуры, изнутри его облицовывают огнеупорным кирпичом. Расплавленную сталь заливают в ковш и подогревают до нужной температуры графитовыми электродами. Они установлены в крышке ковша. \n",
    "\n",
    "Из сплава выводится сера (десульфурация), добавлением примесей корректируется химический состав и отбираются пробы. Сталь легируют — изменяют её состав — подавая куски сплава из бункера для сыпучих материалов или проволоку через специальный трайб-аппарат (англ. tribe, «масса»).\n",
    "\n",
    "Перед тем как первый раз ввести легирующие добавки, измеряют температуру стали и производят её химический анализ. Потом температуру на несколько минут повышают, добавляют легирующие материалы и продувают сплав инертным газом. Затем его перемешивают и снова проводят измерения. Такой цикл повторяется до достижения целевого химического состава и оптимальной температуры плавки.\n",
    "\n",
    "Тогда расплавленная сталь отправляется на доводку металла или поступает в машину непрерывной разливки. Оттуда готовый продукт выходит в виде заготовок-слябов (англ. *slab*, «плита»)."
   ]
  },
  {
   "cell_type": "markdown",
   "metadata": {},
   "source": [
    "**Описание данных**\n",
    "\n",
    "Данные состоят из файлов, полученных из разных источников:\n",
    "\n",
    "- data_arc.csv — данные об электродах;\n",
    "- data_bulk.csv — данные о подаче сыпучих материалов (объём);\n",
    "- data_bulk_time.csv — данные о подаче сыпучих материалов (время);\n",
    "- data_gas.csv — данные о продувке сплава газом;\n",
    "- data_temp.csv — результаты измерения температуры;\n",
    "- data_wire.csv — данные о проволочных материалах (объём);\n",
    "- data_wire_time.csv — данные о проволочных материалах (время).\n",
    "\n",
    "Во всех файлах столбец **key** содержит номер партии. В файлах может быть несколько строк с одинаковым значением key: они соответствуют разным итерациям обработки."
   ]
  },
  {
   "cell_type": "markdown",
   "metadata": {},
   "source": [
    "# План работы"
   ]
  },
  {
   "cell_type": "markdown",
   "metadata": {},
   "source": [
    "**1. Проведение обзора данных (EDA)**\n",
    "\n",
    "**Подготовка данных:** \n",
    "* Импорт необходимых библиотек;\n",
    "* Чтение файлов и получение общей информации о таблицах (head, info, describe);\n",
    "* Корректировка наименований столбцов (при необходимости).\n",
    "\n",
    "**Анализ данных:**\n",
    "* Графическое представление данных из таблиц;\n",
    "* Проверка данных на аномалии.\n",
    "\n",
    "**Предобработка данных:**\n",
    "* Корректировка типов данных (при необходимости);\n",
    "* Заполнение пропусков / удаление дубликатов (при наличии);\n",
    "* Выделение признаков и таргета;\n",
    "* Соединение таблиц.\n",
    "\n",
    "**2. Построение модели машинного обучения**\n",
    "\n",
    "**Обучение модели:**\n",
    "* Разделение данных на обучающую и тестовую выборки;\n",
    "* Обучение модели линейной регрессии;\n",
    "* Обучение модели градиентного бустинга с перебором гиперпараметров;\n",
    "* Выбор лучшей модели (по метрике MAE) \n",
    "\n",
    "**Тестирование модели:**\n",
    "* Проверка лучшей модели на тестовой выборке;\n",
    "* Если MAE на тестовых данных > 6.8 - доработка модели.\n",
    "\n",
    "**3. Общий вывод**"
   ]
  },
  {
   "cell_type": "markdown",
   "metadata": {},
   "source": [
    "## Подготовка и анализ данных"
   ]
  },
  {
   "cell_type": "markdown",
   "metadata": {},
   "source": [
    "### Импорт библиотек"
   ]
  },
  {
   "cell_type": "code",
   "execution_count": 1,
   "metadata": {},
   "outputs": [],
   "source": [
    "import pandas as pd\n",
    "import numpy as np\n",
    "import warnings\n",
    "import matplotlib.pyplot as plt\n",
    "import seaborn as sns\n",
    "\n",
    "from scipy import stats as st\n",
    "from sklearn.metrics import mean_absolute_error\n",
    "from sklearn.model_selection import train_test_split, cross_val_score, GridSearchCV\n",
    "from sklearn.linear_model import LinearRegression\n",
    "from sklearn.ensemble import RandomForestRegressor\n",
    "from sklearn.preprocessing import StandardScaler\n",
    "from sklearn.pipeline import Pipeline\n",
    "from lightgbm import LGBMRegressor\n",
    "from xgboost import XGBRegressor\n",
    "\n",
    "warnings.filterwarnings('ignore')"
   ]
  },
  {
   "cell_type": "code",
   "execution_count": 2,
   "metadata": {},
   "outputs": [],
   "source": [
    "random_state = 28102922\n",
    "cv_counts = 5"
   ]
  },
  {
   "cell_type": "markdown",
   "metadata": {},
   "source": [
    "### Чтение файлов и получение общей информации о таблицах"
   ]
  },
  {
   "cell_type": "markdown",
   "metadata": {},
   "source": [
    "#### Данные об электродах"
   ]
  },
  {
   "cell_type": "code",
   "execution_count": 3,
   "metadata": {},
   "outputs": [
    {
     "data": {
      "text/html": [
       "<div>\n",
       "<style scoped>\n",
       "    .dataframe tbody tr th:only-of-type {\n",
       "        vertical-align: middle;\n",
       "    }\n",
       "\n",
       "    .dataframe tbody tr th {\n",
       "        vertical-align: top;\n",
       "    }\n",
       "\n",
       "    .dataframe thead th {\n",
       "        text-align: right;\n",
       "    }\n",
       "</style>\n",
       "<table border=\"1\" class=\"dataframe\">\n",
       "  <thead>\n",
       "    <tr style=\"text-align: right;\">\n",
       "      <th></th>\n",
       "      <th>key</th>\n",
       "      <th>Начало нагрева дугой</th>\n",
       "      <th>Конец нагрева дугой</th>\n",
       "      <th>Активная мощность</th>\n",
       "      <th>Реактивная мощность</th>\n",
       "    </tr>\n",
       "  </thead>\n",
       "  <tbody>\n",
       "    <tr>\n",
       "      <th>0</th>\n",
       "      <td>1</td>\n",
       "      <td>2019-05-03 11:02:14</td>\n",
       "      <td>2019-05-03 11:06:02</td>\n",
       "      <td>0.976059</td>\n",
       "      <td>0.687084</td>\n",
       "    </tr>\n",
       "    <tr>\n",
       "      <th>1</th>\n",
       "      <td>1</td>\n",
       "      <td>2019-05-03 11:07:28</td>\n",
       "      <td>2019-05-03 11:10:33</td>\n",
       "      <td>0.805607</td>\n",
       "      <td>0.520285</td>\n",
       "    </tr>\n",
       "    <tr>\n",
       "      <th>2</th>\n",
       "      <td>1</td>\n",
       "      <td>2019-05-03 11:11:44</td>\n",
       "      <td>2019-05-03 11:14:36</td>\n",
       "      <td>0.744363</td>\n",
       "      <td>0.498805</td>\n",
       "    </tr>\n",
       "    <tr>\n",
       "      <th>3</th>\n",
       "      <td>1</td>\n",
       "      <td>2019-05-03 11:18:14</td>\n",
       "      <td>2019-05-03 11:24:19</td>\n",
       "      <td>1.659363</td>\n",
       "      <td>1.062669</td>\n",
       "    </tr>\n",
       "    <tr>\n",
       "      <th>4</th>\n",
       "      <td>1</td>\n",
       "      <td>2019-05-03 11:26:09</td>\n",
       "      <td>2019-05-03 11:28:37</td>\n",
       "      <td>0.692755</td>\n",
       "      <td>0.414397</td>\n",
       "    </tr>\n",
       "  </tbody>\n",
       "</table>\n",
       "</div>"
      ],
      "text/plain": [
       "   key Начало нагрева дугой  Конец нагрева дугой  Активная мощность  \\\n",
       "0    1  2019-05-03 11:02:14  2019-05-03 11:06:02           0.976059   \n",
       "1    1  2019-05-03 11:07:28  2019-05-03 11:10:33           0.805607   \n",
       "2    1  2019-05-03 11:11:44  2019-05-03 11:14:36           0.744363   \n",
       "3    1  2019-05-03 11:18:14  2019-05-03 11:24:19           1.659363   \n",
       "4    1  2019-05-03 11:26:09  2019-05-03 11:28:37           0.692755   \n",
       "\n",
       "   Реактивная мощность  \n",
       "0             0.687084  \n",
       "1             0.520285  \n",
       "2             0.498805  \n",
       "3             1.062669  \n",
       "4             0.414397  "
      ]
     },
     "metadata": {},
     "output_type": "display_data"
    },
    {
     "name": "stdout",
     "output_type": "stream",
     "text": [
      "<class 'pandas.core.frame.DataFrame'>\n",
      "RangeIndex: 14876 entries, 0 to 14875\n",
      "Data columns (total 5 columns):\n",
      " #   Column                Non-Null Count  Dtype  \n",
      "---  ------                --------------  -----  \n",
      " 0   key                   14876 non-null  int64  \n",
      " 1   Начало нагрева дугой  14876 non-null  object \n",
      " 2   Конец нагрева дугой   14876 non-null  object \n",
      " 3   Активная мощность     14876 non-null  float64\n",
      " 4   Реактивная мощность   14876 non-null  float64\n",
      "dtypes: float64(2), int64(1), object(2)\n",
      "memory usage: 581.2+ KB\n"
     ]
    },
    {
     "data": {
      "text/plain": [
       "None"
      ]
     },
     "metadata": {},
     "output_type": "display_data"
    },
    {
     "data": {
      "text/html": [
       "<div>\n",
       "<style scoped>\n",
       "    .dataframe tbody tr th:only-of-type {\n",
       "        vertical-align: middle;\n",
       "    }\n",
       "\n",
       "    .dataframe tbody tr th {\n",
       "        vertical-align: top;\n",
       "    }\n",
       "\n",
       "    .dataframe thead th {\n",
       "        text-align: right;\n",
       "    }\n",
       "</style>\n",
       "<table border=\"1\" class=\"dataframe\">\n",
       "  <thead>\n",
       "    <tr style=\"text-align: right;\">\n",
       "      <th></th>\n",
       "      <th>key</th>\n",
       "      <th>Активная мощность</th>\n",
       "      <th>Реактивная мощность</th>\n",
       "    </tr>\n",
       "  </thead>\n",
       "  <tbody>\n",
       "    <tr>\n",
       "      <th>count</th>\n",
       "      <td>14876.000000</td>\n",
       "      <td>14876.000000</td>\n",
       "      <td>14876.000000</td>\n",
       "    </tr>\n",
       "    <tr>\n",
       "      <th>mean</th>\n",
       "      <td>1615.220422</td>\n",
       "      <td>0.670441</td>\n",
       "      <td>0.452592</td>\n",
       "    </tr>\n",
       "    <tr>\n",
       "      <th>std</th>\n",
       "      <td>934.571502</td>\n",
       "      <td>0.408159</td>\n",
       "      <td>5.878702</td>\n",
       "    </tr>\n",
       "    <tr>\n",
       "      <th>min</th>\n",
       "      <td>1.000000</td>\n",
       "      <td>0.030002</td>\n",
       "      <td>-715.504924</td>\n",
       "    </tr>\n",
       "    <tr>\n",
       "      <th>25%</th>\n",
       "      <td>806.000000</td>\n",
       "      <td>0.395297</td>\n",
       "      <td>0.290991</td>\n",
       "    </tr>\n",
       "    <tr>\n",
       "      <th>50%</th>\n",
       "      <td>1617.000000</td>\n",
       "      <td>0.555517</td>\n",
       "      <td>0.415962</td>\n",
       "    </tr>\n",
       "    <tr>\n",
       "      <th>75%</th>\n",
       "      <td>2429.000000</td>\n",
       "      <td>0.857034</td>\n",
       "      <td>0.637371</td>\n",
       "    </tr>\n",
       "    <tr>\n",
       "      <th>max</th>\n",
       "      <td>3241.000000</td>\n",
       "      <td>3.731596</td>\n",
       "      <td>2.676388</td>\n",
       "    </tr>\n",
       "  </tbody>\n",
       "</table>\n",
       "</div>"
      ],
      "text/plain": [
       "                key  Активная мощность  Реактивная мощность\n",
       "count  14876.000000       14876.000000         14876.000000\n",
       "mean    1615.220422           0.670441             0.452592\n",
       "std      934.571502           0.408159             5.878702\n",
       "min        1.000000           0.030002          -715.504924\n",
       "25%      806.000000           0.395297             0.290991\n",
       "50%     1617.000000           0.555517             0.415962\n",
       "75%     2429.000000           0.857034             0.637371\n",
       "max     3241.000000           3.731596             2.676388"
      ]
     },
     "metadata": {},
     "output_type": "display_data"
    }
   ],
   "source": [
    "data_arc = pd.read_csv('/datasets/final_steel/data_arc.csv')\n",
    "display(data_arc.head())\n",
    "display(data_arc.info())\n",
    "display(data_arc.describe())"
   ]
  },
  {
   "cell_type": "markdown",
   "metadata": {},
   "source": [
    "Корректировка наименований столбцов"
   ]
  },
  {
   "cell_type": "code",
   "execution_count": 4,
   "metadata": {},
   "outputs": [],
   "source": [
    "data_arc = data_arc.rename(columns={'key': 'key', 'Начало нагрева дугой': 'start_heating',\n",
    "                                   'Конец нагрева дугой': 'end_heating', 'Активная мощность': 'active_power',\n",
    "                                   'Реактивная мощность': 'reactive_power'})"
   ]
  },
  {
   "cell_type": "code",
   "execution_count": 5,
   "metadata": {
    "scrolled": true
   },
   "outputs": [
    {
     "data": {
      "text/plain": [
       "<AxesSubplot:>"
      ]
     },
     "execution_count": 5,
     "metadata": {},
     "output_type": "execute_result"
    },
    {
     "data": {
      "image/png": "[encoded data removed]",
      "text/plain": [
       "<Figure size 1296x576 with 1 Axes>"
      ]
     },
     "metadata": {
      "needs_background": "light"
     },
     "output_type": "display_data"
    }
   ],
   "source": [
    "data_arc['active_power'].hist(bins=100, figsize=(18,8))"
   ]
  },
  {
   "cell_type": "code",
   "execution_count": 6,
   "metadata": {},
   "outputs": [
    {
     "data": {
      "text/plain": [
       "<AxesSubplot:>"
      ]
     },
     "execution_count": 6,
     "metadata": {},
     "output_type": "execute_result"
    },
    {
     "data": {
      "image/png": "[encoded data removed]",
      "text/plain": [
       "<Figure size 1296x576 with 1 Axes>"
      ]
     },
     "metadata": {
      "needs_background": "light"
     },
     "output_type": "display_data"
    }
   ],
   "source": [
    "data_arc[data_arc['reactive_power'] > 0]['reactive_power'].hist(bins=100, figsize=(18,8))"
   ]
  },
  {
   "cell_type": "code",
   "execution_count": 7,
   "metadata": {},
   "outputs": [
    {
     "data": {
      "text/plain": [
       "3214"
      ]
     },
     "execution_count": 7,
     "metadata": {},
     "output_type": "execute_result"
    }
   ],
   "source": [
    "len(data_arc['key'].unique())"
   ]
  },
  {
   "cell_type": "markdown",
   "metadata": {},
   "source": [
    "#### Данные о подаче сыпучих материалов (объём)"
   ]
  },
  {
   "cell_type": "code",
   "execution_count": 8,
   "metadata": {},
   "outputs": [
    {
     "data": {
      "text/html": [
       "<div>\n",
       "<style scoped>\n",
       "    .dataframe tbody tr th:only-of-type {\n",
       "        vertical-align: middle;\n",
       "    }\n",
       "\n",
       "    .dataframe tbody tr th {\n",
       "        vertical-align: top;\n",
       "    }\n",
       "\n",
       "    .dataframe thead th {\n",
       "        text-align: right;\n",
       "    }\n",
       "</style>\n",
       "<table border=\"1\" class=\"dataframe\">\n",
       "  <thead>\n",
       "    <tr style=\"text-align: right;\">\n",
       "      <th></th>\n",
       "      <th>key</th>\n",
       "      <th>Bulk 1</th>\n",
       "      <th>Bulk 2</th>\n",
       "      <th>Bulk 3</th>\n",
       "      <th>Bulk 4</th>\n",
       "      <th>Bulk 5</th>\n",
       "      <th>Bulk 6</th>\n",
       "      <th>Bulk 7</th>\n",
       "      <th>Bulk 8</th>\n",
       "      <th>Bulk 9</th>\n",
       "      <th>Bulk 10</th>\n",
       "      <th>Bulk 11</th>\n",
       "      <th>Bulk 12</th>\n",
       "      <th>Bulk 13</th>\n",
       "      <th>Bulk 14</th>\n",
       "      <th>Bulk 15</th>\n",
       "    </tr>\n",
       "  </thead>\n",
       "  <tbody>\n",
       "    <tr>\n",
       "      <th>0</th>\n",
       "      <td>1</td>\n",
       "      <td>NaN</td>\n",
       "      <td>NaN</td>\n",
       "      <td>NaN</td>\n",
       "      <td>43.0</td>\n",
       "      <td>NaN</td>\n",
       "      <td>NaN</td>\n",
       "      <td>NaN</td>\n",
       "      <td>NaN</td>\n",
       "      <td>NaN</td>\n",
       "      <td>NaN</td>\n",
       "      <td>NaN</td>\n",
       "      <td>206.0</td>\n",
       "      <td>NaN</td>\n",
       "      <td>150.0</td>\n",
       "      <td>154.0</td>\n",
       "    </tr>\n",
       "    <tr>\n",
       "      <th>1</th>\n",
       "      <td>2</td>\n",
       "      <td>NaN</td>\n",
       "      <td>NaN</td>\n",
       "      <td>NaN</td>\n",
       "      <td>73.0</td>\n",
       "      <td>NaN</td>\n",
       "      <td>NaN</td>\n",
       "      <td>NaN</td>\n",
       "      <td>NaN</td>\n",
       "      <td>NaN</td>\n",
       "      <td>NaN</td>\n",
       "      <td>NaN</td>\n",
       "      <td>206.0</td>\n",
       "      <td>NaN</td>\n",
       "      <td>149.0</td>\n",
       "      <td>154.0</td>\n",
       "    </tr>\n",
       "    <tr>\n",
       "      <th>2</th>\n",
       "      <td>3</td>\n",
       "      <td>NaN</td>\n",
       "      <td>NaN</td>\n",
       "      <td>NaN</td>\n",
       "      <td>34.0</td>\n",
       "      <td>NaN</td>\n",
       "      <td>NaN</td>\n",
       "      <td>NaN</td>\n",
       "      <td>NaN</td>\n",
       "      <td>NaN</td>\n",
       "      <td>NaN</td>\n",
       "      <td>NaN</td>\n",
       "      <td>205.0</td>\n",
       "      <td>NaN</td>\n",
       "      <td>152.0</td>\n",
       "      <td>153.0</td>\n",
       "    </tr>\n",
       "    <tr>\n",
       "      <th>3</th>\n",
       "      <td>4</td>\n",
       "      <td>NaN</td>\n",
       "      <td>NaN</td>\n",
       "      <td>NaN</td>\n",
       "      <td>81.0</td>\n",
       "      <td>NaN</td>\n",
       "      <td>NaN</td>\n",
       "      <td>NaN</td>\n",
       "      <td>NaN</td>\n",
       "      <td>NaN</td>\n",
       "      <td>NaN</td>\n",
       "      <td>NaN</td>\n",
       "      <td>207.0</td>\n",
       "      <td>NaN</td>\n",
       "      <td>153.0</td>\n",
       "      <td>154.0</td>\n",
       "    </tr>\n",
       "    <tr>\n",
       "      <th>4</th>\n",
       "      <td>5</td>\n",
       "      <td>NaN</td>\n",
       "      <td>NaN</td>\n",
       "      <td>NaN</td>\n",
       "      <td>78.0</td>\n",
       "      <td>NaN</td>\n",
       "      <td>NaN</td>\n",
       "      <td>NaN</td>\n",
       "      <td>NaN</td>\n",
       "      <td>NaN</td>\n",
       "      <td>NaN</td>\n",
       "      <td>NaN</td>\n",
       "      <td>203.0</td>\n",
       "      <td>NaN</td>\n",
       "      <td>151.0</td>\n",
       "      <td>152.0</td>\n",
       "    </tr>\n",
       "  </tbody>\n",
       "</table>\n",
       "</div>"
      ],
      "text/plain": [
       "   key  Bulk 1  Bulk 2  Bulk 3  Bulk 4  Bulk 5  Bulk 6  Bulk 7  Bulk 8  \\\n",
       "0    1     NaN     NaN     NaN    43.0     NaN     NaN     NaN     NaN   \n",
       "1    2     NaN     NaN     NaN    73.0     NaN     NaN     NaN     NaN   \n",
       "2    3     NaN     NaN     NaN    34.0     NaN     NaN     NaN     NaN   \n",
       "3    4     NaN     NaN     NaN    81.0     NaN     NaN     NaN     NaN   \n",
       "4    5     NaN     NaN     NaN    78.0     NaN     NaN     NaN     NaN   \n",
       "\n",
       "   Bulk 9  Bulk 10  Bulk 11  Bulk 12  Bulk 13  Bulk 14  Bulk 15  \n",
       "0     NaN      NaN      NaN    206.0      NaN    150.0    154.0  \n",
       "1     NaN      NaN      NaN    206.0      NaN    149.0    154.0  \n",
       "2     NaN      NaN      NaN    205.0      NaN    152.0    153.0  \n",
       "3     NaN      NaN      NaN    207.0      NaN    153.0    154.0  \n",
       "4     NaN      NaN      NaN    203.0      NaN    151.0    152.0  "
      ]
     },
     "metadata": {},
     "output_type": "display_data"
    },
    {
     "name": "stdout",
     "output_type": "stream",
     "text": [
      "<class 'pandas.core.frame.DataFrame'>\n",
      "RangeIndex: 3129 entries, 0 to 3128\n",
      "Data columns (total 16 columns):\n",
      " #   Column   Non-Null Count  Dtype  \n",
      "---  ------   --------------  -----  \n",
      " 0   key      3129 non-null   int64  \n",
      " 1   Bulk 1   252 non-null    float64\n",
      " 2   Bulk 2   22 non-null     float64\n",
      " 3   Bulk 3   1298 non-null   float64\n",
      " 4   Bulk 4   1014 non-null   float64\n",
      " 5   Bulk 5   77 non-null     float64\n",
      " 6   Bulk 6   576 non-null    float64\n",
      " 7   Bulk 7   25 non-null     float64\n",
      " 8   Bulk 8   1 non-null      float64\n",
      " 9   Bulk 9   19 non-null     float64\n",
      " 10  Bulk 10  176 non-null    float64\n",
      " 11  Bulk 11  177 non-null    float64\n",
      " 12  Bulk 12  2450 non-null   float64\n",
      " 13  Bulk 13  18 non-null     float64\n",
      " 14  Bulk 14  2806 non-null   float64\n",
      " 15  Bulk 15  2248 non-null   float64\n",
      "dtypes: float64(15), int64(1)\n",
      "memory usage: 391.2 KB\n"
     ]
    },
    {
     "data": {
      "text/plain": [
       "None"
      ]
     },
     "metadata": {},
     "output_type": "display_data"
    },
    {
     "data": {
      "text/html": [
       "<div>\n",
       "<style scoped>\n",
       "    .dataframe tbody tr th:only-of-type {\n",
       "        vertical-align: middle;\n",
       "    }\n",
       "\n",
       "    .dataframe tbody tr th {\n",
       "        vertical-align: top;\n",
       "    }\n",
       "\n",
       "    .dataframe thead th {\n",
       "        text-align: right;\n",
       "    }\n",
       "</style>\n",
       "<table border=\"1\" class=\"dataframe\">\n",
       "  <thead>\n",
       "    <tr style=\"text-align: right;\">\n",
       "      <th></th>\n",
       "      <th>key</th>\n",
       "      <th>Bulk 1</th>\n",
       "      <th>Bulk 2</th>\n",
       "      <th>Bulk 3</th>\n",
       "      <th>Bulk 4</th>\n",
       "      <th>Bulk 5</th>\n",
       "      <th>Bulk 6</th>\n",
       "      <th>Bulk 7</th>\n",
       "      <th>Bulk 8</th>\n",
       "      <th>Bulk 9</th>\n",
       "      <th>Bulk 10</th>\n",
       "      <th>Bulk 11</th>\n",
       "      <th>Bulk 12</th>\n",
       "      <th>Bulk 13</th>\n",
       "      <th>Bulk 14</th>\n",
       "      <th>Bulk 15</th>\n",
       "    </tr>\n",
       "  </thead>\n",
       "  <tbody>\n",
       "    <tr>\n",
       "      <th>count</th>\n",
       "      <td>3129.000000</td>\n",
       "      <td>252.000000</td>\n",
       "      <td>22.000000</td>\n",
       "      <td>1298.000000</td>\n",
       "      <td>1014.000000</td>\n",
       "      <td>77.000000</td>\n",
       "      <td>576.000000</td>\n",
       "      <td>25.000000</td>\n",
       "      <td>1.0</td>\n",
       "      <td>19.000000</td>\n",
       "      <td>176.000000</td>\n",
       "      <td>177.000000</td>\n",
       "      <td>2450.000000</td>\n",
       "      <td>18.000000</td>\n",
       "      <td>2806.000000</td>\n",
       "      <td>2248.000000</td>\n",
       "    </tr>\n",
       "    <tr>\n",
       "      <th>mean</th>\n",
       "      <td>1624.383509</td>\n",
       "      <td>39.242063</td>\n",
       "      <td>253.045455</td>\n",
       "      <td>113.879045</td>\n",
       "      <td>104.394477</td>\n",
       "      <td>107.025974</td>\n",
       "      <td>118.925347</td>\n",
       "      <td>305.600000</td>\n",
       "      <td>49.0</td>\n",
       "      <td>76.315789</td>\n",
       "      <td>83.284091</td>\n",
       "      <td>76.819209</td>\n",
       "      <td>260.471020</td>\n",
       "      <td>181.111111</td>\n",
       "      <td>170.284747</td>\n",
       "      <td>160.513345</td>\n",
       "    </tr>\n",
       "    <tr>\n",
       "      <th>std</th>\n",
       "      <td>933.337642</td>\n",
       "      <td>18.277654</td>\n",
       "      <td>21.180578</td>\n",
       "      <td>75.483494</td>\n",
       "      <td>48.184126</td>\n",
       "      <td>81.790646</td>\n",
       "      <td>72.057776</td>\n",
       "      <td>191.022904</td>\n",
       "      <td>NaN</td>\n",
       "      <td>21.720581</td>\n",
       "      <td>26.060347</td>\n",
       "      <td>59.655365</td>\n",
       "      <td>120.649269</td>\n",
       "      <td>46.088009</td>\n",
       "      <td>65.868652</td>\n",
       "      <td>51.765319</td>\n",
       "    </tr>\n",
       "    <tr>\n",
       "      <th>min</th>\n",
       "      <td>1.000000</td>\n",
       "      <td>10.000000</td>\n",
       "      <td>228.000000</td>\n",
       "      <td>6.000000</td>\n",
       "      <td>12.000000</td>\n",
       "      <td>11.000000</td>\n",
       "      <td>17.000000</td>\n",
       "      <td>47.000000</td>\n",
       "      <td>49.0</td>\n",
       "      <td>63.000000</td>\n",
       "      <td>24.000000</td>\n",
       "      <td>8.000000</td>\n",
       "      <td>53.000000</td>\n",
       "      <td>151.000000</td>\n",
       "      <td>16.000000</td>\n",
       "      <td>1.000000</td>\n",
       "    </tr>\n",
       "    <tr>\n",
       "      <th>25%</th>\n",
       "      <td>816.000000</td>\n",
       "      <td>27.000000</td>\n",
       "      <td>242.000000</td>\n",
       "      <td>58.000000</td>\n",
       "      <td>72.000000</td>\n",
       "      <td>70.000000</td>\n",
       "      <td>69.750000</td>\n",
       "      <td>155.000000</td>\n",
       "      <td>49.0</td>\n",
       "      <td>66.000000</td>\n",
       "      <td>64.000000</td>\n",
       "      <td>25.000000</td>\n",
       "      <td>204.000000</td>\n",
       "      <td>153.250000</td>\n",
       "      <td>119.000000</td>\n",
       "      <td>105.000000</td>\n",
       "    </tr>\n",
       "    <tr>\n",
       "      <th>50%</th>\n",
       "      <td>1622.000000</td>\n",
       "      <td>31.000000</td>\n",
       "      <td>251.500000</td>\n",
       "      <td>97.500000</td>\n",
       "      <td>102.000000</td>\n",
       "      <td>86.000000</td>\n",
       "      <td>100.000000</td>\n",
       "      <td>298.000000</td>\n",
       "      <td>49.0</td>\n",
       "      <td>68.000000</td>\n",
       "      <td>86.500000</td>\n",
       "      <td>64.000000</td>\n",
       "      <td>208.000000</td>\n",
       "      <td>155.500000</td>\n",
       "      <td>151.000000</td>\n",
       "      <td>160.000000</td>\n",
       "    </tr>\n",
       "    <tr>\n",
       "      <th>75%</th>\n",
       "      <td>2431.000000</td>\n",
       "      <td>46.000000</td>\n",
       "      <td>257.750000</td>\n",
       "      <td>152.000000</td>\n",
       "      <td>133.000000</td>\n",
       "      <td>132.000000</td>\n",
       "      <td>157.000000</td>\n",
       "      <td>406.000000</td>\n",
       "      <td>49.0</td>\n",
       "      <td>70.500000</td>\n",
       "      <td>102.000000</td>\n",
       "      <td>106.000000</td>\n",
       "      <td>316.000000</td>\n",
       "      <td>203.500000</td>\n",
       "      <td>205.750000</td>\n",
       "      <td>205.000000</td>\n",
       "    </tr>\n",
       "    <tr>\n",
       "      <th>max</th>\n",
       "      <td>3241.000000</td>\n",
       "      <td>185.000000</td>\n",
       "      <td>325.000000</td>\n",
       "      <td>454.000000</td>\n",
       "      <td>281.000000</td>\n",
       "      <td>603.000000</td>\n",
       "      <td>503.000000</td>\n",
       "      <td>772.000000</td>\n",
       "      <td>49.0</td>\n",
       "      <td>147.000000</td>\n",
       "      <td>159.000000</td>\n",
       "      <td>313.000000</td>\n",
       "      <td>1849.000000</td>\n",
       "      <td>305.000000</td>\n",
       "      <td>636.000000</td>\n",
       "      <td>405.000000</td>\n",
       "    </tr>\n",
       "  </tbody>\n",
       "</table>\n",
       "</div>"
      ],
      "text/plain": [
       "               key      Bulk 1      Bulk 2       Bulk 3       Bulk 4  \\\n",
       "count  3129.000000  252.000000   22.000000  1298.000000  1014.000000   \n",
       "mean   1624.383509   39.242063  253.045455   113.879045   104.394477   \n",
       "std     933.337642   18.277654   21.180578    75.483494    48.184126   \n",
       "min       1.000000   10.000000  228.000000     6.000000    12.000000   \n",
       "25%     816.000000   27.000000  242.000000    58.000000    72.000000   \n",
       "50%    1622.000000   31.000000  251.500000    97.500000   102.000000   \n",
       "75%    2431.000000   46.000000  257.750000   152.000000   133.000000   \n",
       "max    3241.000000  185.000000  325.000000   454.000000   281.000000   \n",
       "\n",
       "           Bulk 5      Bulk 6      Bulk 7  Bulk 8      Bulk 9     Bulk 10  \\\n",
       "count   77.000000  576.000000   25.000000     1.0   19.000000  176.000000   \n",
       "mean   107.025974  118.925347  305.600000    49.0   76.315789   83.284091   \n",
       "std     81.790646   72.057776  191.022904     NaN   21.720581   26.060347   \n",
       "min     11.000000   17.000000   47.000000    49.0   63.000000   24.000000   \n",
       "25%     70.000000   69.750000  155.000000    49.0   66.000000   64.000000   \n",
       "50%     86.000000  100.000000  298.000000    49.0   68.000000   86.500000   \n",
       "75%    132.000000  157.000000  406.000000    49.0   70.500000  102.000000   \n",
       "max    603.000000  503.000000  772.000000    49.0  147.000000  159.000000   \n",
       "\n",
       "          Bulk 11      Bulk 12     Bulk 13      Bulk 14      Bulk 15  \n",
       "count  177.000000  2450.000000   18.000000  2806.000000  2248.000000  \n",
       "mean    76.819209   260.471020  181.111111   170.284747   160.513345  \n",
       "std     59.655365   120.649269   46.088009    65.868652    51.765319  \n",
       "min      8.000000    53.000000  151.000000    16.000000     1.000000  \n",
       "25%     25.000000   204.000000  153.250000   119.000000   105.000000  \n",
       "50%     64.000000   208.000000  155.500000   151.000000   160.000000  \n",
       "75%    106.000000   316.000000  203.500000   205.750000   205.000000  \n",
       "max    313.000000  1849.000000  305.000000   636.000000   405.000000  "
      ]
     },
     "metadata": {},
     "output_type": "display_data"
    }
   ],
   "source": [
    "data_bulk = pd.read_csv('/datasets/final_steel/data_bulk.csv')\n",
    "display(data_bulk.head())\n",
    "display(data_bulk.info())\n",
    "display(data_bulk.describe())"
   ]
  },
  {
   "cell_type": "code",
   "execution_count": 9,
   "metadata": {},
   "outputs": [],
   "source": [
    "def histog(data, column):\n",
    "    return data[column].hist(bins=100, figsize=(9,4))"
   ]
  },
  {
   "cell_type": "code",
   "execution_count": 10,
   "metadata": {},
   "outputs": [
    {
     "data": {
      "text/plain": [
       "<AxesSubplot:>"
      ]
     },
     "execution_count": 10,
     "metadata": {},
     "output_type": "execute_result"
    },
    {
     "data": {
      "image/png": "[encoded data removed]",
      "text/plain": [
       "<Figure size 648x288 with 1 Axes>"
      ]
     },
     "metadata": {
      "needs_background": "light"
     },
     "output_type": "display_data"
    }
   ],
   "source": [
    "histog(data_bulk, 'Bulk 1')"
   ]
  },
  {
   "cell_type": "code",
   "execution_count": 11,
   "metadata": {},
   "outputs": [
    {
     "data": {
      "text/plain": [
       "<AxesSubplot:>"
      ]
     },
     "execution_count": 11,
     "metadata": {},
     "output_type": "execute_result"
    },
    {
     "data": {
      "image/png": "[encoded data removed]",
      "text/plain": [
       "<Figure size 648x288 with 1 Axes>"
      ]
     },
     "metadata": {
      "needs_background": "light"
     },
     "output_type": "display_data"
    }
   ],
   "source": [
    "histog(data_bulk, 'Bulk 2')"
   ]
  },
  {
   "cell_type": "code",
   "execution_count": 12,
   "metadata": {},
   "outputs": [
    {
     "data": {
      "text/plain": [
       "<AxesSubplot:>"
      ]
     },
     "execution_count": 12,
     "metadata": {},
     "output_type": "execute_result"
    },
    {
     "data": {
      "image/png": "[encoded data removed]",
      "text/plain": [
       "<Figure size 648x288 with 1 Axes>"
      ]
     },
     "metadata": {
      "needs_background": "light"
     },
     "output_type": "display_data"
    }
   ],
   "source": [
    "histog(data_bulk, 'Bulk 3')"
   ]
  },
  {
   "cell_type": "code",
   "execution_count": 13,
   "metadata": {},
   "outputs": [
    {
     "data": {
      "text/plain": [
       "<AxesSubplot:>"
      ]
     },
     "execution_count": 13,
     "metadata": {},
     "output_type": "execute_result"
    },
    {
     "data": {
      "image/png": "[encoded data removed]",
      "text/plain": [
       "<Figure size 648x288 with 1 Axes>"
      ]
     },
     "metadata": {
      "needs_background": "light"
     },
     "output_type": "display_data"
    }
   ],
   "source": [
    "histog(data_bulk, 'Bulk 5')"
   ]
  },
  {
   "cell_type": "code",
   "execution_count": 14,
   "metadata": {},
   "outputs": [
    {
     "data": {
      "text/plain": [
       "<AxesSubplot:>"
      ]
     },
     "execution_count": 14,
     "metadata": {},
     "output_type": "execute_result"
    },
    {
     "data": {
      "image/png": "[encoded data removed]",
      "text/plain": [
       "<Figure size 648x288 with 1 Axes>"
      ]
     },
     "metadata": {
      "needs_background": "light"
     },
     "output_type": "display_data"
    }
   ],
   "source": [
    "histog(data_bulk, 'Bulk 6')"
   ]
  },
  {
   "cell_type": "code",
   "execution_count": 15,
   "metadata": {},
   "outputs": [
    {
     "data": {
      "text/plain": [
       "<AxesSubplot:>"
      ]
     },
     "execution_count": 15,
     "metadata": {},
     "output_type": "execute_result"
    },
    {
     "data": {
      "image/png": "[encoded data removed]",
      "text/plain": [
       "<Figure size 648x288 with 1 Axes>"
      ]
     },
     "metadata": {
      "needs_background": "light"
     },
     "output_type": "display_data"
    }
   ],
   "source": [
    "histog(data_bulk, 'Bulk 7')"
   ]
  },
  {
   "cell_type": "code",
   "execution_count": 16,
   "metadata": {},
   "outputs": [
    {
     "data": {
      "text/plain": [
       "<AxesSubplot:>"
      ]
     },
     "execution_count": 16,
     "metadata": {},
     "output_type": "execute_result"
    },
    {
     "data": {
      "image/png": "[encoded data removed]",
      "text/plain": [
       "<Figure size 648x288 with 1 Axes>"
      ]
     },
     "metadata": {
      "needs_background": "light"
     },
     "output_type": "display_data"
    }
   ],
   "source": [
    "histog(data_bulk, 'Bulk 8')"
   ]
  },
  {
   "cell_type": "code",
   "execution_count": 17,
   "metadata": {},
   "outputs": [
    {
     "data": {
      "text/plain": [
       "<AxesSubplot:>"
      ]
     },
     "execution_count": 17,
     "metadata": {},
     "output_type": "execute_result"
    },
    {
     "data": {
      "image/png": "[encoded data removed]",
      "text/plain": [
       "<Figure size 648x288 with 1 Axes>"
      ]
     },
     "metadata": {
      "needs_background": "light"
     },
     "output_type": "display_data"
    }
   ],
   "source": [
    "histog(data_bulk, 'Bulk 9')"
   ]
  },
  {
   "cell_type": "code",
   "execution_count": 18,
   "metadata": {},
   "outputs": [
    {
     "data": {
      "text/plain": [
       "<AxesSubplot:>"
      ]
     },
     "execution_count": 18,
     "metadata": {},
     "output_type": "execute_result"
    },
    {
     "data": {
      "image/png": "[encoded data removed]",
      "text/plain": [
       "<Figure size 648x288 with 1 Axes>"
      ]
     },
     "metadata": {
      "needs_background": "light"
     },
     "output_type": "display_data"
    }
   ],
   "source": [
    "histog(data_bulk, 'Bulk 10')"
   ]
  },
  {
   "cell_type": "code",
   "execution_count": 19,
   "metadata": {},
   "outputs": [
    {
     "data": {
      "text/plain": [
       "<AxesSubplot:>"
      ]
     },
     "execution_count": 19,
     "metadata": {},
     "output_type": "execute_result"
    },
    {
     "data": {
      "image/png": "[encoded data removed]",
      "text/plain": [
       "<Figure size 648x288 with 1 Axes>"
      ]
     },
     "metadata": {
      "needs_background": "light"
     },
     "output_type": "display_data"
    }
   ],
   "source": [
    "histog(data_bulk, 'Bulk 11')"
   ]
  },
  {
   "cell_type": "code",
   "execution_count": 20,
   "metadata": {},
   "outputs": [
    {
     "data": {
      "text/plain": [
       "<AxesSubplot:>"
      ]
     },
     "execution_count": 20,
     "metadata": {},
     "output_type": "execute_result"
    },
    {
     "data": {
      "image/png": "[encoded data removed]",
      "text/plain": [
       "<Figure size 648x288 with 1 Axes>"
      ]
     },
     "metadata": {
      "needs_background": "light"
     },
     "output_type": "display_data"
    }
   ],
   "source": [
    "histog(data_bulk, 'Bulk 12')"
   ]
  },
  {
   "cell_type": "code",
   "execution_count": 21,
   "metadata": {},
   "outputs": [
    {
     "data": {
      "text/plain": [
       "<AxesSubplot:>"
      ]
     },
     "execution_count": 21,
     "metadata": {},
     "output_type": "execute_result"
    },
    {
     "data": {
      "image/png": "[encoded data removed]",
      "text/plain": [
       "<Figure size 648x288 with 1 Axes>"
      ]
     },
     "metadata": {
      "needs_background": "light"
     },
     "output_type": "display_data"
    }
   ],
   "source": [
    "histog(data_bulk, 'Bulk 13')"
   ]
  },
  {
   "cell_type": "code",
   "execution_count": 22,
   "metadata": {},
   "outputs": [
    {
     "data": {
      "text/plain": [
       "<AxesSubplot:>"
      ]
     },
     "execution_count": 22,
     "metadata": {},
     "output_type": "execute_result"
    },
    {
     "data": {
      "image/png": "[encoded data removed]",
      "text/plain": [
       "<Figure size 648x288 with 1 Axes>"
      ]
     },
     "metadata": {
      "needs_background": "light"
     },
     "output_type": "display_data"
    }
   ],
   "source": [
    "histog(data_bulk, 'Bulk 14')"
   ]
  },
  {
   "cell_type": "code",
   "execution_count": 23,
   "metadata": {},
   "outputs": [
    {
     "data": {
      "text/plain": [
       "<AxesSubplot:>"
      ]
     },
     "execution_count": 23,
     "metadata": {},
     "output_type": "execute_result"
    },
    {
     "data": {
      "image/png": "[encoded data removed]",
      "text/plain": [
       "<Figure size 648x288 with 1 Axes>"
      ]
     },
     "metadata": {
      "needs_background": "light"
     },
     "output_type": "display_data"
    }
   ],
   "source": [
    "histog(data_bulk, 'Bulk 15')"
   ]
  },
  {
   "cell_type": "code",
   "execution_count": 24,
   "metadata": {},
   "outputs": [
    {
     "data": {
      "text/plain": [
       "3129"
      ]
     },
     "execution_count": 24,
     "metadata": {},
     "output_type": "execute_result"
    }
   ],
   "source": [
    "len(data_bulk['key'].unique())"
   ]
  },
  {
   "cell_type": "markdown",
   "metadata": {},
   "source": [
    "#### Данные о подаче сыпучих материалов (время)"
   ]
  },
  {
   "cell_type": "code",
   "execution_count": 25,
   "metadata": {},
   "outputs": [
    {
     "data": {
      "text/html": [
       "<div>\n",
       "<style scoped>\n",
       "    .dataframe tbody tr th:only-of-type {\n",
       "        vertical-align: middle;\n",
       "    }\n",
       "\n",
       "    .dataframe tbody tr th {\n",
       "        vertical-align: top;\n",
       "    }\n",
       "\n",
       "    .dataframe thead th {\n",
       "        text-align: right;\n",
       "    }\n",
       "</style>\n",
       "<table border=\"1\" class=\"dataframe\">\n",
       "  <thead>\n",
       "    <tr style=\"text-align: right;\">\n",
       "      <th></th>\n",
       "      <th>key</th>\n",
       "      <th>Bulk 1</th>\n",
       "      <th>Bulk 2</th>\n",
       "      <th>Bulk 3</th>\n",
       "      <th>Bulk 4</th>\n",
       "      <th>Bulk 5</th>\n",
       "      <th>Bulk 6</th>\n",
       "      <th>Bulk 7</th>\n",
       "      <th>Bulk 8</th>\n",
       "      <th>Bulk 9</th>\n",
       "      <th>Bulk 10</th>\n",
       "      <th>Bulk 11</th>\n",
       "      <th>Bulk 12</th>\n",
       "      <th>Bulk 13</th>\n",
       "      <th>Bulk 14</th>\n",
       "      <th>Bulk 15</th>\n",
       "    </tr>\n",
       "  </thead>\n",
       "  <tbody>\n",
       "    <tr>\n",
       "      <th>0</th>\n",
       "      <td>1</td>\n",
       "      <td>NaN</td>\n",
       "      <td>NaN</td>\n",
       "      <td>NaN</td>\n",
       "      <td>2019-05-03 11:21:30</td>\n",
       "      <td>NaN</td>\n",
       "      <td>NaN</td>\n",
       "      <td>NaN</td>\n",
       "      <td>NaN</td>\n",
       "      <td>NaN</td>\n",
       "      <td>NaN</td>\n",
       "      <td>NaN</td>\n",
       "      <td>2019-05-03 11:03:52</td>\n",
       "      <td>NaN</td>\n",
       "      <td>2019-05-03 11:03:52</td>\n",
       "      <td>2019-05-03 11:03:52</td>\n",
       "    </tr>\n",
       "    <tr>\n",
       "      <th>1</th>\n",
       "      <td>2</td>\n",
       "      <td>NaN</td>\n",
       "      <td>NaN</td>\n",
       "      <td>NaN</td>\n",
       "      <td>2019-05-03 11:46:38</td>\n",
       "      <td>NaN</td>\n",
       "      <td>NaN</td>\n",
       "      <td>NaN</td>\n",
       "      <td>NaN</td>\n",
       "      <td>NaN</td>\n",
       "      <td>NaN</td>\n",
       "      <td>NaN</td>\n",
       "      <td>2019-05-03 11:40:20</td>\n",
       "      <td>NaN</td>\n",
       "      <td>2019-05-03 11:40:20</td>\n",
       "      <td>2019-05-03 11:40:20</td>\n",
       "    </tr>\n",
       "    <tr>\n",
       "      <th>2</th>\n",
       "      <td>3</td>\n",
       "      <td>NaN</td>\n",
       "      <td>NaN</td>\n",
       "      <td>NaN</td>\n",
       "      <td>2019-05-03 12:31:06</td>\n",
       "      <td>NaN</td>\n",
       "      <td>NaN</td>\n",
       "      <td>NaN</td>\n",
       "      <td>NaN</td>\n",
       "      <td>NaN</td>\n",
       "      <td>NaN</td>\n",
       "      <td>NaN</td>\n",
       "      <td>2019-05-03 12:09:40</td>\n",
       "      <td>NaN</td>\n",
       "      <td>2019-05-03 12:09:40</td>\n",
       "      <td>2019-05-03 12:09:40</td>\n",
       "    </tr>\n",
       "    <tr>\n",
       "      <th>3</th>\n",
       "      <td>4</td>\n",
       "      <td>NaN</td>\n",
       "      <td>NaN</td>\n",
       "      <td>NaN</td>\n",
       "      <td>2019-05-03 12:48:43</td>\n",
       "      <td>NaN</td>\n",
       "      <td>NaN</td>\n",
       "      <td>NaN</td>\n",
       "      <td>NaN</td>\n",
       "      <td>NaN</td>\n",
       "      <td>NaN</td>\n",
       "      <td>NaN</td>\n",
       "      <td>2019-05-03 12:41:24</td>\n",
       "      <td>NaN</td>\n",
       "      <td>2019-05-03 12:41:24</td>\n",
       "      <td>2019-05-03 12:41:24</td>\n",
       "    </tr>\n",
       "    <tr>\n",
       "      <th>4</th>\n",
       "      <td>5</td>\n",
       "      <td>NaN</td>\n",
       "      <td>NaN</td>\n",
       "      <td>NaN</td>\n",
       "      <td>2019-05-03 13:18:50</td>\n",
       "      <td>NaN</td>\n",
       "      <td>NaN</td>\n",
       "      <td>NaN</td>\n",
       "      <td>NaN</td>\n",
       "      <td>NaN</td>\n",
       "      <td>NaN</td>\n",
       "      <td>NaN</td>\n",
       "      <td>2019-05-03 13:12:56</td>\n",
       "      <td>NaN</td>\n",
       "      <td>2019-05-03 13:12:56</td>\n",
       "      <td>2019-05-03 13:12:56</td>\n",
       "    </tr>\n",
       "  </tbody>\n",
       "</table>\n",
       "</div>"
      ],
      "text/plain": [
       "   key Bulk 1 Bulk 2 Bulk 3               Bulk 4 Bulk 5 Bulk 6 Bulk 7 Bulk 8  \\\n",
       "0    1    NaN    NaN    NaN  2019-05-03 11:21:30    NaN    NaN    NaN    NaN   \n",
       "1    2    NaN    NaN    NaN  2019-05-03 11:46:38    NaN    NaN    NaN    NaN   \n",
       "2    3    NaN    NaN    NaN  2019-05-03 12:31:06    NaN    NaN    NaN    NaN   \n",
       "3    4    NaN    NaN    NaN  2019-05-03 12:48:43    NaN    NaN    NaN    NaN   \n",
       "4    5    NaN    NaN    NaN  2019-05-03 13:18:50    NaN    NaN    NaN    NaN   \n",
       "\n",
       "  Bulk 9 Bulk 10 Bulk 11              Bulk 12 Bulk 13              Bulk 14  \\\n",
       "0    NaN     NaN     NaN  2019-05-03 11:03:52     NaN  2019-05-03 11:03:52   \n",
       "1    NaN     NaN     NaN  2019-05-03 11:40:20     NaN  2019-05-03 11:40:20   \n",
       "2    NaN     NaN     NaN  2019-05-03 12:09:40     NaN  2019-05-03 12:09:40   \n",
       "3    NaN     NaN     NaN  2019-05-03 12:41:24     NaN  2019-05-03 12:41:24   \n",
       "4    NaN     NaN     NaN  2019-05-03 13:12:56     NaN  2019-05-03 13:12:56   \n",
       "\n",
       "               Bulk 15  \n",
       "0  2019-05-03 11:03:52  \n",
       "1  2019-05-03 11:40:20  \n",
       "2  2019-05-03 12:09:40  \n",
       "3  2019-05-03 12:41:24  \n",
       "4  2019-05-03 13:12:56  "
      ]
     },
     "metadata": {},
     "output_type": "display_data"
    },
    {
     "name": "stdout",
     "output_type": "stream",
     "text": [
      "<class 'pandas.core.frame.DataFrame'>\n",
      "RangeIndex: 3129 entries, 0 to 3128\n",
      "Data columns (total 16 columns):\n",
      " #   Column   Non-Null Count  Dtype \n",
      "---  ------   --------------  ----- \n",
      " 0   key      3129 non-null   int64 \n",
      " 1   Bulk 1   252 non-null    object\n",
      " 2   Bulk 2   22 non-null     object\n",
      " 3   Bulk 3   1298 non-null   object\n",
      " 4   Bulk 4   1014 non-null   object\n",
      " 5   Bulk 5   77 non-null     object\n",
      " 6   Bulk 6   576 non-null    object\n",
      " 7   Bulk 7   25 non-null     object\n",
      " 8   Bulk 8   1 non-null      object\n",
      " 9   Bulk 9   19 non-null     object\n",
      " 10  Bulk 10  176 non-null    object\n",
      " 11  Bulk 11  177 non-null    object\n",
      " 12  Bulk 12  2450 non-null   object\n",
      " 13  Bulk 13  18 non-null     object\n",
      " 14  Bulk 14  2806 non-null   object\n",
      " 15  Bulk 15  2248 non-null   object\n",
      "dtypes: int64(1), object(15)\n",
      "memory usage: 391.2+ KB\n"
     ]
    },
    {
     "data": {
      "text/plain": [
       "None"
      ]
     },
     "metadata": {},
     "output_type": "display_data"
    },
    {
     "data": {
      "text/html": [
       "<div>\n",
       "<style scoped>\n",
       "    .dataframe tbody tr th:only-of-type {\n",
       "        vertical-align: middle;\n",
       "    }\n",
       "\n",
       "    .dataframe tbody tr th {\n",
       "        vertical-align: top;\n",
       "    }\n",
       "\n",
       "    .dataframe thead th {\n",
       "        text-align: right;\n",
       "    }\n",
       "</style>\n",
       "<table border=\"1\" class=\"dataframe\">\n",
       "  <thead>\n",
       "    <tr style=\"text-align: right;\">\n",
       "      <th></th>\n",
       "      <th>key</th>\n",
       "    </tr>\n",
       "  </thead>\n",
       "  <tbody>\n",
       "    <tr>\n",
       "      <th>count</th>\n",
       "      <td>3129.000000</td>\n",
       "    </tr>\n",
       "    <tr>\n",
       "      <th>mean</th>\n",
       "      <td>1624.383509</td>\n",
       "    </tr>\n",
       "    <tr>\n",
       "      <th>std</th>\n",
       "      <td>933.337642</td>\n",
       "    </tr>\n",
       "    <tr>\n",
       "      <th>min</th>\n",
       "      <td>1.000000</td>\n",
       "    </tr>\n",
       "    <tr>\n",
       "      <th>25%</th>\n",
       "      <td>816.000000</td>\n",
       "    </tr>\n",
       "    <tr>\n",
       "      <th>50%</th>\n",
       "      <td>1622.000000</td>\n",
       "    </tr>\n",
       "    <tr>\n",
       "      <th>75%</th>\n",
       "      <td>2431.000000</td>\n",
       "    </tr>\n",
       "    <tr>\n",
       "      <th>max</th>\n",
       "      <td>3241.000000</td>\n",
       "    </tr>\n",
       "  </tbody>\n",
       "</table>\n",
       "</div>"
      ],
      "text/plain": [
       "               key\n",
       "count  3129.000000\n",
       "mean   1624.383509\n",
       "std     933.337642\n",
       "min       1.000000\n",
       "25%     816.000000\n",
       "50%    1622.000000\n",
       "75%    2431.000000\n",
       "max    3241.000000"
      ]
     },
     "metadata": {},
     "output_type": "display_data"
    }
   ],
   "source": [
    "data_bulk_time = pd.read_csv('/datasets/final_steel/data_bulk_time.csv')\n",
    "display(data_bulk_time.head())\n",
    "display(data_bulk_time.info())\n",
    "display(data_bulk_time.describe())"
   ]
  },
  {
   "cell_type": "code",
   "execution_count": 26,
   "metadata": {},
   "outputs": [
    {
     "data": {
      "text/plain": [
       "3129"
      ]
     },
     "execution_count": 26,
     "metadata": {},
     "output_type": "execute_result"
    }
   ],
   "source": [
    "len(data_bulk_time['key'].unique())"
   ]
  },
  {
   "cell_type": "markdown",
   "metadata": {},
   "source": [
    "#### Данные о продувке сплава газом"
   ]
  },
  {
   "cell_type": "code",
   "execution_count": 27,
   "metadata": {},
   "outputs": [
    {
     "data": {
      "text/html": [
       "<div>\n",
       "<style scoped>\n",
       "    .dataframe tbody tr th:only-of-type {\n",
       "        vertical-align: middle;\n",
       "    }\n",
       "\n",
       "    .dataframe tbody tr th {\n",
       "        vertical-align: top;\n",
       "    }\n",
       "\n",
       "    .dataframe thead th {\n",
       "        text-align: right;\n",
       "    }\n",
       "</style>\n",
       "<table border=\"1\" class=\"dataframe\">\n",
       "  <thead>\n",
       "    <tr style=\"text-align: right;\">\n",
       "      <th></th>\n",
       "      <th>key</th>\n",
       "      <th>Газ 1</th>\n",
       "    </tr>\n",
       "  </thead>\n",
       "  <tbody>\n",
       "    <tr>\n",
       "      <th>0</th>\n",
       "      <td>1</td>\n",
       "      <td>29.749986</td>\n",
       "    </tr>\n",
       "    <tr>\n",
       "      <th>1</th>\n",
       "      <td>2</td>\n",
       "      <td>12.555561</td>\n",
       "    </tr>\n",
       "    <tr>\n",
       "      <th>2</th>\n",
       "      <td>3</td>\n",
       "      <td>28.554793</td>\n",
       "    </tr>\n",
       "    <tr>\n",
       "      <th>3</th>\n",
       "      <td>4</td>\n",
       "      <td>18.841219</td>\n",
       "    </tr>\n",
       "    <tr>\n",
       "      <th>4</th>\n",
       "      <td>5</td>\n",
       "      <td>5.413692</td>\n",
       "    </tr>\n",
       "  </tbody>\n",
       "</table>\n",
       "</div>"
      ],
      "text/plain": [
       "   key      Газ 1\n",
       "0    1  29.749986\n",
       "1    2  12.555561\n",
       "2    3  28.554793\n",
       "3    4  18.841219\n",
       "4    5   5.413692"
      ]
     },
     "metadata": {},
     "output_type": "display_data"
    },
    {
     "name": "stdout",
     "output_type": "stream",
     "text": [
      "<class 'pandas.core.frame.DataFrame'>\n",
      "RangeIndex: 3239 entries, 0 to 3238\n",
      "Data columns (total 2 columns):\n",
      " #   Column  Non-Null Count  Dtype  \n",
      "---  ------  --------------  -----  \n",
      " 0   key     3239 non-null   int64  \n",
      " 1   Газ 1   3239 non-null   float64\n",
      "dtypes: float64(1), int64(1)\n",
      "memory usage: 50.7 KB\n"
     ]
    },
    {
     "data": {
      "text/plain": [
       "None"
      ]
     },
     "metadata": {},
     "output_type": "display_data"
    },
    {
     "data": {
      "text/html": [
       "<div>\n",
       "<style scoped>\n",
       "    .dataframe tbody tr th:only-of-type {\n",
       "        vertical-align: middle;\n",
       "    }\n",
       "\n",
       "    .dataframe tbody tr th {\n",
       "        vertical-align: top;\n",
       "    }\n",
       "\n",
       "    .dataframe thead th {\n",
       "        text-align: right;\n",
       "    }\n",
       "</style>\n",
       "<table border=\"1\" class=\"dataframe\">\n",
       "  <thead>\n",
       "    <tr style=\"text-align: right;\">\n",
       "      <th></th>\n",
       "      <th>key</th>\n",
       "      <th>Газ 1</th>\n",
       "    </tr>\n",
       "  </thead>\n",
       "  <tbody>\n",
       "    <tr>\n",
       "      <th>count</th>\n",
       "      <td>3239.000000</td>\n",
       "      <td>3239.000000</td>\n",
       "    </tr>\n",
       "    <tr>\n",
       "      <th>mean</th>\n",
       "      <td>1621.861377</td>\n",
       "      <td>11.002062</td>\n",
       "    </tr>\n",
       "    <tr>\n",
       "      <th>std</th>\n",
       "      <td>935.386334</td>\n",
       "      <td>6.220327</td>\n",
       "    </tr>\n",
       "    <tr>\n",
       "      <th>min</th>\n",
       "      <td>1.000000</td>\n",
       "      <td>0.008399</td>\n",
       "    </tr>\n",
       "    <tr>\n",
       "      <th>25%</th>\n",
       "      <td>812.500000</td>\n",
       "      <td>7.043089</td>\n",
       "    </tr>\n",
       "    <tr>\n",
       "      <th>50%</th>\n",
       "      <td>1622.000000</td>\n",
       "      <td>9.836267</td>\n",
       "    </tr>\n",
       "    <tr>\n",
       "      <th>75%</th>\n",
       "      <td>2431.500000</td>\n",
       "      <td>13.769915</td>\n",
       "    </tr>\n",
       "    <tr>\n",
       "      <th>max</th>\n",
       "      <td>3241.000000</td>\n",
       "      <td>77.995040</td>\n",
       "    </tr>\n",
       "  </tbody>\n",
       "</table>\n",
       "</div>"
      ],
      "text/plain": [
       "               key        Газ 1\n",
       "count  3239.000000  3239.000000\n",
       "mean   1621.861377    11.002062\n",
       "std     935.386334     6.220327\n",
       "min       1.000000     0.008399\n",
       "25%     812.500000     7.043089\n",
       "50%    1622.000000     9.836267\n",
       "75%    2431.500000    13.769915\n",
       "max    3241.000000    77.995040"
      ]
     },
     "metadata": {},
     "output_type": "display_data"
    }
   ],
   "source": [
    "data_gas = pd.read_csv('/datasets/final_steel/data_gas.csv')\n",
    "display(data_gas.head())\n",
    "display(data_gas.info())\n",
    "display(data_gas.describe())"
   ]
  },
  {
   "cell_type": "markdown",
   "metadata": {},
   "source": [
    "Корректировка наименований столбцов"
   ]
  },
  {
   "cell_type": "code",
   "execution_count": 28,
   "metadata": {},
   "outputs": [],
   "source": [
    "data_gas = data_gas.rename(columns={'key': 'key', 'Газ 1': 'gas'})"
   ]
  },
  {
   "cell_type": "code",
   "execution_count": 29,
   "metadata": {},
   "outputs": [
    {
     "data": {
      "text/plain": [
       "<AxesSubplot:>"
      ]
     },
     "execution_count": 29,
     "metadata": {},
     "output_type": "execute_result"
    },
    {
     "data": {
      "image/png": "[encoded data removed]",
      "text/plain": [
       "<Figure size 1296x576 with 1 Axes>"
      ]
     },
     "metadata": {
      "needs_background": "light"
     },
     "output_type": "display_data"
    }
   ],
   "source": [
    "data_gas['gas'].hist(bins=100, figsize=(18,8))"
   ]
  },
  {
   "cell_type": "markdown",
   "metadata": {},
   "source": [
    "#### Результаты измерения температуры"
   ]
  },
  {
   "cell_type": "code",
   "execution_count": 30,
   "metadata": {},
   "outputs": [
    {
     "data": {
      "text/html": [
       "<div>\n",
       "<style scoped>\n",
       "    .dataframe tbody tr th:only-of-type {\n",
       "        vertical-align: middle;\n",
       "    }\n",
       "\n",
       "    .dataframe tbody tr th {\n",
       "        vertical-align: top;\n",
       "    }\n",
       "\n",
       "    .dataframe thead th {\n",
       "        text-align: right;\n",
       "    }\n",
       "</style>\n",
       "<table border=\"1\" class=\"dataframe\">\n",
       "  <thead>\n",
       "    <tr style=\"text-align: right;\">\n",
       "      <th></th>\n",
       "      <th>key</th>\n",
       "      <th>Время замера</th>\n",
       "      <th>Температура</th>\n",
       "    </tr>\n",
       "  </thead>\n",
       "  <tbody>\n",
       "    <tr>\n",
       "      <th>0</th>\n",
       "      <td>1</td>\n",
       "      <td>2019-05-03 11:16:18</td>\n",
       "      <td>1571.0</td>\n",
       "    </tr>\n",
       "    <tr>\n",
       "      <th>1</th>\n",
       "      <td>1</td>\n",
       "      <td>2019-05-03 11:25:53</td>\n",
       "      <td>1604.0</td>\n",
       "    </tr>\n",
       "    <tr>\n",
       "      <th>2</th>\n",
       "      <td>1</td>\n",
       "      <td>2019-05-03 11:29:11</td>\n",
       "      <td>1618.0</td>\n",
       "    </tr>\n",
       "    <tr>\n",
       "      <th>3</th>\n",
       "      <td>1</td>\n",
       "      <td>2019-05-03 11:30:01</td>\n",
       "      <td>1601.0</td>\n",
       "    </tr>\n",
       "    <tr>\n",
       "      <th>4</th>\n",
       "      <td>1</td>\n",
       "      <td>2019-05-03 11:30:39</td>\n",
       "      <td>1613.0</td>\n",
       "    </tr>\n",
       "  </tbody>\n",
       "</table>\n",
       "</div>"
      ],
      "text/plain": [
       "   key         Время замера  Температура\n",
       "0    1  2019-05-03 11:16:18       1571.0\n",
       "1    1  2019-05-03 11:25:53       1604.0\n",
       "2    1  2019-05-03 11:29:11       1618.0\n",
       "3    1  2019-05-03 11:30:01       1601.0\n",
       "4    1  2019-05-03 11:30:39       1613.0"
      ]
     },
     "metadata": {},
     "output_type": "display_data"
    },
    {
     "name": "stdout",
     "output_type": "stream",
     "text": [
      "<class 'pandas.core.frame.DataFrame'>\n",
      "RangeIndex: 15907 entries, 0 to 15906\n",
      "Data columns (total 3 columns):\n",
      " #   Column        Non-Null Count  Dtype  \n",
      "---  ------        --------------  -----  \n",
      " 0   key           15907 non-null  int64  \n",
      " 1   Время замера  15907 non-null  object \n",
      " 2   Температура   13006 non-null  float64\n",
      "dtypes: float64(1), int64(1), object(1)\n",
      "memory usage: 372.9+ KB\n"
     ]
    },
    {
     "data": {
      "text/plain": [
       "None"
      ]
     },
     "metadata": {},
     "output_type": "display_data"
    },
    {
     "data": {
      "text/html": [
       "<div>\n",
       "<style scoped>\n",
       "    .dataframe tbody tr th:only-of-type {\n",
       "        vertical-align: middle;\n",
       "    }\n",
       "\n",
       "    .dataframe tbody tr th {\n",
       "        vertical-align: top;\n",
       "    }\n",
       "\n",
       "    .dataframe thead th {\n",
       "        text-align: right;\n",
       "    }\n",
       "</style>\n",
       "<table border=\"1\" class=\"dataframe\">\n",
       "  <thead>\n",
       "    <tr style=\"text-align: right;\">\n",
       "      <th></th>\n",
       "      <th>key</th>\n",
       "      <th>Температура</th>\n",
       "    </tr>\n",
       "  </thead>\n",
       "  <tbody>\n",
       "    <tr>\n",
       "      <th>count</th>\n",
       "      <td>15907.000000</td>\n",
       "      <td>13006.000000</td>\n",
       "    </tr>\n",
       "    <tr>\n",
       "      <th>mean</th>\n",
       "      <td>1607.880870</td>\n",
       "      <td>1591.840920</td>\n",
       "    </tr>\n",
       "    <tr>\n",
       "      <th>std</th>\n",
       "      <td>942.212073</td>\n",
       "      <td>21.375851</td>\n",
       "    </tr>\n",
       "    <tr>\n",
       "      <th>min</th>\n",
       "      <td>1.000000</td>\n",
       "      <td>1191.000000</td>\n",
       "    </tr>\n",
       "    <tr>\n",
       "      <th>25%</th>\n",
       "      <td>790.000000</td>\n",
       "      <td>1581.000000</td>\n",
       "    </tr>\n",
       "    <tr>\n",
       "      <th>50%</th>\n",
       "      <td>1618.000000</td>\n",
       "      <td>1591.000000</td>\n",
       "    </tr>\n",
       "    <tr>\n",
       "      <th>75%</th>\n",
       "      <td>2427.000000</td>\n",
       "      <td>1601.000000</td>\n",
       "    </tr>\n",
       "    <tr>\n",
       "      <th>max</th>\n",
       "      <td>3241.000000</td>\n",
       "      <td>1705.000000</td>\n",
       "    </tr>\n",
       "  </tbody>\n",
       "</table>\n",
       "</div>"
      ],
      "text/plain": [
       "                key   Температура\n",
       "count  15907.000000  13006.000000\n",
       "mean    1607.880870   1591.840920\n",
       "std      942.212073     21.375851\n",
       "min        1.000000   1191.000000\n",
       "25%      790.000000   1581.000000\n",
       "50%     1618.000000   1591.000000\n",
       "75%     2427.000000   1601.000000\n",
       "max     3241.000000   1705.000000"
      ]
     },
     "metadata": {},
     "output_type": "display_data"
    }
   ],
   "source": [
    "data_temp = pd.read_csv('/datasets/final_steel/data_temp.csv')\n",
    "display(data_temp.head())\n",
    "display(data_temp.info())\n",
    "display(data_temp.describe())"
   ]
  },
  {
   "cell_type": "markdown",
   "metadata": {},
   "source": [
    "Корректировка наименований столбцов"
   ]
  },
  {
   "cell_type": "code",
   "execution_count": 31,
   "metadata": {},
   "outputs": [],
   "source": [
    "data_temp = data_temp.rename(columns={'key': 'key', 'Время замера': 'measure_time', 'Температура': 'temp'})"
   ]
  },
  {
   "cell_type": "code",
   "execution_count": 32,
   "metadata": {},
   "outputs": [
    {
     "data": {
      "text/html": [
       "<div>\n",
       "<style scoped>\n",
       "    .dataframe tbody tr th:only-of-type {\n",
       "        vertical-align: middle;\n",
       "    }\n",
       "\n",
       "    .dataframe tbody tr th {\n",
       "        vertical-align: top;\n",
       "    }\n",
       "\n",
       "    .dataframe thead th {\n",
       "        text-align: right;\n",
       "    }\n",
       "</style>\n",
       "<table border=\"1\" class=\"dataframe\">\n",
       "  <thead>\n",
       "    <tr style=\"text-align: right;\">\n",
       "      <th></th>\n",
       "      <th>key</th>\n",
       "      <th>measure_time</th>\n",
       "      <th>temp</th>\n",
       "    </tr>\n",
       "  </thead>\n",
       "  <tbody>\n",
       "    <tr>\n",
       "      <th>0</th>\n",
       "      <td>1</td>\n",
       "      <td>2019-05-03 11:16:18</td>\n",
       "      <td>1571.0</td>\n",
       "    </tr>\n",
       "    <tr>\n",
       "      <th>1</th>\n",
       "      <td>1</td>\n",
       "      <td>2019-05-03 11:25:53</td>\n",
       "      <td>1604.0</td>\n",
       "    </tr>\n",
       "    <tr>\n",
       "      <th>2</th>\n",
       "      <td>1</td>\n",
       "      <td>2019-05-03 11:29:11</td>\n",
       "      <td>1618.0</td>\n",
       "    </tr>\n",
       "    <tr>\n",
       "      <th>3</th>\n",
       "      <td>1</td>\n",
       "      <td>2019-05-03 11:30:01</td>\n",
       "      <td>1601.0</td>\n",
       "    </tr>\n",
       "    <tr>\n",
       "      <th>4</th>\n",
       "      <td>1</td>\n",
       "      <td>2019-05-03 11:30:39</td>\n",
       "      <td>1613.0</td>\n",
       "    </tr>\n",
       "  </tbody>\n",
       "</table>\n",
       "</div>"
      ],
      "text/plain": [
       "   key         measure_time    temp\n",
       "0    1  2019-05-03 11:16:18  1571.0\n",
       "1    1  2019-05-03 11:25:53  1604.0\n",
       "2    1  2019-05-03 11:29:11  1618.0\n",
       "3    1  2019-05-03 11:30:01  1601.0\n",
       "4    1  2019-05-03 11:30:39  1613.0"
      ]
     },
     "execution_count": 32,
     "metadata": {},
     "output_type": "execute_result"
    }
   ],
   "source": [
    "data_temp.head()"
   ]
  },
  {
   "cell_type": "markdown",
   "metadata": {},
   "source": [
    "Удалим партии с температурой ниже 1400 градусов"
   ]
  },
  {
   "cell_type": "code",
   "execution_count": 33,
   "metadata": {},
   "outputs": [],
   "source": [
    "list_bad_temp = list(data_temp.query('temp < 1400')['key'].values)\n",
    "data_temp = data_temp.query('key != @list_bad_temp')"
   ]
  },
  {
   "cell_type": "code",
   "execution_count": 34,
   "metadata": {},
   "outputs": [
    {
     "data": {
      "text/plain": [
       "[867, 1214, 1619, 1818, 1818, 2052, 2561]"
      ]
     },
     "execution_count": 34,
     "metadata": {},
     "output_type": "execute_result"
    }
   ],
   "source": [
    "list_bad_temp"
   ]
  },
  {
   "cell_type": "markdown",
   "metadata": {},
   "source": [
    "#### Данные о проволочных материалах (объём)"
   ]
  },
  {
   "cell_type": "code",
   "execution_count": 35,
   "metadata": {},
   "outputs": [
    {
     "data": {
      "text/html": [
       "<div>\n",
       "<style scoped>\n",
       "    .dataframe tbody tr th:only-of-type {\n",
       "        vertical-align: middle;\n",
       "    }\n",
       "\n",
       "    .dataframe tbody tr th {\n",
       "        vertical-align: top;\n",
       "    }\n",
       "\n",
       "    .dataframe thead th {\n",
       "        text-align: right;\n",
       "    }\n",
       "</style>\n",
       "<table border=\"1\" class=\"dataframe\">\n",
       "  <thead>\n",
       "    <tr style=\"text-align: right;\">\n",
       "      <th></th>\n",
       "      <th>key</th>\n",
       "      <th>Wire 1</th>\n",
       "      <th>Wire 2</th>\n",
       "      <th>Wire 3</th>\n",
       "      <th>Wire 4</th>\n",
       "      <th>Wire 5</th>\n",
       "      <th>Wire 6</th>\n",
       "      <th>Wire 7</th>\n",
       "      <th>Wire 8</th>\n",
       "      <th>Wire 9</th>\n",
       "    </tr>\n",
       "  </thead>\n",
       "  <tbody>\n",
       "    <tr>\n",
       "      <th>0</th>\n",
       "      <td>1</td>\n",
       "      <td>60.059998</td>\n",
       "      <td>NaN</td>\n",
       "      <td>NaN</td>\n",
       "      <td>NaN</td>\n",
       "      <td>NaN</td>\n",
       "      <td>NaN</td>\n",
       "      <td>NaN</td>\n",
       "      <td>NaN</td>\n",
       "      <td>NaN</td>\n",
       "    </tr>\n",
       "    <tr>\n",
       "      <th>1</th>\n",
       "      <td>2</td>\n",
       "      <td>96.052315</td>\n",
       "      <td>NaN</td>\n",
       "      <td>NaN</td>\n",
       "      <td>NaN</td>\n",
       "      <td>NaN</td>\n",
       "      <td>NaN</td>\n",
       "      <td>NaN</td>\n",
       "      <td>NaN</td>\n",
       "      <td>NaN</td>\n",
       "    </tr>\n",
       "    <tr>\n",
       "      <th>2</th>\n",
       "      <td>3</td>\n",
       "      <td>91.160157</td>\n",
       "      <td>NaN</td>\n",
       "      <td>NaN</td>\n",
       "      <td>NaN</td>\n",
       "      <td>NaN</td>\n",
       "      <td>NaN</td>\n",
       "      <td>NaN</td>\n",
       "      <td>NaN</td>\n",
       "      <td>NaN</td>\n",
       "    </tr>\n",
       "    <tr>\n",
       "      <th>3</th>\n",
       "      <td>4</td>\n",
       "      <td>89.063515</td>\n",
       "      <td>NaN</td>\n",
       "      <td>NaN</td>\n",
       "      <td>NaN</td>\n",
       "      <td>NaN</td>\n",
       "      <td>NaN</td>\n",
       "      <td>NaN</td>\n",
       "      <td>NaN</td>\n",
       "      <td>NaN</td>\n",
       "    </tr>\n",
       "    <tr>\n",
       "      <th>4</th>\n",
       "      <td>5</td>\n",
       "      <td>89.238236</td>\n",
       "      <td>9.11456</td>\n",
       "      <td>NaN</td>\n",
       "      <td>NaN</td>\n",
       "      <td>NaN</td>\n",
       "      <td>NaN</td>\n",
       "      <td>NaN</td>\n",
       "      <td>NaN</td>\n",
       "      <td>NaN</td>\n",
       "    </tr>\n",
       "  </tbody>\n",
       "</table>\n",
       "</div>"
      ],
      "text/plain": [
       "   key     Wire 1   Wire 2  Wire 3  Wire 4  Wire 5  Wire 6  Wire 7  Wire 8  \\\n",
       "0    1  60.059998      NaN     NaN     NaN     NaN     NaN     NaN     NaN   \n",
       "1    2  96.052315      NaN     NaN     NaN     NaN     NaN     NaN     NaN   \n",
       "2    3  91.160157      NaN     NaN     NaN     NaN     NaN     NaN     NaN   \n",
       "3    4  89.063515      NaN     NaN     NaN     NaN     NaN     NaN     NaN   \n",
       "4    5  89.238236  9.11456     NaN     NaN     NaN     NaN     NaN     NaN   \n",
       "\n",
       "   Wire 9  \n",
       "0     NaN  \n",
       "1     NaN  \n",
       "2     NaN  \n",
       "3     NaN  \n",
       "4     NaN  "
      ]
     },
     "metadata": {},
     "output_type": "display_data"
    },
    {
     "name": "stdout",
     "output_type": "stream",
     "text": [
      "<class 'pandas.core.frame.DataFrame'>\n",
      "RangeIndex: 3081 entries, 0 to 3080\n",
      "Data columns (total 10 columns):\n",
      " #   Column  Non-Null Count  Dtype  \n",
      "---  ------  --------------  -----  \n",
      " 0   key     3081 non-null   int64  \n",
      " 1   Wire 1  3055 non-null   float64\n",
      " 2   Wire 2  1079 non-null   float64\n",
      " 3   Wire 3  63 non-null     float64\n",
      " 4   Wire 4  14 non-null     float64\n",
      " 5   Wire 5  1 non-null      float64\n",
      " 6   Wire 6  73 non-null     float64\n",
      " 7   Wire 7  11 non-null     float64\n",
      " 8   Wire 8  19 non-null     float64\n",
      " 9   Wire 9  29 non-null     float64\n",
      "dtypes: float64(9), int64(1)\n",
      "memory usage: 240.8 KB\n"
     ]
    },
    {
     "data": {
      "text/plain": [
       "None"
      ]
     },
     "metadata": {},
     "output_type": "display_data"
    },
    {
     "data": {
      "text/html": [
       "<div>\n",
       "<style scoped>\n",
       "    .dataframe tbody tr th:only-of-type {\n",
       "        vertical-align: middle;\n",
       "    }\n",
       "\n",
       "    .dataframe tbody tr th {\n",
       "        vertical-align: top;\n",
       "    }\n",
       "\n",
       "    .dataframe thead th {\n",
       "        text-align: right;\n",
       "    }\n",
       "</style>\n",
       "<table border=\"1\" class=\"dataframe\">\n",
       "  <thead>\n",
       "    <tr style=\"text-align: right;\">\n",
       "      <th></th>\n",
       "      <th>key</th>\n",
       "      <th>Wire 1</th>\n",
       "      <th>Wire 2</th>\n",
       "      <th>Wire 3</th>\n",
       "      <th>Wire 4</th>\n",
       "      <th>Wire 5</th>\n",
       "      <th>Wire 6</th>\n",
       "      <th>Wire 7</th>\n",
       "      <th>Wire 8</th>\n",
       "      <th>Wire 9</th>\n",
       "    </tr>\n",
       "  </thead>\n",
       "  <tbody>\n",
       "    <tr>\n",
       "      <th>count</th>\n",
       "      <td>3081.000000</td>\n",
       "      <td>3055.000000</td>\n",
       "      <td>1079.000000</td>\n",
       "      <td>63.000000</td>\n",
       "      <td>14.000000</td>\n",
       "      <td>1.000</td>\n",
       "      <td>73.000000</td>\n",
       "      <td>11.000000</td>\n",
       "      <td>19.000000</td>\n",
       "      <td>29.000000</td>\n",
       "    </tr>\n",
       "    <tr>\n",
       "      <th>mean</th>\n",
       "      <td>1623.426485</td>\n",
       "      <td>100.895853</td>\n",
       "      <td>50.577323</td>\n",
       "      <td>189.482681</td>\n",
       "      <td>57.442841</td>\n",
       "      <td>15.132</td>\n",
       "      <td>48.016974</td>\n",
       "      <td>10.039007</td>\n",
       "      <td>53.625193</td>\n",
       "      <td>34.155752</td>\n",
       "    </tr>\n",
       "    <tr>\n",
       "      <th>std</th>\n",
       "      <td>932.996726</td>\n",
       "      <td>42.012518</td>\n",
       "      <td>39.320216</td>\n",
       "      <td>99.513444</td>\n",
       "      <td>28.824667</td>\n",
       "      <td>NaN</td>\n",
       "      <td>33.919845</td>\n",
       "      <td>8.610584</td>\n",
       "      <td>16.881728</td>\n",
       "      <td>19.931616</td>\n",
       "    </tr>\n",
       "    <tr>\n",
       "      <th>min</th>\n",
       "      <td>1.000000</td>\n",
       "      <td>1.918800</td>\n",
       "      <td>0.030160</td>\n",
       "      <td>0.144144</td>\n",
       "      <td>24.148801</td>\n",
       "      <td>15.132</td>\n",
       "      <td>0.034320</td>\n",
       "      <td>0.234208</td>\n",
       "      <td>45.076721</td>\n",
       "      <td>4.622800</td>\n",
       "    </tr>\n",
       "    <tr>\n",
       "      <th>25%</th>\n",
       "      <td>823.000000</td>\n",
       "      <td>72.115684</td>\n",
       "      <td>20.193680</td>\n",
       "      <td>95.135044</td>\n",
       "      <td>40.807002</td>\n",
       "      <td>15.132</td>\n",
       "      <td>25.053600</td>\n",
       "      <td>6.762756</td>\n",
       "      <td>46.094879</td>\n",
       "      <td>22.058401</td>\n",
       "    </tr>\n",
       "    <tr>\n",
       "      <th>50%</th>\n",
       "      <td>1619.000000</td>\n",
       "      <td>100.158234</td>\n",
       "      <td>40.142956</td>\n",
       "      <td>235.194977</td>\n",
       "      <td>45.234282</td>\n",
       "      <td>15.132</td>\n",
       "      <td>42.076324</td>\n",
       "      <td>9.017009</td>\n",
       "      <td>46.279999</td>\n",
       "      <td>30.066399</td>\n",
       "    </tr>\n",
       "    <tr>\n",
       "      <th>75%</th>\n",
       "      <td>2434.000000</td>\n",
       "      <td>126.060483</td>\n",
       "      <td>70.227558</td>\n",
       "      <td>276.252014</td>\n",
       "      <td>76.124619</td>\n",
       "      <td>15.132</td>\n",
       "      <td>64.212723</td>\n",
       "      <td>11.886057</td>\n",
       "      <td>48.089603</td>\n",
       "      <td>43.862003</td>\n",
       "    </tr>\n",
       "    <tr>\n",
       "      <th>max</th>\n",
       "      <td>3241.000000</td>\n",
       "      <td>330.314424</td>\n",
       "      <td>282.780152</td>\n",
       "      <td>385.008668</td>\n",
       "      <td>113.231044</td>\n",
       "      <td>15.132</td>\n",
       "      <td>180.454575</td>\n",
       "      <td>32.847674</td>\n",
       "      <td>102.762401</td>\n",
       "      <td>90.053604</td>\n",
       "    </tr>\n",
       "  </tbody>\n",
       "</table>\n",
       "</div>"
      ],
      "text/plain": [
       "               key       Wire 1       Wire 2      Wire 3      Wire 4  Wire 5  \\\n",
       "count  3081.000000  3055.000000  1079.000000   63.000000   14.000000   1.000   \n",
       "mean   1623.426485   100.895853    50.577323  189.482681   57.442841  15.132   \n",
       "std     932.996726    42.012518    39.320216   99.513444   28.824667     NaN   \n",
       "min       1.000000     1.918800     0.030160    0.144144   24.148801  15.132   \n",
       "25%     823.000000    72.115684    20.193680   95.135044   40.807002  15.132   \n",
       "50%    1619.000000   100.158234    40.142956  235.194977   45.234282  15.132   \n",
       "75%    2434.000000   126.060483    70.227558  276.252014   76.124619  15.132   \n",
       "max    3241.000000   330.314424   282.780152  385.008668  113.231044  15.132   \n",
       "\n",
       "           Wire 6     Wire 7      Wire 8     Wire 9  \n",
       "count   73.000000  11.000000   19.000000  29.000000  \n",
       "mean    48.016974  10.039007   53.625193  34.155752  \n",
       "std     33.919845   8.610584   16.881728  19.931616  \n",
       "min      0.034320   0.234208   45.076721   4.622800  \n",
       "25%     25.053600   6.762756   46.094879  22.058401  \n",
       "50%     42.076324   9.017009   46.279999  30.066399  \n",
       "75%     64.212723  11.886057   48.089603  43.862003  \n",
       "max    180.454575  32.847674  102.762401  90.053604  "
      ]
     },
     "metadata": {},
     "output_type": "display_data"
    }
   ],
   "source": [
    "data_wire = pd.read_csv('/datasets/final_steel/data_wire.csv')\n",
    "display(data_wire.head())\n",
    "display(data_wire.info())\n",
    "display(data_wire.describe())"
   ]
  },
  {
   "cell_type": "markdown",
   "metadata": {},
   "source": [
    "#### Данные о проволочных материалах (время)"
   ]
  },
  {
   "cell_type": "code",
   "execution_count": 36,
   "metadata": {},
   "outputs": [
    {
     "data": {
      "text/html": [
       "<div>\n",
       "<style scoped>\n",
       "    .dataframe tbody tr th:only-of-type {\n",
       "        vertical-align: middle;\n",
       "    }\n",
       "\n",
       "    .dataframe tbody tr th {\n",
       "        vertical-align: top;\n",
       "    }\n",
       "\n",
       "    .dataframe thead th {\n",
       "        text-align: right;\n",
       "    }\n",
       "</style>\n",
       "<table border=\"1\" class=\"dataframe\">\n",
       "  <thead>\n",
       "    <tr style=\"text-align: right;\">\n",
       "      <th></th>\n",
       "      <th>key</th>\n",
       "      <th>Wire 1</th>\n",
       "      <th>Wire 2</th>\n",
       "      <th>Wire 3</th>\n",
       "      <th>Wire 4</th>\n",
       "      <th>Wire 5</th>\n",
       "      <th>Wire 6</th>\n",
       "      <th>Wire 7</th>\n",
       "      <th>Wire 8</th>\n",
       "      <th>Wire 9</th>\n",
       "    </tr>\n",
       "  </thead>\n",
       "  <tbody>\n",
       "    <tr>\n",
       "      <th>0</th>\n",
       "      <td>1</td>\n",
       "      <td>2019-05-03 11:11:41</td>\n",
       "      <td>NaN</td>\n",
       "      <td>NaN</td>\n",
       "      <td>NaN</td>\n",
       "      <td>NaN</td>\n",
       "      <td>NaN</td>\n",
       "      <td>NaN</td>\n",
       "      <td>NaN</td>\n",
       "      <td>NaN</td>\n",
       "    </tr>\n",
       "    <tr>\n",
       "      <th>1</th>\n",
       "      <td>2</td>\n",
       "      <td>2019-05-03 11:46:10</td>\n",
       "      <td>NaN</td>\n",
       "      <td>NaN</td>\n",
       "      <td>NaN</td>\n",
       "      <td>NaN</td>\n",
       "      <td>NaN</td>\n",
       "      <td>NaN</td>\n",
       "      <td>NaN</td>\n",
       "      <td>NaN</td>\n",
       "    </tr>\n",
       "    <tr>\n",
       "      <th>2</th>\n",
       "      <td>3</td>\n",
       "      <td>2019-05-03 12:13:47</td>\n",
       "      <td>NaN</td>\n",
       "      <td>NaN</td>\n",
       "      <td>NaN</td>\n",
       "      <td>NaN</td>\n",
       "      <td>NaN</td>\n",
       "      <td>NaN</td>\n",
       "      <td>NaN</td>\n",
       "      <td>NaN</td>\n",
       "    </tr>\n",
       "    <tr>\n",
       "      <th>3</th>\n",
       "      <td>4</td>\n",
       "      <td>2019-05-03 12:48:05</td>\n",
       "      <td>NaN</td>\n",
       "      <td>NaN</td>\n",
       "      <td>NaN</td>\n",
       "      <td>NaN</td>\n",
       "      <td>NaN</td>\n",
       "      <td>NaN</td>\n",
       "      <td>NaN</td>\n",
       "      <td>NaN</td>\n",
       "    </tr>\n",
       "    <tr>\n",
       "      <th>4</th>\n",
       "      <td>5</td>\n",
       "      <td>2019-05-03 13:18:15</td>\n",
       "      <td>2019-05-03 13:32:06</td>\n",
       "      <td>NaN</td>\n",
       "      <td>NaN</td>\n",
       "      <td>NaN</td>\n",
       "      <td>NaN</td>\n",
       "      <td>NaN</td>\n",
       "      <td>NaN</td>\n",
       "      <td>NaN</td>\n",
       "    </tr>\n",
       "  </tbody>\n",
       "</table>\n",
       "</div>"
      ],
      "text/plain": [
       "   key               Wire 1               Wire 2 Wire 3 Wire 4 Wire 5 Wire 6  \\\n",
       "0    1  2019-05-03 11:11:41                  NaN    NaN    NaN    NaN    NaN   \n",
       "1    2  2019-05-03 11:46:10                  NaN    NaN    NaN    NaN    NaN   \n",
       "2    3  2019-05-03 12:13:47                  NaN    NaN    NaN    NaN    NaN   \n",
       "3    4  2019-05-03 12:48:05                  NaN    NaN    NaN    NaN    NaN   \n",
       "4    5  2019-05-03 13:18:15  2019-05-03 13:32:06    NaN    NaN    NaN    NaN   \n",
       "\n",
       "  Wire 7 Wire 8 Wire 9  \n",
       "0    NaN    NaN    NaN  \n",
       "1    NaN    NaN    NaN  \n",
       "2    NaN    NaN    NaN  \n",
       "3    NaN    NaN    NaN  \n",
       "4    NaN    NaN    NaN  "
      ]
     },
     "metadata": {},
     "output_type": "display_data"
    },
    {
     "name": "stdout",
     "output_type": "stream",
     "text": [
      "<class 'pandas.core.frame.DataFrame'>\n",
      "RangeIndex: 3081 entries, 0 to 3080\n",
      "Data columns (total 10 columns):\n",
      " #   Column  Non-Null Count  Dtype \n",
      "---  ------  --------------  ----- \n",
      " 0   key     3081 non-null   int64 \n",
      " 1   Wire 1  3055 non-null   object\n",
      " 2   Wire 2  1079 non-null   object\n",
      " 3   Wire 3  63 non-null     object\n",
      " 4   Wire 4  14 non-null     object\n",
      " 5   Wire 5  1 non-null      object\n",
      " 6   Wire 6  73 non-null     object\n",
      " 7   Wire 7  11 non-null     object\n",
      " 8   Wire 8  19 non-null     object\n",
      " 9   Wire 9  29 non-null     object\n",
      "dtypes: int64(1), object(9)\n",
      "memory usage: 240.8+ KB\n"
     ]
    },
    {
     "data": {
      "text/plain": [
       "None"
      ]
     },
     "metadata": {},
     "output_type": "display_data"
    },
    {
     "data": {
      "text/html": [
       "<div>\n",
       "<style scoped>\n",
       "    .dataframe tbody tr th:only-of-type {\n",
       "        vertical-align: middle;\n",
       "    }\n",
       "\n",
       "    .dataframe tbody tr th {\n",
       "        vertical-align: top;\n",
       "    }\n",
       "\n",
       "    .dataframe thead th {\n",
       "        text-align: right;\n",
       "    }\n",
       "</style>\n",
       "<table border=\"1\" class=\"dataframe\">\n",
       "  <thead>\n",
       "    <tr style=\"text-align: right;\">\n",
       "      <th></th>\n",
       "      <th>key</th>\n",
       "    </tr>\n",
       "  </thead>\n",
       "  <tbody>\n",
       "    <tr>\n",
       "      <th>count</th>\n",
       "      <td>3081.000000</td>\n",
       "    </tr>\n",
       "    <tr>\n",
       "      <th>mean</th>\n",
       "      <td>1623.426485</td>\n",
       "    </tr>\n",
       "    <tr>\n",
       "      <th>std</th>\n",
       "      <td>932.996726</td>\n",
       "    </tr>\n",
       "    <tr>\n",
       "      <th>min</th>\n",
       "      <td>1.000000</td>\n",
       "    </tr>\n",
       "    <tr>\n",
       "      <th>25%</th>\n",
       "      <td>823.000000</td>\n",
       "    </tr>\n",
       "    <tr>\n",
       "      <th>50%</th>\n",
       "      <td>1619.000000</td>\n",
       "    </tr>\n",
       "    <tr>\n",
       "      <th>75%</th>\n",
       "      <td>2434.000000</td>\n",
       "    </tr>\n",
       "    <tr>\n",
       "      <th>max</th>\n",
       "      <td>3241.000000</td>\n",
       "    </tr>\n",
       "  </tbody>\n",
       "</table>\n",
       "</div>"
      ],
      "text/plain": [
       "               key\n",
       "count  3081.000000\n",
       "mean   1623.426485\n",
       "std     932.996726\n",
       "min       1.000000\n",
       "25%     823.000000\n",
       "50%    1619.000000\n",
       "75%    2434.000000\n",
       "max    3241.000000"
      ]
     },
     "metadata": {},
     "output_type": "display_data"
    }
   ],
   "source": [
    "data_wire_time = pd.read_csv('/datasets/final_steel/data_wire_time.csv')\n",
    "display(data_wire_time.head())\n",
    "display(data_wire_time.info())\n",
    "display(data_wire_time.describe())"
   ]
  },
  {
   "cell_type": "markdown",
   "metadata": {},
   "source": [
    "### Вывод"
   ]
  },
  {
   "cell_type": "markdown",
   "metadata": {},
   "source": [
    "Данные изучены. Выявлены следующие аномалии:\n",
    "\n",
    "- Пропуски значений в столбцах\n",
    "- Разное количество уникальных значений key\n",
    "- Именование столбцов на разных языках\n",
    "- Несоответсвующий тип данных\n",
    "- Аномальное значение реактивной мощности в таблице data_arc.\n",
    "\n",
    "Данные требуют предобработки и группировки по признаку key. Данные нормально распределены"
   ]
  },
  {
   "cell_type": "markdown",
   "metadata": {},
   "source": [
    "## Предобработка данных"
   ]
  },
  {
   "cell_type": "markdown",
   "metadata": {},
   "source": [
    "Так как целью задания является предсказание температуры стали, целевым признаком для обучения модели будет **финальный замер температуры (end_temp)**. Остальные столбцы будут обучающими признакми"
   ]
  },
  {
   "cell_type": "markdown",
   "metadata": {},
   "source": [
    "Найдем суммы значений активной и реактивной мощности"
   ]
  },
  {
   "cell_type": "code",
   "execution_count": 37,
   "metadata": {},
   "outputs": [
    {
     "data": {
      "text/html": [
       "<div>\n",
       "<style scoped>\n",
       "    .dataframe tbody tr th:only-of-type {\n",
       "        vertical-align: middle;\n",
       "    }\n",
       "\n",
       "    .dataframe tbody tr th {\n",
       "        vertical-align: top;\n",
       "    }\n",
       "\n",
       "    .dataframe thead th {\n",
       "        text-align: right;\n",
       "    }\n",
       "</style>\n",
       "<table border=\"1\" class=\"dataframe\">\n",
       "  <thead>\n",
       "    <tr style=\"text-align: right;\">\n",
       "      <th></th>\n",
       "      <th>sum_active_power</th>\n",
       "      <th>sum_reactive_power</th>\n",
       "    </tr>\n",
       "    <tr>\n",
       "      <th>key</th>\n",
       "      <th></th>\n",
       "      <th></th>\n",
       "    </tr>\n",
       "  </thead>\n",
       "  <tbody>\n",
       "    <tr>\n",
       "      <th>1</th>\n",
       "      <td>4.878147</td>\n",
       "      <td>3.183241</td>\n",
       "    </tr>\n",
       "    <tr>\n",
       "      <th>2</th>\n",
       "      <td>3.052598</td>\n",
       "      <td>1.998112</td>\n",
       "    </tr>\n",
       "    <tr>\n",
       "      <th>3</th>\n",
       "      <td>2.525882</td>\n",
       "      <td>1.599076</td>\n",
       "    </tr>\n",
       "    <tr>\n",
       "      <th>4</th>\n",
       "      <td>3.209250</td>\n",
       "      <td>2.060298</td>\n",
       "    </tr>\n",
       "    <tr>\n",
       "      <th>5</th>\n",
       "      <td>3.347173</td>\n",
       "      <td>2.252643</td>\n",
       "    </tr>\n",
       "  </tbody>\n",
       "</table>\n",
       "</div>"
      ],
      "text/plain": [
       "     sum_active_power  sum_reactive_power\n",
       "key                                      \n",
       "1            4.878147            3.183241\n",
       "2            3.052598            1.998112\n",
       "3            2.525882            1.599076\n",
       "4            3.209250            2.060298\n",
       "5            3.347173            2.252643"
      ]
     },
     "execution_count": 37,
     "metadata": {},
     "output_type": "execute_result"
    }
   ],
   "source": [
    "data_arc = data_arc.query('reactive_power > 0')\n",
    "data_arc_sum = pd.pivot_table(data_arc,\n",
    "                              values=['active_power','reactive_power'],\n",
    "                              index='key',\n",
    "                              aggfunc={'active_power': np.sum,\n",
    "                                      'reactive_power': np.sum})\n",
    "data_arc_sum.columns = ['sum_active_power','sum_reactive_power']\n",
    "data_arc_sum.head()"
   ]
  },
  {
   "cell_type": "markdown",
   "metadata": {},
   "source": [
    "Необходимо выделить партии в которых есть первое и последнее измерение температуры. Последнее измерение будет целевым признаком и если данных по нему нет, то данные по всей партии будут удалены"
   ]
  },
  {
   "cell_type": "code",
   "execution_count": 38,
   "metadata": {},
   "outputs": [],
   "source": [
    "bad_keys = []\n",
    "for key in list(data_temp['key'].unique()):\n",
    "    try:\n",
    "        if ((data_temp[data_temp['key'] == key]['measure_time'].max() < \n",
    "            data_arc[data_arc['key'] == key]['end_heating'].max()) or\n",
    "           (data_temp[data_temp['key'] == key]['measure_time'].max() == \n",
    "            data_temp[data_temp['key'] == key]['measure_time'].min())):\n",
    "            bad_keys.append(key)\n",
    "    except:\n",
    "        bad_keys.append(key)"
   ]
  },
  {
   "cell_type": "code",
   "execution_count": 39,
   "metadata": {},
   "outputs": [
    {
     "name": "stdout",
     "output_type": "stream",
     "text": [
      "<class 'pandas.core.frame.DataFrame'>\n",
      "Int64Index: 15126 entries, 0 to 15906\n",
      "Data columns (total 3 columns):\n",
      " #   Column        Non-Null Count  Dtype  \n",
      "---  ------        --------------  -----  \n",
      " 0   key           15126 non-null  int64  \n",
      " 1   measure_time  15126 non-null  object \n",
      " 2   temp          12336 non-null  float64\n",
      "dtypes: float64(1), int64(1), object(1)\n",
      "memory usage: 472.7+ KB\n"
     ]
    },
    {
     "data": {
      "text/html": [
       "<div>\n",
       "<style scoped>\n",
       "    .dataframe tbody tr th:only-of-type {\n",
       "        vertical-align: middle;\n",
       "    }\n",
       "\n",
       "    .dataframe tbody tr th {\n",
       "        vertical-align: top;\n",
       "    }\n",
       "\n",
       "    .dataframe thead th {\n",
       "        text-align: right;\n",
       "    }\n",
       "</style>\n",
       "<table border=\"1\" class=\"dataframe\">\n",
       "  <thead>\n",
       "    <tr style=\"text-align: right;\">\n",
       "      <th></th>\n",
       "      <th>key</th>\n",
       "      <th>measure_time</th>\n",
       "      <th>temp</th>\n",
       "    </tr>\n",
       "  </thead>\n",
       "  <tbody>\n",
       "    <tr>\n",
       "      <th>0</th>\n",
       "      <td>1</td>\n",
       "      <td>2019-05-03 11:16:18</td>\n",
       "      <td>1571.0</td>\n",
       "    </tr>\n",
       "    <tr>\n",
       "      <th>1</th>\n",
       "      <td>1</td>\n",
       "      <td>2019-05-03 11:25:53</td>\n",
       "      <td>1604.0</td>\n",
       "    </tr>\n",
       "    <tr>\n",
       "      <th>2</th>\n",
       "      <td>1</td>\n",
       "      <td>2019-05-03 11:29:11</td>\n",
       "      <td>1618.0</td>\n",
       "    </tr>\n",
       "    <tr>\n",
       "      <th>3</th>\n",
       "      <td>1</td>\n",
       "      <td>2019-05-03 11:30:01</td>\n",
       "      <td>1601.0</td>\n",
       "    </tr>\n",
       "    <tr>\n",
       "      <th>4</th>\n",
       "      <td>1</td>\n",
       "      <td>2019-05-03 11:30:39</td>\n",
       "      <td>1613.0</td>\n",
       "    </tr>\n",
       "  </tbody>\n",
       "</table>\n",
       "</div>"
      ],
      "text/plain": [
       "   key         measure_time    temp\n",
       "0    1  2019-05-03 11:16:18  1571.0\n",
       "1    1  2019-05-03 11:25:53  1604.0\n",
       "2    1  2019-05-03 11:29:11  1618.0\n",
       "3    1  2019-05-03 11:30:01  1601.0\n",
       "4    1  2019-05-03 11:30:39  1613.0"
      ]
     },
     "execution_count": 39,
     "metadata": {},
     "output_type": "execute_result"
    }
   ],
   "source": [
    "data_temp = data_temp.query('key not in @bad_keys')\n",
    "data_temp.info()\n",
    "data_temp.head()"
   ]
  },
  {
   "cell_type": "markdown",
   "metadata": {},
   "source": [
    "Удалим пропуски"
   ]
  },
  {
   "cell_type": "code",
   "execution_count": 40,
   "metadata": {},
   "outputs": [],
   "source": [
    "data_temp = data_temp.dropna()"
   ]
  },
  {
   "cell_type": "code",
   "execution_count": 41,
   "metadata": {},
   "outputs": [
    {
     "data": {
      "text/html": [
       "<div>\n",
       "<style scoped>\n",
       "    .dataframe tbody tr th:only-of-type {\n",
       "        vertical-align: middle;\n",
       "    }\n",
       "\n",
       "    .dataframe tbody tr th {\n",
       "        vertical-align: top;\n",
       "    }\n",
       "\n",
       "    .dataframe thead th {\n",
       "        text-align: right;\n",
       "    }\n",
       "</style>\n",
       "<table border=\"1\" class=\"dataframe\">\n",
       "  <thead>\n",
       "    <tr style=\"text-align: right;\">\n",
       "      <th></th>\n",
       "      <th>key</th>\n",
       "      <th>measure_time</th>\n",
       "      <th>temp</th>\n",
       "    </tr>\n",
       "  </thead>\n",
       "  <tbody>\n",
       "    <tr>\n",
       "      <th>0</th>\n",
       "      <td>1</td>\n",
       "      <td>2019-05-03 11:16:18</td>\n",
       "      <td>1571.0</td>\n",
       "    </tr>\n",
       "    <tr>\n",
       "      <th>1</th>\n",
       "      <td>1</td>\n",
       "      <td>2019-05-03 11:25:53</td>\n",
       "      <td>1604.0</td>\n",
       "    </tr>\n",
       "    <tr>\n",
       "      <th>2</th>\n",
       "      <td>1</td>\n",
       "      <td>2019-05-03 11:29:11</td>\n",
       "      <td>1618.0</td>\n",
       "    </tr>\n",
       "    <tr>\n",
       "      <th>3</th>\n",
       "      <td>1</td>\n",
       "      <td>2019-05-03 11:30:01</td>\n",
       "      <td>1601.0</td>\n",
       "    </tr>\n",
       "    <tr>\n",
       "      <th>4</th>\n",
       "      <td>1</td>\n",
       "      <td>2019-05-03 11:30:39</td>\n",
       "      <td>1613.0</td>\n",
       "    </tr>\n",
       "    <tr>\n",
       "      <th>...</th>\n",
       "      <td>...</td>\n",
       "      <td>...</td>\n",
       "      <td>...</td>\n",
       "    </tr>\n",
       "    <tr>\n",
       "      <th>15878</th>\n",
       "      <td>3237</td>\n",
       "      <td>2019-08-31 22:44:04</td>\n",
       "      <td>1569.0</td>\n",
       "    </tr>\n",
       "    <tr>\n",
       "      <th>15883</th>\n",
       "      <td>3238</td>\n",
       "      <td>2019-08-31 23:30:31</td>\n",
       "      <td>1584.0</td>\n",
       "    </tr>\n",
       "    <tr>\n",
       "      <th>15886</th>\n",
       "      <td>3239</td>\n",
       "      <td>2019-09-01 01:31:47</td>\n",
       "      <td>1598.0</td>\n",
       "    </tr>\n",
       "    <tr>\n",
       "      <th>15894</th>\n",
       "      <td>3240</td>\n",
       "      <td>2019-09-01 02:39:01</td>\n",
       "      <td>1617.0</td>\n",
       "    </tr>\n",
       "    <tr>\n",
       "      <th>15902</th>\n",
       "      <td>3241</td>\n",
       "      <td>2019-09-01 04:03:30</td>\n",
       "      <td>1586.0</td>\n",
       "    </tr>\n",
       "  </tbody>\n",
       "</table>\n",
       "<p>12336 rows × 3 columns</p>\n",
       "</div>"
      ],
      "text/plain": [
       "        key         measure_time    temp\n",
       "0         1  2019-05-03 11:16:18  1571.0\n",
       "1         1  2019-05-03 11:25:53  1604.0\n",
       "2         1  2019-05-03 11:29:11  1618.0\n",
       "3         1  2019-05-03 11:30:01  1601.0\n",
       "4         1  2019-05-03 11:30:39  1613.0\n",
       "...     ...                  ...     ...\n",
       "15878  3237  2019-08-31 22:44:04  1569.0\n",
       "15883  3238  2019-08-31 23:30:31  1584.0\n",
       "15886  3239  2019-09-01 01:31:47  1598.0\n",
       "15894  3240  2019-09-01 02:39:01  1617.0\n",
       "15902  3241  2019-09-01 04:03:30  1586.0\n",
       "\n",
       "[12336 rows x 3 columns]"
      ]
     },
     "execution_count": 41,
     "metadata": {},
     "output_type": "execute_result"
    }
   ],
   "source": [
    "data_temp"
   ]
  },
  {
   "cell_type": "markdown",
   "metadata": {},
   "source": [
    "Удалим из таблицы строки, в которых меньше двух замеров"
   ]
  },
  {
   "cell_type": "code",
   "execution_count": 42,
   "metadata": {},
   "outputs": [],
   "source": [
    "count_of_bad_keys = (data_temp['key'].value_counts() < 2).sum() \n",
    "good_keys = list(data_temp['key'].value_counts().index[:-count_of_bad_keys])\n",
    "data_temp = data_temp.query('key in @good_keys')"
   ]
  },
  {
   "cell_type": "markdown",
   "metadata": {},
   "source": [
    "Получим сводную таблицу со значениями первого и последнего замера, чтоб на его основе создать сводную таблицу уже по значениям температур на этих замерах"
   ]
  },
  {
   "cell_type": "code",
   "execution_count": 43,
   "metadata": {},
   "outputs": [
    {
     "data": {
      "text/html": [
       "<div>\n",
       "<style scoped>\n",
       "    .dataframe tbody tr th:only-of-type {\n",
       "        vertical-align: middle;\n",
       "    }\n",
       "\n",
       "    .dataframe tbody tr th {\n",
       "        vertical-align: top;\n",
       "    }\n",
       "\n",
       "    .dataframe thead th {\n",
       "        text-align: right;\n",
       "    }\n",
       "</style>\n",
       "<table border=\"1\" class=\"dataframe\">\n",
       "  <thead>\n",
       "    <tr style=\"text-align: right;\">\n",
       "      <th></th>\n",
       "      <th>amax</th>\n",
       "      <th>amin</th>\n",
       "    </tr>\n",
       "    <tr>\n",
       "      <th>key</th>\n",
       "      <th></th>\n",
       "      <th></th>\n",
       "    </tr>\n",
       "  </thead>\n",
       "  <tbody>\n",
       "    <tr>\n",
       "      <th>1</th>\n",
       "      <td>2019-05-03 11:30:39</td>\n",
       "      <td>2019-05-03 11:16:18</td>\n",
       "    </tr>\n",
       "    <tr>\n",
       "      <th>2</th>\n",
       "      <td>2019-05-03 11:59:12</td>\n",
       "      <td>2019-05-03 11:37:27</td>\n",
       "    </tr>\n",
       "    <tr>\n",
       "      <th>3</th>\n",
       "      <td>2019-05-03 12:34:57</td>\n",
       "      <td>2019-05-03 12:13:17</td>\n",
       "    </tr>\n",
       "    <tr>\n",
       "      <th>4</th>\n",
       "      <td>2019-05-03 12:59:25</td>\n",
       "      <td>2019-05-03 12:52:57</td>\n",
       "    </tr>\n",
       "    <tr>\n",
       "      <th>5</th>\n",
       "      <td>2019-05-03 13:36:01</td>\n",
       "      <td>2019-05-03 13:23:19</td>\n",
       "    </tr>\n",
       "    <tr>\n",
       "      <th>...</th>\n",
       "      <td>...</td>\n",
       "      <td>...</td>\n",
       "    </tr>\n",
       "    <tr>\n",
       "      <th>2495</th>\n",
       "      <td>2019-08-06 00:54:42</td>\n",
       "      <td>2019-08-06 00:35:45</td>\n",
       "    </tr>\n",
       "    <tr>\n",
       "      <th>2496</th>\n",
       "      <td>2019-08-06 01:29:52</td>\n",
       "      <td>2019-08-06 01:02:54</td>\n",
       "    </tr>\n",
       "    <tr>\n",
       "      <th>2497</th>\n",
       "      <td>2019-08-06 01:53:50</td>\n",
       "      <td>2019-08-06 01:41:53</td>\n",
       "    </tr>\n",
       "    <tr>\n",
       "      <th>2498</th>\n",
       "      <td>2019-08-06 02:25:31</td>\n",
       "      <td>2019-08-06 02:03:49</td>\n",
       "    </tr>\n",
       "    <tr>\n",
       "      <th>2499</th>\n",
       "      <td>2019-08-06 03:00:28</td>\n",
       "      <td>2019-08-06 02:40:25</td>\n",
       "    </tr>\n",
       "  </tbody>\n",
       "</table>\n",
       "<p>2339 rows × 2 columns</p>\n",
       "</div>"
      ],
      "text/plain": [
       "                     amax                 amin\n",
       "key                                           \n",
       "1     2019-05-03 11:30:39  2019-05-03 11:16:18\n",
       "2     2019-05-03 11:59:12  2019-05-03 11:37:27\n",
       "3     2019-05-03 12:34:57  2019-05-03 12:13:17\n",
       "4     2019-05-03 12:59:25  2019-05-03 12:52:57\n",
       "5     2019-05-03 13:36:01  2019-05-03 13:23:19\n",
       "...                   ...                  ...\n",
       "2495  2019-08-06 00:54:42  2019-08-06 00:35:45\n",
       "2496  2019-08-06 01:29:52  2019-08-06 01:02:54\n",
       "2497  2019-08-06 01:53:50  2019-08-06 01:41:53\n",
       "2498  2019-08-06 02:25:31  2019-08-06 02:03:49\n",
       "2499  2019-08-06 03:00:28  2019-08-06 02:40:25\n",
       "\n",
       "[2339 rows x 2 columns]"
      ]
     },
     "execution_count": 43,
     "metadata": {},
     "output_type": "execute_result"
    }
   ],
   "source": [
    "pt_data_temp = pd.pivot_table(data_temp,\n",
    "                              values='measure_time',\n",
    "                              index='key',\n",
    "                              aggfunc={'measure_time': [np.min, np.max]})\n",
    "pt_data_temp"
   ]
  },
  {
   "cell_type": "code",
   "execution_count": 44,
   "metadata": {},
   "outputs": [
    {
     "data": {
      "text/html": [
       "<div>\n",
       "<style scoped>\n",
       "    .dataframe tbody tr th:only-of-type {\n",
       "        vertical-align: middle;\n",
       "    }\n",
       "\n",
       "    .dataframe tbody tr th {\n",
       "        vertical-align: top;\n",
       "    }\n",
       "\n",
       "    .dataframe thead th {\n",
       "        text-align: right;\n",
       "    }\n",
       "</style>\n",
       "<table border=\"1\" class=\"dataframe\">\n",
       "  <thead>\n",
       "    <tr style=\"text-align: right;\">\n",
       "      <th></th>\n",
       "      <th>start_temp</th>\n",
       "      <th>end_temp</th>\n",
       "    </tr>\n",
       "    <tr>\n",
       "      <th>key</th>\n",
       "      <th></th>\n",
       "      <th></th>\n",
       "    </tr>\n",
       "  </thead>\n",
       "  <tbody>\n",
       "    <tr>\n",
       "      <th>1</th>\n",
       "      <td>1571.0</td>\n",
       "      <td>1613.0</td>\n",
       "    </tr>\n",
       "    <tr>\n",
       "      <th>2</th>\n",
       "      <td>1581.0</td>\n",
       "      <td>1602.0</td>\n",
       "    </tr>\n",
       "    <tr>\n",
       "      <th>3</th>\n",
       "      <td>1596.0</td>\n",
       "      <td>1599.0</td>\n",
       "    </tr>\n",
       "    <tr>\n",
       "      <th>4</th>\n",
       "      <td>1601.0</td>\n",
       "      <td>1625.0</td>\n",
       "    </tr>\n",
       "    <tr>\n",
       "      <th>5</th>\n",
       "      <td>1576.0</td>\n",
       "      <td>1602.0</td>\n",
       "    </tr>\n",
       "  </tbody>\n",
       "</table>\n",
       "</div>"
      ],
      "text/plain": [
       "     start_temp  end_temp\n",
       "key                      \n",
       "1        1571.0    1613.0\n",
       "2        1581.0    1602.0\n",
       "3        1596.0    1599.0\n",
       "4        1601.0    1625.0\n",
       "5        1576.0    1602.0"
      ]
     },
     "execution_count": 44,
     "metadata": {},
     "output_type": "execute_result"
    }
   ],
   "source": [
    "start_time_list = list(pt_data_temp['amin'])\n",
    "end_time_list = list(pt_data_temp['amax'])\n",
    "data_temp_start_temp = data_temp.query('measure_time in @start_time_list ')\n",
    "data_temp_start_temp = data_temp_start_temp.set_index('key')\n",
    "data_temp_end_temp = data_temp.query('measure_time in @end_time_list ')\n",
    "data_temp_end_temp = data_temp_end_temp.set_index('key')\n",
    "data_temp_final = data_temp_start_temp.copy()\n",
    "data_temp_final.columns = ['time','start_temp']\n",
    "data_temp_final['end_temp'] = data_temp_end_temp['temp']\n",
    "data_temp_final = data_temp_final.drop('time', axis=1)\n",
    "data_temp_final.head()"
   ]
  },
  {
   "cell_type": "code",
   "execution_count": 45,
   "metadata": {},
   "outputs": [
    {
     "data": {
      "text/html": [
       "<div>\n",
       "<style scoped>\n",
       "    .dataframe tbody tr th:only-of-type {\n",
       "        vertical-align: middle;\n",
       "    }\n",
       "\n",
       "    .dataframe tbody tr th {\n",
       "        vertical-align: top;\n",
       "    }\n",
       "\n",
       "    .dataframe thead th {\n",
       "        text-align: right;\n",
       "    }\n",
       "</style>\n",
       "<table border=\"1\" class=\"dataframe\">\n",
       "  <thead>\n",
       "    <tr style=\"text-align: right;\">\n",
       "      <th></th>\n",
       "      <th>start_temp</th>\n",
       "      <th>end_temp</th>\n",
       "    </tr>\n",
       "    <tr>\n",
       "      <th>key</th>\n",
       "      <th></th>\n",
       "      <th></th>\n",
       "    </tr>\n",
       "  </thead>\n",
       "  <tbody>\n",
       "    <tr>\n",
       "      <th>1</th>\n",
       "      <td>1571.0</td>\n",
       "      <td>1613.0</td>\n",
       "    </tr>\n",
       "    <tr>\n",
       "      <th>2</th>\n",
       "      <td>1581.0</td>\n",
       "      <td>1602.0</td>\n",
       "    </tr>\n",
       "    <tr>\n",
       "      <th>3</th>\n",
       "      <td>1596.0</td>\n",
       "      <td>1599.0</td>\n",
       "    </tr>\n",
       "    <tr>\n",
       "      <th>4</th>\n",
       "      <td>1601.0</td>\n",
       "      <td>1625.0</td>\n",
       "    </tr>\n",
       "    <tr>\n",
       "      <th>5</th>\n",
       "      <td>1576.0</td>\n",
       "      <td>1602.0</td>\n",
       "    </tr>\n",
       "    <tr>\n",
       "      <th>...</th>\n",
       "      <td>...</td>\n",
       "      <td>...</td>\n",
       "    </tr>\n",
       "    <tr>\n",
       "      <th>2495</th>\n",
       "      <td>1570.0</td>\n",
       "      <td>1591.0</td>\n",
       "    </tr>\n",
       "    <tr>\n",
       "      <th>2496</th>\n",
       "      <td>1554.0</td>\n",
       "      <td>1591.0</td>\n",
       "    </tr>\n",
       "    <tr>\n",
       "      <th>2497</th>\n",
       "      <td>1571.0</td>\n",
       "      <td>1589.0</td>\n",
       "    </tr>\n",
       "    <tr>\n",
       "      <th>2498</th>\n",
       "      <td>1591.0</td>\n",
       "      <td>1594.0</td>\n",
       "    </tr>\n",
       "    <tr>\n",
       "      <th>2499</th>\n",
       "      <td>1569.0</td>\n",
       "      <td>1603.0</td>\n",
       "    </tr>\n",
       "  </tbody>\n",
       "</table>\n",
       "<p>2339 rows × 2 columns</p>\n",
       "</div>"
      ],
      "text/plain": [
       "      start_temp  end_temp\n",
       "key                       \n",
       "1         1571.0    1613.0\n",
       "2         1581.0    1602.0\n",
       "3         1596.0    1599.0\n",
       "4         1601.0    1625.0\n",
       "5         1576.0    1602.0\n",
       "...          ...       ...\n",
       "2495      1570.0    1591.0\n",
       "2496      1554.0    1591.0\n",
       "2497      1571.0    1589.0\n",
       "2498      1591.0    1594.0\n",
       "2499      1569.0    1603.0\n",
       "\n",
       "[2339 rows x 2 columns]"
      ]
     },
     "execution_count": 45,
     "metadata": {},
     "output_type": "execute_result"
    }
   ],
   "source": [
    "data_temp_final"
   ]
  },
  {
   "cell_type": "markdown",
   "metadata": {},
   "source": [
    "Объединим таблицы"
   ]
  },
  {
   "cell_type": "code",
   "execution_count": 46,
   "metadata": {},
   "outputs": [],
   "source": [
    "data_bulk = data_bulk.fillna(0)\n",
    "data_wire = data_wire.fillna(0)"
   ]
  },
  {
   "cell_type": "code",
   "execution_count": 47,
   "metadata": {},
   "outputs": [],
   "source": [
    "data_bulk = data_bulk.set_index('key')\n",
    "data_bulk.columns = [f'bulk_{x}' for x in range(1,16)]\n",
    "data_gas = data_gas.set_index('key')\n",
    "data_gas.columns = ['gas']\n",
    "data_wire = data_wire.set_index('key')\n",
    "data_wire.columns = [f'wire_{x}' for x in range(1,10)]"
   ]
  },
  {
   "cell_type": "code",
   "execution_count": 48,
   "metadata": {},
   "outputs": [
    {
     "name": "stdout",
     "output_type": "stream",
     "text": [
      "<class 'pandas.core.frame.DataFrame'>\n",
      "Int64Index: 2206 entries, 1 to 2499\n",
      "Data columns (total 29 columns):\n",
      " #   Column              Non-Null Count  Dtype  \n",
      "---  ------              --------------  -----  \n",
      " 0   sum_active_power    2206 non-null   float64\n",
      " 1   sum_reactive_power  2206 non-null   float64\n",
      " 2   start_temp          2206 non-null   float64\n",
      " 3   end_temp            2206 non-null   float64\n",
      " 4   bulk_1              2206 non-null   float64\n",
      " 5   bulk_2              2206 non-null   float64\n",
      " 6   bulk_3              2206 non-null   float64\n",
      " 7   bulk_4              2206 non-null   float64\n",
      " 8   bulk_5              2206 non-null   float64\n",
      " 9   bulk_6              2206 non-null   float64\n",
      " 10  bulk_7              2206 non-null   float64\n",
      " 11  bulk_8              2206 non-null   float64\n",
      " 12  bulk_9              2206 non-null   float64\n",
      " 13  bulk_10             2206 non-null   float64\n",
      " 14  bulk_11             2206 non-null   float64\n",
      " 15  bulk_12             2206 non-null   float64\n",
      " 16  bulk_13             2206 non-null   float64\n",
      " 17  bulk_14             2206 non-null   float64\n",
      " 18  bulk_15             2206 non-null   float64\n",
      " 19  gas                 2206 non-null   float64\n",
      " 20  wire_1              2206 non-null   float64\n",
      " 21  wire_2              2206 non-null   float64\n",
      " 22  wire_3              2206 non-null   float64\n",
      " 23  wire_4              2206 non-null   float64\n",
      " 24  wire_5              2206 non-null   float64\n",
      " 25  wire_6              2206 non-null   float64\n",
      " 26  wire_7              2206 non-null   float64\n",
      " 27  wire_8              2206 non-null   float64\n",
      " 28  wire_9              2206 non-null   float64\n",
      "dtypes: float64(29)\n",
      "memory usage: 517.0 KB\n"
     ]
    }
   ],
   "source": [
    "data_steel = pd.concat([data_arc_sum, data_temp_final, data_bulk, data_gas, data_wire], axis=1, sort=False)\n",
    "data_steel = data_steel.dropna()\n",
    "data_steel.info()"
   ]
  },
  {
   "cell_type": "markdown",
   "metadata": {},
   "source": [
    "Столбцы start_temp, end_temp и bulk приведем к типу данных integer"
   ]
  },
  {
   "cell_type": "code",
   "execution_count": 49,
   "metadata": {
    "scrolled": true
   },
   "outputs": [
    {
     "name": "stdout",
     "output_type": "stream",
     "text": [
      "<class 'pandas.core.frame.DataFrame'>\n",
      "Int64Index: 2206 entries, 1 to 2499\n",
      "Data columns (total 29 columns):\n",
      " #   Column              Non-Null Count  Dtype  \n",
      "---  ------              --------------  -----  \n",
      " 0   sum_active_power    2206 non-null   float64\n",
      " 1   sum_reactive_power  2206 non-null   float64\n",
      " 2   start_temp          2206 non-null   int16  \n",
      " 3   end_temp            2206 non-null   int16  \n",
      " 4   bulk_1              2206 non-null   int16  \n",
      " 5   bulk_2              2206 non-null   int16  \n",
      " 6   bulk_3              2206 non-null   int16  \n",
      " 7   bulk_4              2206 non-null   int16  \n",
      " 8   bulk_5              2206 non-null   int16  \n",
      " 9   bulk_6              2206 non-null   int16  \n",
      " 10  bulk_7              2206 non-null   int16  \n",
      " 11  bulk_8              2206 non-null   int8   \n",
      " 12  bulk_9              2206 non-null   int16  \n",
      " 13  bulk_10             2206 non-null   int16  \n",
      " 14  bulk_11             2206 non-null   int16  \n",
      " 15  bulk_12             2206 non-null   int16  \n",
      " 16  bulk_13             2206 non-null   int16  \n",
      " 17  bulk_14             2206 non-null   int16  \n",
      " 18  bulk_15             2206 non-null   int16  \n",
      " 19  gas                 2206 non-null   float64\n",
      " 20  wire_1              2206 non-null   float64\n",
      " 21  wire_2              2206 non-null   float64\n",
      " 22  wire_3              2206 non-null   float64\n",
      " 23  wire_4              2206 non-null   float64\n",
      " 24  wire_5              2206 non-null   float64\n",
      " 25  wire_6              2206 non-null   float64\n",
      " 26  wire_7              2206 non-null   float64\n",
      " 27  wire_8              2206 non-null   float64\n",
      " 28  wire_9              2206 non-null   float64\n",
      "dtypes: float64(12), int16(16), int8(1)\n",
      "memory usage: 295.1 KB\n"
     ]
    }
   ],
   "source": [
    "data_steel['start_temp'] = pd.to_numeric(data_steel['start_temp'], downcast='integer')\n",
    "data_steel['end_temp'] = pd.to_numeric(data_steel['end_temp'], downcast='integer')\n",
    "for i in range(1,16):\n",
    "    data_steel[f'bulk_{i}'] = pd.to_numeric(data_steel[f'bulk_{i}'], downcast='integer')\n",
    "data_steel.info()"
   ]
  },
  {
   "cell_type": "code",
   "execution_count": 50,
   "metadata": {},
   "outputs": [
    {
     "data": {
      "text/plain": [
       "<AxesSubplot:>"
      ]
     },
     "execution_count": 50,
     "metadata": {},
     "output_type": "execute_result"
    },
    {
     "data": {
      "image/png": "[encoded data removed]",
      "text/plain": [
       "<Figure size 576x432 with 1 Axes>"
      ]
     },
     "metadata": {
      "needs_background": "light"
     },
     "output_type": "display_data"
    }
   ],
   "source": [
    "data_steel.boxplot(column='start_temp', figsize=(8,6))"
   ]
  },
  {
   "cell_type": "code",
   "execution_count": 51,
   "metadata": {},
   "outputs": [
    {
     "data": {
      "text/plain": [
       "<AxesSubplot:>"
      ]
     },
     "execution_count": 51,
     "metadata": {},
     "output_type": "execute_result"
    },
    {
     "data": {
      "image/png": "[encoded data removed]",
      "text/plain": [
       "<Figure size 576x432 with 1 Axes>"
      ]
     },
     "metadata": {
      "needs_background": "light"
     },
     "output_type": "display_data"
    }
   ],
   "source": [
    "data_steel.boxplot(column='end_temp', figsize=(8,6))"
   ]
  },
  {
   "cell_type": "code",
   "execution_count": 52,
   "metadata": {},
   "outputs": [
    {
     "data": {
      "text/plain": [
       "<AxesSubplot:>"
      ]
     },
     "execution_count": 52,
     "metadata": {},
     "output_type": "execute_result"
    },
    {
     "data": {
      "image/png": "[encoded data removed]",
      "text/plain": [
       "<Figure size 576x432 with 1 Axes>"
      ]
     },
     "metadata": {
      "needs_background": "light"
     },
     "output_type": "display_data"
    }
   ],
   "source": [
    "data_steel.boxplot(column='sum_active_power', figsize=(8,6))"
   ]
  },
  {
   "cell_type": "code",
   "execution_count": 53,
   "metadata": {},
   "outputs": [
    {
     "data": {
      "text/plain": [
       "<AxesSubplot:>"
      ]
     },
     "execution_count": 53,
     "metadata": {},
     "output_type": "execute_result"
    },
    {
     "data": {
      "image/png": "[encoded data removed]",
      "text/plain": [
       "<Figure size 576x432 with 1 Axes>"
      ]
     },
     "metadata": {
      "needs_background": "light"
     },
     "output_type": "display_data"
    }
   ],
   "source": [
    "data_steel.boxplot(column='sum_reactive_power', figsize=(8,6))"
   ]
  },
  {
   "cell_type": "code",
   "execution_count": 54,
   "metadata": {},
   "outputs": [
    {
     "data": {
      "text/plain": [
       "<AxesSubplot:>"
      ]
     },
     "execution_count": 54,
     "metadata": {},
     "output_type": "execute_result"
    },
    {
     "data": {
      "image/png": "[encoded data removed]",
      "text/plain": [
       "<Figure size 576x432 with 1 Axes>"
      ]
     },
     "metadata": {
      "needs_background": "light"
     },
     "output_type": "display_data"
    }
   ],
   "source": [
    "data_steel.boxplot(column='gas', figsize=(8,6))"
   ]
  },
  {
   "cell_type": "markdown",
   "metadata": {},
   "source": [
    "Посмотрим на корреляцию признаков"
   ]
  },
  {
   "cell_type": "code",
   "execution_count": 55,
   "metadata": {},
   "outputs": [
    {
     "data": {
      "image/png": "[encoded data removed]",
      "text/plain": [
       "<Figure size 1440x1440 with 1 Axes>"
      ]
     },
     "metadata": {
      "needs_background": "light"
     },
     "output_type": "display_data"
    }
   ],
   "source": [
    "corr_heatmap_data = data_steel.corr(method='spearman')\n",
    "\n",
    "fig, ax = plt.subplots(figsize=(20,20))\n",
    "ax.set_xticks(np.arange(len(corr_heatmap_data.index)))\n",
    "ax.set_yticks(np.arange(len(corr_heatmap_data.index)))\n",
    "\n",
    "ax.set_xticklabels(corr_heatmap_data.index)\n",
    "ax.set_yticklabels(corr_heatmap_data.index)\n",
    "\n",
    "plt.setp(ax.get_xticklabels(), rotation=45, ha=\"right\",\n",
    "         rotation_mode=\"anchor\")\n",
    "\n",
    "data = corr_heatmap_data.values\n",
    "\n",
    "for i in range(len(corr_heatmap_data.index)):\n",
    "    for j in range(len(corr_heatmap_data.index)):\n",
    "        text = ax.text(j, i, '{:.2}'.format(data[i, j]),\n",
    "                       ha=\"center\", va=\"center\", color=\"w\")\n",
    "        \n",
    "im = ax.imshow(corr_heatmap_data.corr(), cmap='Reds')"
   ]
  },
  {
   "cell_type": "markdown",
   "metadata": {},
   "source": [
    "Наблюдается сильная зависимость между sum_active_power и sum_reactive_power и bulk_9 и wire_8. Удалим sum_reactive_power и wire_8."
   ]
  },
  {
   "cell_type": "code",
   "execution_count": 56,
   "metadata": {},
   "outputs": [],
   "source": [
    "data_steel = data_steel.drop(['sum_reactive_power', 'wire_8', 'wire_5'], axis=1)"
   ]
  },
  {
   "cell_type": "markdown",
   "metadata": {},
   "source": [
    "Посмотрим, какие признаки оказывают сильное влияние на целевой. Отберем с влиянием более 0.2"
   ]
  },
  {
   "cell_type": "code",
   "execution_count": 57,
   "metadata": {},
   "outputs": [
    {
     "data": {
      "text/plain": [
       "sum_active_power     True\n",
       "start_temp           True\n",
       "end_temp             True\n",
       "bulk_1              False\n",
       "bulk_2              False\n",
       "bulk_3              False\n",
       "bulk_4              False\n",
       "bulk_5              False\n",
       "bulk_6              False\n",
       "bulk_7              False\n",
       "bulk_8              False\n",
       "bulk_9              False\n",
       "bulk_10             False\n",
       "bulk_11             False\n",
       "bulk_12              True\n",
       "bulk_13             False\n",
       "bulk_14             False\n",
       "bulk_15              True\n",
       "gas                 False\n",
       "wire_1               True\n",
       "wire_2               True\n",
       "wire_3              False\n",
       "wire_4              False\n",
       "wire_5              False\n",
       "wire_6              False\n",
       "wire_7              False\n",
       "wire_9              False\n",
       "Name: end_temp, dtype: bool"
      ]
     },
     "execution_count": 57,
     "metadata": {},
     "output_type": "execute_result"
    }
   ],
   "source": [
    "data_steel.corr()['end_temp'].abs() > 0.2"
   ]
  },
  {
   "cell_type": "code",
   "execution_count": 58,
   "metadata": {},
   "outputs": [
    {
     "data": {
      "text/html": [
       "<div>\n",
       "<style scoped>\n",
       "    .dataframe tbody tr th:only-of-type {\n",
       "        vertical-align: middle;\n",
       "    }\n",
       "\n",
       "    .dataframe tbody tr th {\n",
       "        vertical-align: top;\n",
       "    }\n",
       "\n",
       "    .dataframe thead th {\n",
       "        text-align: right;\n",
       "    }\n",
       "</style>\n",
       "<table border=\"1\" class=\"dataframe\">\n",
       "  <thead>\n",
       "    <tr style=\"text-align: right;\">\n",
       "      <th></th>\n",
       "      <th>sum_active_power</th>\n",
       "      <th>start_temp</th>\n",
       "      <th>end_temp</th>\n",
       "      <th>bulk_1</th>\n",
       "      <th>bulk_2</th>\n",
       "      <th>bulk_3</th>\n",
       "      <th>bulk_4</th>\n",
       "      <th>bulk_5</th>\n",
       "      <th>bulk_6</th>\n",
       "      <th>bulk_7</th>\n",
       "      <th>...</th>\n",
       "      <th>bulk_15</th>\n",
       "      <th>gas</th>\n",
       "      <th>wire_1</th>\n",
       "      <th>wire_2</th>\n",
       "      <th>wire_3</th>\n",
       "      <th>wire_4</th>\n",
       "      <th>wire_5</th>\n",
       "      <th>wire_6</th>\n",
       "      <th>wire_7</th>\n",
       "      <th>wire_9</th>\n",
       "    </tr>\n",
       "    <tr>\n",
       "      <th>key</th>\n",
       "      <th></th>\n",
       "      <th></th>\n",
       "      <th></th>\n",
       "      <th></th>\n",
       "      <th></th>\n",
       "      <th></th>\n",
       "      <th></th>\n",
       "      <th></th>\n",
       "      <th></th>\n",
       "      <th></th>\n",
       "      <th></th>\n",
       "      <th></th>\n",
       "      <th></th>\n",
       "      <th></th>\n",
       "      <th></th>\n",
       "      <th></th>\n",
       "      <th></th>\n",
       "      <th></th>\n",
       "      <th></th>\n",
       "      <th></th>\n",
       "      <th></th>\n",
       "    </tr>\n",
       "  </thead>\n",
       "  <tbody>\n",
       "    <tr>\n",
       "      <th>1</th>\n",
       "      <td>4.878147</td>\n",
       "      <td>1571</td>\n",
       "      <td>1613</td>\n",
       "      <td>0</td>\n",
       "      <td>0</td>\n",
       "      <td>0</td>\n",
       "      <td>43</td>\n",
       "      <td>0</td>\n",
       "      <td>0</td>\n",
       "      <td>0</td>\n",
       "      <td>...</td>\n",
       "      <td>154</td>\n",
       "      <td>29.749986</td>\n",
       "      <td>60.059998</td>\n",
       "      <td>0.00000</td>\n",
       "      <td>0.0</td>\n",
       "      <td>0.0</td>\n",
       "      <td>0.0</td>\n",
       "      <td>0.0</td>\n",
       "      <td>0.0</td>\n",
       "      <td>0.0</td>\n",
       "    </tr>\n",
       "    <tr>\n",
       "      <th>2</th>\n",
       "      <td>3.052598</td>\n",
       "      <td>1581</td>\n",
       "      <td>1602</td>\n",
       "      <td>0</td>\n",
       "      <td>0</td>\n",
       "      <td>0</td>\n",
       "      <td>73</td>\n",
       "      <td>0</td>\n",
       "      <td>0</td>\n",
       "      <td>0</td>\n",
       "      <td>...</td>\n",
       "      <td>154</td>\n",
       "      <td>12.555561</td>\n",
       "      <td>96.052315</td>\n",
       "      <td>0.00000</td>\n",
       "      <td>0.0</td>\n",
       "      <td>0.0</td>\n",
       "      <td>0.0</td>\n",
       "      <td>0.0</td>\n",
       "      <td>0.0</td>\n",
       "      <td>0.0</td>\n",
       "    </tr>\n",
       "    <tr>\n",
       "      <th>3</th>\n",
       "      <td>2.525882</td>\n",
       "      <td>1596</td>\n",
       "      <td>1599</td>\n",
       "      <td>0</td>\n",
       "      <td>0</td>\n",
       "      <td>0</td>\n",
       "      <td>34</td>\n",
       "      <td>0</td>\n",
       "      <td>0</td>\n",
       "      <td>0</td>\n",
       "      <td>...</td>\n",
       "      <td>153</td>\n",
       "      <td>28.554793</td>\n",
       "      <td>91.160157</td>\n",
       "      <td>0.00000</td>\n",
       "      <td>0.0</td>\n",
       "      <td>0.0</td>\n",
       "      <td>0.0</td>\n",
       "      <td>0.0</td>\n",
       "      <td>0.0</td>\n",
       "      <td>0.0</td>\n",
       "    </tr>\n",
       "    <tr>\n",
       "      <th>4</th>\n",
       "      <td>3.209250</td>\n",
       "      <td>1601</td>\n",
       "      <td>1625</td>\n",
       "      <td>0</td>\n",
       "      <td>0</td>\n",
       "      <td>0</td>\n",
       "      <td>81</td>\n",
       "      <td>0</td>\n",
       "      <td>0</td>\n",
       "      <td>0</td>\n",
       "      <td>...</td>\n",
       "      <td>154</td>\n",
       "      <td>18.841219</td>\n",
       "      <td>89.063515</td>\n",
       "      <td>0.00000</td>\n",
       "      <td>0.0</td>\n",
       "      <td>0.0</td>\n",
       "      <td>0.0</td>\n",
       "      <td>0.0</td>\n",
       "      <td>0.0</td>\n",
       "      <td>0.0</td>\n",
       "    </tr>\n",
       "    <tr>\n",
       "      <th>5</th>\n",
       "      <td>3.347173</td>\n",
       "      <td>1576</td>\n",
       "      <td>1602</td>\n",
       "      <td>0</td>\n",
       "      <td>0</td>\n",
       "      <td>0</td>\n",
       "      <td>78</td>\n",
       "      <td>0</td>\n",
       "      <td>0</td>\n",
       "      <td>0</td>\n",
       "      <td>...</td>\n",
       "      <td>152</td>\n",
       "      <td>5.413692</td>\n",
       "      <td>89.238236</td>\n",
       "      <td>9.11456</td>\n",
       "      <td>0.0</td>\n",
       "      <td>0.0</td>\n",
       "      <td>0.0</td>\n",
       "      <td>0.0</td>\n",
       "      <td>0.0</td>\n",
       "      <td>0.0</td>\n",
       "    </tr>\n",
       "    <tr>\n",
       "      <th>...</th>\n",
       "      <td>...</td>\n",
       "      <td>...</td>\n",
       "      <td>...</td>\n",
       "      <td>...</td>\n",
       "      <td>...</td>\n",
       "      <td>...</td>\n",
       "      <td>...</td>\n",
       "      <td>...</td>\n",
       "      <td>...</td>\n",
       "      <td>...</td>\n",
       "      <td>...</td>\n",
       "      <td>...</td>\n",
       "      <td>...</td>\n",
       "      <td>...</td>\n",
       "      <td>...</td>\n",
       "      <td>...</td>\n",
       "      <td>...</td>\n",
       "      <td>...</td>\n",
       "      <td>...</td>\n",
       "      <td>...</td>\n",
       "      <td>...</td>\n",
       "    </tr>\n",
       "    <tr>\n",
       "      <th>2495</th>\n",
       "      <td>3.210690</td>\n",
       "      <td>1570</td>\n",
       "      <td>1591</td>\n",
       "      <td>0</td>\n",
       "      <td>0</td>\n",
       "      <td>21</td>\n",
       "      <td>0</td>\n",
       "      <td>0</td>\n",
       "      <td>0</td>\n",
       "      <td>0</td>\n",
       "      <td>...</td>\n",
       "      <td>223</td>\n",
       "      <td>7.125735</td>\n",
       "      <td>89.150879</td>\n",
       "      <td>0.00000</td>\n",
       "      <td>0.0</td>\n",
       "      <td>0.0</td>\n",
       "      <td>0.0</td>\n",
       "      <td>0.0</td>\n",
       "      <td>0.0</td>\n",
       "      <td>0.0</td>\n",
       "    </tr>\n",
       "    <tr>\n",
       "      <th>2496</th>\n",
       "      <td>4.203064</td>\n",
       "      <td>1554</td>\n",
       "      <td>1591</td>\n",
       "      <td>0</td>\n",
       "      <td>0</td>\n",
       "      <td>0</td>\n",
       "      <td>63</td>\n",
       "      <td>0</td>\n",
       "      <td>0</td>\n",
       "      <td>0</td>\n",
       "      <td>...</td>\n",
       "      <td>226</td>\n",
       "      <td>9.412616</td>\n",
       "      <td>114.179527</td>\n",
       "      <td>0.00000</td>\n",
       "      <td>0.0</td>\n",
       "      <td>0.0</td>\n",
       "      <td>0.0</td>\n",
       "      <td>0.0</td>\n",
       "      <td>0.0</td>\n",
       "      <td>0.0</td>\n",
       "    </tr>\n",
       "    <tr>\n",
       "      <th>2497</th>\n",
       "      <td>2.212379</td>\n",
       "      <td>1571</td>\n",
       "      <td>1589</td>\n",
       "      <td>0</td>\n",
       "      <td>0</td>\n",
       "      <td>0</td>\n",
       "      <td>85</td>\n",
       "      <td>0</td>\n",
       "      <td>0</td>\n",
       "      <td>0</td>\n",
       "      <td>...</td>\n",
       "      <td>226</td>\n",
       "      <td>6.271699</td>\n",
       "      <td>94.086723</td>\n",
       "      <td>9.04800</td>\n",
       "      <td>0.0</td>\n",
       "      <td>0.0</td>\n",
       "      <td>0.0</td>\n",
       "      <td>0.0</td>\n",
       "      <td>0.0</td>\n",
       "      <td>0.0</td>\n",
       "    </tr>\n",
       "    <tr>\n",
       "      <th>2498</th>\n",
       "      <td>3.408725</td>\n",
       "      <td>1591</td>\n",
       "      <td>1594</td>\n",
       "      <td>0</td>\n",
       "      <td>0</td>\n",
       "      <td>90</td>\n",
       "      <td>0</td>\n",
       "      <td>0</td>\n",
       "      <td>0</td>\n",
       "      <td>0</td>\n",
       "      <td>...</td>\n",
       "      <td>207</td>\n",
       "      <td>14.953657</td>\n",
       "      <td>118.110717</td>\n",
       "      <td>0.00000</td>\n",
       "      <td>0.0</td>\n",
       "      <td>0.0</td>\n",
       "      <td>0.0</td>\n",
       "      <td>0.0</td>\n",
       "      <td>0.0</td>\n",
       "      <td>0.0</td>\n",
       "    </tr>\n",
       "    <tr>\n",
       "      <th>2499</th>\n",
       "      <td>4.098431</td>\n",
       "      <td>1569</td>\n",
       "      <td>1603</td>\n",
       "      <td>0</td>\n",
       "      <td>0</td>\n",
       "      <td>47</td>\n",
       "      <td>0</td>\n",
       "      <td>0</td>\n",
       "      <td>0</td>\n",
       "      <td>0</td>\n",
       "      <td>...</td>\n",
       "      <td>227</td>\n",
       "      <td>11.336151</td>\n",
       "      <td>110.160958</td>\n",
       "      <td>50.00528</td>\n",
       "      <td>0.0</td>\n",
       "      <td>0.0</td>\n",
       "      <td>0.0</td>\n",
       "      <td>0.0</td>\n",
       "      <td>0.0</td>\n",
       "      <td>0.0</td>\n",
       "    </tr>\n",
       "  </tbody>\n",
       "</table>\n",
       "<p>2206 rows × 27 columns</p>\n",
       "</div>"
      ],
      "text/plain": [
       "      sum_active_power  start_temp  end_temp  bulk_1  bulk_2  bulk_3  bulk_4  \\\n",
       "key                                                                            \n",
       "1             4.878147        1571      1613       0       0       0      43   \n",
       "2             3.052598        1581      1602       0       0       0      73   \n",
       "3             2.525882        1596      1599       0       0       0      34   \n",
       "4             3.209250        1601      1625       0       0       0      81   \n",
       "5             3.347173        1576      1602       0       0       0      78   \n",
       "...                ...         ...       ...     ...     ...     ...     ...   \n",
       "2495          3.210690        1570      1591       0       0      21       0   \n",
       "2496          4.203064        1554      1591       0       0       0      63   \n",
       "2497          2.212379        1571      1589       0       0       0      85   \n",
       "2498          3.408725        1591      1594       0       0      90       0   \n",
       "2499          4.098431        1569      1603       0       0      47       0   \n",
       "\n",
       "      bulk_5  bulk_6  bulk_7  ...  bulk_15        gas      wire_1    wire_2  \\\n",
       "key                           ...                                             \n",
       "1          0       0       0  ...      154  29.749986   60.059998   0.00000   \n",
       "2          0       0       0  ...      154  12.555561   96.052315   0.00000   \n",
       "3          0       0       0  ...      153  28.554793   91.160157   0.00000   \n",
       "4          0       0       0  ...      154  18.841219   89.063515   0.00000   \n",
       "5          0       0       0  ...      152   5.413692   89.238236   9.11456   \n",
       "...      ...     ...     ...  ...      ...        ...         ...       ...   \n",
       "2495       0       0       0  ...      223   7.125735   89.150879   0.00000   \n",
       "2496       0       0       0  ...      226   9.412616  114.179527   0.00000   \n",
       "2497       0       0       0  ...      226   6.271699   94.086723   9.04800   \n",
       "2498       0       0       0  ...      207  14.953657  118.110717   0.00000   \n",
       "2499       0       0       0  ...      227  11.336151  110.160958  50.00528   \n",
       "\n",
       "      wire_3  wire_4  wire_5  wire_6  wire_7  wire_9  \n",
       "key                                                   \n",
       "1        0.0     0.0     0.0     0.0     0.0     0.0  \n",
       "2        0.0     0.0     0.0     0.0     0.0     0.0  \n",
       "3        0.0     0.0     0.0     0.0     0.0     0.0  \n",
       "4        0.0     0.0     0.0     0.0     0.0     0.0  \n",
       "5        0.0     0.0     0.0     0.0     0.0     0.0  \n",
       "...      ...     ...     ...     ...     ...     ...  \n",
       "2495     0.0     0.0     0.0     0.0     0.0     0.0  \n",
       "2496     0.0     0.0     0.0     0.0     0.0     0.0  \n",
       "2497     0.0     0.0     0.0     0.0     0.0     0.0  \n",
       "2498     0.0     0.0     0.0     0.0     0.0     0.0  \n",
       "2499     0.0     0.0     0.0     0.0     0.0     0.0  \n",
       "\n",
       "[2206 rows x 27 columns]"
      ]
     },
     "execution_count": 58,
     "metadata": {},
     "output_type": "execute_result"
    }
   ],
   "source": [
    "data_steel"
   ]
  },
  {
   "cell_type": "markdown",
   "metadata": {},
   "source": [
    "###  Вывод"
   ]
  },
  {
   "cell_type": "markdown",
   "metadata": {},
   "source": [
    "В ходе предобработки выполнено следующее\n",
    "- Выявлен целевой признак - финальный замер температуры \n",
    "- Данные очищены от аномалий\n",
    "- Составлена своднаяа таблица для обучения модели\n",
    "\n",
    "Данные готовы к дальнейшей работе"
   ]
  },
  {
   "cell_type": "markdown",
   "metadata": {},
   "source": [
    "## Построение модели машинного обучения"
   ]
  },
  {
   "cell_type": "markdown",
   "metadata": {},
   "source": [
    "### Разделение данных на обучающую и тестовую выборки"
   ]
  },
  {
   "cell_type": "code",
   "execution_count": 59,
   "metadata": {},
   "outputs": [],
   "source": [
    "features = data_steel.drop('end_temp', axis=1)\n",
    "target = data_steel['end_temp']\n",
    "\n",
    "features_train, features_test, target_train, target_test = train_test_split(\n",
    "                                                            features, \n",
    "                                                            target, \n",
    "                                                            test_size=0.25, \n",
    "                                                            random_state=random_state)"
   ]
  },
  {
   "cell_type": "markdown",
   "metadata": {},
   "source": [
    "**Для обучения выбраны следующие модели:**\n",
    "- **LinearRegression**\n",
    "- **RandomForestRegressor**\n",
    "- **LGBMRegressor**\n",
    "- **XGBRegressor**"
   ]
  },
  {
   "cell_type": "markdown",
   "metadata": {},
   "source": [
    "###  LinearRegression"
   ]
  },
  {
   "cell_type": "code",
   "execution_count": 60,
   "metadata": {},
   "outputs": [
    {
     "name": "stdout",
     "output_type": "stream",
     "text": [
      "LinearRegression MAE = 6.810084354682729\n",
      "CPU times: user 76.8 ms, sys: 123 ms, total: 200 ms\n",
      "Wall time: 143 ms\n"
     ]
    }
   ],
   "source": [
    "%%time\n",
    "\n",
    "model_lr = LinearRegression()\n",
    "lr_mae = (cross_val_score(model_lr, features_train, target_train, cv=cv_counts, \n",
    "                          scoring='neg_mean_absolute_error').mean() * -1)\n",
    "print('LinearRegression MAE =', lr_mae)"
   ]
  },
  {
   "cell_type": "markdown",
   "metadata": {},
   "source": [
    "Проверим влияние масштабирования признаков на качество модели"
   ]
  },
  {
   "cell_type": "code",
   "execution_count": 61,
   "metadata": {},
   "outputs": [
    {
     "name": "stdout",
     "output_type": "stream",
     "text": [
      "Scaled LinearRegression MAE = 6.810084354682729\n",
      "CPU times: user 203 ms, sys: 261 ms, total: 464 ms\n",
      "Wall time: 494 ms\n"
     ]
    }
   ],
   "source": [
    "%%time\n",
    "\n",
    "model_lr = LinearRegression()\n",
    "scaller = StandardScaler()\n",
    "pipeline = Pipeline([('standard_scaller', scaller),('linear_regression', model_lr)])\n",
    "slr_mae = (cross_val_score(pipeline, features_train, target_train, cv=cv_counts, \n",
    "                          scoring='neg_mean_absolute_error').mean() * -1)\n",
    "print('Scaled LinearRegression MAE =', slr_mae)"
   ]
  },
  {
   "cell_type": "markdown",
   "metadata": {},
   "source": [
    "Масштабирование признаков не влияет на качество модели"
   ]
  },
  {
   "cell_type": "markdown",
   "metadata": {},
   "source": [
    "###  RandomForestRegressor"
   ]
  },
  {
   "cell_type": "code",
   "execution_count": 62,
   "metadata": {},
   "outputs": [
    {
     "name": "stdout",
     "output_type": "stream",
     "text": [
      "{'criterion': 'mse', 'n_estimators': 800, 'random_state': 28102922}\n",
      "CPU times: user 6min 2s, sys: 1.55 s, total: 6min 4s\n",
      "Wall time: 6min 4s\n"
     ]
    }
   ],
   "source": [
    "%%time\n",
    "\n",
    "model_rfr = RandomForestRegressor() \n",
    "parameters = [{'criterion':['mse'],\n",
    "                'n_estimators':[x for x in range(100, 1001, 50)], \n",
    "                'random_state':[random_state]}]\n",
    "grid_rfr = GridSearchCV(model_rfr, parameters, scoring='neg_mean_absolute_error', cv=cv_counts)\n",
    "grid_rfr.fit(features_train, target_train)\n",
    "best_params_RFR = grid_rfr.best_params_\n",
    "print(grid_rfr.best_params_)"
   ]
  },
  {
   "cell_type": "code",
   "execution_count": 71,
   "metadata": {},
   "outputs": [
    {
     "name": "stdout",
     "output_type": "stream",
     "text": [
      "RandomForestRegressor MAE = 6.182879925386797\n",
      "CPU times: user 27.2 s, sys: 260 ms, total: 27.5 s\n",
      "Wall time: 27.5 s\n"
     ]
    }
   ],
   "source": [
    "%%time\n",
    "\n",
    "model_rfr = RandomForestRegressor(criterion = \"mse\", random_state=random_state, n_estimators = 800)\n",
    "rfr_mae = (cross_val_score(model_rfr, features_train, target_train, cv=cv_counts, \n",
    "                          scoring='neg_mean_absolute_error').mean() * -1)\n",
    "print('RandomForestRegressor MAE =', rfr_mae)"
   ]
  },
  {
   "cell_type": "markdown",
   "metadata": {},
   "source": [
    "### LGBMRegressor"
   ]
  },
  {
   "cell_type": "code",
   "execution_count": 64,
   "metadata": {},
   "outputs": [
    {
     "name": "stdout",
     "output_type": "stream",
     "text": [
      "{'learning_rate': 0.04, 'num_leaves': 16, 'random_state': 28102922}\n",
      "CPU times: user 37.5 s, sys: 248 ms, total: 37.7 s\n",
      "Wall time: 38.3 s\n"
     ]
    }
   ],
   "source": [
    "%%time\n",
    "\n",
    "model_lgbm = LGBMRegressor() \n",
    "parameters = [{'num_leaves':[10,12,14,16], \n",
    "                'learning_rate':[0.02,0.04,0.06],\n",
    "                'random_state':[random_state]}]\n",
    "grid_lgbm = GridSearchCV(model_lgbm, parameters, scoring='neg_mean_absolute_error', cv=cv_counts)\n",
    "grid_lgbm.fit(features_train, target_train)\n",
    "print(grid_lgbm.best_params_)"
   ]
  },
  {
   "cell_type": "code",
   "execution_count": 72,
   "metadata": {},
   "outputs": [
    {
     "name": "stdout",
     "output_type": "stream",
     "text": [
      "LGBMRegressor MAE = 6.064802426698826\n",
      "CPU times: user 3.73 s, sys: 19.8 ms, total: 3.75 s\n",
      "Wall time: 3.76 s\n"
     ]
    }
   ],
   "source": [
    "%%time\n",
    "\n",
    "model_lgbm = LGBMRegressor(random_state=random_state, num_leaves = 16, learning_rate = 0.04)\n",
    "lgbm_mae = (cross_val_score(model_lgbm, features_train, target_train, cv=cv_counts, \n",
    "                          scoring='neg_mean_absolute_error').mean() * -1)\n",
    "print('LGBMRegressor MAE =', lgbm_mae)"
   ]
  },
  {
   "cell_type": "markdown",
   "metadata": {},
   "source": [
    "### XGBRegressor"
   ]
  },
  {
   "cell_type": "code",
   "execution_count": 66,
   "metadata": {},
   "outputs": [
    {
     "name": "stdout",
     "output_type": "stream",
     "text": [
      "{'learning_rate': 0.08, 'random_state': 28102922}\n",
      "CPU times: user 10min 10s, sys: 4.13 s, total: 10min 14s\n",
      "Wall time: 10min 20s\n"
     ]
    }
   ],
   "source": [
    "%%time\n",
    "\n",
    "model_xgb = XGBRegressor() \n",
    "parameters = [{'learning_rate':[x/100 for x in range(1, 31)],\n",
    "                'random_state':[random_state],\n",
    "                }]\n",
    "grid_xgb = GridSearchCV(model_xgb, parameters, scoring='neg_mean_absolute_error', cv=cv_counts)\n",
    "grid_xgb.fit(features_train, target_train)\n",
    "print(grid_xgb.best_params_)"
   ]
  },
  {
   "cell_type": "code",
   "execution_count": 73,
   "metadata": {},
   "outputs": [
    {
     "name": "stdout",
     "output_type": "stream",
     "text": [
      "XGBRegressor MAE = 6.008204174041748\n",
      "CPU times: user 20.1 s, sys: 151 ms, total: 20.2 s\n",
      "Wall time: 20.4 s\n"
     ]
    }
   ],
   "source": [
    "%%time\n",
    "\n",
    "model_xgb = XGBRegressor(random_state=random_state, learning_rate = 0.08)\n",
    "xgb_mae = (cross_val_score(model_xgb, features_train, target_train, cv=cv_counts, \n",
    "                          scoring='neg_mean_absolute_error').mean() * -1)\n",
    "print('XGBRegressor MAE =', xgb_mae)"
   ]
  },
  {
   "cell_type": "code",
   "execution_count": 74,
   "metadata": {},
   "outputs": [
    {
     "data": {
      "text/html": [
       "<div>\n",
       "<style scoped>\n",
       "    .dataframe tbody tr th:only-of-type {\n",
       "        vertical-align: middle;\n",
       "    }\n",
       "\n",
       "    .dataframe tbody tr th {\n",
       "        vertical-align: top;\n",
       "    }\n",
       "\n",
       "    .dataframe thead th {\n",
       "        text-align: right;\n",
       "    }\n",
       "</style>\n",
       "<table border=\"1\" class=\"dataframe\">\n",
       "  <thead>\n",
       "    <tr style=\"text-align: right;\">\n",
       "      <th></th>\n",
       "      <th>MAE на CV</th>\n",
       "    </tr>\n",
       "  </thead>\n",
       "  <tbody>\n",
       "    <tr>\n",
       "      <th>LinearRegression</th>\n",
       "      <td>6.810084</td>\n",
       "    </tr>\n",
       "    <tr>\n",
       "      <th>RandomForestRegressor</th>\n",
       "      <td>6.182880</td>\n",
       "    </tr>\n",
       "    <tr>\n",
       "      <th>LGBMRegressor</th>\n",
       "      <td>6.064802</td>\n",
       "    </tr>\n",
       "    <tr>\n",
       "      <th>XGBRegressor</th>\n",
       "      <td>6.008204</td>\n",
       "    </tr>\n",
       "  </tbody>\n",
       "</table>\n",
       "</div>"
      ],
      "text/plain": [
       "                       MAE на CV\n",
       "LinearRegression        6.810084\n",
       "RandomForestRegressor   6.182880\n",
       "LGBMRegressor           6.064802\n",
       "XGBRegressor            6.008204"
      ]
     },
     "execution_count": 74,
     "metadata": {},
     "output_type": "execute_result"
    }
   ],
   "source": [
    "index = ['LinearRegression',\n",
    "         'RandomForestRegressor',\n",
    "         'LGBMRegressor',\n",
    "         'XGBRegressor']\n",
    "data = {'MAE на CV':[lr_mae,\n",
    "                     rfr_mae,\n",
    "                     lgbm_mae,\n",
    "                     xgb_mae]}\n",
    "\n",
    "scores = pd.DataFrame(data=data, index=index)\n",
    "scores"
   ]
  },
  {
   "cell_type": "markdown",
   "metadata": {},
   "source": [
    "## Тестирование лучшей модели"
   ]
  },
  {
   "cell_type": "code",
   "execution_count": 75,
   "metadata": {},
   "outputs": [
    {
     "name": "stdout",
     "output_type": "stream",
     "text": [
      "[22:33:10] WARNING: ../src/learner.cc:576: \n",
      "Parameters: { \"silent\" } might not be used.\n",
      "\n",
      "  This could be a false alarm, with some parameters getting used by language bindings but\n",
      "  then being mistakenly passed down to XGBoost core, or some parameter actually being used\n",
      "  but getting flagged wrongly here. Please open an issue if you find any such cases.\n",
      "\n",
      "\n",
      "XGBRegressor MAE = 5.6659384\n",
      "CPU times: user 2.94 s, sys: 3.77 ms, total: 2.94 s\n",
      "Wall time: 2.92 s\n"
     ]
    }
   ],
   "source": [
    "%%time\n",
    "\n",
    "best_model = XGBRegressor(random_state=random_state, silent = True, learning_rate = 0.08)\n",
    "best_model.fit(features_train, target_train)\n",
    "predictions = best_model.predict(features_test)\n",
    "test_xgb_mae = mean_absolute_error(predictions, target_test)\n",
    "print('XGBRegressor MAE =', test_xgb_mae)"
   ]
  },
  {
   "cell_type": "markdown",
   "metadata": {},
   "source": [
    "## Общий вывод"
   ]
  },
  {
   "cell_type": "markdown",
   "metadata": {},
   "source": [
    "В ходе работы было выполнено следующее:\n",
    "\n",
    "- Подготовка данных. Отобраны те партии, в которых есть значения первого и последнего замера температуры.\n",
    "- Составление сводной таблицы со всеми необходимыми для модели данными. Целевым признаком выбрана температура последнего замера\n",
    "- Обучение нескольких регрессионных моделей\n",
    "- Выбор лучшей модели\n",
    "- Тестирование лучшей модели\n",
    "\n",
    "Лучшей моделью по метрике MAE со значением 5.66 стал XGBRegressor. Хорошо себя показали LGBMRegressor и RandomForestRegressor. Линейная регрессия показала себя хуже остальных моделей и меньше всех подходит для выполнения поставленной задачи"
   ]
  },
  {
   "cell_type": "markdown",
   "metadata": {},
   "source": [
    "**График важности признаков**"
   ]
  },
  {
   "cell_type": "code",
   "execution_count": 76,
   "metadata": {},
   "outputs": [
    {
     "data": {
      "image/png": "[encoded data removed]",
      "text/plain": [
       "<Figure size 1296x864 with 1 Axes>"
      ]
     },
     "metadata": {
      "needs_background": "light"
     },
     "output_type": "display_data"
    }
   ],
   "source": [
    "def feature_importance(model):\n",
    "    feature_imp = pd.Series(model.feature_importances_, index=features_train.columns).sort_values(ascending=False)\n",
    "    plt.figure(figsize=(18, 12))\n",
    "    ax = sns.barplot(x=feature_imp, y=feature_imp.index)     \n",
    "    ax.set_xlabel('Оценка', fontsize=20)\n",
    "    ax.set_ylabel('Признаки', fontsize=20)\n",
    "    ax.set_title('Важность признаков', fontsize=25)\n",
    "    ax.tick_params(axis = 'both', labelsize = 15)\n",
    "\n",
    "feature_importance(best_model)"
   ]
  },
  {
   "cell_type": "markdown",
   "metadata": {},
   "source": [
    "По графику важности видно, что наибольшее влияние на целевой оказывает количество проволочных материалов(в топ-10 целых 5 признаков), начальнаая температура и активная мощность"
   ]
  },
  {
   "cell_type": "markdown",
   "metadata": {},
   "source": [
    "# Отчёт по решению задачи"
   ]
  },
  {
   "cell_type": "markdown",
   "metadata": {},
   "source": [
    "## Условие задачи"
   ]
  },
  {
   "cell_type": "markdown",
   "metadata": {},
   "source": [
    "Металлургическим комбинатом ООО «Так закаляем сталь» была поставлена задача: Спрогнозировать температуру стали с целью уменьшения потребления электроэнергии на этапе обработки.\n",
    "\n",
    "Для выполнения этой задачи, необходимо построить модель, которая будет предсказывать температуру стали на последнем этапе обработки.\n",
    "\n",
    "Были предоставлены необходимые данные для обучения модели и описан этап обработки стали."
   ]
  },
  {
   "cell_type": "markdown",
   "metadata": {},
   "source": [
    "## Описание решения"
   ]
  },
  {
   "cell_type": "markdown",
   "metadata": {},
   "source": [
    "Решение задачи начинается с составления плана работы. План включает следующие этапы:\n",
    "\n",
    "**1. Проведение обзора данных**\n",
    "\n",
    "- Подготовка данных\n",
    "- Анализ данных\n",
    "- Предобработка данных\n",
    "\n",
    "**2. Построение модели машинного обучения**\n",
    "\n",
    "- Обучение моделей\n",
    "- Тестирование лучшей модели\n",
    "\n",
    "Первый этап является очень важной частью работы. На данном этапе данные подготавливаются для работы с моделями машинного обучения. Выявляется целевой признак для обучения.\n",
    "\n",
    "В ходе работ на первом этапе выполнено следующее:\n",
    "- \"очистка\" данных от аномальных значений и пропусков\n",
    "- объединение данных в общую таблицу\n",
    "- выявление целевого признака (финального замера температуры)\n",
    "- фильтрация данных по значению целевого признака (удаление партий без финального замера температур)\n",
    "- проверка признаков на мультиколлинеарность (зависимость)\n",
    "\n",
    "Второй этап работы можно назвать подбором решения поставленной задачи. На данном этапе обучались модели и среди них выбиралась лучшая \n",
    "\n",
    "В ходе работ на втором этапе выполнено следующее:\n",
    "- разделение данных на обучающую и тестовую выборки\n",
    "- обучение нескольких моделей (LinearRegression, RandomForestRegressor, LGBMRegressor, XGBRegressor)\n",
    "- подбор лучших параметров для каждой модели\n",
    "- тестирование лучшей модели\n",
    "- оценка важности признаков для лучшей модели"
   ]
  },
  {
   "cell_type": "markdown",
   "metadata": {},
   "source": [
    "## Результат"
   ]
  },
  {
   "cell_type": "markdown",
   "metadata": {},
   "source": [
    "**Лучшей моделью по метрике MAE со значением 5.66 стал XGBRegressor ({'learning_rate': 0.08, 'random_state': 28102922}). MAE показывает, что данная модель в среднем ошибается на 5.66 градусов температуры, что является хорошим результатом.**\n",
    "\n",
    "**Наибольшее влияние на финальный замер температуры оказывает количество проволочных материалов (в топ-10 целых 5 признаков), начальнаая температура и активная мощность**"
   ]
  },
  {
   "attachments": {
    "image.png": {
     "image/png": "[encoded data removed]"
    }
   },
   "cell_type": "markdown",
   "metadata": {},
   "source": [
    "![image.png](attachment:image.png)"
   ]
  }
 ],
 "metadata": {
  "ExecuteTimeLog": [
   {
    "duration": 2157,
    "start_time": "2022-11-02T13:10:36.038Z"
   },
   {
    "duration": 153,
    "start_time": "2022-11-02T13:18:54.570Z"
   },
   {
    "duration": 1988,
    "start_time": "2022-11-02T13:24:39.951Z"
   },
   {
    "duration": 95,
    "start_time": "2022-11-02T13:24:41.941Z"
   },
   {
    "duration": 136,
    "start_time": "2022-11-02T13:24:42.038Z"
   },
   {
    "duration": 92,
    "start_time": "2022-11-02T13:24:42.176Z"
   },
   {
    "duration": 107,
    "start_time": "2022-11-02T13:24:42.269Z"
   },
   {
    "duration": 79,
    "start_time": "2022-11-02T13:24:42.378Z"
   },
   {
    "duration": 139,
    "start_time": "2022-11-02T13:24:42.459Z"
   },
   {
    "duration": 128,
    "start_time": "2022-11-02T13:24:42.600Z"
   },
   {
    "duration": 4,
    "start_time": "2022-11-02T13:38:36.827Z"
   },
   {
    "duration": 4,
    "start_time": "2022-11-02T13:43:55.201Z"
   },
   {
    "duration": 390,
    "start_time": "2022-11-02T13:47:28.131Z"
   },
   {
    "duration": 368,
    "start_time": "2022-11-02T13:47:45.559Z"
   },
   {
    "duration": 374,
    "start_time": "2022-11-02T13:47:53.159Z"
   },
   {
    "duration": 407,
    "start_time": "2022-11-02T13:48:00.410Z"
   },
   {
    "duration": 469,
    "start_time": "2022-11-02T13:48:08.552Z"
   },
   {
    "duration": 448,
    "start_time": "2022-11-02T13:48:16.776Z"
   },
   {
    "duration": 567,
    "start_time": "2022-11-02T13:49:32.353Z"
   },
   {
    "duration": 290,
    "start_time": "2022-11-02T13:49:49.384Z"
   },
   {
    "duration": 275,
    "start_time": "2022-11-02T13:50:34.945Z"
   },
   {
    "duration": 434,
    "start_time": "2022-11-02T13:50:43.072Z"
   },
   {
    "duration": 85,
    "start_time": "2022-11-02T13:50:49.534Z"
   },
   {
    "duration": 276,
    "start_time": "2022-11-02T13:50:55.322Z"
   },
   {
    "duration": 2345,
    "start_time": "2022-11-02T13:51:37.133Z"
   },
   {
    "duration": 2499,
    "start_time": "2022-11-02T13:51:51.957Z"
   },
   {
    "duration": 2374,
    "start_time": "2022-11-02T13:52:26.956Z"
   },
   {
    "duration": 2534,
    "start_time": "2022-11-02T13:52:34.883Z"
   },
   {
    "duration": 2564,
    "start_time": "2022-11-02T13:52:47.520Z"
   },
   {
    "duration": 291,
    "start_time": "2022-11-02T13:52:58.097Z"
   },
   {
    "duration": 284,
    "start_time": "2022-11-02T13:53:02.726Z"
   },
   {
    "duration": 281,
    "start_time": "2022-11-02T13:54:02.941Z"
   },
   {
    "duration": 55,
    "start_time": "2022-11-03T14:16:58.227Z"
   },
   {
    "duration": 48,
    "start_time": "2022-11-03T14:17:11.389Z"
   },
   {
    "duration": 2378,
    "start_time": "2022-11-03T14:17:15.210Z"
   },
   {
    "duration": 166,
    "start_time": "2022-11-03T14:17:17.591Z"
   },
   {
    "duration": 5,
    "start_time": "2022-11-03T14:17:23.624Z"
   },
   {
    "duration": 359,
    "start_time": "2022-11-03T14:17:31.938Z"
   },
   {
    "duration": 304,
    "start_time": "2022-11-03T14:17:48.610Z"
   },
   {
    "duration": 7,
    "start_time": "2022-11-03T14:18:29.223Z"
   },
   {
    "duration": 163,
    "start_time": "2022-11-03T14:18:35.127Z"
   },
   {
    "duration": 2629,
    "start_time": "2022-11-03T14:18:36.104Z"
   },
   {
    "duration": 5,
    "start_time": "2022-11-03T14:18:59.677Z"
   },
   {
    "duration": 129,
    "start_time": "2022-11-03T14:19:02.919Z"
   },
   {
    "duration": 5,
    "start_time": "2022-11-03T14:19:20.272Z"
   },
   {
    "duration": 118,
    "start_time": "2022-11-03T14:19:23.972Z"
   },
   {
    "duration": 6,
    "start_time": "2022-11-03T14:20:22.128Z"
   },
   {
    "duration": 332,
    "start_time": "2022-11-03T14:20:29.212Z"
   },
   {
    "duration": 97,
    "start_time": "2022-11-03T14:21:02.252Z"
   },
   {
    "duration": 120,
    "start_time": "2022-11-03T14:21:04.669Z"
   },
   {
    "duration": 5,
    "start_time": "2022-11-03T14:21:18.025Z"
   },
   {
    "duration": 150,
    "start_time": "2022-11-03T14:21:22.731Z"
   },
   {
    "duration": 159,
    "start_time": "2022-11-03T14:21:27.273Z"
   },
   {
    "duration": 11,
    "start_time": "2022-11-03T14:31:19.426Z"
   },
   {
    "duration": 8,
    "start_time": "2022-11-03T14:31:56.951Z"
   },
   {
    "duration": 26,
    "start_time": "2022-11-03T14:42:04.576Z"
   },
   {
    "duration": 1773,
    "start_time": "2022-11-03T14:50:07.697Z"
   },
   {
    "duration": 98,
    "start_time": "2022-11-03T14:50:09.472Z"
   },
   {
    "duration": 4,
    "start_time": "2022-11-03T14:50:09.572Z"
   },
   {
    "duration": 306,
    "start_time": "2022-11-03T14:50:09.578Z"
   },
   {
    "duration": 271,
    "start_time": "2022-11-03T14:50:09.886Z"
   },
   {
    "duration": 5,
    "start_time": "2022-11-03T14:50:10.160Z"
   },
   {
    "duration": 91,
    "start_time": "2022-11-03T14:50:10.167Z"
   },
   {
    "duration": 2260,
    "start_time": "2022-11-03T14:50:10.260Z"
   },
   {
    "duration": 5,
    "start_time": "2022-11-03T14:50:12.523Z"
   },
   {
    "duration": 100,
    "start_time": "2022-11-03T14:50:12.540Z"
   },
   {
    "duration": 5,
    "start_time": "2022-11-03T14:50:12.643Z"
   },
   {
    "duration": 68,
    "start_time": "2022-11-03T14:50:12.649Z"
   },
   {
    "duration": 4,
    "start_time": "2022-11-03T14:50:12.719Z"
   },
   {
    "duration": 278,
    "start_time": "2022-11-03T14:50:12.725Z"
   },
   {
    "duration": 53,
    "start_time": "2022-11-03T14:50:13.005Z"
   },
   {
    "duration": 4,
    "start_time": "2022-11-03T14:50:13.059Z"
   },
   {
    "duration": 84,
    "start_time": "2022-11-03T14:50:13.064Z"
   },
   {
    "duration": 44,
    "start_time": "2022-11-03T14:50:13.150Z"
   },
   {
    "duration": 14,
    "start_time": "2022-11-03T14:53:13.460Z"
   },
   {
    "duration": 10,
    "start_time": "2022-11-03T14:53:13.965Z"
   },
   {
    "duration": 323,
    "start_time": "2022-11-03T14:53:14.367Z"
   },
   {
    "duration": 20,
    "start_time": "2022-11-03T14:53:14.970Z"
   },
   {
    "duration": 10,
    "start_time": "2022-11-03T14:53:24.027Z"
   },
   {
    "duration": 5,
    "start_time": "2022-11-03T14:58:18.202Z"
   },
   {
    "duration": 10,
    "start_time": "2022-11-03T14:58:18.799Z"
   },
   {
    "duration": 307,
    "start_time": "2022-11-03T14:58:20.938Z"
   },
   {
    "duration": 13,
    "start_time": "2022-11-03T14:58:25.243Z"
   },
   {
    "duration": 335,
    "start_time": "2022-11-03T14:59:27.652Z"
   },
   {
    "duration": 8,
    "start_time": "2022-11-03T14:59:27.989Z"
   },
   {
    "duration": 1919,
    "start_time": "2022-11-03T15:02:56.067Z"
   },
   {
    "duration": 107,
    "start_time": "2022-11-03T15:02:57.989Z"
   },
   {
    "duration": 5,
    "start_time": "2022-11-03T15:02:58.097Z"
   },
   {
    "duration": 350,
    "start_time": "2022-11-03T15:02:58.104Z"
   },
   {
    "duration": 314,
    "start_time": "2022-11-03T15:02:58.456Z"
   },
   {
    "duration": 5,
    "start_time": "2022-11-03T15:02:58.772Z"
   },
   {
    "duration": 112,
    "start_time": "2022-11-03T15:02:58.779Z"
   },
   {
    "duration": 2494,
    "start_time": "2022-11-03T15:02:58.893Z"
   },
   {
    "duration": 5,
    "start_time": "2022-11-03T15:03:01.389Z"
   },
   {
    "duration": 123,
    "start_time": "2022-11-03T15:03:01.396Z"
   },
   {
    "duration": 5,
    "start_time": "2022-11-03T15:03:01.521Z"
   },
   {
    "duration": 107,
    "start_time": "2022-11-03T15:03:01.528Z"
   },
   {
    "duration": 6,
    "start_time": "2022-11-03T15:03:01.637Z"
   },
   {
    "duration": 352,
    "start_time": "2022-11-03T15:03:01.646Z"
   },
   {
    "duration": 73,
    "start_time": "2022-11-03T15:03:02.000Z"
   },
   {
    "duration": 4,
    "start_time": "2022-11-03T15:03:02.075Z"
   },
   {
    "duration": 82,
    "start_time": "2022-11-03T15:03:02.081Z"
   },
   {
    "duration": 47,
    "start_time": "2022-11-03T15:03:02.165Z"
   },
   {
    "duration": 5,
    "start_time": "2022-11-03T15:04:06.298Z"
   },
   {
    "duration": 28,
    "start_time": "2022-11-03T15:04:40.059Z"
   },
   {
    "duration": 4,
    "start_time": "2022-11-03T15:05:21.972Z"
   },
   {
    "duration": 3268,
    "start_time": "2022-11-03T15:05:52.046Z"
   },
   {
    "duration": 20,
    "start_time": "2022-11-03T15:06:40.931Z"
   },
   {
    "duration": 1905,
    "start_time": "2022-11-03T15:07:05.309Z"
   },
   {
    "duration": 139,
    "start_time": "2022-11-03T15:07:07.216Z"
   },
   {
    "duration": 10,
    "start_time": "2022-11-03T15:07:07.357Z"
   },
   {
    "duration": 393,
    "start_time": "2022-11-03T15:07:07.370Z"
   },
   {
    "duration": 316,
    "start_time": "2022-11-03T15:07:07.765Z"
   },
   {
    "duration": 5,
    "start_time": "2022-11-03T15:07:08.082Z"
   },
   {
    "duration": 137,
    "start_time": "2022-11-03T15:07:08.089Z"
   },
   {
    "duration": 2632,
    "start_time": "2022-11-03T15:07:08.228Z"
   },
   {
    "duration": 6,
    "start_time": "2022-11-03T15:07:10.862Z"
   },
   {
    "duration": 96,
    "start_time": "2022-11-03T15:07:10.871Z"
   },
   {
    "duration": 5,
    "start_time": "2022-11-03T15:07:10.969Z"
   },
   {
    "duration": 66,
    "start_time": "2022-11-03T15:07:10.976Z"
   },
   {
    "duration": 8,
    "start_time": "2022-11-03T15:07:11.044Z"
   },
   {
    "duration": 330,
    "start_time": "2022-11-03T15:07:11.054Z"
   },
   {
    "duration": 56,
    "start_time": "2022-11-03T15:07:11.385Z"
   },
   {
    "duration": 5,
    "start_time": "2022-11-03T15:07:11.442Z"
   },
   {
    "duration": 81,
    "start_time": "2022-11-03T15:07:11.449Z"
   },
   {
    "duration": 56,
    "start_time": "2022-11-03T15:07:11.539Z"
   },
   {
    "duration": 4,
    "start_time": "2022-11-03T15:07:11.597Z"
   },
   {
    "duration": 3325,
    "start_time": "2022-11-03T15:07:11.603Z"
   },
   {
    "duration": 24,
    "start_time": "2022-11-03T15:07:14.929Z"
   },
   {
    "duration": 27,
    "start_time": "2022-11-03T15:07:14.955Z"
   },
   {
    "duration": 19,
    "start_time": "2022-11-03T15:07:23.590Z"
   },
   {
    "duration": 6,
    "start_time": "2022-11-03T15:08:04.802Z"
   },
   {
    "duration": 1882,
    "start_time": "2022-11-03T15:08:09.107Z"
   },
   {
    "duration": 99,
    "start_time": "2022-11-03T15:08:10.992Z"
   },
   {
    "duration": 5,
    "start_time": "2022-11-03T15:08:11.092Z"
   },
   {
    "duration": 340,
    "start_time": "2022-11-03T15:08:11.098Z"
   },
   {
    "duration": 341,
    "start_time": "2022-11-03T15:08:11.442Z"
   },
   {
    "duration": 5,
    "start_time": "2022-11-03T15:08:11.785Z"
   },
   {
    "duration": 120,
    "start_time": "2022-11-03T15:08:11.792Z"
   },
   {
    "duration": 2492,
    "start_time": "2022-11-03T15:08:11.913Z"
   },
   {
    "duration": 5,
    "start_time": "2022-11-03T15:08:14.406Z"
   },
   {
    "duration": 87,
    "start_time": "2022-11-03T15:08:14.412Z"
   },
   {
    "duration": 4,
    "start_time": "2022-11-03T15:08:14.501Z"
   },
   {
    "duration": 73,
    "start_time": "2022-11-03T15:08:14.507Z"
   },
   {
    "duration": 4,
    "start_time": "2022-11-03T15:08:14.581Z"
   },
   {
    "duration": 315,
    "start_time": "2022-11-03T15:08:14.587Z"
   },
   {
    "duration": 65,
    "start_time": "2022-11-03T15:08:14.904Z"
   },
   {
    "duration": 5,
    "start_time": "2022-11-03T15:08:14.971Z"
   },
   {
    "duration": 12,
    "start_time": "2022-11-03T15:08:14.977Z"
   },
   {
    "duration": 87,
    "start_time": "2022-11-03T15:08:14.991Z"
   },
   {
    "duration": 46,
    "start_time": "2022-11-03T15:08:15.080Z"
   },
   {
    "duration": 16,
    "start_time": "2022-11-03T15:08:15.128Z"
   },
   {
    "duration": 3575,
    "start_time": "2022-11-03T15:08:15.147Z"
   },
   {
    "duration": 28,
    "start_time": "2022-11-03T15:08:18.724Z"
   },
   {
    "duration": 47,
    "start_time": "2022-11-03T15:08:18.754Z"
   },
   {
    "duration": 6,
    "start_time": "2022-11-03T15:09:06.408Z"
   },
   {
    "duration": 7,
    "start_time": "2022-11-03T15:09:46.659Z"
   },
   {
    "duration": 23,
    "start_time": "2022-11-03T15:09:47.291Z"
   },
   {
    "duration": 1856,
    "start_time": "2022-11-03T15:09:52.224Z"
   },
   {
    "duration": 109,
    "start_time": "2022-11-03T15:09:54.082Z"
   },
   {
    "duration": 5,
    "start_time": "2022-11-03T15:09:54.192Z"
   },
   {
    "duration": 346,
    "start_time": "2022-11-03T15:09:54.198Z"
   },
   {
    "duration": 304,
    "start_time": "2022-11-03T15:09:54.546Z"
   },
   {
    "duration": 7,
    "start_time": "2022-11-03T15:09:54.853Z"
   },
   {
    "duration": 132,
    "start_time": "2022-11-03T15:09:54.862Z"
   },
   {
    "duration": 2572,
    "start_time": "2022-11-03T15:09:54.996Z"
   },
   {
    "duration": 6,
    "start_time": "2022-11-03T15:09:57.572Z"
   },
   {
    "duration": 110,
    "start_time": "2022-11-03T15:09:57.581Z"
   },
   {
    "duration": 4,
    "start_time": "2022-11-03T15:09:57.693Z"
   },
   {
    "duration": 77,
    "start_time": "2022-11-03T15:09:57.700Z"
   },
   {
    "duration": 3,
    "start_time": "2022-11-03T15:09:57.779Z"
   },
   {
    "duration": 350,
    "start_time": "2022-11-03T15:09:57.784Z"
   },
   {
    "duration": 61,
    "start_time": "2022-11-03T15:09:58.135Z"
   },
   {
    "duration": 4,
    "start_time": "2022-11-03T15:09:58.198Z"
   },
   {
    "duration": 13,
    "start_time": "2022-11-03T15:09:58.204Z"
   },
   {
    "duration": 91,
    "start_time": "2022-11-03T15:09:58.219Z"
   },
   {
    "duration": 65,
    "start_time": "2022-11-03T15:09:58.312Z"
   },
   {
    "duration": 4,
    "start_time": "2022-11-03T15:09:58.379Z"
   },
   {
    "duration": 8016,
    "start_time": "2022-11-03T15:09:58.385Z"
   },
   {
    "duration": 37,
    "start_time": "2022-11-03T15:10:06.403Z"
   },
   {
    "duration": 26,
    "start_time": "2022-11-03T15:10:06.443Z"
   },
   {
    "duration": 6540,
    "start_time": "2022-11-03T15:10:17.715Z"
   },
   {
    "duration": 26,
    "start_time": "2022-11-03T15:10:24.259Z"
   },
   {
    "duration": 29,
    "start_time": "2022-11-03T15:15:40.502Z"
   },
   {
    "duration": 6155,
    "start_time": "2022-11-03T15:15:42.373Z"
   },
   {
    "duration": 35,
    "start_time": "2022-11-03T15:15:48.531Z"
   },
   {
    "duration": 459,
    "start_time": "2022-11-03T15:16:35.554Z"
   },
   {
    "duration": 29,
    "start_time": "2022-11-03T15:17:17.619Z"
   },
   {
    "duration": 13,
    "start_time": "2022-11-03T15:18:04.332Z"
   },
   {
    "duration": 19,
    "start_time": "2022-11-03T15:18:19.103Z"
   },
   {
    "duration": 5,
    "start_time": "2022-11-03T15:18:53.837Z"
   },
   {
    "duration": 154,
    "start_time": "2022-11-03T15:19:23.013Z"
   },
   {
    "duration": 1835,
    "start_time": "2022-11-03T15:19:33.403Z"
   },
   {
    "duration": 97,
    "start_time": "2022-11-03T15:19:35.241Z"
   },
   {
    "duration": 5,
    "start_time": "2022-11-03T15:19:35.342Z"
   },
   {
    "duration": 315,
    "start_time": "2022-11-03T15:19:35.349Z"
   },
   {
    "duration": 304,
    "start_time": "2022-11-03T15:19:35.665Z"
   },
   {
    "duration": 5,
    "start_time": "2022-11-03T15:19:35.971Z"
   },
   {
    "duration": 115,
    "start_time": "2022-11-03T15:19:35.978Z"
   },
   {
    "duration": 2593,
    "start_time": "2022-11-03T15:19:36.095Z"
   },
   {
    "duration": 4,
    "start_time": "2022-11-03T15:19:38.690Z"
   },
   {
    "duration": 106,
    "start_time": "2022-11-03T15:19:38.696Z"
   },
   {
    "duration": 4,
    "start_time": "2022-11-03T15:19:38.804Z"
   },
   {
    "duration": 67,
    "start_time": "2022-11-03T15:19:38.809Z"
   },
   {
    "duration": 4,
    "start_time": "2022-11-03T15:19:38.878Z"
   },
   {
    "duration": 308,
    "start_time": "2022-11-03T15:19:38.883Z"
   },
   {
    "duration": 57,
    "start_time": "2022-11-03T15:19:39.193Z"
   },
   {
    "duration": 7,
    "start_time": "2022-11-03T15:19:39.251Z"
   },
   {
    "duration": 13,
    "start_time": "2022-11-03T15:19:39.261Z"
   },
   {
    "duration": 100,
    "start_time": "2022-11-03T15:19:39.276Z"
   },
   {
    "duration": 44,
    "start_time": "2022-11-03T15:19:39.377Z"
   },
   {
    "duration": 39,
    "start_time": "2022-11-03T15:19:39.423Z"
   },
   {
    "duration": 8175,
    "start_time": "2022-11-03T15:19:39.464Z"
   },
   {
    "duration": 25,
    "start_time": "2022-11-03T15:19:47.641Z"
   },
   {
    "duration": 543,
    "start_time": "2022-11-03T15:19:47.667Z"
   },
   {
    "duration": 34,
    "start_time": "2022-11-03T15:19:48.212Z"
   },
   {
    "duration": 7,
    "start_time": "2022-11-03T15:19:48.247Z"
   },
   {
    "duration": 22,
    "start_time": "2022-11-03T15:19:48.257Z"
   },
   {
    "duration": 11,
    "start_time": "2022-11-03T15:19:48.281Z"
   },
   {
    "duration": 564,
    "start_time": "2022-11-03T15:20:13.429Z"
   },
   {
    "duration": 616,
    "start_time": "2022-11-03T15:20:30.289Z"
   },
   {
    "duration": 858,
    "start_time": "2022-11-03T15:20:50.653Z"
   },
   {
    "duration": 4751,
    "start_time": "2022-11-03T15:21:23.285Z"
   },
   {
    "duration": 74,
    "start_time": "2022-11-03T15:30:38.085Z"
   },
   {
    "duration": 2005,
    "start_time": "2022-11-03T15:30:47.124Z"
   },
   {
    "duration": 101,
    "start_time": "2022-11-03T15:30:49.131Z"
   },
   {
    "duration": 6,
    "start_time": "2022-11-03T15:30:49.234Z"
   },
   {
    "duration": 384,
    "start_time": "2022-11-03T15:30:49.243Z"
   },
   {
    "duration": 346,
    "start_time": "2022-11-03T15:30:49.628Z"
   },
   {
    "duration": 5,
    "start_time": "2022-11-03T15:30:49.976Z"
   },
   {
    "duration": 108,
    "start_time": "2022-11-03T15:30:49.983Z"
   },
   {
    "duration": 2582,
    "start_time": "2022-11-03T15:30:50.092Z"
   },
   {
    "duration": 5,
    "start_time": "2022-11-03T15:30:52.676Z"
   },
   {
    "duration": 90,
    "start_time": "2022-11-03T15:30:52.685Z"
   },
   {
    "duration": 5,
    "start_time": "2022-11-03T15:30:52.776Z"
   },
   {
    "duration": 71,
    "start_time": "2022-11-03T15:30:52.783Z"
   },
   {
    "duration": 4,
    "start_time": "2022-11-03T15:30:52.858Z"
   },
   {
    "duration": 312,
    "start_time": "2022-11-03T15:30:52.863Z"
   },
   {
    "duration": 62,
    "start_time": "2022-11-03T15:30:53.178Z"
   },
   {
    "duration": 11,
    "start_time": "2022-11-03T15:30:53.243Z"
   },
   {
    "duration": 13,
    "start_time": "2022-11-03T15:30:53.262Z"
   },
   {
    "duration": 83,
    "start_time": "2022-11-03T15:30:53.277Z"
   },
   {
    "duration": 45,
    "start_time": "2022-11-03T15:30:53.363Z"
   },
   {
    "duration": 18,
    "start_time": "2022-11-03T15:30:53.410Z"
   },
   {
    "duration": 7720,
    "start_time": "2022-11-03T15:30:53.429Z"
   },
   {
    "duration": 28,
    "start_time": "2022-11-03T15:31:01.156Z"
   },
   {
    "duration": 25,
    "start_time": "2022-11-03T15:31:01.186Z"
   },
   {
    "duration": 506,
    "start_time": "2022-11-03T15:31:01.213Z"
   },
   {
    "duration": 29,
    "start_time": "2022-11-03T15:31:01.721Z"
   },
   {
    "duration": 17,
    "start_time": "2022-11-03T15:31:01.757Z"
   },
   {
    "duration": 41,
    "start_time": "2022-11-03T15:31:01.776Z"
   },
   {
    "duration": 12,
    "start_time": "2022-11-03T15:31:01.821Z"
   },
   {
    "duration": 641,
    "start_time": "2022-11-03T15:31:01.841Z"
   },
   {
    "duration": 5269,
    "start_time": "2022-11-03T15:31:02.485Z"
   },
   {
    "duration": 1931,
    "start_time": "2022-11-03T15:33:54.559Z"
   },
   {
    "duration": 140,
    "start_time": "2022-11-03T15:33:56.492Z"
   },
   {
    "duration": 6,
    "start_time": "2022-11-03T15:33:56.638Z"
   },
   {
    "duration": 408,
    "start_time": "2022-11-03T15:33:56.647Z"
   },
   {
    "duration": 454,
    "start_time": "2022-11-03T15:33:57.057Z"
   },
   {
    "duration": 5,
    "start_time": "2022-11-03T15:33:57.515Z"
   },
   {
    "duration": 169,
    "start_time": "2022-11-03T15:33:57.522Z"
   },
   {
    "duration": 2564,
    "start_time": "2022-11-03T15:33:57.693Z"
   },
   {
    "duration": 6,
    "start_time": "2022-11-03T15:34:00.260Z"
   },
   {
    "duration": 105,
    "start_time": "2022-11-03T15:34:00.269Z"
   },
   {
    "duration": 5,
    "start_time": "2022-11-03T15:34:00.376Z"
   },
   {
    "duration": 77,
    "start_time": "2022-11-03T15:34:00.383Z"
   },
   {
    "duration": 4,
    "start_time": "2022-11-03T15:34:00.462Z"
   },
   {
    "duration": 369,
    "start_time": "2022-11-03T15:34:00.468Z"
   },
   {
    "duration": 79,
    "start_time": "2022-11-03T15:34:00.842Z"
   },
   {
    "duration": 5,
    "start_time": "2022-11-03T15:34:00.922Z"
   },
   {
    "duration": 28,
    "start_time": "2022-11-03T15:34:00.928Z"
   },
   {
    "duration": 85,
    "start_time": "2022-11-03T15:34:00.958Z"
   },
   {
    "duration": 55,
    "start_time": "2022-11-03T15:34:01.045Z"
   },
   {
    "duration": 20,
    "start_time": "2022-11-03T15:34:01.101Z"
   },
   {
    "duration": 8151,
    "start_time": "2022-11-03T15:34:01.122Z"
   },
   {
    "duration": 22,
    "start_time": "2022-11-03T15:34:09.275Z"
   },
   {
    "duration": 9,
    "start_time": "2022-11-03T15:34:09.298Z"
   },
   {
    "duration": 515,
    "start_time": "2022-11-03T15:34:09.309Z"
   },
   {
    "duration": 27,
    "start_time": "2022-11-03T15:34:09.826Z"
   },
   {
    "duration": 8,
    "start_time": "2022-11-03T15:34:09.855Z"
   },
   {
    "duration": 21,
    "start_time": "2022-11-03T15:34:09.866Z"
   },
   {
    "duration": 18,
    "start_time": "2022-11-03T15:34:09.892Z"
   },
   {
    "duration": 609,
    "start_time": "2022-11-03T15:34:09.941Z"
   },
   {
    "duration": 4863,
    "start_time": "2022-11-03T15:34:10.553Z"
   },
   {
    "duration": 7,
    "start_time": "2022-11-03T15:34:41.395Z"
   },
   {
    "duration": 31375,
    "start_time": "2022-11-03T15:39:23.781Z"
   },
   {
    "duration": 4758,
    "start_time": "2022-11-03T15:40:40.788Z"
   },
   {
    "duration": 25,
    "start_time": "2022-11-03T15:43:14.043Z"
   },
   {
    "duration": 5,
    "start_time": "2022-11-03T15:43:25.018Z"
   },
   {
    "duration": 11,
    "start_time": "2022-11-03T15:43:26.211Z"
   },
   {
    "duration": 9,
    "start_time": "2022-11-03T15:55:30.307Z"
   },
   {
    "duration": 1981,
    "start_time": "2022-11-03T15:56:15.801Z"
   },
   {
    "duration": 112,
    "start_time": "2022-11-03T15:56:17.785Z"
   },
   {
    "duration": 4,
    "start_time": "2022-11-03T15:56:17.898Z"
   },
   {
    "duration": 369,
    "start_time": "2022-11-03T15:56:17.904Z"
   },
   {
    "duration": 305,
    "start_time": "2022-11-03T15:56:18.275Z"
   },
   {
    "duration": 5,
    "start_time": "2022-11-03T15:56:18.581Z"
   },
   {
    "duration": 102,
    "start_time": "2022-11-03T15:56:18.588Z"
   },
   {
    "duration": 2676,
    "start_time": "2022-11-03T15:56:18.692Z"
   },
   {
    "duration": 5,
    "start_time": "2022-11-03T15:56:21.370Z"
   },
   {
    "duration": 107,
    "start_time": "2022-11-03T15:56:21.377Z"
   },
   {
    "duration": 6,
    "start_time": "2022-11-03T15:56:21.486Z"
   },
   {
    "duration": 86,
    "start_time": "2022-11-03T15:56:21.494Z"
   },
   {
    "duration": 4,
    "start_time": "2022-11-03T15:56:21.584Z"
   },
   {
    "duration": 337,
    "start_time": "2022-11-03T15:56:21.591Z"
   },
   {
    "duration": 64,
    "start_time": "2022-11-03T15:56:21.930Z"
   },
   {
    "duration": 5,
    "start_time": "2022-11-03T15:56:21.997Z"
   },
   {
    "duration": 15,
    "start_time": "2022-11-03T15:56:22.004Z"
   },
   {
    "duration": 38,
    "start_time": "2022-11-03T15:56:22.020Z"
   },
   {
    "duration": 67,
    "start_time": "2022-11-03T15:56:22.061Z"
   },
   {
    "duration": 60,
    "start_time": "2022-11-03T15:56:22.130Z"
   },
   {
    "duration": 19,
    "start_time": "2022-11-03T15:56:22.191Z"
   },
   {
    "duration": 8221,
    "start_time": "2022-11-03T15:56:22.211Z"
   },
   {
    "duration": 32,
    "start_time": "2022-11-03T15:56:30.434Z"
   },
   {
    "duration": 7,
    "start_time": "2022-11-03T15:56:30.468Z"
   },
   {
    "duration": 11,
    "start_time": "2022-11-03T15:56:30.476Z"
   },
   {
    "duration": 544,
    "start_time": "2022-11-03T15:56:30.489Z"
   },
   {
    "duration": 27,
    "start_time": "2022-11-03T15:56:31.047Z"
   },
   {
    "duration": 9,
    "start_time": "2022-11-03T15:56:31.077Z"
   },
   {
    "duration": 28,
    "start_time": "2022-11-03T15:56:31.088Z"
   },
   {
    "duration": 39,
    "start_time": "2022-11-03T15:56:31.118Z"
   },
   {
    "duration": 654,
    "start_time": "2022-11-03T15:56:31.161Z"
   },
   {
    "duration": 5183,
    "start_time": "2022-11-03T15:56:31.817Z"
   },
   {
    "duration": 5,
    "start_time": "2022-11-03T15:56:37.002Z"
   },
   {
    "duration": 18,
    "start_time": "2022-11-03T15:56:37.009Z"
   },
   {
    "duration": 1940,
    "start_time": "2022-11-03T16:00:19.263Z"
   },
   {
    "duration": 95,
    "start_time": "2022-11-03T16:00:21.205Z"
   },
   {
    "duration": 5,
    "start_time": "2022-11-03T16:00:21.301Z"
   },
   {
    "duration": 340,
    "start_time": "2022-11-03T16:00:21.308Z"
   },
   {
    "duration": 301,
    "start_time": "2022-11-03T16:00:21.651Z"
   },
   {
    "duration": 7,
    "start_time": "2022-11-03T16:00:21.954Z"
   },
   {
    "duration": 113,
    "start_time": "2022-11-03T16:00:21.964Z"
   },
   {
    "duration": 2338,
    "start_time": "2022-11-03T16:00:22.079Z"
   },
   {
    "duration": 4,
    "start_time": "2022-11-03T16:00:24.419Z"
   },
   {
    "duration": 80,
    "start_time": "2022-11-03T16:00:24.426Z"
   },
   {
    "duration": 6,
    "start_time": "2022-11-03T16:00:24.508Z"
   },
   {
    "duration": 79,
    "start_time": "2022-11-03T16:00:24.516Z"
   },
   {
    "duration": 4,
    "start_time": "2022-11-03T16:00:24.596Z"
   },
   {
    "duration": 333,
    "start_time": "2022-11-03T16:00:24.602Z"
   },
   {
    "duration": 71,
    "start_time": "2022-11-03T16:00:24.940Z"
   },
   {
    "duration": 4,
    "start_time": "2022-11-03T16:00:25.013Z"
   },
   {
    "duration": 27,
    "start_time": "2022-11-03T16:00:25.020Z"
   },
   {
    "duration": 19,
    "start_time": "2022-11-03T16:00:25.049Z"
   },
   {
    "duration": 78,
    "start_time": "2022-11-03T16:00:25.070Z"
   },
   {
    "duration": 44,
    "start_time": "2022-11-03T16:00:25.150Z"
   },
   {
    "duration": 18,
    "start_time": "2022-11-03T16:00:25.196Z"
   },
   {
    "duration": 7600,
    "start_time": "2022-11-03T16:00:25.215Z"
   },
   {
    "duration": 27,
    "start_time": "2022-11-03T16:00:32.817Z"
   },
   {
    "duration": 11,
    "start_time": "2022-11-03T16:00:32.847Z"
   },
   {
    "duration": 20,
    "start_time": "2022-11-03T16:00:32.860Z"
   },
   {
    "duration": 495,
    "start_time": "2022-11-03T16:00:32.882Z"
   },
   {
    "duration": 20,
    "start_time": "2022-11-03T16:00:33.379Z"
   },
   {
    "duration": 7,
    "start_time": "2022-11-03T16:00:33.402Z"
   },
   {
    "duration": 39,
    "start_time": "2022-11-03T16:00:33.410Z"
   },
   {
    "duration": 14,
    "start_time": "2022-11-03T16:00:33.452Z"
   },
   {
    "duration": 548,
    "start_time": "2022-11-03T16:00:33.468Z"
   },
   {
    "duration": 5006,
    "start_time": "2022-11-03T16:00:34.018Z"
   },
   {
    "duration": 125,
    "start_time": "2022-11-03T16:00:39.026Z"
   },
   {
    "duration": 0,
    "start_time": "2022-11-03T16:00:39.152Z"
   },
   {
    "duration": 4,
    "start_time": "2022-11-03T16:02:07.726Z"
   },
   {
    "duration": 12,
    "start_time": "2022-11-03T16:02:09.808Z"
   },
   {
    "duration": 10,
    "start_time": "2022-11-03T16:06:32.290Z"
   },
   {
    "duration": 518,
    "start_time": "2022-11-03T16:07:41.263Z"
   },
   {
    "duration": 28,
    "start_time": "2022-11-03T16:08:36.863Z"
   },
   {
    "duration": 217,
    "start_time": "2022-11-03T16:09:43.862Z"
   },
   {
    "duration": 2199,
    "start_time": "2022-11-03T16:10:00.628Z"
   },
   {
    "duration": 155,
    "start_time": "2022-11-03T16:10:02.828Z"
   },
   {
    "duration": 4,
    "start_time": "2022-11-03T16:10:02.985Z"
   },
   {
    "duration": 395,
    "start_time": "2022-11-03T16:10:02.992Z"
   },
   {
    "duration": 362,
    "start_time": "2022-11-03T16:10:03.388Z"
   },
   {
    "duration": 7,
    "start_time": "2022-11-03T16:10:03.753Z"
   },
   {
    "duration": 153,
    "start_time": "2022-11-03T16:10:03.762Z"
   },
   {
    "duration": 2852,
    "start_time": "2022-11-03T16:10:03.917Z"
   },
   {
    "duration": 5,
    "start_time": "2022-11-03T16:10:06.771Z"
   },
   {
    "duration": 123,
    "start_time": "2022-11-03T16:10:06.779Z"
   },
   {
    "duration": 5,
    "start_time": "2022-11-03T16:10:06.904Z"
   },
   {
    "duration": 104,
    "start_time": "2022-11-03T16:10:06.911Z"
   },
   {
    "duration": 5,
    "start_time": "2022-11-03T16:10:07.017Z"
   },
   {
    "duration": 411,
    "start_time": "2022-11-03T16:10:07.024Z"
   },
   {
    "duration": 88,
    "start_time": "2022-11-03T16:10:07.440Z"
   },
   {
    "duration": 6,
    "start_time": "2022-11-03T16:10:07.530Z"
   },
   {
    "duration": 67,
    "start_time": "2022-11-03T16:10:07.537Z"
   },
   {
    "duration": 38,
    "start_time": "2022-11-03T16:10:07.607Z"
   },
   {
    "duration": 106,
    "start_time": "2022-11-03T16:10:07.647Z"
   },
   {
    "duration": 48,
    "start_time": "2022-11-03T16:10:07.756Z"
   },
   {
    "duration": 19,
    "start_time": "2022-11-03T16:10:07.806Z"
   },
   {
    "duration": 8445,
    "start_time": "2022-11-03T16:10:07.826Z"
   },
   {
    "duration": 21,
    "start_time": "2022-11-03T16:10:16.273Z"
   },
   {
    "duration": 6,
    "start_time": "2022-11-03T16:10:16.296Z"
   },
   {
    "duration": 15,
    "start_time": "2022-11-03T16:10:16.304Z"
   },
   {
    "duration": 514,
    "start_time": "2022-11-03T16:10:16.321Z"
   },
   {
    "duration": 32,
    "start_time": "2022-11-03T16:10:16.842Z"
   },
   {
    "duration": 9,
    "start_time": "2022-11-03T16:10:16.879Z"
   },
   {
    "duration": 23,
    "start_time": "2022-11-03T16:10:16.891Z"
   },
   {
    "duration": 41,
    "start_time": "2022-11-03T16:10:16.916Z"
   },
   {
    "duration": 42,
    "start_time": "2022-11-03T16:10:16.959Z"
   },
   {
    "duration": 279,
    "start_time": "2022-11-03T16:10:17.003Z"
   },
   {
    "duration": 5707,
    "start_time": "2022-11-03T16:10:17.285Z"
   },
   {
    "duration": 7,
    "start_time": "2022-11-03T16:10:22.994Z"
   },
   {
    "duration": 20,
    "start_time": "2022-11-03T16:10:23.003Z"
   },
   {
    "duration": 147,
    "start_time": "2022-11-03T16:10:46.692Z"
   },
   {
    "duration": 141,
    "start_time": "2022-11-03T16:10:48.095Z"
   },
   {
    "duration": 140,
    "start_time": "2022-11-03T16:10:49.272Z"
   },
   {
    "duration": 325,
    "start_time": "2022-11-03T16:10:50.639Z"
   },
   {
    "duration": 147,
    "start_time": "2022-11-03T16:10:58.761Z"
   },
   {
    "duration": 12,
    "start_time": "2022-11-03T16:11:30.813Z"
   },
   {
    "duration": 11,
    "start_time": "2022-11-03T16:11:44.381Z"
   },
   {
    "duration": 13,
    "start_time": "2022-11-03T16:14:51.128Z"
   },
   {
    "duration": 8,
    "start_time": "2022-11-03T16:14:59.688Z"
   },
   {
    "duration": 2,
    "start_time": "2022-11-03T16:15:32.956Z"
   },
   {
    "duration": 146,
    "start_time": "2022-11-03T16:18:06.517Z"
   },
   {
    "duration": 494,
    "start_time": "2022-11-03T16:24:12.648Z"
   },
   {
    "duration": 76,
    "start_time": "2022-11-03T16:27:42.141Z"
   },
   {
    "duration": 56,
    "start_time": "2022-11-03T16:27:52.947Z"
   },
   {
    "duration": 95,
    "start_time": "2022-11-03T16:28:24.484Z"
   },
   {
    "duration": 40,
    "start_time": "2022-11-03T16:28:58.243Z"
   },
   {
    "duration": 1819,
    "start_time": "2022-11-03T16:30:38.153Z"
   },
   {
    "duration": 3,
    "start_time": "2022-11-03T16:30:39.974Z"
   },
   {
    "duration": 101,
    "start_time": "2022-11-03T16:30:39.979Z"
   },
   {
    "duration": 5,
    "start_time": "2022-11-03T16:30:40.081Z"
   },
   {
    "duration": 315,
    "start_time": "2022-11-03T16:30:40.089Z"
   },
   {
    "duration": 284,
    "start_time": "2022-11-03T16:30:40.407Z"
   },
   {
    "duration": 5,
    "start_time": "2022-11-03T16:30:40.693Z"
   },
   {
    "duration": 102,
    "start_time": "2022-11-03T16:30:40.700Z"
   },
   {
    "duration": 2328,
    "start_time": "2022-11-03T16:30:40.803Z"
   },
   {
    "duration": 8,
    "start_time": "2022-11-03T16:30:43.133Z"
   },
   {
    "duration": 89,
    "start_time": "2022-11-03T16:30:43.142Z"
   },
   {
    "duration": 6,
    "start_time": "2022-11-03T16:30:43.233Z"
   },
   {
    "duration": 80,
    "start_time": "2022-11-03T16:30:43.241Z"
   },
   {
    "duration": 4,
    "start_time": "2022-11-03T16:30:43.325Z"
   },
   {
    "duration": 310,
    "start_time": "2022-11-03T16:30:43.331Z"
   },
   {
    "duration": 62,
    "start_time": "2022-11-03T16:30:43.643Z"
   },
   {
    "duration": 4,
    "start_time": "2022-11-03T16:30:43.707Z"
   },
   {
    "duration": 26,
    "start_time": "2022-11-03T16:30:43.713Z"
   },
   {
    "duration": 10,
    "start_time": "2022-11-03T16:30:43.741Z"
   },
   {
    "duration": 72,
    "start_time": "2022-11-03T16:30:43.753Z"
   },
   {
    "duration": 44,
    "start_time": "2022-11-03T16:30:43.827Z"
   },
   {
    "duration": 18,
    "start_time": "2022-11-03T16:30:43.873Z"
   },
   {
    "duration": 6982,
    "start_time": "2022-11-03T16:30:43.892Z"
   },
   {
    "duration": 18,
    "start_time": "2022-11-03T16:30:50.876Z"
   },
   {
    "duration": 6,
    "start_time": "2022-11-03T16:30:50.896Z"
   },
   {
    "duration": 8,
    "start_time": "2022-11-03T16:30:50.904Z"
   },
   {
    "duration": 400,
    "start_time": "2022-11-03T16:30:50.939Z"
   },
   {
    "duration": 19,
    "start_time": "2022-11-03T16:30:51.341Z"
   },
   {
    "duration": 7,
    "start_time": "2022-11-03T16:30:51.362Z"
   },
   {
    "duration": 19,
    "start_time": "2022-11-03T16:30:51.370Z"
   },
   {
    "duration": 11,
    "start_time": "2022-11-03T16:30:51.391Z"
   },
   {
    "duration": 28,
    "start_time": "2022-11-03T16:30:51.439Z"
   },
   {
    "duration": 145,
    "start_time": "2022-11-03T16:30:51.469Z"
   },
   {
    "duration": 133,
    "start_time": "2022-11-03T16:30:51.616Z"
   },
   {
    "duration": 125,
    "start_time": "2022-11-03T16:30:51.750Z"
   },
   {
    "duration": 120,
    "start_time": "2022-11-03T16:30:51.877Z"
   },
   {
    "duration": 139,
    "start_time": "2022-11-03T16:30:51.999Z"
   },
   {
    "duration": 4640,
    "start_time": "2022-11-03T16:30:52.140Z"
   },
   {
    "duration": 7,
    "start_time": "2022-11-03T16:30:56.782Z"
   },
   {
    "duration": 13,
    "start_time": "2022-11-03T16:30:56.791Z"
   },
   {
    "duration": 8,
    "start_time": "2022-11-03T16:30:56.838Z"
   },
   {
    "duration": 169,
    "start_time": "2022-11-03T16:30:56.848Z"
   },
   {
    "duration": 57,
    "start_time": "2022-11-03T16:30:57.019Z"
   },
   {
    "duration": 55,
    "start_time": "2022-11-03T16:31:55.202Z"
   },
   {
    "duration": 3,
    "start_time": "2022-11-03T16:32:25.561Z"
   },
   {
    "duration": 453,
    "start_time": "2022-11-03T16:32:29.493Z"
   },
   {
    "duration": 480545,
    "start_time": "2022-11-03T16:32:35.523Z"
   },
   {
    "duration": 475312,
    "start_time": "2022-11-03T16:41:20.167Z"
   },
   {
    "duration": 63,
    "start_time": "2022-11-03T16:50:13.737Z"
   },
   {
    "duration": 9004,
    "start_time": "2022-11-03T16:50:27.489Z"
   },
   {
    "duration": 8990,
    "start_time": "2022-11-03T16:51:06.315Z"
   },
   {
    "duration": 1871,
    "start_time": "2022-11-03T17:49:40.303Z"
   },
   {
    "duration": 3,
    "start_time": "2022-11-03T17:49:42.176Z"
   },
   {
    "duration": 98,
    "start_time": "2022-11-03T17:49:43.233Z"
   },
   {
    "duration": 4,
    "start_time": "2022-11-03T17:49:44.908Z"
   },
   {
    "duration": 277,
    "start_time": "2022-11-03T17:49:45.297Z"
   },
   {
    "duration": 271,
    "start_time": "2022-11-03T17:49:45.610Z"
   },
   {
    "duration": 5,
    "start_time": "2022-11-03T17:49:47.083Z"
   },
   {
    "duration": 113,
    "start_time": "2022-11-03T17:49:48.584Z"
   },
   {
    "duration": 2234,
    "start_time": "2022-11-03T17:49:49.164Z"
   },
   {
    "duration": 5,
    "start_time": "2022-11-03T17:49:51.401Z"
   },
   {
    "duration": 84,
    "start_time": "2022-11-03T17:49:51.408Z"
   },
   {
    "duration": 4,
    "start_time": "2022-11-03T17:49:51.529Z"
   },
   {
    "duration": 87,
    "start_time": "2022-11-03T17:49:55.292Z"
   },
   {
    "duration": 4,
    "start_time": "2022-11-03T17:49:56.551Z"
   },
   {
    "duration": 351,
    "start_time": "2022-11-03T17:49:57.151Z"
   },
   {
    "duration": 73,
    "start_time": "2022-11-03T17:49:59.601Z"
   },
   {
    "duration": 5,
    "start_time": "2022-11-03T17:50:01.784Z"
   },
   {
    "duration": 9,
    "start_time": "2022-11-03T17:50:02.642Z"
   },
   {
    "duration": 9,
    "start_time": "2022-11-03T17:50:04.370Z"
   },
   {
    "duration": 92,
    "start_time": "2022-11-03T17:50:05.647Z"
   },
   {
    "duration": 69,
    "start_time": "2022-11-03T17:50:08.232Z"
   },
   {
    "duration": 20,
    "start_time": "2022-11-03T17:50:12.952Z"
   },
   {
    "duration": 7099,
    "start_time": "2022-11-03T17:50:14.642Z"
   },
   {
    "duration": 17,
    "start_time": "2022-11-03T17:50:21.743Z"
   },
   {
    "duration": 6,
    "start_time": "2022-11-03T17:50:21.762Z"
   },
   {
    "duration": 8,
    "start_time": "2022-11-03T17:50:21.771Z"
   },
   {
    "duration": 370,
    "start_time": "2022-11-03T17:50:22.033Z"
   },
   {
    "duration": 20,
    "start_time": "2022-11-03T17:50:28.567Z"
   },
   {
    "duration": 7,
    "start_time": "2022-11-03T17:50:30.403Z"
   },
   {
    "duration": 16,
    "start_time": "2022-11-03T17:50:32.342Z"
   },
   {
    "duration": 12,
    "start_time": "2022-11-03T17:50:34.728Z"
   },
   {
    "duration": 26,
    "start_time": "2022-11-03T17:50:36.333Z"
   },
   {
    "duration": 122,
    "start_time": "2022-11-03T17:50:37.997Z"
   },
   {
    "duration": 129,
    "start_time": "2022-11-03T17:50:39.016Z"
   },
   {
    "duration": 116,
    "start_time": "2022-11-03T17:50:40.006Z"
   },
   {
    "duration": 113,
    "start_time": "2022-11-03T17:50:40.714Z"
   },
   {
    "duration": 123,
    "start_time": "2022-11-03T17:50:42.050Z"
   },
   {
    "duration": 4636,
    "start_time": "2022-11-03T17:50:42.963Z"
   },
   {
    "duration": 6,
    "start_time": "2022-11-03T17:50:49.983Z"
   },
   {
    "duration": 14,
    "start_time": "2022-11-03T17:50:51.011Z"
   },
   {
    "duration": 7,
    "start_time": "2022-11-03T17:50:54.484Z"
   },
   {
    "duration": 353,
    "start_time": "2022-11-03T17:50:57.098Z"
   },
   {
    "duration": 1719,
    "start_time": "2022-11-03T18:31:13.997Z"
   },
   {
    "duration": 3,
    "start_time": "2022-11-03T18:31:15.717Z"
   },
   {
    "duration": 107,
    "start_time": "2022-11-03T18:31:15.722Z"
   },
   {
    "duration": 4,
    "start_time": "2022-11-03T18:31:15.831Z"
   },
   {
    "duration": 292,
    "start_time": "2022-11-03T18:31:15.837Z"
   },
   {
    "duration": 262,
    "start_time": "2022-11-03T18:31:16.130Z"
   },
   {
    "duration": 5,
    "start_time": "2022-11-03T18:31:16.394Z"
   },
   {
    "duration": 142,
    "start_time": "2022-11-03T18:31:17.149Z"
   },
   {
    "duration": 2172,
    "start_time": "2022-11-03T18:31:17.392Z"
   },
   {
    "duration": 4,
    "start_time": "2022-11-03T18:31:19.567Z"
   },
   {
    "duration": 94,
    "start_time": "2022-11-03T18:31:19.572Z"
   },
   {
    "duration": 3,
    "start_time": "2022-11-03T18:31:19.668Z"
   },
   {
    "duration": 60,
    "start_time": "2022-11-03T18:31:20.127Z"
   },
   {
    "duration": 4,
    "start_time": "2022-11-03T18:31:21.284Z"
   },
   {
    "duration": 273,
    "start_time": "2022-11-03T18:31:21.745Z"
   },
   {
    "duration": 80,
    "start_time": "2022-11-03T18:31:23.154Z"
   },
   {
    "duration": 4,
    "start_time": "2022-11-03T18:31:24.414Z"
   },
   {
    "duration": 8,
    "start_time": "2022-11-03T18:31:24.959Z"
   },
   {
    "duration": 8,
    "start_time": "2022-11-03T18:31:26.201Z"
   },
   {
    "duration": 122,
    "start_time": "2022-11-03T18:31:27.097Z"
   },
   {
    "duration": 69,
    "start_time": "2022-11-03T18:31:28.539Z"
   },
   {
    "duration": 20,
    "start_time": "2022-11-03T18:31:33.619Z"
   },
   {
    "duration": 6874,
    "start_time": "2022-11-03T18:31:34.026Z"
   },
   {
    "duration": 18,
    "start_time": "2022-11-03T18:31:40.902Z"
   },
   {
    "duration": 20,
    "start_time": "2022-11-03T18:31:40.922Z"
   },
   {
    "duration": 10,
    "start_time": "2022-11-03T18:31:40.944Z"
   },
   {
    "duration": 361,
    "start_time": "2022-11-03T18:31:40.955Z"
   },
   {
    "duration": 31,
    "start_time": "2022-11-03T18:31:41.318Z"
   },
   {
    "duration": 7,
    "start_time": "2022-11-03T18:31:41.351Z"
   },
   {
    "duration": 17,
    "start_time": "2022-11-03T18:31:41.359Z"
   },
   {
    "duration": 12,
    "start_time": "2022-11-03T18:31:41.378Z"
   },
   {
    "duration": 54,
    "start_time": "2022-11-03T18:31:41.392Z"
   },
   {
    "duration": 141,
    "start_time": "2022-11-03T18:31:41.448Z"
   },
   {
    "duration": 177,
    "start_time": "2022-11-03T18:31:41.592Z"
   },
   {
    "duration": 140,
    "start_time": "2022-11-03T18:31:41.770Z"
   },
   {
    "duration": 116,
    "start_time": "2022-11-03T18:31:41.912Z"
   },
   {
    "duration": 122,
    "start_time": "2022-11-03T18:31:42.030Z"
   },
   {
    "duration": 4917,
    "start_time": "2022-11-03T18:31:45.358Z"
   },
   {
    "duration": 5,
    "start_time": "2022-11-03T18:31:50.277Z"
   },
   {
    "duration": 11,
    "start_time": "2022-11-03T18:31:50.963Z"
   },
   {
    "duration": 13,
    "start_time": "2022-11-03T18:31:53.849Z"
   },
   {
    "duration": 268,
    "start_time": "2022-11-03T18:31:55.973Z"
   },
   {
    "duration": 2030,
    "start_time": "2022-11-03T19:02:48.869Z"
   },
   {
    "duration": 3,
    "start_time": "2022-11-03T19:02:50.900Z"
   },
   {
    "duration": 137,
    "start_time": "2022-11-03T19:02:50.905Z"
   },
   {
    "duration": 10,
    "start_time": "2022-11-03T19:02:51.045Z"
   },
   {
    "duration": 349,
    "start_time": "2022-11-03T19:02:51.058Z"
   },
   {
    "duration": 320,
    "start_time": "2022-11-03T19:02:51.409Z"
   },
   {
    "duration": 5,
    "start_time": "2022-11-03T19:02:52.194Z"
   },
   {
    "duration": 113,
    "start_time": "2022-11-03T19:02:52.959Z"
   },
   {
    "duration": 2560,
    "start_time": "2022-11-03T19:02:53.230Z"
   },
   {
    "duration": 4,
    "start_time": "2022-11-03T19:02:55.793Z"
   },
   {
    "duration": 110,
    "start_time": "2022-11-03T19:02:56.057Z"
   },
   {
    "duration": 5,
    "start_time": "2022-11-03T19:02:56.392Z"
   },
   {
    "duration": 73,
    "start_time": "2022-11-03T19:02:56.994Z"
   },
   {
    "duration": 5,
    "start_time": "2022-11-03T19:02:57.438Z"
   },
   {
    "duration": 333,
    "start_time": "2022-11-03T19:02:57.634Z"
   },
   {
    "duration": 81,
    "start_time": "2022-11-03T19:02:57.971Z"
   },
   {
    "duration": 5,
    "start_time": "2022-11-03T19:02:58.336Z"
   },
   {
    "duration": 9,
    "start_time": "2022-11-03T19:02:58.526Z"
   },
   {
    "duration": 8,
    "start_time": "2022-11-03T19:02:58.983Z"
   },
   {
    "duration": 100,
    "start_time": "2022-11-03T19:02:59.470Z"
   },
   {
    "duration": 54,
    "start_time": "2022-11-03T19:03:00.131Z"
   },
   {
    "duration": 20,
    "start_time": "2022-11-03T19:03:03.001Z"
   },
   {
    "duration": 8020,
    "start_time": "2022-11-03T19:03:03.584Z"
   },
   {
    "duration": 39,
    "start_time": "2022-11-03T19:03:11.607Z"
   },
   {
    "duration": 11,
    "start_time": "2022-11-03T19:03:11.648Z"
   },
   {
    "duration": 19,
    "start_time": "2022-11-03T19:03:11.662Z"
   },
   {
    "duration": 479,
    "start_time": "2022-11-03T19:03:11.683Z"
   },
   {
    "duration": 31,
    "start_time": "2022-11-03T19:03:12.164Z"
   },
   {
    "duration": 9,
    "start_time": "2022-11-03T19:03:12.197Z"
   },
   {
    "duration": 56,
    "start_time": "2022-11-03T19:03:12.209Z"
   },
   {
    "duration": 12,
    "start_time": "2022-11-03T19:03:12.267Z"
   },
   {
    "duration": 28,
    "start_time": "2022-11-03T19:03:12.283Z"
   },
   {
    "duration": 180,
    "start_time": "2022-11-03T19:03:12.313Z"
   },
   {
    "duration": 175,
    "start_time": "2022-11-03T19:03:12.494Z"
   },
   {
    "duration": 146,
    "start_time": "2022-11-03T19:03:12.670Z"
   },
   {
    "duration": 158,
    "start_time": "2022-11-03T19:03:12.818Z"
   },
   {
    "duration": 148,
    "start_time": "2022-11-03T19:03:12.978Z"
   },
   {
    "duration": 5296,
    "start_time": "2022-11-03T19:03:13.128Z"
   },
   {
    "duration": 12,
    "start_time": "2022-11-03T19:03:18.426Z"
   },
   {
    "duration": 25,
    "start_time": "2022-11-03T19:03:18.441Z"
   },
   {
    "duration": 9,
    "start_time": "2022-11-03T19:03:18.469Z"
   },
   {
    "duration": 248,
    "start_time": "2022-11-03T19:03:22.392Z"
   },
   {
    "duration": 1760,
    "start_time": "2022-11-03T19:38:54.712Z"
   },
   {
    "duration": 3,
    "start_time": "2022-11-03T19:38:56.473Z"
   },
   {
    "duration": 108,
    "start_time": "2022-11-03T19:38:56.477Z"
   },
   {
    "duration": 6,
    "start_time": "2022-11-03T19:38:56.947Z"
   },
   {
    "duration": 381,
    "start_time": "2022-11-03T19:38:57.200Z"
   },
   {
    "duration": 295,
    "start_time": "2022-11-03T19:38:57.582Z"
   },
   {
    "duration": 4,
    "start_time": "2022-11-03T19:38:57.879Z"
   },
   {
    "duration": 116,
    "start_time": "2022-11-03T19:38:58.236Z"
   },
   {
    "duration": 2276,
    "start_time": "2022-11-03T19:38:58.447Z"
   },
   {
    "duration": 8,
    "start_time": "2022-11-03T19:39:00.737Z"
   },
   {
    "duration": 88,
    "start_time": "2022-11-03T19:39:00.747Z"
   },
   {
    "duration": 4,
    "start_time": "2022-11-03T19:39:00.837Z"
   },
   {
    "duration": 91,
    "start_time": "2022-11-03T19:39:00.843Z"
   },
   {
    "duration": 5,
    "start_time": "2022-11-03T19:39:00.936Z"
   },
   {
    "duration": 336,
    "start_time": "2022-11-03T19:39:00.944Z"
   },
   {
    "duration": 72,
    "start_time": "2022-11-03T19:39:01.282Z"
   },
   {
    "duration": 6,
    "start_time": "2022-11-03T19:39:01.357Z"
   },
   {
    "duration": 37,
    "start_time": "2022-11-03T19:39:01.365Z"
   },
   {
    "duration": 32,
    "start_time": "2022-11-03T19:39:01.404Z"
   },
   {
    "duration": 73,
    "start_time": "2022-11-03T19:39:01.479Z"
   },
   {
    "duration": 83,
    "start_time": "2022-11-03T19:39:01.808Z"
   },
   {
    "duration": 18,
    "start_time": "2022-11-03T19:39:03.207Z"
   },
   {
    "duration": 7682,
    "start_time": "2022-11-03T19:39:04.153Z"
   },
   {
    "duration": 28,
    "start_time": "2022-11-03T19:39:11.839Z"
   },
   {
    "duration": 5,
    "start_time": "2022-11-03T19:39:11.869Z"
   },
   {
    "duration": 8,
    "start_time": "2022-11-03T19:39:11.877Z"
   },
   {
    "duration": 457,
    "start_time": "2022-11-03T19:39:11.886Z"
   },
   {
    "duration": 27,
    "start_time": "2022-11-03T19:39:12.345Z"
   },
   {
    "duration": 5,
    "start_time": "2022-11-03T19:39:12.374Z"
   },
   {
    "duration": 21,
    "start_time": "2022-11-03T19:39:12.380Z"
   },
   {
    "duration": 45,
    "start_time": "2022-11-03T19:39:12.402Z"
   },
   {
    "duration": 25,
    "start_time": "2022-11-03T19:39:22.586Z"
   },
   {
    "duration": 143,
    "start_time": "2022-11-03T19:39:22.743Z"
   },
   {
    "duration": 130,
    "start_time": "2022-11-03T19:39:22.916Z"
   },
   {
    "duration": 113,
    "start_time": "2022-11-03T19:39:23.664Z"
   },
   {
    "duration": 106,
    "start_time": "2022-11-03T19:39:23.826Z"
   },
   {
    "duration": 126,
    "start_time": "2022-11-03T19:39:23.978Z"
   },
   {
    "duration": 4625,
    "start_time": "2022-11-03T19:39:24.862Z"
   },
   {
    "duration": 4,
    "start_time": "2022-11-03T19:39:29.489Z"
   },
   {
    "duration": 18,
    "start_time": "2022-11-03T19:39:29.495Z"
   },
   {
    "duration": 25,
    "start_time": "2022-11-03T19:39:29.515Z"
   },
   {
    "duration": 227,
    "start_time": "2022-11-03T19:39:29.926Z"
   },
   {
    "duration": 8882,
    "start_time": "2022-11-03T19:39:31.451Z"
   },
   {
    "duration": 1942,
    "start_time": "2022-11-03T19:44:17.409Z"
   },
   {
    "duration": 5,
    "start_time": "2022-11-03T19:44:19.356Z"
   },
   {
    "duration": 119,
    "start_time": "2022-11-03T19:44:19.364Z"
   },
   {
    "duration": 4,
    "start_time": "2022-11-03T19:44:19.485Z"
   },
   {
    "duration": 361,
    "start_time": "2022-11-03T19:44:19.492Z"
   },
   {
    "duration": 309,
    "start_time": "2022-11-03T19:44:19.856Z"
   },
   {
    "duration": 4,
    "start_time": "2022-11-03T19:44:20.167Z"
   },
   {
    "duration": 104,
    "start_time": "2022-11-03T19:44:20.172Z"
   },
   {
    "duration": 2278,
    "start_time": "2022-11-03T19:44:20.278Z"
   },
   {
    "duration": 8,
    "start_time": "2022-11-03T19:44:22.558Z"
   },
   {
    "duration": 77,
    "start_time": "2022-11-03T19:44:22.567Z"
   },
   {
    "duration": 9,
    "start_time": "2022-11-03T19:44:22.646Z"
   },
   {
    "duration": 65,
    "start_time": "2022-11-03T19:44:22.658Z"
   },
   {
    "duration": 14,
    "start_time": "2022-11-03T19:44:22.726Z"
   },
   {
    "duration": 324,
    "start_time": "2022-11-03T19:44:22.741Z"
   },
   {
    "duration": 50,
    "start_time": "2022-11-03T19:44:23.067Z"
   },
   {
    "duration": 4,
    "start_time": "2022-11-03T19:44:23.119Z"
   },
   {
    "duration": 23,
    "start_time": "2022-11-03T19:44:23.124Z"
   },
   {
    "duration": 12,
    "start_time": "2022-11-03T19:44:23.149Z"
   },
   {
    "duration": 76,
    "start_time": "2022-11-03T19:44:23.163Z"
   },
   {
    "duration": 48,
    "start_time": "2022-11-03T19:44:23.241Z"
   },
   {
    "duration": 17,
    "start_time": "2022-11-03T19:44:23.290Z"
   },
   {
    "duration": 7516,
    "start_time": "2022-11-03T19:44:23.309Z"
   },
   {
    "duration": 33,
    "start_time": "2022-11-03T19:44:30.827Z"
   },
   {
    "duration": 8,
    "start_time": "2022-11-03T19:44:30.863Z"
   },
   {
    "duration": 10,
    "start_time": "2022-11-03T19:44:30.873Z"
   },
   {
    "duration": 435,
    "start_time": "2022-11-03T19:44:30.884Z"
   },
   {
    "duration": 43,
    "start_time": "2022-11-03T19:44:31.321Z"
   },
   {
    "duration": 8,
    "start_time": "2022-11-03T19:44:31.365Z"
   },
   {
    "duration": 20,
    "start_time": "2022-11-03T19:44:31.375Z"
   },
   {
    "duration": 13,
    "start_time": "2022-11-03T19:44:31.396Z"
   },
   {
    "duration": 64,
    "start_time": "2022-11-03T19:44:31.410Z"
   },
   {
    "duration": 151,
    "start_time": "2022-11-03T19:44:31.476Z"
   },
   {
    "duration": 160,
    "start_time": "2022-11-03T19:44:31.629Z"
   },
   {
    "duration": 141,
    "start_time": "2022-11-03T19:44:31.791Z"
   },
   {
    "duration": 161,
    "start_time": "2022-11-03T19:44:31.933Z"
   },
   {
    "duration": 147,
    "start_time": "2022-11-03T19:44:32.096Z"
   },
   {
    "duration": 7,
    "start_time": "2022-11-03T19:44:50.865Z"
   },
   {
    "duration": 2003,
    "start_time": "2022-11-03T19:44:59.683Z"
   },
   {
    "duration": 2,
    "start_time": "2022-11-03T19:45:01.689Z"
   },
   {
    "duration": 123,
    "start_time": "2022-11-03T19:45:01.693Z"
   },
   {
    "duration": 4,
    "start_time": "2022-11-03T19:45:01.818Z"
   },
   {
    "duration": 373,
    "start_time": "2022-11-03T19:45:01.824Z"
   },
   {
    "duration": 329,
    "start_time": "2022-11-03T19:45:02.199Z"
   },
   {
    "duration": 17,
    "start_time": "2022-11-03T19:45:02.530Z"
   },
   {
    "duration": 105,
    "start_time": "2022-11-03T19:45:02.550Z"
   },
   {
    "duration": 2402,
    "start_time": "2022-11-03T19:45:02.657Z"
   },
   {
    "duration": 4,
    "start_time": "2022-11-03T19:45:05.063Z"
   },
   {
    "duration": 111,
    "start_time": "2022-11-03T19:45:05.069Z"
   },
   {
    "duration": 5,
    "start_time": "2022-11-03T19:45:05.182Z"
   },
   {
    "duration": 87,
    "start_time": "2022-11-03T19:45:05.189Z"
   },
   {
    "duration": 3,
    "start_time": "2022-11-03T19:45:05.278Z"
   },
   {
    "duration": 330,
    "start_time": "2022-11-03T19:45:05.282Z"
   },
   {
    "duration": 58,
    "start_time": "2022-11-03T19:45:05.614Z"
   },
   {
    "duration": 4,
    "start_time": "2022-11-03T19:45:05.674Z"
   },
   {
    "duration": 20,
    "start_time": "2022-11-03T19:45:05.680Z"
   },
   {
    "duration": 21,
    "start_time": "2022-11-03T19:45:05.702Z"
   },
   {
    "duration": 69,
    "start_time": "2022-11-03T19:45:05.725Z"
   },
   {
    "duration": 45,
    "start_time": "2022-11-03T19:45:05.796Z"
   },
   {
    "duration": 18,
    "start_time": "2022-11-03T19:45:05.880Z"
   },
   {
    "duration": 7469,
    "start_time": "2022-11-03T19:45:06.203Z"
   },
   {
    "duration": 20,
    "start_time": "2022-11-03T19:45:13.674Z"
   },
   {
    "duration": 8,
    "start_time": "2022-11-03T19:45:13.696Z"
   },
   {
    "duration": 34,
    "start_time": "2022-11-03T19:45:13.706Z"
   },
   {
    "duration": 413,
    "start_time": "2022-11-03T19:45:13.741Z"
   },
   {
    "duration": 19,
    "start_time": "2022-11-03T19:45:14.157Z"
   },
   {
    "duration": 6,
    "start_time": "2022-11-03T19:45:14.177Z"
   },
   {
    "duration": 16,
    "start_time": "2022-11-03T19:45:14.185Z"
   },
   {
    "duration": 37,
    "start_time": "2022-11-03T19:45:14.202Z"
   },
   {
    "duration": 29,
    "start_time": "2022-11-03T19:45:14.242Z"
   },
   {
    "duration": 143,
    "start_time": "2022-11-03T19:45:14.273Z"
   },
   {
    "duration": 143,
    "start_time": "2022-11-03T19:45:14.418Z"
   },
   {
    "duration": 154,
    "start_time": "2022-11-03T19:45:14.564Z"
   },
   {
    "duration": 143,
    "start_time": "2022-11-03T19:45:14.720Z"
   },
   {
    "duration": 146,
    "start_time": "2022-11-03T19:45:14.865Z"
   },
   {
    "duration": 4437,
    "start_time": "2022-11-03T19:45:15.013Z"
   },
   {
    "duration": 5,
    "start_time": "2022-11-03T19:45:19.451Z"
   },
   {
    "duration": 15,
    "start_time": "2022-11-03T19:45:19.457Z"
   },
   {
    "duration": 7,
    "start_time": "2022-11-03T19:45:19.473Z"
   },
   {
    "duration": 163,
    "start_time": "2022-11-03T19:45:19.481Z"
   },
   {
    "duration": 1697,
    "start_time": "2022-11-03T19:45:45.769Z"
   },
   {
    "duration": 2,
    "start_time": "2022-11-03T19:45:47.469Z"
   },
   {
    "duration": 104,
    "start_time": "2022-11-03T19:45:47.473Z"
   },
   {
    "duration": 4,
    "start_time": "2022-11-03T19:45:47.579Z"
   },
   {
    "duration": 301,
    "start_time": "2022-11-03T19:45:47.584Z"
   },
   {
    "duration": 262,
    "start_time": "2022-11-03T19:45:47.887Z"
   },
   {
    "duration": 4,
    "start_time": "2022-11-03T19:45:48.151Z"
   },
   {
    "duration": 97,
    "start_time": "2022-11-03T19:45:48.157Z"
   },
   {
    "duration": 2258,
    "start_time": "2022-11-03T19:45:48.256Z"
   },
   {
    "duration": 5,
    "start_time": "2022-11-03T19:45:50.517Z"
   },
   {
    "duration": 97,
    "start_time": "2022-11-03T19:45:50.524Z"
   },
   {
    "duration": 5,
    "start_time": "2022-11-03T19:45:50.623Z"
   },
   {
    "duration": 93,
    "start_time": "2022-11-03T19:45:50.630Z"
   },
   {
    "duration": 4,
    "start_time": "2022-11-03T19:45:50.745Z"
   },
   {
    "duration": 288,
    "start_time": "2022-11-03T19:45:52.595Z"
   },
   {
    "duration": 73,
    "start_time": "2022-11-03T19:45:54.008Z"
   },
   {
    "duration": 5,
    "start_time": "2022-11-03T19:45:54.971Z"
   },
   {
    "duration": 9,
    "start_time": "2022-11-03T19:45:56.283Z"
   },
   {
    "duration": 11,
    "start_time": "2022-11-03T19:45:57.152Z"
   },
   {
    "duration": 92,
    "start_time": "2022-11-03T19:45:57.975Z"
   },
   {
    "duration": 66,
    "start_time": "2022-11-03T19:45:59.880Z"
   },
   {
    "duration": 22,
    "start_time": "2022-11-03T19:46:02.847Z"
   },
   {
    "duration": 6971,
    "start_time": "2022-11-03T19:46:03.976Z"
   },
   {
    "duration": 20,
    "start_time": "2022-11-03T19:46:10.949Z"
   },
   {
    "duration": 7,
    "start_time": "2022-11-03T19:46:10.970Z"
   },
   {
    "duration": 8,
    "start_time": "2022-11-03T19:46:10.979Z"
   },
   {
    "duration": 383,
    "start_time": "2022-11-03T19:46:10.989Z"
   },
   {
    "duration": 18,
    "start_time": "2022-11-03T19:46:11.373Z"
   },
   {
    "duration": 6,
    "start_time": "2022-11-03T19:46:11.393Z"
   },
   {
    "duration": 38,
    "start_time": "2022-11-03T19:46:11.401Z"
   },
   {
    "duration": 14,
    "start_time": "2022-11-03T19:46:11.617Z"
   },
   {
    "duration": 25,
    "start_time": "2022-11-03T19:46:13.127Z"
   },
   {
    "duration": 123,
    "start_time": "2022-11-03T19:46:14.217Z"
   },
   {
    "duration": 133,
    "start_time": "2022-11-03T19:46:14.428Z"
   },
   {
    "duration": 114,
    "start_time": "2022-11-03T19:46:14.678Z"
   },
   {
    "duration": 117,
    "start_time": "2022-11-03T19:46:15.727Z"
   },
   {
    "duration": 118,
    "start_time": "2022-11-03T19:46:16.393Z"
   },
   {
    "duration": 4333,
    "start_time": "2022-11-03T19:46:18.611Z"
   },
   {
    "duration": 4,
    "start_time": "2022-11-03T19:46:22.946Z"
   },
   {
    "duration": 10,
    "start_time": "2022-11-03T19:46:24.410Z"
   },
   {
    "duration": 8,
    "start_time": "2022-11-03T19:46:30.417Z"
   },
   {
    "duration": 180,
    "start_time": "2022-11-03T19:46:34.960Z"
   },
   {
    "duration": 1725,
    "start_time": "2022-11-03T19:49:47.812Z"
   },
   {
    "duration": 2,
    "start_time": "2022-11-03T19:49:49.539Z"
   },
   {
    "duration": 98,
    "start_time": "2022-11-03T19:49:49.543Z"
   },
   {
    "duration": 4,
    "start_time": "2022-11-03T19:49:49.643Z"
   },
   {
    "duration": 307,
    "start_time": "2022-11-03T19:49:49.649Z"
   },
   {
    "duration": 267,
    "start_time": "2022-11-03T19:49:49.959Z"
   },
   {
    "duration": 5,
    "start_time": "2022-11-03T19:49:50.227Z"
   },
   {
    "duration": 90,
    "start_time": "2022-11-03T19:49:50.240Z"
   },
   {
    "duration": 2281,
    "start_time": "2022-11-03T19:49:50.332Z"
   },
   {
    "duration": 4,
    "start_time": "2022-11-03T19:49:52.616Z"
   },
   {
    "duration": 87,
    "start_time": "2022-11-03T19:49:52.622Z"
   },
   {
    "duration": 4,
    "start_time": "2022-11-03T19:49:52.711Z"
   },
   {
    "duration": 67,
    "start_time": "2022-11-03T19:49:52.716Z"
   },
   {
    "duration": 3,
    "start_time": "2022-11-03T19:49:52.784Z"
   },
   {
    "duration": 312,
    "start_time": "2022-11-03T19:49:52.789Z"
   },
   {
    "duration": 57,
    "start_time": "2022-11-03T19:49:53.103Z"
   },
   {
    "duration": 4,
    "start_time": "2022-11-03T19:49:53.162Z"
   },
   {
    "duration": 17,
    "start_time": "2022-11-03T19:49:53.167Z"
   },
   {
    "duration": 20,
    "start_time": "2022-11-03T19:49:53.185Z"
   },
   {
    "duration": 88,
    "start_time": "2022-11-03T19:49:53.207Z"
   },
   {
    "duration": 60,
    "start_time": "2022-11-03T19:49:53.296Z"
   },
   {
    "duration": 21,
    "start_time": "2022-11-03T19:49:53.359Z"
   },
   {
    "duration": 7639,
    "start_time": "2022-11-03T19:49:53.382Z"
   },
   {
    "duration": 33,
    "start_time": "2022-11-03T19:50:01.023Z"
   },
   {
    "duration": 8,
    "start_time": "2022-11-03T19:50:01.058Z"
   },
   {
    "duration": 24,
    "start_time": "2022-11-03T19:50:01.068Z"
   },
   {
    "duration": 422,
    "start_time": "2022-11-03T19:50:01.094Z"
   },
   {
    "duration": 33,
    "start_time": "2022-11-03T19:50:01.520Z"
   },
   {
    "duration": 9,
    "start_time": "2022-11-03T19:50:01.554Z"
   },
   {
    "duration": 20,
    "start_time": "2022-11-03T19:50:01.565Z"
   },
   {
    "duration": 11,
    "start_time": "2022-11-03T19:50:01.587Z"
   },
   {
    "duration": 57,
    "start_time": "2022-11-03T19:50:01.600Z"
   },
   {
    "duration": 158,
    "start_time": "2022-11-03T19:50:01.659Z"
   },
   {
    "duration": 168,
    "start_time": "2022-11-03T19:50:01.819Z"
   },
   {
    "duration": 137,
    "start_time": "2022-11-03T19:50:01.989Z"
   },
   {
    "duration": 150,
    "start_time": "2022-11-03T19:50:02.128Z"
   },
   {
    "duration": 138,
    "start_time": "2022-11-03T19:50:02.280Z"
   },
   {
    "duration": 4764,
    "start_time": "2022-11-03T19:50:02.420Z"
   },
   {
    "duration": 9,
    "start_time": "2022-11-03T19:50:07.186Z"
   },
   {
    "duration": 32,
    "start_time": "2022-11-03T19:50:07.198Z"
   },
   {
    "duration": 11,
    "start_time": "2022-11-03T19:50:07.244Z"
   },
   {
    "duration": 284,
    "start_time": "2022-11-03T19:50:07.256Z"
   },
   {
    "duration": 447390,
    "start_time": "2022-11-03T19:50:07.543Z"
   },
   {
    "duration": 8389,
    "start_time": "2022-11-03T19:57:34.939Z"
   },
   {
    "duration": 1245917,
    "start_time": "2022-11-03T19:57:43.330Z"
   },
   {
    "duration": 2123634,
    "start_time": "2022-11-03T20:18:29.249Z"
   },
   {
    "duration": 277508,
    "start_time": "2022-11-03T21:23:34.645Z"
   },
   {
    "duration": 16004,
    "start_time": "2022-11-03T21:32:23.761Z"
   },
   {
    "duration": 3246,
    "start_time": "2022-11-03T21:36:16.312Z"
   },
   {
    "duration": 3183,
    "start_time": "2022-11-04T09:29:28.492Z"
   },
   {
    "duration": 3,
    "start_time": "2022-11-04T09:29:31.676Z"
   },
   {
    "duration": 142,
    "start_time": "2022-11-04T09:29:31.680Z"
   },
   {
    "duration": 3,
    "start_time": "2022-11-04T09:29:31.824Z"
   },
   {
    "duration": 279,
    "start_time": "2022-11-04T09:29:31.829Z"
   },
   {
    "duration": 256,
    "start_time": "2022-11-04T09:29:32.110Z"
   },
   {
    "duration": 4,
    "start_time": "2022-11-04T09:29:32.367Z"
   },
   {
    "duration": 133,
    "start_time": "2022-11-04T09:29:32.672Z"
   },
   {
    "duration": 4,
    "start_time": "2022-11-04T09:31:02.218Z"
   },
   {
    "duration": 120,
    "start_time": "2022-11-04T09:31:08.173Z"
   },
   {
    "duration": 5,
    "start_time": "2022-11-04T09:31:08.780Z"
   },
   {
    "duration": 115,
    "start_time": "2022-11-04T09:31:09.551Z"
   },
   {
    "duration": 4,
    "start_time": "2022-11-04T09:31:10.125Z"
   },
   {
    "duration": 253,
    "start_time": "2022-11-04T09:31:10.312Z"
   },
   {
    "duration": 96,
    "start_time": "2022-11-04T09:31:10.880Z"
   },
   {
    "duration": 3,
    "start_time": "2022-11-04T09:31:11.784Z"
   },
   {
    "duration": 8,
    "start_time": "2022-11-04T09:31:12.452Z"
   },
   {
    "duration": 9,
    "start_time": "2022-11-04T09:31:12.973Z"
   },
   {
    "duration": 141,
    "start_time": "2022-11-04T09:31:13.480Z"
   },
   {
    "duration": 92,
    "start_time": "2022-11-04T09:31:13.888Z"
   },
   {
    "duration": 18,
    "start_time": "2022-11-04T09:31:18.193Z"
   },
   {
    "duration": 5798,
    "start_time": "2022-11-04T09:31:19.815Z"
   },
   {
    "duration": 16,
    "start_time": "2022-11-04T09:31:25.615Z"
   },
   {
    "duration": 41,
    "start_time": "2022-11-04T09:31:25.633Z"
   },
   {
    "duration": 21,
    "start_time": "2022-11-04T09:31:25.676Z"
   },
   {
    "duration": 373,
    "start_time": "2022-11-04T09:31:25.973Z"
   },
   {
    "duration": 19,
    "start_time": "2022-11-04T09:31:26.630Z"
   },
   {
    "duration": 7,
    "start_time": "2022-11-04T09:31:27.254Z"
   },
   {
    "duration": 16,
    "start_time": "2022-11-04T09:31:27.429Z"
   },
   {
    "duration": 13,
    "start_time": "2022-11-04T09:31:27.753Z"
   },
   {
    "duration": 24,
    "start_time": "2022-11-04T09:31:28.093Z"
   },
   {
    "duration": 121,
    "start_time": "2022-11-04T09:31:28.720Z"
   },
   {
    "duration": 191,
    "start_time": "2022-11-04T09:31:28.893Z"
   },
   {
    "duration": 111,
    "start_time": "2022-11-04T09:31:29.121Z"
   },
   {
    "duration": 118,
    "start_time": "2022-11-04T09:31:29.302Z"
   },
   {
    "duration": 120,
    "start_time": "2022-11-04T09:31:29.453Z"
   },
   {
    "duration": 3947,
    "start_time": "2022-11-04T09:31:29.814Z"
   },
   {
    "duration": 5,
    "start_time": "2022-11-04T09:31:33.762Z"
   },
   {
    "duration": 23,
    "start_time": "2022-11-04T09:31:33.768Z"
   },
   {
    "duration": 3,
    "start_time": "2022-11-04T09:46:37.172Z"
   },
   {
    "duration": 3,
    "start_time": "2022-11-04T09:46:37.851Z"
   },
   {
    "duration": 84,
    "start_time": "2022-11-04T09:46:38.332Z"
   },
   {
    "duration": 4,
    "start_time": "2022-11-04T09:46:39.240Z"
   },
   {
    "duration": 254,
    "start_time": "2022-11-04T09:46:39.611Z"
   },
   {
    "duration": 266,
    "start_time": "2022-11-04T09:46:39.866Z"
   },
   {
    "duration": 5,
    "start_time": "2022-11-04T09:46:40.134Z"
   },
   {
    "duration": 100,
    "start_time": "2022-11-04T09:46:40.560Z"
   },
   {
    "duration": 1863,
    "start_time": "2022-11-04T09:46:40.732Z"
   },
   {
    "duration": 4,
    "start_time": "2022-11-04T09:46:43.511Z"
   },
   {
    "duration": 78,
    "start_time": "2022-11-04T09:46:44.471Z"
   },
   {
    "duration": 4,
    "start_time": "2022-11-04T09:46:44.859Z"
   },
   {
    "duration": 85,
    "start_time": "2022-11-04T09:46:46.280Z"
   },
   {
    "duration": 4,
    "start_time": "2022-11-04T09:46:47.314Z"
   },
   {
    "duration": 438,
    "start_time": "2022-11-04T09:46:47.781Z"
   },
   {
    "duration": 72,
    "start_time": "2022-11-04T09:46:48.953Z"
   },
   {
    "duration": 4,
    "start_time": "2022-11-04T09:46:49.966Z"
   },
   {
    "duration": 9,
    "start_time": "2022-11-04T09:46:50.713Z"
   },
   {
    "duration": 9,
    "start_time": "2022-11-04T09:46:51.681Z"
   },
   {
    "duration": 82,
    "start_time": "2022-11-04T09:46:56.014Z"
   },
   {
    "duration": 46,
    "start_time": "2022-11-04T09:46:56.693Z"
   },
   {
    "duration": 4,
    "start_time": "2022-11-04T09:48:16.851Z"
   },
   {
    "duration": 16,
    "start_time": "2022-11-04T09:49:42.412Z"
   },
   {
    "duration": 5906,
    "start_time": "2022-11-04T09:49:45.292Z"
   },
   {
    "duration": 22,
    "start_time": "2022-11-04T09:49:51.199Z"
   },
   {
    "duration": 7,
    "start_time": "2022-11-04T09:49:59.811Z"
   },
   {
    "duration": 14,
    "start_time": "2022-11-04T09:50:06.732Z"
   },
   {
    "duration": 7,
    "start_time": "2022-11-04T09:51:27.672Z"
   },
   {
    "duration": 392,
    "start_time": "2022-11-04T09:51:29.512Z"
   },
   {
    "duration": 19,
    "start_time": "2022-11-04T09:52:38.012Z"
   },
   {
    "duration": 10,
    "start_time": "2022-11-04T09:52:48.751Z"
   },
   {
    "duration": 3969,
    "start_time": "2022-11-04T10:12:15.545Z"
   },
   {
    "duration": 8,
    "start_time": "2022-11-04T10:12:38.879Z"
   },
   {
    "duration": 21,
    "start_time": "2022-11-04T10:12:39.460Z"
   },
   {
    "duration": 16,
    "start_time": "2022-11-04T10:12:40.292Z"
   },
   {
    "duration": 32,
    "start_time": "2022-11-04T10:12:40.628Z"
   },
   {
    "duration": 143,
    "start_time": "2022-11-04T10:12:40.748Z"
   },
   {
    "duration": 259,
    "start_time": "2022-11-04T10:12:40.912Z"
   },
   {
    "duration": 116,
    "start_time": "2022-11-04T10:12:41.173Z"
   },
   {
    "duration": 118,
    "start_time": "2022-11-04T10:12:41.290Z"
   },
   {
    "duration": 121,
    "start_time": "2022-11-04T10:12:41.410Z"
   },
   {
    "duration": 3862,
    "start_time": "2022-11-04T10:12:42.127Z"
   },
   {
    "duration": 4072,
    "start_time": "2022-11-04T10:12:45.991Z"
   },
   {
    "duration": 4,
    "start_time": "2022-11-04T10:13:02.234Z"
   },
   {
    "duration": 4054,
    "start_time": "2022-11-04T10:13:15.588Z"
   },
   {
    "duration": 3711,
    "start_time": "2022-11-04T10:15:10.263Z"
   },
   {
    "duration": 80,
    "start_time": "2022-11-04T11:14:41.091Z"
   },
   {
    "duration": 2133,
    "start_time": "2022-11-04T11:35:41.966Z"
   },
   {
    "duration": 4,
    "start_time": "2022-11-04T11:35:44.101Z"
   },
   {
    "duration": 254,
    "start_time": "2022-11-04T11:35:46.074Z"
   },
   {
    "duration": 4,
    "start_time": "2022-11-04T11:35:48.561Z"
   },
   {
    "duration": 259,
    "start_time": "2022-11-04T11:35:49.245Z"
   },
   {
    "duration": 229,
    "start_time": "2022-11-04T11:35:50.038Z"
   },
   {
    "duration": 5,
    "start_time": "2022-11-04T11:35:51.410Z"
   },
   {
    "duration": 162,
    "start_time": "2022-11-04T11:35:53.066Z"
   },
   {
    "duration": 225,
    "start_time": "2022-11-04T11:37:45.563Z"
   },
   {
    "duration": 2119,
    "start_time": "2022-11-04T11:38:41.053Z"
   },
   {
    "duration": 250,
    "start_time": "2022-11-04T11:38:50.412Z"
   },
   {
    "duration": 3,
    "start_time": "2022-11-04T11:40:40.839Z"
   },
   {
    "duration": 264,
    "start_time": "2022-11-04T11:40:41.625Z"
   },
   {
    "duration": 218,
    "start_time": "2022-11-04T11:40:42.381Z"
   },
   {
    "duration": 371,
    "start_time": "2022-11-04T11:40:43.104Z"
   },
   {
    "duration": 262,
    "start_time": "2022-11-04T11:40:44.222Z"
   },
   {
    "duration": 204,
    "start_time": "2022-11-04T11:40:44.987Z"
   },
   {
    "duration": 216,
    "start_time": "2022-11-04T11:40:45.677Z"
   },
   {
    "duration": 200,
    "start_time": "2022-11-04T11:40:46.340Z"
   },
   {
    "duration": 232,
    "start_time": "2022-11-04T11:40:47.518Z"
   },
   {
    "duration": 223,
    "start_time": "2022-11-04T11:40:48.210Z"
   },
   {
    "duration": 389,
    "start_time": "2022-11-04T11:40:48.859Z"
   },
   {
    "duration": 217,
    "start_time": "2022-11-04T11:40:49.653Z"
   },
   {
    "duration": 217,
    "start_time": "2022-11-04T11:40:50.291Z"
   },
   {
    "duration": 218,
    "start_time": "2022-11-04T11:40:51.111Z"
   },
   {
    "duration": 220,
    "start_time": "2022-11-04T11:40:51.951Z"
   },
   {
    "duration": 4,
    "start_time": "2022-11-04T11:42:15.612Z"
   },
   {
    "duration": 3,
    "start_time": "2022-11-04T11:42:16.239Z"
   },
   {
    "duration": 87,
    "start_time": "2022-11-04T11:42:17.850Z"
   },
   {
    "duration": 5,
    "start_time": "2022-11-04T11:42:19.109Z"
   },
   {
    "duration": 240,
    "start_time": "2022-11-04T11:42:19.661Z"
   },
   {
    "duration": 230,
    "start_time": "2022-11-04T11:42:20.239Z"
   },
   {
    "duration": 4,
    "start_time": "2022-11-04T11:42:20.835Z"
   },
   {
    "duration": 98,
    "start_time": "2022-11-04T11:42:22.060Z"
   },
   {
    "duration": 3,
    "start_time": "2022-11-04T11:42:22.771Z"
   },
   {
    "duration": 209,
    "start_time": "2022-11-04T11:42:23.431Z"
   },
   {
    "duration": 203,
    "start_time": "2022-11-04T11:42:23.907Z"
   },
   {
    "duration": 391,
    "start_time": "2022-11-04T11:42:24.296Z"
   },
   {
    "duration": 205,
    "start_time": "2022-11-04T11:42:24.768Z"
   },
   {
    "duration": 235,
    "start_time": "2022-11-04T11:42:25.192Z"
   },
   {
    "duration": 283,
    "start_time": "2022-11-04T11:42:25.933Z"
   },
   {
    "duration": 235,
    "start_time": "2022-11-04T11:42:26.218Z"
   },
   {
    "duration": 219,
    "start_time": "2022-11-04T11:42:26.454Z"
   },
   {
    "duration": 217,
    "start_time": "2022-11-04T11:42:26.675Z"
   },
   {
    "duration": 219,
    "start_time": "2022-11-04T11:42:28.619Z"
   },
   {
    "duration": 210,
    "start_time": "2022-11-04T11:42:28.937Z"
   },
   {
    "duration": 210,
    "start_time": "2022-11-04T11:42:29.647Z"
   },
   {
    "duration": 211,
    "start_time": "2022-11-04T11:42:30.543Z"
   },
   {
    "duration": 475,
    "start_time": "2022-11-04T11:42:31.451Z"
   },
   {
    "duration": 3,
    "start_time": "2022-11-04T11:42:33.582Z"
   },
   {
    "duration": 149,
    "start_time": "2022-11-04T11:42:34.558Z"
   },
   {
    "duration": 5,
    "start_time": "2022-11-04T11:42:35.752Z"
   },
   {
    "duration": 113,
    "start_time": "2022-11-04T11:42:36.636Z"
   },
   {
    "duration": 4,
    "start_time": "2022-11-04T11:42:39.275Z"
   },
   {
    "duration": 272,
    "start_time": "2022-11-04T11:42:40.055Z"
   },
   {
    "duration": 167,
    "start_time": "2022-11-04T11:42:41.510Z"
   },
   {
    "duration": 3,
    "start_time": "2022-11-04T11:42:43.907Z"
   },
   {
    "duration": 7,
    "start_time": "2022-11-04T11:42:44.637Z"
   },
   {
    "duration": 8,
    "start_time": "2022-11-04T11:42:46.559Z"
   },
   {
    "duration": 5,
    "start_time": "2022-11-04T11:42:47.206Z"
   },
   {
    "duration": 111,
    "start_time": "2022-11-04T11:42:49.177Z"
   },
   {
    "duration": 91,
    "start_time": "2022-11-04T11:42:51.223Z"
   },
   {
    "duration": 20,
    "start_time": "2022-11-04T11:42:55.982Z"
   },
   {
    "duration": 6600,
    "start_time": "2022-11-04T11:42:58.225Z"
   },
   {
    "duration": 16,
    "start_time": "2022-11-04T11:43:04.826Z"
   },
   {
    "duration": 5,
    "start_time": "2022-11-04T11:43:04.844Z"
   },
   {
    "duration": 11,
    "start_time": "2022-11-04T11:43:05.224Z"
   },
   {
    "duration": 7,
    "start_time": "2022-11-04T11:43:06.972Z"
   },
   {
    "duration": 326,
    "start_time": "2022-11-04T11:43:11.123Z"
   },
   {
    "duration": 24,
    "start_time": "2022-11-04T11:43:12.408Z"
   },
   {
    "duration": 9,
    "start_time": "2022-11-04T11:43:13.134Z"
   },
   {
    "duration": 7,
    "start_time": "2022-11-04T11:43:17.112Z"
   },
   {
    "duration": 20,
    "start_time": "2022-11-04T11:43:17.927Z"
   },
   {
    "duration": 12,
    "start_time": "2022-11-04T11:43:19.835Z"
   },
   {
    "duration": 38,
    "start_time": "2022-11-04T11:43:21.695Z"
   },
   {
    "duration": 122,
    "start_time": "2022-11-04T11:43:22.939Z"
   },
   {
    "duration": 121,
    "start_time": "2022-11-04T11:43:23.307Z"
   },
   {
    "duration": 117,
    "start_time": "2022-11-04T11:43:24.247Z"
   },
   {
    "duration": 98,
    "start_time": "2022-11-04T11:43:25.034Z"
   },
   {
    "duration": 100,
    "start_time": "2022-11-04T11:43:25.845Z"
   },
   {
    "duration": 121,
    "start_time": "2022-11-04T11:43:34.428Z"
   },
   {
    "duration": 80,
    "start_time": "2022-11-04T11:43:45.748Z"
   },
   {
    "duration": 3837,
    "start_time": "2022-11-04T11:43:54.223Z"
   },
   {
    "duration": 68,
    "start_time": "2022-11-04T11:45:48.903Z"
   },
   {
    "duration": 4,
    "start_time": "2022-11-04T11:50:56.412Z"
   },
   {
    "duration": 10,
    "start_time": "2022-11-04T11:50:57.505Z"
   },
   {
    "duration": 6,
    "start_time": "2022-11-04T11:50:59.805Z"
   },
   {
    "duration": 122,
    "start_time": "2022-11-04T11:51:05.313Z"
   },
   {
    "duration": 10,
    "start_time": "2022-11-04T11:54:50.673Z"
   },
   {
    "duration": 6,
    "start_time": "2022-11-04T11:56:25.976Z"
   },
   {
    "duration": 165,
    "start_time": "2022-11-04T11:56:36.069Z"
   },
   {
    "duration": 134,
    "start_time": "2022-11-04T11:56:58.596Z"
   },
   {
    "duration": 178,
    "start_time": "2022-11-04T11:57:43.954Z"
   },
   {
    "duration": 11,
    "start_time": "2022-11-04T12:02:41.421Z"
   },
   {
    "duration": 1344,
    "start_time": "2022-11-04T12:09:28.242Z"
   },
   {
    "duration": 3,
    "start_time": "2022-11-04T12:09:29.587Z"
   },
   {
    "duration": 92,
    "start_time": "2022-11-04T12:09:30.777Z"
   },
   {
    "duration": 4,
    "start_time": "2022-11-04T12:09:32.043Z"
   },
   {
    "duration": 252,
    "start_time": "2022-11-04T12:09:32.259Z"
   },
   {
    "duration": 302,
    "start_time": "2022-11-04T12:09:32.512Z"
   },
   {
    "duration": 8,
    "start_time": "2022-11-04T12:09:32.815Z"
   },
   {
    "duration": 104,
    "start_time": "2022-11-04T12:09:33.473Z"
   },
   {
    "duration": 3,
    "start_time": "2022-11-04T12:09:33.640Z"
   },
   {
    "duration": 206,
    "start_time": "2022-11-04T12:09:33.797Z"
   },
   {
    "duration": 220,
    "start_time": "2022-11-04T12:09:34.005Z"
   },
   {
    "duration": 221,
    "start_time": "2022-11-04T12:09:34.226Z"
   },
   {
    "duration": 223,
    "start_time": "2022-11-04T12:09:34.449Z"
   },
   {
    "duration": 218,
    "start_time": "2022-11-04T12:09:34.673Z"
   },
   {
    "duration": 342,
    "start_time": "2022-11-04T12:09:34.893Z"
   },
   {
    "duration": 213,
    "start_time": "2022-11-04T12:09:35.237Z"
   },
   {
    "duration": 217,
    "start_time": "2022-11-04T12:09:35.452Z"
   },
   {
    "duration": 238,
    "start_time": "2022-11-04T12:09:35.670Z"
   },
   {
    "duration": 271,
    "start_time": "2022-11-04T12:09:35.909Z"
   },
   {
    "duration": 334,
    "start_time": "2022-11-04T12:09:36.182Z"
   },
   {
    "duration": 207,
    "start_time": "2022-11-04T12:09:36.518Z"
   },
   {
    "duration": 220,
    "start_time": "2022-11-04T12:09:36.727Z"
   },
   {
    "duration": 218,
    "start_time": "2022-11-04T12:09:36.949Z"
   },
   {
    "duration": 5,
    "start_time": "2022-11-04T12:09:40.633Z"
   },
   {
    "duration": 77,
    "start_time": "2022-11-04T12:09:41.556Z"
   },
   {
    "duration": 4,
    "start_time": "2022-11-04T12:09:41.757Z"
   },
   {
    "duration": 60,
    "start_time": "2022-11-04T12:09:42.155Z"
   },
   {
    "duration": 3,
    "start_time": "2022-11-04T12:09:42.509Z"
   },
   {
    "duration": 240,
    "start_time": "2022-11-04T12:09:43.131Z"
   },
   {
    "duration": 73,
    "start_time": "2022-11-04T12:09:43.528Z"
   },
   {
    "duration": 4,
    "start_time": "2022-11-04T12:09:43.878Z"
   },
   {
    "duration": 7,
    "start_time": "2022-11-04T12:09:44.462Z"
   },
   {
    "duration": 7,
    "start_time": "2022-11-04T12:09:44.894Z"
   },
   {
    "duration": 3,
    "start_time": "2022-11-04T12:09:45.091Z"
   },
   {
    "duration": 91,
    "start_time": "2022-11-04T12:09:46.157Z"
   },
   {
    "duration": 81,
    "start_time": "2022-11-04T12:09:47.333Z"
   },
   {
    "duration": 16,
    "start_time": "2022-11-04T12:09:51.796Z"
   },
   {
    "duration": 6559,
    "start_time": "2022-11-04T12:09:54.466Z"
   },
   {
    "duration": 18,
    "start_time": "2022-11-04T12:10:01.027Z"
   },
   {
    "duration": 6,
    "start_time": "2022-11-04T12:10:01.047Z"
   },
   {
    "duration": 60,
    "start_time": "2022-11-04T12:10:01.055Z"
   },
   {
    "duration": 31,
    "start_time": "2022-11-04T12:10:01.117Z"
   },
   {
    "duration": 338,
    "start_time": "2022-11-04T12:10:01.257Z"
   },
   {
    "duration": 17,
    "start_time": "2022-11-04T12:10:02.248Z"
   },
   {
    "duration": 9,
    "start_time": "2022-11-04T12:10:03.268Z"
   },
   {
    "duration": 6,
    "start_time": "2022-11-04T12:10:04.843Z"
   },
   {
    "duration": 16,
    "start_time": "2022-11-04T12:10:05.690Z"
   },
   {
    "duration": 11,
    "start_time": "2022-11-04T12:10:07.921Z"
   },
   {
    "duration": 25,
    "start_time": "2022-11-04T12:10:09.372Z"
   },
   {
    "duration": 115,
    "start_time": "2022-11-04T12:10:09.623Z"
   },
   {
    "duration": 109,
    "start_time": "2022-11-04T12:10:10.893Z"
   },
   {
    "duration": 101,
    "start_time": "2022-11-04T12:10:11.156Z"
   },
   {
    "duration": 95,
    "start_time": "2022-11-04T12:10:11.385Z"
   },
   {
    "duration": 101,
    "start_time": "2022-11-04T12:10:12.287Z"
   },
   {
    "duration": 4028,
    "start_time": "2022-11-04T12:10:15.080Z"
   },
   {
    "duration": 5,
    "start_time": "2022-11-04T12:10:23.425Z"
   },
   {
    "duration": 10,
    "start_time": "2022-11-04T12:10:24.123Z"
   },
   {
    "duration": 6,
    "start_time": "2022-11-04T12:10:33.796Z"
   },
   {
    "duration": 100,
    "start_time": "2022-11-04T12:10:36.939Z"
   },
   {
    "duration": 290,
    "start_time": "2022-11-04T12:10:38.234Z"
   },
   {
    "duration": 2792,
    "start_time": "2022-11-04T12:10:43.200Z"
   },
   {
    "duration": 34644,
    "start_time": "2022-11-04T12:11:08.028Z"
   },
   {
    "duration": 19,
    "start_time": "2022-11-04T12:12:21.250Z"
   },
   {
    "duration": 55,
    "start_time": "2022-11-04T12:12:58.168Z"
   },
   {
    "duration": 348,
    "start_time": "2022-11-04T12:13:04.921Z"
   },
   {
    "duration": 1405,
    "start_time": "2022-11-04T12:24:18.184Z"
   },
   {
    "duration": 3,
    "start_time": "2022-11-04T12:24:19.591Z"
   },
   {
    "duration": 105,
    "start_time": "2022-11-04T12:24:19.596Z"
   },
   {
    "duration": 4,
    "start_time": "2022-11-04T12:24:19.703Z"
   },
   {
    "duration": 300,
    "start_time": "2022-11-04T12:24:19.708Z"
   },
   {
    "duration": 321,
    "start_time": "2022-11-04T12:24:20.010Z"
   },
   {
    "duration": 5,
    "start_time": "2022-11-04T12:24:20.332Z"
   },
   {
    "duration": 94,
    "start_time": "2022-11-04T12:24:20.338Z"
   },
   {
    "duration": 3,
    "start_time": "2022-11-04T12:24:20.433Z"
   },
   {
    "duration": 254,
    "start_time": "2022-11-04T12:24:20.438Z"
   },
   {
    "duration": 236,
    "start_time": "2022-11-04T12:24:20.694Z"
   },
   {
    "duration": 232,
    "start_time": "2022-11-04T12:24:20.932Z"
   },
   {
    "duration": 211,
    "start_time": "2022-11-04T12:24:21.166Z"
   },
   {
    "duration": 308,
    "start_time": "2022-11-04T12:24:21.379Z"
   },
   {
    "duration": 239,
    "start_time": "2022-11-04T12:24:21.689Z"
   },
   {
    "duration": 214,
    "start_time": "2022-11-04T12:24:21.930Z"
   },
   {
    "duration": 213,
    "start_time": "2022-11-04T12:24:22.146Z"
   },
   {
    "duration": 219,
    "start_time": "2022-11-04T12:24:22.361Z"
   },
   {
    "duration": 215,
    "start_time": "2022-11-04T12:24:22.581Z"
   },
   {
    "duration": 354,
    "start_time": "2022-11-04T12:24:22.797Z"
   },
   {
    "duration": 219,
    "start_time": "2022-11-04T12:24:23.152Z"
   },
   {
    "duration": 221,
    "start_time": "2022-11-04T12:24:23.373Z"
   },
   {
    "duration": 222,
    "start_time": "2022-11-04T12:24:23.596Z"
   },
   {
    "duration": 4,
    "start_time": "2022-11-04T12:24:23.821Z"
   },
   {
    "duration": 84,
    "start_time": "2022-11-04T12:24:23.826Z"
   },
   {
    "duration": 4,
    "start_time": "2022-11-04T12:24:23.911Z"
   },
   {
    "duration": 68,
    "start_time": "2022-11-04T12:24:23.916Z"
   },
   {
    "duration": 2,
    "start_time": "2022-11-04T12:24:23.988Z"
   },
   {
    "duration": 244,
    "start_time": "2022-11-04T12:24:23.992Z"
   },
   {
    "duration": 48,
    "start_time": "2022-11-04T12:24:24.237Z"
   },
   {
    "duration": 3,
    "start_time": "2022-11-04T12:24:24.287Z"
   },
   {
    "duration": 12,
    "start_time": "2022-11-04T12:24:24.291Z"
   },
   {
    "duration": 10,
    "start_time": "2022-11-04T12:24:24.305Z"
   },
   {
    "duration": 6,
    "start_time": "2022-11-04T12:24:24.321Z"
   },
   {
    "duration": 60,
    "start_time": "2022-11-04T12:24:24.328Z"
   },
   {
    "duration": 41,
    "start_time": "2022-11-04T12:24:24.390Z"
   },
   {
    "duration": 16,
    "start_time": "2022-11-04T12:24:24.432Z"
   },
   {
    "duration": 6467,
    "start_time": "2022-11-04T12:24:24.449Z"
   },
   {
    "duration": 17,
    "start_time": "2022-11-04T12:24:30.918Z"
   },
   {
    "duration": 25,
    "start_time": "2022-11-04T12:24:30.936Z"
   },
   {
    "duration": 52,
    "start_time": "2022-11-04T12:24:30.963Z"
   },
   {
    "duration": 33,
    "start_time": "2022-11-04T12:24:31.017Z"
   },
   {
    "duration": 373,
    "start_time": "2022-11-04T12:24:31.051Z"
   },
   {
    "duration": 17,
    "start_time": "2022-11-04T12:24:31.425Z"
   },
   {
    "duration": 8,
    "start_time": "2022-11-04T12:24:31.444Z"
   },
   {
    "duration": 14,
    "start_time": "2022-11-04T12:24:31.453Z"
   },
   {
    "duration": 34,
    "start_time": "2022-11-04T12:24:31.469Z"
   },
   {
    "duration": 10,
    "start_time": "2022-11-04T12:24:31.504Z"
   },
   {
    "duration": 29,
    "start_time": "2022-11-04T12:24:31.516Z"
   },
   {
    "duration": 110,
    "start_time": "2022-11-04T12:24:31.547Z"
   },
   {
    "duration": 113,
    "start_time": "2022-11-04T12:24:31.659Z"
   },
   {
    "duration": 230,
    "start_time": "2022-11-04T12:24:31.774Z"
   },
   {
    "duration": 107,
    "start_time": "2022-11-04T12:24:32.005Z"
   },
   {
    "duration": 122,
    "start_time": "2022-11-04T12:24:32.113Z"
   },
   {
    "duration": 3719,
    "start_time": "2022-11-04T12:24:32.237Z"
   },
   {
    "duration": 4,
    "start_time": "2022-11-04T12:24:35.958Z"
   },
   {
    "duration": 21,
    "start_time": "2022-11-04T12:24:35.964Z"
   },
   {
    "duration": 14,
    "start_time": "2022-11-04T12:24:35.986Z"
   },
   {
    "duration": 132,
    "start_time": "2022-11-04T12:24:36.002Z"
   },
   {
    "duration": 388,
    "start_time": "2022-11-04T12:24:36.135Z"
   },
   {
    "duration": 366674,
    "start_time": "2022-11-04T12:24:36.525Z"
   },
   {
    "duration": 6965,
    "start_time": "2022-11-04T12:30:43.200Z"
   },
   {
    "duration": 43473,
    "start_time": "2022-11-04T12:30:50.166Z"
   },
   {
    "duration": 2594,
    "start_time": "2022-11-04T12:31:33.641Z"
   },
   {
    "duration": 515594,
    "start_time": "2022-11-04T12:31:36.237Z"
   },
   {
    "duration": 13312,
    "start_time": "2022-11-04T12:40:11.833Z"
   },
   {
    "duration": 7,
    "start_time": "2022-11-04T12:40:25.146Z"
   },
   {
    "duration": 2888,
    "start_time": "2022-11-04T12:40:25.155Z"
   },
   {
    "duration": 329,
    "start_time": "2022-11-04T12:40:28.044Z"
   },
   {
    "duration": 3199,
    "start_time": "2022-11-04T20:51:22.083Z"
   },
   {
    "duration": 3,
    "start_time": "2022-11-04T20:51:25.285Z"
   },
   {
    "duration": 688,
    "start_time": "2022-11-04T20:51:26.326Z"
   },
   {
    "duration": 7,
    "start_time": "2022-11-04T20:51:27.569Z"
   },
   {
    "duration": 449,
    "start_time": "2022-11-04T20:51:27.794Z"
   },
   {
    "duration": 382,
    "start_time": "2022-11-04T20:51:28.465Z"
   },
   {
    "duration": 6,
    "start_time": "2022-11-04T20:51:28.949Z"
   },
   {
    "duration": 250,
    "start_time": "2022-11-04T20:51:29.484Z"
   },
   {
    "duration": 4,
    "start_time": "2022-11-04T20:51:29.737Z"
   },
   {
    "duration": 359,
    "start_time": "2022-11-04T20:51:30.081Z"
   },
   {
    "duration": 418,
    "start_time": "2022-11-04T20:51:30.443Z"
   },
   {
    "duration": 416,
    "start_time": "2022-11-04T20:51:30.864Z"
   },
   {
    "duration": 426,
    "start_time": "2022-11-04T20:51:31.283Z"
   },
   {
    "duration": 513,
    "start_time": "2022-11-04T20:51:31.712Z"
   },
   {
    "duration": 321,
    "start_time": "2022-11-04T20:51:32.227Z"
   },
   {
    "duration": 346,
    "start_time": "2022-11-04T20:51:32.551Z"
   },
   {
    "duration": 336,
    "start_time": "2022-11-04T20:51:32.899Z"
   },
   {
    "duration": 381,
    "start_time": "2022-11-04T20:51:33.238Z"
   },
   {
    "duration": 504,
    "start_time": "2022-11-04T20:51:33.622Z"
   },
   {
    "duration": 612,
    "start_time": "2022-11-04T20:51:34.130Z"
   },
   {
    "duration": 334,
    "start_time": "2022-11-04T20:51:34.744Z"
   },
   {
    "duration": 305,
    "start_time": "2022-11-04T20:51:35.080Z"
   },
   {
    "duration": 430,
    "start_time": "2022-11-04T20:51:35.389Z"
   },
   {
    "duration": 6,
    "start_time": "2022-11-04T20:51:35.934Z"
   },
   {
    "duration": 217,
    "start_time": "2022-11-04T20:51:37.158Z"
   },
   {
    "duration": 12,
    "start_time": "2022-11-04T20:51:37.739Z"
   },
   {
    "duration": 143,
    "start_time": "2022-11-04T20:51:39.425Z"
   },
   {
    "duration": 4,
    "start_time": "2022-11-04T20:51:40.974Z"
   },
   {
    "duration": 392,
    "start_time": "2022-11-04T20:51:41.240Z"
   },
   {
    "duration": 223,
    "start_time": "2022-11-04T20:51:41.738Z"
   },
   {
    "duration": 4,
    "start_time": "2022-11-04T20:51:42.663Z"
   },
   {
    "duration": 13,
    "start_time": "2022-11-04T20:51:43.526Z"
   },
   {
    "duration": 490,
    "start_time": "2022-11-04T20:51:43.542Z"
   },
   {
    "duration": 5,
    "start_time": "2022-11-04T20:51:44.034Z"
   },
   {
    "duration": 123,
    "start_time": "2022-11-04T20:51:45.009Z"
   },
   {
    "duration": 105,
    "start_time": "2022-11-04T20:51:46.582Z"
   },
   {
    "duration": 32,
    "start_time": "2022-11-04T20:51:49.435Z"
   },
   {
    "duration": 8242,
    "start_time": "2022-11-04T20:51:50.509Z"
   },
   {
    "duration": 30,
    "start_time": "2022-11-04T20:51:58.753Z"
   },
   {
    "duration": 9,
    "start_time": "2022-11-04T20:51:58.785Z"
   },
   {
    "duration": 42,
    "start_time": "2022-11-04T20:51:58.797Z"
   },
   {
    "duration": 13,
    "start_time": "2022-11-04T20:51:58.841Z"
   },
   {
    "duration": 459,
    "start_time": "2022-11-04T20:51:58.857Z"
   },
   {
    "duration": 29,
    "start_time": "2022-11-04T20:51:59.318Z"
   },
   {
    "duration": 17,
    "start_time": "2022-11-04T20:51:59.349Z"
   },
   {
    "duration": 12,
    "start_time": "2022-11-04T20:51:59.369Z"
   },
   {
    "duration": 50,
    "start_time": "2022-11-04T20:51:59.389Z"
   },
   {
    "duration": 23,
    "start_time": "2022-11-04T20:51:59.441Z"
   },
   {
    "duration": 40,
    "start_time": "2022-11-04T20:51:59.467Z"
   },
   {
    "duration": 188,
    "start_time": "2022-11-04T20:51:59.510Z"
   },
   {
    "duration": 164,
    "start_time": "2022-11-04T20:51:59.701Z"
   },
   {
    "duration": 321,
    "start_time": "2022-11-04T20:51:59.869Z"
   },
   {
    "duration": 130,
    "start_time": "2022-11-04T20:52:00.468Z"
   },
   {
    "duration": 132,
    "start_time": "2022-11-04T20:52:00.688Z"
   },
   {
    "duration": 4955,
    "start_time": "2022-11-04T20:52:01.379Z"
   },
   {
    "duration": 6,
    "start_time": "2022-11-04T20:52:06.337Z"
   },
   {
    "duration": 15,
    "start_time": "2022-11-04T20:52:06.346Z"
   },
   {
    "duration": 33,
    "start_time": "2022-11-04T20:52:21.050Z"
   },
   {
    "duration": 108,
    "start_time": "2022-11-04T20:58:07.248Z"
   },
   {
    "duration": 7,
    "start_time": "2022-11-04T20:58:07.862Z"
   },
   {
    "duration": 365,
    "start_time": "2022-11-04T20:58:08.037Z"
   },
   {
    "duration": 314,
    "start_time": "2022-11-04T20:58:08.405Z"
   },
   {
    "duration": 12,
    "start_time": "2022-11-04T20:58:08.722Z"
   },
   {
    "duration": 127,
    "start_time": "2022-11-04T20:58:08.736Z"
   },
   {
    "duration": 4,
    "start_time": "2022-11-04T20:58:08.865Z"
   },
   {
    "duration": 459,
    "start_time": "2022-11-04T20:58:08.995Z"
   },
   {
    "duration": 266,
    "start_time": "2022-11-04T20:58:09.504Z"
   },
   {
    "duration": 308,
    "start_time": "2022-11-04T20:58:09.773Z"
   },
   {
    "duration": 316,
    "start_time": "2022-11-04T20:58:10.083Z"
   },
   {
    "duration": 317,
    "start_time": "2022-11-04T20:58:10.401Z"
   },
   {
    "duration": 303,
    "start_time": "2022-11-04T20:58:10.721Z"
   },
   {
    "duration": 361,
    "start_time": "2022-11-04T20:58:11.025Z"
   },
   {
    "duration": 339,
    "start_time": "2022-11-04T20:58:11.404Z"
   },
   {
    "duration": 330,
    "start_time": "2022-11-04T20:58:11.746Z"
   },
   {
    "duration": 513,
    "start_time": "2022-11-04T20:58:12.078Z"
   },
   {
    "duration": 333,
    "start_time": "2022-11-04T20:58:12.593Z"
   },
   {
    "duration": 303,
    "start_time": "2022-11-04T20:58:12.931Z"
   },
   {
    "duration": 370,
    "start_time": "2022-11-04T20:58:13.236Z"
   },
   {
    "duration": 302,
    "start_time": "2022-11-04T20:58:13.608Z"
   },
   {
    "duration": 6,
    "start_time": "2022-11-04T20:58:13.912Z"
   },
   {
    "duration": 97,
    "start_time": "2022-11-04T20:58:13.931Z"
   },
   {
    "duration": 5,
    "start_time": "2022-11-04T20:58:14.030Z"
   },
   {
    "duration": 81,
    "start_time": "2022-11-04T20:58:14.037Z"
   },
   {
    "duration": 4,
    "start_time": "2022-11-04T20:58:14.212Z"
   },
   {
    "duration": 326,
    "start_time": "2022-11-04T20:58:14.412Z"
   },
   {
    "duration": 65,
    "start_time": "2022-11-04T20:58:14.741Z"
   },
   {
    "duration": 5,
    "start_time": "2022-11-04T20:58:15.012Z"
   },
   {
    "duration": 14,
    "start_time": "2022-11-04T20:58:15.162Z"
   },
   {
    "duration": 10,
    "start_time": "2022-11-04T20:58:15.485Z"
   },
   {
    "duration": 5,
    "start_time": "2022-11-04T20:58:15.645Z"
   },
   {
    "duration": 128,
    "start_time": "2022-11-04T20:58:16.188Z"
   },
   {
    "duration": 50,
    "start_time": "2022-11-04T20:58:16.539Z"
   },
   {
    "duration": 22,
    "start_time": "2022-11-04T20:58:19.428Z"
   },
   {
    "duration": 7597,
    "start_time": "2022-11-04T20:58:20.058Z"
   },
   {
    "duration": 22,
    "start_time": "2022-11-04T20:58:27.658Z"
   },
   {
    "duration": 57,
    "start_time": "2022-11-04T20:58:27.682Z"
   },
   {
    "duration": 33,
    "start_time": "2022-11-04T20:58:27.742Z"
   },
   {
    "duration": 33,
    "start_time": "2022-11-04T20:58:27.777Z"
   },
   {
    "duration": 495,
    "start_time": "2022-11-04T20:58:27.813Z"
   },
   {
    "duration": 31,
    "start_time": "2022-11-04T20:58:28.310Z"
   },
   {
    "duration": 30,
    "start_time": "2022-11-04T20:58:28.344Z"
   },
   {
    "duration": 30,
    "start_time": "2022-11-04T20:58:28.376Z"
   },
   {
    "duration": 46,
    "start_time": "2022-11-04T20:58:28.409Z"
   },
   {
    "duration": 20,
    "start_time": "2022-11-04T20:58:32.225Z"
   },
   {
    "duration": 15,
    "start_time": "2022-11-04T20:58:43.599Z"
   },
   {
    "duration": 25,
    "start_time": "2022-11-04T20:58:47.660Z"
   },
   {
    "duration": 135,
    "start_time": "2022-11-04T20:58:48.268Z"
   },
   {
    "duration": 142,
    "start_time": "2022-11-04T20:58:49.072Z"
   },
   {
    "duration": 142,
    "start_time": "2022-11-04T20:58:49.293Z"
   },
   {
    "duration": 150,
    "start_time": "2022-11-04T20:58:49.524Z"
   },
   {
    "duration": 127,
    "start_time": "2022-11-04T20:58:49.891Z"
   },
   {
    "duration": 143,
    "start_time": "2022-11-04T20:59:45.415Z"
   },
   {
    "duration": 6,
    "start_time": "2022-11-04T20:59:52.439Z"
   },
   {
    "duration": 30,
    "start_time": "2022-11-04T20:59:54.169Z"
   },
   {
    "duration": 1752,
    "start_time": "2022-11-04T21:57:46.168Z"
   },
   {
    "duration": 3,
    "start_time": "2022-11-04T21:57:47.922Z"
   },
   {
    "duration": 130,
    "start_time": "2022-11-04T21:57:50.513Z"
   },
   {
    "duration": 5,
    "start_time": "2022-11-04T21:57:51.301Z"
   },
   {
    "duration": 263,
    "start_time": "2022-11-04T21:57:51.581Z"
   },
   {
    "duration": 330,
    "start_time": "2022-11-04T21:57:51.845Z"
   },
   {
    "duration": 4,
    "start_time": "2022-11-04T21:57:53.101Z"
   },
   {
    "duration": 142,
    "start_time": "2022-11-04T21:57:53.834Z"
   },
   {
    "duration": 3,
    "start_time": "2022-11-04T21:57:54.042Z"
   },
   {
    "duration": 254,
    "start_time": "2022-11-04T21:57:54.859Z"
   },
   {
    "duration": 309,
    "start_time": "2022-11-04T21:57:55.114Z"
   },
   {
    "duration": 237,
    "start_time": "2022-11-04T21:57:55.425Z"
   },
   {
    "duration": 250,
    "start_time": "2022-11-04T21:57:55.664Z"
   },
   {
    "duration": 342,
    "start_time": "2022-11-04T21:57:55.916Z"
   },
   {
    "duration": 247,
    "start_time": "2022-11-04T21:57:56.422Z"
   },
   {
    "duration": 233,
    "start_time": "2022-11-04T21:57:57.277Z"
   },
   {
    "duration": 238,
    "start_time": "2022-11-04T21:57:58.037Z"
   },
   {
    "duration": 251,
    "start_time": "2022-11-04T21:57:58.628Z"
   },
   {
    "duration": 232,
    "start_time": "2022-11-04T21:57:59.485Z"
   },
   {
    "duration": 345,
    "start_time": "2022-11-04T21:58:00.093Z"
   },
   {
    "duration": 231,
    "start_time": "2022-11-04T21:58:00.795Z"
   },
   {
    "duration": 230,
    "start_time": "2022-11-04T21:58:02.001Z"
   },
   {
    "duration": 237,
    "start_time": "2022-11-04T21:58:02.946Z"
   },
   {
    "duration": 4,
    "start_time": "2022-11-04T21:58:05.505Z"
   },
   {
    "duration": 126,
    "start_time": "2022-11-04T21:58:06.748Z"
   },
   {
    "duration": 5,
    "start_time": "2022-11-04T21:58:08.859Z"
   },
   {
    "duration": 109,
    "start_time": "2022-11-04T21:58:10.380Z"
   },
   {
    "duration": 3,
    "start_time": "2022-11-04T21:58:12.620Z"
   },
   {
    "duration": 288,
    "start_time": "2022-11-04T21:58:13.398Z"
   },
   {
    "duration": 126,
    "start_time": "2022-11-04T21:58:14.764Z"
   },
   {
    "duration": 4,
    "start_time": "2022-11-04T21:58:16.358Z"
   },
   {
    "duration": 8,
    "start_time": "2022-11-04T21:58:17.523Z"
   },
   {
    "duration": 8,
    "start_time": "2022-11-04T21:58:19.566Z"
   },
   {
    "duration": 4,
    "start_time": "2022-11-04T21:58:19.800Z"
   },
   {
    "duration": 137,
    "start_time": "2022-11-04T21:58:21.402Z"
   },
   {
    "duration": 131,
    "start_time": "2022-11-04T21:58:23.439Z"
   },
   {
    "duration": 18,
    "start_time": "2022-11-04T21:58:27.407Z"
   },
   {
    "duration": 6703,
    "start_time": "2022-11-04T21:58:29.140Z"
   },
   {
    "duration": 18,
    "start_time": "2022-11-04T21:58:35.845Z"
   },
   {
    "duration": 15,
    "start_time": "2022-11-04T21:58:35.865Z"
   },
   {
    "duration": 11,
    "start_time": "2022-11-04T21:58:35.882Z"
   },
   {
    "duration": 12,
    "start_time": "2022-11-04T21:58:35.894Z"
   },
   {
    "duration": 392,
    "start_time": "2022-11-04T21:58:36.784Z"
   },
   {
    "duration": 22,
    "start_time": "2022-11-04T21:58:40.091Z"
   },
   {
    "duration": 10,
    "start_time": "2022-11-04T21:58:40.684Z"
   },
   {
    "duration": 24,
    "start_time": "2022-11-04T22:01:43.520Z"
   },
   {
    "duration": 19,
    "start_time": "2022-11-04T22:01:55.939Z"
   },
   {
    "duration": 7,
    "start_time": "2022-11-04T22:02:38.475Z"
   },
   {
    "duration": 17,
    "start_time": "2022-11-04T22:02:48.999Z"
   },
   {
    "duration": 11,
    "start_time": "2022-11-04T22:03:12.406Z"
   },
   {
    "duration": 3,
    "start_time": "2022-11-04T22:06:32.493Z"
   },
   {
    "duration": 109,
    "start_time": "2022-11-04T22:06:33.983Z"
   },
   {
    "duration": 1391,
    "start_time": "2022-11-04T22:06:43.409Z"
   },
   {
    "duration": 3,
    "start_time": "2022-11-04T22:06:44.801Z"
   },
   {
    "duration": 119,
    "start_time": "2022-11-04T22:06:44.805Z"
   },
   {
    "duration": 4,
    "start_time": "2022-11-04T22:06:44.926Z"
   },
   {
    "duration": 301,
    "start_time": "2022-11-04T22:06:44.931Z"
   },
   {
    "duration": 374,
    "start_time": "2022-11-04T22:06:45.234Z"
   },
   {
    "duration": 4,
    "start_time": "2022-11-04T22:06:45.610Z"
   },
   {
    "duration": 97,
    "start_time": "2022-11-04T22:06:45.615Z"
   },
   {
    "duration": 2,
    "start_time": "2022-11-04T22:06:45.714Z"
   },
   {
    "duration": 248,
    "start_time": "2022-11-04T22:06:45.718Z"
   },
   {
    "duration": 240,
    "start_time": "2022-11-04T22:06:45.968Z"
   },
   {
    "duration": 221,
    "start_time": "2022-11-04T22:06:46.210Z"
   },
   {
    "duration": 233,
    "start_time": "2022-11-04T22:06:46.432Z"
   },
   {
    "duration": 361,
    "start_time": "2022-11-04T22:06:46.668Z"
   },
   {
    "duration": 247,
    "start_time": "2022-11-04T22:06:47.031Z"
   },
   {
    "duration": 221,
    "start_time": "2022-11-04T22:06:47.279Z"
   },
   {
    "duration": 232,
    "start_time": "2022-11-04T22:06:47.502Z"
   },
   {
    "duration": 234,
    "start_time": "2022-11-04T22:06:47.736Z"
   },
   {
    "duration": 230,
    "start_time": "2022-11-04T22:06:47.976Z"
   },
   {
    "duration": 346,
    "start_time": "2022-11-04T22:06:48.207Z"
   },
   {
    "duration": 244,
    "start_time": "2022-11-04T22:06:48.555Z"
   },
   {
    "duration": 231,
    "start_time": "2022-11-04T22:06:48.800Z"
   },
   {
    "duration": 241,
    "start_time": "2022-11-04T22:06:49.033Z"
   },
   {
    "duration": 4,
    "start_time": "2022-11-04T22:06:49.276Z"
   },
   {
    "duration": 85,
    "start_time": "2022-11-04T22:06:49.282Z"
   },
   {
    "duration": 4,
    "start_time": "2022-11-04T22:06:49.369Z"
   },
   {
    "duration": 64,
    "start_time": "2022-11-04T22:06:49.374Z"
   },
   {
    "duration": 3,
    "start_time": "2022-11-04T22:06:49.440Z"
   },
   {
    "duration": 262,
    "start_time": "2022-11-04T22:06:49.444Z"
   },
   {
    "duration": 53,
    "start_time": "2022-11-04T22:06:49.708Z"
   },
   {
    "duration": 4,
    "start_time": "2022-11-04T22:06:49.762Z"
   },
   {
    "duration": 12,
    "start_time": "2022-11-04T22:06:49.767Z"
   },
   {
    "duration": 8,
    "start_time": "2022-11-04T22:06:49.781Z"
   },
   {
    "duration": 3,
    "start_time": "2022-11-04T22:06:49.791Z"
   },
   {
    "duration": 62,
    "start_time": "2022-11-04T22:06:49.796Z"
   },
   {
    "duration": 46,
    "start_time": "2022-11-04T22:06:49.860Z"
   },
   {
    "duration": 17,
    "start_time": "2022-11-04T22:06:49.908Z"
   },
   {
    "duration": 6830,
    "start_time": "2022-11-04T22:06:49.927Z"
   },
   {
    "duration": 19,
    "start_time": "2022-11-04T22:06:56.759Z"
   },
   {
    "duration": 6,
    "start_time": "2022-11-04T22:06:56.780Z"
   },
   {
    "duration": 14,
    "start_time": "2022-11-04T22:06:56.790Z"
   },
   {
    "duration": 12,
    "start_time": "2022-11-04T22:06:56.805Z"
   },
   {
    "duration": 412,
    "start_time": "2022-11-04T22:06:56.819Z"
   },
   {
    "duration": 19,
    "start_time": "2022-11-04T22:06:57.232Z"
   },
   {
    "duration": 24,
    "start_time": "2022-11-04T22:06:57.253Z"
   },
   {
    "duration": 7,
    "start_time": "2022-11-04T22:06:57.278Z"
   },
   {
    "duration": 9,
    "start_time": "2022-11-04T22:06:57.286Z"
   },
   {
    "duration": 18,
    "start_time": "2022-11-04T22:06:57.296Z"
   },
   {
    "duration": 12,
    "start_time": "2022-11-04T22:06:57.316Z"
   },
   {
    "duration": 50,
    "start_time": "2022-11-04T22:06:57.329Z"
   },
   {
    "duration": 139,
    "start_time": "2022-11-04T22:06:57.381Z"
   },
   {
    "duration": 135,
    "start_time": "2022-11-04T22:06:57.521Z"
   },
   {
    "duration": 308,
    "start_time": "2022-11-04T22:06:57.677Z"
   },
   {
    "duration": 215,
    "start_time": "2022-11-04T22:06:57.986Z"
   },
   {
    "duration": 139,
    "start_time": "2022-11-04T22:06:58.202Z"
   },
   {
    "duration": 4077,
    "start_time": "2022-11-04T22:06:58.343Z"
   },
   {
    "duration": 5,
    "start_time": "2022-11-04T22:07:02.422Z"
   },
   {
    "duration": 14,
    "start_time": "2022-11-04T22:07:02.428Z"
   },
   {
    "duration": 23,
    "start_time": "2022-11-04T22:07:02.444Z"
   },
   {
    "duration": 6,
    "start_time": "2022-11-04T22:07:02.469Z"
   },
   {
    "duration": 208,
    "start_time": "2022-11-04T22:07:02.476Z"
   },
   {
    "duration": 391,
    "start_time": "2022-11-04T22:07:02.685Z"
   },
   {
    "duration": 1444,
    "start_time": "2022-11-04T22:08:34.984Z"
   },
   {
    "duration": 2,
    "start_time": "2022-11-04T22:08:36.430Z"
   },
   {
    "duration": 102,
    "start_time": "2022-11-04T22:08:36.434Z"
   },
   {
    "duration": 4,
    "start_time": "2022-11-04T22:08:36.538Z"
   },
   {
    "duration": 286,
    "start_time": "2022-11-04T22:08:36.543Z"
   },
   {
    "duration": 360,
    "start_time": "2022-11-04T22:08:36.830Z"
   },
   {
    "duration": 4,
    "start_time": "2022-11-04T22:08:37.192Z"
   },
   {
    "duration": 84,
    "start_time": "2022-11-04T22:08:37.198Z"
   },
   {
    "duration": 3,
    "start_time": "2022-11-04T22:08:37.284Z"
   },
   {
    "duration": 249,
    "start_time": "2022-11-04T22:08:37.289Z"
   },
   {
    "duration": 238,
    "start_time": "2022-11-04T22:08:37.540Z"
   },
   {
    "duration": 219,
    "start_time": "2022-11-04T22:08:37.780Z"
   },
   {
    "duration": 249,
    "start_time": "2022-11-04T22:08:38.001Z"
   },
   {
    "duration": 324,
    "start_time": "2022-11-04T22:08:38.252Z"
   },
   {
    "duration": 238,
    "start_time": "2022-11-04T22:08:38.578Z"
   },
   {
    "duration": 219,
    "start_time": "2022-11-04T22:08:38.818Z"
   },
   {
    "duration": 232,
    "start_time": "2022-11-04T22:08:39.040Z"
   },
   {
    "duration": 235,
    "start_time": "2022-11-04T22:08:39.277Z"
   },
   {
    "duration": 240,
    "start_time": "2022-11-04T22:08:39.515Z"
   },
   {
    "duration": 346,
    "start_time": "2022-11-04T22:08:39.757Z"
   },
   {
    "duration": 231,
    "start_time": "2022-11-04T22:08:40.106Z"
   },
   {
    "duration": 268,
    "start_time": "2022-11-04T22:08:40.339Z"
   },
   {
    "duration": 239,
    "start_time": "2022-11-04T22:08:40.609Z"
   },
   {
    "duration": 4,
    "start_time": "2022-11-04T22:08:40.850Z"
   },
   {
    "duration": 74,
    "start_time": "2022-11-04T22:08:40.855Z"
   },
   {
    "duration": 4,
    "start_time": "2022-11-04T22:08:40.930Z"
   },
   {
    "duration": 61,
    "start_time": "2022-11-04T22:08:40.935Z"
   },
   {
    "duration": 2,
    "start_time": "2022-11-04T22:08:41.000Z"
   },
   {
    "duration": 279,
    "start_time": "2022-11-04T22:08:41.004Z"
   },
   {
    "duration": 51,
    "start_time": "2022-11-04T22:08:41.285Z"
   },
   {
    "duration": 3,
    "start_time": "2022-11-04T22:08:41.338Z"
   },
   {
    "duration": 9,
    "start_time": "2022-11-04T22:08:41.343Z"
   },
   {
    "duration": 8,
    "start_time": "2022-11-04T22:08:41.353Z"
   },
   {
    "duration": 15,
    "start_time": "2022-11-04T22:08:41.362Z"
   },
   {
    "duration": 62,
    "start_time": "2022-11-04T22:08:41.379Z"
   },
   {
    "duration": 56,
    "start_time": "2022-11-04T22:08:41.443Z"
   },
   {
    "duration": 18,
    "start_time": "2022-11-04T22:08:41.501Z"
   },
   {
    "duration": 6789,
    "start_time": "2022-11-04T22:08:41.521Z"
   },
   {
    "duration": 17,
    "start_time": "2022-11-04T22:08:48.311Z"
   },
   {
    "duration": 5,
    "start_time": "2022-11-04T22:08:48.329Z"
   },
   {
    "duration": 12,
    "start_time": "2022-11-04T22:08:48.335Z"
   },
   {
    "duration": 27,
    "start_time": "2022-11-04T22:08:48.349Z"
   },
   {
    "duration": 359,
    "start_time": "2022-11-04T22:08:48.378Z"
   },
   {
    "duration": 17,
    "start_time": "2022-11-04T22:08:48.739Z"
   },
   {
    "duration": 27,
    "start_time": "2022-11-04T22:08:48.758Z"
   },
   {
    "duration": 15,
    "start_time": "2022-11-04T22:08:48.786Z"
   },
   {
    "duration": 10,
    "start_time": "2022-11-04T22:08:48.802Z"
   },
   {
    "duration": 16,
    "start_time": "2022-11-04T22:08:48.813Z"
   },
   {
    "duration": 11,
    "start_time": "2022-11-04T22:08:48.830Z"
   },
   {
    "duration": 37,
    "start_time": "2022-11-04T22:08:48.843Z"
   },
   {
    "duration": 118,
    "start_time": "2022-11-04T22:08:48.882Z"
   },
   {
    "duration": 110,
    "start_time": "2022-11-04T22:08:49.002Z"
   },
   {
    "duration": 238,
    "start_time": "2022-11-04T22:08:49.114Z"
   },
   {
    "duration": 110,
    "start_time": "2022-11-04T22:08:49.354Z"
   },
   {
    "duration": 122,
    "start_time": "2022-11-04T22:08:49.465Z"
   },
   {
    "duration": 3983,
    "start_time": "2022-11-04T22:08:49.589Z"
   },
   {
    "duration": 4,
    "start_time": "2022-11-04T22:08:53.574Z"
   },
   {
    "duration": 13,
    "start_time": "2022-11-04T22:08:53.580Z"
   },
   {
    "duration": 21,
    "start_time": "2022-11-04T22:08:53.595Z"
   },
   {
    "duration": 6,
    "start_time": "2022-11-04T22:08:53.618Z"
   },
   {
    "duration": 157,
    "start_time": "2022-11-04T22:08:53.626Z"
   },
   {
    "duration": 299,
    "start_time": "2022-11-04T22:08:53.784Z"
   },
   {
    "duration": 1437,
    "start_time": "2022-11-04T22:14:01.843Z"
   },
   {
    "duration": 3,
    "start_time": "2022-11-04T22:14:03.281Z"
   },
   {
    "duration": 105,
    "start_time": "2022-11-04T22:14:03.285Z"
   },
   {
    "duration": 3,
    "start_time": "2022-11-04T22:14:03.393Z"
   },
   {
    "duration": 286,
    "start_time": "2022-11-04T22:14:03.397Z"
   },
   {
    "duration": 316,
    "start_time": "2022-11-04T22:14:03.685Z"
   },
   {
    "duration": 4,
    "start_time": "2022-11-04T22:14:04.003Z"
   },
   {
    "duration": 93,
    "start_time": "2022-11-04T22:14:04.008Z"
   },
   {
    "duration": 3,
    "start_time": "2022-11-04T22:14:04.103Z"
   },
   {
    "duration": 242,
    "start_time": "2022-11-04T22:14:04.109Z"
   },
   {
    "duration": 232,
    "start_time": "2022-11-04T22:14:04.352Z"
   },
   {
    "duration": 231,
    "start_time": "2022-11-04T22:14:04.586Z"
   },
   {
    "duration": 224,
    "start_time": "2022-11-04T22:14:04.818Z"
   },
   {
    "duration": 371,
    "start_time": "2022-11-04T22:14:05.043Z"
   },
   {
    "duration": 235,
    "start_time": "2022-11-04T22:14:05.415Z"
   },
   {
    "duration": 219,
    "start_time": "2022-11-04T22:14:05.652Z"
   },
   {
    "duration": 226,
    "start_time": "2022-11-04T22:14:05.872Z"
   },
   {
    "duration": 228,
    "start_time": "2022-11-04T22:14:06.099Z"
   },
   {
    "duration": 247,
    "start_time": "2022-11-04T22:14:06.329Z"
   },
   {
    "duration": 370,
    "start_time": "2022-11-04T22:14:06.577Z"
   },
   {
    "duration": 258,
    "start_time": "2022-11-04T22:14:06.949Z"
   },
   {
    "duration": 254,
    "start_time": "2022-11-04T22:14:07.209Z"
   },
   {
    "duration": 247,
    "start_time": "2022-11-04T22:14:07.464Z"
   },
   {
    "duration": 4,
    "start_time": "2022-11-04T22:14:07.712Z"
   },
   {
    "duration": 88,
    "start_time": "2022-11-04T22:14:07.718Z"
   },
   {
    "duration": 3,
    "start_time": "2022-11-04T22:14:07.808Z"
   },
   {
    "duration": 72,
    "start_time": "2022-11-04T22:14:07.813Z"
   },
   {
    "duration": 3,
    "start_time": "2022-11-04T22:14:07.889Z"
   },
   {
    "duration": 268,
    "start_time": "2022-11-04T22:14:07.894Z"
   },
   {
    "duration": 54,
    "start_time": "2022-11-04T22:14:08.164Z"
   },
   {
    "duration": 4,
    "start_time": "2022-11-04T22:14:08.220Z"
   },
   {
    "duration": 11,
    "start_time": "2022-11-04T22:14:08.225Z"
   },
   {
    "duration": 9,
    "start_time": "2022-11-04T22:14:08.238Z"
   },
   {
    "duration": 3,
    "start_time": "2022-11-04T22:14:08.249Z"
   },
   {
    "duration": 83,
    "start_time": "2022-11-04T22:14:08.254Z"
   },
   {
    "duration": 43,
    "start_time": "2022-11-04T22:14:08.339Z"
   },
   {
    "duration": 18,
    "start_time": "2022-11-04T22:14:08.383Z"
   },
   {
    "duration": 6618,
    "start_time": "2022-11-04T22:14:08.403Z"
   },
   {
    "duration": 18,
    "start_time": "2022-11-04T22:14:15.023Z"
   },
   {
    "duration": 6,
    "start_time": "2022-11-04T22:14:15.043Z"
   },
   {
    "duration": 28,
    "start_time": "2022-11-04T22:14:15.050Z"
   },
   {
    "duration": 10,
    "start_time": "2022-11-04T22:14:15.080Z"
   },
   {
    "duration": 425,
    "start_time": "2022-11-04T22:14:15.092Z"
   },
   {
    "duration": 18,
    "start_time": "2022-11-04T22:14:15.518Z"
   },
   {
    "duration": 9,
    "start_time": "2022-11-04T22:14:15.537Z"
   },
   {
    "duration": 6,
    "start_time": "2022-11-04T22:14:15.548Z"
   },
   {
    "duration": 26,
    "start_time": "2022-11-04T22:14:15.556Z"
   },
   {
    "duration": 20,
    "start_time": "2022-11-04T22:14:15.583Z"
   },
   {
    "duration": 25,
    "start_time": "2022-11-04T22:14:15.605Z"
   },
   {
    "duration": 144,
    "start_time": "2022-11-04T22:14:15.632Z"
   },
   {
    "duration": 114,
    "start_time": "2022-11-04T22:14:15.778Z"
   },
   {
    "duration": 265,
    "start_time": "2022-11-04T22:14:15.894Z"
   },
   {
    "duration": 121,
    "start_time": "2022-11-04T22:14:16.161Z"
   },
   {
    "duration": 127,
    "start_time": "2022-11-04T22:14:16.284Z"
   },
   {
    "duration": 4360,
    "start_time": "2022-11-04T22:14:16.412Z"
   },
   {
    "duration": 6,
    "start_time": "2022-11-04T22:14:20.774Z"
   },
   {
    "duration": 18,
    "start_time": "2022-11-04T22:14:20.782Z"
   },
   {
    "duration": 24,
    "start_time": "2022-11-04T22:14:20.802Z"
   },
   {
    "duration": 7,
    "start_time": "2022-11-04T22:14:20.828Z"
   },
   {
    "duration": 241,
    "start_time": "2022-11-04T22:14:20.836Z"
   },
   {
    "duration": 498,
    "start_time": "2022-11-04T22:14:21.080Z"
   },
   {
    "duration": 364729,
    "start_time": "2022-11-04T22:14:21.580Z"
   },
   {
    "duration": 6899,
    "start_time": "2022-11-04T22:20:26.311Z"
   },
   {
    "duration": 38367,
    "start_time": "2022-11-04T22:20:33.211Z"
   },
   {
    "duration": 2501,
    "start_time": "2022-11-04T22:21:11.580Z"
   },
   {
    "duration": 620122,
    "start_time": "2022-11-04T22:21:14.083Z"
   },
   {
    "duration": 15481,
    "start_time": "2022-11-04T22:31:34.206Z"
   },
   {
    "duration": 7,
    "start_time": "2022-11-04T22:31:49.689Z"
   },
   {
    "duration": 3306,
    "start_time": "2022-11-04T22:31:49.698Z"
   },
   {
    "duration": 374,
    "start_time": "2022-11-04T22:31:53.006Z"
   },
   {
    "duration": 27491,
    "start_time": "2022-11-04T22:31:57.523Z"
   },
   {
    "duration": 3769,
    "start_time": "2022-11-04T22:32:25.016Z"
   },
   {
    "duration": 20420,
    "start_time": "2022-11-04T22:32:28.787Z"
   },
   {
    "duration": 9,
    "start_time": "2022-11-04T22:33:03.373Z"
   },
   {
    "duration": 2926,
    "start_time": "2022-11-04T22:33:10.281Z"
   },
   {
    "duration": 354,
    "start_time": "2022-11-04T22:33:56.381Z"
   }
  ],
  "kernelspec": {
   "display_name": "Python 3 (ipykernel)",
   "language": "python",
   "name": "python3"
  },
  "language_info": {
   "codemirror_mode": {
    "name": "ipython",
    "version": 3
   },
   "file_extension": ".py",
   "mimetype": "text/x-python",
   "name": "python",
   "nbconvert_exporter": "python",
   "pygments_lexer": "ipython3",
   "version": "3.9.12"
  },
  "toc": {
   "base_numbering": 1,
   "nav_menu": {
    "height": "207px",
    "width": "448px"
   },
   "number_sections": true,
   "sideBar": true,
   "skip_h1_title": true,
   "title_cell": "Table of Contents",
   "title_sidebar": "Contents",
   "toc_cell": false,
   "toc_position": {},
   "toc_section_display": true,
   "toc_window_display": false
  }
 },
 "nbformat": 4,
 "nbformat_minor": 2
}
