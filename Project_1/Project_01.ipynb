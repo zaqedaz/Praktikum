{
 "cells": [
  {
   "cell_type": "markdown",
   "metadata": {
    "id": "Ml1hmfXC_Zcs"
   },
   "source": [
    "## Обзор данных\n",
    "\n",
    "\n",
    "\n"
   ]
  },
  {
   "cell_type": "code",
   "execution_count": 1,
   "metadata": {
    "id": "AXN7PHPN_Zcs"
   },
   "outputs": [],
   "source": [
    "import pandas as pd"
   ]
  },
  {
   "cell_type": "markdown",
   "metadata": {
    "id": "SG23P8tt_Zcs"
   },
   "source": [
    "Прочитаем файл`yandex_music_project.csv` и сохраним его в переменной `df`:"
   ]
  },
  {
   "cell_type": "code",
   "execution_count": 2,
   "metadata": {
    "id": "fFVu7vqh_Zct"
   },
   "outputs": [],
   "source": [
    "df = pd.read_csv('datasets/yandex_music_project.csv')"
   ]
  },
  {
   "cell_type": "markdown",
   "metadata": {
    "id": "rDoOMd3uTqnZ"
   },
   "source": [
    "Выведем на экран первые десять строк таблицы:"
   ]
  },
  {
   "cell_type": "code",
   "execution_count": 3,
   "metadata": {
    "id": "oWTVX3gW_Zct"
   },
   "outputs": [
    {
     "name": "stdout",
     "output_type": "stream",
     "text": [
      "     userID                        Track            artist   genre  \\\n",
      "0  FFB692EC            Kamigata To Boots  The Mass Missile    rock   \n",
      "1  55204538  Delayed Because of Accident  Andreas Rönnberg    rock   \n",
      "2    20EC38            Funiculì funiculà       Mario Lanza     pop   \n",
      "3  A3DD03C9        Dragons in the Sunset        Fire + Ice    folk   \n",
      "4  E2DC1FAE                  Soul People        Space Echo   dance   \n",
      "5  842029A1                    Преданная         IMPERVTOR  rusrap   \n",
      "6  4CB90AA5                         True      Roman Messer   dance   \n",
      "7  F03E1C1F             Feeling This Way   Polina Griffith   dance   \n",
      "8  8FA1D3BE     И вновь продолжается бой               NaN  ruspop   \n",
      "9  E772D5C0                    Pessimist               NaN   dance   \n",
      "\n",
      "             City        time        Day  \n",
      "0  Saint-Petersburg  20:28:33  Wednesday  \n",
      "1            Moscow  14:07:09     Friday  \n",
      "2  Saint-Petersburg  20:58:07  Wednesday  \n",
      "3  Saint-Petersburg  08:37:09     Monday  \n",
      "4            Moscow  08:34:34     Monday  \n",
      "5  Saint-Petersburg  13:09:41     Friday  \n",
      "6            Moscow  13:00:07  Wednesday  \n",
      "7            Moscow  20:47:49  Wednesday  \n",
      "8            Moscow  09:17:40     Friday  \n",
      "9  Saint-Petersburg  21:20:49  Wednesday  \n"
     ]
    }
   ],
   "source": [
    "print(df.head(10))"
   ]
  },
  {
   "cell_type": "code",
   "execution_count": 4,
   "metadata": {},
   "outputs": [
    {
     "data": {
      "text/html": [
       "<div>\n",
       "<style scoped>\n",
       "    .dataframe tbody tr th:only-of-type {\n",
       "        vertical-align: middle;\n",
       "    }\n",
       "\n",
       "    .dataframe tbody tr th {\n",
       "        vertical-align: top;\n",
       "    }\n",
       "\n",
       "    .dataframe thead th {\n",
       "        text-align: right;\n",
       "    }\n",
       "</style>\n",
       "<table border=\"1\" class=\"dataframe\">\n",
       "  <thead>\n",
       "    <tr style=\"text-align: right;\">\n",
       "      <th></th>\n",
       "      <th>userID</th>\n",
       "      <th>Track</th>\n",
       "      <th>artist</th>\n",
       "      <th>genre</th>\n",
       "      <th>City</th>\n",
       "      <th>time</th>\n",
       "      <th>Day</th>\n",
       "    </tr>\n",
       "  </thead>\n",
       "  <tbody>\n",
       "    <tr>\n",
       "      <th>0</th>\n",
       "      <td>FFB692EC</td>\n",
       "      <td>Kamigata To Boots</td>\n",
       "      <td>The Mass Missile</td>\n",
       "      <td>rock</td>\n",
       "      <td>Saint-Petersburg</td>\n",
       "      <td>20:28:33</td>\n",
       "      <td>Wednesday</td>\n",
       "    </tr>\n",
       "    <tr>\n",
       "      <th>1</th>\n",
       "      <td>55204538</td>\n",
       "      <td>Delayed Because of Accident</td>\n",
       "      <td>Andreas Rönnberg</td>\n",
       "      <td>rock</td>\n",
       "      <td>Moscow</td>\n",
       "      <td>14:07:09</td>\n",
       "      <td>Friday</td>\n",
       "    </tr>\n",
       "    <tr>\n",
       "      <th>2</th>\n",
       "      <td>20EC38</td>\n",
       "      <td>Funiculì funiculà</td>\n",
       "      <td>Mario Lanza</td>\n",
       "      <td>pop</td>\n",
       "      <td>Saint-Petersburg</td>\n",
       "      <td>20:58:07</td>\n",
       "      <td>Wednesday</td>\n",
       "    </tr>\n",
       "    <tr>\n",
       "      <th>3</th>\n",
       "      <td>A3DD03C9</td>\n",
       "      <td>Dragons in the Sunset</td>\n",
       "      <td>Fire + Ice</td>\n",
       "      <td>folk</td>\n",
       "      <td>Saint-Petersburg</td>\n",
       "      <td>08:37:09</td>\n",
       "      <td>Monday</td>\n",
       "    </tr>\n",
       "    <tr>\n",
       "      <th>4</th>\n",
       "      <td>E2DC1FAE</td>\n",
       "      <td>Soul People</td>\n",
       "      <td>Space Echo</td>\n",
       "      <td>dance</td>\n",
       "      <td>Moscow</td>\n",
       "      <td>08:34:34</td>\n",
       "      <td>Monday</td>\n",
       "    </tr>\n",
       "    <tr>\n",
       "      <th>5</th>\n",
       "      <td>842029A1</td>\n",
       "      <td>Преданная</td>\n",
       "      <td>IMPERVTOR</td>\n",
       "      <td>rusrap</td>\n",
       "      <td>Saint-Petersburg</td>\n",
       "      <td>13:09:41</td>\n",
       "      <td>Friday</td>\n",
       "    </tr>\n",
       "    <tr>\n",
       "      <th>6</th>\n",
       "      <td>4CB90AA5</td>\n",
       "      <td>True</td>\n",
       "      <td>Roman Messer</td>\n",
       "      <td>dance</td>\n",
       "      <td>Moscow</td>\n",
       "      <td>13:00:07</td>\n",
       "      <td>Wednesday</td>\n",
       "    </tr>\n",
       "    <tr>\n",
       "      <th>7</th>\n",
       "      <td>F03E1C1F</td>\n",
       "      <td>Feeling This Way</td>\n",
       "      <td>Polina Griffith</td>\n",
       "      <td>dance</td>\n",
       "      <td>Moscow</td>\n",
       "      <td>20:47:49</td>\n",
       "      <td>Wednesday</td>\n",
       "    </tr>\n",
       "    <tr>\n",
       "      <th>8</th>\n",
       "      <td>8FA1D3BE</td>\n",
       "      <td>И вновь продолжается бой</td>\n",
       "      <td>NaN</td>\n",
       "      <td>ruspop</td>\n",
       "      <td>Moscow</td>\n",
       "      <td>09:17:40</td>\n",
       "      <td>Friday</td>\n",
       "    </tr>\n",
       "    <tr>\n",
       "      <th>9</th>\n",
       "      <td>E772D5C0</td>\n",
       "      <td>Pessimist</td>\n",
       "      <td>NaN</td>\n",
       "      <td>dance</td>\n",
       "      <td>Saint-Petersburg</td>\n",
       "      <td>21:20:49</td>\n",
       "      <td>Wednesday</td>\n",
       "    </tr>\n",
       "  </tbody>\n",
       "</table>\n",
       "</div>"
      ],
      "text/plain": [
       "     userID                        Track            artist   genre  \\\n",
       "0  FFB692EC            Kamigata To Boots  The Mass Missile    rock   \n",
       "1  55204538  Delayed Because of Accident  Andreas Rönnberg    rock   \n",
       "2    20EC38            Funiculì funiculà       Mario Lanza     pop   \n",
       "3  A3DD03C9        Dragons in the Sunset        Fire + Ice    folk   \n",
       "4  E2DC1FAE                  Soul People        Space Echo   dance   \n",
       "5  842029A1                    Преданная         IMPERVTOR  rusrap   \n",
       "6  4CB90AA5                         True      Roman Messer   dance   \n",
       "7  F03E1C1F             Feeling This Way   Polina Griffith   dance   \n",
       "8  8FA1D3BE     И вновь продолжается бой               NaN  ruspop   \n",
       "9  E772D5C0                    Pessimist               NaN   dance   \n",
       "\n",
       "             City        time        Day  \n",
       "0  Saint-Petersburg  20:28:33  Wednesday  \n",
       "1            Moscow  14:07:09     Friday  \n",
       "2  Saint-Petersburg  20:58:07  Wednesday  \n",
       "3  Saint-Petersburg  08:37:09     Monday  \n",
       "4            Moscow  08:34:34     Monday  \n",
       "5  Saint-Petersburg  13:09:41     Friday  \n",
       "6            Moscow  13:00:07  Wednesday  \n",
       "7            Moscow  20:47:49  Wednesday  \n",
       "8            Moscow  09:17:40     Friday  \n",
       "9  Saint-Petersburg  21:20:49  Wednesday  "
      ]
     },
     "metadata": {},
     "output_type": "display_data"
    }
   ],
   "source": [
    "display(df.head(10))"
   ]
  },
  {
   "cell_type": "markdown",
   "metadata": {
    "id": "EO73Kwic_Zct"
   },
   "source": [
    "Получим общую информацию о таблице:"
   ]
  },
  {
   "cell_type": "code",
   "execution_count": 5,
   "metadata": {
    "id": "DSf2kIb-_Zct"
   },
   "outputs": [
    {
     "name": "stdout",
     "output_type": "stream",
     "text": [
      "<class 'pandas.core.frame.DataFrame'>\n",
      "RangeIndex: 65079 entries, 0 to 65078\n",
      "Data columns (total 7 columns):\n",
      " #   Column    Non-Null Count  Dtype \n",
      "---  ------    --------------  ----- \n",
      " 0     userID  65079 non-null  object\n",
      " 1   Track     63848 non-null  object\n",
      " 2   artist    57876 non-null  object\n",
      " 3   genre     63881 non-null  object\n",
      " 4     City    65079 non-null  object\n",
      " 5   time      65079 non-null  object\n",
      " 6   Day       65079 non-null  object\n",
      "dtypes: object(7)\n",
      "memory usage: 3.5+ MB\n"
     ]
    }
   ],
   "source": [
    "df.info()"
   ]
  },
  {
   "cell_type": "markdown",
   "metadata": {
    "id": "TaQ2Iwbr_Zct"
   },
   "source": [
    "Итак, в таблице семь столбцов. Тип данных во всех столбцах — `object`.\n",
    "\n",
    "Согласно документации к данным:\n",
    "* `userID` — идентификатор пользователя;\n",
    "* `Track` — название трека;  \n",
    "* `artist` — имя исполнителя;\n",
    "* `genre` — название жанра;\n",
    "* `City` — город пользователя;\n",
    "* `time` — время начала прослушивания;\n",
    "* `Day` — день недели.\n",
    "\n",
    "В названиях колонок видны три нарушения стиля:\n",
    "1. Строчные буквы сочетаются с прописными.\n",
    "2. Встречаются пробелы.\n",
    "3. Название колонкки 'userID' записано без пробелов\n",
    "\n",
    "\n",
    "\n",
    "Количество значений в столбцах различается. Значит, в данных есть пропущенные значения.\n"
   ]
  },
  {
   "cell_type": "markdown",
   "metadata": {
    "id": "MCB6-dXG_Zct"
   },
   "source": [
    "**Выводы**\n",
    "\n",
    "В каждой строке таблицы — данные о прослушанном треке. Часть колонок описывает саму композицию: название, исполнителя и жанр. Остальные данные рассказывают о пользователе: из какого он города, когда он слушал музыку. \n",
    "\n",
    "Предварительно можно утверждать, что, данных достаточно для проверки гипотез. Но встречаются пропуски в данных, а в названиях колонок — расхождения с хорошим стилем.\n",
    "\n",
    "Чтобы двигаться дальше, нужно устранить проблемы в данных."
   ]
  },
  {
   "cell_type": "markdown",
   "metadata": {
    "id": "SjYF6Ub9_Zct"
   },
   "source": [
    "## Предобработка данных"
   ]
  },
  {
   "cell_type": "code",
   "execution_count": 6,
   "metadata": {
    "id": "oKOTdF_Q_Zct"
   },
   "outputs": [
    {
     "data": {
      "text/plain": [
       "Index(['  userID', 'Track', 'artist', 'genre', '  City  ', 'time', 'Day'], dtype='object')"
      ]
     },
     "execution_count": 6,
     "metadata": {},
     "output_type": "execute_result"
    }
   ],
   "source": [
    "df.columns"
   ]
  },
  {
   "cell_type": "code",
   "execution_count": 7,
   "metadata": {
    "id": "ISlFqs5y_Zct"
   },
   "outputs": [],
   "source": [
    "df = df.rename(columns={'  userID': 'user_id','Track':'track','  City  ':'city','Day':'day'})"
   ]
  },
  {
   "cell_type": "code",
   "execution_count": 8,
   "metadata": {
    "id": "d4NOAmTW_Zct"
   },
   "outputs": [
    {
     "data": {
      "text/plain": [
       "Index(['user_id', 'track', 'artist', 'genre', 'city', 'time', 'day'], dtype='object')"
      ]
     },
     "execution_count": 8,
     "metadata": {},
     "output_type": "execute_result"
    }
   ],
   "source": [
    "df.columns"
   ]
  },
  {
   "cell_type": "markdown",
   "metadata": {
    "id": "5ISfbcfY_Zct"
   },
   "source": [
    "### Пропуски значений"
   ]
  },
  {
   "cell_type": "code",
   "execution_count": 9,
   "metadata": {
    "id": "RskX29qr_Zct"
   },
   "outputs": [
    {
     "data": {
      "text/plain": [
       "user_id       0\n",
       "track      1231\n",
       "artist     7203\n",
       "genre      1198\n",
       "city          0\n",
       "time          0\n",
       "day           0\n",
       "dtype: int64"
      ]
     },
     "execution_count": 9,
     "metadata": {},
     "output_type": "execute_result"
    }
   ],
   "source": [
    "df.isna().sum()"
   ]
  },
  {
   "cell_type": "markdown",
   "metadata": {
    "id": "qubhgnlO_Zct"
   },
   "source": [
    "Не все пропущенные значения влияют на исследование. Так в `track` и `artist` пропуски не важны для нашей работы. Достаточно заменить их явными обозначениями.\n",
    "\n",
    "Но пропуски в `genre` могут помешать сравнению музыкальных вкусов в Москве и Санкт-Петербурге."
   ]
  },
  {
   "cell_type": "code",
   "execution_count": 10,
   "metadata": {
    "id": "KplB5qWs_Zct"
   },
   "outputs": [],
   "source": [
    "columns_to_replace = ['track', 'artist', 'genre']\n",
    "for column in columns_to_replace:\n",
    "    df[column] = df[column].fillna('unknown')"
   ]
  },
  {
   "cell_type": "code",
   "execution_count": 11,
   "metadata": {
    "id": "Tq4nYRX4_Zct"
   },
   "outputs": [
    {
     "data": {
      "text/plain": [
       "user_id    0\n",
       "track      0\n",
       "artist     0\n",
       "genre      0\n",
       "city       0\n",
       "time       0\n",
       "day        0\n",
       "dtype: int64"
      ]
     },
     "execution_count": 11,
     "metadata": {},
     "output_type": "execute_result"
    }
   ],
   "source": [
    "df.isna().sum()"
   ]
  },
  {
   "cell_type": "markdown",
   "metadata": {
    "id": "BWKRtBJ3_Zct"
   },
   "source": [
    "### Дубликаты"
   ]
  },
  {
   "cell_type": "code",
   "execution_count": 12,
   "metadata": {
    "id": "36eES_S0_Zct"
   },
   "outputs": [
    {
     "data": {
      "text/plain": [
       "3826"
      ]
     },
     "execution_count": 12,
     "metadata": {},
     "output_type": "execute_result"
    }
   ],
   "source": [
    "df.duplicated().sum()"
   ]
  },
  {
   "cell_type": "code",
   "execution_count": 13,
   "metadata": {
    "id": "exFHq6tt_Zct"
   },
   "outputs": [],
   "source": [
    "df = df.drop_duplicates().reset_index(drop=True) "
   ]
  },
  {
   "cell_type": "code",
   "execution_count": 14,
   "metadata": {
    "id": "-8PuNWQ0_Zct"
   },
   "outputs": [
    {
     "data": {
      "text/plain": [
       "0"
      ]
     },
     "execution_count": 14,
     "metadata": {},
     "output_type": "execute_result"
    }
   ],
   "source": [
    "df.duplicated().sum()"
   ]
  },
  {
   "cell_type": "code",
   "execution_count": 15,
   "metadata": {
    "id": "JIUcqzZN_Zct"
   },
   "outputs": [
    {
     "data": {
      "text/plain": [
       "['acid',\n",
       " 'acoustic',\n",
       " 'action',\n",
       " 'adult',\n",
       " 'africa',\n",
       " 'afrikaans',\n",
       " 'alternative',\n",
       " 'alternativepunk',\n",
       " 'ambient',\n",
       " 'americana',\n",
       " 'animated',\n",
       " 'anime',\n",
       " 'arabesk',\n",
       " 'arabic',\n",
       " 'arena',\n",
       " 'argentinetango',\n",
       " 'art',\n",
       " 'audiobook',\n",
       " 'author',\n",
       " 'avantgarde',\n",
       " 'axé',\n",
       " 'baile',\n",
       " 'balkan',\n",
       " 'beats',\n",
       " 'bigroom',\n",
       " 'black',\n",
       " 'bluegrass',\n",
       " 'blues',\n",
       " 'bollywood',\n",
       " 'bossa',\n",
       " 'brazilian',\n",
       " 'breakbeat',\n",
       " 'breaks',\n",
       " 'broadway',\n",
       " 'cantautori',\n",
       " 'cantopop',\n",
       " 'canzone',\n",
       " 'caribbean',\n",
       " 'caucasian',\n",
       " 'celtic',\n",
       " 'chamber',\n",
       " 'chanson',\n",
       " 'children',\n",
       " 'chill',\n",
       " 'chinese',\n",
       " 'choral',\n",
       " 'christian',\n",
       " 'christmas',\n",
       " 'classical',\n",
       " 'classicmetal',\n",
       " 'club',\n",
       " 'colombian',\n",
       " 'comedy',\n",
       " 'conjazz',\n",
       " 'contemporary',\n",
       " 'country',\n",
       " 'cuban',\n",
       " 'dance',\n",
       " 'dancehall',\n",
       " 'dancepop',\n",
       " 'dark',\n",
       " 'death',\n",
       " 'deep',\n",
       " 'deutschrock',\n",
       " 'deutschspr',\n",
       " 'dirty',\n",
       " 'disco',\n",
       " 'dnb',\n",
       " 'documentary',\n",
       " 'downbeat',\n",
       " 'downtempo',\n",
       " 'drum',\n",
       " 'dub',\n",
       " 'dubstep',\n",
       " 'eastern',\n",
       " 'easy',\n",
       " 'electronic',\n",
       " 'electropop',\n",
       " 'emo',\n",
       " 'entehno',\n",
       " 'epicmetal',\n",
       " 'estrada',\n",
       " 'ethnic',\n",
       " 'eurofolk',\n",
       " 'european',\n",
       " 'experimental',\n",
       " 'extrememetal',\n",
       " 'fado',\n",
       " 'fairytail',\n",
       " 'film',\n",
       " 'fitness',\n",
       " 'flamenco',\n",
       " 'folk',\n",
       " 'folklore',\n",
       " 'folkmetal',\n",
       " 'folkrock',\n",
       " 'folktronica',\n",
       " 'forró',\n",
       " 'frankreich',\n",
       " 'französisch',\n",
       " 'french',\n",
       " 'funk',\n",
       " 'future',\n",
       " 'gangsta',\n",
       " 'garage',\n",
       " 'german',\n",
       " 'ghazal',\n",
       " 'gitarre',\n",
       " 'glitch',\n",
       " 'gospel',\n",
       " 'gothic',\n",
       " 'grime',\n",
       " 'grunge',\n",
       " 'gypsy',\n",
       " 'handsup',\n",
       " \"hard'n'heavy\",\n",
       " 'hardcore',\n",
       " 'hardstyle',\n",
       " 'hardtechno',\n",
       " 'hip',\n",
       " 'hip-hop',\n",
       " 'hiphop',\n",
       " 'historisch',\n",
       " 'holiday',\n",
       " 'hop',\n",
       " 'horror',\n",
       " 'house',\n",
       " 'hymn',\n",
       " 'idm',\n",
       " 'independent',\n",
       " 'indian',\n",
       " 'indie',\n",
       " 'indipop',\n",
       " 'industrial',\n",
       " 'inspirational',\n",
       " 'instrumental',\n",
       " 'international',\n",
       " 'irish',\n",
       " 'jam',\n",
       " 'japanese',\n",
       " 'jazz',\n",
       " 'jewish',\n",
       " 'jpop',\n",
       " 'jungle',\n",
       " 'k-pop',\n",
       " 'karadeniz',\n",
       " 'karaoke',\n",
       " 'kayokyoku',\n",
       " 'korean',\n",
       " 'laiko',\n",
       " 'latin',\n",
       " 'latino',\n",
       " 'leftfield',\n",
       " 'local',\n",
       " 'lounge',\n",
       " 'loungeelectronic',\n",
       " 'lovers',\n",
       " 'malaysian',\n",
       " 'mandopop',\n",
       " 'marschmusik',\n",
       " 'meditative',\n",
       " 'mediterranean',\n",
       " 'melodic',\n",
       " 'metal',\n",
       " 'metalcore',\n",
       " 'mexican',\n",
       " 'middle',\n",
       " 'minimal',\n",
       " 'miscellaneous',\n",
       " 'modern',\n",
       " 'mood',\n",
       " 'mpb',\n",
       " 'muslim',\n",
       " 'native',\n",
       " 'neoklassik',\n",
       " 'neue',\n",
       " 'new',\n",
       " 'newage',\n",
       " 'newwave',\n",
       " 'nu',\n",
       " 'nujazz',\n",
       " 'numetal',\n",
       " 'oceania',\n",
       " 'old',\n",
       " 'opera',\n",
       " 'orchestral',\n",
       " 'other',\n",
       " 'piano',\n",
       " 'podcasts',\n",
       " 'pop',\n",
       " 'popdance',\n",
       " 'popelectronic',\n",
       " 'popeurodance',\n",
       " 'poprussian',\n",
       " 'post',\n",
       " 'posthardcore',\n",
       " 'postrock',\n",
       " 'power',\n",
       " 'progmetal',\n",
       " 'progressive',\n",
       " 'psychedelic',\n",
       " 'punjabi',\n",
       " 'punk',\n",
       " 'quebecois',\n",
       " 'ragga',\n",
       " 'ram',\n",
       " 'rancheras',\n",
       " 'rap',\n",
       " 'rave',\n",
       " 'reggae',\n",
       " 'reggaeton',\n",
       " 'regional',\n",
       " 'relax',\n",
       " 'religious',\n",
       " 'retro',\n",
       " 'rhythm',\n",
       " 'rnb',\n",
       " 'rnr',\n",
       " 'rock',\n",
       " 'rockabilly',\n",
       " 'rockalternative',\n",
       " 'rockindie',\n",
       " 'rockother',\n",
       " 'romance',\n",
       " 'roots',\n",
       " 'ruspop',\n",
       " 'rusrap',\n",
       " 'rusrock',\n",
       " 'russian',\n",
       " 'salsa',\n",
       " 'samba',\n",
       " 'scenic',\n",
       " 'schlager',\n",
       " 'self',\n",
       " 'sertanejo',\n",
       " 'shanson',\n",
       " 'shoegazing',\n",
       " 'showtunes',\n",
       " 'singer',\n",
       " 'ska',\n",
       " 'skarock',\n",
       " 'slow',\n",
       " 'smooth',\n",
       " 'soft',\n",
       " 'soul',\n",
       " 'soulful',\n",
       " 'sound',\n",
       " 'soundtrack',\n",
       " 'southern',\n",
       " 'specialty',\n",
       " 'speech',\n",
       " 'spiritual',\n",
       " 'sport',\n",
       " 'stonerrock',\n",
       " 'surf',\n",
       " 'swing',\n",
       " 'synthpop',\n",
       " 'synthrock',\n",
       " 'sängerportrait',\n",
       " 'tango',\n",
       " 'tanzorchester',\n",
       " 'taraftar',\n",
       " 'tatar',\n",
       " 'tech',\n",
       " 'techno',\n",
       " 'teen',\n",
       " 'thrash',\n",
       " 'top',\n",
       " 'traditional',\n",
       " 'tradjazz',\n",
       " 'trance',\n",
       " 'tribal',\n",
       " 'trip',\n",
       " 'triphop',\n",
       " 'tropical',\n",
       " 'türk',\n",
       " 'türkçe',\n",
       " 'ukrrock',\n",
       " 'unknown',\n",
       " 'urban',\n",
       " 'uzbek',\n",
       " 'variété',\n",
       " 'vi',\n",
       " 'videogame',\n",
       " 'vocal',\n",
       " 'western',\n",
       " 'world',\n",
       " 'worldbeat',\n",
       " 'ïîï',\n",
       " 'электроника']"
      ]
     },
     "execution_count": 15,
     "metadata": {},
     "output_type": "execute_result"
    }
   ],
   "source": [
    "sorted(df['genre'].unique())"
   ]
  },
  {
   "cell_type": "code",
   "execution_count": 16,
   "metadata": {
    "id": "ErNDkmns_Zct"
   },
   "outputs": [],
   "source": [
    "def replace_wrong_genres(wrong_genres,correct_genre):\n",
    "    for wrong_genre in wrong_genres:\n",
    "        df['genre'] = df['genre'].replace(wrong_genre, correct_genre)"
   ]
  },
  {
   "cell_type": "code",
   "execution_count": 17,
   "metadata": {
    "id": "YN5i2hpmSo09"
   },
   "outputs": [],
   "source": [
    "duplicates = ['hip','hop','hip-hop']\n",
    "unique = 'hiphop'\n",
    "replace_wrong_genres(duplicates, unique)"
   ]
  },
  {
   "cell_type": "code",
   "execution_count": 18,
   "metadata": {
    "id": "wvixALnFG15m"
   },
   "outputs": [
    {
     "data": {
      "text/plain": [
       "['acid',\n",
       " 'acoustic',\n",
       " 'action',\n",
       " 'adult',\n",
       " 'africa',\n",
       " 'afrikaans',\n",
       " 'alternative',\n",
       " 'alternativepunk',\n",
       " 'ambient',\n",
       " 'americana',\n",
       " 'animated',\n",
       " 'anime',\n",
       " 'arabesk',\n",
       " 'arabic',\n",
       " 'arena',\n",
       " 'argentinetango',\n",
       " 'art',\n",
       " 'audiobook',\n",
       " 'author',\n",
       " 'avantgarde',\n",
       " 'axé',\n",
       " 'baile',\n",
       " 'balkan',\n",
       " 'beats',\n",
       " 'bigroom',\n",
       " 'black',\n",
       " 'bluegrass',\n",
       " 'blues',\n",
       " 'bollywood',\n",
       " 'bossa',\n",
       " 'brazilian',\n",
       " 'breakbeat',\n",
       " 'breaks',\n",
       " 'broadway',\n",
       " 'cantautori',\n",
       " 'cantopop',\n",
       " 'canzone',\n",
       " 'caribbean',\n",
       " 'caucasian',\n",
       " 'celtic',\n",
       " 'chamber',\n",
       " 'chanson',\n",
       " 'children',\n",
       " 'chill',\n",
       " 'chinese',\n",
       " 'choral',\n",
       " 'christian',\n",
       " 'christmas',\n",
       " 'classical',\n",
       " 'classicmetal',\n",
       " 'club',\n",
       " 'colombian',\n",
       " 'comedy',\n",
       " 'conjazz',\n",
       " 'contemporary',\n",
       " 'country',\n",
       " 'cuban',\n",
       " 'dance',\n",
       " 'dancehall',\n",
       " 'dancepop',\n",
       " 'dark',\n",
       " 'death',\n",
       " 'deep',\n",
       " 'deutschrock',\n",
       " 'deutschspr',\n",
       " 'dirty',\n",
       " 'disco',\n",
       " 'dnb',\n",
       " 'documentary',\n",
       " 'downbeat',\n",
       " 'downtempo',\n",
       " 'drum',\n",
       " 'dub',\n",
       " 'dubstep',\n",
       " 'eastern',\n",
       " 'easy',\n",
       " 'electronic',\n",
       " 'electropop',\n",
       " 'emo',\n",
       " 'entehno',\n",
       " 'epicmetal',\n",
       " 'estrada',\n",
       " 'ethnic',\n",
       " 'eurofolk',\n",
       " 'european',\n",
       " 'experimental',\n",
       " 'extrememetal',\n",
       " 'fado',\n",
       " 'fairytail',\n",
       " 'film',\n",
       " 'fitness',\n",
       " 'flamenco',\n",
       " 'folk',\n",
       " 'folklore',\n",
       " 'folkmetal',\n",
       " 'folkrock',\n",
       " 'folktronica',\n",
       " 'forró',\n",
       " 'frankreich',\n",
       " 'französisch',\n",
       " 'french',\n",
       " 'funk',\n",
       " 'future',\n",
       " 'gangsta',\n",
       " 'garage',\n",
       " 'german',\n",
       " 'ghazal',\n",
       " 'gitarre',\n",
       " 'glitch',\n",
       " 'gospel',\n",
       " 'gothic',\n",
       " 'grime',\n",
       " 'grunge',\n",
       " 'gypsy',\n",
       " 'handsup',\n",
       " \"hard'n'heavy\",\n",
       " 'hardcore',\n",
       " 'hardstyle',\n",
       " 'hardtechno',\n",
       " 'hiphop',\n",
       " 'historisch',\n",
       " 'holiday',\n",
       " 'horror',\n",
       " 'house',\n",
       " 'hymn',\n",
       " 'idm',\n",
       " 'independent',\n",
       " 'indian',\n",
       " 'indie',\n",
       " 'indipop',\n",
       " 'industrial',\n",
       " 'inspirational',\n",
       " 'instrumental',\n",
       " 'international',\n",
       " 'irish',\n",
       " 'jam',\n",
       " 'japanese',\n",
       " 'jazz',\n",
       " 'jewish',\n",
       " 'jpop',\n",
       " 'jungle',\n",
       " 'k-pop',\n",
       " 'karadeniz',\n",
       " 'karaoke',\n",
       " 'kayokyoku',\n",
       " 'korean',\n",
       " 'laiko',\n",
       " 'latin',\n",
       " 'latino',\n",
       " 'leftfield',\n",
       " 'local',\n",
       " 'lounge',\n",
       " 'loungeelectronic',\n",
       " 'lovers',\n",
       " 'malaysian',\n",
       " 'mandopop',\n",
       " 'marschmusik',\n",
       " 'meditative',\n",
       " 'mediterranean',\n",
       " 'melodic',\n",
       " 'metal',\n",
       " 'metalcore',\n",
       " 'mexican',\n",
       " 'middle',\n",
       " 'minimal',\n",
       " 'miscellaneous',\n",
       " 'modern',\n",
       " 'mood',\n",
       " 'mpb',\n",
       " 'muslim',\n",
       " 'native',\n",
       " 'neoklassik',\n",
       " 'neue',\n",
       " 'new',\n",
       " 'newage',\n",
       " 'newwave',\n",
       " 'nu',\n",
       " 'nujazz',\n",
       " 'numetal',\n",
       " 'oceania',\n",
       " 'old',\n",
       " 'opera',\n",
       " 'orchestral',\n",
       " 'other',\n",
       " 'piano',\n",
       " 'podcasts',\n",
       " 'pop',\n",
       " 'popdance',\n",
       " 'popelectronic',\n",
       " 'popeurodance',\n",
       " 'poprussian',\n",
       " 'post',\n",
       " 'posthardcore',\n",
       " 'postrock',\n",
       " 'power',\n",
       " 'progmetal',\n",
       " 'progressive',\n",
       " 'psychedelic',\n",
       " 'punjabi',\n",
       " 'punk',\n",
       " 'quebecois',\n",
       " 'ragga',\n",
       " 'ram',\n",
       " 'rancheras',\n",
       " 'rap',\n",
       " 'rave',\n",
       " 'reggae',\n",
       " 'reggaeton',\n",
       " 'regional',\n",
       " 'relax',\n",
       " 'religious',\n",
       " 'retro',\n",
       " 'rhythm',\n",
       " 'rnb',\n",
       " 'rnr',\n",
       " 'rock',\n",
       " 'rockabilly',\n",
       " 'rockalternative',\n",
       " 'rockindie',\n",
       " 'rockother',\n",
       " 'romance',\n",
       " 'roots',\n",
       " 'ruspop',\n",
       " 'rusrap',\n",
       " 'rusrock',\n",
       " 'russian',\n",
       " 'salsa',\n",
       " 'samba',\n",
       " 'scenic',\n",
       " 'schlager',\n",
       " 'self',\n",
       " 'sertanejo',\n",
       " 'shanson',\n",
       " 'shoegazing',\n",
       " 'showtunes',\n",
       " 'singer',\n",
       " 'ska',\n",
       " 'skarock',\n",
       " 'slow',\n",
       " 'smooth',\n",
       " 'soft',\n",
       " 'soul',\n",
       " 'soulful',\n",
       " 'sound',\n",
       " 'soundtrack',\n",
       " 'southern',\n",
       " 'specialty',\n",
       " 'speech',\n",
       " 'spiritual',\n",
       " 'sport',\n",
       " 'stonerrock',\n",
       " 'surf',\n",
       " 'swing',\n",
       " 'synthpop',\n",
       " 'synthrock',\n",
       " 'sängerportrait',\n",
       " 'tango',\n",
       " 'tanzorchester',\n",
       " 'taraftar',\n",
       " 'tatar',\n",
       " 'tech',\n",
       " 'techno',\n",
       " 'teen',\n",
       " 'thrash',\n",
       " 'top',\n",
       " 'traditional',\n",
       " 'tradjazz',\n",
       " 'trance',\n",
       " 'tribal',\n",
       " 'trip',\n",
       " 'triphop',\n",
       " 'tropical',\n",
       " 'türk',\n",
       " 'türkçe',\n",
       " 'ukrrock',\n",
       " 'unknown',\n",
       " 'urban',\n",
       " 'uzbek',\n",
       " 'variété',\n",
       " 'vi',\n",
       " 'videogame',\n",
       " 'vocal',\n",
       " 'western',\n",
       " 'world',\n",
       " 'worldbeat',\n",
       " 'ïîï',\n",
       " 'электроника']"
      ]
     },
     "execution_count": 18,
     "metadata": {},
     "output_type": "execute_result"
    }
   ],
   "source": [
    "sorted(df['genre'].unique())"
   ]
  },
  {
   "cell_type": "markdown",
   "metadata": {
    "id": "jz6a9-7HQUDd"
   },
   "source": [
    "**Выводы**\n",
    "\n",
    "Предобработка обнаружила три проблемы в данных:\n",
    "\n",
    "- нарушения в стиле заголовков,\n",
    "- пропущенные значения,\n",
    "- дубликаты — явные и неявные.\n",
    "\n",
    "Исправлены заголовки, чтобы упростить работу с таблицей. Без дубликатов исследование станет более точным.\n",
    "\n",
    "Пропущенные значения заменены на `'unknown'`."
   ]
  },
  {
   "cell_type": "markdown",
   "metadata": {
    "id": "WttZHXH0SqKk"
   },
   "source": [
    "## Проверка гипотез"
   ]
  },
  {
   "cell_type": "markdown",
   "metadata": {
    "id": "Im936VVi_Zcu"
   },
   "source": [
    "### Сравнение поведения пользователей двух столиц"
   ]
  },
  {
   "cell_type": "markdown",
   "metadata": {
    "id": "nwt_MuaL_Zcu"
   },
   "source": [
    "Первая гипотеза утверждает, что пользователи по-разному слушают музыку в Москве и Санкт-Петербурге. Проверьте это предположение по данным о трёх днях недели — понедельнике, среде и пятнице. Для этого:\n",
    "\n",
    "* Разделите пользователей Москвы и Санкт-Петербурга\n",
    "* Сравните, сколько треков послушала каждая группа пользователей в понедельник, среду и пятницу.\n"
   ]
  },
  {
   "cell_type": "markdown",
   "metadata": {
    "id": "8Dw_YMmT_Zcu"
   },
   "source": [
    "Для тренировки сначала выполните каждый из расчётов по отдельности. \n",
    "\n",
    "Оцените активность пользователей в каждом городе. Сгруппируйте данные по городу и посчитайте прослушивания в каждой группе.\n",
    "\n"
   ]
  },
  {
   "cell_type": "code",
   "execution_count": 19,
   "metadata": {
    "id": "0_Qs96oh_Zcu"
   },
   "outputs": [
    {
     "data": {
      "text/plain": [
       "city\n",
       "Moscow              42741\n",
       "Saint-Petersburg    18512\n",
       "Name: track, dtype: int64"
      ]
     },
     "execution_count": 19,
     "metadata": {},
     "output_type": "execute_result"
    }
   ],
   "source": [
    "city_grouping = df.groupby('city')['track'].count()\n",
    "city_grouping"
   ]
  },
  {
   "cell_type": "markdown",
   "metadata": {
    "id": "dzli3w8o_Zcu"
   },
   "source": [
    "В Москве прослушиваний больше, чем в Петербурге. Из этого не следует, что московские пользователи чаще слушают музыку. Просто самих пользователей в Москве больше.\n",
    "\n",
    "Теперь сгруппируйте данные по дню недели и подсчитайте прослушивания в понедельник, среду и пятницу. Учтите, что в данных есть информация о прослушиваниях только за эти дни.\n"
   ]
  },
  {
   "cell_type": "code",
   "execution_count": 20,
   "metadata": {
    "id": "uZMKjiJz_Zcu"
   },
   "outputs": [
    {
     "data": {
      "text/plain": [
       "day\n",
       "Friday       21840\n",
       "Monday       21354\n",
       "Wednesday    18059\n",
       "Name: track, dtype: int64"
      ]
     },
     "execution_count": 20,
     "metadata": {},
     "output_type": "execute_result"
    }
   ],
   "source": [
    "day_grouping = df.groupby('day')['track'].count()\n",
    "day_grouping"
   ]
  },
  {
   "cell_type": "markdown",
   "metadata": {
    "id": "cC2tNrlL_Zcu"
   },
   "source": [
    "В среднем пользователи из двух городов менее активны по средам. Но картина может измениться, если рассмотреть каждый город в отдельности."
   ]
  },
  {
   "cell_type": "markdown",
   "metadata": {
    "id": "POzs8bGa_Zcu"
   },
   "source": [
    "Вы видели, как работает группировка по городу и по дням недели. Теперь напишите функцию, которая объединит два эти расчёта.\n",
    "\n",
    "Создайте функцию `number_tracks()`, которая посчитает прослушивания для заданного дня и города. Ей понадобятся два параметра:\n",
    "* день недели,\n",
    "* название города.\n",
    "\n",
    "В функции сохраните в переменную строки исходной таблицы, у которых значение:\n",
    "  * в колонке `day` равно параметру `day`,\n",
    "  * в колонке `city` равно параметру `city`.\n",
    "\n",
    "Для этого примените последовательную фильтрацию с логической индексацией.\n",
    "\n",
    "Затем посчитайте значения в столбце `user_id` получившейся таблицы. Результат сохраните в новую переменную. Верните эту переменную из функции."
   ]
  },
  {
   "cell_type": "code",
   "execution_count": 21,
   "metadata": {
    "id": "Nz3GdQB1_Zcu"
   },
   "outputs": [],
   "source": [
    "def number_tracks(day, city):\n",
    "    track_list = df[(df['city'] == city)&(df['day'] == day)]\n",
    "    track_list_count = track_list['user_id'].count()\n",
    "    return track_list_count"
   ]
  },
  {
   "cell_type": "markdown",
   "metadata": {
    "id": "ytf7xFrFJQ2r"
   },
   "source": [
    "Вызовите `number_tracks()` шесть раз, меняя значение параметров — так, чтобы получить данные для каждого города в каждый из трёх дней."
   ]
  },
  {
   "cell_type": "code",
   "execution_count": 22,
   "metadata": {
    "id": "rJcRATNQ_Zcu",
    "scrolled": true
   },
   "outputs": [
    {
     "data": {
      "text/plain": [
       "15740"
      ]
     },
     "execution_count": 22,
     "metadata": {},
     "output_type": "execute_result"
    }
   ],
   "source": [
    "number_tracks('Monday', 'Moscow')# количество прослушиваний в Москве по понедельникам"
   ]
  },
  {
   "cell_type": "code",
   "execution_count": 23,
   "metadata": {
    "id": "hq_ncZ5T_Zcu"
   },
   "outputs": [
    {
     "data": {
      "text/plain": [
       "5614"
      ]
     },
     "execution_count": 23,
     "metadata": {},
     "output_type": "execute_result"
    }
   ],
   "source": [
    "number_tracks('Monday', 'Saint-Petersburg')# количество прослушиваний в Санкт-Петербурге по понедельникам"
   ]
  },
  {
   "cell_type": "code",
   "execution_count": 24,
   "metadata": {
    "id": "_NTy2VPU_Zcu"
   },
   "outputs": [
    {
     "data": {
      "text/plain": [
       "11056"
      ]
     },
     "execution_count": 24,
     "metadata": {},
     "output_type": "execute_result"
    }
   ],
   "source": [
    "number_tracks('Wednesday', 'Moscow') #количество прослушиваний в Москве по средам"
   ]
  },
  {
   "cell_type": "code",
   "execution_count": 25,
   "metadata": {
    "id": "j2y3TAwo_Zcu"
   },
   "outputs": [
    {
     "data": {
      "text/plain": [
       "7003"
      ]
     },
     "execution_count": 25,
     "metadata": {},
     "output_type": "execute_result"
    }
   ],
   "source": [
    "number_tracks('Wednesday', 'Saint-Petersburg')# количество прослушиваний в Санкт-Петербурге по средам"
   ]
  },
  {
   "cell_type": "code",
   "execution_count": 26,
   "metadata": {
    "id": "vYDw5u_K_Zcu"
   },
   "outputs": [
    {
     "data": {
      "text/plain": [
       "15945"
      ]
     },
     "execution_count": 26,
     "metadata": {},
     "output_type": "execute_result"
    }
   ],
   "source": [
    "number_tracks('Friday', 'Moscow')# количество прослушиваний в Москве по пятницам"
   ]
  },
  {
   "cell_type": "code",
   "execution_count": 27,
   "metadata": {
    "id": "8_yzFtW3_Zcu"
   },
   "outputs": [
    {
     "data": {
      "text/plain": [
       "5895"
      ]
     },
     "execution_count": 27,
     "metadata": {},
     "output_type": "execute_result"
    }
   ],
   "source": [
    "number_tracks('Friday', 'Saint-Petersburg')# количество прослушиваний в Санкт-Петербурге по пятницам"
   ]
  },
  {
   "cell_type": "markdown",
   "metadata": {
    "id": "7QXffbO-_Zcu"
   },
   "source": [
    "Создайте c помощью конструктора `pd.DataFrame` таблицу, где\n",
    "* названия колонок — `['city', 'monday', 'wednesday', 'friday']`;\n",
    "* данные — результаты, которые вы получили с помощью `number_tracks`."
   ]
  },
  {
   "cell_type": "code",
   "execution_count": 28,
   "metadata": {
    "id": "APAcLpOr_Zcu"
   },
   "outputs": [
    {
     "data": {
      "text/html": [
       "<div>\n",
       "<style scoped>\n",
       "    .dataframe tbody tr th:only-of-type {\n",
       "        vertical-align: middle;\n",
       "    }\n",
       "\n",
       "    .dataframe tbody tr th {\n",
       "        vertical-align: top;\n",
       "    }\n",
       "\n",
       "    .dataframe thead th {\n",
       "        text-align: right;\n",
       "    }\n",
       "</style>\n",
       "<table border=\"1\" class=\"dataframe\">\n",
       "  <thead>\n",
       "    <tr style=\"text-align: right;\">\n",
       "      <th></th>\n",
       "      <th>city</th>\n",
       "      <th>monday</th>\n",
       "      <th>wednesday</th>\n",
       "      <th>friday</th>\n",
       "    </tr>\n",
       "  </thead>\n",
       "  <tbody>\n",
       "    <tr>\n",
       "      <th>0</th>\n",
       "      <td>Moscow</td>\n",
       "      <td>15740</td>\n",
       "      <td>11056</td>\n",
       "      <td>15945</td>\n",
       "    </tr>\n",
       "    <tr>\n",
       "      <th>1</th>\n",
       "      <td>Saint-Petersburg</td>\n",
       "      <td>5614</td>\n",
       "      <td>7003</td>\n",
       "      <td>5895</td>\n",
       "    </tr>\n",
       "  </tbody>\n",
       "</table>\n",
       "</div>"
      ],
      "text/plain": [
       "               city  monday  wednesday  friday\n",
       "0            Moscow   15740      11056   15945\n",
       "1  Saint-Petersburg    5614       7003    5895"
      ]
     },
     "execution_count": 28,
     "metadata": {},
     "output_type": "execute_result"
    }
   ],
   "source": [
    "columns = ['city', 'monday', 'wednesday', 'friday']\n",
    "data = [['Moscow', 15740, 11056, 15945], ['Saint-Petersburg', 5614, 7003, 5895]]\n",
    "music_per_day = pd.DataFrame(columns = columns, data = data)\n",
    "music_per_day"
   ]
  },
  {
   "cell_type": "markdown",
   "metadata": {
    "id": "-EgPIHYu_Zcu"
   },
   "source": [
    "**Выводы**\n",
    "\n",
    "Данные показывают разницу поведения пользователей:\n",
    "\n",
    "- В Москве пик прослушиваний приходится на понедельник и пятницу, а в среду заметен спад.\n",
    "- В Петербурге, наоборот, больше слушают музыку по средам. Активность в понедельник и пятницу здесь почти в равной мере уступает среде.\n",
    "\n",
    "Значит, данные говорят в пользу первой гипотезы."
   ]
  },
  {
   "cell_type": "markdown",
   "metadata": {
    "id": "atZAxtq4_Zcu"
   },
   "source": [
    "### Музыка в начале и в конце недели"
   ]
  },
  {
   "cell_type": "markdown",
   "metadata": {
    "id": "eXrQqXFH_Zcu"
   },
   "source": [
    "Согласно второй гипотезе, утром в понедельник в Москве преобладают одни жанры, а в Петербурге — другие. Так же и вечером пятницы преобладают разные жанры — в зависимости от города."
   ]
  },
  {
   "cell_type": "markdown",
   "metadata": {
    "id": "S8UcW6Hw_Zcu"
   },
   "source": [
    "Сохраните таблицы с данными в две переменные:\n",
    "* по Москве — в `moscow_general`;\n",
    "* по Санкт-Петербургу — в `spb_general`."
   ]
  },
  {
   "cell_type": "code",
   "execution_count": 29,
   "metadata": {
    "id": "qeaFfM_P_Zcu"
   },
   "outputs": [
    {
     "data": {
      "text/html": [
       "<div>\n",
       "<style scoped>\n",
       "    .dataframe tbody tr th:only-of-type {\n",
       "        vertical-align: middle;\n",
       "    }\n",
       "\n",
       "    .dataframe tbody tr th {\n",
       "        vertical-align: top;\n",
       "    }\n",
       "\n",
       "    .dataframe thead th {\n",
       "        text-align: right;\n",
       "    }\n",
       "</style>\n",
       "<table border=\"1\" class=\"dataframe\">\n",
       "  <thead>\n",
       "    <tr style=\"text-align: right;\">\n",
       "      <th></th>\n",
       "      <th>user_id</th>\n",
       "      <th>track</th>\n",
       "      <th>artist</th>\n",
       "      <th>genre</th>\n",
       "      <th>city</th>\n",
       "      <th>time</th>\n",
       "      <th>day</th>\n",
       "    </tr>\n",
       "  </thead>\n",
       "  <tbody>\n",
       "    <tr>\n",
       "      <th>1</th>\n",
       "      <td>55204538</td>\n",
       "      <td>Delayed Because of Accident</td>\n",
       "      <td>Andreas Rönnberg</td>\n",
       "      <td>rock</td>\n",
       "      <td>Moscow</td>\n",
       "      <td>14:07:09</td>\n",
       "      <td>Friday</td>\n",
       "    </tr>\n",
       "    <tr>\n",
       "      <th>4</th>\n",
       "      <td>E2DC1FAE</td>\n",
       "      <td>Soul People</td>\n",
       "      <td>Space Echo</td>\n",
       "      <td>dance</td>\n",
       "      <td>Moscow</td>\n",
       "      <td>08:34:34</td>\n",
       "      <td>Monday</td>\n",
       "    </tr>\n",
       "    <tr>\n",
       "      <th>6</th>\n",
       "      <td>4CB90AA5</td>\n",
       "      <td>True</td>\n",
       "      <td>Roman Messer</td>\n",
       "      <td>dance</td>\n",
       "      <td>Moscow</td>\n",
       "      <td>13:00:07</td>\n",
       "      <td>Wednesday</td>\n",
       "    </tr>\n",
       "    <tr>\n",
       "      <th>7</th>\n",
       "      <td>F03E1C1F</td>\n",
       "      <td>Feeling This Way</td>\n",
       "      <td>Polina Griffith</td>\n",
       "      <td>dance</td>\n",
       "      <td>Moscow</td>\n",
       "      <td>20:47:49</td>\n",
       "      <td>Wednesday</td>\n",
       "    </tr>\n",
       "    <tr>\n",
       "      <th>8</th>\n",
       "      <td>8FA1D3BE</td>\n",
       "      <td>И вновь продолжается бой</td>\n",
       "      <td>unknown</td>\n",
       "      <td>ruspop</td>\n",
       "      <td>Moscow</td>\n",
       "      <td>09:17:40</td>\n",
       "      <td>Friday</td>\n",
       "    </tr>\n",
       "    <tr>\n",
       "      <th>...</th>\n",
       "      <td>...</td>\n",
       "      <td>...</td>\n",
       "      <td>...</td>\n",
       "      <td>...</td>\n",
       "      <td>...</td>\n",
       "      <td>...</td>\n",
       "      <td>...</td>\n",
       "    </tr>\n",
       "    <tr>\n",
       "      <th>61247</th>\n",
       "      <td>83A474E7</td>\n",
       "      <td>I Worship Only What You Bleed</td>\n",
       "      <td>The Black Dahlia Murder</td>\n",
       "      <td>extrememetal</td>\n",
       "      <td>Moscow</td>\n",
       "      <td>21:07:12</td>\n",
       "      <td>Monday</td>\n",
       "    </tr>\n",
       "    <tr>\n",
       "      <th>61248</th>\n",
       "      <td>729CBB09</td>\n",
       "      <td>My Name</td>\n",
       "      <td>McLean</td>\n",
       "      <td>rnb</td>\n",
       "      <td>Moscow</td>\n",
       "      <td>13:32:28</td>\n",
       "      <td>Wednesday</td>\n",
       "    </tr>\n",
       "    <tr>\n",
       "      <th>61250</th>\n",
       "      <td>C5E3A0D5</td>\n",
       "      <td>Jalopiina</td>\n",
       "      <td>unknown</td>\n",
       "      <td>industrial</td>\n",
       "      <td>Moscow</td>\n",
       "      <td>20:09:26</td>\n",
       "      <td>Friday</td>\n",
       "    </tr>\n",
       "    <tr>\n",
       "      <th>61251</th>\n",
       "      <td>321D0506</td>\n",
       "      <td>Freight Train</td>\n",
       "      <td>Chas McDevitt</td>\n",
       "      <td>rock</td>\n",
       "      <td>Moscow</td>\n",
       "      <td>21:43:59</td>\n",
       "      <td>Friday</td>\n",
       "    </tr>\n",
       "    <tr>\n",
       "      <th>61252</th>\n",
       "      <td>3A64EF84</td>\n",
       "      <td>Tell Me Sweet Little Lies</td>\n",
       "      <td>Monica Lopez</td>\n",
       "      <td>country</td>\n",
       "      <td>Moscow</td>\n",
       "      <td>21:59:46</td>\n",
       "      <td>Friday</td>\n",
       "    </tr>\n",
       "  </tbody>\n",
       "</table>\n",
       "<p>42741 rows × 7 columns</p>\n",
       "</div>"
      ],
      "text/plain": [
       "        user_id                          track                   artist  \\\n",
       "1      55204538    Delayed Because of Accident         Andreas Rönnberg   \n",
       "4      E2DC1FAE                    Soul People               Space Echo   \n",
       "6      4CB90AA5                           True             Roman Messer   \n",
       "7      F03E1C1F               Feeling This Way          Polina Griffith   \n",
       "8      8FA1D3BE       И вновь продолжается бой                  unknown   \n",
       "...         ...                            ...                      ...   \n",
       "61247  83A474E7  I Worship Only What You Bleed  The Black Dahlia Murder   \n",
       "61248  729CBB09                        My Name                   McLean   \n",
       "61250  C5E3A0D5                      Jalopiina                  unknown   \n",
       "61251  321D0506                  Freight Train            Chas McDevitt   \n",
       "61252  3A64EF84      Tell Me Sweet Little Lies             Monica Lopez   \n",
       "\n",
       "              genre    city      time        day  \n",
       "1              rock  Moscow  14:07:09     Friday  \n",
       "4             dance  Moscow  08:34:34     Monday  \n",
       "6             dance  Moscow  13:00:07  Wednesday  \n",
       "7             dance  Moscow  20:47:49  Wednesday  \n",
       "8            ruspop  Moscow  09:17:40     Friday  \n",
       "...             ...     ...       ...        ...  \n",
       "61247  extrememetal  Moscow  21:07:12     Monday  \n",
       "61248           rnb  Moscow  13:32:28  Wednesday  \n",
       "61250    industrial  Moscow  20:09:26     Friday  \n",
       "61251          rock  Moscow  21:43:59     Friday  \n",
       "61252       country  Moscow  21:59:46     Friday  \n",
       "\n",
       "[42741 rows x 7 columns]"
      ]
     },
     "execution_count": 29,
     "metadata": {},
     "output_type": "execute_result"
    }
   ],
   "source": [
    "moscow_general = df[df['city'] == 'Moscow']\n",
    "moscow_general"
   ]
  },
  {
   "cell_type": "code",
   "execution_count": 30,
   "metadata": {
    "id": "ORaVRKto_Zcu"
   },
   "outputs": [
    {
     "data": {
      "text/html": [
       "<div>\n",
       "<style scoped>\n",
       "    .dataframe tbody tr th:only-of-type {\n",
       "        vertical-align: middle;\n",
       "    }\n",
       "\n",
       "    .dataframe tbody tr th {\n",
       "        vertical-align: top;\n",
       "    }\n",
       "\n",
       "    .dataframe thead th {\n",
       "        text-align: right;\n",
       "    }\n",
       "</style>\n",
       "<table border=\"1\" class=\"dataframe\">\n",
       "  <thead>\n",
       "    <tr style=\"text-align: right;\">\n",
       "      <th></th>\n",
       "      <th>user_id</th>\n",
       "      <th>track</th>\n",
       "      <th>artist</th>\n",
       "      <th>genre</th>\n",
       "      <th>city</th>\n",
       "      <th>time</th>\n",
       "      <th>day</th>\n",
       "    </tr>\n",
       "  </thead>\n",
       "  <tbody>\n",
       "    <tr>\n",
       "      <th>0</th>\n",
       "      <td>FFB692EC</td>\n",
       "      <td>Kamigata To Boots</td>\n",
       "      <td>The Mass Missile</td>\n",
       "      <td>rock</td>\n",
       "      <td>Saint-Petersburg</td>\n",
       "      <td>20:28:33</td>\n",
       "      <td>Wednesday</td>\n",
       "    </tr>\n",
       "    <tr>\n",
       "      <th>2</th>\n",
       "      <td>20EC38</td>\n",
       "      <td>Funiculì funiculà</td>\n",
       "      <td>Mario Lanza</td>\n",
       "      <td>pop</td>\n",
       "      <td>Saint-Petersburg</td>\n",
       "      <td>20:58:07</td>\n",
       "      <td>Wednesday</td>\n",
       "    </tr>\n",
       "    <tr>\n",
       "      <th>3</th>\n",
       "      <td>A3DD03C9</td>\n",
       "      <td>Dragons in the Sunset</td>\n",
       "      <td>Fire + Ice</td>\n",
       "      <td>folk</td>\n",
       "      <td>Saint-Petersburg</td>\n",
       "      <td>08:37:09</td>\n",
       "      <td>Monday</td>\n",
       "    </tr>\n",
       "    <tr>\n",
       "      <th>5</th>\n",
       "      <td>842029A1</td>\n",
       "      <td>Преданная</td>\n",
       "      <td>IMPERVTOR</td>\n",
       "      <td>rusrap</td>\n",
       "      <td>Saint-Petersburg</td>\n",
       "      <td>13:09:41</td>\n",
       "      <td>Friday</td>\n",
       "    </tr>\n",
       "    <tr>\n",
       "      <th>9</th>\n",
       "      <td>E772D5C0</td>\n",
       "      <td>Pessimist</td>\n",
       "      <td>unknown</td>\n",
       "      <td>dance</td>\n",
       "      <td>Saint-Petersburg</td>\n",
       "      <td>21:20:49</td>\n",
       "      <td>Wednesday</td>\n",
       "    </tr>\n",
       "    <tr>\n",
       "      <th>...</th>\n",
       "      <td>...</td>\n",
       "      <td>...</td>\n",
       "      <td>...</td>\n",
       "      <td>...</td>\n",
       "      <td>...</td>\n",
       "      <td>...</td>\n",
       "      <td>...</td>\n",
       "    </tr>\n",
       "    <tr>\n",
       "      <th>61239</th>\n",
       "      <td>D94F810B</td>\n",
       "      <td>Theme from the Walking Dead</td>\n",
       "      <td>Proyecto Halloween</td>\n",
       "      <td>film</td>\n",
       "      <td>Saint-Petersburg</td>\n",
       "      <td>21:14:40</td>\n",
       "      <td>Monday</td>\n",
       "    </tr>\n",
       "    <tr>\n",
       "      <th>61240</th>\n",
       "      <td>BC8EC5CF</td>\n",
       "      <td>Red Lips: Gta (Rover Rework)</td>\n",
       "      <td>Rover</td>\n",
       "      <td>electronic</td>\n",
       "      <td>Saint-Petersburg</td>\n",
       "      <td>21:06:50</td>\n",
       "      <td>Monday</td>\n",
       "    </tr>\n",
       "    <tr>\n",
       "      <th>61241</th>\n",
       "      <td>29E04611</td>\n",
       "      <td>Bre Petrunko</td>\n",
       "      <td>Perunika Trio</td>\n",
       "      <td>world</td>\n",
       "      <td>Saint-Petersburg</td>\n",
       "      <td>13:56:00</td>\n",
       "      <td>Monday</td>\n",
       "    </tr>\n",
       "    <tr>\n",
       "      <th>61242</th>\n",
       "      <td>1B91C621</td>\n",
       "      <td>(Hello) Cloud Mountain</td>\n",
       "      <td>sleepmakeswaves</td>\n",
       "      <td>postrock</td>\n",
       "      <td>Saint-Petersburg</td>\n",
       "      <td>09:22:13</td>\n",
       "      <td>Monday</td>\n",
       "    </tr>\n",
       "    <tr>\n",
       "      <th>61249</th>\n",
       "      <td>D08D4A55</td>\n",
       "      <td>Maybe One Day (feat. Black Spade)</td>\n",
       "      <td>Blu &amp; Exile</td>\n",
       "      <td>hiphop</td>\n",
       "      <td>Saint-Petersburg</td>\n",
       "      <td>10:00:00</td>\n",
       "      <td>Monday</td>\n",
       "    </tr>\n",
       "  </tbody>\n",
       "</table>\n",
       "<p>18512 rows × 7 columns</p>\n",
       "</div>"
      ],
      "text/plain": [
       "        user_id                              track              artist  \\\n",
       "0      FFB692EC                  Kamigata To Boots    The Mass Missile   \n",
       "2        20EC38                  Funiculì funiculà         Mario Lanza   \n",
       "3      A3DD03C9              Dragons in the Sunset          Fire + Ice   \n",
       "5      842029A1                          Преданная           IMPERVTOR   \n",
       "9      E772D5C0                          Pessimist             unknown   \n",
       "...         ...                                ...                 ...   \n",
       "61239  D94F810B        Theme from the Walking Dead  Proyecto Halloween   \n",
       "61240  BC8EC5CF       Red Lips: Gta (Rover Rework)               Rover   \n",
       "61241  29E04611                       Bre Petrunko       Perunika Trio   \n",
       "61242  1B91C621             (Hello) Cloud Mountain     sleepmakeswaves   \n",
       "61249  D08D4A55  Maybe One Day (feat. Black Spade)         Blu & Exile   \n",
       "\n",
       "            genre              city      time        day  \n",
       "0            rock  Saint-Petersburg  20:28:33  Wednesday  \n",
       "2             pop  Saint-Petersburg  20:58:07  Wednesday  \n",
       "3            folk  Saint-Petersburg  08:37:09     Monday  \n",
       "5          rusrap  Saint-Petersburg  13:09:41     Friday  \n",
       "9           dance  Saint-Petersburg  21:20:49  Wednesday  \n",
       "...           ...               ...       ...        ...  \n",
       "61239        film  Saint-Petersburg  21:14:40     Monday  \n",
       "61240  electronic  Saint-Petersburg  21:06:50     Monday  \n",
       "61241       world  Saint-Petersburg  13:56:00     Monday  \n",
       "61242    postrock  Saint-Petersburg  09:22:13     Monday  \n",
       "61249      hiphop  Saint-Petersburg  10:00:00     Monday  \n",
       "\n",
       "[18512 rows x 7 columns]"
      ]
     },
     "execution_count": 30,
     "metadata": {},
     "output_type": "execute_result"
    }
   ],
   "source": [
    "spb_general = df[df['city'] == 'Saint-Petersburg']\n",
    "spb_general"
   ]
  },
  {
   "cell_type": "markdown",
   "metadata": {
    "id": "MEJV-CX2_Zcu"
   },
   "source": [
    "Создайте функцию `genre_weekday()` с четырьмя параметрами:\n",
    "* таблица (датафрейм) с данными,\n",
    "* день недели,\n",
    "* начальная временная метка в формате 'hh:mm', \n",
    "* последняя временная метка в формате 'hh:mm'.\n",
    "\n",
    "Функция должна вернуть информацию о топ-10 жанров тех треков, которые прослушивали в указанный день, в промежутке между двумя отметками времени."
   ]
  },
  {
   "cell_type": "code",
   "execution_count": 31,
   "metadata": {
    "id": "laJT9BYl_Zcu"
   },
   "outputs": [],
   "source": [
    "def genre_weekday (table, day, time1, time2):\n",
    "    genre_df = table[(table['day'] == day) & (table['time'] > time1) & (table['time'] < time2)]\n",
    "    genre_df_count = genre_df.groupby('genre')['user_id'].count()\n",
    "    genre_df_sorted = genre_df_count.sort_values(ascending = False)\n",
    "    return genre_df_sorted.head(10)"
   ]
  },
  {
   "cell_type": "markdown",
   "metadata": {
    "id": "la2s2_PF_Zcu"
   },
   "source": [
    "Cравните результаты функции `genre_weekday()` для Москвы и Санкт-Петербурга в понедельник утром (с 7:00 до 11:00) и в пятницу вечером (с 17:00 до 23:00):"
   ]
  },
  {
   "cell_type": "code",
   "execution_count": 32,
   "metadata": {
    "id": "yz7itPUQ_Zcu"
   },
   "outputs": [
    {
     "data": {
      "text/plain": [
       "genre\n",
       "pop            781\n",
       "dance          549\n",
       "electronic     480\n",
       "rock           474\n",
       "hiphop         286\n",
       "ruspop         186\n",
       "world          181\n",
       "rusrap         175\n",
       "alternative    164\n",
       "unknown        161\n",
       "Name: user_id, dtype: int64"
      ]
     },
     "execution_count": 32,
     "metadata": {},
     "output_type": "execute_result"
    }
   ],
   "source": [
    "genre_weekday(moscow_general, 'Monday', '07:00', '11:00')# вызов функции для утра понедельника в Москве (вместо df — таблица moscow_general)"
   ]
  },
  {
   "cell_type": "code",
   "execution_count": 33,
   "metadata": {
    "id": "kwUcHPdy_Zcu"
   },
   "outputs": [
    {
     "data": {
      "text/plain": [
       "genre\n",
       "pop            218\n",
       "dance          182\n",
       "rock           162\n",
       "electronic     147\n",
       "hiphop          80\n",
       "ruspop          64\n",
       "alternative     58\n",
       "rusrap          55\n",
       "jazz            44\n",
       "classical       40\n",
       "Name: user_id, dtype: int64"
      ]
     },
     "execution_count": 33,
     "metadata": {},
     "output_type": "execute_result"
    }
   ],
   "source": [
    "genre_weekday(spb_general, 'Monday', '07:00', '11:00')# вызов функции для утра понедельника в Петербурге (вместо df — таблица spb_general)"
   ]
  },
  {
   "cell_type": "code",
   "execution_count": 34,
   "metadata": {
    "id": "EzXVRE1o_Zcu"
   },
   "outputs": [
    {
     "data": {
      "text/plain": [
       "genre\n",
       "pop            713\n",
       "rock           517\n",
       "dance          495\n",
       "electronic     482\n",
       "hiphop         273\n",
       "world          208\n",
       "ruspop         170\n",
       "alternative    163\n",
       "classical      163\n",
       "rusrap         142\n",
       "Name: user_id, dtype: int64"
      ]
     },
     "execution_count": 34,
     "metadata": {},
     "output_type": "execute_result"
    }
   ],
   "source": [
    "genre_weekday(moscow_general, 'Friday', '17:00', '23:00')# вызов функции для вечера пятницы в Москве"
   ]
  },
  {
   "cell_type": "code",
   "execution_count": 35,
   "metadata": {
    "id": "JZaEKu5v_Zcu"
   },
   "outputs": [
    {
     "data": {
      "text/plain": [
       "genre\n",
       "pop            256\n",
       "electronic     216\n",
       "rock           216\n",
       "dance          210\n",
       "hiphop          97\n",
       "alternative     63\n",
       "jazz            61\n",
       "classical       60\n",
       "rusrap          59\n",
       "world           54\n",
       "Name: user_id, dtype: int64"
      ]
     },
     "execution_count": 35,
     "metadata": {},
     "output_type": "execute_result"
    }
   ],
   "source": [
    "genre_weekday(spb_general, 'Friday', '17:00', '23:00')# вызов функции для вечера пятницы в Петербурге"
   ]
  },
  {
   "cell_type": "markdown",
   "metadata": {
    "id": "wrCe4MNX_Zcu"
   },
   "source": [
    "**Выводы**\n",
    "\n",
    "Если сравнить топ-10 жанров в понедельник утром, можно сделать такие выводы:\n",
    "\n",
    "1. В Москве и Петербурге слушают похожую музыку. Единственное отличие — в московский рейтинг вошёл жанр “world”, а в петербургский — джаз и классика.\n",
    "\n",
    "2. В Москве пропущенных значений оказалось так много, что значение `'unknown'` заняло десятое место среди самых популярных жанров. Значит, пропущенные значения занимают существенную долю в данных и угрожают достоверности исследования.\n",
    "\n",
    "Вечер пятницы не меняет эту картину. Некоторые жанры поднимаются немного выше, другие спускаются, но в целом топ-10 остаётся тем же самым.\n",
    "\n",
    "Таким образом, вторая гипотеза подтвердилась лишь частично:\n",
    "* Пользователи слушают похожую музыку в начале недели и в конце.\n",
    "* Разница между Москвой и Петербургом не слишком выражена. В Москве чаще слушают русскую популярную музыку, в Петербурге — джаз.\n",
    "\n",
    "Однако пропуски в данных ставят под сомнение этот результат. В Москве их так много, что рейтинг топ-10 мог бы выглядеть иначе, если бы не утерянные  данные о жанрах."
   ]
  },
  {
   "cell_type": "markdown",
   "metadata": {
    "id": "JolODAqr_Zcu"
   },
   "source": [
    "### Жанровые предпочтения в Москве и Петербурге\n",
    "\n",
    "Гипотеза: Петербург — столица рэпа, музыку этого жанра там слушают чаще, чем в Москве.  А Москва — город контрастов, в котором, тем не менее, преобладает поп-музыка."
   ]
  },
  {
   "cell_type": "markdown",
   "metadata": {
    "id": "DlegSvaT_Zcu"
   },
   "source": [
    "Сгруппируйте таблицу `moscow_general` по жанру и посчитайте прослушивания треков каждого жанра методом `count()`. Затем отсортируйте результат в порядке убывания и сохраните его в таблице `moscow_genres`."
   ]
  },
  {
   "cell_type": "code",
   "execution_count": 36,
   "metadata": {
    "id": "r19lIPke_Zcu"
   },
   "outputs": [],
   "source": [
    "moscow_genres = moscow_general.groupby('genre')['user_id'].count().sort_values(ascending = False) "
   ]
  },
  {
   "cell_type": "markdown",
   "metadata": {
    "id": "6kMuomxTiIr8"
   },
   "source": [
    "Выведите на экран первые десять строк `moscow_genres`:"
   ]
  },
  {
   "cell_type": "code",
   "execution_count": 37,
   "metadata": {
    "id": "WhCSooF8_Zcv"
   },
   "outputs": [
    {
     "data": {
      "text/plain": [
       "genre\n",
       "pop            5892\n",
       "dance          4435\n",
       "rock           3965\n",
       "electronic     3786\n",
       "hiphop         2096\n",
       "classical      1616\n",
       "world          1432\n",
       "alternative    1379\n",
       "ruspop         1372\n",
       "rusrap         1161\n",
       "Name: user_id, dtype: int64"
      ]
     },
     "execution_count": 37,
     "metadata": {},
     "output_type": "execute_result"
    }
   ],
   "source": [
    "moscow_genres.head(10)"
   ]
  },
  {
   "cell_type": "markdown",
   "metadata": {
    "id": "cnPG2vnN_Zcv"
   },
   "source": [
    "Теперь повторите то же и для Петербурга.\n",
    "\n",
    "Сгруппируйте таблицу `spb_general` по жанру. Посчитайте прослушивания треков каждого жанра. Результат отсортируйте в порядке убывания и сохраните в таблице `spb_genres`:\n"
   ]
  },
  {
   "cell_type": "code",
   "execution_count": 38,
   "metadata": {
    "id": "gluLIpE7_Zcv"
   },
   "outputs": [],
   "source": [
    "spb_genres = spb_general.groupby('genre')['user_id'].count().sort_values(ascending = False)"
   ]
  },
  {
   "cell_type": "markdown",
   "metadata": {
    "id": "5Doha_ODgyQ8"
   },
   "source": [
    "Выведите на экран первые десять строк `spb_genres`:"
   ]
  },
  {
   "cell_type": "code",
   "execution_count": 39,
   "metadata": {
    "id": "uaGJHjVU_Zcv"
   },
   "outputs": [
    {
     "data": {
      "text/plain": [
       "genre\n",
       "pop            2431\n",
       "dance          1932\n",
       "rock           1879\n",
       "electronic     1736\n",
       "hiphop          960\n",
       "alternative     649\n",
       "classical       646\n",
       "rusrap          564\n",
       "ruspop          538\n",
       "world           515\n",
       "Name: user_id, dtype: int64"
      ]
     },
     "execution_count": 39,
     "metadata": {},
     "output_type": "execute_result"
    }
   ],
   "source": [
    "spb_genres.head(10)"
   ]
  },
  {
   "cell_type": "markdown",
   "metadata": {
    "id": "RY51YJYu_Zcv"
   },
   "source": [
    "**Выводы**"
   ]
  },
  {
   "cell_type": "markdown",
   "metadata": {
    "id": "nVhnJEm__Zcv"
   },
   "source": [
    "Гипотеза частично подтвердилась:\n",
    "* Поп-музыка — самый популярный жанр в Москве, как и предполагала гипотеза. Более того, в топ-10 жанров встречается близкий жанр — русская популярная музыка.\n",
    "* Вопреки ожиданиям, рэп одинаково популярен в Москве и Петербурге. \n"
   ]
  },
  {
   "cell_type": "markdown",
   "metadata": {
    "id": "ykKQ0N65_Zcv"
   },
   "source": [
    "## Итоги исследования"
   ]
  },
  {
   "cell_type": "markdown",
   "metadata": {
    "id": "tjUwbHb3_Zcv"
   },
   "source": [
    "Вы проверили три гипотезы и установили:\n",
    "\n",
    "1. День недели по-разному влияет на активность пользователей в Москве и Петербурге. \n",
    "\n",
    "Первая гипотеза полностью подтвердилась.\n",
    "\n",
    "2. Музыкальные предпочтения не сильно меняются в течение недели — будь то Москва или Петербург. Небольшие различия заметны в начале недели, по понедельникам:\n",
    "* в Москве слушают музыку жанра “world”,\n",
    "* в Петербурге — джаз и классику.\n",
    "\n",
    "Таким образом, вторая гипотеза подтвердилась лишь отчасти. Этот результат мог оказаться иным, если бы не пропуски в данных.\n",
    "\n",
    "3. Во вкусах пользователей Москвы и Петербурга больше общего чем различий. Вопреки ожиданиям, предпочтения жанров в Петербурге напоминают московские.\n",
    "\n",
    "Третья гипотеза не подтвердилась. Если различия в предпочтениях и существуют, на основной массе пользователей они незаметны.\n",
    "\n",
    "**На практике исследования содержат проверки статистических гипотез.**\n",
    "Из данных одного сервиса не всегда можно сделать вывод о всех жителях города.\n",
    "Проверки статистических гипотез покажут, насколько они достоверны, исходя из имеющихся данных. \n",
    "С методами проверок гипотез вы ещё познакомитесь в следующих темах."
   ]
  }
 ],
 "metadata": {
  "ExecuteTimeLog": [
   {
    "duration": 4,
    "start_time": "2022-07-03T07:30:32.780Z"
   },
   {
    "duration": 84,
    "start_time": "2022-07-03T07:34:15.494Z"
   },
   {
    "duration": 41,
    "start_time": "2022-07-03T07:34:31.837Z"
   },
   {
    "duration": 11,
    "start_time": "2022-07-03T07:36:20.599Z"
   },
   {
    "duration": 60,
    "start_time": "2022-07-03T07:36:23.594Z"
   },
   {
    "duration": 8,
    "start_time": "2022-07-03T07:36:44.141Z"
   },
   {
    "duration": 88,
    "start_time": "2022-07-03T07:43:38.055Z"
   },
   {
    "duration": 6,
    "start_time": "2022-07-03T07:44:04.553Z"
   },
   {
    "duration": 429,
    "start_time": "2022-07-03T07:44:28.235Z"
   },
   {
    "duration": 210,
    "start_time": "2022-07-03T07:44:31.912Z"
   },
   {
    "duration": 310,
    "start_time": "2022-07-03T07:44:35.351Z"
   },
   {
    "duration": 65,
    "start_time": "2022-07-03T07:44:53.490Z"
   },
   {
    "duration": 54,
    "start_time": "2022-07-03T07:44:57.143Z"
   },
   {
    "duration": 15,
    "start_time": "2022-07-03T07:47:16.527Z"
   },
   {
    "duration": 38,
    "start_time": "2022-07-03T07:47:22.712Z"
   },
   {
    "duration": 3,
    "start_time": "2022-07-03T07:48:45.898Z"
   },
   {
    "duration": 49,
    "start_time": "2022-07-03T07:52:53.690Z"
   },
   {
    "duration": 25,
    "start_time": "2022-07-03T07:52:59.419Z"
   },
   {
    "duration": 7,
    "start_time": "2022-07-03T07:53:20.594Z"
   },
   {
    "duration": 26,
    "start_time": "2022-07-03T07:53:22.825Z"
   },
   {
    "duration": 4,
    "start_time": "2022-07-03T07:53:56.319Z"
   },
   {
    "duration": 4,
    "start_time": "2022-07-03T07:54:05.502Z"
   },
   {
    "duration": 27,
    "start_time": "2022-07-03T08:10:53.286Z"
   },
   {
    "duration": 28,
    "start_time": "2022-07-03T08:11:07.061Z"
   },
   {
    "duration": 31,
    "start_time": "2022-07-03T08:11:13.890Z"
   },
   {
    "duration": 41,
    "start_time": "2022-07-03T08:11:37.637Z"
   },
   {
    "duration": 43,
    "start_time": "2022-07-03T08:12:16.322Z"
   },
   {
    "duration": 46,
    "start_time": "2022-07-03T08:12:22.603Z"
   },
   {
    "duration": 50,
    "start_time": "2022-07-03T08:16:28.015Z"
   },
   {
    "duration": 12,
    "start_time": "2022-07-03T08:16:34.915Z"
   },
   {
    "duration": 2454,
    "start_time": "2022-07-03T08:16:43.815Z"
   },
   {
    "duration": 33,
    "start_time": "2022-07-03T08:16:46.414Z"
   },
   {
    "duration": 48,
    "start_time": "2022-07-03T08:16:50.855Z"
   },
   {
    "duration": 4,
    "start_time": "2022-07-03T08:17:38.374Z"
   },
   {
    "duration": 28,
    "start_time": "2022-07-03T08:17:56.521Z"
   },
   {
    "duration": 17,
    "start_time": "2022-07-03T08:18:56.019Z"
   },
   {
    "duration": 4,
    "start_time": "2022-07-03T08:18:58.703Z"
   },
   {
    "duration": 52,
    "start_time": "2022-07-03T08:19:01.743Z"
   },
   {
    "duration": 21,
    "start_time": "2022-07-03T08:19:04.364Z"
   },
   {
    "duration": 47,
    "start_time": "2022-07-03T08:19:06.718Z"
   },
   {
    "duration": 7,
    "start_time": "2022-07-03T08:20:23.912Z"
   },
   {
    "duration": 94,
    "start_time": "2022-07-03T08:20:35.398Z"
   },
   {
    "duration": 82,
    "start_time": "2022-07-03T08:22:24.290Z"
   },
   {
    "duration": 60,
    "start_time": "2022-07-03T08:22:33.916Z"
   },
   {
    "duration": 13,
    "start_time": "2022-07-03T08:24:26.194Z"
   },
   {
    "duration": 10,
    "start_time": "2022-07-03T08:32:19.683Z"
   },
   {
    "duration": 3,
    "start_time": "2022-07-03T08:32:27.787Z"
   },
   {
    "duration": 34,
    "start_time": "2022-07-03T08:32:31.549Z"
   },
   {
    "duration": 7,
    "start_time": "2022-07-03T08:32:35.811Z"
   },
   {
    "duration": 31,
    "start_time": "2022-07-03T08:44:12.060Z"
   },
   {
    "duration": 22,
    "start_time": "2022-07-03T08:46:50.000Z"
   },
   {
    "duration": 298,
    "start_time": "2022-07-03T08:47:04.049Z"
   },
   {
    "duration": 27,
    "start_time": "2022-07-03T08:47:10.220Z"
   },
   {
    "duration": 45,
    "start_time": "2022-07-03T08:47:51.485Z"
   },
   {
    "duration": 35,
    "start_time": "2022-07-03T08:48:02.540Z"
   },
   {
    "duration": 48,
    "start_time": "2022-07-03T08:48:15.500Z"
   },
   {
    "duration": 34,
    "start_time": "2022-07-03T08:48:50.242Z"
   },
   {
    "duration": 74,
    "start_time": "2022-07-03T08:49:41.296Z"
   },
   {
    "duration": 26,
    "start_time": "2022-07-03T08:49:54.411Z"
   },
   {
    "duration": 34,
    "start_time": "2022-07-03T08:53:39.796Z"
   },
   {
    "duration": 47,
    "start_time": "2022-07-03T08:53:58.741Z"
   },
   {
    "duration": 43,
    "start_time": "2022-07-03T08:54:06.000Z"
   },
   {
    "duration": 26,
    "start_time": "2022-07-03T08:54:42.140Z"
   },
   {
    "duration": 63,
    "start_time": "2022-07-03T08:55:40.879Z"
   },
   {
    "duration": 47,
    "start_time": "2022-07-03T08:55:51.772Z"
   },
   {
    "duration": 54,
    "start_time": "2022-07-03T08:57:15.913Z"
   },
   {
    "duration": 91,
    "start_time": "2022-07-03T09:22:32.581Z"
   },
   {
    "duration": 24,
    "start_time": "2022-07-03T09:22:38.687Z"
   },
   {
    "duration": 24,
    "start_time": "2022-07-03T09:22:44.857Z"
   },
   {
    "duration": 59,
    "start_time": "2022-07-03T09:23:10.305Z"
   },
   {
    "duration": 25,
    "start_time": "2022-07-03T09:24:41.286Z"
   },
   {
    "duration": 46,
    "start_time": "2022-07-03T09:24:45.357Z"
   },
   {
    "duration": 30,
    "start_time": "2022-07-03T09:25:50.698Z"
   },
   {
    "duration": 37,
    "start_time": "2022-07-03T09:25:54.757Z"
   },
   {
    "duration": 50,
    "start_time": "2022-07-03T09:25:58.616Z"
   },
   {
    "duration": 44,
    "start_time": "2022-07-03T09:26:02.851Z"
   },
   {
    "duration": 3,
    "start_time": "2022-07-03T09:26:51.395Z"
   },
   {
    "duration": 34,
    "start_time": "2022-07-03T09:26:55.049Z"
   },
   {
    "duration": 5,
    "start_time": "2022-07-03T10:37:26.314Z"
   },
   {
    "duration": 5,
    "start_time": "2022-07-03T10:37:48.316Z"
   },
   {
    "duration": 7,
    "start_time": "2022-07-03T10:38:27.961Z"
   },
   {
    "duration": 3,
    "start_time": "2022-07-03T10:38:37.191Z"
   },
   {
    "duration": 25,
    "start_time": "2022-07-03T10:42:38.800Z"
   },
   {
    "duration": 6,
    "start_time": "2022-07-03T10:48:40.898Z"
   },
   {
    "duration": 14,
    "start_time": "2022-07-03T10:48:44.911Z"
   },
   {
    "duration": 41,
    "start_time": "2022-07-03T10:49:29.025Z"
   },
   {
    "duration": 4,
    "start_time": "2022-07-03T10:51:29.299Z"
   },
   {
    "duration": 15,
    "start_time": "2022-07-03T10:51:33.396Z"
   },
   {
    "duration": 19,
    "start_time": "2022-07-03T10:52:07.384Z"
   },
   {
    "duration": 217,
    "start_time": "2022-07-03T10:52:09.292Z"
   },
   {
    "duration": 17,
    "start_time": "2022-07-03T10:52:13.759Z"
   },
   {
    "duration": 57,
    "start_time": "2022-07-03T10:52:18.515Z"
   },
   {
    "duration": 3,
    "start_time": "2022-07-03T10:52:26.752Z"
   },
   {
    "duration": 18,
    "start_time": "2022-07-03T10:52:31.717Z"
   },
   {
    "duration": 4,
    "start_time": "2022-07-03T10:52:34.717Z"
   },
   {
    "duration": 51,
    "start_time": "2022-07-03T10:52:37.910Z"
   },
   {
    "duration": 44,
    "start_time": "2022-07-03T10:52:52.468Z"
   },
   {
    "duration": 17,
    "start_time": "2022-07-03T10:52:55.102Z"
   },
   {
    "duration": 57,
    "start_time": "2022-07-03T10:52:57.403Z"
   },
   {
    "duration": 139,
    "start_time": "2022-07-03T10:53:00.450Z"
   },
   {
    "duration": 99,
    "start_time": "2022-07-03T10:53:03.358Z"
   },
   {
    "duration": 136,
    "start_time": "2022-07-03T10:53:05.959Z"
   },
   {
    "duration": 25,
    "start_time": "2022-07-03T10:53:10.011Z"
   },
   {
    "duration": 3,
    "start_time": "2022-07-03T10:53:19.404Z"
   },
   {
    "duration": 50,
    "start_time": "2022-07-03T10:53:22.718Z"
   },
   {
    "duration": 9,
    "start_time": "2022-07-03T10:53:25.819Z"
   },
   {
    "duration": 41,
    "start_time": "2022-07-03T10:53:36.404Z"
   },
   {
    "duration": 69,
    "start_time": "2022-07-03T10:53:39.151Z"
   },
   {
    "duration": 5,
    "start_time": "2022-07-03T10:53:42.704Z"
   },
   {
    "duration": 14,
    "start_time": "2022-07-03T10:53:45.400Z"
   },
   {
    "duration": 13,
    "start_time": "2022-07-03T10:54:53.703Z"
   },
   {
    "duration": 26,
    "start_time": "2022-07-03T10:54:54.873Z"
   },
   {
    "duration": 37,
    "start_time": "2022-07-03T10:57:10.621Z"
   },
   {
    "duration": 26,
    "start_time": "2022-07-03T10:57:16.372Z"
   },
   {
    "duration": 27,
    "start_time": "2022-07-03T11:02:32.129Z"
   },
   {
    "duration": 148,
    "start_time": "2022-07-03T11:03:47.270Z"
   },
   {
    "duration": 47,
    "start_time": "2022-07-03T11:03:53.396Z"
   },
   {
    "duration": 107,
    "start_time": "2022-07-03T11:04:21.308Z"
   },
   {
    "duration": 73,
    "start_time": "2022-07-03T11:04:28.751Z"
   },
   {
    "duration": 54,
    "start_time": "2022-07-03T11:04:37.153Z"
   },
   {
    "duration": 36,
    "start_time": "2022-07-03T11:06:55.325Z"
   },
   {
    "duration": 3,
    "start_time": "2022-07-03T11:08:05.504Z"
   },
   {
    "duration": 2087,
    "start_time": "2022-07-03T11:08:07.767Z"
   },
   {
    "duration": 0,
    "start_time": "2022-07-03T11:08:09.859Z"
   },
   {
    "duration": 0,
    "start_time": "2022-07-03T11:08:09.874Z"
   },
   {
    "duration": 2127,
    "start_time": "2022-07-03T11:08:10.021Z"
   },
   {
    "duration": 2297,
    "start_time": "2022-07-03T11:12:53.384Z"
   },
   {
    "duration": 2322,
    "start_time": "2022-07-03T11:13:07.921Z"
   },
   {
    "duration": 2265,
    "start_time": "2022-07-03T11:13:25.708Z"
   },
   {
    "duration": 21,
    "start_time": "2022-07-03T11:14:09.515Z"
   },
   {
    "duration": 99,
    "start_time": "2022-07-03T11:14:11.370Z"
   },
   {
    "duration": 5,
    "start_time": "2022-07-03T11:14:56.315Z"
   },
   {
    "duration": 5,
    "start_time": "2022-07-03T11:15:10.416Z"
   },
   {
    "duration": 8,
    "start_time": "2022-07-03T11:15:17.965Z"
   },
   {
    "duration": 13,
    "start_time": "2022-07-03T11:15:20.311Z"
   },
   {
    "duration": 20,
    "start_time": "2022-07-03T11:15:43.043Z"
   },
   {
    "duration": 545,
    "start_time": "2022-07-03T11:15:47.043Z"
   },
   {
    "duration": 288,
    "start_time": "2022-07-03T11:15:49.110Z"
   },
   {
    "duration": 9,
    "start_time": "2022-07-03T11:15:50.512Z"
   },
   {
    "duration": 70,
    "start_time": "2022-07-03T11:15:54.317Z"
   },
   {
    "duration": 4,
    "start_time": "2022-07-03T11:15:57.710Z"
   },
   {
    "duration": 51,
    "start_time": "2022-07-03T11:16:01.528Z"
   },
   {
    "duration": 9,
    "start_time": "2022-07-03T11:16:02.553Z"
   },
   {
    "duration": 42,
    "start_time": "2022-07-03T11:16:03.607Z"
   },
   {
    "duration": 52,
    "start_time": "2022-07-03T11:16:07.313Z"
   },
   {
    "duration": 101,
    "start_time": "2022-07-03T11:16:08.465Z"
   },
   {
    "duration": 159,
    "start_time": "2022-07-03T11:16:10.455Z"
   },
   {
    "duration": 155,
    "start_time": "2022-07-03T11:16:11.509Z"
   },
   {
    "duration": 140,
    "start_time": "2022-07-03T11:16:14.615Z"
   },
   {
    "duration": 29,
    "start_time": "2022-07-03T11:16:16.117Z"
   },
   {
    "duration": 16,
    "start_time": "2022-07-03T11:16:19.674Z"
   },
   {
    "duration": 58,
    "start_time": "2022-07-03T11:16:21.021Z"
   },
   {
    "duration": 11,
    "start_time": "2022-07-03T11:16:22.104Z"
   },
   {
    "duration": 51,
    "start_time": "2022-07-03T11:16:26.909Z"
   },
   {
    "duration": 95,
    "start_time": "2022-07-03T11:16:27.843Z"
   },
   {
    "duration": 10,
    "start_time": "2022-07-03T11:16:30.434Z"
   },
   {
    "duration": 51,
    "start_time": "2022-07-03T11:16:33.520Z"
   },
   {
    "duration": 63,
    "start_time": "2022-07-03T11:16:34.641Z"
   },
   {
    "duration": 124,
    "start_time": "2022-07-03T11:16:35.171Z"
   },
   {
    "duration": 18,
    "start_time": "2022-07-03T11:16:54.007Z"
   },
   {
    "duration": 31,
    "start_time": "2022-07-03T11:17:08.123Z"
   },
   {
    "duration": 55,
    "start_time": "2022-07-03T11:17:11.321Z"
   },
   {
    "duration": 36,
    "start_time": "2022-07-03T11:17:13.637Z"
   },
   {
    "duration": 105,
    "start_time": "2022-07-03T11:21:26.245Z"
   },
   {
    "duration": 15,
    "start_time": "2022-07-03T11:21:56.449Z"
   },
   {
    "duration": 34,
    "start_time": "2022-07-03T11:23:40.811Z"
   },
   {
    "duration": 49,
    "start_time": "2022-07-03T11:24:14.361Z"
   },
   {
    "duration": 133,
    "start_time": "2022-07-03T12:01:37.258Z"
   },
   {
    "duration": 6,
    "start_time": "2022-07-03T12:01:43.813Z"
   },
   {
    "duration": 45,
    "start_time": "2022-07-03T12:03:41.207Z"
   },
   {
    "duration": 17,
    "start_time": "2022-07-03T12:05:05.050Z"
   },
   {
    "duration": 176,
    "start_time": "2022-07-03T12:05:09.235Z"
   },
   {
    "duration": 24,
    "start_time": "2022-07-03T12:05:14.330Z"
   },
   {
    "duration": 15,
    "start_time": "2022-07-03T12:05:31.261Z"
   },
   {
    "duration": 69,
    "start_time": "2022-07-03T12:05:33.873Z"
   },
   {
    "duration": 13,
    "start_time": "2022-07-03T12:07:04.664Z"
   },
   {
    "duration": 58,
    "start_time": "2022-07-03T12:07:07.561Z"
   },
   {
    "duration": 51,
    "start_time": "2022-07-03T12:08:58.144Z"
   },
   {
    "duration": 9,
    "start_time": "2022-07-03T12:09:32.880Z"
   },
   {
    "duration": 51,
    "start_time": "2022-07-03T12:09:36.844Z"
   },
   {
    "duration": 79,
    "start_time": "2022-07-03T12:14:08.577Z"
   },
   {
    "duration": 51,
    "start_time": "2022-07-03T12:14:09.725Z"
   },
   {
    "duration": 13,
    "start_time": "2022-07-03T12:14:13.695Z"
   },
   {
    "duration": 81,
    "start_time": "2022-07-03T12:14:15.602Z"
   },
   {
    "duration": 26,
    "start_time": "2022-07-03T12:14:17.394Z"
   },
   {
    "duration": 47,
    "start_time": "2022-07-03T12:14:18.003Z"
   },
   {
    "duration": 31,
    "start_time": "2022-07-03T12:14:18.476Z"
   },
   {
    "duration": 41,
    "start_time": "2022-07-03T12:15:12.365Z"
   },
   {
    "duration": 48,
    "start_time": "2022-07-03T12:15:15.612Z"
   },
   {
    "duration": 49,
    "start_time": "2022-07-03T12:15:21.210Z"
   },
   {
    "duration": 33,
    "start_time": "2022-07-03T12:15:40.611Z"
   },
   {
    "duration": 39,
    "start_time": "2022-07-03T12:16:49.441Z"
   },
   {
    "duration": 30,
    "start_time": "2022-07-03T12:16:56.445Z"
   },
   {
    "duration": 40,
    "start_time": "2022-07-03T12:16:59.716Z"
   },
   {
    "duration": 45,
    "start_time": "2022-07-03T12:17:09.623Z"
   },
   {
    "duration": 39,
    "start_time": "2022-07-03T12:17:57.434Z"
   },
   {
    "duration": 59,
    "start_time": "2022-07-03T12:18:02.817Z"
   },
   {
    "duration": 52,
    "start_time": "2022-07-03T12:18:16.887Z"
   },
   {
    "duration": 58,
    "start_time": "2022-07-03T12:18:21.101Z"
   },
   {
    "duration": 42,
    "start_time": "2022-07-03T12:18:24.786Z"
   },
   {
    "duration": 53,
    "start_time": "2022-07-03T12:18:30.898Z"
   },
   {
    "duration": 44,
    "start_time": "2022-07-03T12:18:47.493Z"
   },
   {
    "duration": 54,
    "start_time": "2022-07-03T12:20:24.149Z"
   },
   {
    "duration": 46,
    "start_time": "2022-07-03T12:20:27.829Z"
   },
   {
    "duration": 32,
    "start_time": "2022-07-03T12:24:20.021Z"
   },
   {
    "duration": 27,
    "start_time": "2022-07-03T12:24:34.023Z"
   },
   {
    "duration": 27,
    "start_time": "2022-07-03T12:24:52.911Z"
   },
   {
    "duration": 37,
    "start_time": "2022-07-03T12:25:32.051Z"
   },
   {
    "duration": 18,
    "start_time": "2022-07-03T12:26:19.120Z"
   },
   {
    "duration": 18,
    "start_time": "2022-07-03T12:26:27.428Z"
   },
   {
    "duration": 6,
    "start_time": "2022-07-03T12:26:29.305Z"
   },
   {
    "duration": 23,
    "start_time": "2022-07-03T12:31:04.813Z"
   },
   {
    "duration": 14,
    "start_time": "2022-07-03T12:31:11.400Z"
   },
   {
    "duration": 9,
    "start_time": "2022-07-03T12:36:10.297Z"
   },
   {
    "duration": 62,
    "start_time": "2022-07-03T12:36:14.706Z"
   },
   {
    "duration": 29,
    "start_time": "2022-07-03T12:36:52.838Z"
   },
   {
    "duration": 19,
    "start_time": "2022-07-03T12:36:55.015Z"
   },
   {
    "duration": 8,
    "start_time": "2022-07-03T12:37:10.626Z"
   },
   {
    "duration": 22,
    "start_time": "2022-07-03T12:37:15.326Z"
   },
   {
    "duration": 220,
    "start_time": "2022-07-03T16:50:52.031Z"
   },
   {
    "duration": 3,
    "start_time": "2022-07-03T16:50:52.942Z"
   },
   {
    "duration": 4,
    "start_time": "2022-07-03T16:51:02.620Z"
   },
   {
    "duration": 4,
    "start_time": "2022-07-03T16:51:02.786Z"
   },
   {
    "duration": 451,
    "start_time": "2022-07-03T16:54:13.913Z"
   },
   {
    "duration": 479,
    "start_time": "2022-07-03T16:54:14.366Z"
   },
   {
    "duration": 9,
    "start_time": "2022-07-03T16:54:14.846Z"
   },
   {
    "duration": 21,
    "start_time": "2022-07-03T16:54:14.857Z"
   },
   {
    "duration": 29,
    "start_time": "2022-07-03T16:54:14.880Z"
   },
   {
    "duration": 7,
    "start_time": "2022-07-03T16:54:14.911Z"
   },
   {
    "duration": 10,
    "start_time": "2022-07-03T16:54:14.920Z"
   },
   {
    "duration": 22,
    "start_time": "2022-07-03T16:54:14.932Z"
   },
   {
    "duration": 7,
    "start_time": "2022-07-03T16:54:14.956Z"
   },
   {
    "duration": 25,
    "start_time": "2022-07-03T16:54:14.966Z"
   },
   {
    "duration": 18,
    "start_time": "2022-07-03T16:54:14.993Z"
   },
   {
    "duration": 45,
    "start_time": "2022-07-03T16:54:15.013Z"
   },
   {
    "duration": 66,
    "start_time": "2022-07-03T16:54:15.060Z"
   },
   {
    "duration": 80,
    "start_time": "2022-07-03T16:54:15.141Z"
   },
   {
    "duration": 68,
    "start_time": "2022-07-03T16:54:15.223Z"
   },
   {
    "duration": 7,
    "start_time": "2022-07-03T16:54:15.292Z"
   },
   {
    "duration": 4,
    "start_time": "2022-07-03T16:54:15.301Z"
   },
   {
    "duration": 5,
    "start_time": "2022-07-03T16:54:15.306Z"
   },
   {
    "duration": 29,
    "start_time": "2022-07-03T16:54:15.313Z"
   },
   {
    "duration": 22,
    "start_time": "2022-07-03T16:54:15.344Z"
   },
   {
    "duration": 6,
    "start_time": "2022-07-03T16:54:15.368Z"
   },
   {
    "duration": 26,
    "start_time": "2022-07-03T16:54:15.376Z"
   },
   {
    "duration": 63,
    "start_time": "2022-07-03T16:54:15.404Z"
   },
   {
    "duration": 3,
    "start_time": "2022-07-03T16:54:15.469Z"
   },
   {
    "duration": 22,
    "start_time": "2022-07-03T16:54:15.473Z"
   },
   {
    "duration": 13,
    "start_time": "2022-07-03T16:54:15.497Z"
   },
   {
    "duration": 31,
    "start_time": "2022-07-03T16:54:15.512Z"
   },
   {
    "duration": 14,
    "start_time": "2022-07-03T16:54:15.546Z"
   },
   {
    "duration": 17,
    "start_time": "2022-07-03T16:54:15.561Z"
   },
   {
    "duration": 14,
    "start_time": "2022-07-03T16:54:15.579Z"
   },
   {
    "duration": 9,
    "start_time": "2022-07-03T16:54:15.595Z"
   },
   {
    "duration": 57,
    "start_time": "2022-07-03T16:54:15.606Z"
   },
   {
    "duration": 19,
    "start_time": "2022-07-03T16:54:15.664Z"
   },
   {
    "duration": 3,
    "start_time": "2022-07-03T16:54:15.685Z"
   },
   {
    "duration": 26,
    "start_time": "2022-07-03T16:54:15.690Z"
   },
   {
    "duration": 28,
    "start_time": "2022-07-03T16:54:15.718Z"
   },
   {
    "duration": 16,
    "start_time": "2022-07-03T16:54:15.747Z"
   },
   {
    "duration": 12,
    "start_time": "2022-07-03T16:54:15.765Z"
   },
   {
    "duration": 10,
    "start_time": "2022-07-03T16:54:15.780Z"
   },
   {
    "duration": 5,
    "start_time": "2022-07-03T16:54:15.791Z"
   },
   {
    "duration": 12,
    "start_time": "2022-07-03T16:54:15.798Z"
   },
   {
    "duration": 6,
    "start_time": "2022-07-03T16:54:15.842Z"
   },
   {
    "duration": 38,
    "start_time": "2022-07-03T16:54:15.850Z"
   },
   {
    "duration": 52,
    "start_time": "2022-07-04T07:02:55.607Z"
   },
   {
    "duration": 429,
    "start_time": "2022-07-04T07:03:10.343Z"
   },
   {
    "duration": 491,
    "start_time": "2022-07-04T07:03:11.400Z"
   },
   {
    "duration": 8,
    "start_time": "2022-07-04T07:03:12.396Z"
   },
   {
    "duration": 17,
    "start_time": "2022-07-04T07:03:17.734Z"
   },
   {
    "duration": 30,
    "start_time": "2022-07-04T07:03:20.256Z"
   },
   {
    "duration": 5,
    "start_time": "2022-07-04T07:03:27.349Z"
   },
   {
    "duration": 5,
    "start_time": "2022-07-04T07:03:28.673Z"
   },
   {
    "duration": 14,
    "start_time": "2022-07-04T07:03:29.552Z"
   },
   {
    "duration": 4,
    "start_time": "2022-07-04T07:03:32.616Z"
   },
   {
    "duration": 24,
    "start_time": "2022-07-04T07:03:37.260Z"
   },
   {
    "duration": 20,
    "start_time": "2022-07-04T07:03:41.987Z"
   },
   {
    "duration": 24,
    "start_time": "2022-07-04T07:03:44.986Z"
   },
   {
    "duration": 66,
    "start_time": "2022-07-04T07:03:48.315Z"
   },
   {
    "duration": 79,
    "start_time": "2022-07-04T07:03:49.334Z"
   },
   {
    "duration": 62,
    "start_time": "2022-07-04T07:03:50.703Z"
   },
   {
    "duration": 32,
    "start_time": "2022-07-04T07:04:18.156Z"
   },
   {
    "duration": 8,
    "start_time": "2022-07-04T07:04:30.450Z"
   },
   {
    "duration": 7,
    "start_time": "2022-07-04T07:10:03.197Z"
   },
   {
    "duration": 7,
    "start_time": "2022-07-04T07:10:10.681Z"
   },
   {
    "duration": 7,
    "start_time": "2022-07-04T07:11:24.369Z"
   },
   {
    "duration": 6,
    "start_time": "2022-07-04T07:11:27.777Z"
   },
   {
    "duration": 6,
    "start_time": "2022-07-04T07:11:36.414Z"
   },
   {
    "duration": 7,
    "start_time": "2022-07-04T07:11:40.142Z"
   },
   {
    "duration": 11,
    "start_time": "2022-07-04T07:11:53.651Z"
   },
   {
    "duration": 8,
    "start_time": "2022-07-04T07:12:01.964Z"
   },
   {
    "duration": 10,
    "start_time": "2022-07-04T07:18:10.171Z"
   },
   {
    "duration": 7,
    "start_time": "2022-07-04T07:18:24.318Z"
   },
   {
    "duration": 10,
    "start_time": "2022-07-04T07:19:05.174Z"
   },
   {
    "duration": 8,
    "start_time": "2022-07-04T07:19:18.387Z"
   },
   {
    "duration": 9,
    "start_time": "2022-07-04T07:19:44.221Z"
   },
   {
    "duration": 11,
    "start_time": "2022-07-04T07:20:00.579Z"
   },
   {
    "duration": 144,
    "start_time": "2022-07-04T07:20:19.445Z"
   },
   {
    "duration": 11,
    "start_time": "2022-07-04T07:20:23.687Z"
   },
   {
    "duration": 3,
    "start_time": "2022-07-04T07:21:14.859Z"
   },
   {
    "duration": 24,
    "start_time": "2022-07-04T07:22:10.163Z"
   },
   {
    "duration": 11,
    "start_time": "2022-07-04T07:22:36.057Z"
   },
   {
    "duration": 4,
    "start_time": "2022-07-04T07:25:07.510Z"
   },
   {
    "duration": 13,
    "start_time": "2022-07-04T07:25:11.440Z"
   },
   {
    "duration": 12,
    "start_time": "2022-07-04T07:25:12.975Z"
   },
   {
    "duration": 50,
    "start_time": "2022-07-04T07:30:51.200Z"
   },
   {
    "duration": 22,
    "start_time": "2022-07-04T07:32:24.578Z"
   },
   {
    "duration": 10,
    "start_time": "2022-07-04T07:32:50.549Z"
   },
   {
    "duration": 13,
    "start_time": "2022-07-04T07:32:53.283Z"
   },
   {
    "duration": 13,
    "start_time": "2022-07-04T07:33:45.332Z"
   },
   {
    "duration": 37,
    "start_time": "2022-07-04T07:34:04.150Z"
   },
   {
    "duration": 27,
    "start_time": "2022-07-04T07:34:20.614Z"
   },
   {
    "duration": 33,
    "start_time": "2022-07-04T07:34:28.332Z"
   },
   {
    "duration": 13,
    "start_time": "2022-07-04T07:34:48.362Z"
   },
   {
    "duration": 34,
    "start_time": "2022-07-04T07:35:00.711Z"
   },
   {
    "duration": 13,
    "start_time": "2022-07-04T07:37:05.859Z"
   },
   {
    "duration": 99,
    "start_time": "2022-07-04T07:42:02.068Z"
   },
   {
    "duration": 80,
    "start_time": "2022-07-04T07:42:56.282Z"
   },
   {
    "duration": 57,
    "start_time": "2022-07-08T06:45:16.292Z"
   },
   {
    "duration": 9,
    "start_time": "2022-07-08T06:45:22.586Z"
   },
   {
    "duration": 406,
    "start_time": "2022-07-08T06:45:29.126Z"
   },
   {
    "duration": 209,
    "start_time": "2022-07-08T06:45:29.534Z"
   },
   {
    "duration": 9,
    "start_time": "2022-07-08T06:45:29.745Z"
   },
   {
    "duration": 20,
    "start_time": "2022-07-08T06:45:29.756Z"
   },
   {
    "duration": 33,
    "start_time": "2022-07-08T06:45:29.778Z"
   },
   {
    "duration": 11,
    "start_time": "2022-07-08T06:45:29.813Z"
   },
   {
    "duration": 6,
    "start_time": "2022-07-08T06:45:29.826Z"
   },
   {
    "duration": 17,
    "start_time": "2022-07-08T06:45:29.834Z"
   },
   {
    "duration": 11,
    "start_time": "2022-07-08T06:45:29.852Z"
   },
   {
    "duration": 28,
    "start_time": "2022-07-08T06:45:29.866Z"
   },
   {
    "duration": 44,
    "start_time": "2022-07-08T06:45:29.896Z"
   },
   {
    "duration": 33,
    "start_time": "2022-07-08T06:45:29.942Z"
   },
   {
    "duration": 101,
    "start_time": "2022-07-08T06:45:29.978Z"
   },
   {
    "duration": 103,
    "start_time": "2022-07-08T06:45:30.081Z"
   },
   {
    "duration": 75,
    "start_time": "2022-07-08T06:45:30.186Z"
   },
   {
    "duration": 9,
    "start_time": "2022-07-08T06:45:30.263Z"
   },
   {
    "duration": 3,
    "start_time": "2022-07-08T06:45:30.274Z"
   },
   {
    "duration": 26,
    "start_time": "2022-07-08T06:45:30.279Z"
   },
   {
    "duration": 13,
    "start_time": "2022-07-08T06:45:30.307Z"
   },
   {
    "duration": 12,
    "start_time": "2022-07-08T06:45:30.322Z"
   },
   {
    "duration": 11,
    "start_time": "2022-07-08T06:45:30.336Z"
   },
   {
    "duration": 43,
    "start_time": "2022-07-08T06:45:30.349Z"
   },
   {
    "duration": 0,
    "start_time": "2022-07-08T06:45:30.394Z"
   },
   {
    "duration": 0,
    "start_time": "2022-07-08T06:45:30.396Z"
   },
   {
    "duration": 0,
    "start_time": "2022-07-08T06:45:30.397Z"
   },
   {
    "duration": 0,
    "start_time": "2022-07-08T06:45:30.398Z"
   },
   {
    "duration": 0,
    "start_time": "2022-07-08T06:45:30.399Z"
   },
   {
    "duration": 0,
    "start_time": "2022-07-08T06:45:30.400Z"
   },
   {
    "duration": 0,
    "start_time": "2022-07-08T06:45:30.401Z"
   },
   {
    "duration": 0,
    "start_time": "2022-07-08T06:45:30.402Z"
   },
   {
    "duration": 0,
    "start_time": "2022-07-08T06:45:30.422Z"
   },
   {
    "duration": 0,
    "start_time": "2022-07-08T06:45:30.423Z"
   },
   {
    "duration": 0,
    "start_time": "2022-07-08T06:45:30.425Z"
   },
   {
    "duration": 0,
    "start_time": "2022-07-08T06:45:30.426Z"
   },
   {
    "duration": 0,
    "start_time": "2022-07-08T06:45:30.427Z"
   },
   {
    "duration": 0,
    "start_time": "2022-07-08T06:45:30.429Z"
   },
   {
    "duration": 0,
    "start_time": "2022-07-08T06:45:30.430Z"
   },
   {
    "duration": 0,
    "start_time": "2022-07-08T06:45:30.431Z"
   },
   {
    "duration": 0,
    "start_time": "2022-07-08T06:45:30.432Z"
   },
   {
    "duration": 0,
    "start_time": "2022-07-08T06:45:30.434Z"
   },
   {
    "duration": 0,
    "start_time": "2022-07-08T06:45:30.435Z"
   },
   {
    "duration": 0,
    "start_time": "2022-07-08T06:45:30.436Z"
   },
   {
    "duration": 0,
    "start_time": "2022-07-08T06:45:30.437Z"
   },
   {
    "duration": 15,
    "start_time": "2022-07-08T06:46:00.234Z"
   },
   {
    "duration": 1882,
    "start_time": "2022-07-08T06:46:04.076Z"
   },
   {
    "duration": 2136,
    "start_time": "2022-07-08T06:46:14.114Z"
   },
   {
    "duration": 1765,
    "start_time": "2022-07-08T06:46:20.440Z"
   },
   {
    "duration": 1838,
    "start_time": "2022-07-08T06:46:27.349Z"
   },
   {
    "duration": 11,
    "start_time": "2022-07-08T06:46:50.657Z"
   },
   {
    "duration": 12,
    "start_time": "2022-07-08T06:46:55.239Z"
   },
   {
    "duration": 13,
    "start_time": "2022-07-08T06:47:50.793Z"
   },
   {
    "duration": 10,
    "start_time": "2022-07-08T10:19:41.871Z"
   },
   {
    "duration": 10,
    "start_time": "2022-07-08T10:46:35.522Z"
   },
   {
    "duration": 3,
    "start_time": "2022-07-08T10:46:40.337Z"
   },
   {
    "duration": 180,
    "start_time": "2022-07-08T10:46:40.342Z"
   },
   {
    "duration": 9,
    "start_time": "2022-07-08T10:46:40.525Z"
   },
   {
    "duration": 15,
    "start_time": "2022-07-08T10:46:40.537Z"
   },
   {
    "duration": 31,
    "start_time": "2022-07-08T10:46:40.554Z"
   },
   {
    "duration": 4,
    "start_time": "2022-07-08T10:46:40.586Z"
   },
   {
    "duration": 7,
    "start_time": "2022-07-08T10:46:40.591Z"
   },
   {
    "duration": 37,
    "start_time": "2022-07-08T10:46:40.600Z"
   },
   {
    "duration": 10,
    "start_time": "2022-07-08T10:46:40.641Z"
   },
   {
    "duration": 26,
    "start_time": "2022-07-08T10:46:40.653Z"
   },
   {
    "duration": 18,
    "start_time": "2022-07-08T10:46:40.681Z"
   },
   {
    "duration": 52,
    "start_time": "2022-07-08T10:46:40.700Z"
   },
   {
    "duration": 69,
    "start_time": "2022-07-08T10:46:40.754Z"
   },
   {
    "duration": 77,
    "start_time": "2022-07-08T10:46:40.826Z"
   },
   {
    "duration": 76,
    "start_time": "2022-07-08T10:46:40.905Z"
   },
   {
    "duration": 9,
    "start_time": "2022-07-08T10:46:40.982Z"
   },
   {
    "duration": 11,
    "start_time": "2022-07-08T10:46:40.993Z"
   },
   {
    "duration": 18,
    "start_time": "2022-07-08T10:46:41.006Z"
   },
   {
    "duration": 26,
    "start_time": "2022-07-08T10:46:41.026Z"
   },
   {
    "duration": 20,
    "start_time": "2022-07-08T10:46:41.053Z"
   },
   {
    "duration": 10,
    "start_time": "2022-07-08T10:46:41.074Z"
   },
   {
    "duration": 14,
    "start_time": "2022-07-08T10:46:41.086Z"
   },
   {
    "duration": 12,
    "start_time": "2022-07-08T10:46:41.102Z"
   },
   {
    "duration": 3,
    "start_time": "2022-07-08T10:46:41.123Z"
   },
   {
    "duration": 40,
    "start_time": "2022-07-08T10:46:41.128Z"
   },
   {
    "duration": 15,
    "start_time": "2022-07-08T10:46:41.170Z"
   },
   {
    "duration": 19,
    "start_time": "2022-07-08T10:46:41.187Z"
   },
   {
    "duration": 15,
    "start_time": "2022-07-08T10:46:41.208Z"
   },
   {
    "duration": 23,
    "start_time": "2022-07-08T10:46:41.224Z"
   },
   {
    "duration": 26,
    "start_time": "2022-07-08T10:46:41.248Z"
   },
   {
    "duration": 9,
    "start_time": "2022-07-08T10:46:41.275Z"
   },
   {
    "duration": 40,
    "start_time": "2022-07-08T10:46:41.286Z"
   },
   {
    "duration": 24,
    "start_time": "2022-07-08T10:46:41.328Z"
   },
   {
    "duration": 4,
    "start_time": "2022-07-08T10:46:41.353Z"
   },
   {
    "duration": 25,
    "start_time": "2022-07-08T10:46:41.359Z"
   },
   {
    "duration": 12,
    "start_time": "2022-07-08T10:46:41.386Z"
   },
   {
    "duration": 46,
    "start_time": "2022-07-08T10:46:41.400Z"
   },
   {
    "duration": 28,
    "start_time": "2022-07-08T10:46:41.448Z"
   },
   {
    "duration": 34,
    "start_time": "2022-07-08T10:46:41.477Z"
   },
   {
    "duration": 7,
    "start_time": "2022-07-08T10:46:41.513Z"
   },
   {
    "duration": 15,
    "start_time": "2022-07-08T10:46:41.524Z"
   },
   {
    "duration": 15,
    "start_time": "2022-07-08T10:46:41.541Z"
   },
   {
    "duration": 52,
    "start_time": "2022-07-08T10:46:41.557Z"
   }
  ],
  "colab": {
   "collapsed_sections": [
    "E0vqbgi9ay0H",
    "VUC88oWjTJw2"
   ],
   "name": "yandex_music_project.ipynb",
   "provenance": []
  },
  "kernelspec": {
   "display_name": "Python 3 (ipykernel)",
   "language": "python",
   "name": "python3"
  },
  "language_info": {
   "codemirror_mode": {
    "name": "ipython",
    "version": 3
   },
   "file_extension": ".py",
   "mimetype": "text/x-python",
   "name": "python",
   "nbconvert_exporter": "python",
   "pygments_lexer": "ipython3",
   "version": "3.9.12"
  },
  "toc": {
   "base_numbering": 1,
   "nav_menu": {},
   "number_sections": true,
   "sideBar": true,
   "skip_h1_title": true,
   "title_cell": "Table of Contents",
   "title_sidebar": "Contents",
   "toc_cell": false,
   "toc_position": {
    "height": "593.333px",
    "left": "401px",
    "top": "222.139px",
    "width": "195.534px"
   },
   "toc_section_display": true,
   "toc_window_display": true
  }
 },
 "nbformat": 4,
 "nbformat_minor": 1
}
