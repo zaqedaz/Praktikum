{
 "cells": [
  {
   "cell_type": "markdown",
   "metadata": {},
   "source": [
    "# Введение"
   ]
  },
  {
   "cell_type": "markdown",
   "metadata": {},
   "source": [
    "**Поступило задание от интернет-магазина «Стримчик», который продаёт по всему миру компьютерные игры.** \n",
    " \n",
    "**Необходимо выявить определяющие успешность игры закономерности, что позволит сделать ставку на потенциально популярный продукт, спланировать рекламные кампании и дать соответствующие рекомендации** \n",
    "\n",
    "**Из открытых источников доступны исторические данные о продажах игр, оценки пользователей и экспертов, жанры и платформы до 2016 года. С ними и предстоит провести работу**"
   ]
  },
  {
   "cell_type": "markdown",
   "metadata": {},
   "source": [
    "## Данные"
   ]
  },
  {
   "cell_type": "code",
   "execution_count": 2,
   "metadata": {},
   "outputs": [],
   "source": [
    "import pandas as pd\n",
    "import numpy as np\n",
    "import seaborn as sns\n",
    "from scipy import stats as st"
   ]
  },
  {
   "cell_type": "code",
   "execution_count": 3,
   "metadata": {},
   "outputs": [
    {
     "data": {
      "text/html": [
       "<div>\n",
       "<style scoped>\n",
       "    .dataframe tbody tr th:only-of-type {\n",
       "        vertical-align: middle;\n",
       "    }\n",
       "\n",
       "    .dataframe tbody tr th {\n",
       "        vertical-align: top;\n",
       "    }\n",
       "\n",
       "    .dataframe thead th {\n",
       "        text-align: right;\n",
       "    }\n",
       "</style>\n",
       "<table border=\"1\" class=\"dataframe\">\n",
       "  <thead>\n",
       "    <tr style=\"text-align: right;\">\n",
       "      <th></th>\n",
       "      <th>Name</th>\n",
       "      <th>Platform</th>\n",
       "      <th>Year_of_Release</th>\n",
       "      <th>Genre</th>\n",
       "      <th>NA_sales</th>\n",
       "      <th>EU_sales</th>\n",
       "      <th>JP_sales</th>\n",
       "      <th>Other_sales</th>\n",
       "      <th>Critic_Score</th>\n",
       "      <th>User_Score</th>\n",
       "      <th>Rating</th>\n",
       "    </tr>\n",
       "  </thead>\n",
       "  <tbody>\n",
       "    <tr>\n",
       "      <th>0</th>\n",
       "      <td>Wii Sports</td>\n",
       "      <td>Wii</td>\n",
       "      <td>2006.0</td>\n",
       "      <td>Sports</td>\n",
       "      <td>41.36</td>\n",
       "      <td>28.96</td>\n",
       "      <td>3.77</td>\n",
       "      <td>8.45</td>\n",
       "      <td>76.0</td>\n",
       "      <td>8</td>\n",
       "      <td>E</td>\n",
       "    </tr>\n",
       "    <tr>\n",
       "      <th>1</th>\n",
       "      <td>Super Mario Bros.</td>\n",
       "      <td>NES</td>\n",
       "      <td>1985.0</td>\n",
       "      <td>Platform</td>\n",
       "      <td>29.08</td>\n",
       "      <td>3.58</td>\n",
       "      <td>6.81</td>\n",
       "      <td>0.77</td>\n",
       "      <td>NaN</td>\n",
       "      <td>NaN</td>\n",
       "      <td>NaN</td>\n",
       "    </tr>\n",
       "    <tr>\n",
       "      <th>2</th>\n",
       "      <td>Mario Kart Wii</td>\n",
       "      <td>Wii</td>\n",
       "      <td>2008.0</td>\n",
       "      <td>Racing</td>\n",
       "      <td>15.68</td>\n",
       "      <td>12.76</td>\n",
       "      <td>3.79</td>\n",
       "      <td>3.29</td>\n",
       "      <td>82.0</td>\n",
       "      <td>8.3</td>\n",
       "      <td>E</td>\n",
       "    </tr>\n",
       "    <tr>\n",
       "      <th>3</th>\n",
       "      <td>Wii Sports Resort</td>\n",
       "      <td>Wii</td>\n",
       "      <td>2009.0</td>\n",
       "      <td>Sports</td>\n",
       "      <td>15.61</td>\n",
       "      <td>10.93</td>\n",
       "      <td>3.28</td>\n",
       "      <td>2.95</td>\n",
       "      <td>80.0</td>\n",
       "      <td>8</td>\n",
       "      <td>E</td>\n",
       "    </tr>\n",
       "    <tr>\n",
       "      <th>4</th>\n",
       "      <td>Pokemon Red/Pokemon Blue</td>\n",
       "      <td>GB</td>\n",
       "      <td>1996.0</td>\n",
       "      <td>Role-Playing</td>\n",
       "      <td>11.27</td>\n",
       "      <td>8.89</td>\n",
       "      <td>10.22</td>\n",
       "      <td>1.00</td>\n",
       "      <td>NaN</td>\n",
       "      <td>NaN</td>\n",
       "      <td>NaN</td>\n",
       "    </tr>\n",
       "    <tr>\n",
       "      <th>5</th>\n",
       "      <td>Tetris</td>\n",
       "      <td>GB</td>\n",
       "      <td>1989.0</td>\n",
       "      <td>Puzzle</td>\n",
       "      <td>23.20</td>\n",
       "      <td>2.26</td>\n",
       "      <td>4.22</td>\n",
       "      <td>0.58</td>\n",
       "      <td>NaN</td>\n",
       "      <td>NaN</td>\n",
       "      <td>NaN</td>\n",
       "    </tr>\n",
       "    <tr>\n",
       "      <th>6</th>\n",
       "      <td>New Super Mario Bros.</td>\n",
       "      <td>DS</td>\n",
       "      <td>2006.0</td>\n",
       "      <td>Platform</td>\n",
       "      <td>11.28</td>\n",
       "      <td>9.14</td>\n",
       "      <td>6.50</td>\n",
       "      <td>2.88</td>\n",
       "      <td>89.0</td>\n",
       "      <td>8.5</td>\n",
       "      <td>E</td>\n",
       "    </tr>\n",
       "    <tr>\n",
       "      <th>7</th>\n",
       "      <td>Wii Play</td>\n",
       "      <td>Wii</td>\n",
       "      <td>2006.0</td>\n",
       "      <td>Misc</td>\n",
       "      <td>13.96</td>\n",
       "      <td>9.18</td>\n",
       "      <td>2.93</td>\n",
       "      <td>2.84</td>\n",
       "      <td>58.0</td>\n",
       "      <td>6.6</td>\n",
       "      <td>E</td>\n",
       "    </tr>\n",
       "    <tr>\n",
       "      <th>8</th>\n",
       "      <td>New Super Mario Bros. Wii</td>\n",
       "      <td>Wii</td>\n",
       "      <td>2009.0</td>\n",
       "      <td>Platform</td>\n",
       "      <td>14.44</td>\n",
       "      <td>6.94</td>\n",
       "      <td>4.70</td>\n",
       "      <td>2.24</td>\n",
       "      <td>87.0</td>\n",
       "      <td>8.4</td>\n",
       "      <td>E</td>\n",
       "    </tr>\n",
       "    <tr>\n",
       "      <th>9</th>\n",
       "      <td>Duck Hunt</td>\n",
       "      <td>NES</td>\n",
       "      <td>1984.0</td>\n",
       "      <td>Shooter</td>\n",
       "      <td>26.93</td>\n",
       "      <td>0.63</td>\n",
       "      <td>0.28</td>\n",
       "      <td>0.47</td>\n",
       "      <td>NaN</td>\n",
       "      <td>NaN</td>\n",
       "      <td>NaN</td>\n",
       "    </tr>\n",
       "  </tbody>\n",
       "</table>\n",
       "</div>"
      ],
      "text/plain": [
       "                        Name Platform  Year_of_Release         Genre  \\\n",
       "0                 Wii Sports      Wii           2006.0        Sports   \n",
       "1          Super Mario Bros.      NES           1985.0      Platform   \n",
       "2             Mario Kart Wii      Wii           2008.0        Racing   \n",
       "3          Wii Sports Resort      Wii           2009.0        Sports   \n",
       "4   Pokemon Red/Pokemon Blue       GB           1996.0  Role-Playing   \n",
       "5                     Tetris       GB           1989.0        Puzzle   \n",
       "6      New Super Mario Bros.       DS           2006.0      Platform   \n",
       "7                   Wii Play      Wii           2006.0          Misc   \n",
       "8  New Super Mario Bros. Wii      Wii           2009.0      Platform   \n",
       "9                  Duck Hunt      NES           1984.0       Shooter   \n",
       "\n",
       "   NA_sales  EU_sales  JP_sales  Other_sales  Critic_Score User_Score Rating  \n",
       "0     41.36     28.96      3.77         8.45          76.0          8      E  \n",
       "1     29.08      3.58      6.81         0.77           NaN        NaN    NaN  \n",
       "2     15.68     12.76      3.79         3.29          82.0        8.3      E  \n",
       "3     15.61     10.93      3.28         2.95          80.0          8      E  \n",
       "4     11.27      8.89     10.22         1.00           NaN        NaN    NaN  \n",
       "5     23.20      2.26      4.22         0.58           NaN        NaN    NaN  \n",
       "6     11.28      9.14      6.50         2.88          89.0        8.5      E  \n",
       "7     13.96      9.18      2.93         2.84          58.0        6.6      E  \n",
       "8     14.44      6.94      4.70         2.24          87.0        8.4      E  \n",
       "9     26.93      0.63      0.28         0.47           NaN        NaN    NaN  "
      ]
     },
     "metadata": {},
     "output_type": "display_data"
    },
    {
     "name": "stdout",
     "output_type": "stream",
     "text": [
      "<class 'pandas.core.frame.DataFrame'>\n",
      "RangeIndex: 16715 entries, 0 to 16714\n",
      "Data columns (total 11 columns):\n",
      " #   Column           Non-Null Count  Dtype  \n",
      "---  ------           --------------  -----  \n",
      " 0   Name             16713 non-null  object \n",
      " 1   Platform         16715 non-null  object \n",
      " 2   Year_of_Release  16446 non-null  float64\n",
      " 3   Genre            16713 non-null  object \n",
      " 4   NA_sales         16715 non-null  float64\n",
      " 5   EU_sales         16715 non-null  float64\n",
      " 6   JP_sales         16715 non-null  float64\n",
      " 7   Other_sales      16715 non-null  float64\n",
      " 8   Critic_Score     8137 non-null   float64\n",
      " 9   User_Score       10014 non-null  object \n",
      " 10  Rating           9949 non-null   object \n",
      "dtypes: float64(6), object(5)\n",
      "memory usage: 1.4+ MB\n"
     ]
    },
    {
     "data": {
      "text/plain": [
       "None"
      ]
     },
     "metadata": {},
     "output_type": "display_data"
    },
    {
     "name": "stdout",
     "output_type": "stream",
     "text": [
      "Количество явных дубликатов = 0\n"
     ]
    }
   ],
   "source": [
    "data = pd.read_csv('datasets/games.csv')\n",
    "display(data.head(10))\n",
    "display(data.info())\n",
    "print('Количество явных дубликатов =', data.duplicated().sum())"
   ]
  },
  {
   "cell_type": "markdown",
   "metadata": {},
   "source": [
    "Вызвав общую информацию методом .info() можно заметить следующие проблемы:\n",
    " - пропуски в столбцах Name, Year_of_Release, Genre, Critic_Score, User_Score, Rating\n",
    " - столбец Year_of_Release имеет тип данных float, год это целое число (int)\n",
    " - столбец Critic_Score имеет тип данных float, в таблице оценки это целые числа\n",
    " - столбец User_Score имеет тип данных object, должен быть float \n",
    " - названия столбцов нужно привести к нижнему регистру\n",
    " \n",
    "**Теперь подробнее посмотрим на проблемные столбцы**"
   ]
  },
  {
   "cell_type": "code",
   "execution_count": 248,
   "metadata": {},
   "outputs": [
    {
     "data": {
      "text/html": [
       "<div>\n",
       "<style scoped>\n",
       "    .dataframe tbody tr th:only-of-type {\n",
       "        vertical-align: middle;\n",
       "    }\n",
       "\n",
       "    .dataframe tbody tr th {\n",
       "        vertical-align: top;\n",
       "    }\n",
       "\n",
       "    .dataframe thead th {\n",
       "        text-align: right;\n",
       "    }\n",
       "</style>\n",
       "<table border=\"1\" class=\"dataframe\">\n",
       "  <thead>\n",
       "    <tr style=\"text-align: right;\">\n",
       "      <th></th>\n",
       "      <th>Name</th>\n",
       "      <th>Platform</th>\n",
       "      <th>Year_of_Release</th>\n",
       "      <th>Genre</th>\n",
       "      <th>NA_sales</th>\n",
       "      <th>EU_sales</th>\n",
       "      <th>JP_sales</th>\n",
       "      <th>Other_sales</th>\n",
       "      <th>Critic_Score</th>\n",
       "      <th>User_Score</th>\n",
       "      <th>Rating</th>\n",
       "    </tr>\n",
       "  </thead>\n",
       "  <tbody>\n",
       "    <tr>\n",
       "      <th>659</th>\n",
       "      <td>NaN</td>\n",
       "      <td>GEN</td>\n",
       "      <td>1993.0</td>\n",
       "      <td>NaN</td>\n",
       "      <td>1.78</td>\n",
       "      <td>0.53</td>\n",
       "      <td>0.00</td>\n",
       "      <td>0.08</td>\n",
       "      <td>NaN</td>\n",
       "      <td>NaN</td>\n",
       "      <td>NaN</td>\n",
       "    </tr>\n",
       "    <tr>\n",
       "      <th>14244</th>\n",
       "      <td>NaN</td>\n",
       "      <td>GEN</td>\n",
       "      <td>1993.0</td>\n",
       "      <td>NaN</td>\n",
       "      <td>0.00</td>\n",
       "      <td>0.00</td>\n",
       "      <td>0.03</td>\n",
       "      <td>0.00</td>\n",
       "      <td>NaN</td>\n",
       "      <td>NaN</td>\n",
       "      <td>NaN</td>\n",
       "    </tr>\n",
       "  </tbody>\n",
       "</table>\n",
       "</div>"
      ],
      "text/plain": [
       "      Name Platform  Year_of_Release Genre  NA_sales  EU_sales  JP_sales  \\\n",
       "659    NaN      GEN           1993.0   NaN      1.78      0.53      0.00   \n",
       "14244  NaN      GEN           1993.0   NaN      0.00      0.00      0.03   \n",
       "\n",
       "       Other_sales  Critic_Score User_Score Rating  \n",
       "659           0.08           NaN        NaN    NaN  \n",
       "14244         0.00           NaN        NaN    NaN  "
      ]
     },
     "metadata": {},
     "output_type": "display_data"
    }
   ],
   "source": [
    "display(data[data['Name'].isna()])"
   ]
  },
  {
   "cell_type": "code",
   "execution_count": 249,
   "metadata": {},
   "outputs": [
    {
     "data": {
      "text/html": [
       "<div>\n",
       "<style scoped>\n",
       "    .dataframe tbody tr th:only-of-type {\n",
       "        vertical-align: middle;\n",
       "    }\n",
       "\n",
       "    .dataframe tbody tr th {\n",
       "        vertical-align: top;\n",
       "    }\n",
       "\n",
       "    .dataframe thead th {\n",
       "        text-align: right;\n",
       "    }\n",
       "</style>\n",
       "<table border=\"1\" class=\"dataframe\">\n",
       "  <thead>\n",
       "    <tr style=\"text-align: right;\">\n",
       "      <th></th>\n",
       "      <th>Name</th>\n",
       "      <th>Platform</th>\n",
       "      <th>Year_of_Release</th>\n",
       "      <th>Genre</th>\n",
       "      <th>NA_sales</th>\n",
       "      <th>EU_sales</th>\n",
       "      <th>JP_sales</th>\n",
       "      <th>Other_sales</th>\n",
       "      <th>Critic_Score</th>\n",
       "      <th>User_Score</th>\n",
       "      <th>Rating</th>\n",
       "    </tr>\n",
       "  </thead>\n",
       "  <tbody>\n",
       "    <tr>\n",
       "      <th>659</th>\n",
       "      <td>NaN</td>\n",
       "      <td>GEN</td>\n",
       "      <td>1993.0</td>\n",
       "      <td>NaN</td>\n",
       "      <td>1.78</td>\n",
       "      <td>0.53</td>\n",
       "      <td>0.00</td>\n",
       "      <td>0.08</td>\n",
       "      <td>NaN</td>\n",
       "      <td>NaN</td>\n",
       "      <td>NaN</td>\n",
       "    </tr>\n",
       "    <tr>\n",
       "      <th>14244</th>\n",
       "      <td>NaN</td>\n",
       "      <td>GEN</td>\n",
       "      <td>1993.0</td>\n",
       "      <td>NaN</td>\n",
       "      <td>0.00</td>\n",
       "      <td>0.00</td>\n",
       "      <td>0.03</td>\n",
       "      <td>0.00</td>\n",
       "      <td>NaN</td>\n",
       "      <td>NaN</td>\n",
       "      <td>NaN</td>\n",
       "    </tr>\n",
       "  </tbody>\n",
       "</table>\n",
       "</div>"
      ],
      "text/plain": [
       "      Name Platform  Year_of_Release Genre  NA_sales  EU_sales  JP_sales  \\\n",
       "659    NaN      GEN           1993.0   NaN      1.78      0.53      0.00   \n",
       "14244  NaN      GEN           1993.0   NaN      0.00      0.00      0.03   \n",
       "\n",
       "       Other_sales  Critic_Score User_Score Rating  \n",
       "659           0.08           NaN        NaN    NaN  \n",
       "14244         0.00           NaN        NaN    NaN  "
      ]
     },
     "metadata": {},
     "output_type": "display_data"
    }
   ],
   "source": [
    "display(data[data['Genre'].isna()])"
   ]
  },
  {
   "cell_type": "code",
   "execution_count": 250,
   "metadata": {},
   "outputs": [
    {
     "data": {
      "text/html": [
       "<div>\n",
       "<style scoped>\n",
       "    .dataframe tbody tr th:only-of-type {\n",
       "        vertical-align: middle;\n",
       "    }\n",
       "\n",
       "    .dataframe tbody tr th {\n",
       "        vertical-align: top;\n",
       "    }\n",
       "\n",
       "    .dataframe thead th {\n",
       "        text-align: right;\n",
       "    }\n",
       "</style>\n",
       "<table border=\"1\" class=\"dataframe\">\n",
       "  <thead>\n",
       "    <tr style=\"text-align: right;\">\n",
       "      <th></th>\n",
       "      <th>Name</th>\n",
       "      <th>Platform</th>\n",
       "      <th>Year_of_Release</th>\n",
       "      <th>Genre</th>\n",
       "      <th>NA_sales</th>\n",
       "      <th>EU_sales</th>\n",
       "      <th>JP_sales</th>\n",
       "      <th>Other_sales</th>\n",
       "      <th>Critic_Score</th>\n",
       "      <th>User_Score</th>\n",
       "      <th>Rating</th>\n",
       "    </tr>\n",
       "  </thead>\n",
       "  <tbody>\n",
       "    <tr>\n",
       "      <th>183</th>\n",
       "      <td>Madden NFL 2004</td>\n",
       "      <td>PS2</td>\n",
       "      <td>NaN</td>\n",
       "      <td>Sports</td>\n",
       "      <td>4.26</td>\n",
       "      <td>0.26</td>\n",
       "      <td>0.01</td>\n",
       "      <td>0.71</td>\n",
       "      <td>94.0</td>\n",
       "      <td>8.5</td>\n",
       "      <td>E</td>\n",
       "    </tr>\n",
       "    <tr>\n",
       "      <th>377</th>\n",
       "      <td>FIFA Soccer 2004</td>\n",
       "      <td>PS2</td>\n",
       "      <td>NaN</td>\n",
       "      <td>Sports</td>\n",
       "      <td>0.59</td>\n",
       "      <td>2.36</td>\n",
       "      <td>0.04</td>\n",
       "      <td>0.51</td>\n",
       "      <td>84.0</td>\n",
       "      <td>6.4</td>\n",
       "      <td>E</td>\n",
       "    </tr>\n",
       "    <tr>\n",
       "      <th>456</th>\n",
       "      <td>LEGO Batman: The Videogame</td>\n",
       "      <td>Wii</td>\n",
       "      <td>NaN</td>\n",
       "      <td>Action</td>\n",
       "      <td>1.80</td>\n",
       "      <td>0.97</td>\n",
       "      <td>0.00</td>\n",
       "      <td>0.29</td>\n",
       "      <td>74.0</td>\n",
       "      <td>7.9</td>\n",
       "      <td>E10+</td>\n",
       "    </tr>\n",
       "    <tr>\n",
       "      <th>475</th>\n",
       "      <td>wwe Smackdown vs. Raw 2006</td>\n",
       "      <td>PS2</td>\n",
       "      <td>NaN</td>\n",
       "      <td>Fighting</td>\n",
       "      <td>1.57</td>\n",
       "      <td>1.02</td>\n",
       "      <td>0.00</td>\n",
       "      <td>0.41</td>\n",
       "      <td>NaN</td>\n",
       "      <td>NaN</td>\n",
       "      <td>NaN</td>\n",
       "    </tr>\n",
       "    <tr>\n",
       "      <th>609</th>\n",
       "      <td>Space Invaders</td>\n",
       "      <td>2600</td>\n",
       "      <td>NaN</td>\n",
       "      <td>Shooter</td>\n",
       "      <td>2.36</td>\n",
       "      <td>0.14</td>\n",
       "      <td>0.00</td>\n",
       "      <td>0.03</td>\n",
       "      <td>NaN</td>\n",
       "      <td>NaN</td>\n",
       "      <td>NaN</td>\n",
       "    </tr>\n",
       "    <tr>\n",
       "      <th>...</th>\n",
       "      <td>...</td>\n",
       "      <td>...</td>\n",
       "      <td>...</td>\n",
       "      <td>...</td>\n",
       "      <td>...</td>\n",
       "      <td>...</td>\n",
       "      <td>...</td>\n",
       "      <td>...</td>\n",
       "      <td>...</td>\n",
       "      <td>...</td>\n",
       "      <td>...</td>\n",
       "    </tr>\n",
       "    <tr>\n",
       "      <th>16373</th>\n",
       "      <td>PDC World Championship Darts 2008</td>\n",
       "      <td>PSP</td>\n",
       "      <td>NaN</td>\n",
       "      <td>Sports</td>\n",
       "      <td>0.01</td>\n",
       "      <td>0.00</td>\n",
       "      <td>0.00</td>\n",
       "      <td>0.00</td>\n",
       "      <td>43.0</td>\n",
       "      <td>tbd</td>\n",
       "      <td>E10+</td>\n",
       "    </tr>\n",
       "    <tr>\n",
       "      <th>16405</th>\n",
       "      <td>Freaky Flyers</td>\n",
       "      <td>GC</td>\n",
       "      <td>NaN</td>\n",
       "      <td>Racing</td>\n",
       "      <td>0.01</td>\n",
       "      <td>0.00</td>\n",
       "      <td>0.00</td>\n",
       "      <td>0.00</td>\n",
       "      <td>69.0</td>\n",
       "      <td>6.5</td>\n",
       "      <td>T</td>\n",
       "    </tr>\n",
       "    <tr>\n",
       "      <th>16448</th>\n",
       "      <td>Inversion</td>\n",
       "      <td>PC</td>\n",
       "      <td>NaN</td>\n",
       "      <td>Shooter</td>\n",
       "      <td>0.01</td>\n",
       "      <td>0.00</td>\n",
       "      <td>0.00</td>\n",
       "      <td>0.00</td>\n",
       "      <td>59.0</td>\n",
       "      <td>6.7</td>\n",
       "      <td>M</td>\n",
       "    </tr>\n",
       "    <tr>\n",
       "      <th>16458</th>\n",
       "      <td>Hakuouki: Shinsengumi Kitan</td>\n",
       "      <td>PS3</td>\n",
       "      <td>NaN</td>\n",
       "      <td>Adventure</td>\n",
       "      <td>0.01</td>\n",
       "      <td>0.00</td>\n",
       "      <td>0.00</td>\n",
       "      <td>0.00</td>\n",
       "      <td>NaN</td>\n",
       "      <td>NaN</td>\n",
       "      <td>NaN</td>\n",
       "    </tr>\n",
       "    <tr>\n",
       "      <th>16522</th>\n",
       "      <td>Virtua Quest</td>\n",
       "      <td>GC</td>\n",
       "      <td>NaN</td>\n",
       "      <td>Role-Playing</td>\n",
       "      <td>0.01</td>\n",
       "      <td>0.00</td>\n",
       "      <td>0.00</td>\n",
       "      <td>0.00</td>\n",
       "      <td>55.0</td>\n",
       "      <td>5.5</td>\n",
       "      <td>T</td>\n",
       "    </tr>\n",
       "  </tbody>\n",
       "</table>\n",
       "<p>269 rows × 11 columns</p>\n",
       "</div>"
      ],
      "text/plain": [
       "                                    Name Platform  Year_of_Release  \\\n",
       "183                      Madden NFL 2004      PS2              NaN   \n",
       "377                     FIFA Soccer 2004      PS2              NaN   \n",
       "456           LEGO Batman: The Videogame      Wii              NaN   \n",
       "475           wwe Smackdown vs. Raw 2006      PS2              NaN   \n",
       "609                       Space Invaders     2600              NaN   \n",
       "...                                  ...      ...              ...   \n",
       "16373  PDC World Championship Darts 2008      PSP              NaN   \n",
       "16405                      Freaky Flyers       GC              NaN   \n",
       "16448                          Inversion       PC              NaN   \n",
       "16458        Hakuouki: Shinsengumi Kitan      PS3              NaN   \n",
       "16522                       Virtua Quest       GC              NaN   \n",
       "\n",
       "              Genre  NA_sales  EU_sales  JP_sales  Other_sales  Critic_Score  \\\n",
       "183          Sports      4.26      0.26      0.01         0.71          94.0   \n",
       "377          Sports      0.59      2.36      0.04         0.51          84.0   \n",
       "456          Action      1.80      0.97      0.00         0.29          74.0   \n",
       "475        Fighting      1.57      1.02      0.00         0.41           NaN   \n",
       "609         Shooter      2.36      0.14      0.00         0.03           NaN   \n",
       "...             ...       ...       ...       ...          ...           ...   \n",
       "16373        Sports      0.01      0.00      0.00         0.00          43.0   \n",
       "16405        Racing      0.01      0.00      0.00         0.00          69.0   \n",
       "16448       Shooter      0.01      0.00      0.00         0.00          59.0   \n",
       "16458     Adventure      0.01      0.00      0.00         0.00           NaN   \n",
       "16522  Role-Playing      0.01      0.00      0.00         0.00          55.0   \n",
       "\n",
       "      User_Score Rating  \n",
       "183          8.5      E  \n",
       "377          6.4      E  \n",
       "456          7.9   E10+  \n",
       "475          NaN    NaN  \n",
       "609          NaN    NaN  \n",
       "...          ...    ...  \n",
       "16373        tbd   E10+  \n",
       "16405        6.5      T  \n",
       "16448        6.7      M  \n",
       "16458        NaN    NaN  \n",
       "16522        5.5      T  \n",
       "\n",
       "[269 rows x 11 columns]"
      ]
     },
     "metadata": {},
     "output_type": "display_data"
    }
   ],
   "source": [
    "display(data[data['Year_of_Release'].isna()]) "
   ]
  },
  {
   "cell_type": "code",
   "execution_count": 251,
   "metadata": {},
   "outputs": [
    {
     "data": {
      "text/html": [
       "<div>\n",
       "<style scoped>\n",
       "    .dataframe tbody tr th:only-of-type {\n",
       "        vertical-align: middle;\n",
       "    }\n",
       "\n",
       "    .dataframe tbody tr th {\n",
       "        vertical-align: top;\n",
       "    }\n",
       "\n",
       "    .dataframe thead th {\n",
       "        text-align: right;\n",
       "    }\n",
       "</style>\n",
       "<table border=\"1\" class=\"dataframe\">\n",
       "  <thead>\n",
       "    <tr style=\"text-align: right;\">\n",
       "      <th></th>\n",
       "      <th>Name</th>\n",
       "      <th>Platform</th>\n",
       "      <th>Year_of_Release</th>\n",
       "      <th>Genre</th>\n",
       "      <th>NA_sales</th>\n",
       "      <th>EU_sales</th>\n",
       "      <th>JP_sales</th>\n",
       "      <th>Other_sales</th>\n",
       "      <th>Critic_Score</th>\n",
       "      <th>User_Score</th>\n",
       "      <th>Rating</th>\n",
       "    </tr>\n",
       "  </thead>\n",
       "  <tbody>\n",
       "    <tr>\n",
       "      <th>1</th>\n",
       "      <td>Super Mario Bros.</td>\n",
       "      <td>NES</td>\n",
       "      <td>1985.0</td>\n",
       "      <td>Platform</td>\n",
       "      <td>29.08</td>\n",
       "      <td>3.58</td>\n",
       "      <td>6.81</td>\n",
       "      <td>0.77</td>\n",
       "      <td>NaN</td>\n",
       "      <td>NaN</td>\n",
       "      <td>NaN</td>\n",
       "    </tr>\n",
       "    <tr>\n",
       "      <th>4</th>\n",
       "      <td>Pokemon Red/Pokemon Blue</td>\n",
       "      <td>GB</td>\n",
       "      <td>1996.0</td>\n",
       "      <td>Role-Playing</td>\n",
       "      <td>11.27</td>\n",
       "      <td>8.89</td>\n",
       "      <td>10.22</td>\n",
       "      <td>1.00</td>\n",
       "      <td>NaN</td>\n",
       "      <td>NaN</td>\n",
       "      <td>NaN</td>\n",
       "    </tr>\n",
       "    <tr>\n",
       "      <th>5</th>\n",
       "      <td>Tetris</td>\n",
       "      <td>GB</td>\n",
       "      <td>1989.0</td>\n",
       "      <td>Puzzle</td>\n",
       "      <td>23.20</td>\n",
       "      <td>2.26</td>\n",
       "      <td>4.22</td>\n",
       "      <td>0.58</td>\n",
       "      <td>NaN</td>\n",
       "      <td>NaN</td>\n",
       "      <td>NaN</td>\n",
       "    </tr>\n",
       "    <tr>\n",
       "      <th>9</th>\n",
       "      <td>Duck Hunt</td>\n",
       "      <td>NES</td>\n",
       "      <td>1984.0</td>\n",
       "      <td>Shooter</td>\n",
       "      <td>26.93</td>\n",
       "      <td>0.63</td>\n",
       "      <td>0.28</td>\n",
       "      <td>0.47</td>\n",
       "      <td>NaN</td>\n",
       "      <td>NaN</td>\n",
       "      <td>NaN</td>\n",
       "    </tr>\n",
       "    <tr>\n",
       "      <th>10</th>\n",
       "      <td>Nintendogs</td>\n",
       "      <td>DS</td>\n",
       "      <td>2005.0</td>\n",
       "      <td>Simulation</td>\n",
       "      <td>9.05</td>\n",
       "      <td>10.95</td>\n",
       "      <td>1.93</td>\n",
       "      <td>2.74</td>\n",
       "      <td>NaN</td>\n",
       "      <td>NaN</td>\n",
       "      <td>NaN</td>\n",
       "    </tr>\n",
       "    <tr>\n",
       "      <th>...</th>\n",
       "      <td>...</td>\n",
       "      <td>...</td>\n",
       "      <td>...</td>\n",
       "      <td>...</td>\n",
       "      <td>...</td>\n",
       "      <td>...</td>\n",
       "      <td>...</td>\n",
       "      <td>...</td>\n",
       "      <td>...</td>\n",
       "      <td>...</td>\n",
       "      <td>...</td>\n",
       "    </tr>\n",
       "    <tr>\n",
       "      <th>16710</th>\n",
       "      <td>Samurai Warriors: Sanada Maru</td>\n",
       "      <td>PS3</td>\n",
       "      <td>2016.0</td>\n",
       "      <td>Action</td>\n",
       "      <td>0.00</td>\n",
       "      <td>0.00</td>\n",
       "      <td>0.01</td>\n",
       "      <td>0.00</td>\n",
       "      <td>NaN</td>\n",
       "      <td>NaN</td>\n",
       "      <td>NaN</td>\n",
       "    </tr>\n",
       "    <tr>\n",
       "      <th>16711</th>\n",
       "      <td>LMA Manager 2007</td>\n",
       "      <td>X360</td>\n",
       "      <td>2006.0</td>\n",
       "      <td>Sports</td>\n",
       "      <td>0.00</td>\n",
       "      <td>0.01</td>\n",
       "      <td>0.00</td>\n",
       "      <td>0.00</td>\n",
       "      <td>NaN</td>\n",
       "      <td>NaN</td>\n",
       "      <td>NaN</td>\n",
       "    </tr>\n",
       "    <tr>\n",
       "      <th>16712</th>\n",
       "      <td>Haitaka no Psychedelica</td>\n",
       "      <td>PSV</td>\n",
       "      <td>2016.0</td>\n",
       "      <td>Adventure</td>\n",
       "      <td>0.00</td>\n",
       "      <td>0.00</td>\n",
       "      <td>0.01</td>\n",
       "      <td>0.00</td>\n",
       "      <td>NaN</td>\n",
       "      <td>NaN</td>\n",
       "      <td>NaN</td>\n",
       "    </tr>\n",
       "    <tr>\n",
       "      <th>16713</th>\n",
       "      <td>Spirits &amp; Spells</td>\n",
       "      <td>GBA</td>\n",
       "      <td>2003.0</td>\n",
       "      <td>Platform</td>\n",
       "      <td>0.01</td>\n",
       "      <td>0.00</td>\n",
       "      <td>0.00</td>\n",
       "      <td>0.00</td>\n",
       "      <td>NaN</td>\n",
       "      <td>NaN</td>\n",
       "      <td>NaN</td>\n",
       "    </tr>\n",
       "    <tr>\n",
       "      <th>16714</th>\n",
       "      <td>Winning Post 8 2016</td>\n",
       "      <td>PSV</td>\n",
       "      <td>2016.0</td>\n",
       "      <td>Simulation</td>\n",
       "      <td>0.00</td>\n",
       "      <td>0.00</td>\n",
       "      <td>0.01</td>\n",
       "      <td>0.00</td>\n",
       "      <td>NaN</td>\n",
       "      <td>NaN</td>\n",
       "      <td>NaN</td>\n",
       "    </tr>\n",
       "  </tbody>\n",
       "</table>\n",
       "<p>8578 rows × 11 columns</p>\n",
       "</div>"
      ],
      "text/plain": [
       "                                Name Platform  Year_of_Release         Genre  \\\n",
       "1                  Super Mario Bros.      NES           1985.0      Platform   \n",
       "4           Pokemon Red/Pokemon Blue       GB           1996.0  Role-Playing   \n",
       "5                             Tetris       GB           1989.0        Puzzle   \n",
       "9                          Duck Hunt      NES           1984.0       Shooter   \n",
       "10                        Nintendogs       DS           2005.0    Simulation   \n",
       "...                              ...      ...              ...           ...   \n",
       "16710  Samurai Warriors: Sanada Maru      PS3           2016.0        Action   \n",
       "16711               LMA Manager 2007     X360           2006.0        Sports   \n",
       "16712        Haitaka no Psychedelica      PSV           2016.0     Adventure   \n",
       "16713               Spirits & Spells      GBA           2003.0      Platform   \n",
       "16714            Winning Post 8 2016      PSV           2016.0    Simulation   \n",
       "\n",
       "       NA_sales  EU_sales  JP_sales  Other_sales  Critic_Score User_Score  \\\n",
       "1         29.08      3.58      6.81         0.77           NaN        NaN   \n",
       "4         11.27      8.89     10.22         1.00           NaN        NaN   \n",
       "5         23.20      2.26      4.22         0.58           NaN        NaN   \n",
       "9         26.93      0.63      0.28         0.47           NaN        NaN   \n",
       "10         9.05     10.95      1.93         2.74           NaN        NaN   \n",
       "...         ...       ...       ...          ...           ...        ...   \n",
       "16710      0.00      0.00      0.01         0.00           NaN        NaN   \n",
       "16711      0.00      0.01      0.00         0.00           NaN        NaN   \n",
       "16712      0.00      0.00      0.01         0.00           NaN        NaN   \n",
       "16713      0.01      0.00      0.00         0.00           NaN        NaN   \n",
       "16714      0.00      0.00      0.01         0.00           NaN        NaN   \n",
       "\n",
       "      Rating  \n",
       "1        NaN  \n",
       "4        NaN  \n",
       "5        NaN  \n",
       "9        NaN  \n",
       "10       NaN  \n",
       "...      ...  \n",
       "16710    NaN  \n",
       "16711    NaN  \n",
       "16712    NaN  \n",
       "16713    NaN  \n",
       "16714    NaN  \n",
       "\n",
       "[8578 rows x 11 columns]"
      ]
     },
     "metadata": {},
     "output_type": "display_data"
    }
   ],
   "source": [
    "display(data[data['Critic_Score'].isna()]) "
   ]
  },
  {
   "cell_type": "code",
   "execution_count": 252,
   "metadata": {},
   "outputs": [
    {
     "data": {
      "text/html": [
       "<div>\n",
       "<style scoped>\n",
       "    .dataframe tbody tr th:only-of-type {\n",
       "        vertical-align: middle;\n",
       "    }\n",
       "\n",
       "    .dataframe tbody tr th {\n",
       "        vertical-align: top;\n",
       "    }\n",
       "\n",
       "    .dataframe thead th {\n",
       "        text-align: right;\n",
       "    }\n",
       "</style>\n",
       "<table border=\"1\" class=\"dataframe\">\n",
       "  <thead>\n",
       "    <tr style=\"text-align: right;\">\n",
       "      <th></th>\n",
       "      <th>Name</th>\n",
       "      <th>Platform</th>\n",
       "      <th>Year_of_Release</th>\n",
       "      <th>Genre</th>\n",
       "      <th>NA_sales</th>\n",
       "      <th>EU_sales</th>\n",
       "      <th>JP_sales</th>\n",
       "      <th>Other_sales</th>\n",
       "      <th>Critic_Score</th>\n",
       "      <th>User_Score</th>\n",
       "      <th>Rating</th>\n",
       "    </tr>\n",
       "  </thead>\n",
       "  <tbody>\n",
       "    <tr>\n",
       "      <th>1</th>\n",
       "      <td>Super Mario Bros.</td>\n",
       "      <td>NES</td>\n",
       "      <td>1985.0</td>\n",
       "      <td>Platform</td>\n",
       "      <td>29.08</td>\n",
       "      <td>3.58</td>\n",
       "      <td>6.81</td>\n",
       "      <td>0.77</td>\n",
       "      <td>NaN</td>\n",
       "      <td>NaN</td>\n",
       "      <td>NaN</td>\n",
       "    </tr>\n",
       "    <tr>\n",
       "      <th>4</th>\n",
       "      <td>Pokemon Red/Pokemon Blue</td>\n",
       "      <td>GB</td>\n",
       "      <td>1996.0</td>\n",
       "      <td>Role-Playing</td>\n",
       "      <td>11.27</td>\n",
       "      <td>8.89</td>\n",
       "      <td>10.22</td>\n",
       "      <td>1.00</td>\n",
       "      <td>NaN</td>\n",
       "      <td>NaN</td>\n",
       "      <td>NaN</td>\n",
       "    </tr>\n",
       "    <tr>\n",
       "      <th>5</th>\n",
       "      <td>Tetris</td>\n",
       "      <td>GB</td>\n",
       "      <td>1989.0</td>\n",
       "      <td>Puzzle</td>\n",
       "      <td>23.20</td>\n",
       "      <td>2.26</td>\n",
       "      <td>4.22</td>\n",
       "      <td>0.58</td>\n",
       "      <td>NaN</td>\n",
       "      <td>NaN</td>\n",
       "      <td>NaN</td>\n",
       "    </tr>\n",
       "    <tr>\n",
       "      <th>9</th>\n",
       "      <td>Duck Hunt</td>\n",
       "      <td>NES</td>\n",
       "      <td>1984.0</td>\n",
       "      <td>Shooter</td>\n",
       "      <td>26.93</td>\n",
       "      <td>0.63</td>\n",
       "      <td>0.28</td>\n",
       "      <td>0.47</td>\n",
       "      <td>NaN</td>\n",
       "      <td>NaN</td>\n",
       "      <td>NaN</td>\n",
       "    </tr>\n",
       "    <tr>\n",
       "      <th>10</th>\n",
       "      <td>Nintendogs</td>\n",
       "      <td>DS</td>\n",
       "      <td>2005.0</td>\n",
       "      <td>Simulation</td>\n",
       "      <td>9.05</td>\n",
       "      <td>10.95</td>\n",
       "      <td>1.93</td>\n",
       "      <td>2.74</td>\n",
       "      <td>NaN</td>\n",
       "      <td>NaN</td>\n",
       "      <td>NaN</td>\n",
       "    </tr>\n",
       "    <tr>\n",
       "      <th>...</th>\n",
       "      <td>...</td>\n",
       "      <td>...</td>\n",
       "      <td>...</td>\n",
       "      <td>...</td>\n",
       "      <td>...</td>\n",
       "      <td>...</td>\n",
       "      <td>...</td>\n",
       "      <td>...</td>\n",
       "      <td>...</td>\n",
       "      <td>...</td>\n",
       "      <td>...</td>\n",
       "    </tr>\n",
       "    <tr>\n",
       "      <th>16710</th>\n",
       "      <td>Samurai Warriors: Sanada Maru</td>\n",
       "      <td>PS3</td>\n",
       "      <td>2016.0</td>\n",
       "      <td>Action</td>\n",
       "      <td>0.00</td>\n",
       "      <td>0.00</td>\n",
       "      <td>0.01</td>\n",
       "      <td>0.00</td>\n",
       "      <td>NaN</td>\n",
       "      <td>NaN</td>\n",
       "      <td>NaN</td>\n",
       "    </tr>\n",
       "    <tr>\n",
       "      <th>16711</th>\n",
       "      <td>LMA Manager 2007</td>\n",
       "      <td>X360</td>\n",
       "      <td>2006.0</td>\n",
       "      <td>Sports</td>\n",
       "      <td>0.00</td>\n",
       "      <td>0.01</td>\n",
       "      <td>0.00</td>\n",
       "      <td>0.00</td>\n",
       "      <td>NaN</td>\n",
       "      <td>NaN</td>\n",
       "      <td>NaN</td>\n",
       "    </tr>\n",
       "    <tr>\n",
       "      <th>16712</th>\n",
       "      <td>Haitaka no Psychedelica</td>\n",
       "      <td>PSV</td>\n",
       "      <td>2016.0</td>\n",
       "      <td>Adventure</td>\n",
       "      <td>0.00</td>\n",
       "      <td>0.00</td>\n",
       "      <td>0.01</td>\n",
       "      <td>0.00</td>\n",
       "      <td>NaN</td>\n",
       "      <td>NaN</td>\n",
       "      <td>NaN</td>\n",
       "    </tr>\n",
       "    <tr>\n",
       "      <th>16713</th>\n",
       "      <td>Spirits &amp; Spells</td>\n",
       "      <td>GBA</td>\n",
       "      <td>2003.0</td>\n",
       "      <td>Platform</td>\n",
       "      <td>0.01</td>\n",
       "      <td>0.00</td>\n",
       "      <td>0.00</td>\n",
       "      <td>0.00</td>\n",
       "      <td>NaN</td>\n",
       "      <td>NaN</td>\n",
       "      <td>NaN</td>\n",
       "    </tr>\n",
       "    <tr>\n",
       "      <th>16714</th>\n",
       "      <td>Winning Post 8 2016</td>\n",
       "      <td>PSV</td>\n",
       "      <td>2016.0</td>\n",
       "      <td>Simulation</td>\n",
       "      <td>0.00</td>\n",
       "      <td>0.00</td>\n",
       "      <td>0.01</td>\n",
       "      <td>0.00</td>\n",
       "      <td>NaN</td>\n",
       "      <td>NaN</td>\n",
       "      <td>NaN</td>\n",
       "    </tr>\n",
       "  </tbody>\n",
       "</table>\n",
       "<p>6701 rows × 11 columns</p>\n",
       "</div>"
      ],
      "text/plain": [
       "                                Name Platform  Year_of_Release         Genre  \\\n",
       "1                  Super Mario Bros.      NES           1985.0      Platform   \n",
       "4           Pokemon Red/Pokemon Blue       GB           1996.0  Role-Playing   \n",
       "5                             Tetris       GB           1989.0        Puzzle   \n",
       "9                          Duck Hunt      NES           1984.0       Shooter   \n",
       "10                        Nintendogs       DS           2005.0    Simulation   \n",
       "...                              ...      ...              ...           ...   \n",
       "16710  Samurai Warriors: Sanada Maru      PS3           2016.0        Action   \n",
       "16711               LMA Manager 2007     X360           2006.0        Sports   \n",
       "16712        Haitaka no Psychedelica      PSV           2016.0     Adventure   \n",
       "16713               Spirits & Spells      GBA           2003.0      Platform   \n",
       "16714            Winning Post 8 2016      PSV           2016.0    Simulation   \n",
       "\n",
       "       NA_sales  EU_sales  JP_sales  Other_sales  Critic_Score User_Score  \\\n",
       "1         29.08      3.58      6.81         0.77           NaN        NaN   \n",
       "4         11.27      8.89     10.22         1.00           NaN        NaN   \n",
       "5         23.20      2.26      4.22         0.58           NaN        NaN   \n",
       "9         26.93      0.63      0.28         0.47           NaN        NaN   \n",
       "10         9.05     10.95      1.93         2.74           NaN        NaN   \n",
       "...         ...       ...       ...          ...           ...        ...   \n",
       "16710      0.00      0.00      0.01         0.00           NaN        NaN   \n",
       "16711      0.00      0.01      0.00         0.00           NaN        NaN   \n",
       "16712      0.00      0.00      0.01         0.00           NaN        NaN   \n",
       "16713      0.01      0.00      0.00         0.00           NaN        NaN   \n",
       "16714      0.00      0.00      0.01         0.00           NaN        NaN   \n",
       "\n",
       "      Rating  \n",
       "1        NaN  \n",
       "4        NaN  \n",
       "5        NaN  \n",
       "9        NaN  \n",
       "10       NaN  \n",
       "...      ...  \n",
       "16710    NaN  \n",
       "16711    NaN  \n",
       "16712    NaN  \n",
       "16713    NaN  \n",
       "16714    NaN  \n",
       "\n",
       "[6701 rows x 11 columns]"
      ]
     },
     "metadata": {},
     "output_type": "display_data"
    }
   ],
   "source": [
    "display(data[data['User_Score'].isna()]) "
   ]
  },
  {
   "cell_type": "code",
   "execution_count": 253,
   "metadata": {},
   "outputs": [
    {
     "data": {
      "text/html": [
       "<div>\n",
       "<style scoped>\n",
       "    .dataframe tbody tr th:only-of-type {\n",
       "        vertical-align: middle;\n",
       "    }\n",
       "\n",
       "    .dataframe tbody tr th {\n",
       "        vertical-align: top;\n",
       "    }\n",
       "\n",
       "    .dataframe thead th {\n",
       "        text-align: right;\n",
       "    }\n",
       "</style>\n",
       "<table border=\"1\" class=\"dataframe\">\n",
       "  <thead>\n",
       "    <tr style=\"text-align: right;\">\n",
       "      <th></th>\n",
       "      <th>Name</th>\n",
       "      <th>Platform</th>\n",
       "      <th>Year_of_Release</th>\n",
       "      <th>Genre</th>\n",
       "      <th>NA_sales</th>\n",
       "      <th>EU_sales</th>\n",
       "      <th>JP_sales</th>\n",
       "      <th>Other_sales</th>\n",
       "      <th>Critic_Score</th>\n",
       "      <th>User_Score</th>\n",
       "      <th>Rating</th>\n",
       "    </tr>\n",
       "  </thead>\n",
       "  <tbody>\n",
       "    <tr>\n",
       "      <th>1</th>\n",
       "      <td>Super Mario Bros.</td>\n",
       "      <td>NES</td>\n",
       "      <td>1985.0</td>\n",
       "      <td>Platform</td>\n",
       "      <td>29.08</td>\n",
       "      <td>3.58</td>\n",
       "      <td>6.81</td>\n",
       "      <td>0.77</td>\n",
       "      <td>NaN</td>\n",
       "      <td>NaN</td>\n",
       "      <td>NaN</td>\n",
       "    </tr>\n",
       "    <tr>\n",
       "      <th>4</th>\n",
       "      <td>Pokemon Red/Pokemon Blue</td>\n",
       "      <td>GB</td>\n",
       "      <td>1996.0</td>\n",
       "      <td>Role-Playing</td>\n",
       "      <td>11.27</td>\n",
       "      <td>8.89</td>\n",
       "      <td>10.22</td>\n",
       "      <td>1.00</td>\n",
       "      <td>NaN</td>\n",
       "      <td>NaN</td>\n",
       "      <td>NaN</td>\n",
       "    </tr>\n",
       "    <tr>\n",
       "      <th>5</th>\n",
       "      <td>Tetris</td>\n",
       "      <td>GB</td>\n",
       "      <td>1989.0</td>\n",
       "      <td>Puzzle</td>\n",
       "      <td>23.20</td>\n",
       "      <td>2.26</td>\n",
       "      <td>4.22</td>\n",
       "      <td>0.58</td>\n",
       "      <td>NaN</td>\n",
       "      <td>NaN</td>\n",
       "      <td>NaN</td>\n",
       "    </tr>\n",
       "    <tr>\n",
       "      <th>9</th>\n",
       "      <td>Duck Hunt</td>\n",
       "      <td>NES</td>\n",
       "      <td>1984.0</td>\n",
       "      <td>Shooter</td>\n",
       "      <td>26.93</td>\n",
       "      <td>0.63</td>\n",
       "      <td>0.28</td>\n",
       "      <td>0.47</td>\n",
       "      <td>NaN</td>\n",
       "      <td>NaN</td>\n",
       "      <td>NaN</td>\n",
       "    </tr>\n",
       "    <tr>\n",
       "      <th>10</th>\n",
       "      <td>Nintendogs</td>\n",
       "      <td>DS</td>\n",
       "      <td>2005.0</td>\n",
       "      <td>Simulation</td>\n",
       "      <td>9.05</td>\n",
       "      <td>10.95</td>\n",
       "      <td>1.93</td>\n",
       "      <td>2.74</td>\n",
       "      <td>NaN</td>\n",
       "      <td>NaN</td>\n",
       "      <td>NaN</td>\n",
       "    </tr>\n",
       "    <tr>\n",
       "      <th>...</th>\n",
       "      <td>...</td>\n",
       "      <td>...</td>\n",
       "      <td>...</td>\n",
       "      <td>...</td>\n",
       "      <td>...</td>\n",
       "      <td>...</td>\n",
       "      <td>...</td>\n",
       "      <td>...</td>\n",
       "      <td>...</td>\n",
       "      <td>...</td>\n",
       "      <td>...</td>\n",
       "    </tr>\n",
       "    <tr>\n",
       "      <th>16710</th>\n",
       "      <td>Samurai Warriors: Sanada Maru</td>\n",
       "      <td>PS3</td>\n",
       "      <td>2016.0</td>\n",
       "      <td>Action</td>\n",
       "      <td>0.00</td>\n",
       "      <td>0.00</td>\n",
       "      <td>0.01</td>\n",
       "      <td>0.00</td>\n",
       "      <td>NaN</td>\n",
       "      <td>NaN</td>\n",
       "      <td>NaN</td>\n",
       "    </tr>\n",
       "    <tr>\n",
       "      <th>16711</th>\n",
       "      <td>LMA Manager 2007</td>\n",
       "      <td>X360</td>\n",
       "      <td>2006.0</td>\n",
       "      <td>Sports</td>\n",
       "      <td>0.00</td>\n",
       "      <td>0.01</td>\n",
       "      <td>0.00</td>\n",
       "      <td>0.00</td>\n",
       "      <td>NaN</td>\n",
       "      <td>NaN</td>\n",
       "      <td>NaN</td>\n",
       "    </tr>\n",
       "    <tr>\n",
       "      <th>16712</th>\n",
       "      <td>Haitaka no Psychedelica</td>\n",
       "      <td>PSV</td>\n",
       "      <td>2016.0</td>\n",
       "      <td>Adventure</td>\n",
       "      <td>0.00</td>\n",
       "      <td>0.00</td>\n",
       "      <td>0.01</td>\n",
       "      <td>0.00</td>\n",
       "      <td>NaN</td>\n",
       "      <td>NaN</td>\n",
       "      <td>NaN</td>\n",
       "    </tr>\n",
       "    <tr>\n",
       "      <th>16713</th>\n",
       "      <td>Spirits &amp; Spells</td>\n",
       "      <td>GBA</td>\n",
       "      <td>2003.0</td>\n",
       "      <td>Platform</td>\n",
       "      <td>0.01</td>\n",
       "      <td>0.00</td>\n",
       "      <td>0.00</td>\n",
       "      <td>0.00</td>\n",
       "      <td>NaN</td>\n",
       "      <td>NaN</td>\n",
       "      <td>NaN</td>\n",
       "    </tr>\n",
       "    <tr>\n",
       "      <th>16714</th>\n",
       "      <td>Winning Post 8 2016</td>\n",
       "      <td>PSV</td>\n",
       "      <td>2016.0</td>\n",
       "      <td>Simulation</td>\n",
       "      <td>0.00</td>\n",
       "      <td>0.00</td>\n",
       "      <td>0.01</td>\n",
       "      <td>0.00</td>\n",
       "      <td>NaN</td>\n",
       "      <td>NaN</td>\n",
       "      <td>NaN</td>\n",
       "    </tr>\n",
       "  </tbody>\n",
       "</table>\n",
       "<p>6766 rows × 11 columns</p>\n",
       "</div>"
      ],
      "text/plain": [
       "                                Name Platform  Year_of_Release         Genre  \\\n",
       "1                  Super Mario Bros.      NES           1985.0      Platform   \n",
       "4           Pokemon Red/Pokemon Blue       GB           1996.0  Role-Playing   \n",
       "5                             Tetris       GB           1989.0        Puzzle   \n",
       "9                          Duck Hunt      NES           1984.0       Shooter   \n",
       "10                        Nintendogs       DS           2005.0    Simulation   \n",
       "...                              ...      ...              ...           ...   \n",
       "16710  Samurai Warriors: Sanada Maru      PS3           2016.0        Action   \n",
       "16711               LMA Manager 2007     X360           2006.0        Sports   \n",
       "16712        Haitaka no Psychedelica      PSV           2016.0     Adventure   \n",
       "16713               Spirits & Spells      GBA           2003.0      Platform   \n",
       "16714            Winning Post 8 2016      PSV           2016.0    Simulation   \n",
       "\n",
       "       NA_sales  EU_sales  JP_sales  Other_sales  Critic_Score User_Score  \\\n",
       "1         29.08      3.58      6.81         0.77           NaN        NaN   \n",
       "4         11.27      8.89     10.22         1.00           NaN        NaN   \n",
       "5         23.20      2.26      4.22         0.58           NaN        NaN   \n",
       "9         26.93      0.63      0.28         0.47           NaN        NaN   \n",
       "10         9.05     10.95      1.93         2.74           NaN        NaN   \n",
       "...         ...       ...       ...          ...           ...        ...   \n",
       "16710      0.00      0.00      0.01         0.00           NaN        NaN   \n",
       "16711      0.00      0.01      0.00         0.00           NaN        NaN   \n",
       "16712      0.00      0.00      0.01         0.00           NaN        NaN   \n",
       "16713      0.01      0.00      0.00         0.00           NaN        NaN   \n",
       "16714      0.00      0.00      0.01         0.00           NaN        NaN   \n",
       "\n",
       "      Rating  \n",
       "1        NaN  \n",
       "4        NaN  \n",
       "5        NaN  \n",
       "9        NaN  \n",
       "10       NaN  \n",
       "...      ...  \n",
       "16710    NaN  \n",
       "16711    NaN  \n",
       "16712    NaN  \n",
       "16713    NaN  \n",
       "16714    NaN  \n",
       "\n",
       "[6766 rows x 11 columns]"
      ]
     },
     "metadata": {},
     "output_type": "display_data"
    }
   ],
   "source": [
    "display(data[data['Rating'].isna()]) "
   ]
  },
  {
   "cell_type": "code",
   "execution_count": 254,
   "metadata": {},
   "outputs": [
    {
     "data": {
      "text/plain": [
       "array(['8', nan, '8.3', '8.5', '6.6', '8.4', '8.6', '7.7', '6.3', '7.4',\n",
       "       '8.2', '9', '7.9', '8.1', '8.7', '7.1', '3.4', '5.3', '4.8', '3.2',\n",
       "       '8.9', '6.4', '7.8', '7.5', '2.6', '7.2', '9.2', '7', '7.3', '4.3',\n",
       "       '7.6', '5.7', '5', '9.1', '6.5', 'tbd', '8.8', '6.9', '9.4', '6.8',\n",
       "       '6.1', '6.7', '5.4', '4', '4.9', '4.5', '9.3', '6.2', '4.2', '6',\n",
       "       '3.7', '4.1', '5.8', '5.6', '5.5', '4.4', '4.6', '5.9', '3.9',\n",
       "       '3.1', '2.9', '5.2', '3.3', '4.7', '5.1', '3.5', '2.5', '1.9', '3',\n",
       "       '2.7', '2.2', '2', '9.5', '2.1', '3.6', '2.8', '1.8', '3.8', '0',\n",
       "       '1.6', '9.6', '2.4', '1.7', '1.1', '0.3', '1.5', '0.7', '1.2',\n",
       "       '2.3', '0.5', '1.3', '0.2', '0.6', '1.4', '0.9', '1', '9.7'],\n",
       "      dtype=object)"
      ]
     },
     "metadata": {},
     "output_type": "display_data"
    }
   ],
   "source": [
    "display(data['User_Score'].unique())"
   ]
  },
  {
   "cell_type": "code",
   "execution_count": 255,
   "metadata": {},
   "outputs": [
    {
     "data": {
      "text/plain": [
       "0"
      ]
     },
     "metadata": {},
     "output_type": "display_data"
    }
   ],
   "source": [
    "display(data.duplicated().sum())"
   ]
  },
  {
   "cell_type": "markdown",
   "metadata": {},
   "source": [
    "- пропуски в столбцах Name и Genre находятся в одинаковых строках. По платформе и году выпуска видно, что это одна и та же игра, только в одной строке продажи в Америке и Европе, а в другой только в Японии\n",
    "- из-за значения 'tbd' столбец User_Score имеет тип данных object "
   ]
  },
  {
   "cell_type": "markdown",
   "metadata": {},
   "source": [
    "### Вывод\n",
    "\n",
    "- пропуски в столбцах Name и Genre находятся в одинаковых строках с одинаковой игрой, в строках указаны продажи по разным регионам\n",
    "- столбец Year_of_Release имеет тип данных float, год это целое число (int), пропуски ничем не обоснованы, интернет-магазин просто мог не получить эту информацию\n",
    "- столбец Critic_Score имеет тип данных float, в таблице оценки это целые числа\n",
    "- столбец User_Score имеет тип данных object из-за значения 'tbd'. tbd аббревиатура \"to be determined\" - подлежит определению, значит оценки на момент выгрузки данных еще нет\n",
    "- пропуски в столбцах Critic_Score, User_Score и Rating, могут быть обусловлены тем, что крупные платформы освещающие рынок игр, так же как и организация ESRB появились только во второй половины 1990-х, соответственно, игры, вышедшие в этот период могли обделить вниманием\n",
    "- названия столбцов нужно привести к нижнему регистру\n",
    "- дубликатов не обнаружены"
   ]
  },
  {
   "cell_type": "markdown",
   "metadata": {},
   "source": [
    "##  Предобработка"
   ]
  },
  {
   "cell_type": "markdown",
   "metadata": {},
   "source": [
    "### Приведение столбцов к нижнему регистру"
   ]
  },
  {
   "cell_type": "code",
   "execution_count": 256,
   "metadata": {},
   "outputs": [
    {
     "data": {
      "text/plain": [
       "Index(['name', 'platform', 'year_of_release', 'genre', 'na_sales', 'eu_sales',\n",
       "       'jp_sales', 'other_sales', 'critic_score', 'user_score', 'rating'],\n",
       "      dtype='object')"
      ]
     },
     "metadata": {},
     "output_type": "display_data"
    }
   ],
   "source": [
    "data.columns = data.columns.str.lower()\n",
    "display(data.columns)"
   ]
  },
  {
   "cell_type": "markdown",
   "metadata": {},
   "source": [
    "### Преобразование данных"
   ]
  },
  {
   "cell_type": "code",
   "execution_count": 257,
   "metadata": {},
   "outputs": [
    {
     "name": "stdout",
     "output_type": "stream",
     "text": [
      "<class 'pandas.core.frame.DataFrame'>\n",
      "RangeIndex: 16715 entries, 0 to 16714\n",
      "Data columns (total 11 columns):\n",
      " #   Column           Non-Null Count  Dtype  \n",
      "---  ------           --------------  -----  \n",
      " 0   name             16713 non-null  object \n",
      " 1   platform         16715 non-null  object \n",
      " 2   year_of_release  16446 non-null  Int64  \n",
      " 3   genre            16713 non-null  object \n",
      " 4   na_sales         16715 non-null  float64\n",
      " 5   eu_sales         16715 non-null  float64\n",
      " 6   jp_sales         16715 non-null  float64\n",
      " 7   other_sales      16715 non-null  float64\n",
      " 8   critic_score     8137 non-null   float64\n",
      " 9   user_score       7590 non-null   float64\n",
      " 10  rating           9949 non-null   object \n",
      "dtypes: Int64(1), float64(6), object(4)\n",
      "memory usage: 1.4+ MB\n"
     ]
    }
   ],
   "source": [
    "data['year_of_release'] = data['year_of_release'].astype('Int64') # год - целое число\n",
    "# tbd можно заменить на NaN, т.к. оценки по факту нет\n",
    "data['user_score'] = data['user_score'].replace('tbd', np.nan, regex=True)\n",
    "data['user_score'] = data['user_score'].astype(float) # оценки игроков - дробные числа\n",
    "data.info()"
   ]
  },
  {
   "cell_type": "markdown",
   "metadata": {},
   "source": [
    "### Обработка пропусков"
   ]
  },
  {
   "cell_type": "markdown",
   "metadata": {},
   "source": [
    "Пропуски в столбце year_of_release можно заполнить годом выпуска этой же игры на другой платформе"
   ]
  },
  {
   "cell_type": "code",
   "execution_count": 258,
   "metadata": {},
   "outputs": [
    {
     "name": "stdout",
     "output_type": "stream",
     "text": [
      "Количество пропусков до обработки: 269\n",
      "Количество пропусков после обработки: 146\n"
     ]
    }
   ],
   "source": [
    "print('Количество пропусков до обработки:',data['year_of_release'].isna().sum())\n",
    "for i in data[data['year_of_release'].isnull() == True].index:  \n",
    "    data['year_of_release'][i] = data.loc[data['name'] == data['name'][i], 'year_of_release'].max()\n",
    "print('Количество пропусков после обработки:',data['year_of_release'].isna().sum())"
   ]
  },
  {
   "cell_type": "markdown",
   "metadata": {},
   "source": [
    "Пропуски в name и genre в одинаковых строках, так же у этой неизвестной игры нет ни оценок ни рейтинга, можно спокойной её удалить"
   ]
  },
  {
   "cell_type": "code",
   "execution_count": 259,
   "metadata": {},
   "outputs": [],
   "source": [
    "data.drop([659, 14244],inplace=True)\n",
    "data = data.reset_index(drop=True)"
   ]
  },
  {
   "cell_type": "code",
   "execution_count": 260,
   "metadata": {},
   "outputs": [],
   "source": [
    "data['rating'] = data['rating'].fillna(value='RP')"
   ]
  },
  {
   "cell_type": "markdown",
   "metadata": {},
   "source": [
    "Пропуски в critic_score, user_score и rating восстановлению не подлежат. critic_score, user_score нельзя заполнять средним или медианным значениями, так как у каждой игры своя субъективная оценка при которой учитывается огромное количество факторов. С пропусками в столбце rating немного сложнее, скорее всего можно утверждать, что у игр определённого жанра будет определённый рейтинг, но не всегда. Для игр жанра Action будет существенный разброс по рейтингу. Например, игры LEGO Batman: The Videogame и GTA V можно отнести к жанру Action, но возрастной рейтинг у них сильно отличается. Принято решение заполнить пропуски в столбце rating значением RP (Rating Pending — Рейтинг ожидается)"
   ]
  },
  {
   "cell_type": "markdown",
   "metadata": {},
   "source": [
    "### Суммарные продажи"
   ]
  },
  {
   "cell_type": "code",
   "execution_count": 261,
   "metadata": {},
   "outputs": [
    {
     "data": {
      "text/html": [
       "<div>\n",
       "<style scoped>\n",
       "    .dataframe tbody tr th:only-of-type {\n",
       "        vertical-align: middle;\n",
       "    }\n",
       "\n",
       "    .dataframe tbody tr th {\n",
       "        vertical-align: top;\n",
       "    }\n",
       "\n",
       "    .dataframe thead th {\n",
       "        text-align: right;\n",
       "    }\n",
       "</style>\n",
       "<table border=\"1\" class=\"dataframe\">\n",
       "  <thead>\n",
       "    <tr style=\"text-align: right;\">\n",
       "      <th></th>\n",
       "      <th>name</th>\n",
       "      <th>platform</th>\n",
       "      <th>year_of_release</th>\n",
       "      <th>genre</th>\n",
       "      <th>na_sales</th>\n",
       "      <th>eu_sales</th>\n",
       "      <th>jp_sales</th>\n",
       "      <th>other_sales</th>\n",
       "      <th>critic_score</th>\n",
       "      <th>user_score</th>\n",
       "      <th>rating</th>\n",
       "      <th>total_sales</th>\n",
       "    </tr>\n",
       "  </thead>\n",
       "  <tbody>\n",
       "    <tr>\n",
       "      <th>0</th>\n",
       "      <td>Wii Sports</td>\n",
       "      <td>Wii</td>\n",
       "      <td>2006</td>\n",
       "      <td>Sports</td>\n",
       "      <td>41.36</td>\n",
       "      <td>28.96</td>\n",
       "      <td>3.77</td>\n",
       "      <td>8.45</td>\n",
       "      <td>76.0</td>\n",
       "      <td>8.0</td>\n",
       "      <td>E</td>\n",
       "      <td>82.54</td>\n",
       "    </tr>\n",
       "    <tr>\n",
       "      <th>1</th>\n",
       "      <td>Super Mario Bros.</td>\n",
       "      <td>NES</td>\n",
       "      <td>1985</td>\n",
       "      <td>Platform</td>\n",
       "      <td>29.08</td>\n",
       "      <td>3.58</td>\n",
       "      <td>6.81</td>\n",
       "      <td>0.77</td>\n",
       "      <td>NaN</td>\n",
       "      <td>NaN</td>\n",
       "      <td>RP</td>\n",
       "      <td>40.24</td>\n",
       "    </tr>\n",
       "    <tr>\n",
       "      <th>2</th>\n",
       "      <td>Mario Kart Wii</td>\n",
       "      <td>Wii</td>\n",
       "      <td>2008</td>\n",
       "      <td>Racing</td>\n",
       "      <td>15.68</td>\n",
       "      <td>12.76</td>\n",
       "      <td>3.79</td>\n",
       "      <td>3.29</td>\n",
       "      <td>82.0</td>\n",
       "      <td>8.3</td>\n",
       "      <td>E</td>\n",
       "      <td>35.52</td>\n",
       "    </tr>\n",
       "    <tr>\n",
       "      <th>3</th>\n",
       "      <td>Wii Sports Resort</td>\n",
       "      <td>Wii</td>\n",
       "      <td>2009</td>\n",
       "      <td>Sports</td>\n",
       "      <td>15.61</td>\n",
       "      <td>10.93</td>\n",
       "      <td>3.28</td>\n",
       "      <td>2.95</td>\n",
       "      <td>80.0</td>\n",
       "      <td>8.0</td>\n",
       "      <td>E</td>\n",
       "      <td>32.77</td>\n",
       "    </tr>\n",
       "    <tr>\n",
       "      <th>4</th>\n",
       "      <td>Pokemon Red/Pokemon Blue</td>\n",
       "      <td>GB</td>\n",
       "      <td>1996</td>\n",
       "      <td>Role-Playing</td>\n",
       "      <td>11.27</td>\n",
       "      <td>8.89</td>\n",
       "      <td>10.22</td>\n",
       "      <td>1.00</td>\n",
       "      <td>NaN</td>\n",
       "      <td>NaN</td>\n",
       "      <td>RP</td>\n",
       "      <td>31.38</td>\n",
       "    </tr>\n",
       "  </tbody>\n",
       "</table>\n",
       "</div>"
      ],
      "text/plain": [
       "                       name platform  year_of_release         genre  na_sales  \\\n",
       "0                Wii Sports      Wii             2006        Sports     41.36   \n",
       "1         Super Mario Bros.      NES             1985      Platform     29.08   \n",
       "2            Mario Kart Wii      Wii             2008        Racing     15.68   \n",
       "3         Wii Sports Resort      Wii             2009        Sports     15.61   \n",
       "4  Pokemon Red/Pokemon Blue       GB             1996  Role-Playing     11.27   \n",
       "\n",
       "   eu_sales  jp_sales  other_sales  critic_score  user_score rating  \\\n",
       "0     28.96      3.77         8.45          76.0         8.0      E   \n",
       "1      3.58      6.81         0.77           NaN         NaN     RP   \n",
       "2     12.76      3.79         3.29          82.0         8.3      E   \n",
       "3     10.93      3.28         2.95          80.0         8.0      E   \n",
       "4      8.89     10.22         1.00           NaN         NaN     RP   \n",
       "\n",
       "   total_sales  \n",
       "0        82.54  \n",
       "1        40.24  \n",
       "2        35.52  \n",
       "3        32.77  \n",
       "4        31.38  "
      ]
     },
     "execution_count": 261,
     "metadata": {},
     "output_type": "execute_result"
    }
   ],
   "source": [
    "data['total_sales'] = data['na_sales'] + data['eu_sales'] + data['jp_sales'] + data['other_sales']\n",
    "data.head()"
   ]
  },
  {
   "cell_type": "markdown",
   "metadata": {},
   "source": [
    "### Вывод\n",
    "\n",
    "Столбцы переименованы, данные преобразованы. Заполнены пропуски, где это возможно, решения по пропускам обоснованы. Добавлен новый столбец с суммарными продажами"
   ]
  },
  {
   "cell_type": "markdown",
   "metadata": {},
   "source": [
    "##  Исследовательский анализ данных"
   ]
  },
  {
   "cell_type": "markdown",
   "metadata": {},
   "source": [
    "### Выпуск игр по годам"
   ]
  },
  {
   "cell_type": "code",
   "execution_count": 262,
   "metadata": {},
   "outputs": [
    {
     "data": {
      "text/plain": [
       "<AxesSubplot:xlabel='year_of_release'>"
      ]
     },
     "metadata": {},
     "output_type": "display_data"
    },
    {
     "data": {
      "image/png": "[encoded data removed]",
      "text/plain": [
       "<Figure size 432x288 with 1 Axes>"
      ]
     },
     "metadata": {
      "needs_background": "light"
     },
     "output_type": "display_data"
    }
   ],
   "source": [
    "# создание сводной таблицы\n",
    "year_of_release_pt = pd.pivot_table(data, index='year_of_release', values='name', aggfunc='count')\n",
    "# переименование колонки\n",
    "year_of_release_pt.columns = ['games']\n",
    "# график\n",
    "display(year_of_release_pt.plot())"
   ]
  },
  {
   "cell_type": "markdown",
   "metadata": {},
   "source": [
    "Период с 1980 по начало 1990-х характеризуется малым выпуском игр, это колыбель игровой индустрии, технологии ещё недоразвиты.\n",
    "\n",
    "Всё начинает менятся с 1993 года, количество игр начинает расти. Технологии развивались, появились персональные компьютеры. Основными достижениями в те времена было бурное развитие полноценного 3D и появление нескольких новых игровых жанров. Постепенно игровая индустрия развивалась, \n",
    "\n",
    "Рост продолжался вплоть до 2008 года, от количества решили отойти в сторону качества. Крупнейшие разработчики игр находятся в постоянной конкуренции, некоторые из них делают игры несколько лет в угоду качеству и уникальности\n",
    "\n",
    "Для исследования весь период представленный в данных не нужен, т.к. информация поздних годов не актуальна"
   ]
  },
  {
   "cell_type": "markdown",
   "metadata": {},
   "source": [
    "### Выпуск игр на разных платформах"
   ]
  },
  {
   "cell_type": "code",
   "execution_count": 263,
   "metadata": {},
   "outputs": [
    {
     "data": {
      "text/html": [
       "<div>\n",
       "<style scoped>\n",
       "    .dataframe tbody tr th:only-of-type {\n",
       "        vertical-align: middle;\n",
       "    }\n",
       "\n",
       "    .dataframe tbody tr th {\n",
       "        vertical-align: top;\n",
       "    }\n",
       "\n",
       "    .dataframe thead th {\n",
       "        text-align: right;\n",
       "    }\n",
       "</style>\n",
       "<table border=\"1\" class=\"dataframe\">\n",
       "  <thead>\n",
       "    <tr style=\"text-align: right;\">\n",
       "      <th></th>\n",
       "      <th>total_sales</th>\n",
       "    </tr>\n",
       "    <tr>\n",
       "      <th>platform</th>\n",
       "      <th></th>\n",
       "    </tr>\n",
       "  </thead>\n",
       "  <tbody>\n",
       "    <tr>\n",
       "      <th>PS2</th>\n",
       "      <td>1255.77</td>\n",
       "    </tr>\n",
       "    <tr>\n",
       "      <th>X360</th>\n",
       "      <td>971.42</td>\n",
       "    </tr>\n",
       "    <tr>\n",
       "      <th>PS3</th>\n",
       "      <td>939.65</td>\n",
       "    </tr>\n",
       "    <tr>\n",
       "      <th>Wii</th>\n",
       "      <td>907.51</td>\n",
       "    </tr>\n",
       "    <tr>\n",
       "      <th>DS</th>\n",
       "      <td>806.12</td>\n",
       "    </tr>\n",
       "    <tr>\n",
       "      <th>PS</th>\n",
       "      <td>730.86</td>\n",
       "    </tr>\n",
       "    <tr>\n",
       "      <th>GBA</th>\n",
       "      <td>317.85</td>\n",
       "    </tr>\n",
       "    <tr>\n",
       "      <th>PS4</th>\n",
       "      <td>314.14</td>\n",
       "    </tr>\n",
       "    <tr>\n",
       "      <th>PSP</th>\n",
       "      <td>294.05</td>\n",
       "    </tr>\n",
       "    <tr>\n",
       "      <th>PC</th>\n",
       "      <td>259.52</td>\n",
       "    </tr>\n",
       "  </tbody>\n",
       "</table>\n",
       "</div>"
      ],
      "text/plain": [
       "          total_sales\n",
       "platform             \n",
       "PS2           1255.77\n",
       "X360           971.42\n",
       "PS3            939.65\n",
       "Wii            907.51\n",
       "DS             806.12\n",
       "PS             730.86\n",
       "GBA            317.85\n",
       "PS4            314.14\n",
       "PSP            294.05\n",
       "PC             259.52"
      ]
     },
     "metadata": {},
     "output_type": "display_data"
    }
   ],
   "source": [
    "# Выводим топ-10 платформ по продажам за всё время\n",
    "platform_pt = pd.pivot_table(data, index=['platform'], values='total_sales', aggfunc='sum')\n",
    "platform_pt = platform_pt.sort_values('total_sales',ascending=False).head(10)\n",
    "display(platform_pt)"
   ]
  },
  {
   "cell_type": "code",
   "execution_count": 264,
   "metadata": {},
   "outputs": [
    {
     "data": {
      "image/png": "[encoded data removed]",
      "text/plain": [
       "<Figure size 864x216 with 1 Axes>"
      ]
     },
     "metadata": {
      "needs_background": "light"
     },
     "output_type": "display_data"
    },
    {
     "data": {
      "image/png": "[encoded data removed]",
      "text/plain": [
       "<Figure size 864x216 with 1 Axes>"
      ]
     },
     "metadata": {
      "needs_background": "light"
     },
     "output_type": "display_data"
    },
    {
     "data": {
      "image/png": "[encoded data removed]",
      "text/plain": [
       "<Figure size 864x216 with 1 Axes>"
      ]
     },
     "metadata": {
      "needs_background": "light"
     },
     "output_type": "display_data"
    },
    {
     "data": {
      "image/png": "[encoded data removed]",
      "text/plain": [
       "<Figure size 864x216 with 1 Axes>"
      ]
     },
     "metadata": {
      "needs_background": "light"
     },
     "output_type": "display_data"
    },
    {
     "data": {
      "image/png": "[encoded data removed]",
      "text/plain": [
       "<Figure size 864x216 with 1 Axes>"
      ]
     },
     "metadata": {
      "needs_background": "light"
     },
     "output_type": "display_data"
    },
    {
     "data": {
      "image/png": "[encoded data removed]",
      "text/plain": [
       "<Figure size 864x216 with 1 Axes>"
      ]
     },
     "metadata": {
      "needs_background": "light"
     },
     "output_type": "display_data"
    },
    {
     "data": {
      "image/png": "[encoded data removed]",
      "text/plain": [
       "<Figure size 864x216 with 1 Axes>"
      ]
     },
     "metadata": {
      "needs_background": "light"
     },
     "output_type": "display_data"
    },
    {
     "data": {
      "image/png": "[encoded data removed]",
      "text/plain": [
       "<Figure size 864x216 with 1 Axes>"
      ]
     },
     "metadata": {
      "needs_background": "light"
     },
     "output_type": "display_data"
    },
    {
     "data": {
      "image/png": "[encoded data removed]",
      "text/plain": [
       "<Figure size 864x216 with 1 Axes>"
      ]
     },
     "metadata": {
      "needs_background": "light"
     },
     "output_type": "display_data"
    },
    {
     "data": {
      "image/png": "[encoded data removed]",
      "text/plain": [
       "<Figure size 864x216 with 1 Axes>"
      ]
     },
     "metadata": {
      "needs_background": "light"
     },
     "output_type": "display_data"
    }
   ],
   "source": [
    "import matplotlib.pyplot as plt\n",
    "platform_grouped = platform_pt.reset_index()\n",
    "top_platforms = platform_grouped['platform'].unique()\n",
    "for platform in top_platforms:\n",
    "    data[data['platform'] == platform].pivot_table(index='year_of_release', values='total_sales', aggfunc='sum').plot(\n",
    "        kind='bar', figsize=(12,3))\n",
    "    plt.title(platform)"
   ]
  },
  {
   "cell_type": "markdown",
   "metadata": {},
   "source": [
    "**Вывод**\n",
    "- Самая дохожная платформа PS2\n",
    "- Период жизни платформы длится в среднем от 8 до 10 лет\n",
    "- Топ продаж платформы происходит через 2-5 лет после запуска платформы\n",
    "- Из всех платформ в топ 10 только PC не умирает, каждые 5-8 лет происходят всплески и падения продаж\n",
    "- Самый показательный пример жизни платформы это приставка PlayStation. Каждые 5-7 лет выпускается приставка нового поколения, и приставка предыдущего поколения живёт еще года 3  "
   ]
  },
  {
   "cell_type": "markdown",
   "metadata": {},
   "source": [
    "### Актуальный период"
   ]
  },
  {
   "cell_type": "markdown",
   "metadata": {},
   "source": [
    "Актуальным периодом можно считать период с 2013 по 2016\n",
    "\n",
    "Причины:\n",
    "- Большей части платформ уже нет к 2016 году, нужны актуальные и свежие (PS4 вышла в 2013 году)\n",
    "- Разработка игры ведётся примерно 2-4 года (игры разработка которых началась в 2013 выйдут в 2017)\n",
    "- С начала 2010-х наблюдается тенденция к снижению количества в угоду качеству"
   ]
  },
  {
   "cell_type": "code",
   "execution_count": 265,
   "metadata": {},
   "outputs": [
    {
     "name": "stdout",
     "output_type": "stream",
     "text": [
      "<class 'pandas.core.frame.DataFrame'>\n",
      "Int64Index: 2237 entries, 16 to 16712\n",
      "Data columns (total 12 columns):\n",
      " #   Column           Non-Null Count  Dtype  \n",
      "---  ------           --------------  -----  \n",
      " 0   name             2237 non-null   object \n",
      " 1   platform         2237 non-null   object \n",
      " 2   year_of_release  2237 non-null   Int64  \n",
      " 3   genre            2237 non-null   object \n",
      " 4   na_sales         2237 non-null   float64\n",
      " 5   eu_sales         2237 non-null   float64\n",
      " 6   jp_sales         2237 non-null   float64\n",
      " 7   other_sales      2237 non-null   float64\n",
      " 8   critic_score     994 non-null    float64\n",
      " 9   user_score       1195 non-null   float64\n",
      " 10  rating           2237 non-null   object \n",
      " 11  total_sales      2237 non-null   float64\n",
      "dtypes: Int64(1), float64(7), object(4)\n",
      "memory usage: 229.4+ KB\n"
     ]
    }
   ],
   "source": [
    "actual_data = data.query('year_of_release > 2012')\n",
    "actual_data.info()"
   ]
  },
  {
   "cell_type": "markdown",
   "metadata": {},
   "source": [
    "### Актуальные платформы"
   ]
  },
  {
   "cell_type": "markdown",
   "metadata": {},
   "source": [
    "Составим таблицу с самыми прибыльными платформами за актуальный период"
   ]
  },
  {
   "cell_type": "code",
   "execution_count": 266,
   "metadata": {},
   "outputs": [
    {
     "data": {
      "text/html": [
       "<div>\n",
       "<style scoped>\n",
       "    .dataframe tbody tr th:only-of-type {\n",
       "        vertical-align: middle;\n",
       "    }\n",
       "\n",
       "    .dataframe tbody tr th {\n",
       "        vertical-align: top;\n",
       "    }\n",
       "\n",
       "    .dataframe thead th {\n",
       "        text-align: right;\n",
       "    }\n",
       "</style>\n",
       "<table border=\"1\" class=\"dataframe\">\n",
       "  <thead>\n",
       "    <tr style=\"text-align: right;\">\n",
       "      <th></th>\n",
       "      <th>total_sales</th>\n",
       "    </tr>\n",
       "    <tr>\n",
       "      <th>platform</th>\n",
       "      <th></th>\n",
       "    </tr>\n",
       "  </thead>\n",
       "  <tbody>\n",
       "    <tr>\n",
       "      <th>PS4</th>\n",
       "      <td>314.14</td>\n",
       "    </tr>\n",
       "    <tr>\n",
       "      <th>PS3</th>\n",
       "      <td>181.43</td>\n",
       "    </tr>\n",
       "    <tr>\n",
       "      <th>XOne</th>\n",
       "      <td>159.32</td>\n",
       "    </tr>\n",
       "    <tr>\n",
       "      <th>3DS</th>\n",
       "      <td>143.25</td>\n",
       "    </tr>\n",
       "    <tr>\n",
       "      <th>X360</th>\n",
       "      <td>136.80</td>\n",
       "    </tr>\n",
       "    <tr>\n",
       "      <th>WiiU</th>\n",
       "      <td>64.63</td>\n",
       "    </tr>\n",
       "    <tr>\n",
       "      <th>PC</th>\n",
       "      <td>40.06</td>\n",
       "    </tr>\n",
       "    <tr>\n",
       "      <th>PSV</th>\n",
       "      <td>32.99</td>\n",
       "    </tr>\n",
       "    <tr>\n",
       "      <th>Wii</th>\n",
       "      <td>13.66</td>\n",
       "    </tr>\n",
       "    <tr>\n",
       "      <th>PSP</th>\n",
       "      <td>3.74</td>\n",
       "    </tr>\n",
       "    <tr>\n",
       "      <th>DS</th>\n",
       "      <td>1.54</td>\n",
       "    </tr>\n",
       "  </tbody>\n",
       "</table>\n",
       "</div>"
      ],
      "text/plain": [
       "          total_sales\n",
       "platform             \n",
       "PS4            314.14\n",
       "PS3            181.43\n",
       "XOne           159.32\n",
       "3DS            143.25\n",
       "X360           136.80\n",
       "WiiU            64.63\n",
       "PC              40.06\n",
       "PSV             32.99\n",
       "Wii             13.66\n",
       "PSP              3.74\n",
       "DS               1.54"
      ]
     },
     "execution_count": 266,
     "metadata": {},
     "output_type": "execute_result"
    }
   ],
   "source": [
    "actual_platform_pt = pd.pivot_table(actual_data, index=['platform'], values='total_sales', aggfunc='sum')\n",
    "actual_platform_pt.sort_values(by='total_sales',ascending = False)"
   ]
  },
  {
   "cell_type": "markdown",
   "metadata": {},
   "source": [
    "По продажам лидируют PS4, PS3, XOne, 3DS"
   ]
  },
  {
   "cell_type": "markdown",
   "metadata": {},
   "source": [
    "Теперь посмотрим продажи в разбивке по годам"
   ]
  },
  {
   "cell_type": "code",
   "execution_count": 267,
   "metadata": {},
   "outputs": [
    {
     "data": {
      "image/png": "[encoded data removed]",
      "text/plain": [
       "<Figure size 864x216 with 1 Axes>"
      ]
     },
     "metadata": {
      "needs_background": "light"
     },
     "output_type": "display_data"
    },
    {
     "data": {
      "image/png": "[encoded data removed]",
      "text/plain": [
       "<Figure size 864x216 with 1 Axes>"
      ]
     },
     "metadata": {
      "needs_background": "light"
     },
     "output_type": "display_data"
    },
    {
     "data": {
      "image/png": "[encoded data removed]",
      "text/plain": [
       "<Figure size 864x216 with 1 Axes>"
      ]
     },
     "metadata": {
      "needs_background": "light"
     },
     "output_type": "display_data"
    },
    {
     "data": {
      "image/png": "[encoded data removed]",
      "text/plain": [
       "<Figure size 864x216 with 1 Axes>"
      ]
     },
     "metadata": {
      "needs_background": "light"
     },
     "output_type": "display_data"
    },
    {
     "data": {
      "image/png": "[encoded data removed]",
      "text/plain": [
       "<Figure size 864x216 with 1 Axes>"
      ]
     },
     "metadata": {
      "needs_background": "light"
     },
     "output_type": "display_data"
    },
    {
     "data": {
      "image/png": "[encoded data removed]",
      "text/plain": [
       "<Figure size 864x216 with 1 Axes>"
      ]
     },
     "metadata": {
      "needs_background": "light"
     },
     "output_type": "display_data"
    },
    {
     "data": {
      "image/png": "[encoded data removed]",
      "text/plain": [
       "<Figure size 864x216 with 1 Axes>"
      ]
     },
     "metadata": {
      "needs_background": "light"
     },
     "output_type": "display_data"
    },
    {
     "data": {
      "image/png": "[encoded data removed]",
      "text/plain": [
       "<Figure size 864x216 with 1 Axes>"
      ]
     },
     "metadata": {
      "needs_background": "light"
     },
     "output_type": "display_data"
    },
    {
     "data": {
      "image/png": "[encoded data removed]",
      "text/plain": [
       "<Figure size 864x216 with 1 Axes>"
      ]
     },
     "metadata": {
      "needs_background": "light"
     },
     "output_type": "display_data"
    },
    {
     "data": {
      "image/png": "[encoded data removed]",
      "text/plain": [
       "<Figure size 864x216 with 1 Axes>"
      ]
     },
     "metadata": {
      "needs_background": "light"
     },
     "output_type": "display_data"
    },
    {
     "data": {
      "image/png": "[encoded data removed]",
      "text/plain": [
       "<Figure size 864x216 with 1 Axes>"
      ]
     },
     "metadata": {
      "needs_background": "light"
     },
     "output_type": "display_data"
    }
   ],
   "source": [
    "actual_platform_grouped = actual_platform_pt.reset_index()\n",
    "top_actual_platforms = actual_platform_grouped['platform'].unique()\n",
    "for platform in top_actual_platforms:\n",
    "    actual_data[actual_data['platform'] == platform].pivot_table(index='year_of_release', values='total_sales', aggfunc='sum').plot(kind='bar', figsize=(12,3))\n",
    "    plt.title(platform)"
   ]
  },
  {
   "cell_type": "markdown",
   "metadata": {},
   "source": [
    "В целом у всех платформ идёт снижение продаж, что и не удивительно, учитывая общую тенденцию снижения выпуска игр\n",
    "\n",
    "В наихудшем положении находятся платформы старого поколения, которые уже ничего не могут предложить и которые были заменены новыми. Среди них PS3, X360, DS, Wii и PSP. Соответственно потенциально прибыльными можно считать PS4 и XOne.\n",
    "\n",
    "PC как всегда стабилен"
   ]
  },
  {
   "cell_type": "markdown",
   "metadata": {},
   "source": [
    "**Перейдем к диаграммам размаха**"
   ]
  },
  {
   "cell_type": "code",
   "execution_count": 268,
   "metadata": {},
   "outputs": [
    {
     "data": {
      "text/plain": [
       "count    2237.000000\n",
       "mean        0.487957\n",
       "std         1.234181\n",
       "min         0.010000\n",
       "25%         0.030000\n",
       "50%         0.110000\n",
       "75%         0.400000\n",
       "max        21.050000\n",
       "Name: total_sales, dtype: float64"
      ]
     },
     "metadata": {},
     "output_type": "display_data"
    },
    {
     "data": {
      "image/png": "[encoded data removed]",
      "text/plain": [
       "<Figure size 432x288 with 1 Axes>"
      ]
     },
     "metadata": {
      "needs_background": "light"
     },
     "output_type": "display_data"
    }
   ],
   "source": [
    "actual_data.boxplot(column = 'total_sales')\n",
    "display(actual_data['total_sales'].describe())"
   ]
  },
  {
   "cell_type": "code",
   "execution_count": 269,
   "metadata": {},
   "outputs": [
    {
     "data": {
      "text/html": [
       "<div>\n",
       "<style scoped>\n",
       "    .dataframe tbody tr th:only-of-type {\n",
       "        vertical-align: middle;\n",
       "    }\n",
       "\n",
       "    .dataframe tbody tr th {\n",
       "        vertical-align: top;\n",
       "    }\n",
       "\n",
       "    .dataframe thead th {\n",
       "        text-align: right;\n",
       "    }\n",
       "</style>\n",
       "<table border=\"1\" class=\"dataframe\">\n",
       "  <thead>\n",
       "    <tr style=\"text-align: right;\">\n",
       "      <th></th>\n",
       "      <th>count</th>\n",
       "      <th>mean</th>\n",
       "      <th>std</th>\n",
       "      <th>min</th>\n",
       "      <th>25%</th>\n",
       "      <th>50%</th>\n",
       "      <th>75%</th>\n",
       "      <th>max</th>\n",
       "    </tr>\n",
       "    <tr>\n",
       "      <th>platform</th>\n",
       "      <th></th>\n",
       "      <th></th>\n",
       "      <th></th>\n",
       "      <th></th>\n",
       "      <th></th>\n",
       "      <th></th>\n",
       "      <th></th>\n",
       "      <th></th>\n",
       "    </tr>\n",
       "  </thead>\n",
       "  <tbody>\n",
       "    <tr>\n",
       "      <th>PS4</th>\n",
       "      <td>392.0</td>\n",
       "      <td>0.801378</td>\n",
       "      <td>1.609456</td>\n",
       "      <td>0.01</td>\n",
       "      <td>0.06</td>\n",
       "      <td>0.200</td>\n",
       "      <td>0.730</td>\n",
       "      <td>14.63</td>\n",
       "    </tr>\n",
       "    <tr>\n",
       "      <th>PS3</th>\n",
       "      <td>345.0</td>\n",
       "      <td>0.525884</td>\n",
       "      <td>1.451939</td>\n",
       "      <td>0.01</td>\n",
       "      <td>0.04</td>\n",
       "      <td>0.150</td>\n",
       "      <td>0.510</td>\n",
       "      <td>21.05</td>\n",
       "    </tr>\n",
       "    <tr>\n",
       "      <th>3DS</th>\n",
       "      <td>303.0</td>\n",
       "      <td>0.472772</td>\n",
       "      <td>1.381347</td>\n",
       "      <td>0.01</td>\n",
       "      <td>0.04</td>\n",
       "      <td>0.090</td>\n",
       "      <td>0.280</td>\n",
       "      <td>14.60</td>\n",
       "    </tr>\n",
       "    <tr>\n",
       "      <th>XOne</th>\n",
       "      <td>247.0</td>\n",
       "      <td>0.645020</td>\n",
       "      <td>1.036139</td>\n",
       "      <td>0.01</td>\n",
       "      <td>0.06</td>\n",
       "      <td>0.220</td>\n",
       "      <td>0.685</td>\n",
       "      <td>7.39</td>\n",
       "    </tr>\n",
       "    <tr>\n",
       "      <th>PC</th>\n",
       "      <td>192.0</td>\n",
       "      <td>0.208646</td>\n",
       "      <td>0.349801</td>\n",
       "      <td>0.01</td>\n",
       "      <td>0.03</td>\n",
       "      <td>0.080</td>\n",
       "      <td>0.230</td>\n",
       "      <td>3.05</td>\n",
       "    </tr>\n",
       "    <tr>\n",
       "      <th>X360</th>\n",
       "      <td>186.0</td>\n",
       "      <td>0.735484</td>\n",
       "      <td>1.663275</td>\n",
       "      <td>0.01</td>\n",
       "      <td>0.08</td>\n",
       "      <td>0.265</td>\n",
       "      <td>0.795</td>\n",
       "      <td>16.27</td>\n",
       "    </tr>\n",
       "    <tr>\n",
       "      <th>WiiU</th>\n",
       "      <td>115.0</td>\n",
       "      <td>0.562000</td>\n",
       "      <td>1.038778</td>\n",
       "      <td>0.01</td>\n",
       "      <td>0.06</td>\n",
       "      <td>0.200</td>\n",
       "      <td>0.595</td>\n",
       "      <td>7.09</td>\n",
       "    </tr>\n",
       "  </tbody>\n",
       "</table>\n",
       "</div>"
      ],
      "text/plain": [
       "          count      mean       std   min   25%    50%    75%    max\n",
       "platform                                                            \n",
       "PS4       392.0  0.801378  1.609456  0.01  0.06  0.200  0.730  14.63\n",
       "PS3       345.0  0.525884  1.451939  0.01  0.04  0.150  0.510  21.05\n",
       "3DS       303.0  0.472772  1.381347  0.01  0.04  0.090  0.280  14.60\n",
       "XOne      247.0  0.645020  1.036139  0.01  0.06  0.220  0.685   7.39\n",
       "PC        192.0  0.208646  0.349801  0.01  0.03  0.080  0.230   3.05\n",
       "X360      186.0  0.735484  1.663275  0.01  0.08  0.265  0.795  16.27\n",
       "WiiU      115.0  0.562000  1.038778  0.01  0.06  0.200  0.595   7.09"
      ]
     },
     "metadata": {},
     "output_type": "display_data"
    }
   ],
   "source": [
    "top_platforms = actual_data[actual_data['platform'].isin(['PS4','PS3','XOne','3DS','X360','WiiU','PC'])]\n",
    "top_platforms = top_platforms[top_platforms['total_sales']<22] # обрубаем до максимального значения в таблице, иначе - ошибка\n",
    "display(top_platforms.groupby('platform')['total_sales'].describe().sort_values(by='count', ascending = False))"
   ]
  },
  {
   "cell_type": "code",
   "execution_count": 270,
   "metadata": {},
   "outputs": [
    {
     "data": {
      "text/plain": [
       "<AxesSubplot:xlabel='platform', ylabel='total_sales'>"
      ]
     },
     "execution_count": 270,
     "metadata": {},
     "output_type": "execute_result"
    },
    {
     "data": {
      "image/png": "[encoded data removed]",
      "text/plain": [
       "<Figure size 864x720 with 1 Axes>"
      ]
     },
     "metadata": {
      "needs_background": "light"
     },
     "output_type": "display_data"
    }
   ],
   "source": [
    "plt.figure(figsize=(12,10))\n",
    "sns.boxplot(data=top_platforms, x='platform', y='total_sales')"
   ]
  },
  {
   "cell_type": "code",
   "execution_count": 271,
   "metadata": {},
   "outputs": [
    {
     "data": {
      "text/plain": [
       "<AxesSubplot:xlabel='platform', ylabel='total_sales'>"
      ]
     },
     "execution_count": 271,
     "metadata": {},
     "output_type": "execute_result"
    },
    {
     "data": {
      "image/png": "[encoded data removed]",
      "text/plain": [
       "<Figure size 864x720 with 1 Axes>"
      ]
     },
     "metadata": {
      "needs_background": "light"
     },
     "output_type": "display_data"
    }
   ],
   "source": [
    "plt.figure(figsize=(12,10))\n",
    "plt.ylim(0,3)\n",
    "sns.boxplot(data=top_platforms, x='platform', y='total_sales')"
   ]
  },
  {
   "cell_type": "markdown",
   "metadata": {},
   "source": [
    "**Вывод**\n",
    "- Средняя выручка за игру по миру 488000, при этом подавляющее большинство игр не смогли преодолеть эту цифру, что не удивительно. На рынке видеоигр огромное разнообразие, но при этом реально выдающееся произведение попадается редко. Шедевры продаются в огромном количестве.\n",
    "- Самая высокая средняя выручка у платформы PS4, а самая продаваемая игра у PS3. Обе эти платформы лидируют по количеству игр\n",
    "- В целом по платформам не наблюдается большой разброс в средних значениях\n",
    "- У PS4 и 3DS наблюдается тенденция к росту продаж,т.к. среднее больше 3-го квартиля"
   ]
  },
  {
   "cell_type": "markdown",
   "metadata": {},
   "source": [
    "### Влияние отзывов на продажи"
   ]
  },
  {
   "cell_type": "markdown",
   "metadata": {},
   "source": [
    "Для начала посмотрим на влияние отзывов в рамках платформы PS4"
   ]
  },
  {
   "cell_type": "code",
   "execution_count": 272,
   "metadata": {},
   "outputs": [
    {
     "name": "stdout",
     "output_type": "stream",
     "text": [
      "Корреляция между продажами и оценкой критиков: 0.40656790206178095\n"
     ]
    },
    {
     "data": {
      "image/png": "[encoded data removed]",
      "text/plain": [
       "<Figure size 864x432 with 1 Axes>"
      ]
     },
     "metadata": {
      "needs_background": "light"
     },
     "output_type": "display_data"
    }
   ],
   "source": [
    "PS4 = actual_data[actual_data['platform']=='PS4']\n",
    "plt.figure(figsize=(12,6))\n",
    "sns.scatterplot(x='critic_score', y='total_sales', data=PS4)\n",
    "print('Корреляция между продажами и оценкой критиков:',PS4['critic_score'].corr(PS4['total_sales']))\n"
   ]
  },
  {
   "cell_type": "code",
   "execution_count": 273,
   "metadata": {},
   "outputs": [
    {
     "name": "stdout",
     "output_type": "stream",
     "text": [
      "Корреляция между продажами и оценкой пользователей: -0.031957110204556376\n"
     ]
    },
    {
     "data": {
      "image/png": "[encoded data removed]",
      "text/plain": [
       "<Figure size 864x432 with 1 Axes>"
      ]
     },
     "metadata": {
      "needs_background": "light"
     },
     "output_type": "display_data"
    }
   ],
   "source": [
    "plt.figure(figsize=(12,6))\n",
    "sns.scatterplot(x='user_score', y='total_sales', data=PS4)\n",
    "print('Корреляция между продажами и оценкой пользователей:',PS4['user_score'].corr(PS4['total_sales']))"
   ]
  },
  {
   "cell_type": "markdown",
   "metadata": {},
   "source": [
    "Оценки пользователей никак не влияют на количество продаж, зато оценки критиков имеет умеренное влияние\n",
    "\n",
    "Теперь посмотрим на другие платформы"
   ]
  },
  {
   "cell_type": "code",
   "execution_count": 274,
   "metadata": {},
   "outputs": [
    {
     "name": "stdout",
     "output_type": "stream",
     "text": [
      "Корреляция между продажами и оценкой пользователей у игровой платформы  PS3 0.0023944027357566925\n",
      "Корреляция между продажами и оценкой критиков у игровой платформы  PS3 0.3342853393371919\n",
      "Корреляция между продажами и оценкой пользователей у игровой платформы  XOne -0.06892505328279414\n",
      "Корреляция между продажами и оценкой критиков у игровой платформы  XOne 0.4169983280084017\n",
      "Корреляция между продажами и оценкой пользователей у игровой платформы  3DS 0.24150411773563016\n",
      "Корреляция между продажами и оценкой критиков у игровой платформы  3DS 0.3570566142288103\n",
      "Корреляция между продажами и оценкой пользователей у игровой платформы  X360 -0.011742185147181342\n",
      "Корреляция между продажами и оценкой критиков у игровой платформы  X360 0.3503445460228664\n",
      "Корреляция между продажами и оценкой пользователей у игровой платформы  WiiU 0.4193304819266187\n",
      "Корреляция между продажами и оценкой критиков у игровой платформы  WiiU 0.3764149065423912\n",
      "Корреляция между продажами и оценкой пользователей у игровой платформы  PC -0.0899977567844875\n",
      "Корреляция между продажами и оценкой критиков у игровой платформы  PC 0.19965984836380182\n"
     ]
    }
   ],
   "source": [
    "platform_list = ['PS3','XOne','3DS','X360','WiiU','PC']\n",
    "def platform_corr(name):\n",
    "    platform = actual_data[actual_data['platform']==name]\n",
    "    user = platform['user_score'].corr(platform['total_sales'])\n",
    "    critic = platform['critic_score'].corr(platform['total_sales'])\n",
    "    print('Корреляция между продажами и оценкой пользователей у игровой платформы ', name, user)\n",
    "    print('Корреляция между продажами и оценкой критиков у игровой платформы ', name, critic)\n",
    "for platform in platform_list:\n",
    "    platform_corr(platform)"
   ]
  },
  {
   "cell_type": "markdown",
   "metadata": {},
   "source": [
    "Полезно будет посмотреть на корреляцию между оценками критиков и пользователей. Есть теория, что пользователи смотрят на оценку критиков, и уже на её основе дают свою"
   ]
  },
  {
   "cell_type": "code",
   "execution_count": 275,
   "metadata": {},
   "outputs": [
    {
     "data": {
      "text/plain": [
       "0.5027020978837679"
      ]
     },
     "metadata": {},
     "output_type": "display_data"
    }
   ],
   "source": [
    "display(actual_data['critic_score'].corr(actual_data['user_score']))"
   ]
  },
  {
   "cell_type": "markdown",
   "metadata": {},
   "source": [
    "И да, связь есть, хоть и не очевидная"
   ]
  },
  {
   "cell_type": "markdown",
   "metadata": {},
   "source": [
    "**Вывод**\n",
    "\n",
    "- У всех платформ умеренная корреляция между продажами и оценкой критиков, выделяется только PC с самой слабой корреляцией\n",
    "- У всех платформ очень слабая корреляция между продажами и оценкой пользователей, кроме 3DS, где корреляция составляет 0.24. Не сильная, но всё же есть\n",
    "- Оценки критиков умеренно влияют на оценки пользователей"
   ]
  },
  {
   "cell_type": "markdown",
   "metadata": {},
   "source": [
    "### Распределение по жанрам"
   ]
  },
  {
   "cell_type": "code",
   "execution_count": 276,
   "metadata": {},
   "outputs": [
    {
     "data": {
      "text/html": [
       "<div>\n",
       "<style scoped>\n",
       "    .dataframe tbody tr th:only-of-type {\n",
       "        vertical-align: middle;\n",
       "    }\n",
       "\n",
       "    .dataframe tbody tr th {\n",
       "        vertical-align: top;\n",
       "    }\n",
       "\n",
       "    .dataframe thead th {\n",
       "        text-align: right;\n",
       "    }\n",
       "</style>\n",
       "<table border=\"1\" class=\"dataframe\">\n",
       "  <thead>\n",
       "    <tr style=\"text-align: right;\">\n",
       "      <th></th>\n",
       "      <th>total_sales</th>\n",
       "    </tr>\n",
       "    <tr>\n",
       "      <th>genre</th>\n",
       "      <th></th>\n",
       "    </tr>\n",
       "  </thead>\n",
       "  <tbody>\n",
       "    <tr>\n",
       "      <th>Action</th>\n",
       "      <td>322.50</td>\n",
       "    </tr>\n",
       "    <tr>\n",
       "      <th>Shooter</th>\n",
       "      <td>232.98</td>\n",
       "    </tr>\n",
       "    <tr>\n",
       "      <th>Sports</th>\n",
       "      <td>150.65</td>\n",
       "    </tr>\n",
       "    <tr>\n",
       "      <th>Role-Playing</th>\n",
       "      <td>145.89</td>\n",
       "    </tr>\n",
       "    <tr>\n",
       "      <th>Misc</th>\n",
       "      <td>63.06</td>\n",
       "    </tr>\n",
       "    <tr>\n",
       "      <th>Platform</th>\n",
       "      <td>42.63</td>\n",
       "    </tr>\n",
       "    <tr>\n",
       "      <th>Racing</th>\n",
       "      <td>39.89</td>\n",
       "    </tr>\n",
       "    <tr>\n",
       "      <th>Fighting</th>\n",
       "      <td>35.31</td>\n",
       "    </tr>\n",
       "    <tr>\n",
       "      <th>Adventure</th>\n",
       "      <td>23.64</td>\n",
       "    </tr>\n",
       "    <tr>\n",
       "      <th>Simulation</th>\n",
       "      <td>21.76</td>\n",
       "    </tr>\n",
       "    <tr>\n",
       "      <th>Strategy</th>\n",
       "      <td>10.08</td>\n",
       "    </tr>\n",
       "    <tr>\n",
       "      <th>Puzzle</th>\n",
       "      <td>3.17</td>\n",
       "    </tr>\n",
       "  </tbody>\n",
       "</table>\n",
       "</div>"
      ],
      "text/plain": [
       "              total_sales\n",
       "genre                    \n",
       "Action             322.50\n",
       "Shooter            232.98\n",
       "Sports             150.65\n",
       "Role-Playing       145.89\n",
       "Misc                63.06\n",
       "Platform            42.63\n",
       "Racing              39.89\n",
       "Fighting            35.31\n",
       "Adventure           23.64\n",
       "Simulation          21.76\n",
       "Strategy            10.08\n",
       "Puzzle               3.17"
      ]
     },
     "execution_count": 276,
     "metadata": {},
     "output_type": "execute_result"
    }
   ],
   "source": [
    "genre_pt = pd.pivot_table(actual_data, index='genre', values='total_sales', aggfunc='sum')\n",
    "genre_pt.sort_values('total_sales', ascending=False)"
   ]
  },
  {
   "cell_type": "markdown",
   "metadata": {},
   "source": [
    "Самыми популярными жанрами игр являются: Action, Shooter, Sports, Role-Playing\n",
    "Популярность экшенов и шутеров обусловлена простотой освоения и большим ассортиментом игр. Большинство бестселлеров создаются именно в этих жанрах, на разработку вливают огромные средства и получают качественную, захватывающую и увлекательную игру. Со спортивными играми всё проще, спорт сам по себе популярен. С RPG уже интереснее, недаром жанр называется Role-Play (отыгрыш роли). Жанру присуща большая вариативность, прямое влияние действий игрока на окружающий мир и его историю. Люди отыгрывают роль, становятся теми, кем хотят."
   ]
  },
  {
   "cell_type": "markdown",
   "metadata": {},
   "source": [
    "### Вывод"
   ]
  },
  {
   "cell_type": "markdown",
   "metadata": {},
   "source": [
    "- Начиная с середины 1990-х игровая индустрия начала бурное развитие, неутомимый рост продолжался вплоть до начала 2010-х годов, когда на первое место начало выходить не количество, а качество продукта\n",
    "- Самыми популярными платформами за всё время являются PlayStation 2, PlayStation 3, XBOX 360, Nintendo WII и Nintendo DS. В актуальный период PlayStation 4, PlayStation 3, XBOX One, 3DS\n",
    "- Период жизни платформы длится в среднем от 8 до 10 лет, пик продаж на платформе обычно происходит на 3 год жизни, потом платформа заменяется новым поколением (не относится к PC)\n",
    "- Перспективные платформы: PlayStation 4, XOne, 3DS\n",
    "- Для игр всех платформ наблюдается умеренная зависимость продаж от оценок критиков, в то время как оценки пользователей на продажи не влияют\n",
    "- Action - самый популярный жанр игр в актуальный период"
   ]
  },
  {
   "cell_type": "markdown",
   "metadata": {},
   "source": [
    "## Пользователи по регионам"
   ]
  },
  {
   "cell_type": "markdown",
   "metadata": {},
   "source": [
    "### Платформы"
   ]
  },
  {
   "cell_type": "markdown",
   "metadata": {},
   "source": [
    "Топ 5 платформ в Северной Америке"
   ]
  },
  {
   "cell_type": "code",
   "execution_count": 277,
   "metadata": {},
   "outputs": [
    {
     "data": {
      "text/html": [
       "<div>\n",
       "<style scoped>\n",
       "    .dataframe tbody tr th:only-of-type {\n",
       "        vertical-align: middle;\n",
       "    }\n",
       "\n",
       "    .dataframe tbody tr th {\n",
       "        vertical-align: top;\n",
       "    }\n",
       "\n",
       "    .dataframe thead th {\n",
       "        text-align: right;\n",
       "    }\n",
       "</style>\n",
       "<table border=\"1\" class=\"dataframe\">\n",
       "  <thead>\n",
       "    <tr style=\"text-align: right;\">\n",
       "      <th></th>\n",
       "      <th>na_sales</th>\n",
       "    </tr>\n",
       "    <tr>\n",
       "      <th>platform</th>\n",
       "      <th></th>\n",
       "    </tr>\n",
       "  </thead>\n",
       "  <tbody>\n",
       "    <tr>\n",
       "      <th>PS4</th>\n",
       "      <td>108.74</td>\n",
       "    </tr>\n",
       "    <tr>\n",
       "      <th>XOne</th>\n",
       "      <td>93.12</td>\n",
       "    </tr>\n",
       "    <tr>\n",
       "      <th>X360</th>\n",
       "      <td>81.66</td>\n",
       "    </tr>\n",
       "    <tr>\n",
       "      <th>PS3</th>\n",
       "      <td>63.50</td>\n",
       "    </tr>\n",
       "    <tr>\n",
       "      <th>3DS</th>\n",
       "      <td>38.20</td>\n",
       "    </tr>\n",
       "  </tbody>\n",
       "</table>\n",
       "</div>"
      ],
      "text/plain": [
       "          na_sales\n",
       "platform          \n",
       "PS4         108.74\n",
       "XOne         93.12\n",
       "X360         81.66\n",
       "PS3          63.50\n",
       "3DS          38.20"
      ]
     },
     "metadata": {},
     "output_type": "display_data"
    }
   ],
   "source": [
    "na_data = actual_data.query('na_sales > 0')\n",
    "na_data_pt = pd.pivot_table(na_data, index='platform', values='na_sales',aggfunc='sum').sort_values('na_sales', ascending=False).head(5)\n",
    "display(na_data_pt)"
   ]
  },
  {
   "cell_type": "markdown",
   "metadata": {},
   "source": [
    "Топ 5 платформ в Европе"
   ]
  },
  {
   "cell_type": "code",
   "execution_count": 278,
   "metadata": {},
   "outputs": [
    {
     "data": {
      "text/html": [
       "<div>\n",
       "<style scoped>\n",
       "    .dataframe tbody tr th:only-of-type {\n",
       "        vertical-align: middle;\n",
       "    }\n",
       "\n",
       "    .dataframe tbody tr th {\n",
       "        vertical-align: top;\n",
       "    }\n",
       "\n",
       "    .dataframe thead th {\n",
       "        text-align: right;\n",
       "    }\n",
       "</style>\n",
       "<table border=\"1\" class=\"dataframe\">\n",
       "  <thead>\n",
       "    <tr style=\"text-align: right;\">\n",
       "      <th></th>\n",
       "      <th>eu_sales</th>\n",
       "    </tr>\n",
       "    <tr>\n",
       "      <th>platform</th>\n",
       "      <th></th>\n",
       "    </tr>\n",
       "  </thead>\n",
       "  <tbody>\n",
       "    <tr>\n",
       "      <th>PS4</th>\n",
       "      <td>141.09</td>\n",
       "    </tr>\n",
       "    <tr>\n",
       "      <th>PS3</th>\n",
       "      <td>67.81</td>\n",
       "    </tr>\n",
       "    <tr>\n",
       "      <th>XOne</th>\n",
       "      <td>51.59</td>\n",
       "    </tr>\n",
       "    <tr>\n",
       "      <th>X360</th>\n",
       "      <td>42.52</td>\n",
       "    </tr>\n",
       "    <tr>\n",
       "      <th>3DS</th>\n",
       "      <td>30.96</td>\n",
       "    </tr>\n",
       "  </tbody>\n",
       "</table>\n",
       "</div>"
      ],
      "text/plain": [
       "          eu_sales\n",
       "platform          \n",
       "PS4         141.09\n",
       "PS3          67.81\n",
       "XOne         51.59\n",
       "X360         42.52\n",
       "3DS          30.96"
      ]
     },
     "metadata": {},
     "output_type": "display_data"
    }
   ],
   "source": [
    "eu_data = actual_data.query('eu_sales > 0')\n",
    "eu_data_pt = pd.pivot_table(eu_data, index='platform', values='eu_sales',aggfunc='sum').sort_values('eu_sales', ascending=False).head(5)\n",
    "display(eu_data_pt)"
   ]
  },
  {
   "cell_type": "markdown",
   "metadata": {},
   "source": [
    "Топ 5 платформ в Японии"
   ]
  },
  {
   "cell_type": "code",
   "execution_count": 279,
   "metadata": {},
   "outputs": [
    {
     "data": {
      "text/html": [
       "<div>\n",
       "<style scoped>\n",
       "    .dataframe tbody tr th:only-of-type {\n",
       "        vertical-align: middle;\n",
       "    }\n",
       "\n",
       "    .dataframe tbody tr th {\n",
       "        vertical-align: top;\n",
       "    }\n",
       "\n",
       "    .dataframe thead th {\n",
       "        text-align: right;\n",
       "    }\n",
       "</style>\n",
       "<table border=\"1\" class=\"dataframe\">\n",
       "  <thead>\n",
       "    <tr style=\"text-align: right;\">\n",
       "      <th></th>\n",
       "      <th>jp_sales</th>\n",
       "    </tr>\n",
       "    <tr>\n",
       "      <th>platform</th>\n",
       "      <th></th>\n",
       "    </tr>\n",
       "  </thead>\n",
       "  <tbody>\n",
       "    <tr>\n",
       "      <th>3DS</th>\n",
       "      <td>67.81</td>\n",
       "    </tr>\n",
       "    <tr>\n",
       "      <th>PS3</th>\n",
       "      <td>23.35</td>\n",
       "    </tr>\n",
       "    <tr>\n",
       "      <th>PSV</th>\n",
       "      <td>18.59</td>\n",
       "    </tr>\n",
       "    <tr>\n",
       "      <th>PS4</th>\n",
       "      <td>15.96</td>\n",
       "    </tr>\n",
       "    <tr>\n",
       "      <th>WiiU</th>\n",
       "      <td>10.88</td>\n",
       "    </tr>\n",
       "  </tbody>\n",
       "</table>\n",
       "</div>"
      ],
      "text/plain": [
       "          jp_sales\n",
       "platform          \n",
       "3DS          67.81\n",
       "PS3          23.35\n",
       "PSV          18.59\n",
       "PS4          15.96\n",
       "WiiU         10.88"
      ]
     },
     "metadata": {},
     "output_type": "display_data"
    }
   ],
   "source": [
    "jp_data = actual_data.query('jp_sales > 0')\n",
    "jp_data_pt = pd.pivot_table(jp_data, index='platform', values='jp_sales',aggfunc='sum').sort_values('jp_sales', ascending=False).head(5)\n",
    "display(jp_data_pt)"
   ]
  },
  {
   "cell_type": "markdown",
   "metadata": {},
   "source": [
    "В Европе и Америке самой популярной платформой является PS4, а в Японии 3DS\n",
    "\n",
    "Популярность определённой платформы обусловлена её фирмой производителем, для Америки это Microsoft с XBOX-ами, а для японии Nintendo с 3DS, каждая компания сильнее влияет на свой рынок. Компания Sony, производящая PlayStation имеет большое влияние и хорошую репутацию, что позволяет ей иметь большУю часть в рынка во всех регионах."
   ]
  },
  {
   "cell_type": "markdown",
   "metadata": {},
   "source": [
    "### Жанры"
   ]
  },
  {
   "cell_type": "markdown",
   "metadata": {},
   "source": [
    "Топ 5 жанров в Северной Америке"
   ]
  },
  {
   "cell_type": "code",
   "execution_count": 280,
   "metadata": {},
   "outputs": [
    {
     "data": {
      "text/html": [
       "<div>\n",
       "<style scoped>\n",
       "    .dataframe tbody tr th:only-of-type {\n",
       "        vertical-align: middle;\n",
       "    }\n",
       "\n",
       "    .dataframe tbody tr th {\n",
       "        vertical-align: top;\n",
       "    }\n",
       "\n",
       "    .dataframe thead th {\n",
       "        text-align: right;\n",
       "    }\n",
       "</style>\n",
       "<table border=\"1\" class=\"dataframe\">\n",
       "  <thead>\n",
       "    <tr style=\"text-align: right;\">\n",
       "      <th></th>\n",
       "      <th>na_sales</th>\n",
       "    </tr>\n",
       "    <tr>\n",
       "      <th>genre</th>\n",
       "      <th></th>\n",
       "    </tr>\n",
       "  </thead>\n",
       "  <tbody>\n",
       "    <tr>\n",
       "      <th>Action</th>\n",
       "      <td>126.13</td>\n",
       "    </tr>\n",
       "    <tr>\n",
       "      <th>Shooter</th>\n",
       "      <td>109.74</td>\n",
       "    </tr>\n",
       "    <tr>\n",
       "      <th>Sports</th>\n",
       "      <td>65.27</td>\n",
       "    </tr>\n",
       "    <tr>\n",
       "      <th>Role-Playing</th>\n",
       "      <td>46.40</td>\n",
       "    </tr>\n",
       "    <tr>\n",
       "      <th>Misc</th>\n",
       "      <td>27.49</td>\n",
       "    </tr>\n",
       "  </tbody>\n",
       "</table>\n",
       "</div>"
      ],
      "text/plain": [
       "              na_sales\n",
       "genre                 \n",
       "Action          126.13\n",
       "Shooter         109.74\n",
       "Sports           65.27\n",
       "Role-Playing     46.40\n",
       "Misc             27.49"
      ]
     },
     "metadata": {},
     "output_type": "display_data"
    }
   ],
   "source": [
    "na_genre_pt = pd.pivot_table(na_data, index='genre', values='na_sales',aggfunc='sum').sort_values('na_sales', ascending=False).head(5)\n",
    "display(na_genre_pt)"
   ]
  },
  {
   "cell_type": "markdown",
   "metadata": {},
   "source": [
    "Топ 5 жанров в Европе"
   ]
  },
  {
   "cell_type": "code",
   "execution_count": 281,
   "metadata": {},
   "outputs": [
    {
     "data": {
      "text/html": [
       "<div>\n",
       "<style scoped>\n",
       "    .dataframe tbody tr th:only-of-type {\n",
       "        vertical-align: middle;\n",
       "    }\n",
       "\n",
       "    .dataframe tbody tr th {\n",
       "        vertical-align: top;\n",
       "    }\n",
       "\n",
       "    .dataframe thead th {\n",
       "        text-align: right;\n",
       "    }\n",
       "</style>\n",
       "<table border=\"1\" class=\"dataframe\">\n",
       "  <thead>\n",
       "    <tr style=\"text-align: right;\">\n",
       "      <th></th>\n",
       "      <th>eu_sales</th>\n",
       "    </tr>\n",
       "    <tr>\n",
       "      <th>genre</th>\n",
       "      <th></th>\n",
       "    </tr>\n",
       "  </thead>\n",
       "  <tbody>\n",
       "    <tr>\n",
       "      <th>Action</th>\n",
       "      <td>118.61</td>\n",
       "    </tr>\n",
       "    <tr>\n",
       "      <th>Shooter</th>\n",
       "      <td>87.86</td>\n",
       "    </tr>\n",
       "    <tr>\n",
       "      <th>Sports</th>\n",
       "      <td>60.52</td>\n",
       "    </tr>\n",
       "    <tr>\n",
       "      <th>Role-Playing</th>\n",
       "      <td>36.97</td>\n",
       "    </tr>\n",
       "    <tr>\n",
       "      <th>Racing</th>\n",
       "      <td>20.19</td>\n",
       "    </tr>\n",
       "  </tbody>\n",
       "</table>\n",
       "</div>"
      ],
      "text/plain": [
       "              eu_sales\n",
       "genre                 \n",
       "Action          118.61\n",
       "Shooter          87.86\n",
       "Sports           60.52\n",
       "Role-Playing     36.97\n",
       "Racing           20.19"
      ]
     },
     "metadata": {},
     "output_type": "display_data"
    }
   ],
   "source": [
    "eu_genre_pt = pd.pivot_table(eu_data, index='genre', values='eu_sales',aggfunc='sum').sort_values('eu_sales', ascending=False).head(5)\n",
    "display(eu_genre_pt)"
   ]
  },
  {
   "cell_type": "markdown",
   "metadata": {},
   "source": [
    "Топ 5 жанров в Японии"
   ]
  },
  {
   "cell_type": "code",
   "execution_count": 282,
   "metadata": {},
   "outputs": [
    {
     "data": {
      "text/html": [
       "<div>\n",
       "<style scoped>\n",
       "    .dataframe tbody tr th:only-of-type {\n",
       "        vertical-align: middle;\n",
       "    }\n",
       "\n",
       "    .dataframe tbody tr th {\n",
       "        vertical-align: top;\n",
       "    }\n",
       "\n",
       "    .dataframe thead th {\n",
       "        text-align: right;\n",
       "    }\n",
       "</style>\n",
       "<table border=\"1\" class=\"dataframe\">\n",
       "  <thead>\n",
       "    <tr style=\"text-align: right;\">\n",
       "      <th></th>\n",
       "      <th>jp_sales</th>\n",
       "    </tr>\n",
       "    <tr>\n",
       "      <th>genre</th>\n",
       "      <th></th>\n",
       "    </tr>\n",
       "  </thead>\n",
       "  <tbody>\n",
       "    <tr>\n",
       "      <th>Role-Playing</th>\n",
       "      <td>51.04</td>\n",
       "    </tr>\n",
       "    <tr>\n",
       "      <th>Action</th>\n",
       "      <td>40.49</td>\n",
       "    </tr>\n",
       "    <tr>\n",
       "      <th>Misc</th>\n",
       "      <td>9.44</td>\n",
       "    </tr>\n",
       "    <tr>\n",
       "      <th>Fighting</th>\n",
       "      <td>7.65</td>\n",
       "    </tr>\n",
       "    <tr>\n",
       "      <th>Shooter</th>\n",
       "      <td>6.61</td>\n",
       "    </tr>\n",
       "  </tbody>\n",
       "</table>\n",
       "</div>"
      ],
      "text/plain": [
       "              jp_sales\n",
       "genre                 \n",
       "Role-Playing     51.04\n",
       "Action           40.49\n",
       "Misc              9.44\n",
       "Fighting          7.65\n",
       "Shooter           6.61"
      ]
     },
     "metadata": {},
     "output_type": "display_data"
    }
   ],
   "source": [
    "jp_genre_pt = pd.pivot_table(jp_data, index='genre', values='jp_sales',aggfunc='sum').sort_values('jp_sales', ascending=False).head(5)\n",
    "display(jp_genre_pt)"
   ]
  },
  {
   "cell_type": "markdown",
   "metadata": {},
   "source": [
    "Топ 5 жанров для Европы и Америки выглядит почти одинаково, в безусловных лидерах экшены и шутеры. Однако в Японии экщен уступил первое место ролевым играм"
   ]
  },
  {
   "cell_type": "markdown",
   "metadata": {},
   "source": [
    "### Рейтинг ESRB"
   ]
  },
  {
   "cell_type": "markdown",
   "metadata": {},
   "source": [
    "Северная Америка"
   ]
  },
  {
   "cell_type": "code",
   "execution_count": 283,
   "metadata": {},
   "outputs": [
    {
     "data": {
      "text/html": [
       "<div>\n",
       "<style scoped>\n",
       "    .dataframe tbody tr th:only-of-type {\n",
       "        vertical-align: middle;\n",
       "    }\n",
       "\n",
       "    .dataframe tbody tr th {\n",
       "        vertical-align: top;\n",
       "    }\n",
       "\n",
       "    .dataframe thead th {\n",
       "        text-align: right;\n",
       "    }\n",
       "</style>\n",
       "<table border=\"1\" class=\"dataframe\">\n",
       "  <thead>\n",
       "    <tr style=\"text-align: right;\">\n",
       "      <th></th>\n",
       "      <th>na_sales</th>\n",
       "    </tr>\n",
       "    <tr>\n",
       "      <th>rating</th>\n",
       "      <th></th>\n",
       "    </tr>\n",
       "  </thead>\n",
       "  <tbody>\n",
       "    <tr>\n",
       "      <th>M</th>\n",
       "      <td>165.29</td>\n",
       "    </tr>\n",
       "    <tr>\n",
       "      <th>RP</th>\n",
       "      <td>89.42</td>\n",
       "    </tr>\n",
       "    <tr>\n",
       "      <th>E</th>\n",
       "      <td>79.05</td>\n",
       "    </tr>\n",
       "    <tr>\n",
       "      <th>E10+</th>\n",
       "      <td>54.24</td>\n",
       "    </tr>\n",
       "    <tr>\n",
       "      <th>T</th>\n",
       "      <td>49.79</td>\n",
       "    </tr>\n",
       "  </tbody>\n",
       "</table>\n",
       "</div>"
      ],
      "text/plain": [
       "        na_sales\n",
       "rating          \n",
       "M         165.29\n",
       "RP         89.42\n",
       "E          79.05\n",
       "E10+       54.24\n",
       "T          49.79"
      ]
     },
     "metadata": {},
     "output_type": "display_data"
    }
   ],
   "source": [
    "na_rating_pt = pd.pivot_table(na_data, index='rating', values='na_sales',aggfunc='sum').sort_values('na_sales', ascending=False)\n",
    "display(na_rating_pt)"
   ]
  },
  {
   "cell_type": "markdown",
   "metadata": {},
   "source": [
    "Европа"
   ]
  },
  {
   "cell_type": "code",
   "execution_count": 284,
   "metadata": {},
   "outputs": [
    {
     "data": {
      "text/html": [
       "<div>\n",
       "<style scoped>\n",
       "    .dataframe tbody tr th:only-of-type {\n",
       "        vertical-align: middle;\n",
       "    }\n",
       "\n",
       "    .dataframe tbody tr th {\n",
       "        vertical-align: top;\n",
       "    }\n",
       "\n",
       "    .dataframe thead th {\n",
       "        text-align: right;\n",
       "    }\n",
       "</style>\n",
       "<table border=\"1\" class=\"dataframe\">\n",
       "  <thead>\n",
       "    <tr style=\"text-align: right;\">\n",
       "      <th></th>\n",
       "      <th>eu_sales</th>\n",
       "    </tr>\n",
       "    <tr>\n",
       "      <th>rating</th>\n",
       "      <th></th>\n",
       "    </tr>\n",
       "  </thead>\n",
       "  <tbody>\n",
       "    <tr>\n",
       "      <th>M</th>\n",
       "      <td>145.80</td>\n",
       "    </tr>\n",
       "    <tr>\n",
       "      <th>E</th>\n",
       "      <td>83.36</td>\n",
       "    </tr>\n",
       "    <tr>\n",
       "      <th>RP</th>\n",
       "      <td>78.91</td>\n",
       "    </tr>\n",
       "    <tr>\n",
       "      <th>E10+</th>\n",
       "      <td>42.69</td>\n",
       "    </tr>\n",
       "    <tr>\n",
       "      <th>T</th>\n",
       "      <td>41.95</td>\n",
       "    </tr>\n",
       "  </tbody>\n",
       "</table>\n",
       "</div>"
      ],
      "text/plain": [
       "        eu_sales\n",
       "rating          \n",
       "M         145.80\n",
       "E          83.36\n",
       "RP         78.91\n",
       "E10+       42.69\n",
       "T          41.95"
      ]
     },
     "metadata": {},
     "output_type": "display_data"
    }
   ],
   "source": [
    "eu_rating_pt = pd.pivot_table(eu_data, index='rating', values='eu_sales',aggfunc='sum').sort_values('eu_sales', ascending=False)\n",
    "display(eu_rating_pt)"
   ]
  },
  {
   "cell_type": "markdown",
   "metadata": {},
   "source": [
    "Япония"
   ]
  },
  {
   "cell_type": "code",
   "execution_count": 285,
   "metadata": {},
   "outputs": [
    {
     "data": {
      "text/html": [
       "<div>\n",
       "<style scoped>\n",
       "    .dataframe tbody tr th:only-of-type {\n",
       "        vertical-align: middle;\n",
       "    }\n",
       "\n",
       "    .dataframe tbody tr th {\n",
       "        vertical-align: top;\n",
       "    }\n",
       "\n",
       "    .dataframe thead th {\n",
       "        text-align: right;\n",
       "    }\n",
       "</style>\n",
       "<table border=\"1\" class=\"dataframe\">\n",
       "  <thead>\n",
       "    <tr style=\"text-align: right;\">\n",
       "      <th></th>\n",
       "      <th>jp_sales</th>\n",
       "    </tr>\n",
       "    <tr>\n",
       "      <th>rating</th>\n",
       "      <th></th>\n",
       "    </tr>\n",
       "  </thead>\n",
       "  <tbody>\n",
       "    <tr>\n",
       "      <th>RP</th>\n",
       "      <td>85.29</td>\n",
       "    </tr>\n",
       "    <tr>\n",
       "      <th>T</th>\n",
       "      <td>20.59</td>\n",
       "    </tr>\n",
       "    <tr>\n",
       "      <th>E</th>\n",
       "      <td>15.14</td>\n",
       "    </tr>\n",
       "    <tr>\n",
       "      <th>M</th>\n",
       "      <td>14.11</td>\n",
       "    </tr>\n",
       "    <tr>\n",
       "      <th>E10+</th>\n",
       "      <td>5.89</td>\n",
       "    </tr>\n",
       "  </tbody>\n",
       "</table>\n",
       "</div>"
      ],
      "text/plain": [
       "        jp_sales\n",
       "rating          \n",
       "RP         85.29\n",
       "T          20.59\n",
       "E          15.14\n",
       "M          14.11\n",
       "E10+        5.89"
      ]
     },
     "metadata": {},
     "output_type": "display_data"
    }
   ],
   "source": [
    "jp_rating_pt = pd.pivot_table(jp_data, index='rating', values='jp_sales',aggfunc='sum').sort_values('jp_sales', ascending=False)\n",
    "display(jp_rating_pt)"
   ]
  },
  {
   "cell_type": "markdown",
   "metadata": {},
   "source": [
    "По каждому региону рейтинг влмяет на продажи. В Америке и Европе популярны игры для 17+,при этом в Америке на втором месте игры без рейтинга, а в Европе игры для всех возрастов. В Японии самыми популярными являются игры без рейтинга и с рейтингом 13+"
   ]
  },
  {
   "cell_type": "markdown",
   "metadata": {},
   "source": [
    "### Вывод\n",
    "\n",
    "Портреты для среднестатистических игроков по каждому региону:\n",
    "- Северная Америка. Игрок от 17 лет, играет на PlayStation или XBOX в экшены и шутеры, реже в спортивные игры и рпг\n",
    "- Европа. Игрок от 17 лет, чаще играет на PlayStation чем на XBOX в экшены и шутеры, реже в спортивные игры, рпг, гонки, безрейтинговые игры\n",
    "- Япония. Игрок от 13 лет, чаще играет на портативной 3DS в рпг, экшены и безрейтинговые игры, реже в файтинги"
   ]
  },
  {
   "cell_type": "markdown",
   "metadata": {},
   "source": [
    "## Гипотезы\n"
   ]
  },
  {
   "cell_type": "markdown",
   "metadata": {},
   "source": [
    "Так как дальше будут проверяться равенства средних двух генеральных совокупностей, будет применяться t-тест со значением alpha 0.01"
   ]
  },
  {
   "cell_type": "markdown",
   "metadata": {},
   "source": [
    "### Средние пользовательские рейтинги платформ Xbox One и PC"
   ]
  },
  {
   "cell_type": "markdown",
   "metadata": {},
   "source": [
    "Нулевая гипотеза - средние пользовательские рейтинги платформ Xbox One и PC одинаковые\n",
    "\n",
    "Альтернативная гипотеза - средние пользовательские рейтинги платформ Xbox One и PC отличаются"
   ]
  },
  {
   "cell_type": "code",
   "execution_count": 286,
   "metadata": {},
   "outputs": [
    {
     "name": "stdout",
     "output_type": "stream",
     "text": [
      "p-значение: 0.16174359801784308\n",
      "Не получилось отвергнуть нулевую гипотезу\n"
     ]
    }
   ],
   "source": [
    "XOne_user_scores = actual_data.query('platform == \"XOne\"')['user_score'].dropna()\n",
    "PC_user_scores = actual_data.query('platform == \"PC\"')['user_score'].dropna()\n",
    "alpha = 0.01\n",
    "results = st.ttest_ind(XOne_user_scores, PC_user_scores, equal_var = False)\n",
    "print('p-значение:', results.pvalue)\n",
    "if (results.pvalue < alpha):\n",
    "    print(\"Отвергаем нулевую гипотезу\")\n",
    "else:\n",
    "    print(\"Не получилось отвергнуть нулевую гипотезу\")"
   ]
  },
  {
   "cell_type": "markdown",
   "metadata": {},
   "source": [
    "### Средние пользовательские рейтинги жанров Action и Sports"
   ]
  },
  {
   "cell_type": "markdown",
   "metadata": {},
   "source": [
    "Нулевая гипотеза - средние пользовательские рейтинги жанров Action и Sports одинаковые\n",
    "\n",
    "Альтернативная гипотеза - средние пользовательские рейтинги жанров Action и Sports отличаются"
   ]
  },
  {
   "cell_type": "code",
   "execution_count": 287,
   "metadata": {},
   "outputs": [
    {
     "name": "stdout",
     "output_type": "stream",
     "text": [
      "p-значение: 1.3883444596405356e-20\n",
      "Отвергаем нулевую гипотезу\n"
     ]
    }
   ],
   "source": [
    "action_user_scores = actual_data.query('genre == \"Action\"')['user_score'].dropna()\n",
    "sports_user_scores = actual_data.query('genre == \"Sports\"')['user_score'].dropna()\n",
    "alpha = 0.01\n",
    "results = st.ttest_ind(action_user_scores, sports_user_scores, equal_var = False)\n",
    "print('p-значение:', results.pvalue)\n",
    "if (results.pvalue < alpha):\n",
    "    print(\"Отвергаем нулевую гипотезу\")\n",
    "else:\n",
    "    print(\"Не получилось отвергнуть нулевую гипотезу\")"
   ]
  },
  {
   "cell_type": "markdown",
   "metadata": {},
   "source": [
    "### Вывод"
   ]
  },
  {
   "cell_type": "markdown",
   "metadata": {},
   "source": [
    "Проведя t-тест были проверены две гипотезы:\n",
    "\n",
    "1. Гипотеза о равенстве средних оценок пользователей платформ Xbox One и PC. Гипотеза подтвердилась \n",
    "2. Гипотеза о равенстве средних оценок пользователей жанров Action и Sports. Гипотеза не подтвердилась"
   ]
  },
  {
   "cell_type": "markdown",
   "metadata": {},
   "source": [
    "##  Общий вывод"
   ]
  },
  {
   "cell_type": "markdown",
   "metadata": {},
   "source": [
    "Что было сделано:\n",
    "\n",
    "1. Проеведена обработка датасета, удалены пропуски, приведение данных к другому типу, добавлен дополнительный столбец и так далее\n",
    "2. Проведен исследовательский анализ данных:\n",
    "- Изучен выпуск игр по годам и по разным платформам\n",
    "- Определен актуальный для исследования период\n",
    "- Выявлены актуальные игровые платформы\n",
    "- Изучено влияние отзывов на продажи\n",
    "- Изучено распределение игр по жанрам\n",
    "\n",
    "С середины 1990-х начался рост выпуска, который продолжался до начала 2010-х годов, пока на первое место начало выходить не количество, а качество продукта. Самыми популярными игровыми платформами за всё время являются PlayStation 2, PlayStation 3, XBOX 360, Nintendo WII и Nintendo DS. В актуальный период PlayStation 4, PlayStation 3, XBOX One, 3DS. Период жизни платформы длится в среднем от 8 до 10 лет, пик продаж на платформе обычно происходит на 3-5 год,пока платформа не заменяется новым поколением. Перспективные платформы на данный момент: PlayStation 4, XBOX One, 3DS. PC как игровая платформа актуален всегда, хоть и не может похвастаться большими продажами. Независимо от платформы, оценки критиков имеют умеренное влияние на продажи игр, что не сказать об оценках пользователей. Action - самый популярный жанр игр в актуальный период\n",
    "\n",
    "3. Проведено исследование по регионам, с целью определить популярные жанры, платформы и возрастной рейтинг игр. Составлен портрет среднестатистического пользователя для каждого региона:\n",
    "\n",
    "- Северная Америка. Игрок от 17 лет, играет на PlayStation или XBOX в экшены и шутеры, реже в спортивные игры и рпг\n",
    "- Европа. Игрок от 17 лет, чаще играет на PlayStation чем на XBOX в экшены и шутеры, реже в спортивные игры, рпг и гонки\n",
    "- Япония. Игрок от 13 лет, чаще играет на портативной 3DS в рпг и экшены, реже в файтинги\n",
    "\n",
    "4. Проверены две гипотезы:\n",
    "- Средние пользовательские рейтинги платформ XBOX One и PC одинаковые - подтвердилась \n",
    "- Средние пользовательские рейтинги жанров Action и Sports одинаковые - не подтвердилась \n",
    "\n",
    "**Исходя из результатов проделанной работы можно дать характеристику продаваемой игры в 2017 году:**\n",
    "- **Платформа PS4, XBOX One, 3DS, PC**\n",
    "- **Жанр: Action, Shooter, Sports и RPG**\n",
    "- **Имеет высокую оценку от критиков**\n",
    "- **Возрастной рейтинг M, E**\n",
    "\n",
    "**Рекомендация для интернет-магизина \"Стримчик\" добавлять в свой ассортимент игры, подходящие под эту характеристику, при проведении рекламных компаний обращать внимание на регион и аудиторию, опираться на данные представленные в исследовании**\n"
   ]
  }
 ],
 "metadata": {
  "ExecuteTimeLog": [
   {
    "duration": 563,
    "start_time": "2022-07-23T08:19:25.901Z"
   },
   {
    "duration": 64,
    "start_time": "2022-07-23T08:20:13.276Z"
   },
   {
    "duration": 58,
    "start_time": "2022-07-23T08:20:28.881Z"
   },
   {
    "duration": 66,
    "start_time": "2022-07-23T08:20:41.038Z"
   },
   {
    "duration": 69,
    "start_time": "2022-07-23T08:35:32.480Z"
   },
   {
    "duration": 7,
    "start_time": "2022-07-23T08:42:35.892Z"
   },
   {
    "duration": 6,
    "start_time": "2022-07-23T08:42:55.863Z"
   },
   {
    "duration": 67,
    "start_time": "2022-07-23T08:43:28.806Z"
   },
   {
    "duration": 75,
    "start_time": "2022-07-23T08:43:35.172Z"
   },
   {
    "duration": 13,
    "start_time": "2022-07-23T08:43:51.470Z"
   },
   {
    "duration": 13,
    "start_time": "2022-07-23T08:44:04.477Z"
   },
   {
    "duration": 21,
    "start_time": "2022-07-23T08:44:36.649Z"
   },
   {
    "duration": 12,
    "start_time": "2022-07-23T08:45:09.695Z"
   },
   {
    "duration": 16,
    "start_time": "2022-07-23T08:45:22.573Z"
   },
   {
    "duration": 18,
    "start_time": "2022-07-23T08:45:34.147Z"
   },
   {
    "duration": 18,
    "start_time": "2022-07-23T08:45:54.122Z"
   },
   {
    "duration": 18,
    "start_time": "2022-07-23T08:46:07.058Z"
   },
   {
    "duration": 18,
    "start_time": "2022-07-23T08:46:09.252Z"
   },
   {
    "duration": 20,
    "start_time": "2022-07-23T08:46:23.166Z"
   },
   {
    "duration": 20,
    "start_time": "2022-07-23T08:46:34.361Z"
   },
   {
    "duration": 4,
    "start_time": "2022-07-23T08:49:22.524Z"
   },
   {
    "duration": 13,
    "start_time": "2022-07-23T08:50:00.155Z"
   },
   {
    "duration": 12,
    "start_time": "2022-07-23T08:50:02.878Z"
   },
   {
    "duration": 8,
    "start_time": "2022-07-23T08:50:16.470Z"
   },
   {
    "duration": 9,
    "start_time": "2022-07-23T08:50:22.868Z"
   },
   {
    "duration": 11,
    "start_time": "2022-07-23T08:58:16.307Z"
   },
   {
    "duration": 14,
    "start_time": "2022-07-23T08:59:20.505Z"
   },
   {
    "duration": 322,
    "start_time": "2022-07-23T10:29:28.169Z"
   },
   {
    "duration": 292,
    "start_time": "2022-07-23T10:29:43.690Z"
   },
   {
    "duration": 72,
    "start_time": "2022-07-23T10:29:50.805Z"
   },
   {
    "duration": 12,
    "start_time": "2022-07-23T10:29:50.878Z"
   },
   {
    "duration": 13,
    "start_time": "2022-07-23T10:29:50.891Z"
   },
   {
    "duration": 20,
    "start_time": "2022-07-23T10:29:50.905Z"
   },
   {
    "duration": 31,
    "start_time": "2022-07-23T10:29:50.926Z"
   },
   {
    "duration": 18,
    "start_time": "2022-07-23T10:29:50.958Z"
   },
   {
    "duration": 17,
    "start_time": "2022-07-23T10:29:50.977Z"
   },
   {
    "duration": 6,
    "start_time": "2022-07-23T10:29:50.995Z"
   },
   {
    "duration": 586,
    "start_time": "2022-07-23T10:29:51.002Z"
   },
   {
    "duration": 290,
    "start_time": "2022-07-23T10:29:54.062Z"
   },
   {
    "duration": 5,
    "start_time": "2022-07-23T10:30:09.982Z"
   },
   {
    "duration": 3,
    "start_time": "2022-07-23T10:30:19.338Z"
   },
   {
    "duration": 6,
    "start_time": "2022-07-23T10:30:28.921Z"
   },
   {
    "duration": 12,
    "start_time": "2022-07-23T10:32:28.496Z"
   },
   {
    "duration": 10,
    "start_time": "2022-07-23T10:32:46.358Z"
   },
   {
    "duration": 4,
    "start_time": "2022-07-23T10:33:20.974Z"
   },
   {
    "duration": 1590,
    "start_time": "2022-07-23T10:37:21.834Z"
   },
   {
    "duration": 1446,
    "start_time": "2022-07-23T10:37:52.494Z"
   },
   {
    "duration": 68,
    "start_time": "2022-07-23T10:37:55.163Z"
   },
   {
    "duration": 11,
    "start_time": "2022-07-23T10:37:55.233Z"
   },
   {
    "duration": 14,
    "start_time": "2022-07-23T10:37:55.246Z"
   },
   {
    "duration": 19,
    "start_time": "2022-07-23T10:37:55.262Z"
   },
   {
    "duration": 17,
    "start_time": "2022-07-23T10:37:55.282Z"
   },
   {
    "duration": 18,
    "start_time": "2022-07-23T10:37:55.301Z"
   },
   {
    "duration": 36,
    "start_time": "2022-07-23T10:37:55.320Z"
   },
   {
    "duration": 6,
    "start_time": "2022-07-23T10:37:55.357Z"
   },
   {
    "duration": 4,
    "start_time": "2022-07-23T10:37:55.365Z"
   },
   {
    "duration": 4,
    "start_time": "2022-07-23T10:37:55.370Z"
   },
   {
    "duration": 5,
    "start_time": "2022-07-23T10:38:44.869Z"
   },
   {
    "duration": 70,
    "start_time": "2022-07-23T10:43:32.040Z"
   },
   {
    "duration": 13,
    "start_time": "2022-07-23T10:43:32.112Z"
   },
   {
    "duration": 17,
    "start_time": "2022-07-23T10:43:32.126Z"
   },
   {
    "duration": 19,
    "start_time": "2022-07-23T10:43:32.145Z"
   },
   {
    "duration": 19,
    "start_time": "2022-07-23T10:43:32.166Z"
   },
   {
    "duration": 19,
    "start_time": "2022-07-23T10:43:32.186Z"
   },
   {
    "duration": 19,
    "start_time": "2022-07-23T10:43:32.207Z"
   },
   {
    "duration": 4,
    "start_time": "2022-07-23T10:43:32.227Z"
   },
   {
    "duration": 23,
    "start_time": "2022-07-23T10:43:32.232Z"
   },
   {
    "duration": 9,
    "start_time": "2022-07-23T10:43:32.256Z"
   },
   {
    "duration": 18,
    "start_time": "2022-07-23T10:44:14.580Z"
   },
   {
    "duration": 17,
    "start_time": "2022-07-23T10:46:02.093Z"
   },
   {
    "duration": 6,
    "start_time": "2022-07-23T10:46:19.446Z"
   },
   {
    "duration": 15,
    "start_time": "2022-07-23T10:48:27.909Z"
   },
   {
    "duration": 5,
    "start_time": "2022-07-23T10:48:53.289Z"
   },
   {
    "duration": 14,
    "start_time": "2022-07-23T10:49:18.786Z"
   },
   {
    "duration": 7,
    "start_time": "2022-07-23T11:00:32.220Z"
   },
   {
    "duration": 12,
    "start_time": "2022-07-23T11:00:36.980Z"
   },
   {
    "duration": 46,
    "start_time": "2022-07-23T11:01:23.774Z"
   },
   {
    "duration": 7,
    "start_time": "2022-07-23T11:02:14.989Z"
   },
   {
    "duration": 8,
    "start_time": "2022-07-23T11:02:18.148Z"
   },
   {
    "duration": 5,
    "start_time": "2022-07-23T11:02:24.308Z"
   },
   {
    "duration": 8,
    "start_time": "2022-07-23T11:02:32.872Z"
   },
   {
    "duration": 5,
    "start_time": "2022-07-23T11:02:41.043Z"
   },
   {
    "duration": 6,
    "start_time": "2022-07-23T11:02:46.309Z"
   },
   {
    "duration": 8,
    "start_time": "2022-07-23T11:02:54.095Z"
   },
   {
    "duration": 6,
    "start_time": "2022-07-23T11:03:49.442Z"
   },
   {
    "duration": 5,
    "start_time": "2022-07-23T11:04:31.149Z"
   },
   {
    "duration": 21,
    "start_time": "2022-07-23T11:05:08.639Z"
   },
   {
    "duration": 14,
    "start_time": "2022-07-23T11:06:04.476Z"
   },
   {
    "duration": 4,
    "start_time": "2022-07-23T11:09:55.154Z"
   },
   {
    "duration": 360,
    "start_time": "2022-07-23T11:11:27.754Z"
   },
   {
    "duration": 5,
    "start_time": "2022-07-23T11:19:39.312Z"
   },
   {
    "duration": 7,
    "start_time": "2022-07-23T11:31:37.978Z"
   },
   {
    "duration": 5,
    "start_time": "2022-07-23T11:31:50.976Z"
   },
   {
    "duration": 16,
    "start_time": "2022-07-23T11:31:55.547Z"
   },
   {
    "duration": 83,
    "start_time": "2022-07-23T11:40:42.243Z"
   },
   {
    "duration": 9,
    "start_time": "2022-07-23T11:46:27.342Z"
   },
   {
    "duration": 7,
    "start_time": "2022-07-23T11:46:30.683Z"
   },
   {
    "duration": 15,
    "start_time": "2022-07-23T11:46:34.538Z"
   },
   {
    "duration": 12,
    "start_time": "2022-07-23T12:13:41.664Z"
   },
   {
    "duration": 513,
    "start_time": "2022-07-23T12:14:35.091Z"
   },
   {
    "duration": 136,
    "start_time": "2022-07-23T12:15:02.394Z"
   },
   {
    "duration": 148,
    "start_time": "2022-07-23T12:16:15.868Z"
   },
   {
    "duration": 2,
    "start_time": "2022-07-23T12:30:59.762Z"
   },
   {
    "duration": 17,
    "start_time": "2022-07-23T13:59:44.876Z"
   },
   {
    "duration": 14,
    "start_time": "2022-07-23T14:10:52.603Z"
   },
   {
    "duration": 1293,
    "start_time": "2022-07-23T14:13:44.355Z"
   },
   {
    "duration": 6,
    "start_time": "2022-07-23T14:15:17.078Z"
   },
   {
    "duration": 1744,
    "start_time": "2022-07-23T14:16:10.751Z"
   },
   {
    "duration": 14,
    "start_time": "2022-07-23T14:41:47.561Z"
   },
   {
    "duration": 25,
    "start_time": "2022-07-23T14:43:48.588Z"
   },
   {
    "duration": 17,
    "start_time": "2022-07-23T14:44:13.773Z"
   },
   {
    "duration": 13,
    "start_time": "2022-07-23T14:44:22.304Z"
   },
   {
    "duration": 1687,
    "start_time": "2022-07-23T14:55:34.445Z"
   },
   {
    "duration": 1233,
    "start_time": "2022-07-23T14:57:14.176Z"
   },
   {
    "duration": 12,
    "start_time": "2022-07-23T15:02:06.173Z"
   },
   {
    "duration": 671,
    "start_time": "2022-07-23T15:02:29.326Z"
   },
   {
    "duration": 48,
    "start_time": "2022-07-24T06:52:20.392Z"
   },
   {
    "duration": 629,
    "start_time": "2022-07-24T06:52:46.232Z"
   },
   {
    "duration": 15,
    "start_time": "2022-07-24T06:52:46.863Z"
   },
   {
    "duration": 16,
    "start_time": "2022-07-24T06:52:46.880Z"
   },
   {
    "duration": 24,
    "start_time": "2022-07-24T06:52:46.904Z"
   },
   {
    "duration": 28,
    "start_time": "2022-07-24T06:52:46.930Z"
   },
   {
    "duration": 22,
    "start_time": "2022-07-24T06:52:46.960Z"
   },
   {
    "duration": 23,
    "start_time": "2022-07-24T06:52:47.003Z"
   },
   {
    "duration": 5,
    "start_time": "2022-07-24T06:52:47.027Z"
   },
   {
    "duration": 28,
    "start_time": "2022-07-24T06:52:47.034Z"
   },
   {
    "duration": 7,
    "start_time": "2022-07-24T06:52:47.064Z"
   },
   {
    "duration": 45,
    "start_time": "2022-07-24T06:52:47.072Z"
   },
   {
    "duration": 317,
    "start_time": "2022-07-24T06:52:47.119Z"
   },
   {
    "duration": 5,
    "start_time": "2022-07-24T06:52:47.437Z"
   },
   {
    "duration": 17,
    "start_time": "2022-07-24T06:52:47.444Z"
   },
   {
    "duration": 545,
    "start_time": "2022-07-24T06:52:47.462Z"
   },
   {
    "duration": 14,
    "start_time": "2022-07-24T06:52:48.009Z"
   },
   {
    "duration": 1717,
    "start_time": "2022-07-24T06:52:48.024Z"
   },
   {
    "duration": 14,
    "start_time": "2022-07-24T06:52:49.743Z"
   },
   {
    "duration": 13,
    "start_time": "2022-07-24T06:52:49.759Z"
   },
   {
    "duration": 1278,
    "start_time": "2022-07-24T06:52:49.774Z"
   },
   {
    "duration": 53,
    "start_time": "2022-07-24T06:52:51.054Z"
   },
   {
    "duration": 17,
    "start_time": "2022-07-24T06:54:51.743Z"
   },
   {
    "duration": 1385,
    "start_time": "2022-07-24T06:58:20.219Z"
   },
   {
    "duration": 1166,
    "start_time": "2022-07-24T06:58:54.644Z"
   },
   {
    "duration": 1272,
    "start_time": "2022-07-24T06:59:22.707Z"
   },
   {
    "duration": 20,
    "start_time": "2022-07-24T07:00:07.728Z"
   },
   {
    "duration": 1131,
    "start_time": "2022-07-24T07:00:09.712Z"
   },
   {
    "duration": 995,
    "start_time": "2022-07-24T07:00:14.126Z"
   },
   {
    "duration": 106,
    "start_time": "2022-07-24T07:01:38.319Z"
   },
   {
    "duration": 1109,
    "start_time": "2022-07-24T07:01:46.949Z"
   },
   {
    "duration": 16,
    "start_time": "2022-07-24T07:02:01.092Z"
   },
   {
    "duration": 1008,
    "start_time": "2022-07-24T07:02:06.506Z"
   },
   {
    "duration": 1156,
    "start_time": "2022-07-24T07:03:28.882Z"
   },
   {
    "duration": 882,
    "start_time": "2022-07-24T07:03:48.031Z"
   },
   {
    "duration": 875,
    "start_time": "2022-07-24T07:04:08.930Z"
   },
   {
    "duration": 1088,
    "start_time": "2022-07-24T07:04:47.648Z"
   },
   {
    "duration": 875,
    "start_time": "2022-07-24T07:04:53.074Z"
   },
   {
    "duration": 15,
    "start_time": "2022-07-24T07:05:54.359Z"
   },
   {
    "duration": 10,
    "start_time": "2022-07-24T07:06:28.775Z"
   },
   {
    "duration": 111,
    "start_time": "2022-07-24T07:07:45.468Z"
   },
   {
    "duration": 121,
    "start_time": "2022-07-24T07:08:21.410Z"
   },
   {
    "duration": 116,
    "start_time": "2022-07-24T07:08:58.111Z"
   },
   {
    "duration": 126,
    "start_time": "2022-07-24T07:17:27.905Z"
   },
   {
    "duration": 15,
    "start_time": "2022-07-24T07:18:42.208Z"
   },
   {
    "duration": 1488,
    "start_time": "2022-07-24T07:18:46.388Z"
   },
   {
    "duration": 73,
    "start_time": "2022-07-24T07:25:38.179Z"
   },
   {
    "duration": 85,
    "start_time": "2022-07-24T07:41:00.161Z"
   },
   {
    "duration": 8,
    "start_time": "2022-07-24T07:41:06.020Z"
   },
   {
    "duration": 29,
    "start_time": "2022-07-24T07:42:24.917Z"
   },
   {
    "duration": 16,
    "start_time": "2022-07-24T07:42:32.881Z"
   },
   {
    "duration": 20,
    "start_time": "2022-07-24T07:43:08.121Z"
   },
   {
    "duration": 22,
    "start_time": "2022-07-24T07:43:36.967Z"
   },
   {
    "duration": 8,
    "start_time": "2022-07-24T07:43:59.684Z"
   },
   {
    "duration": 9,
    "start_time": "2022-07-24T07:44:04.645Z"
   },
   {
    "duration": 8,
    "start_time": "2022-07-24T07:44:12.368Z"
   },
   {
    "duration": 16,
    "start_time": "2022-07-24T07:44:54.191Z"
   },
   {
    "duration": 55,
    "start_time": "2022-07-24T07:45:02.501Z"
   },
   {
    "duration": 11,
    "start_time": "2022-07-24T07:46:09.651Z"
   },
   {
    "duration": 552,
    "start_time": "2022-07-24T07:47:02.480Z"
   },
   {
    "duration": 323,
    "start_time": "2022-07-24T07:47:27.885Z"
   },
   {
    "duration": 32,
    "start_time": "2022-07-24T07:49:34.013Z"
   },
   {
    "duration": 236,
    "start_time": "2022-07-24T07:49:40.558Z"
   },
   {
    "duration": 42,
    "start_time": "2022-07-24T07:49:49.212Z"
   },
   {
    "duration": 31,
    "start_time": "2022-07-24T07:50:03.447Z"
   },
   {
    "duration": 33,
    "start_time": "2022-07-24T07:50:38.027Z"
   },
   {
    "duration": 32,
    "start_time": "2022-07-24T07:50:43.540Z"
   },
   {
    "duration": 34,
    "start_time": "2022-07-24T07:53:49.623Z"
   },
   {
    "duration": 46,
    "start_time": "2022-07-24T07:54:11.082Z"
   },
   {
    "duration": 34,
    "start_time": "2022-07-24T07:54:23.964Z"
   },
   {
    "duration": 115,
    "start_time": "2022-07-24T07:55:25.537Z"
   },
   {
    "duration": 109,
    "start_time": "2022-07-24T07:55:30.666Z"
   },
   {
    "duration": 117,
    "start_time": "2022-07-24T07:56:11.830Z"
   },
   {
    "duration": 111,
    "start_time": "2022-07-24T07:56:13.774Z"
   },
   {
    "duration": 10,
    "start_time": "2022-07-24T08:00:08.946Z"
   },
   {
    "duration": 10,
    "start_time": "2022-07-24T08:00:10.581Z"
   },
   {
    "duration": 17,
    "start_time": "2022-07-24T08:00:15.062Z"
   },
   {
    "duration": 16,
    "start_time": "2022-07-24T08:00:27.857Z"
   },
   {
    "duration": 16,
    "start_time": "2022-07-24T08:00:40.018Z"
   },
   {
    "duration": 16,
    "start_time": "2022-07-24T08:00:47.450Z"
   },
   {
    "duration": 1552,
    "start_time": "2022-07-24T08:01:01.321Z"
   },
   {
    "duration": 226,
    "start_time": "2022-07-24T08:01:47.725Z"
   },
   {
    "duration": 102,
    "start_time": "2022-07-24T08:01:50.367Z"
   },
   {
    "duration": 118,
    "start_time": "2022-07-24T08:01:52.934Z"
   },
   {
    "duration": 82,
    "start_time": "2022-07-24T08:03:33.083Z"
   },
   {
    "duration": 77,
    "start_time": "2022-07-24T08:04:39.038Z"
   },
   {
    "duration": 117,
    "start_time": "2022-07-24T08:05:12.359Z"
   },
   {
    "duration": 118,
    "start_time": "2022-07-24T08:05:39.980Z"
   },
   {
    "duration": 113,
    "start_time": "2022-07-24T08:05:58.518Z"
   },
   {
    "duration": 126,
    "start_time": "2022-07-24T08:06:19.980Z"
   },
   {
    "duration": 107,
    "start_time": "2022-07-24T08:09:14.224Z"
   },
   {
    "duration": 89,
    "start_time": "2022-07-24T08:09:27.780Z"
   },
   {
    "duration": 90,
    "start_time": "2022-07-24T08:19:21.238Z"
   },
   {
    "duration": 15,
    "start_time": "2022-07-24T08:19:21.330Z"
   },
   {
    "duration": 21,
    "start_time": "2022-07-24T08:19:21.347Z"
   },
   {
    "duration": 39,
    "start_time": "2022-07-24T08:19:21.371Z"
   },
   {
    "duration": 26,
    "start_time": "2022-07-24T08:19:21.415Z"
   },
   {
    "duration": 24,
    "start_time": "2022-07-24T08:19:21.443Z"
   },
   {
    "duration": 45,
    "start_time": "2022-07-24T08:19:21.469Z"
   },
   {
    "duration": 17,
    "start_time": "2022-07-24T08:19:21.516Z"
   },
   {
    "duration": 19,
    "start_time": "2022-07-24T08:19:21.535Z"
   },
   {
    "duration": 5,
    "start_time": "2022-07-24T08:19:21.557Z"
   },
   {
    "duration": 44,
    "start_time": "2022-07-24T08:19:21.564Z"
   },
   {
    "duration": 377,
    "start_time": "2022-07-24T08:19:21.610Z"
   },
   {
    "duration": 5,
    "start_time": "2022-07-24T08:19:21.989Z"
   },
   {
    "duration": 42,
    "start_time": "2022-07-24T08:19:21.995Z"
   },
   {
    "duration": 189,
    "start_time": "2022-07-24T08:19:22.039Z"
   },
   {
    "duration": 15,
    "start_time": "2022-07-24T08:19:22.230Z"
   },
   {
    "duration": 2064,
    "start_time": "2022-07-24T08:19:22.247Z"
   },
   {
    "duration": 16,
    "start_time": "2022-07-24T08:19:24.317Z"
   },
   {
    "duration": 14,
    "start_time": "2022-07-24T08:19:24.335Z"
   },
   {
    "duration": 1602,
    "start_time": "2022-07-24T08:19:24.350Z"
   },
   {
    "duration": 126,
    "start_time": "2022-07-24T08:19:25.954Z"
   },
   {
    "duration": 153,
    "start_time": "2022-07-24T08:19:26.082Z"
   },
   {
    "duration": 287,
    "start_time": "2022-07-24T08:19:26.237Z"
   },
   {
    "duration": 155,
    "start_time": "2022-07-24T08:19:26.526Z"
   },
   {
    "duration": 174,
    "start_time": "2022-07-24T08:19:26.683Z"
   },
   {
    "duration": 148,
    "start_time": "2022-07-24T08:19:26.860Z"
   },
   {
    "duration": 125,
    "start_time": "2022-07-24T08:19:27.016Z"
   },
   {
    "duration": 137,
    "start_time": "2022-07-24T08:19:27.145Z"
   },
   {
    "duration": 2,
    "start_time": "2022-07-24T08:24:19.967Z"
   },
   {
    "duration": 9,
    "start_time": "2022-07-24T08:39:08.745Z"
   },
   {
    "duration": 248,
    "start_time": "2022-07-24T08:39:19.673Z"
   },
   {
    "duration": 7,
    "start_time": "2022-07-24T08:41:28.771Z"
   },
   {
    "duration": 9,
    "start_time": "2022-07-24T08:41:38.051Z"
   },
   {
    "duration": 297,
    "start_time": "2022-07-24T08:41:45.809Z"
   },
   {
    "duration": 20,
    "start_time": "2022-07-24T08:42:04.305Z"
   },
   {
    "duration": 88,
    "start_time": "2022-07-24T08:42:33.949Z"
   },
   {
    "duration": 17,
    "start_time": "2022-07-24T08:42:34.040Z"
   },
   {
    "duration": 21,
    "start_time": "2022-07-24T08:42:34.060Z"
   },
   {
    "duration": 26,
    "start_time": "2022-07-24T08:42:34.103Z"
   },
   {
    "duration": 35,
    "start_time": "2022-07-24T08:42:34.133Z"
   },
   {
    "duration": 49,
    "start_time": "2022-07-24T08:42:34.171Z"
   },
   {
    "duration": 39,
    "start_time": "2022-07-24T08:42:34.223Z"
   },
   {
    "duration": 9,
    "start_time": "2022-07-24T08:42:34.267Z"
   },
   {
    "duration": 30,
    "start_time": "2022-07-24T08:42:34.278Z"
   },
   {
    "duration": 5,
    "start_time": "2022-07-24T08:42:34.310Z"
   },
   {
    "duration": 36,
    "start_time": "2022-07-24T08:42:34.317Z"
   },
   {
    "duration": 397,
    "start_time": "2022-07-24T08:42:34.355Z"
   },
   {
    "duration": 5,
    "start_time": "2022-07-24T08:42:34.754Z"
   },
   {
    "duration": 25,
    "start_time": "2022-07-24T08:42:34.762Z"
   },
   {
    "duration": 197,
    "start_time": "2022-07-24T08:42:34.789Z"
   },
   {
    "duration": 21,
    "start_time": "2022-07-24T08:42:34.987Z"
   },
   {
    "duration": 2134,
    "start_time": "2022-07-24T08:42:35.010Z"
   },
   {
    "duration": 15,
    "start_time": "2022-07-24T08:42:37.146Z"
   },
   {
    "duration": 15,
    "start_time": "2022-07-24T08:42:37.164Z"
   },
   {
    "duration": 1556,
    "start_time": "2022-07-24T08:42:37.180Z"
   },
   {
    "duration": 132,
    "start_time": "2022-07-24T08:42:38.737Z"
   },
   {
    "duration": 184,
    "start_time": "2022-07-24T08:42:38.871Z"
   },
   {
    "duration": 135,
    "start_time": "2022-07-24T08:42:39.057Z"
   },
   {
    "duration": 142,
    "start_time": "2022-07-24T08:42:39.194Z"
   },
   {
    "duration": 332,
    "start_time": "2022-07-24T08:42:39.337Z"
   },
   {
    "duration": 187,
    "start_time": "2022-07-24T08:42:39.672Z"
   },
   {
    "duration": 133,
    "start_time": "2022-07-24T08:42:39.861Z"
   },
   {
    "duration": 139,
    "start_time": "2022-07-24T08:42:40.003Z"
   },
   {
    "duration": 21,
    "start_time": "2022-07-24T08:42:40.145Z"
   },
   {
    "duration": 23,
    "start_time": "2022-07-24T08:42:44.240Z"
   },
   {
    "duration": 9,
    "start_time": "2022-07-24T08:43:21.480Z"
   },
   {
    "duration": 11,
    "start_time": "2022-07-24T08:47:03.359Z"
   },
   {
    "duration": 10,
    "start_time": "2022-07-24T08:47:12.895Z"
   },
   {
    "duration": 7,
    "start_time": "2022-07-24T08:47:20.357Z"
   },
   {
    "duration": 106,
    "start_time": "2022-07-24T08:57:25.066Z"
   },
   {
    "duration": 3,
    "start_time": "2022-07-24T08:57:28.947Z"
   },
   {
    "duration": 19,
    "start_time": "2022-07-24T09:02:35.386Z"
   },
   {
    "duration": 24,
    "start_time": "2022-07-24T09:03:07.892Z"
   },
   {
    "duration": 26,
    "start_time": "2022-07-24T09:03:36.618Z"
   },
   {
    "duration": 199,
    "start_time": "2022-07-24T09:06:01.795Z"
   },
   {
    "duration": 175,
    "start_time": "2022-07-24T09:06:31.755Z"
   },
   {
    "duration": 146,
    "start_time": "2022-07-24T09:07:05.151Z"
   },
   {
    "duration": 169,
    "start_time": "2022-07-24T09:07:17.663Z"
   },
   {
    "duration": 74,
    "start_time": "2022-07-24T09:15:32.518Z"
   },
   {
    "duration": 6,
    "start_time": "2022-07-24T09:15:38.820Z"
   },
   {
    "duration": 71,
    "start_time": "2022-07-24T09:16:10.040Z"
   },
   {
    "duration": 5,
    "start_time": "2022-07-24T09:16:13.770Z"
   },
   {
    "duration": 6,
    "start_time": "2022-07-24T09:16:24.284Z"
   },
   {
    "duration": 19,
    "start_time": "2022-07-24T09:20:04.917Z"
   },
   {
    "duration": 16,
    "start_time": "2022-07-24T09:20:14.448Z"
   },
   {
    "duration": 23,
    "start_time": "2022-07-24T09:33:55.542Z"
   },
   {
    "duration": 24,
    "start_time": "2022-07-24T09:34:23.184Z"
   },
   {
    "duration": 219,
    "start_time": "2022-07-24T09:41:45.490Z"
   },
   {
    "duration": 9,
    "start_time": "2022-07-24T09:44:37.728Z"
   },
   {
    "duration": 39,
    "start_time": "2022-07-24T09:45:37.289Z"
   },
   {
    "duration": 45,
    "start_time": "2022-07-24T09:46:04.663Z"
   },
   {
    "duration": 46,
    "start_time": "2022-07-24T09:46:09.294Z"
   },
   {
    "duration": 252,
    "start_time": "2022-07-24T09:46:39.715Z"
   },
   {
    "duration": 237,
    "start_time": "2022-07-24T09:47:03.505Z"
   },
   {
    "duration": 355,
    "start_time": "2022-07-24T09:47:32.455Z"
   },
   {
    "duration": 237,
    "start_time": "2022-07-24T09:47:50.296Z"
   },
   {
    "duration": 306,
    "start_time": "2022-07-24T09:48:12.093Z"
   },
   {
    "duration": 23,
    "start_time": "2022-07-24T09:48:43.397Z"
   },
   {
    "duration": 302,
    "start_time": "2022-07-24T09:48:52.304Z"
   },
   {
    "duration": 33,
    "start_time": "2022-07-24T09:49:01.321Z"
   },
   {
    "duration": 150,
    "start_time": "2022-07-24T09:49:18.103Z"
   },
   {
    "duration": 47,
    "start_time": "2022-07-24T09:49:21.598Z"
   },
   {
    "duration": 246,
    "start_time": "2022-07-24T09:49:28.052Z"
   },
   {
    "duration": 35,
    "start_time": "2022-07-24T09:50:26.764Z"
   },
   {
    "duration": 201,
    "start_time": "2022-07-24T09:50:39.063Z"
   },
   {
    "duration": 15,
    "start_time": "2022-07-24T09:51:40.847Z"
   },
   {
    "duration": 19,
    "start_time": "2022-07-24T09:51:48.912Z"
   },
   {
    "duration": 30,
    "start_time": "2022-07-24T09:52:22.719Z"
   },
   {
    "duration": 34,
    "start_time": "2022-07-24T09:52:30.445Z"
   },
   {
    "duration": 42,
    "start_time": "2022-07-24T09:52:39.383Z"
   },
   {
    "duration": 3,
    "start_time": "2022-07-24T12:51:03.811Z"
   },
   {
    "duration": 5,
    "start_time": "2022-07-24T12:53:46.313Z"
   },
   {
    "duration": 12,
    "start_time": "2022-07-24T12:54:37.030Z"
   },
   {
    "duration": 16,
    "start_time": "2022-07-24T12:54:48.830Z"
   },
   {
    "duration": 17,
    "start_time": "2022-07-24T12:56:15.702Z"
   },
   {
    "duration": 18,
    "start_time": "2022-07-24T12:57:15.979Z"
   },
   {
    "duration": 11,
    "start_time": "2022-07-24T12:59:20.245Z"
   },
   {
    "duration": 15,
    "start_time": "2022-07-24T12:59:40.891Z"
   },
   {
    "duration": 14,
    "start_time": "2022-07-24T13:00:03.500Z"
   },
   {
    "duration": 15,
    "start_time": "2022-07-24T13:00:24.531Z"
   },
   {
    "duration": 3,
    "start_time": "2022-07-24T13:04:26.973Z"
   },
   {
    "duration": 13,
    "start_time": "2022-07-24T13:06:13.079Z"
   },
   {
    "duration": 16,
    "start_time": "2022-07-24T13:06:42.001Z"
   },
   {
    "duration": 15,
    "start_time": "2022-07-24T13:07:06.079Z"
   },
   {
    "duration": 77,
    "start_time": "2022-07-24T13:07:14.715Z"
   },
   {
    "duration": 14,
    "start_time": "2022-07-24T13:07:14.794Z"
   },
   {
    "duration": 16,
    "start_time": "2022-07-24T13:07:14.809Z"
   },
   {
    "duration": 27,
    "start_time": "2022-07-24T13:07:14.827Z"
   },
   {
    "duration": 23,
    "start_time": "2022-07-24T13:07:14.856Z"
   },
   {
    "duration": 42,
    "start_time": "2022-07-24T13:07:14.880Z"
   },
   {
    "duration": 23,
    "start_time": "2022-07-24T13:07:14.924Z"
   },
   {
    "duration": 4,
    "start_time": "2022-07-24T13:07:14.949Z"
   },
   {
    "duration": 15,
    "start_time": "2022-07-24T13:07:14.955Z"
   },
   {
    "duration": 32,
    "start_time": "2022-07-24T13:07:14.973Z"
   },
   {
    "duration": 31,
    "start_time": "2022-07-24T13:07:15.007Z"
   },
   {
    "duration": 369,
    "start_time": "2022-07-24T13:07:15.039Z"
   },
   {
    "duration": 6,
    "start_time": "2022-07-24T13:07:15.409Z"
   },
   {
    "duration": 20,
    "start_time": "2022-07-24T13:07:15.417Z"
   },
   {
    "duration": 181,
    "start_time": "2022-07-24T13:07:15.438Z"
   },
   {
    "duration": 17,
    "start_time": "2022-07-24T13:07:15.621Z"
   },
   {
    "duration": 1968,
    "start_time": "2022-07-24T13:07:15.640Z"
   },
   {
    "duration": 13,
    "start_time": "2022-07-24T13:07:17.609Z"
   },
   {
    "duration": 14,
    "start_time": "2022-07-24T13:07:17.624Z"
   },
   {
    "duration": 1495,
    "start_time": "2022-07-24T13:07:17.639Z"
   },
   {
    "duration": 132,
    "start_time": "2022-07-24T13:07:19.135Z"
   },
   {
    "duration": 41,
    "start_time": "2022-07-24T13:07:19.269Z"
   },
   {
    "duration": 233,
    "start_time": "2022-07-24T13:07:19.312Z"
   },
   {
    "duration": 181,
    "start_time": "2022-07-24T13:07:19.546Z"
   },
   {
    "duration": 312,
    "start_time": "2022-07-24T13:07:19.729Z"
   },
   {
    "duration": 20,
    "start_time": "2022-07-24T13:07:20.043Z"
   },
   {
    "duration": 5,
    "start_time": "2022-07-24T13:07:20.065Z"
   },
   {
    "duration": 36,
    "start_time": "2022-07-24T13:07:20.073Z"
   },
   {
    "duration": 19,
    "start_time": "2022-07-24T13:07:20.110Z"
   },
   {
    "duration": 18,
    "start_time": "2022-07-24T13:07:20.131Z"
   },
   {
    "duration": 18,
    "start_time": "2022-07-24T13:07:20.151Z"
   },
   {
    "duration": 43,
    "start_time": "2022-07-24T13:07:20.171Z"
   },
   {
    "duration": 17,
    "start_time": "2022-07-24T13:07:20.216Z"
   },
   {
    "duration": 14,
    "start_time": "2022-07-24T13:07:20.235Z"
   },
   {
    "duration": 13,
    "start_time": "2022-07-24T13:07:20.251Z"
   },
   {
    "duration": 47,
    "start_time": "2022-07-24T13:07:20.266Z"
   },
   {
    "duration": 14,
    "start_time": "2022-07-24T13:07:20.314Z"
   },
   {
    "duration": 1392,
    "start_time": "2022-07-26T11:19:30.265Z"
   },
   {
    "duration": 13,
    "start_time": "2022-07-26T11:19:31.659Z"
   },
   {
    "duration": 54,
    "start_time": "2022-07-26T11:19:31.674Z"
   },
   {
    "duration": 22,
    "start_time": "2022-07-26T11:19:31.730Z"
   },
   {
    "duration": 38,
    "start_time": "2022-07-26T11:19:31.754Z"
   },
   {
    "duration": 20,
    "start_time": "2022-07-26T11:19:31.794Z"
   },
   {
    "duration": 23,
    "start_time": "2022-07-26T11:19:31.815Z"
   },
   {
    "duration": 4,
    "start_time": "2022-07-26T11:19:31.840Z"
   },
   {
    "duration": 20,
    "start_time": "2022-07-26T11:19:31.846Z"
   },
   {
    "duration": 9,
    "start_time": "2022-07-26T11:19:31.869Z"
   },
   {
    "duration": 48,
    "start_time": "2022-07-26T11:19:31.879Z"
   },
   {
    "duration": 357,
    "start_time": "2022-07-26T11:19:31.929Z"
   },
   {
    "duration": 5,
    "start_time": "2022-07-26T11:19:32.289Z"
   },
   {
    "duration": 38,
    "start_time": "2022-07-26T11:19:32.296Z"
   },
   {
    "duration": 184,
    "start_time": "2022-07-26T11:19:32.335Z"
   },
   {
    "duration": 16,
    "start_time": "2022-07-26T11:19:32.520Z"
   },
   {
    "duration": 1848,
    "start_time": "2022-07-26T11:19:32.538Z"
   },
   {
    "duration": 14,
    "start_time": "2022-07-26T11:19:34.389Z"
   },
   {
    "duration": 27,
    "start_time": "2022-07-26T11:19:34.405Z"
   },
   {
    "duration": 1545,
    "start_time": "2022-07-26T11:19:34.434Z"
   },
   {
    "duration": 119,
    "start_time": "2022-07-26T11:19:35.981Z"
   },
   {
    "duration": 41,
    "start_time": "2022-07-26T11:19:36.102Z"
   },
   {
    "duration": 250,
    "start_time": "2022-07-26T11:19:36.145Z"
   },
   {
    "duration": 197,
    "start_time": "2022-07-26T11:19:36.397Z"
   },
   {
    "duration": 192,
    "start_time": "2022-07-26T11:19:36.596Z"
   },
   {
    "duration": 19,
    "start_time": "2022-07-26T11:19:36.790Z"
   },
   {
    "duration": 17,
    "start_time": "2022-07-26T11:19:36.810Z"
   },
   {
    "duration": 18,
    "start_time": "2022-07-26T11:19:36.830Z"
   },
   {
    "duration": 34,
    "start_time": "2022-07-26T11:19:36.850Z"
   },
   {
    "duration": 22,
    "start_time": "2022-07-26T11:19:36.886Z"
   },
   {
    "duration": 27,
    "start_time": "2022-07-26T11:19:36.910Z"
   },
   {
    "duration": 19,
    "start_time": "2022-07-26T11:19:36.938Z"
   },
   {
    "duration": 40,
    "start_time": "2022-07-26T11:19:36.959Z"
   },
   {
    "duration": 41,
    "start_time": "2022-07-26T11:19:37.000Z"
   },
   {
    "duration": 37,
    "start_time": "2022-07-26T11:19:37.043Z"
   },
   {
    "duration": 17,
    "start_time": "2022-07-26T11:19:37.082Z"
   },
   {
    "duration": 42,
    "start_time": "2022-07-26T11:19:37.101Z"
   },
   {
    "duration": 9,
    "start_time": "2022-07-26T11:26:34.538Z"
   },
   {
    "duration": 9,
    "start_time": "2022-07-26T11:26:47.805Z"
   },
   {
    "duration": 110,
    "start_time": "2022-07-26T11:27:38.342Z"
   },
   {
    "duration": 12,
    "start_time": "2022-07-26T11:27:47.954Z"
   },
   {
    "duration": 10,
    "start_time": "2022-07-26T11:28:39.166Z"
   },
   {
    "duration": 10,
    "start_time": "2022-07-26T11:28:47.340Z"
   },
   {
    "duration": 11,
    "start_time": "2022-07-26T11:28:59.793Z"
   },
   {
    "duration": 81,
    "start_time": "2022-07-26T11:32:29.686Z"
   },
   {
    "duration": 13,
    "start_time": "2022-07-26T11:33:02.808Z"
   },
   {
    "duration": 12,
    "start_time": "2022-07-26T11:35:42.211Z"
   },
   {
    "duration": 15,
    "start_time": "2022-07-26T11:35:46.542Z"
   },
   {
    "duration": 14,
    "start_time": "2022-07-26T11:35:56.849Z"
   },
   {
    "duration": 13,
    "start_time": "2022-07-26T11:36:01.842Z"
   },
   {
    "duration": 10,
    "start_time": "2022-07-26T11:36:47.402Z"
   },
   {
    "duration": 10,
    "start_time": "2022-07-26T11:38:50.956Z"
   },
   {
    "duration": 8,
    "start_time": "2022-07-26T11:40:08.013Z"
   },
   {
    "duration": 9,
    "start_time": "2022-07-26T11:41:03.388Z"
   },
   {
    "duration": 10,
    "start_time": "2022-07-26T11:41:05.238Z"
   },
   {
    "duration": 13,
    "start_time": "2022-07-26T11:43:06.023Z"
   },
   {
    "duration": 13,
    "start_time": "2022-07-26T11:44:34.024Z"
   },
   {
    "duration": 14,
    "start_time": "2022-07-26T11:44:47.249Z"
   },
   {
    "duration": 14,
    "start_time": "2022-07-26T11:45:17.241Z"
   },
   {
    "duration": 15,
    "start_time": "2022-07-26T11:45:44.870Z"
   },
   {
    "duration": 15,
    "start_time": "2022-07-26T11:57:28.350Z"
   },
   {
    "duration": 15,
    "start_time": "2022-07-26T11:57:54.790Z"
   },
   {
    "duration": 16,
    "start_time": "2022-07-26T11:58:11.008Z"
   },
   {
    "duration": 14,
    "start_time": "2022-07-26T11:58:18.395Z"
   },
   {
    "duration": 15,
    "start_time": "2022-07-26T11:58:27.651Z"
   },
   {
    "duration": 15,
    "start_time": "2022-07-26T11:58:54.095Z"
   },
   {
    "duration": 14,
    "start_time": "2022-07-26T11:58:55.587Z"
   },
   {
    "duration": 14,
    "start_time": "2022-07-26T11:59:18.964Z"
   },
   {
    "duration": 11,
    "start_time": "2022-07-26T11:59:23.437Z"
   },
   {
    "duration": 97,
    "start_time": "2022-07-26T12:49:30.760Z"
   },
   {
    "duration": 15,
    "start_time": "2022-07-26T12:49:30.859Z"
   },
   {
    "duration": 35,
    "start_time": "2022-07-26T12:49:30.875Z"
   },
   {
    "duration": 84,
    "start_time": "2022-07-26T12:49:30.913Z"
   },
   {
    "duration": 85,
    "start_time": "2022-07-26T12:49:30.999Z"
   },
   {
    "duration": 63,
    "start_time": "2022-07-26T12:49:31.086Z"
   },
   {
    "duration": 39,
    "start_time": "2022-07-26T12:49:31.151Z"
   },
   {
    "duration": 20,
    "start_time": "2022-07-26T12:49:31.192Z"
   },
   {
    "duration": 82,
    "start_time": "2022-07-26T12:49:31.213Z"
   },
   {
    "duration": 22,
    "start_time": "2022-07-26T12:49:31.298Z"
   },
   {
    "duration": 66,
    "start_time": "2022-07-26T12:49:31.322Z"
   },
   {
    "duration": 410,
    "start_time": "2022-07-26T12:49:31.390Z"
   },
   {
    "duration": 6,
    "start_time": "2022-07-26T12:49:31.802Z"
   },
   {
    "duration": 28,
    "start_time": "2022-07-26T12:49:31.809Z"
   },
   {
    "duration": 185,
    "start_time": "2022-07-26T12:49:31.840Z"
   },
   {
    "duration": 19,
    "start_time": "2022-07-26T12:49:32.027Z"
   },
   {
    "duration": 2009,
    "start_time": "2022-07-26T12:49:32.048Z"
   },
   {
    "duration": 13,
    "start_time": "2022-07-26T12:49:34.059Z"
   },
   {
    "duration": 21,
    "start_time": "2022-07-26T12:49:34.074Z"
   },
   {
    "duration": 1542,
    "start_time": "2022-07-26T12:49:34.097Z"
   },
   {
    "duration": 115,
    "start_time": "2022-07-26T12:49:35.641Z"
   },
   {
    "duration": 30,
    "start_time": "2022-07-26T12:49:35.758Z"
   },
   {
    "duration": 354,
    "start_time": "2022-07-26T12:49:35.789Z"
   },
   {
    "duration": 187,
    "start_time": "2022-07-26T12:49:36.145Z"
   },
   {
    "duration": 182,
    "start_time": "2022-07-26T12:49:36.334Z"
   },
   {
    "duration": 32,
    "start_time": "2022-07-26T12:49:36.517Z"
   },
   {
    "duration": 28,
    "start_time": "2022-07-26T12:49:36.551Z"
   },
   {
    "duration": 27,
    "start_time": "2022-07-26T12:49:36.582Z"
   },
   {
    "duration": 24,
    "start_time": "2022-07-26T12:49:36.611Z"
   },
   {
    "duration": 22,
    "start_time": "2022-07-26T12:49:36.637Z"
   },
   {
    "duration": 34,
    "start_time": "2022-07-26T12:49:36.660Z"
   },
   {
    "duration": 57,
    "start_time": "2022-07-26T12:49:36.695Z"
   },
   {
    "duration": 25,
    "start_time": "2022-07-26T12:49:36.754Z"
   },
   {
    "duration": 15,
    "start_time": "2022-07-26T12:49:36.780Z"
   },
   {
    "duration": 38,
    "start_time": "2022-07-26T12:49:36.797Z"
   },
   {
    "duration": 45,
    "start_time": "2022-07-26T12:49:36.838Z"
   },
   {
    "duration": 30,
    "start_time": "2022-07-26T12:49:36.885Z"
   },
   {
    "duration": 38,
    "start_time": "2022-07-26T12:49:36.917Z"
   },
   {
    "duration": 36,
    "start_time": "2022-07-26T12:49:36.957Z"
   },
   {
    "duration": 46,
    "start_time": "2022-07-27T13:02:13.016Z"
   },
   {
    "duration": 1485,
    "start_time": "2022-07-27T13:02:18.413Z"
   },
   {
    "duration": 17,
    "start_time": "2022-07-27T13:02:19.900Z"
   },
   {
    "duration": 28,
    "start_time": "2022-07-27T13:02:19.919Z"
   },
   {
    "duration": 26,
    "start_time": "2022-07-27T13:02:19.950Z"
   },
   {
    "duration": 22,
    "start_time": "2022-07-27T13:02:19.978Z"
   },
   {
    "duration": 23,
    "start_time": "2022-07-27T13:02:20.001Z"
   },
   {
    "duration": 51,
    "start_time": "2022-07-27T13:02:20.025Z"
   },
   {
    "duration": 6,
    "start_time": "2022-07-27T13:02:20.078Z"
   },
   {
    "duration": 23,
    "start_time": "2022-07-27T13:02:20.086Z"
   },
   {
    "duration": 6,
    "start_time": "2022-07-27T13:02:20.113Z"
   },
   {
    "duration": 54,
    "start_time": "2022-07-27T13:02:20.120Z"
   },
   {
    "duration": 357,
    "start_time": "2022-07-27T13:02:20.177Z"
   },
   {
    "duration": 6,
    "start_time": "2022-07-27T13:02:20.536Z"
   },
   {
    "duration": 29,
    "start_time": "2022-07-27T13:02:20.543Z"
   },
   {
    "duration": 211,
    "start_time": "2022-07-27T13:02:20.574Z"
   },
   {
    "duration": 16,
    "start_time": "2022-07-27T13:02:20.787Z"
   },
   {
    "duration": 1772,
    "start_time": "2022-07-27T13:02:20.805Z"
   },
   {
    "duration": 15,
    "start_time": "2022-07-27T13:02:22.579Z"
   },
   {
    "duration": 18,
    "start_time": "2022-07-27T13:02:22.596Z"
   },
   {
    "duration": 1533,
    "start_time": "2022-07-27T13:02:22.616Z"
   },
   {
    "duration": 102,
    "start_time": "2022-07-27T13:02:24.160Z"
   },
   {
    "duration": 34,
    "start_time": "2022-07-27T13:02:24.264Z"
   },
   {
    "duration": 220,
    "start_time": "2022-07-27T13:02:24.300Z"
   },
   {
    "duration": 231,
    "start_time": "2022-07-27T13:02:24.523Z"
   },
   {
    "duration": 162,
    "start_time": "2022-07-27T13:02:24.760Z"
   },
   {
    "duration": 170,
    "start_time": "2022-07-27T13:02:24.923Z"
   },
   {
    "duration": 19,
    "start_time": "2022-07-27T13:02:25.095Z"
   },
   {
    "duration": 6,
    "start_time": "2022-07-27T13:02:25.117Z"
   },
   {
    "duration": 46,
    "start_time": "2022-07-27T13:02:25.125Z"
   },
   {
    "duration": 16,
    "start_time": "2022-07-27T13:02:25.173Z"
   },
   {
    "duration": 15,
    "start_time": "2022-07-27T13:02:25.191Z"
   },
   {
    "duration": 16,
    "start_time": "2022-07-27T13:02:25.208Z"
   },
   {
    "duration": 44,
    "start_time": "2022-07-27T13:02:25.226Z"
   },
   {
    "duration": 24,
    "start_time": "2022-07-27T13:02:25.272Z"
   },
   {
    "duration": 16,
    "start_time": "2022-07-27T13:02:25.298Z"
   },
   {
    "duration": 32,
    "start_time": "2022-07-27T13:02:25.316Z"
   },
   {
    "duration": 25,
    "start_time": "2022-07-27T13:02:25.350Z"
   },
   {
    "duration": 29,
    "start_time": "2022-07-27T13:02:25.377Z"
   },
   {
    "duration": 32,
    "start_time": "2022-07-27T13:02:25.408Z"
   },
   {
    "duration": 17,
    "start_time": "2022-07-27T13:02:25.442Z"
   },
   {
    "duration": 141,
    "start_time": "2022-07-27T13:15:02.539Z"
   },
   {
    "duration": 118,
    "start_time": "2022-07-27T13:15:08.694Z"
   },
   {
    "duration": 132,
    "start_time": "2022-07-27T13:15:15.936Z"
   },
   {
    "duration": 57,
    "start_time": "2022-07-27T13:16:03.717Z"
   },
   {
    "duration": 50,
    "start_time": "2022-07-27T13:18:36.005Z"
   },
   {
    "duration": 52,
    "start_time": "2022-07-27T13:18:42.870Z"
   },
   {
    "duration": 5,
    "start_time": "2022-07-27T13:18:57.770Z"
   },
   {
    "duration": 18,
    "start_time": "2022-07-27T13:19:05.267Z"
   },
   {
    "duration": 95,
    "start_time": "2022-07-27T13:19:16.998Z"
   },
   {
    "duration": 14,
    "start_time": "2022-07-27T13:19:17.095Z"
   },
   {
    "duration": 19,
    "start_time": "2022-07-27T13:19:17.110Z"
   },
   {
    "duration": 39,
    "start_time": "2022-07-27T13:19:17.131Z"
   },
   {
    "duration": 25,
    "start_time": "2022-07-27T13:19:17.172Z"
   },
   {
    "duration": 25,
    "start_time": "2022-07-27T13:19:17.199Z"
   },
   {
    "duration": 43,
    "start_time": "2022-07-27T13:19:17.225Z"
   },
   {
    "duration": 5,
    "start_time": "2022-07-27T13:19:17.269Z"
   },
   {
    "duration": 18,
    "start_time": "2022-07-27T13:19:17.276Z"
   },
   {
    "duration": 5,
    "start_time": "2022-07-27T13:19:17.296Z"
   },
   {
    "duration": 58,
    "start_time": "2022-07-27T13:19:17.303Z"
   },
   {
    "duration": 373,
    "start_time": "2022-07-27T13:19:17.363Z"
   },
   {
    "duration": 23,
    "start_time": "2022-07-27T13:19:17.738Z"
   },
   {
    "duration": 19,
    "start_time": "2022-07-27T13:19:17.763Z"
   },
   {
    "duration": 176,
    "start_time": "2022-07-27T13:19:17.784Z"
   },
   {
    "duration": 14,
    "start_time": "2022-07-27T13:19:17.963Z"
   },
   {
    "duration": 1749,
    "start_time": "2022-07-27T13:19:17.979Z"
   },
   {
    "duration": 12,
    "start_time": "2022-07-27T13:19:19.730Z"
   },
   {
    "duration": 24,
    "start_time": "2022-07-27T13:19:19.744Z"
   },
   {
    "duration": 1408,
    "start_time": "2022-07-27T13:19:19.769Z"
   },
   {
    "duration": 222,
    "start_time": "2022-07-27T13:19:21.179Z"
   },
   {
    "duration": 32,
    "start_time": "2022-07-27T13:19:21.403Z"
   },
   {
    "duration": 219,
    "start_time": "2022-07-27T13:19:21.436Z"
   },
   {
    "duration": 209,
    "start_time": "2022-07-27T13:19:21.660Z"
   },
   {
    "duration": 167,
    "start_time": "2022-07-27T13:19:21.871Z"
   },
   {
    "duration": 167,
    "start_time": "2022-07-27T13:19:22.040Z"
   },
   {
    "duration": 18,
    "start_time": "2022-07-27T13:19:22.209Z"
   },
   {
    "duration": 5,
    "start_time": "2022-07-27T13:19:22.230Z"
   },
   {
    "duration": 32,
    "start_time": "2022-07-27T13:19:22.236Z"
   },
   {
    "duration": 15,
    "start_time": "2022-07-27T13:19:22.270Z"
   },
   {
    "duration": 15,
    "start_time": "2022-07-27T13:19:22.287Z"
   },
   {
    "duration": 16,
    "start_time": "2022-07-27T13:19:22.304Z"
   },
   {
    "duration": 39,
    "start_time": "2022-07-27T13:19:22.322Z"
   },
   {
    "duration": 16,
    "start_time": "2022-07-27T13:19:22.363Z"
   },
   {
    "duration": 14,
    "start_time": "2022-07-27T13:19:22.380Z"
   },
   {
    "duration": 13,
    "start_time": "2022-07-27T13:19:22.396Z"
   },
   {
    "duration": 16,
    "start_time": "2022-07-27T13:19:22.411Z"
   },
   {
    "duration": 43,
    "start_time": "2022-07-27T13:19:22.429Z"
   },
   {
    "duration": 14,
    "start_time": "2022-07-27T13:19:22.473Z"
   },
   {
    "duration": 14,
    "start_time": "2022-07-27T13:19:22.488Z"
   },
   {
    "duration": 13,
    "start_time": "2022-07-27T13:20:08.517Z"
   },
   {
    "duration": 114,
    "start_time": "2022-07-27T13:20:14.628Z"
   },
   {
    "duration": 18,
    "start_time": "2022-07-27T13:20:14.760Z"
   },
   {
    "duration": 33,
    "start_time": "2022-07-27T13:20:14.780Z"
   },
   {
    "duration": 24,
    "start_time": "2022-07-27T13:20:14.815Z"
   },
   {
    "duration": 32,
    "start_time": "2022-07-27T13:20:14.841Z"
   },
   {
    "duration": 23,
    "start_time": "2022-07-27T13:20:14.875Z"
   },
   {
    "duration": 21,
    "start_time": "2022-07-27T13:20:14.900Z"
   },
   {
    "duration": 7,
    "start_time": "2022-07-27T13:20:14.924Z"
   },
   {
    "duration": 44,
    "start_time": "2022-07-27T13:20:14.933Z"
   },
   {
    "duration": 6,
    "start_time": "2022-07-27T13:20:14.978Z"
   },
   {
    "duration": 44,
    "start_time": "2022-07-27T13:20:14.985Z"
   },
   {
    "duration": 450,
    "start_time": "2022-07-27T13:20:15.031Z"
   },
   {
    "duration": 50,
    "start_time": "2022-07-27T13:20:15.483Z"
   },
   {
    "duration": 0,
    "start_time": "2022-07-27T13:20:15.536Z"
   },
   {
    "duration": 0,
    "start_time": "2022-07-27T13:20:15.537Z"
   },
   {
    "duration": 0,
    "start_time": "2022-07-27T13:20:15.538Z"
   },
   {
    "duration": 0,
    "start_time": "2022-07-27T13:20:15.540Z"
   },
   {
    "duration": 0,
    "start_time": "2022-07-27T13:20:15.541Z"
   },
   {
    "duration": 0,
    "start_time": "2022-07-27T13:20:15.560Z"
   },
   {
    "duration": 0,
    "start_time": "2022-07-27T13:20:15.563Z"
   },
   {
    "duration": 0,
    "start_time": "2022-07-27T13:20:15.564Z"
   },
   {
    "duration": 0,
    "start_time": "2022-07-27T13:20:15.565Z"
   },
   {
    "duration": 0,
    "start_time": "2022-07-27T13:20:15.568Z"
   },
   {
    "duration": 0,
    "start_time": "2022-07-27T13:20:15.570Z"
   },
   {
    "duration": 0,
    "start_time": "2022-07-27T13:20:15.571Z"
   },
   {
    "duration": 0,
    "start_time": "2022-07-27T13:20:15.573Z"
   },
   {
    "duration": 0,
    "start_time": "2022-07-27T13:20:15.574Z"
   },
   {
    "duration": 0,
    "start_time": "2022-07-27T13:20:15.576Z"
   },
   {
    "duration": 0,
    "start_time": "2022-07-27T13:20:15.578Z"
   },
   {
    "duration": 0,
    "start_time": "2022-07-27T13:20:15.580Z"
   },
   {
    "duration": 0,
    "start_time": "2022-07-27T13:20:15.582Z"
   },
   {
    "duration": 0,
    "start_time": "2022-07-27T13:20:15.583Z"
   },
   {
    "duration": 0,
    "start_time": "2022-07-27T13:20:15.584Z"
   },
   {
    "duration": 0,
    "start_time": "2022-07-27T13:20:15.585Z"
   },
   {
    "duration": 0,
    "start_time": "2022-07-27T13:20:15.586Z"
   },
   {
    "duration": 0,
    "start_time": "2022-07-27T13:20:15.590Z"
   },
   {
    "duration": 0,
    "start_time": "2022-07-27T13:20:15.591Z"
   },
   {
    "duration": 0,
    "start_time": "2022-07-27T13:20:15.592Z"
   },
   {
    "duration": 1,
    "start_time": "2022-07-27T13:20:15.593Z"
   },
   {
    "duration": 0,
    "start_time": "2022-07-27T13:20:15.595Z"
   },
   {
    "duration": 11,
    "start_time": "2022-07-27T13:20:30.624Z"
   },
   {
    "duration": 101,
    "start_time": "2022-07-27T13:20:39.417Z"
   },
   {
    "duration": 12,
    "start_time": "2022-07-27T13:20:39.521Z"
   },
   {
    "duration": 22,
    "start_time": "2022-07-27T13:20:39.561Z"
   },
   {
    "duration": 33,
    "start_time": "2022-07-27T13:20:39.586Z"
   },
   {
    "duration": 39,
    "start_time": "2022-07-27T13:20:39.622Z"
   },
   {
    "duration": 39,
    "start_time": "2022-07-27T13:20:39.663Z"
   },
   {
    "duration": 25,
    "start_time": "2022-07-27T13:20:39.704Z"
   },
   {
    "duration": 6,
    "start_time": "2022-07-27T13:20:39.732Z"
   },
   {
    "duration": 35,
    "start_time": "2022-07-27T13:20:39.761Z"
   },
   {
    "duration": 5,
    "start_time": "2022-07-27T13:20:39.798Z"
   },
   {
    "duration": 35,
    "start_time": "2022-07-27T13:20:39.805Z"
   },
   {
    "duration": 395,
    "start_time": "2022-07-27T13:20:39.841Z"
   },
   {
    "duration": 31,
    "start_time": "2022-07-27T13:20:40.237Z"
   },
   {
    "duration": 20,
    "start_time": "2022-07-27T13:20:40.273Z"
   },
   {
    "duration": 194,
    "start_time": "2022-07-27T13:20:40.296Z"
   },
   {
    "duration": 16,
    "start_time": "2022-07-27T13:20:40.492Z"
   },
   {
    "duration": 1818,
    "start_time": "2022-07-27T13:20:40.510Z"
   },
   {
    "duration": 14,
    "start_time": "2022-07-27T13:20:42.330Z"
   },
   {
    "duration": 31,
    "start_time": "2022-07-27T13:20:42.345Z"
   },
   {
    "duration": 1489,
    "start_time": "2022-07-27T13:20:42.379Z"
   },
   {
    "duration": 131,
    "start_time": "2022-07-27T13:20:43.869Z"
   },
   {
    "duration": 31,
    "start_time": "2022-07-27T13:20:44.003Z"
   },
   {
    "duration": 250,
    "start_time": "2022-07-27T13:20:44.036Z"
   },
   {
    "duration": 260,
    "start_time": "2022-07-27T13:20:44.288Z"
   },
   {
    "duration": 194,
    "start_time": "2022-07-27T13:20:44.550Z"
   },
   {
    "duration": 292,
    "start_time": "2022-07-27T13:20:44.747Z"
   },
   {
    "duration": 31,
    "start_time": "2022-07-27T13:20:45.040Z"
   },
   {
    "duration": 6,
    "start_time": "2022-07-27T13:20:45.073Z"
   },
   {
    "duration": 16,
    "start_time": "2022-07-27T13:20:45.081Z"
   },
   {
    "duration": 17,
    "start_time": "2022-07-27T13:20:45.099Z"
   },
   {
    "duration": 53,
    "start_time": "2022-07-27T13:20:45.118Z"
   },
   {
    "duration": 18,
    "start_time": "2022-07-27T13:20:45.173Z"
   },
   {
    "duration": 12,
    "start_time": "2022-07-27T13:20:45.192Z"
   },
   {
    "duration": 15,
    "start_time": "2022-07-27T13:20:45.205Z"
   },
   {
    "duration": 40,
    "start_time": "2022-07-27T13:20:45.222Z"
   },
   {
    "duration": 28,
    "start_time": "2022-07-27T13:20:45.263Z"
   },
   {
    "duration": 25,
    "start_time": "2022-07-27T13:20:45.292Z"
   },
   {
    "duration": 16,
    "start_time": "2022-07-27T13:20:45.319Z"
   },
   {
    "duration": 12,
    "start_time": "2022-07-27T13:20:45.337Z"
   },
   {
    "duration": 17,
    "start_time": "2022-07-27T13:20:45.360Z"
   },
   {
    "duration": 16,
    "start_time": "2022-07-27T13:22:26.438Z"
   },
   {
    "duration": 17,
    "start_time": "2022-07-27T13:22:31.701Z"
   },
   {
    "duration": 97,
    "start_time": "2022-07-27T13:23:02.986Z"
   },
   {
    "duration": 18,
    "start_time": "2022-07-27T13:23:03.086Z"
   },
   {
    "duration": 32,
    "start_time": "2022-07-27T13:23:03.106Z"
   },
   {
    "duration": 37,
    "start_time": "2022-07-27T13:23:03.141Z"
   },
   {
    "duration": 64,
    "start_time": "2022-07-27T13:23:03.180Z"
   },
   {
    "duration": 24,
    "start_time": "2022-07-27T13:23:03.245Z"
   },
   {
    "duration": 26,
    "start_time": "2022-07-27T13:23:03.271Z"
   },
   {
    "duration": 4,
    "start_time": "2022-07-27T13:23:03.299Z"
   },
   {
    "duration": 24,
    "start_time": "2022-07-27T13:23:03.305Z"
   },
   {
    "duration": 4,
    "start_time": "2022-07-27T13:23:03.331Z"
   },
   {
    "duration": 51,
    "start_time": "2022-07-27T13:23:03.337Z"
   },
   {
    "duration": 439,
    "start_time": "2022-07-27T13:23:03.390Z"
   },
   {
    "duration": 13,
    "start_time": "2022-07-27T13:23:03.831Z"
   },
   {
    "duration": 0,
    "start_time": "2022-07-27T13:23:03.846Z"
   },
   {
    "duration": 1,
    "start_time": "2022-07-27T13:23:03.859Z"
   },
   {
    "duration": 0,
    "start_time": "2022-07-27T13:23:03.861Z"
   },
   {
    "duration": 0,
    "start_time": "2022-07-27T13:23:03.861Z"
   },
   {
    "duration": 0,
    "start_time": "2022-07-27T13:23:03.862Z"
   },
   {
    "duration": 0,
    "start_time": "2022-07-27T13:23:03.863Z"
   },
   {
    "duration": 0,
    "start_time": "2022-07-27T13:23:03.864Z"
   },
   {
    "duration": 0,
    "start_time": "2022-07-27T13:23:03.864Z"
   },
   {
    "duration": 0,
    "start_time": "2022-07-27T13:23:03.865Z"
   },
   {
    "duration": 0,
    "start_time": "2022-07-27T13:23:03.866Z"
   },
   {
    "duration": 0,
    "start_time": "2022-07-27T13:23:03.867Z"
   },
   {
    "duration": 0,
    "start_time": "2022-07-27T13:23:03.872Z"
   },
   {
    "duration": 0,
    "start_time": "2022-07-27T13:23:03.873Z"
   },
   {
    "duration": 0,
    "start_time": "2022-07-27T13:23:03.874Z"
   },
   {
    "duration": 0,
    "start_time": "2022-07-27T13:23:03.875Z"
   },
   {
    "duration": 0,
    "start_time": "2022-07-27T13:23:03.876Z"
   },
   {
    "duration": 1,
    "start_time": "2022-07-27T13:23:03.877Z"
   },
   {
    "duration": 1,
    "start_time": "2022-07-27T13:23:03.878Z"
   },
   {
    "duration": 0,
    "start_time": "2022-07-27T13:23:03.885Z"
   },
   {
    "duration": 0,
    "start_time": "2022-07-27T13:23:03.886Z"
   },
   {
    "duration": 0,
    "start_time": "2022-07-27T13:23:03.887Z"
   },
   {
    "duration": 0,
    "start_time": "2022-07-27T13:23:03.889Z"
   },
   {
    "duration": 0,
    "start_time": "2022-07-27T13:23:03.891Z"
   },
   {
    "duration": 0,
    "start_time": "2022-07-27T13:23:03.892Z"
   },
   {
    "duration": 0,
    "start_time": "2022-07-27T13:23:03.894Z"
   },
   {
    "duration": 0,
    "start_time": "2022-07-27T13:23:03.896Z"
   },
   {
    "duration": 0,
    "start_time": "2022-07-27T13:23:03.897Z"
   },
   {
    "duration": 14,
    "start_time": "2022-07-27T13:26:54.922Z"
   },
   {
    "duration": 29,
    "start_time": "2022-07-27T13:27:03.044Z"
   },
   {
    "duration": 17,
    "start_time": "2022-07-27T13:27:10.005Z"
   },
   {
    "duration": 16,
    "start_time": "2022-07-27T13:29:08.518Z"
   },
   {
    "duration": 94,
    "start_time": "2022-07-27T13:29:17.511Z"
   },
   {
    "duration": 13,
    "start_time": "2022-07-27T13:29:17.607Z"
   },
   {
    "duration": 26,
    "start_time": "2022-07-27T13:29:17.622Z"
   },
   {
    "duration": 44,
    "start_time": "2022-07-27T13:29:17.660Z"
   },
   {
    "duration": 38,
    "start_time": "2022-07-27T13:29:17.706Z"
   },
   {
    "duration": 32,
    "start_time": "2022-07-27T13:29:17.746Z"
   },
   {
    "duration": 52,
    "start_time": "2022-07-27T13:29:17.780Z"
   },
   {
    "duration": 4,
    "start_time": "2022-07-27T13:29:17.834Z"
   },
   {
    "duration": 47,
    "start_time": "2022-07-27T13:29:17.840Z"
   },
   {
    "duration": 15,
    "start_time": "2022-07-27T13:29:17.889Z"
   },
   {
    "duration": 45,
    "start_time": "2022-07-27T13:29:17.906Z"
   },
   {
    "duration": 383,
    "start_time": "2022-07-27T13:29:17.953Z"
   },
   {
    "duration": 30,
    "start_time": "2022-07-27T13:29:18.338Z"
   },
   {
    "duration": 19,
    "start_time": "2022-07-27T13:29:18.370Z"
   },
   {
    "duration": 181,
    "start_time": "2022-07-27T13:29:18.390Z"
   },
   {
    "duration": 18,
    "start_time": "2022-07-27T13:29:18.573Z"
   },
   {
    "duration": 1814,
    "start_time": "2022-07-27T13:29:18.592Z"
   },
   {
    "duration": 13,
    "start_time": "2022-07-27T13:29:20.408Z"
   },
   {
    "duration": 23,
    "start_time": "2022-07-27T13:29:20.422Z"
   },
   {
    "duration": 1596,
    "start_time": "2022-07-27T13:29:20.447Z"
   },
   {
    "duration": 105,
    "start_time": "2022-07-27T13:29:22.044Z"
   },
   {
    "duration": 45,
    "start_time": "2022-07-27T13:29:22.150Z"
   },
   {
    "duration": 224,
    "start_time": "2022-07-27T13:29:22.196Z"
   },
   {
    "duration": 231,
    "start_time": "2022-07-27T13:29:22.422Z"
   },
   {
    "duration": 184,
    "start_time": "2022-07-27T13:29:22.660Z"
   },
   {
    "duration": 182,
    "start_time": "2022-07-27T13:29:22.846Z"
   },
   {
    "duration": 35,
    "start_time": "2022-07-27T13:29:23.030Z"
   },
   {
    "duration": 6,
    "start_time": "2022-07-27T13:29:23.069Z"
   },
   {
    "duration": 47,
    "start_time": "2022-07-27T13:29:23.078Z"
   },
   {
    "duration": 43,
    "start_time": "2022-07-27T13:29:23.127Z"
   },
   {
    "duration": 54,
    "start_time": "2022-07-27T13:29:23.173Z"
   },
   {
    "duration": 52,
    "start_time": "2022-07-27T13:29:23.229Z"
   },
   {
    "duration": 36,
    "start_time": "2022-07-27T13:29:23.283Z"
   },
   {
    "duration": 73,
    "start_time": "2022-07-27T13:29:23.321Z"
   },
   {
    "duration": 48,
    "start_time": "2022-07-27T13:29:23.396Z"
   },
   {
    "duration": 33,
    "start_time": "2022-07-27T13:29:23.445Z"
   },
   {
    "duration": 49,
    "start_time": "2022-07-27T13:29:23.480Z"
   },
   {
    "duration": 22,
    "start_time": "2022-07-27T13:29:23.531Z"
   },
   {
    "duration": 52,
    "start_time": "2022-07-27T13:29:23.554Z"
   },
   {
    "duration": 33,
    "start_time": "2022-07-27T13:29:23.608Z"
   },
   {
    "duration": 5,
    "start_time": "2022-07-27T13:40:25.843Z"
   },
   {
    "duration": 17,
    "start_time": "2022-07-27T13:40:31.195Z"
   },
   {
    "duration": 115,
    "start_time": "2022-07-27T13:40:36.557Z"
   },
   {
    "duration": 14,
    "start_time": "2022-07-27T13:40:36.675Z"
   },
   {
    "duration": 20,
    "start_time": "2022-07-27T13:40:36.691Z"
   },
   {
    "duration": 26,
    "start_time": "2022-07-27T13:40:36.713Z"
   },
   {
    "duration": 27,
    "start_time": "2022-07-27T13:40:36.741Z"
   },
   {
    "duration": 28,
    "start_time": "2022-07-27T13:40:36.770Z"
   },
   {
    "duration": 21,
    "start_time": "2022-07-27T13:40:36.800Z"
   },
   {
    "duration": 4,
    "start_time": "2022-07-27T13:40:36.823Z"
   },
   {
    "duration": 49,
    "start_time": "2022-07-27T13:40:36.828Z"
   },
   {
    "duration": 5,
    "start_time": "2022-07-27T13:40:36.878Z"
   },
   {
    "duration": 32,
    "start_time": "2022-07-27T13:40:36.884Z"
   },
   {
    "duration": 372,
    "start_time": "2022-07-27T13:40:36.918Z"
   },
   {
    "duration": 6,
    "start_time": "2022-07-27T13:40:37.291Z"
   },
   {
    "duration": 7,
    "start_time": "2022-07-27T13:40:37.300Z"
   },
   {
    "duration": 19,
    "start_time": "2022-07-27T13:40:37.308Z"
   },
   {
    "duration": 180,
    "start_time": "2022-07-27T13:40:37.328Z"
   },
   {
    "duration": 14,
    "start_time": "2022-07-27T13:40:37.510Z"
   },
   {
    "duration": 1957,
    "start_time": "2022-07-27T13:40:37.525Z"
   },
   {
    "duration": 16,
    "start_time": "2022-07-27T13:40:39.484Z"
   },
   {
    "duration": 23,
    "start_time": "2022-07-27T13:40:39.502Z"
   },
   {
    "duration": 1449,
    "start_time": "2022-07-27T13:40:39.527Z"
   },
   {
    "duration": 107,
    "start_time": "2022-07-27T13:40:40.978Z"
   },
   {
    "duration": 27,
    "start_time": "2022-07-27T13:40:41.087Z"
   },
   {
    "duration": 211,
    "start_time": "2022-07-27T13:40:41.116Z"
   },
   {
    "duration": 225,
    "start_time": "2022-07-27T13:40:41.328Z"
   },
   {
    "duration": 286,
    "start_time": "2022-07-27T13:40:41.560Z"
   },
   {
    "duration": 170,
    "start_time": "2022-07-27T13:40:41.847Z"
   },
   {
    "duration": 17,
    "start_time": "2022-07-27T13:40:42.019Z"
   },
   {
    "duration": 6,
    "start_time": "2022-07-27T13:40:42.038Z"
   },
   {
    "duration": 18,
    "start_time": "2022-07-27T13:40:42.061Z"
   },
   {
    "duration": 26,
    "start_time": "2022-07-27T13:40:42.080Z"
   },
   {
    "duration": 16,
    "start_time": "2022-07-27T13:40:42.108Z"
   },
   {
    "duration": 14,
    "start_time": "2022-07-27T13:40:42.126Z"
   },
   {
    "duration": 36,
    "start_time": "2022-07-27T13:40:42.141Z"
   },
   {
    "duration": 41,
    "start_time": "2022-07-27T13:40:42.178Z"
   },
   {
    "duration": 21,
    "start_time": "2022-07-27T13:40:42.221Z"
   },
   {
    "duration": 23,
    "start_time": "2022-07-27T13:40:42.243Z"
   },
   {
    "duration": 29,
    "start_time": "2022-07-27T13:40:42.268Z"
   },
   {
    "duration": 22,
    "start_time": "2022-07-27T13:40:42.299Z"
   },
   {
    "duration": 18,
    "start_time": "2022-07-27T13:40:42.322Z"
   },
   {
    "duration": 10,
    "start_time": "2022-07-27T13:40:42.344Z"
   },
   {
    "duration": 111,
    "start_time": "2022-07-27T13:53:20.373Z"
   },
   {
    "duration": 19,
    "start_time": "2022-07-27T13:53:20.486Z"
   },
   {
    "duration": 18,
    "start_time": "2022-07-27T13:53:20.507Z"
   },
   {
    "duration": 35,
    "start_time": "2022-07-27T13:53:20.527Z"
   },
   {
    "duration": 21,
    "start_time": "2022-07-27T13:53:20.563Z"
   },
   {
    "duration": 23,
    "start_time": "2022-07-27T13:53:20.586Z"
   },
   {
    "duration": 26,
    "start_time": "2022-07-27T13:53:20.610Z"
   },
   {
    "duration": 27,
    "start_time": "2022-07-27T13:53:20.637Z"
   },
   {
    "duration": 21,
    "start_time": "2022-07-27T13:53:20.665Z"
   },
   {
    "duration": 5,
    "start_time": "2022-07-27T13:53:20.689Z"
   },
   {
    "duration": 44,
    "start_time": "2022-07-27T13:53:20.695Z"
   },
   {
    "duration": 361,
    "start_time": "2022-07-27T13:53:20.741Z"
   },
   {
    "duration": 6,
    "start_time": "2022-07-27T13:53:21.103Z"
   },
   {
    "duration": 8,
    "start_time": "2022-07-27T13:53:21.111Z"
   },
   {
    "duration": 18,
    "start_time": "2022-07-27T13:53:21.121Z"
   },
   {
    "duration": 173,
    "start_time": "2022-07-27T13:53:21.141Z"
   },
   {
    "duration": 16,
    "start_time": "2022-07-27T13:53:21.316Z"
   },
   {
    "duration": 1752,
    "start_time": "2022-07-27T13:53:21.334Z"
   },
   {
    "duration": 15,
    "start_time": "2022-07-27T13:53:23.088Z"
   },
   {
    "duration": 21,
    "start_time": "2022-07-27T13:53:23.105Z"
   },
   {
    "duration": 1574,
    "start_time": "2022-07-27T13:53:23.129Z"
   },
   {
    "duration": 105,
    "start_time": "2022-07-27T13:53:24.705Z"
   },
   {
    "duration": 31,
    "start_time": "2022-07-27T13:53:24.812Z"
   },
   {
    "duration": 223,
    "start_time": "2022-07-27T13:53:24.845Z"
   },
   {
    "duration": 227,
    "start_time": "2022-07-27T13:53:25.070Z"
   },
   {
    "duration": 166,
    "start_time": "2022-07-27T13:53:25.299Z"
   },
   {
    "duration": 170,
    "start_time": "2022-07-27T13:53:25.467Z"
   },
   {
    "duration": 29,
    "start_time": "2022-07-27T13:53:25.640Z"
   },
   {
    "duration": 12,
    "start_time": "2022-07-27T13:53:25.670Z"
   },
   {
    "duration": 23,
    "start_time": "2022-07-27T13:53:25.684Z"
   },
   {
    "duration": 15,
    "start_time": "2022-07-27T13:53:25.710Z"
   },
   {
    "duration": 39,
    "start_time": "2022-07-27T13:53:25.727Z"
   },
   {
    "duration": 18,
    "start_time": "2022-07-27T13:53:25.768Z"
   },
   {
    "duration": 13,
    "start_time": "2022-07-27T13:53:25.787Z"
   },
   {
    "duration": 14,
    "start_time": "2022-07-27T13:53:25.801Z"
   },
   {
    "duration": 16,
    "start_time": "2022-07-27T13:53:25.817Z"
   },
   {
    "duration": 13,
    "start_time": "2022-07-27T13:53:25.861Z"
   },
   {
    "duration": 18,
    "start_time": "2022-07-27T13:53:25.875Z"
   },
   {
    "duration": 13,
    "start_time": "2022-07-27T13:53:25.895Z"
   },
   {
    "duration": 19,
    "start_time": "2022-07-27T13:53:25.910Z"
   },
   {
    "duration": 30,
    "start_time": "2022-07-27T13:53:25.931Z"
   }
  ],
  "kernelspec": {
   "display_name": "Python 3 (ipykernel)",
   "language": "python",
   "name": "python3"
  },
  "language_info": {
   "codemirror_mode": {
    "name": "ipython",
    "version": 3
   },
   "file_extension": ".py",
   "mimetype": "text/x-python",
   "name": "python",
   "nbconvert_exporter": "python",
   "pygments_lexer": "ipython3",
   "version": "3.9.12"
  },
  "toc": {
   "base_numbering": 1,
   "nav_menu": {
    "height": "261.997px",
    "width": "275.99px"
   },
   "number_sections": true,
   "sideBar": true,
   "skip_h1_title": true,
   "title_cell": "Table of Contents",
   "title_sidebar": "Contents",
   "toc_cell": false,
   "toc_position": {},
   "toc_section_display": true,
   "toc_window_display": false
  }
 },
 "nbformat": 4,
 "nbformat_minor": 2
}
