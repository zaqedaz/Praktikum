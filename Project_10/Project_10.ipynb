{
 "cells": [
  {
   "cell_type": "markdown",
   "metadata": {},
   "source": [
    "# Защита персональных данных клиентов"
   ]
  },
  {
   "cell_type": "markdown",
   "metadata": {},
   "source": [
    "Вам нужно защитить данные клиентов страховой компании «Хоть потоп». Разработайте такой метод преобразования данных, чтобы по ним было сложно восстановить персональную информацию. Обоснуйте корректность его работы.\n",
    "\n",
    "Нужно защитить данные, чтобы при преобразовании качество моделей машинного обучения не ухудшилось. Подбирать наилучшую модель не требуется."
   ]
  },
  {
   "cell_type": "markdown",
   "metadata": {},
   "source": [
    "## Загрузка данных"
   ]
  },
  {
   "cell_type": "code",
   "execution_count": 1,
   "metadata": {},
   "outputs": [],
   "source": [
    "import pandas as pd\n",
    "import numpy as np\n",
    "from sklearn.model_selection import train_test_split\n",
    "from sklearn.linear_model import LinearRegression\n",
    "from sklearn.metrics import r2_score"
   ]
  },
  {
   "cell_type": "code",
   "execution_count": 2,
   "metadata": {},
   "outputs": [],
   "source": [
    "RANDOM_STATE = 12345"
   ]
  },
  {
   "cell_type": "code",
   "execution_count": 3,
   "metadata": {},
   "outputs": [
    {
     "name": "stdout",
     "output_type": "stream",
     "text": [
      "<class 'pandas.core.frame.DataFrame'>\n",
      "RangeIndex: 5000 entries, 0 to 4999\n",
      "Data columns (total 5 columns):\n",
      " #   Column             Non-Null Count  Dtype  \n",
      "---  ------             --------------  -----  \n",
      " 0   Пол                5000 non-null   int64  \n",
      " 1   Возраст            5000 non-null   float64\n",
      " 2   Зарплата           5000 non-null   float64\n",
      " 3   Члены семьи        5000 non-null   int64  \n",
      " 4   Страховые выплаты  5000 non-null   int64  \n",
      "dtypes: float64(2), int64(3)\n",
      "memory usage: 195.4 KB\n"
     ]
    }
   ],
   "source": [
    "data = pd.read_csv('datasets/insurance.csv')\n",
    "data.info()"
   ]
  },
  {
   "cell_type": "markdown",
   "metadata": {},
   "source": [
    "Колонки 'Возраст' и 'Зарплата' имеют тип данных float64. Посмотрим, есть ли в них дроби"
   ]
  },
  {
   "cell_type": "code",
   "execution_count": 4,
   "metadata": {},
   "outputs": [
    {
     "data": {
      "text/plain": [
       "array([41., 46., 29., 21., 28., 43., 39., 25., 36., 32., 38., 23., 40.,\n",
       "       34., 26., 42., 27., 33., 47., 30., 19., 31., 22., 20., 24., 18.,\n",
       "       37., 48., 45., 44., 52., 49., 35., 56., 65., 55., 57., 54., 50.,\n",
       "       53., 51., 58., 59., 60., 61., 62.])"
      ]
     },
     "metadata": {},
     "output_type": "display_data"
    },
    {
     "data": {
      "text/plain": [
       "array([49600., 38000., 21000., 41700., 26100., 41000., 39700., 38600.,\n",
       "       49700., 51700., 36600., 29300., 39500., 55000., 43700., 23300.,\n",
       "       48900., 33200., 36900., 43500., 36100., 26600., 48700., 40400.,\n",
       "       38400., 34600., 34800., 36800., 42200., 46300., 30300., 51000.,\n",
       "       28100., 64800., 30400., 45300., 38300., 49500., 19400., 40200.,\n",
       "       31700., 69200., 33100., 31600., 34500., 38700., 39600., 42400.,\n",
       "       34900., 30500., 24200., 49900., 14300., 47000., 44800., 43800.,\n",
       "       42700., 35400., 57200., 29600., 37400., 48100., 33700., 61800.,\n",
       "       39400., 15600., 52600., 37600., 52500., 32700., 51600., 60900.,\n",
       "       41800., 47400., 26500., 45900., 35700., 34300., 26700., 25700.,\n",
       "       33300., 31100., 31500., 42100., 37300., 42500., 27300., 46800.,\n",
       "       33500., 44300., 41600., 53900., 40100., 44600., 45000., 32000.,\n",
       "       38200., 33000., 38500., 51800., 33800., 46400., 43200., 31800.,\n",
       "       50200., 35100., 30700., 45800., 49300., 42800., 33600., 50300.,\n",
       "       34000., 36400., 44900., 43600., 54600., 52800., 29700., 39000.,\n",
       "       44100., 31900., 37700., 35200., 43100., 51300., 47500., 40800.,\n",
       "       26800., 64900., 35900., 31200., 39900., 43300., 33900., 40700.,\n",
       "       44700., 53400., 30600., 56000., 35600., 55200., 40600., 48300.,\n",
       "       50800., 41200., 44200., 44400., 40500., 39800., 16600., 48400.,\n",
       "       25100., 23100., 32100., 31000., 42900., 46700., 26000., 55900.,\n",
       "       52000., 41500., 49400., 60300., 45600., 49000., 37500., 21900.,\n",
       "       45100., 47900., 54300., 32400., 41300., 44500., 23200., 37900.,\n",
       "       48000., 52100., 45700., 29900., 42600., 45200., 36000., 46500.,\n",
       "       23800., 30200., 24400., 32800., 29000., 43400., 51500., 61700.,\n",
       "       45400., 50700., 36200., 41900., 27900., 47200., 48800., 55100.,\n",
       "       48200., 35500., 35000., 43900., 40000., 22000., 40300., 36300.,\n",
       "       49800., 25600., 42300., 54900., 25500., 32900., 36700., 38900.,\n",
       "       24700., 28800., 22900., 47300., 14500., 28700., 44000., 34100.,\n",
       "       53000., 59300., 28500., 47100., 41400., 58900., 17500., 54200.,\n",
       "       43000., 29800., 20000., 13800., 27500., 67700., 28000., 37100.,\n",
       "        8900., 14600., 56200., 38800., 27700., 50500., 58400., 34700.,\n",
       "       34400., 49100., 50900., 28200., 61500., 32500., 25900.,  9800.,\n",
       "       28300., 41100., 62000., 32600., 37200., 53800., 24000., 53600.,\n",
       "       54800., 59600., 20200., 21700., 29200., 38100., 20700., 32300.,\n",
       "       21200., 62100., 54000., 24500., 51900., 47800., 56100., 55300.,\n",
       "       58100., 28900., 39100., 58000., 27200., 24600., 30100., 57100.,\n",
       "       60100., 22200., 47700., 24900., 37800., 52700., 34200., 18700.,\n",
       "       42000., 26300., 22600., 30900., 35800., 30800., 51100., 53300.,\n",
       "       46200., 24100., 54700., 51200., 62300., 51400., 40900., 23400.,\n",
       "       35300., 55800., 33400., 21300., 30000., 56700., 46900.,  5300.,\n",
       "       39200., 57500., 31300., 53700., 21600., 50000., 36500., 16400.,\n",
       "       15900., 65100., 59900., 63200., 26200., 61200., 48500., 32200.,\n",
       "       29100., 50100., 22700., 28600., 23500., 23700., 19600., 17800.,\n",
       "       50600., 57900., 22500., 22100., 58300., 64100., 25000., 60400.,\n",
       "       59100., 37000., 62400., 29500., 25800., 25400., 26900., 21500.,\n",
       "       52200., 46600., 57300., 46100., 19300., 18900., 31400., 28400.,\n",
       "       29400., 17600., 13900., 52400., 11300., 46000., 60500., 58700.,\n",
       "       58200., 24800., 63700., 60600., 20400., 26400., 55600., 57000.,\n",
       "       45500., 48600., 57600., 52900., 62800., 17000., 56500., 52300.,\n",
       "       18400., 63300., 12900., 27000., 55700., 39300., 27800., 18300.,\n",
       "       56300., 59800., 24300., 14400., 13400., 17900., 47600., 54500.,\n",
       "       54400., 23900., 13000., 19900., 55400., 22800., 61000., 57400.,\n",
       "       23000., 20500., 53200., 18100., 25300., 59500., 18200., 50400.,\n",
       "       21100., 20900., 27400., 17300., 60700., 70600., 17700., 19700.,\n",
       "       49200., 63100., 59200., 14700., 53100., 21800., 68000., 16500.,\n",
       "       71400., 10000., 55500., 54100., 56400., 20600., 66300., 18800.,\n",
       "       11000., 66100., 27100., 57800., 53500., 19200., 58500., 64000.,\n",
       "       63600., 23600., 25200., 19100., 18600., 57700., 62700., 56600.,\n",
       "       21400., 58800., 68400., 17100., 13300., 68500., 56900., 64400.,\n",
       "       27600., 67200., 16200., 58600., 62200., 16000., 79000., 22300.,\n",
       "       11200., 71600., 61300., 70500., 67100., 59000., 13500., 16700.,\n",
       "       15700., 60000., 17400., 63400., 61900., 65200., 62600., 14100.,\n",
       "       20100., 63800., 15100., 70000., 60200., 20300., 65900., 15200.,\n",
       "       63500., 13200., 68900., 12200.,  6000., 74800., 59700., 10800.,\n",
       "       19000., 10600., 69400., 15000., 75200., 62500., 16300., 20800.,\n",
       "        7400., 65300., 61400., 56800.])"
      ]
     },
     "metadata": {},
     "output_type": "display_data"
    }
   ],
   "source": [
    "display(data['Возраст'].unique())\n",
    "display(data['Зарплата'].unique())"
   ]
  },
  {
   "cell_type": "markdown",
   "metadata": {},
   "source": [
    "Дробей нет, значит  можно привести к типу данных int64"
   ]
  },
  {
   "cell_type": "code",
   "execution_count": 5,
   "metadata": {},
   "outputs": [
    {
     "name": "stdout",
     "output_type": "stream",
     "text": [
      "<class 'pandas.core.frame.DataFrame'>\n",
      "RangeIndex: 5000 entries, 0 to 4999\n",
      "Data columns (total 5 columns):\n",
      " #   Column             Non-Null Count  Dtype\n",
      "---  ------             --------------  -----\n",
      " 0   Пол                5000 non-null   int64\n",
      " 1   Возраст            5000 non-null   int32\n",
      " 2   Зарплата           5000 non-null   int32\n",
      " 3   Члены семьи        5000 non-null   int64\n",
      " 4   Страховые выплаты  5000 non-null   int64\n",
      "dtypes: int32(2), int64(3)\n",
      "memory usage: 156.4 KB\n"
     ]
    }
   ],
   "source": [
    "data['Возраст'] = data['Возраст'].astype('int')\n",
    "data['Зарплата'] = data['Зарплата'].astype('int')\n",
    "data.info()"
   ]
  },
  {
   "cell_type": "code",
   "execution_count": 6,
   "metadata": {},
   "outputs": [
    {
     "data": {
      "text/html": [
       "<div>\n",
       "<style scoped>\n",
       "    .dataframe tbody tr th:only-of-type {\n",
       "        vertical-align: middle;\n",
       "    }\n",
       "\n",
       "    .dataframe tbody tr th {\n",
       "        vertical-align: top;\n",
       "    }\n",
       "\n",
       "    .dataframe thead th {\n",
       "        text-align: right;\n",
       "    }\n",
       "</style>\n",
       "<table border=\"1\" class=\"dataframe\">\n",
       "  <thead>\n",
       "    <tr style=\"text-align: right;\">\n",
       "      <th></th>\n",
       "      <th>Пол</th>\n",
       "      <th>Возраст</th>\n",
       "      <th>Зарплата</th>\n",
       "      <th>Члены семьи</th>\n",
       "      <th>Страховые выплаты</th>\n",
       "    </tr>\n",
       "  </thead>\n",
       "  <tbody>\n",
       "    <tr>\n",
       "      <th>0</th>\n",
       "      <td>1</td>\n",
       "      <td>41</td>\n",
       "      <td>49600</td>\n",
       "      <td>1</td>\n",
       "      <td>0</td>\n",
       "    </tr>\n",
       "    <tr>\n",
       "      <th>1</th>\n",
       "      <td>0</td>\n",
       "      <td>46</td>\n",
       "      <td>38000</td>\n",
       "      <td>1</td>\n",
       "      <td>1</td>\n",
       "    </tr>\n",
       "    <tr>\n",
       "      <th>2</th>\n",
       "      <td>0</td>\n",
       "      <td>29</td>\n",
       "      <td>21000</td>\n",
       "      <td>0</td>\n",
       "      <td>0</td>\n",
       "    </tr>\n",
       "    <tr>\n",
       "      <th>3</th>\n",
       "      <td>0</td>\n",
       "      <td>21</td>\n",
       "      <td>41700</td>\n",
       "      <td>2</td>\n",
       "      <td>0</td>\n",
       "    </tr>\n",
       "    <tr>\n",
       "      <th>4</th>\n",
       "      <td>1</td>\n",
       "      <td>28</td>\n",
       "      <td>26100</td>\n",
       "      <td>0</td>\n",
       "      <td>0</td>\n",
       "    </tr>\n",
       "  </tbody>\n",
       "</table>\n",
       "</div>"
      ],
      "text/plain": [
       "   Пол  Возраст  Зарплата  Члены семьи  Страховые выплаты\n",
       "0    1       41     49600            1                  0\n",
       "1    0       46     38000            1                  1\n",
       "2    0       29     21000            0                  0\n",
       "3    0       21     41700            2                  0\n",
       "4    1       28     26100            0                  0"
      ]
     },
     "execution_count": 6,
     "metadata": {},
     "output_type": "execute_result"
    }
   ],
   "source": [
    "data.head(5)"
   ]
  },
  {
   "cell_type": "code",
   "execution_count": 7,
   "metadata": {},
   "outputs": [
    {
     "data": {
      "text/plain": [
       "153"
      ]
     },
     "execution_count": 7,
     "metadata": {},
     "output_type": "execute_result"
    }
   ],
   "source": [
    "data.duplicated().sum()"
   ]
  },
  {
   "cell_type": "code",
   "execution_count": 8,
   "metadata": {},
   "outputs": [
    {
     "data": {
      "text/plain": [
       "0"
      ]
     },
     "execution_count": 8,
     "metadata": {},
     "output_type": "execute_result"
    }
   ],
   "source": [
    "data = data.drop_duplicates()\n",
    "data.duplicated().sum()"
   ]
  },
  {
   "cell_type": "code",
   "execution_count": 9,
   "metadata": {},
   "outputs": [
    {
     "name": "stdout",
     "output_type": "stream",
     "text": [
      "<class 'pandas.core.frame.DataFrame'>\n",
      "Int64Index: 4847 entries, 0 to 4999\n",
      "Data columns (total 5 columns):\n",
      " #   Column             Non-Null Count  Dtype\n",
      "---  ------             --------------  -----\n",
      " 0   Пол                4847 non-null   int64\n",
      " 1   Возраст            4847 non-null   int32\n",
      " 2   Зарплата           4847 non-null   int32\n",
      " 3   Члены семьи        4847 non-null   int64\n",
      " 4   Страховые выплаты  4847 non-null   int64\n",
      "dtypes: int32(2), int64(3)\n",
      "memory usage: 189.3 KB\n"
     ]
    }
   ],
   "source": [
    "data.info()"
   ]
  },
  {
   "cell_type": "markdown",
   "metadata": {},
   "source": [
    "**Вывод**\n",
    "- Пропусков нет\n",
    "- Приведены типы данных\n",
    "- Удалены явные дубликаты\n",
    "- Данные готовы"
   ]
  },
  {
   "cell_type": "markdown",
   "metadata": {},
   "source": [
    "## Умножение матриц"
   ]
  },
  {
   "cell_type": "markdown",
   "metadata": {},
   "source": [
    "В этом задании вы можете записывать формулы в *Jupyter Notebook.*\n",
    "\n",
    "Чтобы записать формулу внутри текста, окружите её символами доллара \\\\$; если снаружи —  двойными символами \\\\$\\\\$. Эти формулы записываются на языке вёрстки *LaTeX.* \n",
    "\n",
    "Для примера мы записали формулы линейной регрессии. Можете их скопировать и отредактировать, чтобы решить задачу.\n",
    "\n",
    "Работать в *LaTeX* необязательно."
   ]
  },
  {
   "cell_type": "markdown",
   "metadata": {},
   "source": [
    "Обозначения:\n",
    "\n",
    "- $X$ — матрица признаков (нулевой столбец состоит из единиц)\n",
    "\n",
    "- $y$ — вектор целевого признака\n",
    "\n",
    "- $P$ — матрица, на которую умножаются признаки\n",
    "\n",
    "- $w$ — вектор весов линейной регрессии (нулевой элемент равен сдвигу)"
   ]
  },
  {
   "cell_type": "markdown",
   "metadata": {},
   "source": [
    "Предсказания:\n",
    "\n",
    "$$\n",
    "a = Xw\n",
    "$$\n",
    "\n",
    "Задача обучения:\n",
    "\n",
    "$$\n",
    "w = \\arg\\min_w MSE(Xw, y)\n",
    "$$\n",
    "\n",
    "Формула обучения:\n",
    "\n",
    "$$\n",
    "w = (X^T X)^{-1} X^T y\n",
    "$$"
   ]
  },
  {
   "cell_type": "markdown",
   "metadata": {},
   "source": [
    "**Вопрос: Признаки умножают на обратимую матрицу. Изменится ли качество линейной регрессии?**"
   ]
  },
  {
   "cell_type": "markdown",
   "metadata": {},
   "source": [
    "**Ответ: Качество не  изменится** \n",
    "\n",
    "**Обоснование:** "
   ]
  },
  {
   "cell_type": "markdown",
   "metadata": {},
   "source": [
    "Составим формулу предсказаний $a_1$ для матрицы признаков $X$ умноженную на обратимую матрицу $P$ (то есть $XP$) "
   ]
  },
  {
   "cell_type": "markdown",
   "metadata": {},
   "source": [
    "$ a = X(X^T X)^{-1} X^T y $\n",
    "\n",
    "$a_1 = XP ((XP)^T (XP))^{-1} (XP)^T y $"
   ]
  },
  {
   "cell_type": "markdown",
   "metadata": {},
   "source": [
    "Для раскрытия скобок можно воспользоваться одним из свойств транспонированных матриц: \n",
    "\n",
    "Транспонированное произведение матриц равно произведению транспонированных матриц, взятых в обратном порядке.\n",
    "$$\n",
    "(AB)^T = B^T A^T \n",
    "$$"
   ]
  },
  {
   "cell_type": "markdown",
   "metadata": {},
   "source": [
    "$a_1 = XP ((XP)^T (XP))^{-1} (XP)^T y = XP (P^T X^T XP)^{-1} (XP)^T y$"
   ]
  },
  {
   "cell_type": "markdown",
   "metadata": {},
   "source": [
    "Теперь нужно вынести множители из-под знака обратной матрицы. Для этого применим правило:\n",
    "\n",
    "Обратная матрица от произведения двух, в нащем случае трёх матриц равна произведению обратных матриц взятых в обратном порядке.\n",
    "\n",
    "$$\n",
    "(ABC)^{-1} = C^{-1} B^{-1} A^{-1} \n",
    "$$\n",
    "\n",
    "Это свойство применимо только для квадратных матриц. В нашем случае квадратные матрицы $P^T$, $(X^TX)$ и $P$."
   ]
  },
  {
   "cell_type": "markdown",
   "metadata": {},
   "source": [
    "$a_1 = XP ((XP)^T (XP))^{-1} (XP)^T y = XP (P^T X^T XP)^{-1} (XP)^T y = XPP^{-1}(X^T X)^{-1}(P^T)^{-1}P^T X^T y $"
   ]
  },
  {
   "cell_type": "markdown",
   "metadata": {},
   "source": [
    "$PP^{-1} = E$\n",
    "\n",
    "$(P^T)^{-1}P^T = E_1$\n",
    "\n",
    "$E$ , $E_1$ - Единичные матрицы\n",
    "\n",
    "Свойство квадратной матрицы:\n",
    "\n",
    "$AE = EA = A$"
   ]
  },
  {
   "cell_type": "markdown",
   "metadata": {},
   "source": [
    "$a_1 = XE(X^T X)^{-1}E_1 X^T y = X(X^T X)^{-1} X^T y = a$"
   ]
  },
  {
   "cell_type": "markdown",
   "metadata": {},
   "source": [
    "Выражения тождественны"
   ]
  },
  {
   "cell_type": "markdown",
   "metadata": {},
   "source": [
    "## Алгоритм преобразования"
   ]
  },
  {
   "cell_type": "markdown",
   "metadata": {},
   "source": [
    "**Алгоритм**\n",
    "\n",
    "Умножение матрицы признаков на обратимую матрицу, генерируюмую случайно.\n",
    "\n",
    "Сгенерированная  матрица должна быть той же размерности, что и матрица признаков\n",
    "\n",
    "Этапы алгоритма:\n",
    "1. Проверка r2 на изначальных данных\n",
    "2. Генерируется случайная матрица\n",
    "3. Сгенерированная матрица проверяется на обратимость\n",
    "4. Производится матричное умножение матрицы признаков на сгенерированную матрицу (шифрование)\n",
    "5. Вычисляется r2 с зашифрованными признаками\n",
    "6. Сравнение r2\n",
    "7. Проверка дешифровки"
   ]
  },
  {
   "cell_type": "markdown",
   "metadata": {},
   "source": [
    "**Обоснование**\n",
    "\n",
    "Качество линейной регрессии не поменяется, так как произведение матрицы состоит из всех возможных комбинаций скалярных произведений вектор-строк матрицы с признаками и вектор-столбцов случайно обратимой матрицы. Таким образом мы произведем умножение каждого набора признаков на одинаковые наборы векторов и запишем их в новый вектор - строку. Соответственно итоговые веса каждого такого вектора будут примерно соотносится с весами набора признаков для каждого нового набора векторов в результирующей матрице."
   ]
  },
  {
   "cell_type": "markdown",
   "metadata": {},
   "source": [
    "## Проверка алгоритма"
   ]
  },
  {
   "cell_type": "markdown",
   "metadata": {},
   "source": [
    "Разделим данные выборки и посмотрим на r2"
   ]
  },
  {
   "cell_type": "code",
   "execution_count": 10,
   "metadata": {},
   "outputs": [
    {
     "name": "stdout",
     "output_type": "stream",
     "text": [
      "0.42307727615837565\n"
     ]
    }
   ],
   "source": [
    "features = data.drop(\"Страховые выплаты\", axis=1)\n",
    "target = data[\"Страховые выплаты\"]\n",
    "n = features.shape[1]\n",
    "\n",
    "features_train, features_test, target_train, target_test = train_test_split(\n",
    "    features, target, test_size=0.25, random_state=RANDOM_STATE)\n",
    "\n",
    "model = LinearRegression()\n",
    "model.fit(features_train, target_train)\n",
    "predictions = model.predict(features_test)\n",
    "print(r2_score(target_test, predictions))"
   ]
  },
  {
   "cell_type": "markdown",
   "metadata": {},
   "source": [
    "Создание матрицы"
   ]
  },
  {
   "cell_type": "code",
   "execution_count": 11,
   "metadata": {},
   "outputs": [
    {
     "name": "stdout",
     "output_type": "stream",
     "text": [
      "Вы́рожденная ма́трица\n",
      "Вы́рожденная ма́трица\n"
     ]
    }
   ],
   "source": [
    "random_2 = []\n",
    "for i in range (50):\n",
    "    try:\n",
    "          i = np.random.randint(0,5, size=(n,n))\n",
    "          k = np.linalg.inv(i)\n",
    "          one = np.eye(n)\n",
    "          m = i @ k\n",
    "          if m[3].tolist() == one[3].tolist():\n",
    "              if m[2].tolist() == one[2].tolist():\n",
    "                  if m[1].tolist() == one[1].tolist():\n",
    "                      if m[0].tolist() == one[0].tolist():\n",
    "                          random_2.append(i)\n",
    "    except: print('Вы́рожденная ма́трица')"
   ]
  },
  {
   "cell_type": "code",
   "execution_count": 12,
   "metadata": {},
   "outputs": [
    {
     "data": {
      "text/plain": [
       "array([[1., 0., 0., 0.],\n",
       "       [0., 1., 0., 0.],\n",
       "       [0., 0., 1., 0.],\n",
       "       [0., 0., 0., 1.]])"
      ]
     },
     "execution_count": 12,
     "metadata": {},
     "output_type": "execute_result"
    }
   ],
   "source": [
    "random_matrix = random_2[0]\n",
    "inverse = np.linalg.inv(random_matrix)\n",
    "random_matrix @ inverse"
   ]
  },
  {
   "cell_type": "markdown",
   "metadata": {},
   "source": [
    "Умножение на матрицу признаков"
   ]
  },
  {
   "cell_type": "code",
   "execution_count": 13,
   "metadata": {},
   "outputs": [
    {
     "data": {
      "text/plain": [
       "array([[198570, 148882, 148885,      7],\n",
       "       [152188, 114092, 114094,      4],\n",
       "       [ 84116,  63058,  63058,      0],\n",
       "       ...,\n",
       "       [135688, 101740, 101744,      8],\n",
       "       [130902,  98144,  98151,     15],\n",
       "       [162518, 121856, 121859,      7]], dtype=int64)"
      ]
     },
     "metadata": {},
     "output_type": "display_data"
    }
   ],
   "source": [
    "new_features = features.values @ random_matrix\n",
    "display(new_features)"
   ]
  },
  {
   "cell_type": "markdown",
   "metadata": {},
   "source": [
    "Смотрим r2 на новых признаках"
   ]
  },
  {
   "cell_type": "code",
   "execution_count": 14,
   "metadata": {},
   "outputs": [
    {
     "name": "stdout",
     "output_type": "stream",
     "text": [
      "0.42307727615852664\n"
     ]
    }
   ],
   "source": [
    "new_features_train, new_features_test, new_target_train, new_target_test = train_test_split(\n",
    "    new_features, target, test_size=0.25, random_state=RANDOM_STATE)\n",
    "\n",
    "model = LinearRegression()\n",
    "model.fit(new_features_train, new_target_train)\n",
    "new_predicitions = model.predict(new_features_test)\n",
    "print(r2_score(new_target_test, new_predicitions))"
   ]
  },
  {
   "cell_type": "markdown",
   "metadata": {},
   "source": [
    "r2 не изменился"
   ]
  },
  {
   "cell_type": "markdown",
   "metadata": {},
   "source": [
    "Теперь дешифруем данные"
   ]
  },
  {
   "cell_type": "code",
   "execution_count": 15,
   "metadata": {},
   "outputs": [],
   "source": [
    "original = new_features_test @ np.linalg.inv(random_matrix)\n",
    "a = pd.DataFrame(new_target_test)\n",
    "b = pd.DataFrame(original, index = a.index, columns=features.columns).join(a)\n",
    "c = pd.DataFrame(predictions, index = a.index)\n",
    "predict = []\n",
    "for i in c[0]:\n",
    "    if i > 0.5:\n",
    "        predict.append('1')\n",
    "    else:\n",
    "        predict.append('0')\n",
    "b['Предсказания'] = predict"
   ]
  },
  {
   "cell_type": "code",
   "execution_count": 16,
   "metadata": {
    "scrolled": true
   },
   "outputs": [
    {
     "data": {
      "text/html": [
       "<div>\n",
       "<style scoped>\n",
       "    .dataframe tbody tr th:only-of-type {\n",
       "        vertical-align: middle;\n",
       "    }\n",
       "\n",
       "    .dataframe tbody tr th {\n",
       "        vertical-align: top;\n",
       "    }\n",
       "\n",
       "    .dataframe thead th {\n",
       "        text-align: right;\n",
       "    }\n",
       "</style>\n",
       "<table border=\"1\" class=\"dataframe\">\n",
       "  <thead>\n",
       "    <tr style=\"text-align: right;\">\n",
       "      <th></th>\n",
       "      <th>Пол</th>\n",
       "      <th>Возраст</th>\n",
       "      <th>Зарплата</th>\n",
       "      <th>Члены семьи</th>\n",
       "      <th>Страховые выплаты</th>\n",
       "      <th>Предсказания</th>\n",
       "    </tr>\n",
       "  </thead>\n",
       "  <tbody>\n",
       "    <tr>\n",
       "      <th>1335</th>\n",
       "      <td>1.0</td>\n",
       "      <td>23.0</td>\n",
       "      <td>47200.0</td>\n",
       "      <td>0.0</td>\n",
       "      <td>0</td>\n",
       "      <td>0</td>\n",
       "    </tr>\n",
       "    <tr>\n",
       "      <th>3875</th>\n",
       "      <td>1.0</td>\n",
       "      <td>32.0</td>\n",
       "      <td>65900.0</td>\n",
       "      <td>0.0</td>\n",
       "      <td>0</td>\n",
       "      <td>0</td>\n",
       "    </tr>\n",
       "    <tr>\n",
       "      <th>166</th>\n",
       "      <td>1.0</td>\n",
       "      <td>33.0</td>\n",
       "      <td>33900.0</td>\n",
       "      <td>2.0</td>\n",
       "      <td>0</td>\n",
       "      <td>0</td>\n",
       "    </tr>\n",
       "    <tr>\n",
       "      <th>3003</th>\n",
       "      <td>0.0</td>\n",
       "      <td>39.0</td>\n",
       "      <td>19300.0</td>\n",
       "      <td>2.0</td>\n",
       "      <td>0</td>\n",
       "      <td>0</td>\n",
       "    </tr>\n",
       "    <tr>\n",
       "      <th>424</th>\n",
       "      <td>0.0</td>\n",
       "      <td>46.0</td>\n",
       "      <td>27500.0</td>\n",
       "      <td>2.0</td>\n",
       "      <td>1</td>\n",
       "      <td>1</td>\n",
       "    </tr>\n",
       "  </tbody>\n",
       "</table>\n",
       "</div>"
      ],
      "text/plain": [
       "      Пол  Возраст  Зарплата  Члены семьи  Страховые выплаты Предсказания\n",
       "1335  1.0     23.0   47200.0          0.0                  0            0\n",
       "3875  1.0     32.0   65900.0          0.0                  0            0\n",
       "166   1.0     33.0   33900.0          2.0                  0            0\n",
       "3003  0.0     39.0   19300.0          2.0                  0            0\n",
       "424   0.0     46.0   27500.0          2.0                  1            1"
      ]
     },
     "execution_count": 16,
     "metadata": {},
     "output_type": "execute_result"
    }
   ],
   "source": [
    "b.head()"
   ]
  },
  {
   "cell_type": "markdown",
   "metadata": {},
   "source": [
    "## Вывод"
   ]
  },
  {
   "cell_type": "markdown",
   "metadata": {},
   "source": [
    "Были предоставлены данные клиентов страховой компании «Хоть потоп».\n",
    "\n",
    "Поставлена задача разработать метод преобразования данных, чтобы по ним было сложно восстановить персональную информацию. Данные, необходимо преобразовать так, чтобы после преобразования качество моделей машинного обучения не ухудшилось.\n",
    "\n",
    "Предоставленные данные были изучены и подготовлены. При подготовке из данных были удалены явные дубликты и провелось приведение к новому типу данных. Пропусков и других аномалий в предоставленных данных нет.\n",
    "\n",
    "Перед разработкой метода преобразования встал вопрос, изменится ли качество модели линейной регрессии, если матрицу признаков умножают на обратимую матрицу. Ответ: качество не изменится. Значит можно использовать данный метод для преобразоваания данных.\n",
    "\n",
    "Алгоритм преобразования заключается в следующем:\n",
    "\n",
    "Матрица признаков умножается на обратимую матрицу, которая генерируются случайно, при этом такая матрица должна быть той же размерности, что и матрица признаков. \n",
    "\n",
    "Этапы алгоритма:\n",
    "1. Проверка r2 на изначальных данных\n",
    "2. Генерируется случайная матрица\n",
    "3. Сгенерированная матрица проверяется на обратимость\n",
    "4. Производится матричное умножение матрицы признаков на сгенерированную матрицу (шифрование)\n",
    "5. Вычисляется r2 с зашифрованными признаками\n",
    "6. Сравнение r2\n",
    "7. Проверка дешифровки\n",
    "\n",
    "После применения данного алгоритма проведена проверка качества модели до и после преобразования. Качество не изменилось.\n",
    "\n",
    "Таким образом, при применении данного метода можно зашифровать данные клиентов страховой компании «Хоть потоп».\n",
    "\n",
    "Поставленная задача выполнена"
   ]
  }
 ],
 "metadata": {
  "ExecuteTimeLog": [
   {
    "duration": 1020,
    "start_time": "2022-09-11T18:15:21.341Z"
   },
   {
    "duration": 105,
    "start_time": "2022-09-11T18:15:30.461Z"
   },
   {
    "duration": 13,
    "start_time": "2022-09-11T18:17:12.972Z"
   },
   {
    "duration": 12,
    "start_time": "2022-09-11T18:18:13.266Z"
   },
   {
    "duration": 11,
    "start_time": "2022-09-11T18:19:12.162Z"
   },
   {
    "duration": 10,
    "start_time": "2022-09-11T18:20:06.462Z"
   },
   {
    "duration": 6,
    "start_time": "2022-09-11T18:20:30.891Z"
   },
   {
    "duration": 11,
    "start_time": "2022-09-11T18:22:27.362Z"
   },
   {
    "duration": 117,
    "start_time": "2022-09-11T18:31:58.709Z"
   },
   {
    "duration": 9,
    "start_time": "2022-09-11T18:32:01.038Z"
   },
   {
    "duration": 7,
    "start_time": "2022-09-11T18:32:03.274Z"
   },
   {
    "duration": 8,
    "start_time": "2022-09-11T18:32:18.936Z"
   },
   {
    "duration": 6,
    "start_time": "2022-09-11T18:32:48.225Z"
   },
   {
    "duration": 10,
    "start_time": "2022-09-11T18:32:52.594Z"
   },
   {
    "duration": 11,
    "start_time": "2022-09-11T18:33:02.814Z"
   },
   {
    "duration": 49,
    "start_time": "2022-09-11T21:00:12.154Z"
   },
   {
    "duration": 1083,
    "start_time": "2022-09-11T21:00:26.998Z"
   },
   {
    "duration": 99,
    "start_time": "2022-09-11T21:00:28.082Z"
   },
   {
    "duration": 16,
    "start_time": "2022-09-11T21:00:28.850Z"
   },
   {
    "duration": 13,
    "start_time": "2022-09-11T21:00:29.918Z"
   },
   {
    "duration": 6,
    "start_time": "2022-09-11T21:00:30.285Z"
   },
   {
    "duration": 9,
    "start_time": "2022-09-11T21:00:31.201Z"
   },
   {
    "duration": 10,
    "start_time": "2022-09-11T21:00:31.585Z"
   },
   {
    "duration": 5,
    "start_time": "2022-09-11T21:00:34.498Z"
   },
   {
    "duration": 4,
    "start_time": "2022-09-11T21:07:25.847Z"
   },
   {
    "duration": 6,
    "start_time": "2022-09-11T21:07:28.485Z"
   },
   {
    "duration": 4,
    "start_time": "2022-09-11T21:07:29.409Z"
   },
   {
    "duration": 5,
    "start_time": "2022-09-11T21:07:53.967Z"
   },
   {
    "duration": 5,
    "start_time": "2022-09-11T21:08:05.945Z"
   },
   {
    "duration": 5,
    "start_time": "2022-09-11T21:09:01.775Z"
   },
   {
    "duration": 4,
    "start_time": "2022-09-11T21:10:26.837Z"
   },
   {
    "duration": 4,
    "start_time": "2022-09-11T21:11:26.062Z"
   },
   {
    "duration": 2,
    "start_time": "2022-09-11T21:12:01.883Z"
   },
   {
    "duration": 65,
    "start_time": "2022-09-11T21:12:26.899Z"
   },
   {
    "duration": 14,
    "start_time": "2022-09-11T21:12:40.136Z"
   },
   {
    "duration": 3,
    "start_time": "2022-09-11T21:12:43.443Z"
   },
   {
    "duration": 12,
    "start_time": "2022-09-11T21:12:43.873Z"
   },
   {
    "duration": 10,
    "start_time": "2022-09-11T21:14:32.431Z"
   },
   {
    "duration": 9,
    "start_time": "2022-09-11T21:14:39.436Z"
   },
   {
    "duration": 12,
    "start_time": "2022-09-11T21:14:40.645Z"
   },
   {
    "duration": 1086,
    "start_time": "2022-09-11T21:14:53.256Z"
   },
   {
    "duration": 37,
    "start_time": "2022-09-11T21:14:54.344Z"
   },
   {
    "duration": 13,
    "start_time": "2022-09-11T21:14:54.382Z"
   },
   {
    "duration": 11,
    "start_time": "2022-09-11T21:14:54.396Z"
   },
   {
    "duration": 5,
    "start_time": "2022-09-11T21:14:54.409Z"
   },
   {
    "duration": 10,
    "start_time": "2022-09-11T21:14:54.416Z"
   },
   {
    "duration": 8,
    "start_time": "2022-09-11T21:14:54.428Z"
   },
   {
    "duration": 31,
    "start_time": "2022-09-11T21:14:54.438Z"
   },
   {
    "duration": 5,
    "start_time": "2022-09-11T21:14:54.470Z"
   },
   {
    "duration": 9,
    "start_time": "2022-09-11T21:14:54.477Z"
   },
   {
    "duration": 86,
    "start_time": "2022-09-11T21:14:54.488Z"
   },
   {
    "duration": 98,
    "start_time": "2022-09-11T21:14:54.576Z"
   },
   {
    "duration": 5,
    "start_time": "2022-09-11T21:19:45.690Z"
   },
   {
    "duration": 9,
    "start_time": "2022-09-11T21:20:00.755Z"
   },
   {
    "duration": 10,
    "start_time": "2022-09-11T21:20:46.870Z"
   },
   {
    "duration": 1075,
    "start_time": "2022-09-11T21:21:14.698Z"
   },
   {
    "duration": 38,
    "start_time": "2022-09-11T21:21:15.775Z"
   },
   {
    "duration": 15,
    "start_time": "2022-09-11T21:21:15.815Z"
   },
   {
    "duration": 12,
    "start_time": "2022-09-11T21:21:15.833Z"
   },
   {
    "duration": 5,
    "start_time": "2022-09-11T21:21:15.847Z"
   },
   {
    "duration": 15,
    "start_time": "2022-09-11T21:21:15.854Z"
   },
   {
    "duration": 10,
    "start_time": "2022-09-11T21:21:15.871Z"
   },
   {
    "duration": 7,
    "start_time": "2022-09-11T21:21:15.882Z"
   },
   {
    "duration": 6,
    "start_time": "2022-09-11T21:21:15.891Z"
   },
   {
    "duration": 5,
    "start_time": "2022-09-11T21:21:15.900Z"
   },
   {
    "duration": 101,
    "start_time": "2022-09-11T21:21:15.968Z"
   },
   {
    "duration": 100,
    "start_time": "2022-09-11T21:21:16.071Z"
   },
   {
    "duration": 17,
    "start_time": "2022-09-11T21:30:09.756Z"
   },
   {
    "duration": 88,
    "start_time": "2022-09-11T21:31:19.693Z"
   },
   {
    "duration": 3,
    "start_time": "2022-09-11T21:31:31.514Z"
   },
   {
    "duration": 6,
    "start_time": "2022-09-11T21:31:39.722Z"
   },
   {
    "duration": 19,
    "start_time": "2022-09-11T21:33:26.493Z"
   },
   {
    "duration": 1022,
    "start_time": "2022-09-11T21:33:55.393Z"
   },
   {
    "duration": 2,
    "start_time": "2022-09-11T21:33:56.417Z"
   },
   {
    "duration": 47,
    "start_time": "2022-09-11T21:33:56.421Z"
   },
   {
    "duration": 19,
    "start_time": "2022-09-11T21:33:56.470Z"
   },
   {
    "duration": 17,
    "start_time": "2022-09-11T21:33:56.491Z"
   },
   {
    "duration": 6,
    "start_time": "2022-09-11T21:33:56.510Z"
   },
   {
    "duration": 18,
    "start_time": "2022-09-11T21:33:56.518Z"
   },
   {
    "duration": 14,
    "start_time": "2022-09-11T21:33:56.538Z"
   },
   {
    "duration": 8,
    "start_time": "2022-09-11T21:33:56.567Z"
   },
   {
    "duration": 13,
    "start_time": "2022-09-11T21:33:56.577Z"
   },
   {
    "duration": 77,
    "start_time": "2022-09-11T21:33:56.592Z"
   },
   {
    "duration": 108,
    "start_time": "2022-09-11T21:33:56.671Z"
   },
   {
    "duration": 194,
    "start_time": "2022-09-11T21:33:56.781Z"
   },
   {
    "duration": 88,
    "start_time": "2022-09-11T21:33:56.981Z"
   },
   {
    "duration": 105,
    "start_time": "2022-09-11T21:33:57.075Z"
   },
   {
    "duration": 5,
    "start_time": "2022-09-11T21:33:57.181Z"
   },
   {
    "duration": 11,
    "start_time": "2022-09-11T21:35:10.787Z"
   },
   {
    "duration": 96,
    "start_time": "2022-09-11T21:43:10.407Z"
   },
   {
    "duration": 1016,
    "start_time": "2022-09-11T21:43:27.397Z"
   },
   {
    "duration": 3,
    "start_time": "2022-09-11T21:43:28.415Z"
   },
   {
    "duration": 41,
    "start_time": "2022-09-11T21:43:28.419Z"
   },
   {
    "duration": 14,
    "start_time": "2022-09-11T21:43:28.462Z"
   },
   {
    "duration": 11,
    "start_time": "2022-09-11T21:43:28.478Z"
   },
   {
    "duration": 5,
    "start_time": "2022-09-11T21:43:28.490Z"
   },
   {
    "duration": 8,
    "start_time": "2022-09-11T21:43:28.497Z"
   },
   {
    "duration": 10,
    "start_time": "2022-09-11T21:43:28.506Z"
   },
   {
    "duration": 12,
    "start_time": "2022-09-11T21:43:28.517Z"
   },
   {
    "duration": 38,
    "start_time": "2022-09-11T21:43:28.531Z"
   },
   {
    "duration": 12,
    "start_time": "2022-09-11T21:43:28.571Z"
   },
   {
    "duration": 86,
    "start_time": "2022-09-11T21:43:28.585Z"
   },
   {
    "duration": 105,
    "start_time": "2022-09-11T21:43:28.673Z"
   },
   {
    "duration": 88,
    "start_time": "2022-09-11T21:43:28.781Z"
   },
   {
    "duration": 109,
    "start_time": "2022-09-11T21:43:28.871Z"
   },
   {
    "duration": 9,
    "start_time": "2022-09-11T21:43:28.982Z"
   },
   {
    "duration": 3,
    "start_time": "2022-09-11T21:44:22.893Z"
   },
   {
    "duration": 882,
    "start_time": "2022-09-11T21:44:23.412Z"
   },
   {
    "duration": 1070,
    "start_time": "2022-09-11T21:44:59.285Z"
   },
   {
    "duration": 3,
    "start_time": "2022-09-11T21:45:00.357Z"
   },
   {
    "duration": 47,
    "start_time": "2022-09-11T21:45:00.361Z"
   },
   {
    "duration": 14,
    "start_time": "2022-09-11T21:45:00.410Z"
   },
   {
    "duration": 12,
    "start_time": "2022-09-11T21:45:00.426Z"
   },
   {
    "duration": 8,
    "start_time": "2022-09-11T21:45:00.440Z"
   },
   {
    "duration": 8,
    "start_time": "2022-09-11T21:45:00.449Z"
   },
   {
    "duration": 16,
    "start_time": "2022-09-11T21:45:00.459Z"
   },
   {
    "duration": 7,
    "start_time": "2022-09-11T21:45:00.477Z"
   },
   {
    "duration": 9,
    "start_time": "2022-09-11T21:45:00.485Z"
   },
   {
    "duration": 5,
    "start_time": "2022-09-11T21:45:00.496Z"
   },
   {
    "duration": 73,
    "start_time": "2022-09-11T21:45:00.503Z"
   },
   {
    "duration": 191,
    "start_time": "2022-09-11T21:45:00.578Z"
   },
   {
    "duration": 104,
    "start_time": "2022-09-11T21:45:00.771Z"
   },
   {
    "duration": 717,
    "start_time": "2022-09-11T21:45:00.877Z"
   },
   {
    "duration": 0,
    "start_time": "2022-09-11T21:45:01.595Z"
   },
   {
    "duration": 4,
    "start_time": "2022-09-11T21:45:08.352Z"
   },
   {
    "duration": 1127,
    "start_time": "2022-09-11T21:45:17.334Z"
   },
   {
    "duration": 3,
    "start_time": "2022-09-11T21:45:18.463Z"
   },
   {
    "duration": 44,
    "start_time": "2022-09-11T21:45:18.467Z"
   },
   {
    "duration": 14,
    "start_time": "2022-09-11T21:45:18.512Z"
   },
   {
    "duration": 16,
    "start_time": "2022-09-11T21:45:18.529Z"
   },
   {
    "duration": 6,
    "start_time": "2022-09-11T21:45:18.546Z"
   },
   {
    "duration": 8,
    "start_time": "2022-09-11T21:45:18.554Z"
   },
   {
    "duration": 12,
    "start_time": "2022-09-11T21:45:18.563Z"
   },
   {
    "duration": 9,
    "start_time": "2022-09-11T21:45:18.577Z"
   },
   {
    "duration": 11,
    "start_time": "2022-09-11T21:45:18.588Z"
   },
   {
    "duration": 8,
    "start_time": "2022-09-11T21:45:18.601Z"
   },
   {
    "duration": 68,
    "start_time": "2022-09-11T21:45:18.611Z"
   },
   {
    "duration": 196,
    "start_time": "2022-09-11T21:45:18.680Z"
   },
   {
    "duration": 90,
    "start_time": "2022-09-11T21:45:18.879Z"
   },
   {
    "duration": 121,
    "start_time": "2022-09-11T21:45:18.971Z"
   },
   {
    "duration": 9,
    "start_time": "2022-09-11T21:45:19.094Z"
   },
   {
    "duration": 12,
    "start_time": "2022-09-11T21:48:38.618Z"
   },
   {
    "duration": 77,
    "start_time": "2022-09-11T21:49:40.887Z"
   },
   {
    "duration": 20,
    "start_time": "2022-09-11T21:51:30.800Z"
   },
   {
    "duration": 13,
    "start_time": "2022-09-11T21:54:13.897Z"
   },
   {
    "duration": 1112,
    "start_time": "2022-09-11T21:57:28.739Z"
   },
   {
    "duration": 2,
    "start_time": "2022-09-11T21:57:29.853Z"
   },
   {
    "duration": 44,
    "start_time": "2022-09-11T21:57:29.856Z"
   },
   {
    "duration": 13,
    "start_time": "2022-09-11T21:57:29.902Z"
   },
   {
    "duration": 12,
    "start_time": "2022-09-11T21:57:29.917Z"
   },
   {
    "duration": 11,
    "start_time": "2022-09-11T21:57:29.930Z"
   },
   {
    "duration": 11,
    "start_time": "2022-09-11T21:57:29.942Z"
   },
   {
    "duration": 13,
    "start_time": "2022-09-11T21:57:29.955Z"
   },
   {
    "duration": 7,
    "start_time": "2022-09-11T21:57:29.970Z"
   },
   {
    "duration": 7,
    "start_time": "2022-09-11T21:57:29.979Z"
   },
   {
    "duration": 4,
    "start_time": "2022-09-11T21:57:29.987Z"
   },
   {
    "duration": 83,
    "start_time": "2022-09-11T21:57:29.993Z"
   },
   {
    "duration": 104,
    "start_time": "2022-09-11T21:57:30.167Z"
   },
   {
    "duration": 16,
    "start_time": "2022-09-11T21:57:30.367Z"
   },
   {
    "duration": 4,
    "start_time": "2022-09-11T21:57:30.384Z"
   },
   {
    "duration": 21,
    "start_time": "2022-09-11T21:57:30.389Z"
   },
   {
    "duration": 10,
    "start_time": "2022-09-11T21:57:30.412Z"
   },
   {
    "duration": 1046,
    "start_time": "2022-09-11T22:06:11.409Z"
   },
   {
    "duration": 2,
    "start_time": "2022-09-11T22:06:12.457Z"
   },
   {
    "duration": 44,
    "start_time": "2022-09-11T22:06:12.461Z"
   },
   {
    "duration": 14,
    "start_time": "2022-09-11T22:06:12.507Z"
   },
   {
    "duration": 13,
    "start_time": "2022-09-11T22:06:12.522Z"
   },
   {
    "duration": 6,
    "start_time": "2022-09-11T22:06:12.537Z"
   },
   {
    "duration": 9,
    "start_time": "2022-09-11T22:06:12.544Z"
   },
   {
    "duration": 15,
    "start_time": "2022-09-11T22:06:12.554Z"
   },
   {
    "duration": 10,
    "start_time": "2022-09-11T22:06:12.570Z"
   },
   {
    "duration": 6,
    "start_time": "2022-09-11T22:06:12.583Z"
   },
   {
    "duration": 7,
    "start_time": "2022-09-11T22:06:12.591Z"
   },
   {
    "duration": 86,
    "start_time": "2022-09-11T22:06:12.600Z"
   },
   {
    "duration": 183,
    "start_time": "2022-09-11T22:06:12.688Z"
   },
   {
    "duration": 103,
    "start_time": "2022-09-11T22:06:12.872Z"
   },
   {
    "duration": 4,
    "start_time": "2022-09-11T22:06:12.977Z"
   },
   {
    "duration": 23,
    "start_time": "2022-09-11T22:06:12.982Z"
   },
   {
    "duration": 10,
    "start_time": "2022-09-11T22:06:13.007Z"
   },
   {
    "duration": 1057,
    "start_time": "2022-09-11T22:12:27.586Z"
   },
   {
    "duration": 3,
    "start_time": "2022-09-11T22:12:28.645Z"
   },
   {
    "duration": 41,
    "start_time": "2022-09-11T22:12:28.649Z"
   },
   {
    "duration": 14,
    "start_time": "2022-09-11T22:12:28.692Z"
   },
   {
    "duration": 12,
    "start_time": "2022-09-11T22:12:28.708Z"
   },
   {
    "duration": 6,
    "start_time": "2022-09-11T22:12:28.722Z"
   },
   {
    "duration": 9,
    "start_time": "2022-09-11T22:12:28.730Z"
   },
   {
    "duration": 30,
    "start_time": "2022-09-11T22:12:28.740Z"
   },
   {
    "duration": 16,
    "start_time": "2022-09-11T22:12:28.772Z"
   },
   {
    "duration": 11,
    "start_time": "2022-09-11T22:12:28.789Z"
   },
   {
    "duration": 6,
    "start_time": "2022-09-11T22:12:28.802Z"
   },
   {
    "duration": 65,
    "start_time": "2022-09-11T22:12:28.810Z"
   },
   {
    "duration": 196,
    "start_time": "2022-09-11T22:12:28.877Z"
   },
   {
    "duration": 201,
    "start_time": "2022-09-11T22:12:29.078Z"
   },
   {
    "duration": 3,
    "start_time": "2022-09-11T22:12:29.281Z"
   },
   {
    "duration": 17,
    "start_time": "2022-09-11T22:12:29.286Z"
   },
   {
    "duration": 9,
    "start_time": "2022-09-11T22:12:29.305Z"
   },
   {
    "duration": 1047,
    "start_time": "2022-09-11T22:13:52.598Z"
   },
   {
    "duration": 2,
    "start_time": "2022-09-11T22:13:53.647Z"
   },
   {
    "duration": 42,
    "start_time": "2022-09-11T22:13:53.651Z"
   },
   {
    "duration": 13,
    "start_time": "2022-09-11T22:13:53.695Z"
   },
   {
    "duration": 12,
    "start_time": "2022-09-11T22:13:53.710Z"
   },
   {
    "duration": 14,
    "start_time": "2022-09-11T22:13:53.723Z"
   },
   {
    "duration": 15,
    "start_time": "2022-09-11T22:13:53.739Z"
   },
   {
    "duration": 14,
    "start_time": "2022-09-11T22:13:53.755Z"
   },
   {
    "duration": 6,
    "start_time": "2022-09-11T22:13:53.771Z"
   },
   {
    "duration": 7,
    "start_time": "2022-09-11T22:13:53.779Z"
   },
   {
    "duration": 6,
    "start_time": "2022-09-11T22:13:53.788Z"
   },
   {
    "duration": 80,
    "start_time": "2022-09-11T22:13:53.796Z"
   },
   {
    "duration": 196,
    "start_time": "2022-09-11T22:13:53.877Z"
   },
   {
    "duration": 106,
    "start_time": "2022-09-11T22:13:54.076Z"
   },
   {
    "duration": 4,
    "start_time": "2022-09-11T22:13:54.184Z"
   },
   {
    "duration": 182,
    "start_time": "2022-09-11T22:13:54.190Z"
   },
   {
    "duration": 0,
    "start_time": "2022-09-11T22:13:54.374Z"
   },
   {
    "duration": 1060,
    "start_time": "2022-09-11T22:14:09.506Z"
   },
   {
    "duration": 2,
    "start_time": "2022-09-11T22:14:10.568Z"
   },
   {
    "duration": 40,
    "start_time": "2022-09-11T22:14:10.572Z"
   },
   {
    "duration": 14,
    "start_time": "2022-09-11T22:14:10.614Z"
   },
   {
    "duration": 20,
    "start_time": "2022-09-11T22:14:10.630Z"
   },
   {
    "duration": 10,
    "start_time": "2022-09-11T22:14:10.652Z"
   },
   {
    "duration": 9,
    "start_time": "2022-09-11T22:14:10.663Z"
   },
   {
    "duration": 11,
    "start_time": "2022-09-11T22:14:10.673Z"
   },
   {
    "duration": 12,
    "start_time": "2022-09-11T22:14:10.686Z"
   },
   {
    "duration": 10,
    "start_time": "2022-09-11T22:14:10.700Z"
   },
   {
    "duration": 55,
    "start_time": "2022-09-11T22:14:10.712Z"
   },
   {
    "duration": 101,
    "start_time": "2022-09-11T22:14:10.769Z"
   },
   {
    "duration": 109,
    "start_time": "2022-09-11T22:14:10.872Z"
   },
   {
    "duration": 187,
    "start_time": "2022-09-11T22:14:10.987Z"
   },
   {
    "duration": 4,
    "start_time": "2022-09-11T22:14:11.175Z"
   },
   {
    "duration": 19,
    "start_time": "2022-09-11T22:14:11.180Z"
   },
   {
    "duration": 10,
    "start_time": "2022-09-11T22:14:11.200Z"
   },
   {
    "duration": 13,
    "start_time": "2022-09-11T22:14:47.727Z"
   },
   {
    "duration": 1082,
    "start_time": "2022-09-11T22:16:10.861Z"
   },
   {
    "duration": 3,
    "start_time": "2022-09-11T22:16:11.945Z"
   },
   {
    "duration": 42,
    "start_time": "2022-09-11T22:16:11.949Z"
   },
   {
    "duration": 13,
    "start_time": "2022-09-11T22:16:11.993Z"
   },
   {
    "duration": 11,
    "start_time": "2022-09-11T22:16:12.009Z"
   },
   {
    "duration": 6,
    "start_time": "2022-09-11T22:16:12.022Z"
   },
   {
    "duration": 7,
    "start_time": "2022-09-11T22:16:12.030Z"
   },
   {
    "duration": 8,
    "start_time": "2022-09-11T22:16:12.038Z"
   },
   {
    "duration": 4,
    "start_time": "2022-09-11T22:16:12.067Z"
   },
   {
    "duration": 14,
    "start_time": "2022-09-11T22:16:12.073Z"
   },
   {
    "duration": 6,
    "start_time": "2022-09-11T22:16:12.088Z"
   },
   {
    "duration": 79,
    "start_time": "2022-09-11T22:16:12.096Z"
   },
   {
    "duration": 195,
    "start_time": "2022-09-11T22:16:12.176Z"
   },
   {
    "duration": 108,
    "start_time": "2022-09-11T22:16:12.373Z"
   },
   {
    "duration": 5,
    "start_time": "2022-09-11T22:16:12.482Z"
   },
   {
    "duration": 17,
    "start_time": "2022-09-11T22:16:12.568Z"
   },
   {
    "duration": 9,
    "start_time": "2022-09-11T22:16:12.587Z"
   },
   {
    "duration": 15,
    "start_time": "2022-09-11T22:16:12.598Z"
   },
   {
    "duration": 13,
    "start_time": "2022-09-11T22:19:14.242Z"
   },
   {
    "duration": 1043,
    "start_time": "2022-09-11T22:19:24.303Z"
   },
   {
    "duration": 3,
    "start_time": "2022-09-11T22:19:25.348Z"
   },
   {
    "duration": 40,
    "start_time": "2022-09-11T22:19:25.352Z"
   },
   {
    "duration": 13,
    "start_time": "2022-09-11T22:19:25.394Z"
   },
   {
    "duration": 11,
    "start_time": "2022-09-11T22:19:25.409Z"
   },
   {
    "duration": 5,
    "start_time": "2022-09-11T22:19:25.421Z"
   },
   {
    "duration": 8,
    "start_time": "2022-09-11T22:19:25.428Z"
   },
   {
    "duration": 9,
    "start_time": "2022-09-11T22:19:25.437Z"
   },
   {
    "duration": 20,
    "start_time": "2022-09-11T22:19:25.448Z"
   },
   {
    "duration": 8,
    "start_time": "2022-09-11T22:19:25.470Z"
   },
   {
    "duration": 10,
    "start_time": "2022-09-11T22:19:25.479Z"
   },
   {
    "duration": 89,
    "start_time": "2022-09-11T22:19:25.491Z"
   },
   {
    "duration": 196,
    "start_time": "2022-09-11T22:19:25.582Z"
   },
   {
    "duration": 190,
    "start_time": "2022-09-11T22:19:25.782Z"
   },
   {
    "duration": 4,
    "start_time": "2022-09-11T22:19:25.974Z"
   },
   {
    "duration": 19,
    "start_time": "2022-09-11T22:19:25.979Z"
   },
   {
    "duration": 10,
    "start_time": "2022-09-11T22:19:26.000Z"
   },
   {
    "duration": 62,
    "start_time": "2022-09-11T22:19:26.012Z"
   },
   {
    "duration": 6,
    "start_time": "2022-09-11T22:20:09.212Z"
   },
   {
    "duration": 94,
    "start_time": "2022-09-11T22:22:53.381Z"
   },
   {
    "duration": 17,
    "start_time": "2022-09-11T22:22:59.381Z"
   },
   {
    "duration": 14,
    "start_time": "2022-09-11T22:23:12.690Z"
   },
   {
    "duration": 16,
    "start_time": "2022-09-11T22:23:15.745Z"
   },
   {
    "duration": 14,
    "start_time": "2022-09-11T22:23:17.683Z"
   },
   {
    "duration": 11,
    "start_time": "2022-09-11T22:23:24.344Z"
   },
   {
    "duration": 12,
    "start_time": "2022-09-11T22:23:46.586Z"
   },
   {
    "duration": 103,
    "start_time": "2022-09-11T22:23:54.382Z"
   },
   {
    "duration": 82,
    "start_time": "2022-09-11T22:24:28.010Z"
   },
   {
    "duration": 95,
    "start_time": "2022-09-11T22:24:30.292Z"
   },
   {
    "duration": 4,
    "start_time": "2022-09-11T22:24:44.740Z"
   },
   {
    "duration": 86,
    "start_time": "2022-09-11T22:25:17.493Z"
   },
   {
    "duration": 82,
    "start_time": "2022-09-11T22:25:25.578Z"
   },
   {
    "duration": 93,
    "start_time": "2022-09-11T22:25:46.981Z"
   },
   {
    "duration": 86,
    "start_time": "2022-09-11T22:25:59.025Z"
   },
   {
    "duration": 102,
    "start_time": "2022-09-11T22:26:01.642Z"
   },
   {
    "duration": 84,
    "start_time": "2022-09-11T22:26:14.572Z"
   },
   {
    "duration": 12,
    "start_time": "2022-09-11T22:26:20.572Z"
   },
   {
    "duration": 13,
    "start_time": "2022-09-11T22:27:46.028Z"
   },
   {
    "duration": 10,
    "start_time": "2022-09-11T22:27:47.810Z"
   },
   {
    "duration": 5,
    "start_time": "2022-09-11T22:27:54.843Z"
   },
   {
    "duration": 12,
    "start_time": "2022-09-11T22:28:11.005Z"
   },
   {
    "duration": 9,
    "start_time": "2022-09-11T22:28:15.951Z"
   },
   {
    "duration": 10,
    "start_time": "2022-09-11T22:28:34.436Z"
   },
   {
    "duration": 106,
    "start_time": "2022-09-11T22:28:49.012Z"
   },
   {
    "duration": 3,
    "start_time": "2022-09-11T22:50:31.407Z"
   },
   {
    "duration": 5,
    "start_time": "2022-09-11T22:50:58.863Z"
   },
   {
    "duration": 3,
    "start_time": "2022-09-11T22:51:45.091Z"
   },
   {
    "duration": 11,
    "start_time": "2022-09-11T22:52:29.052Z"
   },
   {
    "duration": 3,
    "start_time": "2022-09-11T22:53:07.551Z"
   },
   {
    "duration": 5,
    "start_time": "2022-09-11T22:53:07.948Z"
   },
   {
    "duration": 4,
    "start_time": "2022-09-11T22:53:08.306Z"
   },
   {
    "duration": 18,
    "start_time": "2022-09-11T22:53:09.513Z"
   },
   {
    "duration": 1004,
    "start_time": "2022-09-11T22:53:19.413Z"
   },
   {
    "duration": 2,
    "start_time": "2022-09-11T22:53:20.419Z"
   },
   {
    "duration": 42,
    "start_time": "2022-09-11T22:53:20.422Z"
   },
   {
    "duration": 12,
    "start_time": "2022-09-11T22:53:20.466Z"
   },
   {
    "duration": 11,
    "start_time": "2022-09-11T22:53:20.480Z"
   },
   {
    "duration": 7,
    "start_time": "2022-09-11T22:53:20.493Z"
   },
   {
    "duration": 7,
    "start_time": "2022-09-11T22:53:20.501Z"
   },
   {
    "duration": 10,
    "start_time": "2022-09-11T22:53:20.509Z"
   },
   {
    "duration": 6,
    "start_time": "2022-09-11T22:53:20.521Z"
   },
   {
    "duration": 40,
    "start_time": "2022-09-11T22:53:20.529Z"
   },
   {
    "duration": 10,
    "start_time": "2022-09-11T22:53:20.571Z"
   },
   {
    "duration": 91,
    "start_time": "2022-09-11T22:53:20.582Z"
   },
   {
    "duration": 97,
    "start_time": "2022-09-11T22:53:20.674Z"
   },
   {
    "duration": 199,
    "start_time": "2022-09-11T22:53:20.774Z"
   },
   {
    "duration": 5,
    "start_time": "2022-09-11T22:53:20.975Z"
   },
   {
    "duration": 21,
    "start_time": "2022-09-11T22:53:20.981Z"
   },
   {
    "duration": 11,
    "start_time": "2022-09-11T22:53:21.004Z"
   },
   {
    "duration": 3,
    "start_time": "2022-09-11T22:53:21.016Z"
   },
   {
    "duration": 7,
    "start_time": "2022-09-11T22:53:21.020Z"
   },
   {
    "duration": 40,
    "start_time": "2022-09-11T22:53:21.028Z"
   },
   {
    "duration": 99,
    "start_time": "2022-09-11T22:53:21.070Z"
   },
   {
    "duration": 9,
    "start_time": "2022-09-11T22:54:45.279Z"
   },
   {
    "duration": 3,
    "start_time": "2022-09-11T23:01:05.287Z"
   },
   {
    "duration": 22,
    "start_time": "2022-09-11T23:03:14.706Z"
   },
   {
    "duration": 10,
    "start_time": "2022-09-11T23:07:30.497Z"
   },
   {
    "duration": 6,
    "start_time": "2022-09-11T23:07:37.974Z"
   },
   {
    "duration": 6,
    "start_time": "2022-09-11T23:07:41.703Z"
   },
   {
    "duration": 105,
    "start_time": "2022-09-11T23:10:07.688Z"
   },
   {
    "duration": 10,
    "start_time": "2022-09-11T23:10:13.306Z"
   },
   {
    "duration": 186,
    "start_time": "2022-09-11T23:10:19.840Z"
   },
   {
    "duration": 10,
    "start_time": "2022-09-11T23:10:26.710Z"
   },
   {
    "duration": 9,
    "start_time": "2022-09-11T23:11:50.488Z"
   },
   {
    "duration": 5,
    "start_time": "2022-09-11T23:11:53.668Z"
   },
   {
    "duration": 8,
    "start_time": "2022-09-11T23:13:00.303Z"
   },
   {
    "duration": 11,
    "start_time": "2022-09-11T23:13:07.246Z"
   },
   {
    "duration": 9,
    "start_time": "2022-09-11T23:13:09.106Z"
   },
   {
    "duration": 5,
    "start_time": "2022-09-11T23:13:09.577Z"
   },
   {
    "duration": 8,
    "start_time": "2022-09-11T23:13:10.706Z"
   },
   {
    "duration": 9,
    "start_time": "2022-09-11T23:13:24.193Z"
   },
   {
    "duration": 4,
    "start_time": "2022-09-11T23:13:25.400Z"
   },
   {
    "duration": 7,
    "start_time": "2022-09-11T23:13:27.767Z"
   },
   {
    "duration": 9,
    "start_time": "2022-09-11T23:13:46.132Z"
   },
   {
    "duration": 11,
    "start_time": "2022-09-11T23:18:46.466Z"
   },
   {
    "duration": 5,
    "start_time": "2022-09-11T23:18:51.880Z"
   },
   {
    "duration": 9,
    "start_time": "2022-09-11T23:18:52.991Z"
   },
   {
    "duration": 4,
    "start_time": "2022-09-11T23:19:11.739Z"
   },
   {
    "duration": 4,
    "start_time": "2022-09-11T23:19:40.785Z"
   },
   {
    "duration": 7,
    "start_time": "2022-09-11T23:19:42.258Z"
   },
   {
    "duration": 3,
    "start_time": "2022-09-11T23:20:02.011Z"
   },
   {
    "duration": 4,
    "start_time": "2022-09-11T23:20:03.120Z"
   },
   {
    "duration": 7,
    "start_time": "2022-09-11T23:20:04.980Z"
   },
   {
    "duration": 3,
    "start_time": "2022-09-11T23:20:13.987Z"
   },
   {
    "duration": 4,
    "start_time": "2022-09-11T23:20:14.857Z"
   },
   {
    "duration": 8,
    "start_time": "2022-09-11T23:20:15.941Z"
   },
   {
    "duration": 5,
    "start_time": "2022-09-11T23:21:10.535Z"
   },
   {
    "duration": 76,
    "start_time": "2022-09-11T23:21:31.304Z"
   },
   {
    "duration": 7,
    "start_time": "2022-09-11T23:21:40.025Z"
   },
   {
    "duration": 81,
    "start_time": "2022-09-11T23:25:05.335Z"
   },
   {
    "duration": 10,
    "start_time": "2022-09-11T23:25:14.950Z"
   },
   {
    "duration": 3,
    "start_time": "2022-09-11T23:25:21.415Z"
   },
   {
    "duration": 4,
    "start_time": "2022-09-11T23:25:24.772Z"
   },
   {
    "duration": 8,
    "start_time": "2022-09-11T23:25:27.130Z"
   },
   {
    "duration": 1051,
    "start_time": "2022-09-11T23:25:49.408Z"
   },
   {
    "duration": 2,
    "start_time": "2022-09-11T23:25:50.461Z"
   },
   {
    "duration": 44,
    "start_time": "2022-09-11T23:25:50.465Z"
   },
   {
    "duration": 14,
    "start_time": "2022-09-11T23:25:50.511Z"
   },
   {
    "duration": 12,
    "start_time": "2022-09-11T23:25:50.527Z"
   },
   {
    "duration": 9,
    "start_time": "2022-09-11T23:25:50.541Z"
   },
   {
    "duration": 9,
    "start_time": "2022-09-11T23:25:50.551Z"
   },
   {
    "duration": 14,
    "start_time": "2022-09-11T23:25:50.561Z"
   },
   {
    "duration": 7,
    "start_time": "2022-09-11T23:25:50.577Z"
   },
   {
    "duration": 6,
    "start_time": "2022-09-11T23:25:50.586Z"
   },
   {
    "duration": 6,
    "start_time": "2022-09-11T23:25:50.594Z"
   },
   {
    "duration": 76,
    "start_time": "2022-09-11T23:25:50.601Z"
   },
   {
    "duration": 100,
    "start_time": "2022-09-11T23:25:50.679Z"
   },
   {
    "duration": 103,
    "start_time": "2022-09-11T23:25:50.870Z"
   },
   {
    "duration": 9,
    "start_time": "2022-09-11T23:25:50.975Z"
   },
   {
    "duration": 82,
    "start_time": "2022-09-11T23:25:50.986Z"
   },
   {
    "duration": 5,
    "start_time": "2022-09-11T23:25:51.070Z"
   },
   {
    "duration": 92,
    "start_time": "2022-09-11T23:25:51.077Z"
   },
   {
    "duration": 8,
    "start_time": "2022-09-11T23:28:32.845Z"
   },
   {
    "duration": 10,
    "start_time": "2022-09-11T23:28:55.080Z"
   },
   {
    "duration": 9,
    "start_time": "2022-09-11T23:28:56.304Z"
   },
   {
    "duration": 2,
    "start_time": "2022-09-11T23:28:57.117Z"
   },
   {
    "duration": 4,
    "start_time": "2022-09-11T23:28:58.718Z"
   },
   {
    "duration": 8,
    "start_time": "2022-09-11T23:29:00.286Z"
   },
   {
    "duration": 8,
    "start_time": "2022-09-11T23:29:19.298Z"
   },
   {
    "duration": 8,
    "start_time": "2022-09-11T23:29:43.586Z"
   },
   {
    "duration": 16,
    "start_time": "2022-09-11T23:30:22.503Z"
   },
   {
    "duration": 11,
    "start_time": "2022-09-11T23:31:09.269Z"
   },
   {
    "duration": 14,
    "start_time": "2022-09-11T23:31:09.820Z"
   },
   {
    "duration": 1242,
    "start_time": "2022-09-11T23:36:05.689Z"
   },
   {
    "duration": 2,
    "start_time": "2022-09-11T23:36:06.933Z"
   },
   {
    "duration": 45,
    "start_time": "2022-09-11T23:36:06.937Z"
   },
   {
    "duration": 12,
    "start_time": "2022-09-11T23:36:06.984Z"
   },
   {
    "duration": 11,
    "start_time": "2022-09-11T23:36:06.998Z"
   },
   {
    "duration": 6,
    "start_time": "2022-09-11T23:36:07.011Z"
   },
   {
    "duration": 9,
    "start_time": "2022-09-11T23:36:07.018Z"
   },
   {
    "duration": 10,
    "start_time": "2022-09-11T23:36:07.028Z"
   },
   {
    "duration": 31,
    "start_time": "2022-09-11T23:36:07.040Z"
   },
   {
    "duration": 8,
    "start_time": "2022-09-11T23:36:07.072Z"
   },
   {
    "duration": 5,
    "start_time": "2022-09-11T23:36:07.081Z"
   },
   {
    "duration": 88,
    "start_time": "2022-09-11T23:36:07.088Z"
   },
   {
    "duration": 194,
    "start_time": "2022-09-11T23:36:07.177Z"
   },
   {
    "duration": 102,
    "start_time": "2022-09-11T23:36:07.373Z"
   },
   {
    "duration": 9,
    "start_time": "2022-09-11T23:36:07.477Z"
   },
   {
    "duration": 80,
    "start_time": "2022-09-11T23:36:07.488Z"
   },
   {
    "duration": 6,
    "start_time": "2022-09-11T23:36:07.570Z"
   },
   {
    "duration": 94,
    "start_time": "2022-09-11T23:36:07.578Z"
   },
   {
    "duration": 12,
    "start_time": "2022-09-11T23:36:07.674Z"
   },
   {
    "duration": 89,
    "start_time": "2022-09-11T23:36:07.689Z"
   },
   {
    "duration": 1112,
    "start_time": "2022-09-11T23:36:24.805Z"
   },
   {
    "duration": 2,
    "start_time": "2022-09-11T23:36:25.919Z"
   },
   {
    "duration": 42,
    "start_time": "2022-09-11T23:36:25.923Z"
   },
   {
    "duration": 19,
    "start_time": "2022-09-11T23:36:25.967Z"
   },
   {
    "duration": 16,
    "start_time": "2022-09-11T23:36:25.989Z"
   },
   {
    "duration": 6,
    "start_time": "2022-09-11T23:36:26.007Z"
   },
   {
    "duration": 15,
    "start_time": "2022-09-11T23:36:26.015Z"
   },
   {
    "duration": 9,
    "start_time": "2022-09-11T23:36:26.032Z"
   },
   {
    "duration": 4,
    "start_time": "2022-09-11T23:36:26.068Z"
   },
   {
    "duration": 7,
    "start_time": "2022-09-11T23:36:26.073Z"
   },
   {
    "duration": 4,
    "start_time": "2022-09-11T23:36:26.082Z"
   },
   {
    "duration": 85,
    "start_time": "2022-09-11T23:36:26.088Z"
   },
   {
    "duration": 198,
    "start_time": "2022-09-11T23:36:26.175Z"
   },
   {
    "duration": 103,
    "start_time": "2022-09-11T23:36:26.377Z"
   },
   {
    "duration": 87,
    "start_time": "2022-09-11T23:36:26.482Z"
   },
   {
    "duration": 98,
    "start_time": "2022-09-11T23:36:26.571Z"
   },
   {
    "duration": 6,
    "start_time": "2022-09-11T23:36:26.670Z"
   },
   {
    "duration": 11,
    "start_time": "2022-09-11T23:36:26.678Z"
   },
   {
    "duration": 10,
    "start_time": "2022-09-11T23:36:26.691Z"
   },
   {
    "duration": 77,
    "start_time": "2022-09-11T23:36:26.703Z"
   },
   {
    "duration": 7,
    "start_time": "2022-09-11T23:36:50.152Z"
   },
   {
    "duration": 1167,
    "start_time": "2022-09-11T23:37:03.142Z"
   },
   {
    "duration": 3,
    "start_time": "2022-09-11T23:37:04.311Z"
   },
   {
    "duration": 41,
    "start_time": "2022-09-11T23:37:04.316Z"
   },
   {
    "duration": 14,
    "start_time": "2022-09-11T23:37:04.359Z"
   },
   {
    "duration": 12,
    "start_time": "2022-09-11T23:37:04.375Z"
   },
   {
    "duration": 10,
    "start_time": "2022-09-11T23:37:04.389Z"
   },
   {
    "duration": 6,
    "start_time": "2022-09-11T23:37:04.400Z"
   },
   {
    "duration": 7,
    "start_time": "2022-09-11T23:37:04.408Z"
   },
   {
    "duration": 9,
    "start_time": "2022-09-11T23:37:04.416Z"
   },
   {
    "duration": 41,
    "start_time": "2022-09-11T23:37:04.427Z"
   },
   {
    "duration": 7,
    "start_time": "2022-09-11T23:37:04.470Z"
   },
   {
    "duration": 8,
    "start_time": "2022-09-11T23:37:04.479Z"
   },
   {
    "duration": 88,
    "start_time": "2022-09-11T23:37:04.488Z"
   },
   {
    "duration": 190,
    "start_time": "2022-09-11T23:37:04.579Z"
   },
   {
    "duration": 99,
    "start_time": "2022-09-11T23:37:04.770Z"
   },
   {
    "duration": 10,
    "start_time": "2022-09-11T23:37:04.870Z"
   },
   {
    "duration": 5,
    "start_time": "2022-09-11T23:37:04.882Z"
   },
   {
    "duration": 80,
    "start_time": "2022-09-11T23:37:04.889Z"
   },
   {
    "duration": 17,
    "start_time": "2022-09-11T23:37:04.971Z"
   },
   {
    "duration": 9,
    "start_time": "2022-09-11T23:37:05.068Z"
   },
   {
    "duration": 90,
    "start_time": "2022-09-11T23:37:05.079Z"
   },
   {
    "duration": 1035,
    "start_time": "2022-09-11T23:38:01.490Z"
   },
   {
    "duration": 2,
    "start_time": "2022-09-11T23:38:02.527Z"
   },
   {
    "duration": 46,
    "start_time": "2022-09-11T23:38:02.530Z"
   },
   {
    "duration": 13,
    "start_time": "2022-09-11T23:38:02.577Z"
   },
   {
    "duration": 11,
    "start_time": "2022-09-11T23:38:02.592Z"
   },
   {
    "duration": 9,
    "start_time": "2022-09-11T23:38:02.605Z"
   },
   {
    "duration": 5,
    "start_time": "2022-09-11T23:38:02.615Z"
   },
   {
    "duration": 16,
    "start_time": "2022-09-11T23:38:02.621Z"
   },
   {
    "duration": 38,
    "start_time": "2022-09-11T23:38:02.638Z"
   },
   {
    "duration": 7,
    "start_time": "2022-09-11T23:38:02.678Z"
   },
   {
    "duration": 8,
    "start_time": "2022-09-11T23:38:02.686Z"
   },
   {
    "duration": 12,
    "start_time": "2022-09-11T23:38:02.695Z"
   },
   {
    "duration": 101,
    "start_time": "2022-09-11T23:38:02.769Z"
   },
   {
    "duration": 99,
    "start_time": "2022-09-11T23:38:02.873Z"
   },
   {
    "duration": 103,
    "start_time": "2022-09-11T23:38:02.974Z"
   },
   {
    "duration": 101,
    "start_time": "2022-09-11T23:38:03.078Z"
   },
   {
    "duration": 4,
    "start_time": "2022-09-11T23:38:03.181Z"
   },
   {
    "duration": 91,
    "start_time": "2022-09-11T23:38:03.187Z"
   },
   {
    "duration": 9,
    "start_time": "2022-09-11T23:38:03.279Z"
   },
   {
    "duration": 85,
    "start_time": "2022-09-11T23:38:03.290Z"
   },
   {
    "duration": 93,
    "start_time": "2022-09-11T23:38:03.377Z"
   },
   {
    "duration": 1064,
    "start_time": "2022-09-11T23:39:48.589Z"
   },
   {
    "duration": 3,
    "start_time": "2022-09-11T23:39:49.654Z"
   },
   {
    "duration": 41,
    "start_time": "2022-09-11T23:39:49.659Z"
   },
   {
    "duration": 15,
    "start_time": "2022-09-11T23:39:49.702Z"
   },
   {
    "duration": 12,
    "start_time": "2022-09-11T23:39:49.719Z"
   },
   {
    "duration": 9,
    "start_time": "2022-09-11T23:39:49.733Z"
   },
   {
    "duration": 6,
    "start_time": "2022-09-11T23:39:49.744Z"
   },
   {
    "duration": 19,
    "start_time": "2022-09-11T23:39:49.752Z"
   },
   {
    "duration": 8,
    "start_time": "2022-09-11T23:39:49.773Z"
   },
   {
    "duration": 5,
    "start_time": "2022-09-11T23:39:49.783Z"
   },
   {
    "duration": 7,
    "start_time": "2022-09-11T23:39:49.790Z"
   },
   {
    "duration": 4,
    "start_time": "2022-09-11T23:39:49.799Z"
   },
   {
    "duration": 70,
    "start_time": "2022-09-11T23:39:49.804Z"
   },
   {
    "duration": 97,
    "start_time": "2022-09-11T23:39:49.877Z"
   },
   {
    "duration": 191,
    "start_time": "2022-09-11T23:39:49.976Z"
   },
   {
    "duration": 10,
    "start_time": "2022-09-11T23:39:50.169Z"
   },
   {
    "duration": 90,
    "start_time": "2022-09-11T23:39:50.181Z"
   },
   {
    "duration": 7,
    "start_time": "2022-09-11T23:39:50.273Z"
   },
   {
    "duration": 91,
    "start_time": "2022-09-11T23:39:50.282Z"
   },
   {
    "duration": 9,
    "start_time": "2022-09-11T23:39:50.375Z"
   },
   {
    "duration": 97,
    "start_time": "2022-09-11T23:39:50.386Z"
   },
   {
    "duration": 95,
    "start_time": "2022-09-11T23:41:40.984Z"
   },
   {
    "duration": 15,
    "start_time": "2022-09-11T23:42:26.944Z"
   },
   {
    "duration": 14,
    "start_time": "2022-09-11T23:42:36.273Z"
   },
   {
    "duration": 13,
    "start_time": "2022-09-11T23:42:49.793Z"
   },
   {
    "duration": 14,
    "start_time": "2022-09-11T23:42:52.503Z"
   },
   {
    "duration": 14,
    "start_time": "2022-09-11T23:43:04.706Z"
   },
   {
    "duration": 10,
    "start_time": "2022-09-11T23:43:30.400Z"
   },
   {
    "duration": 1069,
    "start_time": "2022-09-11T23:43:44.167Z"
   },
   {
    "duration": 3,
    "start_time": "2022-09-11T23:43:45.237Z"
   },
   {
    "duration": 40,
    "start_time": "2022-09-11T23:43:45.242Z"
   },
   {
    "duration": 16,
    "start_time": "2022-09-11T23:43:45.285Z"
   },
   {
    "duration": 12,
    "start_time": "2022-09-11T23:43:45.303Z"
   },
   {
    "duration": 10,
    "start_time": "2022-09-11T23:43:45.317Z"
   },
   {
    "duration": 7,
    "start_time": "2022-09-11T23:43:45.329Z"
   },
   {
    "duration": 9,
    "start_time": "2022-09-11T23:43:45.368Z"
   },
   {
    "duration": 10,
    "start_time": "2022-09-11T23:43:45.379Z"
   },
   {
    "duration": 5,
    "start_time": "2022-09-11T23:43:45.391Z"
   },
   {
    "duration": 7,
    "start_time": "2022-09-11T23:43:45.397Z"
   },
   {
    "duration": 3,
    "start_time": "2022-09-11T23:43:45.406Z"
   },
   {
    "duration": 12,
    "start_time": "2022-09-11T23:43:45.469Z"
   },
   {
    "duration": 102,
    "start_time": "2022-09-11T23:43:45.569Z"
   },
   {
    "duration": 105,
    "start_time": "2022-09-11T23:43:45.673Z"
   },
   {
    "duration": 11,
    "start_time": "2022-09-11T23:43:45.779Z"
   },
   {
    "duration": 78,
    "start_time": "2022-09-11T23:43:45.792Z"
   },
   {
    "duration": 11,
    "start_time": "2022-09-11T23:43:45.872Z"
   },
   {
    "duration": 84,
    "start_time": "2022-09-11T23:43:45.885Z"
   },
   {
    "duration": 13,
    "start_time": "2022-09-11T23:43:45.971Z"
   },
   {
    "duration": 92,
    "start_time": "2022-09-11T23:43:45.986Z"
   },
   {
    "duration": 1029,
    "start_time": "2022-09-11T23:44:05.322Z"
   },
   {
    "duration": 3,
    "start_time": "2022-09-11T23:44:06.353Z"
   },
   {
    "duration": 41,
    "start_time": "2022-09-11T23:44:06.358Z"
   },
   {
    "duration": 16,
    "start_time": "2022-09-11T23:44:06.401Z"
   },
   {
    "duration": 11,
    "start_time": "2022-09-11T23:44:06.420Z"
   },
   {
    "duration": 10,
    "start_time": "2022-09-11T23:44:06.433Z"
   },
   {
    "duration": 8,
    "start_time": "2022-09-11T23:44:06.444Z"
   },
   {
    "duration": 19,
    "start_time": "2022-09-11T23:44:06.454Z"
   },
   {
    "duration": 10,
    "start_time": "2022-09-11T23:44:06.475Z"
   },
   {
    "duration": 7,
    "start_time": "2022-09-11T23:44:06.486Z"
   },
   {
    "duration": 8,
    "start_time": "2022-09-11T23:44:06.495Z"
   },
   {
    "duration": 64,
    "start_time": "2022-09-11T23:44:06.505Z"
   },
   {
    "duration": 104,
    "start_time": "2022-09-11T23:44:06.572Z"
   },
   {
    "duration": 101,
    "start_time": "2022-09-11T23:44:06.679Z"
   },
   {
    "duration": 186,
    "start_time": "2022-09-11T23:44:06.782Z"
   },
   {
    "duration": 10,
    "start_time": "2022-09-11T23:44:06.970Z"
   },
   {
    "duration": 8,
    "start_time": "2022-09-11T23:44:06.982Z"
   },
   {
    "duration": 79,
    "start_time": "2022-09-11T23:44:06.991Z"
   },
   {
    "duration": 9,
    "start_time": "2022-09-11T23:44:07.072Z"
   },
   {
    "duration": 88,
    "start_time": "2022-09-11T23:44:07.083Z"
   },
   {
    "duration": 13,
    "start_time": "2022-09-11T23:44:07.173Z"
   },
   {
    "duration": 11,
    "start_time": "2022-09-11T23:44:08.953Z"
   },
   {
    "duration": 5,
    "start_time": "2022-09-11T23:44:14.385Z"
   },
   {
    "duration": 4,
    "start_time": "2022-09-11T23:44:15.808Z"
   },
   {
    "duration": 7,
    "start_time": "2022-09-11T23:44:17.500Z"
   },
   {
    "duration": 8,
    "start_time": "2022-09-11T23:44:19.072Z"
   },
   {
    "duration": 12,
    "start_time": "2022-09-11T23:44:19.738Z"
   },
   {
    "duration": 4,
    "start_time": "2022-09-11T23:44:35.340Z"
   },
   {
    "duration": 5,
    "start_time": "2022-09-11T23:44:35.755Z"
   },
   {
    "duration": 5,
    "start_time": "2022-09-11T23:44:36.550Z"
   },
   {
    "duration": 13,
    "start_time": "2022-09-11T23:44:37.353Z"
   },
   {
    "duration": 11,
    "start_time": "2022-09-11T23:44:53.973Z"
   },
   {
    "duration": 11,
    "start_time": "2022-09-11T23:44:54.813Z"
   },
   {
    "duration": 5,
    "start_time": "2022-09-11T23:44:56.378Z"
   },
   {
    "duration": 4,
    "start_time": "2022-09-11T23:44:57.586Z"
   },
   {
    "duration": 7,
    "start_time": "2022-09-11T23:44:59.108Z"
   },
   {
    "duration": 8,
    "start_time": "2022-09-11T23:45:01.388Z"
   },
   {
    "duration": 11,
    "start_time": "2022-09-11T23:45:03.056Z"
   },
   {
    "duration": 1046,
    "start_time": "2022-09-11T23:45:13.320Z"
   },
   {
    "duration": 2,
    "start_time": "2022-09-11T23:45:14.368Z"
   },
   {
    "duration": 41,
    "start_time": "2022-09-11T23:45:14.372Z"
   },
   {
    "duration": 16,
    "start_time": "2022-09-11T23:45:14.414Z"
   },
   {
    "duration": 12,
    "start_time": "2022-09-11T23:45:14.432Z"
   },
   {
    "duration": 9,
    "start_time": "2022-09-11T23:45:14.446Z"
   },
   {
    "duration": 14,
    "start_time": "2022-09-11T23:45:14.457Z"
   },
   {
    "duration": 8,
    "start_time": "2022-09-11T23:45:14.473Z"
   },
   {
    "duration": 9,
    "start_time": "2022-09-11T23:45:14.483Z"
   },
   {
    "duration": 5,
    "start_time": "2022-09-11T23:45:14.493Z"
   },
   {
    "duration": 7,
    "start_time": "2022-09-11T23:45:14.500Z"
   },
   {
    "duration": 60,
    "start_time": "2022-09-11T23:45:14.508Z"
   },
   {
    "duration": 11,
    "start_time": "2022-09-11T23:45:14.569Z"
   },
   {
    "duration": 193,
    "start_time": "2022-09-11T23:45:14.583Z"
   },
   {
    "duration": 100,
    "start_time": "2022-09-11T23:45:14.777Z"
   },
   {
    "duration": 11,
    "start_time": "2022-09-11T23:45:14.969Z"
   },
   {
    "duration": 13,
    "start_time": "2022-09-11T23:45:14.982Z"
   },
   {
    "duration": 5,
    "start_time": "2022-09-11T23:45:15.069Z"
   },
   {
    "duration": 14,
    "start_time": "2022-09-11T23:45:15.075Z"
   },
   {
    "duration": 9,
    "start_time": "2022-09-11T23:45:15.168Z"
   },
   {
    "duration": 90,
    "start_time": "2022-09-11T23:45:15.179Z"
   },
   {
    "duration": 75,
    "start_time": "2022-09-11T23:53:47.879Z"
   },
   {
    "duration": 1044,
    "start_time": "2022-09-11T23:54:14.680Z"
   },
   {
    "duration": 3,
    "start_time": "2022-09-11T23:54:15.726Z"
   },
   {
    "duration": 41,
    "start_time": "2022-09-11T23:54:15.730Z"
   },
   {
    "duration": 16,
    "start_time": "2022-09-11T23:54:15.774Z"
   },
   {
    "duration": 12,
    "start_time": "2022-09-11T23:54:15.792Z"
   },
   {
    "duration": 10,
    "start_time": "2022-09-11T23:54:15.806Z"
   },
   {
    "duration": 6,
    "start_time": "2022-09-11T23:54:15.818Z"
   },
   {
    "duration": 47,
    "start_time": "2022-09-11T23:54:15.826Z"
   },
   {
    "duration": 9,
    "start_time": "2022-09-11T23:54:15.875Z"
   },
   {
    "duration": 5,
    "start_time": "2022-09-11T23:54:15.886Z"
   },
   {
    "duration": 14,
    "start_time": "2022-09-11T23:54:15.892Z"
   },
   {
    "duration": 4,
    "start_time": "2022-09-11T23:54:15.908Z"
   },
   {
    "duration": 64,
    "start_time": "2022-09-11T23:54:15.914Z"
   },
   {
    "duration": 190,
    "start_time": "2022-09-11T23:54:15.979Z"
   },
   {
    "duration": 99,
    "start_time": "2022-09-11T23:54:16.171Z"
   },
   {
    "duration": 9,
    "start_time": "2022-09-11T23:54:16.272Z"
   },
   {
    "duration": 88,
    "start_time": "2022-09-11T23:54:16.283Z"
   },
   {
    "duration": 9,
    "start_time": "2022-09-11T23:54:16.383Z"
   },
   {
    "duration": 8,
    "start_time": "2022-09-11T23:54:16.469Z"
   },
   {
    "duration": 7,
    "start_time": "2022-09-11T23:54:16.478Z"
   },
   {
    "duration": 15,
    "start_time": "2022-09-11T23:54:16.567Z"
   },
   {
    "duration": 1064,
    "start_time": "2022-09-11T23:55:32.526Z"
   },
   {
    "duration": 3,
    "start_time": "2022-09-11T23:55:33.592Z"
   },
   {
    "duration": 43,
    "start_time": "2022-09-11T23:55:33.596Z"
   },
   {
    "duration": 14,
    "start_time": "2022-09-11T23:55:33.640Z"
   },
   {
    "duration": 11,
    "start_time": "2022-09-11T23:55:33.656Z"
   },
   {
    "duration": 9,
    "start_time": "2022-09-11T23:55:33.669Z"
   },
   {
    "duration": 6,
    "start_time": "2022-09-11T23:55:33.679Z"
   },
   {
    "duration": 8,
    "start_time": "2022-09-11T23:55:33.686Z"
   },
   {
    "duration": 9,
    "start_time": "2022-09-11T23:55:33.695Z"
   },
   {
    "duration": 6,
    "start_time": "2022-09-11T23:55:33.705Z"
   },
   {
    "duration": 6,
    "start_time": "2022-09-11T23:55:33.713Z"
   },
   {
    "duration": 48,
    "start_time": "2022-09-11T23:55:33.721Z"
   },
   {
    "duration": 99,
    "start_time": "2022-09-11T23:55:33.771Z"
   },
   {
    "duration": 106,
    "start_time": "2022-09-11T23:55:33.873Z"
   },
   {
    "duration": 187,
    "start_time": "2022-09-11T23:55:33.981Z"
   },
   {
    "duration": 8,
    "start_time": "2022-09-11T23:55:34.170Z"
   },
   {
    "duration": 9,
    "start_time": "2022-09-11T23:55:34.180Z"
   },
   {
    "duration": 81,
    "start_time": "2022-09-11T23:55:34.190Z"
   },
   {
    "duration": 11,
    "start_time": "2022-09-11T23:55:34.273Z"
   },
   {
    "duration": 88,
    "start_time": "2022-09-11T23:55:34.286Z"
   },
   {
    "duration": 100,
    "start_time": "2022-09-11T23:55:34.376Z"
   },
   {
    "duration": 1186,
    "start_time": "2022-09-12T03:23:07.943Z"
   },
   {
    "duration": 3,
    "start_time": "2022-09-12T03:23:09.130Z"
   },
   {
    "duration": 106,
    "start_time": "2022-09-12T03:23:09.134Z"
   },
   {
    "duration": 13,
    "start_time": "2022-09-12T03:23:09.242Z"
   },
   {
    "duration": 11,
    "start_time": "2022-09-12T03:23:09.257Z"
   },
   {
    "duration": 8,
    "start_time": "2022-09-12T03:23:09.269Z"
   },
   {
    "duration": 5,
    "start_time": "2022-09-12T03:23:09.279Z"
   },
   {
    "duration": 9,
    "start_time": "2022-09-12T03:23:09.285Z"
   },
   {
    "duration": 9,
    "start_time": "2022-09-12T03:23:09.295Z"
   },
   {
    "duration": 4,
    "start_time": "2022-09-12T03:23:09.307Z"
   },
   {
    "duration": 5,
    "start_time": "2022-09-12T03:23:09.346Z"
   },
   {
    "duration": 8,
    "start_time": "2022-09-12T03:23:09.354Z"
   },
   {
    "duration": 93,
    "start_time": "2022-09-12T03:23:09.364Z"
   },
   {
    "duration": 197,
    "start_time": "2022-09-12T03:23:09.459Z"
   },
   {
    "duration": 195,
    "start_time": "2022-09-12T03:23:09.661Z"
   },
   {
    "duration": 10,
    "start_time": "2022-09-12T03:23:09.857Z"
   },
   {
    "duration": 79,
    "start_time": "2022-09-12T03:23:09.869Z"
   },
   {
    "duration": 5,
    "start_time": "2022-09-12T03:23:09.951Z"
   },
   {
    "duration": 10,
    "start_time": "2022-09-12T03:23:09.958Z"
   },
   {
    "duration": 86,
    "start_time": "2022-09-12T03:23:09.969Z"
   },
   {
    "duration": 14,
    "start_time": "2022-09-12T03:23:10.057Z"
   },
   {
    "duration": 58,
    "start_time": "2022-09-12T10:04:52.680Z"
   },
   {
    "duration": 12,
    "start_time": "2022-09-12T10:29:27.372Z"
   },
   {
    "duration": 84,
    "start_time": "2022-09-12T11:32:48.586Z"
   },
   {
    "duration": 1044,
    "start_time": "2022-09-12T11:33:04.810Z"
   },
   {
    "duration": 3,
    "start_time": "2022-09-12T11:33:05.855Z"
   },
   {
    "duration": 86,
    "start_time": "2022-09-12T11:33:05.859Z"
   },
   {
    "duration": 14,
    "start_time": "2022-09-12T11:33:05.947Z"
   },
   {
    "duration": 16,
    "start_time": "2022-09-12T11:33:05.963Z"
   },
   {
    "duration": 9,
    "start_time": "2022-09-12T11:33:05.980Z"
   },
   {
    "duration": 8,
    "start_time": "2022-09-12T11:33:05.990Z"
   },
   {
    "duration": 13,
    "start_time": "2022-09-12T11:33:05.999Z"
   },
   {
    "duration": 16,
    "start_time": "2022-09-12T11:33:06.013Z"
   },
   {
    "duration": 28,
    "start_time": "2022-09-12T11:33:06.030Z"
   },
   {
    "duration": 8,
    "start_time": "2022-09-12T11:33:06.059Z"
   },
   {
    "duration": 42,
    "start_time": "2022-09-12T11:33:06.069Z"
   },
   {
    "duration": 7,
    "start_time": "2022-09-12T11:33:06.113Z"
   },
   {
    "duration": 88,
    "start_time": "2022-09-12T11:33:06.123Z"
   },
   {
    "duration": 7,
    "start_time": "2022-09-12T11:33:06.212Z"
   },
   {
    "duration": 94,
    "start_time": "2022-09-12T11:33:06.221Z"
   },
   {
    "duration": 1116,
    "start_time": "2022-09-13T11:37:30.053Z"
   },
   {
    "duration": 3,
    "start_time": "2022-09-13T11:37:31.171Z"
   },
   {
    "duration": 115,
    "start_time": "2022-09-13T11:37:31.176Z"
   },
   {
    "duration": 16,
    "start_time": "2022-09-13T11:37:31.294Z"
   },
   {
    "duration": 12,
    "start_time": "2022-09-13T11:37:31.312Z"
   },
   {
    "duration": 10,
    "start_time": "2022-09-13T11:37:31.326Z"
   },
   {
    "duration": 6,
    "start_time": "2022-09-13T11:37:31.338Z"
   },
   {
    "duration": 28,
    "start_time": "2022-09-13T11:37:31.345Z"
   },
   {
    "duration": 16,
    "start_time": "2022-09-13T11:37:31.375Z"
   },
   {
    "duration": 26,
    "start_time": "2022-09-13T11:37:31.393Z"
   },
   {
    "duration": 14,
    "start_time": "2022-09-13T11:37:31.420Z"
   },
   {
    "duration": 21,
    "start_time": "2022-09-13T11:37:31.447Z"
   },
   {
    "duration": 106,
    "start_time": "2022-09-13T11:37:31.470Z"
   },
   {
    "duration": 29,
    "start_time": "2022-09-13T11:37:31.648Z"
   },
   {
    "duration": 42,
    "start_time": "2022-09-13T11:37:31.679Z"
   },
   {
    "duration": 35,
    "start_time": "2022-09-13T11:37:31.722Z"
   },
   {
    "duration": 49,
    "start_time": "2022-09-13T11:37:53.950Z"
   },
   {
    "duration": 1168,
    "start_time": "2022-09-13T11:38:15.946Z"
   },
   {
    "duration": 3,
    "start_time": "2022-09-13T11:38:17.116Z"
   },
   {
    "duration": 43,
    "start_time": "2022-09-13T11:38:17.121Z"
   },
   {
    "duration": 14,
    "start_time": "2022-09-13T11:38:17.165Z"
   },
   {
    "duration": 11,
    "start_time": "2022-09-13T11:38:17.181Z"
   },
   {
    "duration": 11,
    "start_time": "2022-09-13T11:38:17.194Z"
   },
   {
    "duration": 7,
    "start_time": "2022-09-13T11:38:17.207Z"
   },
   {
    "duration": 9,
    "start_time": "2022-09-13T11:38:17.216Z"
   },
   {
    "duration": 10,
    "start_time": "2022-09-13T11:38:17.247Z"
   },
   {
    "duration": 11,
    "start_time": "2022-09-13T11:38:17.259Z"
   },
   {
    "duration": 10,
    "start_time": "2022-09-13T11:38:17.272Z"
   },
   {
    "duration": 67,
    "start_time": "2022-09-13T11:38:17.284Z"
   },
   {
    "duration": 93,
    "start_time": "2022-09-13T11:38:17.354Z"
   },
   {
    "duration": 8,
    "start_time": "2022-09-13T11:38:17.450Z"
   },
   {
    "duration": 91,
    "start_time": "2022-09-13T11:38:17.460Z"
   },
   {
    "duration": 94,
    "start_time": "2022-09-13T11:38:17.553Z"
   },
   {
    "duration": 21,
    "start_time": "2022-09-13T11:40:12.319Z"
   },
   {
    "duration": 9,
    "start_time": "2022-09-13T11:40:50.183Z"
   },
   {
    "duration": 10,
    "start_time": "2022-09-13T11:41:27.269Z"
   },
   {
    "duration": 1070,
    "start_time": "2022-09-13T11:41:39.046Z"
   },
   {
    "duration": 3,
    "start_time": "2022-09-13T11:41:40.118Z"
   },
   {
    "duration": 54,
    "start_time": "2022-09-13T11:41:40.122Z"
   },
   {
    "duration": 13,
    "start_time": "2022-09-13T11:41:40.178Z"
   },
   {
    "duration": 20,
    "start_time": "2022-09-13T11:41:40.193Z"
   },
   {
    "duration": 15,
    "start_time": "2022-09-13T11:41:40.214Z"
   },
   {
    "duration": 26,
    "start_time": "2022-09-13T11:41:40.230Z"
   },
   {
    "duration": 15,
    "start_time": "2022-09-13T11:41:40.258Z"
   },
   {
    "duration": 29,
    "start_time": "2022-09-13T11:41:40.275Z"
   },
   {
    "duration": 26,
    "start_time": "2022-09-13T11:41:40.306Z"
   },
   {
    "duration": 22,
    "start_time": "2022-09-13T11:41:40.333Z"
   },
   {
    "duration": 94,
    "start_time": "2022-09-13T11:41:40.357Z"
   },
   {
    "duration": 95,
    "start_time": "2022-09-13T11:41:40.453Z"
   },
   {
    "duration": 23,
    "start_time": "2022-09-13T11:41:40.552Z"
   },
   {
    "duration": 74,
    "start_time": "2022-09-13T11:41:40.576Z"
   },
   {
    "duration": 10,
    "start_time": "2022-09-13T11:41:40.651Z"
   },
   {
    "duration": 97,
    "start_time": "2022-09-13T11:41:40.663Z"
   },
   {
    "duration": 55,
    "start_time": "2022-09-13T11:41:40.762Z"
   },
   {
    "duration": 1088,
    "start_time": "2022-09-13T11:41:48.063Z"
   },
   {
    "duration": 2,
    "start_time": "2022-09-13T11:41:49.153Z"
   },
   {
    "duration": 47,
    "start_time": "2022-09-13T11:41:49.157Z"
   },
   {
    "duration": 14,
    "start_time": "2022-09-13T11:41:49.206Z"
   },
   {
    "duration": 12,
    "start_time": "2022-09-13T11:41:49.222Z"
   },
   {
    "duration": 12,
    "start_time": "2022-09-13T11:41:49.235Z"
   },
   {
    "duration": 9,
    "start_time": "2022-09-13T11:41:49.248Z"
   },
   {
    "duration": 9,
    "start_time": "2022-09-13T11:41:49.259Z"
   },
   {
    "duration": 8,
    "start_time": "2022-09-13T11:41:49.270Z"
   },
   {
    "duration": 13,
    "start_time": "2022-09-13T11:41:49.280Z"
   },
   {
    "duration": 11,
    "start_time": "2022-09-13T11:41:49.294Z"
   },
   {
    "duration": 5,
    "start_time": "2022-09-13T11:41:49.347Z"
   },
   {
    "duration": 92,
    "start_time": "2022-09-13T11:41:49.355Z"
   },
   {
    "duration": 11,
    "start_time": "2022-09-13T11:41:49.451Z"
   },
   {
    "duration": 89,
    "start_time": "2022-09-13T11:41:49.464Z"
   },
   {
    "duration": 92,
    "start_time": "2022-09-13T11:41:49.556Z"
   },
   {
    "duration": 16,
    "start_time": "2022-09-13T11:41:49.650Z"
   },
   {
    "duration": 113,
    "start_time": "2022-09-13T11:41:49.668Z"
   },
   {
    "duration": 7,
    "start_time": "2022-09-13T11:43:11.965Z"
   },
   {
    "duration": 29,
    "start_time": "2022-09-13T11:43:24.645Z"
   },
   {
    "duration": 13,
    "start_time": "2022-09-13T11:44:19.697Z"
   },
   {
    "duration": 1076,
    "start_time": "2022-09-13T11:44:41.812Z"
   },
   {
    "duration": 3,
    "start_time": "2022-09-13T11:44:42.890Z"
   },
   {
    "duration": 39,
    "start_time": "2022-09-13T11:44:42.894Z"
   },
   {
    "duration": 13,
    "start_time": "2022-09-13T11:44:42.935Z"
   },
   {
    "duration": 11,
    "start_time": "2022-09-13T11:44:42.950Z"
   },
   {
    "duration": 10,
    "start_time": "2022-09-13T11:44:42.962Z"
   },
   {
    "duration": 5,
    "start_time": "2022-09-13T11:44:42.973Z"
   },
   {
    "duration": 21,
    "start_time": "2022-09-13T11:44:42.979Z"
   },
   {
    "duration": 8,
    "start_time": "2022-09-13T11:44:43.002Z"
   },
   {
    "duration": 12,
    "start_time": "2022-09-13T11:44:43.012Z"
   },
   {
    "duration": 27,
    "start_time": "2022-09-13T11:44:43.025Z"
   },
   {
    "duration": 10,
    "start_time": "2022-09-13T11:44:43.054Z"
   },
   {
    "duration": 7,
    "start_time": "2022-09-13T11:44:43.146Z"
   },
   {
    "duration": 91,
    "start_time": "2022-09-13T11:44:43.156Z"
   },
   {
    "duration": 9,
    "start_time": "2022-09-13T11:44:43.249Z"
   },
   {
    "duration": 91,
    "start_time": "2022-09-13T11:44:43.260Z"
   },
   {
    "duration": 1054,
    "start_time": "2022-09-13T11:46:22.046Z"
   },
   {
    "duration": 3,
    "start_time": "2022-09-13T11:46:23.102Z"
   },
   {
    "duration": 40,
    "start_time": "2022-09-13T11:46:23.106Z"
   },
   {
    "duration": 14,
    "start_time": "2022-09-13T11:46:23.148Z"
   },
   {
    "duration": 14,
    "start_time": "2022-09-13T11:46:23.164Z"
   },
   {
    "duration": 24,
    "start_time": "2022-09-13T11:46:23.180Z"
   },
   {
    "duration": 7,
    "start_time": "2022-09-13T11:46:23.206Z"
   },
   {
    "duration": 13,
    "start_time": "2022-09-13T11:46:23.214Z"
   },
   {
    "duration": 27,
    "start_time": "2022-09-13T11:46:23.228Z"
   },
   {
    "duration": 20,
    "start_time": "2022-09-13T11:46:23.257Z"
   },
   {
    "duration": 13,
    "start_time": "2022-09-13T11:46:23.279Z"
   },
   {
    "duration": 58,
    "start_time": "2022-09-13T11:46:23.293Z"
   },
   {
    "duration": 96,
    "start_time": "2022-09-13T11:46:23.353Z"
   },
   {
    "duration": 95,
    "start_time": "2022-09-13T11:46:23.452Z"
   },
   {
    "duration": 11,
    "start_time": "2022-09-13T11:46:23.549Z"
   },
   {
    "duration": 101,
    "start_time": "2022-09-13T11:46:23.562Z"
   },
   {
    "duration": 71,
    "start_time": "2022-09-13T23:35:28.287Z"
   },
   {
    "duration": 1163,
    "start_time": "2022-09-13T23:35:40.319Z"
   },
   {
    "duration": 3,
    "start_time": "2022-09-13T23:35:41.484Z"
   },
   {
    "duration": 118,
    "start_time": "2022-09-13T23:35:41.489Z"
   },
   {
    "duration": 18,
    "start_time": "2022-09-13T23:35:41.609Z"
   },
   {
    "duration": 30,
    "start_time": "2022-09-13T23:35:41.629Z"
   },
   {
    "duration": 11,
    "start_time": "2022-09-13T23:35:41.661Z"
   },
   {
    "duration": 17,
    "start_time": "2022-09-13T23:35:41.674Z"
   },
   {
    "duration": 12,
    "start_time": "2022-09-13T23:35:41.693Z"
   },
   {
    "duration": 21,
    "start_time": "2022-09-13T23:35:41.707Z"
   },
   {
    "duration": 28,
    "start_time": "2022-09-13T23:35:41.731Z"
   },
   {
    "duration": 11,
    "start_time": "2022-09-13T23:35:41.761Z"
   },
   {
    "duration": 63,
    "start_time": "2022-09-13T23:35:41.774Z"
   },
   {
    "duration": 83,
    "start_time": "2022-09-13T23:35:41.839Z"
   },
   {
    "duration": 112,
    "start_time": "2022-09-13T23:35:41.923Z"
   },
   {
    "duration": 18,
    "start_time": "2022-09-13T23:35:42.038Z"
   },
   {
    "duration": 66,
    "start_time": "2022-09-13T23:35:42.058Z"
   }
  ],
  "kernelspec": {
   "display_name": "Python 3 (ipykernel)",
   "language": "python",
   "name": "python3"
  },
  "language_info": {
   "codemirror_mode": {
    "name": "ipython",
    "version": 3
   },
   "file_extension": ".py",
   "mimetype": "text/x-python",
   "name": "python",
   "nbconvert_exporter": "python",
   "pygments_lexer": "ipython3",
   "version": "3.9.12"
  },
  "toc": {
   "base_numbering": 1,
   "nav_menu": {},
   "number_sections": true,
   "sideBar": true,
   "skip_h1_title": true,
   "title_cell": "Содержание",
   "title_sidebar": "Contents",
   "toc_cell": true,
   "toc_position": {
    "height": "calc(100% - 180px)",
    "left": "10px",
    "top": "150px",
    "width": "264.594px"
   },
   "toc_section_display": true,
   "toc_window_display": true
  }
 },
 "nbformat": 4,
 "nbformat_minor": 2
}
